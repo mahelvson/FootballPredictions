{
 "cells": [
  {
   "cell_type": "markdown",
   "id": "3bdebc5a",
   "metadata": {},
   "source": [
    "# 0. Imports "
   ]
  },
  {
   "cell_type": "code",
   "execution_count": 715,
   "id": "1b2013bd",
   "metadata": {
    "ExecuteTime": {
     "end_time": "2022-03-25T16:27:54.641138Z",
     "start_time": "2022-03-25T16:27:54.636268Z"
    }
   },
   "outputs": [],
   "source": [
    "import math\n",
    "\n",
    "import pandas as pd\n",
    "import numpy as np\n",
    "import matplotlib.pyplot as plt\n",
    "import seaborn as sns\n",
    "import xgboost as xgb\n",
    "import statsmodels.api as sm\n",
    "\n",
    "from os import listdir\n",
    "from sklearn.model_selection import train_test_split, cross_val_score\n",
    "from sklearn.metrics import confusion_matrix, accuracy_score, classification_report\n",
    "from sklearn.ensemble import RandomForestRegressor, RandomForestClassifier\n",
    "from sklearn.metrics import mean_absolute_error, mean_squared_error, mean_absolute_percentage_error\n",
    "from sklearn.linear_model import LogisticRegression\n",
    "from sklearn.preprocessing import LabelEncoder, StandardScaler\n",
    "from sklearn import svm, tree\n",
    "from sklearn.naive_bayes import GaussianNB\n",
    "from sklearn.linear_model import SGDClassifier\n",
    "from sklearn.ensemble import VotingClassifier\n",
    "from sklearn.neural_network import MLPClassifier\n",
    "\n",
    "from boruta import BorutaPy\n",
    "from imblearn.under_sampling import RandomUnderSampler\n",
    "from imblearn.over_sampling import RandomOverSampler\n"
   ]
  },
  {
   "cell_type": "markdown",
   "id": "d0053fb9",
   "metadata": {},
   "source": [
    "# 1.0 Data Loading "
   ]
  },
  {
   "cell_type": "code",
   "execution_count": 779,
   "id": "83cd7a65",
   "metadata": {
    "ExecuteTime": {
     "end_time": "2022-03-25T16:39:14.822614Z",
     "start_time": "2022-03-25T16:39:14.817935Z"
    }
   },
   "outputs": [],
   "source": [
    "data_path = '../datasets/'\n",
    "files = listdir(data_path)\n",
    "\n",
    "full = files[1]\n",
    "stats = files[2]"
   ]
  },
  {
   "cell_type": "markdown",
   "id": "f2d8f1d1",
   "metadata": {},
   "source": [
    "## 1.1 Full Matches "
   ]
  },
  {
   "cell_type": "code",
   "execution_count": 780,
   "id": "0e786f69",
   "metadata": {
    "ExecuteTime": {
     "end_time": "2022-03-25T16:39:15.585783Z",
     "start_time": "2022-03-25T16:39:15.542729Z"
    }
   },
   "outputs": [
    {
     "data": {
      "text/html": [
       "<div>\n",
       "<style scoped>\n",
       "    .dataframe tbody tr th:only-of-type {\n",
       "        vertical-align: middle;\n",
       "    }\n",
       "\n",
       "    .dataframe tbody tr th {\n",
       "        vertical-align: top;\n",
       "    }\n",
       "\n",
       "    .dataframe thead th {\n",
       "        text-align: right;\n",
       "    }\n",
       "</style>\n",
       "<table border=\"1\" class=\"dataframe\">\n",
       "  <thead>\n",
       "    <tr style=\"text-align: right;\">\n",
       "      <th></th>\n",
       "      <th>ID</th>\n",
       "      <th>rodada</th>\n",
       "      <th>data</th>\n",
       "      <th>hora</th>\n",
       "      <th>dia</th>\n",
       "      <th>mandante</th>\n",
       "      <th>visitante</th>\n",
       "      <th>formacao_mandante</th>\n",
       "      <th>formacao_visitante</th>\n",
       "      <th>tecnico_mandante</th>\n",
       "      <th>tecnico_visitante</th>\n",
       "      <th>vencedor</th>\n",
       "      <th>arena</th>\n",
       "      <th>mandante_placar</th>\n",
       "      <th>visitante_placar</th>\n",
       "      <th>mandante_estado</th>\n",
       "      <th>visitante_estado</th>\n",
       "      <th>estado_vencedor</th>\n",
       "    </tr>\n",
       "  </thead>\n",
       "  <tbody>\n",
       "    <tr>\n",
       "      <th>0</th>\n",
       "      <td>1</td>\n",
       "      <td>1</td>\n",
       "      <td>2003-03-29</td>\n",
       "      <td>16:00</td>\n",
       "      <td>Sabado</td>\n",
       "      <td>Guarani</td>\n",
       "      <td>Vasco</td>\n",
       "      <td>NaN</td>\n",
       "      <td>NaN</td>\n",
       "      <td>NaN</td>\n",
       "      <td>NaN</td>\n",
       "      <td>Guarani</td>\n",
       "      <td>brinco de ouro</td>\n",
       "      <td>4</td>\n",
       "      <td>2</td>\n",
       "      <td>SP</td>\n",
       "      <td>RJ</td>\n",
       "      <td>SP</td>\n",
       "    </tr>\n",
       "    <tr>\n",
       "      <th>1</th>\n",
       "      <td>2</td>\n",
       "      <td>1</td>\n",
       "      <td>2003-03-29</td>\n",
       "      <td>16:00</td>\n",
       "      <td>Sabado</td>\n",
       "      <td>Athletico-PR</td>\n",
       "      <td>Gremio</td>\n",
       "      <td>NaN</td>\n",
       "      <td>NaN</td>\n",
       "      <td>NaN</td>\n",
       "      <td>NaN</td>\n",
       "      <td>Athletico-PR</td>\n",
       "      <td>arena da baixada</td>\n",
       "      <td>2</td>\n",
       "      <td>0</td>\n",
       "      <td>PR</td>\n",
       "      <td>RS</td>\n",
       "      <td>PR</td>\n",
       "    </tr>\n",
       "    <tr>\n",
       "      <th>2</th>\n",
       "      <td>3</td>\n",
       "      <td>1</td>\n",
       "      <td>2003-03-30</td>\n",
       "      <td>16:00</td>\n",
       "      <td>Domingo</td>\n",
       "      <td>Flamengo</td>\n",
       "      <td>Coritiba</td>\n",
       "      <td>NaN</td>\n",
       "      <td>NaN</td>\n",
       "      <td>NaN</td>\n",
       "      <td>NaN</td>\n",
       "      <td>-</td>\n",
       "      <td>maracana</td>\n",
       "      <td>1</td>\n",
       "      <td>1</td>\n",
       "      <td>RJ</td>\n",
       "      <td>PR</td>\n",
       "      <td>-</td>\n",
       "    </tr>\n",
       "    <tr>\n",
       "      <th>3</th>\n",
       "      <td>4</td>\n",
       "      <td>1</td>\n",
       "      <td>2003-03-30</td>\n",
       "      <td>16:00</td>\n",
       "      <td>Domingo</td>\n",
       "      <td>Goias</td>\n",
       "      <td>Paysandu</td>\n",
       "      <td>NaN</td>\n",
       "      <td>NaN</td>\n",
       "      <td>NaN</td>\n",
       "      <td>NaN</td>\n",
       "      <td>-</td>\n",
       "      <td>serra dourada</td>\n",
       "      <td>2</td>\n",
       "      <td>2</td>\n",
       "      <td>GO</td>\n",
       "      <td>PA</td>\n",
       "      <td>-</td>\n",
       "    </tr>\n",
       "    <tr>\n",
       "      <th>4</th>\n",
       "      <td>5</td>\n",
       "      <td>1</td>\n",
       "      <td>2003-03-30</td>\n",
       "      <td>16:00</td>\n",
       "      <td>Domingo</td>\n",
       "      <td>Internacional</td>\n",
       "      <td>Ponte Preta</td>\n",
       "      <td>NaN</td>\n",
       "      <td>NaN</td>\n",
       "      <td>NaN</td>\n",
       "      <td>NaN</td>\n",
       "      <td>-</td>\n",
       "      <td>beira rio</td>\n",
       "      <td>1</td>\n",
       "      <td>1</td>\n",
       "      <td>RS</td>\n",
       "      <td>SP</td>\n",
       "      <td>-</td>\n",
       "    </tr>\n",
       "  </tbody>\n",
       "</table>\n",
       "</div>"
      ],
      "text/plain": [
       "   ID  rodada        data   hora      dia       mandante    visitante  \\\n",
       "0   1       1  2003-03-29  16:00   Sabado        Guarani        Vasco   \n",
       "1   2       1  2003-03-29  16:00   Sabado   Athletico-PR       Gremio   \n",
       "2   3       1  2003-03-30  16:00  Domingo       Flamengo     Coritiba   \n",
       "3   4       1  2003-03-30  16:00  Domingo          Goias     Paysandu   \n",
       "4   5       1  2003-03-30  16:00  Domingo  Internacional  Ponte Preta   \n",
       "\n",
       "  formacao_mandante formacao_visitante tecnico_mandante tecnico_visitante  \\\n",
       "0               NaN                NaN              NaN               NaN   \n",
       "1               NaN                NaN              NaN               NaN   \n",
       "2               NaN                NaN              NaN               NaN   \n",
       "3               NaN                NaN              NaN               NaN   \n",
       "4               NaN                NaN              NaN               NaN   \n",
       "\n",
       "       vencedor             arena  mandante_placar  visitante_placar  \\\n",
       "0       Guarani    brinco de ouro                4                 2   \n",
       "1  Athletico-PR  arena da baixada                2                 0   \n",
       "2             -          maracana                1                 1   \n",
       "3             -     serra dourada                2                 2   \n",
       "4             -         beira rio                1                 1   \n",
       "\n",
       "  mandante_estado visitante_estado estado_vencedor  \n",
       "0              SP               RJ              SP  \n",
       "1              PR               RS              PR  \n",
       "2              RJ               PR               -  \n",
       "3              GO               PA               -  \n",
       "4              RS               SP               -  "
      ]
     },
     "execution_count": 780,
     "metadata": {},
     "output_type": "execute_result"
    }
   ],
   "source": [
    "df_full = pd.read_csv(data_path + full)\n",
    "df_full.head()"
   ]
  },
  {
   "cell_type": "code",
   "execution_count": 781,
   "id": "626a8cd1",
   "metadata": {
    "ExecuteTime": {
     "end_time": "2022-03-25T16:39:16.788353Z",
     "start_time": "2022-03-25T16:39:16.780259Z"
    }
   },
   "outputs": [
    {
     "name": "stdout",
     "output_type": "stream",
     "text": [
      "O número de linhas (exemplos) é 7645 e de colunas (atributos) é 18.\n"
     ]
    }
   ],
   "source": [
    "print(f'O número de linhas (exemplos) é {df_full.shape[0]} e de colunas (atributos) é {df_full.shape[1]}.')"
   ]
  },
  {
   "cell_type": "code",
   "execution_count": 782,
   "id": "8fbaeaa0",
   "metadata": {
    "ExecuteTime": {
     "end_time": "2022-03-25T16:39:17.230309Z",
     "start_time": "2022-03-25T16:39:17.221367Z"
    }
   },
   "outputs": [
    {
     "data": {
      "text/plain": [
       "ID                     int64\n",
       "rodada                 int64\n",
       "data                  object\n",
       "hora                  object\n",
       "dia                   object\n",
       "mandante              object\n",
       "visitante             object\n",
       "formacao_mandante     object\n",
       "formacao_visitante    object\n",
       "tecnico_mandante      object\n",
       "tecnico_visitante     object\n",
       "vencedor              object\n",
       "arena                 object\n",
       "mandante_placar        int64\n",
       "visitante_placar       int64\n",
       "mandante_estado       object\n",
       "visitante_estado      object\n",
       "estado_vencedor       object\n",
       "dtype: object"
      ]
     },
     "execution_count": 782,
     "metadata": {},
     "output_type": "execute_result"
    }
   ],
   "source": [
    "df_full.dtypes"
   ]
  },
  {
   "cell_type": "markdown",
   "id": "d4d204fc",
   "metadata": {},
   "source": [
    "### 1.2  Full Statistics"
   ]
  },
  {
   "cell_type": "code",
   "execution_count": 783,
   "id": "2b0f65b6",
   "metadata": {
    "ExecuteTime": {
     "end_time": "2022-03-25T16:39:19.796876Z",
     "start_time": "2022-03-25T16:39:19.755022Z"
    }
   },
   "outputs": [
    {
     "data": {
      "text/html": [
       "<div>\n",
       "<style scoped>\n",
       "    .dataframe tbody tr th:only-of-type {\n",
       "        vertical-align: middle;\n",
       "    }\n",
       "\n",
       "    .dataframe tbody tr th {\n",
       "        vertical-align: top;\n",
       "    }\n",
       "\n",
       "    .dataframe thead th {\n",
       "        text-align: right;\n",
       "    }\n",
       "</style>\n",
       "<table border=\"1\" class=\"dataframe\">\n",
       "  <thead>\n",
       "    <tr style=\"text-align: right;\">\n",
       "      <th></th>\n",
       "      <th>partida_id</th>\n",
       "      <th>rodada</th>\n",
       "      <th>clube</th>\n",
       "      <th>chutes</th>\n",
       "      <th>chutes_no_alvo</th>\n",
       "      <th>posse_de_bola</th>\n",
       "      <th>passes</th>\n",
       "      <th>precisao_passes</th>\n",
       "      <th>faltas</th>\n",
       "      <th>cartao_amarelo</th>\n",
       "      <th>cartao_vermelho</th>\n",
       "      <th>impedimentos</th>\n",
       "      <th>escanteios</th>\n",
       "    </tr>\n",
       "  </thead>\n",
       "  <tbody>\n",
       "    <tr>\n",
       "      <th>0</th>\n",
       "      <td>1</td>\n",
       "      <td>1</td>\n",
       "      <td>Guarani</td>\n",
       "      <td>0</td>\n",
       "      <td>0</td>\n",
       "      <td>NaN</td>\n",
       "      <td>0</td>\n",
       "      <td>NaN</td>\n",
       "      <td>0</td>\n",
       "      <td>0</td>\n",
       "      <td>0</td>\n",
       "      <td>0</td>\n",
       "      <td>0</td>\n",
       "    </tr>\n",
       "    <tr>\n",
       "      <th>1</th>\n",
       "      <td>1</td>\n",
       "      <td>1</td>\n",
       "      <td>Vasco</td>\n",
       "      <td>0</td>\n",
       "      <td>0</td>\n",
       "      <td>NaN</td>\n",
       "      <td>0</td>\n",
       "      <td>NaN</td>\n",
       "      <td>0</td>\n",
       "      <td>0</td>\n",
       "      <td>0</td>\n",
       "      <td>0</td>\n",
       "      <td>0</td>\n",
       "    </tr>\n",
       "    <tr>\n",
       "      <th>2</th>\n",
       "      <td>2</td>\n",
       "      <td>1</td>\n",
       "      <td>Athletico-PR</td>\n",
       "      <td>0</td>\n",
       "      <td>0</td>\n",
       "      <td>NaN</td>\n",
       "      <td>0</td>\n",
       "      <td>NaN</td>\n",
       "      <td>0</td>\n",
       "      <td>0</td>\n",
       "      <td>0</td>\n",
       "      <td>0</td>\n",
       "      <td>0</td>\n",
       "    </tr>\n",
       "    <tr>\n",
       "      <th>3</th>\n",
       "      <td>2</td>\n",
       "      <td>1</td>\n",
       "      <td>Gremio</td>\n",
       "      <td>0</td>\n",
       "      <td>0</td>\n",
       "      <td>NaN</td>\n",
       "      <td>0</td>\n",
       "      <td>NaN</td>\n",
       "      <td>0</td>\n",
       "      <td>0</td>\n",
       "      <td>0</td>\n",
       "      <td>0</td>\n",
       "      <td>0</td>\n",
       "    </tr>\n",
       "    <tr>\n",
       "      <th>4</th>\n",
       "      <td>3</td>\n",
       "      <td>1</td>\n",
       "      <td>Flamengo</td>\n",
       "      <td>0</td>\n",
       "      <td>0</td>\n",
       "      <td>NaN</td>\n",
       "      <td>0</td>\n",
       "      <td>NaN</td>\n",
       "      <td>0</td>\n",
       "      <td>0</td>\n",
       "      <td>0</td>\n",
       "      <td>0</td>\n",
       "      <td>0</td>\n",
       "    </tr>\n",
       "  </tbody>\n",
       "</table>\n",
       "</div>"
      ],
      "text/plain": [
       "   partida_id  rodada         clube  chutes  chutes_no_alvo posse_de_bola  \\\n",
       "0           1       1       Guarani       0               0           NaN   \n",
       "1           1       1         Vasco       0               0           NaN   \n",
       "2           2       1  Athletico-PR       0               0           NaN   \n",
       "3           2       1        Gremio       0               0           NaN   \n",
       "4           3       1      Flamengo       0               0           NaN   \n",
       "\n",
       "   passes precisao_passes  faltas  cartao_amarelo  cartao_vermelho  \\\n",
       "0       0             NaN       0               0                0   \n",
       "1       0             NaN       0               0                0   \n",
       "2       0             NaN       0               0                0   \n",
       "3       0             NaN       0               0                0   \n",
       "4       0             NaN       0               0                0   \n",
       "\n",
       "   impedimentos  escanteios  \n",
       "0             0           0  \n",
       "1             0           0  \n",
       "2             0           0  \n",
       "3             0           0  \n",
       "4             0           0  "
      ]
     },
     "execution_count": 783,
     "metadata": {},
     "output_type": "execute_result"
    }
   ],
   "source": [
    "df_stats = pd.read_csv(data_path + stats)\n",
    "df_stats.head()"
   ]
  },
  {
   "cell_type": "code",
   "execution_count": 784,
   "id": "07b6c089",
   "metadata": {
    "ExecuteTime": {
     "end_time": "2022-03-25T16:39:23.269589Z",
     "start_time": "2022-03-25T16:39:23.266236Z"
    }
   },
   "outputs": [
    {
     "name": "stdout",
     "output_type": "stream",
     "text": [
      "O número de linhas (exemplos) é 15290 e de colunas (atributos) é 13.\n"
     ]
    }
   ],
   "source": [
    "print(f'O número de linhas (exemplos) é {df_stats.shape[0]} e de colunas (atributos) é {df_stats.shape[1]}.')"
   ]
  },
  {
   "cell_type": "code",
   "execution_count": 785,
   "id": "359a5e34",
   "metadata": {
    "ExecuteTime": {
     "end_time": "2022-03-25T16:39:23.624456Z",
     "start_time": "2022-03-25T16:39:23.617490Z"
    }
   },
   "outputs": [
    {
     "data": {
      "text/plain": [
       "partida_id          int64\n",
       "rodada              int64\n",
       "clube              object\n",
       "chutes              int64\n",
       "chutes_no_alvo      int64\n",
       "posse_de_bola      object\n",
       "passes              int64\n",
       "precisao_passes    object\n",
       "faltas              int64\n",
       "cartao_amarelo      int64\n",
       "cartao_vermelho     int64\n",
       "impedimentos        int64\n",
       "escanteios          int64\n",
       "dtype: object"
      ]
     },
     "execution_count": 785,
     "metadata": {},
     "output_type": "execute_result"
    }
   ],
   "source": [
    "df_stats.dtypes"
   ]
  },
  {
   "cell_type": "markdown",
   "id": "426cbc68",
   "metadata": {},
   "source": [
    "# 2.0 Data Cleaning "
   ]
  },
  {
   "cell_type": "code",
   "execution_count": 843,
   "id": "99068698",
   "metadata": {
    "ExecuteTime": {
     "end_time": "2022-03-25T16:53:44.813685Z",
     "start_time": "2022-03-25T16:53:44.808498Z"
    }
   },
   "outputs": [],
   "source": [
    "# uma copia para facilitar recuperar os dados\n",
    "df2_full = df_full.copy()\n",
    "df2_stats = df_stats.copy()"
   ]
  },
  {
   "cell_type": "markdown",
   "id": "95880ec3",
   "metadata": {},
   "source": [
    "## 2.1 Helper Functions "
   ]
  },
  {
   "cell_type": "code",
   "execution_count": 844,
   "id": "145f3290",
   "metadata": {
    "ExecuteTime": {
     "end_time": "2022-03-25T16:53:45.081233Z",
     "start_time": "2022-03-25T16:53:45.076751Z"
    }
   },
   "outputs": [],
   "source": [
    "def season(row):\n",
    "    \"\"\"\n",
    "    Indica qual a temporada do campeonato, considerando o efeito da pandemia na temporada de 2020\n",
    "    \"\"\"\n",
    "    if row['data'] <= pd.to_datetime('2021-02-25', yearfirst=True):\n",
    "        if row['data'].year != 2021:\n",
    "            return row['data'].year\n",
    "        else:\n",
    "            return row['data'].year - 1\n",
    "    else:\n",
    "        return row['data'].year"
   ]
  },
  {
   "cell_type": "markdown",
   "id": "89d2fa0c",
   "metadata": {},
   "source": [
    "## 2.2  Matches Dataframe"
   ]
  },
  {
   "cell_type": "code",
   "execution_count": 845,
   "id": "41855210",
   "metadata": {
    "ExecuteTime": {
     "end_time": "2022-03-25T16:53:46.170724Z",
     "start_time": "2022-03-25T16:53:45.358849Z"
    }
   },
   "outputs": [
    {
     "data": {
      "text/html": [
       "<div>\n",
       "<style scoped>\n",
       "    .dataframe tbody tr th:only-of-type {\n",
       "        vertical-align: middle;\n",
       "    }\n",
       "\n",
       "    .dataframe tbody tr th {\n",
       "        vertical-align: top;\n",
       "    }\n",
       "\n",
       "    .dataframe thead th {\n",
       "        text-align: right;\n",
       "    }\n",
       "</style>\n",
       "<table border=\"1\" class=\"dataframe\">\n",
       "  <thead>\n",
       "    <tr style=\"text-align: right;\">\n",
       "      <th></th>\n",
       "      <th>ID</th>\n",
       "      <th>rodada</th>\n",
       "      <th>data</th>\n",
       "      <th>hora</th>\n",
       "      <th>temporada</th>\n",
       "      <th>dia</th>\n",
       "      <th>mandante</th>\n",
       "      <th>visitante</th>\n",
       "      <th>formacao_mandante</th>\n",
       "      <th>formacao_visitante</th>\n",
       "      <th>tecnico_mandante</th>\n",
       "      <th>tecnico_visitante</th>\n",
       "      <th>vencedor</th>\n",
       "      <th>arena</th>\n",
       "      <th>mandante_placar</th>\n",
       "      <th>visitante_placar</th>\n",
       "      <th>mandante_estado</th>\n",
       "      <th>visitante_estado</th>\n",
       "      <th>estado_vencedor</th>\n",
       "    </tr>\n",
       "  </thead>\n",
       "  <tbody>\n",
       "    <tr>\n",
       "      <th>0</th>\n",
       "      <td>1</td>\n",
       "      <td>1</td>\n",
       "      <td>2003-03-29</td>\n",
       "      <td>16:00</td>\n",
       "      <td>2003</td>\n",
       "      <td>Sabado</td>\n",
       "      <td>Guarani</td>\n",
       "      <td>Vasco</td>\n",
       "      <td>NaN</td>\n",
       "      <td>NaN</td>\n",
       "      <td>NaN</td>\n",
       "      <td>NaN</td>\n",
       "      <td>Guarani</td>\n",
       "      <td>brinco de ouro</td>\n",
       "      <td>4</td>\n",
       "      <td>2</td>\n",
       "      <td>SP</td>\n",
       "      <td>RJ</td>\n",
       "      <td>SP</td>\n",
       "    </tr>\n",
       "    <tr>\n",
       "      <th>1</th>\n",
       "      <td>2</td>\n",
       "      <td>1</td>\n",
       "      <td>2003-03-29</td>\n",
       "      <td>16:00</td>\n",
       "      <td>2003</td>\n",
       "      <td>Sabado</td>\n",
       "      <td>Athletico-PR</td>\n",
       "      <td>Gremio</td>\n",
       "      <td>NaN</td>\n",
       "      <td>NaN</td>\n",
       "      <td>NaN</td>\n",
       "      <td>NaN</td>\n",
       "      <td>Athletico-PR</td>\n",
       "      <td>arena da baixada</td>\n",
       "      <td>2</td>\n",
       "      <td>0</td>\n",
       "      <td>PR</td>\n",
       "      <td>RS</td>\n",
       "      <td>PR</td>\n",
       "    </tr>\n",
       "    <tr>\n",
       "      <th>2</th>\n",
       "      <td>3</td>\n",
       "      <td>1</td>\n",
       "      <td>2003-03-30</td>\n",
       "      <td>16:00</td>\n",
       "      <td>2003</td>\n",
       "      <td>Domingo</td>\n",
       "      <td>Flamengo</td>\n",
       "      <td>Coritiba</td>\n",
       "      <td>NaN</td>\n",
       "      <td>NaN</td>\n",
       "      <td>NaN</td>\n",
       "      <td>NaN</td>\n",
       "      <td>-</td>\n",
       "      <td>maracana</td>\n",
       "      <td>1</td>\n",
       "      <td>1</td>\n",
       "      <td>RJ</td>\n",
       "      <td>PR</td>\n",
       "      <td>-</td>\n",
       "    </tr>\n",
       "    <tr>\n",
       "      <th>3</th>\n",
       "      <td>4</td>\n",
       "      <td>1</td>\n",
       "      <td>2003-03-30</td>\n",
       "      <td>16:00</td>\n",
       "      <td>2003</td>\n",
       "      <td>Domingo</td>\n",
       "      <td>Goias</td>\n",
       "      <td>Paysandu</td>\n",
       "      <td>NaN</td>\n",
       "      <td>NaN</td>\n",
       "      <td>NaN</td>\n",
       "      <td>NaN</td>\n",
       "      <td>-</td>\n",
       "      <td>serra dourada</td>\n",
       "      <td>2</td>\n",
       "      <td>2</td>\n",
       "      <td>GO</td>\n",
       "      <td>PA</td>\n",
       "      <td>-</td>\n",
       "    </tr>\n",
       "    <tr>\n",
       "      <th>4</th>\n",
       "      <td>5</td>\n",
       "      <td>1</td>\n",
       "      <td>2003-03-30</td>\n",
       "      <td>16:00</td>\n",
       "      <td>2003</td>\n",
       "      <td>Domingo</td>\n",
       "      <td>Internacional</td>\n",
       "      <td>Ponte Preta</td>\n",
       "      <td>NaN</td>\n",
       "      <td>NaN</td>\n",
       "      <td>NaN</td>\n",
       "      <td>NaN</td>\n",
       "      <td>-</td>\n",
       "      <td>beira rio</td>\n",
       "      <td>1</td>\n",
       "      <td>1</td>\n",
       "      <td>RS</td>\n",
       "      <td>SP</td>\n",
       "      <td>-</td>\n",
       "    </tr>\n",
       "  </tbody>\n",
       "</table>\n",
       "</div>"
      ],
      "text/plain": [
       "   ID  rodada       data   hora  temporada      dia       mandante  \\\n",
       "0   1       1 2003-03-29  16:00       2003   Sabado        Guarani   \n",
       "1   2       1 2003-03-29  16:00       2003   Sabado   Athletico-PR   \n",
       "2   3       1 2003-03-30  16:00       2003  Domingo       Flamengo   \n",
       "3   4       1 2003-03-30  16:00       2003  Domingo          Goias   \n",
       "4   5       1 2003-03-30  16:00       2003  Domingo  Internacional   \n",
       "\n",
       "     visitante formacao_mandante formacao_visitante tecnico_mandante  \\\n",
       "0        Vasco               NaN                NaN              NaN   \n",
       "1       Gremio               NaN                NaN              NaN   \n",
       "2     Coritiba               NaN                NaN              NaN   \n",
       "3     Paysandu               NaN                NaN              NaN   \n",
       "4  Ponte Preta               NaN                NaN              NaN   \n",
       "\n",
       "  tecnico_visitante      vencedor             arena  mandante_placar  \\\n",
       "0               NaN       Guarani    brinco de ouro                4   \n",
       "1               NaN  Athletico-PR  arena da baixada                2   \n",
       "2               NaN             -          maracana                1   \n",
       "3               NaN             -     serra dourada                2   \n",
       "4               NaN             -         beira rio                1   \n",
       "\n",
       "   visitante_placar mandante_estado visitante_estado estado_vencedor  \n",
       "0                 2              SP               RJ              SP  \n",
       "1                 0              PR               RS              PR  \n",
       "2                 1              RJ               PR               -  \n",
       "3                 2              GO               PA               -  \n",
       "4                 1              RS               SP               -  "
      ]
     },
     "execution_count": 845,
     "metadata": {},
     "output_type": "execute_result"
    }
   ],
   "source": [
    "# indicando qual a temporada do campeonato\n",
    "df2_full.loc[:, 'data'] = pd.to_datetime(df2_full.data, yearfirst=True)    \n",
    "df2_full.insert(4, 'temporada', df2_full.apply(season, axis = 1))\n",
    "df2_full.head()"
   ]
  },
  {
   "cell_type": "code",
   "execution_count": 846,
   "id": "3764a856",
   "metadata": {
    "ExecuteTime": {
     "end_time": "2022-03-25T16:53:46.179699Z",
     "start_time": "2022-03-25T16:53:46.173171Z"
    }
   },
   "outputs": [
    {
     "data": {
      "text/plain": [
       "temporada\n",
       "2003    46\n",
       "2004    46\n",
       "2005    42\n",
       "2006    38\n",
       "2007    38\n",
       "2008    38\n",
       "2009    38\n",
       "2010    38\n",
       "2011    38\n",
       "2012    38\n",
       "2013    38\n",
       "2014    38\n",
       "2015    38\n",
       "2016    38\n",
       "2017    38\n",
       "2018    38\n",
       "2019    38\n",
       "2020    38\n",
       "2021    38\n",
       "Name: rodada, dtype: int64"
      ]
     },
     "execution_count": 846,
     "metadata": {},
     "output_type": "execute_result"
    }
   ],
   "source": [
    "df2_full.groupby('temporada')['rodada'].max()"
   ]
  },
  {
   "cell_type": "code",
   "execution_count": 847,
   "id": "54af2eb4",
   "metadata": {
    "ExecuteTime": {
     "end_time": "2022-03-25T16:53:46.186797Z",
     "start_time": "2022-03-25T16:53:46.181483Z"
    }
   },
   "outputs": [
    {
     "data": {
      "text/plain": [
       "temporada\n",
       "2003    552\n",
       "2004    552\n",
       "2005    462\n",
       "2006    380\n",
       "2007    380\n",
       "2008    380\n",
       "2009    380\n",
       "2010    380\n",
       "2011    380\n",
       "2012    380\n",
       "2013    380\n",
       "2014    380\n",
       "2015    380\n",
       "2016    379\n",
       "2017    380\n",
       "2018    380\n",
       "2019    380\n",
       "2020    380\n",
       "2021    380\n",
       "Name: rodada, dtype: int64"
      ]
     },
     "execution_count": 847,
     "metadata": {},
     "output_type": "execute_result"
    }
   ],
   "source": [
    "df2_full.groupby('temporada')['rodada'].count()"
   ]
  },
  {
   "cell_type": "markdown",
   "id": "e089ff83",
   "metadata": {},
   "source": [
    "<b> Constatações <b>\n",
    "- Em 2005 foram 42 rodadas com 11 jogos cada, pois era outro formato de campeonato; \n",
    "- A temporada 2016 teve um jogo a menos"
   ]
  },
  {
   "cell_type": "markdown",
   "id": "65a42edb",
   "metadata": {},
   "source": [
    "## 2.3 Statistics Dataframe"
   ]
  },
  {
   "cell_type": "code",
   "execution_count": 848,
   "id": "2ee04d63",
   "metadata": {
    "ExecuteTime": {
     "end_time": "2022-03-25T16:53:48.986126Z",
     "start_time": "2022-03-25T16:53:48.981998Z"
    }
   },
   "outputs": [],
   "source": [
    "# renomeando a coluna para ficar compatível com df_full\n",
    "df2_stats = df2_stats.rename(columns = {'partida_id': 'ID'})"
   ]
  },
  {
   "cell_type": "code",
   "execution_count": 849,
   "id": "d0ec6879",
   "metadata": {
    "ExecuteTime": {
     "end_time": "2022-03-25T16:53:49.465105Z",
     "start_time": "2022-03-25T16:53:49.453372Z"
    }
   },
   "outputs": [],
   "source": [
    "# como df_stats2 nao tem a data, sera inlcuida\n",
    "df2_stats = pd.merge(df2_stats, df2_full[['ID','data']], on='ID')"
   ]
  },
  {
   "cell_type": "code",
   "execution_count": 850,
   "id": "c42ef82c",
   "metadata": {
    "ExecuteTime": {
     "end_time": "2022-03-25T16:53:51.328139Z",
     "start_time": "2022-03-25T16:53:49.812918Z"
    }
   },
   "outputs": [],
   "source": [
    "# incluindo a temporada\n",
    "df2_stats.loc[:, 'temporada'] = df2_stats.apply(season, axis = 1)"
   ]
  },
  {
   "cell_type": "code",
   "execution_count": 851,
   "id": "36a2401f",
   "metadata": {
    "ExecuteTime": {
     "end_time": "2022-03-25T16:53:51.336480Z",
     "start_time": "2022-03-25T16:53:51.330128Z"
    }
   },
   "outputs": [],
   "source": [
    "columns_new_order = ['ID',\n",
    "                     'temporada',\n",
    "                     'rodada',\n",
    "                     'data',\n",
    "                     'clube',\n",
    "                     'chutes',                     \n",
    "                     'chutes_no_alvo',\n",
    "                     'posse_de_bola',\n",
    "                     'passes',\n",
    "                     'precisao_passes',\n",
    "                     'faltas',\n",
    "                     'cartao_amarelo',\n",
    "                     'cartao_vermelho',\n",
    "                     'impedimentos',\n",
    "                     'escanteios']\n",
    "df2_stats = df2_stats[columns_new_order]"
   ]
  },
  {
   "cell_type": "code",
   "execution_count": 852,
   "id": "faeb6218",
   "metadata": {
    "ExecuteTime": {
     "end_time": "2022-03-25T16:53:51.350195Z",
     "start_time": "2022-03-25T16:53:51.338025Z"
    }
   },
   "outputs": [
    {
     "data": {
      "text/html": [
       "<div>\n",
       "<style scoped>\n",
       "    .dataframe tbody tr th:only-of-type {\n",
       "        vertical-align: middle;\n",
       "    }\n",
       "\n",
       "    .dataframe tbody tr th {\n",
       "        vertical-align: top;\n",
       "    }\n",
       "\n",
       "    .dataframe thead th {\n",
       "        text-align: right;\n",
       "    }\n",
       "</style>\n",
       "<table border=\"1\" class=\"dataframe\">\n",
       "  <thead>\n",
       "    <tr style=\"text-align: right;\">\n",
       "      <th></th>\n",
       "      <th>ID</th>\n",
       "      <th>temporada</th>\n",
       "      <th>rodada</th>\n",
       "      <th>data</th>\n",
       "      <th>clube</th>\n",
       "      <th>chutes</th>\n",
       "      <th>chutes_no_alvo</th>\n",
       "      <th>posse_de_bola</th>\n",
       "      <th>passes</th>\n",
       "      <th>precisao_passes</th>\n",
       "      <th>faltas</th>\n",
       "      <th>cartao_amarelo</th>\n",
       "      <th>cartao_vermelho</th>\n",
       "      <th>impedimentos</th>\n",
       "      <th>escanteios</th>\n",
       "    </tr>\n",
       "  </thead>\n",
       "  <tbody>\n",
       "    <tr>\n",
       "      <th>0</th>\n",
       "      <td>1</td>\n",
       "      <td>2003</td>\n",
       "      <td>1</td>\n",
       "      <td>2003-03-29</td>\n",
       "      <td>Guarani</td>\n",
       "      <td>0</td>\n",
       "      <td>0</td>\n",
       "      <td>NaN</td>\n",
       "      <td>0</td>\n",
       "      <td>NaN</td>\n",
       "      <td>0</td>\n",
       "      <td>0</td>\n",
       "      <td>0</td>\n",
       "      <td>0</td>\n",
       "      <td>0</td>\n",
       "    </tr>\n",
       "    <tr>\n",
       "      <th>1</th>\n",
       "      <td>1</td>\n",
       "      <td>2003</td>\n",
       "      <td>1</td>\n",
       "      <td>2003-03-29</td>\n",
       "      <td>Vasco</td>\n",
       "      <td>0</td>\n",
       "      <td>0</td>\n",
       "      <td>NaN</td>\n",
       "      <td>0</td>\n",
       "      <td>NaN</td>\n",
       "      <td>0</td>\n",
       "      <td>0</td>\n",
       "      <td>0</td>\n",
       "      <td>0</td>\n",
       "      <td>0</td>\n",
       "    </tr>\n",
       "    <tr>\n",
       "      <th>2</th>\n",
       "      <td>2</td>\n",
       "      <td>2003</td>\n",
       "      <td>1</td>\n",
       "      <td>2003-03-29</td>\n",
       "      <td>Athletico-PR</td>\n",
       "      <td>0</td>\n",
       "      <td>0</td>\n",
       "      <td>NaN</td>\n",
       "      <td>0</td>\n",
       "      <td>NaN</td>\n",
       "      <td>0</td>\n",
       "      <td>0</td>\n",
       "      <td>0</td>\n",
       "      <td>0</td>\n",
       "      <td>0</td>\n",
       "    </tr>\n",
       "    <tr>\n",
       "      <th>3</th>\n",
       "      <td>2</td>\n",
       "      <td>2003</td>\n",
       "      <td>1</td>\n",
       "      <td>2003-03-29</td>\n",
       "      <td>Gremio</td>\n",
       "      <td>0</td>\n",
       "      <td>0</td>\n",
       "      <td>NaN</td>\n",
       "      <td>0</td>\n",
       "      <td>NaN</td>\n",
       "      <td>0</td>\n",
       "      <td>0</td>\n",
       "      <td>0</td>\n",
       "      <td>0</td>\n",
       "      <td>0</td>\n",
       "    </tr>\n",
       "    <tr>\n",
       "      <th>4</th>\n",
       "      <td>3</td>\n",
       "      <td>2003</td>\n",
       "      <td>1</td>\n",
       "      <td>2003-03-30</td>\n",
       "      <td>Flamengo</td>\n",
       "      <td>0</td>\n",
       "      <td>0</td>\n",
       "      <td>NaN</td>\n",
       "      <td>0</td>\n",
       "      <td>NaN</td>\n",
       "      <td>0</td>\n",
       "      <td>0</td>\n",
       "      <td>0</td>\n",
       "      <td>0</td>\n",
       "      <td>0</td>\n",
       "    </tr>\n",
       "  </tbody>\n",
       "</table>\n",
       "</div>"
      ],
      "text/plain": [
       "   ID  temporada  rodada       data         clube  chutes  chutes_no_alvo  \\\n",
       "0   1       2003       1 2003-03-29       Guarani       0               0   \n",
       "1   1       2003       1 2003-03-29         Vasco       0               0   \n",
       "2   2       2003       1 2003-03-29  Athletico-PR       0               0   \n",
       "3   2       2003       1 2003-03-29        Gremio       0               0   \n",
       "4   3       2003       1 2003-03-30      Flamengo       0               0   \n",
       "\n",
       "  posse_de_bola  passes precisao_passes  faltas  cartao_amarelo  \\\n",
       "0           NaN       0             NaN       0               0   \n",
       "1           NaN       0             NaN       0               0   \n",
       "2           NaN       0             NaN       0               0   \n",
       "3           NaN       0             NaN       0               0   \n",
       "4           NaN       0             NaN       0               0   \n",
       "\n",
       "   cartao_vermelho  impedimentos  escanteios  \n",
       "0                0             0           0  \n",
       "1                0             0           0  \n",
       "2                0             0           0  \n",
       "3                0             0           0  \n",
       "4                0             0           0  "
      ]
     },
     "execution_count": 852,
     "metadata": {},
     "output_type": "execute_result"
    }
   ],
   "source": [
    "df2_stats.head()"
   ]
  },
  {
   "cell_type": "markdown",
   "id": "2a58dff0",
   "metadata": {},
   "source": [
    "Checando variáveis com muitos zeros"
   ]
  },
  {
   "cell_type": "code",
   "execution_count": 853,
   "id": "87dc28de",
   "metadata": {
    "ExecuteTime": {
     "end_time": "2022-03-25T16:53:51.780517Z",
     "start_time": "2022-03-25T16:53:51.769523Z"
    }
   },
   "outputs": [
    {
     "data": {
      "text/plain": [
       "temporada\n",
       "2003         0\n",
       "2004         0\n",
       "2005         0\n",
       "2006         0\n",
       "2007         0\n",
       "2008         0\n",
       "2009         0\n",
       "2010         0\n",
       "2011         0\n",
       "2012         0\n",
       "2013         0\n",
       "2014     13087\n",
       "2015    315861\n",
       "2016    313276\n",
       "2017    320578\n",
       "2018    324116\n",
       "2019    301837\n",
       "2020    325403\n",
       "2021    323609\n",
       "Name: passes, dtype: int64"
      ]
     },
     "execution_count": 853,
     "metadata": {},
     "output_type": "execute_result"
    }
   ],
   "source": [
    "df2_stats.groupby('temporada').sum()['passes']"
   ]
  },
  {
   "cell_type": "code",
   "execution_count": 854,
   "id": "5dd790c0",
   "metadata": {
    "ExecuteTime": {
     "end_time": "2022-03-25T16:53:53.029195Z",
     "start_time": "2022-03-25T16:53:53.019948Z"
    }
   },
   "outputs": [
    {
     "data": {
      "text/plain": [
       "temporada\n",
       "2003       0\n",
       "2004       0\n",
       "2005       0\n",
       "2006       0\n",
       "2007       0\n",
       "2008       0\n",
       "2009       0\n",
       "2010       0\n",
       "2011       0\n",
       "2012       0\n",
       "2013       0\n",
       "2014     391\n",
       "2015    9290\n",
       "2016    9494\n",
       "2017    9678\n",
       "2018    9599\n",
       "2019    9692\n",
       "2020    9566\n",
       "2021    9659\n",
       "Name: chutes, dtype: int64"
      ]
     },
     "execution_count": 854,
     "metadata": {},
     "output_type": "execute_result"
    }
   ],
   "source": [
    "df2_stats.groupby('temporada').sum()['chutes']"
   ]
  },
  {
   "cell_type": "code",
   "execution_count": 855,
   "id": "0f707414",
   "metadata": {
    "ExecuteTime": {
     "end_time": "2022-03-25T16:54:07.524107Z",
     "start_time": "2022-03-25T16:54:07.508329Z"
    }
   },
   "outputs": [
    {
     "data": {
      "text/plain": [
       "temporada\n",
       "2003       0\n",
       "2004       0\n",
       "2005       0\n",
       "2006       0\n",
       "2007       0\n",
       "2008       0\n",
       "2009       0\n",
       "2010       0\n",
       "2011       0\n",
       "2012       0\n",
       "2013       0\n",
       "2014      68\n",
       "2015    1824\n",
       "2016    1693\n",
       "2017    1773\n",
       "2018    1814\n",
       "2019    1534\n",
       "2020    1630\n",
       "2021    1680\n",
       "Name: cartao_amarelo, dtype: int64"
      ]
     },
     "execution_count": 855,
     "metadata": {},
     "output_type": "execute_result"
    }
   ],
   "source": [
    "df2_stats.groupby('temporada').sum()['cartao_amarelo']"
   ]
  },
  {
   "cell_type": "code",
   "execution_count": 857,
   "id": "cc8b3930",
   "metadata": {
    "ExecuteTime": {
     "end_time": "2022-03-25T16:54:07.524107Z",
     "start_time": "2022-03-25T16:54:07.508329Z"
    }
   },
   "outputs": [
    {
     "data": {
      "text/plain": [
       "temporada\n",
       "2003      0\n",
       "2004      0\n",
       "2005      0\n",
       "2006      0\n",
       "2007      0\n",
       "2008      0\n",
       "2009      0\n",
       "2010      0\n",
       "2011      0\n",
       "2012      0\n",
       "2013      0\n",
       "2014      0\n",
       "2015    109\n",
       "2016     86\n",
       "2017     77\n",
       "2018    101\n",
       "2019     95\n",
       "2020    106\n",
       "2021     81\n",
       "Name: cartao_vermelho, dtype: int64"
      ]
     },
     "execution_count": 857,
     "metadata": {},
     "output_type": "execute_result"
    }
   ],
   "source": [
    "df2_stats.groupby('temporada').sum()['cartao_vermelho']"
   ]
  },
  {
   "cell_type": "code",
   "execution_count": 858,
   "id": "51c39f8e",
   "metadata": {
    "ExecuteTime": {
     "end_time": "2022-03-25T16:54:12.723764Z",
     "start_time": "2022-03-25T16:54:12.714822Z"
    }
   },
   "outputs": [
    {
     "data": {
      "text/plain": [
       "temporada\n",
       "2003       0\n",
       "2004       0\n",
       "2005       0\n",
       "2006       0\n",
       "2007       0\n",
       "2008       0\n",
       "2009       0\n",
       "2010       0\n",
       "2011       0\n",
       "2012       0\n",
       "2013       0\n",
       "2014      63\n",
       "2015    1593\n",
       "2016    1490\n",
       "2017    1298\n",
       "2018    1126\n",
       "2019     945\n",
       "2020    1129\n",
       "2021    1040\n",
       "Name: impedimentos, dtype: int64"
      ]
     },
     "execution_count": 858,
     "metadata": {},
     "output_type": "execute_result"
    }
   ],
   "source": [
    "df2_stats.groupby('temporada').sum()['impedimentos']"
   ]
  },
  {
   "cell_type": "code",
   "execution_count": 860,
   "id": "9dbca0de",
   "metadata": {
    "ExecuteTime": {
     "end_time": "2022-03-25T16:54:19.641833Z",
     "start_time": "2022-03-25T16:54:19.632868Z"
    }
   },
   "outputs": [
    {
     "data": {
      "text/plain": [
       "temporada\n",
       "2003       0\n",
       "2004       0\n",
       "2005       0\n",
       "2006       0\n",
       "2007       0\n",
       "2008       0\n",
       "2009       0\n",
       "2010       0\n",
       "2011       0\n",
       "2012       0\n",
       "2013       0\n",
       "2014     183\n",
       "2015    3923\n",
       "2016    3870\n",
       "2017    4044\n",
       "2018    4054\n",
       "2019    3733\n",
       "2020    3854\n",
       "2021    3878\n",
       "Name: escanteios, dtype: int64"
      ]
     },
     "execution_count": 860,
     "metadata": {},
     "output_type": "execute_result"
    }
   ],
   "source": [
    "df2_stats.groupby('temporada').sum()['escanteios']"
   ]
  },
  {
   "cell_type": "markdown",
   "id": "e186d773",
   "metadata": {},
   "source": [
    "Nota-se que algumas variáveis estão sem dados coerentes para temporadas anteriores à 2015. Apesar destas variáveis serem obtidas apenas após o jogo, será possível utilizar um modelo para número de chutes, por exemplo, para incorporar esta feature."
   ]
  },
  {
   "cell_type": "markdown",
   "id": "8757cce3",
   "metadata": {},
   "source": [
    "## 2.3 Season Filter"
   ]
  },
  {
   "cell_type": "code",
   "execution_count": 861,
   "id": "877e6b88",
   "metadata": {
    "ExecuteTime": {
     "end_time": "2022-03-25T16:55:00.725782Z",
     "start_time": "2022-03-25T16:55:00.721482Z"
    }
   },
   "outputs": [],
   "source": [
    "# Filtrando a partir de 2015\n",
    "df2_full = df2_full[df2_full.temporada >= 2015].reset_index(drop=True)"
   ]
  },
  {
   "cell_type": "code",
   "execution_count": 862,
   "id": "be6a33b0",
   "metadata": {
    "ExecuteTime": {
     "end_time": "2022-03-25T16:55:01.406755Z",
     "start_time": "2022-03-25T16:55:01.398072Z"
    }
   },
   "outputs": [
    {
     "name": "stdout",
     "output_type": "stream",
     "text": [
      "O primeiro ID das partidas desde 2015 é: 4987\n"
     ]
    }
   ],
   "source": [
    "print('O primeiro ID das partidas desde 2015 é:', df2_full.loc[0,'ID'])"
   ]
  },
  {
   "cell_type": "code",
   "execution_count": 863,
   "id": "295a963d",
   "metadata": {
    "ExecuteTime": {
     "end_time": "2022-03-25T16:55:02.204901Z",
     "start_time": "2022-03-25T16:55:02.197302Z"
    }
   },
   "outputs": [],
   "source": [
    "# Entao servira como filtro\n",
    "df2_stats = df2_stats[df2_stats.ID >= df2_full.loc[0,'ID']]"
   ]
  },
  {
   "cell_type": "markdown",
   "id": "3eac9b62",
   "metadata": {},
   "source": [
    "## 2.4 Checking NaN"
   ]
  },
  {
   "cell_type": "code",
   "execution_count": 866,
   "id": "38a87c0e",
   "metadata": {
    "ExecuteTime": {
     "end_time": "2022-03-25T16:55:30.182713Z",
     "start_time": "2022-03-25T16:55:30.171279Z"
    }
   },
   "outputs": [
    {
     "name": "stdout",
     "output_type": "stream",
     "text": [
      "% of NaN\n"
     ]
    },
    {
     "data": {
      "text/plain": [
       "ID                    0.000000\n",
       "rodada                0.000000\n",
       "data                  0.000000\n",
       "hora                  0.000000\n",
       "temporada             0.000000\n",
       "dia                   0.000000\n",
       "mandante              0.000000\n",
       "visitante             0.000000\n",
       "formacao_mandante     0.001504\n",
       "formacao_visitante    0.001504\n",
       "tecnico_mandante      0.000376\n",
       "tecnico_visitante     0.000376\n",
       "vencedor              0.000000\n",
       "arena                 0.000000\n",
       "mandante_placar       0.000000\n",
       "visitante_placar      0.000000\n",
       "mandante_estado       0.000000\n",
       "visitante_estado      0.000000\n",
       "estado_vencedor       0.000000\n",
       "dtype: float64"
      ]
     },
     "execution_count": 866,
     "metadata": {},
     "output_type": "execute_result"
    }
   ],
   "source": [
    "print('% of NaN')\n",
    "df2_full.isna().sum() / len(df2_full)"
   ]
  },
  {
   "cell_type": "markdown",
   "id": "82447fca",
   "metadata": {},
   "source": [
    "<b>df2_full</b>\n",
    "- formacao_mandante e formacao_visitante = 4 partidas com NaN\n",
    "- tecnico_mandante e tecnico_visitante = 1 partida com NaN"
   ]
  },
  {
   "cell_type": "code",
   "execution_count": 871,
   "id": "c94b582a",
   "metadata": {
    "ExecuteTime": {
     "end_time": "2022-03-25T16:57:26.461404Z",
     "start_time": "2022-03-25T16:57:26.449795Z"
    }
   },
   "outputs": [
    {
     "name": "stdout",
     "output_type": "stream",
     "text": [
      "% of NaN\n"
     ]
    },
    {
     "data": {
      "text/plain": [
       "ID                 0.0\n",
       "temporada          0.0\n",
       "rodada             0.0\n",
       "data               0.0\n",
       "clube              0.0\n",
       "chutes             0.0\n",
       "chutes_no_alvo     0.0\n",
       "posse_de_bola      0.0\n",
       "passes             0.0\n",
       "precisao_passes    0.0\n",
       "faltas             0.0\n",
       "cartao_amarelo     0.0\n",
       "cartao_vermelho    0.0\n",
       "impedimentos       0.0\n",
       "escanteios         0.0\n",
       "dtype: float64"
      ]
     },
     "execution_count": 871,
     "metadata": {},
     "output_type": "execute_result"
    }
   ],
   "source": [
    "print('% of NaN')\n",
    "df2_stats.isna().sum() / len(df2_stats)"
   ]
  },
  {
   "cell_type": "markdown",
   "id": "ffeb0bb8",
   "metadata": {},
   "source": [
    "<b>df2_stats</b>\n",
    "- sem partidas com NaN"
   ]
  },
  {
   "cell_type": "code",
   "execution_count": 873,
   "id": "91198c52",
   "metadata": {
    "ExecuteTime": {
     "end_time": "2022-03-25T16:58:48.425993Z",
     "start_time": "2022-03-25T16:58:48.422502Z"
    }
   },
   "outputs": [
    {
     "name": "stdout",
     "output_type": "stream",
     "text": [
      "O número de jogos é 2659 e o número de jogos com estatísticas  é 2659\n"
     ]
    }
   ],
   "source": [
    "print(f'O número de jogos é {len(df2_full)} e o número de jogos com estatísticas  é {int(len(df2_stats)/2)}')"
   ]
  },
  {
   "cell_type": "markdown",
   "id": "0a10098c",
   "metadata": {},
   "source": [
    "<b> Todos os jogos tem estatísticas! </b>"
   ]
  },
  {
   "cell_type": "markdown",
   "id": "70c70097",
   "metadata": {},
   "source": [
    "# 3.0 Exploratory Data Analysis"
   ]
  },
  {
   "cell_type": "code",
   "execution_count": 908,
   "id": "53340489",
   "metadata": {
    "ExecuteTime": {
     "end_time": "2022-03-25T17:17:25.872703Z",
     "start_time": "2022-03-25T17:17:25.864227Z"
    }
   },
   "outputs": [],
   "source": [
    "df3_full = df2_full.copy()\n",
    "df3_stats = df2_stats.copy()"
   ]
  },
  {
   "cell_type": "markdown",
   "id": "0994416d",
   "metadata": {},
   "source": [
    "A ideia aqui é tentar adquirir algum conhecimento das variáveis que possa ajudar a identificar as melhores features e modelos que possam ser utilizados posteriormente. Também são geradas algumas hipóteses com base nestas análises."
   ]
  },
  {
   "cell_type": "markdown",
   "id": "cede1373",
   "metadata": {},
   "source": [
    "## 3.1 Helper Functions"
   ]
  },
  {
   "cell_type": "code",
   "execution_count": 909,
   "id": "00b5b50a",
   "metadata": {
    "ExecuteTime": {
     "end_time": "2022-03-25T17:17:26.285683Z",
     "start_time": "2022-03-25T17:17:26.282315Z"
    }
   },
   "outputs": [],
   "source": [
    "def encode_target(row):\n",
    "    \"\"\"\n",
    "    Tranforma os resultados com base no vencedor, seguindo:\n",
    "    0 - empate\n",
    "    1 - mandante\n",
    "    2 - visitante\n",
    "    \"\"\"\n",
    "    if row['mandante'] == row['vencedor']:\n",
    "        return 1\n",
    "    elif row['visitante'] == row['vencedor']:\n",
    "        return 2\n",
    "    else:\n",
    "        return 0"
   ]
  },
  {
   "cell_type": "markdown",
   "id": "0d5f00ea",
   "metadata": {},
   "source": [
    "## 3.1 Winner by Home x Away"
   ]
  },
  {
   "cell_type": "code",
   "execution_count": 910,
   "id": "17bf8500",
   "metadata": {
    "ExecuteTime": {
     "end_time": "2022-03-25T17:17:26.633659Z",
     "start_time": "2022-03-25T17:17:26.584858Z"
    }
   },
   "outputs": [],
   "source": [
    "# encoding na variavel do vencedor para facilitar algumas analises\n",
    "df3_full['vencedor'] = df3_full.apply(encode_target, axis = 1)    "
   ]
  },
  {
   "cell_type": "code",
   "execution_count": 911,
   "id": "d93fbfdc",
   "metadata": {
    "ExecuteTime": {
     "end_time": "2022-03-25T17:17:26.832573Z",
     "start_time": "2022-03-25T17:17:26.739664Z"
    }
   },
   "outputs": [
    {
     "data": {
      "image/png": "[encoded data removed]",
      "text/plain": [
       "<Figure size 432x288 with 1 Axes>"
      ]
     },
     "metadata": {
      "needs_background": "light"
     },
     "output_type": "display_data"
    }
   ],
   "source": [
    "df3_full.vencedor.value_counts(normalize=True).plot(kind='bar');\n",
    "plt.xticks(ticks=[0, 1, 2], labels=['Mandante', 'Empate', 'Visitante']);"
   ]
  },
  {
   "cell_type": "markdown",
   "id": "e50c10e9",
   "metadata": {
    "ExecuteTime": {
     "end_time": "2022-03-23T14:27:20.499119Z",
     "start_time": "2022-03-23T14:27:20.493454Z"
    }
   },
   "source": [
    "<b> Constatações </b>\n",
    "- A maioria dos jogos é vencida pelo mandante; \n",
    "- Os visitantes vencem na menor frequência"
   ]
  },
  {
   "cell_type": "markdown",
   "id": "bd058ae2",
   "metadata": {},
   "source": [
    "## 3.2 Winner by Day of the Week"
   ]
  },
  {
   "cell_type": "code",
   "execution_count": 912,
   "id": "3c7c64e0",
   "metadata": {
    "ExecuteTime": {
     "end_time": "2022-03-25T17:17:27.708628Z",
     "start_time": "2022-03-25T17:17:27.536949Z"
    }
   },
   "outputs": [
    {
     "data": {
      "image/png": "[encoded data removed]",
      "text/plain": [
       "<Figure size 432x288 with 1 Axes>"
      ]
     },
     "metadata": {
      "needs_background": "light"
     },
     "output_type": "display_data"
    }
   ],
   "source": [
    "sns.countplot(y=df3_full.dia, hue=df3_full.vencedor, order=['Domingo', 'Segunda-feira', 'Terça-feira', 'Quarta-feira', 'Quinta-feira', 'Sexta-feira', 'Sabado']);\n",
    "plt.legend(['Empate', 'Mandante', 'Visitante']);"
   ]
  },
  {
   "cell_type": "markdown",
   "id": "c8e474d1",
   "metadata": {},
   "source": [
    "<b> Constatações </b>\n",
    "- Visualmente não há diferença no efeito mandante x visitante em diferentes dias da semana;\n",
    "- A única exceção é a segunda-feira, mas não foi feita análise da significância desta diferença;"
   ]
  },
  {
   "cell_type": "markdown",
   "id": "ccdea104",
   "metadata": {},
   "source": [
    "## 3.3 Winner by State "
   ]
  },
  {
   "cell_type": "code",
   "execution_count": 913,
   "id": "237882b5",
   "metadata": {
    "ExecuteTime": {
     "end_time": "2022-03-25T17:17:28.800377Z",
     "start_time": "2022-03-25T17:17:28.786800Z"
    }
   },
   "outputs": [],
   "source": [
    "df_aux = df3_full[['temporada', 'mandante', 'mandante_estado']]\n",
    "df_aux2 = pd.DataFrame(pd.DataFrame(df_aux.groupby(['temporada', 'mandante_estado']).value_counts()).drop(0, axis = 1).groupby(['temporada', 'mandante_estado']).value_counts(), columns=['counts'])\n",
    "df_aux2 = df_aux2.reset_index()"
   ]
  },
  {
   "cell_type": "code",
   "execution_count": 914,
   "id": "ce9dd12a",
   "metadata": {
    "ExecuteTime": {
     "end_time": "2022-03-25T17:17:29.993645Z",
     "start_time": "2022-03-25T17:17:29.400108Z"
    }
   },
   "outputs": [
    {
     "data": {
      "image/png": "[encoded data removed]",
      "text/plain": [
       "<Figure size 1152x360 with 1 Axes>"
      ]
     },
     "metadata": {
      "needs_background": "light"
     },
     "output_type": "display_data"
    }
   ],
   "source": [
    "plt.figure(figsize=(16,5));\n",
    "sns.barplot(x=df_aux2.temporada, y=df_aux2.counts, hue=df_aux2.mandante_estado, palette='bright');\n",
    "plt.legend();\n",
    "plt.title('N. de times por estado por temporada');"
   ]
  },
  {
   "cell_type": "markdown",
   "id": "6adfbf8e",
   "metadata": {},
   "source": [
    "<b> Constatações </b>\n",
    "- SP e RJ são os estados com maior quantidades de times na série A;\n",
    "- RS, e SC se alternam na terceira colocação;\n",
    "- No geral, a maioria dos estados tem entre 1 e 2 times na série A; "
   ]
  },
  {
   "cell_type": "markdown",
   "id": "b5f6fa72",
   "metadata": {},
   "source": [
    "### 3.3.1 Winner by state x time"
   ]
  },
  {
   "cell_type": "markdown",
   "id": "3d95e8d6",
   "metadata": {},
   "source": [
    "Para avaliar os times que mais venceram por temporada, é mais coerente apresentar a relação entre n. de vitorias / n. de times, já que a distribuição da quantidade destes não é homogênea."
   ]
  },
  {
   "cell_type": "code",
   "execution_count": 915,
   "id": "0bc1ad5d",
   "metadata": {
    "ExecuteTime": {
     "end_time": "2022-03-25T17:17:31.566216Z",
     "start_time": "2022-03-25T17:17:31.548710Z"
    }
   },
   "outputs": [],
   "source": [
    "df_aux2 = df_aux2.set_index(['temporada', 'mandante_estado'])\n",
    "df_aux2 = df_aux2.rename(columns={'counts': 'contagem_de_times'})\n",
    "\n",
    "df_aux3 = pd.DataFrame(pd.DataFrame(df3_full[df3_full['estado_vencedor'] != '-'][['temporada', 'estado_vencedor']] \\\n",
    "                                    .value_counts(), columns=['contagem_vitoria']).groupby(['temporada', 'estado_vencedor']) \\\n",
    "                                    .value_counts()).drop(0, axis = 1) \\\n",
    "                                    .reset_index(['contagem_vitoria'])\n",
    "\n",
    "df_aux4 = pd.concat([df_aux2, df_aux3], axis = 1)\n",
    "df_aux4.loc[:, 'vitorias_por_times'] = df_aux3.contagem_vitoria / df_aux4.contagem_de_times"
   ]
  },
  {
   "cell_type": "code",
   "execution_count": 916,
   "id": "06974669",
   "metadata": {
    "ExecuteTime": {
     "end_time": "2022-03-25T17:17:32.189150Z",
     "start_time": "2022-03-25T17:17:32.172948Z"
    }
   },
   "outputs": [
    {
     "data": {
      "text/html": [
       "<div>\n",
       "<style scoped>\n",
       "    .dataframe tbody tr th:only-of-type {\n",
       "        vertical-align: middle;\n",
       "    }\n",
       "\n",
       "    .dataframe tbody tr th {\n",
       "        vertical-align: top;\n",
       "    }\n",
       "\n",
       "    .dataframe thead th {\n",
       "        text-align: right;\n",
       "    }\n",
       "</style>\n",
       "<table border=\"1\" class=\"dataframe\">\n",
       "  <thead>\n",
       "    <tr style=\"text-align: right;\">\n",
       "      <th></th>\n",
       "      <th>temporada</th>\n",
       "      <th>time</th>\n",
       "      <th>contagem_de_times</th>\n",
       "      <th>contagem_vitoria</th>\n",
       "      <th>vitorias_por_times</th>\n",
       "    </tr>\n",
       "  </thead>\n",
       "  <tbody>\n",
       "    <tr>\n",
       "      <th>47</th>\n",
       "      <td>2020</td>\n",
       "      <td>MG</td>\n",
       "      <td>1</td>\n",
       "      <td>20</td>\n",
       "      <td>20.0</td>\n",
       "    </tr>\n",
       "    <tr>\n",
       "      <th>56</th>\n",
       "      <td>2021</td>\n",
       "      <td>MG</td>\n",
       "      <td>2</td>\n",
       "      <td>39</td>\n",
       "      <td>19.5</td>\n",
       "    </tr>\n",
       "    <tr>\n",
       "      <th>43</th>\n",
       "      <td>2019</td>\n",
       "      <td>SP</td>\n",
       "      <td>4</td>\n",
       "      <td>74</td>\n",
       "      <td>18.5</td>\n",
       "    </tr>\n",
       "    <tr>\n",
       "      <th>31</th>\n",
       "      <td>2018</td>\n",
       "      <td>RS</td>\n",
       "      <td>2</td>\n",
       "      <td>37</td>\n",
       "      <td>18.5</td>\n",
       "    </tr>\n",
       "    <tr>\n",
       "      <th>5</th>\n",
       "      <td>2015</td>\n",
       "      <td>RS</td>\n",
       "      <td>2</td>\n",
       "      <td>37</td>\n",
       "      <td>18.5</td>\n",
       "    </tr>\n",
       "    <tr>\n",
       "      <th>22</th>\n",
       "      <td>2017</td>\n",
       "      <td>RS</td>\n",
       "      <td>1</td>\n",
       "      <td>18</td>\n",
       "      <td>18.0</td>\n",
       "    </tr>\n",
       "    <tr>\n",
       "      <th>15</th>\n",
       "      <td>2016</td>\n",
       "      <td>SP</td>\n",
       "      <td>5</td>\n",
       "      <td>90</td>\n",
       "      <td>18.0</td>\n",
       "    </tr>\n",
       "    <tr>\n",
       "      <th>39</th>\n",
       "      <td>2019</td>\n",
       "      <td>PR</td>\n",
       "      <td>1</td>\n",
       "      <td>18</td>\n",
       "      <td>18.0</td>\n",
       "    </tr>\n",
       "    <tr>\n",
       "      <th>1</th>\n",
       "      <td>2015</td>\n",
       "      <td>MG</td>\n",
       "      <td>2</td>\n",
       "      <td>36</td>\n",
       "      <td>18.0</td>\n",
       "    </tr>\n",
       "    <tr>\n",
       "      <th>60</th>\n",
       "      <td>2021</td>\n",
       "      <td>RJ</td>\n",
       "      <td>2</td>\n",
       "      <td>36</td>\n",
       "      <td>18.0</td>\n",
       "    </tr>\n",
       "  </tbody>\n",
       "</table>\n",
       "</div>"
      ],
      "text/plain": [
       "    temporada time  contagem_de_times  contagem_vitoria  vitorias_por_times\n",
       "47       2020   MG                  1                20                20.0\n",
       "56       2021   MG                  2                39                19.5\n",
       "43       2019   SP                  4                74                18.5\n",
       "31       2018   RS                  2                37                18.5\n",
       "5        2015   RS                  2                37                18.5\n",
       "22       2017   RS                  1                18                18.0\n",
       "15       2016   SP                  5                90                18.0\n",
       "39       2019   PR                  1                18                18.0\n",
       "1        2015   MG                  2                36                18.0\n",
       "60       2021   RJ                  2                36                18.0"
      ]
     },
     "execution_count": 916,
     "metadata": {},
     "output_type": "execute_result"
    }
   ],
   "source": [
    "df_aux4 = df_aux4.reset_index()\n",
    "df_aux4 = df_aux4.rename(columns={'level_1': 'time'})\n",
    "df_aux4.sort_values('vitorias_por_times', ascending=False).head(10)"
   ]
  },
  {
   "cell_type": "code",
   "execution_count": 917,
   "id": "dcad00eb",
   "metadata": {
    "ExecuteTime": {
     "end_time": "2022-03-25T17:17:33.478273Z",
     "start_time": "2022-03-25T17:17:32.837608Z"
    }
   },
   "outputs": [
    {
     "data": {
      "image/png": "[encoded data removed]",
      "text/plain": [
       "<Figure size 1152x360 with 1 Axes>"
      ]
     },
     "metadata": {
      "needs_background": "light"
     },
     "output_type": "display_data"
    }
   ],
   "source": [
    "plt.figure(figsize=(16, 5));\n",
    "sns.barplot(x=df_aux4['temporada'], y=df_aux4['vitorias_por_times'], hue=df_aux4['time'], palette='bright');\n",
    "plt.title('Número médio de vitórias por time para cada estado participante ao longo das temporadas');"
   ]
  },
  {
   "cell_type": "markdown",
   "id": "8c72fb2e",
   "metadata": {},
   "source": [
    "<b> Constatações </b>\n",
    "- MG aparece como o estado mais vitorioso nos últimos 2 anos da série e também com um pico na relação em 2014;\n",
    "- SP mesmo com a racionalização dos valores, ainda é um dos estados mais vitoriosos;\n",
    "- RS aparece com uma proporção mais homogênea e ao longo do tempo;\n",
    "- O número médio de vitórias por time de cada estado mostra uma alternância entre SP, MG, RS e RJ na primeira posição."
   ]
  },
  {
   "cell_type": "markdown",
   "id": "1f9ed40e",
   "metadata": {},
   "source": [
    "### 3.3.2 Most Winning States "
   ]
  },
  {
   "cell_type": "code",
   "execution_count": 918,
   "id": "641ea76c",
   "metadata": {
    "ExecuteTime": {
     "end_time": "2022-03-25T17:17:41.629908Z",
     "start_time": "2022-03-25T17:17:41.618538Z"
    }
   },
   "outputs": [],
   "source": [
    "df_aux5 = df_aux4.groupby('time').sum().drop('vitorias_por_times', axis = 1)\n",
    "df_aux5.loc[:, 'vitorias_por_times'] = df_aux5.contagem_vitoria / df_aux5.contagem_de_times\n",
    "df_aux5 = df_aux5.reset_index().drop(['temporada'], axis = 1)"
   ]
  },
  {
   "cell_type": "code",
   "execution_count": 919,
   "id": "8c401c38",
   "metadata": {
    "ExecuteTime": {
     "end_time": "2022-03-25T17:17:42.650376Z",
     "start_time": "2022-03-25T17:17:42.487808Z"
    }
   },
   "outputs": [
    {
     "data": {
      "image/png": "[encoded data removed]",
      "text/plain": [
       "<Figure size 1152x360 with 1 Axes>"
      ]
     },
     "metadata": {
      "needs_background": "light"
     },
     "output_type": "display_data"
    }
   ],
   "source": [
    "plt.figure(figsize=(16,5));\n",
    "sns.barplot(x = df_aux5.sort_values('vitorias_por_times').time, y = df_aux5.sort_values('vitorias_por_times').vitorias_por_times, );"
   ]
  },
  {
   "cell_type": "markdown",
   "id": "ba6ed833",
   "metadata": {},
   "source": [
    "<b> Constatações </b>\n",
    "- No agregado geral, SP tem a liderança, seguido por RS e MG;\n",
    "- Já RJ, ocupa a 4a posição, mesmo tendo quase sempre mais times no campeonato que RS e MG."
   ]
  },
  {
   "cell_type": "markdown",
   "id": "86a8806c",
   "metadata": {},
   "source": [
    "## 3.4 Goals Distribution "
   ]
  },
  {
   "cell_type": "markdown",
   "id": "926fb578",
   "metadata": {},
   "source": [
    "### 3.4.1 Overview "
   ]
  },
  {
   "cell_type": "code",
   "execution_count": 920,
   "id": "32bc552f",
   "metadata": {
    "ExecuteTime": {
     "end_time": "2022-03-25T17:17:52.936247Z",
     "start_time": "2022-03-25T17:17:52.547311Z"
    }
   },
   "outputs": [
    {
     "data": {
      "image/png": "[encoded data removed]",
      "text/plain": [
       "<Figure size 864x288 with 2 Axes>"
      ]
     },
     "metadata": {
      "needs_background": "light"
     },
     "output_type": "display_data"
    }
   ],
   "source": [
    "plt.figure(figsize=(12,4));\n",
    "plt.subplot(1,2,1);\n",
    "sns.histplot(data=df_full3[['mandante_placar', 'visitante_placar']], discrete=True, binwidth=0.5, fill=False );\n",
    "plt.legend(['Mandante', 'Visitante']);\n",
    "plt.title('Histograma');\n",
    "plt.subplot(1,2,2);\n",
    "sns.kdeplot(data=df_full3[['mandante_placar', 'visitante_placar']], cumulative=True);\n",
    "plt.legend(['Mandante', 'Visitante']);\n",
    "plt.title('Densidade de probabilidade acumulada');"
   ]
  },
  {
   "cell_type": "markdown",
   "id": "307d9f60",
   "metadata": {},
   "source": [
    "<b> Constatações </b>\n",
    "- Os mandantes não fazem gol com mais frequência que os visitantes;\n",
    "- Mas as chances de fazer ao menos um gol (em diante) é maior para os mandantes."
   ]
  },
  {
   "cell_type": "markdown",
   "id": "ffc272db",
   "metadata": {},
   "source": [
    "### 3.4.2  Goals by round over the time"
   ]
  },
  {
   "cell_type": "code",
   "execution_count": 921,
   "id": "9c78ff23",
   "metadata": {
    "ExecuteTime": {
     "end_time": "2022-03-25T17:18:17.059543Z",
     "start_time": "2022-03-25T17:18:17.049678Z"
    }
   },
   "outputs": [],
   "source": [
    "df3_full.loc[:, 'total_de_gols'] = df3_full['mandante_placar'] + df3_full['visitante_placar']\n",
    "df_aux = pd.DataFrame(df3_full.groupby(['temporada', 'rodada']).sum()['total_de_gols']).reset_index()"
   ]
  },
  {
   "cell_type": "code",
   "execution_count": 922,
   "id": "b89076a0",
   "metadata": {
    "ExecuteTime": {
     "end_time": "2022-03-25T17:18:20.747277Z",
     "start_time": "2022-03-25T17:18:20.488227Z"
    }
   },
   "outputs": [
    {
     "data": {
      "image/png": "[encoded data removed]",
      "text/plain": [
       "<Figure size 1152x360 with 1 Axes>"
      ]
     },
     "metadata": {
      "needs_background": "light"
     },
     "output_type": "display_data"
    }
   ],
   "source": [
    "plt.figure(figsize=(16,5));\n",
    "sns.lineplot(y=df_aux.total_de_gols, x=df_aux.rodada, hue=df_aux.temporada, palette='bright');\n",
    "plt.hlines(df_aux.total_de_gols.mean(), xmin = 1, xmax=38, color='black', label='media', linestyle='dashed');\n",
    "plt.legend();"
   ]
  },
  {
   "cell_type": "markdown",
   "id": "3f7cfbe9",
   "metadata": {},
   "source": [
    "<b> Constatações </b>\n",
    "- A rodada do campeonato não aparenta influenciar o número de gols;"
   ]
  },
  {
   "cell_type": "markdown",
   "id": "503e41ce",
   "metadata": {},
   "source": [
    "## 3.5 Kicks "
   ]
  },
  {
   "cell_type": "markdown",
   "id": "b0acbf09",
   "metadata": {
    "ExecuteTime": {
     "end_time": "2022-03-25T17:23:04.393285Z",
     "start_time": "2022-03-25T17:23:04.390156Z"
    }
   },
   "source": [
    "Algumas estatísticas ainda estão zeradas em cerca de 50 partidas. Elas serão filtradas aqui."
   ]
  },
  {
   "cell_type": "code",
   "execution_count": 923,
   "id": "ea844549",
   "metadata": {
    "ExecuteTime": {
     "end_time": "2022-03-25T17:20:42.959758Z",
     "start_time": "2022-03-25T17:20:42.952844Z"
    }
   },
   "outputs": [
    {
     "data": {
      "text/plain": [
       "50"
      ]
     },
     "execution_count": 923,
     "metadata": {},
     "output_type": "execute_result"
    }
   ],
   "source": [
    "len(df3_stats[df3_stats['chutes'] == 0])"
   ]
  },
  {
   "cell_type": "code",
   "execution_count": 924,
   "id": "72dab4da",
   "metadata": {
    "ExecuteTime": {
     "end_time": "2022-03-25T17:21:00.169961Z",
     "start_time": "2022-03-25T17:21:00.165212Z"
    }
   },
   "outputs": [
    {
     "data": {
      "text/plain": [
       "50"
      ]
     },
     "execution_count": 924,
     "metadata": {},
     "output_type": "execute_result"
    }
   ],
   "source": [
    "len(df3_stats[df3_stats['passes'] == 0])"
   ]
  },
  {
   "cell_type": "code",
   "execution_count": 926,
   "id": "1ecea06c",
   "metadata": {
    "ExecuteTime": {
     "end_time": "2022-03-25T17:23:27.482261Z",
     "start_time": "2022-03-25T17:23:27.478207Z"
    }
   },
   "outputs": [],
   "source": [
    "df_aux_stats = df3_stats[df3_stats.passes != 0]"
   ]
  },
  {
   "cell_type": "markdown",
   "id": "263421ee",
   "metadata": {},
   "source": [
    "### 3.5.1 Overview "
   ]
  },
  {
   "cell_type": "markdown",
   "id": "869e4ad5",
   "metadata": {},
   "source": [
    "<b>Top 10 maiores chutadores<b>"
   ]
  },
  {
   "cell_type": "code",
   "execution_count": 928,
   "id": "0dbe86b9",
   "metadata": {
    "ExecuteTime": {
     "end_time": "2022-03-25T17:23:44.038085Z",
     "start_time": "2022-03-25T17:23:44.029000Z"
    }
   },
   "outputs": [
    {
     "name": "stdout",
     "output_type": "stream",
     "text": [
      "Top 10 em chutes por partida\n"
     ]
    },
    {
     "data": {
      "text/plain": [
       "clube\n",
       "Flamengo       14.743396\n",
       "Atletico-MG    14.434615\n",
       "Bragantino     14.381579\n",
       "Palmeiras      14.034091\n",
       "Cruzeiro       13.839572\n",
       "Vitoria        13.315789\n",
       "Gremio         13.287879\n",
       "Bahia          13.200000\n",
       "Sao Paulo      12.912879\n",
       "Ceara          12.881579\n",
       "Name: chutes, dtype: float64"
      ]
     },
     "execution_count": 928,
     "metadata": {},
     "output_type": "execute_result"
    }
   ],
   "source": [
    "print('Top 10 em chutes por partida')\n",
    "df_aux_stats.groupby('clube').mean().sort_values('chutes', ascending=False).head(10)['chutes']"
   ]
  },
  {
   "cell_type": "markdown",
   "id": "cf5a5100",
   "metadata": {},
   "source": [
    "<b>Top 10 chutadores mais precisos<b>"
   ]
  },
  {
   "cell_type": "code",
   "execution_count": 929,
   "id": "b33e53d2",
   "metadata": {
    "ExecuteTime": {
     "end_time": "2022-03-25T17:23:46.182152Z",
     "start_time": "2022-03-25T17:23:46.170208Z"
    }
   },
   "outputs": [
    {
     "name": "stdout",
     "output_type": "stream",
     "text": [
      "Top 10 em chutes no alvo por partida\n"
     ]
    },
    {
     "data": {
      "text/plain": [
       "clube\n",
       "Bragantino     4.618421\n",
       "Bahia          4.426316\n",
       "Ceara          4.223684\n",
       "Fortaleza      4.061947\n",
       "Flamengo       3.973585\n",
       "Atletico-GO    3.561404\n",
       "Atletico-MG    3.538462\n",
       "Palmeiras      3.518939\n",
       "Juventude      3.421053\n",
       "Cuiaba         3.394737\n",
       "Name: chutes_no_alvo, dtype: float64"
      ]
     },
     "execution_count": 929,
     "metadata": {},
     "output_type": "execute_result"
    }
   ],
   "source": [
    "print('Top 10 em chutes no alvo por partida')\n",
    "df_aux_stats.groupby('clube').mean().sort_values('chutes_no_alvo', ascending=False).head(10)['chutes_no_alvo']"
   ]
  },
  {
   "cell_type": "markdown",
   "id": "77f6e042",
   "metadata": {},
   "source": [
    "<b> Constatações </b>\n",
    "- Flamengo e Atlético-MG são os times que mais chutaram ao gol por partidas jogadas;\n",
    "- Bragantino e Bahia são os times que tem maior precisão no chute."
   ]
  },
  {
   "cell_type": "markdown",
   "id": "025b3c79",
   "metadata": {},
   "source": [
    "### 3.5.2 Kicks by all teams over the time"
   ]
  },
  {
   "cell_type": "code",
   "execution_count": 930,
   "id": "4ff34852",
   "metadata": {
    "ExecuteTime": {
     "end_time": "2022-03-25T17:23:49.947150Z",
     "start_time": "2022-03-25T17:23:49.416188Z"
    }
   },
   "outputs": [],
   "source": [
    "# criando uma feature para temporada e mudando a posicao dela e da data\n",
    "df_aux_stats.loc[:,'temporada'] = df_aux_stats.apply(season, axis = 1)\n",
    "df_aux = df_aux_stats[['data']]\n",
    "df_aux_stats = df_aux_stats.drop('data', axis = 1)\n",
    "df_aux_stats.insert(3, 'data', df_aux)"
   ]
  },
  {
   "cell_type": "code",
   "execution_count": 931,
   "id": "919dfbe8",
   "metadata": {
    "ExecuteTime": {
     "end_time": "2022-03-25T17:23:52.874359Z",
     "start_time": "2022-03-25T17:23:52.864685Z"
    }
   },
   "outputs": [],
   "source": [
    "df_aux = pd.DataFrame(df_aux_stats.groupby(['temporada', 'rodada']).mean()['chutes']).reset_index()"
   ]
  },
  {
   "cell_type": "code",
   "execution_count": 932,
   "id": "b4071112",
   "metadata": {
    "ExecuteTime": {
     "end_time": "2022-03-25T17:23:55.093172Z",
     "start_time": "2022-03-25T17:23:54.829143Z"
    }
   },
   "outputs": [
    {
     "data": {
      "image/png": "[encoded data removed]",
      "text/plain": [
       "<Figure size 1152x360 with 1 Axes>"
      ]
     },
     "metadata": {
      "needs_background": "light"
     },
     "output_type": "display_data"
    }
   ],
   "source": [
    "plt.figure(figsize=(16,5));\n",
    "sns.lineplot(y=df_aux.chutes, x=df_aux.rodada, hue=df_aux.temporada, palette='bright');\n",
    "plt.hlines(df_aux.chutes.mean(), xmin = 1, xmax=38, color='black', label='media', linestyle='dashed');\n",
    "plt.legend();"
   ]
  },
  {
   "cell_type": "code",
   "execution_count": 933,
   "id": "df234507",
   "metadata": {
    "ExecuteTime": {
     "end_time": "2022-03-25T17:24:06.005976Z",
     "start_time": "2022-03-25T17:24:05.980677Z"
    }
   },
   "outputs": [
    {
     "name": "stdout",
     "output_type": "stream",
     "text": [
      "Estatísticas dos chutes por temporada\n"
     ]
    },
    {
     "data": {
      "text/html": [
       "<div>\n",
       "<style scoped>\n",
       "    .dataframe tbody tr th:only-of-type {\n",
       "        vertical-align: middle;\n",
       "    }\n",
       "\n",
       "    .dataframe tbody tr th {\n",
       "        vertical-align: top;\n",
       "    }\n",
       "\n",
       "    .dataframe thead th {\n",
       "        text-align: right;\n",
       "    }\n",
       "</style>\n",
       "<table border=\"1\" class=\"dataframe\">\n",
       "  <thead>\n",
       "    <tr style=\"text-align: right;\">\n",
       "      <th></th>\n",
       "      <th>count</th>\n",
       "      <th>mean</th>\n",
       "      <th>std</th>\n",
       "      <th>min</th>\n",
       "      <th>25%</th>\n",
       "      <th>50%</th>\n",
       "      <th>75%</th>\n",
       "      <th>max</th>\n",
       "    </tr>\n",
       "    <tr>\n",
       "      <th>temporada</th>\n",
       "      <th></th>\n",
       "      <th></th>\n",
       "      <th></th>\n",
       "      <th></th>\n",
       "      <th></th>\n",
       "      <th></th>\n",
       "      <th></th>\n",
       "      <th></th>\n",
       "    </tr>\n",
       "  </thead>\n",
       "  <tbody>\n",
       "    <tr>\n",
       "      <th>2015</th>\n",
       "      <td>38.0</td>\n",
       "      <td>12.223684</td>\n",
       "      <td>0.773876</td>\n",
       "      <td>10.60</td>\n",
       "      <td>11.625000</td>\n",
       "      <td>12.425000</td>\n",
       "      <td>12.787500</td>\n",
       "      <td>13.500000</td>\n",
       "    </tr>\n",
       "    <tr>\n",
       "      <th>2016</th>\n",
       "      <td>38.0</td>\n",
       "      <td>12.525292</td>\n",
       "      <td>0.926860</td>\n",
       "      <td>10.30</td>\n",
       "      <td>11.950000</td>\n",
       "      <td>12.575000</td>\n",
       "      <td>12.987500</td>\n",
       "      <td>14.800000</td>\n",
       "    </tr>\n",
       "    <tr>\n",
       "      <th>2017</th>\n",
       "      <td>38.0</td>\n",
       "      <td>12.766813</td>\n",
       "      <td>0.792442</td>\n",
       "      <td>11.20</td>\n",
       "      <td>12.212500</td>\n",
       "      <td>12.875000</td>\n",
       "      <td>13.425000</td>\n",
       "      <td>13.900000</td>\n",
       "    </tr>\n",
       "    <tr>\n",
       "      <th>2018</th>\n",
       "      <td>38.0</td>\n",
       "      <td>12.630263</td>\n",
       "      <td>0.786073</td>\n",
       "      <td>10.80</td>\n",
       "      <td>12.150000</td>\n",
       "      <td>12.550000</td>\n",
       "      <td>13.037500</td>\n",
       "      <td>14.150000</td>\n",
       "    </tr>\n",
       "    <tr>\n",
       "      <th>2019</th>\n",
       "      <td>38.0</td>\n",
       "      <td>13.589547</td>\n",
       "      <td>0.918254</td>\n",
       "      <td>11.55</td>\n",
       "      <td>12.958333</td>\n",
       "      <td>13.633333</td>\n",
       "      <td>14.277778</td>\n",
       "      <td>15.388889</td>\n",
       "    </tr>\n",
       "    <tr>\n",
       "      <th>2020</th>\n",
       "      <td>38.0</td>\n",
       "      <td>12.620175</td>\n",
       "      <td>0.721747</td>\n",
       "      <td>11.30</td>\n",
       "      <td>12.150000</td>\n",
       "      <td>12.550000</td>\n",
       "      <td>13.050000</td>\n",
       "      <td>14.650000</td>\n",
       "    </tr>\n",
       "    <tr>\n",
       "      <th>2021</th>\n",
       "      <td>38.0</td>\n",
       "      <td>12.709211</td>\n",
       "      <td>0.929462</td>\n",
       "      <td>11.10</td>\n",
       "      <td>12.075000</td>\n",
       "      <td>12.700000</td>\n",
       "      <td>13.150000</td>\n",
       "      <td>14.900000</td>\n",
       "    </tr>\n",
       "  </tbody>\n",
       "</table>\n",
       "</div>"
      ],
      "text/plain": [
       "           count       mean       std    min        25%        50%        75%  \\\n",
       "temporada                                                                       \n",
       "2015        38.0  12.223684  0.773876  10.60  11.625000  12.425000  12.787500   \n",
       "2016        38.0  12.525292  0.926860  10.30  11.950000  12.575000  12.987500   \n",
       "2017        38.0  12.766813  0.792442  11.20  12.212500  12.875000  13.425000   \n",
       "2018        38.0  12.630263  0.786073  10.80  12.150000  12.550000  13.037500   \n",
       "2019        38.0  13.589547  0.918254  11.55  12.958333  13.633333  14.277778   \n",
       "2020        38.0  12.620175  0.721747  11.30  12.150000  12.550000  13.050000   \n",
       "2021        38.0  12.709211  0.929462  11.10  12.075000  12.700000  13.150000   \n",
       "\n",
       "                 max  \n",
       "temporada             \n",
       "2015       13.500000  \n",
       "2016       14.800000  \n",
       "2017       13.900000  \n",
       "2018       14.150000  \n",
       "2019       15.388889  \n",
       "2020       14.650000  \n",
       "2021       14.900000  "
      ]
     },
     "execution_count": 933,
     "metadata": {},
     "output_type": "execute_result"
    }
   ],
   "source": [
    "print('Estatísticas dos chutes por temporada')\n",
    "df_aux[df_aux.temporada != 2014].groupby('temporada')['chutes'].describe()"
   ]
  },
  {
   "cell_type": "markdown",
   "id": "2c4bdb0e",
   "metadata": {},
   "source": [
    "<b> Constatações <b>\n",
    "- Visualmente, o ano de 2019 a maior média de chutes ao gol em geral;\n",
    "- 2016, 2019 e 2021 vem maior variabilidade no número de chutes;\n",
    "- Visualmente as estatísticas estão bem próximas ao longo destes anos."
   ]
  },
  {
   "cell_type": "markdown",
   "id": "16c19c50",
   "metadata": {},
   "source": [
    "## 3.6 Faults "
   ]
  },
  {
   "cell_type": "code",
   "execution_count": 934,
   "id": "50963e41",
   "metadata": {
    "ExecuteTime": {
     "end_time": "2022-03-25T17:24:08.660796Z",
     "start_time": "2022-03-25T17:24:08.643659Z"
    }
   },
   "outputs": [
    {
     "name": "stdout",
     "output_type": "stream",
     "text": [
      "Top 10 na média do n. de faltas por jogo\n"
     ]
    },
    {
     "data": {
      "text/plain": [
       "clube\n",
       "Vitoria          17.622807\n",
       "Figueirense      17.539474\n",
       "Ponte Preta      16.798246\n",
       "Coritiba         16.605263\n",
       "Joinville        16.578947\n",
       "Palmeiras        16.334586\n",
       "Internacional    16.131579\n",
       "Chapecoense      15.929515\n",
       "Atletico-GO      15.912281\n",
       "Bahia            15.878947\n",
       "Name: faltas, dtype: float64"
      ]
     },
     "execution_count": 934,
     "metadata": {},
     "output_type": "execute_result"
    }
   ],
   "source": [
    "print('Top 10 na média do n. de faltas por jogo')\n",
    "df_stats3.groupby('clube').mean().sort_values('faltas', ascending=False).head(10)['faltas']"
   ]
  },
  {
   "cell_type": "markdown",
   "id": "1da6cc3b",
   "metadata": {},
   "source": [
    "## 3.7 Yellow and Red Cards "
   ]
  },
  {
   "cell_type": "code",
   "execution_count": 935,
   "id": "e6968aea",
   "metadata": {
    "ExecuteTime": {
     "end_time": "2022-03-25T17:24:09.975286Z",
     "start_time": "2022-03-25T17:24:09.961730Z"
    }
   },
   "outputs": [
    {
     "name": "stdout",
     "output_type": "stream",
     "text": [
      "Top 10 na média do n. de cartões amarelos por jogo\n"
     ]
    },
    {
     "data": {
      "text/plain": [
       "clube\n",
       "Vitoria          2.666667\n",
       "Figueirense      2.592105\n",
       "Coritiba         2.585526\n",
       "Vasco            2.584211\n",
       "Parana           2.578947\n",
       "Internacional    2.557018\n",
       "Ponte Preta      2.491228\n",
       "Joinville        2.473684\n",
       "Goias            2.429825\n",
       "Avai             2.412281\n",
       "Name: cartao_amarelo, dtype: float64"
      ]
     },
     "execution_count": 935,
     "metadata": {},
     "output_type": "execute_result"
    }
   ],
   "source": [
    "print('Top 10 na média do n. de cartões amarelos por jogo')\n",
    "df_stats3.groupby('clube').mean().sort_values('cartao_amarelo', ascending=False).head(10)['cartao_amarelo']"
   ]
  },
  {
   "cell_type": "code",
   "execution_count": 936,
   "id": "5b65d10a",
   "metadata": {
    "ExecuteTime": {
     "end_time": "2022-03-25T17:24:11.071899Z",
     "start_time": "2022-03-25T17:24:11.054344Z"
    }
   },
   "outputs": [
    {
     "name": "stdout",
     "output_type": "stream",
     "text": [
      "Top 10 na média do n. de cartões vermelhos por jogo\n"
     ]
    },
    {
     "data": {
      "text/plain": [
       "clube\n",
       "Parana           0.236842\n",
       "Joinville        0.210526\n",
       "Vasco            0.178947\n",
       "Internacional    0.175439\n",
       "Vitoria          0.175439\n",
       "Figueirense      0.171053\n",
       "Santa Cruz       0.157895\n",
       "Fortaleza        0.157895\n",
       "Avai             0.157895\n",
       "Cuiaba           0.157895\n",
       "Name: cartao_vermelho, dtype: float64"
      ]
     },
     "execution_count": 936,
     "metadata": {},
     "output_type": "execute_result"
    }
   ],
   "source": [
    "print('Top 10 na média do n. de cartões vermelhos por jogo')\n",
    "df_stats3.groupby('clube').mean().sort_values('cartao_vermelho', ascending=False).head(10)['cartao_vermelho']"
   ]
  },
  {
   "cell_type": "markdown",
   "id": "32f6d87a",
   "metadata": {},
   "source": [
    "# 4.0 Hypothesis "
   ]
  },
  {
   "cell_type": "markdown",
   "id": "ad0b730e",
   "metadata": {},
   "source": [
    "Algumas hipóteses podem ajudar a determinar as melhores features e insights para construção dos modelos, tais como:\n",
    "<ol>\n",
    "    <li>O time que mais chuta a gol é o que faz mais gols;</li>\n",
    "    <li>O time que mais chuta a gol é o mais vencedor;</li>\n",
    "</ol>"
   ]
  },
  {
   "cell_type": "code",
   "execution_count": 941,
   "id": "25aafa95",
   "metadata": {
    "ExecuteTime": {
     "end_time": "2022-03-25T17:25:42.851298Z",
     "start_time": "2022-03-25T17:25:42.844286Z"
    }
   },
   "outputs": [],
   "source": [
    "df4_full = df3_full.copy()\n",
    "df4_stats = df3_stats.copy()"
   ]
  },
  {
   "cell_type": "code",
   "execution_count": 942,
   "id": "ef3fb76c",
   "metadata": {
    "ExecuteTime": {
     "end_time": "2022-03-25T17:25:46.739461Z",
     "start_time": "2022-03-25T17:25:46.731314Z"
    }
   },
   "outputs": [
    {
     "data": {
      "text/plain": [
       "['ID',\n",
       " 'temporada',\n",
       " 'rodada',\n",
       " 'data',\n",
       " 'clube',\n",
       " 'chutes',\n",
       " 'chutes_no_alvo',\n",
       " 'posse_de_bola',\n",
       " 'passes',\n",
       " 'precisao_passes',\n",
       " 'faltas',\n",
       " 'cartao_amarelo',\n",
       " 'cartao_vermelho',\n",
       " 'impedimentos',\n",
       " 'escanteios']"
      ]
     },
     "execution_count": 942,
     "metadata": {},
     "output_type": "execute_result"
    }
   ],
   "source": [
    "df4_stats.columns.tolist()"
   ]
  },
  {
   "cell_type": "code",
   "execution_count": 943,
   "id": "873e4136",
   "metadata": {
    "ExecuteTime": {
     "end_time": "2022-03-25T17:26:38.797779Z",
     "start_time": "2022-03-25T17:26:38.793985Z"
    }
   },
   "outputs": [
    {
     "data": {
      "text/plain": [
       "['ID',\n",
       " 'rodada',\n",
       " 'data',\n",
       " 'hora',\n",
       " 'temporada',\n",
       " 'dia',\n",
       " 'mandante',\n",
       " 'visitante',\n",
       " 'formacao_mandante',\n",
       " 'formacao_visitante',\n",
       " 'tecnico_mandante',\n",
       " 'tecnico_visitante',\n",
       " 'vencedor',\n",
       " 'arena',\n",
       " 'mandante_placar',\n",
       " 'visitante_placar',\n",
       " 'mandante_estado',\n",
       " 'visitante_estado',\n",
       " 'estado_vencedor',\n",
       " 'total_de_gols']"
      ]
     },
     "execution_count": 943,
     "metadata": {},
     "output_type": "execute_result"
    }
   ],
   "source": [
    "df4_full.columns.tolist()"
   ]
  },
  {
   "cell_type": "markdown",
   "id": "ce3e1669",
   "metadata": {},
   "source": [
    "## 4.1 Helper Functions"
   ]
  },
  {
   "cell_type": "code",
   "execution_count": 944,
   "id": "35df2d01",
   "metadata": {
    "ExecuteTime": {
     "end_time": "2022-03-25T17:28:23.817226Z",
     "start_time": "2022-03-25T17:28:23.809025Z"
    }
   },
   "outputs": [],
   "source": [
    "def add_attributes(df_stats, df_full):\n",
    "    \"\"\"\n",
    "    This function merge some attributes from two differente df, considering home x away teams\n",
    "    \"\"\"\n",
    "   \n",
    "    columns = df_stats.columns.to_list()[5:-3]\n",
    "           \n",
    "    for row in range(len(df_full)):\n",
    "        for column in columns:\n",
    "            if (df_stats['ID'] == df_full.loc[row, 'ID']).any() & (df_stats['clube'] == df_full.loc[row, 'mandante']).any():\n",
    "                df_full.loc[row, 'mandante_' + column] = df_stats[(df_stats['ID'] == df_full.loc[row, 'ID']) & (df_stats['clube'] == df_full.loc[row, 'mandante'])][column].values[0]\n",
    "            else:\n",
    "                df_full.loc[row, 'mandante_' + column] = np.nan\n",
    "                \n",
    "            if (df_stats['ID'] == df_full.loc[row, 'ID']).any() & (df_stats['clube'] == df_full.loc[row, 'visitante']).any():       \n",
    "                df_full.loc[row, 'visitante_' + column] = df_stats[(df_stats['ID'] == df_full.loc[row, 'ID']) & (df_stats['clube'] == df_full.loc[row, 'visitante'])][column].values[0]\n",
    "            else:\n",
    "                df_full.loc[row, 'visitante_' + column] = np.nan\n",
    "                \n",
    "\n",
    "    return df_full\n",
    "\n",
    "def win(row):  \n",
    "    \"\"\"\n",
    "    Cria uma variavel auxiliar para contar as vitorias\n",
    "    \"\"\"\n",
    "    if (row.index == 'mandante').any():\n",
    "        if row['vencedor'] == 1:\n",
    "            return 1\n",
    "        else:\n",
    "            return 0\n",
    "        \n",
    "    elif (row.index == 'visitante').any():\n",
    "        if row['vencedor'] == 2:\n",
    "            return 1\n",
    "        else:\n",
    "            return 0\n",
    "    "
   ]
  },
  {
   "cell_type": "code",
   "execution_count": 947,
   "id": "ba525fca",
   "metadata": {
    "ExecuteTime": {
     "end_time": "2022-03-25T17:32:59.146842Z",
     "start_time": "2022-03-25T17:31:52.937651Z"
    }
   },
   "outputs": [],
   "source": [
    "df4 = add_attributes(df4_stats, df4_full)"
   ]
  },
  {
   "cell_type": "code",
   "execution_count": 948,
   "id": "36cd4587",
   "metadata": {
    "ExecuteTime": {
     "end_time": "2022-03-25T17:32:59.152752Z",
     "start_time": "2022-03-25T17:32:59.148713Z"
    }
   },
   "outputs": [
    {
     "data": {
      "text/plain": [
       "Index(['ID', 'rodada', 'data', 'hora', 'temporada', 'dia', 'mandante',\n",
       "       'visitante', 'formacao_mandante', 'formacao_visitante',\n",
       "       'tecnico_mandante', 'tecnico_visitante', 'vencedor', 'arena',\n",
       "       'mandante_placar', 'visitante_placar', 'mandante_estado',\n",
       "       'visitante_estado', 'estado_vencedor', 'total_de_gols',\n",
       "       'mandante_chutes', 'visitante_chutes', 'mandante_chutes_no_alvo',\n",
       "       'visitante_chutes_no_alvo', 'mandante_posse_de_bola',\n",
       "       'visitante_posse_de_bola', 'mandante_passes', 'visitante_passes',\n",
       "       'mandante_precisao_passes', 'visitante_precisao_passes',\n",
       "       'mandante_faltas', 'visitante_faltas', 'mandante_cartao_amarelo',\n",
       "       'visitante_cartao_amarelo'],\n",
       "      dtype='object')"
      ]
     },
     "execution_count": 948,
     "metadata": {},
     "output_type": "execute_result"
    }
   ],
   "source": [
    "df4.columns"
   ]
  },
  {
   "cell_type": "markdown",
   "id": "ec03f03f",
   "metadata": {},
   "source": [
    "## 4.2 O time que mais chuta a gol é o que mais faz gols "
   ]
  },
  {
   "cell_type": "code",
   "execution_count": 949,
   "id": "49c911cd",
   "metadata": {
    "ExecuteTime": {
     "end_time": "2022-03-25T17:33:45.693056Z",
     "start_time": "2022-03-25T17:33:45.674235Z"
    }
   },
   "outputs": [],
   "source": [
    "# removendo os problemas de valores zeros nos passes, que provavelmente indica registro incorreto também nos passes\n",
    "df_aux4 = df4[(df4.mandante_passes != 0) | (df4.visitante_passes != 0)]"
   ]
  },
  {
   "cell_type": "code",
   "execution_count": 950,
   "id": "c8a3c778",
   "metadata": {
    "ExecuteTime": {
     "end_time": "2022-03-25T17:33:46.827256Z",
     "start_time": "2022-03-25T17:33:46.663779Z"
    }
   },
   "outputs": [
    {
     "data": {
      "image/png": "[encoded data removed]",
      "text/plain": [
       "<Figure size 432x288 with 1 Axes>"
      ]
     },
     "metadata": {
      "needs_background": "light"
     },
     "output_type": "display_data"
    }
   ],
   "source": [
    "df_aux41 = pd.concat([df_aux4[['mandante', 'mandante_chutes', 'mandante_placar']] \\\n",
    "                      .rename(columns={'mandante': 'clube', 'mandante_chutes': 'chutes', 'mandante_placar': 'gols'}),\\\n",
    "                      df_aux4[['visitante', 'visitante_chutes', 'visitante_placar']] \\\n",
    "                      .rename(columns={'visitante': 'clube', 'visitante_chutes': 'chutes', 'visitante_placar': 'gols'})], axis=0)\n",
    "\n",
    "sns.scatterplot(x=df_aux41.chutes, y=df_aux41.gols);\n",
    "plt.title('Dispersão N. de Chutes x N. de Gols por partida');"
   ]
  },
  {
   "cell_type": "code",
   "execution_count": 951,
   "id": "a2ca5b0f",
   "metadata": {
    "ExecuteTime": {
     "end_time": "2022-03-25T17:33:49.493894Z",
     "start_time": "2022-03-25T17:33:49.483545Z"
    }
   },
   "outputs": [
    {
     "data": {
      "text/html": [
       "<div>\n",
       "<style scoped>\n",
       "    .dataframe tbody tr th:only-of-type {\n",
       "        vertical-align: middle;\n",
       "    }\n",
       "\n",
       "    .dataframe tbody tr th {\n",
       "        vertical-align: top;\n",
       "    }\n",
       "\n",
       "    .dataframe thead th {\n",
       "        text-align: right;\n",
       "    }\n",
       "</style>\n",
       "<table border=\"1\" class=\"dataframe\">\n",
       "  <thead>\n",
       "    <tr style=\"text-align: right;\">\n",
       "      <th></th>\n",
       "      <th>chutes</th>\n",
       "      <th>gols</th>\n",
       "    </tr>\n",
       "  </thead>\n",
       "  <tbody>\n",
       "    <tr>\n",
       "      <th>chutes</th>\n",
       "      <td>1.000000</td>\n",
       "      <td>0.187737</td>\n",
       "    </tr>\n",
       "    <tr>\n",
       "      <th>gols</th>\n",
       "      <td>0.187737</td>\n",
       "      <td>1.000000</td>\n",
       "    </tr>\n",
       "  </tbody>\n",
       "</table>\n",
       "</div>"
      ],
      "text/plain": [
       "          chutes      gols\n",
       "chutes  1.000000  0.187737\n",
       "gols    0.187737  1.000000"
      ]
     },
     "execution_count": 951,
     "metadata": {},
     "output_type": "execute_result"
    }
   ],
   "source": [
    "df_aux41.corr()"
   ]
  },
  {
   "cell_type": "code",
   "execution_count": 952,
   "id": "f6ff76a9",
   "metadata": {
    "ExecuteTime": {
     "end_time": "2022-03-25T17:33:50.640098Z",
     "start_time": "2022-03-25T17:33:50.629683Z"
    }
   },
   "outputs": [],
   "source": [
    "top_kicks_mean = df_aux41.groupby('clube').mean().sort_values('chutes', ascending=False)\n",
    "top_kicks_sum = df_aux41.groupby('clube').sum().sort_values('gols', ascending=False)"
   ]
  },
  {
   "cell_type": "code",
   "execution_count": 953,
   "id": "b2eae220",
   "metadata": {
    "ExecuteTime": {
     "end_time": "2022-03-25T17:33:51.399282Z",
     "start_time": "2022-03-25T17:33:51.384259Z"
    }
   },
   "outputs": [
    {
     "name": "stdout",
     "output_type": "stream",
     "text": [
      "Correlação entre as Médias\n"
     ]
    },
    {
     "data": {
      "text/html": [
       "<div>\n",
       "<style scoped>\n",
       "    .dataframe tbody tr th:only-of-type {\n",
       "        vertical-align: middle;\n",
       "    }\n",
       "\n",
       "    .dataframe tbody tr th {\n",
       "        vertical-align: top;\n",
       "    }\n",
       "\n",
       "    .dataframe thead th {\n",
       "        text-align: right;\n",
       "    }\n",
       "</style>\n",
       "<table border=\"1\" class=\"dataframe\">\n",
       "  <thead>\n",
       "    <tr style=\"text-align: right;\">\n",
       "      <th></th>\n",
       "      <th>chutes</th>\n",
       "      <th>gols</th>\n",
       "    </tr>\n",
       "  </thead>\n",
       "  <tbody>\n",
       "    <tr>\n",
       "      <th>chutes</th>\n",
       "      <td>1.000000</td>\n",
       "      <td>0.770229</td>\n",
       "    </tr>\n",
       "    <tr>\n",
       "      <th>gols</th>\n",
       "      <td>0.770229</td>\n",
       "      <td>1.000000</td>\n",
       "    </tr>\n",
       "  </tbody>\n",
       "</table>\n",
       "</div>"
      ],
      "text/plain": [
       "          chutes      gols\n",
       "chutes  1.000000  0.770229\n",
       "gols    0.770229  1.000000"
      ]
     },
     "execution_count": 953,
     "metadata": {},
     "output_type": "execute_result"
    }
   ],
   "source": [
    "print('Correlação entre as Médias')\n",
    "top_kicks_mean.corr()"
   ]
  },
  {
   "cell_type": "code",
   "execution_count": 954,
   "id": "b23704cc",
   "metadata": {
    "ExecuteTime": {
     "end_time": "2022-03-25T17:33:52.469142Z",
     "start_time": "2022-03-25T17:33:52.456094Z"
    }
   },
   "outputs": [
    {
     "name": "stdout",
     "output_type": "stream",
     "text": [
      "Correlação entre as somas\n"
     ]
    },
    {
     "data": {
      "text/html": [
       "<div>\n",
       "<style scoped>\n",
       "    .dataframe tbody tr th:only-of-type {\n",
       "        vertical-align: middle;\n",
       "    }\n",
       "\n",
       "    .dataframe tbody tr th {\n",
       "        vertical-align: top;\n",
       "    }\n",
       "\n",
       "    .dataframe thead th {\n",
       "        text-align: right;\n",
       "    }\n",
       "</style>\n",
       "<table border=\"1\" class=\"dataframe\">\n",
       "  <thead>\n",
       "    <tr style=\"text-align: right;\">\n",
       "      <th></th>\n",
       "      <th>chutes</th>\n",
       "      <th>gols</th>\n",
       "    </tr>\n",
       "  </thead>\n",
       "  <tbody>\n",
       "    <tr>\n",
       "      <th>chutes</th>\n",
       "      <td>1.00000</td>\n",
       "      <td>0.98131</td>\n",
       "    </tr>\n",
       "    <tr>\n",
       "      <th>gols</th>\n",
       "      <td>0.98131</td>\n",
       "      <td>1.00000</td>\n",
       "    </tr>\n",
       "  </tbody>\n",
       "</table>\n",
       "</div>"
      ],
      "text/plain": [
       "         chutes     gols\n",
       "chutes  1.00000  0.98131\n",
       "gols    0.98131  1.00000"
      ]
     },
     "execution_count": 954,
     "metadata": {},
     "output_type": "execute_result"
    }
   ],
   "source": [
    "print('Correlação entre as somas')\n",
    "top_kicks_sum.corr()"
   ]
  },
  {
   "cell_type": "code",
   "execution_count": 955,
   "id": "6201eee6",
   "metadata": {
    "ExecuteTime": {
     "end_time": "2022-03-25T17:33:54.570473Z",
     "start_time": "2022-03-25T17:33:54.320122Z"
    }
   },
   "outputs": [
    {
     "data": {
      "image/png": "[encoded data removed]",
      "text/plain": [
       "<Figure size 864x288 with 2 Axes>"
      ]
     },
     "metadata": {
      "needs_background": "light"
     },
     "output_type": "display_data"
    }
   ],
   "source": [
    "plt.figure(figsize=(12,4));\n",
    "\n",
    "plt.subplot(1,2,1);\n",
    "plt.scatter(x=top_kicks_mean.chutes, y=top_kicks_mean.gols);\n",
    "plt.ylabel('Chutes');\n",
    "plt.xlabel('Gols');\n",
    "plt.title('Dispersão Média de Chutes x Média de Gols');\n",
    "\n",
    "\n",
    "plt.subplot(1,2,2);\n",
    "plt.scatter(x=top_kicks_sum.chutes, y=top_kicks_sum.gols);\n",
    "plt.ylabel('Chutes');\n",
    "plt.xlabel('Gols');\n",
    "plt.title('Dispersão Soma de Chutes x Soma de Gols');"
   ]
  },
  {
   "cell_type": "markdown",
   "id": "9c705ac8",
   "metadata": {},
   "source": [
    "<b> Constatações </b>\n",
    "- Numericamente, dadas as características do futebol em ser um jogo de baixa pontuação, não há correlação forte entre o número de chutes e o número de gols, quando os números são avaliados por partida.\n",
    "- Entretanto, ao comparar os valores agregados pela média ou pela soma, nota-se que há forte correlação entre as duas variáveis."
   ]
  },
  {
   "cell_type": "markdown",
   "id": "12f6f780",
   "metadata": {
    "ExecuteTime": {
     "end_time": "2022-03-23T20:04:11.040515Z",
     "start_time": "2022-03-23T20:04:11.035041Z"
    }
   },
   "source": [
    "<b> Conclusão: </b> parcialmente confirmada\n",
    "- As evidências apontam que os times que mais chutam são os que possuem maior quantidade de gols marcados;\n",
    "- Apesar de ser fraca a correlação por partida, este fator é decisivo em longo prazo (média e acumulado)."
   ]
  },
  {
   "cell_type": "markdown",
   "id": "5700aa4a",
   "metadata": {},
   "source": [
    "## 4.3 O time que é mais chuta é o mais vencedor"
   ]
  },
  {
   "cell_type": "code",
   "execution_count": 956,
   "id": "36042407",
   "metadata": {
    "ExecuteTime": {
     "end_time": "2022-03-25T17:34:26.059087Z",
     "start_time": "2022-03-25T17:34:25.730671Z"
    }
   },
   "outputs": [],
   "source": [
    "df_aux42_mandante = df_aux4[['temporada', 'mandante', 'vencedor']]\n",
    "df_aux42_mandante.loc[:,'venceu'] = df_aux42_mandante.apply(win, axis = 1)\n",
    "\n",
    "df_aux42_visitante = df_aux4[['temporada', 'visitante', 'vencedor']]\n",
    "df_aux42_visitante.loc[:,'venceu'] = df_aux42_visitante.apply(win, axis = 1)\n",
    "\n",
    "df_aux42_visitante = df_aux42_visitante.rename(columns={'visitante': 'clube'})\n",
    "df_aux42_mandante = df_aux42_mandante.rename(columns={'mandante': 'clube'})\n",
    "\n",
    "df_aux42 = pd.concat([df_aux42_mandante, df_aux42_visitante], axis=0).drop('vencedor', axis = 1)\n",
    "df_aux42 = df_aux42.reset_index(drop=True)"
   ]
  },
  {
   "cell_type": "code",
   "execution_count": 957,
   "id": "86b194f8",
   "metadata": {
    "ExecuteTime": {
     "end_time": "2022-03-25T17:34:27.286091Z",
     "start_time": "2022-03-25T17:34:27.267816Z"
    }
   },
   "outputs": [],
   "source": [
    "# criando variaveis auxiliares e contando as vitorias\n",
    "df_aux421 = pd.DataFrame(df_aux42.groupby(['temporada', 'clube']).value_counts()).reset_index()\n",
    "df_aux421 = df_aux421[df_aux421['venceu'] == 1].rename(columns={0: 'n_vitorias'}).drop('venceu', axis = 1)\n",
    "df_aux421 = df_aux421.groupby(['clube']).sum().drop('temporada', axis = 1)"
   ]
  },
  {
   "cell_type": "code",
   "execution_count": 959,
   "id": "82ef5bb0",
   "metadata": {
    "ExecuteTime": {
     "end_time": "2022-03-25T17:35:30.817387Z",
     "start_time": "2022-03-25T17:35:30.804050Z"
    }
   },
   "outputs": [
    {
     "data": {
      "text/html": [
       "<div>\n",
       "<style scoped>\n",
       "    .dataframe tbody tr th:only-of-type {\n",
       "        vertical-align: middle;\n",
       "    }\n",
       "\n",
       "    .dataframe tbody tr th {\n",
       "        vertical-align: top;\n",
       "    }\n",
       "\n",
       "    .dataframe thead th {\n",
       "        text-align: right;\n",
       "    }\n",
       "</style>\n",
       "<table border=\"1\" class=\"dataframe\">\n",
       "  <thead>\n",
       "    <tr style=\"text-align: right;\">\n",
       "      <th></th>\n",
       "      <th>n_vitorias</th>\n",
       "      <th>chutes_sum</th>\n",
       "    </tr>\n",
       "    <tr>\n",
       "      <th>clube</th>\n",
       "      <th></th>\n",
       "      <th></th>\n",
       "    </tr>\n",
       "  </thead>\n",
       "  <tbody>\n",
       "    <tr>\n",
       "      <th>America-MG</th>\n",
       "      <td>30</td>\n",
       "      <td>1405.0</td>\n",
       "    </tr>\n",
       "    <tr>\n",
       "      <th>Athletico-PR</th>\n",
       "      <td>97</td>\n",
       "      <td>3096.0</td>\n",
       "    </tr>\n",
       "    <tr>\n",
       "      <th>Atletico-GO</th>\n",
       "      <td>34</td>\n",
       "      <td>1344.0</td>\n",
       "    </tr>\n",
       "    <tr>\n",
       "      <th>Atletico-MG</th>\n",
       "      <td>127</td>\n",
       "      <td>3753.0</td>\n",
       "    </tr>\n",
       "    <tr>\n",
       "      <th>Avai</th>\n",
       "      <td>23</td>\n",
       "      <td>1308.0</td>\n",
       "    </tr>\n",
       "  </tbody>\n",
       "</table>\n",
       "</div>"
      ],
      "text/plain": [
       "              n_vitorias  chutes_sum\n",
       "clube                               \n",
       "America-MG            30      1405.0\n",
       "Athletico-PR          97      3096.0\n",
       "Atletico-GO           34      1344.0\n",
       "Atletico-MG          127      3753.0\n",
       "Avai                  23      1308.0"
      ]
     },
     "execution_count": 959,
     "metadata": {},
     "output_type": "execute_result"
    }
   ],
   "source": [
    "df_aux_422 = pd.concat([df_aux421, top_kicks_sum.rename(columns={'chutes': 'chutes_sum'})[['chutes_sum']]], axis = 1)\n",
    "df_aux_422.head()"
   ]
  },
  {
   "cell_type": "code",
   "execution_count": 960,
   "id": "28ccd257",
   "metadata": {
    "ExecuteTime": {
     "end_time": "2022-03-25T17:35:36.654157Z",
     "start_time": "2022-03-25T17:35:36.641479Z"
    }
   },
   "outputs": [
    {
     "data": {
      "text/html": [
       "<div>\n",
       "<style scoped>\n",
       "    .dataframe tbody tr th:only-of-type {\n",
       "        vertical-align: middle;\n",
       "    }\n",
       "\n",
       "    .dataframe tbody tr th {\n",
       "        vertical-align: top;\n",
       "    }\n",
       "\n",
       "    .dataframe thead th {\n",
       "        text-align: right;\n",
       "    }\n",
       "</style>\n",
       "<table border=\"1\" class=\"dataframe\">\n",
       "  <thead>\n",
       "    <tr style=\"text-align: right;\">\n",
       "      <th></th>\n",
       "      <th>n_vitorias</th>\n",
       "      <th>chutes_sum</th>\n",
       "    </tr>\n",
       "  </thead>\n",
       "  <tbody>\n",
       "    <tr>\n",
       "      <th>n_vitorias</th>\n",
       "      <td>1.000000</td>\n",
       "      <td>0.971627</td>\n",
       "    </tr>\n",
       "    <tr>\n",
       "      <th>chutes_sum</th>\n",
       "      <td>0.971627</td>\n",
       "      <td>1.000000</td>\n",
       "    </tr>\n",
       "  </tbody>\n",
       "</table>\n",
       "</div>"
      ],
      "text/plain": [
       "            n_vitorias  chutes_sum\n",
       "n_vitorias    1.000000    0.971627\n",
       "chutes_sum    0.971627    1.000000"
      ]
     },
     "execution_count": 960,
     "metadata": {},
     "output_type": "execute_result"
    }
   ],
   "source": [
    "df_aux_422.corr()"
   ]
  },
  {
   "cell_type": "markdown",
   "id": "758d3c4d",
   "metadata": {},
   "source": [
    "<b> Conclusão: </b> confirmada.\n",
    "- A variável da soma de chutes por time tem uma correlação forte com o número de vitórias"
   ]
  },
  {
   "cell_type": "markdown",
   "id": "24c36aec",
   "metadata": {},
   "source": [
    "#  5.0 Feature Engineering"
   ]
  },
  {
   "cell_type": "code",
   "execution_count": 1129,
   "id": "45a9d0b0",
   "metadata": {
    "ExecuteTime": {
     "end_time": "2022-03-25T18:13:16.353861Z",
     "start_time": "2022-03-25T18:13:16.333941Z"
    }
   },
   "outputs": [
    {
     "data": {
      "text/plain": [
       "formacao_mandante     4\n",
       "formacao_visitante    4\n",
       "tecnico_mandante      1\n",
       "tecnico_visitante     1\n",
       "dtype: int64"
      ]
     },
     "execution_count": 1129,
     "metadata": {},
     "output_type": "execute_result"
    }
   ],
   "source": [
    "# Verificando se existem na no dataset\n",
    "df3_full.isna().sum()[df3_full.isna().sum() > 0]"
   ]
  },
  {
   "cell_type": "code",
   "execution_count": 1130,
   "id": "2b6eccec",
   "metadata": {
    "ExecuteTime": {
     "end_time": "2022-03-25T18:13:16.556623Z",
     "start_time": "2022-03-25T18:13:16.548208Z"
    }
   },
   "outputs": [
    {
     "data": {
      "text/plain": [
       "['ID',\n",
       " 'rodada',\n",
       " 'data',\n",
       " 'hora',\n",
       " 'temporada',\n",
       " 'dia',\n",
       " 'mandante',\n",
       " 'visitante',\n",
       " 'formacao_mandante',\n",
       " 'formacao_visitante',\n",
       " 'tecnico_mandante',\n",
       " 'tecnico_visitante',\n",
       " 'vencedor',\n",
       " 'arena',\n",
       " 'mandante_placar',\n",
       " 'visitante_placar',\n",
       " 'mandante_estado',\n",
       " 'visitante_estado',\n",
       " 'estado_vencedor',\n",
       " 'total_de_gols']"
      ]
     },
     "execution_count": 1130,
     "metadata": {},
     "output_type": "execute_result"
    }
   ],
   "source": [
    "df3_full.columns.tolist()"
   ]
  },
  {
   "cell_type": "code",
   "execution_count": 1131,
   "id": "452c9327",
   "metadata": {
    "ExecuteTime": {
     "end_time": "2022-03-25T18:13:16.768325Z",
     "start_time": "2022-03-25T18:13:16.764071Z"
    }
   },
   "outputs": [],
   "source": [
    "# Optou-se aqui por remover estas features\n",
    "df5 = df3_full.drop(['formacao_mandante',\n",
    "                     'formacao_visitante',\n",
    "                     'tecnico_mandante',\n",
    "                     'tecnico_visitante',\n",
    "                     #'mandante_placar',\n",
    "                     #'visitante_placar',\n",
    "                     'estado_vencedor',\n",
    "                     'total_de_gols'], axis = 1)"
   ]
  },
  {
   "cell_type": "markdown",
   "id": "ebfaba99",
   "metadata": {},
   "source": [
    "Baseado no artigo referenciado abaixo, as seguintes features serão criadas:\n",
    "- Número de vitórias na temporada;\n",
    "- Número de derrotas do time na temporada;\n",
    "- Número de empates do time na temporada;\n",
    "- Número de vitórias do time em casa (%);\n",
    "- Número de vitórias do time fora de casa (%);\n",
    "- Número de empates do time em casa (%);\n",
    "- Número de empates do time fora de casa (%);\n",
    "- Número de derrotas do time em casa (%);\n",
    "- Número de derrotas do time fora de casa (%);\n",
    "- Sequência de vitórias em casa do time mandante;\n",
    "- Sequência de vitórias em casa do time visitante;\n",
    "- Sequência sem vitórias fora de casa do time mandante;\n",
    "- Sequência sem vitórias fora de casa do time visitante;\n",
    "- O time jogou na última temporada;\n",
    "- Dias desde o último jogo;\n",
    "- Gols marcados essa temporada jogando em casa;\n",
    "- Gols marcados essa temporada jogando fora de casa;\n",
    "- Gols sofridos essa temporada jogando em casa;\n",
    "- Gols sofridos essa temporada jogando fora de casa;\n",
    "- Número de vitórias do mandante contra o adversário;\n",
    "- Número de vitórias do visitante contra o adversário."
   ]
  },
  {
   "cell_type": "markdown",
   "id": "c5e2add6",
   "metadata": {},
   "source": [
    "## 5.1 Wins, loss and draw games "
   ]
  },
  {
   "cell_type": "code",
   "execution_count": 1132,
   "id": "0b555f6f",
   "metadata": {
    "ExecuteTime": {
     "end_time": "2022-03-25T18:13:29.583320Z",
     "start_time": "2022-03-25T18:13:17.841253Z"
    }
   },
   "outputs": [],
   "source": [
    "pd.options.mode.chained_assignment = None\n",
    "\n",
    "temporadas = df5['temporada'].value_counts().index.sort_values().values\n",
    "\n",
    "df5['mandante_vitorias'] = df5['mandante']\n",
    "df5['visitante_vitorias'] = df5['mandante']\n",
    "\n",
    "df5['mandante_derrotas'] = df5['mandante']\n",
    "df5['visitante_derrotas'] = df5['mandante']\n",
    "\n",
    "df5['mandante_empates'] = df5['mandante']\n",
    "df5['visitante_empates'] = df5['mandante']\n",
    "\n",
    "for temporada in temporadas:\n",
    "    dft = df5[df5['temporada'] == temporada]\n",
    "    \n",
    "    for index, row in dft.iterrows():\n",
    "        df_home = dft[(dft['rodada'] < row['rodada']) & (dft['mandante'] == row['mandante'])]\n",
    "        c1_wins = 0\n",
    "        c1_loss = 0\n",
    "        c1_draw = 0\n",
    "        for index2, row2 in df_home.iterrows():\n",
    "            if row2['vencedor'] == 0:\n",
    "                c1_draw+=1\n",
    "            elif row2['vencedor'] == 1:\n",
    "                c1_wins+=1\n",
    "            elif row2['vencedor'] == 2:\n",
    "                c1_loss+=1\n",
    "\n",
    "        df_away = dft[(dft['rodada'] < row['rodada']) & (dft['visitante'] == row['mandante'])]\n",
    "        for index2, row2 in df_away.iterrows():\n",
    "            if row2['vencedor'] == 1:\n",
    "                c1_loss+=1                \n",
    "            elif row2['vencedor'] == 0:\n",
    "                c1_draw+=1\n",
    "            elif row2['vencedor'] == 2:\n",
    "                c1_wins+=1\n",
    "\n",
    "\n",
    "        df_home = dft[(dft['rodada'] < row['rodada']) & (dft['mandante'] == row['visitante'])]\n",
    "        c2_wins = 0\n",
    "        c2_loss = 0\n",
    "        c2_draw = 0\n",
    "        for index2, row2 in df_home.iterrows():\n",
    "            if row2['vencedor'] == 0:\n",
    "                c2_draw+=1\n",
    "            elif row2['vencedor'] == 1:\n",
    "                c2_wins+=1                \n",
    "            elif row2['vencedor'] == 2:\n",
    "                c2_loss+=1\n",
    "\n",
    "        df_away = dft[(dft['rodada'] < row['rodada']) & (dft['visitante'] == row['visitante'])]\n",
    "        for index2, row2 in df_away.iterrows():\n",
    "            if row2['vencedor'] == 1:\n",
    "                c2_loss+=1                \n",
    "            elif row2['vencedor'] == 0:\n",
    "                c2_draw+=1\n",
    "            elif row2['vencedor'] == 2:\n",
    "                c2_wins+=1\n",
    "                \n",
    "\n",
    "\n",
    "        df5.at[index, 'mandante_vitorias'] = c1_wins\n",
    "        df5.at[index, 'visitante_vitorias'] = c2_wins\n",
    "        \n",
    "        df5.at[index, 'mandante_derrotas'] = c1_loss\n",
    "        df5.at[index, 'visitante_derrotas'] = c2_loss\n",
    "        \n",
    "        df5.at[index, 'mandante_empates'] = c1_draw\n",
    "        df5.at[index, 'visitante_empates'] = c2_draw"
   ]
  },
  {
   "cell_type": "code",
   "execution_count": 1133,
   "id": "712c26e4",
   "metadata": {
    "ExecuteTime": {
     "end_time": "2022-03-25T18:13:29.601318Z",
     "start_time": "2022-03-25T18:13:29.586028Z"
    }
   },
   "outputs": [
    {
     "data": {
      "text/html": [
       "<div>\n",
       "<style scoped>\n",
       "    .dataframe tbody tr th:only-of-type {\n",
       "        vertical-align: middle;\n",
       "    }\n",
       "\n",
       "    .dataframe tbody tr th {\n",
       "        vertical-align: top;\n",
       "    }\n",
       "\n",
       "    .dataframe thead th {\n",
       "        text-align: right;\n",
       "    }\n",
       "</style>\n",
       "<table border=\"1\" class=\"dataframe\">\n",
       "  <thead>\n",
       "    <tr style=\"text-align: right;\">\n",
       "      <th></th>\n",
       "      <th>ID</th>\n",
       "      <th>rodada</th>\n",
       "      <th>data</th>\n",
       "      <th>hora</th>\n",
       "      <th>temporada</th>\n",
       "      <th>dia</th>\n",
       "      <th>mandante</th>\n",
       "      <th>visitante</th>\n",
       "      <th>vencedor</th>\n",
       "      <th>arena</th>\n",
       "      <th>mandante_placar</th>\n",
       "      <th>visitante_placar</th>\n",
       "      <th>mandante_estado</th>\n",
       "      <th>visitante_estado</th>\n",
       "      <th>mandante_vitorias</th>\n",
       "      <th>visitante_vitorias</th>\n",
       "      <th>mandante_derrotas</th>\n",
       "      <th>visitante_derrotas</th>\n",
       "      <th>mandante_empates</th>\n",
       "      <th>visitante_empates</th>\n",
       "    </tr>\n",
       "  </thead>\n",
       "  <tbody>\n",
       "    <tr>\n",
       "      <th>0</th>\n",
       "      <td>4987</td>\n",
       "      <td>1</td>\n",
       "      <td>2015-05-09</td>\n",
       "      <td>18:32</td>\n",
       "      <td>2015</td>\n",
       "      <td>Sabado</td>\n",
       "      <td>Chapecoense</td>\n",
       "      <td>Coritiba</td>\n",
       "      <td>1</td>\n",
       "      <td>arena conda</td>\n",
       "      <td>2</td>\n",
       "      <td>1</td>\n",
       "      <td>SC</td>\n",
       "      <td>PR</td>\n",
       "      <td>0</td>\n",
       "      <td>0</td>\n",
       "      <td>0</td>\n",
       "      <td>0</td>\n",
       "      <td>0</td>\n",
       "      <td>0</td>\n",
       "    </tr>\n",
       "    <tr>\n",
       "      <th>1</th>\n",
       "      <td>4988</td>\n",
       "      <td>1</td>\n",
       "      <td>2015-05-09</td>\n",
       "      <td>18:33</td>\n",
       "      <td>2015</td>\n",
       "      <td>Sabado</td>\n",
       "      <td>Palmeiras</td>\n",
       "      <td>Atletico-MG</td>\n",
       "      <td>0</td>\n",
       "      <td>allianz parque</td>\n",
       "      <td>2</td>\n",
       "      <td>2</td>\n",
       "      <td>SP</td>\n",
       "      <td>MG</td>\n",
       "      <td>0</td>\n",
       "      <td>0</td>\n",
       "      <td>0</td>\n",
       "      <td>0</td>\n",
       "      <td>0</td>\n",
       "      <td>0</td>\n",
       "    </tr>\n",
       "    <tr>\n",
       "      <th>2</th>\n",
       "      <td>4989</td>\n",
       "      <td>1</td>\n",
       "      <td>2015-05-09</td>\n",
       "      <td>21:00</td>\n",
       "      <td>2015</td>\n",
       "      <td>Sabado</td>\n",
       "      <td>Fluminense</td>\n",
       "      <td>Joinville</td>\n",
       "      <td>1</td>\n",
       "      <td>maracana</td>\n",
       "      <td>1</td>\n",
       "      <td>0</td>\n",
       "      <td>RJ</td>\n",
       "      <td>SC</td>\n",
       "      <td>0</td>\n",
       "      <td>0</td>\n",
       "      <td>0</td>\n",
       "      <td>0</td>\n",
       "      <td>0</td>\n",
       "      <td>0</td>\n",
       "    </tr>\n",
       "    <tr>\n",
       "      <th>3</th>\n",
       "      <td>4990</td>\n",
       "      <td>1</td>\n",
       "      <td>2015-05-10</td>\n",
       "      <td>11:00</td>\n",
       "      <td>2015</td>\n",
       "      <td>Domingo</td>\n",
       "      <td>Gremio</td>\n",
       "      <td>Ponte Preta</td>\n",
       "      <td>0</td>\n",
       "      <td>arena do gremio</td>\n",
       "      <td>3</td>\n",
       "      <td>3</td>\n",
       "      <td>RS</td>\n",
       "      <td>SP</td>\n",
       "      <td>0</td>\n",
       "      <td>0</td>\n",
       "      <td>0</td>\n",
       "      <td>0</td>\n",
       "      <td>0</td>\n",
       "      <td>0</td>\n",
       "    </tr>\n",
       "    <tr>\n",
       "      <th>4</th>\n",
       "      <td>4991</td>\n",
       "      <td>1</td>\n",
       "      <td>2015-05-10</td>\n",
       "      <td>16:00</td>\n",
       "      <td>2015</td>\n",
       "      <td>Domingo</td>\n",
       "      <td>Athletico-PR</td>\n",
       "      <td>Internacional</td>\n",
       "      <td>1</td>\n",
       "      <td>estadio joaquim americo guimaraes</td>\n",
       "      <td>3</td>\n",
       "      <td>0</td>\n",
       "      <td>PR</td>\n",
       "      <td>RS</td>\n",
       "      <td>0</td>\n",
       "      <td>0</td>\n",
       "      <td>0</td>\n",
       "      <td>0</td>\n",
       "      <td>0</td>\n",
       "      <td>0</td>\n",
       "    </tr>\n",
       "  </tbody>\n",
       "</table>\n",
       "</div>"
      ],
      "text/plain": [
       "     ID  rodada       data   hora  temporada      dia      mandante  \\\n",
       "0  4987       1 2015-05-09  18:32       2015   Sabado   Chapecoense   \n",
       "1  4988       1 2015-05-09  18:33       2015   Sabado     Palmeiras   \n",
       "2  4989       1 2015-05-09  21:00       2015   Sabado    Fluminense   \n",
       "3  4990       1 2015-05-10  11:00       2015  Domingo        Gremio   \n",
       "4  4991       1 2015-05-10  16:00       2015  Domingo  Athletico-PR   \n",
       "\n",
       "       visitante  vencedor                              arena  \\\n",
       "0       Coritiba         1                        arena conda   \n",
       "1    Atletico-MG         0                     allianz parque   \n",
       "2      Joinville         1                           maracana   \n",
       "3    Ponte Preta         0                    arena do gremio   \n",
       "4  Internacional         1  estadio joaquim americo guimaraes   \n",
       "\n",
       "   mandante_placar  visitante_placar mandante_estado visitante_estado  \\\n",
       "0                2                 1              SC               PR   \n",
       "1                2                 2              SP               MG   \n",
       "2                1                 0              RJ               SC   \n",
       "3                3                 3              RS               SP   \n",
       "4                3                 0              PR               RS   \n",
       "\n",
       "  mandante_vitorias visitante_vitorias mandante_derrotas visitante_derrotas  \\\n",
       "0                 0                  0                 0                  0   \n",
       "1                 0                  0                 0                  0   \n",
       "2                 0                  0                 0                  0   \n",
       "3                 0                  0                 0                  0   \n",
       "4                 0                  0                 0                  0   \n",
       "\n",
       "  mandante_empates visitante_empates  \n",
       "0                0                 0  \n",
       "1                0                 0  \n",
       "2                0                 0  \n",
       "3                0                 0  \n",
       "4                0                 0  "
      ]
     },
     "execution_count": 1133,
     "metadata": {},
     "output_type": "execute_result"
    }
   ],
   "source": [
    "df5.head()"
   ]
  },
  {
   "cell_type": "markdown",
   "id": "c39d7711",
   "metadata": {},
   "source": [
    "## 5.2 Wins, loss and draw games as home or away team"
   ]
  },
  {
   "cell_type": "code",
   "execution_count": 1134,
   "id": "4090095a",
   "metadata": {
    "ExecuteTime": {
     "end_time": "2022-03-25T18:13:29.717544Z",
     "start_time": "2022-03-25T18:13:29.603032Z"
    }
   },
   "outputs": [],
   "source": [
    "def find_wins_home(ser):\n",
    "    wins = [0]\n",
    "    \n",
    "    [wins.append(wins[-1]+1) if win==0 else wins.append(wins[-1]) for win in ser.values]\n",
    "    \n",
    "    return wins[0:-1]\n",
    "\n",
    "def find_wins_away(ser):\n",
    "    wins = [0]\n",
    "    \n",
    "    [wins.append(wins[-1]+1) if win==1 else wins.append(wins[-1]) for win in ser.values]\n",
    "    \n",
    "    return wins[0:-1]\n",
    "\n",
    "def find_draws(ser):\n",
    "    wins = [0]\n",
    "    \n",
    "    [wins.append(wins[-1]+1) if win==2 else wins.append(wins[-1]) for win in ser.values]\n",
    "    \n",
    "    return wins[0:-1]\n",
    "\n",
    "df5['vitorias_como_mandante'] = df5.groupby(['temporada', 'mandante'])['vencedor'].transform(lambda x: find_wins_home(x))\n",
    "df5['derrotas_como_mandante'] = df5.groupby(['temporada', 'mandante'])['vencedor'].transform(lambda x: find_wins_away(x))\n",
    "df5['vitorias_como_visitante'] = df5.groupby(['temporada', 'visitante'])['vencedor'].transform(lambda x: find_wins_away(x))\n",
    "df5['derrotas_como_visitante'] = df5.groupby(['temporada', 'visitante'])['vencedor'].transform(lambda x: find_wins_home(x))\n",
    "df5['empates_como_mandante'] = df5.groupby(['temporada', 'mandante'])['vencedor'].transform(lambda x: find_draws(x)) \n",
    "df5['empates_como_visitante'] = df5.groupby(['temporada', 'visitante'])['vencedor'].transform(lambda x: find_draws(x))"
   ]
  },
  {
   "cell_type": "markdown",
   "id": "72d1325c",
   "metadata": {},
   "source": [
    "## 5.3 Wins streaks "
   ]
  },
  {
   "cell_type": "code",
   "execution_count": 1135,
   "id": "9339210c",
   "metadata": {
    "ExecuteTime": {
     "end_time": "2022-03-25T18:13:29.730739Z",
     "start_time": "2022-03-25T18:13:29.720999Z"
    }
   },
   "outputs": [],
   "source": [
    "df5['vitorias_do_mandante'] = [1 if x == 0 else 0 for x in df5['vencedor'].values]\n",
    "df5['vitorias_do_visitante'] = [1 if x == 1 else 0 for x in df5['vencedor'].values]"
   ]
  },
  {
   "cell_type": "code",
   "execution_count": 1136,
   "id": "1bea721b",
   "metadata": {
    "ExecuteTime": {
     "end_time": "2022-03-25T18:13:29.810922Z",
     "start_time": "2022-03-25T18:13:29.732326Z"
    }
   },
   "outputs": [],
   "source": [
    "def find_streak(ser):\n",
    "    streak = [0]\n",
    "    \n",
    "    [streak.append(streak[-1]+1) if win==1 else streak.append(0) for win in ser.values]\n",
    "    \n",
    "    return streak[0:-1]\n",
    "\n",
    "df5['mandante_sequencia_vitorias'] =  df5.groupby(['temporada', 'mandante'])['vitorias_do_mandante'].transform(lambda x: find_streak(x))\n",
    "df5['mandante_sequencia_derrotas'] =  df5.groupby(['temporada', 'mandante'])['vitorias_do_visitante'].transform(lambda x: find_streak(x))\n",
    "df5['visitante_sequencia_vitorias'] = df5.groupby(['temporada', 'visitante'])['vitorias_do_visitante'].transform(lambda x: find_streak(x))\n",
    "df5['visitante_sequencia_derrotas'] = df5.groupby(['temporada', 'visitante'])['vitorias_do_mandante'].transform(lambda x: find_streak(x))\n"
   ]
  },
  {
   "cell_type": "markdown",
   "id": "5be0389e",
   "metadata": {},
   "source": [
    "## 5.4 Goals "
   ]
  },
  {
   "cell_type": "code",
   "execution_count": 1137,
   "id": "e7e5d06b",
   "metadata": {
    "ExecuteTime": {
     "end_time": "2022-03-25T18:13:29.890484Z",
     "start_time": "2022-03-25T18:13:29.812604Z"
    }
   },
   "outputs": [],
   "source": [
    "def find_goals(ser):\n",
    "    goals = [0]\n",
    "    \n",
    "    [goals.append(goals[-1]+goal) for goal in ser.values]\n",
    "    \n",
    "    return goals[0:-1]\n",
    "\n",
    "df5['gols_marcados_mandante'] =  df5.groupby(['temporada', 'mandante'])['mandante_placar'].transform(lambda x: find_goals(x))\n",
    "df5['gols_sofridos_mandante'] =  df5.groupby(['temporada', 'mandante'])['visitante_placar'].transform(lambda x: find_goals(x))\n",
    "\n",
    "df5['gols_marcados_visitante'] = df5.groupby(['temporada', 'visitante'])['visitante_placar'].transform(lambda x: find_goals(x))\n",
    "df5['gols_sofridos_visitante'] = df5.groupby(['temporada', 'visitante'])['mandante_placar'].transform(lambda x: find_goals(x))"
   ]
  },
  {
   "cell_type": "markdown",
   "id": "ff616ea3",
   "metadata": {},
   "source": [
    "## 5.5 Days since last game "
   ]
  },
  {
   "cell_type": "code",
   "execution_count": 1138,
   "id": "c1de4faf",
   "metadata": {
    "ExecuteTime": {
     "end_time": "2022-03-25T18:13:37.792951Z",
     "start_time": "2022-03-25T18:13:29.892078Z"
    }
   },
   "outputs": [],
   "source": [
    "temporadas = df5['temporada'].value_counts().index.sort_values().values\n",
    "\n",
    "\n",
    "df5['dias_entre_jogos_mandante'] = 0\n",
    "df5['dias_entre_jogos_visitante'] = 0\n",
    "\n",
    "\n",
    "for temporada in temporadas:\n",
    "    dft = df5[df5['temporada'] == temporada]\n",
    "    \n",
    "    for index, row in dft.iterrows():\n",
    "        dfc = dft[(dft['data'] <= row['data']) & ((dft['mandante'] == row['mandante']) | (dft['visitante'] == row['mandante']))]\n",
    "        days_bet = ((dfc['data'] - dfc['data'].shift()).dt.days).values[-1]\n",
    "        if math.isnan(days_bet):\n",
    "            df5.at[index, 'dias_entre_jogos_mandante'] = 5\n",
    "        else:\n",
    "            df5.at[index, 'dias_entre_jogos_mandante'] = days_bet\n",
    "            \n",
    "        dfc = dft[(dft['data'] <= row['data']) & ((dft['mandante'] == row['visitante']) | (dft['visitante'] == row['visitante']))]\n",
    "        days_bet_away = ((dfc['data'] - dfc['data'].shift()).dt.days).values[-1]\n",
    "        if math.isnan(days_bet_away):\n",
    "            df5.at[index, 'dias_entre_jogos_visitante'] = 5\n",
    "        else:\n",
    "            df5.at[index, 'dias_entre_jogos_visitante'] = days_bet_away"
   ]
  },
  {
   "cell_type": "markdown",
   "id": "e582d1e2",
   "metadata": {},
   "source": [
    "## 5.6 Was promoted? "
   ]
  },
  {
   "cell_type": "code",
   "execution_count": 1139,
   "id": "655a4fa4",
   "metadata": {
    "ExecuteTime": {
     "end_time": "2022-03-25T18:13:39.077298Z",
     "start_time": "2022-03-25T18:13:37.794587Z"
    }
   },
   "outputs": [],
   "source": [
    "temporadas = df5['temporada'].value_counts().index.sort_values().values\n",
    "\n",
    "df5['mandante_subiu'] = 0\n",
    "df5['visitante_subiu'] = 0\n",
    "\n",
    "for temporada in temporadas[1:]:\n",
    "    dft = df5[df5['temporada'] == temporada]\n",
    "    \n",
    "    dfw = df5[df5['temporada'] == temporada-1]\n",
    "    \n",
    "    for index, row in dft.iterrows():\n",
    "        last_year_clubs = dfw['mandante'].value_counts().index.sort_values().values\n",
    "        \n",
    "        home_club = row['mandante']\n",
    "        if home_club in last_year_clubs:\n",
    "            df5.at[index, 'mandante_subiu'] = 0\n",
    "        else:\n",
    "            df5.at[index, 'mandante_subiu'] = 1\n",
    "        \n",
    "        away_club = row['visitante']\n",
    "        if away_club in last_year_clubs:\n",
    "            df5.at[index, 'visitante_subiu'] = 0\n",
    "        else:\n",
    "            df5.at[index, 'visitante_subiu'] = 1"
   ]
  },
  {
   "cell_type": "markdown",
   "id": "0c92759d",
   "metadata": {},
   "source": [
    "## 5.7 Confrontations "
   ]
  },
  {
   "cell_type": "code",
   "execution_count": 1140,
   "id": "f4f0def4",
   "metadata": {
    "ExecuteTime": {
     "end_time": "2022-03-25T18:13:41.150726Z",
     "start_time": "2022-03-25T18:13:39.079107Z"
    }
   },
   "outputs": [],
   "source": [
    "df5['mandante_vitorias_contra_visitante'] = 0\n",
    "df5['visitante_vitorias_contra_mandante'] = 0\n",
    "df5['empates_historico'] = 0\n",
    "\n",
    "clubs = df5['mandante'].value_counts().index.sort_values().values\n",
    "\n",
    "for club1 in clubs:\n",
    "    for club2 in clubs:\n",
    "        dfc = df5[((df5['mandante'] == club1) & (df5['visitante'] == club2)) | ((df5['visitante'] == club1) & (df5['mandante'] == club2))]\n",
    "        win_home = 0\n",
    "        win_away = 0\n",
    "        draws = 0\n",
    "        for index, row in dfc.iterrows():\n",
    "            df5.at[index, 'mandante_vitorias_contra_visitante'] = win_home\n",
    "            df5.at[index, 'visitante_vitorias_contra_mandante'] = win_away\n",
    "            df5.at[index, 'empates_historico'] = draws\n",
    "            \n",
    "            if row['vencedor'] == 0:\n",
    "                win_home +=1\n",
    "            elif row['vencedor'] == 1:\n",
    "                win_away +=1\n",
    "            else:\n",
    "                draws+=1"
   ]
  },
  {
   "cell_type": "markdown",
   "id": "f16a212d",
   "metadata": {},
   "source": [
    "## 5.8 Checking all features "
   ]
  },
  {
   "cell_type": "code",
   "execution_count": 1141,
   "id": "23c925d8",
   "metadata": {
    "ExecuteTime": {
     "end_time": "2022-03-25T18:13:41.168758Z",
     "start_time": "2022-03-25T18:13:41.152958Z"
    }
   },
   "outputs": [
    {
     "data": {
      "text/html": [
       "<div>\n",
       "<style scoped>\n",
       "    .dataframe tbody tr th:only-of-type {\n",
       "        vertical-align: middle;\n",
       "    }\n",
       "\n",
       "    .dataframe tbody tr th {\n",
       "        vertical-align: top;\n",
       "    }\n",
       "\n",
       "    .dataframe thead th {\n",
       "        text-align: right;\n",
       "    }\n",
       "</style>\n",
       "<table border=\"1\" class=\"dataframe\">\n",
       "  <thead>\n",
       "    <tr style=\"text-align: right;\">\n",
       "      <th></th>\n",
       "      <th>ID</th>\n",
       "      <th>rodada</th>\n",
       "      <th>data</th>\n",
       "      <th>hora</th>\n",
       "      <th>temporada</th>\n",
       "      <th>dia</th>\n",
       "      <th>mandante</th>\n",
       "      <th>visitante</th>\n",
       "      <th>vencedor</th>\n",
       "      <th>arena</th>\n",
       "      <th>...</th>\n",
       "      <th>gols_sofridos_mandante</th>\n",
       "      <th>gols_marcados_visitante</th>\n",
       "      <th>gols_sofridos_visitante</th>\n",
       "      <th>dias_entre_jogos_mandante</th>\n",
       "      <th>dias_entre_jogos_visitante</th>\n",
       "      <th>mandante_subiu</th>\n",
       "      <th>visitante_subiu</th>\n",
       "      <th>mandante_vitorias_contra_visitante</th>\n",
       "      <th>visitante_vitorias_contra_mandante</th>\n",
       "      <th>empates_historico</th>\n",
       "    </tr>\n",
       "  </thead>\n",
       "  <tbody>\n",
       "    <tr>\n",
       "      <th>0</th>\n",
       "      <td>4987</td>\n",
       "      <td>1</td>\n",
       "      <td>2015-05-09</td>\n",
       "      <td>18:32</td>\n",
       "      <td>2015</td>\n",
       "      <td>Sabado</td>\n",
       "      <td>Chapecoense</td>\n",
       "      <td>Coritiba</td>\n",
       "      <td>1</td>\n",
       "      <td>arena conda</td>\n",
       "      <td>...</td>\n",
       "      <td>0</td>\n",
       "      <td>0</td>\n",
       "      <td>0</td>\n",
       "      <td>5</td>\n",
       "      <td>5</td>\n",
       "      <td>0</td>\n",
       "      <td>0</td>\n",
       "      <td>0</td>\n",
       "      <td>0</td>\n",
       "      <td>0</td>\n",
       "    </tr>\n",
       "    <tr>\n",
       "      <th>1</th>\n",
       "      <td>4988</td>\n",
       "      <td>1</td>\n",
       "      <td>2015-05-09</td>\n",
       "      <td>18:33</td>\n",
       "      <td>2015</td>\n",
       "      <td>Sabado</td>\n",
       "      <td>Palmeiras</td>\n",
       "      <td>Atletico-MG</td>\n",
       "      <td>0</td>\n",
       "      <td>allianz parque</td>\n",
       "      <td>...</td>\n",
       "      <td>0</td>\n",
       "      <td>0</td>\n",
       "      <td>0</td>\n",
       "      <td>5</td>\n",
       "      <td>5</td>\n",
       "      <td>0</td>\n",
       "      <td>0</td>\n",
       "      <td>0</td>\n",
       "      <td>0</td>\n",
       "      <td>0</td>\n",
       "    </tr>\n",
       "    <tr>\n",
       "      <th>2</th>\n",
       "      <td>4989</td>\n",
       "      <td>1</td>\n",
       "      <td>2015-05-09</td>\n",
       "      <td>21:00</td>\n",
       "      <td>2015</td>\n",
       "      <td>Sabado</td>\n",
       "      <td>Fluminense</td>\n",
       "      <td>Joinville</td>\n",
       "      <td>1</td>\n",
       "      <td>maracana</td>\n",
       "      <td>...</td>\n",
       "      <td>0</td>\n",
       "      <td>0</td>\n",
       "      <td>0</td>\n",
       "      <td>5</td>\n",
       "      <td>5</td>\n",
       "      <td>0</td>\n",
       "      <td>0</td>\n",
       "      <td>0</td>\n",
       "      <td>0</td>\n",
       "      <td>0</td>\n",
       "    </tr>\n",
       "    <tr>\n",
       "      <th>3</th>\n",
       "      <td>4990</td>\n",
       "      <td>1</td>\n",
       "      <td>2015-05-10</td>\n",
       "      <td>11:00</td>\n",
       "      <td>2015</td>\n",
       "      <td>Domingo</td>\n",
       "      <td>Gremio</td>\n",
       "      <td>Ponte Preta</td>\n",
       "      <td>0</td>\n",
       "      <td>arena do gremio</td>\n",
       "      <td>...</td>\n",
       "      <td>0</td>\n",
       "      <td>0</td>\n",
       "      <td>0</td>\n",
       "      <td>5</td>\n",
       "      <td>5</td>\n",
       "      <td>0</td>\n",
       "      <td>0</td>\n",
       "      <td>0</td>\n",
       "      <td>0</td>\n",
       "      <td>0</td>\n",
       "    </tr>\n",
       "    <tr>\n",
       "      <th>4</th>\n",
       "      <td>4991</td>\n",
       "      <td>1</td>\n",
       "      <td>2015-05-10</td>\n",
       "      <td>16:00</td>\n",
       "      <td>2015</td>\n",
       "      <td>Domingo</td>\n",
       "      <td>Athletico-PR</td>\n",
       "      <td>Internacional</td>\n",
       "      <td>1</td>\n",
       "      <td>estadio joaquim americo guimaraes</td>\n",
       "      <td>...</td>\n",
       "      <td>0</td>\n",
       "      <td>0</td>\n",
       "      <td>0</td>\n",
       "      <td>5</td>\n",
       "      <td>5</td>\n",
       "      <td>0</td>\n",
       "      <td>0</td>\n",
       "      <td>0</td>\n",
       "      <td>0</td>\n",
       "      <td>0</td>\n",
       "    </tr>\n",
       "  </tbody>\n",
       "</table>\n",
       "<p>5 rows × 43 columns</p>\n",
       "</div>"
      ],
      "text/plain": [
       "     ID  rodada       data   hora  temporada      dia      mandante  \\\n",
       "0  4987       1 2015-05-09  18:32       2015   Sabado   Chapecoense   \n",
       "1  4988       1 2015-05-09  18:33       2015   Sabado     Palmeiras   \n",
       "2  4989       1 2015-05-09  21:00       2015   Sabado    Fluminense   \n",
       "3  4990       1 2015-05-10  11:00       2015  Domingo        Gremio   \n",
       "4  4991       1 2015-05-10  16:00       2015  Domingo  Athletico-PR   \n",
       "\n",
       "       visitante  vencedor                              arena  ...  \\\n",
       "0       Coritiba         1                        arena conda  ...   \n",
       "1    Atletico-MG         0                     allianz parque  ...   \n",
       "2      Joinville         1                           maracana  ...   \n",
       "3    Ponte Preta         0                    arena do gremio  ...   \n",
       "4  Internacional         1  estadio joaquim americo guimaraes  ...   \n",
       "\n",
       "   gols_sofridos_mandante  gols_marcados_visitante gols_sofridos_visitante  \\\n",
       "0                       0                        0                       0   \n",
       "1                       0                        0                       0   \n",
       "2                       0                        0                       0   \n",
       "3                       0                        0                       0   \n",
       "4                       0                        0                       0   \n",
       "\n",
       "  dias_entre_jogos_mandante dias_entre_jogos_visitante mandante_subiu  \\\n",
       "0                         5                          5              0   \n",
       "1                         5                          5              0   \n",
       "2                         5                          5              0   \n",
       "3                         5                          5              0   \n",
       "4                         5                          5              0   \n",
       "\n",
       "  visitante_subiu mandante_vitorias_contra_visitante  \\\n",
       "0               0                                  0   \n",
       "1               0                                  0   \n",
       "2               0                                  0   \n",
       "3               0                                  0   \n",
       "4               0                                  0   \n",
       "\n",
       "  visitante_vitorias_contra_mandante empates_historico  \n",
       "0                                  0                 0  \n",
       "1                                  0                 0  \n",
       "2                                  0                 0  \n",
       "3                                  0                 0  \n",
       "4                                  0                 0  \n",
       "\n",
       "[5 rows x 43 columns]"
      ]
     },
     "execution_count": 1141,
     "metadata": {},
     "output_type": "execute_result"
    }
   ],
   "source": [
    "df5.head()"
   ]
  },
  {
   "cell_type": "code",
   "execution_count": 1142,
   "id": "9d7d024c",
   "metadata": {
    "ExecuteTime": {
     "end_time": "2022-03-25T18:13:41.177295Z",
     "start_time": "2022-03-25T18:13:41.170494Z"
    }
   },
   "outputs": [
    {
     "data": {
      "text/plain": [
       "['ID',\n",
       " 'rodada',\n",
       " 'data',\n",
       " 'hora',\n",
       " 'temporada',\n",
       " 'dia',\n",
       " 'mandante',\n",
       " 'visitante',\n",
       " 'vencedor',\n",
       " 'arena',\n",
       " 'mandante_placar',\n",
       " 'visitante_placar',\n",
       " 'mandante_estado',\n",
       " 'visitante_estado',\n",
       " 'mandante_vitorias',\n",
       " 'visitante_vitorias',\n",
       " 'mandante_derrotas',\n",
       " 'visitante_derrotas',\n",
       " 'mandante_empates',\n",
       " 'visitante_empates',\n",
       " 'vitorias_como_mandante',\n",
       " 'derrotas_como_mandante',\n",
       " 'vitorias_como_visitante',\n",
       " 'derrotas_como_visitante',\n",
       " 'empates_como_mandante',\n",
       " 'empates_como_visitante',\n",
       " 'vitorias_do_mandante',\n",
       " 'vitorias_do_visitante',\n",
       " 'mandante_sequencia_vitorias',\n",
       " 'mandante_sequencia_derrotas',\n",
       " 'visitante_sequencia_vitorias',\n",
       " 'visitante_sequencia_derrotas',\n",
       " 'gols_marcados_mandante',\n",
       " 'gols_sofridos_mandante',\n",
       " 'gols_marcados_visitante',\n",
       " 'gols_sofridos_visitante',\n",
       " 'dias_entre_jogos_mandante',\n",
       " 'dias_entre_jogos_visitante',\n",
       " 'mandante_subiu',\n",
       " 'visitante_subiu',\n",
       " 'mandante_vitorias_contra_visitante',\n",
       " 'visitante_vitorias_contra_mandante',\n",
       " 'empates_historico']"
      ]
     },
     "execution_count": 1142,
     "metadata": {},
     "output_type": "execute_result"
    }
   ],
   "source": [
    "df5.columns.tolist()"
   ]
  },
  {
   "cell_type": "markdown",
   "id": "e71935ed",
   "metadata": {},
   "source": [
    "As features <b>mandante_placar</b> e <b>visitante_placar</b> não devem estar preenchidas, pois estão disponíveis apenas após os jogos. Outras features relacionadas aos eventos da partida em si serão mantidas, pois mesmo que não estejam disponíveis no instante da previsão, poderão ser criados modelos específicos para elas."
   ]
  },
  {
   "cell_type": "code",
   "execution_count": 1143,
   "id": "5c417162",
   "metadata": {
    "ExecuteTime": {
     "end_time": "2022-03-25T18:13:41.184494Z",
     "start_time": "2022-03-25T18:13:41.178670Z"
    }
   },
   "outputs": [],
   "source": [
    "df5 = df5.drop(['mandante_placar', 'visitante_placar', 'vitorias_do_mandante', 'vitorias_do_visitante'], axis = 1)"
   ]
  },
  {
   "cell_type": "markdown",
   "id": "b400a667",
   "metadata": {},
   "source": [
    "# 6.0 Data Transformation "
   ]
  },
  {
   "cell_type": "code",
   "execution_count": 1144,
   "id": "a0089f88",
   "metadata": {
    "ExecuteTime": {
     "end_time": "2022-03-25T18:13:51.149701Z",
     "start_time": "2022-03-25T18:13:51.143938Z"
    }
   },
   "outputs": [],
   "source": [
    "df6 = df5.copy()\n",
    "df6 = df6.drop('ID', axis = 1)"
   ]
  },
  {
   "cell_type": "code",
   "execution_count": 1145,
   "id": "1595895c",
   "metadata": {
    "ExecuteTime": {
     "end_time": "2022-03-25T18:13:51.341560Z",
     "start_time": "2022-03-25T18:13:51.322842Z"
    }
   },
   "outputs": [
    {
     "data": {
      "text/plain": [
       "Series([], dtype: int64)"
      ]
     },
     "execution_count": 1145,
     "metadata": {},
     "output_type": "execute_result"
    }
   ],
   "source": [
    "df6.isna().sum()[df6.isna().sum() > 0]"
   ]
  },
  {
   "cell_type": "markdown",
   "id": "7eaea1af",
   "metadata": {},
   "source": [
    "## 6.1 Types "
   ]
  },
  {
   "cell_type": "code",
   "execution_count": 1146,
   "id": "3a0c965f",
   "metadata": {
    "ExecuteTime": {
     "end_time": "2022-03-25T18:13:52.121054Z",
     "start_time": "2022-03-25T18:13:52.114579Z"
    }
   },
   "outputs": [
    {
     "data": {
      "text/plain": [
       "['hora',\n",
       " 'dia',\n",
       " 'mandante',\n",
       " 'visitante',\n",
       " 'arena',\n",
       " 'mandante_estado',\n",
       " 'visitante_estado',\n",
       " 'mandante_vitorias',\n",
       " 'visitante_vitorias',\n",
       " 'mandante_derrotas',\n",
       " 'visitante_derrotas',\n",
       " 'mandante_empates',\n",
       " 'visitante_empates']"
      ]
     },
     "execution_count": 1146,
     "metadata": {},
     "output_type": "execute_result"
    }
   ],
   "source": [
    "df6.dtypes[df6.dtypes == 'object'].keys().tolist()"
   ]
  },
  {
   "cell_type": "code",
   "execution_count": 1147,
   "id": "cf162686",
   "metadata": {
    "ExecuteTime": {
     "end_time": "2022-03-25T18:13:52.426416Z",
     "start_time": "2022-03-25T18:13:52.414310Z"
    }
   },
   "outputs": [],
   "source": [
    "# mandante_vitorias, visitante_vitorias, mandante_derrotas, visitante_derrotas, mandante_empates, visitante_empates podem ser int64\n",
    "df6['mandante_vitorias'] = df6.mandante_vitorias.astype('int64')\n",
    "df6['visitante_vitorias'] = df6.mandante_vitorias.astype('int64')\n",
    "df6['mandante_derrotas'] = df6.mandante_derrotas.astype('int64')\n",
    "df6['visitante_derrotas'] = df6.visitante_derrotas.astype('int64')\n",
    "df6['mandante_empates'] = df6.mandante_empates.astype('int64')\n",
    "df6['visitante_empates'] = df6.visitante_empates.astype('int64')"
   ]
  },
  {
   "cell_type": "markdown",
   "id": "b960bfaa",
   "metadata": {},
   "source": [
    "## 6.2 Nature "
   ]
  },
  {
   "cell_type": "code",
   "execution_count": 1148,
   "id": "ec6b486a",
   "metadata": {
    "ExecuteTime": {
     "end_time": "2022-03-25T18:13:52.682294Z",
     "start_time": "2022-03-25T18:13:52.632310Z"
    }
   },
   "outputs": [
    {
     "data": {
      "text/html": [
       "<div>\n",
       "<style scoped>\n",
       "    .dataframe tbody tr th:only-of-type {\n",
       "        vertical-align: middle;\n",
       "    }\n",
       "\n",
       "    .dataframe tbody tr th {\n",
       "        vertical-align: top;\n",
       "    }\n",
       "\n",
       "    .dataframe thead th {\n",
       "        text-align: right;\n",
       "    }\n",
       "</style>\n",
       "<table border=\"1\" class=\"dataframe\">\n",
       "  <thead>\n",
       "    <tr style=\"text-align: right;\">\n",
       "      <th></th>\n",
       "      <th>rodada</th>\n",
       "      <th>data</th>\n",
       "      <th>temporada</th>\n",
       "      <th>dia</th>\n",
       "      <th>mandante</th>\n",
       "      <th>hora_sin</th>\n",
       "      <th>hora_cos</th>\n",
       "      <th>visitante</th>\n",
       "      <th>vencedor</th>\n",
       "      <th>arena</th>\n",
       "      <th>...</th>\n",
       "      <th>gols_sofridos_mandante</th>\n",
       "      <th>gols_marcados_visitante</th>\n",
       "      <th>gols_sofridos_visitante</th>\n",
       "      <th>dias_entre_jogos_mandante</th>\n",
       "      <th>dias_entre_jogos_visitante</th>\n",
       "      <th>mandante_subiu</th>\n",
       "      <th>visitante_subiu</th>\n",
       "      <th>mandante_vitorias_contra_visitante</th>\n",
       "      <th>visitante_vitorias_contra_mandante</th>\n",
       "      <th>empates_historico</th>\n",
       "    </tr>\n",
       "  </thead>\n",
       "  <tbody>\n",
       "    <tr>\n",
       "      <th>0</th>\n",
       "      <td>1</td>\n",
       "      <td>2015-05-09</td>\n",
       "      <td>2015</td>\n",
       "      <td>Sabado</td>\n",
       "      <td>Chapecoense</td>\n",
       "      <td>-0.990268</td>\n",
       "      <td>0.139173</td>\n",
       "      <td>Coritiba</td>\n",
       "      <td>1</td>\n",
       "      <td>arena conda</td>\n",
       "      <td>...</td>\n",
       "      <td>0</td>\n",
       "      <td>0</td>\n",
       "      <td>0</td>\n",
       "      <td>5</td>\n",
       "      <td>5</td>\n",
       "      <td>0</td>\n",
       "      <td>0</td>\n",
       "      <td>0</td>\n",
       "      <td>0</td>\n",
       "      <td>0</td>\n",
       "    </tr>\n",
       "    <tr>\n",
       "      <th>1</th>\n",
       "      <td>1</td>\n",
       "      <td>2015-05-09</td>\n",
       "      <td>2015</td>\n",
       "      <td>Sabado</td>\n",
       "      <td>Palmeiras</td>\n",
       "      <td>-0.989651</td>\n",
       "      <td>0.143493</td>\n",
       "      <td>Atletico-MG</td>\n",
       "      <td>0</td>\n",
       "      <td>allianz parque</td>\n",
       "      <td>...</td>\n",
       "      <td>0</td>\n",
       "      <td>0</td>\n",
       "      <td>0</td>\n",
       "      <td>5</td>\n",
       "      <td>5</td>\n",
       "      <td>0</td>\n",
       "      <td>0</td>\n",
       "      <td>0</td>\n",
       "      <td>0</td>\n",
       "      <td>0</td>\n",
       "    </tr>\n",
       "    <tr>\n",
       "      <th>2</th>\n",
       "      <td>1</td>\n",
       "      <td>2015-05-09</td>\n",
       "      <td>2015</td>\n",
       "      <td>Sabado</td>\n",
       "      <td>Fluminense</td>\n",
       "      <td>-0.707107</td>\n",
       "      <td>0.707107</td>\n",
       "      <td>Joinville</td>\n",
       "      <td>1</td>\n",
       "      <td>maracana</td>\n",
       "      <td>...</td>\n",
       "      <td>0</td>\n",
       "      <td>0</td>\n",
       "      <td>0</td>\n",
       "      <td>5</td>\n",
       "      <td>5</td>\n",
       "      <td>0</td>\n",
       "      <td>0</td>\n",
       "      <td>0</td>\n",
       "      <td>0</td>\n",
       "      <td>0</td>\n",
       "    </tr>\n",
       "    <tr>\n",
       "      <th>3</th>\n",
       "      <td>1</td>\n",
       "      <td>2015-05-10</td>\n",
       "      <td>2015</td>\n",
       "      <td>Domingo</td>\n",
       "      <td>Gremio</td>\n",
       "      <td>0.258819</td>\n",
       "      <td>-0.965926</td>\n",
       "      <td>Ponte Preta</td>\n",
       "      <td>0</td>\n",
       "      <td>arena do gremio</td>\n",
       "      <td>...</td>\n",
       "      <td>0</td>\n",
       "      <td>0</td>\n",
       "      <td>0</td>\n",
       "      <td>5</td>\n",
       "      <td>5</td>\n",
       "      <td>0</td>\n",
       "      <td>0</td>\n",
       "      <td>0</td>\n",
       "      <td>0</td>\n",
       "      <td>0</td>\n",
       "    </tr>\n",
       "    <tr>\n",
       "      <th>4</th>\n",
       "      <td>1</td>\n",
       "      <td>2015-05-10</td>\n",
       "      <td>2015</td>\n",
       "      <td>Domingo</td>\n",
       "      <td>Athletico-PR</td>\n",
       "      <td>-0.866025</td>\n",
       "      <td>-0.500000</td>\n",
       "      <td>Internacional</td>\n",
       "      <td>1</td>\n",
       "      <td>estadio joaquim americo guimaraes</td>\n",
       "      <td>...</td>\n",
       "      <td>0</td>\n",
       "      <td>0</td>\n",
       "      <td>0</td>\n",
       "      <td>5</td>\n",
       "      <td>5</td>\n",
       "      <td>0</td>\n",
       "      <td>0</td>\n",
       "      <td>0</td>\n",
       "      <td>0</td>\n",
       "      <td>0</td>\n",
       "    </tr>\n",
       "  </tbody>\n",
       "</table>\n",
       "<p>5 rows × 39 columns</p>\n",
       "</div>"
      ],
      "text/plain": [
       "   rodada       data  temporada      dia      mandante  hora_sin  hora_cos  \\\n",
       "0       1 2015-05-09       2015   Sabado   Chapecoense -0.990268  0.139173   \n",
       "1       1 2015-05-09       2015   Sabado     Palmeiras -0.989651  0.143493   \n",
       "2       1 2015-05-09       2015   Sabado    Fluminense -0.707107  0.707107   \n",
       "3       1 2015-05-10       2015  Domingo        Gremio  0.258819 -0.965926   \n",
       "4       1 2015-05-10       2015  Domingo  Athletico-PR -0.866025 -0.500000   \n",
       "\n",
       "       visitante  vencedor                              arena  ...  \\\n",
       "0       Coritiba         1                        arena conda  ...   \n",
       "1    Atletico-MG         0                     allianz parque  ...   \n",
       "2      Joinville         1                           maracana  ...   \n",
       "3    Ponte Preta         0                    arena do gremio  ...   \n",
       "4  Internacional         1  estadio joaquim americo guimaraes  ...   \n",
       "\n",
       "  gols_sofridos_mandante gols_marcados_visitante  gols_sofridos_visitante  \\\n",
       "0                      0                       0                        0   \n",
       "1                      0                       0                        0   \n",
       "2                      0                       0                        0   \n",
       "3                      0                       0                        0   \n",
       "4                      0                       0                        0   \n",
       "\n",
       "   dias_entre_jogos_mandante  dias_entre_jogos_visitante  mandante_subiu  \\\n",
       "0                          5                           5               0   \n",
       "1                          5                           5               0   \n",
       "2                          5                           5               0   \n",
       "3                          5                           5               0   \n",
       "4                          5                           5               0   \n",
       "\n",
       "   visitante_subiu  mandante_vitorias_contra_visitante  \\\n",
       "0                0                                   0   \n",
       "1                0                                   0   \n",
       "2                0                                   0   \n",
       "3                0                                   0   \n",
       "4                0                                   0   \n",
       "\n",
       "   visitante_vitorias_contra_mandante  empates_historico  \n",
       "0                                   0                  0  \n",
       "1                                   0                  0  \n",
       "2                                   0                  0  \n",
       "3                                   0                  0  \n",
       "4                                   0                  0  \n",
       "\n",
       "[5 rows x 39 columns]"
      ]
     },
     "execution_count": 1148,
     "metadata": {},
     "output_type": "execute_result"
    }
   ],
   "source": [
    "# lidando coma hora\n",
    "df6.loc[:,'hora_decimal'] = pd.to_datetime(df6.hora).dt.hour + pd.to_datetime(df6.hora).dt.minute / 60\n",
    "df6['hora_sin_'] = df6['hora_decimal'].apply(lambda x: np.sin(x * (2 * np.pi/24)))\n",
    "df6['hora_cos_'] = df6['hora_decimal'].apply(lambda x: np.cos(x * (2 * np.pi/24)))\n",
    "df6 = df6.drop(['hora', 'hora_decimal'], axis = 1)\n",
    "df6.insert(5, 'hora_sin', df6.hora_sin_)\n",
    "df6.insert(6, 'hora_cos', df6.hora_cos_)\n",
    "df6 = df6.drop(['hora_sin_', 'hora_cos_'], axis = 1)\n",
    "df6.head()"
   ]
  },
  {
   "cell_type": "code",
   "execution_count": 1149,
   "id": "39d2cac7",
   "metadata": {
    "ExecuteTime": {
     "end_time": "2022-03-25T18:13:52.921411Z",
     "start_time": "2022-03-25T18:13:52.911509Z"
    }
   },
   "outputs": [
    {
     "data": {
      "text/plain": [
       "['data']"
      ]
     },
     "execution_count": 1149,
     "metadata": {},
     "output_type": "execute_result"
    }
   ],
   "source": [
    "df6.dtypes[df6.dtypes == '<M8[ns]'].keys().tolist()"
   ]
  },
  {
   "cell_type": "code",
   "execution_count": 1150,
   "id": "a4922dbe",
   "metadata": {
    "ExecuteTime": {
     "end_time": "2022-03-25T18:13:53.051353Z",
     "start_time": "2022-03-25T18:13:53.003582Z"
    }
   },
   "outputs": [
    {
     "name": "stderr",
     "output_type": "stream",
     "text": [
      "/tmp/ipykernel_14817/2216932869.py:11: FutureWarning: Series.dt.weekofyear and Series.dt.week have been deprecated. Please use Series.dt.isocalendar().week instead.\n",
      "  df6['semana_do_ano'] = df6['data'].dt.weekofyear\n"
     ]
    }
   ],
   "source": [
    "# hora e dia serão transformados utilizando relações trigonométricas\n",
    "# month\n",
    "df6['mes'] = df6['data'].dt.month\n",
    "df6['mes_sin'] = df6['mes'].apply(lambda x: np.sin(x * (2 * np.pi/12)))\n",
    "df6['mes_cos'] = df6['mes'].apply(lambda x: np.cos(x * (2 * np.pi/12)))\n",
    "# day\n",
    "df6['dia_do_mes'] = df6['data'].dt.day\n",
    "df6['dia_do_mes_sin'] = df6['dia_do_mes'].apply(lambda x: np.sin(x * (2 * np.pi/30)))\n",
    "df6['dia_do_mes_cos'] = df6['dia_do_mes'].apply(lambda x: np.cos(x * (2 * np.pi/30)))\n",
    "# week of year\n",
    "df6['semana_do_ano'] = df6['data'].dt.weekofyear\n",
    "df6['semana_do_ano_sin'] = df6['semana_do_ano'].apply(lambda x: np.sin(x * (2 * np.pi/52)))\n",
    "df6['semana_do_ano_cos'] = df6['semana_do_ano'].apply(lambda x: np.cos(x * (2 * np.pi/52)))"
   ]
  },
  {
   "cell_type": "code",
   "execution_count": 1151,
   "id": "eeca1186",
   "metadata": {
    "ExecuteTime": {
     "end_time": "2022-03-25T18:13:53.150708Z",
     "start_time": "2022-03-25T18:13:53.144831Z"
    }
   },
   "outputs": [],
   "source": [
    "df6 = df6.drop(['mes', 'dia_do_mes', 'semana_do_ano'], axis = 1)"
   ]
  },
  {
   "cell_type": "code",
   "execution_count": 1152,
   "id": "d35dd272",
   "metadata": {
    "ExecuteTime": {
     "end_time": "2022-03-25T18:13:53.234507Z",
     "start_time": "2022-03-25T18:13:53.226009Z"
    }
   },
   "outputs": [],
   "source": [
    "categorical = df6.dtypes[df6.dtypes == 'object'].keys().tolist()\n",
    "df_categorical = df6[categorical]\n",
    "numerics = df6.dtypes[(df6.dtypes == 'int64') | (df6.dtypes == 'float64')].keys().tolist()\n",
    "numerics.remove('vencedor'); numerics.remove('temporada')\n",
    "df_numerics = df6[numerics]\n",
    "df_target = df6[['vencedor']]\n",
    "df_temporada = df6[['temporada']]"
   ]
  },
  {
   "cell_type": "markdown",
   "id": "5636cc72",
   "metadata": {},
   "source": [
    "## 6.3 Encoding "
   ]
  },
  {
   "cell_type": "code",
   "execution_count": 1153,
   "id": "3a7157bd",
   "metadata": {
    "ExecuteTime": {
     "end_time": "2022-03-25T18:13:53.520089Z",
     "start_time": "2022-03-25T18:13:53.513733Z"
    }
   },
   "outputs": [],
   "source": [
    "df_categorical = pd.get_dummies(df_categorical[['mandante', 'visitante']])"
   ]
  },
  {
   "cell_type": "markdown",
   "id": "00892447",
   "metadata": {},
   "source": [
    "## 6.4 Scaling "
   ]
  },
  {
   "cell_type": "code",
   "execution_count": 1155,
   "id": "7a0c2945",
   "metadata": {
    "ExecuteTime": {
     "end_time": "2022-03-25T18:13:54.260799Z",
     "start_time": "2022-03-25T18:13:54.258045Z"
    }
   },
   "outputs": [],
   "source": [
    "ss = StandardScaler()"
   ]
  },
  {
   "cell_type": "code",
   "execution_count": 1160,
   "id": "939171aa",
   "metadata": {
    "ExecuteTime": {
     "end_time": "2022-03-25T18:14:29.164813Z",
     "start_time": "2022-03-25T18:14:29.143246Z"
    }
   },
   "outputs": [
    {
     "data": {
      "text/html": [
       "<div>\n",
       "<style scoped>\n",
       "    .dataframe tbody tr th:only-of-type {\n",
       "        vertical-align: middle;\n",
       "    }\n",
       "\n",
       "    .dataframe tbody tr th {\n",
       "        vertical-align: top;\n",
       "    }\n",
       "\n",
       "    .dataframe thead th {\n",
       "        text-align: right;\n",
       "    }\n",
       "</style>\n",
       "<table border=\"1\" class=\"dataframe\">\n",
       "  <thead>\n",
       "    <tr style=\"text-align: right;\">\n",
       "      <th></th>\n",
       "      <th>rodada</th>\n",
       "      <th>hora_sin</th>\n",
       "      <th>hora_cos</th>\n",
       "      <th>mandante_vitorias</th>\n",
       "      <th>visitante_vitorias</th>\n",
       "      <th>mandante_derrotas</th>\n",
       "      <th>visitante_derrotas</th>\n",
       "      <th>mandante_empates</th>\n",
       "      <th>visitante_empates</th>\n",
       "      <th>vitorias_como_mandante</th>\n",
       "      <th>...</th>\n",
       "      <th>visitante_subiu</th>\n",
       "      <th>mandante_vitorias_contra_visitante</th>\n",
       "      <th>visitante_vitorias_contra_mandante</th>\n",
       "      <th>empates_historico</th>\n",
       "      <th>mes_sin</th>\n",
       "      <th>mes_cos</th>\n",
       "      <th>dia_do_mes_sin</th>\n",
       "      <th>dia_do_mes_cos</th>\n",
       "      <th>semana_do_ano_sin</th>\n",
       "      <th>semana_do_ano_cos</th>\n",
       "    </tr>\n",
       "  </thead>\n",
       "  <tbody>\n",
       "    <tr>\n",
       "      <th>0</th>\n",
       "      <td>-1.687006</td>\n",
       "      <td>-0.667244</td>\n",
       "      <td>0.117696</td>\n",
       "      <td>-1.370719</td>\n",
       "      <td>-1.370719</td>\n",
       "      <td>-1.400316</td>\n",
       "      <td>-1.380118</td>\n",
       "      <td>-1.432178</td>\n",
       "      <td>-1.426422</td>\n",
       "      <td>-1.228117</td>\n",
       "      <td>...</td>\n",
       "      <td>-0.454962</td>\n",
       "      <td>-0.800245</td>\n",
       "      <td>-0.960233</td>\n",
       "      <td>-0.757214</td>\n",
       "      <td>1.758753</td>\n",
       "      <td>-1.07702</td>\n",
       "      <td>1.320394</td>\n",
       "      <td>-0.395739</td>\n",
       "      <td>1.986769</td>\n",
       "      <td>-0.697683</td>\n",
       "    </tr>\n",
       "    <tr>\n",
       "      <th>1</th>\n",
       "      <td>-1.687006</td>\n",
       "      <td>-0.665172</td>\n",
       "      <td>0.125877</td>\n",
       "      <td>-1.370719</td>\n",
       "      <td>-1.370719</td>\n",
       "      <td>-1.400316</td>\n",
       "      <td>-1.380118</td>\n",
       "      <td>-1.432178</td>\n",
       "      <td>-1.426422</td>\n",
       "      <td>-1.228117</td>\n",
       "      <td>...</td>\n",
       "      <td>-0.454962</td>\n",
       "      <td>-0.800245</td>\n",
       "      <td>-0.960233</td>\n",
       "      <td>-0.757214</td>\n",
       "      <td>1.758753</td>\n",
       "      <td>-1.07702</td>\n",
       "      <td>1.320394</td>\n",
       "      <td>-0.395739</td>\n",
       "      <td>1.986769</td>\n",
       "      <td>-0.697683</td>\n",
       "    </tr>\n",
       "    <tr>\n",
       "      <th>2</th>\n",
       "      <td>-1.687006</td>\n",
       "      <td>0.283858</td>\n",
       "      <td>1.193351</td>\n",
       "      <td>-1.370719</td>\n",
       "      <td>-1.370719</td>\n",
       "      <td>-1.400316</td>\n",
       "      <td>-1.380118</td>\n",
       "      <td>-1.432178</td>\n",
       "      <td>-1.426422</td>\n",
       "      <td>-1.228117</td>\n",
       "      <td>...</td>\n",
       "      <td>-0.454962</td>\n",
       "      <td>-0.800245</td>\n",
       "      <td>-0.960233</td>\n",
       "      <td>-0.757214</td>\n",
       "      <td>1.758753</td>\n",
       "      <td>-1.07702</td>\n",
       "      <td>1.320394</td>\n",
       "      <td>-0.395739</td>\n",
       "      <td>1.986769</td>\n",
       "      <td>-0.697683</td>\n",
       "    </tr>\n",
       "    <tr>\n",
       "      <th>3</th>\n",
       "      <td>-1.687006</td>\n",
       "      <td>3.528278</td>\n",
       "      <td>-1.975339</td>\n",
       "      <td>-1.370719</td>\n",
       "      <td>-1.370719</td>\n",
       "      <td>-1.400316</td>\n",
       "      <td>-1.380118</td>\n",
       "      <td>-1.432178</td>\n",
       "      <td>-1.426422</td>\n",
       "      <td>-1.228117</td>\n",
       "      <td>...</td>\n",
       "      <td>-0.454962</td>\n",
       "      <td>-0.800245</td>\n",
       "      <td>-0.960233</td>\n",
       "      <td>-0.757214</td>\n",
       "      <td>1.758753</td>\n",
       "      <td>-1.07702</td>\n",
       "      <td>1.198025</td>\n",
       "      <td>-0.661765</td>\n",
       "      <td>1.986769</td>\n",
       "      <td>-0.697683</td>\n",
       "    </tr>\n",
       "    <tr>\n",
       "      <th>4</th>\n",
       "      <td>-1.687006</td>\n",
       "      <td>-0.249929</td>\n",
       "      <td>-1.092885</td>\n",
       "      <td>-1.370719</td>\n",
       "      <td>-1.370719</td>\n",
       "      <td>-1.400316</td>\n",
       "      <td>-1.380118</td>\n",
       "      <td>-1.432178</td>\n",
       "      <td>-1.426422</td>\n",
       "      <td>-1.228117</td>\n",
       "      <td>...</td>\n",
       "      <td>-0.454962</td>\n",
       "      <td>-0.800245</td>\n",
       "      <td>-0.960233</td>\n",
       "      <td>-0.757214</td>\n",
       "      <td>1.758753</td>\n",
       "      <td>-1.07702</td>\n",
       "      <td>1.198025</td>\n",
       "      <td>-0.661765</td>\n",
       "      <td>1.986769</td>\n",
       "      <td>-0.697683</td>\n",
       "    </tr>\n",
       "  </tbody>\n",
       "</table>\n",
       "<p>5 rows × 36 columns</p>\n",
       "</div>"
      ],
      "text/plain": [
       "     rodada  hora_sin  hora_cos  mandante_vitorias  visitante_vitorias  \\\n",
       "0 -1.687006 -0.667244  0.117696          -1.370719           -1.370719   \n",
       "1 -1.687006 -0.665172  0.125877          -1.370719           -1.370719   \n",
       "2 -1.687006  0.283858  1.193351          -1.370719           -1.370719   \n",
       "3 -1.687006  3.528278 -1.975339          -1.370719           -1.370719   \n",
       "4 -1.687006 -0.249929 -1.092885          -1.370719           -1.370719   \n",
       "\n",
       "   mandante_derrotas  visitante_derrotas  mandante_empates  visitante_empates  \\\n",
       "0          -1.400316           -1.380118         -1.432178          -1.426422   \n",
       "1          -1.400316           -1.380118         -1.432178          -1.426422   \n",
       "2          -1.400316           -1.380118         -1.432178          -1.426422   \n",
       "3          -1.400316           -1.380118         -1.432178          -1.426422   \n",
       "4          -1.400316           -1.380118         -1.432178          -1.426422   \n",
       "\n",
       "   vitorias_como_mandante  ...  visitante_subiu  \\\n",
       "0               -1.228117  ...        -0.454962   \n",
       "1               -1.228117  ...        -0.454962   \n",
       "2               -1.228117  ...        -0.454962   \n",
       "3               -1.228117  ...        -0.454962   \n",
       "4               -1.228117  ...        -0.454962   \n",
       "\n",
       "   mandante_vitorias_contra_visitante  visitante_vitorias_contra_mandante  \\\n",
       "0                           -0.800245                           -0.960233   \n",
       "1                           -0.800245                           -0.960233   \n",
       "2                           -0.800245                           -0.960233   \n",
       "3                           -0.800245                           -0.960233   \n",
       "4                           -0.800245                           -0.960233   \n",
       "\n",
       "   empates_historico   mes_sin  mes_cos  dia_do_mes_sin  dia_do_mes_cos  \\\n",
       "0          -0.757214  1.758753 -1.07702        1.320394       -0.395739   \n",
       "1          -0.757214  1.758753 -1.07702        1.320394       -0.395739   \n",
       "2          -0.757214  1.758753 -1.07702        1.320394       -0.395739   \n",
       "3          -0.757214  1.758753 -1.07702        1.198025       -0.661765   \n",
       "4          -0.757214  1.758753 -1.07702        1.198025       -0.661765   \n",
       "\n",
       "   semana_do_ano_sin  semana_do_ano_cos  \n",
       "0           1.986769          -0.697683  \n",
       "1           1.986769          -0.697683  \n",
       "2           1.986769          -0.697683  \n",
       "3           1.986769          -0.697683  \n",
       "4           1.986769          -0.697683  \n",
       "\n",
       "[5 rows x 36 columns]"
      ]
     },
     "execution_count": 1160,
     "metadata": {},
     "output_type": "execute_result"
    }
   ],
   "source": [
    "df_numerics = pd.DataFrame(ss.fit_transform(df_numerics.values), columns = df_numerics.columns.tolist())\n",
    "df_numerics.head()"
   ]
  },
  {
   "cell_type": "code",
   "execution_count": 1161,
   "id": "bbb3f356",
   "metadata": {
    "ExecuteTime": {
     "end_time": "2022-03-25T18:14:30.340049Z",
     "start_time": "2022-03-25T18:14:30.335658Z"
    }
   },
   "outputs": [
    {
     "data": {
      "text/plain": [
       "['rodada',\n",
       " 'hora_sin',\n",
       " 'hora_cos',\n",
       " 'mandante_vitorias',\n",
       " 'visitante_vitorias',\n",
       " 'mandante_derrotas',\n",
       " 'visitante_derrotas',\n",
       " 'mandante_empates',\n",
       " 'visitante_empates',\n",
       " 'vitorias_como_mandante',\n",
       " 'derrotas_como_mandante',\n",
       " 'vitorias_como_visitante',\n",
       " 'derrotas_como_visitante',\n",
       " 'empates_como_mandante',\n",
       " 'empates_como_visitante',\n",
       " 'mandante_sequencia_vitorias',\n",
       " 'mandante_sequencia_derrotas',\n",
       " 'visitante_sequencia_vitorias',\n",
       " 'visitante_sequencia_derrotas',\n",
       " 'gols_marcados_mandante',\n",
       " 'gols_sofridos_mandante',\n",
       " 'gols_marcados_visitante',\n",
       " 'gols_sofridos_visitante',\n",
       " 'dias_entre_jogos_mandante',\n",
       " 'dias_entre_jogos_visitante',\n",
       " 'mandante_subiu',\n",
       " 'visitante_subiu',\n",
       " 'mandante_vitorias_contra_visitante',\n",
       " 'visitante_vitorias_contra_mandante',\n",
       " 'empates_historico',\n",
       " 'mes_sin',\n",
       " 'mes_cos',\n",
       " 'dia_do_mes_sin',\n",
       " 'dia_do_mes_cos',\n",
       " 'semana_do_ano_sin',\n",
       " 'semana_do_ano_cos']"
      ]
     },
     "execution_count": 1161,
     "metadata": {},
     "output_type": "execute_result"
    }
   ],
   "source": [
    "df_numerics.columns.tolist()"
   ]
  },
  {
   "cell_type": "code",
   "execution_count": 1162,
   "id": "d805f4fa",
   "metadata": {
    "ExecuteTime": {
     "end_time": "2022-03-25T18:14:38.625572Z",
     "start_time": "2022-03-25T18:14:38.622121Z"
    }
   },
   "outputs": [],
   "source": [
    "df_final = pd.concat([df_temporada, df_categorical, df_numerics, df_target], axis = 1)"
   ]
  },
  {
   "cell_type": "code",
   "execution_count": 1163,
   "id": "9887c1b7",
   "metadata": {
    "ExecuteTime": {
     "end_time": "2022-03-25T18:14:39.591665Z",
     "start_time": "2022-03-25T18:14:39.586409Z"
    }
   },
   "outputs": [
    {
     "data": {
      "text/plain": [
       "['temporada',\n",
       " 'mandante_America-MG',\n",
       " 'mandante_Athletico-PR',\n",
       " 'mandante_Atletico-GO',\n",
       " 'mandante_Atletico-MG',\n",
       " 'mandante_Avai',\n",
       " 'mandante_Bahia',\n",
       " 'mandante_Botafogo-RJ',\n",
       " 'mandante_Bragantino',\n",
       " 'mandante_CSA',\n",
       " 'mandante_Ceara',\n",
       " 'mandante_Chapecoense',\n",
       " 'mandante_Corinthians',\n",
       " 'mandante_Coritiba',\n",
       " 'mandante_Cruzeiro',\n",
       " 'mandante_Cuiaba',\n",
       " 'mandante_Figueirense',\n",
       " 'mandante_Flamengo',\n",
       " 'mandante_Fluminense',\n",
       " 'mandante_Fortaleza',\n",
       " 'mandante_Goias',\n",
       " 'mandante_Gremio',\n",
       " 'mandante_Internacional',\n",
       " 'mandante_Joinville',\n",
       " 'mandante_Juventude',\n",
       " 'mandante_Palmeiras',\n",
       " 'mandante_Parana',\n",
       " 'mandante_Ponte Preta',\n",
       " 'mandante_Santa Cruz',\n",
       " 'mandante_Santos',\n",
       " 'mandante_Sao Paulo',\n",
       " 'mandante_Sport',\n",
       " 'mandante_Vasco',\n",
       " 'mandante_Vitoria',\n",
       " 'visitante_America-MG',\n",
       " 'visitante_Athletico-PR',\n",
       " 'visitante_Atletico-GO',\n",
       " 'visitante_Atletico-MG',\n",
       " 'visitante_Avai',\n",
       " 'visitante_Bahia',\n",
       " 'visitante_Botafogo-RJ',\n",
       " 'visitante_Bragantino',\n",
       " 'visitante_CSA',\n",
       " 'visitante_Ceara',\n",
       " 'visitante_Chapecoense',\n",
       " 'visitante_Corinthians',\n",
       " 'visitante_Coritiba',\n",
       " 'visitante_Cruzeiro',\n",
       " 'visitante_Cuiaba',\n",
       " 'visitante_Figueirense',\n",
       " 'visitante_Flamengo',\n",
       " 'visitante_Fluminense',\n",
       " 'visitante_Fortaleza',\n",
       " 'visitante_Goias',\n",
       " 'visitante_Gremio',\n",
       " 'visitante_Internacional',\n",
       " 'visitante_Joinville',\n",
       " 'visitante_Juventude',\n",
       " 'visitante_Palmeiras',\n",
       " 'visitante_Parana',\n",
       " 'visitante_Ponte Preta',\n",
       " 'visitante_Santa Cruz',\n",
       " 'visitante_Santos',\n",
       " 'visitante_Sao Paulo',\n",
       " 'visitante_Sport',\n",
       " 'visitante_Vasco',\n",
       " 'visitante_Vitoria',\n",
       " 'rodada',\n",
       " 'hora_sin',\n",
       " 'hora_cos',\n",
       " 'mandante_vitorias',\n",
       " 'visitante_vitorias',\n",
       " 'mandante_derrotas',\n",
       " 'visitante_derrotas',\n",
       " 'mandante_empates',\n",
       " 'visitante_empates',\n",
       " 'vitorias_como_mandante',\n",
       " 'derrotas_como_mandante',\n",
       " 'vitorias_como_visitante',\n",
       " 'derrotas_como_visitante',\n",
       " 'empates_como_mandante',\n",
       " 'empates_como_visitante',\n",
       " 'mandante_sequencia_vitorias',\n",
       " 'mandante_sequencia_derrotas',\n",
       " 'visitante_sequencia_vitorias',\n",
       " 'visitante_sequencia_derrotas',\n",
       " 'gols_marcados_mandante',\n",
       " 'gols_sofridos_mandante',\n",
       " 'gols_marcados_visitante',\n",
       " 'gols_sofridos_visitante',\n",
       " 'dias_entre_jogos_mandante',\n",
       " 'dias_entre_jogos_visitante',\n",
       " 'mandante_subiu',\n",
       " 'visitante_subiu',\n",
       " 'mandante_vitorias_contra_visitante',\n",
       " 'visitante_vitorias_contra_mandante',\n",
       " 'empates_historico',\n",
       " 'mes_sin',\n",
       " 'mes_cos',\n",
       " 'dia_do_mes_sin',\n",
       " 'dia_do_mes_cos',\n",
       " 'semana_do_ano_sin',\n",
       " 'semana_do_ano_cos',\n",
       " 'vencedor']"
      ]
     },
     "execution_count": 1163,
     "metadata": {},
     "output_type": "execute_result"
    }
   ],
   "source": [
    "df_final.columns.tolist()"
   ]
  },
  {
   "cell_type": "markdown",
   "id": "ac986e01",
   "metadata": {},
   "source": [
    "# 7.0 Machine Learning Models "
   ]
  },
  {
   "cell_type": "code",
   "execution_count": 1164,
   "id": "2dcb691d",
   "metadata": {
    "ExecuteTime": {
     "end_time": "2022-03-25T18:14:44.136882Z",
     "start_time": "2022-03-25T18:14:44.132862Z"
    }
   },
   "outputs": [],
   "source": [
    "df7 = df_final.copy()"
   ]
  },
  {
   "cell_type": "code",
   "execution_count": 1165,
   "id": "1b9c1a52",
   "metadata": {
    "ExecuteTime": {
     "end_time": "2022-03-25T18:14:44.292747Z",
     "start_time": "2022-03-25T18:14:44.282247Z"
    }
   },
   "outputs": [],
   "source": [
    "X_train = df7[(df7['temporada'] < 2021) & (df7['temporada'] >= 2019)].drop(['vencedor', 'temporada'], axis = 1).values\n",
    "y_train = df7[(df7['temporada'] < 2021) & (df7['temporada'] >= 2019)]['vencedor'].values\n",
    "\n",
    "X_test = df7[df7['temporada'] > 2020].drop(['vencedor', 'temporada'], axis = 1).values\n",
    "y_test = df7[df7['temporada'] > 2020]['vencedor'].values"
   ]
  },
  {
   "cell_type": "markdown",
   "id": "2ad08ea2",
   "metadata": {},
   "source": [
    "## 7.1 Logistic Regression"
   ]
  },
  {
   "cell_type": "code",
   "execution_count": 1166,
   "id": "d226c4f1",
   "metadata": {
    "ExecuteTime": {
     "end_time": "2022-03-25T18:14:45.217539Z",
     "start_time": "2022-03-25T18:14:45.073248Z"
    }
   },
   "outputs": [
    {
     "name": "stderr",
     "output_type": "stream",
     "text": [
      "/home/mahelvson/anaconda3/envs/foot/lib/python3.9/site-packages/sklearn/linear_model/_logistic.py:814: ConvergenceWarning: lbfgs failed to converge (status=1):\n",
      "STOP: TOTAL NO. of ITERATIONS REACHED LIMIT.\n",
      "\n",
      "Increase the number of iterations (max_iter) or scale the data as shown in:\n",
      "    https://scikit-learn.org/stable/modules/preprocessing.html\n",
      "Please also refer to the documentation for alternative solver options:\n",
      "    https://scikit-learn.org/stable/modules/linear_model.html#logistic-regression\n",
      "  n_iter_i = _check_optimize_result(\n"
     ]
    }
   ],
   "source": [
    "clf_lg = LogisticRegression().fit(X_train, y_train)\n",
    "y_hat_lg = clf_lg.predict(X_test)"
   ]
  },
  {
   "cell_type": "code",
   "execution_count": 1167,
   "id": "65782f27",
   "metadata": {
    "ExecuteTime": {
     "end_time": "2022-03-25T18:14:45.448303Z",
     "start_time": "2022-03-25T18:14:45.443935Z"
    }
   },
   "outputs": [
    {
     "data": {
      "text/plain": [
       "0.40789473684210525"
      ]
     },
     "execution_count": 1167,
     "metadata": {},
     "output_type": "execute_result"
    }
   ],
   "source": [
    "accuracy_score(y_test, y_hat_lg)"
   ]
  },
  {
   "cell_type": "code",
   "execution_count": 1183,
   "id": "5450e6e8",
   "metadata": {
    "ExecuteTime": {
     "end_time": "2022-03-25T18:15:35.809281Z",
     "start_time": "2022-03-25T18:15:35.642135Z"
    }
   },
   "outputs": [
    {
     "data": {
      "text/plain": [
       "<AxesSubplot:>"
      ]
     },
     "execution_count": 1183,
     "metadata": {},
     "output_type": "execute_result"
    },
    {
     "data": {
      "image/png": "[encoded data removed]",
      "text/plain": [
       "<Figure size 432x288 with 2 Axes>"
      ]
     },
     "metadata": {
      "needs_background": "light"
     },
     "output_type": "display_data"
    }
   ],
   "source": [
    "sns.heatmap(confusion_matrix(y_test, y_hat_lg, normalize='true'), annot=True, )"
   ]
  },
  {
   "cell_type": "markdown",
   "id": "ae9a52bf",
   "metadata": {},
   "source": [
    "## 7.2 XGBoost "
   ]
  },
  {
   "cell_type": "code",
   "execution_count": 1168,
   "id": "075261b9",
   "metadata": {
    "ExecuteTime": {
     "end_time": "2022-03-25T18:14:50.884758Z",
     "start_time": "2022-03-25T18:14:47.423263Z"
    }
   },
   "outputs": [
    {
     "name": "stderr",
     "output_type": "stream",
     "text": [
      "/home/mahelvson/anaconda3/envs/foot/lib/python3.9/site-packages/xgboost/sklearn.py:1224: UserWarning: The use of label encoder in XGBClassifier is deprecated and will be removed in a future release. To remove this warning, do the following: 1) Pass option use_label_encoder=False when constructing XGBClassifier object; and 2) Encode your labels (y) as integers starting with 0, i.e. 0, 1, 2, ..., [num_class - 1].\n",
      "  warnings.warn(label_encoder_deprecation_msg, UserWarning)\n"
     ]
    },
    {
     "name": "stdout",
     "output_type": "stream",
     "text": [
      "[15:14:50] WARNING: ../src/learner.cc:1115: Starting in XGBoost 1.3.0, the default evaluation metric used with the objective 'multi:softprob' was changed from 'merror' to 'mlogloss'. Explicitly set eval_metric if you'd like to restore the old behavior.\n"
     ]
    }
   ],
   "source": [
    "clf_xgb = xgb.XGBRFClassifier(n_estimators = 1000).fit(X_train, y_train)\n",
    "yhat_xgb = clf_xgb.predict(X_test)"
   ]
  },
  {
   "cell_type": "code",
   "execution_count": 1169,
   "id": "81f1174a",
   "metadata": {
    "ExecuteTime": {
     "end_time": "2022-03-25T18:14:50.890135Z",
     "start_time": "2022-03-25T18:14:50.886346Z"
    }
   },
   "outputs": [
    {
     "data": {
      "text/plain": [
       "0.47368421052631576"
      ]
     },
     "execution_count": 1169,
     "metadata": {},
     "output_type": "execute_result"
    }
   ],
   "source": [
    "accuracy_score(y_test, yhat_xgb)"
   ]
  },
  {
   "cell_type": "code",
   "execution_count": 1170,
   "id": "62ab192f",
   "metadata": {
    "ExecuteTime": {
     "end_time": "2022-03-25T18:14:54.809577Z",
     "start_time": "2022-03-25T18:14:54.650598Z"
    }
   },
   "outputs": [
    {
     "data": {
      "text/plain": [
       "<AxesSubplot:>"
      ]
     },
     "execution_count": 1170,
     "metadata": {},
     "output_type": "execute_result"
    },
    {
     "data": {
      "image/png": "[encoded data removed]",
      "text/plain": [
       "<Figure size 432x288 with 2 Axes>"
      ]
     },
     "metadata": {
      "needs_background": "light"
     },
     "output_type": "display_data"
    }
   ],
   "source": [
    "sns.heatmap(confusion_matrix(y_test, yhat_xgb, normalize='true'), annot=True, )"
   ]
  },
  {
   "cell_type": "markdown",
   "id": "92ef5452",
   "metadata": {},
   "source": [
    "## 7.3 Random Forest "
   ]
  },
  {
   "cell_type": "code",
   "execution_count": 1171,
   "id": "11dbdf11",
   "metadata": {
    "ExecuteTime": {
     "end_time": "2022-03-25T18:15:01.757663Z",
     "start_time": "2022-03-25T18:14:58.185460Z"
    }
   },
   "outputs": [],
   "source": [
    "clf_rf = RandomForestClassifier(n_estimators = 2000, n_jobs = -1, random_state = 42).fit(X_train, y_train)\n",
    "yhat_rf = clf_rf.predict(X_test)"
   ]
  },
  {
   "cell_type": "code",
   "execution_count": 1172,
   "id": "24893500",
   "metadata": {
    "ExecuteTime": {
     "end_time": "2022-03-25T18:15:01.764405Z",
     "start_time": "2022-03-25T18:15:01.759221Z"
    }
   },
   "outputs": [
    {
     "data": {
      "text/plain": [
       "0.47368421052631576"
      ]
     },
     "execution_count": 1172,
     "metadata": {},
     "output_type": "execute_result"
    }
   ],
   "source": [
    "accuracy_score(y_test, yhat_rf)"
   ]
  },
  {
   "cell_type": "code",
   "execution_count": 1173,
   "id": "8b1d5d30",
   "metadata": {
    "ExecuteTime": {
     "end_time": "2022-03-25T18:15:03.353185Z",
     "start_time": "2022-03-25T18:15:02.711367Z"
    }
   },
   "outputs": [
    {
     "data": {
      "image/png": "[encoded data removed]",
      "text/plain": [
       "<Figure size 432x288 with 2 Axes>"
      ]
     },
     "metadata": {
      "needs_background": "light"
     },
     "output_type": "display_data"
    }
   ],
   "source": [
    "sns.heatmap(confusion_matrix(y_test, yhat_rf, normalize='true'), annot=True, );"
   ]
  },
  {
   "cell_type": "markdown",
   "id": "932e9839",
   "metadata": {},
   "source": [
    "## 7.4 SVM "
   ]
  },
  {
   "cell_type": "code",
   "execution_count": 1174,
   "id": "02d7f19e",
   "metadata": {
    "ExecuteTime": {
     "end_time": "2022-03-25T18:15:06.902104Z",
     "start_time": "2022-03-25T18:15:06.812028Z"
    }
   },
   "outputs": [],
   "source": [
    "clf_svc = svm.SVC().fit(X_train, y_train)\n",
    "y_hat_svc = clf_svc.predict(X_test)"
   ]
  },
  {
   "cell_type": "code",
   "execution_count": 1175,
   "id": "12c91529",
   "metadata": {
    "ExecuteTime": {
     "end_time": "2022-03-25T18:15:07.209580Z",
     "start_time": "2022-03-25T18:15:07.201763Z"
    }
   },
   "outputs": [
    {
     "data": {
      "text/plain": [
       "0.4473684210526316"
      ]
     },
     "execution_count": 1175,
     "metadata": {},
     "output_type": "execute_result"
    }
   ],
   "source": [
    "accuracy_score(y_test, y_hat_svc)"
   ]
  },
  {
   "cell_type": "code",
   "execution_count": 1176,
   "id": "e11ba30f",
   "metadata": {
    "ExecuteTime": {
     "end_time": "2022-03-25T18:15:07.636013Z",
     "start_time": "2022-03-25T18:15:07.466926Z"
    }
   },
   "outputs": [
    {
     "data": {
      "image/png": "[encoded data removed]",
      "text/plain": [
       "<Figure size 432x288 with 2 Axes>"
      ]
     },
     "metadata": {
      "needs_background": "light"
     },
     "output_type": "display_data"
    }
   ],
   "source": [
    "sns.heatmap(confusion_matrix(y_test, y_hat_svc, normalize='true'), annot=True);"
   ]
  },
  {
   "cell_type": "markdown",
   "id": "6d58543c",
   "metadata": {},
   "source": [
    "## 7.5 SGD "
   ]
  },
  {
   "cell_type": "code",
   "execution_count": 1177,
   "id": "1127c5ef",
   "metadata": {
    "ExecuteTime": {
     "end_time": "2022-03-25T18:15:10.297978Z",
     "start_time": "2022-03-25T18:15:10.226448Z"
    }
   },
   "outputs": [],
   "source": [
    "clf_sgd = SGDClassifier().fit(X_train, y_train)\n",
    "y_hat_sgd = clf_sgd.predict(X_test)"
   ]
  },
  {
   "cell_type": "code",
   "execution_count": 1178,
   "id": "d4de7964",
   "metadata": {
    "ExecuteTime": {
     "end_time": "2022-03-25T18:15:10.783698Z",
     "start_time": "2022-03-25T18:15:10.775705Z"
    }
   },
   "outputs": [
    {
     "data": {
      "text/plain": [
       "0.45"
      ]
     },
     "execution_count": 1178,
     "metadata": {},
     "output_type": "execute_result"
    }
   ],
   "source": [
    "accuracy_score(y_test, y_hat_sgd)"
   ]
  },
  {
   "cell_type": "code",
   "execution_count": 1179,
   "id": "99ad3ec5",
   "metadata": {
    "ExecuteTime": {
     "end_time": "2022-03-25T18:15:11.681690Z",
     "start_time": "2022-03-25T18:15:11.525390Z"
    }
   },
   "outputs": [
    {
     "data": {
      "text/plain": [
       "<AxesSubplot:>"
      ]
     },
     "execution_count": 1179,
     "metadata": {},
     "output_type": "execute_result"
    },
    {
     "data": {
      "image/png": "[encoded data removed]",
      "text/plain": [
       "<Figure size 432x288 with 2 Axes>"
      ]
     },
     "metadata": {
      "needs_background": "light"
     },
     "output_type": "display_data"
    }
   ],
   "source": [
    "sns.heatmap(confusion_matrix(y_test, y_hat_sgd, normalize='true'), annot=True, )"
   ]
  },
  {
   "cell_type": "markdown",
   "id": "1f437b54",
   "metadata": {},
   "source": [
    "## 7.6 MLP "
   ]
  },
  {
   "cell_type": "code",
   "execution_count": 1180,
   "id": "d341240a",
   "metadata": {
    "ExecuteTime": {
     "end_time": "2022-03-25T18:15:15.451330Z",
     "start_time": "2022-03-25T18:15:13.561979Z"
    }
   },
   "outputs": [],
   "source": [
    "clf_mlp = MLPClassifier(max_iter=500).fit(X_train, y_train)\n",
    "y_hat_mlp = clf_mlp.predict(X_test)"
   ]
  },
  {
   "cell_type": "code",
   "execution_count": 1181,
   "id": "42bf9861",
   "metadata": {
    "ExecuteTime": {
     "end_time": "2022-03-25T18:15:15.478988Z",
     "start_time": "2022-03-25T18:15:15.466152Z"
    }
   },
   "outputs": [
    {
     "data": {
      "text/plain": [
       "0.37894736842105264"
      ]
     },
     "execution_count": 1181,
     "metadata": {},
     "output_type": "execute_result"
    }
   ],
   "source": [
    "accuracy_score(y_test, y_hat_mlp)"
   ]
  },
  {
   "cell_type": "code",
   "execution_count": 1182,
   "id": "97bc4ab2",
   "metadata": {
    "ExecuteTime": {
     "end_time": "2022-03-25T18:15:15.706362Z",
     "start_time": "2022-03-25T18:15:15.482456Z"
    }
   },
   "outputs": [
    {
     "data": {
      "image/png": "[encoded data removed]",
      "text/plain": [
       "<Figure size 432x288 with 2 Axes>"
      ]
     },
     "metadata": {
      "needs_background": "light"
     },
     "output_type": "display_data"
    }
   ],
   "source": [
    "sns.heatmap(confusion_matrix(y_test, y_hat_mlp, normalize='true'), annot=True, );"
   ]
  },
  {
   "cell_type": "markdown",
   "id": "23dcfea8",
   "metadata": {},
   "source": [
    "# 7.0 Fine Tuning "
   ]
  },
  {
   "cell_type": "code",
   "execution_count": null,
   "id": "af33d276",
   "metadata": {},
   "outputs": [],
   "source": []
  }
 ],
 "metadata": {
  "kernelspec": {
   "display_name": "Python 3 (ipykernel)",
   "language": "python",
   "name": "python3"
  },
  "language_info": {
   "codemirror_mode": {
    "name": "ipython",
    "version": 3
   },
   "file_extension": ".py",
   "mimetype": "text/x-python",
   "name": "python",
   "nbconvert_exporter": "python",
   "pygments_lexer": "ipython3",
   "version": "3.9.7"
  }
 },
 "nbformat": 4,
 "nbformat_minor": 5
}
