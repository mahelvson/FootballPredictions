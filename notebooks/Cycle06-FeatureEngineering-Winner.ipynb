{
 "cells": [
  {
   "cell_type": "markdown",
   "id": "648a4712",
   "metadata": {},
   "source": [
    "# 0. Imports "
   ]
  },
  {
   "cell_type": "code",
   "execution_count": 308,
   "id": "0b87f4ad",
   "metadata": {
    "ExecuteTime": {
     "end_time": "2022-03-17T18:16:26.934376Z",
     "start_time": "2022-03-17T18:16:26.929649Z"
    }
   },
   "outputs": [],
   "source": [
    "import pandas as pd\n",
    "import numpy as np\n",
    "import matplotlib.pyplot as plt\n",
    "import seaborn as sns\n",
    "import xgboost as xgb\n",
    "\n",
    "from os import listdir\n",
    "from sklearn.model_selection import train_test_split, cross_val_score\n",
    "from sklearn.metrics import confusion_matrix, accuracy_score, classification_report\n",
    "from sklearn.ensemble import RandomForestRegressor, RandomForestClassifier\n",
    "from sklearn.metrics import mean_absolute_error, mean_squared_error, mean_absolute_percentage_error\n",
    "from sklearn.linear_model import LogisticRegression\n",
    "from sklearn.preprocessing import LabelEncoder, StandardScaler\n",
    "from sklearn import svm, tree\n",
    "from sklearn.naive_bayes import GaussianNB\n",
    "from sklearn.linear_model import SGDClassifier\n",
    "from sklearn.ensemble import VotingClassifier\n",
    "from sklearn.neural_network import MLPClassifier"
   ]
  },
  {
   "cell_type": "markdown",
   "id": "25b9bf7e",
   "metadata": {},
   "source": [
    "# 1. Loading Data "
   ]
  },
  {
   "cell_type": "code",
   "execution_count": 2,
   "id": "b9bc9da9",
   "metadata": {
    "ExecuteTime": {
     "end_time": "2022-03-17T13:38:10.018996Z",
     "start_time": "2022-03-17T13:38:10.015914Z"
    }
   },
   "outputs": [],
   "source": [
    "data_path = '../datasets/'\n",
    "files = listdir(data_path)"
   ]
  },
  {
   "cell_type": "code",
   "execution_count": 3,
   "id": "e40fc1d5",
   "metadata": {
    "ExecuteTime": {
     "end_time": "2022-03-17T13:38:11.344784Z",
     "start_time": "2022-03-17T13:38:11.339331Z"
    }
   },
   "outputs": [
    {
     "data": {
      "text/plain": [
       "['campeonato-brasileiro-cartoes.csv',\n",
       " 'campeonato-brasileiro-full.csv',\n",
       " 'campeonato-brasileiro-estatisticas-full.csv',\n",
       " 'campeonato-brasileiro-gols.csv',\n",
       " 'Legenda.txt']"
      ]
     },
     "execution_count": 3,
     "metadata": {},
     "output_type": "execute_result"
    }
   ],
   "source": [
    "files"
   ]
  },
  {
   "cell_type": "code",
   "execution_count": 4,
   "id": "71d0ac19",
   "metadata": {
    "ExecuteTime": {
     "end_time": "2022-03-17T13:38:11.919059Z",
     "start_time": "2022-03-17T13:38:11.912154Z"
    }
   },
   "outputs": [],
   "source": [
    "cards = files[0]\n",
    "full = files[1]\n",
    "stats = files[2]\n",
    "goals = files[3]"
   ]
  },
  {
   "cell_type": "markdown",
   "id": "402e3783",
   "metadata": {},
   "source": [
    "## 1.1 Cards"
   ]
  },
  {
   "cell_type": "code",
   "execution_count": 5,
   "id": "bad57e66",
   "metadata": {
    "ExecuteTime": {
     "end_time": "2022-03-17T13:38:13.855860Z",
     "start_time": "2022-03-17T13:38:13.812851Z"
    }
   },
   "outputs": [
    {
     "data": {
      "text/html": [
       "<div>\n",
       "<style scoped>\n",
       "    .dataframe tbody tr th:only-of-type {\n",
       "        vertical-align: middle;\n",
       "    }\n",
       "\n",
       "    .dataframe tbody tr th {\n",
       "        vertical-align: top;\n",
       "    }\n",
       "\n",
       "    .dataframe thead th {\n",
       "        text-align: right;\n",
       "    }\n",
       "</style>\n",
       "<table border=\"1\" class=\"dataframe\">\n",
       "  <thead>\n",
       "    <tr style=\"text-align: right;\">\n",
       "      <th></th>\n",
       "      <th>partida_id</th>\n",
       "      <th>rodada</th>\n",
       "      <th>clube</th>\n",
       "      <th>cartao</th>\n",
       "      <th>atleta</th>\n",
       "      <th>num_camisa</th>\n",
       "      <th>posicao</th>\n",
       "      <th>minuto</th>\n",
       "    </tr>\n",
       "  </thead>\n",
       "  <tbody>\n",
       "    <tr>\n",
       "      <th>0</th>\n",
       "      <td>4607</td>\n",
       "      <td>1</td>\n",
       "      <td>Figueirense</td>\n",
       "      <td>Amarelo</td>\n",
       "      <td>Thiago Heleno</td>\n",
       "      <td>4.0</td>\n",
       "      <td>Zagueiro</td>\n",
       "      <td>44</td>\n",
       "    </tr>\n",
       "    <tr>\n",
       "      <th>1</th>\n",
       "      <td>4607</td>\n",
       "      <td>1</td>\n",
       "      <td>Figueirense</td>\n",
       "      <td>Amarelo</td>\n",
       "      <td>Paulo Roberto da Silva</td>\n",
       "      <td>28.0</td>\n",
       "      <td>NaN</td>\n",
       "      <td>66</td>\n",
       "    </tr>\n",
       "    <tr>\n",
       "      <th>2</th>\n",
       "      <td>4608</td>\n",
       "      <td>1</td>\n",
       "      <td>Internacional</td>\n",
       "      <td>Amarelo</td>\n",
       "      <td>Juan Silveira dos Santos</td>\n",
       "      <td>4.0</td>\n",
       "      <td>Zagueiro</td>\n",
       "      <td>20</td>\n",
       "    </tr>\n",
       "    <tr>\n",
       "      <th>3</th>\n",
       "      <td>4608</td>\n",
       "      <td>1</td>\n",
       "      <td>Vitoria</td>\n",
       "      <td>Amarelo</td>\n",
       "      <td>Vinícius Santos Silva</td>\n",
       "      <td>NaN</td>\n",
       "      <td>NaN</td>\n",
       "      <td>82</td>\n",
       "    </tr>\n",
       "    <tr>\n",
       "      <th>4</th>\n",
       "      <td>4608</td>\n",
       "      <td>1</td>\n",
       "      <td>Internacional</td>\n",
       "      <td>Amarelo</td>\n",
       "      <td>Andrés D'Alessandro</td>\n",
       "      <td>10.0</td>\n",
       "      <td>Meio-campo</td>\n",
       "      <td>72</td>\n",
       "    </tr>\n",
       "  </tbody>\n",
       "</table>\n",
       "</div>"
      ],
      "text/plain": [
       "   partida_id  rodada          clube   cartao                    atleta  \\\n",
       "0        4607       1    Figueirense  Amarelo             Thiago Heleno   \n",
       "1        4607       1    Figueirense  Amarelo    Paulo Roberto da Silva   \n",
       "2        4608       1  Internacional  Amarelo  Juan Silveira dos Santos   \n",
       "3        4608       1        Vitoria  Amarelo     Vinícius Santos Silva   \n",
       "4        4608       1  Internacional  Amarelo       Andrés D'Alessandro   \n",
       "\n",
       "   num_camisa     posicao minuto  \n",
       "0         4.0    Zagueiro     44  \n",
       "1        28.0         NaN     66  \n",
       "2         4.0    Zagueiro     20  \n",
       "3         NaN         NaN     82  \n",
       "4        10.0  Meio-campo     72  "
      ]
     },
     "execution_count": 5,
     "metadata": {},
     "output_type": "execute_result"
    }
   ],
   "source": [
    "df_cards = pd.read_csv(data_path + cards)\n",
    "df_cards.head()"
   ]
  },
  {
   "cell_type": "code",
   "execution_count": 6,
   "id": "5451bc20",
   "metadata": {
    "ExecuteTime": {
     "end_time": "2022-03-17T13:38:14.011974Z",
     "start_time": "2022-03-17T13:38:13.987929Z"
    }
   },
   "outputs": [
    {
     "data": {
      "text/plain": [
       "partida_id    0.000000\n",
       "rodada        0.000000\n",
       "clube         0.000000\n",
       "cartao        0.000000\n",
       "atleta        0.000406\n",
       "num_camisa    0.026138\n",
       "posicao       0.081121\n",
       "minuto        0.000000\n",
       "dtype: float64"
      ]
     },
     "execution_count": 6,
     "metadata": {},
     "output_type": "execute_result"
    }
   ],
   "source": [
    "df_cards.isna().sum() / df_cards.shape[0]"
   ]
  },
  {
   "cell_type": "code",
   "execution_count": 7,
   "id": "06865881",
   "metadata": {
    "ExecuteTime": {
     "end_time": "2022-03-17T13:38:14.133098Z",
     "start_time": "2022-03-17T13:38:14.126837Z"
    }
   },
   "outputs": [
    {
     "data": {
      "text/plain": [
       "(14768, 8)"
      ]
     },
     "execution_count": 7,
     "metadata": {},
     "output_type": "execute_result"
    }
   ],
   "source": [
    "df_cards.shape"
   ]
  },
  {
   "cell_type": "code",
   "execution_count": 8,
   "id": "1573bdf7",
   "metadata": {
    "ExecuteTime": {
     "end_time": "2022-03-17T13:38:14.284482Z",
     "start_time": "2022-03-17T13:38:14.276982Z"
    }
   },
   "outputs": [
    {
     "data": {
      "text/plain": [
       "partida_id      int64\n",
       "rodada          int64\n",
       "clube          object\n",
       "cartao         object\n",
       "atleta         object\n",
       "num_camisa    float64\n",
       "posicao        object\n",
       "minuto         object\n",
       "dtype: object"
      ]
     },
     "execution_count": 8,
     "metadata": {},
     "output_type": "execute_result"
    }
   ],
   "source": [
    "df_cards.dtypes"
   ]
  },
  {
   "cell_type": "markdown",
   "id": "6b202bf5",
   "metadata": {},
   "source": [
    "Quantidade de NaN é no máximo 8% em relação ao total da registros."
   ]
  },
  {
   "cell_type": "markdown",
   "id": "773ebda2",
   "metadata": {},
   "source": [
    "## 1.2 Full"
   ]
  },
  {
   "cell_type": "code",
   "execution_count": 9,
   "id": "b0198203",
   "metadata": {
    "ExecuteTime": {
     "end_time": "2022-03-17T13:38:14.799827Z",
     "start_time": "2022-03-17T13:38:14.749598Z"
    }
   },
   "outputs": [
    {
     "data": {
      "text/html": [
       "<div>\n",
       "<style scoped>\n",
       "    .dataframe tbody tr th:only-of-type {\n",
       "        vertical-align: middle;\n",
       "    }\n",
       "\n",
       "    .dataframe tbody tr th {\n",
       "        vertical-align: top;\n",
       "    }\n",
       "\n",
       "    .dataframe thead th {\n",
       "        text-align: right;\n",
       "    }\n",
       "</style>\n",
       "<table border=\"1\" class=\"dataframe\">\n",
       "  <thead>\n",
       "    <tr style=\"text-align: right;\">\n",
       "      <th></th>\n",
       "      <th>ID</th>\n",
       "      <th>rodada</th>\n",
       "      <th>data</th>\n",
       "      <th>hora</th>\n",
       "      <th>dia</th>\n",
       "      <th>mandante</th>\n",
       "      <th>visitante</th>\n",
       "      <th>formacao_mandante</th>\n",
       "      <th>formacao_visitante</th>\n",
       "      <th>tecnico_mandante</th>\n",
       "      <th>tecnico_visitante</th>\n",
       "      <th>vencedor</th>\n",
       "      <th>arena</th>\n",
       "      <th>mandante_placar</th>\n",
       "      <th>visitante_placar</th>\n",
       "      <th>mandante_estado</th>\n",
       "      <th>visitante_estado</th>\n",
       "      <th>estado_vencedor</th>\n",
       "    </tr>\n",
       "  </thead>\n",
       "  <tbody>\n",
       "    <tr>\n",
       "      <th>0</th>\n",
       "      <td>1</td>\n",
       "      <td>1</td>\n",
       "      <td>2003-03-29</td>\n",
       "      <td>16:00</td>\n",
       "      <td>Sabado</td>\n",
       "      <td>Guarani</td>\n",
       "      <td>Vasco</td>\n",
       "      <td>NaN</td>\n",
       "      <td>NaN</td>\n",
       "      <td>NaN</td>\n",
       "      <td>NaN</td>\n",
       "      <td>Guarani</td>\n",
       "      <td>brinco de ouro</td>\n",
       "      <td>4</td>\n",
       "      <td>2</td>\n",
       "      <td>SP</td>\n",
       "      <td>RJ</td>\n",
       "      <td>SP</td>\n",
       "    </tr>\n",
       "    <tr>\n",
       "      <th>1</th>\n",
       "      <td>2</td>\n",
       "      <td>1</td>\n",
       "      <td>2003-03-29</td>\n",
       "      <td>16:00</td>\n",
       "      <td>Sabado</td>\n",
       "      <td>Athletico-PR</td>\n",
       "      <td>Gremio</td>\n",
       "      <td>NaN</td>\n",
       "      <td>NaN</td>\n",
       "      <td>NaN</td>\n",
       "      <td>NaN</td>\n",
       "      <td>Athletico-PR</td>\n",
       "      <td>arena da baixada</td>\n",
       "      <td>2</td>\n",
       "      <td>0</td>\n",
       "      <td>PR</td>\n",
       "      <td>RS</td>\n",
       "      <td>PR</td>\n",
       "    </tr>\n",
       "    <tr>\n",
       "      <th>2</th>\n",
       "      <td>3</td>\n",
       "      <td>1</td>\n",
       "      <td>2003-03-30</td>\n",
       "      <td>16:00</td>\n",
       "      <td>Domingo</td>\n",
       "      <td>Flamengo</td>\n",
       "      <td>Coritiba</td>\n",
       "      <td>NaN</td>\n",
       "      <td>NaN</td>\n",
       "      <td>NaN</td>\n",
       "      <td>NaN</td>\n",
       "      <td>-</td>\n",
       "      <td>maracana</td>\n",
       "      <td>1</td>\n",
       "      <td>1</td>\n",
       "      <td>RJ</td>\n",
       "      <td>PR</td>\n",
       "      <td>-</td>\n",
       "    </tr>\n",
       "    <tr>\n",
       "      <th>3</th>\n",
       "      <td>4</td>\n",
       "      <td>1</td>\n",
       "      <td>2003-03-30</td>\n",
       "      <td>16:00</td>\n",
       "      <td>Domingo</td>\n",
       "      <td>Goias</td>\n",
       "      <td>Paysandu</td>\n",
       "      <td>NaN</td>\n",
       "      <td>NaN</td>\n",
       "      <td>NaN</td>\n",
       "      <td>NaN</td>\n",
       "      <td>-</td>\n",
       "      <td>serra dourada</td>\n",
       "      <td>2</td>\n",
       "      <td>2</td>\n",
       "      <td>GO</td>\n",
       "      <td>PA</td>\n",
       "      <td>-</td>\n",
       "    </tr>\n",
       "    <tr>\n",
       "      <th>4</th>\n",
       "      <td>5</td>\n",
       "      <td>1</td>\n",
       "      <td>2003-03-30</td>\n",
       "      <td>16:00</td>\n",
       "      <td>Domingo</td>\n",
       "      <td>Internacional</td>\n",
       "      <td>Ponte Preta</td>\n",
       "      <td>NaN</td>\n",
       "      <td>NaN</td>\n",
       "      <td>NaN</td>\n",
       "      <td>NaN</td>\n",
       "      <td>-</td>\n",
       "      <td>beira rio</td>\n",
       "      <td>1</td>\n",
       "      <td>1</td>\n",
       "      <td>RS</td>\n",
       "      <td>SP</td>\n",
       "      <td>-</td>\n",
       "    </tr>\n",
       "    <tr>\n",
       "      <th>...</th>\n",
       "      <td>...</td>\n",
       "      <td>...</td>\n",
       "      <td>...</td>\n",
       "      <td>...</td>\n",
       "      <td>...</td>\n",
       "      <td>...</td>\n",
       "      <td>...</td>\n",
       "      <td>...</td>\n",
       "      <td>...</td>\n",
       "      <td>...</td>\n",
       "      <td>...</td>\n",
       "      <td>...</td>\n",
       "      <td>...</td>\n",
       "      <td>...</td>\n",
       "      <td>...</td>\n",
       "      <td>...</td>\n",
       "      <td>...</td>\n",
       "      <td>...</td>\n",
       "    </tr>\n",
       "    <tr>\n",
       "      <th>7640</th>\n",
       "      <td>7641</td>\n",
       "      <td>38</td>\n",
       "      <td>2021-12-12</td>\n",
       "      <td>21:33</td>\n",
       "      <td>Domingo</td>\n",
       "      <td>Bragantino</td>\n",
       "      <td>Internacional</td>\n",
       "      <td>4-2-3-1</td>\n",
       "      <td>3-4-2-1</td>\n",
       "      <td>D. Aguirre Camblor</td>\n",
       "      <td>D. Aguirre Camblor</td>\n",
       "      <td>Bragantino</td>\n",
       "      <td>nabizao</td>\n",
       "      <td>1</td>\n",
       "      <td>0</td>\n",
       "      <td>SP</td>\n",
       "      <td>RS</td>\n",
       "      <td>SP</td>\n",
       "    </tr>\n",
       "    <tr>\n",
       "      <th>7641</th>\n",
       "      <td>7642</td>\n",
       "      <td>38</td>\n",
       "      <td>2021-12-12</td>\n",
       "      <td>21:30</td>\n",
       "      <td>Domingo</td>\n",
       "      <td>Sport</td>\n",
       "      <td>Athletico-PR</td>\n",
       "      <td>4-2-3-1</td>\n",
       "      <td>3-4-2-1</td>\n",
       "      <td>J. Freitas</td>\n",
       "      <td>J. Freitas</td>\n",
       "      <td>-</td>\n",
       "      <td>arena de pernambuco</td>\n",
       "      <td>1</td>\n",
       "      <td>1</td>\n",
       "      <td>PE</td>\n",
       "      <td>PR</td>\n",
       "      <td>-</td>\n",
       "    </tr>\n",
       "    <tr>\n",
       "      <th>7642</th>\n",
       "      <td>7643</td>\n",
       "      <td>38</td>\n",
       "      <td>2021-12-12</td>\n",
       "      <td>21:33</td>\n",
       "      <td>Domingo</td>\n",
       "      <td>Juventude</td>\n",
       "      <td>Corinthians</td>\n",
       "      <td>3-4-3</td>\n",
       "      <td>4-3-3</td>\n",
       "      <td>S. Campos Junior</td>\n",
       "      <td>S. Campos Junior</td>\n",
       "      <td>Juventude</td>\n",
       "      <td>alfredo jaconi</td>\n",
       "      <td>1</td>\n",
       "      <td>0</td>\n",
       "      <td>RS</td>\n",
       "      <td>SP</td>\n",
       "      <td>RS</td>\n",
       "    </tr>\n",
       "    <tr>\n",
       "      <th>7643</th>\n",
       "      <td>7644</td>\n",
       "      <td>38</td>\n",
       "      <td>2021-12-12</td>\n",
       "      <td>21:33</td>\n",
       "      <td>Domingo</td>\n",
       "      <td>Gremio</td>\n",
       "      <td>Atletico-MG</td>\n",
       "      <td>4-2-3-1</td>\n",
       "      <td>4-2-3-1</td>\n",
       "      <td>A. Stival</td>\n",
       "      <td>A. Stival</td>\n",
       "      <td>Gremio</td>\n",
       "      <td>arena do gremio</td>\n",
       "      <td>4</td>\n",
       "      <td>3</td>\n",
       "      <td>RS</td>\n",
       "      <td>MG</td>\n",
       "      <td>RS</td>\n",
       "    </tr>\n",
       "    <tr>\n",
       "      <th>7644</th>\n",
       "      <td>7645</td>\n",
       "      <td>38</td>\n",
       "      <td>2021-12-12</td>\n",
       "      <td>21:33</td>\n",
       "      <td>Domingo</td>\n",
       "      <td>Santos</td>\n",
       "      <td>Cuiaba</td>\n",
       "      <td>3-4-2-1</td>\n",
       "      <td>4-4-2</td>\n",
       "      <td>J. de Amorim Campos</td>\n",
       "      <td>J. de Amorim Campos</td>\n",
       "      <td>-</td>\n",
       "      <td>estadio urbano caldeira</td>\n",
       "      <td>1</td>\n",
       "      <td>1</td>\n",
       "      <td>SP</td>\n",
       "      <td>MT</td>\n",
       "      <td>-</td>\n",
       "    </tr>\n",
       "  </tbody>\n",
       "</table>\n",
       "<p>7645 rows × 18 columns</p>\n",
       "</div>"
      ],
      "text/plain": [
       "        ID  rodada        data   hora      dia       mandante      visitante  \\\n",
       "0        1       1  2003-03-29  16:00   Sabado        Guarani          Vasco   \n",
       "1        2       1  2003-03-29  16:00   Sabado   Athletico-PR         Gremio   \n",
       "2        3       1  2003-03-30  16:00  Domingo       Flamengo       Coritiba   \n",
       "3        4       1  2003-03-30  16:00  Domingo          Goias       Paysandu   \n",
       "4        5       1  2003-03-30  16:00  Domingo  Internacional    Ponte Preta   \n",
       "...    ...     ...         ...    ...      ...            ...            ...   \n",
       "7640  7641      38  2021-12-12  21:33  Domingo     Bragantino  Internacional   \n",
       "7641  7642      38  2021-12-12  21:30  Domingo          Sport   Athletico-PR   \n",
       "7642  7643      38  2021-12-12  21:33  Domingo      Juventude    Corinthians   \n",
       "7643  7644      38  2021-12-12  21:33  Domingo         Gremio    Atletico-MG   \n",
       "7644  7645      38  2021-12-12  21:33  Domingo         Santos         Cuiaba   \n",
       "\n",
       "     formacao_mandante formacao_visitante     tecnico_mandante  \\\n",
       "0                  NaN                NaN                  NaN   \n",
       "1                  NaN                NaN                  NaN   \n",
       "2                  NaN                NaN                  NaN   \n",
       "3                  NaN                NaN                  NaN   \n",
       "4                  NaN                NaN                  NaN   \n",
       "...                ...                ...                  ...   \n",
       "7640           4-2-3-1            3-4-2-1   D. Aguirre Camblor   \n",
       "7641           4-2-3-1            3-4-2-1           J. Freitas   \n",
       "7642             3-4-3              4-3-3     S. Campos Junior   \n",
       "7643           4-2-3-1            4-2-3-1            A. Stival   \n",
       "7644           3-4-2-1              4-4-2  J. de Amorim Campos   \n",
       "\n",
       "        tecnico_visitante      vencedor                    arena  \\\n",
       "0                     NaN       Guarani           brinco de ouro   \n",
       "1                     NaN  Athletico-PR         arena da baixada   \n",
       "2                     NaN             -                 maracana   \n",
       "3                     NaN             -            serra dourada   \n",
       "4                     NaN             -                beira rio   \n",
       "...                   ...           ...                      ...   \n",
       "7640   D. Aguirre Camblor    Bragantino                  nabizao   \n",
       "7641           J. Freitas             -      arena de pernambuco   \n",
       "7642     S. Campos Junior     Juventude           alfredo jaconi   \n",
       "7643            A. Stival        Gremio          arena do gremio   \n",
       "7644  J. de Amorim Campos             -  estadio urbano caldeira   \n",
       "\n",
       "      mandante_placar  visitante_placar mandante_estado visitante_estado  \\\n",
       "0                   4                 2              SP               RJ   \n",
       "1                   2                 0              PR               RS   \n",
       "2                   1                 1              RJ               PR   \n",
       "3                   2                 2              GO               PA   \n",
       "4                   1                 1              RS               SP   \n",
       "...               ...               ...             ...              ...   \n",
       "7640                1                 0              SP               RS   \n",
       "7641                1                 1              PE               PR   \n",
       "7642                1                 0              RS               SP   \n",
       "7643                4                 3              RS               MG   \n",
       "7644                1                 1              SP               MT   \n",
       "\n",
       "     estado_vencedor  \n",
       "0                 SP  \n",
       "1                 PR  \n",
       "2                  -  \n",
       "3                  -  \n",
       "4                  -  \n",
       "...              ...  \n",
       "7640              SP  \n",
       "7641               -  \n",
       "7642              RS  \n",
       "7643              RS  \n",
       "7644               -  \n",
       "\n",
       "[7645 rows x 18 columns]"
      ]
     },
     "execution_count": 9,
     "metadata": {},
     "output_type": "execute_result"
    }
   ],
   "source": [
    "df_full = pd.read_csv(data_path + full)\n",
    "df_full"
   ]
  },
  {
   "cell_type": "code",
   "execution_count": 10,
   "id": "2cca1f49",
   "metadata": {
    "ExecuteTime": {
     "end_time": "2022-03-17T13:38:14.875717Z",
     "start_time": "2022-03-17T13:38:14.871797Z"
    }
   },
   "outputs": [
    {
     "data": {
      "text/plain": [
       "(7645, 18)"
      ]
     },
     "execution_count": 10,
     "metadata": {},
     "output_type": "execute_result"
    }
   ],
   "source": [
    "df_full.shape"
   ]
  },
  {
   "cell_type": "code",
   "execution_count": 11,
   "id": "317aff8e",
   "metadata": {
    "ExecuteTime": {
     "end_time": "2022-03-17T13:38:15.085528Z",
     "start_time": "2022-03-17T13:38:15.060606Z"
    }
   },
   "outputs": [
    {
     "name": "stdout",
     "output_type": "stream",
     "text": [
      "% of NaN\n"
     ]
    },
    {
     "data": {
      "text/plain": [
       "ID                    0.000000\n",
       "rodada                0.000000\n",
       "data                  0.000000\n",
       "hora                  0.000000\n",
       "dia                   0.000000\n",
       "mandante              0.000000\n",
       "visitante             0.000000\n",
       "formacao_mandante     0.650621\n",
       "formacao_visitante    0.650621\n",
       "tecnico_mandante      0.603009\n",
       "tecnico_visitante     0.603009\n",
       "vencedor              0.000000\n",
       "arena                 0.000000\n",
       "mandante_placar       0.000000\n",
       "visitante_placar      0.000000\n",
       "mandante_estado       0.000000\n",
       "visitante_estado      0.000000\n",
       "estado_vencedor       0.000000\n",
       "dtype: float64"
      ]
     },
     "execution_count": 11,
     "metadata": {},
     "output_type": "execute_result"
    }
   ],
   "source": [
    "print('% of NaN')\n",
    "df_full.isna().sum()/df_full.shape[0]"
   ]
  },
  {
   "cell_type": "code",
   "execution_count": 12,
   "id": "80934ad7",
   "metadata": {
    "ExecuteTime": {
     "end_time": "2022-03-17T13:38:15.228191Z",
     "start_time": "2022-03-17T13:38:15.223307Z"
    }
   },
   "outputs": [
    {
     "data": {
      "text/plain": [
       "ID                     int64\n",
       "rodada                 int64\n",
       "data                  object\n",
       "hora                  object\n",
       "dia                   object\n",
       "mandante              object\n",
       "visitante             object\n",
       "formacao_mandante     object\n",
       "formacao_visitante    object\n",
       "tecnico_mandante      object\n",
       "tecnico_visitante     object\n",
       "vencedor              object\n",
       "arena                 object\n",
       "mandante_placar        int64\n",
       "visitante_placar       int64\n",
       "mandante_estado       object\n",
       "visitante_estado      object\n",
       "estado_vencedor       object\n",
       "dtype: object"
      ]
     },
     "execution_count": 12,
     "metadata": {},
     "output_type": "execute_result"
    }
   ],
   "source": [
    "df_full.dtypes"
   ]
  },
  {
   "cell_type": "code",
   "execution_count": 13,
   "id": "89763785",
   "metadata": {
    "ExecuteTime": {
     "end_time": "2022-03-17T13:38:15.449989Z",
     "start_time": "2022-03-17T13:38:15.437117Z"
    }
   },
   "outputs": [],
   "source": [
    "df_full['data'] = pd.to_datetime(df_full.data, yearfirst=True)"
   ]
  },
  {
   "cell_type": "code",
   "execution_count": 14,
   "id": "737531d2",
   "metadata": {
    "ExecuteTime": {
     "end_time": "2022-03-17T13:38:17.179228Z",
     "start_time": "2022-03-17T13:38:17.164680Z"
    }
   },
   "outputs": [
    {
     "data": {
      "text/html": [
       "<div>\n",
       "<style scoped>\n",
       "    .dataframe tbody tr th:only-of-type {\n",
       "        vertical-align: middle;\n",
       "    }\n",
       "\n",
       "    .dataframe tbody tr th {\n",
       "        vertical-align: top;\n",
       "    }\n",
       "\n",
       "    .dataframe thead th {\n",
       "        text-align: right;\n",
       "    }\n",
       "</style>\n",
       "<table border=\"1\" class=\"dataframe\">\n",
       "  <thead>\n",
       "    <tr style=\"text-align: right;\">\n",
       "      <th></th>\n",
       "      <th>ID</th>\n",
       "      <th>rodada</th>\n",
       "      <th>data</th>\n",
       "      <th>hora</th>\n",
       "      <th>dia</th>\n",
       "      <th>mandante</th>\n",
       "      <th>visitante</th>\n",
       "      <th>formacao_mandante</th>\n",
       "      <th>formacao_visitante</th>\n",
       "      <th>tecnico_mandante</th>\n",
       "      <th>tecnico_visitante</th>\n",
       "      <th>vencedor</th>\n",
       "      <th>arena</th>\n",
       "      <th>mandante_placar</th>\n",
       "      <th>visitante_placar</th>\n",
       "      <th>mandante_estado</th>\n",
       "      <th>visitante_estado</th>\n",
       "      <th>estado_vencedor</th>\n",
       "    </tr>\n",
       "  </thead>\n",
       "  <tbody>\n",
       "    <tr>\n",
       "      <th>0</th>\n",
       "      <td>1</td>\n",
       "      <td>1</td>\n",
       "      <td>2003-03-29</td>\n",
       "      <td>16:00</td>\n",
       "      <td>Sabado</td>\n",
       "      <td>Guarani</td>\n",
       "      <td>Vasco</td>\n",
       "      <td>NaN</td>\n",
       "      <td>NaN</td>\n",
       "      <td>NaN</td>\n",
       "      <td>NaN</td>\n",
       "      <td>Guarani</td>\n",
       "      <td>brinco de ouro</td>\n",
       "      <td>4</td>\n",
       "      <td>2</td>\n",
       "      <td>SP</td>\n",
       "      <td>RJ</td>\n",
       "      <td>SP</td>\n",
       "    </tr>\n",
       "    <tr>\n",
       "      <th>1</th>\n",
       "      <td>2</td>\n",
       "      <td>1</td>\n",
       "      <td>2003-03-29</td>\n",
       "      <td>16:00</td>\n",
       "      <td>Sabado</td>\n",
       "      <td>Athletico-PR</td>\n",
       "      <td>Gremio</td>\n",
       "      <td>NaN</td>\n",
       "      <td>NaN</td>\n",
       "      <td>NaN</td>\n",
       "      <td>NaN</td>\n",
       "      <td>Athletico-PR</td>\n",
       "      <td>arena da baixada</td>\n",
       "      <td>2</td>\n",
       "      <td>0</td>\n",
       "      <td>PR</td>\n",
       "      <td>RS</td>\n",
       "      <td>PR</td>\n",
       "    </tr>\n",
       "    <tr>\n",
       "      <th>2</th>\n",
       "      <td>3</td>\n",
       "      <td>1</td>\n",
       "      <td>2003-03-30</td>\n",
       "      <td>16:00</td>\n",
       "      <td>Domingo</td>\n",
       "      <td>Flamengo</td>\n",
       "      <td>Coritiba</td>\n",
       "      <td>NaN</td>\n",
       "      <td>NaN</td>\n",
       "      <td>NaN</td>\n",
       "      <td>NaN</td>\n",
       "      <td>-</td>\n",
       "      <td>maracana</td>\n",
       "      <td>1</td>\n",
       "      <td>1</td>\n",
       "      <td>RJ</td>\n",
       "      <td>PR</td>\n",
       "      <td>-</td>\n",
       "    </tr>\n",
       "    <tr>\n",
       "      <th>3</th>\n",
       "      <td>4</td>\n",
       "      <td>1</td>\n",
       "      <td>2003-03-30</td>\n",
       "      <td>16:00</td>\n",
       "      <td>Domingo</td>\n",
       "      <td>Goias</td>\n",
       "      <td>Paysandu</td>\n",
       "      <td>NaN</td>\n",
       "      <td>NaN</td>\n",
       "      <td>NaN</td>\n",
       "      <td>NaN</td>\n",
       "      <td>-</td>\n",
       "      <td>serra dourada</td>\n",
       "      <td>2</td>\n",
       "      <td>2</td>\n",
       "      <td>GO</td>\n",
       "      <td>PA</td>\n",
       "      <td>-</td>\n",
       "    </tr>\n",
       "    <tr>\n",
       "      <th>4</th>\n",
       "      <td>5</td>\n",
       "      <td>1</td>\n",
       "      <td>2003-03-30</td>\n",
       "      <td>16:00</td>\n",
       "      <td>Domingo</td>\n",
       "      <td>Internacional</td>\n",
       "      <td>Ponte Preta</td>\n",
       "      <td>NaN</td>\n",
       "      <td>NaN</td>\n",
       "      <td>NaN</td>\n",
       "      <td>NaN</td>\n",
       "      <td>-</td>\n",
       "      <td>beira rio</td>\n",
       "      <td>1</td>\n",
       "      <td>1</td>\n",
       "      <td>RS</td>\n",
       "      <td>SP</td>\n",
       "      <td>-</td>\n",
       "    </tr>\n",
       "  </tbody>\n",
       "</table>\n",
       "</div>"
      ],
      "text/plain": [
       "   ID  rodada       data   hora      dia       mandante    visitante  \\\n",
       "0   1       1 2003-03-29  16:00   Sabado        Guarani        Vasco   \n",
       "1   2       1 2003-03-29  16:00   Sabado   Athletico-PR       Gremio   \n",
       "2   3       1 2003-03-30  16:00  Domingo       Flamengo     Coritiba   \n",
       "3   4       1 2003-03-30  16:00  Domingo          Goias     Paysandu   \n",
       "4   5       1 2003-03-30  16:00  Domingo  Internacional  Ponte Preta   \n",
       "\n",
       "  formacao_mandante formacao_visitante tecnico_mandante tecnico_visitante  \\\n",
       "0               NaN                NaN              NaN               NaN   \n",
       "1               NaN                NaN              NaN               NaN   \n",
       "2               NaN                NaN              NaN               NaN   \n",
       "3               NaN                NaN              NaN               NaN   \n",
       "4               NaN                NaN              NaN               NaN   \n",
       "\n",
       "       vencedor             arena  mandante_placar  visitante_placar  \\\n",
       "0       Guarani    brinco de ouro                4                 2   \n",
       "1  Athletico-PR  arena da baixada                2                 0   \n",
       "2             -          maracana                1                 1   \n",
       "3             -     serra dourada                2                 2   \n",
       "4             -         beira rio                1                 1   \n",
       "\n",
       "  mandante_estado visitante_estado estado_vencedor  \n",
       "0              SP               RJ              SP  \n",
       "1              PR               RS              PR  \n",
       "2              RJ               PR               -  \n",
       "3              GO               PA               -  \n",
       "4              RS               SP               -  "
      ]
     },
     "execution_count": 14,
     "metadata": {},
     "output_type": "execute_result"
    }
   ],
   "source": [
    "df_full.head()"
   ]
  },
  {
   "cell_type": "code",
   "execution_count": 15,
   "id": "4aec6685",
   "metadata": {
    "ExecuteTime": {
     "end_time": "2022-03-17T13:38:17.806978Z",
     "start_time": "2022-03-17T13:38:17.802127Z"
    }
   },
   "outputs": [
    {
     "data": {
      "text/plain": [
       "ID                             int64\n",
       "rodada                         int64\n",
       "data                  datetime64[ns]\n",
       "hora                          object\n",
       "dia                           object\n",
       "mandante                      object\n",
       "visitante                     object\n",
       "formacao_mandante             object\n",
       "formacao_visitante            object\n",
       "tecnico_mandante              object\n",
       "tecnico_visitante             object\n",
       "vencedor                      object\n",
       "arena                         object\n",
       "mandante_placar                int64\n",
       "visitante_placar               int64\n",
       "mandante_estado               object\n",
       "visitante_estado              object\n",
       "estado_vencedor               object\n",
       "dtype: object"
      ]
     },
     "execution_count": 15,
     "metadata": {},
     "output_type": "execute_result"
    }
   ],
   "source": [
    "df_full.dtypes"
   ]
  },
  {
   "cell_type": "markdown",
   "id": "ae364e6d",
   "metadata": {},
   "source": [
    "## 1.3 Stats "
   ]
  },
  {
   "cell_type": "code",
   "execution_count": 16,
   "id": "e1306a2d",
   "metadata": {
    "ExecuteTime": {
     "end_time": "2022-03-17T13:38:18.932060Z",
     "start_time": "2022-03-17T13:38:18.902451Z"
    }
   },
   "outputs": [
    {
     "data": {
      "text/html": [
       "<div>\n",
       "<style scoped>\n",
       "    .dataframe tbody tr th:only-of-type {\n",
       "        vertical-align: middle;\n",
       "    }\n",
       "\n",
       "    .dataframe tbody tr th {\n",
       "        vertical-align: top;\n",
       "    }\n",
       "\n",
       "    .dataframe thead th {\n",
       "        text-align: right;\n",
       "    }\n",
       "</style>\n",
       "<table border=\"1\" class=\"dataframe\">\n",
       "  <thead>\n",
       "    <tr style=\"text-align: right;\">\n",
       "      <th></th>\n",
       "      <th>partida_id</th>\n",
       "      <th>rodada</th>\n",
       "      <th>clube</th>\n",
       "      <th>chutes</th>\n",
       "      <th>chutes_no_alvo</th>\n",
       "      <th>posse_de_bola</th>\n",
       "      <th>passes</th>\n",
       "      <th>precisao_passes</th>\n",
       "      <th>faltas</th>\n",
       "      <th>cartao_amarelo</th>\n",
       "      <th>cartao_vermelho</th>\n",
       "      <th>impedimentos</th>\n",
       "      <th>escanteios</th>\n",
       "    </tr>\n",
       "  </thead>\n",
       "  <tbody>\n",
       "    <tr>\n",
       "      <th>0</th>\n",
       "      <td>1</td>\n",
       "      <td>1</td>\n",
       "      <td>Guarani</td>\n",
       "      <td>0</td>\n",
       "      <td>0</td>\n",
       "      <td>NaN</td>\n",
       "      <td>0</td>\n",
       "      <td>NaN</td>\n",
       "      <td>0</td>\n",
       "      <td>0</td>\n",
       "      <td>0</td>\n",
       "      <td>0</td>\n",
       "      <td>0</td>\n",
       "    </tr>\n",
       "    <tr>\n",
       "      <th>1</th>\n",
       "      <td>1</td>\n",
       "      <td>1</td>\n",
       "      <td>Vasco</td>\n",
       "      <td>0</td>\n",
       "      <td>0</td>\n",
       "      <td>NaN</td>\n",
       "      <td>0</td>\n",
       "      <td>NaN</td>\n",
       "      <td>0</td>\n",
       "      <td>0</td>\n",
       "      <td>0</td>\n",
       "      <td>0</td>\n",
       "      <td>0</td>\n",
       "    </tr>\n",
       "    <tr>\n",
       "      <th>2</th>\n",
       "      <td>2</td>\n",
       "      <td>1</td>\n",
       "      <td>Athletico-PR</td>\n",
       "      <td>0</td>\n",
       "      <td>0</td>\n",
       "      <td>NaN</td>\n",
       "      <td>0</td>\n",
       "      <td>NaN</td>\n",
       "      <td>0</td>\n",
       "      <td>0</td>\n",
       "      <td>0</td>\n",
       "      <td>0</td>\n",
       "      <td>0</td>\n",
       "    </tr>\n",
       "    <tr>\n",
       "      <th>3</th>\n",
       "      <td>2</td>\n",
       "      <td>1</td>\n",
       "      <td>Gremio</td>\n",
       "      <td>0</td>\n",
       "      <td>0</td>\n",
       "      <td>NaN</td>\n",
       "      <td>0</td>\n",
       "      <td>NaN</td>\n",
       "      <td>0</td>\n",
       "      <td>0</td>\n",
       "      <td>0</td>\n",
       "      <td>0</td>\n",
       "      <td>0</td>\n",
       "    </tr>\n",
       "    <tr>\n",
       "      <th>4</th>\n",
       "      <td>3</td>\n",
       "      <td>1</td>\n",
       "      <td>Flamengo</td>\n",
       "      <td>0</td>\n",
       "      <td>0</td>\n",
       "      <td>NaN</td>\n",
       "      <td>0</td>\n",
       "      <td>NaN</td>\n",
       "      <td>0</td>\n",
       "      <td>0</td>\n",
       "      <td>0</td>\n",
       "      <td>0</td>\n",
       "      <td>0</td>\n",
       "    </tr>\n",
       "  </tbody>\n",
       "</table>\n",
       "</div>"
      ],
      "text/plain": [
       "   partida_id  rodada         clube  chutes  chutes_no_alvo posse_de_bola  \\\n",
       "0           1       1       Guarani       0               0           NaN   \n",
       "1           1       1         Vasco       0               0           NaN   \n",
       "2           2       1  Athletico-PR       0               0           NaN   \n",
       "3           2       1        Gremio       0               0           NaN   \n",
       "4           3       1      Flamengo       0               0           NaN   \n",
       "\n",
       "   passes precisao_passes  faltas  cartao_amarelo  cartao_vermelho  \\\n",
       "0       0             NaN       0               0                0   \n",
       "1       0             NaN       0               0                0   \n",
       "2       0             NaN       0               0                0   \n",
       "3       0             NaN       0               0                0   \n",
       "4       0             NaN       0               0                0   \n",
       "\n",
       "   impedimentos  escanteios  \n",
       "0             0           0  \n",
       "1             0           0  \n",
       "2             0           0  \n",
       "3             0           0  \n",
       "4             0           0  "
      ]
     },
     "execution_count": 16,
     "metadata": {},
     "output_type": "execute_result"
    }
   ],
   "source": [
    "df_stats = pd.read_csv(data_path + stats)\n",
    "df_stats.head()"
   ]
  },
  {
   "cell_type": "code",
   "execution_count": 17,
   "id": "eabf6995",
   "metadata": {
    "ExecuteTime": {
     "end_time": "2022-03-17T13:38:19.336932Z",
     "start_time": "2022-03-17T13:38:19.329703Z"
    }
   },
   "outputs": [
    {
     "data": {
      "text/plain": [
       "(15290, 13)"
      ]
     },
     "execution_count": 17,
     "metadata": {},
     "output_type": "execute_result"
    }
   ],
   "source": [
    "df_stats.shape"
   ]
  },
  {
   "cell_type": "code",
   "execution_count": 18,
   "id": "958b80b5",
   "metadata": {
    "ExecuteTime": {
     "end_time": "2022-03-17T13:38:20.152667Z",
     "start_time": "2022-03-17T13:38:20.138996Z"
    }
   },
   "outputs": [
    {
     "name": "stdout",
     "output_type": "stream",
     "text": [
      "% of NaN\n"
     ]
    },
    {
     "data": {
      "text/plain": [
       "partida_id         0.000000\n",
       "rodada             0.000000\n",
       "clube              0.000000\n",
       "chutes             0.000000\n",
       "chutes_no_alvo     0.000000\n",
       "posse_de_bola      0.602485\n",
       "passes             0.000000\n",
       "precisao_passes    0.602485\n",
       "faltas             0.000000\n",
       "cartao_amarelo     0.000000\n",
       "cartao_vermelho    0.000000\n",
       "impedimentos       0.000000\n",
       "escanteios         0.000000\n",
       "dtype: float64"
      ]
     },
     "execution_count": 18,
     "metadata": {},
     "output_type": "execute_result"
    }
   ],
   "source": [
    "print('% of NaN')\n",
    "df_stats.isna().sum()/df_stats.shape[0]"
   ]
  },
  {
   "cell_type": "code",
   "execution_count": 19,
   "id": "88de0063",
   "metadata": {
    "ExecuteTime": {
     "end_time": "2022-03-17T13:38:20.638239Z",
     "start_time": "2022-03-17T13:38:20.626244Z"
    }
   },
   "outputs": [
    {
     "data": {
      "text/plain": [
       "partida_id          int64\n",
       "rodada              int64\n",
       "clube              object\n",
       "chutes              int64\n",
       "chutes_no_alvo      int64\n",
       "posse_de_bola      object\n",
       "passes              int64\n",
       "precisao_passes    object\n",
       "faltas              int64\n",
       "cartao_amarelo      int64\n",
       "cartao_vermelho     int64\n",
       "impedimentos        int64\n",
       "escanteios          int64\n",
       "dtype: object"
      ]
     },
     "execution_count": 19,
     "metadata": {},
     "output_type": "execute_result"
    }
   ],
   "source": [
    "df_stats.dtypes"
   ]
  },
  {
   "cell_type": "code",
   "execution_count": 20,
   "id": "8b14c171",
   "metadata": {
    "ExecuteTime": {
     "end_time": "2022-03-17T13:38:21.279431Z",
     "start_time": "2022-03-17T13:38:21.045079Z"
    }
   },
   "outputs": [
    {
     "data": {
      "text/plain": [
       "<AxesSubplot:>"
      ]
     },
     "execution_count": 20,
     "metadata": {},
     "output_type": "execute_result"
    },
    {
     "data": {
      "image/png": "[encoded data removed]",
      "text/plain": [
       "<Figure size 432x288 with 1 Axes>"
      ]
     },
     "metadata": {
      "needs_background": "light"
     },
     "output_type": "display_data"
    }
   ],
   "source": [
    "df_stats[10000:].plot(y='cartao_amarelo')"
   ]
  },
  {
   "cell_type": "code",
   "execution_count": 22,
   "id": "2ff18f1d",
   "metadata": {
    "ExecuteTime": {
     "end_time": "2022-03-17T13:38:27.928486Z",
     "start_time": "2022-03-17T13:38:27.925279Z"
    }
   },
   "outputs": [],
   "source": [
    "df_stats_clube = df_stats_clube.reset_index()"
   ]
  },
  {
   "cell_type": "code",
   "execution_count": 23,
   "id": "3e0342bd",
   "metadata": {
    "ExecuteTime": {
     "end_time": "2022-03-17T13:38:28.230302Z",
     "start_time": "2022-03-17T13:38:28.210303Z"
    }
   },
   "outputs": [
    {
     "data": {
      "text/html": [
       "<div>\n",
       "<style scoped>\n",
       "    .dataframe tbody tr th:only-of-type {\n",
       "        vertical-align: middle;\n",
       "    }\n",
       "\n",
       "    .dataframe tbody tr th {\n",
       "        vertical-align: top;\n",
       "    }\n",
       "\n",
       "    .dataframe thead th {\n",
       "        text-align: right;\n",
       "    }\n",
       "</style>\n",
       "<table border=\"1\" class=\"dataframe\">\n",
       "  <thead>\n",
       "    <tr style=\"text-align: right;\">\n",
       "      <th></th>\n",
       "      <th>clube</th>\n",
       "      <th>chutes</th>\n",
       "      <th>chutes_no_alvo</th>\n",
       "      <th>passes</th>\n",
       "      <th>faltas</th>\n",
       "      <th>cartao_amarelo</th>\n",
       "      <th>cartao_vermelho</th>\n",
       "      <th>impedimentos</th>\n",
       "      <th>escanteios</th>\n",
       "    </tr>\n",
       "  </thead>\n",
       "  <tbody>\n",
       "    <tr>\n",
       "      <th>0</th>\n",
       "      <td>America-MG</td>\n",
       "      <td>12.324561</td>\n",
       "      <td>2.561404</td>\n",
       "      <td>397.912281</td>\n",
       "      <td>14.763158</td>\n",
       "      <td>1.859649</td>\n",
       "      <td>0.105263</td>\n",
       "      <td>1.587719</td>\n",
       "      <td>4.657895</td>\n",
       "    </tr>\n",
       "    <tr>\n",
       "      <th>1</th>\n",
       "      <td>Athletico-PR</td>\n",
       "      <td>11.659091</td>\n",
       "      <td>3.049242</td>\n",
       "      <td>415.041667</td>\n",
       "      <td>14.003788</td>\n",
       "      <td>1.996212</td>\n",
       "      <td>0.083333</td>\n",
       "      <td>1.526515</td>\n",
       "      <td>4.617424</td>\n",
       "    </tr>\n",
       "    <tr>\n",
       "      <th>2</th>\n",
       "      <td>Atletico-GO</td>\n",
       "      <td>11.789474</td>\n",
       "      <td>3.561404</td>\n",
       "      <td>385.026316</td>\n",
       "      <td>15.912281</td>\n",
       "      <td>2.210526</td>\n",
       "      <td>0.087719</td>\n",
       "      <td>1.508772</td>\n",
       "      <td>5.315789</td>\n",
       "    </tr>\n",
       "    <tr>\n",
       "      <th>3</th>\n",
       "      <td>Atletico-MG</td>\n",
       "      <td>14.178030</td>\n",
       "      <td>3.484848</td>\n",
       "      <td>475.352273</td>\n",
       "      <td>14.594697</td>\n",
       "      <td>2.030303</td>\n",
       "      <td>0.090909</td>\n",
       "      <td>1.875000</td>\n",
       "      <td>5.962121</td>\n",
       "    </tr>\n",
       "    <tr>\n",
       "      <th>4</th>\n",
       "      <td>Avai</td>\n",
       "      <td>11.433628</td>\n",
       "      <td>1.955752</td>\n",
       "      <td>350.460177</td>\n",
       "      <td>14.858407</td>\n",
       "      <td>2.415929</td>\n",
       "      <td>0.159292</td>\n",
       "      <td>1.477876</td>\n",
       "      <td>4.858407</td>\n",
       "    </tr>\n",
       "  </tbody>\n",
       "</table>\n",
       "</div>"
      ],
      "text/plain": [
       "          clube     chutes  chutes_no_alvo      passes     faltas  \\\n",
       "0    America-MG  12.324561        2.561404  397.912281  14.763158   \n",
       "1  Athletico-PR  11.659091        3.049242  415.041667  14.003788   \n",
       "2   Atletico-GO  11.789474        3.561404  385.026316  15.912281   \n",
       "3   Atletico-MG  14.178030        3.484848  475.352273  14.594697   \n",
       "4          Avai  11.433628        1.955752  350.460177  14.858407   \n",
       "\n",
       "   cartao_amarelo  cartao_vermelho  impedimentos  escanteios  \n",
       "0        1.859649         0.105263      1.587719    4.657895  \n",
       "1        1.996212         0.083333      1.526515    4.617424  \n",
       "2        2.210526         0.087719      1.508772    5.315789  \n",
       "3        2.030303         0.090909      1.875000    5.962121  \n",
       "4        2.415929         0.159292      1.477876    4.858407  "
      ]
     },
     "execution_count": 23,
     "metadata": {},
     "output_type": "execute_result"
    }
   ],
   "source": [
    "df_stats_clube.head()"
   ]
  },
  {
   "cell_type": "markdown",
   "id": "3ea26c4b",
   "metadata": {},
   "source": [
    "## 1.4 Goals "
   ]
  },
  {
   "cell_type": "code",
   "execution_count": 24,
   "id": "4cf8c1cb",
   "metadata": {
    "ExecuteTime": {
     "end_time": "2022-03-17T13:38:30.143680Z",
     "start_time": "2022-03-17T13:38:30.125396Z"
    }
   },
   "outputs": [
    {
     "data": {
      "text/html": [
       "<div>\n",
       "<style scoped>\n",
       "    .dataframe tbody tr th:only-of-type {\n",
       "        vertical-align: middle;\n",
       "    }\n",
       "\n",
       "    .dataframe tbody tr th {\n",
       "        vertical-align: top;\n",
       "    }\n",
       "\n",
       "    .dataframe thead th {\n",
       "        text-align: right;\n",
       "    }\n",
       "</style>\n",
       "<table border=\"1\" class=\"dataframe\">\n",
       "  <thead>\n",
       "    <tr style=\"text-align: right;\">\n",
       "      <th></th>\n",
       "      <th>partida_id</th>\n",
       "      <th>rodada</th>\n",
       "      <th>clube</th>\n",
       "      <th>atleta</th>\n",
       "      <th>minuto</th>\n",
       "    </tr>\n",
       "  </thead>\n",
       "  <tbody>\n",
       "    <tr>\n",
       "      <th>0</th>\n",
       "      <td>4607</td>\n",
       "      <td>1</td>\n",
       "      <td>Fluminense</td>\n",
       "      <td>Rafael Sóbis</td>\n",
       "      <td>31</td>\n",
       "    </tr>\n",
       "    <tr>\n",
       "      <th>1</th>\n",
       "      <td>4607</td>\n",
       "      <td>1</td>\n",
       "      <td>Fluminense</td>\n",
       "      <td>Fred</td>\n",
       "      <td>45</td>\n",
       "    </tr>\n",
       "    <tr>\n",
       "      <th>2</th>\n",
       "      <td>4607</td>\n",
       "      <td>1</td>\n",
       "      <td>Fluminense</td>\n",
       "      <td>Nirley da Silva Fonseca</td>\n",
       "      <td>59</td>\n",
       "    </tr>\n",
       "    <tr>\n",
       "      <th>3</th>\n",
       "      <td>4608</td>\n",
       "      <td>1</td>\n",
       "      <td>Internacional</td>\n",
       "      <td>Charles Aránguiz</td>\n",
       "      <td>6</td>\n",
       "    </tr>\n",
       "    <tr>\n",
       "      <th>4</th>\n",
       "      <td>4610</td>\n",
       "      <td>1</td>\n",
       "      <td>Athletico-PR</td>\n",
       "      <td>Dráusio Luis Salla Gil</td>\n",
       "      <td>16</td>\n",
       "    </tr>\n",
       "  </tbody>\n",
       "</table>\n",
       "</div>"
      ],
      "text/plain": [
       "   partida_id  rodada          clube                   atleta minuto\n",
       "0        4607       1     Fluminense             Rafael Sóbis     31\n",
       "1        4607       1     Fluminense                     Fred     45\n",
       "2        4607       1     Fluminense  Nirley da Silva Fonseca     59\n",
       "3        4608       1  Internacional         Charles Aránguiz      6\n",
       "4        4610       1   Athletico-PR   Dráusio Luis Salla Gil     16"
      ]
     },
     "execution_count": 24,
     "metadata": {},
     "output_type": "execute_result"
    }
   ],
   "source": [
    "df_goals = pd.read_csv(data_path + goals)\n",
    "df_goals.head()"
   ]
  },
  {
   "cell_type": "code",
   "execution_count": 34,
   "id": "f3c70498",
   "metadata": {
    "ExecuteTime": {
     "end_time": "2022-03-17T13:43:41.009891Z",
     "start_time": "2022-03-17T13:43:41.006882Z"
    }
   },
   "outputs": [],
   "source": [
    "df_goals['gol'] = 1"
   ]
  },
  {
   "cell_type": "code",
   "execution_count": 35,
   "id": "11090ff0",
   "metadata": {
    "ExecuteTime": {
     "end_time": "2022-03-17T13:43:44.214718Z",
     "start_time": "2022-03-17T13:43:44.206567Z"
    }
   },
   "outputs": [
    {
     "data": {
      "text/html": [
       "<div>\n",
       "<style scoped>\n",
       "    .dataframe tbody tr th:only-of-type {\n",
       "        vertical-align: middle;\n",
       "    }\n",
       "\n",
       "    .dataframe tbody tr th {\n",
       "        vertical-align: top;\n",
       "    }\n",
       "\n",
       "    .dataframe thead th {\n",
       "        text-align: right;\n",
       "    }\n",
       "</style>\n",
       "<table border=\"1\" class=\"dataframe\">\n",
       "  <thead>\n",
       "    <tr style=\"text-align: right;\">\n",
       "      <th></th>\n",
       "      <th>partida_id</th>\n",
       "      <th>rodada</th>\n",
       "      <th>clube</th>\n",
       "      <th>atleta</th>\n",
       "      <th>minuto</th>\n",
       "      <th>gol</th>\n",
       "    </tr>\n",
       "  </thead>\n",
       "  <tbody>\n",
       "    <tr>\n",
       "      <th>0</th>\n",
       "      <td>4607</td>\n",
       "      <td>1</td>\n",
       "      <td>Fluminense</td>\n",
       "      <td>Rafael Sóbis</td>\n",
       "      <td>31</td>\n",
       "      <td>1</td>\n",
       "    </tr>\n",
       "    <tr>\n",
       "      <th>1</th>\n",
       "      <td>4607</td>\n",
       "      <td>1</td>\n",
       "      <td>Fluminense</td>\n",
       "      <td>Fred</td>\n",
       "      <td>45</td>\n",
       "      <td>1</td>\n",
       "    </tr>\n",
       "    <tr>\n",
       "      <th>2</th>\n",
       "      <td>4607</td>\n",
       "      <td>1</td>\n",
       "      <td>Fluminense</td>\n",
       "      <td>Nirley da Silva Fonseca</td>\n",
       "      <td>59</td>\n",
       "      <td>1</td>\n",
       "    </tr>\n",
       "    <tr>\n",
       "      <th>3</th>\n",
       "      <td>4608</td>\n",
       "      <td>1</td>\n",
       "      <td>Internacional</td>\n",
       "      <td>Charles Aránguiz</td>\n",
       "      <td>6</td>\n",
       "      <td>1</td>\n",
       "    </tr>\n",
       "    <tr>\n",
       "      <th>4</th>\n",
       "      <td>4610</td>\n",
       "      <td>1</td>\n",
       "      <td>Athletico-PR</td>\n",
       "      <td>Dráusio Luis Salla Gil</td>\n",
       "      <td>16</td>\n",
       "      <td>1</td>\n",
       "    </tr>\n",
       "  </tbody>\n",
       "</table>\n",
       "</div>"
      ],
      "text/plain": [
       "   partida_id  rodada          clube                   atleta minuto  gol\n",
       "0        4607       1     Fluminense             Rafael Sóbis     31    1\n",
       "1        4607       1     Fluminense                     Fred     45    1\n",
       "2        4607       1     Fluminense  Nirley da Silva Fonseca     59    1\n",
       "3        4608       1  Internacional         Charles Aránguiz      6    1\n",
       "4        4610       1   Athletico-PR   Dráusio Luis Salla Gil     16    1"
      ]
     },
     "execution_count": 35,
     "metadata": {},
     "output_type": "execute_result"
    }
   ],
   "source": [
    "df_goals.head()"
   ]
  },
  {
   "cell_type": "code",
   "execution_count": 25,
   "id": "0c0d707f",
   "metadata": {
    "ExecuteTime": {
     "end_time": "2022-03-17T13:38:30.611639Z",
     "start_time": "2022-03-17T13:38:30.606691Z"
    }
   },
   "outputs": [
    {
     "data": {
      "text/plain": [
       "(7081, 5)"
      ]
     },
     "execution_count": 25,
     "metadata": {},
     "output_type": "execute_result"
    }
   ],
   "source": [
    "df_goals.shape"
   ]
  },
  {
   "cell_type": "code",
   "execution_count": 26,
   "id": "2ddaeda9",
   "metadata": {
    "ExecuteTime": {
     "end_time": "2022-03-17T13:38:31.136800Z",
     "start_time": "2022-03-17T13:38:31.122917Z"
    }
   },
   "outputs": [
    {
     "name": "stdout",
     "output_type": "stream",
     "text": [
      "% of NaN\n"
     ]
    },
    {
     "data": {
      "text/plain": [
       "partida_id    0.0\n",
       "rodada        0.0\n",
       "clube         0.0\n",
       "atleta        0.0\n",
       "minuto        0.0\n",
       "dtype: float64"
      ]
     },
     "execution_count": 26,
     "metadata": {},
     "output_type": "execute_result"
    }
   ],
   "source": [
    "print('% of NaN')\n",
    "df_goals.isna().sum()/df_goals.shape[0]"
   ]
  },
  {
   "cell_type": "markdown",
   "id": "9e0298f5",
   "metadata": {},
   "source": [
    "## 1.5 Legend"
   ]
  },
  {
   "cell_type": "markdown",
   "id": "8830e31e",
   "metadata": {},
   "source": [
    "**Legenda - campeonato-brasileiro-full.csv**\n",
    "- ID : ID da partida\n",
    "- Rodada : Rodada que aconteceu a partida\n",
    "- Data : Data que ocorreu a partida\n",
    "- Horário :  Horário que ocorreu a partida\n",
    "- Dia : Dia da semana que ocorreu a partida\n",
    "- Mandante : Clube mandante                      \n",
    "- Visitante : Clube Visitante\n",
    "- formacao_mandante: Formação do mandante\n",
    "- formacao_visitante: Formação do visitante\n",
    "- tecnico_mandante: Técnico do mandante\n",
    "- tecnico_visitante: Técnico do visitante\n",
    "- Vencedor : Clube vencedor da partida. Quando tiver \"-\", é um empate\n",
    "- Arena : Arena que ocorreu a partida                      \n",
    "- Mandante Placar : Gols que o clube mandante fez na partida                      \n",
    "- Visitante Placar : Gols que o clube visitante fez na partida                      \n",
    "- Estado Mandante : Estado do clube mandatorio                      \n",
    "- Estado Visitante : Estado do clube visitante                      \n",
    "- Estado Vencedor : Estado do clube vencedor. Quando tiver \"-\", é um empate\n",
    "\n",
    "\n",
    "**Legenda - campeonato-brasileiro-estatisticas-full.csv**\n",
    "- partida_ID - ID da partida\n",
    "- Rodada - Rodada da partida\n",
    "- Clube - Nome do clube\n",
    "- Chutes - Finalizações\n",
    "- Chutes a gol - Finalizações na direção do gol\n",
    "- Posse de bola - Percentual da posse de bola\n",
    "- Passes - Quantidade de passes que o clube deu na partida\n",
    "- precisao_passes - Percentual da precisão de passe\n",
    "- Faltas - Quantidade de faltas cometidas na partida\n",
    "- cartao_amarelo - Quantidade de cartões amarelos para o clube na partida\n",
    "- cartao_vermelho - Quantidade de cartões vermelhos para o clube na partida\n",
    "- Impedimentos - Quantidade de impedimentos para o clube na partida\n",
    "- Escanteios - Quantidade de escanteios para o clube na partida\n",
    "\n",
    "\n",
    "**Legenda - campeonato-brasileiro-gols.csv**\n",
    "- partida_ID - ID da partida\n",
    "- Rodada - Rodada da partida\n",
    "- Clube - Nome do clube\n",
    "- Atleta - Nome do atleta que fez o gol\n",
    "- Minuto - Minuto na partida em que o gol foi marcado\n",
    "\n",
    "\n",
    "**Legenda - campeonato-brasileiro-cartoes.csv**\n",
    "- partida_ID - ID da partida\n",
    "- Rodada - Rodada da partida\n",
    "- Clube - Nome do clube\n",
    "- Cartao - Cor do cartão aplicado\n",
    "- Atleta - Nome do atleta punido pelo cartão\n",
    "- num_camisa - Número da camisa do atleta\n",
    "- Posicao - Posição na partida em que o atleta se encontra\n",
    "- Minuto - Minuto na partida em que o cartão foi aplicado"
   ]
  },
  {
   "cell_type": "markdown",
   "id": "57170f8e",
   "metadata": {},
   "source": [
    "## 1.6 Filling NA and and filtering data"
   ]
  },
  {
   "cell_type": "markdown",
   "id": "6812c173",
   "metadata": {},
   "source": [
    "### 1.6.1 Selecting recent games (5 years) "
   ]
  },
  {
   "cell_type": "code",
   "execution_count": 42,
   "id": "6d2c0634",
   "metadata": {
    "ExecuteTime": {
     "end_time": "2022-03-17T14:03:07.191769Z",
     "start_time": "2022-03-17T14:03:07.187807Z"
    }
   },
   "outputs": [],
   "source": [
    "df_full_recent = df_full[df_full['data'] > '2018-01-01']"
   ]
  },
  {
   "cell_type": "code",
   "execution_count": 48,
   "id": "60062b48",
   "metadata": {
    "ExecuteTime": {
     "end_time": "2022-03-17T14:05:26.265829Z",
     "start_time": "2022-03-17T14:05:26.250968Z"
    }
   },
   "outputs": [
    {
     "data": {
      "text/html": [
       "<div>\n",
       "<style scoped>\n",
       "    .dataframe tbody tr th:only-of-type {\n",
       "        vertical-align: middle;\n",
       "    }\n",
       "\n",
       "    .dataframe tbody tr th {\n",
       "        vertical-align: top;\n",
       "    }\n",
       "\n",
       "    .dataframe thead th {\n",
       "        text-align: right;\n",
       "    }\n",
       "</style>\n",
       "<table border=\"1\" class=\"dataframe\">\n",
       "  <thead>\n",
       "    <tr style=\"text-align: right;\">\n",
       "      <th></th>\n",
       "      <th>ID</th>\n",
       "      <th>rodada</th>\n",
       "      <th>data</th>\n",
       "      <th>hora</th>\n",
       "      <th>dia</th>\n",
       "      <th>mandante</th>\n",
       "      <th>visitante</th>\n",
       "      <th>formacao_mandante</th>\n",
       "      <th>formacao_visitante</th>\n",
       "      <th>tecnico_mandante</th>\n",
       "      <th>tecnico_visitante</th>\n",
       "      <th>vencedor</th>\n",
       "      <th>arena</th>\n",
       "      <th>mandante_placar</th>\n",
       "      <th>visitante_placar</th>\n",
       "      <th>mandante_estado</th>\n",
       "      <th>visitante_estado</th>\n",
       "      <th>estado_vencedor</th>\n",
       "    </tr>\n",
       "  </thead>\n",
       "  <tbody>\n",
       "    <tr>\n",
       "      <th>6125</th>\n",
       "      <td>6126</td>\n",
       "      <td>1</td>\n",
       "      <td>2018-04-14</td>\n",
       "      <td>16:00</td>\n",
       "      <td>Sabado</td>\n",
       "      <td>Cruzeiro</td>\n",
       "      <td>Gremio</td>\n",
       "      <td>4-2-3-1</td>\n",
       "      <td>4-2-3-1</td>\n",
       "      <td>Renato Gaúcho</td>\n",
       "      <td>Renato Gaúcho</td>\n",
       "      <td>Gremio</td>\n",
       "      <td>mineirao</td>\n",
       "      <td>0</td>\n",
       "      <td>1</td>\n",
       "      <td>MG</td>\n",
       "      <td>RS</td>\n",
       "      <td>RS</td>\n",
       "    </tr>\n",
       "    <tr>\n",
       "      <th>6126</th>\n",
       "      <td>6127</td>\n",
       "      <td>1</td>\n",
       "      <td>2018-04-14</td>\n",
       "      <td>19:02</td>\n",
       "      <td>Sabado</td>\n",
       "      <td>Vitoria</td>\n",
       "      <td>Flamengo</td>\n",
       "      <td>4-2-3-1</td>\n",
       "      <td>4-1-4-1</td>\n",
       "      <td>M. Nogueira Barbieri</td>\n",
       "      <td>M. Nogueira Barbieri</td>\n",
       "      <td>-</td>\n",
       "      <td>barradao</td>\n",
       "      <td>2</td>\n",
       "      <td>2</td>\n",
       "      <td>BA</td>\n",
       "      <td>RJ</td>\n",
       "      <td>-</td>\n",
       "    </tr>\n",
       "    <tr>\n",
       "      <th>6127</th>\n",
       "      <td>6128</td>\n",
       "      <td>1</td>\n",
       "      <td>2018-04-14</td>\n",
       "      <td>21:03</td>\n",
       "      <td>Sabado</td>\n",
       "      <td>Santos</td>\n",
       "      <td>Ceara</td>\n",
       "      <td>4-3-3</td>\n",
       "      <td>4-1-4-1</td>\n",
       "      <td>M. Oliveira Chamusca</td>\n",
       "      <td>M. Oliveira Chamusca</td>\n",
       "      <td>Santos</td>\n",
       "      <td>estadio municipal paulo machado de carvalho</td>\n",
       "      <td>2</td>\n",
       "      <td>0</td>\n",
       "      <td>SP</td>\n",
       "      <td>CE</td>\n",
       "      <td>SP</td>\n",
       "    </tr>\n",
       "    <tr>\n",
       "      <th>6128</th>\n",
       "      <td>6129</td>\n",
       "      <td>1</td>\n",
       "      <td>2018-04-15</td>\n",
       "      <td>11:00</td>\n",
       "      <td>Domingo</td>\n",
       "      <td>America-MG</td>\n",
       "      <td>Sport</td>\n",
       "      <td>4-1-4-1</td>\n",
       "      <td>4-3-2-1</td>\n",
       "      <td>N. Baptista Júnior</td>\n",
       "      <td>N. Baptista Júnior</td>\n",
       "      <td>America-MG</td>\n",
       "      <td>estadio raimundo sampaio</td>\n",
       "      <td>3</td>\n",
       "      <td>0</td>\n",
       "      <td>MG</td>\n",
       "      <td>PE</td>\n",
       "      <td>MG</td>\n",
       "    </tr>\n",
       "    <tr>\n",
       "      <th>6129</th>\n",
       "      <td>6130</td>\n",
       "      <td>1</td>\n",
       "      <td>2018-04-15</td>\n",
       "      <td>16:01</td>\n",
       "      <td>Domingo</td>\n",
       "      <td>Vasco</td>\n",
       "      <td>Atletico-MG</td>\n",
       "      <td>4-1-4-1</td>\n",
       "      <td>4-1-4-1</td>\n",
       "      <td>T. Mendes Larghi</td>\n",
       "      <td>T. Mendes Larghi</td>\n",
       "      <td>Vasco</td>\n",
       "      <td>estadio vasco da gama</td>\n",
       "      <td>2</td>\n",
       "      <td>1</td>\n",
       "      <td>RJ</td>\n",
       "      <td>MG</td>\n",
       "      <td>RJ</td>\n",
       "    </tr>\n",
       "  </tbody>\n",
       "</table>\n",
       "</div>"
      ],
      "text/plain": [
       "        ID  rodada       data   hora      dia    mandante    visitante  \\\n",
       "6125  6126       1 2018-04-14  16:00   Sabado    Cruzeiro       Gremio   \n",
       "6126  6127       1 2018-04-14  19:02   Sabado     Vitoria     Flamengo   \n",
       "6127  6128       1 2018-04-14  21:03   Sabado      Santos        Ceara   \n",
       "6128  6129       1 2018-04-15  11:00  Domingo  America-MG        Sport   \n",
       "6129  6130       1 2018-04-15  16:01  Domingo       Vasco  Atletico-MG   \n",
       "\n",
       "     formacao_mandante formacao_visitante      tecnico_mandante  \\\n",
       "6125           4-2-3-1            4-2-3-1         Renato Gaúcho   \n",
       "6126           4-2-3-1            4-1-4-1  M. Nogueira Barbieri   \n",
       "6127             4-3-3            4-1-4-1  M. Oliveira Chamusca   \n",
       "6128           4-1-4-1            4-3-2-1    N. Baptista Júnior   \n",
       "6129           4-1-4-1            4-1-4-1      T. Mendes Larghi   \n",
       "\n",
       "         tecnico_visitante    vencedor  \\\n",
       "6125         Renato Gaúcho      Gremio   \n",
       "6126  M. Nogueira Barbieri           -   \n",
       "6127  M. Oliveira Chamusca      Santos   \n",
       "6128    N. Baptista Júnior  America-MG   \n",
       "6129      T. Mendes Larghi       Vasco   \n",
       "\n",
       "                                            arena  mandante_placar  \\\n",
       "6125                                     mineirao                0   \n",
       "6126                                     barradao                2   \n",
       "6127  estadio municipal paulo machado de carvalho                2   \n",
       "6128                     estadio raimundo sampaio                3   \n",
       "6129                        estadio vasco da gama                2   \n",
       "\n",
       "      visitante_placar mandante_estado visitante_estado estado_vencedor  \n",
       "6125                 1              MG               RS              RS  \n",
       "6126                 2              BA               RJ               -  \n",
       "6127                 0              SP               CE              SP  \n",
       "6128                 0              MG               PE              MG  \n",
       "6129                 1              RJ               MG              RJ  "
      ]
     },
     "execution_count": 48,
     "metadata": {},
     "output_type": "execute_result"
    }
   ],
   "source": [
    "# dataframe das partidas de 2018 em diante\n",
    "df_full_recent.head()"
   ]
  },
  {
   "cell_type": "code",
   "execution_count": 53,
   "id": "5a16599c",
   "metadata": {
    "ExecuteTime": {
     "end_time": "2022-03-17T14:12:59.632182Z",
     "start_time": "2022-03-17T14:12:59.629392Z"
    }
   },
   "outputs": [],
   "source": [
    "columns = df_full_recent.columns.to_list()"
   ]
  },
  {
   "cell_type": "markdown",
   "id": "da1fd6ee",
   "metadata": {},
   "source": [
    "### 1.6.2 Choosing some initial features to test "
   ]
  },
  {
   "cell_type": "code",
   "execution_count": 55,
   "id": "730562a3",
   "metadata": {
    "ExecuteTime": {
     "end_time": "2022-03-17T14:14:31.160158Z",
     "start_time": "2022-03-17T14:14:31.155691Z"
    }
   },
   "outputs": [],
   "source": [
    "columns = ['ID',\n",
    "           'rodada',\n",
    "           'data',\n",
    "           'hora',\n",
    "           'dia',\n",
    "           'mandante',\n",
    "           'visitante',\n",
    "           'formacao_mandante',\n",
    "           'formacao_visitante',\n",
    "           'vencedor',\n",
    "           'arena',\n",
    "           'mandante_estado',\n",
    "           'visitante_estado']\n",
    "\n",
    "df_full_recent = df_full_recent[columns]"
   ]
  },
  {
   "cell_type": "code",
   "execution_count": 56,
   "id": "21722c6a",
   "metadata": {
    "ExecuteTime": {
     "end_time": "2022-03-17T14:14:35.505154Z",
     "start_time": "2022-03-17T14:14:35.477872Z"
    },
    "scrolled": true
   },
   "outputs": [
    {
     "data": {
      "text/html": [
       "<div>\n",
       "<style scoped>\n",
       "    .dataframe tbody tr th:only-of-type {\n",
       "        vertical-align: middle;\n",
       "    }\n",
       "\n",
       "    .dataframe tbody tr th {\n",
       "        vertical-align: top;\n",
       "    }\n",
       "\n",
       "    .dataframe thead th {\n",
       "        text-align: right;\n",
       "    }\n",
       "</style>\n",
       "<table border=\"1\" class=\"dataframe\">\n",
       "  <thead>\n",
       "    <tr style=\"text-align: right;\">\n",
       "      <th></th>\n",
       "      <th>ID</th>\n",
       "      <th>rodada</th>\n",
       "      <th>data</th>\n",
       "      <th>hora</th>\n",
       "      <th>dia</th>\n",
       "      <th>mandante</th>\n",
       "      <th>visitante</th>\n",
       "      <th>formacao_mandante</th>\n",
       "      <th>formacao_visitante</th>\n",
       "      <th>vencedor</th>\n",
       "      <th>arena</th>\n",
       "      <th>mandante_estado</th>\n",
       "      <th>visitante_estado</th>\n",
       "    </tr>\n",
       "  </thead>\n",
       "  <tbody>\n",
       "    <tr>\n",
       "      <th>6125</th>\n",
       "      <td>6126</td>\n",
       "      <td>1</td>\n",
       "      <td>2018-04-14</td>\n",
       "      <td>16:00</td>\n",
       "      <td>Sabado</td>\n",
       "      <td>Cruzeiro</td>\n",
       "      <td>Gremio</td>\n",
       "      <td>4-2-3-1</td>\n",
       "      <td>4-2-3-1</td>\n",
       "      <td>Gremio</td>\n",
       "      <td>mineirao</td>\n",
       "      <td>MG</td>\n",
       "      <td>RS</td>\n",
       "    </tr>\n",
       "    <tr>\n",
       "      <th>6126</th>\n",
       "      <td>6127</td>\n",
       "      <td>1</td>\n",
       "      <td>2018-04-14</td>\n",
       "      <td>19:02</td>\n",
       "      <td>Sabado</td>\n",
       "      <td>Vitoria</td>\n",
       "      <td>Flamengo</td>\n",
       "      <td>4-2-3-1</td>\n",
       "      <td>4-1-4-1</td>\n",
       "      <td>-</td>\n",
       "      <td>barradao</td>\n",
       "      <td>BA</td>\n",
       "      <td>RJ</td>\n",
       "    </tr>\n",
       "    <tr>\n",
       "      <th>6127</th>\n",
       "      <td>6128</td>\n",
       "      <td>1</td>\n",
       "      <td>2018-04-14</td>\n",
       "      <td>21:03</td>\n",
       "      <td>Sabado</td>\n",
       "      <td>Santos</td>\n",
       "      <td>Ceara</td>\n",
       "      <td>4-3-3</td>\n",
       "      <td>4-1-4-1</td>\n",
       "      <td>Santos</td>\n",
       "      <td>estadio municipal paulo machado de carvalho</td>\n",
       "      <td>SP</td>\n",
       "      <td>CE</td>\n",
       "    </tr>\n",
       "    <tr>\n",
       "      <th>6128</th>\n",
       "      <td>6129</td>\n",
       "      <td>1</td>\n",
       "      <td>2018-04-15</td>\n",
       "      <td>11:00</td>\n",
       "      <td>Domingo</td>\n",
       "      <td>America-MG</td>\n",
       "      <td>Sport</td>\n",
       "      <td>4-1-4-1</td>\n",
       "      <td>4-3-2-1</td>\n",
       "      <td>America-MG</td>\n",
       "      <td>estadio raimundo sampaio</td>\n",
       "      <td>MG</td>\n",
       "      <td>PE</td>\n",
       "    </tr>\n",
       "    <tr>\n",
       "      <th>6129</th>\n",
       "      <td>6130</td>\n",
       "      <td>1</td>\n",
       "      <td>2018-04-15</td>\n",
       "      <td>16:01</td>\n",
       "      <td>Domingo</td>\n",
       "      <td>Vasco</td>\n",
       "      <td>Atletico-MG</td>\n",
       "      <td>4-1-4-1</td>\n",
       "      <td>4-1-4-1</td>\n",
       "      <td>Vasco</td>\n",
       "      <td>estadio vasco da gama</td>\n",
       "      <td>RJ</td>\n",
       "      <td>MG</td>\n",
       "    </tr>\n",
       "  </tbody>\n",
       "</table>\n",
       "</div>"
      ],
      "text/plain": [
       "        ID  rodada       data   hora      dia    mandante    visitante  \\\n",
       "6125  6126       1 2018-04-14  16:00   Sabado    Cruzeiro       Gremio   \n",
       "6126  6127       1 2018-04-14  19:02   Sabado     Vitoria     Flamengo   \n",
       "6127  6128       1 2018-04-14  21:03   Sabado      Santos        Ceara   \n",
       "6128  6129       1 2018-04-15  11:00  Domingo  America-MG        Sport   \n",
       "6129  6130       1 2018-04-15  16:01  Domingo       Vasco  Atletico-MG   \n",
       "\n",
       "     formacao_mandante formacao_visitante    vencedor  \\\n",
       "6125           4-2-3-1            4-2-3-1      Gremio   \n",
       "6126           4-2-3-1            4-1-4-1           -   \n",
       "6127             4-3-3            4-1-4-1      Santos   \n",
       "6128           4-1-4-1            4-3-2-1  America-MG   \n",
       "6129           4-1-4-1            4-1-4-1       Vasco   \n",
       "\n",
       "                                            arena mandante_estado  \\\n",
       "6125                                     mineirao              MG   \n",
       "6126                                     barradao              BA   \n",
       "6127  estadio municipal paulo machado de carvalho              SP   \n",
       "6128                     estadio raimundo sampaio              MG   \n",
       "6129                        estadio vasco da gama              RJ   \n",
       "\n",
       "     visitante_estado  \n",
       "6125               RS  \n",
       "6126               RJ  \n",
       "6127               CE  \n",
       "6128               PE  \n",
       "6129               MG  "
      ]
     },
     "execution_count": 56,
     "metadata": {},
     "output_type": "execute_result"
    }
   ],
   "source": [
    "df_full_recent.head()"
   ]
  },
  {
   "cell_type": "markdown",
   "id": "d37fe823",
   "metadata": {},
   "source": [
    "### 1.6.3 Selecting just recent stats (5 years) "
   ]
  },
  {
   "cell_type": "code",
   "execution_count": 114,
   "id": "43c04d09",
   "metadata": {
    "ExecuteTime": {
     "end_time": "2022-03-17T14:31:31.667208Z",
     "start_time": "2022-03-17T14:31:31.661883Z"
    }
   },
   "outputs": [],
   "source": [
    "df_stats_recent = df_stats[df_stats['partida_id'] > 6126]"
   ]
  },
  {
   "cell_type": "code",
   "execution_count": 115,
   "id": "78c1212a",
   "metadata": {
    "ExecuteTime": {
     "end_time": "2022-03-17T14:31:31.842900Z",
     "start_time": "2022-03-17T14:31:31.835499Z"
    }
   },
   "outputs": [],
   "source": [
    "aux_val = []\n",
    "for value in df_stats_recent['posse_de_bola'].values:\n",
    "    if value != 'None':\n",
    "        aux_val.append(np.float32(value[0:2]))\n",
    "    else:\n",
    "        aux_val.append(np.nan)"
   ]
  },
  {
   "cell_type": "code",
   "execution_count": 116,
   "id": "01f4307c",
   "metadata": {
    "ExecuteTime": {
     "end_time": "2022-03-17T14:31:33.815714Z",
     "start_time": "2022-03-17T14:31:33.801738Z"
    }
   },
   "outputs": [
    {
     "name": "stderr",
     "output_type": "stream",
     "text": [
      "/tmp/ipykernel_13750/1222983903.py:1: SettingWithCopyWarning: \n",
      "A value is trying to be set on a copy of a slice from a DataFrame.\n",
      "Try using .loc[row_indexer,col_indexer] = value instead\n",
      "\n",
      "See the caveats in the documentation: https://pandas.pydata.org/pandas-docs/stable/user_guide/indexing.html#returning-a-view-versus-a-copy\n",
      "  df_stats_recent.loc[:,'posse_de_bola'] = aux_val\n"
     ]
    }
   ],
   "source": [
    "df_stats_recent.loc[:,'posse_de_bola'] = aux_val"
   ]
  },
  {
   "cell_type": "code",
   "execution_count": 117,
   "id": "e168657a",
   "metadata": {
    "ExecuteTime": {
     "end_time": "2022-03-17T14:31:38.343990Z",
     "start_time": "2022-03-17T14:31:38.338681Z"
    }
   },
   "outputs": [],
   "source": [
    "aux_val = []\n",
    "for value in df_stats_recent['precisao_passes'].values:\n",
    "    if value != 'None':\n",
    "        aux_val.append(np.float32(value[0:2]))\n",
    "    else:\n",
    "        aux_val.append(np.nan)"
   ]
  },
  {
   "cell_type": "code",
   "execution_count": 118,
   "id": "a250f292",
   "metadata": {
    "ExecuteTime": {
     "end_time": "2022-03-17T14:31:56.728109Z",
     "start_time": "2022-03-17T14:31:56.714374Z"
    }
   },
   "outputs": [
    {
     "name": "stderr",
     "output_type": "stream",
     "text": [
      "/tmp/ipykernel_13750/2135160869.py:1: SettingWithCopyWarning: \n",
      "A value is trying to be set on a copy of a slice from a DataFrame.\n",
      "Try using .loc[row_indexer,col_indexer] = value instead\n",
      "\n",
      "See the caveats in the documentation: https://pandas.pydata.org/pandas-docs/stable/user_guide/indexing.html#returning-a-view-versus-a-copy\n",
      "  df_stats_recent.loc[:, 'precisao_passes'] = aux_val\n"
     ]
    }
   ],
   "source": [
    "df_stats_recent.loc[:, 'precisao_passes'] = aux_val"
   ]
  },
  {
   "cell_type": "code",
   "execution_count": 120,
   "id": "b1b0f5ca",
   "metadata": {
    "ExecuteTime": {
     "end_time": "2022-03-17T14:33:01.330184Z",
     "start_time": "2022-03-17T14:33:01.314531Z"
    }
   },
   "outputs": [
    {
     "data": {
      "text/html": [
       "<div>\n",
       "<style scoped>\n",
       "    .dataframe tbody tr th:only-of-type {\n",
       "        vertical-align: middle;\n",
       "    }\n",
       "\n",
       "    .dataframe tbody tr th {\n",
       "        vertical-align: top;\n",
       "    }\n",
       "\n",
       "    .dataframe thead th {\n",
       "        text-align: right;\n",
       "    }\n",
       "</style>\n",
       "<table border=\"1\" class=\"dataframe\">\n",
       "  <thead>\n",
       "    <tr style=\"text-align: right;\">\n",
       "      <th></th>\n",
       "      <th>chutes</th>\n",
       "      <th>chutes_no_alvo</th>\n",
       "      <th>posse_de_bola</th>\n",
       "      <th>passes</th>\n",
       "      <th>precisao_passes</th>\n",
       "      <th>faltas</th>\n",
       "      <th>cartao_amarelo</th>\n",
       "      <th>cartao_vermelho</th>\n",
       "      <th>impedimentos</th>\n",
       "      <th>escanteios</th>\n",
       "    </tr>\n",
       "    <tr>\n",
       "      <th>clube</th>\n",
       "      <th></th>\n",
       "      <th></th>\n",
       "      <th></th>\n",
       "      <th></th>\n",
       "      <th></th>\n",
       "      <th></th>\n",
       "      <th></th>\n",
       "      <th></th>\n",
       "      <th></th>\n",
       "      <th></th>\n",
       "    </tr>\n",
       "  </thead>\n",
       "  <tbody>\n",
       "    <tr>\n",
       "      <th>America-MG</th>\n",
       "      <td>12.973684</td>\n",
       "      <td>3.842105</td>\n",
       "      <td>47.289474</td>\n",
       "      <td>401.973684</td>\n",
       "      <td>78.078947</td>\n",
       "      <td>14.934211</td>\n",
       "      <td>1.921053</td>\n",
       "      <td>0.118421</td>\n",
       "      <td>1.684211</td>\n",
       "      <td>4.763158</td>\n",
       "    </tr>\n",
       "    <tr>\n",
       "      <th>Athletico-PR</th>\n",
       "      <td>11.328947</td>\n",
       "      <td>3.730263</td>\n",
       "      <td>53.189394</td>\n",
       "      <td>400.322368</td>\n",
       "      <td>82.803030</td>\n",
       "      <td>13.782895</td>\n",
       "      <td>1.907895</td>\n",
       "      <td>0.078947</td>\n",
       "      <td>1.256579</td>\n",
       "      <td>4.427632</td>\n",
       "    </tr>\n",
       "    <tr>\n",
       "      <th>Atletico-GO</th>\n",
       "      <td>11.421053</td>\n",
       "      <td>3.500000</td>\n",
       "      <td>48.039474</td>\n",
       "      <td>391.815789</td>\n",
       "      <td>79.000000</td>\n",
       "      <td>14.828947</td>\n",
       "      <td>2.223684</td>\n",
       "      <td>0.092105</td>\n",
       "      <td>1.342105</td>\n",
       "      <td>5.644737</td>\n",
       "    </tr>\n",
       "    <tr>\n",
       "      <th>Atletico-MG</th>\n",
       "      <td>14.789474</td>\n",
       "      <td>4.907895</td>\n",
       "      <td>55.912162</td>\n",
       "      <td>484.026316</td>\n",
       "      <td>83.162162</td>\n",
       "      <td>14.480263</td>\n",
       "      <td>1.888158</td>\n",
       "      <td>0.085526</td>\n",
       "      <td>1.486842</td>\n",
       "      <td>6.157895</td>\n",
       "    </tr>\n",
       "    <tr>\n",
       "      <th>Avai</th>\n",
       "      <td>11.657895</td>\n",
       "      <td>2.894737</td>\n",
       "      <td>46.555556</td>\n",
       "      <td>371.447368</td>\n",
       "      <td>77.388889</td>\n",
       "      <td>14.473684</td>\n",
       "      <td>1.947368</td>\n",
       "      <td>0.263158</td>\n",
       "      <td>1.157895</td>\n",
       "      <td>4.631579</td>\n",
       "    </tr>\n",
       "  </tbody>\n",
       "</table>\n",
       "</div>"
      ],
      "text/plain": [
       "                 chutes  chutes_no_alvo  posse_de_bola      passes  \\\n",
       "clube                                                                \n",
       "America-MG    12.973684        3.842105      47.289474  401.973684   \n",
       "Athletico-PR  11.328947        3.730263      53.189394  400.322368   \n",
       "Atletico-GO   11.421053        3.500000      48.039474  391.815789   \n",
       "Atletico-MG   14.789474        4.907895      55.912162  484.026316   \n",
       "Avai          11.657895        2.894737      46.555556  371.447368   \n",
       "\n",
       "              precisao_passes     faltas  cartao_amarelo  cartao_vermelho  \\\n",
       "clube                                                                       \n",
       "America-MG          78.078947  14.934211        1.921053         0.118421   \n",
       "Athletico-PR        82.803030  13.782895        1.907895         0.078947   \n",
       "Atletico-GO         79.000000  14.828947        2.223684         0.092105   \n",
       "Atletico-MG         83.162162  14.480263        1.888158         0.085526   \n",
       "Avai                77.388889  14.473684        1.947368         0.263158   \n",
       "\n",
       "              impedimentos  escanteios  \n",
       "clube                                   \n",
       "America-MG        1.684211    4.763158  \n",
       "Athletico-PR      1.256579    4.427632  \n",
       "Atletico-GO       1.342105    5.644737  \n",
       "Atletico-MG       1.486842    6.157895  \n",
       "Avai              1.157895    4.631579  "
      ]
     },
     "execution_count": 120,
     "metadata": {},
     "output_type": "execute_result"
    }
   ],
   "source": [
    "df_stats_clube = df_stats_recent.groupby('clube').mean()\n",
    "df_stats_clube = df_stats_clube.drop(['partida_id', 'rodada'], axis = 1)\n",
    "df_stats_clube.head()"
   ]
  },
  {
   "cell_type": "code",
   "execution_count": 121,
   "id": "2d09299d",
   "metadata": {
    "ExecuteTime": {
     "end_time": "2022-03-17T16:55:58.719580Z",
     "start_time": "2022-03-17T16:55:58.662286Z"
    }
   },
   "outputs": [
    {
     "name": "stderr",
     "output_type": "stream",
     "text": [
      "/tmp/ipykernel_13750/2964109191.py:2: SettingWithCopyWarning: \n",
      "A value is trying to be set on a copy of a slice from a DataFrame.\n",
      "Try using .loc[row_indexer,col_indexer] = value instead\n",
      "\n",
      "See the caveats in the documentation: https://pandas.pydata.org/pandas-docs/stable/user_guide/indexing.html#returning-a-view-versus-a-copy\n",
      "  df_full_recent['mandante_' + column] = df_full_recent['mandante'].map(df_stats_clube[column])\n",
      "/tmp/ipykernel_13750/2964109191.py:3: SettingWithCopyWarning: \n",
      "A value is trying to be set on a copy of a slice from a DataFrame.\n",
      "Try using .loc[row_indexer,col_indexer] = value instead\n",
      "\n",
      "See the caveats in the documentation: https://pandas.pydata.org/pandas-docs/stable/user_guide/indexing.html#returning-a-view-versus-a-copy\n",
      "  df_full_recent['visitante_' + column] = df_full_recent['visitante'].map(df_stats_clube[column])\n",
      "/tmp/ipykernel_13750/2964109191.py:2: SettingWithCopyWarning: \n",
      "A value is trying to be set on a copy of a slice from a DataFrame.\n",
      "Try using .loc[row_indexer,col_indexer] = value instead\n",
      "\n",
      "See the caveats in the documentation: https://pandas.pydata.org/pandas-docs/stable/user_guide/indexing.html#returning-a-view-versus-a-copy\n",
      "  df_full_recent['mandante_' + column] = df_full_recent['mandante'].map(df_stats_clube[column])\n",
      "/tmp/ipykernel_13750/2964109191.py:3: SettingWithCopyWarning: \n",
      "A value is trying to be set on a copy of a slice from a DataFrame.\n",
      "Try using .loc[row_indexer,col_indexer] = value instead\n",
      "\n",
      "See the caveats in the documentation: https://pandas.pydata.org/pandas-docs/stable/user_guide/indexing.html#returning-a-view-versus-a-copy\n",
      "  df_full_recent['visitante_' + column] = df_full_recent['visitante'].map(df_stats_clube[column])\n"
     ]
    }
   ],
   "source": [
    "for column in df_stats_clube.columns.tolist():\n",
    "    df_full_recent['mandante_' + column] = df_full_recent['mandante'].map(df_stats_clube[column])\n",
    "    df_full_recent['visitante_' + column] = df_full_recent['visitante'].map(df_stats_clube[column])"
   ]
  },
  {
   "cell_type": "markdown",
   "id": "95bf781c",
   "metadata": {},
   "source": [
    "### 1.6.4 Creating the target feature "
   ]
  },
  {
   "cell_type": "code",
   "execution_count": 127,
   "id": "bafd14f0",
   "metadata": {
    "ExecuteTime": {
     "end_time": "2022-03-17T17:05:35.869519Z",
     "start_time": "2022-03-17T17:05:35.864183Z"
    }
   },
   "outputs": [],
   "source": [
    "df_full_recent = df_full_recent.reset_index()"
   ]
  },
  {
   "cell_type": "code",
   "execution_count": 132,
   "id": "eb87a03e",
   "metadata": {
    "ExecuteTime": {
     "end_time": "2022-03-17T17:06:27.264216Z",
     "start_time": "2022-03-17T17:06:27.093306Z"
    }
   },
   "outputs": [],
   "source": [
    "# 1 - mandante\n",
    "# 2 - visitante\n",
    "# 0 - empate\n",
    "\n",
    "for i in range(0, len(df_full_recent)):\n",
    "    if df_full_recent.loc[i, 'vencedor'] == df_full_recent.loc[i, 'mandante']:\n",
    "        df_full_recent.loc[i, 'resultado'] = 1\n",
    "    elif df_full_recent.loc[i, 'vencedor'] == df_full_recent.loc[i, 'visitante']:\n",
    "        df_full_recent.loc[i, 'resultado'] = 2\n",
    "    else:\n",
    "        df_full_recent.loc[i, 'resultado'] = 0    "
   ]
  },
  {
   "cell_type": "code",
   "execution_count": 133,
   "id": "8b7185a6",
   "metadata": {
    "ExecuteTime": {
     "end_time": "2022-03-17T17:06:27.449484Z",
     "start_time": "2022-03-17T17:06:27.424912Z"
    }
   },
   "outputs": [
    {
     "data": {
      "text/html": [
       "<div>\n",
       "<style scoped>\n",
       "    .dataframe tbody tr th:only-of-type {\n",
       "        vertical-align: middle;\n",
       "    }\n",
       "\n",
       "    .dataframe tbody tr th {\n",
       "        vertical-align: top;\n",
       "    }\n",
       "\n",
       "    .dataframe thead th {\n",
       "        text-align: right;\n",
       "    }\n",
       "</style>\n",
       "<table border=\"1\" class=\"dataframe\">\n",
       "  <thead>\n",
       "    <tr style=\"text-align: right;\">\n",
       "      <th></th>\n",
       "      <th>index</th>\n",
       "      <th>ID</th>\n",
       "      <th>rodada</th>\n",
       "      <th>data</th>\n",
       "      <th>hora</th>\n",
       "      <th>dia</th>\n",
       "      <th>mandante</th>\n",
       "      <th>visitante</th>\n",
       "      <th>formacao_mandante</th>\n",
       "      <th>formacao_visitante</th>\n",
       "      <th>...</th>\n",
       "      <th>visitante_faltas</th>\n",
       "      <th>mandante_cartao_amarelo</th>\n",
       "      <th>visitante_cartao_amarelo</th>\n",
       "      <th>mandante_cartao_vermelho</th>\n",
       "      <th>visitante_cartao_vermelho</th>\n",
       "      <th>mandante_impedimentos</th>\n",
       "      <th>visitante_impedimentos</th>\n",
       "      <th>mandante_escanteios</th>\n",
       "      <th>visitante_escanteios</th>\n",
       "      <th>resultado</th>\n",
       "    </tr>\n",
       "  </thead>\n",
       "  <tbody>\n",
       "    <tr>\n",
       "      <th>0</th>\n",
       "      <td>6125</td>\n",
       "      <td>6126</td>\n",
       "      <td>1</td>\n",
       "      <td>2018-04-14</td>\n",
       "      <td>16:00</td>\n",
       "      <td>Sabado</td>\n",
       "      <td>Cruzeiro</td>\n",
       "      <td>Gremio</td>\n",
       "      <td>4-2-3-1</td>\n",
       "      <td>4-2-3-1</td>\n",
       "      <td>...</td>\n",
       "      <td>14.086093</td>\n",
       "      <td>2.280000</td>\n",
       "      <td>2.145695</td>\n",
       "      <td>0.093333</td>\n",
       "      <td>0.105960</td>\n",
       "      <td>1.640000</td>\n",
       "      <td>1.132450</td>\n",
       "      <td>5.253333</td>\n",
       "      <td>5.688742</td>\n",
       "      <td>2.0</td>\n",
       "    </tr>\n",
       "    <tr>\n",
       "      <th>1</th>\n",
       "      <td>6126</td>\n",
       "      <td>6127</td>\n",
       "      <td>1</td>\n",
       "      <td>2018-04-14</td>\n",
       "      <td>19:02</td>\n",
       "      <td>Sabado</td>\n",
       "      <td>Vitoria</td>\n",
       "      <td>Flamengo</td>\n",
       "      <td>4-2-3-1</td>\n",
       "      <td>4-1-4-1</td>\n",
       "      <td>...</td>\n",
       "      <td>15.375000</td>\n",
       "      <td>2.842105</td>\n",
       "      <td>2.197368</td>\n",
       "      <td>0.184211</td>\n",
       "      <td>0.125000</td>\n",
       "      <td>1.157895</td>\n",
       "      <td>1.243421</td>\n",
       "      <td>4.605263</td>\n",
       "      <td>6.256579</td>\n",
       "      <td>0.0</td>\n",
       "    </tr>\n",
       "    <tr>\n",
       "      <th>2</th>\n",
       "      <td>6127</td>\n",
       "      <td>6128</td>\n",
       "      <td>1</td>\n",
       "      <td>2018-04-14</td>\n",
       "      <td>21:03</td>\n",
       "      <td>Sabado</td>\n",
       "      <td>Santos</td>\n",
       "      <td>Ceara</td>\n",
       "      <td>4-3-3</td>\n",
       "      <td>4-1-4-1</td>\n",
       "      <td>...</td>\n",
       "      <td>15.006579</td>\n",
       "      <td>2.355263</td>\n",
       "      <td>2.269737</td>\n",
       "      <td>0.125000</td>\n",
       "      <td>0.098684</td>\n",
       "      <td>1.763158</td>\n",
       "      <td>1.460526</td>\n",
       "      <td>5.427632</td>\n",
       "      <td>5.263158</td>\n",
       "      <td>1.0</td>\n",
       "    </tr>\n",
       "    <tr>\n",
       "      <th>3</th>\n",
       "      <td>6128</td>\n",
       "      <td>6129</td>\n",
       "      <td>1</td>\n",
       "      <td>2018-04-15</td>\n",
       "      <td>11:00</td>\n",
       "      <td>Domingo</td>\n",
       "      <td>America-MG</td>\n",
       "      <td>Sport</td>\n",
       "      <td>4-1-4-1</td>\n",
       "      <td>4-3-2-1</td>\n",
       "      <td>...</td>\n",
       "      <td>15.043860</td>\n",
       "      <td>1.921053</td>\n",
       "      <td>2.245614</td>\n",
       "      <td>0.118421</td>\n",
       "      <td>0.105263</td>\n",
       "      <td>1.684211</td>\n",
       "      <td>1.342105</td>\n",
       "      <td>4.763158</td>\n",
       "      <td>4.412281</td>\n",
       "      <td>1.0</td>\n",
       "    </tr>\n",
       "    <tr>\n",
       "      <th>4</th>\n",
       "      <td>6129</td>\n",
       "      <td>6130</td>\n",
       "      <td>1</td>\n",
       "      <td>2018-04-15</td>\n",
       "      <td>16:01</td>\n",
       "      <td>Domingo</td>\n",
       "      <td>Vasco</td>\n",
       "      <td>Atletico-MG</td>\n",
       "      <td>4-1-4-1</td>\n",
       "      <td>4-1-4-1</td>\n",
       "      <td>...</td>\n",
       "      <td>14.480263</td>\n",
       "      <td>2.438596</td>\n",
       "      <td>1.888158</td>\n",
       "      <td>0.157895</td>\n",
       "      <td>0.085526</td>\n",
       "      <td>1.201754</td>\n",
       "      <td>1.486842</td>\n",
       "      <td>4.640351</td>\n",
       "      <td>6.157895</td>\n",
       "      <td>1.0</td>\n",
       "    </tr>\n",
       "  </tbody>\n",
       "</table>\n",
       "<p>5 rows × 35 columns</p>\n",
       "</div>"
      ],
      "text/plain": [
       "   index    ID  rodada       data   hora      dia    mandante    visitante  \\\n",
       "0   6125  6126       1 2018-04-14  16:00   Sabado    Cruzeiro       Gremio   \n",
       "1   6126  6127       1 2018-04-14  19:02   Sabado     Vitoria     Flamengo   \n",
       "2   6127  6128       1 2018-04-14  21:03   Sabado      Santos        Ceara   \n",
       "3   6128  6129       1 2018-04-15  11:00  Domingo  America-MG        Sport   \n",
       "4   6129  6130       1 2018-04-15  16:01  Domingo       Vasco  Atletico-MG   \n",
       "\n",
       "  formacao_mandante formacao_visitante  ... visitante_faltas  \\\n",
       "0           4-2-3-1            4-2-3-1  ...        14.086093   \n",
       "1           4-2-3-1            4-1-4-1  ...        15.375000   \n",
       "2             4-3-3            4-1-4-1  ...        15.006579   \n",
       "3           4-1-4-1            4-3-2-1  ...        15.043860   \n",
       "4           4-1-4-1            4-1-4-1  ...        14.480263   \n",
       "\n",
       "  mandante_cartao_amarelo visitante_cartao_amarelo mandante_cartao_vermelho  \\\n",
       "0                2.280000                 2.145695                 0.093333   \n",
       "1                2.842105                 2.197368                 0.184211   \n",
       "2                2.355263                 2.269737                 0.125000   \n",
       "3                1.921053                 2.245614                 0.118421   \n",
       "4                2.438596                 1.888158                 0.157895   \n",
       "\n",
       "   visitante_cartao_vermelho  mandante_impedimentos  visitante_impedimentos  \\\n",
       "0                   0.105960               1.640000                1.132450   \n",
       "1                   0.125000               1.157895                1.243421   \n",
       "2                   0.098684               1.763158                1.460526   \n",
       "3                   0.105263               1.684211                1.342105   \n",
       "4                   0.085526               1.201754                1.486842   \n",
       "\n",
       "   mandante_escanteios  visitante_escanteios  resultado  \n",
       "0             5.253333              5.688742        2.0  \n",
       "1             4.605263              6.256579        0.0  \n",
       "2             5.427632              5.263158        1.0  \n",
       "3             4.763158              4.412281        1.0  \n",
       "4             4.640351              6.157895        1.0  \n",
       "\n",
       "[5 rows x 35 columns]"
      ]
     },
     "execution_count": 133,
     "metadata": {},
     "output_type": "execute_result"
    }
   ],
   "source": [
    "df_full_recent.head()"
   ]
  },
  {
   "cell_type": "code",
   "execution_count": 134,
   "id": "c6d9ad61",
   "metadata": {
    "ExecuteTime": {
     "end_time": "2022-03-17T17:06:33.748072Z",
     "start_time": "2022-03-17T17:06:33.741016Z"
    }
   },
   "outputs": [
    {
     "data": {
      "text/plain": [
       "index                                 int64\n",
       "ID                                    int64\n",
       "rodada                                int64\n",
       "data                         datetime64[ns]\n",
       "hora                                 object\n",
       "dia                                  object\n",
       "mandante                             object\n",
       "visitante                            object\n",
       "formacao_mandante                    object\n",
       "formacao_visitante                   object\n",
       "vencedor                             object\n",
       "arena                                object\n",
       "mandante_estado                      object\n",
       "visitante_estado                     object\n",
       "mandante_chutes                     float64\n",
       "visitante_chutes                    float64\n",
       "mandante_chutes_no_alvo             float64\n",
       "visitante_chutes_no_alvo            float64\n",
       "mandante_posse_de_bola              float64\n",
       "visitante_posse_de_bola             float64\n",
       "mandante_passes                     float64\n",
       "visitante_passes                    float64\n",
       "mandante_precisao_passes            float64\n",
       "visitante_precisao_passes           float64\n",
       "mandante_faltas                     float64\n",
       "visitante_faltas                    float64\n",
       "mandante_cartao_amarelo             float64\n",
       "visitante_cartao_amarelo            float64\n",
       "mandante_cartao_vermelho            float64\n",
       "visitante_cartao_vermelho           float64\n",
       "mandante_impedimentos               float64\n",
       "visitante_impedimentos              float64\n",
       "mandante_escanteios                 float64\n",
       "visitante_escanteios                float64\n",
       "resultado                           float64\n",
       "dtype: object"
      ]
     },
     "execution_count": 134,
     "metadata": {},
     "output_type": "execute_result"
    }
   ],
   "source": [
    "df_full_recent.dtypes"
   ]
  },
  {
   "cell_type": "markdown",
   "id": "619090e9",
   "metadata": {},
   "source": [
    "# 2. Exploratory Data Analysy"
   ]
  },
  {
   "cell_type": "code",
   "execution_count": 135,
   "id": "48816b20",
   "metadata": {
    "ExecuteTime": {
     "end_time": "2022-03-17T17:09:43.686879Z",
     "start_time": "2022-03-17T17:09:43.682238Z"
    }
   },
   "outputs": [],
   "source": [
    "df2 = df_full_recent.copy()"
   ]
  },
  {
   "cell_type": "code",
   "execution_count": 145,
   "id": "c1ae863f",
   "metadata": {
    "ExecuteTime": {
     "end_time": "2022-03-17T17:12:40.825434Z",
     "start_time": "2022-03-17T17:12:40.727663Z"
    }
   },
   "outputs": [
    {
     "data": {
      "image/png": "[encoded data removed]",
      "text/plain": [
       "<Figure size 432x288 with 1 Axes>"
      ]
     },
     "metadata": {
      "needs_background": "light"
     },
     "output_type": "display_data"
    }
   ],
   "source": [
    "df2.resultado.value_counts(normalize=True).plot(kind='bar');\n",
    "plt.title('0 - Empate, 1 - Mandante, 2 - Visitante');"
   ]
  },
  {
   "cell_type": "code",
   "execution_count": 159,
   "id": "81ff0aeb",
   "metadata": {
    "ExecuteTime": {
     "end_time": "2022-03-17T17:27:58.156246Z",
     "start_time": "2022-03-17T17:27:57.983895Z"
    }
   },
   "outputs": [
    {
     "data": {
      "image/png": "[encoded data removed]",
      "text/plain": [
       "<Figure size 432x288 with 1 Axes>"
      ]
     },
     "metadata": {
      "needs_background": "light"
     },
     "output_type": "display_data"
    }
   ],
   "source": [
    "sns.countplot(y=df2.dia, hue=df2.resultado);\n",
    "plt.title('Resultado por dia da semana');"
   ]
  },
  {
   "cell_type": "markdown",
   "id": "06ba7bb1",
   "metadata": {},
   "source": [
    "# 3. Feature Engineering "
   ]
  },
  {
   "cell_type": "code",
   "execution_count": 200,
   "id": "94fdb3fc",
   "metadata": {
    "ExecuteTime": {
     "end_time": "2022-03-17T17:51:52.151046Z",
     "start_time": "2022-03-17T17:51:52.147958Z"
    }
   },
   "outputs": [],
   "source": [
    "df3 = df2.copy()"
   ]
  },
  {
   "cell_type": "code",
   "execution_count": 201,
   "id": "ec2bfd42",
   "metadata": {
    "ExecuteTime": {
     "end_time": "2022-03-17T17:51:52.327071Z",
     "start_time": "2022-03-17T17:51:52.319636Z"
    }
   },
   "outputs": [],
   "source": [
    "to_drop = ['index', 'vencedor', 'ID']\n",
    "df3 = df3.drop(to_drop, axis = 1)"
   ]
  },
  {
   "cell_type": "code",
   "execution_count": 202,
   "id": "c226fcb4",
   "metadata": {
    "ExecuteTime": {
     "end_time": "2022-03-17T17:51:52.524816Z",
     "start_time": "2022-03-17T17:51:52.503268Z"
    }
   },
   "outputs": [
    {
     "data": {
      "text/html": [
       "<div>\n",
       "<style scoped>\n",
       "    .dataframe tbody tr th:only-of-type {\n",
       "        vertical-align: middle;\n",
       "    }\n",
       "\n",
       "    .dataframe tbody tr th {\n",
       "        vertical-align: top;\n",
       "    }\n",
       "\n",
       "    .dataframe thead th {\n",
       "        text-align: right;\n",
       "    }\n",
       "</style>\n",
       "<table border=\"1\" class=\"dataframe\">\n",
       "  <thead>\n",
       "    <tr style=\"text-align: right;\">\n",
       "      <th></th>\n",
       "      <th>rodada</th>\n",
       "      <th>data</th>\n",
       "      <th>hora</th>\n",
       "      <th>dia</th>\n",
       "      <th>mandante</th>\n",
       "      <th>visitante</th>\n",
       "      <th>formacao_mandante</th>\n",
       "      <th>formacao_visitante</th>\n",
       "      <th>arena</th>\n",
       "      <th>mandante_estado</th>\n",
       "      <th>...</th>\n",
       "      <th>visitante_faltas</th>\n",
       "      <th>mandante_cartao_amarelo</th>\n",
       "      <th>visitante_cartao_amarelo</th>\n",
       "      <th>mandante_cartao_vermelho</th>\n",
       "      <th>visitante_cartao_vermelho</th>\n",
       "      <th>mandante_impedimentos</th>\n",
       "      <th>visitante_impedimentos</th>\n",
       "      <th>mandante_escanteios</th>\n",
       "      <th>visitante_escanteios</th>\n",
       "      <th>resultado</th>\n",
       "    </tr>\n",
       "  </thead>\n",
       "  <tbody>\n",
       "    <tr>\n",
       "      <th>0</th>\n",
       "      <td>1</td>\n",
       "      <td>2018-04-14</td>\n",
       "      <td>16:00</td>\n",
       "      <td>Sabado</td>\n",
       "      <td>Cruzeiro</td>\n",
       "      <td>Gremio</td>\n",
       "      <td>4-2-3-1</td>\n",
       "      <td>4-2-3-1</td>\n",
       "      <td>mineirao</td>\n",
       "      <td>MG</td>\n",
       "      <td>...</td>\n",
       "      <td>14.086093</td>\n",
       "      <td>2.280000</td>\n",
       "      <td>2.145695</td>\n",
       "      <td>0.093333</td>\n",
       "      <td>0.105960</td>\n",
       "      <td>1.640000</td>\n",
       "      <td>1.132450</td>\n",
       "      <td>5.253333</td>\n",
       "      <td>5.688742</td>\n",
       "      <td>2.0</td>\n",
       "    </tr>\n",
       "    <tr>\n",
       "      <th>1</th>\n",
       "      <td>1</td>\n",
       "      <td>2018-04-14</td>\n",
       "      <td>19:02</td>\n",
       "      <td>Sabado</td>\n",
       "      <td>Vitoria</td>\n",
       "      <td>Flamengo</td>\n",
       "      <td>4-2-3-1</td>\n",
       "      <td>4-1-4-1</td>\n",
       "      <td>barradao</td>\n",
       "      <td>BA</td>\n",
       "      <td>...</td>\n",
       "      <td>15.375000</td>\n",
       "      <td>2.842105</td>\n",
       "      <td>2.197368</td>\n",
       "      <td>0.184211</td>\n",
       "      <td>0.125000</td>\n",
       "      <td>1.157895</td>\n",
       "      <td>1.243421</td>\n",
       "      <td>4.605263</td>\n",
       "      <td>6.256579</td>\n",
       "      <td>0.0</td>\n",
       "    </tr>\n",
       "    <tr>\n",
       "      <th>2</th>\n",
       "      <td>1</td>\n",
       "      <td>2018-04-14</td>\n",
       "      <td>21:03</td>\n",
       "      <td>Sabado</td>\n",
       "      <td>Santos</td>\n",
       "      <td>Ceara</td>\n",
       "      <td>4-3-3</td>\n",
       "      <td>4-1-4-1</td>\n",
       "      <td>estadio municipal paulo machado de carvalho</td>\n",
       "      <td>SP</td>\n",
       "      <td>...</td>\n",
       "      <td>15.006579</td>\n",
       "      <td>2.355263</td>\n",
       "      <td>2.269737</td>\n",
       "      <td>0.125000</td>\n",
       "      <td>0.098684</td>\n",
       "      <td>1.763158</td>\n",
       "      <td>1.460526</td>\n",
       "      <td>5.427632</td>\n",
       "      <td>5.263158</td>\n",
       "      <td>1.0</td>\n",
       "    </tr>\n",
       "    <tr>\n",
       "      <th>3</th>\n",
       "      <td>1</td>\n",
       "      <td>2018-04-15</td>\n",
       "      <td>11:00</td>\n",
       "      <td>Domingo</td>\n",
       "      <td>America-MG</td>\n",
       "      <td>Sport</td>\n",
       "      <td>4-1-4-1</td>\n",
       "      <td>4-3-2-1</td>\n",
       "      <td>estadio raimundo sampaio</td>\n",
       "      <td>MG</td>\n",
       "      <td>...</td>\n",
       "      <td>15.043860</td>\n",
       "      <td>1.921053</td>\n",
       "      <td>2.245614</td>\n",
       "      <td>0.118421</td>\n",
       "      <td>0.105263</td>\n",
       "      <td>1.684211</td>\n",
       "      <td>1.342105</td>\n",
       "      <td>4.763158</td>\n",
       "      <td>4.412281</td>\n",
       "      <td>1.0</td>\n",
       "    </tr>\n",
       "    <tr>\n",
       "      <th>4</th>\n",
       "      <td>1</td>\n",
       "      <td>2018-04-15</td>\n",
       "      <td>16:01</td>\n",
       "      <td>Domingo</td>\n",
       "      <td>Vasco</td>\n",
       "      <td>Atletico-MG</td>\n",
       "      <td>4-1-4-1</td>\n",
       "      <td>4-1-4-1</td>\n",
       "      <td>estadio vasco da gama</td>\n",
       "      <td>RJ</td>\n",
       "      <td>...</td>\n",
       "      <td>14.480263</td>\n",
       "      <td>2.438596</td>\n",
       "      <td>1.888158</td>\n",
       "      <td>0.157895</td>\n",
       "      <td>0.085526</td>\n",
       "      <td>1.201754</td>\n",
       "      <td>1.486842</td>\n",
       "      <td>4.640351</td>\n",
       "      <td>6.157895</td>\n",
       "      <td>1.0</td>\n",
       "    </tr>\n",
       "  </tbody>\n",
       "</table>\n",
       "<p>5 rows × 32 columns</p>\n",
       "</div>"
      ],
      "text/plain": [
       "   rodada       data   hora      dia    mandante    visitante  \\\n",
       "0       1 2018-04-14  16:00   Sabado    Cruzeiro       Gremio   \n",
       "1       1 2018-04-14  19:02   Sabado     Vitoria     Flamengo   \n",
       "2       1 2018-04-14  21:03   Sabado      Santos        Ceara   \n",
       "3       1 2018-04-15  11:00  Domingo  America-MG        Sport   \n",
       "4       1 2018-04-15  16:01  Domingo       Vasco  Atletico-MG   \n",
       "\n",
       "  formacao_mandante formacao_visitante  \\\n",
       "0           4-2-3-1            4-2-3-1   \n",
       "1           4-2-3-1            4-1-4-1   \n",
       "2             4-3-3            4-1-4-1   \n",
       "3           4-1-4-1            4-3-2-1   \n",
       "4           4-1-4-1            4-1-4-1   \n",
       "\n",
       "                                         arena mandante_estado  ...  \\\n",
       "0                                     mineirao              MG  ...   \n",
       "1                                     barradao              BA  ...   \n",
       "2  estadio municipal paulo machado de carvalho              SP  ...   \n",
       "3                     estadio raimundo sampaio              MG  ...   \n",
       "4                        estadio vasco da gama              RJ  ...   \n",
       "\n",
       "  visitante_faltas  mandante_cartao_amarelo  visitante_cartao_amarelo  \\\n",
       "0        14.086093                 2.280000                  2.145695   \n",
       "1        15.375000                 2.842105                  2.197368   \n",
       "2        15.006579                 2.355263                  2.269737   \n",
       "3        15.043860                 1.921053                  2.245614   \n",
       "4        14.480263                 2.438596                  1.888158   \n",
       "\n",
       "   mandante_cartao_vermelho  visitante_cartao_vermelho  mandante_impedimentos  \\\n",
       "0                  0.093333                   0.105960               1.640000   \n",
       "1                  0.184211                   0.125000               1.157895   \n",
       "2                  0.125000                   0.098684               1.763158   \n",
       "3                  0.118421                   0.105263               1.684211   \n",
       "4                  0.157895                   0.085526               1.201754   \n",
       "\n",
       "   visitante_impedimentos  mandante_escanteios  visitante_escanteios  \\\n",
       "0                1.132450             5.253333              5.688742   \n",
       "1                1.243421             4.605263              6.256579   \n",
       "2                1.460526             5.427632              5.263158   \n",
       "3                1.342105             4.763158              4.412281   \n",
       "4                1.486842             4.640351              6.157895   \n",
       "\n",
       "   resultado  \n",
       "0        2.0  \n",
       "1        0.0  \n",
       "2        1.0  \n",
       "3        1.0  \n",
       "4        1.0  \n",
       "\n",
       "[5 rows x 32 columns]"
      ]
     },
     "execution_count": 202,
     "metadata": {},
     "output_type": "execute_result"
    }
   ],
   "source": [
    "df3.head()"
   ]
  },
  {
   "cell_type": "code",
   "execution_count": 203,
   "id": "64400c48",
   "metadata": {
    "ExecuteTime": {
     "end_time": "2022-03-17T17:51:52.674865Z",
     "start_time": "2022-03-17T17:51:52.669639Z"
    }
   },
   "outputs": [
    {
     "data": {
      "text/plain": [
       "rodada                                int64\n",
       "data                         datetime64[ns]\n",
       "hora                                 object\n",
       "dia                                  object\n",
       "mandante                             object\n",
       "visitante                            object\n",
       "formacao_mandante                    object\n",
       "formacao_visitante                   object\n",
       "arena                                object\n",
       "mandante_estado                      object\n",
       "visitante_estado                     object\n",
       "mandante_chutes                     float64\n",
       "visitante_chutes                    float64\n",
       "mandante_chutes_no_alvo             float64\n",
       "visitante_chutes_no_alvo            float64\n",
       "mandante_posse_de_bola              float64\n",
       "visitante_posse_de_bola             float64\n",
       "mandante_passes                     float64\n",
       "visitante_passes                    float64\n",
       "mandante_precisao_passes            float64\n",
       "visitante_precisao_passes           float64\n",
       "mandante_faltas                     float64\n",
       "visitante_faltas                    float64\n",
       "mandante_cartao_amarelo             float64\n",
       "visitante_cartao_amarelo            float64\n",
       "mandante_cartao_vermelho            float64\n",
       "visitante_cartao_vermelho           float64\n",
       "mandante_impedimentos               float64\n",
       "visitante_impedimentos              float64\n",
       "mandante_escanteios                 float64\n",
       "visitante_escanteios                float64\n",
       "resultado                           float64\n",
       "dtype: object"
      ]
     },
     "execution_count": 203,
     "metadata": {},
     "output_type": "execute_result"
    }
   ],
   "source": [
    "df3.dtypes"
   ]
  },
  {
   "cell_type": "code",
   "execution_count": 204,
   "id": "09e4c9a9",
   "metadata": {
    "ExecuteTime": {
     "end_time": "2022-03-17T17:51:52.877985Z",
     "start_time": "2022-03-17T17:51:52.850333Z"
    }
   },
   "outputs": [],
   "source": [
    "df3.loc[:,'hora_decimal'] = pd.to_datetime(df3.hora).dt.hour + pd.to_datetime(df3.hora).dt.minute / 60"
   ]
  },
  {
   "cell_type": "code",
   "execution_count": 205,
   "id": "900a4911",
   "metadata": {
    "ExecuteTime": {
     "end_time": "2022-03-17T17:51:53.057071Z",
     "start_time": "2022-03-17T17:51:53.044137Z"
    }
   },
   "outputs": [],
   "source": [
    "df3['hora_sin_'] = df3['hora_decimal'].apply(lambda x: np.sin(x * (2 * np.pi/24)))"
   ]
  },
  {
   "cell_type": "code",
   "execution_count": 206,
   "id": "43ee73b5",
   "metadata": {
    "ExecuteTime": {
     "end_time": "2022-03-17T17:51:53.228139Z",
     "start_time": "2022-03-17T17:51:53.220966Z"
    }
   },
   "outputs": [],
   "source": [
    "df3 = df3.drop(['hora', 'hora_decimal'], axis = 1)"
   ]
  },
  {
   "cell_type": "code",
   "execution_count": 207,
   "id": "0eff477b",
   "metadata": {
    "ExecuteTime": {
     "end_time": "2022-03-17T17:51:53.421330Z",
     "start_time": "2022-03-17T17:51:53.416974Z"
    }
   },
   "outputs": [],
   "source": [
    "df3.insert(2, 'hora_sin', df3.hora_sin_)"
   ]
  },
  {
   "cell_type": "code",
   "execution_count": 208,
   "id": "4db7ff65",
   "metadata": {
    "ExecuteTime": {
     "end_time": "2022-03-17T17:51:53.598689Z",
     "start_time": "2022-03-17T17:51:53.594632Z"
    }
   },
   "outputs": [],
   "source": [
    "df3 = df3.drop('hora_sin_', axis = 1)"
   ]
  },
  {
   "cell_type": "code",
   "execution_count": 209,
   "id": "2081235f",
   "metadata": {
    "ExecuteTime": {
     "end_time": "2022-03-17T17:51:53.823409Z",
     "start_time": "2022-03-17T17:51:53.795903Z"
    }
   },
   "outputs": [
    {
     "data": {
      "text/html": [
       "<div>\n",
       "<style scoped>\n",
       "    .dataframe tbody tr th:only-of-type {\n",
       "        vertical-align: middle;\n",
       "    }\n",
       "\n",
       "    .dataframe tbody tr th {\n",
       "        vertical-align: top;\n",
       "    }\n",
       "\n",
       "    .dataframe thead th {\n",
       "        text-align: right;\n",
       "    }\n",
       "</style>\n",
       "<table border=\"1\" class=\"dataframe\">\n",
       "  <thead>\n",
       "    <tr style=\"text-align: right;\">\n",
       "      <th></th>\n",
       "      <th>rodada</th>\n",
       "      <th>data</th>\n",
       "      <th>hora_sin</th>\n",
       "      <th>dia</th>\n",
       "      <th>mandante</th>\n",
       "      <th>visitante</th>\n",
       "      <th>formacao_mandante</th>\n",
       "      <th>formacao_visitante</th>\n",
       "      <th>arena</th>\n",
       "      <th>mandante_estado</th>\n",
       "      <th>...</th>\n",
       "      <th>visitante_faltas</th>\n",
       "      <th>mandante_cartao_amarelo</th>\n",
       "      <th>visitante_cartao_amarelo</th>\n",
       "      <th>mandante_cartao_vermelho</th>\n",
       "      <th>visitante_cartao_vermelho</th>\n",
       "      <th>mandante_impedimentos</th>\n",
       "      <th>visitante_impedimentos</th>\n",
       "      <th>mandante_escanteios</th>\n",
       "      <th>visitante_escanteios</th>\n",
       "      <th>resultado</th>\n",
       "    </tr>\n",
       "  </thead>\n",
       "  <tbody>\n",
       "    <tr>\n",
       "      <th>0</th>\n",
       "      <td>1</td>\n",
       "      <td>2018-04-14</td>\n",
       "      <td>-0.866025</td>\n",
       "      <td>Sabado</td>\n",
       "      <td>Cruzeiro</td>\n",
       "      <td>Gremio</td>\n",
       "      <td>4-2-3-1</td>\n",
       "      <td>4-2-3-1</td>\n",
       "      <td>mineirao</td>\n",
       "      <td>MG</td>\n",
       "      <td>...</td>\n",
       "      <td>14.086093</td>\n",
       "      <td>2.280000</td>\n",
       "      <td>2.145695</td>\n",
       "      <td>0.093333</td>\n",
       "      <td>0.105960</td>\n",
       "      <td>1.640000</td>\n",
       "      <td>1.132450</td>\n",
       "      <td>5.253333</td>\n",
       "      <td>5.688742</td>\n",
       "      <td>2.0</td>\n",
       "    </tr>\n",
       "    <tr>\n",
       "      <th>1</th>\n",
       "      <td>1</td>\n",
       "      <td>2018-04-14</td>\n",
       "      <td>-0.963630</td>\n",
       "      <td>Sabado</td>\n",
       "      <td>Vitoria</td>\n",
       "      <td>Flamengo</td>\n",
       "      <td>4-2-3-1</td>\n",
       "      <td>4-1-4-1</td>\n",
       "      <td>barradao</td>\n",
       "      <td>BA</td>\n",
       "      <td>...</td>\n",
       "      <td>15.375000</td>\n",
       "      <td>2.842105</td>\n",
       "      <td>2.197368</td>\n",
       "      <td>0.184211</td>\n",
       "      <td>0.125000</td>\n",
       "      <td>1.157895</td>\n",
       "      <td>1.243421</td>\n",
       "      <td>4.605263</td>\n",
       "      <td>6.256579</td>\n",
       "      <td>0.0</td>\n",
       "    </tr>\n",
       "    <tr>\n",
       "      <th>2</th>\n",
       "      <td>1</td>\n",
       "      <td>2018-04-14</td>\n",
       "      <td>-0.697790</td>\n",
       "      <td>Sabado</td>\n",
       "      <td>Santos</td>\n",
       "      <td>Ceara</td>\n",
       "      <td>4-3-3</td>\n",
       "      <td>4-1-4-1</td>\n",
       "      <td>estadio municipal paulo machado de carvalho</td>\n",
       "      <td>SP</td>\n",
       "      <td>...</td>\n",
       "      <td>15.006579</td>\n",
       "      <td>2.355263</td>\n",
       "      <td>2.269737</td>\n",
       "      <td>0.125000</td>\n",
       "      <td>0.098684</td>\n",
       "      <td>1.763158</td>\n",
       "      <td>1.460526</td>\n",
       "      <td>5.427632</td>\n",
       "      <td>5.263158</td>\n",
       "      <td>1.0</td>\n",
       "    </tr>\n",
       "    <tr>\n",
       "      <th>3</th>\n",
       "      <td>1</td>\n",
       "      <td>2018-04-15</td>\n",
       "      <td>0.258819</td>\n",
       "      <td>Domingo</td>\n",
       "      <td>America-MG</td>\n",
       "      <td>Sport</td>\n",
       "      <td>4-1-4-1</td>\n",
       "      <td>4-3-2-1</td>\n",
       "      <td>estadio raimundo sampaio</td>\n",
       "      <td>MG</td>\n",
       "      <td>...</td>\n",
       "      <td>15.043860</td>\n",
       "      <td>1.921053</td>\n",
       "      <td>2.245614</td>\n",
       "      <td>0.118421</td>\n",
       "      <td>0.105263</td>\n",
       "      <td>1.684211</td>\n",
       "      <td>1.342105</td>\n",
       "      <td>4.763158</td>\n",
       "      <td>4.412281</td>\n",
       "      <td>1.0</td>\n",
       "    </tr>\n",
       "    <tr>\n",
       "      <th>4</th>\n",
       "      <td>1</td>\n",
       "      <td>2018-04-15</td>\n",
       "      <td>-0.868199</td>\n",
       "      <td>Domingo</td>\n",
       "      <td>Vasco</td>\n",
       "      <td>Atletico-MG</td>\n",
       "      <td>4-1-4-1</td>\n",
       "      <td>4-1-4-1</td>\n",
       "      <td>estadio vasco da gama</td>\n",
       "      <td>RJ</td>\n",
       "      <td>...</td>\n",
       "      <td>14.480263</td>\n",
       "      <td>2.438596</td>\n",
       "      <td>1.888158</td>\n",
       "      <td>0.157895</td>\n",
       "      <td>0.085526</td>\n",
       "      <td>1.201754</td>\n",
       "      <td>1.486842</td>\n",
       "      <td>4.640351</td>\n",
       "      <td>6.157895</td>\n",
       "      <td>1.0</td>\n",
       "    </tr>\n",
       "  </tbody>\n",
       "</table>\n",
       "<p>5 rows × 32 columns</p>\n",
       "</div>"
      ],
      "text/plain": [
       "   rodada       data  hora_sin      dia    mandante    visitante  \\\n",
       "0       1 2018-04-14 -0.866025   Sabado    Cruzeiro       Gremio   \n",
       "1       1 2018-04-14 -0.963630   Sabado     Vitoria     Flamengo   \n",
       "2       1 2018-04-14 -0.697790   Sabado      Santos        Ceara   \n",
       "3       1 2018-04-15  0.258819  Domingo  America-MG        Sport   \n",
       "4       1 2018-04-15 -0.868199  Domingo       Vasco  Atletico-MG   \n",
       "\n",
       "  formacao_mandante formacao_visitante  \\\n",
       "0           4-2-3-1            4-2-3-1   \n",
       "1           4-2-3-1            4-1-4-1   \n",
       "2             4-3-3            4-1-4-1   \n",
       "3           4-1-4-1            4-3-2-1   \n",
       "4           4-1-4-1            4-1-4-1   \n",
       "\n",
       "                                         arena mandante_estado  ...  \\\n",
       "0                                     mineirao              MG  ...   \n",
       "1                                     barradao              BA  ...   \n",
       "2  estadio municipal paulo machado de carvalho              SP  ...   \n",
       "3                     estadio raimundo sampaio              MG  ...   \n",
       "4                        estadio vasco da gama              RJ  ...   \n",
       "\n",
       "  visitante_faltas  mandante_cartao_amarelo  visitante_cartao_amarelo  \\\n",
       "0        14.086093                 2.280000                  2.145695   \n",
       "1        15.375000                 2.842105                  2.197368   \n",
       "2        15.006579                 2.355263                  2.269737   \n",
       "3        15.043860                 1.921053                  2.245614   \n",
       "4        14.480263                 2.438596                  1.888158   \n",
       "\n",
       "   mandante_cartao_vermelho  visitante_cartao_vermelho  mandante_impedimentos  \\\n",
       "0                  0.093333                   0.105960               1.640000   \n",
       "1                  0.184211                   0.125000               1.157895   \n",
       "2                  0.125000                   0.098684               1.763158   \n",
       "3                  0.118421                   0.105263               1.684211   \n",
       "4                  0.157895                   0.085526               1.201754   \n",
       "\n",
       "   visitante_impedimentos  mandante_escanteios  visitante_escanteios  \\\n",
       "0                1.132450             5.253333              5.688742   \n",
       "1                1.243421             4.605263              6.256579   \n",
       "2                1.460526             5.427632              5.263158   \n",
       "3                1.342105             4.763158              4.412281   \n",
       "4                1.486842             4.640351              6.157895   \n",
       "\n",
       "   resultado  \n",
       "0        2.0  \n",
       "1        0.0  \n",
       "2        1.0  \n",
       "3        1.0  \n",
       "4        1.0  \n",
       "\n",
       "[5 rows x 32 columns]"
      ]
     },
     "execution_count": 209,
     "metadata": {},
     "output_type": "execute_result"
    }
   ],
   "source": [
    "df3.head()"
   ]
  },
  {
   "cell_type": "code",
   "execution_count": 210,
   "id": "0343fc89",
   "metadata": {
    "ExecuteTime": {
     "end_time": "2022-03-17T17:51:53.960263Z",
     "start_time": "2022-03-17T17:51:53.955031Z"
    }
   },
   "outputs": [
    {
     "data": {
      "text/plain": [
       "rodada                                int64\n",
       "data                         datetime64[ns]\n",
       "hora_sin                            float64\n",
       "dia                                  object\n",
       "mandante                             object\n",
       "visitante                            object\n",
       "formacao_mandante                    object\n",
       "formacao_visitante                   object\n",
       "arena                                object\n",
       "mandante_estado                      object\n",
       "visitante_estado                     object\n",
       "mandante_chutes                     float64\n",
       "visitante_chutes                    float64\n",
       "mandante_chutes_no_alvo             float64\n",
       "visitante_chutes_no_alvo            float64\n",
       "mandante_posse_de_bola              float64\n",
       "visitante_posse_de_bola             float64\n",
       "mandante_passes                     float64\n",
       "visitante_passes                    float64\n",
       "mandante_precisao_passes            float64\n",
       "visitante_precisao_passes           float64\n",
       "mandante_faltas                     float64\n",
       "visitante_faltas                    float64\n",
       "mandante_cartao_amarelo             float64\n",
       "visitante_cartao_amarelo            float64\n",
       "mandante_cartao_vermelho            float64\n",
       "visitante_cartao_vermelho           float64\n",
       "mandante_impedimentos               float64\n",
       "visitante_impedimentos              float64\n",
       "mandante_escanteios                 float64\n",
       "visitante_escanteios                float64\n",
       "resultado                           float64\n",
       "dtype: object"
      ]
     },
     "execution_count": 210,
     "metadata": {},
     "output_type": "execute_result"
    }
   ],
   "source": [
    "df3.dtypes"
   ]
  },
  {
   "cell_type": "markdown",
   "id": "46988018",
   "metadata": {},
   "source": [
    "## 3.1 Features creation "
   ]
  },
  {
   "cell_type": "code",
   "execution_count": 211,
   "id": "3ae0c861",
   "metadata": {
    "ExecuteTime": {
     "end_time": "2022-03-17T17:51:54.407073Z",
     "start_time": "2022-03-17T17:51:54.361601Z"
    }
   },
   "outputs": [
    {
     "name": "stderr",
     "output_type": "stream",
     "text": [
      "/tmp/ipykernel_13750/3886982136.py:4: FutureWarning: Series.dt.weekofyear and Series.dt.week have been deprecated. Please use Series.dt.isocalendar().week instead.\n",
      "  df3['semana_do_ano'] = df3.data.dt.weekofyear\n"
     ]
    },
    {
     "data": {
      "text/html": [
       "<div>\n",
       "<style scoped>\n",
       "    .dataframe tbody tr th:only-of-type {\n",
       "        vertical-align: middle;\n",
       "    }\n",
       "\n",
       "    .dataframe tbody tr th {\n",
       "        vertical-align: top;\n",
       "    }\n",
       "\n",
       "    .dataframe thead th {\n",
       "        text-align: right;\n",
       "    }\n",
       "</style>\n",
       "<table border=\"1\" class=\"dataframe\">\n",
       "  <thead>\n",
       "    <tr style=\"text-align: right;\">\n",
       "      <th></th>\n",
       "      <th>rodada</th>\n",
       "      <th>data</th>\n",
       "      <th>hora_sin</th>\n",
       "      <th>dia</th>\n",
       "      <th>mandante</th>\n",
       "      <th>visitante</th>\n",
       "      <th>formacao_mandante</th>\n",
       "      <th>formacao_visitante</th>\n",
       "      <th>arena</th>\n",
       "      <th>mandante_estado</th>\n",
       "      <th>...</th>\n",
       "      <th>visitante_cartao_vermelho</th>\n",
       "      <th>mandante_impedimentos</th>\n",
       "      <th>visitante_impedimentos</th>\n",
       "      <th>mandante_escanteios</th>\n",
       "      <th>visitante_escanteios</th>\n",
       "      <th>resultado</th>\n",
       "      <th>ano</th>\n",
       "      <th>dia_do_mes</th>\n",
       "      <th>mes</th>\n",
       "      <th>semana_do_ano</th>\n",
       "    </tr>\n",
       "  </thead>\n",
       "  <tbody>\n",
       "    <tr>\n",
       "      <th>0</th>\n",
       "      <td>1</td>\n",
       "      <td>2018-04-14</td>\n",
       "      <td>-0.866025</td>\n",
       "      <td>Sabado</td>\n",
       "      <td>Cruzeiro</td>\n",
       "      <td>Gremio</td>\n",
       "      <td>4-2-3-1</td>\n",
       "      <td>4-2-3-1</td>\n",
       "      <td>mineirao</td>\n",
       "      <td>MG</td>\n",
       "      <td>...</td>\n",
       "      <td>0.105960</td>\n",
       "      <td>1.640000</td>\n",
       "      <td>1.132450</td>\n",
       "      <td>5.253333</td>\n",
       "      <td>5.688742</td>\n",
       "      <td>2.0</td>\n",
       "      <td>2018</td>\n",
       "      <td>14</td>\n",
       "      <td>4</td>\n",
       "      <td>15</td>\n",
       "    </tr>\n",
       "    <tr>\n",
       "      <th>1</th>\n",
       "      <td>1</td>\n",
       "      <td>2018-04-14</td>\n",
       "      <td>-0.963630</td>\n",
       "      <td>Sabado</td>\n",
       "      <td>Vitoria</td>\n",
       "      <td>Flamengo</td>\n",
       "      <td>4-2-3-1</td>\n",
       "      <td>4-1-4-1</td>\n",
       "      <td>barradao</td>\n",
       "      <td>BA</td>\n",
       "      <td>...</td>\n",
       "      <td>0.125000</td>\n",
       "      <td>1.157895</td>\n",
       "      <td>1.243421</td>\n",
       "      <td>4.605263</td>\n",
       "      <td>6.256579</td>\n",
       "      <td>0.0</td>\n",
       "      <td>2018</td>\n",
       "      <td>14</td>\n",
       "      <td>4</td>\n",
       "      <td>15</td>\n",
       "    </tr>\n",
       "    <tr>\n",
       "      <th>2</th>\n",
       "      <td>1</td>\n",
       "      <td>2018-04-14</td>\n",
       "      <td>-0.697790</td>\n",
       "      <td>Sabado</td>\n",
       "      <td>Santos</td>\n",
       "      <td>Ceara</td>\n",
       "      <td>4-3-3</td>\n",
       "      <td>4-1-4-1</td>\n",
       "      <td>estadio municipal paulo machado de carvalho</td>\n",
       "      <td>SP</td>\n",
       "      <td>...</td>\n",
       "      <td>0.098684</td>\n",
       "      <td>1.763158</td>\n",
       "      <td>1.460526</td>\n",
       "      <td>5.427632</td>\n",
       "      <td>5.263158</td>\n",
       "      <td>1.0</td>\n",
       "      <td>2018</td>\n",
       "      <td>14</td>\n",
       "      <td>4</td>\n",
       "      <td>15</td>\n",
       "    </tr>\n",
       "    <tr>\n",
       "      <th>3</th>\n",
       "      <td>1</td>\n",
       "      <td>2018-04-15</td>\n",
       "      <td>0.258819</td>\n",
       "      <td>Domingo</td>\n",
       "      <td>America-MG</td>\n",
       "      <td>Sport</td>\n",
       "      <td>4-1-4-1</td>\n",
       "      <td>4-3-2-1</td>\n",
       "      <td>estadio raimundo sampaio</td>\n",
       "      <td>MG</td>\n",
       "      <td>...</td>\n",
       "      <td>0.105263</td>\n",
       "      <td>1.684211</td>\n",
       "      <td>1.342105</td>\n",
       "      <td>4.763158</td>\n",
       "      <td>4.412281</td>\n",
       "      <td>1.0</td>\n",
       "      <td>2018</td>\n",
       "      <td>15</td>\n",
       "      <td>4</td>\n",
       "      <td>15</td>\n",
       "    </tr>\n",
       "    <tr>\n",
       "      <th>4</th>\n",
       "      <td>1</td>\n",
       "      <td>2018-04-15</td>\n",
       "      <td>-0.868199</td>\n",
       "      <td>Domingo</td>\n",
       "      <td>Vasco</td>\n",
       "      <td>Atletico-MG</td>\n",
       "      <td>4-1-4-1</td>\n",
       "      <td>4-1-4-1</td>\n",
       "      <td>estadio vasco da gama</td>\n",
       "      <td>RJ</td>\n",
       "      <td>...</td>\n",
       "      <td>0.085526</td>\n",
       "      <td>1.201754</td>\n",
       "      <td>1.486842</td>\n",
       "      <td>4.640351</td>\n",
       "      <td>6.157895</td>\n",
       "      <td>1.0</td>\n",
       "      <td>2018</td>\n",
       "      <td>15</td>\n",
       "      <td>4</td>\n",
       "      <td>15</td>\n",
       "    </tr>\n",
       "  </tbody>\n",
       "</table>\n",
       "<p>5 rows × 36 columns</p>\n",
       "</div>"
      ],
      "text/plain": [
       "   rodada       data  hora_sin      dia    mandante    visitante  \\\n",
       "0       1 2018-04-14 -0.866025   Sabado    Cruzeiro       Gremio   \n",
       "1       1 2018-04-14 -0.963630   Sabado     Vitoria     Flamengo   \n",
       "2       1 2018-04-14 -0.697790   Sabado      Santos        Ceara   \n",
       "3       1 2018-04-15  0.258819  Domingo  America-MG        Sport   \n",
       "4       1 2018-04-15 -0.868199  Domingo       Vasco  Atletico-MG   \n",
       "\n",
       "  formacao_mandante formacao_visitante  \\\n",
       "0           4-2-3-1            4-2-3-1   \n",
       "1           4-2-3-1            4-1-4-1   \n",
       "2             4-3-3            4-1-4-1   \n",
       "3           4-1-4-1            4-3-2-1   \n",
       "4           4-1-4-1            4-1-4-1   \n",
       "\n",
       "                                         arena mandante_estado  ...  \\\n",
       "0                                     mineirao              MG  ...   \n",
       "1                                     barradao              BA  ...   \n",
       "2  estadio municipal paulo machado de carvalho              SP  ...   \n",
       "3                     estadio raimundo sampaio              MG  ...   \n",
       "4                        estadio vasco da gama              RJ  ...   \n",
       "\n",
       "  visitante_cartao_vermelho  mandante_impedimentos  visitante_impedimentos  \\\n",
       "0                  0.105960               1.640000                1.132450   \n",
       "1                  0.125000               1.157895                1.243421   \n",
       "2                  0.098684               1.763158                1.460526   \n",
       "3                  0.105263               1.684211                1.342105   \n",
       "4                  0.085526               1.201754                1.486842   \n",
       "\n",
       "   mandante_escanteios  visitante_escanteios  resultado   ano  dia_do_mes  \\\n",
       "0             5.253333              5.688742        2.0  2018          14   \n",
       "1             4.605263              6.256579        0.0  2018          14   \n",
       "2             5.427632              5.263158        1.0  2018          14   \n",
       "3             4.763158              4.412281        1.0  2018          15   \n",
       "4             4.640351              6.157895        1.0  2018          15   \n",
       "\n",
       "   mes  semana_do_ano  \n",
       "0    4             15  \n",
       "1    4             15  \n",
       "2    4             15  \n",
       "3    4             15  \n",
       "4    4             15  \n",
       "\n",
       "[5 rows x 36 columns]"
      ]
     },
     "execution_count": 211,
     "metadata": {},
     "output_type": "execute_result"
    }
   ],
   "source": [
    "df3['ano'] = df3.data.dt.year\n",
    "df3['dia_do_mes'] = df3.data.dt.day\n",
    "df3['mes'] = df3.data.dt.month\n",
    "df3['semana_do_ano'] = df3.data.dt.weekofyear\n",
    "\n",
    "df3.head()"
   ]
  },
  {
   "cell_type": "markdown",
   "id": "59243ef5",
   "metadata": {},
   "source": [
    "## 3.1 Data transformation "
   ]
  },
  {
   "cell_type": "code",
   "execution_count": 212,
   "id": "fe5dff2f",
   "metadata": {
    "ExecuteTime": {
     "end_time": "2022-03-17T17:51:56.097297Z",
     "start_time": "2022-03-17T17:51:56.071040Z"
    }
   },
   "outputs": [],
   "source": [
    "# month\n",
    "df3['mes_sin'] = df3['mes'].apply(lambda x: np.sin(x * (2 * np.pi/12)))\n",
    "df3['mes_cos'] = df3['mes'].apply(lambda x: np.cos(x * (2 * np.pi/12)))\n",
    "# day\n",
    "df3['dia_do_mes_sin'] = df3['dia_do_mes'].apply(lambda x: np.sin(x * (2 * np.pi/30)))\n",
    "df3['dia_do_mes_cos'] = df3['dia_do_mes'].apply(lambda x: np.cos(x * (2 * np.pi/30)))\n",
    "# week of year\n",
    "df3['semana_do_ano_sin'] = df3['semana_do_ano'].apply(lambda x: np.sin(x * (2 * np.pi/52)))\n",
    "df3['semana_do_ano_cos'] = df3['semana_do_ano'].apply(lambda x: np.cos(x * (2 * np.pi/52)))"
   ]
  },
  {
   "cell_type": "code",
   "execution_count": 213,
   "id": "1cfde8bb",
   "metadata": {
    "ExecuteTime": {
     "end_time": "2022-03-17T17:51:56.990503Z",
     "start_time": "2022-03-17T17:51:56.969863Z"
    }
   },
   "outputs": [
    {
     "data": {
      "text/html": [
       "<div>\n",
       "<style scoped>\n",
       "    .dataframe tbody tr th:only-of-type {\n",
       "        vertical-align: middle;\n",
       "    }\n",
       "\n",
       "    .dataframe tbody tr th {\n",
       "        vertical-align: top;\n",
       "    }\n",
       "\n",
       "    .dataframe thead th {\n",
       "        text-align: right;\n",
       "    }\n",
       "</style>\n",
       "<table border=\"1\" class=\"dataframe\">\n",
       "  <thead>\n",
       "    <tr style=\"text-align: right;\">\n",
       "      <th></th>\n",
       "      <th>rodada</th>\n",
       "      <th>data</th>\n",
       "      <th>hora_sin</th>\n",
       "      <th>dia</th>\n",
       "      <th>mandante</th>\n",
       "      <th>visitante</th>\n",
       "      <th>formacao_mandante</th>\n",
       "      <th>formacao_visitante</th>\n",
       "      <th>arena</th>\n",
       "      <th>mandante_estado</th>\n",
       "      <th>...</th>\n",
       "      <th>ano</th>\n",
       "      <th>dia_do_mes</th>\n",
       "      <th>mes</th>\n",
       "      <th>semana_do_ano</th>\n",
       "      <th>mes_sin</th>\n",
       "      <th>mes_cos</th>\n",
       "      <th>dia_do_mes_sin</th>\n",
       "      <th>dia_do_mes_cos</th>\n",
       "      <th>semana_do_ano_sin</th>\n",
       "      <th>semana_do_ano_cos</th>\n",
       "    </tr>\n",
       "  </thead>\n",
       "  <tbody>\n",
       "    <tr>\n",
       "      <th>0</th>\n",
       "      <td>1</td>\n",
       "      <td>2018-04-14</td>\n",
       "      <td>-0.866025</td>\n",
       "      <td>Sabado</td>\n",
       "      <td>Cruzeiro</td>\n",
       "      <td>Gremio</td>\n",
       "      <td>4-2-3-1</td>\n",
       "      <td>4-2-3-1</td>\n",
       "      <td>mineirao</td>\n",
       "      <td>MG</td>\n",
       "      <td>...</td>\n",
       "      <td>2018</td>\n",
       "      <td>14</td>\n",
       "      <td>4</td>\n",
       "      <td>15</td>\n",
       "      <td>0.866025</td>\n",
       "      <td>-0.5</td>\n",
       "      <td>2.079117e-01</td>\n",
       "      <td>-0.978148</td>\n",
       "      <td>0.970942</td>\n",
       "      <td>-0.239316</td>\n",
       "    </tr>\n",
       "    <tr>\n",
       "      <th>1</th>\n",
       "      <td>1</td>\n",
       "      <td>2018-04-14</td>\n",
       "      <td>-0.963630</td>\n",
       "      <td>Sabado</td>\n",
       "      <td>Vitoria</td>\n",
       "      <td>Flamengo</td>\n",
       "      <td>4-2-3-1</td>\n",
       "      <td>4-1-4-1</td>\n",
       "      <td>barradao</td>\n",
       "      <td>BA</td>\n",
       "      <td>...</td>\n",
       "      <td>2018</td>\n",
       "      <td>14</td>\n",
       "      <td>4</td>\n",
       "      <td>15</td>\n",
       "      <td>0.866025</td>\n",
       "      <td>-0.5</td>\n",
       "      <td>2.079117e-01</td>\n",
       "      <td>-0.978148</td>\n",
       "      <td>0.970942</td>\n",
       "      <td>-0.239316</td>\n",
       "    </tr>\n",
       "    <tr>\n",
       "      <th>2</th>\n",
       "      <td>1</td>\n",
       "      <td>2018-04-14</td>\n",
       "      <td>-0.697790</td>\n",
       "      <td>Sabado</td>\n",
       "      <td>Santos</td>\n",
       "      <td>Ceara</td>\n",
       "      <td>4-3-3</td>\n",
       "      <td>4-1-4-1</td>\n",
       "      <td>estadio municipal paulo machado de carvalho</td>\n",
       "      <td>SP</td>\n",
       "      <td>...</td>\n",
       "      <td>2018</td>\n",
       "      <td>14</td>\n",
       "      <td>4</td>\n",
       "      <td>15</td>\n",
       "      <td>0.866025</td>\n",
       "      <td>-0.5</td>\n",
       "      <td>2.079117e-01</td>\n",
       "      <td>-0.978148</td>\n",
       "      <td>0.970942</td>\n",
       "      <td>-0.239316</td>\n",
       "    </tr>\n",
       "    <tr>\n",
       "      <th>3</th>\n",
       "      <td>1</td>\n",
       "      <td>2018-04-15</td>\n",
       "      <td>0.258819</td>\n",
       "      <td>Domingo</td>\n",
       "      <td>America-MG</td>\n",
       "      <td>Sport</td>\n",
       "      <td>4-1-4-1</td>\n",
       "      <td>4-3-2-1</td>\n",
       "      <td>estadio raimundo sampaio</td>\n",
       "      <td>MG</td>\n",
       "      <td>...</td>\n",
       "      <td>2018</td>\n",
       "      <td>15</td>\n",
       "      <td>4</td>\n",
       "      <td>15</td>\n",
       "      <td>0.866025</td>\n",
       "      <td>-0.5</td>\n",
       "      <td>1.224647e-16</td>\n",
       "      <td>-1.000000</td>\n",
       "      <td>0.970942</td>\n",
       "      <td>-0.239316</td>\n",
       "    </tr>\n",
       "    <tr>\n",
       "      <th>4</th>\n",
       "      <td>1</td>\n",
       "      <td>2018-04-15</td>\n",
       "      <td>-0.868199</td>\n",
       "      <td>Domingo</td>\n",
       "      <td>Vasco</td>\n",
       "      <td>Atletico-MG</td>\n",
       "      <td>4-1-4-1</td>\n",
       "      <td>4-1-4-1</td>\n",
       "      <td>estadio vasco da gama</td>\n",
       "      <td>RJ</td>\n",
       "      <td>...</td>\n",
       "      <td>2018</td>\n",
       "      <td>15</td>\n",
       "      <td>4</td>\n",
       "      <td>15</td>\n",
       "      <td>0.866025</td>\n",
       "      <td>-0.5</td>\n",
       "      <td>1.224647e-16</td>\n",
       "      <td>-1.000000</td>\n",
       "      <td>0.970942</td>\n",
       "      <td>-0.239316</td>\n",
       "    </tr>\n",
       "  </tbody>\n",
       "</table>\n",
       "<p>5 rows × 42 columns</p>\n",
       "</div>"
      ],
      "text/plain": [
       "   rodada       data  hora_sin      dia    mandante    visitante  \\\n",
       "0       1 2018-04-14 -0.866025   Sabado    Cruzeiro       Gremio   \n",
       "1       1 2018-04-14 -0.963630   Sabado     Vitoria     Flamengo   \n",
       "2       1 2018-04-14 -0.697790   Sabado      Santos        Ceara   \n",
       "3       1 2018-04-15  0.258819  Domingo  America-MG        Sport   \n",
       "4       1 2018-04-15 -0.868199  Domingo       Vasco  Atletico-MG   \n",
       "\n",
       "  formacao_mandante formacao_visitante  \\\n",
       "0           4-2-3-1            4-2-3-1   \n",
       "1           4-2-3-1            4-1-4-1   \n",
       "2             4-3-3            4-1-4-1   \n",
       "3           4-1-4-1            4-3-2-1   \n",
       "4           4-1-4-1            4-1-4-1   \n",
       "\n",
       "                                         arena mandante_estado  ...   ano  \\\n",
       "0                                     mineirao              MG  ...  2018   \n",
       "1                                     barradao              BA  ...  2018   \n",
       "2  estadio municipal paulo machado de carvalho              SP  ...  2018   \n",
       "3                     estadio raimundo sampaio              MG  ...  2018   \n",
       "4                        estadio vasco da gama              RJ  ...  2018   \n",
       "\n",
       "   dia_do_mes  mes  semana_do_ano   mes_sin  mes_cos  dia_do_mes_sin  \\\n",
       "0          14    4             15  0.866025     -0.5    2.079117e-01   \n",
       "1          14    4             15  0.866025     -0.5    2.079117e-01   \n",
       "2          14    4             15  0.866025     -0.5    2.079117e-01   \n",
       "3          15    4             15  0.866025     -0.5    1.224647e-16   \n",
       "4          15    4             15  0.866025     -0.5    1.224647e-16   \n",
       "\n",
       "   dia_do_mes_cos  semana_do_ano_sin  semana_do_ano_cos  \n",
       "0       -0.978148           0.970942          -0.239316  \n",
       "1       -0.978148           0.970942          -0.239316  \n",
       "2       -0.978148           0.970942          -0.239316  \n",
       "3       -1.000000           0.970942          -0.239316  \n",
       "4       -1.000000           0.970942          -0.239316  \n",
       "\n",
       "[5 rows x 42 columns]"
      ]
     },
     "execution_count": 213,
     "metadata": {},
     "output_type": "execute_result"
    }
   ],
   "source": [
    "df3.head()"
   ]
  },
  {
   "cell_type": "code",
   "execution_count": 214,
   "id": "b3306271",
   "metadata": {
    "ExecuteTime": {
     "end_time": "2022-03-17T17:51:57.462750Z",
     "start_time": "2022-03-17T17:51:57.451000Z"
    }
   },
   "outputs": [],
   "source": [
    "# rodadas\n",
    "df3['rodadas_sin'] = df3['rodada'].apply(lambda x: np.sin(x * (2 * np.pi/38)))\n",
    "df3['rodadas_cos'] = df3['rodada'].apply(lambda x: np.cos(x * (2 * np.pi/38)))"
   ]
  },
  {
   "cell_type": "code",
   "execution_count": 215,
   "id": "ed1e98ce",
   "metadata": {
    "ExecuteTime": {
     "end_time": "2022-03-17T17:51:58.391433Z",
     "start_time": "2022-03-17T17:51:58.385287Z"
    }
   },
   "outputs": [
    {
     "data": {
      "text/plain": [
       "['rodada',\n",
       " 'data',\n",
       " 'hora_sin',\n",
       " 'dia',\n",
       " 'mandante',\n",
       " 'visitante',\n",
       " 'formacao_mandante',\n",
       " 'formacao_visitante',\n",
       " 'arena',\n",
       " 'mandante_estado',\n",
       " 'visitante_estado',\n",
       " 'mandante_chutes',\n",
       " 'visitante_chutes',\n",
       " 'mandante_chutes_no_alvo',\n",
       " 'visitante_chutes_no_alvo',\n",
       " 'mandante_posse_de_bola',\n",
       " 'visitante_posse_de_bola',\n",
       " 'mandante_passes',\n",
       " 'visitante_passes',\n",
       " 'mandante_precisao_passes',\n",
       " 'visitante_precisao_passes',\n",
       " 'mandante_faltas',\n",
       " 'visitante_faltas',\n",
       " 'mandante_cartao_amarelo',\n",
       " 'visitante_cartao_amarelo',\n",
       " 'mandante_cartao_vermelho',\n",
       " 'visitante_cartao_vermelho',\n",
       " 'mandante_impedimentos',\n",
       " 'visitante_impedimentos',\n",
       " 'mandante_escanteios',\n",
       " 'visitante_escanteios',\n",
       " 'resultado',\n",
       " 'ano',\n",
       " 'dia_do_mes',\n",
       " 'mes',\n",
       " 'semana_do_ano',\n",
       " 'mes_sin',\n",
       " 'mes_cos',\n",
       " 'dia_do_mes_sin',\n",
       " 'dia_do_mes_cos',\n",
       " 'semana_do_ano_sin',\n",
       " 'semana_do_ano_cos',\n",
       " 'rodadas_sin',\n",
       " 'rodadas_cos']"
      ]
     },
     "execution_count": 215,
     "metadata": {},
     "output_type": "execute_result"
    }
   ],
   "source": [
    "df3.columns.tolist()"
   ]
  },
  {
   "cell_type": "code",
   "execution_count": 216,
   "id": "669a87f3",
   "metadata": {
    "ExecuteTime": {
     "end_time": "2022-03-17T17:52:02.389025Z",
     "start_time": "2022-03-17T17:52:02.383486Z"
    }
   },
   "outputs": [],
   "source": [
    "to_drop = ['dia', 'mes', 'ano', 'data', 'rodada', 'dia_do_mes', 'semana_do_ano']\n",
    "df3 = df3.drop(to_drop, axis=1)"
   ]
  },
  {
   "cell_type": "code",
   "execution_count": 217,
   "id": "c7c8c2bd",
   "metadata": {
    "ExecuteTime": {
     "end_time": "2022-03-17T17:52:02.970837Z",
     "start_time": "2022-03-17T17:52:02.932906Z"
    }
   },
   "outputs": [
    {
     "data": {
      "text/html": [
       "<div>\n",
       "<style scoped>\n",
       "    .dataframe tbody tr th:only-of-type {\n",
       "        vertical-align: middle;\n",
       "    }\n",
       "\n",
       "    .dataframe tbody tr th {\n",
       "        vertical-align: top;\n",
       "    }\n",
       "\n",
       "    .dataframe thead th {\n",
       "        text-align: right;\n",
       "    }\n",
       "</style>\n",
       "<table border=\"1\" class=\"dataframe\">\n",
       "  <thead>\n",
       "    <tr style=\"text-align: right;\">\n",
       "      <th></th>\n",
       "      <th>hora_sin</th>\n",
       "      <th>mandante</th>\n",
       "      <th>visitante</th>\n",
       "      <th>formacao_mandante</th>\n",
       "      <th>formacao_visitante</th>\n",
       "      <th>arena</th>\n",
       "      <th>mandante_estado</th>\n",
       "      <th>visitante_estado</th>\n",
       "      <th>mandante_chutes</th>\n",
       "      <th>visitante_chutes</th>\n",
       "      <th>...</th>\n",
       "      <th>visitante_escanteios</th>\n",
       "      <th>resultado</th>\n",
       "      <th>mes_sin</th>\n",
       "      <th>mes_cos</th>\n",
       "      <th>dia_do_mes_sin</th>\n",
       "      <th>dia_do_mes_cos</th>\n",
       "      <th>semana_do_ano_sin</th>\n",
       "      <th>semana_do_ano_cos</th>\n",
       "      <th>rodadas_sin</th>\n",
       "      <th>rodadas_cos</th>\n",
       "    </tr>\n",
       "  </thead>\n",
       "  <tbody>\n",
       "    <tr>\n",
       "      <th>0</th>\n",
       "      <td>-0.866025</td>\n",
       "      <td>Cruzeiro</td>\n",
       "      <td>Gremio</td>\n",
       "      <td>4-2-3-1</td>\n",
       "      <td>4-2-3-1</td>\n",
       "      <td>mineirao</td>\n",
       "      <td>MG</td>\n",
       "      <td>RS</td>\n",
       "      <td>12.533333</td>\n",
       "      <td>13.695364</td>\n",
       "      <td>...</td>\n",
       "      <td>5.688742</td>\n",
       "      <td>2.0</td>\n",
       "      <td>0.866025</td>\n",
       "      <td>-0.5</td>\n",
       "      <td>2.079117e-01</td>\n",
       "      <td>-0.978148</td>\n",
       "      <td>0.970942</td>\n",
       "      <td>-0.239316</td>\n",
       "      <td>0.164595</td>\n",
       "      <td>0.986361</td>\n",
       "    </tr>\n",
       "    <tr>\n",
       "      <th>1</th>\n",
       "      <td>-0.963630</td>\n",
       "      <td>Vitoria</td>\n",
       "      <td>Flamengo</td>\n",
       "      <td>4-2-3-1</td>\n",
       "      <td>4-1-4-1</td>\n",
       "      <td>barradao</td>\n",
       "      <td>BA</td>\n",
       "      <td>RJ</td>\n",
       "      <td>12.473684</td>\n",
       "      <td>15.059211</td>\n",
       "      <td>...</td>\n",
       "      <td>6.256579</td>\n",
       "      <td>0.0</td>\n",
       "      <td>0.866025</td>\n",
       "      <td>-0.5</td>\n",
       "      <td>2.079117e-01</td>\n",
       "      <td>-0.978148</td>\n",
       "      <td>0.970942</td>\n",
       "      <td>-0.239316</td>\n",
       "      <td>0.164595</td>\n",
       "      <td>0.986361</td>\n",
       "    </tr>\n",
       "    <tr>\n",
       "      <th>2</th>\n",
       "      <td>-0.697790</td>\n",
       "      <td>Santos</td>\n",
       "      <td>Ceara</td>\n",
       "      <td>4-3-3</td>\n",
       "      <td>4-1-4-1</td>\n",
       "      <td>estadio municipal paulo machado de carvalho</td>\n",
       "      <td>SP</td>\n",
       "      <td>CE</td>\n",
       "      <td>13.039474</td>\n",
       "      <td>12.881579</td>\n",
       "      <td>...</td>\n",
       "      <td>5.263158</td>\n",
       "      <td>1.0</td>\n",
       "      <td>0.866025</td>\n",
       "      <td>-0.5</td>\n",
       "      <td>2.079117e-01</td>\n",
       "      <td>-0.978148</td>\n",
       "      <td>0.970942</td>\n",
       "      <td>-0.239316</td>\n",
       "      <td>0.164595</td>\n",
       "      <td>0.986361</td>\n",
       "    </tr>\n",
       "    <tr>\n",
       "      <th>3</th>\n",
       "      <td>0.258819</td>\n",
       "      <td>America-MG</td>\n",
       "      <td>Sport</td>\n",
       "      <td>4-1-4-1</td>\n",
       "      <td>4-3-2-1</td>\n",
       "      <td>estadio raimundo sampaio</td>\n",
       "      <td>MG</td>\n",
       "      <td>PE</td>\n",
       "      <td>12.973684</td>\n",
       "      <td>11.377193</td>\n",
       "      <td>...</td>\n",
       "      <td>4.412281</td>\n",
       "      <td>1.0</td>\n",
       "      <td>0.866025</td>\n",
       "      <td>-0.5</td>\n",
       "      <td>1.224647e-16</td>\n",
       "      <td>-1.000000</td>\n",
       "      <td>0.970942</td>\n",
       "      <td>-0.239316</td>\n",
       "      <td>0.164595</td>\n",
       "      <td>0.986361</td>\n",
       "    </tr>\n",
       "    <tr>\n",
       "      <th>4</th>\n",
       "      <td>-0.868199</td>\n",
       "      <td>Vasco</td>\n",
       "      <td>Atletico-MG</td>\n",
       "      <td>4-1-4-1</td>\n",
       "      <td>4-1-4-1</td>\n",
       "      <td>estadio vasco da gama</td>\n",
       "      <td>RJ</td>\n",
       "      <td>MG</td>\n",
       "      <td>12.000000</td>\n",
       "      <td>14.789474</td>\n",
       "      <td>...</td>\n",
       "      <td>6.157895</td>\n",
       "      <td>1.0</td>\n",
       "      <td>0.866025</td>\n",
       "      <td>-0.5</td>\n",
       "      <td>1.224647e-16</td>\n",
       "      <td>-1.000000</td>\n",
       "      <td>0.970942</td>\n",
       "      <td>-0.239316</td>\n",
       "      <td>0.164595</td>\n",
       "      <td>0.986361</td>\n",
       "    </tr>\n",
       "  </tbody>\n",
       "</table>\n",
       "<p>5 rows × 37 columns</p>\n",
       "</div>"
      ],
      "text/plain": [
       "   hora_sin    mandante    visitante formacao_mandante formacao_visitante  \\\n",
       "0 -0.866025    Cruzeiro       Gremio           4-2-3-1            4-2-3-1   \n",
       "1 -0.963630     Vitoria     Flamengo           4-2-3-1            4-1-4-1   \n",
       "2 -0.697790      Santos        Ceara             4-3-3            4-1-4-1   \n",
       "3  0.258819  America-MG        Sport           4-1-4-1            4-3-2-1   \n",
       "4 -0.868199       Vasco  Atletico-MG           4-1-4-1            4-1-4-1   \n",
       "\n",
       "                                         arena mandante_estado  \\\n",
       "0                                     mineirao              MG   \n",
       "1                                     barradao              BA   \n",
       "2  estadio municipal paulo machado de carvalho              SP   \n",
       "3                     estadio raimundo sampaio              MG   \n",
       "4                        estadio vasco da gama              RJ   \n",
       "\n",
       "  visitante_estado  mandante_chutes  visitante_chutes  ...  \\\n",
       "0               RS        12.533333         13.695364  ...   \n",
       "1               RJ        12.473684         15.059211  ...   \n",
       "2               CE        13.039474         12.881579  ...   \n",
       "3               PE        12.973684         11.377193  ...   \n",
       "4               MG        12.000000         14.789474  ...   \n",
       "\n",
       "   visitante_escanteios  resultado   mes_sin  mes_cos  dia_do_mes_sin  \\\n",
       "0              5.688742        2.0  0.866025     -0.5    2.079117e-01   \n",
       "1              6.256579        0.0  0.866025     -0.5    2.079117e-01   \n",
       "2              5.263158        1.0  0.866025     -0.5    2.079117e-01   \n",
       "3              4.412281        1.0  0.866025     -0.5    1.224647e-16   \n",
       "4              6.157895        1.0  0.866025     -0.5    1.224647e-16   \n",
       "\n",
       "   dia_do_mes_cos  semana_do_ano_sin  semana_do_ano_cos  rodadas_sin  \\\n",
       "0       -0.978148           0.970942          -0.239316     0.164595   \n",
       "1       -0.978148           0.970942          -0.239316     0.164595   \n",
       "2       -0.978148           0.970942          -0.239316     0.164595   \n",
       "3       -1.000000           0.970942          -0.239316     0.164595   \n",
       "4       -1.000000           0.970942          -0.239316     0.164595   \n",
       "\n",
       "   rodadas_cos  \n",
       "0     0.986361  \n",
       "1     0.986361  \n",
       "2     0.986361  \n",
       "3     0.986361  \n",
       "4     0.986361  \n",
       "\n",
       "[5 rows x 37 columns]"
      ]
     },
     "execution_count": 217,
     "metadata": {},
     "output_type": "execute_result"
    }
   ],
   "source": [
    "df3.head()"
   ]
  },
  {
   "cell_type": "code",
   "execution_count": 218,
   "id": "c1c21efc",
   "metadata": {
    "ExecuteTime": {
     "end_time": "2022-03-17T17:52:03.986865Z",
     "start_time": "2022-03-17T17:52:03.983857Z"
    }
   },
   "outputs": [],
   "source": [
    "df3.insert(len(df3.columns.tolist()), 'resultado_final', df3.resultado)"
   ]
  },
  {
   "cell_type": "code",
   "execution_count": 219,
   "id": "5afd00ef",
   "metadata": {
    "ExecuteTime": {
     "end_time": "2022-03-17T17:52:04.787763Z",
     "start_time": "2022-03-17T17:52:04.783641Z"
    }
   },
   "outputs": [],
   "source": [
    "df3 = df3.drop('resultado', axis = 1)"
   ]
  },
  {
   "cell_type": "code",
   "execution_count": 222,
   "id": "3999cf5a",
   "metadata": {
    "ExecuteTime": {
     "end_time": "2022-03-17T17:53:14.785649Z",
     "start_time": "2022-03-17T17:53:14.782230Z"
    }
   },
   "outputs": [],
   "source": [
    "df3['resultado_final'] = df3.resultado_final.astype(int)"
   ]
  },
  {
   "cell_type": "code",
   "execution_count": 223,
   "id": "9d9147eb",
   "metadata": {
    "ExecuteTime": {
     "end_time": "2022-03-17T17:53:22.353974Z",
     "start_time": "2022-03-17T17:53:22.341115Z"
    }
   },
   "outputs": [
    {
     "data": {
      "text/plain": [
       "hora_sin                     float64\n",
       "mandante                      object\n",
       "visitante                     object\n",
       "formacao_mandante             object\n",
       "formacao_visitante            object\n",
       "arena                         object\n",
       "mandante_estado               object\n",
       "visitante_estado              object\n",
       "mandante_chutes              float64\n",
       "visitante_chutes             float64\n",
       "mandante_chutes_no_alvo      float64\n",
       "visitante_chutes_no_alvo     float64\n",
       "mandante_posse_de_bola       float64\n",
       "visitante_posse_de_bola      float64\n",
       "mandante_passes              float64\n",
       "visitante_passes             float64\n",
       "mandante_precisao_passes     float64\n",
       "visitante_precisao_passes    float64\n",
       "mandante_faltas              float64\n",
       "visitante_faltas             float64\n",
       "mandante_cartao_amarelo      float64\n",
       "visitante_cartao_amarelo     float64\n",
       "mandante_cartao_vermelho     float64\n",
       "visitante_cartao_vermelho    float64\n",
       "mandante_impedimentos        float64\n",
       "visitante_impedimentos       float64\n",
       "mandante_escanteios          float64\n",
       "visitante_escanteios         float64\n",
       "mes_sin                      float64\n",
       "mes_cos                      float64\n",
       "dia_do_mes_sin               float64\n",
       "dia_do_mes_cos               float64\n",
       "semana_do_ano_sin            float64\n",
       "semana_do_ano_cos            float64\n",
       "rodadas_sin                  float64\n",
       "rodadas_cos                  float64\n",
       "resultado_final                int64\n",
       "dtype: object"
      ]
     },
     "execution_count": 223,
     "metadata": {},
     "output_type": "execute_result"
    }
   ],
   "source": [
    "df3.dtypes"
   ]
  },
  {
   "cell_type": "code",
   "execution_count": 242,
   "id": "dd7e53a3",
   "metadata": {
    "ExecuteTime": {
     "end_time": "2022-03-17T18:00:22.655742Z",
     "start_time": "2022-03-17T18:00:22.650824Z"
    }
   },
   "outputs": [],
   "source": [
    "categorical = ['mandante', 'visitante', 'formacao_mandante', 'formacao_visitante', 'arena', 'mandante_estado', 'visitante_estado']\n",
    "target = ['resultado_final']\n",
    "\n",
    "df3_cat = df3[categorical]\n",
    "df3_target = df3[target]"
   ]
  },
  {
   "cell_type": "code",
   "execution_count": 243,
   "id": "6b2bbbb9",
   "metadata": {
    "ExecuteTime": {
     "end_time": "2022-03-17T18:00:23.559903Z",
     "start_time": "2022-03-17T18:00:23.550867Z"
    }
   },
   "outputs": [],
   "source": [
    "df3_cat_dummies = pd.get_dummies(df3_cat)"
   ]
  },
  {
   "cell_type": "code",
   "execution_count": 244,
   "id": "9442e0a6",
   "metadata": {
    "ExecuteTime": {
     "end_time": "2022-03-17T18:00:24.289336Z",
     "start_time": "2022-03-17T18:00:24.273888Z"
    }
   },
   "outputs": [
    {
     "data": {
      "text/html": [
       "<div>\n",
       "<style scoped>\n",
       "    .dataframe tbody tr th:only-of-type {\n",
       "        vertical-align: middle;\n",
       "    }\n",
       "\n",
       "    .dataframe tbody tr th {\n",
       "        vertical-align: top;\n",
       "    }\n",
       "\n",
       "    .dataframe thead th {\n",
       "        text-align: right;\n",
       "    }\n",
       "</style>\n",
       "<table border=\"1\" class=\"dataframe\">\n",
       "  <thead>\n",
       "    <tr style=\"text-align: right;\">\n",
       "      <th></th>\n",
       "      <th>mandante_America-MG</th>\n",
       "      <th>mandante_Athletico-PR</th>\n",
       "      <th>mandante_Atletico-GO</th>\n",
       "      <th>mandante_Atletico-MG</th>\n",
       "      <th>mandante_Avai</th>\n",
       "      <th>mandante_Bahia</th>\n",
       "      <th>mandante_Botafogo-RJ</th>\n",
       "      <th>mandante_Bragantino</th>\n",
       "      <th>mandante_CSA</th>\n",
       "      <th>mandante_Ceara</th>\n",
       "      <th>...</th>\n",
       "      <th>visitante_estado_CE</th>\n",
       "      <th>visitante_estado_GO</th>\n",
       "      <th>visitante_estado_MG</th>\n",
       "      <th>visitante_estado_MT</th>\n",
       "      <th>visitante_estado_PE</th>\n",
       "      <th>visitante_estado_PR</th>\n",
       "      <th>visitante_estado_RJ</th>\n",
       "      <th>visitante_estado_RS</th>\n",
       "      <th>visitante_estado_SC</th>\n",
       "      <th>visitante_estado_SP</th>\n",
       "    </tr>\n",
       "  </thead>\n",
       "  <tbody>\n",
       "    <tr>\n",
       "      <th>0</th>\n",
       "      <td>0</td>\n",
       "      <td>0</td>\n",
       "      <td>0</td>\n",
       "      <td>0</td>\n",
       "      <td>0</td>\n",
       "      <td>0</td>\n",
       "      <td>0</td>\n",
       "      <td>0</td>\n",
       "      <td>0</td>\n",
       "      <td>0</td>\n",
       "      <td>...</td>\n",
       "      <td>0</td>\n",
       "      <td>0</td>\n",
       "      <td>0</td>\n",
       "      <td>0</td>\n",
       "      <td>0</td>\n",
       "      <td>0</td>\n",
       "      <td>0</td>\n",
       "      <td>1</td>\n",
       "      <td>0</td>\n",
       "      <td>0</td>\n",
       "    </tr>\n",
       "    <tr>\n",
       "      <th>1</th>\n",
       "      <td>0</td>\n",
       "      <td>0</td>\n",
       "      <td>0</td>\n",
       "      <td>0</td>\n",
       "      <td>0</td>\n",
       "      <td>0</td>\n",
       "      <td>0</td>\n",
       "      <td>0</td>\n",
       "      <td>0</td>\n",
       "      <td>0</td>\n",
       "      <td>...</td>\n",
       "      <td>0</td>\n",
       "      <td>0</td>\n",
       "      <td>0</td>\n",
       "      <td>0</td>\n",
       "      <td>0</td>\n",
       "      <td>0</td>\n",
       "      <td>1</td>\n",
       "      <td>0</td>\n",
       "      <td>0</td>\n",
       "      <td>0</td>\n",
       "    </tr>\n",
       "    <tr>\n",
       "      <th>2</th>\n",
       "      <td>0</td>\n",
       "      <td>0</td>\n",
       "      <td>0</td>\n",
       "      <td>0</td>\n",
       "      <td>0</td>\n",
       "      <td>0</td>\n",
       "      <td>0</td>\n",
       "      <td>0</td>\n",
       "      <td>0</td>\n",
       "      <td>0</td>\n",
       "      <td>...</td>\n",
       "      <td>1</td>\n",
       "      <td>0</td>\n",
       "      <td>0</td>\n",
       "      <td>0</td>\n",
       "      <td>0</td>\n",
       "      <td>0</td>\n",
       "      <td>0</td>\n",
       "      <td>0</td>\n",
       "      <td>0</td>\n",
       "      <td>0</td>\n",
       "    </tr>\n",
       "    <tr>\n",
       "      <th>3</th>\n",
       "      <td>1</td>\n",
       "      <td>0</td>\n",
       "      <td>0</td>\n",
       "      <td>0</td>\n",
       "      <td>0</td>\n",
       "      <td>0</td>\n",
       "      <td>0</td>\n",
       "      <td>0</td>\n",
       "      <td>0</td>\n",
       "      <td>0</td>\n",
       "      <td>...</td>\n",
       "      <td>0</td>\n",
       "      <td>0</td>\n",
       "      <td>0</td>\n",
       "      <td>0</td>\n",
       "      <td>1</td>\n",
       "      <td>0</td>\n",
       "      <td>0</td>\n",
       "      <td>0</td>\n",
       "      <td>0</td>\n",
       "      <td>0</td>\n",
       "    </tr>\n",
       "    <tr>\n",
       "      <th>4</th>\n",
       "      <td>0</td>\n",
       "      <td>0</td>\n",
       "      <td>0</td>\n",
       "      <td>0</td>\n",
       "      <td>0</td>\n",
       "      <td>0</td>\n",
       "      <td>0</td>\n",
       "      <td>0</td>\n",
       "      <td>0</td>\n",
       "      <td>0</td>\n",
       "      <td>...</td>\n",
       "      <td>0</td>\n",
       "      <td>0</td>\n",
       "      <td>1</td>\n",
       "      <td>0</td>\n",
       "      <td>0</td>\n",
       "      <td>0</td>\n",
       "      <td>0</td>\n",
       "      <td>0</td>\n",
       "      <td>0</td>\n",
       "      <td>0</td>\n",
       "    </tr>\n",
       "    <tr>\n",
       "      <th>...</th>\n",
       "      <td>...</td>\n",
       "      <td>...</td>\n",
       "      <td>...</td>\n",
       "      <td>...</td>\n",
       "      <td>...</td>\n",
       "      <td>...</td>\n",
       "      <td>...</td>\n",
       "      <td>...</td>\n",
       "      <td>...</td>\n",
       "      <td>...</td>\n",
       "      <td>...</td>\n",
       "      <td>...</td>\n",
       "      <td>...</td>\n",
       "      <td>...</td>\n",
       "      <td>...</td>\n",
       "      <td>...</td>\n",
       "      <td>...</td>\n",
       "      <td>...</td>\n",
       "      <td>...</td>\n",
       "      <td>...</td>\n",
       "      <td>...</td>\n",
       "    </tr>\n",
       "    <tr>\n",
       "      <th>1515</th>\n",
       "      <td>0</td>\n",
       "      <td>0</td>\n",
       "      <td>0</td>\n",
       "      <td>0</td>\n",
       "      <td>0</td>\n",
       "      <td>0</td>\n",
       "      <td>0</td>\n",
       "      <td>1</td>\n",
       "      <td>0</td>\n",
       "      <td>0</td>\n",
       "      <td>...</td>\n",
       "      <td>0</td>\n",
       "      <td>0</td>\n",
       "      <td>0</td>\n",
       "      <td>0</td>\n",
       "      <td>0</td>\n",
       "      <td>0</td>\n",
       "      <td>0</td>\n",
       "      <td>1</td>\n",
       "      <td>0</td>\n",
       "      <td>0</td>\n",
       "    </tr>\n",
       "    <tr>\n",
       "      <th>1516</th>\n",
       "      <td>0</td>\n",
       "      <td>0</td>\n",
       "      <td>0</td>\n",
       "      <td>0</td>\n",
       "      <td>0</td>\n",
       "      <td>0</td>\n",
       "      <td>0</td>\n",
       "      <td>0</td>\n",
       "      <td>0</td>\n",
       "      <td>0</td>\n",
       "      <td>...</td>\n",
       "      <td>0</td>\n",
       "      <td>0</td>\n",
       "      <td>0</td>\n",
       "      <td>0</td>\n",
       "      <td>0</td>\n",
       "      <td>1</td>\n",
       "      <td>0</td>\n",
       "      <td>0</td>\n",
       "      <td>0</td>\n",
       "      <td>0</td>\n",
       "    </tr>\n",
       "    <tr>\n",
       "      <th>1517</th>\n",
       "      <td>0</td>\n",
       "      <td>0</td>\n",
       "      <td>0</td>\n",
       "      <td>0</td>\n",
       "      <td>0</td>\n",
       "      <td>0</td>\n",
       "      <td>0</td>\n",
       "      <td>0</td>\n",
       "      <td>0</td>\n",
       "      <td>0</td>\n",
       "      <td>...</td>\n",
       "      <td>0</td>\n",
       "      <td>0</td>\n",
       "      <td>0</td>\n",
       "      <td>0</td>\n",
       "      <td>0</td>\n",
       "      <td>0</td>\n",
       "      <td>0</td>\n",
       "      <td>0</td>\n",
       "      <td>0</td>\n",
       "      <td>1</td>\n",
       "    </tr>\n",
       "    <tr>\n",
       "      <th>1518</th>\n",
       "      <td>0</td>\n",
       "      <td>0</td>\n",
       "      <td>0</td>\n",
       "      <td>0</td>\n",
       "      <td>0</td>\n",
       "      <td>0</td>\n",
       "      <td>0</td>\n",
       "      <td>0</td>\n",
       "      <td>0</td>\n",
       "      <td>0</td>\n",
       "      <td>...</td>\n",
       "      <td>0</td>\n",
       "      <td>0</td>\n",
       "      <td>1</td>\n",
       "      <td>0</td>\n",
       "      <td>0</td>\n",
       "      <td>0</td>\n",
       "      <td>0</td>\n",
       "      <td>0</td>\n",
       "      <td>0</td>\n",
       "      <td>0</td>\n",
       "    </tr>\n",
       "    <tr>\n",
       "      <th>1519</th>\n",
       "      <td>0</td>\n",
       "      <td>0</td>\n",
       "      <td>0</td>\n",
       "      <td>0</td>\n",
       "      <td>0</td>\n",
       "      <td>0</td>\n",
       "      <td>0</td>\n",
       "      <td>0</td>\n",
       "      <td>0</td>\n",
       "      <td>0</td>\n",
       "      <td>...</td>\n",
       "      <td>0</td>\n",
       "      <td>0</td>\n",
       "      <td>0</td>\n",
       "      <td>1</td>\n",
       "      <td>0</td>\n",
       "      <td>0</td>\n",
       "      <td>0</td>\n",
       "      <td>0</td>\n",
       "      <td>0</td>\n",
       "      <td>0</td>\n",
       "    </tr>\n",
       "  </tbody>\n",
       "</table>\n",
       "<p>1520 rows × 162 columns</p>\n",
       "</div>"
      ],
      "text/plain": [
       "      mandante_America-MG  mandante_Athletico-PR  mandante_Atletico-GO  \\\n",
       "0                       0                      0                     0   \n",
       "1                       0                      0                     0   \n",
       "2                       0                      0                     0   \n",
       "3                       1                      0                     0   \n",
       "4                       0                      0                     0   \n",
       "...                   ...                    ...                   ...   \n",
       "1515                    0                      0                     0   \n",
       "1516                    0                      0                     0   \n",
       "1517                    0                      0                     0   \n",
       "1518                    0                      0                     0   \n",
       "1519                    0                      0                     0   \n",
       "\n",
       "      mandante_Atletico-MG  mandante_Avai  mandante_Bahia  \\\n",
       "0                        0              0               0   \n",
       "1                        0              0               0   \n",
       "2                        0              0               0   \n",
       "3                        0              0               0   \n",
       "4                        0              0               0   \n",
       "...                    ...            ...             ...   \n",
       "1515                     0              0               0   \n",
       "1516                     0              0               0   \n",
       "1517                     0              0               0   \n",
       "1518                     0              0               0   \n",
       "1519                     0              0               0   \n",
       "\n",
       "      mandante_Botafogo-RJ  mandante_Bragantino  mandante_CSA  mandante_Ceara  \\\n",
       "0                        0                    0             0               0   \n",
       "1                        0                    0             0               0   \n",
       "2                        0                    0             0               0   \n",
       "3                        0                    0             0               0   \n",
       "4                        0                    0             0               0   \n",
       "...                    ...                  ...           ...             ...   \n",
       "1515                     0                    1             0               0   \n",
       "1516                     0                    0             0               0   \n",
       "1517                     0                    0             0               0   \n",
       "1518                     0                    0             0               0   \n",
       "1519                     0                    0             0               0   \n",
       "\n",
       "      ...  visitante_estado_CE  visitante_estado_GO  visitante_estado_MG  \\\n",
       "0     ...                    0                    0                    0   \n",
       "1     ...                    0                    0                    0   \n",
       "2     ...                    1                    0                    0   \n",
       "3     ...                    0                    0                    0   \n",
       "4     ...                    0                    0                    1   \n",
       "...   ...                  ...                  ...                  ...   \n",
       "1515  ...                    0                    0                    0   \n",
       "1516  ...                    0                    0                    0   \n",
       "1517  ...                    0                    0                    0   \n",
       "1518  ...                    0                    0                    1   \n",
       "1519  ...                    0                    0                    0   \n",
       "\n",
       "      visitante_estado_MT  visitante_estado_PE  visitante_estado_PR  \\\n",
       "0                       0                    0                    0   \n",
       "1                       0                    0                    0   \n",
       "2                       0                    0                    0   \n",
       "3                       0                    1                    0   \n",
       "4                       0                    0                    0   \n",
       "...                   ...                  ...                  ...   \n",
       "1515                    0                    0                    0   \n",
       "1516                    0                    0                    1   \n",
       "1517                    0                    0                    0   \n",
       "1518                    0                    0                    0   \n",
       "1519                    1                    0                    0   \n",
       "\n",
       "      visitante_estado_RJ  visitante_estado_RS  visitante_estado_SC  \\\n",
       "0                       0                    1                    0   \n",
       "1                       1                    0                    0   \n",
       "2                       0                    0                    0   \n",
       "3                       0                    0                    0   \n",
       "4                       0                    0                    0   \n",
       "...                   ...                  ...                  ...   \n",
       "1515                    0                    1                    0   \n",
       "1516                    0                    0                    0   \n",
       "1517                    0                    0                    0   \n",
       "1518                    0                    0                    0   \n",
       "1519                    0                    0                    0   \n",
       "\n",
       "      visitante_estado_SP  \n",
       "0                       0  \n",
       "1                       0  \n",
       "2                       0  \n",
       "3                       0  \n",
       "4                       0  \n",
       "...                   ...  \n",
       "1515                    0  \n",
       "1516                    0  \n",
       "1517                    1  \n",
       "1518                    0  \n",
       "1519                    0  \n",
       "\n",
       "[1520 rows x 162 columns]"
      ]
     },
     "execution_count": 244,
     "metadata": {},
     "output_type": "execute_result"
    }
   ],
   "source": [
    "df3_cat_dummies"
   ]
  },
  {
   "cell_type": "code",
   "execution_count": 245,
   "id": "dba2c907",
   "metadata": {
    "ExecuteTime": {
     "end_time": "2022-03-17T18:00:30.317118Z",
     "start_time": "2022-03-17T18:00:30.310642Z"
    }
   },
   "outputs": [],
   "source": [
    "categorical.append(target[0])"
   ]
  },
  {
   "cell_type": "code",
   "execution_count": 249,
   "id": "9b5dd53e",
   "metadata": {
    "ExecuteTime": {
     "end_time": "2022-03-17T18:02:46.743526Z",
     "start_time": "2022-03-17T18:02:46.736754Z"
    }
   },
   "outputs": [],
   "source": [
    "to_drop = ['mandante',\n",
    "           'visitante',\n",
    "           'formacao_mandante',\n",
    "           'formacao_visitante',\n",
    "           'arena',\n",
    "           'mandante_estado',\n",
    "           'visitante_estado',\n",
    "           'resultado_final']"
   ]
  },
  {
   "cell_type": "code",
   "execution_count": 250,
   "id": "472ebf07",
   "metadata": {
    "ExecuteTime": {
     "end_time": "2022-03-17T18:02:50.255687Z",
     "start_time": "2022-03-17T18:02:50.249941Z"
    }
   },
   "outputs": [],
   "source": [
    "df3_numeric = df3.drop(to_drop, axis=1)"
   ]
  },
  {
   "cell_type": "code",
   "execution_count": 258,
   "id": "8faba5cf",
   "metadata": {
    "ExecuteTime": {
     "end_time": "2022-03-17T18:08:54.962446Z",
     "start_time": "2022-03-17T18:08:54.959582Z"
    }
   },
   "outputs": [],
   "source": [
    "columns = df3_numeric.columns.tolist()"
   ]
  },
  {
   "cell_type": "code",
   "execution_count": 259,
   "id": "20ec3020",
   "metadata": {
    "ExecuteTime": {
     "end_time": "2022-03-17T18:09:04.506139Z",
     "start_time": "2022-03-17T18:09:04.497229Z"
    }
   },
   "outputs": [],
   "source": [
    "ss = StandardScaler()\n",
    "df3_numeric_scaled = pd.DataFrame(ss.fit_transform(df3_numeric_scaled), columns=columns)"
   ]
  },
  {
   "cell_type": "code",
   "execution_count": 267,
   "id": "5e9ff665",
   "metadata": {
    "ExecuteTime": {
     "end_time": "2022-03-17T18:10:21.561456Z",
     "start_time": "2022-03-17T18:10:21.536462Z"
    }
   },
   "outputs": [
    {
     "data": {
      "text/html": [
       "<div>\n",
       "<style scoped>\n",
       "    .dataframe tbody tr th:only-of-type {\n",
       "        vertical-align: middle;\n",
       "    }\n",
       "\n",
       "    .dataframe tbody tr th {\n",
       "        vertical-align: top;\n",
       "    }\n",
       "\n",
       "    .dataframe thead th {\n",
       "        text-align: right;\n",
       "    }\n",
       "</style>\n",
       "<table border=\"1\" class=\"dataframe\">\n",
       "  <thead>\n",
       "    <tr style=\"text-align: right;\">\n",
       "      <th></th>\n",
       "      <th>hora_sin</th>\n",
       "      <th>mandante_chutes</th>\n",
       "      <th>visitante_chutes</th>\n",
       "      <th>mandante_chutes_no_alvo</th>\n",
       "      <th>visitante_chutes_no_alvo</th>\n",
       "      <th>mandante_posse_de_bola</th>\n",
       "      <th>visitante_posse_de_bola</th>\n",
       "      <th>mandante_passes</th>\n",
       "      <th>visitante_passes</th>\n",
       "      <th>mandante_precisao_passes</th>\n",
       "      <th>...</th>\n",
       "      <th>mandante_escanteios</th>\n",
       "      <th>visitante_escanteios</th>\n",
       "      <th>mes_sin</th>\n",
       "      <th>mes_cos</th>\n",
       "      <th>dia_do_mes_sin</th>\n",
       "      <th>dia_do_mes_cos</th>\n",
       "      <th>semana_do_ano_sin</th>\n",
       "      <th>semana_do_ano_cos</th>\n",
       "      <th>rodadas_sin</th>\n",
       "      <th>rodadas_cos</th>\n",
       "    </tr>\n",
       "  </thead>\n",
       "  <tbody>\n",
       "    <tr>\n",
       "      <th>0</th>\n",
       "      <td>-0.217184</td>\n",
       "      <td>-0.121267</td>\n",
       "      <td>0.891714</td>\n",
       "      <td>-0.407996</td>\n",
       "      <td>0.827907</td>\n",
       "      <td>0.510048</td>\n",
       "      <td>1.094630</td>\n",
       "      <td>0.497203</td>\n",
       "      <td>1.686075</td>\n",
       "      <td>0.720183</td>\n",
       "      <td>...</td>\n",
       "      <td>0.225105</td>\n",
       "      <td>0.885488</td>\n",
       "      <td>2.217942</td>\n",
       "      <td>-0.758412</td>\n",
       "      <td>0.219206</td>\n",
       "      <td>-1.348001</td>\n",
       "      <td>2.287576</td>\n",
       "      <td>-0.275502</td>\n",
       "      <td>0.232772</td>\n",
       "      <td>1.394926</td>\n",
       "    </tr>\n",
       "    <tr>\n",
       "      <th>1</th>\n",
       "      <td>-0.575253</td>\n",
       "      <td>-0.173265</td>\n",
       "      <td>2.080623</td>\n",
       "      <td>-1.124079</td>\n",
       "      <td>2.502148</td>\n",
       "      <td>-0.672914</td>\n",
       "      <td>2.051190</td>\n",
       "      <td>-0.759879</td>\n",
       "      <td>1.843650</td>\n",
       "      <td>-0.661529</td>\n",
       "      <td>...</td>\n",
       "      <td>-0.757820</td>\n",
       "      <td>1.746724</td>\n",
       "      <td>2.217942</td>\n",
       "      <td>-0.758412</td>\n",
       "      <td>0.219206</td>\n",
       "      <td>-1.348001</td>\n",
       "      <td>2.287576</td>\n",
       "      <td>-0.275502</td>\n",
       "      <td>0.232772</td>\n",
       "      <td>1.394926</td>\n",
       "    </tr>\n",
       "    <tr>\n",
       "      <th>2</th>\n",
       "      <td>0.399995</td>\n",
       "      <td>0.319952</td>\n",
       "      <td>0.182310</td>\n",
       "      <td>0.482879</td>\n",
       "      <td>0.165716</td>\n",
       "      <td>0.821591</td>\n",
       "      <td>-1.187639</td>\n",
       "      <td>0.423768</td>\n",
       "      <td>-1.067842</td>\n",
       "      <td>0.515509</td>\n",
       "      <td>...</td>\n",
       "      <td>0.489463</td>\n",
       "      <td>0.240006</td>\n",
       "      <td>2.217942</td>\n",
       "      <td>-0.758412</td>\n",
       "      <td>0.219206</td>\n",
       "      <td>-1.348001</td>\n",
       "      <td>2.287576</td>\n",
       "      <td>-0.275502</td>\n",
       "      <td>0.232772</td>\n",
       "      <td>1.394926</td>\n",
       "    </tr>\n",
       "    <tr>\n",
       "      <th>3</th>\n",
       "      <td>3.909369</td>\n",
       "      <td>0.262601</td>\n",
       "      <td>-1.129113</td>\n",
       "      <td>-0.447465</td>\n",
       "      <td>-1.250944</td>\n",
       "      <td>-0.624753</td>\n",
       "      <td>-0.931782</td>\n",
       "      <td>-0.383528</td>\n",
       "      <td>-0.581577</td>\n",
       "      <td>-1.120574</td>\n",
       "      <td>...</td>\n",
       "      <td>-0.518342</td>\n",
       "      <td>-1.050516</td>\n",
       "      <td>2.217942</td>\n",
       "      <td>-0.758412</td>\n",
       "      <td>-0.078022</td>\n",
       "      <td>-1.378679</td>\n",
       "      <td>2.287576</td>\n",
       "      <td>-0.275502</td>\n",
       "      <td>0.232772</td>\n",
       "      <td>1.394926</td>\n",
       "    </tr>\n",
       "    <tr>\n",
       "      <th>4</th>\n",
       "      <td>-0.225157</td>\n",
       "      <td>-0.586191</td>\n",
       "      <td>1.845485</td>\n",
       "      <td>-0.306504</td>\n",
       "      <td>1.265214</td>\n",
       "      <td>-0.776762</td>\n",
       "      <td>1.347827</td>\n",
       "      <td>-0.698122</td>\n",
       "      <td>1.427370</td>\n",
       "      <td>-0.405103</td>\n",
       "      <td>...</td>\n",
       "      <td>-0.704603</td>\n",
       "      <td>1.597050</td>\n",
       "      <td>2.217942</td>\n",
       "      <td>-0.758412</td>\n",
       "      <td>-0.078022</td>\n",
       "      <td>-1.378679</td>\n",
       "      <td>2.287576</td>\n",
       "      <td>-0.275502</td>\n",
       "      <td>0.232772</td>\n",
       "      <td>1.394926</td>\n",
       "    </tr>\n",
       "  </tbody>\n",
       "</table>\n",
       "<p>5 rows × 29 columns</p>\n",
       "</div>"
      ],
      "text/plain": [
       "   hora_sin  mandante_chutes  visitante_chutes  mandante_chutes_no_alvo  \\\n",
       "0 -0.217184        -0.121267          0.891714                -0.407996   \n",
       "1 -0.575253        -0.173265          2.080623                -1.124079   \n",
       "2  0.399995         0.319952          0.182310                 0.482879   \n",
       "3  3.909369         0.262601         -1.129113                -0.447465   \n",
       "4 -0.225157        -0.586191          1.845485                -0.306504   \n",
       "\n",
       "   visitante_chutes_no_alvo  mandante_posse_de_bola  visitante_posse_de_bola  \\\n",
       "0                  0.827907                0.510048                 1.094630   \n",
       "1                  2.502148               -0.672914                 2.051190   \n",
       "2                  0.165716                0.821591                -1.187639   \n",
       "3                 -1.250944               -0.624753                -0.931782   \n",
       "4                  1.265214               -0.776762                 1.347827   \n",
       "\n",
       "   mandante_passes  visitante_passes  mandante_precisao_passes  ...  \\\n",
       "0         0.497203          1.686075                  0.720183  ...   \n",
       "1        -0.759879          1.843650                 -0.661529  ...   \n",
       "2         0.423768         -1.067842                  0.515509  ...   \n",
       "3        -0.383528         -0.581577                 -1.120574  ...   \n",
       "4        -0.698122          1.427370                 -0.405103  ...   \n",
       "\n",
       "   mandante_escanteios  visitante_escanteios   mes_sin   mes_cos  \\\n",
       "0             0.225105              0.885488  2.217942 -0.758412   \n",
       "1            -0.757820              1.746724  2.217942 -0.758412   \n",
       "2             0.489463              0.240006  2.217942 -0.758412   \n",
       "3            -0.518342             -1.050516  2.217942 -0.758412   \n",
       "4            -0.704603              1.597050  2.217942 -0.758412   \n",
       "\n",
       "   dia_do_mes_sin  dia_do_mes_cos  semana_do_ano_sin  semana_do_ano_cos  \\\n",
       "0        0.219206       -1.348001           2.287576          -0.275502   \n",
       "1        0.219206       -1.348001           2.287576          -0.275502   \n",
       "2        0.219206       -1.348001           2.287576          -0.275502   \n",
       "3       -0.078022       -1.378679           2.287576          -0.275502   \n",
       "4       -0.078022       -1.378679           2.287576          -0.275502   \n",
       "\n",
       "   rodadas_sin  rodadas_cos  \n",
       "0     0.232772     1.394926  \n",
       "1     0.232772     1.394926  \n",
       "2     0.232772     1.394926  \n",
       "3     0.232772     1.394926  \n",
       "4     0.232772     1.394926  \n",
       "\n",
       "[5 rows x 29 columns]"
      ]
     },
     "execution_count": 267,
     "metadata": {},
     "output_type": "execute_result"
    }
   ],
   "source": [
    "df3_numeric_scaled.head()"
   ]
  },
  {
   "cell_type": "code",
   "execution_count": 264,
   "id": "26c1ad73",
   "metadata": {
    "ExecuteTime": {
     "end_time": "2022-03-17T18:10:05.476935Z",
     "start_time": "2022-03-17T18:10:05.472455Z"
    }
   },
   "outputs": [],
   "source": [
    "df3_final = pd.concat([df3_cat_dummies, df3_numeric_scaled, df3_target], axis =1)"
   ]
  },
  {
   "cell_type": "code",
   "execution_count": 265,
   "id": "06859d27",
   "metadata": {
    "ExecuteTime": {
     "end_time": "2022-03-17T18:10:05.857646Z",
     "start_time": "2022-03-17T18:10:05.833123Z"
    }
   },
   "outputs": [
    {
     "data": {
      "text/html": [
       "<div>\n",
       "<style scoped>\n",
       "    .dataframe tbody tr th:only-of-type {\n",
       "        vertical-align: middle;\n",
       "    }\n",
       "\n",
       "    .dataframe tbody tr th {\n",
       "        vertical-align: top;\n",
       "    }\n",
       "\n",
       "    .dataframe thead th {\n",
       "        text-align: right;\n",
       "    }\n",
       "</style>\n",
       "<table border=\"1\" class=\"dataframe\">\n",
       "  <thead>\n",
       "    <tr style=\"text-align: right;\">\n",
       "      <th></th>\n",
       "      <th>mandante_America-MG</th>\n",
       "      <th>mandante_Athletico-PR</th>\n",
       "      <th>mandante_Atletico-GO</th>\n",
       "      <th>mandante_Atletico-MG</th>\n",
       "      <th>mandante_Avai</th>\n",
       "      <th>mandante_Bahia</th>\n",
       "      <th>mandante_Botafogo-RJ</th>\n",
       "      <th>mandante_Bragantino</th>\n",
       "      <th>mandante_CSA</th>\n",
       "      <th>mandante_Ceara</th>\n",
       "      <th>...</th>\n",
       "      <th>visitante_escanteios</th>\n",
       "      <th>mes_sin</th>\n",
       "      <th>mes_cos</th>\n",
       "      <th>dia_do_mes_sin</th>\n",
       "      <th>dia_do_mes_cos</th>\n",
       "      <th>semana_do_ano_sin</th>\n",
       "      <th>semana_do_ano_cos</th>\n",
       "      <th>rodadas_sin</th>\n",
       "      <th>rodadas_cos</th>\n",
       "      <th>resultado_final</th>\n",
       "    </tr>\n",
       "  </thead>\n",
       "  <tbody>\n",
       "    <tr>\n",
       "      <th>0</th>\n",
       "      <td>0</td>\n",
       "      <td>0</td>\n",
       "      <td>0</td>\n",
       "      <td>0</td>\n",
       "      <td>0</td>\n",
       "      <td>0</td>\n",
       "      <td>0</td>\n",
       "      <td>0</td>\n",
       "      <td>0</td>\n",
       "      <td>0</td>\n",
       "      <td>...</td>\n",
       "      <td>0.885488</td>\n",
       "      <td>2.217942</td>\n",
       "      <td>-0.758412</td>\n",
       "      <td>0.219206</td>\n",
       "      <td>-1.348001</td>\n",
       "      <td>2.287576</td>\n",
       "      <td>-0.275502</td>\n",
       "      <td>2.327719e-01</td>\n",
       "      <td>1.394926</td>\n",
       "      <td>2</td>\n",
       "    </tr>\n",
       "    <tr>\n",
       "      <th>1</th>\n",
       "      <td>0</td>\n",
       "      <td>0</td>\n",
       "      <td>0</td>\n",
       "      <td>0</td>\n",
       "      <td>0</td>\n",
       "      <td>0</td>\n",
       "      <td>0</td>\n",
       "      <td>0</td>\n",
       "      <td>0</td>\n",
       "      <td>0</td>\n",
       "      <td>...</td>\n",
       "      <td>1.746724</td>\n",
       "      <td>2.217942</td>\n",
       "      <td>-0.758412</td>\n",
       "      <td>0.219206</td>\n",
       "      <td>-1.348001</td>\n",
       "      <td>2.287576</td>\n",
       "      <td>-0.275502</td>\n",
       "      <td>2.327719e-01</td>\n",
       "      <td>1.394926</td>\n",
       "      <td>0</td>\n",
       "    </tr>\n",
       "    <tr>\n",
       "      <th>2</th>\n",
       "      <td>0</td>\n",
       "      <td>0</td>\n",
       "      <td>0</td>\n",
       "      <td>0</td>\n",
       "      <td>0</td>\n",
       "      <td>0</td>\n",
       "      <td>0</td>\n",
       "      <td>0</td>\n",
       "      <td>0</td>\n",
       "      <td>0</td>\n",
       "      <td>...</td>\n",
       "      <td>0.240006</td>\n",
       "      <td>2.217942</td>\n",
       "      <td>-0.758412</td>\n",
       "      <td>0.219206</td>\n",
       "      <td>-1.348001</td>\n",
       "      <td>2.287576</td>\n",
       "      <td>-0.275502</td>\n",
       "      <td>2.327719e-01</td>\n",
       "      <td>1.394926</td>\n",
       "      <td>1</td>\n",
       "    </tr>\n",
       "    <tr>\n",
       "      <th>3</th>\n",
       "      <td>1</td>\n",
       "      <td>0</td>\n",
       "      <td>0</td>\n",
       "      <td>0</td>\n",
       "      <td>0</td>\n",
       "      <td>0</td>\n",
       "      <td>0</td>\n",
       "      <td>0</td>\n",
       "      <td>0</td>\n",
       "      <td>0</td>\n",
       "      <td>...</td>\n",
       "      <td>-1.050516</td>\n",
       "      <td>2.217942</td>\n",
       "      <td>-0.758412</td>\n",
       "      <td>-0.078022</td>\n",
       "      <td>-1.378679</td>\n",
       "      <td>2.287576</td>\n",
       "      <td>-0.275502</td>\n",
       "      <td>2.327719e-01</td>\n",
       "      <td>1.394926</td>\n",
       "      <td>1</td>\n",
       "    </tr>\n",
       "    <tr>\n",
       "      <th>4</th>\n",
       "      <td>0</td>\n",
       "      <td>0</td>\n",
       "      <td>0</td>\n",
       "      <td>0</td>\n",
       "      <td>0</td>\n",
       "      <td>0</td>\n",
       "      <td>0</td>\n",
       "      <td>0</td>\n",
       "      <td>0</td>\n",
       "      <td>0</td>\n",
       "      <td>...</td>\n",
       "      <td>1.597050</td>\n",
       "      <td>2.217942</td>\n",
       "      <td>-0.758412</td>\n",
       "      <td>-0.078022</td>\n",
       "      <td>-1.378679</td>\n",
       "      <td>2.287576</td>\n",
       "      <td>-0.275502</td>\n",
       "      <td>2.327719e-01</td>\n",
       "      <td>1.394926</td>\n",
       "      <td>1</td>\n",
       "    </tr>\n",
       "    <tr>\n",
       "      <th>...</th>\n",
       "      <td>...</td>\n",
       "      <td>...</td>\n",
       "      <td>...</td>\n",
       "      <td>...</td>\n",
       "      <td>...</td>\n",
       "      <td>...</td>\n",
       "      <td>...</td>\n",
       "      <td>...</td>\n",
       "      <td>...</td>\n",
       "      <td>...</td>\n",
       "      <td>...</td>\n",
       "      <td>...</td>\n",
       "      <td>...</td>\n",
       "      <td>...</td>\n",
       "      <td>...</td>\n",
       "      <td>...</td>\n",
       "      <td>...</td>\n",
       "      <td>...</td>\n",
       "      <td>...</td>\n",
       "      <td>...</td>\n",
       "      <td>...</td>\n",
       "    </tr>\n",
       "    <tr>\n",
       "      <th>1515</th>\n",
       "      <td>0</td>\n",
       "      <td>0</td>\n",
       "      <td>0</td>\n",
       "      <td>0</td>\n",
       "      <td>0</td>\n",
       "      <td>0</td>\n",
       "      <td>0</td>\n",
       "      <td>1</td>\n",
       "      <td>0</td>\n",
       "      <td>0</td>\n",
       "      <td>...</td>\n",
       "      <td>0.848680</td>\n",
       "      <td>0.705845</td>\n",
       "      <td>1.348310</td>\n",
       "      <td>0.762270</td>\n",
       "      <td>-1.110565</td>\n",
       "      <td>0.079303</td>\n",
       "      <td>1.427541</td>\n",
       "      <td>-2.873562e-16</td>\n",
       "      <td>1.414214</td>\n",
       "      <td>1</td>\n",
       "    </tr>\n",
       "    <tr>\n",
       "      <th>1516</th>\n",
       "      <td>0</td>\n",
       "      <td>0</td>\n",
       "      <td>0</td>\n",
       "      <td>0</td>\n",
       "      <td>0</td>\n",
       "      <td>0</td>\n",
       "      <td>0</td>\n",
       "      <td>0</td>\n",
       "      <td>0</td>\n",
       "      <td>0</td>\n",
       "      <td>...</td>\n",
       "      <td>-1.027233</td>\n",
       "      <td>0.705845</td>\n",
       "      <td>1.348310</td>\n",
       "      <td>0.762270</td>\n",
       "      <td>-1.110565</td>\n",
       "      <td>0.079303</td>\n",
       "      <td>1.427541</td>\n",
       "      <td>-2.873562e-16</td>\n",
       "      <td>1.414214</td>\n",
       "      <td>0</td>\n",
       "    </tr>\n",
       "    <tr>\n",
       "      <th>1517</th>\n",
       "      <td>0</td>\n",
       "      <td>0</td>\n",
       "      <td>0</td>\n",
       "      <td>0</td>\n",
       "      <td>0</td>\n",
       "      <td>0</td>\n",
       "      <td>0</td>\n",
       "      <td>0</td>\n",
       "      <td>0</td>\n",
       "      <td>0</td>\n",
       "      <td>...</td>\n",
       "      <td>0.190115</td>\n",
       "      <td>0.705845</td>\n",
       "      <td>1.348310</td>\n",
       "      <td>0.762270</td>\n",
       "      <td>-1.110565</td>\n",
       "      <td>0.079303</td>\n",
       "      <td>1.427541</td>\n",
       "      <td>-2.873562e-16</td>\n",
       "      <td>1.414214</td>\n",
       "      <td>1</td>\n",
       "    </tr>\n",
       "    <tr>\n",
       "      <th>1518</th>\n",
       "      <td>0</td>\n",
       "      <td>0</td>\n",
       "      <td>0</td>\n",
       "      <td>0</td>\n",
       "      <td>0</td>\n",
       "      <td>0</td>\n",
       "      <td>0</td>\n",
       "      <td>0</td>\n",
       "      <td>0</td>\n",
       "      <td>0</td>\n",
       "      <td>...</td>\n",
       "      <td>1.597050</td>\n",
       "      <td>0.705845</td>\n",
       "      <td>1.348310</td>\n",
       "      <td>0.762270</td>\n",
       "      <td>-1.110565</td>\n",
       "      <td>0.079303</td>\n",
       "      <td>1.427541</td>\n",
       "      <td>-2.873562e-16</td>\n",
       "      <td>1.414214</td>\n",
       "      <td>1</td>\n",
       "    </tr>\n",
       "    <tr>\n",
       "      <th>1519</th>\n",
       "      <td>0</td>\n",
       "      <td>0</td>\n",
       "      <td>0</td>\n",
       "      <td>0</td>\n",
       "      <td>0</td>\n",
       "      <td>0</td>\n",
       "      <td>0</td>\n",
       "      <td>0</td>\n",
       "      <td>0</td>\n",
       "      <td>0</td>\n",
       "      <td>...</td>\n",
       "      <td>-2.194690</td>\n",
       "      <td>0.705845</td>\n",
       "      <td>1.348310</td>\n",
       "      <td>0.762270</td>\n",
       "      <td>-1.110565</td>\n",
       "      <td>0.079303</td>\n",
       "      <td>1.427541</td>\n",
       "      <td>-2.873562e-16</td>\n",
       "      <td>1.414214</td>\n",
       "      <td>0</td>\n",
       "    </tr>\n",
       "  </tbody>\n",
       "</table>\n",
       "<p>1520 rows × 192 columns</p>\n",
       "</div>"
      ],
      "text/plain": [
       "      mandante_America-MG  mandante_Athletico-PR  mandante_Atletico-GO  \\\n",
       "0                       0                      0                     0   \n",
       "1                       0                      0                     0   \n",
       "2                       0                      0                     0   \n",
       "3                       1                      0                     0   \n",
       "4                       0                      0                     0   \n",
       "...                   ...                    ...                   ...   \n",
       "1515                    0                      0                     0   \n",
       "1516                    0                      0                     0   \n",
       "1517                    0                      0                     0   \n",
       "1518                    0                      0                     0   \n",
       "1519                    0                      0                     0   \n",
       "\n",
       "      mandante_Atletico-MG  mandante_Avai  mandante_Bahia  \\\n",
       "0                        0              0               0   \n",
       "1                        0              0               0   \n",
       "2                        0              0               0   \n",
       "3                        0              0               0   \n",
       "4                        0              0               0   \n",
       "...                    ...            ...             ...   \n",
       "1515                     0              0               0   \n",
       "1516                     0              0               0   \n",
       "1517                     0              0               0   \n",
       "1518                     0              0               0   \n",
       "1519                     0              0               0   \n",
       "\n",
       "      mandante_Botafogo-RJ  mandante_Bragantino  mandante_CSA  mandante_Ceara  \\\n",
       "0                        0                    0             0               0   \n",
       "1                        0                    0             0               0   \n",
       "2                        0                    0             0               0   \n",
       "3                        0                    0             0               0   \n",
       "4                        0                    0             0               0   \n",
       "...                    ...                  ...           ...             ...   \n",
       "1515                     0                    1             0               0   \n",
       "1516                     0                    0             0               0   \n",
       "1517                     0                    0             0               0   \n",
       "1518                     0                    0             0               0   \n",
       "1519                     0                    0             0               0   \n",
       "\n",
       "      ...  visitante_escanteios   mes_sin   mes_cos  dia_do_mes_sin  \\\n",
       "0     ...              0.885488  2.217942 -0.758412        0.219206   \n",
       "1     ...              1.746724  2.217942 -0.758412        0.219206   \n",
       "2     ...              0.240006  2.217942 -0.758412        0.219206   \n",
       "3     ...             -1.050516  2.217942 -0.758412       -0.078022   \n",
       "4     ...              1.597050  2.217942 -0.758412       -0.078022   \n",
       "...   ...                   ...       ...       ...             ...   \n",
       "1515  ...              0.848680  0.705845  1.348310        0.762270   \n",
       "1516  ...             -1.027233  0.705845  1.348310        0.762270   \n",
       "1517  ...              0.190115  0.705845  1.348310        0.762270   \n",
       "1518  ...              1.597050  0.705845  1.348310        0.762270   \n",
       "1519  ...             -2.194690  0.705845  1.348310        0.762270   \n",
       "\n",
       "      dia_do_mes_cos  semana_do_ano_sin  semana_do_ano_cos   rodadas_sin  \\\n",
       "0          -1.348001           2.287576          -0.275502  2.327719e-01   \n",
       "1          -1.348001           2.287576          -0.275502  2.327719e-01   \n",
       "2          -1.348001           2.287576          -0.275502  2.327719e-01   \n",
       "3          -1.378679           2.287576          -0.275502  2.327719e-01   \n",
       "4          -1.378679           2.287576          -0.275502  2.327719e-01   \n",
       "...              ...                ...                ...           ...   \n",
       "1515       -1.110565           0.079303           1.427541 -2.873562e-16   \n",
       "1516       -1.110565           0.079303           1.427541 -2.873562e-16   \n",
       "1517       -1.110565           0.079303           1.427541 -2.873562e-16   \n",
       "1518       -1.110565           0.079303           1.427541 -2.873562e-16   \n",
       "1519       -1.110565           0.079303           1.427541 -2.873562e-16   \n",
       "\n",
       "      rodadas_cos  resultado_final  \n",
       "0        1.394926                2  \n",
       "1        1.394926                0  \n",
       "2        1.394926                1  \n",
       "3        1.394926                1  \n",
       "4        1.394926                1  \n",
       "...           ...              ...  \n",
       "1515     1.414214                1  \n",
       "1516     1.414214                0  \n",
       "1517     1.414214                1  \n",
       "1518     1.414214                1  \n",
       "1519     1.414214                0  \n",
       "\n",
       "[1520 rows x 192 columns]"
      ]
     },
     "execution_count": 265,
     "metadata": {},
     "output_type": "execute_result"
    }
   ],
   "source": [
    "df3_final"
   ]
  },
  {
   "cell_type": "markdown",
   "id": "356beb22",
   "metadata": {},
   "source": [
    "# 4.0 Feature selection and scaling "
   ]
  },
  {
   "cell_type": "code",
   "execution_count": 268,
   "id": "853aba73",
   "metadata": {
    "ExecuteTime": {
     "end_time": "2022-03-17T18:10:46.462427Z",
     "start_time": "2022-03-17T18:10:46.455777Z"
    }
   },
   "outputs": [],
   "source": [
    "df4 = df3_final.copy()"
   ]
  },
  {
   "cell_type": "code",
   "execution_count": 273,
   "id": "72af63dd",
   "metadata": {
    "ExecuteTime": {
     "end_time": "2022-03-17T18:11:22.129546Z",
     "start_time": "2022-03-17T18:11:22.107165Z"
    }
   },
   "outputs": [
    {
     "data": {
      "text/html": [
       "<div>\n",
       "<style scoped>\n",
       "    .dataframe tbody tr th:only-of-type {\n",
       "        vertical-align: middle;\n",
       "    }\n",
       "\n",
       "    .dataframe tbody tr th {\n",
       "        vertical-align: top;\n",
       "    }\n",
       "\n",
       "    .dataframe thead th {\n",
       "        text-align: right;\n",
       "    }\n",
       "</style>\n",
       "<table border=\"1\" class=\"dataframe\">\n",
       "  <thead>\n",
       "    <tr style=\"text-align: right;\">\n",
       "      <th></th>\n",
       "      <th>mandante_America-MG</th>\n",
       "      <th>mandante_Athletico-PR</th>\n",
       "      <th>mandante_Atletico-GO</th>\n",
       "      <th>mandante_Atletico-MG</th>\n",
       "      <th>mandante_Avai</th>\n",
       "      <th>mandante_Bahia</th>\n",
       "      <th>mandante_Botafogo-RJ</th>\n",
       "      <th>mandante_Bragantino</th>\n",
       "      <th>mandante_CSA</th>\n",
       "      <th>mandante_Ceara</th>\n",
       "      <th>...</th>\n",
       "      <th>visitante_escanteios</th>\n",
       "      <th>mes_sin</th>\n",
       "      <th>mes_cos</th>\n",
       "      <th>dia_do_mes_sin</th>\n",
       "      <th>dia_do_mes_cos</th>\n",
       "      <th>semana_do_ano_sin</th>\n",
       "      <th>semana_do_ano_cos</th>\n",
       "      <th>rodadas_sin</th>\n",
       "      <th>rodadas_cos</th>\n",
       "      <th>resultado_final</th>\n",
       "    </tr>\n",
       "  </thead>\n",
       "  <tbody>\n",
       "    <tr>\n",
       "      <th>0</th>\n",
       "      <td>0</td>\n",
       "      <td>0</td>\n",
       "      <td>0</td>\n",
       "      <td>0</td>\n",
       "      <td>0</td>\n",
       "      <td>0</td>\n",
       "      <td>0</td>\n",
       "      <td>0</td>\n",
       "      <td>0</td>\n",
       "      <td>0</td>\n",
       "      <td>...</td>\n",
       "      <td>0.885488</td>\n",
       "      <td>2.217942</td>\n",
       "      <td>-0.758412</td>\n",
       "      <td>0.219206</td>\n",
       "      <td>-1.348001</td>\n",
       "      <td>2.287576</td>\n",
       "      <td>-0.275502</td>\n",
       "      <td>0.232772</td>\n",
       "      <td>1.394926</td>\n",
       "      <td>2</td>\n",
       "    </tr>\n",
       "    <tr>\n",
       "      <th>1</th>\n",
       "      <td>0</td>\n",
       "      <td>0</td>\n",
       "      <td>0</td>\n",
       "      <td>0</td>\n",
       "      <td>0</td>\n",
       "      <td>0</td>\n",
       "      <td>0</td>\n",
       "      <td>0</td>\n",
       "      <td>0</td>\n",
       "      <td>0</td>\n",
       "      <td>...</td>\n",
       "      <td>1.746724</td>\n",
       "      <td>2.217942</td>\n",
       "      <td>-0.758412</td>\n",
       "      <td>0.219206</td>\n",
       "      <td>-1.348001</td>\n",
       "      <td>2.287576</td>\n",
       "      <td>-0.275502</td>\n",
       "      <td>0.232772</td>\n",
       "      <td>1.394926</td>\n",
       "      <td>0</td>\n",
       "    </tr>\n",
       "    <tr>\n",
       "      <th>2</th>\n",
       "      <td>0</td>\n",
       "      <td>0</td>\n",
       "      <td>0</td>\n",
       "      <td>0</td>\n",
       "      <td>0</td>\n",
       "      <td>0</td>\n",
       "      <td>0</td>\n",
       "      <td>0</td>\n",
       "      <td>0</td>\n",
       "      <td>0</td>\n",
       "      <td>...</td>\n",
       "      <td>0.240006</td>\n",
       "      <td>2.217942</td>\n",
       "      <td>-0.758412</td>\n",
       "      <td>0.219206</td>\n",
       "      <td>-1.348001</td>\n",
       "      <td>2.287576</td>\n",
       "      <td>-0.275502</td>\n",
       "      <td>0.232772</td>\n",
       "      <td>1.394926</td>\n",
       "      <td>1</td>\n",
       "    </tr>\n",
       "    <tr>\n",
       "      <th>3</th>\n",
       "      <td>1</td>\n",
       "      <td>0</td>\n",
       "      <td>0</td>\n",
       "      <td>0</td>\n",
       "      <td>0</td>\n",
       "      <td>0</td>\n",
       "      <td>0</td>\n",
       "      <td>0</td>\n",
       "      <td>0</td>\n",
       "      <td>0</td>\n",
       "      <td>...</td>\n",
       "      <td>-1.050516</td>\n",
       "      <td>2.217942</td>\n",
       "      <td>-0.758412</td>\n",
       "      <td>-0.078022</td>\n",
       "      <td>-1.378679</td>\n",
       "      <td>2.287576</td>\n",
       "      <td>-0.275502</td>\n",
       "      <td>0.232772</td>\n",
       "      <td>1.394926</td>\n",
       "      <td>1</td>\n",
       "    </tr>\n",
       "    <tr>\n",
       "      <th>4</th>\n",
       "      <td>0</td>\n",
       "      <td>0</td>\n",
       "      <td>0</td>\n",
       "      <td>0</td>\n",
       "      <td>0</td>\n",
       "      <td>0</td>\n",
       "      <td>0</td>\n",
       "      <td>0</td>\n",
       "      <td>0</td>\n",
       "      <td>0</td>\n",
       "      <td>...</td>\n",
       "      <td>1.597050</td>\n",
       "      <td>2.217942</td>\n",
       "      <td>-0.758412</td>\n",
       "      <td>-0.078022</td>\n",
       "      <td>-1.378679</td>\n",
       "      <td>2.287576</td>\n",
       "      <td>-0.275502</td>\n",
       "      <td>0.232772</td>\n",
       "      <td>1.394926</td>\n",
       "      <td>1</td>\n",
       "    </tr>\n",
       "  </tbody>\n",
       "</table>\n",
       "<p>5 rows × 192 columns</p>\n",
       "</div>"
      ],
      "text/plain": [
       "   mandante_America-MG  mandante_Athletico-PR  mandante_Atletico-GO  \\\n",
       "0                    0                      0                     0   \n",
       "1                    0                      0                     0   \n",
       "2                    0                      0                     0   \n",
       "3                    1                      0                     0   \n",
       "4                    0                      0                     0   \n",
       "\n",
       "   mandante_Atletico-MG  mandante_Avai  mandante_Bahia  mandante_Botafogo-RJ  \\\n",
       "0                     0              0               0                     0   \n",
       "1                     0              0               0                     0   \n",
       "2                     0              0               0                     0   \n",
       "3                     0              0               0                     0   \n",
       "4                     0              0               0                     0   \n",
       "\n",
       "   mandante_Bragantino  mandante_CSA  mandante_Ceara  ...  \\\n",
       "0                    0             0               0  ...   \n",
       "1                    0             0               0  ...   \n",
       "2                    0             0               0  ...   \n",
       "3                    0             0               0  ...   \n",
       "4                    0             0               0  ...   \n",
       "\n",
       "   visitante_escanteios   mes_sin   mes_cos  dia_do_mes_sin  dia_do_mes_cos  \\\n",
       "0              0.885488  2.217942 -0.758412        0.219206       -1.348001   \n",
       "1              1.746724  2.217942 -0.758412        0.219206       -1.348001   \n",
       "2              0.240006  2.217942 -0.758412        0.219206       -1.348001   \n",
       "3             -1.050516  2.217942 -0.758412       -0.078022       -1.378679   \n",
       "4              1.597050  2.217942 -0.758412       -0.078022       -1.378679   \n",
       "\n",
       "   semana_do_ano_sin  semana_do_ano_cos  rodadas_sin  rodadas_cos  \\\n",
       "0           2.287576          -0.275502     0.232772     1.394926   \n",
       "1           2.287576          -0.275502     0.232772     1.394926   \n",
       "2           2.287576          -0.275502     0.232772     1.394926   \n",
       "3           2.287576          -0.275502     0.232772     1.394926   \n",
       "4           2.287576          -0.275502     0.232772     1.394926   \n",
       "\n",
       "   resultado_final  \n",
       "0                2  \n",
       "1                0  \n",
       "2                1  \n",
       "3                1  \n",
       "4                1  \n",
       "\n",
       "[5 rows x 192 columns]"
      ]
     },
     "execution_count": 273,
     "metadata": {},
     "output_type": "execute_result"
    }
   ],
   "source": [
    "df4.head()"
   ]
  },
  {
   "cell_type": "code",
   "execution_count": 269,
   "id": "62a7f358",
   "metadata": {
    "ExecuteTime": {
     "end_time": "2022-03-17T18:10:58.527192Z",
     "start_time": "2022-03-17T18:10:58.523597Z"
    }
   },
   "outputs": [],
   "source": [
    "X = df4.drop(['resultado_final'], axis=1)\n",
    "y = df4.resultado_final"
   ]
  },
  {
   "cell_type": "code",
   "execution_count": 270,
   "id": "9b016aa6",
   "metadata": {
    "ExecuteTime": {
     "end_time": "2022-03-17T18:10:59.865890Z",
     "start_time": "2022-03-17T18:10:59.860358Z"
    }
   },
   "outputs": [],
   "source": [
    "X_train, X_test, y_train, y_test = train_test_split(X, y,shuffle=True)"
   ]
  },
  {
   "cell_type": "markdown",
   "id": "e0204b6a",
   "metadata": {},
   "source": [
    "# 5.0 Machine Learning Models "
   ]
  },
  {
   "cell_type": "markdown",
   "id": "e9bde165",
   "metadata": {},
   "source": [
    "## 5.1 Logistic Regression "
   ]
  },
  {
   "cell_type": "code",
   "execution_count": 271,
   "id": "3c3e4606",
   "metadata": {
    "ExecuteTime": {
     "end_time": "2022-03-17T18:11:11.136458Z",
     "start_time": "2022-03-17T18:11:10.997701Z"
    }
   },
   "outputs": [
    {
     "name": "stderr",
     "output_type": "stream",
     "text": [
      "/home/mahelvson/anaconda3/envs/foot/lib/python3.9/site-packages/sklearn/linear_model/_logistic.py:814: ConvergenceWarning: lbfgs failed to converge (status=1):\n",
      "STOP: TOTAL NO. of ITERATIONS REACHED LIMIT.\n",
      "\n",
      "Increase the number of iterations (max_iter) or scale the data as shown in:\n",
      "    https://scikit-learn.org/stable/modules/preprocessing.html\n",
      "Please also refer to the documentation for alternative solver options:\n",
      "    https://scikit-learn.org/stable/modules/linear_model.html#logistic-regression\n",
      "  n_iter_i = _check_optimize_result(\n"
     ]
    }
   ],
   "source": [
    "clf_lg = LogisticRegression().fit(X_train, y_train)\n",
    "y_hat_lg = clf_lg.predict(X_test)"
   ]
  },
  {
   "cell_type": "code",
   "execution_count": 274,
   "id": "ab386e06",
   "metadata": {
    "ExecuteTime": {
     "end_time": "2022-03-17T18:11:37.112397Z",
     "start_time": "2022-03-17T18:11:37.105137Z"
    }
   },
   "outputs": [
    {
     "data": {
      "text/plain": [
       "0.4789473684210526"
      ]
     },
     "execution_count": 274,
     "metadata": {},
     "output_type": "execute_result"
    }
   ],
   "source": [
    "accuracy_score(y_test, y_hat_lg)"
   ]
  },
  {
   "cell_type": "code",
   "execution_count": 275,
   "id": "e113aa05",
   "metadata": {
    "ExecuteTime": {
     "end_time": "2022-03-17T18:11:38.070237Z",
     "start_time": "2022-03-17T18:11:37.908919Z"
    }
   },
   "outputs": [
    {
     "data": {
      "image/png": "[encoded data removed]",
      "text/plain": [
       "<Figure size 432x288 with 2 Axes>"
      ]
     },
     "metadata": {
      "needs_background": "light"
     },
     "output_type": "display_data"
    }
   ],
   "source": [
    "sns.heatmap(confusion_matrix(y_test, y_hat_lg, normalize='true'), annot=True);"
   ]
  },
  {
   "cell_type": "code",
   "execution_count": 276,
   "id": "0b2a62b4",
   "metadata": {
    "ExecuteTime": {
     "end_time": "2022-03-17T18:11:58.416898Z",
     "start_time": "2022-03-17T18:11:58.404979Z"
    }
   },
   "outputs": [
    {
     "name": "stdout",
     "output_type": "stream",
     "text": [
      "              precision    recall  f1-score   support\n",
      "\n",
      "           0       0.28      0.21      0.24       107\n",
      "           1       0.56      0.71      0.63       187\n",
      "           2       0.42      0.30      0.35        86\n",
      "\n",
      "    accuracy                           0.48       380\n",
      "   macro avg       0.42      0.41      0.41       380\n",
      "weighted avg       0.45      0.48      0.46       380\n",
      "\n"
     ]
    }
   ],
   "source": [
    "print(classification_report(y_test, y_hat_lg))"
   ]
  },
  {
   "cell_type": "markdown",
   "id": "97562ef9",
   "metadata": {},
   "source": [
    "## 5.2 XGBoost "
   ]
  },
  {
   "cell_type": "code",
   "execution_count": 277,
   "id": "ccf54b7d",
   "metadata": {
    "ExecuteTime": {
     "end_time": "2022-03-17T18:12:17.863765Z",
     "start_time": "2022-03-17T18:12:10.492866Z"
    }
   },
   "outputs": [
    {
     "name": "stderr",
     "output_type": "stream",
     "text": [
      "/home/mahelvson/anaconda3/envs/foot/lib/python3.9/site-packages/xgboost/sklearn.py:1224: UserWarning: The use of label encoder in XGBClassifier is deprecated and will be removed in a future release. To remove this warning, do the following: 1) Pass option use_label_encoder=False when constructing XGBClassifier object; and 2) Encode your labels (y) as integers starting with 0, i.e. 0, 1, 2, ..., [num_class - 1].\n",
      "  warnings.warn(label_encoder_deprecation_msg, UserWarning)\n",
      "/home/mahelvson/anaconda3/envs/foot/lib/python3.9/site-packages/xgboost/data.py:250: FutureWarning: pandas.Int64Index is deprecated and will be removed from pandas in a future version. Use pandas.Index with the appropriate dtype instead.\n",
      "  elif isinstance(data.columns, (pd.Int64Index, pd.RangeIndex)):\n"
     ]
    },
    {
     "name": "stdout",
     "output_type": "stream",
     "text": [
      "[15:12:16] WARNING: ../src/learner.cc:1115: Starting in XGBoost 1.3.0, the default evaluation metric used with the objective 'multi:softprob' was changed from 'merror' to 'mlogloss'. Explicitly set eval_metric if you'd like to restore the old behavior.\n"
     ]
    }
   ],
   "source": [
    "clf_xgb = xgb.XGBRFClassifier(n_estimators = 1000).fit(X_train, y_train)\n",
    "yhat_xgb = clf_xgb.predict(X_test)"
   ]
  },
  {
   "cell_type": "code",
   "execution_count": 278,
   "id": "4f31c151",
   "metadata": {
    "ExecuteTime": {
     "end_time": "2022-03-17T18:12:17.881326Z",
     "start_time": "2022-03-17T18:12:17.873832Z"
    }
   },
   "outputs": [
    {
     "data": {
      "text/plain": [
       "0.5184210526315789"
      ]
     },
     "execution_count": 278,
     "metadata": {},
     "output_type": "execute_result"
    }
   ],
   "source": [
    "accuracy_score(y_test, yhat_xgb)"
   ]
  },
  {
   "cell_type": "code",
   "execution_count": 279,
   "id": "d0b9b6e2",
   "metadata": {
    "ExecuteTime": {
     "end_time": "2022-03-17T18:12:20.287679Z",
     "start_time": "2022-03-17T18:12:20.129614Z"
    }
   },
   "outputs": [
    {
     "data": {
      "text/plain": [
       "<AxesSubplot:>"
      ]
     },
     "execution_count": 279,
     "metadata": {},
     "output_type": "execute_result"
    },
    {
     "data": {
      "image/png": "[encoded data removed]",
      "text/plain": [
       "<Figure size 432x288 with 2 Axes>"
      ]
     },
     "metadata": {
      "needs_background": "light"
     },
     "output_type": "display_data"
    }
   ],
   "source": [
    "sns.heatmap(confusion_matrix(y_test, yhat_xgb, normalize='true'), annot=True, )"
   ]
  },
  {
   "cell_type": "code",
   "execution_count": 280,
   "id": "5014ed35",
   "metadata": {
    "ExecuteTime": {
     "end_time": "2022-03-17T18:12:31.717958Z",
     "start_time": "2022-03-17T18:12:31.710046Z"
    }
   },
   "outputs": [
    {
     "name": "stdout",
     "output_type": "stream",
     "text": [
      "              precision    recall  f1-score   support\n",
      "\n",
      "           0       0.32      0.08      0.13       107\n",
      "           1       0.55      0.87      0.68       187\n",
      "           2       0.44      0.29      0.35        86\n",
      "\n",
      "    accuracy                           0.52       380\n",
      "   macro avg       0.44      0.42      0.39       380\n",
      "weighted avg       0.46      0.52      0.45       380\n",
      "\n"
     ]
    }
   ],
   "source": [
    "print(classification_report(y_test, yhat_xgb))"
   ]
  },
  {
   "cell_type": "markdown",
   "id": "94bca91f",
   "metadata": {},
   "source": [
    "## 5.3 Random Forests"
   ]
  },
  {
   "cell_type": "code",
   "execution_count": 281,
   "id": "d719d49e",
   "metadata": {
    "ExecuteTime": {
     "end_time": "2022-03-17T18:12:39.483299Z",
     "start_time": "2022-03-17T18:12:35.259456Z"
    }
   },
   "outputs": [],
   "source": [
    "clf_rf = RandomForestClassifier(n_estimators = 2000, n_jobs = -1, random_state = 42).fit(X_train, y_train)\n",
    "yhat_rf = clf_rf.predict(X_test)"
   ]
  },
  {
   "cell_type": "code",
   "execution_count": 282,
   "id": "6ab30c6e",
   "metadata": {
    "ExecuteTime": {
     "end_time": "2022-03-17T18:12:39.491111Z",
     "start_time": "2022-03-17T18:12:39.484797Z"
    }
   },
   "outputs": [
    {
     "data": {
      "text/plain": [
       "0.5184210526315789"
      ]
     },
     "execution_count": 282,
     "metadata": {},
     "output_type": "execute_result"
    }
   ],
   "source": [
    "accuracy_score(y_test, yhat_rf)"
   ]
  },
  {
   "cell_type": "code",
   "execution_count": 283,
   "id": "e3d33899",
   "metadata": {
    "ExecuteTime": {
     "end_time": "2022-03-17T18:12:42.280122Z",
     "start_time": "2022-03-17T18:12:42.125651Z"
    }
   },
   "outputs": [
    {
     "data": {
      "image/png": "[encoded data removed]",
      "text/plain": [
       "<Figure size 432x288 with 2 Axes>"
      ]
     },
     "metadata": {
      "needs_background": "light"
     },
     "output_type": "display_data"
    }
   ],
   "source": [
    "sns.heatmap(confusion_matrix(y_test, yhat_rf, normalize='true'), annot=True, );"
   ]
  },
  {
   "cell_type": "code",
   "execution_count": 284,
   "id": "71b84c06",
   "metadata": {
    "ExecuteTime": {
     "end_time": "2022-03-17T18:12:50.177041Z",
     "start_time": "2022-03-17T18:12:50.169422Z"
    }
   },
   "outputs": [
    {
     "name": "stdout",
     "output_type": "stream",
     "text": [
      "              precision    recall  f1-score   support\n",
      "\n",
      "           0       0.31      0.15      0.20       107\n",
      "           1       0.57      0.83      0.68       187\n",
      "           2       0.46      0.29      0.36        86\n",
      "\n",
      "    accuracy                           0.52       380\n",
      "   macro avg       0.45      0.42      0.41       380\n",
      "weighted avg       0.47      0.52      0.47       380\n",
      "\n"
     ]
    }
   ],
   "source": [
    "print(classification_report(y_test, yhat_rf))"
   ]
  },
  {
   "cell_type": "markdown",
   "id": "6b893f61",
   "metadata": {},
   "source": [
    "## 5.4 SVM "
   ]
  },
  {
   "cell_type": "code",
   "execution_count": 285,
   "id": "3994a33f",
   "metadata": {
    "ExecuteTime": {
     "end_time": "2022-03-17T18:12:53.791360Z",
     "start_time": "2022-03-17T18:12:53.557847Z"
    }
   },
   "outputs": [],
   "source": [
    "clf_svc = svm.SVC().fit(X_train, y_train)\n",
    "y_hat_svc = clf_svc.predict(X_test)"
   ]
  },
  {
   "cell_type": "code",
   "execution_count": 286,
   "id": "fd78c083",
   "metadata": {
    "ExecuteTime": {
     "end_time": "2022-03-17T18:12:54.356829Z",
     "start_time": "2022-03-17T18:12:54.345649Z"
    }
   },
   "outputs": [
    {
     "data": {
      "text/plain": [
       "0.5236842105263158"
      ]
     },
     "execution_count": 286,
     "metadata": {},
     "output_type": "execute_result"
    }
   ],
   "source": [
    "accuracy_score(y_test, y_hat_svc)"
   ]
  },
  {
   "cell_type": "code",
   "execution_count": 287,
   "id": "eb9d9cd1",
   "metadata": {
    "ExecuteTime": {
     "end_time": "2022-03-17T18:12:55.539146Z",
     "start_time": "2022-03-17T18:12:55.385367Z"
    }
   },
   "outputs": [
    {
     "data": {
      "image/png": "[encoded data removed]",
      "text/plain": [
       "<Figure size 432x288 with 2 Axes>"
      ]
     },
     "metadata": {
      "needs_background": "light"
     },
     "output_type": "display_data"
    }
   ],
   "source": [
    "sns.heatmap(confusion_matrix(y_test, y_hat_svc, normalize='true'), annot=True);"
   ]
  },
  {
   "cell_type": "code",
   "execution_count": 288,
   "id": "ae3c75cd",
   "metadata": {
    "ExecuteTime": {
     "end_time": "2022-03-17T18:13:04.690049Z",
     "start_time": "2022-03-17T18:13:04.681126Z"
    }
   },
   "outputs": [
    {
     "name": "stdout",
     "output_type": "stream",
     "text": [
      "              precision    recall  f1-score   support\n",
      "\n",
      "           0       0.22      0.05      0.08       107\n",
      "           1       0.55      0.91      0.69       187\n",
      "           2       0.48      0.28      0.35        86\n",
      "\n",
      "    accuracy                           0.52       380\n",
      "   macro avg       0.42      0.41      0.37       380\n",
      "weighted avg       0.44      0.52      0.44       380\n",
      "\n"
     ]
    }
   ],
   "source": [
    "print(classification_report(y_test, y_hat_svc))"
   ]
  },
  {
   "cell_type": "markdown",
   "id": "357a2b0c",
   "metadata": {},
   "source": [
    "## 5.5 Naive Bayes "
   ]
  },
  {
   "cell_type": "code",
   "execution_count": 289,
   "id": "03fbbd88",
   "metadata": {
    "ExecuteTime": {
     "end_time": "2022-03-17T18:13:07.617481Z",
     "start_time": "2022-03-17T18:13:07.604585Z"
    }
   },
   "outputs": [],
   "source": [
    "clf_gb = GaussianNB().fit(X_train, y_train)\n",
    "y_hat_gnb = clf_gb.predict(X_test)"
   ]
  },
  {
   "cell_type": "code",
   "execution_count": 290,
   "id": "06aadac5",
   "metadata": {
    "ExecuteTime": {
     "end_time": "2022-03-17T18:13:08.490014Z",
     "start_time": "2022-03-17T18:13:08.485452Z"
    }
   },
   "outputs": [
    {
     "data": {
      "text/plain": [
       "0.3026315789473684"
      ]
     },
     "execution_count": 290,
     "metadata": {},
     "output_type": "execute_result"
    }
   ],
   "source": [
    "accuracy_score(y_test, y_hat_gnb)"
   ]
  },
  {
   "cell_type": "code",
   "execution_count": 291,
   "id": "3f5c7c8e",
   "metadata": {
    "ExecuteTime": {
     "end_time": "2022-03-17T18:13:09.628797Z",
     "start_time": "2022-03-17T18:13:09.485081Z"
    }
   },
   "outputs": [
    {
     "data": {
      "image/png": "[encoded data removed]",
      "text/plain": [
       "<Figure size 432x288 with 2 Axes>"
      ]
     },
     "metadata": {
      "needs_background": "light"
     },
     "output_type": "display_data"
    }
   ],
   "source": [
    "sns.heatmap(confusion_matrix(y_test, y_hat_gnb, normalize='true'), annot=True, );"
   ]
  },
  {
   "cell_type": "code",
   "execution_count": 292,
   "id": "1ea12c9f",
   "metadata": {
    "ExecuteTime": {
     "end_time": "2022-03-17T18:13:16.701072Z",
     "start_time": "2022-03-17T18:13:16.693093Z"
    }
   },
   "outputs": [
    {
     "name": "stdout",
     "output_type": "stream",
     "text": [
      "              precision    recall  f1-score   support\n",
      "\n",
      "           0       0.30      0.39      0.34       107\n",
      "           1       0.64      0.10      0.17       187\n",
      "           2       0.26      0.64      0.37        86\n",
      "\n",
      "    accuracy                           0.30       380\n",
      "   macro avg       0.40      0.38      0.29       380\n",
      "weighted avg       0.46      0.30      0.26       380\n",
      "\n"
     ]
    }
   ],
   "source": [
    "print(classification_report(y_test, y_hat_gnb))"
   ]
  },
  {
   "cell_type": "markdown",
   "id": "55a278aa",
   "metadata": {},
   "source": [
    "## 5.6 SGD Classifier "
   ]
  },
  {
   "cell_type": "code",
   "execution_count": 293,
   "id": "9a5b2aff",
   "metadata": {
    "ExecuteTime": {
     "end_time": "2022-03-17T18:13:18.431982Z",
     "start_time": "2022-03-17T18:13:18.298627Z"
    }
   },
   "outputs": [],
   "source": [
    "clf_sgd = SGDClassifier().fit(X_train, y_train)\n",
    "y_hat_sgd = clf_sgd.predict(X_test)"
   ]
  },
  {
   "cell_type": "code",
   "execution_count": 294,
   "id": "e4742206",
   "metadata": {
    "ExecuteTime": {
     "end_time": "2022-03-17T18:13:19.045074Z",
     "start_time": "2022-03-17T18:13:19.033073Z"
    },
    "scrolled": true
   },
   "outputs": [
    {
     "data": {
      "text/plain": [
       "0.4342105263157895"
      ]
     },
     "execution_count": 294,
     "metadata": {},
     "output_type": "execute_result"
    }
   ],
   "source": [
    "accuracy_score(y_test, y_hat_sgd)"
   ]
  },
  {
   "cell_type": "code",
   "execution_count": 295,
   "id": "4140c9b9",
   "metadata": {
    "ExecuteTime": {
     "end_time": "2022-03-17T18:13:19.936086Z",
     "start_time": "2022-03-17T18:13:19.773660Z"
    }
   },
   "outputs": [
    {
     "data": {
      "text/plain": [
       "<AxesSubplot:>"
      ]
     },
     "execution_count": 295,
     "metadata": {},
     "output_type": "execute_result"
    },
    {
     "data": {
      "image/png": "[encoded data removed]",
      "text/plain": [
       "<Figure size 432x288 with 2 Axes>"
      ]
     },
     "metadata": {
      "needs_background": "light"
     },
     "output_type": "display_data"
    }
   ],
   "source": [
    "sns.heatmap(confusion_matrix(y_test, y_hat_sgd, normalize='true'), annot=True, )"
   ]
  },
  {
   "cell_type": "code",
   "execution_count": 296,
   "id": "c6b86019",
   "metadata": {
    "ExecuteTime": {
     "end_time": "2022-03-17T18:13:28.491243Z",
     "start_time": "2022-03-17T18:13:28.482271Z"
    }
   },
   "outputs": [
    {
     "name": "stdout",
     "output_type": "stream",
     "text": [
      "              precision    recall  f1-score   support\n",
      "\n",
      "           0       0.28      0.21      0.24       107\n",
      "           1       0.57      0.61      0.59       187\n",
      "           2       0.28      0.31      0.30        86\n",
      "\n",
      "    accuracy                           0.43       380\n",
      "   macro avg       0.38      0.38      0.38       380\n",
      "weighted avg       0.42      0.43      0.43       380\n",
      "\n"
     ]
    }
   ],
   "source": [
    "print(classification_report(y_test, y_hat_sgd))"
   ]
  },
  {
   "cell_type": "markdown",
   "id": "ea707aaf",
   "metadata": {},
   "source": [
    "## 5.7 Decision Tree"
   ]
  },
  {
   "cell_type": "code",
   "execution_count": 297,
   "id": "833849cf",
   "metadata": {
    "ExecuteTime": {
     "end_time": "2022-03-17T18:13:29.944517Z",
     "start_time": "2022-03-17T18:13:29.911643Z"
    }
   },
   "outputs": [],
   "source": [
    "clf_dt = tree.DecisionTreeClassifier().fit(X_train, y_train)\n",
    "y_hat_dt = clf_dt.predict(X_test)"
   ]
  },
  {
   "cell_type": "code",
   "execution_count": 298,
   "id": "69700ec8",
   "metadata": {
    "ExecuteTime": {
     "end_time": "2022-03-17T18:13:30.561319Z",
     "start_time": "2022-03-17T18:13:30.547256Z"
    },
    "scrolled": true
   },
   "outputs": [
    {
     "data": {
      "text/plain": [
       "0.41842105263157897"
      ]
     },
     "execution_count": 298,
     "metadata": {},
     "output_type": "execute_result"
    }
   ],
   "source": [
    "accuracy_score(y_test, y_hat_dt)"
   ]
  },
  {
   "cell_type": "code",
   "execution_count": 299,
   "id": "92ce198d",
   "metadata": {
    "ExecuteTime": {
     "end_time": "2022-03-17T18:13:32.761359Z",
     "start_time": "2022-03-17T18:13:32.612734Z"
    }
   },
   "outputs": [
    {
     "data": {
      "image/png": "[encoded data removed]",
      "text/plain": [
       "<Figure size 432x288 with 2 Axes>"
      ]
     },
     "metadata": {
      "needs_background": "light"
     },
     "output_type": "display_data"
    }
   ],
   "source": [
    "sns.heatmap(confusion_matrix(y_test, y_hat_dt, normalize='true'), annot=True, );"
   ]
  },
  {
   "cell_type": "code",
   "execution_count": 300,
   "id": "023e1c66",
   "metadata": {
    "ExecuteTime": {
     "end_time": "2022-03-17T18:13:34.334677Z",
     "start_time": "2022-03-17T18:13:34.324781Z"
    }
   },
   "outputs": [
    {
     "name": "stdout",
     "output_type": "stream",
     "text": [
      "              precision    recall  f1-score   support\n",
      "\n",
      "           0       0.31      0.34      0.32       107\n",
      "           1       0.55      0.52      0.54       187\n",
      "           2       0.29      0.29      0.29        86\n",
      "\n",
      "    accuracy                           0.42       380\n",
      "   macro avg       0.38      0.38      0.38       380\n",
      "weighted avg       0.42      0.42      0.42       380\n",
      "\n"
     ]
    }
   ],
   "source": [
    "print(classification_report(y_test, y_hat_dt))"
   ]
  },
  {
   "cell_type": "markdown",
   "id": "73f36395",
   "metadata": {},
   "source": [
    "## 5.8 MLP"
   ]
  },
  {
   "cell_type": "code",
   "execution_count": 312,
   "id": "8f320b1f",
   "metadata": {
    "ExecuteTime": {
     "end_time": "2022-03-17T18:19:10.918664Z",
     "start_time": "2022-03-17T18:19:07.966639Z"
    }
   },
   "outputs": [],
   "source": [
    "clf_mlp = MLPClassifier(max_iter=500).fit(X_train, y_train)\n",
    "y_hat_mlp = clf_mlp.predict(X_test)"
   ]
  },
  {
   "cell_type": "code",
   "execution_count": 313,
   "id": "c18d9937",
   "metadata": {
    "ExecuteTime": {
     "end_time": "2022-03-17T18:19:10.939115Z",
     "start_time": "2022-03-17T18:19:10.933776Z"
    },
    "scrolled": true
   },
   "outputs": [
    {
     "data": {
      "text/plain": [
       "0.4421052631578947"
      ]
     },
     "execution_count": 313,
     "metadata": {},
     "output_type": "execute_result"
    }
   ],
   "source": [
    "accuracy_score(y_test, y_hat_mlp)"
   ]
  },
  {
   "cell_type": "code",
   "execution_count": 314,
   "id": "c6612a3d",
   "metadata": {
    "ExecuteTime": {
     "end_time": "2022-03-17T18:19:11.151490Z",
     "start_time": "2022-03-17T18:19:10.940621Z"
    }
   },
   "outputs": [
    {
     "data": {
      "image/png": "[encoded data removed]",
      "text/plain": [
       "<Figure size 432x288 with 2 Axes>"
      ]
     },
     "metadata": {
      "needs_background": "light"
     },
     "output_type": "display_data"
    }
   ],
   "source": [
    "sns.heatmap(confusion_matrix(y_test, y_hat_mlp, normalize='true'), annot=True, );"
   ]
  },
  {
   "cell_type": "code",
   "execution_count": 315,
   "id": "369315de",
   "metadata": {
    "ExecuteTime": {
     "end_time": "2022-03-17T18:19:11.161068Z",
     "start_time": "2022-03-17T18:19:11.153544Z"
    }
   },
   "outputs": [
    {
     "name": "stdout",
     "output_type": "stream",
     "text": [
      "              precision    recall  f1-score   support\n",
      "\n",
      "           0       0.30      0.23      0.26       107\n",
      "           1       0.55      0.61      0.58       187\n",
      "           2       0.32      0.34      0.33        86\n",
      "\n",
      "    accuracy                           0.44       380\n",
      "   macro avg       0.39      0.39      0.39       380\n",
      "weighted avg       0.43      0.44      0.43       380\n",
      "\n"
     ]
    }
   ],
   "source": [
    "print(classification_report(y_test, y_hat_mlp))"
   ]
  },
  {
   "cell_type": "markdown",
   "id": "5c1dbbb5",
   "metadata": {},
   "source": [
    "# 6.0 Ensemble "
   ]
  },
  {
   "cell_type": "code",
   "execution_count": 320,
   "id": "cb93c048",
   "metadata": {
    "ExecuteTime": {
     "end_time": "2022-03-17T18:20:32.974580Z",
     "start_time": "2022-03-17T18:20:32.971972Z"
    }
   },
   "outputs": [],
   "source": [
    "import warnings\n",
    "warnings.filterwarnings(\"ignore\")"
   ]
  },
  {
   "cell_type": "code",
   "execution_count": 318,
   "id": "68ad6e89",
   "metadata": {
    "ExecuteTime": {
     "end_time": "2022-03-17T18:19:52.862517Z",
     "start_time": "2022-03-17T18:19:52.854925Z"
    }
   },
   "outputs": [],
   "source": [
    "eclf = VotingClassifier(estimators=[('logistic', clf_lg), ('xgb', clf_xgb), ('random_forest', clf_rf), ('naive_bayes', clf_gb), ('decision_tree', clf_dt), ('mlp', clf_mlp)], voting='hard')"
   ]
  },
  {
   "cell_type": "code",
   "execution_count": 321,
   "id": "26518993",
   "metadata": {
    "ExecuteTime": {
     "end_time": "2022-03-17T18:21:32.864328Z",
     "start_time": "2022-03-17T18:20:35.022280Z"
    }
   },
   "outputs": [
    {
     "name": "stdout",
     "output_type": "stream",
     "text": [
      "Accuracy: 0.44 (+/- 0.02) [logistic]\n",
      "[15:20:42] WARNING: ../src/learner.cc:1115: Starting in XGBoost 1.3.0, the default evaluation metric used with the objective 'multi:softprob' was changed from 'merror' to 'mlogloss'. Explicitly set eval_metric if you'd like to restore the old behavior.\n",
      "[15:20:50] WARNING: ../src/learner.cc:1115: Starting in XGBoost 1.3.0, the default evaluation metric used with the objective 'multi:softprob' was changed from 'merror' to 'mlogloss'. Explicitly set eval_metric if you'd like to restore the old behavior.\n",
      "[15:20:58] WARNING: ../src/learner.cc:1115: Starting in XGBoost 1.3.0, the default evaluation metric used with the objective 'multi:softprob' was changed from 'merror' to 'mlogloss'. Explicitly set eval_metric if you'd like to restore the old behavior.\n",
      "[15:21:06] WARNING: ../src/learner.cc:1115: Starting in XGBoost 1.3.0, the default evaluation metric used with the objective 'multi:softprob' was changed from 'merror' to 'mlogloss'. Explicitly set eval_metric if you'd like to restore the old behavior.\n",
      "[15:21:14] WARNING: ../src/learner.cc:1115: Starting in XGBoost 1.3.0, the default evaluation metric used with the objective 'multi:softprob' was changed from 'merror' to 'mlogloss'. Explicitly set eval_metric if you'd like to restore the old behavior.\n",
      "Accuracy: 0.49 (+/- 0.01) [xgb]\n",
      "Accuracy: 0.48 (+/- 0.02) [random_forest]\n",
      "Accuracy: 0.31 (+/- 0.04) [naive_bayes]\n",
      "Accuracy: 0.39 (+/- 0.02) [decision_tree]\n"
     ]
    }
   ],
   "source": [
    "for clf, label in zip([clf_lg, clf_xgb, clf_rf, clf_gb, clf_dt], ['logistic', 'xgb', 'random_forest', 'naive_bayes', 'decision_tree', 'mlp' ]):\n",
    "    scores = cross_val_score(clf, X, y, scoring='accuracy', cv=5)\n",
    "    print(\"Accuracy: %0.2f (+/- %0.2f) [%s]\" % (scores.mean(), scores.std(), label))"
   ]
  },
  {
   "cell_type": "code",
   "execution_count": 351,
   "id": "f7b6ae5a",
   "metadata": {
    "ExecuteTime": {
     "end_time": "2022-03-17T18:31:19.146395Z",
     "start_time": "2022-03-17T18:31:16.085446Z"
    }
   },
   "outputs": [],
   "source": [
    "eclf = VotingClassifier(estimators=[('mlp', clf_mlp), ('svm', clf_svc)], voting='hard').fit(X_train, y_train)"
   ]
  },
  {
   "cell_type": "code",
   "execution_count": 352,
   "id": "547ed177",
   "metadata": {
    "ExecuteTime": {
     "end_time": "2022-03-17T18:31:19.273337Z",
     "start_time": "2022-03-17T18:31:19.148257Z"
    }
   },
   "outputs": [],
   "source": [
    "y_hat_eclf = eclf.predict(X_test)"
   ]
  },
  {
   "cell_type": "code",
   "execution_count": 353,
   "id": "28650a33",
   "metadata": {
    "ExecuteTime": {
     "end_time": "2022-03-17T18:31:19.278809Z",
     "start_time": "2022-03-17T18:31:19.275049Z"
    },
    "scrolled": true
   },
   "outputs": [
    {
     "data": {
      "text/plain": [
       "0.4631578947368421"
      ]
     },
     "execution_count": 353,
     "metadata": {},
     "output_type": "execute_result"
    }
   ],
   "source": [
    "accuracy_score(y_test, y_hat_eclf)"
   ]
  },
  {
   "cell_type": "code",
   "execution_count": 354,
   "id": "05b25b6e",
   "metadata": {
    "ExecuteTime": {
     "end_time": "2022-03-17T18:31:19.467008Z",
     "start_time": "2022-03-17T18:31:19.283587Z"
    }
   },
   "outputs": [
    {
     "data": {
      "image/png": "[encoded data removed]",
      "text/plain": [
       "<Figure size 432x288 with 2 Axes>"
      ]
     },
     "metadata": {
      "needs_background": "light"
     },
     "output_type": "display_data"
    }
   ],
   "source": [
    "sns.heatmap(confusion_matrix(y_test, y_hat_eclf, normalize='true'), annot=True, );"
   ]
  },
  {
   "cell_type": "code",
   "execution_count": 355,
   "id": "4349e38c",
   "metadata": {
    "ExecuteTime": {
     "end_time": "2022-03-17T18:31:26.378527Z",
     "start_time": "2022-03-17T18:31:26.370455Z"
    }
   },
   "outputs": [
    {
     "name": "stdout",
     "output_type": "stream",
     "text": [
      "              precision    recall  f1-score   support\n",
      "\n",
      "           0       0.23      0.20      0.21       107\n",
      "           1       0.54      0.73      0.62       187\n",
      "           2       0.51      0.22      0.31        86\n",
      "\n",
      "    accuracy                           0.46       380\n",
      "   macro avg       0.43      0.38      0.38       380\n",
      "weighted avg       0.45      0.46      0.43       380\n",
      "\n"
     ]
    }
   ],
   "source": [
    "print(classification_report(y_test, y_hat_eclf))"
   ]
  },
  {
   "cell_type": "code",
   "execution_count": null,
   "id": "df9ad76c",
   "metadata": {},
   "outputs": [],
   "source": []
  }
 ],
 "metadata": {
  "kernelspec": {
   "display_name": "Python 3 (ipykernel)",
   "language": "python",
   "name": "python3"
  },
  "language_info": {
   "codemirror_mode": {
    "name": "ipython",
    "version": 3
   },
   "file_extension": ".py",
   "mimetype": "text/x-python",
   "name": "python",
   "nbconvert_exporter": "python",
   "pygments_lexer": "ipython3",
   "version": "3.9.7"
  }
 },
 "nbformat": 4,
 "nbformat_minor": 5
}
