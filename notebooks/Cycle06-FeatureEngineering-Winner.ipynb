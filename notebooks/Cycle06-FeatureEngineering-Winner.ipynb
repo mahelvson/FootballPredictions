{
 "cells": [
  {
   "cell_type": "markdown",
   "id": "648a4712",
   "metadata": {},
   "source": [
    "# 0. Imports "
   ]
  },
  {
   "cell_type": "code",
   "execution_count": 448,
   "id": "0b87f4ad",
   "metadata": {
    "ExecuteTime": {
     "end_time": "2022-03-17T22:49:30.596186Z",
     "start_time": "2022-03-17T22:49:30.589050Z"
    }
   },
   "outputs": [],
   "source": [
    "import pandas as pd\n",
    "import numpy as np\n",
    "import matplotlib.pyplot as plt\n",
    "import seaborn as sns\n",
    "import xgboost as xgb\n",
    "\n",
    "from os import listdir\n",
    "from sklearn.model_selection import train_test_split, cross_val_score\n",
    "from sklearn.metrics import confusion_matrix, accuracy_score, classification_report\n",
    "from sklearn.ensemble import RandomForestRegressor, RandomForestClassifier\n",
    "from sklearn.metrics import mean_absolute_error, mean_squared_error, mean_absolute_percentage_error\n",
    "from sklearn.linear_model import LogisticRegression\n",
    "from sklearn.preprocessing import LabelEncoder, StandardScaler\n",
    "from sklearn import svm, tree\n",
    "from sklearn.naive_bayes import GaussianNB\n",
    "from sklearn.linear_model import SGDClassifier\n",
    "from sklearn.ensemble import VotingClassifier\n",
    "from sklearn.neural_network import MLPClassifier\n",
    "\n",
    "from boruta import BorutaPy"
   ]
  },
  {
   "cell_type": "markdown",
   "id": "25b9bf7e",
   "metadata": {},
   "source": [
    "# 1. Loading Data "
   ]
  },
  {
   "cell_type": "code",
   "execution_count": 449,
   "id": "b9bc9da9",
   "metadata": {
    "ExecuteTime": {
     "end_time": "2022-03-17T22:49:30.603353Z",
     "start_time": "2022-03-17T22:49:30.598121Z"
    }
   },
   "outputs": [],
   "source": [
    "data_path = '../datasets/'\n",
    "files = listdir(data_path)"
   ]
  },
  {
   "cell_type": "code",
   "execution_count": 450,
   "id": "e40fc1d5",
   "metadata": {
    "ExecuteTime": {
     "end_time": "2022-03-17T22:49:30.608775Z",
     "start_time": "2022-03-17T22:49:30.605013Z"
    }
   },
   "outputs": [
    {
     "data": {
      "text/plain": [
       "['campeonato-brasileiro-cartoes.csv',\n",
       " 'campeonato-brasileiro-full.csv',\n",
       " 'campeonato-brasileiro-estatisticas-full.csv',\n",
       " 'campeonato-brasileiro-gols.csv',\n",
       " 'Legenda.txt']"
      ]
     },
     "execution_count": 450,
     "metadata": {},
     "output_type": "execute_result"
    }
   ],
   "source": [
    "files"
   ]
  },
  {
   "cell_type": "code",
   "execution_count": 451,
   "id": "71d0ac19",
   "metadata": {
    "ExecuteTime": {
     "end_time": "2022-03-17T22:49:30.613336Z",
     "start_time": "2022-03-17T22:49:30.611011Z"
    }
   },
   "outputs": [],
   "source": [
    "cards = files[0]\n",
    "full = files[1]\n",
    "stats = files[2]\n",
    "goals = files[3]"
   ]
  },
  {
   "cell_type": "markdown",
   "id": "402e3783",
   "metadata": {},
   "source": [
    "## 1.1 Cards"
   ]
  },
  {
   "cell_type": "code",
   "execution_count": 452,
   "id": "bad57e66",
   "metadata": {
    "ExecuteTime": {
     "end_time": "2022-03-17T22:49:30.644890Z",
     "start_time": "2022-03-17T22:49:30.614961Z"
    }
   },
   "outputs": [
    {
     "data": {
      "text/html": [
       "<div>\n",
       "<style scoped>\n",
       "    .dataframe tbody tr th:only-of-type {\n",
       "        vertical-align: middle;\n",
       "    }\n",
       "\n",
       "    .dataframe tbody tr th {\n",
       "        vertical-align: top;\n",
       "    }\n",
       "\n",
       "    .dataframe thead th {\n",
       "        text-align: right;\n",
       "    }\n",
       "</style>\n",
       "<table border=\"1\" class=\"dataframe\">\n",
       "  <thead>\n",
       "    <tr style=\"text-align: right;\">\n",
       "      <th></th>\n",
       "      <th>partida_id</th>\n",
       "      <th>rodada</th>\n",
       "      <th>clube</th>\n",
       "      <th>cartao</th>\n",
       "      <th>atleta</th>\n",
       "      <th>num_camisa</th>\n",
       "      <th>posicao</th>\n",
       "      <th>minuto</th>\n",
       "    </tr>\n",
       "  </thead>\n",
       "  <tbody>\n",
       "    <tr>\n",
       "      <th>0</th>\n",
       "      <td>4607</td>\n",
       "      <td>1</td>\n",
       "      <td>Figueirense</td>\n",
       "      <td>Amarelo</td>\n",
       "      <td>Thiago Heleno</td>\n",
       "      <td>4.0</td>\n",
       "      <td>Zagueiro</td>\n",
       "      <td>44</td>\n",
       "    </tr>\n",
       "    <tr>\n",
       "      <th>1</th>\n",
       "      <td>4607</td>\n",
       "      <td>1</td>\n",
       "      <td>Figueirense</td>\n",
       "      <td>Amarelo</td>\n",
       "      <td>Paulo Roberto da Silva</td>\n",
       "      <td>28.0</td>\n",
       "      <td>NaN</td>\n",
       "      <td>66</td>\n",
       "    </tr>\n",
       "    <tr>\n",
       "      <th>2</th>\n",
       "      <td>4608</td>\n",
       "      <td>1</td>\n",
       "      <td>Internacional</td>\n",
       "      <td>Amarelo</td>\n",
       "      <td>Juan Silveira dos Santos</td>\n",
       "      <td>4.0</td>\n",
       "      <td>Zagueiro</td>\n",
       "      <td>20</td>\n",
       "    </tr>\n",
       "    <tr>\n",
       "      <th>3</th>\n",
       "      <td>4608</td>\n",
       "      <td>1</td>\n",
       "      <td>Vitoria</td>\n",
       "      <td>Amarelo</td>\n",
       "      <td>Vinícius Santos Silva</td>\n",
       "      <td>NaN</td>\n",
       "      <td>NaN</td>\n",
       "      <td>82</td>\n",
       "    </tr>\n",
       "    <tr>\n",
       "      <th>4</th>\n",
       "      <td>4608</td>\n",
       "      <td>1</td>\n",
       "      <td>Internacional</td>\n",
       "      <td>Amarelo</td>\n",
       "      <td>Andrés D'Alessandro</td>\n",
       "      <td>10.0</td>\n",
       "      <td>Meio-campo</td>\n",
       "      <td>72</td>\n",
       "    </tr>\n",
       "  </tbody>\n",
       "</table>\n",
       "</div>"
      ],
      "text/plain": [
       "   partida_id  rodada          clube   cartao                    atleta  \\\n",
       "0        4607       1    Figueirense  Amarelo             Thiago Heleno   \n",
       "1        4607       1    Figueirense  Amarelo    Paulo Roberto da Silva   \n",
       "2        4608       1  Internacional  Amarelo  Juan Silveira dos Santos   \n",
       "3        4608       1        Vitoria  Amarelo     Vinícius Santos Silva   \n",
       "4        4608       1  Internacional  Amarelo       Andrés D'Alessandro   \n",
       "\n",
       "   num_camisa     posicao minuto  \n",
       "0         4.0    Zagueiro     44  \n",
       "1        28.0         NaN     66  \n",
       "2         4.0    Zagueiro     20  \n",
       "3         NaN         NaN     82  \n",
       "4        10.0  Meio-campo     72  "
      ]
     },
     "execution_count": 452,
     "metadata": {},
     "output_type": "execute_result"
    }
   ],
   "source": [
    "df_cards = pd.read_csv(data_path + cards)\n",
    "df_cards.head()"
   ]
  },
  {
   "cell_type": "code",
   "execution_count": 453,
   "id": "5451bc20",
   "metadata": {
    "ExecuteTime": {
     "end_time": "2022-03-17T22:49:30.661667Z",
     "start_time": "2022-03-17T22:49:30.646773Z"
    }
   },
   "outputs": [
    {
     "data": {
      "text/plain": [
       "partida_id    0.000000\n",
       "rodada        0.000000\n",
       "clube         0.000000\n",
       "cartao        0.000000\n",
       "atleta        0.000406\n",
       "num_camisa    0.026138\n",
       "posicao       0.081121\n",
       "minuto        0.000000\n",
       "dtype: float64"
      ]
     },
     "execution_count": 453,
     "metadata": {},
     "output_type": "execute_result"
    }
   ],
   "source": [
    "df_cards.isna().sum() / df_cards.shape[0]"
   ]
  },
  {
   "cell_type": "code",
   "execution_count": 454,
   "id": "06865881",
   "metadata": {
    "ExecuteTime": {
     "end_time": "2022-03-17T22:49:30.668375Z",
     "start_time": "2022-03-17T22:49:30.663195Z"
    }
   },
   "outputs": [
    {
     "data": {
      "text/plain": [
       "(14768, 8)"
      ]
     },
     "execution_count": 454,
     "metadata": {},
     "output_type": "execute_result"
    }
   ],
   "source": [
    "df_cards.shape"
   ]
  },
  {
   "cell_type": "code",
   "execution_count": 455,
   "id": "1573bdf7",
   "metadata": {
    "ExecuteTime": {
     "end_time": "2022-03-17T22:49:30.675404Z",
     "start_time": "2022-03-17T22:49:30.670941Z"
    }
   },
   "outputs": [
    {
     "data": {
      "text/plain": [
       "partida_id      int64\n",
       "rodada          int64\n",
       "clube          object\n",
       "cartao         object\n",
       "atleta         object\n",
       "num_camisa    float64\n",
       "posicao        object\n",
       "minuto         object\n",
       "dtype: object"
      ]
     },
     "execution_count": 455,
     "metadata": {},
     "output_type": "execute_result"
    }
   ],
   "source": [
    "df_cards.dtypes"
   ]
  },
  {
   "cell_type": "markdown",
   "id": "6b202bf5",
   "metadata": {},
   "source": [
    "Quantidade de NaN é no máximo 8% em relação ao total da registros."
   ]
  },
  {
   "cell_type": "markdown",
   "id": "773ebda2",
   "metadata": {},
   "source": [
    "## 1.2 Full"
   ]
  },
  {
   "cell_type": "code",
   "execution_count": 456,
   "id": "b0198203",
   "metadata": {
    "ExecuteTime": {
     "end_time": "2022-03-17T22:49:30.715733Z",
     "start_time": "2022-03-17T22:49:30.676870Z"
    }
   },
   "outputs": [
    {
     "data": {
      "text/html": [
       "<div>\n",
       "<style scoped>\n",
       "    .dataframe tbody tr th:only-of-type {\n",
       "        vertical-align: middle;\n",
       "    }\n",
       "\n",
       "    .dataframe tbody tr th {\n",
       "        vertical-align: top;\n",
       "    }\n",
       "\n",
       "    .dataframe thead th {\n",
       "        text-align: right;\n",
       "    }\n",
       "</style>\n",
       "<table border=\"1\" class=\"dataframe\">\n",
       "  <thead>\n",
       "    <tr style=\"text-align: right;\">\n",
       "      <th></th>\n",
       "      <th>ID</th>\n",
       "      <th>rodada</th>\n",
       "      <th>data</th>\n",
       "      <th>hora</th>\n",
       "      <th>dia</th>\n",
       "      <th>mandante</th>\n",
       "      <th>visitante</th>\n",
       "      <th>formacao_mandante</th>\n",
       "      <th>formacao_visitante</th>\n",
       "      <th>tecnico_mandante</th>\n",
       "      <th>tecnico_visitante</th>\n",
       "      <th>vencedor</th>\n",
       "      <th>arena</th>\n",
       "      <th>mandante_placar</th>\n",
       "      <th>visitante_placar</th>\n",
       "      <th>mandante_estado</th>\n",
       "      <th>visitante_estado</th>\n",
       "      <th>estado_vencedor</th>\n",
       "    </tr>\n",
       "  </thead>\n",
       "  <tbody>\n",
       "    <tr>\n",
       "      <th>0</th>\n",
       "      <td>1</td>\n",
       "      <td>1</td>\n",
       "      <td>2003-03-29</td>\n",
       "      <td>16:00</td>\n",
       "      <td>Sabado</td>\n",
       "      <td>Guarani</td>\n",
       "      <td>Vasco</td>\n",
       "      <td>NaN</td>\n",
       "      <td>NaN</td>\n",
       "      <td>NaN</td>\n",
       "      <td>NaN</td>\n",
       "      <td>Guarani</td>\n",
       "      <td>brinco de ouro</td>\n",
       "      <td>4</td>\n",
       "      <td>2</td>\n",
       "      <td>SP</td>\n",
       "      <td>RJ</td>\n",
       "      <td>SP</td>\n",
       "    </tr>\n",
       "    <tr>\n",
       "      <th>1</th>\n",
       "      <td>2</td>\n",
       "      <td>1</td>\n",
       "      <td>2003-03-29</td>\n",
       "      <td>16:00</td>\n",
       "      <td>Sabado</td>\n",
       "      <td>Athletico-PR</td>\n",
       "      <td>Gremio</td>\n",
       "      <td>NaN</td>\n",
       "      <td>NaN</td>\n",
       "      <td>NaN</td>\n",
       "      <td>NaN</td>\n",
       "      <td>Athletico-PR</td>\n",
       "      <td>arena da baixada</td>\n",
       "      <td>2</td>\n",
       "      <td>0</td>\n",
       "      <td>PR</td>\n",
       "      <td>RS</td>\n",
       "      <td>PR</td>\n",
       "    </tr>\n",
       "    <tr>\n",
       "      <th>2</th>\n",
       "      <td>3</td>\n",
       "      <td>1</td>\n",
       "      <td>2003-03-30</td>\n",
       "      <td>16:00</td>\n",
       "      <td>Domingo</td>\n",
       "      <td>Flamengo</td>\n",
       "      <td>Coritiba</td>\n",
       "      <td>NaN</td>\n",
       "      <td>NaN</td>\n",
       "      <td>NaN</td>\n",
       "      <td>NaN</td>\n",
       "      <td>-</td>\n",
       "      <td>maracana</td>\n",
       "      <td>1</td>\n",
       "      <td>1</td>\n",
       "      <td>RJ</td>\n",
       "      <td>PR</td>\n",
       "      <td>-</td>\n",
       "    </tr>\n",
       "    <tr>\n",
       "      <th>3</th>\n",
       "      <td>4</td>\n",
       "      <td>1</td>\n",
       "      <td>2003-03-30</td>\n",
       "      <td>16:00</td>\n",
       "      <td>Domingo</td>\n",
       "      <td>Goias</td>\n",
       "      <td>Paysandu</td>\n",
       "      <td>NaN</td>\n",
       "      <td>NaN</td>\n",
       "      <td>NaN</td>\n",
       "      <td>NaN</td>\n",
       "      <td>-</td>\n",
       "      <td>serra dourada</td>\n",
       "      <td>2</td>\n",
       "      <td>2</td>\n",
       "      <td>GO</td>\n",
       "      <td>PA</td>\n",
       "      <td>-</td>\n",
       "    </tr>\n",
       "    <tr>\n",
       "      <th>4</th>\n",
       "      <td>5</td>\n",
       "      <td>1</td>\n",
       "      <td>2003-03-30</td>\n",
       "      <td>16:00</td>\n",
       "      <td>Domingo</td>\n",
       "      <td>Internacional</td>\n",
       "      <td>Ponte Preta</td>\n",
       "      <td>NaN</td>\n",
       "      <td>NaN</td>\n",
       "      <td>NaN</td>\n",
       "      <td>NaN</td>\n",
       "      <td>-</td>\n",
       "      <td>beira rio</td>\n",
       "      <td>1</td>\n",
       "      <td>1</td>\n",
       "      <td>RS</td>\n",
       "      <td>SP</td>\n",
       "      <td>-</td>\n",
       "    </tr>\n",
       "    <tr>\n",
       "      <th>...</th>\n",
       "      <td>...</td>\n",
       "      <td>...</td>\n",
       "      <td>...</td>\n",
       "      <td>...</td>\n",
       "      <td>...</td>\n",
       "      <td>...</td>\n",
       "      <td>...</td>\n",
       "      <td>...</td>\n",
       "      <td>...</td>\n",
       "      <td>...</td>\n",
       "      <td>...</td>\n",
       "      <td>...</td>\n",
       "      <td>...</td>\n",
       "      <td>...</td>\n",
       "      <td>...</td>\n",
       "      <td>...</td>\n",
       "      <td>...</td>\n",
       "      <td>...</td>\n",
       "    </tr>\n",
       "    <tr>\n",
       "      <th>7640</th>\n",
       "      <td>7641</td>\n",
       "      <td>38</td>\n",
       "      <td>2021-12-12</td>\n",
       "      <td>21:33</td>\n",
       "      <td>Domingo</td>\n",
       "      <td>Bragantino</td>\n",
       "      <td>Internacional</td>\n",
       "      <td>4-2-3-1</td>\n",
       "      <td>3-4-2-1</td>\n",
       "      <td>D. Aguirre Camblor</td>\n",
       "      <td>D. Aguirre Camblor</td>\n",
       "      <td>Bragantino</td>\n",
       "      <td>nabizao</td>\n",
       "      <td>1</td>\n",
       "      <td>0</td>\n",
       "      <td>SP</td>\n",
       "      <td>RS</td>\n",
       "      <td>SP</td>\n",
       "    </tr>\n",
       "    <tr>\n",
       "      <th>7641</th>\n",
       "      <td>7642</td>\n",
       "      <td>38</td>\n",
       "      <td>2021-12-12</td>\n",
       "      <td>21:30</td>\n",
       "      <td>Domingo</td>\n",
       "      <td>Sport</td>\n",
       "      <td>Athletico-PR</td>\n",
       "      <td>4-2-3-1</td>\n",
       "      <td>3-4-2-1</td>\n",
       "      <td>J. Freitas</td>\n",
       "      <td>J. Freitas</td>\n",
       "      <td>-</td>\n",
       "      <td>arena de pernambuco</td>\n",
       "      <td>1</td>\n",
       "      <td>1</td>\n",
       "      <td>PE</td>\n",
       "      <td>PR</td>\n",
       "      <td>-</td>\n",
       "    </tr>\n",
       "    <tr>\n",
       "      <th>7642</th>\n",
       "      <td>7643</td>\n",
       "      <td>38</td>\n",
       "      <td>2021-12-12</td>\n",
       "      <td>21:33</td>\n",
       "      <td>Domingo</td>\n",
       "      <td>Juventude</td>\n",
       "      <td>Corinthians</td>\n",
       "      <td>3-4-3</td>\n",
       "      <td>4-3-3</td>\n",
       "      <td>S. Campos Junior</td>\n",
       "      <td>S. Campos Junior</td>\n",
       "      <td>Juventude</td>\n",
       "      <td>alfredo jaconi</td>\n",
       "      <td>1</td>\n",
       "      <td>0</td>\n",
       "      <td>RS</td>\n",
       "      <td>SP</td>\n",
       "      <td>RS</td>\n",
       "    </tr>\n",
       "    <tr>\n",
       "      <th>7643</th>\n",
       "      <td>7644</td>\n",
       "      <td>38</td>\n",
       "      <td>2021-12-12</td>\n",
       "      <td>21:33</td>\n",
       "      <td>Domingo</td>\n",
       "      <td>Gremio</td>\n",
       "      <td>Atletico-MG</td>\n",
       "      <td>4-2-3-1</td>\n",
       "      <td>4-2-3-1</td>\n",
       "      <td>A. Stival</td>\n",
       "      <td>A. Stival</td>\n",
       "      <td>Gremio</td>\n",
       "      <td>arena do gremio</td>\n",
       "      <td>4</td>\n",
       "      <td>3</td>\n",
       "      <td>RS</td>\n",
       "      <td>MG</td>\n",
       "      <td>RS</td>\n",
       "    </tr>\n",
       "    <tr>\n",
       "      <th>7644</th>\n",
       "      <td>7645</td>\n",
       "      <td>38</td>\n",
       "      <td>2021-12-12</td>\n",
       "      <td>21:33</td>\n",
       "      <td>Domingo</td>\n",
       "      <td>Santos</td>\n",
       "      <td>Cuiaba</td>\n",
       "      <td>3-4-2-1</td>\n",
       "      <td>4-4-2</td>\n",
       "      <td>J. de Amorim Campos</td>\n",
       "      <td>J. de Amorim Campos</td>\n",
       "      <td>-</td>\n",
       "      <td>estadio urbano caldeira</td>\n",
       "      <td>1</td>\n",
       "      <td>1</td>\n",
       "      <td>SP</td>\n",
       "      <td>MT</td>\n",
       "      <td>-</td>\n",
       "    </tr>\n",
       "  </tbody>\n",
       "</table>\n",
       "<p>7645 rows × 18 columns</p>\n",
       "</div>"
      ],
      "text/plain": [
       "        ID  rodada        data   hora      dia       mandante      visitante  \\\n",
       "0        1       1  2003-03-29  16:00   Sabado        Guarani          Vasco   \n",
       "1        2       1  2003-03-29  16:00   Sabado   Athletico-PR         Gremio   \n",
       "2        3       1  2003-03-30  16:00  Domingo       Flamengo       Coritiba   \n",
       "3        4       1  2003-03-30  16:00  Domingo          Goias       Paysandu   \n",
       "4        5       1  2003-03-30  16:00  Domingo  Internacional    Ponte Preta   \n",
       "...    ...     ...         ...    ...      ...            ...            ...   \n",
       "7640  7641      38  2021-12-12  21:33  Domingo     Bragantino  Internacional   \n",
       "7641  7642      38  2021-12-12  21:30  Domingo          Sport   Athletico-PR   \n",
       "7642  7643      38  2021-12-12  21:33  Domingo      Juventude    Corinthians   \n",
       "7643  7644      38  2021-12-12  21:33  Domingo         Gremio    Atletico-MG   \n",
       "7644  7645      38  2021-12-12  21:33  Domingo         Santos         Cuiaba   \n",
       "\n",
       "     formacao_mandante formacao_visitante     tecnico_mandante  \\\n",
       "0                  NaN                NaN                  NaN   \n",
       "1                  NaN                NaN                  NaN   \n",
       "2                  NaN                NaN                  NaN   \n",
       "3                  NaN                NaN                  NaN   \n",
       "4                  NaN                NaN                  NaN   \n",
       "...                ...                ...                  ...   \n",
       "7640           4-2-3-1            3-4-2-1   D. Aguirre Camblor   \n",
       "7641           4-2-3-1            3-4-2-1           J. Freitas   \n",
       "7642             3-4-3              4-3-3     S. Campos Junior   \n",
       "7643           4-2-3-1            4-2-3-1            A. Stival   \n",
       "7644           3-4-2-1              4-4-2  J. de Amorim Campos   \n",
       "\n",
       "        tecnico_visitante      vencedor                    arena  \\\n",
       "0                     NaN       Guarani           brinco de ouro   \n",
       "1                     NaN  Athletico-PR         arena da baixada   \n",
       "2                     NaN             -                 maracana   \n",
       "3                     NaN             -            serra dourada   \n",
       "4                     NaN             -                beira rio   \n",
       "...                   ...           ...                      ...   \n",
       "7640   D. Aguirre Camblor    Bragantino                  nabizao   \n",
       "7641           J. Freitas             -      arena de pernambuco   \n",
       "7642     S. Campos Junior     Juventude           alfredo jaconi   \n",
       "7643            A. Stival        Gremio          arena do gremio   \n",
       "7644  J. de Amorim Campos             -  estadio urbano caldeira   \n",
       "\n",
       "      mandante_placar  visitante_placar mandante_estado visitante_estado  \\\n",
       "0                   4                 2              SP               RJ   \n",
       "1                   2                 0              PR               RS   \n",
       "2                   1                 1              RJ               PR   \n",
       "3                   2                 2              GO               PA   \n",
       "4                   1                 1              RS               SP   \n",
       "...               ...               ...             ...              ...   \n",
       "7640                1                 0              SP               RS   \n",
       "7641                1                 1              PE               PR   \n",
       "7642                1                 0              RS               SP   \n",
       "7643                4                 3              RS               MG   \n",
       "7644                1                 1              SP               MT   \n",
       "\n",
       "     estado_vencedor  \n",
       "0                 SP  \n",
       "1                 PR  \n",
       "2                  -  \n",
       "3                  -  \n",
       "4                  -  \n",
       "...              ...  \n",
       "7640              SP  \n",
       "7641               -  \n",
       "7642              RS  \n",
       "7643              RS  \n",
       "7644               -  \n",
       "\n",
       "[7645 rows x 18 columns]"
      ]
     },
     "execution_count": 456,
     "metadata": {},
     "output_type": "execute_result"
    }
   ],
   "source": [
    "df_full = pd.read_csv(data_path + full)\n",
    "df_full"
   ]
  },
  {
   "cell_type": "code",
   "execution_count": 457,
   "id": "2cca1f49",
   "metadata": {
    "ExecuteTime": {
     "end_time": "2022-03-17T22:49:30.721376Z",
     "start_time": "2022-03-17T22:49:30.717644Z"
    }
   },
   "outputs": [
    {
     "data": {
      "text/plain": [
       "(7645, 18)"
      ]
     },
     "execution_count": 457,
     "metadata": {},
     "output_type": "execute_result"
    }
   ],
   "source": [
    "df_full.shape"
   ]
  },
  {
   "cell_type": "code",
   "execution_count": 458,
   "id": "317aff8e",
   "metadata": {
    "ExecuteTime": {
     "end_time": "2022-03-17T22:49:30.742495Z",
     "start_time": "2022-03-17T22:49:30.722977Z"
    }
   },
   "outputs": [
    {
     "name": "stdout",
     "output_type": "stream",
     "text": [
      "% of NaN\n"
     ]
    },
    {
     "data": {
      "text/plain": [
       "ID                    0.000000\n",
       "rodada                0.000000\n",
       "data                  0.000000\n",
       "hora                  0.000000\n",
       "dia                   0.000000\n",
       "mandante              0.000000\n",
       "visitante             0.000000\n",
       "formacao_mandante     0.650621\n",
       "formacao_visitante    0.650621\n",
       "tecnico_mandante      0.603009\n",
       "tecnico_visitante     0.603009\n",
       "vencedor              0.000000\n",
       "arena                 0.000000\n",
       "mandante_placar       0.000000\n",
       "visitante_placar      0.000000\n",
       "mandante_estado       0.000000\n",
       "visitante_estado      0.000000\n",
       "estado_vencedor       0.000000\n",
       "dtype: float64"
      ]
     },
     "execution_count": 458,
     "metadata": {},
     "output_type": "execute_result"
    }
   ],
   "source": [
    "print('% of NaN')\n",
    "df_full.isna().sum()/df_full.shape[0]"
   ]
  },
  {
   "cell_type": "code",
   "execution_count": 459,
   "id": "80934ad7",
   "metadata": {
    "ExecuteTime": {
     "end_time": "2022-03-17T22:49:30.751819Z",
     "start_time": "2022-03-17T22:49:30.744168Z"
    }
   },
   "outputs": [
    {
     "data": {
      "text/plain": [
       "ID                     int64\n",
       "rodada                 int64\n",
       "data                  object\n",
       "hora                  object\n",
       "dia                   object\n",
       "mandante              object\n",
       "visitante             object\n",
       "formacao_mandante     object\n",
       "formacao_visitante    object\n",
       "tecnico_mandante      object\n",
       "tecnico_visitante     object\n",
       "vencedor              object\n",
       "arena                 object\n",
       "mandante_placar        int64\n",
       "visitante_placar       int64\n",
       "mandante_estado       object\n",
       "visitante_estado      object\n",
       "estado_vencedor       object\n",
       "dtype: object"
      ]
     },
     "execution_count": 459,
     "metadata": {},
     "output_type": "execute_result"
    }
   ],
   "source": [
    "df_full.dtypes"
   ]
  },
  {
   "cell_type": "code",
   "execution_count": 460,
   "id": "89763785",
   "metadata": {
    "ExecuteTime": {
     "end_time": "2022-03-17T22:49:30.760386Z",
     "start_time": "2022-03-17T22:49:30.753722Z"
    }
   },
   "outputs": [],
   "source": [
    "df_full['data'] = pd.to_datetime(df_full.data, yearfirst=True)"
   ]
  },
  {
   "cell_type": "code",
   "execution_count": 461,
   "id": "737531d2",
   "metadata": {
    "ExecuteTime": {
     "end_time": "2022-03-17T22:49:30.776077Z",
     "start_time": "2022-03-17T22:49:30.761974Z"
    }
   },
   "outputs": [
    {
     "data": {
      "text/html": [
       "<div>\n",
       "<style scoped>\n",
       "    .dataframe tbody tr th:only-of-type {\n",
       "        vertical-align: middle;\n",
       "    }\n",
       "\n",
       "    .dataframe tbody tr th {\n",
       "        vertical-align: top;\n",
       "    }\n",
       "\n",
       "    .dataframe thead th {\n",
       "        text-align: right;\n",
       "    }\n",
       "</style>\n",
       "<table border=\"1\" class=\"dataframe\">\n",
       "  <thead>\n",
       "    <tr style=\"text-align: right;\">\n",
       "      <th></th>\n",
       "      <th>ID</th>\n",
       "      <th>rodada</th>\n",
       "      <th>data</th>\n",
       "      <th>hora</th>\n",
       "      <th>dia</th>\n",
       "      <th>mandante</th>\n",
       "      <th>visitante</th>\n",
       "      <th>formacao_mandante</th>\n",
       "      <th>formacao_visitante</th>\n",
       "      <th>tecnico_mandante</th>\n",
       "      <th>tecnico_visitante</th>\n",
       "      <th>vencedor</th>\n",
       "      <th>arena</th>\n",
       "      <th>mandante_placar</th>\n",
       "      <th>visitante_placar</th>\n",
       "      <th>mandante_estado</th>\n",
       "      <th>visitante_estado</th>\n",
       "      <th>estado_vencedor</th>\n",
       "    </tr>\n",
       "  </thead>\n",
       "  <tbody>\n",
       "    <tr>\n",
       "      <th>0</th>\n",
       "      <td>1</td>\n",
       "      <td>1</td>\n",
       "      <td>2003-03-29</td>\n",
       "      <td>16:00</td>\n",
       "      <td>Sabado</td>\n",
       "      <td>Guarani</td>\n",
       "      <td>Vasco</td>\n",
       "      <td>NaN</td>\n",
       "      <td>NaN</td>\n",
       "      <td>NaN</td>\n",
       "      <td>NaN</td>\n",
       "      <td>Guarani</td>\n",
       "      <td>brinco de ouro</td>\n",
       "      <td>4</td>\n",
       "      <td>2</td>\n",
       "      <td>SP</td>\n",
       "      <td>RJ</td>\n",
       "      <td>SP</td>\n",
       "    </tr>\n",
       "    <tr>\n",
       "      <th>1</th>\n",
       "      <td>2</td>\n",
       "      <td>1</td>\n",
       "      <td>2003-03-29</td>\n",
       "      <td>16:00</td>\n",
       "      <td>Sabado</td>\n",
       "      <td>Athletico-PR</td>\n",
       "      <td>Gremio</td>\n",
       "      <td>NaN</td>\n",
       "      <td>NaN</td>\n",
       "      <td>NaN</td>\n",
       "      <td>NaN</td>\n",
       "      <td>Athletico-PR</td>\n",
       "      <td>arena da baixada</td>\n",
       "      <td>2</td>\n",
       "      <td>0</td>\n",
       "      <td>PR</td>\n",
       "      <td>RS</td>\n",
       "      <td>PR</td>\n",
       "    </tr>\n",
       "    <tr>\n",
       "      <th>2</th>\n",
       "      <td>3</td>\n",
       "      <td>1</td>\n",
       "      <td>2003-03-30</td>\n",
       "      <td>16:00</td>\n",
       "      <td>Domingo</td>\n",
       "      <td>Flamengo</td>\n",
       "      <td>Coritiba</td>\n",
       "      <td>NaN</td>\n",
       "      <td>NaN</td>\n",
       "      <td>NaN</td>\n",
       "      <td>NaN</td>\n",
       "      <td>-</td>\n",
       "      <td>maracana</td>\n",
       "      <td>1</td>\n",
       "      <td>1</td>\n",
       "      <td>RJ</td>\n",
       "      <td>PR</td>\n",
       "      <td>-</td>\n",
       "    </tr>\n",
       "    <tr>\n",
       "      <th>3</th>\n",
       "      <td>4</td>\n",
       "      <td>1</td>\n",
       "      <td>2003-03-30</td>\n",
       "      <td>16:00</td>\n",
       "      <td>Domingo</td>\n",
       "      <td>Goias</td>\n",
       "      <td>Paysandu</td>\n",
       "      <td>NaN</td>\n",
       "      <td>NaN</td>\n",
       "      <td>NaN</td>\n",
       "      <td>NaN</td>\n",
       "      <td>-</td>\n",
       "      <td>serra dourada</td>\n",
       "      <td>2</td>\n",
       "      <td>2</td>\n",
       "      <td>GO</td>\n",
       "      <td>PA</td>\n",
       "      <td>-</td>\n",
       "    </tr>\n",
       "    <tr>\n",
       "      <th>4</th>\n",
       "      <td>5</td>\n",
       "      <td>1</td>\n",
       "      <td>2003-03-30</td>\n",
       "      <td>16:00</td>\n",
       "      <td>Domingo</td>\n",
       "      <td>Internacional</td>\n",
       "      <td>Ponte Preta</td>\n",
       "      <td>NaN</td>\n",
       "      <td>NaN</td>\n",
       "      <td>NaN</td>\n",
       "      <td>NaN</td>\n",
       "      <td>-</td>\n",
       "      <td>beira rio</td>\n",
       "      <td>1</td>\n",
       "      <td>1</td>\n",
       "      <td>RS</td>\n",
       "      <td>SP</td>\n",
       "      <td>-</td>\n",
       "    </tr>\n",
       "  </tbody>\n",
       "</table>\n",
       "</div>"
      ],
      "text/plain": [
       "   ID  rodada       data   hora      dia       mandante    visitante  \\\n",
       "0   1       1 2003-03-29  16:00   Sabado        Guarani        Vasco   \n",
       "1   2       1 2003-03-29  16:00   Sabado   Athletico-PR       Gremio   \n",
       "2   3       1 2003-03-30  16:00  Domingo       Flamengo     Coritiba   \n",
       "3   4       1 2003-03-30  16:00  Domingo          Goias     Paysandu   \n",
       "4   5       1 2003-03-30  16:00  Domingo  Internacional  Ponte Preta   \n",
       "\n",
       "  formacao_mandante formacao_visitante tecnico_mandante tecnico_visitante  \\\n",
       "0               NaN                NaN              NaN               NaN   \n",
       "1               NaN                NaN              NaN               NaN   \n",
       "2               NaN                NaN              NaN               NaN   \n",
       "3               NaN                NaN              NaN               NaN   \n",
       "4               NaN                NaN              NaN               NaN   \n",
       "\n",
       "       vencedor             arena  mandante_placar  visitante_placar  \\\n",
       "0       Guarani    brinco de ouro                4                 2   \n",
       "1  Athletico-PR  arena da baixada                2                 0   \n",
       "2             -          maracana                1                 1   \n",
       "3             -     serra dourada                2                 2   \n",
       "4             -         beira rio                1                 1   \n",
       "\n",
       "  mandante_estado visitante_estado estado_vencedor  \n",
       "0              SP               RJ              SP  \n",
       "1              PR               RS              PR  \n",
       "2              RJ               PR               -  \n",
       "3              GO               PA               -  \n",
       "4              RS               SP               -  "
      ]
     },
     "execution_count": 461,
     "metadata": {},
     "output_type": "execute_result"
    }
   ],
   "source": [
    "df_full.head()"
   ]
  },
  {
   "cell_type": "code",
   "execution_count": 462,
   "id": "4aec6685",
   "metadata": {
    "ExecuteTime": {
     "end_time": "2022-03-17T22:49:30.786251Z",
     "start_time": "2022-03-17T22:49:30.777628Z"
    }
   },
   "outputs": [
    {
     "data": {
      "text/plain": [
       "ID                             int64\n",
       "rodada                         int64\n",
       "data                  datetime64[ns]\n",
       "hora                          object\n",
       "dia                           object\n",
       "mandante                      object\n",
       "visitante                     object\n",
       "formacao_mandante             object\n",
       "formacao_visitante            object\n",
       "tecnico_mandante              object\n",
       "tecnico_visitante             object\n",
       "vencedor                      object\n",
       "arena                         object\n",
       "mandante_placar                int64\n",
       "visitante_placar               int64\n",
       "mandante_estado               object\n",
       "visitante_estado              object\n",
       "estado_vencedor               object\n",
       "dtype: object"
      ]
     },
     "execution_count": 462,
     "metadata": {},
     "output_type": "execute_result"
    }
   ],
   "source": [
    "df_full.dtypes"
   ]
  },
  {
   "cell_type": "markdown",
   "id": "ae364e6d",
   "metadata": {},
   "source": [
    "## 1.3 Stats "
   ]
  },
  {
   "cell_type": "code",
   "execution_count": 463,
   "id": "e1306a2d",
   "metadata": {
    "ExecuteTime": {
     "end_time": "2022-03-17T22:49:30.815873Z",
     "start_time": "2022-03-17T22:49:30.787797Z"
    }
   },
   "outputs": [
    {
     "data": {
      "text/html": [
       "<div>\n",
       "<style scoped>\n",
       "    .dataframe tbody tr th:only-of-type {\n",
       "        vertical-align: middle;\n",
       "    }\n",
       "\n",
       "    .dataframe tbody tr th {\n",
       "        vertical-align: top;\n",
       "    }\n",
       "\n",
       "    .dataframe thead th {\n",
       "        text-align: right;\n",
       "    }\n",
       "</style>\n",
       "<table border=\"1\" class=\"dataframe\">\n",
       "  <thead>\n",
       "    <tr style=\"text-align: right;\">\n",
       "      <th></th>\n",
       "      <th>partida_id</th>\n",
       "      <th>rodada</th>\n",
       "      <th>clube</th>\n",
       "      <th>chutes</th>\n",
       "      <th>chutes_no_alvo</th>\n",
       "      <th>posse_de_bola</th>\n",
       "      <th>passes</th>\n",
       "      <th>precisao_passes</th>\n",
       "      <th>faltas</th>\n",
       "      <th>cartao_amarelo</th>\n",
       "      <th>cartao_vermelho</th>\n",
       "      <th>impedimentos</th>\n",
       "      <th>escanteios</th>\n",
       "    </tr>\n",
       "  </thead>\n",
       "  <tbody>\n",
       "    <tr>\n",
       "      <th>0</th>\n",
       "      <td>1</td>\n",
       "      <td>1</td>\n",
       "      <td>Guarani</td>\n",
       "      <td>0</td>\n",
       "      <td>0</td>\n",
       "      <td>NaN</td>\n",
       "      <td>0</td>\n",
       "      <td>NaN</td>\n",
       "      <td>0</td>\n",
       "      <td>0</td>\n",
       "      <td>0</td>\n",
       "      <td>0</td>\n",
       "      <td>0</td>\n",
       "    </tr>\n",
       "    <tr>\n",
       "      <th>1</th>\n",
       "      <td>1</td>\n",
       "      <td>1</td>\n",
       "      <td>Vasco</td>\n",
       "      <td>0</td>\n",
       "      <td>0</td>\n",
       "      <td>NaN</td>\n",
       "      <td>0</td>\n",
       "      <td>NaN</td>\n",
       "      <td>0</td>\n",
       "      <td>0</td>\n",
       "      <td>0</td>\n",
       "      <td>0</td>\n",
       "      <td>0</td>\n",
       "    </tr>\n",
       "    <tr>\n",
       "      <th>2</th>\n",
       "      <td>2</td>\n",
       "      <td>1</td>\n",
       "      <td>Athletico-PR</td>\n",
       "      <td>0</td>\n",
       "      <td>0</td>\n",
       "      <td>NaN</td>\n",
       "      <td>0</td>\n",
       "      <td>NaN</td>\n",
       "      <td>0</td>\n",
       "      <td>0</td>\n",
       "      <td>0</td>\n",
       "      <td>0</td>\n",
       "      <td>0</td>\n",
       "    </tr>\n",
       "    <tr>\n",
       "      <th>3</th>\n",
       "      <td>2</td>\n",
       "      <td>1</td>\n",
       "      <td>Gremio</td>\n",
       "      <td>0</td>\n",
       "      <td>0</td>\n",
       "      <td>NaN</td>\n",
       "      <td>0</td>\n",
       "      <td>NaN</td>\n",
       "      <td>0</td>\n",
       "      <td>0</td>\n",
       "      <td>0</td>\n",
       "      <td>0</td>\n",
       "      <td>0</td>\n",
       "    </tr>\n",
       "    <tr>\n",
       "      <th>4</th>\n",
       "      <td>3</td>\n",
       "      <td>1</td>\n",
       "      <td>Flamengo</td>\n",
       "      <td>0</td>\n",
       "      <td>0</td>\n",
       "      <td>NaN</td>\n",
       "      <td>0</td>\n",
       "      <td>NaN</td>\n",
       "      <td>0</td>\n",
       "      <td>0</td>\n",
       "      <td>0</td>\n",
       "      <td>0</td>\n",
       "      <td>0</td>\n",
       "    </tr>\n",
       "  </tbody>\n",
       "</table>\n",
       "</div>"
      ],
      "text/plain": [
       "   partida_id  rodada         clube  chutes  chutes_no_alvo posse_de_bola  \\\n",
       "0           1       1       Guarani       0               0           NaN   \n",
       "1           1       1         Vasco       0               0           NaN   \n",
       "2           2       1  Athletico-PR       0               0           NaN   \n",
       "3           2       1        Gremio       0               0           NaN   \n",
       "4           3       1      Flamengo       0               0           NaN   \n",
       "\n",
       "   passes precisao_passes  faltas  cartao_amarelo  cartao_vermelho  \\\n",
       "0       0             NaN       0               0                0   \n",
       "1       0             NaN       0               0                0   \n",
       "2       0             NaN       0               0                0   \n",
       "3       0             NaN       0               0                0   \n",
       "4       0             NaN       0               0                0   \n",
       "\n",
       "   impedimentos  escanteios  \n",
       "0             0           0  \n",
       "1             0           0  \n",
       "2             0           0  \n",
       "3             0           0  \n",
       "4             0           0  "
      ]
     },
     "execution_count": 463,
     "metadata": {},
     "output_type": "execute_result"
    }
   ],
   "source": [
    "df_stats = pd.read_csv(data_path + stats)\n",
    "df_stats.head()"
   ]
  },
  {
   "cell_type": "code",
   "execution_count": 464,
   "id": "eabf6995",
   "metadata": {
    "ExecuteTime": {
     "end_time": "2022-03-17T22:49:30.821471Z",
     "start_time": "2022-03-17T22:49:30.817858Z"
    }
   },
   "outputs": [
    {
     "data": {
      "text/plain": [
       "(15290, 13)"
      ]
     },
     "execution_count": 464,
     "metadata": {},
     "output_type": "execute_result"
    }
   ],
   "source": [
    "df_stats.shape"
   ]
  },
  {
   "cell_type": "code",
   "execution_count": 465,
   "id": "958b80b5",
   "metadata": {
    "ExecuteTime": {
     "end_time": "2022-03-17T22:49:30.837804Z",
     "start_time": "2022-03-17T22:49:30.823083Z"
    }
   },
   "outputs": [
    {
     "name": "stdout",
     "output_type": "stream",
     "text": [
      "% of NaN\n"
     ]
    },
    {
     "data": {
      "text/plain": [
       "partida_id         0.000000\n",
       "rodada             0.000000\n",
       "clube              0.000000\n",
       "chutes             0.000000\n",
       "chutes_no_alvo     0.000000\n",
       "posse_de_bola      0.602485\n",
       "passes             0.000000\n",
       "precisao_passes    0.602485\n",
       "faltas             0.000000\n",
       "cartao_amarelo     0.000000\n",
       "cartao_vermelho    0.000000\n",
       "impedimentos       0.000000\n",
       "escanteios         0.000000\n",
       "dtype: float64"
      ]
     },
     "execution_count": 465,
     "metadata": {},
     "output_type": "execute_result"
    }
   ],
   "source": [
    "print('% of NaN')\n",
    "df_stats.isna().sum()/df_stats.shape[0]"
   ]
  },
  {
   "cell_type": "code",
   "execution_count": 466,
   "id": "88de0063",
   "metadata": {
    "ExecuteTime": {
     "end_time": "2022-03-17T22:49:30.846208Z",
     "start_time": "2022-03-17T22:49:30.841365Z"
    }
   },
   "outputs": [
    {
     "data": {
      "text/plain": [
       "partida_id          int64\n",
       "rodada              int64\n",
       "clube              object\n",
       "chutes              int64\n",
       "chutes_no_alvo      int64\n",
       "posse_de_bola      object\n",
       "passes              int64\n",
       "precisao_passes    object\n",
       "faltas              int64\n",
       "cartao_amarelo      int64\n",
       "cartao_vermelho     int64\n",
       "impedimentos        int64\n",
       "escanteios          int64\n",
       "dtype: object"
      ]
     },
     "execution_count": 466,
     "metadata": {},
     "output_type": "execute_result"
    }
   ],
   "source": [
    "df_stats.dtypes"
   ]
  },
  {
   "cell_type": "code",
   "execution_count": 467,
   "id": "8b14c171",
   "metadata": {
    "ExecuteTime": {
     "end_time": "2022-03-17T22:49:30.995639Z",
     "start_time": "2022-03-17T22:49:30.847793Z"
    }
   },
   "outputs": [
    {
     "data": {
      "text/plain": [
       "<AxesSubplot:>"
      ]
     },
     "execution_count": 467,
     "metadata": {},
     "output_type": "execute_result"
    },
    {
     "data": {
      "image/png": "[encoded data removed]",
      "text/plain": [
       "<Figure size 432x288 with 1 Axes>"
      ]
     },
     "metadata": {
      "needs_background": "light"
     },
     "output_type": "display_data"
    }
   ],
   "source": [
    "df_stats[10000:].plot(y='cartao_amarelo')"
   ]
  },
  {
   "cell_type": "markdown",
   "id": "3ea26c4b",
   "metadata": {},
   "source": [
    "## 1.4 Goals "
   ]
  },
  {
   "cell_type": "code",
   "execution_count": 468,
   "id": "4cf8c1cb",
   "metadata": {
    "ExecuteTime": {
     "end_time": "2022-03-17T22:49:31.018649Z",
     "start_time": "2022-03-17T22:49:30.997362Z"
    }
   },
   "outputs": [
    {
     "data": {
      "text/html": [
       "<div>\n",
       "<style scoped>\n",
       "    .dataframe tbody tr th:only-of-type {\n",
       "        vertical-align: middle;\n",
       "    }\n",
       "\n",
       "    .dataframe tbody tr th {\n",
       "        vertical-align: top;\n",
       "    }\n",
       "\n",
       "    .dataframe thead th {\n",
       "        text-align: right;\n",
       "    }\n",
       "</style>\n",
       "<table border=\"1\" class=\"dataframe\">\n",
       "  <thead>\n",
       "    <tr style=\"text-align: right;\">\n",
       "      <th></th>\n",
       "      <th>partida_id</th>\n",
       "      <th>rodada</th>\n",
       "      <th>clube</th>\n",
       "      <th>atleta</th>\n",
       "      <th>minuto</th>\n",
       "    </tr>\n",
       "  </thead>\n",
       "  <tbody>\n",
       "    <tr>\n",
       "      <th>0</th>\n",
       "      <td>4607</td>\n",
       "      <td>1</td>\n",
       "      <td>Fluminense</td>\n",
       "      <td>Rafael Sóbis</td>\n",
       "      <td>31</td>\n",
       "    </tr>\n",
       "    <tr>\n",
       "      <th>1</th>\n",
       "      <td>4607</td>\n",
       "      <td>1</td>\n",
       "      <td>Fluminense</td>\n",
       "      <td>Fred</td>\n",
       "      <td>45</td>\n",
       "    </tr>\n",
       "    <tr>\n",
       "      <th>2</th>\n",
       "      <td>4607</td>\n",
       "      <td>1</td>\n",
       "      <td>Fluminense</td>\n",
       "      <td>Nirley da Silva Fonseca</td>\n",
       "      <td>59</td>\n",
       "    </tr>\n",
       "    <tr>\n",
       "      <th>3</th>\n",
       "      <td>4608</td>\n",
       "      <td>1</td>\n",
       "      <td>Internacional</td>\n",
       "      <td>Charles Aránguiz</td>\n",
       "      <td>6</td>\n",
       "    </tr>\n",
       "    <tr>\n",
       "      <th>4</th>\n",
       "      <td>4610</td>\n",
       "      <td>1</td>\n",
       "      <td>Athletico-PR</td>\n",
       "      <td>Dráusio Luis Salla Gil</td>\n",
       "      <td>16</td>\n",
       "    </tr>\n",
       "  </tbody>\n",
       "</table>\n",
       "</div>"
      ],
      "text/plain": [
       "   partida_id  rodada          clube                   atleta minuto\n",
       "0        4607       1     Fluminense             Rafael Sóbis     31\n",
       "1        4607       1     Fluminense                     Fred     45\n",
       "2        4607       1     Fluminense  Nirley da Silva Fonseca     59\n",
       "3        4608       1  Internacional         Charles Aránguiz      6\n",
       "4        4610       1   Athletico-PR   Dráusio Luis Salla Gil     16"
      ]
     },
     "execution_count": 468,
     "metadata": {},
     "output_type": "execute_result"
    }
   ],
   "source": [
    "df_goals = pd.read_csv(data_path + goals)\n",
    "df_goals.head()"
   ]
  },
  {
   "cell_type": "code",
   "execution_count": 469,
   "id": "6aeb961e",
   "metadata": {
    "ExecuteTime": {
     "end_time": "2022-03-17T22:49:31.023378Z",
     "start_time": "2022-03-17T22:49:31.020318Z"
    }
   },
   "outputs": [],
   "source": [
    "df_goals['gol'] = 1"
   ]
  },
  {
   "cell_type": "code",
   "execution_count": 470,
   "id": "cf117cb0",
   "metadata": {
    "ExecuteTime": {
     "end_time": "2022-03-17T22:49:31.033849Z",
     "start_time": "2022-03-17T22:49:31.025083Z"
    }
   },
   "outputs": [
    {
     "data": {
      "text/html": [
       "<div>\n",
       "<style scoped>\n",
       "    .dataframe tbody tr th:only-of-type {\n",
       "        vertical-align: middle;\n",
       "    }\n",
       "\n",
       "    .dataframe tbody tr th {\n",
       "        vertical-align: top;\n",
       "    }\n",
       "\n",
       "    .dataframe thead th {\n",
       "        text-align: right;\n",
       "    }\n",
       "</style>\n",
       "<table border=\"1\" class=\"dataframe\">\n",
       "  <thead>\n",
       "    <tr style=\"text-align: right;\">\n",
       "      <th></th>\n",
       "      <th>partida_id</th>\n",
       "      <th>rodada</th>\n",
       "      <th>clube</th>\n",
       "      <th>atleta</th>\n",
       "      <th>minuto</th>\n",
       "      <th>gol</th>\n",
       "    </tr>\n",
       "  </thead>\n",
       "  <tbody>\n",
       "    <tr>\n",
       "      <th>0</th>\n",
       "      <td>4607</td>\n",
       "      <td>1</td>\n",
       "      <td>Fluminense</td>\n",
       "      <td>Rafael Sóbis</td>\n",
       "      <td>31</td>\n",
       "      <td>1</td>\n",
       "    </tr>\n",
       "    <tr>\n",
       "      <th>1</th>\n",
       "      <td>4607</td>\n",
       "      <td>1</td>\n",
       "      <td>Fluminense</td>\n",
       "      <td>Fred</td>\n",
       "      <td>45</td>\n",
       "      <td>1</td>\n",
       "    </tr>\n",
       "    <tr>\n",
       "      <th>2</th>\n",
       "      <td>4607</td>\n",
       "      <td>1</td>\n",
       "      <td>Fluminense</td>\n",
       "      <td>Nirley da Silva Fonseca</td>\n",
       "      <td>59</td>\n",
       "      <td>1</td>\n",
       "    </tr>\n",
       "    <tr>\n",
       "      <th>3</th>\n",
       "      <td>4608</td>\n",
       "      <td>1</td>\n",
       "      <td>Internacional</td>\n",
       "      <td>Charles Aránguiz</td>\n",
       "      <td>6</td>\n",
       "      <td>1</td>\n",
       "    </tr>\n",
       "    <tr>\n",
       "      <th>4</th>\n",
       "      <td>4610</td>\n",
       "      <td>1</td>\n",
       "      <td>Athletico-PR</td>\n",
       "      <td>Dráusio Luis Salla Gil</td>\n",
       "      <td>16</td>\n",
       "      <td>1</td>\n",
       "    </tr>\n",
       "  </tbody>\n",
       "</table>\n",
       "</div>"
      ],
      "text/plain": [
       "   partida_id  rodada          clube                   atleta minuto  gol\n",
       "0        4607       1     Fluminense             Rafael Sóbis     31    1\n",
       "1        4607       1     Fluminense                     Fred     45    1\n",
       "2        4607       1     Fluminense  Nirley da Silva Fonseca     59    1\n",
       "3        4608       1  Internacional         Charles Aránguiz      6    1\n",
       "4        4610       1   Athletico-PR   Dráusio Luis Salla Gil     16    1"
      ]
     },
     "execution_count": 470,
     "metadata": {},
     "output_type": "execute_result"
    }
   ],
   "source": [
    "df_goals.head()"
   ]
  },
  {
   "cell_type": "code",
   "execution_count": 471,
   "id": "0c0d707f",
   "metadata": {
    "ExecuteTime": {
     "end_time": "2022-03-17T22:49:31.040189Z",
     "start_time": "2022-03-17T22:49:31.035351Z"
    }
   },
   "outputs": [
    {
     "data": {
      "text/plain": [
       "(7081, 6)"
      ]
     },
     "execution_count": 471,
     "metadata": {},
     "output_type": "execute_result"
    }
   ],
   "source": [
    "df_goals.shape"
   ]
  },
  {
   "cell_type": "code",
   "execution_count": 472,
   "id": "2ddaeda9",
   "metadata": {
    "ExecuteTime": {
     "end_time": "2022-03-17T22:49:31.051423Z",
     "start_time": "2022-03-17T22:49:31.041865Z"
    }
   },
   "outputs": [
    {
     "name": "stdout",
     "output_type": "stream",
     "text": [
      "% of NaN\n"
     ]
    },
    {
     "data": {
      "text/plain": [
       "partida_id    0.0\n",
       "rodada        0.0\n",
       "clube         0.0\n",
       "atleta        0.0\n",
       "minuto        0.0\n",
       "gol           0.0\n",
       "dtype: float64"
      ]
     },
     "execution_count": 472,
     "metadata": {},
     "output_type": "execute_result"
    }
   ],
   "source": [
    "print('% of NaN')\n",
    "df_goals.isna().sum()/df_goals.shape[0]"
   ]
  },
  {
   "cell_type": "markdown",
   "id": "9e0298f5",
   "metadata": {},
   "source": [
    "## 1.5 Legend"
   ]
  },
  {
   "cell_type": "markdown",
   "id": "8830e31e",
   "metadata": {},
   "source": [
    "**Legenda - campeonato-brasileiro-full.csv**\n",
    "- ID : ID da partida\n",
    "- Rodada : Rodada que aconteceu a partida\n",
    "- Data : Data que ocorreu a partida\n",
    "- Horário :  Horário que ocorreu a partida\n",
    "- Dia : Dia da semana que ocorreu a partida\n",
    "- Mandante : Clube mandante                      \n",
    "- Visitante : Clube Visitante\n",
    "- formacao_mandante: Formação do mandante\n",
    "- formacao_visitante: Formação do visitante\n",
    "- tecnico_mandante: Técnico do mandante\n",
    "- tecnico_visitante: Técnico do visitante\n",
    "- Vencedor : Clube vencedor da partida. Quando tiver \"-\", é um empate\n",
    "- Arena : Arena que ocorreu a partida                      \n",
    "- Mandante Placar : Gols que o clube mandante fez na partida                      \n",
    "- Visitante Placar : Gols que o clube visitante fez na partida                      \n",
    "- Estado Mandante : Estado do clube mandatorio                      \n",
    "- Estado Visitante : Estado do clube visitante                      \n",
    "- Estado Vencedor : Estado do clube vencedor. Quando tiver \"-\", é um empate\n",
    "\n",
    "\n",
    "**Legenda - campeonato-brasileiro-estatisticas-full.csv**\n",
    "- partida_ID - ID da partida\n",
    "- Rodada - Rodada da partida\n",
    "- Clube - Nome do clube\n",
    "- Chutes - Finalizações\n",
    "- Chutes a gol - Finalizações na direção do gol\n",
    "- Posse de bola - Percentual da posse de bola\n",
    "- Passes - Quantidade de passes que o clube deu na partida\n",
    "- precisao_passes - Percentual da precisão de passe\n",
    "- Faltas - Quantidade de faltas cometidas na partida\n",
    "- cartao_amarelo - Quantidade de cartões amarelos para o clube na partida\n",
    "- cartao_vermelho - Quantidade de cartões vermelhos para o clube na partida\n",
    "- Impedimentos - Quantidade de impedimentos para o clube na partida\n",
    "- Escanteios - Quantidade de escanteios para o clube na partida\n",
    "\n",
    "\n",
    "**Legenda - campeonato-brasileiro-gols.csv**\n",
    "- partida_ID - ID da partida\n",
    "- Rodada - Rodada da partida\n",
    "- Clube - Nome do clube\n",
    "- Atleta - Nome do atleta que fez o gol\n",
    "- Minuto - Minuto na partida em que o gol foi marcado\n",
    "\n",
    "\n",
    "**Legenda - campeonato-brasileiro-cartoes.csv**\n",
    "- partida_ID - ID da partida\n",
    "- Rodada - Rodada da partida\n",
    "- Clube - Nome do clube\n",
    "- Cartao - Cor do cartão aplicado\n",
    "- Atleta - Nome do atleta punido pelo cartão\n",
    "- num_camisa - Número da camisa do atleta\n",
    "- Posicao - Posição na partida em que o atleta se encontra\n",
    "- Minuto - Minuto na partida em que o cartão foi aplicado"
   ]
  },
  {
   "cell_type": "markdown",
   "id": "57170f8e",
   "metadata": {},
   "source": [
    "## 1.6 Filling NA and and filtering data"
   ]
  },
  {
   "cell_type": "markdown",
   "id": "ac1e3cf2",
   "metadata": {},
   "source": [
    "### 1.6.1 Selecting recent games (5 years) "
   ]
  },
  {
   "cell_type": "code",
   "execution_count": 473,
   "id": "17ee2bf1",
   "metadata": {
    "ExecuteTime": {
     "end_time": "2022-03-17T22:49:31.057702Z",
     "start_time": "2022-03-17T22:49:31.053444Z"
    }
   },
   "outputs": [],
   "source": [
    "df_full_recent = df_full[df_full['data'] > '2020-01-01']"
   ]
  },
  {
   "cell_type": "code",
   "execution_count": 474,
   "id": "20ed31df",
   "metadata": {
    "ExecuteTime": {
     "end_time": "2022-03-17T22:49:31.073519Z",
     "start_time": "2022-03-17T22:49:31.059425Z"
    }
   },
   "outputs": [
    {
     "data": {
      "text/html": [
       "<div>\n",
       "<style scoped>\n",
       "    .dataframe tbody tr th:only-of-type {\n",
       "        vertical-align: middle;\n",
       "    }\n",
       "\n",
       "    .dataframe tbody tr th {\n",
       "        vertical-align: top;\n",
       "    }\n",
       "\n",
       "    .dataframe thead th {\n",
       "        text-align: right;\n",
       "    }\n",
       "</style>\n",
       "<table border=\"1\" class=\"dataframe\">\n",
       "  <thead>\n",
       "    <tr style=\"text-align: right;\">\n",
       "      <th></th>\n",
       "      <th>ID</th>\n",
       "      <th>rodada</th>\n",
       "      <th>data</th>\n",
       "      <th>hora</th>\n",
       "      <th>dia</th>\n",
       "      <th>mandante</th>\n",
       "      <th>visitante</th>\n",
       "      <th>formacao_mandante</th>\n",
       "      <th>formacao_visitante</th>\n",
       "      <th>tecnico_mandante</th>\n",
       "      <th>tecnico_visitante</th>\n",
       "      <th>vencedor</th>\n",
       "      <th>arena</th>\n",
       "      <th>mandante_placar</th>\n",
       "      <th>visitante_placar</th>\n",
       "      <th>mandante_estado</th>\n",
       "      <th>visitante_estado</th>\n",
       "      <th>estado_vencedor</th>\n",
       "    </tr>\n",
       "  </thead>\n",
       "  <tbody>\n",
       "    <tr>\n",
       "      <th>6885</th>\n",
       "      <td>6886</td>\n",
       "      <td>1</td>\n",
       "      <td>2020-08-08</td>\n",
       "      <td>19:00</td>\n",
       "      <td>Sabado</td>\n",
       "      <td>Fortaleza</td>\n",
       "      <td>Athletico-PR</td>\n",
       "      <td>4-2-3-1</td>\n",
       "      <td>4-3-3</td>\n",
       "      <td>D. Silvestre Júnior</td>\n",
       "      <td>D. Silvestre Júnior</td>\n",
       "      <td>Athletico-PR</td>\n",
       "      <td>arena castelao</td>\n",
       "      <td>0</td>\n",
       "      <td>2</td>\n",
       "      <td>CE</td>\n",
       "      <td>PR</td>\n",
       "      <td>PR</td>\n",
       "    </tr>\n",
       "    <tr>\n",
       "      <th>6886</th>\n",
       "      <td>6887</td>\n",
       "      <td>1</td>\n",
       "      <td>2020-08-08</td>\n",
       "      <td>10:57</td>\n",
       "      <td>Sabado</td>\n",
       "      <td>Coritiba</td>\n",
       "      <td>Internacional</td>\n",
       "      <td>4-2-3-1</td>\n",
       "      <td>4-2-3-1</td>\n",
       "      <td>E. Coudet</td>\n",
       "      <td>E. Coudet</td>\n",
       "      <td>Internacional</td>\n",
       "      <td>couto pereira</td>\n",
       "      <td>0</td>\n",
       "      <td>1</td>\n",
       "      <td>PR</td>\n",
       "      <td>RS</td>\n",
       "      <td>RS</td>\n",
       "    </tr>\n",
       "    <tr>\n",
       "      <th>6887</th>\n",
       "      <td>6888</td>\n",
       "      <td>1</td>\n",
       "      <td>2020-08-08</td>\n",
       "      <td>10:40</td>\n",
       "      <td>Sabado</td>\n",
       "      <td>Sport</td>\n",
       "      <td>Ceara</td>\n",
       "      <td>4-2-3-1</td>\n",
       "      <td>4-2-3-1</td>\n",
       "      <td>A. Ferreira</td>\n",
       "      <td>A. Ferreira</td>\n",
       "      <td>Sport</td>\n",
       "      <td>adelmar da costa carvalho</td>\n",
       "      <td>3</td>\n",
       "      <td>2</td>\n",
       "      <td>PE</td>\n",
       "      <td>CE</td>\n",
       "      <td>PE</td>\n",
       "    </tr>\n",
       "    <tr>\n",
       "      <th>6888</th>\n",
       "      <td>6889</td>\n",
       "      <td>1</td>\n",
       "      <td>2020-08-09</td>\n",
       "      <td>16:02</td>\n",
       "      <td>Domingo</td>\n",
       "      <td>Santos</td>\n",
       "      <td>Bragantino</td>\n",
       "      <td>4-3-3</td>\n",
       "      <td>4-2-3-1</td>\n",
       "      <td>F. de Oliveira Conceição</td>\n",
       "      <td>F. de Oliveira Conceição</td>\n",
       "      <td>-</td>\n",
       "      <td>estadio urbano caldeira</td>\n",
       "      <td>1</td>\n",
       "      <td>1</td>\n",
       "      <td>SP</td>\n",
       "      <td>SP</td>\n",
       "      <td>-</td>\n",
       "    </tr>\n",
       "    <tr>\n",
       "      <th>6889</th>\n",
       "      <td>6890</td>\n",
       "      <td>1</td>\n",
       "      <td>2020-08-09</td>\n",
       "      <td>16:00</td>\n",
       "      <td>Domingo</td>\n",
       "      <td>Flamengo</td>\n",
       "      <td>Atletico-MG</td>\n",
       "      <td>4-2-3-1</td>\n",
       "      <td>3-5-2</td>\n",
       "      <td>J. Sampaoli Moya</td>\n",
       "      <td>J. Sampaoli Moya</td>\n",
       "      <td>Atletico-MG</td>\n",
       "      <td>maracana</td>\n",
       "      <td>0</td>\n",
       "      <td>1</td>\n",
       "      <td>RJ</td>\n",
       "      <td>MG</td>\n",
       "      <td>MG</td>\n",
       "    </tr>\n",
       "  </tbody>\n",
       "</table>\n",
       "</div>"
      ],
      "text/plain": [
       "        ID  rodada       data   hora      dia   mandante      visitante  \\\n",
       "6885  6886       1 2020-08-08  19:00   Sabado  Fortaleza   Athletico-PR   \n",
       "6886  6887       1 2020-08-08  10:57   Sabado   Coritiba  Internacional   \n",
       "6887  6888       1 2020-08-08  10:40   Sabado      Sport          Ceara   \n",
       "6888  6889       1 2020-08-09  16:02  Domingo     Santos     Bragantino   \n",
       "6889  6890       1 2020-08-09  16:00  Domingo   Flamengo    Atletico-MG   \n",
       "\n",
       "     formacao_mandante formacao_visitante          tecnico_mandante  \\\n",
       "6885           4-2-3-1              4-3-3       D. Silvestre Júnior   \n",
       "6886           4-2-3-1            4-2-3-1                 E. Coudet   \n",
       "6887           4-2-3-1            4-2-3-1               A. Ferreira   \n",
       "6888             4-3-3            4-2-3-1  F. de Oliveira Conceição   \n",
       "6889           4-2-3-1              3-5-2          J. Sampaoli Moya   \n",
       "\n",
       "             tecnico_visitante       vencedor                      arena  \\\n",
       "6885       D. Silvestre Júnior   Athletico-PR             arena castelao   \n",
       "6886                 E. Coudet  Internacional              couto pereira   \n",
       "6887               A. Ferreira          Sport  adelmar da costa carvalho   \n",
       "6888  F. de Oliveira Conceição              -    estadio urbano caldeira   \n",
       "6889          J. Sampaoli Moya    Atletico-MG                   maracana   \n",
       "\n",
       "      mandante_placar  visitante_placar mandante_estado visitante_estado  \\\n",
       "6885                0                 2              CE               PR   \n",
       "6886                0                 1              PR               RS   \n",
       "6887                3                 2              PE               CE   \n",
       "6888                1                 1              SP               SP   \n",
       "6889                0                 1              RJ               MG   \n",
       "\n",
       "     estado_vencedor  \n",
       "6885              PR  \n",
       "6886              RS  \n",
       "6887              PE  \n",
       "6888               -  \n",
       "6889              MG  "
      ]
     },
     "execution_count": 474,
     "metadata": {},
     "output_type": "execute_result"
    }
   ],
   "source": [
    "# dataframe das partidas de 2018 em diante\n",
    "df_full_recent.head()"
   ]
  },
  {
   "cell_type": "code",
   "execution_count": 475,
   "id": "45b1fea1",
   "metadata": {
    "ExecuteTime": {
     "end_time": "2022-03-17T22:49:31.087308Z",
     "start_time": "2022-03-17T22:49:31.075179Z"
    }
   },
   "outputs": [],
   "source": [
    "columns = df_full_recent.columns.to_list()"
   ]
  },
  {
   "cell_type": "markdown",
   "id": "18dca0c5",
   "metadata": {},
   "source": [
    "### 1.6.2 Choosing some initial features to test "
   ]
  },
  {
   "cell_type": "code",
   "execution_count": 476,
   "id": "6ed4dbd5",
   "metadata": {
    "ExecuteTime": {
     "end_time": "2022-03-17T22:49:31.093869Z",
     "start_time": "2022-03-17T22:49:31.089393Z"
    }
   },
   "outputs": [],
   "source": [
    "columns = ['ID',\n",
    "           'rodada',\n",
    "           'data',\n",
    "           'hora',\n",
    "           'dia',\n",
    "           'mandante',\n",
    "           'visitante',\n",
    "           'formacao_mandante',\n",
    "           'formacao_visitante',\n",
    "           'vencedor',\n",
    "           'arena',\n",
    "           'mandante_estado',\n",
    "           'visitante_estado']\n",
    "\n",
    "df_full_recent = df_full_recent[columns]"
   ]
  },
  {
   "cell_type": "code",
   "execution_count": 477,
   "id": "d0d17393",
   "metadata": {
    "ExecuteTime": {
     "end_time": "2022-03-17T22:49:31.109655Z",
     "start_time": "2022-03-17T22:49:31.095825Z"
    },
    "scrolled": true
   },
   "outputs": [
    {
     "data": {
      "text/html": [
       "<div>\n",
       "<style scoped>\n",
       "    .dataframe tbody tr th:only-of-type {\n",
       "        vertical-align: middle;\n",
       "    }\n",
       "\n",
       "    .dataframe tbody tr th {\n",
       "        vertical-align: top;\n",
       "    }\n",
       "\n",
       "    .dataframe thead th {\n",
       "        text-align: right;\n",
       "    }\n",
       "</style>\n",
       "<table border=\"1\" class=\"dataframe\">\n",
       "  <thead>\n",
       "    <tr style=\"text-align: right;\">\n",
       "      <th></th>\n",
       "      <th>ID</th>\n",
       "      <th>rodada</th>\n",
       "      <th>data</th>\n",
       "      <th>hora</th>\n",
       "      <th>dia</th>\n",
       "      <th>mandante</th>\n",
       "      <th>visitante</th>\n",
       "      <th>formacao_mandante</th>\n",
       "      <th>formacao_visitante</th>\n",
       "      <th>vencedor</th>\n",
       "      <th>arena</th>\n",
       "      <th>mandante_estado</th>\n",
       "      <th>visitante_estado</th>\n",
       "    </tr>\n",
       "  </thead>\n",
       "  <tbody>\n",
       "    <tr>\n",
       "      <th>6885</th>\n",
       "      <td>6886</td>\n",
       "      <td>1</td>\n",
       "      <td>2020-08-08</td>\n",
       "      <td>19:00</td>\n",
       "      <td>Sabado</td>\n",
       "      <td>Fortaleza</td>\n",
       "      <td>Athletico-PR</td>\n",
       "      <td>4-2-3-1</td>\n",
       "      <td>4-3-3</td>\n",
       "      <td>Athletico-PR</td>\n",
       "      <td>arena castelao</td>\n",
       "      <td>CE</td>\n",
       "      <td>PR</td>\n",
       "    </tr>\n",
       "    <tr>\n",
       "      <th>6886</th>\n",
       "      <td>6887</td>\n",
       "      <td>1</td>\n",
       "      <td>2020-08-08</td>\n",
       "      <td>10:57</td>\n",
       "      <td>Sabado</td>\n",
       "      <td>Coritiba</td>\n",
       "      <td>Internacional</td>\n",
       "      <td>4-2-3-1</td>\n",
       "      <td>4-2-3-1</td>\n",
       "      <td>Internacional</td>\n",
       "      <td>couto pereira</td>\n",
       "      <td>PR</td>\n",
       "      <td>RS</td>\n",
       "    </tr>\n",
       "    <tr>\n",
       "      <th>6887</th>\n",
       "      <td>6888</td>\n",
       "      <td>1</td>\n",
       "      <td>2020-08-08</td>\n",
       "      <td>10:40</td>\n",
       "      <td>Sabado</td>\n",
       "      <td>Sport</td>\n",
       "      <td>Ceara</td>\n",
       "      <td>4-2-3-1</td>\n",
       "      <td>4-2-3-1</td>\n",
       "      <td>Sport</td>\n",
       "      <td>adelmar da costa carvalho</td>\n",
       "      <td>PE</td>\n",
       "      <td>CE</td>\n",
       "    </tr>\n",
       "    <tr>\n",
       "      <th>6888</th>\n",
       "      <td>6889</td>\n",
       "      <td>1</td>\n",
       "      <td>2020-08-09</td>\n",
       "      <td>16:02</td>\n",
       "      <td>Domingo</td>\n",
       "      <td>Santos</td>\n",
       "      <td>Bragantino</td>\n",
       "      <td>4-3-3</td>\n",
       "      <td>4-2-3-1</td>\n",
       "      <td>-</td>\n",
       "      <td>estadio urbano caldeira</td>\n",
       "      <td>SP</td>\n",
       "      <td>SP</td>\n",
       "    </tr>\n",
       "    <tr>\n",
       "      <th>6889</th>\n",
       "      <td>6890</td>\n",
       "      <td>1</td>\n",
       "      <td>2020-08-09</td>\n",
       "      <td>16:00</td>\n",
       "      <td>Domingo</td>\n",
       "      <td>Flamengo</td>\n",
       "      <td>Atletico-MG</td>\n",
       "      <td>4-2-3-1</td>\n",
       "      <td>3-5-2</td>\n",
       "      <td>Atletico-MG</td>\n",
       "      <td>maracana</td>\n",
       "      <td>RJ</td>\n",
       "      <td>MG</td>\n",
       "    </tr>\n",
       "  </tbody>\n",
       "</table>\n",
       "</div>"
      ],
      "text/plain": [
       "        ID  rodada       data   hora      dia   mandante      visitante  \\\n",
       "6885  6886       1 2020-08-08  19:00   Sabado  Fortaleza   Athletico-PR   \n",
       "6886  6887       1 2020-08-08  10:57   Sabado   Coritiba  Internacional   \n",
       "6887  6888       1 2020-08-08  10:40   Sabado      Sport          Ceara   \n",
       "6888  6889       1 2020-08-09  16:02  Domingo     Santos     Bragantino   \n",
       "6889  6890       1 2020-08-09  16:00  Domingo   Flamengo    Atletico-MG   \n",
       "\n",
       "     formacao_mandante formacao_visitante       vencedor  \\\n",
       "6885           4-2-3-1              4-3-3   Athletico-PR   \n",
       "6886           4-2-3-1            4-2-3-1  Internacional   \n",
       "6887           4-2-3-1            4-2-3-1          Sport   \n",
       "6888             4-3-3            4-2-3-1              -   \n",
       "6889           4-2-3-1              3-5-2    Atletico-MG   \n",
       "\n",
       "                          arena mandante_estado visitante_estado  \n",
       "6885             arena castelao              CE               PR  \n",
       "6886              couto pereira              PR               RS  \n",
       "6887  adelmar da costa carvalho              PE               CE  \n",
       "6888    estadio urbano caldeira              SP               SP  \n",
       "6889                   maracana              RJ               MG  "
      ]
     },
     "execution_count": 477,
     "metadata": {},
     "output_type": "execute_result"
    }
   ],
   "source": [
    "df_full_recent.head()"
   ]
  },
  {
   "cell_type": "markdown",
   "id": "210fcd3c",
   "metadata": {},
   "source": [
    "### 1.6.3 Selecting just recent stats (5 years) "
   ]
  },
  {
   "cell_type": "code",
   "execution_count": 478,
   "id": "4335ec6d",
   "metadata": {
    "ExecuteTime": {
     "end_time": "2022-03-17T22:49:31.115570Z",
     "start_time": "2022-03-17T22:49:31.111595Z"
    }
   },
   "outputs": [],
   "source": [
    "df_stats_recent = df_stats[df_stats['partida_id'] > 6886]"
   ]
  },
  {
   "cell_type": "code",
   "execution_count": 479,
   "id": "0d106423",
   "metadata": {
    "ExecuteTime": {
     "end_time": "2022-03-17T22:49:31.123519Z",
     "start_time": "2022-03-17T22:49:31.117885Z"
    }
   },
   "outputs": [],
   "source": [
    "aux_val = []\n",
    "for value in df_stats_recent['posse_de_bola'].values:\n",
    "    if value != 'None':\n",
    "        aux_val.append(np.float32(value[0:2]))\n",
    "    else:\n",
    "        aux_val.append(np.nan)"
   ]
  },
  {
   "cell_type": "code",
   "execution_count": 480,
   "id": "0a665ce3",
   "metadata": {
    "ExecuteTime": {
     "end_time": "2022-03-17T22:49:31.141075Z",
     "start_time": "2022-03-17T22:49:31.125458Z"
    }
   },
   "outputs": [],
   "source": [
    "df_stats_recent.loc[:,'posse_de_bola'] = aux_val"
   ]
  },
  {
   "cell_type": "code",
   "execution_count": 481,
   "id": "c3e538e6",
   "metadata": {
    "ExecuteTime": {
     "end_time": "2022-03-17T22:49:31.147244Z",
     "start_time": "2022-03-17T22:49:31.142892Z"
    }
   },
   "outputs": [],
   "source": [
    "aux_val = []\n",
    "for value in df_stats_recent['precisao_passes'].values:\n",
    "    if value != 'None':\n",
    "        aux_val.append(np.float32(value[0:2]))\n",
    "    else:\n",
    "        aux_val.append(np.nan)"
   ]
  },
  {
   "cell_type": "code",
   "execution_count": 482,
   "id": "dc998585",
   "metadata": {
    "ExecuteTime": {
     "end_time": "2022-03-17T22:49:31.163560Z",
     "start_time": "2022-03-17T22:49:31.149276Z"
    }
   },
   "outputs": [],
   "source": [
    "df_stats_recent.loc[:, 'precisao_passes'] = aux_val"
   ]
  },
  {
   "cell_type": "code",
   "execution_count": 483,
   "id": "b1b0f5ca",
   "metadata": {
    "ExecuteTime": {
     "end_time": "2022-03-17T22:49:31.187215Z",
     "start_time": "2022-03-17T22:49:31.165303Z"
    }
   },
   "outputs": [
    {
     "data": {
      "text/html": [
       "<div>\n",
       "<style scoped>\n",
       "    .dataframe tbody tr th:only-of-type {\n",
       "        vertical-align: middle;\n",
       "    }\n",
       "\n",
       "    .dataframe tbody tr th {\n",
       "        vertical-align: top;\n",
       "    }\n",
       "\n",
       "    .dataframe thead th {\n",
       "        text-align: right;\n",
       "    }\n",
       "</style>\n",
       "<table border=\"1\" class=\"dataframe\">\n",
       "  <thead>\n",
       "    <tr style=\"text-align: right;\">\n",
       "      <th></th>\n",
       "      <th>chutes</th>\n",
       "      <th>chutes_no_alvo</th>\n",
       "      <th>posse_de_bola</th>\n",
       "      <th>passes</th>\n",
       "      <th>precisao_passes</th>\n",
       "      <th>faltas</th>\n",
       "      <th>cartao_amarelo</th>\n",
       "      <th>cartao_vermelho</th>\n",
       "      <th>impedimentos</th>\n",
       "      <th>escanteios</th>\n",
       "    </tr>\n",
       "    <tr>\n",
       "      <th>clube</th>\n",
       "      <th></th>\n",
       "      <th></th>\n",
       "      <th></th>\n",
       "      <th></th>\n",
       "      <th></th>\n",
       "      <th></th>\n",
       "      <th></th>\n",
       "      <th></th>\n",
       "      <th></th>\n",
       "      <th></th>\n",
       "    </tr>\n",
       "  </thead>\n",
       "  <tbody>\n",
       "    <tr>\n",
       "      <th>America-MG</th>\n",
       "      <td>15.210526</td>\n",
       "      <td>4.394737</td>\n",
       "      <td>47.315789</td>\n",
       "      <td>379.631579</td>\n",
       "      <td>77.105263</td>\n",
       "      <td>14.526316</td>\n",
       "      <td>1.631579</td>\n",
       "      <td>0.026316</td>\n",
       "      <td>1.868421</td>\n",
       "      <td>5.131579</td>\n",
       "    </tr>\n",
       "    <tr>\n",
       "      <th>Athletico-PR</th>\n",
       "      <td>12.440000</td>\n",
       "      <td>3.746667</td>\n",
       "      <td>51.626667</td>\n",
       "      <td>446.533333</td>\n",
       "      <td>82.146667</td>\n",
       "      <td>15.986667</td>\n",
       "      <td>2.120000</td>\n",
       "      <td>0.080000</td>\n",
       "      <td>1.400000</td>\n",
       "      <td>4.693333</td>\n",
       "    </tr>\n",
       "    <tr>\n",
       "      <th>Atletico-GO</th>\n",
       "      <td>11.421053</td>\n",
       "      <td>3.500000</td>\n",
       "      <td>48.039474</td>\n",
       "      <td>391.815789</td>\n",
       "      <td>79.000000</td>\n",
       "      <td>14.828947</td>\n",
       "      <td>2.223684</td>\n",
       "      <td>0.092105</td>\n",
       "      <td>1.342105</td>\n",
       "      <td>5.644737</td>\n",
       "    </tr>\n",
       "    <tr>\n",
       "      <th>Atletico-MG</th>\n",
       "      <td>15.144737</td>\n",
       "      <td>5.131579</td>\n",
       "      <td>58.920000</td>\n",
       "      <td>522.000000</td>\n",
       "      <td>84.626667</td>\n",
       "      <td>14.671053</td>\n",
       "      <td>1.776316</td>\n",
       "      <td>0.065789</td>\n",
       "      <td>1.565789</td>\n",
       "      <td>6.407895</td>\n",
       "    </tr>\n",
       "    <tr>\n",
       "      <th>Bahia</th>\n",
       "      <td>12.960526</td>\n",
       "      <td>4.394737</td>\n",
       "      <td>46.710526</td>\n",
       "      <td>393.500000</td>\n",
       "      <td>79.131579</td>\n",
       "      <td>15.039474</td>\n",
       "      <td>2.236842</td>\n",
       "      <td>0.144737</td>\n",
       "      <td>1.263158</td>\n",
       "      <td>5.578947</td>\n",
       "    </tr>\n",
       "  </tbody>\n",
       "</table>\n",
       "</div>"
      ],
      "text/plain": [
       "                 chutes  chutes_no_alvo  posse_de_bola      passes  \\\n",
       "clube                                                                \n",
       "America-MG    15.210526        4.394737      47.315789  379.631579   \n",
       "Athletico-PR  12.440000        3.746667      51.626667  446.533333   \n",
       "Atletico-GO   11.421053        3.500000      48.039474  391.815789   \n",
       "Atletico-MG   15.144737        5.131579      58.920000  522.000000   \n",
       "Bahia         12.960526        4.394737      46.710526  393.500000   \n",
       "\n",
       "              precisao_passes     faltas  cartao_amarelo  cartao_vermelho  \\\n",
       "clube                                                                       \n",
       "America-MG          77.105263  14.526316        1.631579         0.026316   \n",
       "Athletico-PR        82.146667  15.986667        2.120000         0.080000   \n",
       "Atletico-GO         79.000000  14.828947        2.223684         0.092105   \n",
       "Atletico-MG         84.626667  14.671053        1.776316         0.065789   \n",
       "Bahia               79.131579  15.039474        2.236842         0.144737   \n",
       "\n",
       "              impedimentos  escanteios  \n",
       "clube                                   \n",
       "America-MG        1.868421    5.131579  \n",
       "Athletico-PR      1.400000    4.693333  \n",
       "Atletico-GO       1.342105    5.644737  \n",
       "Atletico-MG       1.565789    6.407895  \n",
       "Bahia             1.263158    5.578947  "
      ]
     },
     "execution_count": 483,
     "metadata": {},
     "output_type": "execute_result"
    }
   ],
   "source": [
    "df_stats_clube = df_stats_recent.groupby('clube').mean()\n",
    "df_stats_clube = df_stats_clube.drop(['partida_id', 'rodada'], axis = 1)\n",
    "df_stats_clube.head()"
   ]
  },
  {
   "cell_type": "code",
   "execution_count": 484,
   "id": "ad2c0861",
   "metadata": {
    "ExecuteTime": {
     "end_time": "2022-03-17T22:49:31.213467Z",
     "start_time": "2022-03-17T22:49:31.192962Z"
    }
   },
   "outputs": [],
   "source": [
    "for column in df_stats_clube.columns.tolist():\n",
    "    df_full_recent['mandante_' + column] = df_full_recent['mandante'].map(df_stats_clube[column])\n",
    "    df_full_recent['visitante_' + column] = df_full_recent['visitante'].map(df_stats_clube[column])"
   ]
  },
  {
   "cell_type": "markdown",
   "id": "67afcf7e",
   "metadata": {},
   "source": [
    "### 1.6.4 Creating the target feature "
   ]
  },
  {
   "cell_type": "code",
   "execution_count": 485,
   "id": "9a864637",
   "metadata": {
    "ExecuteTime": {
     "end_time": "2022-03-17T22:49:31.219123Z",
     "start_time": "2022-03-17T22:49:31.215525Z"
    }
   },
   "outputs": [],
   "source": [
    "df_full_recent = df_full_recent.reset_index()"
   ]
  },
  {
   "cell_type": "code",
   "execution_count": 486,
   "id": "07839660",
   "metadata": {
    "ExecuteTime": {
     "end_time": "2022-03-17T22:49:31.314979Z",
     "start_time": "2022-03-17T22:49:31.220720Z"
    }
   },
   "outputs": [],
   "source": [
    "# 1 - mandante\n",
    "# 2 - visitante\n",
    "# 0 - empate\n",
    "\n",
    "for i in range(0, len(df_full_recent)):\n",
    "    if df_full_recent.loc[i, 'vencedor'] == df_full_recent.loc[i, 'mandante']:\n",
    "        df_full_recent.loc[i, 'resultado'] = 1\n",
    "    elif df_full_recent.loc[i, 'vencedor'] == df_full_recent.loc[i, 'visitante']:\n",
    "        df_full_recent.loc[i, 'resultado'] = 2\n",
    "    else:\n",
    "        df_full_recent.loc[i, 'resultado'] = 0    "
   ]
  },
  {
   "cell_type": "code",
   "execution_count": 487,
   "id": "cbdcc2b1",
   "metadata": {
    "ExecuteTime": {
     "end_time": "2022-03-17T22:49:31.336423Z",
     "start_time": "2022-03-17T22:49:31.316566Z"
    }
   },
   "outputs": [
    {
     "data": {
      "text/html": [
       "<div>\n",
       "<style scoped>\n",
       "    .dataframe tbody tr th:only-of-type {\n",
       "        vertical-align: middle;\n",
       "    }\n",
       "\n",
       "    .dataframe tbody tr th {\n",
       "        vertical-align: top;\n",
       "    }\n",
       "\n",
       "    .dataframe thead th {\n",
       "        text-align: right;\n",
       "    }\n",
       "</style>\n",
       "<table border=\"1\" class=\"dataframe\">\n",
       "  <thead>\n",
       "    <tr style=\"text-align: right;\">\n",
       "      <th></th>\n",
       "      <th>index</th>\n",
       "      <th>ID</th>\n",
       "      <th>rodada</th>\n",
       "      <th>data</th>\n",
       "      <th>hora</th>\n",
       "      <th>dia</th>\n",
       "      <th>mandante</th>\n",
       "      <th>visitante</th>\n",
       "      <th>formacao_mandante</th>\n",
       "      <th>formacao_visitante</th>\n",
       "      <th>...</th>\n",
       "      <th>visitante_faltas</th>\n",
       "      <th>mandante_cartao_amarelo</th>\n",
       "      <th>visitante_cartao_amarelo</th>\n",
       "      <th>mandante_cartao_vermelho</th>\n",
       "      <th>visitante_cartao_vermelho</th>\n",
       "      <th>mandante_impedimentos</th>\n",
       "      <th>visitante_impedimentos</th>\n",
       "      <th>mandante_escanteios</th>\n",
       "      <th>visitante_escanteios</th>\n",
       "      <th>resultado</th>\n",
       "    </tr>\n",
       "  </thead>\n",
       "  <tbody>\n",
       "    <tr>\n",
       "      <th>0</th>\n",
       "      <td>6885</td>\n",
       "      <td>6886</td>\n",
       "      <td>1</td>\n",
       "      <td>2020-08-08</td>\n",
       "      <td>19:00</td>\n",
       "      <td>Sabado</td>\n",
       "      <td>Fortaleza</td>\n",
       "      <td>Athletico-PR</td>\n",
       "      <td>4-2-3-1</td>\n",
       "      <td>4-3-3</td>\n",
       "      <td>...</td>\n",
       "      <td>15.986667</td>\n",
       "      <td>2.146667</td>\n",
       "      <td>2.120000</td>\n",
       "      <td>0.146667</td>\n",
       "      <td>0.080000</td>\n",
       "      <td>1.813333</td>\n",
       "      <td>1.400000</td>\n",
       "      <td>4.426667</td>\n",
       "      <td>4.693333</td>\n",
       "      <td>2.0</td>\n",
       "    </tr>\n",
       "    <tr>\n",
       "      <th>1</th>\n",
       "      <td>6886</td>\n",
       "      <td>6887</td>\n",
       "      <td>1</td>\n",
       "      <td>2020-08-08</td>\n",
       "      <td>10:57</td>\n",
       "      <td>Sabado</td>\n",
       "      <td>Coritiba</td>\n",
       "      <td>Internacional</td>\n",
       "      <td>4-2-3-1</td>\n",
       "      <td>4-2-3-1</td>\n",
       "      <td>...</td>\n",
       "      <td>17.447368</td>\n",
       "      <td>2.078947</td>\n",
       "      <td>2.552632</td>\n",
       "      <td>0.210526</td>\n",
       "      <td>0.263158</td>\n",
       "      <td>1.500000</td>\n",
       "      <td>1.355263</td>\n",
       "      <td>4.052632</td>\n",
       "      <td>5.315789</td>\n",
       "      <td>2.0</td>\n",
       "    </tr>\n",
       "    <tr>\n",
       "      <th>2</th>\n",
       "      <td>6887</td>\n",
       "      <td>6888</td>\n",
       "      <td>1</td>\n",
       "      <td>2020-08-08</td>\n",
       "      <td>10:40</td>\n",
       "      <td>Sabado</td>\n",
       "      <td>Sport</td>\n",
       "      <td>Ceara</td>\n",
       "      <td>4-2-3-1</td>\n",
       "      <td>4-2-3-1</td>\n",
       "      <td>...</td>\n",
       "      <td>15.276316</td>\n",
       "      <td>2.328947</td>\n",
       "      <td>2.236842</td>\n",
       "      <td>0.105263</td>\n",
       "      <td>0.131579</td>\n",
       "      <td>1.210526</td>\n",
       "      <td>1.407895</td>\n",
       "      <td>4.210526</td>\n",
       "      <td>4.815789</td>\n",
       "      <td>1.0</td>\n",
       "    </tr>\n",
       "    <tr>\n",
       "      <th>3</th>\n",
       "      <td>6888</td>\n",
       "      <td>6889</td>\n",
       "      <td>1</td>\n",
       "      <td>2020-08-09</td>\n",
       "      <td>16:02</td>\n",
       "      <td>Domingo</td>\n",
       "      <td>Santos</td>\n",
       "      <td>Bragantino</td>\n",
       "      <td>4-3-3</td>\n",
       "      <td>4-2-3-1</td>\n",
       "      <td>...</td>\n",
       "      <td>15.631579</td>\n",
       "      <td>2.276316</td>\n",
       "      <td>2.144737</td>\n",
       "      <td>0.078947</td>\n",
       "      <td>0.078947</td>\n",
       "      <td>1.618421</td>\n",
       "      <td>0.973684</td>\n",
       "      <td>5.276316</td>\n",
       "      <td>5.513158</td>\n",
       "      <td>0.0</td>\n",
       "    </tr>\n",
       "    <tr>\n",
       "      <th>4</th>\n",
       "      <td>6889</td>\n",
       "      <td>6890</td>\n",
       "      <td>1</td>\n",
       "      <td>2020-08-09</td>\n",
       "      <td>16:00</td>\n",
       "      <td>Domingo</td>\n",
       "      <td>Flamengo</td>\n",
       "      <td>Atletico-MG</td>\n",
       "      <td>4-2-3-1</td>\n",
       "      <td>3-5-2</td>\n",
       "      <td>...</td>\n",
       "      <td>14.671053</td>\n",
       "      <td>2.236842</td>\n",
       "      <td>1.776316</td>\n",
       "      <td>0.078947</td>\n",
       "      <td>0.065789</td>\n",
       "      <td>1.486842</td>\n",
       "      <td>1.565789</td>\n",
       "      <td>5.894737</td>\n",
       "      <td>6.407895</td>\n",
       "      <td>2.0</td>\n",
       "    </tr>\n",
       "  </tbody>\n",
       "</table>\n",
       "<p>5 rows × 35 columns</p>\n",
       "</div>"
      ],
      "text/plain": [
       "   index    ID  rodada       data   hora      dia   mandante      visitante  \\\n",
       "0   6885  6886       1 2020-08-08  19:00   Sabado  Fortaleza   Athletico-PR   \n",
       "1   6886  6887       1 2020-08-08  10:57   Sabado   Coritiba  Internacional   \n",
       "2   6887  6888       1 2020-08-08  10:40   Sabado      Sport          Ceara   \n",
       "3   6888  6889       1 2020-08-09  16:02  Domingo     Santos     Bragantino   \n",
       "4   6889  6890       1 2020-08-09  16:00  Domingo   Flamengo    Atletico-MG   \n",
       "\n",
       "  formacao_mandante formacao_visitante  ... visitante_faltas  \\\n",
       "0           4-2-3-1              4-3-3  ...        15.986667   \n",
       "1           4-2-3-1            4-2-3-1  ...        17.447368   \n",
       "2           4-2-3-1            4-2-3-1  ...        15.276316   \n",
       "3             4-3-3            4-2-3-1  ...        15.631579   \n",
       "4           4-2-3-1              3-5-2  ...        14.671053   \n",
       "\n",
       "  mandante_cartao_amarelo visitante_cartao_amarelo mandante_cartao_vermelho  \\\n",
       "0                2.146667                 2.120000                 0.146667   \n",
       "1                2.078947                 2.552632                 0.210526   \n",
       "2                2.328947                 2.236842                 0.105263   \n",
       "3                2.276316                 2.144737                 0.078947   \n",
       "4                2.236842                 1.776316                 0.078947   \n",
       "\n",
       "   visitante_cartao_vermelho  mandante_impedimentos  visitante_impedimentos  \\\n",
       "0                   0.080000               1.813333                1.400000   \n",
       "1                   0.263158               1.500000                1.355263   \n",
       "2                   0.131579               1.210526                1.407895   \n",
       "3                   0.078947               1.618421                0.973684   \n",
       "4                   0.065789               1.486842                1.565789   \n",
       "\n",
       "   mandante_escanteios  visitante_escanteios  resultado  \n",
       "0             4.426667              4.693333        2.0  \n",
       "1             4.052632              5.315789        2.0  \n",
       "2             4.210526              4.815789        1.0  \n",
       "3             5.276316              5.513158        0.0  \n",
       "4             5.894737              6.407895        2.0  \n",
       "\n",
       "[5 rows x 35 columns]"
      ]
     },
     "execution_count": 487,
     "metadata": {},
     "output_type": "execute_result"
    }
   ],
   "source": [
    "df_full_recent.head()"
   ]
  },
  {
   "cell_type": "code",
   "execution_count": 488,
   "id": "c1edb994",
   "metadata": {
    "ExecuteTime": {
     "end_time": "2022-03-17T22:49:31.344038Z",
     "start_time": "2022-03-17T22:49:31.338656Z"
    }
   },
   "outputs": [
    {
     "data": {
      "text/plain": [
       "index                                 int64\n",
       "ID                                    int64\n",
       "rodada                                int64\n",
       "data                         datetime64[ns]\n",
       "hora                                 object\n",
       "dia                                  object\n",
       "mandante                             object\n",
       "visitante                            object\n",
       "formacao_mandante                    object\n",
       "formacao_visitante                   object\n",
       "vencedor                             object\n",
       "arena                                object\n",
       "mandante_estado                      object\n",
       "visitante_estado                     object\n",
       "mandante_chutes                     float64\n",
       "visitante_chutes                    float64\n",
       "mandante_chutes_no_alvo             float64\n",
       "visitante_chutes_no_alvo            float64\n",
       "mandante_posse_de_bola              float64\n",
       "visitante_posse_de_bola             float64\n",
       "mandante_passes                     float64\n",
       "visitante_passes                    float64\n",
       "mandante_precisao_passes            float64\n",
       "visitante_precisao_passes           float64\n",
       "mandante_faltas                     float64\n",
       "visitante_faltas                    float64\n",
       "mandante_cartao_amarelo             float64\n",
       "visitante_cartao_amarelo            float64\n",
       "mandante_cartao_vermelho            float64\n",
       "visitante_cartao_vermelho           float64\n",
       "mandante_impedimentos               float64\n",
       "visitante_impedimentos              float64\n",
       "mandante_escanteios                 float64\n",
       "visitante_escanteios                float64\n",
       "resultado                           float64\n",
       "dtype: object"
      ]
     },
     "execution_count": 488,
     "metadata": {},
     "output_type": "execute_result"
    }
   ],
   "source": [
    "df_full_recent.dtypes"
   ]
  },
  {
   "cell_type": "markdown",
   "id": "619090e9",
   "metadata": {},
   "source": [
    "# 2. Exploratory Data Analysy"
   ]
  },
  {
   "cell_type": "code",
   "execution_count": 489,
   "id": "e0fbcb43",
   "metadata": {
    "ExecuteTime": {
     "end_time": "2022-03-17T22:49:31.349511Z",
     "start_time": "2022-03-17T22:49:31.346141Z"
    }
   },
   "outputs": [],
   "source": [
    "df2 = df_full_recent.copy()"
   ]
  },
  {
   "cell_type": "code",
   "execution_count": 490,
   "id": "ee21480b",
   "metadata": {
    "ExecuteTime": {
     "end_time": "2022-03-17T22:49:31.450566Z",
     "start_time": "2022-03-17T22:49:31.355863Z"
    }
   },
   "outputs": [
    {
     "data": {
      "image/png": "[encoded data removed]",
      "text/plain": [
       "<Figure size 432x288 with 1 Axes>"
      ]
     },
     "metadata": {
      "needs_background": "light"
     },
     "output_type": "display_data"
    }
   ],
   "source": [
    "df2.resultado.value_counts(normalize=True).plot(kind='bar');\n",
    "plt.title('0 - Empate, 1 - Mandante, 2 - Visitante');"
   ]
  },
  {
   "cell_type": "code",
   "execution_count": 491,
   "id": "81ff0aeb",
   "metadata": {
    "ExecuteTime": {
     "end_time": "2022-03-17T22:49:31.638614Z",
     "start_time": "2022-03-17T22:49:31.452230Z"
    }
   },
   "outputs": [
    {
     "data": {
      "image/png": "[encoded data removed]",
      "text/plain": [
       "<Figure size 432x288 with 1 Axes>"
      ]
     },
     "metadata": {
      "needs_background": "light"
     },
     "output_type": "display_data"
    }
   ],
   "source": [
    "sns.countplot(y=df2.dia, hue=df2.resultado);\n",
    "plt.title('Resultado por dia da semana');"
   ]
  },
  {
   "cell_type": "markdown",
   "id": "06ba7bb1",
   "metadata": {},
   "source": [
    "# 3. Feature Engineering "
   ]
  },
  {
   "cell_type": "code",
   "execution_count": 492,
   "id": "94fdb3fc",
   "metadata": {
    "ExecuteTime": {
     "end_time": "2022-03-17T22:49:31.644232Z",
     "start_time": "2022-03-17T22:49:31.640389Z"
    }
   },
   "outputs": [],
   "source": [
    "df3 = df2.copy()"
   ]
  },
  {
   "cell_type": "code",
   "execution_count": 493,
   "id": "ec2bfd42",
   "metadata": {
    "ExecuteTime": {
     "end_time": "2022-03-17T22:49:31.649386Z",
     "start_time": "2022-03-17T22:49:31.645782Z"
    }
   },
   "outputs": [],
   "source": [
    "to_drop = ['index', 'vencedor', 'ID']\n",
    "df3 = df3.drop(to_drop, axis = 1)"
   ]
  },
  {
   "cell_type": "code",
   "execution_count": 494,
   "id": "4fa0b10b",
   "metadata": {
    "ExecuteTime": {
     "end_time": "2022-03-17T22:49:31.669797Z",
     "start_time": "2022-03-17T22:49:31.650926Z"
    }
   },
   "outputs": [
    {
     "data": {
      "text/html": [
       "<div>\n",
       "<style scoped>\n",
       "    .dataframe tbody tr th:only-of-type {\n",
       "        vertical-align: middle;\n",
       "    }\n",
       "\n",
       "    .dataframe tbody tr th {\n",
       "        vertical-align: top;\n",
       "    }\n",
       "\n",
       "    .dataframe thead th {\n",
       "        text-align: right;\n",
       "    }\n",
       "</style>\n",
       "<table border=\"1\" class=\"dataframe\">\n",
       "  <thead>\n",
       "    <tr style=\"text-align: right;\">\n",
       "      <th></th>\n",
       "      <th>rodada</th>\n",
       "      <th>data</th>\n",
       "      <th>hora</th>\n",
       "      <th>dia</th>\n",
       "      <th>mandante</th>\n",
       "      <th>visitante</th>\n",
       "      <th>formacao_mandante</th>\n",
       "      <th>formacao_visitante</th>\n",
       "      <th>arena</th>\n",
       "      <th>mandante_estado</th>\n",
       "      <th>...</th>\n",
       "      <th>visitante_faltas</th>\n",
       "      <th>mandante_cartao_amarelo</th>\n",
       "      <th>visitante_cartao_amarelo</th>\n",
       "      <th>mandante_cartao_vermelho</th>\n",
       "      <th>visitante_cartao_vermelho</th>\n",
       "      <th>mandante_impedimentos</th>\n",
       "      <th>visitante_impedimentos</th>\n",
       "      <th>mandante_escanteios</th>\n",
       "      <th>visitante_escanteios</th>\n",
       "      <th>resultado</th>\n",
       "    </tr>\n",
       "  </thead>\n",
       "  <tbody>\n",
       "    <tr>\n",
       "      <th>0</th>\n",
       "      <td>1</td>\n",
       "      <td>2020-08-08</td>\n",
       "      <td>19:00</td>\n",
       "      <td>Sabado</td>\n",
       "      <td>Fortaleza</td>\n",
       "      <td>Athletico-PR</td>\n",
       "      <td>4-2-3-1</td>\n",
       "      <td>4-3-3</td>\n",
       "      <td>arena castelao</td>\n",
       "      <td>CE</td>\n",
       "      <td>...</td>\n",
       "      <td>15.986667</td>\n",
       "      <td>2.146667</td>\n",
       "      <td>2.120000</td>\n",
       "      <td>0.146667</td>\n",
       "      <td>0.080000</td>\n",
       "      <td>1.813333</td>\n",
       "      <td>1.400000</td>\n",
       "      <td>4.426667</td>\n",
       "      <td>4.693333</td>\n",
       "      <td>2.0</td>\n",
       "    </tr>\n",
       "    <tr>\n",
       "      <th>1</th>\n",
       "      <td>1</td>\n",
       "      <td>2020-08-08</td>\n",
       "      <td>10:57</td>\n",
       "      <td>Sabado</td>\n",
       "      <td>Coritiba</td>\n",
       "      <td>Internacional</td>\n",
       "      <td>4-2-3-1</td>\n",
       "      <td>4-2-3-1</td>\n",
       "      <td>couto pereira</td>\n",
       "      <td>PR</td>\n",
       "      <td>...</td>\n",
       "      <td>17.447368</td>\n",
       "      <td>2.078947</td>\n",
       "      <td>2.552632</td>\n",
       "      <td>0.210526</td>\n",
       "      <td>0.263158</td>\n",
       "      <td>1.500000</td>\n",
       "      <td>1.355263</td>\n",
       "      <td>4.052632</td>\n",
       "      <td>5.315789</td>\n",
       "      <td>2.0</td>\n",
       "    </tr>\n",
       "    <tr>\n",
       "      <th>2</th>\n",
       "      <td>1</td>\n",
       "      <td>2020-08-08</td>\n",
       "      <td>10:40</td>\n",
       "      <td>Sabado</td>\n",
       "      <td>Sport</td>\n",
       "      <td>Ceara</td>\n",
       "      <td>4-2-3-1</td>\n",
       "      <td>4-2-3-1</td>\n",
       "      <td>adelmar da costa carvalho</td>\n",
       "      <td>PE</td>\n",
       "      <td>...</td>\n",
       "      <td>15.276316</td>\n",
       "      <td>2.328947</td>\n",
       "      <td>2.236842</td>\n",
       "      <td>0.105263</td>\n",
       "      <td>0.131579</td>\n",
       "      <td>1.210526</td>\n",
       "      <td>1.407895</td>\n",
       "      <td>4.210526</td>\n",
       "      <td>4.815789</td>\n",
       "      <td>1.0</td>\n",
       "    </tr>\n",
       "    <tr>\n",
       "      <th>3</th>\n",
       "      <td>1</td>\n",
       "      <td>2020-08-09</td>\n",
       "      <td>16:02</td>\n",
       "      <td>Domingo</td>\n",
       "      <td>Santos</td>\n",
       "      <td>Bragantino</td>\n",
       "      <td>4-3-3</td>\n",
       "      <td>4-2-3-1</td>\n",
       "      <td>estadio urbano caldeira</td>\n",
       "      <td>SP</td>\n",
       "      <td>...</td>\n",
       "      <td>15.631579</td>\n",
       "      <td>2.276316</td>\n",
       "      <td>2.144737</td>\n",
       "      <td>0.078947</td>\n",
       "      <td>0.078947</td>\n",
       "      <td>1.618421</td>\n",
       "      <td>0.973684</td>\n",
       "      <td>5.276316</td>\n",
       "      <td>5.513158</td>\n",
       "      <td>0.0</td>\n",
       "    </tr>\n",
       "    <tr>\n",
       "      <th>4</th>\n",
       "      <td>1</td>\n",
       "      <td>2020-08-09</td>\n",
       "      <td>16:00</td>\n",
       "      <td>Domingo</td>\n",
       "      <td>Flamengo</td>\n",
       "      <td>Atletico-MG</td>\n",
       "      <td>4-2-3-1</td>\n",
       "      <td>3-5-2</td>\n",
       "      <td>maracana</td>\n",
       "      <td>RJ</td>\n",
       "      <td>...</td>\n",
       "      <td>14.671053</td>\n",
       "      <td>2.236842</td>\n",
       "      <td>1.776316</td>\n",
       "      <td>0.078947</td>\n",
       "      <td>0.065789</td>\n",
       "      <td>1.486842</td>\n",
       "      <td>1.565789</td>\n",
       "      <td>5.894737</td>\n",
       "      <td>6.407895</td>\n",
       "      <td>2.0</td>\n",
       "    </tr>\n",
       "  </tbody>\n",
       "</table>\n",
       "<p>5 rows × 32 columns</p>\n",
       "</div>"
      ],
      "text/plain": [
       "   rodada       data   hora      dia   mandante      visitante  \\\n",
       "0       1 2020-08-08  19:00   Sabado  Fortaleza   Athletico-PR   \n",
       "1       1 2020-08-08  10:57   Sabado   Coritiba  Internacional   \n",
       "2       1 2020-08-08  10:40   Sabado      Sport          Ceara   \n",
       "3       1 2020-08-09  16:02  Domingo     Santos     Bragantino   \n",
       "4       1 2020-08-09  16:00  Domingo   Flamengo    Atletico-MG   \n",
       "\n",
       "  formacao_mandante formacao_visitante                      arena  \\\n",
       "0           4-2-3-1              4-3-3             arena castelao   \n",
       "1           4-2-3-1            4-2-3-1              couto pereira   \n",
       "2           4-2-3-1            4-2-3-1  adelmar da costa carvalho   \n",
       "3             4-3-3            4-2-3-1    estadio urbano caldeira   \n",
       "4           4-2-3-1              3-5-2                   maracana   \n",
       "\n",
       "  mandante_estado  ... visitante_faltas  mandante_cartao_amarelo  \\\n",
       "0              CE  ...        15.986667                 2.146667   \n",
       "1              PR  ...        17.447368                 2.078947   \n",
       "2              PE  ...        15.276316                 2.328947   \n",
       "3              SP  ...        15.631579                 2.276316   \n",
       "4              RJ  ...        14.671053                 2.236842   \n",
       "\n",
       "   visitante_cartao_amarelo  mandante_cartao_vermelho  \\\n",
       "0                  2.120000                  0.146667   \n",
       "1                  2.552632                  0.210526   \n",
       "2                  2.236842                  0.105263   \n",
       "3                  2.144737                  0.078947   \n",
       "4                  1.776316                  0.078947   \n",
       "\n",
       "   visitante_cartao_vermelho  mandante_impedimentos  visitante_impedimentos  \\\n",
       "0                   0.080000               1.813333                1.400000   \n",
       "1                   0.263158               1.500000                1.355263   \n",
       "2                   0.131579               1.210526                1.407895   \n",
       "3                   0.078947               1.618421                0.973684   \n",
       "4                   0.065789               1.486842                1.565789   \n",
       "\n",
       "   mandante_escanteios  visitante_escanteios  resultado  \n",
       "0             4.426667              4.693333        2.0  \n",
       "1             4.052632              5.315789        2.0  \n",
       "2             4.210526              4.815789        1.0  \n",
       "3             5.276316              5.513158        0.0  \n",
       "4             5.894737              6.407895        2.0  \n",
       "\n",
       "[5 rows x 32 columns]"
      ]
     },
     "execution_count": 494,
     "metadata": {},
     "output_type": "execute_result"
    }
   ],
   "source": [
    "df3.head()"
   ]
  },
  {
   "cell_type": "code",
   "execution_count": 495,
   "id": "64cab1df",
   "metadata": {
    "ExecuteTime": {
     "end_time": "2022-03-17T22:49:31.676522Z",
     "start_time": "2022-03-17T22:49:31.671279Z"
    }
   },
   "outputs": [
    {
     "data": {
      "text/plain": [
       "rodada                                int64\n",
       "data                         datetime64[ns]\n",
       "hora                                 object\n",
       "dia                                  object\n",
       "mandante                             object\n",
       "visitante                            object\n",
       "formacao_mandante                    object\n",
       "formacao_visitante                   object\n",
       "arena                                object\n",
       "mandante_estado                      object\n",
       "visitante_estado                     object\n",
       "mandante_chutes                     float64\n",
       "visitante_chutes                    float64\n",
       "mandante_chutes_no_alvo             float64\n",
       "visitante_chutes_no_alvo            float64\n",
       "mandante_posse_de_bola              float64\n",
       "visitante_posse_de_bola             float64\n",
       "mandante_passes                     float64\n",
       "visitante_passes                    float64\n",
       "mandante_precisao_passes            float64\n",
       "visitante_precisao_passes           float64\n",
       "mandante_faltas                     float64\n",
       "visitante_faltas                    float64\n",
       "mandante_cartao_amarelo             float64\n",
       "visitante_cartao_amarelo            float64\n",
       "mandante_cartao_vermelho            float64\n",
       "visitante_cartao_vermelho           float64\n",
       "mandante_impedimentos               float64\n",
       "visitante_impedimentos              float64\n",
       "mandante_escanteios                 float64\n",
       "visitante_escanteios                float64\n",
       "resultado                           float64\n",
       "dtype: object"
      ]
     },
     "execution_count": 495,
     "metadata": {},
     "output_type": "execute_result"
    }
   ],
   "source": [
    "df3.dtypes"
   ]
  },
  {
   "cell_type": "code",
   "execution_count": 496,
   "id": "09e4c9a9",
   "metadata": {
    "ExecuteTime": {
     "end_time": "2022-03-17T22:49:31.692690Z",
     "start_time": "2022-03-17T22:49:31.677949Z"
    }
   },
   "outputs": [],
   "source": [
    "df3.loc[:,'hora_decimal'] = pd.to_datetime(df3.hora).dt.hour + pd.to_datetime(df3.hora).dt.minute / 60"
   ]
  },
  {
   "cell_type": "code",
   "execution_count": 497,
   "id": "900a4911",
   "metadata": {
    "ExecuteTime": {
     "end_time": "2022-03-17T22:49:31.700215Z",
     "start_time": "2022-03-17T22:49:31.695157Z"
    }
   },
   "outputs": [],
   "source": [
    "df3['hora_sin_'] = df3['hora_decimal'].apply(lambda x: np.sin(x * (2 * np.pi/24)))"
   ]
  },
  {
   "cell_type": "code",
   "execution_count": 498,
   "id": "43ee73b5",
   "metadata": {
    "ExecuteTime": {
     "end_time": "2022-03-17T22:49:31.706453Z",
     "start_time": "2022-03-17T22:49:31.701750Z"
    }
   },
   "outputs": [],
   "source": [
    "df3 = df3.drop(['hora', 'hora_decimal'], axis = 1)"
   ]
  },
  {
   "cell_type": "code",
   "execution_count": 499,
   "id": "0eff477b",
   "metadata": {
    "ExecuteTime": {
     "end_time": "2022-03-17T22:49:31.716059Z",
     "start_time": "2022-03-17T22:49:31.713128Z"
    }
   },
   "outputs": [],
   "source": [
    "df3.insert(2, 'hora_sin', df3.hora_sin_)"
   ]
  },
  {
   "cell_type": "code",
   "execution_count": 500,
   "id": "4db7ff65",
   "metadata": {
    "ExecuteTime": {
     "end_time": "2022-03-17T22:49:31.722233Z",
     "start_time": "2022-03-17T22:49:31.717963Z"
    }
   },
   "outputs": [],
   "source": [
    "df3 = df3.drop('hora_sin_', axis = 1)"
   ]
  },
  {
   "cell_type": "code",
   "execution_count": 501,
   "id": "2081235f",
   "metadata": {
    "ExecuteTime": {
     "end_time": "2022-03-17T22:49:31.748535Z",
     "start_time": "2022-03-17T22:49:31.724270Z"
    }
   },
   "outputs": [
    {
     "data": {
      "text/html": [
       "<div>\n",
       "<style scoped>\n",
       "    .dataframe tbody tr th:only-of-type {\n",
       "        vertical-align: middle;\n",
       "    }\n",
       "\n",
       "    .dataframe tbody tr th {\n",
       "        vertical-align: top;\n",
       "    }\n",
       "\n",
       "    .dataframe thead th {\n",
       "        text-align: right;\n",
       "    }\n",
       "</style>\n",
       "<table border=\"1\" class=\"dataframe\">\n",
       "  <thead>\n",
       "    <tr style=\"text-align: right;\">\n",
       "      <th></th>\n",
       "      <th>rodada</th>\n",
       "      <th>data</th>\n",
       "      <th>hora_sin</th>\n",
       "      <th>dia</th>\n",
       "      <th>mandante</th>\n",
       "      <th>visitante</th>\n",
       "      <th>formacao_mandante</th>\n",
       "      <th>formacao_visitante</th>\n",
       "      <th>arena</th>\n",
       "      <th>mandante_estado</th>\n",
       "      <th>...</th>\n",
       "      <th>visitante_faltas</th>\n",
       "      <th>mandante_cartao_amarelo</th>\n",
       "      <th>visitante_cartao_amarelo</th>\n",
       "      <th>mandante_cartao_vermelho</th>\n",
       "      <th>visitante_cartao_vermelho</th>\n",
       "      <th>mandante_impedimentos</th>\n",
       "      <th>visitante_impedimentos</th>\n",
       "      <th>mandante_escanteios</th>\n",
       "      <th>visitante_escanteios</th>\n",
       "      <th>resultado</th>\n",
       "    </tr>\n",
       "  </thead>\n",
       "  <tbody>\n",
       "    <tr>\n",
       "      <th>0</th>\n",
       "      <td>1</td>\n",
       "      <td>2020-08-08</td>\n",
       "      <td>-0.965926</td>\n",
       "      <td>Sabado</td>\n",
       "      <td>Fortaleza</td>\n",
       "      <td>Athletico-PR</td>\n",
       "      <td>4-2-3-1</td>\n",
       "      <td>4-3-3</td>\n",
       "      <td>arena castelao</td>\n",
       "      <td>CE</td>\n",
       "      <td>...</td>\n",
       "      <td>15.986667</td>\n",
       "      <td>2.146667</td>\n",
       "      <td>2.120000</td>\n",
       "      <td>0.146667</td>\n",
       "      <td>0.080000</td>\n",
       "      <td>1.813333</td>\n",
       "      <td>1.400000</td>\n",
       "      <td>4.426667</td>\n",
       "      <td>4.693333</td>\n",
       "      <td>2.0</td>\n",
       "    </tr>\n",
       "    <tr>\n",
       "      <th>1</th>\n",
       "      <td>1</td>\n",
       "      <td>2020-08-08</td>\n",
       "      <td>0.271440</td>\n",
       "      <td>Sabado</td>\n",
       "      <td>Coritiba</td>\n",
       "      <td>Internacional</td>\n",
       "      <td>4-2-3-1</td>\n",
       "      <td>4-2-3-1</td>\n",
       "      <td>couto pereira</td>\n",
       "      <td>PR</td>\n",
       "      <td>...</td>\n",
       "      <td>17.447368</td>\n",
       "      <td>2.078947</td>\n",
       "      <td>2.552632</td>\n",
       "      <td>0.210526</td>\n",
       "      <td>0.263158</td>\n",
       "      <td>1.500000</td>\n",
       "      <td>1.355263</td>\n",
       "      <td>4.052632</td>\n",
       "      <td>5.315789</td>\n",
       "      <td>2.0</td>\n",
       "    </tr>\n",
       "    <tr>\n",
       "      <th>2</th>\n",
       "      <td>1</td>\n",
       "      <td>2020-08-08</td>\n",
       "      <td>0.342020</td>\n",
       "      <td>Sabado</td>\n",
       "      <td>Sport</td>\n",
       "      <td>Ceara</td>\n",
       "      <td>4-2-3-1</td>\n",
       "      <td>4-2-3-1</td>\n",
       "      <td>adelmar da costa carvalho</td>\n",
       "      <td>PE</td>\n",
       "      <td>...</td>\n",
       "      <td>15.276316</td>\n",
       "      <td>2.328947</td>\n",
       "      <td>2.236842</td>\n",
       "      <td>0.105263</td>\n",
       "      <td>0.131579</td>\n",
       "      <td>1.210526</td>\n",
       "      <td>1.407895</td>\n",
       "      <td>4.210526</td>\n",
       "      <td>4.815789</td>\n",
       "      <td>1.0</td>\n",
       "    </tr>\n",
       "    <tr>\n",
       "      <th>3</th>\n",
       "      <td>1</td>\n",
       "      <td>2020-08-09</td>\n",
       "      <td>-0.870356</td>\n",
       "      <td>Domingo</td>\n",
       "      <td>Santos</td>\n",
       "      <td>Bragantino</td>\n",
       "      <td>4-3-3</td>\n",
       "      <td>4-2-3-1</td>\n",
       "      <td>estadio urbano caldeira</td>\n",
       "      <td>SP</td>\n",
       "      <td>...</td>\n",
       "      <td>15.631579</td>\n",
       "      <td>2.276316</td>\n",
       "      <td>2.144737</td>\n",
       "      <td>0.078947</td>\n",
       "      <td>0.078947</td>\n",
       "      <td>1.618421</td>\n",
       "      <td>0.973684</td>\n",
       "      <td>5.276316</td>\n",
       "      <td>5.513158</td>\n",
       "      <td>0.0</td>\n",
       "    </tr>\n",
       "    <tr>\n",
       "      <th>4</th>\n",
       "      <td>1</td>\n",
       "      <td>2020-08-09</td>\n",
       "      <td>-0.866025</td>\n",
       "      <td>Domingo</td>\n",
       "      <td>Flamengo</td>\n",
       "      <td>Atletico-MG</td>\n",
       "      <td>4-2-3-1</td>\n",
       "      <td>3-5-2</td>\n",
       "      <td>maracana</td>\n",
       "      <td>RJ</td>\n",
       "      <td>...</td>\n",
       "      <td>14.671053</td>\n",
       "      <td>2.236842</td>\n",
       "      <td>1.776316</td>\n",
       "      <td>0.078947</td>\n",
       "      <td>0.065789</td>\n",
       "      <td>1.486842</td>\n",
       "      <td>1.565789</td>\n",
       "      <td>5.894737</td>\n",
       "      <td>6.407895</td>\n",
       "      <td>2.0</td>\n",
       "    </tr>\n",
       "  </tbody>\n",
       "</table>\n",
       "<p>5 rows × 32 columns</p>\n",
       "</div>"
      ],
      "text/plain": [
       "   rodada       data  hora_sin      dia   mandante      visitante  \\\n",
       "0       1 2020-08-08 -0.965926   Sabado  Fortaleza   Athletico-PR   \n",
       "1       1 2020-08-08  0.271440   Sabado   Coritiba  Internacional   \n",
       "2       1 2020-08-08  0.342020   Sabado      Sport          Ceara   \n",
       "3       1 2020-08-09 -0.870356  Domingo     Santos     Bragantino   \n",
       "4       1 2020-08-09 -0.866025  Domingo   Flamengo    Atletico-MG   \n",
       "\n",
       "  formacao_mandante formacao_visitante                      arena  \\\n",
       "0           4-2-3-1              4-3-3             arena castelao   \n",
       "1           4-2-3-1            4-2-3-1              couto pereira   \n",
       "2           4-2-3-1            4-2-3-1  adelmar da costa carvalho   \n",
       "3             4-3-3            4-2-3-1    estadio urbano caldeira   \n",
       "4           4-2-3-1              3-5-2                   maracana   \n",
       "\n",
       "  mandante_estado  ... visitante_faltas  mandante_cartao_amarelo  \\\n",
       "0              CE  ...        15.986667                 2.146667   \n",
       "1              PR  ...        17.447368                 2.078947   \n",
       "2              PE  ...        15.276316                 2.328947   \n",
       "3              SP  ...        15.631579                 2.276316   \n",
       "4              RJ  ...        14.671053                 2.236842   \n",
       "\n",
       "   visitante_cartao_amarelo  mandante_cartao_vermelho  \\\n",
       "0                  2.120000                  0.146667   \n",
       "1                  2.552632                  0.210526   \n",
       "2                  2.236842                  0.105263   \n",
       "3                  2.144737                  0.078947   \n",
       "4                  1.776316                  0.078947   \n",
       "\n",
       "   visitante_cartao_vermelho  mandante_impedimentos  visitante_impedimentos  \\\n",
       "0                   0.080000               1.813333                1.400000   \n",
       "1                   0.263158               1.500000                1.355263   \n",
       "2                   0.131579               1.210526                1.407895   \n",
       "3                   0.078947               1.618421                0.973684   \n",
       "4                   0.065789               1.486842                1.565789   \n",
       "\n",
       "   mandante_escanteios  visitante_escanteios  resultado  \n",
       "0             4.426667              4.693333        2.0  \n",
       "1             4.052632              5.315789        2.0  \n",
       "2             4.210526              4.815789        1.0  \n",
       "3             5.276316              5.513158        0.0  \n",
       "4             5.894737              6.407895        2.0  \n",
       "\n",
       "[5 rows x 32 columns]"
      ]
     },
     "execution_count": 501,
     "metadata": {},
     "output_type": "execute_result"
    }
   ],
   "source": [
    "df3.head()"
   ]
  },
  {
   "cell_type": "code",
   "execution_count": 502,
   "id": "0343fc89",
   "metadata": {
    "ExecuteTime": {
     "end_time": "2022-03-17T22:49:31.757723Z",
     "start_time": "2022-03-17T22:49:31.750658Z"
    }
   },
   "outputs": [
    {
     "data": {
      "text/plain": [
       "rodada                                int64\n",
       "data                         datetime64[ns]\n",
       "hora_sin                            float64\n",
       "dia                                  object\n",
       "mandante                             object\n",
       "visitante                            object\n",
       "formacao_mandante                    object\n",
       "formacao_visitante                   object\n",
       "arena                                object\n",
       "mandante_estado                      object\n",
       "visitante_estado                     object\n",
       "mandante_chutes                     float64\n",
       "visitante_chutes                    float64\n",
       "mandante_chutes_no_alvo             float64\n",
       "visitante_chutes_no_alvo            float64\n",
       "mandante_posse_de_bola              float64\n",
       "visitante_posse_de_bola             float64\n",
       "mandante_passes                     float64\n",
       "visitante_passes                    float64\n",
       "mandante_precisao_passes            float64\n",
       "visitante_precisao_passes           float64\n",
       "mandante_faltas                     float64\n",
       "visitante_faltas                    float64\n",
       "mandante_cartao_amarelo             float64\n",
       "visitante_cartao_amarelo            float64\n",
       "mandante_cartao_vermelho            float64\n",
       "visitante_cartao_vermelho           float64\n",
       "mandante_impedimentos               float64\n",
       "visitante_impedimentos              float64\n",
       "mandante_escanteios                 float64\n",
       "visitante_escanteios                float64\n",
       "resultado                           float64\n",
       "dtype: object"
      ]
     },
     "execution_count": 502,
     "metadata": {},
     "output_type": "execute_result"
    }
   ],
   "source": [
    "df3.dtypes"
   ]
  },
  {
   "cell_type": "markdown",
   "id": "9ec5b791",
   "metadata": {},
   "source": [
    "## 3.1 Features creation "
   ]
  },
  {
   "cell_type": "code",
   "execution_count": 503,
   "id": "18edb926",
   "metadata": {
    "ExecuteTime": {
     "end_time": "2022-03-17T22:49:31.795465Z",
     "start_time": "2022-03-17T22:49:31.759992Z"
    }
   },
   "outputs": [
    {
     "data": {
      "text/html": [
       "<div>\n",
       "<style scoped>\n",
       "    .dataframe tbody tr th:only-of-type {\n",
       "        vertical-align: middle;\n",
       "    }\n",
       "\n",
       "    .dataframe tbody tr th {\n",
       "        vertical-align: top;\n",
       "    }\n",
       "\n",
       "    .dataframe thead th {\n",
       "        text-align: right;\n",
       "    }\n",
       "</style>\n",
       "<table border=\"1\" class=\"dataframe\">\n",
       "  <thead>\n",
       "    <tr style=\"text-align: right;\">\n",
       "      <th></th>\n",
       "      <th>rodada</th>\n",
       "      <th>data</th>\n",
       "      <th>hora_sin</th>\n",
       "      <th>dia</th>\n",
       "      <th>mandante</th>\n",
       "      <th>visitante</th>\n",
       "      <th>formacao_mandante</th>\n",
       "      <th>formacao_visitante</th>\n",
       "      <th>arena</th>\n",
       "      <th>mandante_estado</th>\n",
       "      <th>...</th>\n",
       "      <th>visitante_cartao_vermelho</th>\n",
       "      <th>mandante_impedimentos</th>\n",
       "      <th>visitante_impedimentos</th>\n",
       "      <th>mandante_escanteios</th>\n",
       "      <th>visitante_escanteios</th>\n",
       "      <th>resultado</th>\n",
       "      <th>ano</th>\n",
       "      <th>dia_do_mes</th>\n",
       "      <th>mes</th>\n",
       "      <th>semana_do_ano</th>\n",
       "    </tr>\n",
       "  </thead>\n",
       "  <tbody>\n",
       "    <tr>\n",
       "      <th>0</th>\n",
       "      <td>1</td>\n",
       "      <td>2020-08-08</td>\n",
       "      <td>-0.965926</td>\n",
       "      <td>Sabado</td>\n",
       "      <td>Fortaleza</td>\n",
       "      <td>Athletico-PR</td>\n",
       "      <td>4-2-3-1</td>\n",
       "      <td>4-3-3</td>\n",
       "      <td>arena castelao</td>\n",
       "      <td>CE</td>\n",
       "      <td>...</td>\n",
       "      <td>0.080000</td>\n",
       "      <td>1.813333</td>\n",
       "      <td>1.400000</td>\n",
       "      <td>4.426667</td>\n",
       "      <td>4.693333</td>\n",
       "      <td>2.0</td>\n",
       "      <td>2020</td>\n",
       "      <td>8</td>\n",
       "      <td>8</td>\n",
       "      <td>32</td>\n",
       "    </tr>\n",
       "    <tr>\n",
       "      <th>1</th>\n",
       "      <td>1</td>\n",
       "      <td>2020-08-08</td>\n",
       "      <td>0.271440</td>\n",
       "      <td>Sabado</td>\n",
       "      <td>Coritiba</td>\n",
       "      <td>Internacional</td>\n",
       "      <td>4-2-3-1</td>\n",
       "      <td>4-2-3-1</td>\n",
       "      <td>couto pereira</td>\n",
       "      <td>PR</td>\n",
       "      <td>...</td>\n",
       "      <td>0.263158</td>\n",
       "      <td>1.500000</td>\n",
       "      <td>1.355263</td>\n",
       "      <td>4.052632</td>\n",
       "      <td>5.315789</td>\n",
       "      <td>2.0</td>\n",
       "      <td>2020</td>\n",
       "      <td>8</td>\n",
       "      <td>8</td>\n",
       "      <td>32</td>\n",
       "    </tr>\n",
       "    <tr>\n",
       "      <th>2</th>\n",
       "      <td>1</td>\n",
       "      <td>2020-08-08</td>\n",
       "      <td>0.342020</td>\n",
       "      <td>Sabado</td>\n",
       "      <td>Sport</td>\n",
       "      <td>Ceara</td>\n",
       "      <td>4-2-3-1</td>\n",
       "      <td>4-2-3-1</td>\n",
       "      <td>adelmar da costa carvalho</td>\n",
       "      <td>PE</td>\n",
       "      <td>...</td>\n",
       "      <td>0.131579</td>\n",
       "      <td>1.210526</td>\n",
       "      <td>1.407895</td>\n",
       "      <td>4.210526</td>\n",
       "      <td>4.815789</td>\n",
       "      <td>1.0</td>\n",
       "      <td>2020</td>\n",
       "      <td>8</td>\n",
       "      <td>8</td>\n",
       "      <td>32</td>\n",
       "    </tr>\n",
       "    <tr>\n",
       "      <th>3</th>\n",
       "      <td>1</td>\n",
       "      <td>2020-08-09</td>\n",
       "      <td>-0.870356</td>\n",
       "      <td>Domingo</td>\n",
       "      <td>Santos</td>\n",
       "      <td>Bragantino</td>\n",
       "      <td>4-3-3</td>\n",
       "      <td>4-2-3-1</td>\n",
       "      <td>estadio urbano caldeira</td>\n",
       "      <td>SP</td>\n",
       "      <td>...</td>\n",
       "      <td>0.078947</td>\n",
       "      <td>1.618421</td>\n",
       "      <td>0.973684</td>\n",
       "      <td>5.276316</td>\n",
       "      <td>5.513158</td>\n",
       "      <td>0.0</td>\n",
       "      <td>2020</td>\n",
       "      <td>9</td>\n",
       "      <td>8</td>\n",
       "      <td>32</td>\n",
       "    </tr>\n",
       "    <tr>\n",
       "      <th>4</th>\n",
       "      <td>1</td>\n",
       "      <td>2020-08-09</td>\n",
       "      <td>-0.866025</td>\n",
       "      <td>Domingo</td>\n",
       "      <td>Flamengo</td>\n",
       "      <td>Atletico-MG</td>\n",
       "      <td>4-2-3-1</td>\n",
       "      <td>3-5-2</td>\n",
       "      <td>maracana</td>\n",
       "      <td>RJ</td>\n",
       "      <td>...</td>\n",
       "      <td>0.065789</td>\n",
       "      <td>1.486842</td>\n",
       "      <td>1.565789</td>\n",
       "      <td>5.894737</td>\n",
       "      <td>6.407895</td>\n",
       "      <td>2.0</td>\n",
       "      <td>2020</td>\n",
       "      <td>9</td>\n",
       "      <td>8</td>\n",
       "      <td>32</td>\n",
       "    </tr>\n",
       "  </tbody>\n",
       "</table>\n",
       "<p>5 rows × 36 columns</p>\n",
       "</div>"
      ],
      "text/plain": [
       "   rodada       data  hora_sin      dia   mandante      visitante  \\\n",
       "0       1 2020-08-08 -0.965926   Sabado  Fortaleza   Athletico-PR   \n",
       "1       1 2020-08-08  0.271440   Sabado   Coritiba  Internacional   \n",
       "2       1 2020-08-08  0.342020   Sabado      Sport          Ceara   \n",
       "3       1 2020-08-09 -0.870356  Domingo     Santos     Bragantino   \n",
       "4       1 2020-08-09 -0.866025  Domingo   Flamengo    Atletico-MG   \n",
       "\n",
       "  formacao_mandante formacao_visitante                      arena  \\\n",
       "0           4-2-3-1              4-3-3             arena castelao   \n",
       "1           4-2-3-1            4-2-3-1              couto pereira   \n",
       "2           4-2-3-1            4-2-3-1  adelmar da costa carvalho   \n",
       "3             4-3-3            4-2-3-1    estadio urbano caldeira   \n",
       "4           4-2-3-1              3-5-2                   maracana   \n",
       "\n",
       "  mandante_estado  ... visitante_cartao_vermelho  mandante_impedimentos  \\\n",
       "0              CE  ...                  0.080000               1.813333   \n",
       "1              PR  ...                  0.263158               1.500000   \n",
       "2              PE  ...                  0.131579               1.210526   \n",
       "3              SP  ...                  0.078947               1.618421   \n",
       "4              RJ  ...                  0.065789               1.486842   \n",
       "\n",
       "   visitante_impedimentos  mandante_escanteios  visitante_escanteios  \\\n",
       "0                1.400000             4.426667              4.693333   \n",
       "1                1.355263             4.052632              5.315789   \n",
       "2                1.407895             4.210526              4.815789   \n",
       "3                0.973684             5.276316              5.513158   \n",
       "4                1.565789             5.894737              6.407895   \n",
       "\n",
       "   resultado   ano  dia_do_mes  mes  semana_do_ano  \n",
       "0        2.0  2020           8    8             32  \n",
       "1        2.0  2020           8    8             32  \n",
       "2        1.0  2020           8    8             32  \n",
       "3        0.0  2020           9    8             32  \n",
       "4        2.0  2020           9    8             32  \n",
       "\n",
       "[5 rows x 36 columns]"
      ]
     },
     "execution_count": 503,
     "metadata": {},
     "output_type": "execute_result"
    }
   ],
   "source": [
    "df3['ano'] = df3.data.dt.year\n",
    "df3['dia_do_mes'] = df3.data.dt.day\n",
    "df3['mes'] = df3.data.dt.month\n",
    "df3['semana_do_ano'] = df3.data.dt.weekofyear\n",
    "\n",
    "df3.head()"
   ]
  },
  {
   "cell_type": "markdown",
   "id": "f740f90b",
   "metadata": {},
   "source": [
    "## 3.1 Data transformation "
   ]
  },
  {
   "cell_type": "code",
   "execution_count": 504,
   "id": "e3a23b08",
   "metadata": {
    "ExecuteTime": {
     "end_time": "2022-03-17T22:49:31.813196Z",
     "start_time": "2022-03-17T22:49:31.797490Z"
    }
   },
   "outputs": [],
   "source": [
    "# month\n",
    "df3['mes_sin'] = df3['mes'].apply(lambda x: np.sin(x * (2 * np.pi/12)))\n",
    "df3['mes_cos'] = df3['mes'].apply(lambda x: np.cos(x * (2 * np.pi/12)))\n",
    "# day\n",
    "df3['dia_do_mes_sin'] = df3['dia_do_mes'].apply(lambda x: np.sin(x * (2 * np.pi/30)))\n",
    "df3['dia_do_mes_cos'] = df3['dia_do_mes'].apply(lambda x: np.cos(x * (2 * np.pi/30)))\n",
    "# week of year\n",
    "df3['semana_do_ano_sin'] = df3['semana_do_ano'].apply(lambda x: np.sin(x * (2 * np.pi/52)))\n",
    "df3['semana_do_ano_cos'] = df3['semana_do_ano'].apply(lambda x: np.cos(x * (2 * np.pi/52)))"
   ]
  },
  {
   "cell_type": "code",
   "execution_count": 505,
   "id": "641d83bc",
   "metadata": {
    "ExecuteTime": {
     "end_time": "2022-03-17T22:49:31.837970Z",
     "start_time": "2022-03-17T22:49:31.814957Z"
    }
   },
   "outputs": [
    {
     "data": {
      "text/html": [
       "<div>\n",
       "<style scoped>\n",
       "    .dataframe tbody tr th:only-of-type {\n",
       "        vertical-align: middle;\n",
       "    }\n",
       "\n",
       "    .dataframe tbody tr th {\n",
       "        vertical-align: top;\n",
       "    }\n",
       "\n",
       "    .dataframe thead th {\n",
       "        text-align: right;\n",
       "    }\n",
       "</style>\n",
       "<table border=\"1\" class=\"dataframe\">\n",
       "  <thead>\n",
       "    <tr style=\"text-align: right;\">\n",
       "      <th></th>\n",
       "      <th>rodada</th>\n",
       "      <th>data</th>\n",
       "      <th>hora_sin</th>\n",
       "      <th>dia</th>\n",
       "      <th>mandante</th>\n",
       "      <th>visitante</th>\n",
       "      <th>formacao_mandante</th>\n",
       "      <th>formacao_visitante</th>\n",
       "      <th>arena</th>\n",
       "      <th>mandante_estado</th>\n",
       "      <th>...</th>\n",
       "      <th>ano</th>\n",
       "      <th>dia_do_mes</th>\n",
       "      <th>mes</th>\n",
       "      <th>semana_do_ano</th>\n",
       "      <th>mes_sin</th>\n",
       "      <th>mes_cos</th>\n",
       "      <th>dia_do_mes_sin</th>\n",
       "      <th>dia_do_mes_cos</th>\n",
       "      <th>semana_do_ano_sin</th>\n",
       "      <th>semana_do_ano_cos</th>\n",
       "    </tr>\n",
       "  </thead>\n",
       "  <tbody>\n",
       "    <tr>\n",
       "      <th>0</th>\n",
       "      <td>1</td>\n",
       "      <td>2020-08-08</td>\n",
       "      <td>-0.965926</td>\n",
       "      <td>Sabado</td>\n",
       "      <td>Fortaleza</td>\n",
       "      <td>Athletico-PR</td>\n",
       "      <td>4-2-3-1</td>\n",
       "      <td>4-3-3</td>\n",
       "      <td>arena castelao</td>\n",
       "      <td>CE</td>\n",
       "      <td>...</td>\n",
       "      <td>2020</td>\n",
       "      <td>8</td>\n",
       "      <td>8</td>\n",
       "      <td>32</td>\n",
       "      <td>-0.866025</td>\n",
       "      <td>-0.5</td>\n",
       "      <td>0.994522</td>\n",
       "      <td>-0.104528</td>\n",
       "      <td>-0.663123</td>\n",
       "      <td>-0.748511</td>\n",
       "    </tr>\n",
       "    <tr>\n",
       "      <th>1</th>\n",
       "      <td>1</td>\n",
       "      <td>2020-08-08</td>\n",
       "      <td>0.271440</td>\n",
       "      <td>Sabado</td>\n",
       "      <td>Coritiba</td>\n",
       "      <td>Internacional</td>\n",
       "      <td>4-2-3-1</td>\n",
       "      <td>4-2-3-1</td>\n",
       "      <td>couto pereira</td>\n",
       "      <td>PR</td>\n",
       "      <td>...</td>\n",
       "      <td>2020</td>\n",
       "      <td>8</td>\n",
       "      <td>8</td>\n",
       "      <td>32</td>\n",
       "      <td>-0.866025</td>\n",
       "      <td>-0.5</td>\n",
       "      <td>0.994522</td>\n",
       "      <td>-0.104528</td>\n",
       "      <td>-0.663123</td>\n",
       "      <td>-0.748511</td>\n",
       "    </tr>\n",
       "    <tr>\n",
       "      <th>2</th>\n",
       "      <td>1</td>\n",
       "      <td>2020-08-08</td>\n",
       "      <td>0.342020</td>\n",
       "      <td>Sabado</td>\n",
       "      <td>Sport</td>\n",
       "      <td>Ceara</td>\n",
       "      <td>4-2-3-1</td>\n",
       "      <td>4-2-3-1</td>\n",
       "      <td>adelmar da costa carvalho</td>\n",
       "      <td>PE</td>\n",
       "      <td>...</td>\n",
       "      <td>2020</td>\n",
       "      <td>8</td>\n",
       "      <td>8</td>\n",
       "      <td>32</td>\n",
       "      <td>-0.866025</td>\n",
       "      <td>-0.5</td>\n",
       "      <td>0.994522</td>\n",
       "      <td>-0.104528</td>\n",
       "      <td>-0.663123</td>\n",
       "      <td>-0.748511</td>\n",
       "    </tr>\n",
       "    <tr>\n",
       "      <th>3</th>\n",
       "      <td>1</td>\n",
       "      <td>2020-08-09</td>\n",
       "      <td>-0.870356</td>\n",
       "      <td>Domingo</td>\n",
       "      <td>Santos</td>\n",
       "      <td>Bragantino</td>\n",
       "      <td>4-3-3</td>\n",
       "      <td>4-2-3-1</td>\n",
       "      <td>estadio urbano caldeira</td>\n",
       "      <td>SP</td>\n",
       "      <td>...</td>\n",
       "      <td>2020</td>\n",
       "      <td>9</td>\n",
       "      <td>8</td>\n",
       "      <td>32</td>\n",
       "      <td>-0.866025</td>\n",
       "      <td>-0.5</td>\n",
       "      <td>0.951057</td>\n",
       "      <td>-0.309017</td>\n",
       "      <td>-0.663123</td>\n",
       "      <td>-0.748511</td>\n",
       "    </tr>\n",
       "    <tr>\n",
       "      <th>4</th>\n",
       "      <td>1</td>\n",
       "      <td>2020-08-09</td>\n",
       "      <td>-0.866025</td>\n",
       "      <td>Domingo</td>\n",
       "      <td>Flamengo</td>\n",
       "      <td>Atletico-MG</td>\n",
       "      <td>4-2-3-1</td>\n",
       "      <td>3-5-2</td>\n",
       "      <td>maracana</td>\n",
       "      <td>RJ</td>\n",
       "      <td>...</td>\n",
       "      <td>2020</td>\n",
       "      <td>9</td>\n",
       "      <td>8</td>\n",
       "      <td>32</td>\n",
       "      <td>-0.866025</td>\n",
       "      <td>-0.5</td>\n",
       "      <td>0.951057</td>\n",
       "      <td>-0.309017</td>\n",
       "      <td>-0.663123</td>\n",
       "      <td>-0.748511</td>\n",
       "    </tr>\n",
       "  </tbody>\n",
       "</table>\n",
       "<p>5 rows × 42 columns</p>\n",
       "</div>"
      ],
      "text/plain": [
       "   rodada       data  hora_sin      dia   mandante      visitante  \\\n",
       "0       1 2020-08-08 -0.965926   Sabado  Fortaleza   Athletico-PR   \n",
       "1       1 2020-08-08  0.271440   Sabado   Coritiba  Internacional   \n",
       "2       1 2020-08-08  0.342020   Sabado      Sport          Ceara   \n",
       "3       1 2020-08-09 -0.870356  Domingo     Santos     Bragantino   \n",
       "4       1 2020-08-09 -0.866025  Domingo   Flamengo    Atletico-MG   \n",
       "\n",
       "  formacao_mandante formacao_visitante                      arena  \\\n",
       "0           4-2-3-1              4-3-3             arena castelao   \n",
       "1           4-2-3-1            4-2-3-1              couto pereira   \n",
       "2           4-2-3-1            4-2-3-1  adelmar da costa carvalho   \n",
       "3             4-3-3            4-2-3-1    estadio urbano caldeira   \n",
       "4           4-2-3-1              3-5-2                   maracana   \n",
       "\n",
       "  mandante_estado  ...   ano  dia_do_mes  mes  semana_do_ano   mes_sin  \\\n",
       "0              CE  ...  2020           8    8             32 -0.866025   \n",
       "1              PR  ...  2020           8    8             32 -0.866025   \n",
       "2              PE  ...  2020           8    8             32 -0.866025   \n",
       "3              SP  ...  2020           9    8             32 -0.866025   \n",
       "4              RJ  ...  2020           9    8             32 -0.866025   \n",
       "\n",
       "   mes_cos  dia_do_mes_sin  dia_do_mes_cos  semana_do_ano_sin  \\\n",
       "0     -0.5        0.994522       -0.104528          -0.663123   \n",
       "1     -0.5        0.994522       -0.104528          -0.663123   \n",
       "2     -0.5        0.994522       -0.104528          -0.663123   \n",
       "3     -0.5        0.951057       -0.309017          -0.663123   \n",
       "4     -0.5        0.951057       -0.309017          -0.663123   \n",
       "\n",
       "   semana_do_ano_cos  \n",
       "0          -0.748511  \n",
       "1          -0.748511  \n",
       "2          -0.748511  \n",
       "3          -0.748511  \n",
       "4          -0.748511  \n",
       "\n",
       "[5 rows x 42 columns]"
      ]
     },
     "execution_count": 505,
     "metadata": {},
     "output_type": "execute_result"
    }
   ],
   "source": [
    "df3.head()"
   ]
  },
  {
   "cell_type": "code",
   "execution_count": 506,
   "id": "263654d5",
   "metadata": {
    "ExecuteTime": {
     "end_time": "2022-03-17T22:49:31.846980Z",
     "start_time": "2022-03-17T22:49:31.840140Z"
    }
   },
   "outputs": [],
   "source": [
    "# rodadas\n",
    "df3['rodadas_sin'] = df3['rodada'].apply(lambda x: np.sin(x * (2 * np.pi/38)))\n",
    "df3['rodadas_cos'] = df3['rodada'].apply(lambda x: np.cos(x * (2 * np.pi/38)))"
   ]
  },
  {
   "cell_type": "code",
   "execution_count": 507,
   "id": "7ece3577",
   "metadata": {
    "ExecuteTime": {
     "end_time": "2022-03-17T22:49:31.853947Z",
     "start_time": "2022-03-17T22:49:31.848363Z"
    }
   },
   "outputs": [
    {
     "data": {
      "text/plain": [
       "['rodada',\n",
       " 'data',\n",
       " 'hora_sin',\n",
       " 'dia',\n",
       " 'mandante',\n",
       " 'visitante',\n",
       " 'formacao_mandante',\n",
       " 'formacao_visitante',\n",
       " 'arena',\n",
       " 'mandante_estado',\n",
       " 'visitante_estado',\n",
       " 'mandante_chutes',\n",
       " 'visitante_chutes',\n",
       " 'mandante_chutes_no_alvo',\n",
       " 'visitante_chutes_no_alvo',\n",
       " 'mandante_posse_de_bola',\n",
       " 'visitante_posse_de_bola',\n",
       " 'mandante_passes',\n",
       " 'visitante_passes',\n",
       " 'mandante_precisao_passes',\n",
       " 'visitante_precisao_passes',\n",
       " 'mandante_faltas',\n",
       " 'visitante_faltas',\n",
       " 'mandante_cartao_amarelo',\n",
       " 'visitante_cartao_amarelo',\n",
       " 'mandante_cartao_vermelho',\n",
       " 'visitante_cartao_vermelho',\n",
       " 'mandante_impedimentos',\n",
       " 'visitante_impedimentos',\n",
       " 'mandante_escanteios',\n",
       " 'visitante_escanteios',\n",
       " 'resultado',\n",
       " 'ano',\n",
       " 'dia_do_mes',\n",
       " 'mes',\n",
       " 'semana_do_ano',\n",
       " 'mes_sin',\n",
       " 'mes_cos',\n",
       " 'dia_do_mes_sin',\n",
       " 'dia_do_mes_cos',\n",
       " 'semana_do_ano_sin',\n",
       " 'semana_do_ano_cos',\n",
       " 'rodadas_sin',\n",
       " 'rodadas_cos']"
      ]
     },
     "execution_count": 507,
     "metadata": {},
     "output_type": "execute_result"
    }
   ],
   "source": [
    "df3.columns.tolist()"
   ]
  },
  {
   "cell_type": "code",
   "execution_count": 508,
   "id": "65e82b84",
   "metadata": {
    "ExecuteTime": {
     "end_time": "2022-03-17T22:49:31.860015Z",
     "start_time": "2022-03-17T22:49:31.855743Z"
    }
   },
   "outputs": [],
   "source": [
    "to_drop = ['dia', 'mes', 'ano', 'data', 'rodada', 'dia_do_mes', 'semana_do_ano']\n",
    "df3 = df3.drop(to_drop, axis=1)"
   ]
  },
  {
   "cell_type": "code",
   "execution_count": 509,
   "id": "5589328e",
   "metadata": {
    "ExecuteTime": {
     "end_time": "2022-03-17T22:49:31.880817Z",
     "start_time": "2022-03-17T22:49:31.862115Z"
    }
   },
   "outputs": [
    {
     "data": {
      "text/html": [
       "<div>\n",
       "<style scoped>\n",
       "    .dataframe tbody tr th:only-of-type {\n",
       "        vertical-align: middle;\n",
       "    }\n",
       "\n",
       "    .dataframe tbody tr th {\n",
       "        vertical-align: top;\n",
       "    }\n",
       "\n",
       "    .dataframe thead th {\n",
       "        text-align: right;\n",
       "    }\n",
       "</style>\n",
       "<table border=\"1\" class=\"dataframe\">\n",
       "  <thead>\n",
       "    <tr style=\"text-align: right;\">\n",
       "      <th></th>\n",
       "      <th>hora_sin</th>\n",
       "      <th>mandante</th>\n",
       "      <th>visitante</th>\n",
       "      <th>formacao_mandante</th>\n",
       "      <th>formacao_visitante</th>\n",
       "      <th>arena</th>\n",
       "      <th>mandante_estado</th>\n",
       "      <th>visitante_estado</th>\n",
       "      <th>mandante_chutes</th>\n",
       "      <th>visitante_chutes</th>\n",
       "      <th>...</th>\n",
       "      <th>visitante_escanteios</th>\n",
       "      <th>resultado</th>\n",
       "      <th>mes_sin</th>\n",
       "      <th>mes_cos</th>\n",
       "      <th>dia_do_mes_sin</th>\n",
       "      <th>dia_do_mes_cos</th>\n",
       "      <th>semana_do_ano_sin</th>\n",
       "      <th>semana_do_ano_cos</th>\n",
       "      <th>rodadas_sin</th>\n",
       "      <th>rodadas_cos</th>\n",
       "    </tr>\n",
       "  </thead>\n",
       "  <tbody>\n",
       "    <tr>\n",
       "      <th>0</th>\n",
       "      <td>-0.965926</td>\n",
       "      <td>Fortaleza</td>\n",
       "      <td>Athletico-PR</td>\n",
       "      <td>4-2-3-1</td>\n",
       "      <td>4-3-3</td>\n",
       "      <td>arena castelao</td>\n",
       "      <td>CE</td>\n",
       "      <td>PR</td>\n",
       "      <td>12.560000</td>\n",
       "      <td>12.440000</td>\n",
       "      <td>...</td>\n",
       "      <td>4.693333</td>\n",
       "      <td>2.0</td>\n",
       "      <td>-0.866025</td>\n",
       "      <td>-0.5</td>\n",
       "      <td>0.994522</td>\n",
       "      <td>-0.104528</td>\n",
       "      <td>-0.663123</td>\n",
       "      <td>-0.748511</td>\n",
       "      <td>0.164595</td>\n",
       "      <td>0.986361</td>\n",
       "    </tr>\n",
       "    <tr>\n",
       "      <th>1</th>\n",
       "      <td>0.271440</td>\n",
       "      <td>Coritiba</td>\n",
       "      <td>Internacional</td>\n",
       "      <td>4-2-3-1</td>\n",
       "      <td>4-2-3-1</td>\n",
       "      <td>couto pereira</td>\n",
       "      <td>PR</td>\n",
       "      <td>RS</td>\n",
       "      <td>10.342105</td>\n",
       "      <td>12.052632</td>\n",
       "      <td>...</td>\n",
       "      <td>5.315789</td>\n",
       "      <td>2.0</td>\n",
       "      <td>-0.866025</td>\n",
       "      <td>-0.5</td>\n",
       "      <td>0.994522</td>\n",
       "      <td>-0.104528</td>\n",
       "      <td>-0.663123</td>\n",
       "      <td>-0.748511</td>\n",
       "      <td>0.164595</td>\n",
       "      <td>0.986361</td>\n",
       "    </tr>\n",
       "    <tr>\n",
       "      <th>2</th>\n",
       "      <td>0.342020</td>\n",
       "      <td>Sport</td>\n",
       "      <td>Ceara</td>\n",
       "      <td>4-2-3-1</td>\n",
       "      <td>4-2-3-1</td>\n",
       "      <td>adelmar da costa carvalho</td>\n",
       "      <td>PE</td>\n",
       "      <td>CE</td>\n",
       "      <td>11.078947</td>\n",
       "      <td>12.736842</td>\n",
       "      <td>...</td>\n",
       "      <td>4.815789</td>\n",
       "      <td>1.0</td>\n",
       "      <td>-0.866025</td>\n",
       "      <td>-0.5</td>\n",
       "      <td>0.994522</td>\n",
       "      <td>-0.104528</td>\n",
       "      <td>-0.663123</td>\n",
       "      <td>-0.748511</td>\n",
       "      <td>0.164595</td>\n",
       "      <td>0.986361</td>\n",
       "    </tr>\n",
       "    <tr>\n",
       "      <th>3</th>\n",
       "      <td>-0.870356</td>\n",
       "      <td>Santos</td>\n",
       "      <td>Bragantino</td>\n",
       "      <td>4-3-3</td>\n",
       "      <td>4-2-3-1</td>\n",
       "      <td>estadio urbano caldeira</td>\n",
       "      <td>SP</td>\n",
       "      <td>SP</td>\n",
       "      <td>11.921053</td>\n",
       "      <td>14.381579</td>\n",
       "      <td>...</td>\n",
       "      <td>5.513158</td>\n",
       "      <td>0.0</td>\n",
       "      <td>-0.866025</td>\n",
       "      <td>-0.5</td>\n",
       "      <td>0.951057</td>\n",
       "      <td>-0.309017</td>\n",
       "      <td>-0.663123</td>\n",
       "      <td>-0.748511</td>\n",
       "      <td>0.164595</td>\n",
       "      <td>0.986361</td>\n",
       "    </tr>\n",
       "    <tr>\n",
       "      <th>4</th>\n",
       "      <td>-0.866025</td>\n",
       "      <td>Flamengo</td>\n",
       "      <td>Atletico-MG</td>\n",
       "      <td>4-2-3-1</td>\n",
       "      <td>3-5-2</td>\n",
       "      <td>maracana</td>\n",
       "      <td>RJ</td>\n",
       "      <td>MG</td>\n",
       "      <td>15.276316</td>\n",
       "      <td>15.144737</td>\n",
       "      <td>...</td>\n",
       "      <td>6.407895</td>\n",
       "      <td>2.0</td>\n",
       "      <td>-0.866025</td>\n",
       "      <td>-0.5</td>\n",
       "      <td>0.951057</td>\n",
       "      <td>-0.309017</td>\n",
       "      <td>-0.663123</td>\n",
       "      <td>-0.748511</td>\n",
       "      <td>0.164595</td>\n",
       "      <td>0.986361</td>\n",
       "    </tr>\n",
       "  </tbody>\n",
       "</table>\n",
       "<p>5 rows × 37 columns</p>\n",
       "</div>"
      ],
      "text/plain": [
       "   hora_sin   mandante      visitante formacao_mandante formacao_visitante  \\\n",
       "0 -0.965926  Fortaleza   Athletico-PR           4-2-3-1              4-3-3   \n",
       "1  0.271440   Coritiba  Internacional           4-2-3-1            4-2-3-1   \n",
       "2  0.342020      Sport          Ceara           4-2-3-1            4-2-3-1   \n",
       "3 -0.870356     Santos     Bragantino             4-3-3            4-2-3-1   \n",
       "4 -0.866025   Flamengo    Atletico-MG           4-2-3-1              3-5-2   \n",
       "\n",
       "                       arena mandante_estado visitante_estado  \\\n",
       "0             arena castelao              CE               PR   \n",
       "1              couto pereira              PR               RS   \n",
       "2  adelmar da costa carvalho              PE               CE   \n",
       "3    estadio urbano caldeira              SP               SP   \n",
       "4                   maracana              RJ               MG   \n",
       "\n",
       "   mandante_chutes  visitante_chutes  ...  visitante_escanteios  resultado  \\\n",
       "0        12.560000         12.440000  ...              4.693333        2.0   \n",
       "1        10.342105         12.052632  ...              5.315789        2.0   \n",
       "2        11.078947         12.736842  ...              4.815789        1.0   \n",
       "3        11.921053         14.381579  ...              5.513158        0.0   \n",
       "4        15.276316         15.144737  ...              6.407895        2.0   \n",
       "\n",
       "    mes_sin  mes_cos  dia_do_mes_sin  dia_do_mes_cos  semana_do_ano_sin  \\\n",
       "0 -0.866025     -0.5        0.994522       -0.104528          -0.663123   \n",
       "1 -0.866025     -0.5        0.994522       -0.104528          -0.663123   \n",
       "2 -0.866025     -0.5        0.994522       -0.104528          -0.663123   \n",
       "3 -0.866025     -0.5        0.951057       -0.309017          -0.663123   \n",
       "4 -0.866025     -0.5        0.951057       -0.309017          -0.663123   \n",
       "\n",
       "   semana_do_ano_cos  rodadas_sin  rodadas_cos  \n",
       "0          -0.748511     0.164595     0.986361  \n",
       "1          -0.748511     0.164595     0.986361  \n",
       "2          -0.748511     0.164595     0.986361  \n",
       "3          -0.748511     0.164595     0.986361  \n",
       "4          -0.748511     0.164595     0.986361  \n",
       "\n",
       "[5 rows x 37 columns]"
      ]
     },
     "execution_count": 509,
     "metadata": {},
     "output_type": "execute_result"
    }
   ],
   "source": [
    "df3.head()"
   ]
  },
  {
   "cell_type": "code",
   "execution_count": 510,
   "id": "62b9f6aa",
   "metadata": {
    "ExecuteTime": {
     "end_time": "2022-03-17T22:49:31.885756Z",
     "start_time": "2022-03-17T22:49:31.882580Z"
    }
   },
   "outputs": [],
   "source": [
    "df3.insert(len(df3.columns.tolist()), 'resultado_final', df3.resultado)"
   ]
  },
  {
   "cell_type": "code",
   "execution_count": 511,
   "id": "4fd0d678",
   "metadata": {
    "ExecuteTime": {
     "end_time": "2022-03-17T22:49:31.892272Z",
     "start_time": "2022-03-17T22:49:31.887788Z"
    }
   },
   "outputs": [],
   "source": [
    "df3 = df3.drop('resultado', axis = 1)"
   ]
  },
  {
   "cell_type": "code",
   "execution_count": 512,
   "id": "e1ba7ec8",
   "metadata": {
    "ExecuteTime": {
     "end_time": "2022-03-17T22:49:31.897701Z",
     "start_time": "2022-03-17T22:49:31.894090Z"
    }
   },
   "outputs": [],
   "source": [
    "df3['resultado_final'] = df3.resultado_final.astype(int)"
   ]
  },
  {
   "cell_type": "code",
   "execution_count": 513,
   "id": "fb737ae7",
   "metadata": {
    "ExecuteTime": {
     "end_time": "2022-03-17T22:49:31.909600Z",
     "start_time": "2022-03-17T22:49:31.899333Z"
    }
   },
   "outputs": [
    {
     "data": {
      "text/plain": [
       "hora_sin                     float64\n",
       "mandante                      object\n",
       "visitante                     object\n",
       "formacao_mandante             object\n",
       "formacao_visitante            object\n",
       "arena                         object\n",
       "mandante_estado               object\n",
       "visitante_estado              object\n",
       "mandante_chutes              float64\n",
       "visitante_chutes             float64\n",
       "mandante_chutes_no_alvo      float64\n",
       "visitante_chutes_no_alvo     float64\n",
       "mandante_posse_de_bola       float64\n",
       "visitante_posse_de_bola      float64\n",
       "mandante_passes              float64\n",
       "visitante_passes             float64\n",
       "mandante_precisao_passes     float64\n",
       "visitante_precisao_passes    float64\n",
       "mandante_faltas              float64\n",
       "visitante_faltas             float64\n",
       "mandante_cartao_amarelo      float64\n",
       "visitante_cartao_amarelo     float64\n",
       "mandante_cartao_vermelho     float64\n",
       "visitante_cartao_vermelho    float64\n",
       "mandante_impedimentos        float64\n",
       "visitante_impedimentos       float64\n",
       "mandante_escanteios          float64\n",
       "visitante_escanteios         float64\n",
       "mes_sin                      float64\n",
       "mes_cos                      float64\n",
       "dia_do_mes_sin               float64\n",
       "dia_do_mes_cos               float64\n",
       "semana_do_ano_sin            float64\n",
       "semana_do_ano_cos            float64\n",
       "rodadas_sin                  float64\n",
       "rodadas_cos                  float64\n",
       "resultado_final                int64\n",
       "dtype: object"
      ]
     },
     "execution_count": 513,
     "metadata": {},
     "output_type": "execute_result"
    }
   ],
   "source": [
    "df3.dtypes"
   ]
  },
  {
   "cell_type": "code",
   "execution_count": 514,
   "id": "f75e3682",
   "metadata": {
    "ExecuteTime": {
     "end_time": "2022-03-17T22:49:31.915848Z",
     "start_time": "2022-03-17T22:49:31.911146Z"
    }
   },
   "outputs": [],
   "source": [
    "categorical = ['mandante', 'visitante', 'formacao_mandante', 'formacao_visitante', 'arena', 'mandante_estado', 'visitante_estado']\n",
    "target = ['resultado_final']\n",
    "\n",
    "df3_cat = df3[categorical]\n",
    "df3_target = df3[target]"
   ]
  },
  {
   "cell_type": "code",
   "execution_count": 515,
   "id": "30bae413",
   "metadata": {
    "ExecuteTime": {
     "end_time": "2022-03-17T22:49:31.926354Z",
     "start_time": "2022-03-17T22:49:31.917801Z"
    }
   },
   "outputs": [],
   "source": [
    "df3_cat_dummies = pd.get_dummies(df3_cat)"
   ]
  },
  {
   "cell_type": "code",
   "execution_count": 516,
   "id": "499db33c",
   "metadata": {
    "ExecuteTime": {
     "end_time": "2022-03-17T22:49:31.944155Z",
     "start_time": "2022-03-17T22:49:31.928006Z"
    }
   },
   "outputs": [
    {
     "data": {
      "text/html": [
       "<div>\n",
       "<style scoped>\n",
       "    .dataframe tbody tr th:only-of-type {\n",
       "        vertical-align: middle;\n",
       "    }\n",
       "\n",
       "    .dataframe tbody tr th {\n",
       "        vertical-align: top;\n",
       "    }\n",
       "\n",
       "    .dataframe thead th {\n",
       "        text-align: right;\n",
       "    }\n",
       "</style>\n",
       "<table border=\"1\" class=\"dataframe\">\n",
       "  <thead>\n",
       "    <tr style=\"text-align: right;\">\n",
       "      <th></th>\n",
       "      <th>mandante_America-MG</th>\n",
       "      <th>mandante_Athletico-PR</th>\n",
       "      <th>mandante_Atletico-GO</th>\n",
       "      <th>mandante_Atletico-MG</th>\n",
       "      <th>mandante_Bahia</th>\n",
       "      <th>mandante_Botafogo-RJ</th>\n",
       "      <th>mandante_Bragantino</th>\n",
       "      <th>mandante_Ceara</th>\n",
       "      <th>mandante_Chapecoense</th>\n",
       "      <th>mandante_Corinthians</th>\n",
       "      <th>...</th>\n",
       "      <th>visitante_estado_CE</th>\n",
       "      <th>visitante_estado_GO</th>\n",
       "      <th>visitante_estado_MG</th>\n",
       "      <th>visitante_estado_MT</th>\n",
       "      <th>visitante_estado_PE</th>\n",
       "      <th>visitante_estado_PR</th>\n",
       "      <th>visitante_estado_RJ</th>\n",
       "      <th>visitante_estado_RS</th>\n",
       "      <th>visitante_estado_SC</th>\n",
       "      <th>visitante_estado_SP</th>\n",
       "    </tr>\n",
       "  </thead>\n",
       "  <tbody>\n",
       "    <tr>\n",
       "      <th>0</th>\n",
       "      <td>0</td>\n",
       "      <td>0</td>\n",
       "      <td>0</td>\n",
       "      <td>0</td>\n",
       "      <td>0</td>\n",
       "      <td>0</td>\n",
       "      <td>0</td>\n",
       "      <td>0</td>\n",
       "      <td>0</td>\n",
       "      <td>0</td>\n",
       "      <td>...</td>\n",
       "      <td>0</td>\n",
       "      <td>0</td>\n",
       "      <td>0</td>\n",
       "      <td>0</td>\n",
       "      <td>0</td>\n",
       "      <td>1</td>\n",
       "      <td>0</td>\n",
       "      <td>0</td>\n",
       "      <td>0</td>\n",
       "      <td>0</td>\n",
       "    </tr>\n",
       "    <tr>\n",
       "      <th>1</th>\n",
       "      <td>0</td>\n",
       "      <td>0</td>\n",
       "      <td>0</td>\n",
       "      <td>0</td>\n",
       "      <td>0</td>\n",
       "      <td>0</td>\n",
       "      <td>0</td>\n",
       "      <td>0</td>\n",
       "      <td>0</td>\n",
       "      <td>0</td>\n",
       "      <td>...</td>\n",
       "      <td>0</td>\n",
       "      <td>0</td>\n",
       "      <td>0</td>\n",
       "      <td>0</td>\n",
       "      <td>0</td>\n",
       "      <td>0</td>\n",
       "      <td>0</td>\n",
       "      <td>1</td>\n",
       "      <td>0</td>\n",
       "      <td>0</td>\n",
       "    </tr>\n",
       "    <tr>\n",
       "      <th>2</th>\n",
       "      <td>0</td>\n",
       "      <td>0</td>\n",
       "      <td>0</td>\n",
       "      <td>0</td>\n",
       "      <td>0</td>\n",
       "      <td>0</td>\n",
       "      <td>0</td>\n",
       "      <td>0</td>\n",
       "      <td>0</td>\n",
       "      <td>0</td>\n",
       "      <td>...</td>\n",
       "      <td>1</td>\n",
       "      <td>0</td>\n",
       "      <td>0</td>\n",
       "      <td>0</td>\n",
       "      <td>0</td>\n",
       "      <td>0</td>\n",
       "      <td>0</td>\n",
       "      <td>0</td>\n",
       "      <td>0</td>\n",
       "      <td>0</td>\n",
       "    </tr>\n",
       "    <tr>\n",
       "      <th>3</th>\n",
       "      <td>0</td>\n",
       "      <td>0</td>\n",
       "      <td>0</td>\n",
       "      <td>0</td>\n",
       "      <td>0</td>\n",
       "      <td>0</td>\n",
       "      <td>0</td>\n",
       "      <td>0</td>\n",
       "      <td>0</td>\n",
       "      <td>0</td>\n",
       "      <td>...</td>\n",
       "      <td>0</td>\n",
       "      <td>0</td>\n",
       "      <td>0</td>\n",
       "      <td>0</td>\n",
       "      <td>0</td>\n",
       "      <td>0</td>\n",
       "      <td>0</td>\n",
       "      <td>0</td>\n",
       "      <td>0</td>\n",
       "      <td>1</td>\n",
       "    </tr>\n",
       "    <tr>\n",
       "      <th>4</th>\n",
       "      <td>0</td>\n",
       "      <td>0</td>\n",
       "      <td>0</td>\n",
       "      <td>0</td>\n",
       "      <td>0</td>\n",
       "      <td>0</td>\n",
       "      <td>0</td>\n",
       "      <td>0</td>\n",
       "      <td>0</td>\n",
       "      <td>0</td>\n",
       "      <td>...</td>\n",
       "      <td>0</td>\n",
       "      <td>0</td>\n",
       "      <td>1</td>\n",
       "      <td>0</td>\n",
       "      <td>0</td>\n",
       "      <td>0</td>\n",
       "      <td>0</td>\n",
       "      <td>0</td>\n",
       "      <td>0</td>\n",
       "      <td>0</td>\n",
       "    </tr>\n",
       "    <tr>\n",
       "      <th>...</th>\n",
       "      <td>...</td>\n",
       "      <td>...</td>\n",
       "      <td>...</td>\n",
       "      <td>...</td>\n",
       "      <td>...</td>\n",
       "      <td>...</td>\n",
       "      <td>...</td>\n",
       "      <td>...</td>\n",
       "      <td>...</td>\n",
       "      <td>...</td>\n",
       "      <td>...</td>\n",
       "      <td>...</td>\n",
       "      <td>...</td>\n",
       "      <td>...</td>\n",
       "      <td>...</td>\n",
       "      <td>...</td>\n",
       "      <td>...</td>\n",
       "      <td>...</td>\n",
       "      <td>...</td>\n",
       "      <td>...</td>\n",
       "      <td>...</td>\n",
       "    </tr>\n",
       "    <tr>\n",
       "      <th>755</th>\n",
       "      <td>0</td>\n",
       "      <td>0</td>\n",
       "      <td>0</td>\n",
       "      <td>0</td>\n",
       "      <td>0</td>\n",
       "      <td>0</td>\n",
       "      <td>1</td>\n",
       "      <td>0</td>\n",
       "      <td>0</td>\n",
       "      <td>0</td>\n",
       "      <td>...</td>\n",
       "      <td>0</td>\n",
       "      <td>0</td>\n",
       "      <td>0</td>\n",
       "      <td>0</td>\n",
       "      <td>0</td>\n",
       "      <td>0</td>\n",
       "      <td>0</td>\n",
       "      <td>1</td>\n",
       "      <td>0</td>\n",
       "      <td>0</td>\n",
       "    </tr>\n",
       "    <tr>\n",
       "      <th>756</th>\n",
       "      <td>0</td>\n",
       "      <td>0</td>\n",
       "      <td>0</td>\n",
       "      <td>0</td>\n",
       "      <td>0</td>\n",
       "      <td>0</td>\n",
       "      <td>0</td>\n",
       "      <td>0</td>\n",
       "      <td>0</td>\n",
       "      <td>0</td>\n",
       "      <td>...</td>\n",
       "      <td>0</td>\n",
       "      <td>0</td>\n",
       "      <td>0</td>\n",
       "      <td>0</td>\n",
       "      <td>0</td>\n",
       "      <td>1</td>\n",
       "      <td>0</td>\n",
       "      <td>0</td>\n",
       "      <td>0</td>\n",
       "      <td>0</td>\n",
       "    </tr>\n",
       "    <tr>\n",
       "      <th>757</th>\n",
       "      <td>0</td>\n",
       "      <td>0</td>\n",
       "      <td>0</td>\n",
       "      <td>0</td>\n",
       "      <td>0</td>\n",
       "      <td>0</td>\n",
       "      <td>0</td>\n",
       "      <td>0</td>\n",
       "      <td>0</td>\n",
       "      <td>0</td>\n",
       "      <td>...</td>\n",
       "      <td>0</td>\n",
       "      <td>0</td>\n",
       "      <td>0</td>\n",
       "      <td>0</td>\n",
       "      <td>0</td>\n",
       "      <td>0</td>\n",
       "      <td>0</td>\n",
       "      <td>0</td>\n",
       "      <td>0</td>\n",
       "      <td>1</td>\n",
       "    </tr>\n",
       "    <tr>\n",
       "      <th>758</th>\n",
       "      <td>0</td>\n",
       "      <td>0</td>\n",
       "      <td>0</td>\n",
       "      <td>0</td>\n",
       "      <td>0</td>\n",
       "      <td>0</td>\n",
       "      <td>0</td>\n",
       "      <td>0</td>\n",
       "      <td>0</td>\n",
       "      <td>0</td>\n",
       "      <td>...</td>\n",
       "      <td>0</td>\n",
       "      <td>0</td>\n",
       "      <td>1</td>\n",
       "      <td>0</td>\n",
       "      <td>0</td>\n",
       "      <td>0</td>\n",
       "      <td>0</td>\n",
       "      <td>0</td>\n",
       "      <td>0</td>\n",
       "      <td>0</td>\n",
       "    </tr>\n",
       "    <tr>\n",
       "      <th>759</th>\n",
       "      <td>0</td>\n",
       "      <td>0</td>\n",
       "      <td>0</td>\n",
       "      <td>0</td>\n",
       "      <td>0</td>\n",
       "      <td>0</td>\n",
       "      <td>0</td>\n",
       "      <td>0</td>\n",
       "      <td>0</td>\n",
       "      <td>0</td>\n",
       "      <td>...</td>\n",
       "      <td>0</td>\n",
       "      <td>0</td>\n",
       "      <td>0</td>\n",
       "      <td>1</td>\n",
       "      <td>0</td>\n",
       "      <td>0</td>\n",
       "      <td>0</td>\n",
       "      <td>0</td>\n",
       "      <td>0</td>\n",
       "      <td>0</td>\n",
       "    </tr>\n",
       "  </tbody>\n",
       "</table>\n",
       "<p>760 rows × 137 columns</p>\n",
       "</div>"
      ],
      "text/plain": [
       "     mandante_America-MG  mandante_Athletico-PR  mandante_Atletico-GO  \\\n",
       "0                      0                      0                     0   \n",
       "1                      0                      0                     0   \n",
       "2                      0                      0                     0   \n",
       "3                      0                      0                     0   \n",
       "4                      0                      0                     0   \n",
       "..                   ...                    ...                   ...   \n",
       "755                    0                      0                     0   \n",
       "756                    0                      0                     0   \n",
       "757                    0                      0                     0   \n",
       "758                    0                      0                     0   \n",
       "759                    0                      0                     0   \n",
       "\n",
       "     mandante_Atletico-MG  mandante_Bahia  mandante_Botafogo-RJ  \\\n",
       "0                       0               0                     0   \n",
       "1                       0               0                     0   \n",
       "2                       0               0                     0   \n",
       "3                       0               0                     0   \n",
       "4                       0               0                     0   \n",
       "..                    ...             ...                   ...   \n",
       "755                     0               0                     0   \n",
       "756                     0               0                     0   \n",
       "757                     0               0                     0   \n",
       "758                     0               0                     0   \n",
       "759                     0               0                     0   \n",
       "\n",
       "     mandante_Bragantino  mandante_Ceara  mandante_Chapecoense  \\\n",
       "0                      0               0                     0   \n",
       "1                      0               0                     0   \n",
       "2                      0               0                     0   \n",
       "3                      0               0                     0   \n",
       "4                      0               0                     0   \n",
       "..                   ...             ...                   ...   \n",
       "755                    1               0                     0   \n",
       "756                    0               0                     0   \n",
       "757                    0               0                     0   \n",
       "758                    0               0                     0   \n",
       "759                    0               0                     0   \n",
       "\n",
       "     mandante_Corinthians  ...  visitante_estado_CE  visitante_estado_GO  \\\n",
       "0                       0  ...                    0                    0   \n",
       "1                       0  ...                    0                    0   \n",
       "2                       0  ...                    1                    0   \n",
       "3                       0  ...                    0                    0   \n",
       "4                       0  ...                    0                    0   \n",
       "..                    ...  ...                  ...                  ...   \n",
       "755                     0  ...                    0                    0   \n",
       "756                     0  ...                    0                    0   \n",
       "757                     0  ...                    0                    0   \n",
       "758                     0  ...                    0                    0   \n",
       "759                     0  ...                    0                    0   \n",
       "\n",
       "     visitante_estado_MG  visitante_estado_MT  visitante_estado_PE  \\\n",
       "0                      0                    0                    0   \n",
       "1                      0                    0                    0   \n",
       "2                      0                    0                    0   \n",
       "3                      0                    0                    0   \n",
       "4                      1                    0                    0   \n",
       "..                   ...                  ...                  ...   \n",
       "755                    0                    0                    0   \n",
       "756                    0                    0                    0   \n",
       "757                    0                    0                    0   \n",
       "758                    1                    0                    0   \n",
       "759                    0                    1                    0   \n",
       "\n",
       "     visitante_estado_PR  visitante_estado_RJ  visitante_estado_RS  \\\n",
       "0                      1                    0                    0   \n",
       "1                      0                    0                    1   \n",
       "2                      0                    0                    0   \n",
       "3                      0                    0                    0   \n",
       "4                      0                    0                    0   \n",
       "..                   ...                  ...                  ...   \n",
       "755                    0                    0                    1   \n",
       "756                    1                    0                    0   \n",
       "757                    0                    0                    0   \n",
       "758                    0                    0                    0   \n",
       "759                    0                    0                    0   \n",
       "\n",
       "     visitante_estado_SC  visitante_estado_SP  \n",
       "0                      0                    0  \n",
       "1                      0                    0  \n",
       "2                      0                    0  \n",
       "3                      0                    1  \n",
       "4                      0                    0  \n",
       "..                   ...                  ...  \n",
       "755                    0                    0  \n",
       "756                    0                    0  \n",
       "757                    0                    1  \n",
       "758                    0                    0  \n",
       "759                    0                    0  \n",
       "\n",
       "[760 rows x 137 columns]"
      ]
     },
     "execution_count": 516,
     "metadata": {},
     "output_type": "execute_result"
    }
   ],
   "source": [
    "df3_cat_dummies"
   ]
  },
  {
   "cell_type": "code",
   "execution_count": 517,
   "id": "87dcfab5",
   "metadata": {
    "ExecuteTime": {
     "end_time": "2022-03-17T22:49:31.948858Z",
     "start_time": "2022-03-17T22:49:31.946312Z"
    }
   },
   "outputs": [],
   "source": [
    "categorical.append(target[0])"
   ]
  },
  {
   "cell_type": "code",
   "execution_count": 518,
   "id": "aba07f64",
   "metadata": {
    "ExecuteTime": {
     "end_time": "2022-03-17T22:49:31.966762Z",
     "start_time": "2022-03-17T22:49:31.950724Z"
    }
   },
   "outputs": [],
   "source": [
    "to_drop = ['mandante',\n",
    "           'visitante',\n",
    "           'formacao_mandante',\n",
    "           'formacao_visitante',\n",
    "           'arena',\n",
    "           'mandante_estado',\n",
    "           'visitante_estado',\n",
    "           'resultado_final']"
   ]
  },
  {
   "cell_type": "code",
   "execution_count": 519,
   "id": "76908b26",
   "metadata": {
    "ExecuteTime": {
     "end_time": "2022-03-17T22:49:31.983890Z",
     "start_time": "2022-03-17T22:49:31.968430Z"
    }
   },
   "outputs": [],
   "source": [
    "df3_numeric = df3.drop(to_drop, axis=1)"
   ]
  },
  {
   "cell_type": "code",
   "execution_count": 520,
   "id": "1f3c520b",
   "metadata": {
    "ExecuteTime": {
     "end_time": "2022-03-17T22:49:31.990241Z",
     "start_time": "2022-03-17T22:49:31.986572Z"
    }
   },
   "outputs": [],
   "source": [
    "columns = df3_numeric.columns.tolist()"
   ]
  },
  {
   "cell_type": "code",
   "execution_count": 521,
   "id": "44fa07a7",
   "metadata": {
    "ExecuteTime": {
     "end_time": "2022-03-17T22:49:31.999211Z",
     "start_time": "2022-03-17T22:49:31.992148Z"
    }
   },
   "outputs": [],
   "source": [
    "ss = StandardScaler()\n",
    "df3_numeric_scaled = pd.DataFrame(ss.fit_transform(df3_numeric), columns=columns)"
   ]
  },
  {
   "cell_type": "code",
   "execution_count": 522,
   "id": "93ef12a8",
   "metadata": {
    "ExecuteTime": {
     "end_time": "2022-03-17T22:49:32.020709Z",
     "start_time": "2022-03-17T22:49:32.001012Z"
    }
   },
   "outputs": [
    {
     "data": {
      "text/html": [
       "<div>\n",
       "<style scoped>\n",
       "    .dataframe tbody tr th:only-of-type {\n",
       "        vertical-align: middle;\n",
       "    }\n",
       "\n",
       "    .dataframe tbody tr th {\n",
       "        vertical-align: top;\n",
       "    }\n",
       "\n",
       "    .dataframe thead th {\n",
       "        text-align: right;\n",
       "    }\n",
       "</style>\n",
       "<table border=\"1\" class=\"dataframe\">\n",
       "  <thead>\n",
       "    <tr style=\"text-align: right;\">\n",
       "      <th></th>\n",
       "      <th>hora_sin</th>\n",
       "      <th>mandante_chutes</th>\n",
       "      <th>visitante_chutes</th>\n",
       "      <th>mandante_chutes_no_alvo</th>\n",
       "      <th>visitante_chutes_no_alvo</th>\n",
       "      <th>mandante_posse_de_bola</th>\n",
       "      <th>visitante_posse_de_bola</th>\n",
       "      <th>mandante_passes</th>\n",
       "      <th>visitante_passes</th>\n",
       "      <th>mandante_precisao_passes</th>\n",
       "      <th>...</th>\n",
       "      <th>mandante_escanteios</th>\n",
       "      <th>visitante_escanteios</th>\n",
       "      <th>mes_sin</th>\n",
       "      <th>mes_cos</th>\n",
       "      <th>dia_do_mes_sin</th>\n",
       "      <th>dia_do_mes_cos</th>\n",
       "      <th>semana_do_ano_sin</th>\n",
       "      <th>semana_do_ano_cos</th>\n",
       "      <th>rodadas_sin</th>\n",
       "      <th>rodadas_cos</th>\n",
       "    </tr>\n",
       "  </thead>\n",
       "  <tbody>\n",
       "    <tr>\n",
       "      <th>0</th>\n",
       "      <td>-0.594647</td>\n",
       "      <td>-0.059874</td>\n",
       "      <td>-0.140890</td>\n",
       "      <td>-0.118447</td>\n",
       "      <td>-0.626060</td>\n",
       "      <td>-0.038539</td>\n",
       "      <td>0.351673</td>\n",
       "      <td>-0.451728</td>\n",
       "      <td>0.409379</td>\n",
       "      <td>0.072369</td>\n",
       "      <td>...</td>\n",
       "      <td>-0.905461</td>\n",
       "      <td>-0.540123</td>\n",
       "      <td>-0.806238</td>\n",
       "      <td>-0.999531</td>\n",
       "      <td>1.294932</td>\n",
       "      <td>-0.013510</td>\n",
       "      <td>-0.414614</td>\n",
       "      <td>-1.179084</td>\n",
       "      <td>0.232772</td>\n",
       "      <td>1.394926</td>\n",
       "    </tr>\n",
       "    <tr>\n",
       "      <th>1</th>\n",
       "      <td>4.391712</td>\n",
       "      <td>-1.557251</td>\n",
       "      <td>-0.402416</td>\n",
       "      <td>-1.963486</td>\n",
       "      <td>0.380883</td>\n",
       "      <td>-0.793938</td>\n",
       "      <td>0.027561</td>\n",
       "      <td>-0.421880</td>\n",
       "      <td>-0.138621</td>\n",
       "      <td>0.061708</td>\n",
       "      <td>...</td>\n",
       "      <td>-1.417895</td>\n",
       "      <td>0.312652</td>\n",
       "      <td>-0.806238</td>\n",
       "      <td>-0.999531</td>\n",
       "      <td>1.294932</td>\n",
       "      <td>-0.013510</td>\n",
       "      <td>-0.414614</td>\n",
       "      <td>-1.179084</td>\n",
       "      <td>0.232772</td>\n",
       "      <td>1.394926</td>\n",
       "    </tr>\n",
       "    <tr>\n",
       "      <th>2</th>\n",
       "      <td>4.676135</td>\n",
       "      <td>-1.059784</td>\n",
       "      <td>0.059518</td>\n",
       "      <td>-1.602814</td>\n",
       "      <td>0.200547</td>\n",
       "      <td>-1.053510</td>\n",
       "      <td>-1.139082</td>\n",
       "      <td>-0.794618</td>\n",
       "      <td>-1.270559</td>\n",
       "      <td>-0.771680</td>\n",
       "      <td>...</td>\n",
       "      <td>-1.201577</td>\n",
       "      <td>-0.372356</td>\n",
       "      <td>-0.806238</td>\n",
       "      <td>-0.999531</td>\n",
       "      <td>1.294932</td>\n",
       "      <td>-0.013510</td>\n",
       "      <td>-0.414614</td>\n",
       "      <td>-1.179084</td>\n",
       "      <td>0.232772</td>\n",
       "      <td>1.394926</td>\n",
       "    </tr>\n",
       "    <tr>\n",
       "      <th>3</th>\n",
       "      <td>-0.209517</td>\n",
       "      <td>-0.491249</td>\n",
       "      <td>1.169937</td>\n",
       "      <td>-0.200200</td>\n",
       "      <td>0.701481</td>\n",
       "      <td>0.503917</td>\n",
       "      <td>-0.077979</td>\n",
       "      <td>-0.044750</td>\n",
       "      <td>-0.199555</td>\n",
       "      <td>0.134911</td>\n",
       "      <td>...</td>\n",
       "      <td>0.258573</td>\n",
       "      <td>0.583050</td>\n",
       "      <td>-0.806238</td>\n",
       "      <td>-0.999531</td>\n",
       "      <td>1.233023</td>\n",
       "      <td>-0.305416</td>\n",
       "      <td>-0.414614</td>\n",
       "      <td>-1.179084</td>\n",
       "      <td>0.232772</td>\n",
       "      <td>1.394926</td>\n",
       "    </tr>\n",
       "    <tr>\n",
       "      <th>4</th>\n",
       "      <td>-0.192067</td>\n",
       "      <td>1.774005</td>\n",
       "      <td>1.685171</td>\n",
       "      <td>2.524879</td>\n",
       "      <td>1.482937</td>\n",
       "      <td>2.181146</td>\n",
       "      <td>1.932756</td>\n",
       "      <td>2.123608</td>\n",
       "      <td>1.983626</td>\n",
       "      <td>1.891782</td>\n",
       "      <td>...</td>\n",
       "      <td>1.105820</td>\n",
       "      <td>1.808855</td>\n",
       "      <td>-0.806238</td>\n",
       "      <td>-0.999531</td>\n",
       "      <td>1.233023</td>\n",
       "      <td>-0.305416</td>\n",
       "      <td>-0.414614</td>\n",
       "      <td>-1.179084</td>\n",
       "      <td>0.232772</td>\n",
       "      <td>1.394926</td>\n",
       "    </tr>\n",
       "  </tbody>\n",
       "</table>\n",
       "<p>5 rows × 29 columns</p>\n",
       "</div>"
      ],
      "text/plain": [
       "   hora_sin  mandante_chutes  visitante_chutes  mandante_chutes_no_alvo  \\\n",
       "0 -0.594647        -0.059874         -0.140890                -0.118447   \n",
       "1  4.391712        -1.557251         -0.402416                -1.963486   \n",
       "2  4.676135        -1.059784          0.059518                -1.602814   \n",
       "3 -0.209517        -0.491249          1.169937                -0.200200   \n",
       "4 -0.192067         1.774005          1.685171                 2.524879   \n",
       "\n",
       "   visitante_chutes_no_alvo  mandante_posse_de_bola  visitante_posse_de_bola  \\\n",
       "0                 -0.626060               -0.038539                 0.351673   \n",
       "1                  0.380883               -0.793938                 0.027561   \n",
       "2                  0.200547               -1.053510                -1.139082   \n",
       "3                  0.701481                0.503917                -0.077979   \n",
       "4                  1.482937                2.181146                 1.932756   \n",
       "\n",
       "   mandante_passes  visitante_passes  mandante_precisao_passes  ...  \\\n",
       "0        -0.451728          0.409379                  0.072369  ...   \n",
       "1        -0.421880         -0.138621                  0.061708  ...   \n",
       "2        -0.794618         -1.270559                 -0.771680  ...   \n",
       "3        -0.044750         -0.199555                  0.134911  ...   \n",
       "4         2.123608          1.983626                  1.891782  ...   \n",
       "\n",
       "   mandante_escanteios  visitante_escanteios   mes_sin   mes_cos  \\\n",
       "0            -0.905461             -0.540123 -0.806238 -0.999531   \n",
       "1            -1.417895              0.312652 -0.806238 -0.999531   \n",
       "2            -1.201577             -0.372356 -0.806238 -0.999531   \n",
       "3             0.258573              0.583050 -0.806238 -0.999531   \n",
       "4             1.105820              1.808855 -0.806238 -0.999531   \n",
       "\n",
       "   dia_do_mes_sin  dia_do_mes_cos  semana_do_ano_sin  semana_do_ano_cos  \\\n",
       "0        1.294932       -0.013510          -0.414614          -1.179084   \n",
       "1        1.294932       -0.013510          -0.414614          -1.179084   \n",
       "2        1.294932       -0.013510          -0.414614          -1.179084   \n",
       "3        1.233023       -0.305416          -0.414614          -1.179084   \n",
       "4        1.233023       -0.305416          -0.414614          -1.179084   \n",
       "\n",
       "   rodadas_sin  rodadas_cos  \n",
       "0     0.232772     1.394926  \n",
       "1     0.232772     1.394926  \n",
       "2     0.232772     1.394926  \n",
       "3     0.232772     1.394926  \n",
       "4     0.232772     1.394926  \n",
       "\n",
       "[5 rows x 29 columns]"
      ]
     },
     "execution_count": 522,
     "metadata": {},
     "output_type": "execute_result"
    }
   ],
   "source": [
    "df3_numeric_scaled.head()"
   ]
  },
  {
   "cell_type": "code",
   "execution_count": 523,
   "id": "26c1ad73",
   "metadata": {
    "ExecuteTime": {
     "end_time": "2022-03-17T22:49:32.026545Z",
     "start_time": "2022-03-17T22:49:32.022447Z"
    }
   },
   "outputs": [],
   "source": [
    "df3_final = pd.concat([df3_cat_dummies, df3_numeric_scaled, df3_target], axis =1)"
   ]
  },
  {
   "cell_type": "code",
   "execution_count": 524,
   "id": "29d33c1e",
   "metadata": {
    "ExecuteTime": {
     "end_time": "2022-03-17T22:49:32.048515Z",
     "start_time": "2022-03-17T22:49:32.028173Z"
    }
   },
   "outputs": [
    {
     "data": {
      "text/html": [
       "<div>\n",
       "<style scoped>\n",
       "    .dataframe tbody tr th:only-of-type {\n",
       "        vertical-align: middle;\n",
       "    }\n",
       "\n",
       "    .dataframe tbody tr th {\n",
       "        vertical-align: top;\n",
       "    }\n",
       "\n",
       "    .dataframe thead th {\n",
       "        text-align: right;\n",
       "    }\n",
       "</style>\n",
       "<table border=\"1\" class=\"dataframe\">\n",
       "  <thead>\n",
       "    <tr style=\"text-align: right;\">\n",
       "      <th></th>\n",
       "      <th>mandante_America-MG</th>\n",
       "      <th>mandante_Athletico-PR</th>\n",
       "      <th>mandante_Atletico-GO</th>\n",
       "      <th>mandante_Atletico-MG</th>\n",
       "      <th>mandante_Bahia</th>\n",
       "      <th>mandante_Botafogo-RJ</th>\n",
       "      <th>mandante_Bragantino</th>\n",
       "      <th>mandante_Ceara</th>\n",
       "      <th>mandante_Chapecoense</th>\n",
       "      <th>mandante_Corinthians</th>\n",
       "      <th>...</th>\n",
       "      <th>visitante_escanteios</th>\n",
       "      <th>mes_sin</th>\n",
       "      <th>mes_cos</th>\n",
       "      <th>dia_do_mes_sin</th>\n",
       "      <th>dia_do_mes_cos</th>\n",
       "      <th>semana_do_ano_sin</th>\n",
       "      <th>semana_do_ano_cos</th>\n",
       "      <th>rodadas_sin</th>\n",
       "      <th>rodadas_cos</th>\n",
       "      <th>resultado_final</th>\n",
       "    </tr>\n",
       "  </thead>\n",
       "  <tbody>\n",
       "    <tr>\n",
       "      <th>0</th>\n",
       "      <td>0</td>\n",
       "      <td>0</td>\n",
       "      <td>0</td>\n",
       "      <td>0</td>\n",
       "      <td>0</td>\n",
       "      <td>0</td>\n",
       "      <td>0</td>\n",
       "      <td>0</td>\n",
       "      <td>0</td>\n",
       "      <td>0</td>\n",
       "      <td>...</td>\n",
       "      <td>-0.540123</td>\n",
       "      <td>-0.806238</td>\n",
       "      <td>-0.999531</td>\n",
       "      <td>1.294932</td>\n",
       "      <td>-0.013510</td>\n",
       "      <td>-0.414614</td>\n",
       "      <td>-1.179084</td>\n",
       "      <td>2.327719e-01</td>\n",
       "      <td>1.394926</td>\n",
       "      <td>2</td>\n",
       "    </tr>\n",
       "    <tr>\n",
       "      <th>1</th>\n",
       "      <td>0</td>\n",
       "      <td>0</td>\n",
       "      <td>0</td>\n",
       "      <td>0</td>\n",
       "      <td>0</td>\n",
       "      <td>0</td>\n",
       "      <td>0</td>\n",
       "      <td>0</td>\n",
       "      <td>0</td>\n",
       "      <td>0</td>\n",
       "      <td>...</td>\n",
       "      <td>0.312652</td>\n",
       "      <td>-0.806238</td>\n",
       "      <td>-0.999531</td>\n",
       "      <td>1.294932</td>\n",
       "      <td>-0.013510</td>\n",
       "      <td>-0.414614</td>\n",
       "      <td>-1.179084</td>\n",
       "      <td>2.327719e-01</td>\n",
       "      <td>1.394926</td>\n",
       "      <td>2</td>\n",
       "    </tr>\n",
       "    <tr>\n",
       "      <th>2</th>\n",
       "      <td>0</td>\n",
       "      <td>0</td>\n",
       "      <td>0</td>\n",
       "      <td>0</td>\n",
       "      <td>0</td>\n",
       "      <td>0</td>\n",
       "      <td>0</td>\n",
       "      <td>0</td>\n",
       "      <td>0</td>\n",
       "      <td>0</td>\n",
       "      <td>...</td>\n",
       "      <td>-0.372356</td>\n",
       "      <td>-0.806238</td>\n",
       "      <td>-0.999531</td>\n",
       "      <td>1.294932</td>\n",
       "      <td>-0.013510</td>\n",
       "      <td>-0.414614</td>\n",
       "      <td>-1.179084</td>\n",
       "      <td>2.327719e-01</td>\n",
       "      <td>1.394926</td>\n",
       "      <td>1</td>\n",
       "    </tr>\n",
       "    <tr>\n",
       "      <th>3</th>\n",
       "      <td>0</td>\n",
       "      <td>0</td>\n",
       "      <td>0</td>\n",
       "      <td>0</td>\n",
       "      <td>0</td>\n",
       "      <td>0</td>\n",
       "      <td>0</td>\n",
       "      <td>0</td>\n",
       "      <td>0</td>\n",
       "      <td>0</td>\n",
       "      <td>...</td>\n",
       "      <td>0.583050</td>\n",
       "      <td>-0.806238</td>\n",
       "      <td>-0.999531</td>\n",
       "      <td>1.233023</td>\n",
       "      <td>-0.305416</td>\n",
       "      <td>-0.414614</td>\n",
       "      <td>-1.179084</td>\n",
       "      <td>2.327719e-01</td>\n",
       "      <td>1.394926</td>\n",
       "      <td>0</td>\n",
       "    </tr>\n",
       "    <tr>\n",
       "      <th>4</th>\n",
       "      <td>0</td>\n",
       "      <td>0</td>\n",
       "      <td>0</td>\n",
       "      <td>0</td>\n",
       "      <td>0</td>\n",
       "      <td>0</td>\n",
       "      <td>0</td>\n",
       "      <td>0</td>\n",
       "      <td>0</td>\n",
       "      <td>0</td>\n",
       "      <td>...</td>\n",
       "      <td>1.808855</td>\n",
       "      <td>-0.806238</td>\n",
       "      <td>-0.999531</td>\n",
       "      <td>1.233023</td>\n",
       "      <td>-0.305416</td>\n",
       "      <td>-0.414614</td>\n",
       "      <td>-1.179084</td>\n",
       "      <td>2.327719e-01</td>\n",
       "      <td>1.394926</td>\n",
       "      <td>2</td>\n",
       "    </tr>\n",
       "    <tr>\n",
       "      <th>...</th>\n",
       "      <td>...</td>\n",
       "      <td>...</td>\n",
       "      <td>...</td>\n",
       "      <td>...</td>\n",
       "      <td>...</td>\n",
       "      <td>...</td>\n",
       "      <td>...</td>\n",
       "      <td>...</td>\n",
       "      <td>...</td>\n",
       "      <td>...</td>\n",
       "      <td>...</td>\n",
       "      <td>...</td>\n",
       "      <td>...</td>\n",
       "      <td>...</td>\n",
       "      <td>...</td>\n",
       "      <td>...</td>\n",
       "      <td>...</td>\n",
       "      <td>...</td>\n",
       "      <td>...</td>\n",
       "      <td>...</td>\n",
       "      <td>...</td>\n",
       "    </tr>\n",
       "    <tr>\n",
       "      <th>755</th>\n",
       "      <td>0</td>\n",
       "      <td>0</td>\n",
       "      <td>0</td>\n",
       "      <td>0</td>\n",
       "      <td>0</td>\n",
       "      <td>0</td>\n",
       "      <td>1</td>\n",
       "      <td>0</td>\n",
       "      <td>0</td>\n",
       "      <td>0</td>\n",
       "      <td>...</td>\n",
       "      <td>0.312652</td>\n",
       "      <td>0.705890</td>\n",
       "      <td>1.180727</td>\n",
       "      <td>0.715612</td>\n",
       "      <td>-1.019162</td>\n",
       "      <td>0.145971</td>\n",
       "      <td>1.200369</td>\n",
       "      <td>-2.670514e-16</td>\n",
       "      <td>1.414214</td>\n",
       "      <td>1</td>\n",
       "    </tr>\n",
       "    <tr>\n",
       "      <th>756</th>\n",
       "      <td>0</td>\n",
       "      <td>0</td>\n",
       "      <td>0</td>\n",
       "      <td>0</td>\n",
       "      <td>0</td>\n",
       "      <td>0</td>\n",
       "      <td>0</td>\n",
       "      <td>0</td>\n",
       "      <td>0</td>\n",
       "      <td>0</td>\n",
       "      <td>...</td>\n",
       "      <td>-0.540123</td>\n",
       "      <td>0.705890</td>\n",
       "      <td>1.180727</td>\n",
       "      <td>0.715612</td>\n",
       "      <td>-1.019162</td>\n",
       "      <td>0.145971</td>\n",
       "      <td>1.200369</td>\n",
       "      <td>-2.670514e-16</td>\n",
       "      <td>1.414214</td>\n",
       "      <td>0</td>\n",
       "    </tr>\n",
       "    <tr>\n",
       "      <th>757</th>\n",
       "      <td>0</td>\n",
       "      <td>0</td>\n",
       "      <td>0</td>\n",
       "      <td>0</td>\n",
       "      <td>0</td>\n",
       "      <td>0</td>\n",
       "      <td>0</td>\n",
       "      <td>0</td>\n",
       "      <td>0</td>\n",
       "      <td>0</td>\n",
       "      <td>...</td>\n",
       "      <td>0.781342</td>\n",
       "      <td>0.705890</td>\n",
       "      <td>1.180727</td>\n",
       "      <td>0.715612</td>\n",
       "      <td>-1.019162</td>\n",
       "      <td>0.145971</td>\n",
       "      <td>1.200369</td>\n",
       "      <td>-2.670514e-16</td>\n",
       "      <td>1.414214</td>\n",
       "      <td>1</td>\n",
       "    </tr>\n",
       "    <tr>\n",
       "      <th>758</th>\n",
       "      <td>0</td>\n",
       "      <td>0</td>\n",
       "      <td>0</td>\n",
       "      <td>0</td>\n",
       "      <td>0</td>\n",
       "      <td>0</td>\n",
       "      <td>0</td>\n",
       "      <td>0</td>\n",
       "      <td>0</td>\n",
       "      <td>0</td>\n",
       "      <td>...</td>\n",
       "      <td>1.808855</td>\n",
       "      <td>0.705890</td>\n",
       "      <td>1.180727</td>\n",
       "      <td>0.715612</td>\n",
       "      <td>-1.019162</td>\n",
       "      <td>0.145971</td>\n",
       "      <td>1.200369</td>\n",
       "      <td>-2.670514e-16</td>\n",
       "      <td>1.414214</td>\n",
       "      <td>1</td>\n",
       "    </tr>\n",
       "    <tr>\n",
       "      <th>759</th>\n",
       "      <td>0</td>\n",
       "      <td>0</td>\n",
       "      <td>0</td>\n",
       "      <td>0</td>\n",
       "      <td>0</td>\n",
       "      <td>0</td>\n",
       "      <td>0</td>\n",
       "      <td>0</td>\n",
       "      <td>0</td>\n",
       "      <td>0</td>\n",
       "      <td>...</td>\n",
       "      <td>-1.958691</td>\n",
       "      <td>0.705890</td>\n",
       "      <td>1.180727</td>\n",
       "      <td>0.715612</td>\n",
       "      <td>-1.019162</td>\n",
       "      <td>0.145971</td>\n",
       "      <td>1.200369</td>\n",
       "      <td>-2.670514e-16</td>\n",
       "      <td>1.414214</td>\n",
       "      <td>0</td>\n",
       "    </tr>\n",
       "  </tbody>\n",
       "</table>\n",
       "<p>760 rows × 167 columns</p>\n",
       "</div>"
      ],
      "text/plain": [
       "     mandante_America-MG  mandante_Athletico-PR  mandante_Atletico-GO  \\\n",
       "0                      0                      0                     0   \n",
       "1                      0                      0                     0   \n",
       "2                      0                      0                     0   \n",
       "3                      0                      0                     0   \n",
       "4                      0                      0                     0   \n",
       "..                   ...                    ...                   ...   \n",
       "755                    0                      0                     0   \n",
       "756                    0                      0                     0   \n",
       "757                    0                      0                     0   \n",
       "758                    0                      0                     0   \n",
       "759                    0                      0                     0   \n",
       "\n",
       "     mandante_Atletico-MG  mandante_Bahia  mandante_Botafogo-RJ  \\\n",
       "0                       0               0                     0   \n",
       "1                       0               0                     0   \n",
       "2                       0               0                     0   \n",
       "3                       0               0                     0   \n",
       "4                       0               0                     0   \n",
       "..                    ...             ...                   ...   \n",
       "755                     0               0                     0   \n",
       "756                     0               0                     0   \n",
       "757                     0               0                     0   \n",
       "758                     0               0                     0   \n",
       "759                     0               0                     0   \n",
       "\n",
       "     mandante_Bragantino  mandante_Ceara  mandante_Chapecoense  \\\n",
       "0                      0               0                     0   \n",
       "1                      0               0                     0   \n",
       "2                      0               0                     0   \n",
       "3                      0               0                     0   \n",
       "4                      0               0                     0   \n",
       "..                   ...             ...                   ...   \n",
       "755                    1               0                     0   \n",
       "756                    0               0                     0   \n",
       "757                    0               0                     0   \n",
       "758                    0               0                     0   \n",
       "759                    0               0                     0   \n",
       "\n",
       "     mandante_Corinthians  ...  visitante_escanteios   mes_sin   mes_cos  \\\n",
       "0                       0  ...             -0.540123 -0.806238 -0.999531   \n",
       "1                       0  ...              0.312652 -0.806238 -0.999531   \n",
       "2                       0  ...             -0.372356 -0.806238 -0.999531   \n",
       "3                       0  ...              0.583050 -0.806238 -0.999531   \n",
       "4                       0  ...              1.808855 -0.806238 -0.999531   \n",
       "..                    ...  ...                   ...       ...       ...   \n",
       "755                     0  ...              0.312652  0.705890  1.180727   \n",
       "756                     0  ...             -0.540123  0.705890  1.180727   \n",
       "757                     0  ...              0.781342  0.705890  1.180727   \n",
       "758                     0  ...              1.808855  0.705890  1.180727   \n",
       "759                     0  ...             -1.958691  0.705890  1.180727   \n",
       "\n",
       "     dia_do_mes_sin  dia_do_mes_cos  semana_do_ano_sin  semana_do_ano_cos  \\\n",
       "0          1.294932       -0.013510          -0.414614          -1.179084   \n",
       "1          1.294932       -0.013510          -0.414614          -1.179084   \n",
       "2          1.294932       -0.013510          -0.414614          -1.179084   \n",
       "3          1.233023       -0.305416          -0.414614          -1.179084   \n",
       "4          1.233023       -0.305416          -0.414614          -1.179084   \n",
       "..              ...             ...                ...                ...   \n",
       "755        0.715612       -1.019162           0.145971           1.200369   \n",
       "756        0.715612       -1.019162           0.145971           1.200369   \n",
       "757        0.715612       -1.019162           0.145971           1.200369   \n",
       "758        0.715612       -1.019162           0.145971           1.200369   \n",
       "759        0.715612       -1.019162           0.145971           1.200369   \n",
       "\n",
       "      rodadas_sin  rodadas_cos  resultado_final  \n",
       "0    2.327719e-01     1.394926                2  \n",
       "1    2.327719e-01     1.394926                2  \n",
       "2    2.327719e-01     1.394926                1  \n",
       "3    2.327719e-01     1.394926                0  \n",
       "4    2.327719e-01     1.394926                2  \n",
       "..            ...          ...              ...  \n",
       "755 -2.670514e-16     1.414214                1  \n",
       "756 -2.670514e-16     1.414214                0  \n",
       "757 -2.670514e-16     1.414214                1  \n",
       "758 -2.670514e-16     1.414214                1  \n",
       "759 -2.670514e-16     1.414214                0  \n",
       "\n",
       "[760 rows x 167 columns]"
      ]
     },
     "execution_count": 524,
     "metadata": {},
     "output_type": "execute_result"
    }
   ],
   "source": [
    "df3_final"
   ]
  },
  {
   "cell_type": "markdown",
   "id": "356beb22",
   "metadata": {},
   "source": [
    "# 4.0 Feature selection and scaling "
   ]
  },
  {
   "cell_type": "code",
   "execution_count": 525,
   "id": "853aba73",
   "metadata": {
    "ExecuteTime": {
     "end_time": "2022-03-17T22:49:32.056828Z",
     "start_time": "2022-03-17T22:49:32.049945Z"
    }
   },
   "outputs": [],
   "source": [
    "df4 = df3_final.copy()"
   ]
  },
  {
   "cell_type": "code",
   "execution_count": 526,
   "id": "535854d4",
   "metadata": {
    "ExecuteTime": {
     "end_time": "2022-03-17T22:49:32.062327Z",
     "start_time": "2022-03-17T22:49:32.058670Z"
    }
   },
   "outputs": [],
   "source": [
    "df4 = df4.dropna()"
   ]
  },
  {
   "cell_type": "code",
   "execution_count": 527,
   "id": "004fd3d1",
   "metadata": {
    "ExecuteTime": {
     "end_time": "2022-03-17T22:49:32.081856Z",
     "start_time": "2022-03-17T22:49:32.063966Z"
    }
   },
   "outputs": [
    {
     "data": {
      "text/html": [
       "<div>\n",
       "<style scoped>\n",
       "    .dataframe tbody tr th:only-of-type {\n",
       "        vertical-align: middle;\n",
       "    }\n",
       "\n",
       "    .dataframe tbody tr th {\n",
       "        vertical-align: top;\n",
       "    }\n",
       "\n",
       "    .dataframe thead th {\n",
       "        text-align: right;\n",
       "    }\n",
       "</style>\n",
       "<table border=\"1\" class=\"dataframe\">\n",
       "  <thead>\n",
       "    <tr style=\"text-align: right;\">\n",
       "      <th></th>\n",
       "      <th>mandante_America-MG</th>\n",
       "      <th>mandante_Athletico-PR</th>\n",
       "      <th>mandante_Atletico-GO</th>\n",
       "      <th>mandante_Atletico-MG</th>\n",
       "      <th>mandante_Bahia</th>\n",
       "      <th>mandante_Botafogo-RJ</th>\n",
       "      <th>mandante_Bragantino</th>\n",
       "      <th>mandante_Ceara</th>\n",
       "      <th>mandante_Chapecoense</th>\n",
       "      <th>mandante_Corinthians</th>\n",
       "      <th>...</th>\n",
       "      <th>visitante_escanteios</th>\n",
       "      <th>mes_sin</th>\n",
       "      <th>mes_cos</th>\n",
       "      <th>dia_do_mes_sin</th>\n",
       "      <th>dia_do_mes_cos</th>\n",
       "      <th>semana_do_ano_sin</th>\n",
       "      <th>semana_do_ano_cos</th>\n",
       "      <th>rodadas_sin</th>\n",
       "      <th>rodadas_cos</th>\n",
       "      <th>resultado_final</th>\n",
       "    </tr>\n",
       "  </thead>\n",
       "  <tbody>\n",
       "    <tr>\n",
       "      <th>0</th>\n",
       "      <td>0</td>\n",
       "      <td>0</td>\n",
       "      <td>0</td>\n",
       "      <td>0</td>\n",
       "      <td>0</td>\n",
       "      <td>0</td>\n",
       "      <td>0</td>\n",
       "      <td>0</td>\n",
       "      <td>0</td>\n",
       "      <td>0</td>\n",
       "      <td>...</td>\n",
       "      <td>-0.540123</td>\n",
       "      <td>-0.806238</td>\n",
       "      <td>-0.999531</td>\n",
       "      <td>1.294932</td>\n",
       "      <td>-0.013510</td>\n",
       "      <td>-0.414614</td>\n",
       "      <td>-1.179084</td>\n",
       "      <td>0.232772</td>\n",
       "      <td>1.394926</td>\n",
       "      <td>2</td>\n",
       "    </tr>\n",
       "    <tr>\n",
       "      <th>1</th>\n",
       "      <td>0</td>\n",
       "      <td>0</td>\n",
       "      <td>0</td>\n",
       "      <td>0</td>\n",
       "      <td>0</td>\n",
       "      <td>0</td>\n",
       "      <td>0</td>\n",
       "      <td>0</td>\n",
       "      <td>0</td>\n",
       "      <td>0</td>\n",
       "      <td>...</td>\n",
       "      <td>0.312652</td>\n",
       "      <td>-0.806238</td>\n",
       "      <td>-0.999531</td>\n",
       "      <td>1.294932</td>\n",
       "      <td>-0.013510</td>\n",
       "      <td>-0.414614</td>\n",
       "      <td>-1.179084</td>\n",
       "      <td>0.232772</td>\n",
       "      <td>1.394926</td>\n",
       "      <td>2</td>\n",
       "    </tr>\n",
       "    <tr>\n",
       "      <th>2</th>\n",
       "      <td>0</td>\n",
       "      <td>0</td>\n",
       "      <td>0</td>\n",
       "      <td>0</td>\n",
       "      <td>0</td>\n",
       "      <td>0</td>\n",
       "      <td>0</td>\n",
       "      <td>0</td>\n",
       "      <td>0</td>\n",
       "      <td>0</td>\n",
       "      <td>...</td>\n",
       "      <td>-0.372356</td>\n",
       "      <td>-0.806238</td>\n",
       "      <td>-0.999531</td>\n",
       "      <td>1.294932</td>\n",
       "      <td>-0.013510</td>\n",
       "      <td>-0.414614</td>\n",
       "      <td>-1.179084</td>\n",
       "      <td>0.232772</td>\n",
       "      <td>1.394926</td>\n",
       "      <td>1</td>\n",
       "    </tr>\n",
       "    <tr>\n",
       "      <th>3</th>\n",
       "      <td>0</td>\n",
       "      <td>0</td>\n",
       "      <td>0</td>\n",
       "      <td>0</td>\n",
       "      <td>0</td>\n",
       "      <td>0</td>\n",
       "      <td>0</td>\n",
       "      <td>0</td>\n",
       "      <td>0</td>\n",
       "      <td>0</td>\n",
       "      <td>...</td>\n",
       "      <td>0.583050</td>\n",
       "      <td>-0.806238</td>\n",
       "      <td>-0.999531</td>\n",
       "      <td>1.233023</td>\n",
       "      <td>-0.305416</td>\n",
       "      <td>-0.414614</td>\n",
       "      <td>-1.179084</td>\n",
       "      <td>0.232772</td>\n",
       "      <td>1.394926</td>\n",
       "      <td>0</td>\n",
       "    </tr>\n",
       "    <tr>\n",
       "      <th>4</th>\n",
       "      <td>0</td>\n",
       "      <td>0</td>\n",
       "      <td>0</td>\n",
       "      <td>0</td>\n",
       "      <td>0</td>\n",
       "      <td>0</td>\n",
       "      <td>0</td>\n",
       "      <td>0</td>\n",
       "      <td>0</td>\n",
       "      <td>0</td>\n",
       "      <td>...</td>\n",
       "      <td>1.808855</td>\n",
       "      <td>-0.806238</td>\n",
       "      <td>-0.999531</td>\n",
       "      <td>1.233023</td>\n",
       "      <td>-0.305416</td>\n",
       "      <td>-0.414614</td>\n",
       "      <td>-1.179084</td>\n",
       "      <td>0.232772</td>\n",
       "      <td>1.394926</td>\n",
       "      <td>2</td>\n",
       "    </tr>\n",
       "  </tbody>\n",
       "</table>\n",
       "<p>5 rows × 167 columns</p>\n",
       "</div>"
      ],
      "text/plain": [
       "   mandante_America-MG  mandante_Athletico-PR  mandante_Atletico-GO  \\\n",
       "0                    0                      0                     0   \n",
       "1                    0                      0                     0   \n",
       "2                    0                      0                     0   \n",
       "3                    0                      0                     0   \n",
       "4                    0                      0                     0   \n",
       "\n",
       "   mandante_Atletico-MG  mandante_Bahia  mandante_Botafogo-RJ  \\\n",
       "0                     0               0                     0   \n",
       "1                     0               0                     0   \n",
       "2                     0               0                     0   \n",
       "3                     0               0                     0   \n",
       "4                     0               0                     0   \n",
       "\n",
       "   mandante_Bragantino  mandante_Ceara  mandante_Chapecoense  \\\n",
       "0                    0               0                     0   \n",
       "1                    0               0                     0   \n",
       "2                    0               0                     0   \n",
       "3                    0               0                     0   \n",
       "4                    0               0                     0   \n",
       "\n",
       "   mandante_Corinthians  ...  visitante_escanteios   mes_sin   mes_cos  \\\n",
       "0                     0  ...             -0.540123 -0.806238 -0.999531   \n",
       "1                     0  ...              0.312652 -0.806238 -0.999531   \n",
       "2                     0  ...             -0.372356 -0.806238 -0.999531   \n",
       "3                     0  ...              0.583050 -0.806238 -0.999531   \n",
       "4                     0  ...              1.808855 -0.806238 -0.999531   \n",
       "\n",
       "   dia_do_mes_sin  dia_do_mes_cos  semana_do_ano_sin  semana_do_ano_cos  \\\n",
       "0        1.294932       -0.013510          -0.414614          -1.179084   \n",
       "1        1.294932       -0.013510          -0.414614          -1.179084   \n",
       "2        1.294932       -0.013510          -0.414614          -1.179084   \n",
       "3        1.233023       -0.305416          -0.414614          -1.179084   \n",
       "4        1.233023       -0.305416          -0.414614          -1.179084   \n",
       "\n",
       "   rodadas_sin  rodadas_cos  resultado_final  \n",
       "0     0.232772     1.394926                2  \n",
       "1     0.232772     1.394926                2  \n",
       "2     0.232772     1.394926                1  \n",
       "3     0.232772     1.394926                0  \n",
       "4     0.232772     1.394926                2  \n",
       "\n",
       "[5 rows x 167 columns]"
      ]
     },
     "execution_count": 527,
     "metadata": {},
     "output_type": "execute_result"
    }
   ],
   "source": [
    "df4.head()"
   ]
  },
  {
   "cell_type": "code",
   "execution_count": 528,
   "id": "62a7f358",
   "metadata": {
    "ExecuteTime": {
     "end_time": "2022-03-17T22:49:32.087413Z",
     "start_time": "2022-03-17T22:49:32.083546Z"
    }
   },
   "outputs": [],
   "source": [
    "X = df4.drop(['resultado_final'], axis=1)\n",
    "y = df4.resultado_final"
   ]
  },
  {
   "cell_type": "code",
   "execution_count": 529,
   "id": "9b016aa6",
   "metadata": {
    "ExecuteTime": {
     "end_time": "2022-03-17T22:49:32.093801Z",
     "start_time": "2022-03-17T22:49:32.089077Z"
    }
   },
   "outputs": [],
   "source": [
    "X_train, X_test, y_train, y_test = train_test_split(X, y,shuffle=True)"
   ]
  },
  {
   "cell_type": "markdown",
   "id": "e0204b6a",
   "metadata": {},
   "source": [
    "# 5.0 Machine Learning Models "
   ]
  },
  {
   "cell_type": "markdown",
   "id": "e9bde165",
   "metadata": {},
   "source": [
    "## 5.1 Logistic Regression "
   ]
  },
  {
   "cell_type": "code",
   "execution_count": 530,
   "id": "3c3e4606",
   "metadata": {
    "ExecuteTime": {
     "end_time": "2022-03-17T22:49:32.211408Z",
     "start_time": "2022-03-17T22:49:32.095433Z"
    }
   },
   "outputs": [],
   "source": [
    "clf_lg = LogisticRegression().fit(X_train, y_train)\n",
    "y_hat_lg = clf_lg.predict(X_test)"
   ]
  },
  {
   "cell_type": "code",
   "execution_count": 531,
   "id": "ab386e06",
   "metadata": {
    "ExecuteTime": {
     "end_time": "2022-03-17T22:49:32.217154Z",
     "start_time": "2022-03-17T22:49:32.213202Z"
    }
   },
   "outputs": [
    {
     "data": {
      "text/plain": [
       "0.46842105263157896"
      ]
     },
     "execution_count": 531,
     "metadata": {},
     "output_type": "execute_result"
    }
   ],
   "source": [
    "accuracy_score(y_test, y_hat_lg)"
   ]
  },
  {
   "cell_type": "code",
   "execution_count": 532,
   "id": "e113aa05",
   "metadata": {
    "ExecuteTime": {
     "end_time": "2022-03-17T22:49:32.372253Z",
     "start_time": "2022-03-17T22:49:32.218804Z"
    }
   },
   "outputs": [
    {
     "data": {
      "image/png": "[encoded data removed]",
      "text/plain": [
       "<Figure size 432x288 with 2 Axes>"
      ]
     },
     "metadata": {
      "needs_background": "light"
     },
     "output_type": "display_data"
    }
   ],
   "source": [
    "sns.heatmap(confusion_matrix(y_test, y_hat_lg, normalize='true'), annot=True);"
   ]
  },
  {
   "cell_type": "code",
   "execution_count": 533,
   "id": "0b2a62b4",
   "metadata": {
    "ExecuteTime": {
     "end_time": "2022-03-17T22:49:32.381590Z",
     "start_time": "2022-03-17T22:49:32.374117Z"
    }
   },
   "outputs": [
    {
     "name": "stdout",
     "output_type": "stream",
     "text": [
      "              precision    recall  f1-score   support\n",
      "\n",
      "           0       0.32      0.35      0.33        49\n",
      "           1       0.55      0.63      0.59        89\n",
      "           2       0.46      0.31      0.37        52\n",
      "\n",
      "    accuracy                           0.47       190\n",
      "   macro avg       0.44      0.43      0.43       190\n",
      "weighted avg       0.47      0.47      0.46       190\n",
      "\n"
     ]
    }
   ],
   "source": [
    "print(classification_report(y_test, y_hat_lg))"
   ]
  },
  {
   "cell_type": "markdown",
   "id": "97562ef9",
   "metadata": {},
   "source": [
    "## 5.2 XGBoost "
   ]
  },
  {
   "cell_type": "code",
   "execution_count": 534,
   "id": "ccf54b7d",
   "metadata": {
    "ExecuteTime": {
     "end_time": "2022-03-17T22:49:36.628668Z",
     "start_time": "2022-03-17T22:49:32.383698Z"
    }
   },
   "outputs": [
    {
     "name": "stdout",
     "output_type": "stream",
     "text": [
      "[19:49:35] WARNING: ../src/learner.cc:1115: Starting in XGBoost 1.3.0, the default evaluation metric used with the objective 'multi:softprob' was changed from 'merror' to 'mlogloss'. Explicitly set eval_metric if you'd like to restore the old behavior.\n"
     ]
    }
   ],
   "source": [
    "clf_xgb = xgb.XGBRFClassifier(n_estimators = 1000).fit(X_train, y_train)\n",
    "yhat_xgb = clf_xgb.predict(X_test)"
   ]
  },
  {
   "cell_type": "code",
   "execution_count": 535,
   "id": "4f31c151",
   "metadata": {
    "ExecuteTime": {
     "end_time": "2022-03-17T22:49:36.640742Z",
     "start_time": "2022-03-17T22:49:36.630186Z"
    }
   },
   "outputs": [
    {
     "data": {
      "text/plain": [
       "0.5"
      ]
     },
     "execution_count": 535,
     "metadata": {},
     "output_type": "execute_result"
    }
   ],
   "source": [
    "accuracy_score(y_test, yhat_xgb)"
   ]
  },
  {
   "cell_type": "code",
   "execution_count": 536,
   "id": "d0b9b6e2",
   "metadata": {
    "ExecuteTime": {
     "end_time": "2022-03-17T22:49:36.809228Z",
     "start_time": "2022-03-17T22:49:36.642587Z"
    }
   },
   "outputs": [
    {
     "data": {
      "text/plain": [
       "<AxesSubplot:>"
      ]
     },
     "execution_count": 536,
     "metadata": {},
     "output_type": "execute_result"
    },
    {
     "data": {
      "image/png": "[encoded data removed]",
      "text/plain": [
       "<Figure size 432x288 with 2 Axes>"
      ]
     },
     "metadata": {
      "needs_background": "light"
     },
     "output_type": "display_data"
    }
   ],
   "source": [
    "sns.heatmap(confusion_matrix(y_test, yhat_xgb, normalize='true'), annot=True, )"
   ]
  },
  {
   "cell_type": "code",
   "execution_count": 537,
   "id": "5014ed35",
   "metadata": {
    "ExecuteTime": {
     "end_time": "2022-03-17T22:49:36.817836Z",
     "start_time": "2022-03-17T22:49:36.810817Z"
    }
   },
   "outputs": [
    {
     "name": "stdout",
     "output_type": "stream",
     "text": [
      "              precision    recall  f1-score   support\n",
      "\n",
      "           0       0.40      0.20      0.27        49\n",
      "           1       0.53      0.78      0.63        89\n",
      "           2       0.44      0.31      0.36        52\n",
      "\n",
      "    accuracy                           0.50       190\n",
      "   macro avg       0.46      0.43      0.42       190\n",
      "weighted avg       0.48      0.50      0.47       190\n",
      "\n"
     ]
    }
   ],
   "source": [
    "print(classification_report(y_test, yhat_xgb))"
   ]
  },
  {
   "cell_type": "markdown",
   "id": "94bca91f",
   "metadata": {},
   "source": [
    "## 5.3 Random Forests"
   ]
  },
  {
   "cell_type": "code",
   "execution_count": 538,
   "id": "d719d49e",
   "metadata": {
    "ExecuteTime": {
     "end_time": "2022-03-17T22:49:40.233908Z",
     "start_time": "2022-03-17T22:49:36.819649Z"
    }
   },
   "outputs": [],
   "source": [
    "clf_rf = RandomForestClassifier(n_estimators = 2000, n_jobs = -1, random_state = 42).fit(X_train, y_train)\n",
    "yhat_rf = clf_rf.predict(X_test)"
   ]
  },
  {
   "cell_type": "code",
   "execution_count": 539,
   "id": "6ab30c6e",
   "metadata": {
    "ExecuteTime": {
     "end_time": "2022-03-17T22:49:40.239763Z",
     "start_time": "2022-03-17T22:49:40.235223Z"
    }
   },
   "outputs": [
    {
     "data": {
      "text/plain": [
       "0.4421052631578947"
      ]
     },
     "execution_count": 539,
     "metadata": {},
     "output_type": "execute_result"
    }
   ],
   "source": [
    "accuracy_score(y_test, yhat_rf)"
   ]
  },
  {
   "cell_type": "code",
   "execution_count": 540,
   "id": "e3d33899",
   "metadata": {
    "ExecuteTime": {
     "end_time": "2022-03-17T22:49:40.395006Z",
     "start_time": "2022-03-17T22:49:40.242657Z"
    }
   },
   "outputs": [
    {
     "data": {
      "image/png": "[encoded data removed]",
      "text/plain": [
       "<Figure size 432x288 with 2 Axes>"
      ]
     },
     "metadata": {
      "needs_background": "light"
     },
     "output_type": "display_data"
    }
   ],
   "source": [
    "sns.heatmap(confusion_matrix(y_test, yhat_rf, normalize='true'), annot=True, );"
   ]
  },
  {
   "cell_type": "code",
   "execution_count": 541,
   "id": "71b84c06",
   "metadata": {
    "ExecuteTime": {
     "end_time": "2022-03-17T22:49:40.404794Z",
     "start_time": "2022-03-17T22:49:40.396988Z"
    }
   },
   "outputs": [
    {
     "name": "stdout",
     "output_type": "stream",
     "text": [
      "              precision    recall  f1-score   support\n",
      "\n",
      "           0       0.24      0.18      0.21        49\n",
      "           1       0.50      0.67      0.57        89\n",
      "           2       0.45      0.29      0.35        52\n",
      "\n",
      "    accuracy                           0.44       190\n",
      "   macro avg       0.40      0.38      0.38       190\n",
      "weighted avg       0.42      0.44      0.42       190\n",
      "\n"
     ]
    }
   ],
   "source": [
    "print(classification_report(y_test, yhat_rf))"
   ]
  },
  {
   "cell_type": "markdown",
   "id": "6b893f61",
   "metadata": {},
   "source": [
    "## 5.4 SVM "
   ]
  },
  {
   "cell_type": "code",
   "execution_count": 542,
   "id": "3994a33f",
   "metadata": {
    "ExecuteTime": {
     "end_time": "2022-03-17T22:49:40.474124Z",
     "start_time": "2022-03-17T22:49:40.406388Z"
    }
   },
   "outputs": [],
   "source": [
    "clf_svc = svm.SVC().fit(X_train, y_train)\n",
    "y_hat_svc = clf_svc.predict(X_test)"
   ]
  },
  {
   "cell_type": "code",
   "execution_count": 543,
   "id": "fd78c083",
   "metadata": {
    "ExecuteTime": {
     "end_time": "2022-03-17T22:49:40.480014Z",
     "start_time": "2022-03-17T22:49:40.475809Z"
    }
   },
   "outputs": [
    {
     "data": {
      "text/plain": [
       "0.49473684210526314"
      ]
     },
     "execution_count": 543,
     "metadata": {},
     "output_type": "execute_result"
    }
   ],
   "source": [
    "accuracy_score(y_test, y_hat_svc)"
   ]
  },
  {
   "cell_type": "code",
   "execution_count": 544,
   "id": "eb9d9cd1",
   "metadata": {
    "ExecuteTime": {
     "end_time": "2022-03-17T22:49:40.642807Z",
     "start_time": "2022-03-17T22:49:40.481640Z"
    }
   },
   "outputs": [
    {
     "data": {
      "image/png": "[encoded data removed]",
      "text/plain": [
       "<Figure size 432x288 with 2 Axes>"
      ]
     },
     "metadata": {
      "needs_background": "light"
     },
     "output_type": "display_data"
    }
   ],
   "source": [
    "sns.heatmap(confusion_matrix(y_test, y_hat_svc, normalize='true'), annot=True);"
   ]
  },
  {
   "cell_type": "code",
   "execution_count": 545,
   "id": "ae3c75cd",
   "metadata": {
    "ExecuteTime": {
     "end_time": "2022-03-17T22:49:40.652809Z",
     "start_time": "2022-03-17T22:49:40.644548Z"
    }
   },
   "outputs": [
    {
     "name": "stdout",
     "output_type": "stream",
     "text": [
      "              precision    recall  f1-score   support\n",
      "\n",
      "           0       0.41      0.18      0.25        49\n",
      "           1       0.52      0.83      0.64        89\n",
      "           2       0.44      0.21      0.29        52\n",
      "\n",
      "    accuracy                           0.49       190\n",
      "   macro avg       0.46      0.41      0.39       190\n",
      "weighted avg       0.47      0.49      0.44       190\n",
      "\n"
     ]
    }
   ],
   "source": [
    "print(classification_report(y_test, y_hat_svc))"
   ]
  },
  {
   "cell_type": "markdown",
   "id": "357a2b0c",
   "metadata": {},
   "source": [
    "## 5.5 Naive Bayes "
   ]
  },
  {
   "cell_type": "code",
   "execution_count": 546,
   "id": "03fbbd88",
   "metadata": {
    "ExecuteTime": {
     "end_time": "2022-03-17T22:49:40.664756Z",
     "start_time": "2022-03-17T22:49:40.654299Z"
    }
   },
   "outputs": [],
   "source": [
    "clf_gb = GaussianNB().fit(X_train, y_train)\n",
    "y_hat_gnb = clf_gb.predict(X_test)"
   ]
  },
  {
   "cell_type": "code",
   "execution_count": 547,
   "id": "06aadac5",
   "metadata": {
    "ExecuteTime": {
     "end_time": "2022-03-17T22:49:40.670517Z",
     "start_time": "2022-03-17T22:49:40.666198Z"
    }
   },
   "outputs": [
    {
     "data": {
      "text/plain": [
       "0.3368421052631579"
      ]
     },
     "execution_count": 547,
     "metadata": {},
     "output_type": "execute_result"
    }
   ],
   "source": [
    "accuracy_score(y_test, y_hat_gnb)"
   ]
  },
  {
   "cell_type": "code",
   "execution_count": 548,
   "id": "3f5c7c8e",
   "metadata": {
    "ExecuteTime": {
     "end_time": "2022-03-17T22:49:40.916739Z",
     "start_time": "2022-03-17T22:49:40.672071Z"
    }
   },
   "outputs": [
    {
     "data": {
      "image/png": "[encoded data removed]",
      "text/plain": [
       "<Figure size 432x288 with 2 Axes>"
      ]
     },
     "metadata": {
      "needs_background": "light"
     },
     "output_type": "display_data"
    }
   ],
   "source": [
    "sns.heatmap(confusion_matrix(y_test, y_hat_gnb, normalize='true'), annot=True, );"
   ]
  },
  {
   "cell_type": "code",
   "execution_count": 549,
   "id": "1ea12c9f",
   "metadata": {
    "ExecuteTime": {
     "end_time": "2022-03-17T22:49:40.926039Z",
     "start_time": "2022-03-17T22:49:40.918660Z"
    }
   },
   "outputs": [
    {
     "name": "stdout",
     "output_type": "stream",
     "text": [
      "              precision    recall  f1-score   support\n",
      "\n",
      "           0       0.26      0.29      0.27        49\n",
      "           1       0.56      0.17      0.26        89\n",
      "           2       0.32      0.67      0.43        52\n",
      "\n",
      "    accuracy                           0.34       190\n",
      "   macro avg       0.38      0.38      0.32       190\n",
      "weighted avg       0.41      0.34      0.31       190\n",
      "\n"
     ]
    }
   ],
   "source": [
    "print(classification_report(y_test, y_hat_gnb))"
   ]
  },
  {
   "cell_type": "markdown",
   "id": "55a278aa",
   "metadata": {},
   "source": [
    "## 5.6 SGD Classifier "
   ]
  },
  {
   "cell_type": "code",
   "execution_count": 550,
   "id": "9a5b2aff",
   "metadata": {
    "ExecuteTime": {
     "end_time": "2022-03-17T22:49:40.991574Z",
     "start_time": "2022-03-17T22:49:40.928068Z"
    }
   },
   "outputs": [],
   "source": [
    "clf_sgd = SGDClassifier().fit(X_train, y_train)\n",
    "y_hat_sgd = clf_sgd.predict(X_test)"
   ]
  },
  {
   "cell_type": "code",
   "execution_count": 551,
   "id": "e4742206",
   "metadata": {
    "ExecuteTime": {
     "end_time": "2022-03-17T22:49:40.997673Z",
     "start_time": "2022-03-17T22:49:40.992828Z"
    },
    "scrolled": true
   },
   "outputs": [
    {
     "data": {
      "text/plain": [
       "0.4421052631578947"
      ]
     },
     "execution_count": 551,
     "metadata": {},
     "output_type": "execute_result"
    }
   ],
   "source": [
    "accuracy_score(y_test, y_hat_sgd)"
   ]
  },
  {
   "cell_type": "code",
   "execution_count": 552,
   "id": "4140c9b9",
   "metadata": {
    "ExecuteTime": {
     "end_time": "2022-03-17T22:49:41.152637Z",
     "start_time": "2022-03-17T22:49:40.999866Z"
    }
   },
   "outputs": [
    {
     "data": {
      "text/plain": [
       "<AxesSubplot:>"
      ]
     },
     "execution_count": 552,
     "metadata": {},
     "output_type": "execute_result"
    },
    {
     "data": {
      "image/png": "[encoded data removed]",
      "text/plain": [
       "<Figure size 432x288 with 2 Axes>"
      ]
     },
     "metadata": {
      "needs_background": "light"
     },
     "output_type": "display_data"
    }
   ],
   "source": [
    "sns.heatmap(confusion_matrix(y_test, y_hat_sgd, normalize='true'), annot=True, )"
   ]
  },
  {
   "cell_type": "code",
   "execution_count": 553,
   "id": "c6b86019",
   "metadata": {
    "ExecuteTime": {
     "end_time": "2022-03-17T22:49:41.162156Z",
     "start_time": "2022-03-17T22:49:41.154310Z"
    }
   },
   "outputs": [
    {
     "name": "stdout",
     "output_type": "stream",
     "text": [
      "              precision    recall  f1-score   support\n",
      "\n",
      "           0       0.25      0.24      0.25        49\n",
      "           1       0.57      0.65      0.61        89\n",
      "           2       0.34      0.27      0.30        52\n",
      "\n",
      "    accuracy                           0.44       190\n",
      "   macro avg       0.39      0.39      0.39       190\n",
      "weighted avg       0.43      0.44      0.43       190\n",
      "\n"
     ]
    }
   ],
   "source": [
    "print(classification_report(y_test, y_hat_sgd))"
   ]
  },
  {
   "cell_type": "markdown",
   "id": "ea707aaf",
   "metadata": {},
   "source": [
    "## 5.7 Decision Tree"
   ]
  },
  {
   "cell_type": "code",
   "execution_count": 554,
   "id": "833849cf",
   "metadata": {
    "ExecuteTime": {
     "end_time": "2022-03-17T22:49:41.187564Z",
     "start_time": "2022-03-17T22:49:41.163954Z"
    }
   },
   "outputs": [],
   "source": [
    "clf_dt = tree.DecisionTreeClassifier().fit(X_train, y_train)\n",
    "y_hat_dt = clf_dt.predict(X_test)"
   ]
  },
  {
   "cell_type": "code",
   "execution_count": 555,
   "id": "69700ec8",
   "metadata": {
    "ExecuteTime": {
     "end_time": "2022-03-17T22:49:41.193739Z",
     "start_time": "2022-03-17T22:49:41.189541Z"
    },
    "scrolled": true
   },
   "outputs": [
    {
     "data": {
      "text/plain": [
       "0.4263157894736842"
      ]
     },
     "execution_count": 555,
     "metadata": {},
     "output_type": "execute_result"
    }
   ],
   "source": [
    "accuracy_score(y_test, y_hat_dt)"
   ]
  },
  {
   "cell_type": "code",
   "execution_count": 556,
   "id": "92ce198d",
   "metadata": {
    "ExecuteTime": {
     "end_time": "2022-03-17T22:49:41.354400Z",
     "start_time": "2022-03-17T22:49:41.195042Z"
    }
   },
   "outputs": [
    {
     "data": {
      "image/png": "[encoded data removed]",
      "text/plain": [
       "<Figure size 432x288 with 2 Axes>"
      ]
     },
     "metadata": {
      "needs_background": "light"
     },
     "output_type": "display_data"
    }
   ],
   "source": [
    "sns.heatmap(confusion_matrix(y_test, y_hat_dt, normalize='true'), annot=True, );"
   ]
  },
  {
   "cell_type": "code",
   "execution_count": 557,
   "id": "023e1c66",
   "metadata": {
    "ExecuteTime": {
     "end_time": "2022-03-17T22:49:41.363781Z",
     "start_time": "2022-03-17T22:49:41.356354Z"
    }
   },
   "outputs": [
    {
     "name": "stdout",
     "output_type": "stream",
     "text": [
      "              precision    recall  f1-score   support\n",
      "\n",
      "           0       0.33      0.43      0.37        49\n",
      "           1       0.53      0.48      0.51        89\n",
      "           2       0.38      0.33      0.35        52\n",
      "\n",
      "    accuracy                           0.43       190\n",
      "   macro avg       0.41      0.41      0.41       190\n",
      "weighted avg       0.44      0.43      0.43       190\n",
      "\n"
     ]
    }
   ],
   "source": [
    "print(classification_report(y_test, y_hat_dt))"
   ]
  },
  {
   "cell_type": "markdown",
   "id": "525fc54f",
   "metadata": {},
   "source": [
    "## 5.8 MLP"
   ]
  },
  {
   "cell_type": "code",
   "execution_count": 558,
   "id": "aa014027",
   "metadata": {
    "ExecuteTime": {
     "end_time": "2022-03-17T22:49:43.075581Z",
     "start_time": "2022-03-17T22:49:41.365296Z"
    }
   },
   "outputs": [],
   "source": [
    "clf_mlp = MLPClassifier(max_iter=500).fit(X_train, y_train)\n",
    "y_hat_mlp = clf_mlp.predict(X_test)"
   ]
  },
  {
   "cell_type": "code",
   "execution_count": 559,
   "id": "6d159af4",
   "metadata": {
    "ExecuteTime": {
     "end_time": "2022-03-17T22:49:43.081346Z",
     "start_time": "2022-03-17T22:49:43.077192Z"
    },
    "scrolled": true
   },
   "outputs": [
    {
     "data": {
      "text/plain": [
       "0.3684210526315789"
      ]
     },
     "execution_count": 559,
     "metadata": {},
     "output_type": "execute_result"
    }
   ],
   "source": [
    "accuracy_score(y_test, y_hat_mlp)"
   ]
  },
  {
   "cell_type": "code",
   "execution_count": 560,
   "id": "1465c2a7",
   "metadata": {
    "ExecuteTime": {
     "end_time": "2022-03-17T22:49:43.273320Z",
     "start_time": "2022-03-17T22:49:43.085484Z"
    }
   },
   "outputs": [
    {
     "data": {
      "image/png": "[encoded data removed]",
      "text/plain": [
       "<Figure size 432x288 with 2 Axes>"
      ]
     },
     "metadata": {
      "needs_background": "light"
     },
     "output_type": "display_data"
    }
   ],
   "source": [
    "sns.heatmap(confusion_matrix(y_test, y_hat_mlp, normalize='true'), annot=True, );"
   ]
  },
  {
   "cell_type": "code",
   "execution_count": 561,
   "id": "9e2d05de",
   "metadata": {
    "ExecuteTime": {
     "end_time": "2022-03-17T22:49:43.283983Z",
     "start_time": "2022-03-17T22:49:43.275151Z"
    }
   },
   "outputs": [
    {
     "name": "stdout",
     "output_type": "stream",
     "text": [
      "              precision    recall  f1-score   support\n",
      "\n",
      "           0       0.20      0.22      0.21        49\n",
      "           1       0.47      0.51      0.49        89\n",
      "           2       0.37      0.27      0.31        52\n",
      "\n",
      "    accuracy                           0.37       190\n",
      "   macro avg       0.34      0.33      0.34       190\n",
      "weighted avg       0.37      0.37      0.37       190\n",
      "\n"
     ]
    }
   ],
   "source": [
    "print(classification_report(y_test, y_hat_mlp))"
   ]
  },
  {
   "cell_type": "markdown",
   "id": "5c1dbbb5",
   "metadata": {},
   "source": [
    "# 6.0 Ensemble "
   ]
  },
  {
   "cell_type": "code",
   "execution_count": 562,
   "id": "f67b8925",
   "metadata": {
    "ExecuteTime": {
     "end_time": "2022-03-17T22:49:43.289421Z",
     "start_time": "2022-03-17T22:49:43.286038Z"
    }
   },
   "outputs": [],
   "source": [
    "import warnings\n",
    "warnings.filterwarnings(\"ignore\")"
   ]
  },
  {
   "cell_type": "code",
   "execution_count": 563,
   "id": "68ad6e89",
   "metadata": {
    "ExecuteTime": {
     "end_time": "2022-03-17T22:49:43.298105Z",
     "start_time": "2022-03-17T22:49:43.292641Z"
    }
   },
   "outputs": [],
   "source": [
    "eclf = VotingClassifier(estimators=[('logistic', clf_lg), ('xgb', clf_xgb), ('random_forest', clf_rf), ('naive_bayes', clf_gb), ('decision_tree', clf_dt), ('mlp', clf_mlp)], voting='hard')"
   ]
  },
  {
   "cell_type": "code",
   "execution_count": 564,
   "id": "26518993",
   "metadata": {
    "ExecuteTime": {
     "end_time": "2022-03-17T22:50:15.362318Z",
     "start_time": "2022-03-17T22:49:43.300312Z"
    }
   },
   "outputs": [
    {
     "name": "stdout",
     "output_type": "stream",
     "text": [
      "Accuracy: 0.42 (+/- 0.04) [logistic]\n",
      "[19:49:47] WARNING: ../src/learner.cc:1115: Starting in XGBoost 1.3.0, the default evaluation metric used with the objective 'multi:softprob' was changed from 'merror' to 'mlogloss'. Explicitly set eval_metric if you'd like to restore the old behavior.\n",
      "[19:49:51] WARNING: ../src/learner.cc:1115: Starting in XGBoost 1.3.0, the default evaluation metric used with the objective 'multi:softprob' was changed from 'merror' to 'mlogloss'. Explicitly set eval_metric if you'd like to restore the old behavior.\n",
      "[19:49:55] WARNING: ../src/learner.cc:1115: Starting in XGBoost 1.3.0, the default evaluation metric used with the objective 'multi:softprob' was changed from 'merror' to 'mlogloss'. Explicitly set eval_metric if you'd like to restore the old behavior.\n",
      "[19:49:59] WARNING: ../src/learner.cc:1115: Starting in XGBoost 1.3.0, the default evaluation metric used with the objective 'multi:softprob' was changed from 'merror' to 'mlogloss'. Explicitly set eval_metric if you'd like to restore the old behavior.\n",
      "[19:50:03] WARNING: ../src/learner.cc:1115: Starting in XGBoost 1.3.0, the default evaluation metric used with the objective 'multi:softprob' was changed from 'merror' to 'mlogloss'. Explicitly set eval_metric if you'd like to restore the old behavior.\n",
      "Accuracy: 0.41 (+/- 0.03) [xgb]\n",
      "Accuracy: 0.44 (+/- 0.03) [random_forest]\n",
      "Accuracy: 0.36 (+/- 0.03) [naive_bayes]\n",
      "Accuracy: 0.35 (+/- 0.07) [decision_tree]\n"
     ]
    }
   ],
   "source": [
    "for clf, label in zip([clf_lg, clf_xgb, clf_rf, clf_gb, clf_dt], ['logistic', 'xgb', 'random_forest', 'naive_bayes', 'decision_tree', 'mlp' ]):\n",
    "    scores = cross_val_score(clf, X, y, scoring='accuracy', cv=5)\n",
    "    print(\"Accuracy: %0.2f (+/- %0.2f) [%s]\" % (scores.mean(), scores.std(), label))"
   ]
  },
  {
   "cell_type": "code",
   "execution_count": 565,
   "id": "f7b6ae5a",
   "metadata": {
    "ExecuteTime": {
     "end_time": "2022-03-17T22:50:16.751037Z",
     "start_time": "2022-03-17T22:50:15.365025Z"
    }
   },
   "outputs": [],
   "source": [
    "eclf = VotingClassifier(estimators=[('mlp', clf_mlp), ('svm', clf_svc)], voting='hard').fit(X_train, y_train)"
   ]
  },
  {
   "cell_type": "code",
   "execution_count": 566,
   "id": "547ed177",
   "metadata": {
    "ExecuteTime": {
     "end_time": "2022-03-17T22:50:16.799197Z",
     "start_time": "2022-03-17T22:50:16.752520Z"
    }
   },
   "outputs": [],
   "source": [
    "y_hat_eclf = eclf.predict(X_test)"
   ]
  },
  {
   "cell_type": "code",
   "execution_count": 567,
   "id": "28650a33",
   "metadata": {
    "ExecuteTime": {
     "end_time": "2022-03-17T22:50:16.809802Z",
     "start_time": "2022-03-17T22:50:16.800770Z"
    },
    "scrolled": true
   },
   "outputs": [
    {
     "data": {
      "text/plain": [
       "0.4263157894736842"
      ]
     },
     "execution_count": 567,
     "metadata": {},
     "output_type": "execute_result"
    }
   ],
   "source": [
    "accuracy_score(y_test, y_hat_eclf)"
   ]
  },
  {
   "cell_type": "code",
   "execution_count": 568,
   "id": "05b25b6e",
   "metadata": {
    "ExecuteTime": {
     "end_time": "2022-03-17T22:50:16.972873Z",
     "start_time": "2022-03-17T22:50:16.811603Z"
    }
   },
   "outputs": [
    {
     "data": {
      "image/png": "[encoded data removed]",
      "text/plain": [
       "<Figure size 432x288 with 2 Axes>"
      ]
     },
     "metadata": {
      "needs_background": "light"
     },
     "output_type": "display_data"
    }
   ],
   "source": [
    "sns.heatmap(confusion_matrix(y_test, y_hat_eclf, normalize='true'), annot=True, );"
   ]
  },
  {
   "cell_type": "code",
   "execution_count": 569,
   "id": "4349e38c",
   "metadata": {
    "ExecuteTime": {
     "end_time": "2022-03-17T22:50:16.982984Z",
     "start_time": "2022-03-17T22:50:16.974647Z"
    }
   },
   "outputs": [
    {
     "name": "stdout",
     "output_type": "stream",
     "text": [
      "              precision    recall  f1-score   support\n",
      "\n",
      "           0       0.28      0.39      0.33        49\n",
      "           1       0.51      0.58      0.54        89\n",
      "           2       0.48      0.19      0.27        52\n",
      "\n",
      "    accuracy                           0.43       190\n",
      "   macro avg       0.42      0.39      0.38       190\n",
      "weighted avg       0.44      0.43      0.41       190\n",
      "\n"
     ]
    }
   ],
   "source": [
    "print(classification_report(y_test, y_hat_eclf))"
   ]
  },
  {
   "cell_type": "code",
   "execution_count": null,
   "id": "0c48cab8",
   "metadata": {},
   "outputs": [],
   "source": []
  }
 ],
 "metadata": {
  "kernelspec": {
   "display_name": "Python 3 (ipykernel)",
   "language": "python",
   "name": "python3"
  },
  "language_info": {
   "codemirror_mode": {
    "name": "ipython",
    "version": 3
   },
   "file_extension": ".py",
   "mimetype": "text/x-python",
   "name": "python",
   "nbconvert_exporter": "python",
   "pygments_lexer": "ipython3",
   "version": "3.9.7"
  }
 },
 "nbformat": 4,
 "nbformat_minor": 5
}
