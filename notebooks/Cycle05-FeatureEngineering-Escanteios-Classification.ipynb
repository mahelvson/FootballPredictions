{
 "cells": [
  {
   "cell_type": "markdown",
   "id": "648a4712",
   "metadata": {},
   "source": [
    "# 0. Imports "
   ]
  },
  {
   "cell_type": "code",
   "execution_count": 1,
   "id": "0b87f4ad",
   "metadata": {
    "ExecuteTime": {
     "end_time": "2022-03-14T13:30:13.289620Z",
     "start_time": "2022-03-14T13:30:11.771002Z"
    }
   },
   "outputs": [
    {
     "name": "stderr",
     "output_type": "stream",
     "text": [
      "/home/mahelvson/anaconda3/envs/foot/lib/python3.9/site-packages/xgboost/compat.py:36: FutureWarning: pandas.Int64Index is deprecated and will be removed from pandas in a future version. Use pandas.Index with the appropriate dtype instead.\n",
      "  from pandas import MultiIndex, Int64Index\n"
     ]
    }
   ],
   "source": [
    "import pandas as pd\n",
    "import numpy as np\n",
    "import matplotlib.pyplot as plt\n",
    "import seaborn as sns\n",
    "import xgboost as xgb\n",
    "\n",
    "from os import listdir\n",
    "from sklearn.model_selection import train_test_split, cross_val_score\n",
    "from sklearn.metrics import confusion_matrix, accuracy_score, classification_report\n",
    "from sklearn.ensemble import RandomForestRegressor, RandomForestClassifier\n",
    "from sklearn.metrics import mean_absolute_error, mean_squared_error, mean_absolute_percentage_error\n",
    "from sklearn.linear_model import LogisticRegression\n",
    "from sklearn.preprocessing import LabelEncoder\n",
    "from sklearn import svm, tree\n",
    "from sklearn.naive_bayes import GaussianNB\n",
    "from sklearn.linear_model import SGDClassifier\n",
    "from sklearn.ensemble import VotingClassifier"
   ]
  },
  {
   "cell_type": "markdown",
   "id": "25b9bf7e",
   "metadata": {},
   "source": [
    "# 1. Loading Data "
   ]
  },
  {
   "cell_type": "code",
   "execution_count": 2,
   "id": "b9bc9da9",
   "metadata": {
    "ExecuteTime": {
     "end_time": "2022-03-14T13:30:13.298087Z",
     "start_time": "2022-03-14T13:30:13.294454Z"
    }
   },
   "outputs": [],
   "source": [
    "data_path = '../datasets/'\n",
    "files = listdir(data_path)"
   ]
  },
  {
   "cell_type": "code",
   "execution_count": 3,
   "id": "e40fc1d5",
   "metadata": {
    "ExecuteTime": {
     "end_time": "2022-03-14T13:30:13.311682Z",
     "start_time": "2022-03-14T13:30:13.299788Z"
    }
   },
   "outputs": [
    {
     "data": {
      "text/plain": [
       "['campeonato-brasileiro-cartoes.csv',\n",
       " 'campeonato-brasileiro-full.csv',\n",
       " 'campeonato-brasileiro-estatisticas-full.csv',\n",
       " 'campeonato-brasileiro-gols.csv',\n",
       " 'Legenda.txt']"
      ]
     },
     "execution_count": 3,
     "metadata": {},
     "output_type": "execute_result"
    }
   ],
   "source": [
    "files"
   ]
  },
  {
   "cell_type": "code",
   "execution_count": 4,
   "id": "71d0ac19",
   "metadata": {
    "ExecuteTime": {
     "end_time": "2022-03-14T13:30:13.317787Z",
     "start_time": "2022-03-14T13:30:13.314201Z"
    }
   },
   "outputs": [],
   "source": [
    "cards = files[0]\n",
    "full = files[1]\n",
    "stats = files[2]\n",
    "goals = files[3]"
   ]
  },
  {
   "cell_type": "markdown",
   "id": "402e3783",
   "metadata": {},
   "source": [
    "## 1.1 Cards"
   ]
  },
  {
   "cell_type": "code",
   "execution_count": 5,
   "id": "bad57e66",
   "metadata": {
    "ExecuteTime": {
     "end_time": "2022-03-14T13:30:13.355775Z",
     "start_time": "2022-03-14T13:30:13.319911Z"
    }
   },
   "outputs": [
    {
     "data": {
      "text/html": [
       "<div>\n",
       "<style scoped>\n",
       "    .dataframe tbody tr th:only-of-type {\n",
       "        vertical-align: middle;\n",
       "    }\n",
       "\n",
       "    .dataframe tbody tr th {\n",
       "        vertical-align: top;\n",
       "    }\n",
       "\n",
       "    .dataframe thead th {\n",
       "        text-align: right;\n",
       "    }\n",
       "</style>\n",
       "<table border=\"1\" class=\"dataframe\">\n",
       "  <thead>\n",
       "    <tr style=\"text-align: right;\">\n",
       "      <th></th>\n",
       "      <th>partida_id</th>\n",
       "      <th>rodada</th>\n",
       "      <th>clube</th>\n",
       "      <th>cartao</th>\n",
       "      <th>atleta</th>\n",
       "      <th>num_camisa</th>\n",
       "      <th>posicao</th>\n",
       "      <th>minuto</th>\n",
       "    </tr>\n",
       "  </thead>\n",
       "  <tbody>\n",
       "    <tr>\n",
       "      <th>0</th>\n",
       "      <td>4607</td>\n",
       "      <td>1</td>\n",
       "      <td>Figueirense</td>\n",
       "      <td>Amarelo</td>\n",
       "      <td>Thiago Heleno</td>\n",
       "      <td>4.0</td>\n",
       "      <td>Zagueiro</td>\n",
       "      <td>44</td>\n",
       "    </tr>\n",
       "    <tr>\n",
       "      <th>1</th>\n",
       "      <td>4607</td>\n",
       "      <td>1</td>\n",
       "      <td>Figueirense</td>\n",
       "      <td>Amarelo</td>\n",
       "      <td>Paulo Roberto da Silva</td>\n",
       "      <td>28.0</td>\n",
       "      <td>NaN</td>\n",
       "      <td>66</td>\n",
       "    </tr>\n",
       "    <tr>\n",
       "      <th>2</th>\n",
       "      <td>4608</td>\n",
       "      <td>1</td>\n",
       "      <td>Internacional</td>\n",
       "      <td>Amarelo</td>\n",
       "      <td>Juan Silveira dos Santos</td>\n",
       "      <td>4.0</td>\n",
       "      <td>Zagueiro</td>\n",
       "      <td>20</td>\n",
       "    </tr>\n",
       "    <tr>\n",
       "      <th>3</th>\n",
       "      <td>4608</td>\n",
       "      <td>1</td>\n",
       "      <td>Vitoria</td>\n",
       "      <td>Amarelo</td>\n",
       "      <td>Vinícius Santos Silva</td>\n",
       "      <td>NaN</td>\n",
       "      <td>NaN</td>\n",
       "      <td>82</td>\n",
       "    </tr>\n",
       "    <tr>\n",
       "      <th>4</th>\n",
       "      <td>4608</td>\n",
       "      <td>1</td>\n",
       "      <td>Internacional</td>\n",
       "      <td>Amarelo</td>\n",
       "      <td>Andrés D'Alessandro</td>\n",
       "      <td>10.0</td>\n",
       "      <td>Meio-campo</td>\n",
       "      <td>72</td>\n",
       "    </tr>\n",
       "  </tbody>\n",
       "</table>\n",
       "</div>"
      ],
      "text/plain": [
       "   partida_id  rodada          clube   cartao                    atleta  \\\n",
       "0        4607       1    Figueirense  Amarelo             Thiago Heleno   \n",
       "1        4607       1    Figueirense  Amarelo    Paulo Roberto da Silva   \n",
       "2        4608       1  Internacional  Amarelo  Juan Silveira dos Santos   \n",
       "3        4608       1        Vitoria  Amarelo     Vinícius Santos Silva   \n",
       "4        4608       1  Internacional  Amarelo       Andrés D'Alessandro   \n",
       "\n",
       "   num_camisa     posicao minuto  \n",
       "0         4.0    Zagueiro     44  \n",
       "1        28.0         NaN     66  \n",
       "2         4.0    Zagueiro     20  \n",
       "3         NaN         NaN     82  \n",
       "4        10.0  Meio-campo     72  "
      ]
     },
     "execution_count": 5,
     "metadata": {},
     "output_type": "execute_result"
    }
   ],
   "source": [
    "df_cards = pd.read_csv(data_path + cards)\n",
    "df_cards.head()"
   ]
  },
  {
   "cell_type": "code",
   "execution_count": 6,
   "id": "5451bc20",
   "metadata": {
    "ExecuteTime": {
     "end_time": "2022-03-14T13:30:13.374686Z",
     "start_time": "2022-03-14T13:30:13.357927Z"
    }
   },
   "outputs": [
    {
     "data": {
      "text/plain": [
       "partida_id    0.000000\n",
       "rodada        0.000000\n",
       "clube         0.000000\n",
       "cartao        0.000000\n",
       "atleta        0.000406\n",
       "num_camisa    0.026138\n",
       "posicao       0.081121\n",
       "minuto        0.000000\n",
       "dtype: float64"
      ]
     },
     "execution_count": 6,
     "metadata": {},
     "output_type": "execute_result"
    }
   ],
   "source": [
    "df_cards.isna().sum() / df_cards.shape[0]"
   ]
  },
  {
   "cell_type": "code",
   "execution_count": 7,
   "id": "06865881",
   "metadata": {
    "ExecuteTime": {
     "end_time": "2022-03-14T13:30:13.391012Z",
     "start_time": "2022-03-14T13:30:13.385796Z"
    }
   },
   "outputs": [
    {
     "data": {
      "text/plain": [
       "(14768, 8)"
      ]
     },
     "execution_count": 7,
     "metadata": {},
     "output_type": "execute_result"
    }
   ],
   "source": [
    "df_cards.shape"
   ]
  },
  {
   "cell_type": "code",
   "execution_count": 8,
   "id": "1573bdf7",
   "metadata": {
    "ExecuteTime": {
     "end_time": "2022-03-14T13:30:13.401127Z",
     "start_time": "2022-03-14T13:30:13.393266Z"
    }
   },
   "outputs": [
    {
     "data": {
      "text/plain": [
       "partida_id      int64\n",
       "rodada          int64\n",
       "clube          object\n",
       "cartao         object\n",
       "atleta         object\n",
       "num_camisa    float64\n",
       "posicao        object\n",
       "minuto         object\n",
       "dtype: object"
      ]
     },
     "execution_count": 8,
     "metadata": {},
     "output_type": "execute_result"
    }
   ],
   "source": [
    "df_cards.dtypes"
   ]
  },
  {
   "cell_type": "markdown",
   "id": "6b202bf5",
   "metadata": {},
   "source": [
    "Quantidade de NaN é no máximo 8% em relação ao total da registros."
   ]
  },
  {
   "cell_type": "markdown",
   "id": "773ebda2",
   "metadata": {},
   "source": [
    "## 1.2 Full"
   ]
  },
  {
   "cell_type": "code",
   "execution_count": 9,
   "id": "b0198203",
   "metadata": {
    "ExecuteTime": {
     "end_time": "2022-03-14T13:30:13.460284Z",
     "start_time": "2022-03-14T13:30:13.415920Z"
    }
   },
   "outputs": [
    {
     "data": {
      "text/html": [
       "<div>\n",
       "<style scoped>\n",
       "    .dataframe tbody tr th:only-of-type {\n",
       "        vertical-align: middle;\n",
       "    }\n",
       "\n",
       "    .dataframe tbody tr th {\n",
       "        vertical-align: top;\n",
       "    }\n",
       "\n",
       "    .dataframe thead th {\n",
       "        text-align: right;\n",
       "    }\n",
       "</style>\n",
       "<table border=\"1\" class=\"dataframe\">\n",
       "  <thead>\n",
       "    <tr style=\"text-align: right;\">\n",
       "      <th></th>\n",
       "      <th>ID</th>\n",
       "      <th>rodada</th>\n",
       "      <th>data</th>\n",
       "      <th>hora</th>\n",
       "      <th>dia</th>\n",
       "      <th>mandante</th>\n",
       "      <th>visitante</th>\n",
       "      <th>formacao_mandante</th>\n",
       "      <th>formacao_visitante</th>\n",
       "      <th>tecnico_mandante</th>\n",
       "      <th>tecnico_visitante</th>\n",
       "      <th>vencedor</th>\n",
       "      <th>arena</th>\n",
       "      <th>mandante_placar</th>\n",
       "      <th>visitante_placar</th>\n",
       "      <th>mandante_estado</th>\n",
       "      <th>visitante_estado</th>\n",
       "      <th>estado_vencedor</th>\n",
       "    </tr>\n",
       "  </thead>\n",
       "  <tbody>\n",
       "    <tr>\n",
       "      <th>0</th>\n",
       "      <td>1</td>\n",
       "      <td>1</td>\n",
       "      <td>2003-03-29</td>\n",
       "      <td>16:00</td>\n",
       "      <td>Sabado</td>\n",
       "      <td>Guarani</td>\n",
       "      <td>Vasco</td>\n",
       "      <td>NaN</td>\n",
       "      <td>NaN</td>\n",
       "      <td>NaN</td>\n",
       "      <td>NaN</td>\n",
       "      <td>Guarani</td>\n",
       "      <td>brinco de ouro</td>\n",
       "      <td>4</td>\n",
       "      <td>2</td>\n",
       "      <td>SP</td>\n",
       "      <td>RJ</td>\n",
       "      <td>SP</td>\n",
       "    </tr>\n",
       "    <tr>\n",
       "      <th>1</th>\n",
       "      <td>2</td>\n",
       "      <td>1</td>\n",
       "      <td>2003-03-29</td>\n",
       "      <td>16:00</td>\n",
       "      <td>Sabado</td>\n",
       "      <td>Athletico-PR</td>\n",
       "      <td>Gremio</td>\n",
       "      <td>NaN</td>\n",
       "      <td>NaN</td>\n",
       "      <td>NaN</td>\n",
       "      <td>NaN</td>\n",
       "      <td>Athletico-PR</td>\n",
       "      <td>arena da baixada</td>\n",
       "      <td>2</td>\n",
       "      <td>0</td>\n",
       "      <td>PR</td>\n",
       "      <td>RS</td>\n",
       "      <td>PR</td>\n",
       "    </tr>\n",
       "    <tr>\n",
       "      <th>2</th>\n",
       "      <td>3</td>\n",
       "      <td>1</td>\n",
       "      <td>2003-03-30</td>\n",
       "      <td>16:00</td>\n",
       "      <td>Domingo</td>\n",
       "      <td>Flamengo</td>\n",
       "      <td>Coritiba</td>\n",
       "      <td>NaN</td>\n",
       "      <td>NaN</td>\n",
       "      <td>NaN</td>\n",
       "      <td>NaN</td>\n",
       "      <td>-</td>\n",
       "      <td>maracana</td>\n",
       "      <td>1</td>\n",
       "      <td>1</td>\n",
       "      <td>RJ</td>\n",
       "      <td>PR</td>\n",
       "      <td>-</td>\n",
       "    </tr>\n",
       "    <tr>\n",
       "      <th>3</th>\n",
       "      <td>4</td>\n",
       "      <td>1</td>\n",
       "      <td>2003-03-30</td>\n",
       "      <td>16:00</td>\n",
       "      <td>Domingo</td>\n",
       "      <td>Goias</td>\n",
       "      <td>Paysandu</td>\n",
       "      <td>NaN</td>\n",
       "      <td>NaN</td>\n",
       "      <td>NaN</td>\n",
       "      <td>NaN</td>\n",
       "      <td>-</td>\n",
       "      <td>serra dourada</td>\n",
       "      <td>2</td>\n",
       "      <td>2</td>\n",
       "      <td>GO</td>\n",
       "      <td>PA</td>\n",
       "      <td>-</td>\n",
       "    </tr>\n",
       "    <tr>\n",
       "      <th>4</th>\n",
       "      <td>5</td>\n",
       "      <td>1</td>\n",
       "      <td>2003-03-30</td>\n",
       "      <td>16:00</td>\n",
       "      <td>Domingo</td>\n",
       "      <td>Internacional</td>\n",
       "      <td>Ponte Preta</td>\n",
       "      <td>NaN</td>\n",
       "      <td>NaN</td>\n",
       "      <td>NaN</td>\n",
       "      <td>NaN</td>\n",
       "      <td>-</td>\n",
       "      <td>beira rio</td>\n",
       "      <td>1</td>\n",
       "      <td>1</td>\n",
       "      <td>RS</td>\n",
       "      <td>SP</td>\n",
       "      <td>-</td>\n",
       "    </tr>\n",
       "    <tr>\n",
       "      <th>...</th>\n",
       "      <td>...</td>\n",
       "      <td>...</td>\n",
       "      <td>...</td>\n",
       "      <td>...</td>\n",
       "      <td>...</td>\n",
       "      <td>...</td>\n",
       "      <td>...</td>\n",
       "      <td>...</td>\n",
       "      <td>...</td>\n",
       "      <td>...</td>\n",
       "      <td>...</td>\n",
       "      <td>...</td>\n",
       "      <td>...</td>\n",
       "      <td>...</td>\n",
       "      <td>...</td>\n",
       "      <td>...</td>\n",
       "      <td>...</td>\n",
       "      <td>...</td>\n",
       "    </tr>\n",
       "    <tr>\n",
       "      <th>7640</th>\n",
       "      <td>7641</td>\n",
       "      <td>38</td>\n",
       "      <td>2021-12-12</td>\n",
       "      <td>21:33</td>\n",
       "      <td>Domingo</td>\n",
       "      <td>Bragantino</td>\n",
       "      <td>Internacional</td>\n",
       "      <td>4-2-3-1</td>\n",
       "      <td>3-4-2-1</td>\n",
       "      <td>D. Aguirre Camblor</td>\n",
       "      <td>D. Aguirre Camblor</td>\n",
       "      <td>Bragantino</td>\n",
       "      <td>nabizao</td>\n",
       "      <td>1</td>\n",
       "      <td>0</td>\n",
       "      <td>SP</td>\n",
       "      <td>RS</td>\n",
       "      <td>SP</td>\n",
       "    </tr>\n",
       "    <tr>\n",
       "      <th>7641</th>\n",
       "      <td>7642</td>\n",
       "      <td>38</td>\n",
       "      <td>2021-12-12</td>\n",
       "      <td>21:30</td>\n",
       "      <td>Domingo</td>\n",
       "      <td>Sport</td>\n",
       "      <td>Athletico-PR</td>\n",
       "      <td>4-2-3-1</td>\n",
       "      <td>3-4-2-1</td>\n",
       "      <td>J. Freitas</td>\n",
       "      <td>J. Freitas</td>\n",
       "      <td>-</td>\n",
       "      <td>arena de pernambuco</td>\n",
       "      <td>1</td>\n",
       "      <td>1</td>\n",
       "      <td>PE</td>\n",
       "      <td>PR</td>\n",
       "      <td>-</td>\n",
       "    </tr>\n",
       "    <tr>\n",
       "      <th>7642</th>\n",
       "      <td>7643</td>\n",
       "      <td>38</td>\n",
       "      <td>2021-12-12</td>\n",
       "      <td>21:33</td>\n",
       "      <td>Domingo</td>\n",
       "      <td>Juventude</td>\n",
       "      <td>Corinthians</td>\n",
       "      <td>3-4-3</td>\n",
       "      <td>4-3-3</td>\n",
       "      <td>S. Campos Junior</td>\n",
       "      <td>S. Campos Junior</td>\n",
       "      <td>Juventude</td>\n",
       "      <td>alfredo jaconi</td>\n",
       "      <td>1</td>\n",
       "      <td>0</td>\n",
       "      <td>RS</td>\n",
       "      <td>SP</td>\n",
       "      <td>RS</td>\n",
       "    </tr>\n",
       "    <tr>\n",
       "      <th>7643</th>\n",
       "      <td>7644</td>\n",
       "      <td>38</td>\n",
       "      <td>2021-12-12</td>\n",
       "      <td>21:33</td>\n",
       "      <td>Domingo</td>\n",
       "      <td>Gremio</td>\n",
       "      <td>Atletico-MG</td>\n",
       "      <td>4-2-3-1</td>\n",
       "      <td>4-2-3-1</td>\n",
       "      <td>A. Stival</td>\n",
       "      <td>A. Stival</td>\n",
       "      <td>Gremio</td>\n",
       "      <td>arena do gremio</td>\n",
       "      <td>4</td>\n",
       "      <td>3</td>\n",
       "      <td>RS</td>\n",
       "      <td>MG</td>\n",
       "      <td>RS</td>\n",
       "    </tr>\n",
       "    <tr>\n",
       "      <th>7644</th>\n",
       "      <td>7645</td>\n",
       "      <td>38</td>\n",
       "      <td>2021-12-12</td>\n",
       "      <td>21:33</td>\n",
       "      <td>Domingo</td>\n",
       "      <td>Santos</td>\n",
       "      <td>Cuiaba</td>\n",
       "      <td>3-4-2-1</td>\n",
       "      <td>4-4-2</td>\n",
       "      <td>J. de Amorim Campos</td>\n",
       "      <td>J. de Amorim Campos</td>\n",
       "      <td>-</td>\n",
       "      <td>estadio urbano caldeira</td>\n",
       "      <td>1</td>\n",
       "      <td>1</td>\n",
       "      <td>SP</td>\n",
       "      <td>MT</td>\n",
       "      <td>-</td>\n",
       "    </tr>\n",
       "  </tbody>\n",
       "</table>\n",
       "<p>7645 rows × 18 columns</p>\n",
       "</div>"
      ],
      "text/plain": [
       "        ID  rodada        data   hora      dia       mandante      visitante  \\\n",
       "0        1       1  2003-03-29  16:00   Sabado        Guarani          Vasco   \n",
       "1        2       1  2003-03-29  16:00   Sabado   Athletico-PR         Gremio   \n",
       "2        3       1  2003-03-30  16:00  Domingo       Flamengo       Coritiba   \n",
       "3        4       1  2003-03-30  16:00  Domingo          Goias       Paysandu   \n",
       "4        5       1  2003-03-30  16:00  Domingo  Internacional    Ponte Preta   \n",
       "...    ...     ...         ...    ...      ...            ...            ...   \n",
       "7640  7641      38  2021-12-12  21:33  Domingo     Bragantino  Internacional   \n",
       "7641  7642      38  2021-12-12  21:30  Domingo          Sport   Athletico-PR   \n",
       "7642  7643      38  2021-12-12  21:33  Domingo      Juventude    Corinthians   \n",
       "7643  7644      38  2021-12-12  21:33  Domingo         Gremio    Atletico-MG   \n",
       "7644  7645      38  2021-12-12  21:33  Domingo         Santos         Cuiaba   \n",
       "\n",
       "     formacao_mandante formacao_visitante     tecnico_mandante  \\\n",
       "0                  NaN                NaN                  NaN   \n",
       "1                  NaN                NaN                  NaN   \n",
       "2                  NaN                NaN                  NaN   \n",
       "3                  NaN                NaN                  NaN   \n",
       "4                  NaN                NaN                  NaN   \n",
       "...                ...                ...                  ...   \n",
       "7640           4-2-3-1            3-4-2-1   D. Aguirre Camblor   \n",
       "7641           4-2-3-1            3-4-2-1           J. Freitas   \n",
       "7642             3-4-3              4-3-3     S. Campos Junior   \n",
       "7643           4-2-3-1            4-2-3-1            A. Stival   \n",
       "7644           3-4-2-1              4-4-2  J. de Amorim Campos   \n",
       "\n",
       "        tecnico_visitante      vencedor                    arena  \\\n",
       "0                     NaN       Guarani           brinco de ouro   \n",
       "1                     NaN  Athletico-PR         arena da baixada   \n",
       "2                     NaN             -                 maracana   \n",
       "3                     NaN             -            serra dourada   \n",
       "4                     NaN             -                beira rio   \n",
       "...                   ...           ...                      ...   \n",
       "7640   D. Aguirre Camblor    Bragantino                  nabizao   \n",
       "7641           J. Freitas             -      arena de pernambuco   \n",
       "7642     S. Campos Junior     Juventude           alfredo jaconi   \n",
       "7643            A. Stival        Gremio          arena do gremio   \n",
       "7644  J. de Amorim Campos             -  estadio urbano caldeira   \n",
       "\n",
       "      mandante_placar  visitante_placar mandante_estado visitante_estado  \\\n",
       "0                   4                 2              SP               RJ   \n",
       "1                   2                 0              PR               RS   \n",
       "2                   1                 1              RJ               PR   \n",
       "3                   2                 2              GO               PA   \n",
       "4                   1                 1              RS               SP   \n",
       "...               ...               ...             ...              ...   \n",
       "7640                1                 0              SP               RS   \n",
       "7641                1                 1              PE               PR   \n",
       "7642                1                 0              RS               SP   \n",
       "7643                4                 3              RS               MG   \n",
       "7644                1                 1              SP               MT   \n",
       "\n",
       "     estado_vencedor  \n",
       "0                 SP  \n",
       "1                 PR  \n",
       "2                  -  \n",
       "3                  -  \n",
       "4                  -  \n",
       "...              ...  \n",
       "7640              SP  \n",
       "7641               -  \n",
       "7642              RS  \n",
       "7643              RS  \n",
       "7644               -  \n",
       "\n",
       "[7645 rows x 18 columns]"
      ]
     },
     "execution_count": 9,
     "metadata": {},
     "output_type": "execute_result"
    }
   ],
   "source": [
    "df_full = pd.read_csv(data_path + full)\n",
    "df_full"
   ]
  },
  {
   "cell_type": "code",
   "execution_count": 10,
   "id": "2cca1f49",
   "metadata": {
    "ExecuteTime": {
     "end_time": "2022-03-14T13:30:13.467168Z",
     "start_time": "2022-03-14T13:30:13.463639Z"
    }
   },
   "outputs": [
    {
     "data": {
      "text/plain": [
       "(7645, 18)"
      ]
     },
     "execution_count": 10,
     "metadata": {},
     "output_type": "execute_result"
    }
   ],
   "source": [
    "df_full.shape"
   ]
  },
  {
   "cell_type": "code",
   "execution_count": 11,
   "id": "317aff8e",
   "metadata": {
    "ExecuteTime": {
     "end_time": "2022-03-14T13:30:13.488377Z",
     "start_time": "2022-03-14T13:30:13.469014Z"
    }
   },
   "outputs": [
    {
     "name": "stdout",
     "output_type": "stream",
     "text": [
      "% of NaN\n"
     ]
    },
    {
     "data": {
      "text/plain": [
       "ID                    0.000000\n",
       "rodada                0.000000\n",
       "data                  0.000000\n",
       "hora                  0.000000\n",
       "dia                   0.000000\n",
       "mandante              0.000000\n",
       "visitante             0.000000\n",
       "formacao_mandante     0.650621\n",
       "formacao_visitante    0.650621\n",
       "tecnico_mandante      0.603009\n",
       "tecnico_visitante     0.603009\n",
       "vencedor              0.000000\n",
       "arena                 0.000000\n",
       "mandante_placar       0.000000\n",
       "visitante_placar      0.000000\n",
       "mandante_estado       0.000000\n",
       "visitante_estado      0.000000\n",
       "estado_vencedor       0.000000\n",
       "dtype: float64"
      ]
     },
     "execution_count": 11,
     "metadata": {},
     "output_type": "execute_result"
    }
   ],
   "source": [
    "print('% of NaN')\n",
    "df_full.isna().sum()/df_full.shape[0]"
   ]
  },
  {
   "cell_type": "code",
   "execution_count": 12,
   "id": "80934ad7",
   "metadata": {
    "ExecuteTime": {
     "end_time": "2022-03-14T13:30:13.495069Z",
     "start_time": "2022-03-14T13:30:13.490024Z"
    }
   },
   "outputs": [
    {
     "data": {
      "text/plain": [
       "ID                     int64\n",
       "rodada                 int64\n",
       "data                  object\n",
       "hora                  object\n",
       "dia                   object\n",
       "mandante              object\n",
       "visitante             object\n",
       "formacao_mandante     object\n",
       "formacao_visitante    object\n",
       "tecnico_mandante      object\n",
       "tecnico_visitante     object\n",
       "vencedor              object\n",
       "arena                 object\n",
       "mandante_placar        int64\n",
       "visitante_placar       int64\n",
       "mandante_estado       object\n",
       "visitante_estado      object\n",
       "estado_vencedor       object\n",
       "dtype: object"
      ]
     },
     "execution_count": 12,
     "metadata": {},
     "output_type": "execute_result"
    }
   ],
   "source": [
    "df_full.dtypes"
   ]
  },
  {
   "cell_type": "code",
   "execution_count": 13,
   "id": "89763785",
   "metadata": {
    "ExecuteTime": {
     "end_time": "2022-03-14T13:30:13.503894Z",
     "start_time": "2022-03-14T13:30:13.496809Z"
    }
   },
   "outputs": [],
   "source": [
    "df_full['data'] = pd.to_datetime(df_full.data, yearfirst=True)"
   ]
  },
  {
   "cell_type": "code",
   "execution_count": 14,
   "id": "737531d2",
   "metadata": {
    "ExecuteTime": {
     "end_time": "2022-03-14T13:30:13.529361Z",
     "start_time": "2022-03-14T13:30:13.505536Z"
    }
   },
   "outputs": [
    {
     "data": {
      "text/html": [
       "<div>\n",
       "<style scoped>\n",
       "    .dataframe tbody tr th:only-of-type {\n",
       "        vertical-align: middle;\n",
       "    }\n",
       "\n",
       "    .dataframe tbody tr th {\n",
       "        vertical-align: top;\n",
       "    }\n",
       "\n",
       "    .dataframe thead th {\n",
       "        text-align: right;\n",
       "    }\n",
       "</style>\n",
       "<table border=\"1\" class=\"dataframe\">\n",
       "  <thead>\n",
       "    <tr style=\"text-align: right;\">\n",
       "      <th></th>\n",
       "      <th>ID</th>\n",
       "      <th>rodada</th>\n",
       "      <th>data</th>\n",
       "      <th>hora</th>\n",
       "      <th>dia</th>\n",
       "      <th>mandante</th>\n",
       "      <th>visitante</th>\n",
       "      <th>formacao_mandante</th>\n",
       "      <th>formacao_visitante</th>\n",
       "      <th>tecnico_mandante</th>\n",
       "      <th>tecnico_visitante</th>\n",
       "      <th>vencedor</th>\n",
       "      <th>arena</th>\n",
       "      <th>mandante_placar</th>\n",
       "      <th>visitante_placar</th>\n",
       "      <th>mandante_estado</th>\n",
       "      <th>visitante_estado</th>\n",
       "      <th>estado_vencedor</th>\n",
       "    </tr>\n",
       "  </thead>\n",
       "  <tbody>\n",
       "    <tr>\n",
       "      <th>0</th>\n",
       "      <td>1</td>\n",
       "      <td>1</td>\n",
       "      <td>2003-03-29</td>\n",
       "      <td>16:00</td>\n",
       "      <td>Sabado</td>\n",
       "      <td>Guarani</td>\n",
       "      <td>Vasco</td>\n",
       "      <td>NaN</td>\n",
       "      <td>NaN</td>\n",
       "      <td>NaN</td>\n",
       "      <td>NaN</td>\n",
       "      <td>Guarani</td>\n",
       "      <td>brinco de ouro</td>\n",
       "      <td>4</td>\n",
       "      <td>2</td>\n",
       "      <td>SP</td>\n",
       "      <td>RJ</td>\n",
       "      <td>SP</td>\n",
       "    </tr>\n",
       "    <tr>\n",
       "      <th>1</th>\n",
       "      <td>2</td>\n",
       "      <td>1</td>\n",
       "      <td>2003-03-29</td>\n",
       "      <td>16:00</td>\n",
       "      <td>Sabado</td>\n",
       "      <td>Athletico-PR</td>\n",
       "      <td>Gremio</td>\n",
       "      <td>NaN</td>\n",
       "      <td>NaN</td>\n",
       "      <td>NaN</td>\n",
       "      <td>NaN</td>\n",
       "      <td>Athletico-PR</td>\n",
       "      <td>arena da baixada</td>\n",
       "      <td>2</td>\n",
       "      <td>0</td>\n",
       "      <td>PR</td>\n",
       "      <td>RS</td>\n",
       "      <td>PR</td>\n",
       "    </tr>\n",
       "    <tr>\n",
       "      <th>2</th>\n",
       "      <td>3</td>\n",
       "      <td>1</td>\n",
       "      <td>2003-03-30</td>\n",
       "      <td>16:00</td>\n",
       "      <td>Domingo</td>\n",
       "      <td>Flamengo</td>\n",
       "      <td>Coritiba</td>\n",
       "      <td>NaN</td>\n",
       "      <td>NaN</td>\n",
       "      <td>NaN</td>\n",
       "      <td>NaN</td>\n",
       "      <td>-</td>\n",
       "      <td>maracana</td>\n",
       "      <td>1</td>\n",
       "      <td>1</td>\n",
       "      <td>RJ</td>\n",
       "      <td>PR</td>\n",
       "      <td>-</td>\n",
       "    </tr>\n",
       "    <tr>\n",
       "      <th>3</th>\n",
       "      <td>4</td>\n",
       "      <td>1</td>\n",
       "      <td>2003-03-30</td>\n",
       "      <td>16:00</td>\n",
       "      <td>Domingo</td>\n",
       "      <td>Goias</td>\n",
       "      <td>Paysandu</td>\n",
       "      <td>NaN</td>\n",
       "      <td>NaN</td>\n",
       "      <td>NaN</td>\n",
       "      <td>NaN</td>\n",
       "      <td>-</td>\n",
       "      <td>serra dourada</td>\n",
       "      <td>2</td>\n",
       "      <td>2</td>\n",
       "      <td>GO</td>\n",
       "      <td>PA</td>\n",
       "      <td>-</td>\n",
       "    </tr>\n",
       "    <tr>\n",
       "      <th>4</th>\n",
       "      <td>5</td>\n",
       "      <td>1</td>\n",
       "      <td>2003-03-30</td>\n",
       "      <td>16:00</td>\n",
       "      <td>Domingo</td>\n",
       "      <td>Internacional</td>\n",
       "      <td>Ponte Preta</td>\n",
       "      <td>NaN</td>\n",
       "      <td>NaN</td>\n",
       "      <td>NaN</td>\n",
       "      <td>NaN</td>\n",
       "      <td>-</td>\n",
       "      <td>beira rio</td>\n",
       "      <td>1</td>\n",
       "      <td>1</td>\n",
       "      <td>RS</td>\n",
       "      <td>SP</td>\n",
       "      <td>-</td>\n",
       "    </tr>\n",
       "  </tbody>\n",
       "</table>\n",
       "</div>"
      ],
      "text/plain": [
       "   ID  rodada       data   hora      dia       mandante    visitante  \\\n",
       "0   1       1 2003-03-29  16:00   Sabado        Guarani        Vasco   \n",
       "1   2       1 2003-03-29  16:00   Sabado   Athletico-PR       Gremio   \n",
       "2   3       1 2003-03-30  16:00  Domingo       Flamengo     Coritiba   \n",
       "3   4       1 2003-03-30  16:00  Domingo          Goias     Paysandu   \n",
       "4   5       1 2003-03-30  16:00  Domingo  Internacional  Ponte Preta   \n",
       "\n",
       "  formacao_mandante formacao_visitante tecnico_mandante tecnico_visitante  \\\n",
       "0               NaN                NaN              NaN               NaN   \n",
       "1               NaN                NaN              NaN               NaN   \n",
       "2               NaN                NaN              NaN               NaN   \n",
       "3               NaN                NaN              NaN               NaN   \n",
       "4               NaN                NaN              NaN               NaN   \n",
       "\n",
       "       vencedor             arena  mandante_placar  visitante_placar  \\\n",
       "0       Guarani    brinco de ouro                4                 2   \n",
       "1  Athletico-PR  arena da baixada                2                 0   \n",
       "2             -          maracana                1                 1   \n",
       "3             -     serra dourada                2                 2   \n",
       "4             -         beira rio                1                 1   \n",
       "\n",
       "  mandante_estado visitante_estado estado_vencedor  \n",
       "0              SP               RJ              SP  \n",
       "1              PR               RS              PR  \n",
       "2              RJ               PR               -  \n",
       "3              GO               PA               -  \n",
       "4              RS               SP               -  "
      ]
     },
     "execution_count": 14,
     "metadata": {},
     "output_type": "execute_result"
    }
   ],
   "source": [
    "df_full.head()"
   ]
  },
  {
   "cell_type": "code",
   "execution_count": 15,
   "id": "4aec6685",
   "metadata": {
    "ExecuteTime": {
     "end_time": "2022-03-14T13:30:13.539826Z",
     "start_time": "2022-03-14T13:30:13.531255Z"
    }
   },
   "outputs": [
    {
     "data": {
      "text/plain": [
       "ID                             int64\n",
       "rodada                         int64\n",
       "data                  datetime64[ns]\n",
       "hora                          object\n",
       "dia                           object\n",
       "mandante                      object\n",
       "visitante                     object\n",
       "formacao_mandante             object\n",
       "formacao_visitante            object\n",
       "tecnico_mandante              object\n",
       "tecnico_visitante             object\n",
       "vencedor                      object\n",
       "arena                         object\n",
       "mandante_placar                int64\n",
       "visitante_placar               int64\n",
       "mandante_estado               object\n",
       "visitante_estado              object\n",
       "estado_vencedor               object\n",
       "dtype: object"
      ]
     },
     "execution_count": 15,
     "metadata": {},
     "output_type": "execute_result"
    }
   ],
   "source": [
    "df_full.dtypes"
   ]
  },
  {
   "cell_type": "markdown",
   "id": "ae364e6d",
   "metadata": {},
   "source": [
    "## 1.3 Stats "
   ]
  },
  {
   "cell_type": "code",
   "execution_count": 16,
   "id": "e1306a2d",
   "metadata": {
    "ExecuteTime": {
     "end_time": "2022-03-14T13:30:13.569798Z",
     "start_time": "2022-03-14T13:30:13.541571Z"
    }
   },
   "outputs": [
    {
     "data": {
      "text/html": [
       "<div>\n",
       "<style scoped>\n",
       "    .dataframe tbody tr th:only-of-type {\n",
       "        vertical-align: middle;\n",
       "    }\n",
       "\n",
       "    .dataframe tbody tr th {\n",
       "        vertical-align: top;\n",
       "    }\n",
       "\n",
       "    .dataframe thead th {\n",
       "        text-align: right;\n",
       "    }\n",
       "</style>\n",
       "<table border=\"1\" class=\"dataframe\">\n",
       "  <thead>\n",
       "    <tr style=\"text-align: right;\">\n",
       "      <th></th>\n",
       "      <th>partida_id</th>\n",
       "      <th>rodada</th>\n",
       "      <th>clube</th>\n",
       "      <th>chutes</th>\n",
       "      <th>chutes_no_alvo</th>\n",
       "      <th>posse_de_bola</th>\n",
       "      <th>passes</th>\n",
       "      <th>precisao_passes</th>\n",
       "      <th>faltas</th>\n",
       "      <th>cartao_amarelo</th>\n",
       "      <th>cartao_vermelho</th>\n",
       "      <th>impedimentos</th>\n",
       "      <th>escanteios</th>\n",
       "    </tr>\n",
       "  </thead>\n",
       "  <tbody>\n",
       "    <tr>\n",
       "      <th>0</th>\n",
       "      <td>1</td>\n",
       "      <td>1</td>\n",
       "      <td>Guarani</td>\n",
       "      <td>0</td>\n",
       "      <td>0</td>\n",
       "      <td>NaN</td>\n",
       "      <td>0</td>\n",
       "      <td>NaN</td>\n",
       "      <td>0</td>\n",
       "      <td>0</td>\n",
       "      <td>0</td>\n",
       "      <td>0</td>\n",
       "      <td>0</td>\n",
       "    </tr>\n",
       "    <tr>\n",
       "      <th>1</th>\n",
       "      <td>1</td>\n",
       "      <td>1</td>\n",
       "      <td>Vasco</td>\n",
       "      <td>0</td>\n",
       "      <td>0</td>\n",
       "      <td>NaN</td>\n",
       "      <td>0</td>\n",
       "      <td>NaN</td>\n",
       "      <td>0</td>\n",
       "      <td>0</td>\n",
       "      <td>0</td>\n",
       "      <td>0</td>\n",
       "      <td>0</td>\n",
       "    </tr>\n",
       "    <tr>\n",
       "      <th>2</th>\n",
       "      <td>2</td>\n",
       "      <td>1</td>\n",
       "      <td>Athletico-PR</td>\n",
       "      <td>0</td>\n",
       "      <td>0</td>\n",
       "      <td>NaN</td>\n",
       "      <td>0</td>\n",
       "      <td>NaN</td>\n",
       "      <td>0</td>\n",
       "      <td>0</td>\n",
       "      <td>0</td>\n",
       "      <td>0</td>\n",
       "      <td>0</td>\n",
       "    </tr>\n",
       "    <tr>\n",
       "      <th>3</th>\n",
       "      <td>2</td>\n",
       "      <td>1</td>\n",
       "      <td>Gremio</td>\n",
       "      <td>0</td>\n",
       "      <td>0</td>\n",
       "      <td>NaN</td>\n",
       "      <td>0</td>\n",
       "      <td>NaN</td>\n",
       "      <td>0</td>\n",
       "      <td>0</td>\n",
       "      <td>0</td>\n",
       "      <td>0</td>\n",
       "      <td>0</td>\n",
       "    </tr>\n",
       "    <tr>\n",
       "      <th>4</th>\n",
       "      <td>3</td>\n",
       "      <td>1</td>\n",
       "      <td>Flamengo</td>\n",
       "      <td>0</td>\n",
       "      <td>0</td>\n",
       "      <td>NaN</td>\n",
       "      <td>0</td>\n",
       "      <td>NaN</td>\n",
       "      <td>0</td>\n",
       "      <td>0</td>\n",
       "      <td>0</td>\n",
       "      <td>0</td>\n",
       "      <td>0</td>\n",
       "    </tr>\n",
       "  </tbody>\n",
       "</table>\n",
       "</div>"
      ],
      "text/plain": [
       "   partida_id  rodada         clube  chutes  chutes_no_alvo posse_de_bola  \\\n",
       "0           1       1       Guarani       0               0           NaN   \n",
       "1           1       1         Vasco       0               0           NaN   \n",
       "2           2       1  Athletico-PR       0               0           NaN   \n",
       "3           2       1        Gremio       0               0           NaN   \n",
       "4           3       1      Flamengo       0               0           NaN   \n",
       "\n",
       "   passes precisao_passes  faltas  cartao_amarelo  cartao_vermelho  \\\n",
       "0       0             NaN       0               0                0   \n",
       "1       0             NaN       0               0                0   \n",
       "2       0             NaN       0               0                0   \n",
       "3       0             NaN       0               0                0   \n",
       "4       0             NaN       0               0                0   \n",
       "\n",
       "   impedimentos  escanteios  \n",
       "0             0           0  \n",
       "1             0           0  \n",
       "2             0           0  \n",
       "3             0           0  \n",
       "4             0           0  "
      ]
     },
     "execution_count": 16,
     "metadata": {},
     "output_type": "execute_result"
    }
   ],
   "source": [
    "df_stats = pd.read_csv(data_path + stats)\n",
    "df_stats.head()"
   ]
  },
  {
   "cell_type": "code",
   "execution_count": 17,
   "id": "eabf6995",
   "metadata": {
    "ExecuteTime": {
     "end_time": "2022-03-14T13:30:13.575428Z",
     "start_time": "2022-03-14T13:30:13.571987Z"
    }
   },
   "outputs": [
    {
     "data": {
      "text/plain": [
       "(15290, 13)"
      ]
     },
     "execution_count": 17,
     "metadata": {},
     "output_type": "execute_result"
    }
   ],
   "source": [
    "df_stats.shape"
   ]
  },
  {
   "cell_type": "code",
   "execution_count": 18,
   "id": "958b80b5",
   "metadata": {
    "ExecuteTime": {
     "end_time": "2022-03-14T13:30:13.596697Z",
     "start_time": "2022-03-14T13:30:13.577383Z"
    }
   },
   "outputs": [
    {
     "name": "stdout",
     "output_type": "stream",
     "text": [
      "% of NaN\n"
     ]
    },
    {
     "data": {
      "text/plain": [
       "partida_id         0.000000\n",
       "rodada             0.000000\n",
       "clube              0.000000\n",
       "chutes             0.000000\n",
       "chutes_no_alvo     0.000000\n",
       "posse_de_bola      0.602485\n",
       "passes             0.000000\n",
       "precisao_passes    0.602485\n",
       "faltas             0.000000\n",
       "cartao_amarelo     0.000000\n",
       "cartao_vermelho    0.000000\n",
       "impedimentos       0.000000\n",
       "escanteios         0.000000\n",
       "dtype: float64"
      ]
     },
     "execution_count": 18,
     "metadata": {},
     "output_type": "execute_result"
    }
   ],
   "source": [
    "print('% of NaN')\n",
    "df_stats.isna().sum()/df_stats.shape[0]"
   ]
  },
  {
   "cell_type": "code",
   "execution_count": 19,
   "id": "88de0063",
   "metadata": {
    "ExecuteTime": {
     "end_time": "2022-03-14T13:30:13.606213Z",
     "start_time": "2022-03-14T13:30:13.598778Z"
    }
   },
   "outputs": [
    {
     "data": {
      "text/plain": [
       "partida_id          int64\n",
       "rodada              int64\n",
       "clube              object\n",
       "chutes              int64\n",
       "chutes_no_alvo      int64\n",
       "posse_de_bola      object\n",
       "passes              int64\n",
       "precisao_passes    object\n",
       "faltas              int64\n",
       "cartao_amarelo      int64\n",
       "cartao_vermelho     int64\n",
       "impedimentos        int64\n",
       "escanteios          int64\n",
       "dtype: object"
      ]
     },
     "execution_count": 19,
     "metadata": {},
     "output_type": "execute_result"
    }
   ],
   "source": [
    "df_stats.dtypes"
   ]
  },
  {
   "cell_type": "code",
   "execution_count": 20,
   "id": "8b14c171",
   "metadata": {
    "ExecuteTime": {
     "end_time": "2022-03-14T13:30:13.788634Z",
     "start_time": "2022-03-14T13:30:13.609574Z"
    }
   },
   "outputs": [
    {
     "data": {
      "text/plain": [
       "<AxesSubplot:>"
      ]
     },
     "execution_count": 20,
     "metadata": {},
     "output_type": "execute_result"
    },
    {
     "data": {
      "image/png": "[encoded data removed]",
      "text/plain": [
       "<Figure size 432x288 with 1 Axes>"
      ]
     },
     "metadata": {
      "needs_background": "light"
     },
     "output_type": "display_data"
    }
   ],
   "source": [
    "df_stats[10000:].plot(y='cartao_amarelo')"
   ]
  },
  {
   "cell_type": "code",
   "execution_count": 21,
   "id": "b1b0f5ca",
   "metadata": {
    "ExecuteTime": {
     "end_time": "2022-03-14T13:30:13.806506Z",
     "start_time": "2022-03-14T13:30:13.790452Z"
    }
   },
   "outputs": [
    {
     "data": {
      "text/html": [
       "<div>\n",
       "<style scoped>\n",
       "    .dataframe tbody tr th:only-of-type {\n",
       "        vertical-align: middle;\n",
       "    }\n",
       "\n",
       "    .dataframe tbody tr th {\n",
       "        vertical-align: top;\n",
       "    }\n",
       "\n",
       "    .dataframe thead th {\n",
       "        text-align: right;\n",
       "    }\n",
       "</style>\n",
       "<table border=\"1\" class=\"dataframe\">\n",
       "  <thead>\n",
       "    <tr style=\"text-align: right;\">\n",
       "      <th></th>\n",
       "      <th>chutes</th>\n",
       "      <th>chutes_no_alvo</th>\n",
       "      <th>passes</th>\n",
       "      <th>faltas</th>\n",
       "      <th>cartao_amarelo</th>\n",
       "      <th>cartao_vermelho</th>\n",
       "      <th>impedimentos</th>\n",
       "      <th>escanteios</th>\n",
       "    </tr>\n",
       "    <tr>\n",
       "      <th>clube</th>\n",
       "      <th></th>\n",
       "      <th></th>\n",
       "      <th></th>\n",
       "      <th></th>\n",
       "      <th></th>\n",
       "      <th></th>\n",
       "      <th></th>\n",
       "      <th></th>\n",
       "    </tr>\n",
       "  </thead>\n",
       "  <tbody>\n",
       "    <tr>\n",
       "      <th>America-MG</th>\n",
       "      <td>12.324561</td>\n",
       "      <td>2.561404</td>\n",
       "      <td>397.912281</td>\n",
       "      <td>14.763158</td>\n",
       "      <td>1.859649</td>\n",
       "      <td>0.105263</td>\n",
       "      <td>1.587719</td>\n",
       "      <td>4.657895</td>\n",
       "    </tr>\n",
       "    <tr>\n",
       "      <th>Athletico-PR</th>\n",
       "      <td>11.659091</td>\n",
       "      <td>3.049242</td>\n",
       "      <td>415.041667</td>\n",
       "      <td>14.003788</td>\n",
       "      <td>1.996212</td>\n",
       "      <td>0.083333</td>\n",
       "      <td>1.526515</td>\n",
       "      <td>4.617424</td>\n",
       "    </tr>\n",
       "    <tr>\n",
       "      <th>Atletico-GO</th>\n",
       "      <td>11.789474</td>\n",
       "      <td>3.561404</td>\n",
       "      <td>385.026316</td>\n",
       "      <td>15.912281</td>\n",
       "      <td>2.210526</td>\n",
       "      <td>0.087719</td>\n",
       "      <td>1.508772</td>\n",
       "      <td>5.315789</td>\n",
       "    </tr>\n",
       "    <tr>\n",
       "      <th>Atletico-MG</th>\n",
       "      <td>14.178030</td>\n",
       "      <td>3.484848</td>\n",
       "      <td>475.352273</td>\n",
       "      <td>14.594697</td>\n",
       "      <td>2.030303</td>\n",
       "      <td>0.090909</td>\n",
       "      <td>1.875000</td>\n",
       "      <td>5.962121</td>\n",
       "    </tr>\n",
       "    <tr>\n",
       "      <th>Avai</th>\n",
       "      <td>11.433628</td>\n",
       "      <td>1.955752</td>\n",
       "      <td>350.460177</td>\n",
       "      <td>14.858407</td>\n",
       "      <td>2.415929</td>\n",
       "      <td>0.159292</td>\n",
       "      <td>1.477876</td>\n",
       "      <td>4.858407</td>\n",
       "    </tr>\n",
       "  </tbody>\n",
       "</table>\n",
       "</div>"
      ],
      "text/plain": [
       "                 chutes  chutes_no_alvo      passes     faltas  \\\n",
       "clube                                                            \n",
       "America-MG    12.324561        2.561404  397.912281  14.763158   \n",
       "Athletico-PR  11.659091        3.049242  415.041667  14.003788   \n",
       "Atletico-GO   11.789474        3.561404  385.026316  15.912281   \n",
       "Atletico-MG   14.178030        3.484848  475.352273  14.594697   \n",
       "Avai          11.433628        1.955752  350.460177  14.858407   \n",
       "\n",
       "              cartao_amarelo  cartao_vermelho  impedimentos  escanteios  \n",
       "clube                                                                    \n",
       "America-MG          1.859649         0.105263      1.587719    4.657895  \n",
       "Athletico-PR        1.996212         0.083333      1.526515    4.617424  \n",
       "Atletico-GO         2.210526         0.087719      1.508772    5.315789  \n",
       "Atletico-MG         2.030303         0.090909      1.875000    5.962121  \n",
       "Avai                2.415929         0.159292      1.477876    4.858407  "
      ]
     },
     "execution_count": 21,
     "metadata": {},
     "output_type": "execute_result"
    }
   ],
   "source": [
    "df_stats_clube = df_stats[10000:].groupby('clube').mean()\n",
    "df_stats_clube = df_stats_clube.drop(['partida_id', 'rodada'], axis = 1)\n",
    "df_stats_clube.head()"
   ]
  },
  {
   "cell_type": "code",
   "execution_count": 22,
   "id": "2ff18f1d",
   "metadata": {
    "ExecuteTime": {
     "end_time": "2022-03-14T13:30:13.810866Z",
     "start_time": "2022-03-14T13:30:13.807800Z"
    }
   },
   "outputs": [],
   "source": [
    "df_stats_clube = df_stats_clube.reset_index()"
   ]
  },
  {
   "cell_type": "code",
   "execution_count": 23,
   "id": "3e0342bd",
   "metadata": {
    "ExecuteTime": {
     "end_time": "2022-03-14T13:30:13.823119Z",
     "start_time": "2022-03-14T13:30:13.812263Z"
    }
   },
   "outputs": [
    {
     "data": {
      "text/html": [
       "<div>\n",
       "<style scoped>\n",
       "    .dataframe tbody tr th:only-of-type {\n",
       "        vertical-align: middle;\n",
       "    }\n",
       "\n",
       "    .dataframe tbody tr th {\n",
       "        vertical-align: top;\n",
       "    }\n",
       "\n",
       "    .dataframe thead th {\n",
       "        text-align: right;\n",
       "    }\n",
       "</style>\n",
       "<table border=\"1\" class=\"dataframe\">\n",
       "  <thead>\n",
       "    <tr style=\"text-align: right;\">\n",
       "      <th></th>\n",
       "      <th>clube</th>\n",
       "      <th>chutes</th>\n",
       "      <th>chutes_no_alvo</th>\n",
       "      <th>passes</th>\n",
       "      <th>faltas</th>\n",
       "      <th>cartao_amarelo</th>\n",
       "      <th>cartao_vermelho</th>\n",
       "      <th>impedimentos</th>\n",
       "      <th>escanteios</th>\n",
       "    </tr>\n",
       "  </thead>\n",
       "  <tbody>\n",
       "    <tr>\n",
       "      <th>0</th>\n",
       "      <td>America-MG</td>\n",
       "      <td>12.324561</td>\n",
       "      <td>2.561404</td>\n",
       "      <td>397.912281</td>\n",
       "      <td>14.763158</td>\n",
       "      <td>1.859649</td>\n",
       "      <td>0.105263</td>\n",
       "      <td>1.587719</td>\n",
       "      <td>4.657895</td>\n",
       "    </tr>\n",
       "    <tr>\n",
       "      <th>1</th>\n",
       "      <td>Athletico-PR</td>\n",
       "      <td>11.659091</td>\n",
       "      <td>3.049242</td>\n",
       "      <td>415.041667</td>\n",
       "      <td>14.003788</td>\n",
       "      <td>1.996212</td>\n",
       "      <td>0.083333</td>\n",
       "      <td>1.526515</td>\n",
       "      <td>4.617424</td>\n",
       "    </tr>\n",
       "    <tr>\n",
       "      <th>2</th>\n",
       "      <td>Atletico-GO</td>\n",
       "      <td>11.789474</td>\n",
       "      <td>3.561404</td>\n",
       "      <td>385.026316</td>\n",
       "      <td>15.912281</td>\n",
       "      <td>2.210526</td>\n",
       "      <td>0.087719</td>\n",
       "      <td>1.508772</td>\n",
       "      <td>5.315789</td>\n",
       "    </tr>\n",
       "    <tr>\n",
       "      <th>3</th>\n",
       "      <td>Atletico-MG</td>\n",
       "      <td>14.178030</td>\n",
       "      <td>3.484848</td>\n",
       "      <td>475.352273</td>\n",
       "      <td>14.594697</td>\n",
       "      <td>2.030303</td>\n",
       "      <td>0.090909</td>\n",
       "      <td>1.875000</td>\n",
       "      <td>5.962121</td>\n",
       "    </tr>\n",
       "    <tr>\n",
       "      <th>4</th>\n",
       "      <td>Avai</td>\n",
       "      <td>11.433628</td>\n",
       "      <td>1.955752</td>\n",
       "      <td>350.460177</td>\n",
       "      <td>14.858407</td>\n",
       "      <td>2.415929</td>\n",
       "      <td>0.159292</td>\n",
       "      <td>1.477876</td>\n",
       "      <td>4.858407</td>\n",
       "    </tr>\n",
       "  </tbody>\n",
       "</table>\n",
       "</div>"
      ],
      "text/plain": [
       "          clube     chutes  chutes_no_alvo      passes     faltas  \\\n",
       "0    America-MG  12.324561        2.561404  397.912281  14.763158   \n",
       "1  Athletico-PR  11.659091        3.049242  415.041667  14.003788   \n",
       "2   Atletico-GO  11.789474        3.561404  385.026316  15.912281   \n",
       "3   Atletico-MG  14.178030        3.484848  475.352273  14.594697   \n",
       "4          Avai  11.433628        1.955752  350.460177  14.858407   \n",
       "\n",
       "   cartao_amarelo  cartao_vermelho  impedimentos  escanteios  \n",
       "0        1.859649         0.105263      1.587719    4.657895  \n",
       "1        1.996212         0.083333      1.526515    4.617424  \n",
       "2        2.210526         0.087719      1.508772    5.315789  \n",
       "3        2.030303         0.090909      1.875000    5.962121  \n",
       "4        2.415929         0.159292      1.477876    4.858407  "
      ]
     },
     "execution_count": 23,
     "metadata": {},
     "output_type": "execute_result"
    }
   ],
   "source": [
    "df_stats_clube.head()"
   ]
  },
  {
   "cell_type": "markdown",
   "id": "3ea26c4b",
   "metadata": {},
   "source": [
    "## 1.4 Goals "
   ]
  },
  {
   "cell_type": "code",
   "execution_count": 24,
   "id": "4cf8c1cb",
   "metadata": {
    "ExecuteTime": {
     "end_time": "2022-03-14T13:30:13.840704Z",
     "start_time": "2022-03-14T13:30:13.824747Z"
    }
   },
   "outputs": [
    {
     "data": {
      "text/html": [
       "<div>\n",
       "<style scoped>\n",
       "    .dataframe tbody tr th:only-of-type {\n",
       "        vertical-align: middle;\n",
       "    }\n",
       "\n",
       "    .dataframe tbody tr th {\n",
       "        vertical-align: top;\n",
       "    }\n",
       "\n",
       "    .dataframe thead th {\n",
       "        text-align: right;\n",
       "    }\n",
       "</style>\n",
       "<table border=\"1\" class=\"dataframe\">\n",
       "  <thead>\n",
       "    <tr style=\"text-align: right;\">\n",
       "      <th></th>\n",
       "      <th>partida_id</th>\n",
       "      <th>rodada</th>\n",
       "      <th>clube</th>\n",
       "      <th>atleta</th>\n",
       "      <th>minuto</th>\n",
       "    </tr>\n",
       "  </thead>\n",
       "  <tbody>\n",
       "    <tr>\n",
       "      <th>0</th>\n",
       "      <td>4607</td>\n",
       "      <td>1</td>\n",
       "      <td>Fluminense</td>\n",
       "      <td>Rafael Sóbis</td>\n",
       "      <td>31</td>\n",
       "    </tr>\n",
       "    <tr>\n",
       "      <th>1</th>\n",
       "      <td>4607</td>\n",
       "      <td>1</td>\n",
       "      <td>Fluminense</td>\n",
       "      <td>Fred</td>\n",
       "      <td>45</td>\n",
       "    </tr>\n",
       "    <tr>\n",
       "      <th>2</th>\n",
       "      <td>4607</td>\n",
       "      <td>1</td>\n",
       "      <td>Fluminense</td>\n",
       "      <td>Nirley da Silva Fonseca</td>\n",
       "      <td>59</td>\n",
       "    </tr>\n",
       "    <tr>\n",
       "      <th>3</th>\n",
       "      <td>4608</td>\n",
       "      <td>1</td>\n",
       "      <td>Internacional</td>\n",
       "      <td>Charles Aránguiz</td>\n",
       "      <td>6</td>\n",
       "    </tr>\n",
       "    <tr>\n",
       "      <th>4</th>\n",
       "      <td>4610</td>\n",
       "      <td>1</td>\n",
       "      <td>Athletico-PR</td>\n",
       "      <td>Dráusio Luis Salla Gil</td>\n",
       "      <td>16</td>\n",
       "    </tr>\n",
       "  </tbody>\n",
       "</table>\n",
       "</div>"
      ],
      "text/plain": [
       "   partida_id  rodada          clube                   atleta minuto\n",
       "0        4607       1     Fluminense             Rafael Sóbis     31\n",
       "1        4607       1     Fluminense                     Fred     45\n",
       "2        4607       1     Fluminense  Nirley da Silva Fonseca     59\n",
       "3        4608       1  Internacional         Charles Aránguiz      6\n",
       "4        4610       1   Athletico-PR   Dráusio Luis Salla Gil     16"
      ]
     },
     "execution_count": 24,
     "metadata": {},
     "output_type": "execute_result"
    }
   ],
   "source": [
    "df_goals = pd.read_csv(data_path + goals)\n",
    "df_goals.head()"
   ]
  },
  {
   "cell_type": "code",
   "execution_count": 25,
   "id": "0c0d707f",
   "metadata": {
    "ExecuteTime": {
     "end_time": "2022-03-14T13:30:13.845504Z",
     "start_time": "2022-03-14T13:30:13.842146Z"
    }
   },
   "outputs": [
    {
     "data": {
      "text/plain": [
       "(7081, 5)"
      ]
     },
     "execution_count": 25,
     "metadata": {},
     "output_type": "execute_result"
    }
   ],
   "source": [
    "df_goals.shape"
   ]
  },
  {
   "cell_type": "code",
   "execution_count": 26,
   "id": "2ddaeda9",
   "metadata": {
    "ExecuteTime": {
     "end_time": "2022-03-14T13:30:13.855531Z",
     "start_time": "2022-03-14T13:30:13.847007Z"
    }
   },
   "outputs": [
    {
     "name": "stdout",
     "output_type": "stream",
     "text": [
      "% of NaN\n"
     ]
    },
    {
     "data": {
      "text/plain": [
       "partida_id    0.0\n",
       "rodada        0.0\n",
       "clube         0.0\n",
       "atleta        0.0\n",
       "minuto        0.0\n",
       "dtype: float64"
      ]
     },
     "execution_count": 26,
     "metadata": {},
     "output_type": "execute_result"
    }
   ],
   "source": [
    "print('% of NaN')\n",
    "df_goals.isna().sum()/df_goals.shape[0]"
   ]
  },
  {
   "cell_type": "code",
   "execution_count": 27,
   "id": "6fec6ca4",
   "metadata": {
    "ExecuteTime": {
     "end_time": "2022-03-14T13:30:13.862254Z",
     "start_time": "2022-03-14T13:30:13.856855Z"
    }
   },
   "outputs": [
    {
     "data": {
      "text/plain": [
       "partida_id     int64\n",
       "rodada         int64\n",
       "clube         object\n",
       "atleta        object\n",
       "minuto        object\n",
       "dtype: object"
      ]
     },
     "execution_count": 27,
     "metadata": {},
     "output_type": "execute_result"
    }
   ],
   "source": [
    "df_goals.dtypes"
   ]
  },
  {
   "cell_type": "markdown",
   "id": "9e0298f5",
   "metadata": {},
   "source": [
    "## 1.5 Legend"
   ]
  },
  {
   "cell_type": "markdown",
   "id": "8830e31e",
   "metadata": {},
   "source": [
    "**Legenda - campeonato-brasileiro-full.csv**\n",
    "- ID : ID da partida\n",
    "- Rodada : Rodada que aconteceu a partida\n",
    "- Data : Data que ocorreu a partida\n",
    "- Horário :  Horário que ocorreu a partida\n",
    "- Dia : Dia da semana que ocorreu a partida\n",
    "- Mandante : Clube mandante                      \n",
    "- Visitante : Clube Visitante\n",
    "- formacao_mandante: Formação do mandante\n",
    "- formacao_visitante: Formação do visitante\n",
    "- tecnico_mandante: Técnico do mandante\n",
    "- tecnico_visitante: Técnico do visitante\n",
    "- Vencedor : Clube vencedor da partida. Quando tiver \"-\", é um empate\n",
    "- Arena : Arena que ocorreu a partida                      \n",
    "- Mandante Placar : Gols que o clube mandante fez na partida                      \n",
    "- Visitante Placar : Gols que o clube visitante fez na partida                      \n",
    "- Estado Mandante : Estado do clube mandatorio                      \n",
    "- Estado Visitante : Estado do clube visitante                      \n",
    "- Estado Vencedor : Estado do clube vencedor. Quando tiver \"-\", é um empate\n",
    "\n",
    "\n",
    "**Legenda - campeonato-brasileiro-estatisticas-full.csv**\n",
    "- partida_ID - ID da partida\n",
    "- Rodada - Rodada da partida\n",
    "- Clube - Nome do clube\n",
    "- Chutes - Finalizações\n",
    "- Chutes a gol - Finalizações na direção do gol\n",
    "- Posse de bola - Percentual da posse de bola\n",
    "- Passes - Quantidade de passes que o clube deu na partida\n",
    "- precisao_passes - Percentual da precisão de passe\n",
    "- Faltas - Quantidade de faltas cometidas na partida\n",
    "- cartao_amarelo - Quantidade de cartões amarelos para o clube na partida\n",
    "- cartao_vermelho - Quantidade de cartões vermelhos para o clube na partida\n",
    "- Impedimentos - Quantidade de impedimentos para o clube na partida\n",
    "- Escanteios - Quantidade de escanteios para o clube na partida\n",
    "\n",
    "\n",
    "**Legenda - campeonato-brasileiro-gols.csv**\n",
    "- partida_ID - ID da partida\n",
    "- Rodada - Rodada da partida\n",
    "- Clube - Nome do clube\n",
    "- Atleta - Nome do atleta que fez o gol\n",
    "- Minuto - Minuto na partida em que o gol foi marcado\n",
    "\n",
    "\n",
    "**Legenda - campeonato-brasileiro-cartoes.csv**\n",
    "- partida_ID - ID da partida\n",
    "- Rodada - Rodada da partida\n",
    "- Clube - Nome do clube\n",
    "- Cartao - Cor do cartão aplicado\n",
    "- Atleta - Nome do atleta punido pelo cartão\n",
    "- num_camisa - Número da camisa do atleta\n",
    "- Posicao - Posição na partida em que o atleta se encontra\n",
    "- Minuto - Minuto na partida em que o cartão foi aplicado"
   ]
  },
  {
   "cell_type": "markdown",
   "id": "57170f8e",
   "metadata": {},
   "source": [
    "## 1.6 Filling NA and and filtering data"
   ]
  },
  {
   "cell_type": "code",
   "execution_count": 28,
   "id": "58f4c094",
   "metadata": {
    "ExecuteTime": {
     "end_time": "2022-03-14T13:30:13.879005Z",
     "start_time": "2022-03-14T13:30:13.866670Z"
    }
   },
   "outputs": [],
   "source": [
    "# creating a new df with the sum of df_stats\n",
    "df_stats_match = df_stats.groupby('partida_id').sum()\n",
    "df_stats_match.index.names = ['ID']\n",
    "df_full_id = df_full.set_index(['ID']).drop('rodada', axis = 1)"
   ]
  },
  {
   "cell_type": "code",
   "execution_count": 29,
   "id": "9c5563f8",
   "metadata": {
    "ExecuteTime": {
     "end_time": "2022-03-14T13:30:13.886208Z",
     "start_time": "2022-03-14T13:30:13.880498Z"
    }
   },
   "outputs": [],
   "source": [
    "# join df_full and df_stats_match (sum of stats)\n",
    "df_full_stats_match = df_full_id.join(df_stats_match, on='ID')"
   ]
  },
  {
   "cell_type": "code",
   "execution_count": 30,
   "id": "debe4a97",
   "metadata": {
    "ExecuteTime": {
     "end_time": "2022-03-14T13:30:14.055636Z",
     "start_time": "2022-03-14T13:30:13.888109Z"
    }
   },
   "outputs": [
    {
     "data": {
      "image/png": "[encoded data removed]",
      "text/plain": [
       "<Figure size 1008x288 with 1 Axes>"
      ]
     },
     "metadata": {
      "needs_background": "light"
     },
     "output_type": "display_data"
    }
   ],
   "source": [
    "# checking the time series of 'cartao_amarelo' sum\n",
    "df_full_stats_match[df_full_stats_match.data > '2014-10-01'].plot(x='data', y='cartao_amarelo', figsize = (14,4));\n",
    "plt.ylabel('N. cartoes amarelos');"
   ]
  },
  {
   "cell_type": "code",
   "execution_count": 31,
   "id": "3ccdd2fc",
   "metadata": {
    "ExecuteTime": {
     "end_time": "2022-03-14T13:30:14.061966Z",
     "start_time": "2022-03-14T13:30:14.057509Z"
    }
   },
   "outputs": [],
   "source": [
    "# Seems that are missing values from the begining of the series, so I decided to select data only from 2014-10-01\n",
    "df_full_stats_match_filtered = df_full_stats_match[df_full_stats_match.data > '2014-10-01']"
   ]
  },
  {
   "cell_type": "code",
   "execution_count": 32,
   "id": "b30d6cfe",
   "metadata": {
    "ExecuteTime": {
     "end_time": "2022-03-14T13:30:14.079260Z",
     "start_time": "2022-03-14T13:30:14.063732Z"
    }
   },
   "outputs": [
    {
     "data": {
      "text/html": [
       "<div>\n",
       "<style scoped>\n",
       "    .dataframe tbody tr th:only-of-type {\n",
       "        vertical-align: middle;\n",
       "    }\n",
       "\n",
       "    .dataframe tbody tr th {\n",
       "        vertical-align: top;\n",
       "    }\n",
       "\n",
       "    .dataframe thead th {\n",
       "        text-align: right;\n",
       "    }\n",
       "</style>\n",
       "<table border=\"1\" class=\"dataframe\">\n",
       "  <thead>\n",
       "    <tr style=\"text-align: right;\">\n",
       "      <th></th>\n",
       "      <th>data</th>\n",
       "      <th>hora</th>\n",
       "      <th>dia</th>\n",
       "      <th>mandante</th>\n",
       "      <th>visitante</th>\n",
       "      <th>formacao_mandante</th>\n",
       "      <th>formacao_visitante</th>\n",
       "      <th>tecnico_mandante</th>\n",
       "      <th>tecnico_visitante</th>\n",
       "      <th>vencedor</th>\n",
       "      <th>...</th>\n",
       "      <th>estado_vencedor</th>\n",
       "      <th>rodada</th>\n",
       "      <th>chutes</th>\n",
       "      <th>chutes_no_alvo</th>\n",
       "      <th>passes</th>\n",
       "      <th>faltas</th>\n",
       "      <th>cartao_amarelo</th>\n",
       "      <th>cartao_vermelho</th>\n",
       "      <th>impedimentos</th>\n",
       "      <th>escanteios</th>\n",
       "    </tr>\n",
       "    <tr>\n",
       "      <th>ID</th>\n",
       "      <th></th>\n",
       "      <th></th>\n",
       "      <th></th>\n",
       "      <th></th>\n",
       "      <th></th>\n",
       "      <th></th>\n",
       "      <th></th>\n",
       "      <th></th>\n",
       "      <th></th>\n",
       "      <th></th>\n",
       "      <th></th>\n",
       "      <th></th>\n",
       "      <th></th>\n",
       "      <th></th>\n",
       "      <th></th>\n",
       "      <th></th>\n",
       "      <th></th>\n",
       "      <th></th>\n",
       "      <th></th>\n",
       "      <th></th>\n",
       "      <th></th>\n",
       "    </tr>\n",
       "  </thead>\n",
       "  <tbody>\n",
       "    <tr>\n",
       "      <th>4696</th>\n",
       "      <td>2014-10-11</td>\n",
       "      <td>18:33</td>\n",
       "      <td>Sabado</td>\n",
       "      <td>Botafogo-RJ</td>\n",
       "      <td>Corinthians</td>\n",
       "      <td>NaN</td>\n",
       "      <td>NaN</td>\n",
       "      <td>L. Venker de Menezes</td>\n",
       "      <td>L. Venker de Menezes</td>\n",
       "      <td>Botafogo-RJ</td>\n",
       "      <td>...</td>\n",
       "      <td>RJ</td>\n",
       "      <td>18</td>\n",
       "      <td>0</td>\n",
       "      <td>0</td>\n",
       "      <td>0</td>\n",
       "      <td>0</td>\n",
       "      <td>0</td>\n",
       "      <td>0</td>\n",
       "      <td>0</td>\n",
       "      <td>0</td>\n",
       "    </tr>\n",
       "    <tr>\n",
       "      <th>4867</th>\n",
       "      <td>2014-10-02</td>\n",
       "      <td>19:30</td>\n",
       "      <td>Quinta-feira</td>\n",
       "      <td>Palmeiras</td>\n",
       "      <td>Chapecoense</td>\n",
       "      <td>NaN</td>\n",
       "      <td>NaN</td>\n",
       "      <td>J. da Silva</td>\n",
       "      <td>J. da Silva</td>\n",
       "      <td>Palmeiras</td>\n",
       "      <td>...</td>\n",
       "      <td>SP</td>\n",
       "      <td>52</td>\n",
       "      <td>0</td>\n",
       "      <td>0</td>\n",
       "      <td>0</td>\n",
       "      <td>0</td>\n",
       "      <td>0</td>\n",
       "      <td>0</td>\n",
       "      <td>0</td>\n",
       "      <td>0</td>\n",
       "    </tr>\n",
       "    <tr>\n",
       "      <th>4868</th>\n",
       "      <td>2014-10-04</td>\n",
       "      <td>16:20</td>\n",
       "      <td>Sabado</td>\n",
       "      <td>Flamengo</td>\n",
       "      <td>Santos</td>\n",
       "      <td>NaN</td>\n",
       "      <td>NaN</td>\n",
       "      <td>E. Alves Moreira</td>\n",
       "      <td>E. Alves Moreira</td>\n",
       "      <td>Santos</td>\n",
       "      <td>...</td>\n",
       "      <td>SP</td>\n",
       "      <td>52</td>\n",
       "      <td>0</td>\n",
       "      <td>0</td>\n",
       "      <td>0</td>\n",
       "      <td>0</td>\n",
       "      <td>0</td>\n",
       "      <td>0</td>\n",
       "      <td>0</td>\n",
       "      <td>0</td>\n",
       "    </tr>\n",
       "    <tr>\n",
       "      <th>4869</th>\n",
       "      <td>2014-10-04</td>\n",
       "      <td>16:21</td>\n",
       "      <td>Sabado</td>\n",
       "      <td>Fluminense</td>\n",
       "      <td>Bahia</td>\n",
       "      <td>NaN</td>\n",
       "      <td>NaN</td>\n",
       "      <td>G. Kleina</td>\n",
       "      <td>G. Kleina</td>\n",
       "      <td>-</td>\n",
       "      <td>...</td>\n",
       "      <td>-</td>\n",
       "      <td>52</td>\n",
       "      <td>0</td>\n",
       "      <td>0</td>\n",
       "      <td>0</td>\n",
       "      <td>0</td>\n",
       "      <td>0</td>\n",
       "      <td>0</td>\n",
       "      <td>0</td>\n",
       "      <td>0</td>\n",
       "    </tr>\n",
       "    <tr>\n",
       "      <th>4870</th>\n",
       "      <td>2014-10-04</td>\n",
       "      <td>16:24</td>\n",
       "      <td>Sabado</td>\n",
       "      <td>Coritiba</td>\n",
       "      <td>Athletico-PR</td>\n",
       "      <td>4-2-2-2</td>\n",
       "      <td>4-3-3</td>\n",
       "      <td>C. dos Santos Oliveira</td>\n",
       "      <td>C. dos Santos Oliveira</td>\n",
       "      <td>Coritiba</td>\n",
       "      <td>...</td>\n",
       "      <td>PR</td>\n",
       "      <td>52</td>\n",
       "      <td>19</td>\n",
       "      <td>0</td>\n",
       "      <td>633</td>\n",
       "      <td>37</td>\n",
       "      <td>4</td>\n",
       "      <td>0</td>\n",
       "      <td>2</td>\n",
       "      <td>12</td>\n",
       "    </tr>\n",
       "  </tbody>\n",
       "</table>\n",
       "<p>5 rows × 25 columns</p>\n",
       "</div>"
      ],
      "text/plain": [
       "           data   hora           dia     mandante     visitante  \\\n",
       "ID                                                                \n",
       "4696 2014-10-11  18:33        Sabado  Botafogo-RJ   Corinthians   \n",
       "4867 2014-10-02  19:30  Quinta-feira    Palmeiras   Chapecoense   \n",
       "4868 2014-10-04  16:20        Sabado     Flamengo        Santos   \n",
       "4869 2014-10-04  16:21        Sabado   Fluminense         Bahia   \n",
       "4870 2014-10-04  16:24        Sabado     Coritiba  Athletico-PR   \n",
       "\n",
       "     formacao_mandante formacao_visitante        tecnico_mandante  \\\n",
       "ID                                                                  \n",
       "4696               NaN                NaN    L. Venker de Menezes   \n",
       "4867               NaN                NaN             J. da Silva   \n",
       "4868               NaN                NaN        E. Alves Moreira   \n",
       "4869               NaN                NaN               G. Kleina   \n",
       "4870           4-2-2-2              4-3-3  C. dos Santos Oliveira   \n",
       "\n",
       "           tecnico_visitante     vencedor  ... estado_vencedor  rodada  \\\n",
       "ID                                         ...                           \n",
       "4696    L. Venker de Menezes  Botafogo-RJ  ...              RJ      18   \n",
       "4867             J. da Silva    Palmeiras  ...              SP      52   \n",
       "4868        E. Alves Moreira       Santos  ...              SP      52   \n",
       "4869               G. Kleina            -  ...               -      52   \n",
       "4870  C. dos Santos Oliveira     Coritiba  ...              PR      52   \n",
       "\n",
       "      chutes chutes_no_alvo passes faltas  cartao_amarelo  cartao_vermelho  \\\n",
       "ID                                                                           \n",
       "4696       0              0      0      0               0                0   \n",
       "4867       0              0      0      0               0                0   \n",
       "4868       0              0      0      0               0                0   \n",
       "4869       0              0      0      0               0                0   \n",
       "4870      19              0    633     37               4                0   \n",
       "\n",
       "      impedimentos  escanteios  \n",
       "ID                              \n",
       "4696             0           0  \n",
       "4867             0           0  \n",
       "4868             0           0  \n",
       "4869             0           0  \n",
       "4870             2          12  \n",
       "\n",
       "[5 rows x 25 columns]"
      ]
     },
     "execution_count": 32,
     "metadata": {},
     "output_type": "execute_result"
    }
   ],
   "source": [
    "df_full_stats_match_filtered.head()"
   ]
  },
  {
   "cell_type": "code",
   "execution_count": 33,
   "id": "f0b9c777",
   "metadata": {
    "ExecuteTime": {
     "end_time": "2022-03-14T13:30:14.088442Z",
     "start_time": "2022-03-14T13:30:14.080740Z"
    }
   },
   "outputs": [],
   "source": [
    "df_full_stats_match_filtered  = df_full_stats_match_filtered.dropna()"
   ]
  },
  {
   "cell_type": "code",
   "execution_count": 34,
   "id": "cb8149c0",
   "metadata": {
    "ExecuteTime": {
     "end_time": "2022-03-14T13:30:14.100985Z",
     "start_time": "2022-03-14T13:30:14.090005Z"
    }
   },
   "outputs": [
    {
     "data": {
      "text/plain": [
       "data                  0.0\n",
       "hora                  0.0\n",
       "dia                   0.0\n",
       "mandante              0.0\n",
       "visitante             0.0\n",
       "formacao_mandante     0.0\n",
       "formacao_visitante    0.0\n",
       "tecnico_mandante      0.0\n",
       "tecnico_visitante     0.0\n",
       "vencedor              0.0\n",
       "arena                 0.0\n",
       "mandante_placar       0.0\n",
       "visitante_placar      0.0\n",
       "mandante_estado       0.0\n",
       "visitante_estado      0.0\n",
       "estado_vencedor       0.0\n",
       "rodada                0.0\n",
       "chutes                0.0\n",
       "chutes_no_alvo        0.0\n",
       "passes                0.0\n",
       "faltas                0.0\n",
       "cartao_amarelo        0.0\n",
       "cartao_vermelho       0.0\n",
       "impedimentos          0.0\n",
       "escanteios            0.0\n",
       "dtype: float64"
      ]
     },
     "execution_count": 34,
     "metadata": {},
     "output_type": "execute_result"
    }
   ],
   "source": [
    "df_full_stats_match_filtered.isna().sum() / df_full_stats_match_filtered.shape[0]"
   ]
  },
  {
   "cell_type": "code",
   "execution_count": 35,
   "id": "5fbf6090",
   "metadata": {
    "ExecuteTime": {
     "end_time": "2022-03-14T13:30:14.119227Z",
     "start_time": "2022-03-14T13:30:14.102405Z"
    }
   },
   "outputs": [
    {
     "data": {
      "text/html": [
       "<div>\n",
       "<style scoped>\n",
       "    .dataframe tbody tr th:only-of-type {\n",
       "        vertical-align: middle;\n",
       "    }\n",
       "\n",
       "    .dataframe tbody tr th {\n",
       "        vertical-align: top;\n",
       "    }\n",
       "\n",
       "    .dataframe thead th {\n",
       "        text-align: right;\n",
       "    }\n",
       "</style>\n",
       "<table border=\"1\" class=\"dataframe\">\n",
       "  <thead>\n",
       "    <tr style=\"text-align: right;\">\n",
       "      <th></th>\n",
       "      <th>data</th>\n",
       "      <th>hora</th>\n",
       "      <th>dia</th>\n",
       "      <th>mandante</th>\n",
       "      <th>visitante</th>\n",
       "      <th>formacao_mandante</th>\n",
       "      <th>formacao_visitante</th>\n",
       "      <th>tecnico_mandante</th>\n",
       "      <th>tecnico_visitante</th>\n",
       "      <th>vencedor</th>\n",
       "      <th>...</th>\n",
       "      <th>estado_vencedor</th>\n",
       "      <th>rodada</th>\n",
       "      <th>chutes</th>\n",
       "      <th>chutes_no_alvo</th>\n",
       "      <th>passes</th>\n",
       "      <th>faltas</th>\n",
       "      <th>cartao_amarelo</th>\n",
       "      <th>cartao_vermelho</th>\n",
       "      <th>impedimentos</th>\n",
       "      <th>escanteios</th>\n",
       "    </tr>\n",
       "    <tr>\n",
       "      <th>ID</th>\n",
       "      <th></th>\n",
       "      <th></th>\n",
       "      <th></th>\n",
       "      <th></th>\n",
       "      <th></th>\n",
       "      <th></th>\n",
       "      <th></th>\n",
       "      <th></th>\n",
       "      <th></th>\n",
       "      <th></th>\n",
       "      <th></th>\n",
       "      <th></th>\n",
       "      <th></th>\n",
       "      <th></th>\n",
       "      <th></th>\n",
       "      <th></th>\n",
       "      <th></th>\n",
       "      <th></th>\n",
       "      <th></th>\n",
       "      <th></th>\n",
       "      <th></th>\n",
       "    </tr>\n",
       "  </thead>\n",
       "  <tbody>\n",
       "    <tr>\n",
       "      <th>4870</th>\n",
       "      <td>2014-10-04</td>\n",
       "      <td>16:24</td>\n",
       "      <td>Sabado</td>\n",
       "      <td>Coritiba</td>\n",
       "      <td>Athletico-PR</td>\n",
       "      <td>4-2-2-2</td>\n",
       "      <td>4-3-3</td>\n",
       "      <td>C. dos Santos Oliveira</td>\n",
       "      <td>C. dos Santos Oliveira</td>\n",
       "      <td>Coritiba</td>\n",
       "      <td>...</td>\n",
       "      <td>PR</td>\n",
       "      <td>52</td>\n",
       "      <td>19</td>\n",
       "      <td>0</td>\n",
       "      <td>633</td>\n",
       "      <td>37</td>\n",
       "      <td>4</td>\n",
       "      <td>0</td>\n",
       "      <td>2</td>\n",
       "      <td>12</td>\n",
       "    </tr>\n",
       "    <tr>\n",
       "      <th>4698</th>\n",
       "      <td>2014-10-11</td>\n",
       "      <td>18:30</td>\n",
       "      <td>Sabado</td>\n",
       "      <td>Goias</td>\n",
       "      <td>Coritiba</td>\n",
       "      <td>4-4-2</td>\n",
       "      <td>4-2-2-2</td>\n",
       "      <td>M. dos Santos Gonçalves</td>\n",
       "      <td>M. dos Santos Gonçalves</td>\n",
       "      <td>Goias</td>\n",
       "      <td>...</td>\n",
       "      <td>GO</td>\n",
       "      <td>56</td>\n",
       "      <td>29</td>\n",
       "      <td>0</td>\n",
       "      <td>972</td>\n",
       "      <td>29</td>\n",
       "      <td>4</td>\n",
       "      <td>0</td>\n",
       "      <td>1</td>\n",
       "      <td>6</td>\n",
       "    </tr>\n",
       "    <tr>\n",
       "      <th>4891</th>\n",
       "      <td>2014-10-19</td>\n",
       "      <td>16:00</td>\n",
       "      <td>Domingo</td>\n",
       "      <td>Athletico-PR</td>\n",
       "      <td>Flamengo</td>\n",
       "      <td>4-3-3</td>\n",
       "      <td>4-2-3-1</td>\n",
       "      <td>V. Luxemburgo da Silva</td>\n",
       "      <td>V. Luxemburgo da Silva</td>\n",
       "      <td>Athletico-PR</td>\n",
       "      <td>...</td>\n",
       "      <td>PR</td>\n",
       "      <td>58</td>\n",
       "      <td>17</td>\n",
       "      <td>0</td>\n",
       "      <td>896</td>\n",
       "      <td>18</td>\n",
       "      <td>2</td>\n",
       "      <td>0</td>\n",
       "      <td>10</td>\n",
       "      <td>8</td>\n",
       "    </tr>\n",
       "    <tr>\n",
       "      <th>4892</th>\n",
       "      <td>2014-10-19</td>\n",
       "      <td>16:00</td>\n",
       "      <td>Domingo</td>\n",
       "      <td>Figueirense</td>\n",
       "      <td>Coritiba</td>\n",
       "      <td>4-1-2-1-2</td>\n",
       "      <td>4-3-2-1</td>\n",
       "      <td>M. dos Santos Gonçalves</td>\n",
       "      <td>M. dos Santos Gonçalves</td>\n",
       "      <td>Figueirense</td>\n",
       "      <td>...</td>\n",
       "      <td>SC</td>\n",
       "      <td>58</td>\n",
       "      <td>23</td>\n",
       "      <td>0</td>\n",
       "      <td>793</td>\n",
       "      <td>34</td>\n",
       "      <td>7</td>\n",
       "      <td>0</td>\n",
       "      <td>7</td>\n",
       "      <td>11</td>\n",
       "    </tr>\n",
       "    <tr>\n",
       "      <th>4898</th>\n",
       "      <td>2014-10-22</td>\n",
       "      <td>19:30</td>\n",
       "      <td>Quarta-feira</td>\n",
       "      <td>Corinthians</td>\n",
       "      <td>Vitoria</td>\n",
       "      <td>4-2-3-1</td>\n",
       "      <td>4-1-2-1-2</td>\n",
       "      <td>N. da Silveira Júnior</td>\n",
       "      <td>N. da Silveira Júnior</td>\n",
       "      <td>Corinthians</td>\n",
       "      <td>...</td>\n",
       "      <td>SP</td>\n",
       "      <td>60</td>\n",
       "      <td>20</td>\n",
       "      <td>0</td>\n",
       "      <td>869</td>\n",
       "      <td>30</td>\n",
       "      <td>2</td>\n",
       "      <td>0</td>\n",
       "      <td>3</td>\n",
       "      <td>13</td>\n",
       "    </tr>\n",
       "  </tbody>\n",
       "</table>\n",
       "<p>5 rows × 25 columns</p>\n",
       "</div>"
      ],
      "text/plain": [
       "           data   hora           dia      mandante     visitante  \\\n",
       "ID                                                                 \n",
       "4870 2014-10-04  16:24        Sabado      Coritiba  Athletico-PR   \n",
       "4698 2014-10-11  18:30        Sabado         Goias      Coritiba   \n",
       "4891 2014-10-19  16:00       Domingo  Athletico-PR      Flamengo   \n",
       "4892 2014-10-19  16:00       Domingo   Figueirense      Coritiba   \n",
       "4898 2014-10-22  19:30  Quarta-feira   Corinthians       Vitoria   \n",
       "\n",
       "     formacao_mandante formacao_visitante         tecnico_mandante  \\\n",
       "ID                                                                   \n",
       "4870           4-2-2-2              4-3-3   C. dos Santos Oliveira   \n",
       "4698             4-4-2            4-2-2-2  M. dos Santos Gonçalves   \n",
       "4891             4-3-3            4-2-3-1   V. Luxemburgo da Silva   \n",
       "4892         4-1-2-1-2            4-3-2-1  M. dos Santos Gonçalves   \n",
       "4898           4-2-3-1          4-1-2-1-2    N. da Silveira Júnior   \n",
       "\n",
       "            tecnico_visitante      vencedor  ... estado_vencedor  rodada  \\\n",
       "ID                                           ...                           \n",
       "4870   C. dos Santos Oliveira      Coritiba  ...              PR      52   \n",
       "4698  M. dos Santos Gonçalves         Goias  ...              GO      56   \n",
       "4891   V. Luxemburgo da Silva  Athletico-PR  ...              PR      58   \n",
       "4892  M. dos Santos Gonçalves   Figueirense  ...              SC      58   \n",
       "4898    N. da Silveira Júnior   Corinthians  ...              SP      60   \n",
       "\n",
       "      chutes chutes_no_alvo passes faltas  cartao_amarelo  cartao_vermelho  \\\n",
       "ID                                                                           \n",
       "4870      19              0    633     37               4                0   \n",
       "4698      29              0    972     29               4                0   \n",
       "4891      17              0    896     18               2                0   \n",
       "4892      23              0    793     34               7                0   \n",
       "4898      20              0    869     30               2                0   \n",
       "\n",
       "      impedimentos  escanteios  \n",
       "ID                              \n",
       "4870             2          12  \n",
       "4698             1           6  \n",
       "4891            10           8  \n",
       "4892             7          11  \n",
       "4898             3          13  \n",
       "\n",
       "[5 rows x 25 columns]"
      ]
     },
     "execution_count": 35,
     "metadata": {},
     "output_type": "execute_result"
    }
   ],
   "source": [
    "df_full_stats_match_filtered.head()"
   ]
  },
  {
   "cell_type": "code",
   "execution_count": 36,
   "id": "71035cf2",
   "metadata": {
    "ExecuteTime": {
     "end_time": "2022-03-14T13:30:14.430578Z",
     "start_time": "2022-03-14T13:30:14.120881Z"
    }
   },
   "outputs": [
    {
     "data": {
      "image/png": "[encoded data removed]",
      "text/plain": [
       "<Figure size 864x288 with 1 Axes>"
      ]
     },
     "metadata": {
      "needs_background": "light"
     },
     "output_type": "display_data"
    }
   ],
   "source": [
    "plt.figure(figsize=(12,4));\n",
    "plt.plot(df_full_stats_match_filtered.data, df_full_stats_match_filtered.cartao_amarelo, '.')\n",
    "plt.ylabel('N. de cartões amarelos');"
   ]
  },
  {
   "cell_type": "markdown",
   "id": "619090e9",
   "metadata": {},
   "source": [
    "# 2. Exploratory Data Analysy"
   ]
  },
  {
   "cell_type": "code",
   "execution_count": 37,
   "id": "81ff0aeb",
   "metadata": {
    "ExecuteTime": {
     "end_time": "2022-03-14T13:30:14.566569Z",
     "start_time": "2022-03-14T13:30:14.432950Z"
    }
   },
   "outputs": [
    {
     "data": {
      "image/png": "[encoded data removed]",
      "text/plain": [
       "<Figure size 432x288 with 1 Axes>"
      ]
     },
     "metadata": {
      "needs_background": "light"
     },
     "output_type": "display_data"
    }
   ],
   "source": [
    "plt.hist(df_full_stats_match_filtered.escanteios, bins=14);\n",
    "plt.title('Escanteios');\n",
    "plt.ylabel('Counting');\n",
    "plt.xlabel('Escanteios');"
   ]
  },
  {
   "cell_type": "code",
   "execution_count": 38,
   "id": "1248d577",
   "metadata": {
    "ExecuteTime": {
     "end_time": "2022-03-14T13:30:14.575934Z",
     "start_time": "2022-03-14T13:30:14.568065Z"
    }
   },
   "outputs": [
    {
     "data": {
      "text/plain": [
       "count    2663.000000\n",
       "mean       10.287646\n",
       "std         3.670177\n",
       "min         0.000000\n",
       "25%         8.000000\n",
       "50%        10.000000\n",
       "75%        13.000000\n",
       "max        26.000000\n",
       "Name: escanteios, dtype: float64"
      ]
     },
     "execution_count": 38,
     "metadata": {},
     "output_type": "execute_result"
    }
   ],
   "source": [
    "df_full_stats_match_filtered.escanteios.describe()    "
   ]
  },
  {
   "cell_type": "code",
   "execution_count": 39,
   "id": "b0f899ba",
   "metadata": {
    "ExecuteTime": {
     "end_time": "2022-03-14T13:30:14.662949Z",
     "start_time": "2022-03-14T13:30:14.577395Z"
    }
   },
   "outputs": [
    {
     "data": {
      "image/png": "[encoded data removed]",
      "text/plain": [
       "<Figure size 432x288 with 1 Axes>"
      ]
     },
     "metadata": {
      "needs_background": "light"
     },
     "output_type": "display_data"
    }
   ],
   "source": [
    "plt.title('Boxplot')\n",
    "plt.boxplot(df_full_stats_match_filtered.escanteios);\n",
    "plt.ylabel('N. of Corner kicks');"
   ]
  },
  {
   "cell_type": "markdown",
   "id": "06ba7bb1",
   "metadata": {},
   "source": [
    "# 3. Feature Engineering "
   ]
  },
  {
   "cell_type": "code",
   "execution_count": 40,
   "id": "94fdb3fc",
   "metadata": {
    "ExecuteTime": {
     "end_time": "2022-03-14T13:30:14.669868Z",
     "start_time": "2022-03-14T13:30:14.666700Z"
    }
   },
   "outputs": [],
   "source": [
    "columns_previous = ['hora',                 \n",
    "                    'dia',                  \n",
    "                    'mandante',             \n",
    "                    'visitante',            \n",
    "                    'formacao_mandante',    \n",
    "                    'formacao_visitante',   \n",
    "                    'tecnico_mandante',     \n",
    "                    'tecnico_visitante',    \n",
    "                    #'vencedor',             \n",
    "                    'arena',                \n",
    "                    #'mandante_placar',      \n",
    "                    #'visitante_placar',     \n",
    "                    'mandante_estado',      \n",
    "                    'visitante_estado',     \n",
    "                    #'estado_vencedor',      \n",
    "                    'rodada',               \n",
    "                    #'chutes',               \n",
    "                    #'chutes_no_alvo',       \n",
    "                    #'passes',               \n",
    "                    #'faltas',               \n",
    "                    #'cartao_amarelo'       \n",
    "                    #'cartao_vermelho',      \n",
    "                    #'impedimentos',         \n",
    "                    'escanteios'\n",
    "                   ]"
   ]
  },
  {
   "cell_type": "code",
   "execution_count": 41,
   "id": "ec2bfd42",
   "metadata": {
    "ExecuteTime": {
     "end_time": "2022-03-14T13:30:14.675919Z",
     "start_time": "2022-03-14T13:30:14.671296Z"
    }
   },
   "outputs": [],
   "source": [
    "#columns_previous = ['hora',                  \n",
    "#                    'dia',                   \n",
    "#                    'mandante',              \n",
    "#                    'visitante',             \n",
    "#                    'formacao_mandante',     \n",
    "#                    'formacao_visitante',                         \n",
    "#                    'mandante_estado',       \n",
    "#                    'visitante_estado',      \n",
    "#                    'rodada',                \n",
    "#                    'escanteios']        "
   ]
  },
  {
   "cell_type": "code",
   "execution_count": 42,
   "id": "80b358c8",
   "metadata": {
    "ExecuteTime": {
     "end_time": "2022-03-14T13:30:14.681987Z",
     "start_time": "2022-03-14T13:30:14.677381Z"
    }
   },
   "outputs": [],
   "source": [
    "df3 = df_full_stats_match_filtered[columns_previous]"
   ]
  },
  {
   "cell_type": "code",
   "execution_count": 43,
   "id": "09e4c9a9",
   "metadata": {
    "ExecuteTime": {
     "end_time": "2022-03-14T13:30:14.715296Z",
     "start_time": "2022-03-14T13:30:14.683317Z"
    }
   },
   "outputs": [
    {
     "name": "stderr",
     "output_type": "stream",
     "text": [
      "/tmp/ipykernel_22133/1442731621.py:1: SettingWithCopyWarning: \n",
      "A value is trying to be set on a copy of a slice from a DataFrame.\n",
      "Try using .loc[row_indexer,col_indexer] = value instead\n",
      "\n",
      "See the caveats in the documentation: https://pandas.pydata.org/pandas-docs/stable/user_guide/indexing.html#returning-a-view-versus-a-copy\n",
      "  df3.loc[:,'hora_decimal'] = pd.to_datetime(df3.hora).dt.hour + pd.to_datetime(df3.hora).dt.minute / 60\n"
     ]
    }
   ],
   "source": [
    "df3.loc[:,'hora_decimal'] = pd.to_datetime(df3.hora).dt.hour + pd.to_datetime(df3.hora).dt.minute / 60"
   ]
  },
  {
   "cell_type": "code",
   "execution_count": 44,
   "id": "900a4911",
   "metadata": {
    "ExecuteTime": {
     "end_time": "2022-03-14T13:30:14.732189Z",
     "start_time": "2022-03-14T13:30:14.716704Z"
    }
   },
   "outputs": [
    {
     "name": "stderr",
     "output_type": "stream",
     "text": [
      "/tmp/ipykernel_22133/1815872509.py:1: SettingWithCopyWarning: \n",
      "A value is trying to be set on a copy of a slice from a DataFrame.\n",
      "Try using .loc[row_indexer,col_indexer] = value instead\n",
      "\n",
      "See the caveats in the documentation: https://pandas.pydata.org/pandas-docs/stable/user_guide/indexing.html#returning-a-view-versus-a-copy\n",
      "  df3['hora_sin_'] = df3['hora_decimal'].apply(lambda x: np.sin(x * (2 * np.pi/24)))\n"
     ]
    }
   ],
   "source": [
    "df3['hora_sin_'] = df3['hora_decimal'].apply(lambda x: np.sin(x * (2 * np.pi/24)))"
   ]
  },
  {
   "cell_type": "code",
   "execution_count": 45,
   "id": "43ee73b5",
   "metadata": {
    "ExecuteTime": {
     "end_time": "2022-03-14T13:30:14.737763Z",
     "start_time": "2022-03-14T13:30:14.733437Z"
    }
   },
   "outputs": [],
   "source": [
    "df3 = df3.drop(['hora', 'hora_decimal'], axis = 1)"
   ]
  },
  {
   "cell_type": "code",
   "execution_count": 46,
   "id": "0eff477b",
   "metadata": {
    "ExecuteTime": {
     "end_time": "2022-03-14T13:30:14.742837Z",
     "start_time": "2022-03-14T13:30:14.739121Z"
    }
   },
   "outputs": [],
   "source": [
    "df3.insert(2, 'hora_sin', df3.hora_sin_)"
   ]
  },
  {
   "cell_type": "code",
   "execution_count": 47,
   "id": "4db7ff65",
   "metadata": {
    "ExecuteTime": {
     "end_time": "2022-03-14T13:30:14.748693Z",
     "start_time": "2022-03-14T13:30:14.744145Z"
    }
   },
   "outputs": [],
   "source": [
    "df3 = df3.drop('hora_sin_', axis = 1)"
   ]
  },
  {
   "cell_type": "code",
   "execution_count": 48,
   "id": "2081235f",
   "metadata": {
    "ExecuteTime": {
     "end_time": "2022-03-14T13:30:14.763049Z",
     "start_time": "2022-03-14T13:30:14.750205Z"
    }
   },
   "outputs": [
    {
     "data": {
      "text/html": [
       "<div>\n",
       "<style scoped>\n",
       "    .dataframe tbody tr th:only-of-type {\n",
       "        vertical-align: middle;\n",
       "    }\n",
       "\n",
       "    .dataframe tbody tr th {\n",
       "        vertical-align: top;\n",
       "    }\n",
       "\n",
       "    .dataframe thead th {\n",
       "        text-align: right;\n",
       "    }\n",
       "</style>\n",
       "<table border=\"1\" class=\"dataframe\">\n",
       "  <thead>\n",
       "    <tr style=\"text-align: right;\">\n",
       "      <th></th>\n",
       "      <th>dia</th>\n",
       "      <th>mandante</th>\n",
       "      <th>hora_sin</th>\n",
       "      <th>visitante</th>\n",
       "      <th>formacao_mandante</th>\n",
       "      <th>formacao_visitante</th>\n",
       "      <th>tecnico_mandante</th>\n",
       "      <th>tecnico_visitante</th>\n",
       "      <th>arena</th>\n",
       "      <th>mandante_estado</th>\n",
       "      <th>visitante_estado</th>\n",
       "      <th>rodada</th>\n",
       "      <th>escanteios</th>\n",
       "    </tr>\n",
       "    <tr>\n",
       "      <th>ID</th>\n",
       "      <th></th>\n",
       "      <th></th>\n",
       "      <th></th>\n",
       "      <th></th>\n",
       "      <th></th>\n",
       "      <th></th>\n",
       "      <th></th>\n",
       "      <th></th>\n",
       "      <th></th>\n",
       "      <th></th>\n",
       "      <th></th>\n",
       "      <th></th>\n",
       "      <th></th>\n",
       "    </tr>\n",
       "  </thead>\n",
       "  <tbody>\n",
       "    <tr>\n",
       "      <th>4870</th>\n",
       "      <td>Sabado</td>\n",
       "      <td>Coritiba</td>\n",
       "      <td>-0.913545</td>\n",
       "      <td>Athletico-PR</td>\n",
       "      <td>4-2-2-2</td>\n",
       "      <td>4-3-3</td>\n",
       "      <td>C. dos Santos Oliveira</td>\n",
       "      <td>C. dos Santos Oliveira</td>\n",
       "      <td>couto pereira</td>\n",
       "      <td>PR</td>\n",
       "      <td>PR</td>\n",
       "      <td>52</td>\n",
       "      <td>12</td>\n",
       "    </tr>\n",
       "    <tr>\n",
       "      <th>4698</th>\n",
       "      <td>Sabado</td>\n",
       "      <td>Goias</td>\n",
       "      <td>-0.991445</td>\n",
       "      <td>Coritiba</td>\n",
       "      <td>4-4-2</td>\n",
       "      <td>4-2-2-2</td>\n",
       "      <td>M. dos Santos Gonçalves</td>\n",
       "      <td>M. dos Santos Gonçalves</td>\n",
       "      <td>estadio do governo do estado de goias serra do...</td>\n",
       "      <td>GO</td>\n",
       "      <td>PR</td>\n",
       "      <td>56</td>\n",
       "      <td>6</td>\n",
       "    </tr>\n",
       "    <tr>\n",
       "      <th>4891</th>\n",
       "      <td>Domingo</td>\n",
       "      <td>Athletico-PR</td>\n",
       "      <td>-0.866025</td>\n",
       "      <td>Flamengo</td>\n",
       "      <td>4-3-3</td>\n",
       "      <td>4-2-3-1</td>\n",
       "      <td>V. Luxemburgo da Silva</td>\n",
       "      <td>V. Luxemburgo da Silva</td>\n",
       "      <td>estadio joaquim americo guimaraes</td>\n",
       "      <td>PR</td>\n",
       "      <td>RJ</td>\n",
       "      <td>58</td>\n",
       "      <td>8</td>\n",
       "    </tr>\n",
       "    <tr>\n",
       "      <th>4892</th>\n",
       "      <td>Domingo</td>\n",
       "      <td>Figueirense</td>\n",
       "      <td>-0.866025</td>\n",
       "      <td>Coritiba</td>\n",
       "      <td>4-1-2-1-2</td>\n",
       "      <td>4-3-2-1</td>\n",
       "      <td>M. dos Santos Gonçalves</td>\n",
       "      <td>M. dos Santos Gonçalves</td>\n",
       "      <td>orlando scarpelli</td>\n",
       "      <td>SC</td>\n",
       "      <td>PR</td>\n",
       "      <td>58</td>\n",
       "      <td>11</td>\n",
       "    </tr>\n",
       "    <tr>\n",
       "      <th>4898</th>\n",
       "      <td>Quarta-feira</td>\n",
       "      <td>Corinthians</td>\n",
       "      <td>-0.923880</td>\n",
       "      <td>Vitoria</td>\n",
       "      <td>4-2-3-1</td>\n",
       "      <td>4-1-2-1-2</td>\n",
       "      <td>N. da Silveira Júnior</td>\n",
       "      <td>N. da Silveira Júnior</td>\n",
       "      <td>arena pantanal</td>\n",
       "      <td>SP</td>\n",
       "      <td>BA</td>\n",
       "      <td>60</td>\n",
       "      <td>13</td>\n",
       "    </tr>\n",
       "  </tbody>\n",
       "</table>\n",
       "</div>"
      ],
      "text/plain": [
       "               dia      mandante  hora_sin     visitante formacao_mandante  \\\n",
       "ID                                                                           \n",
       "4870        Sabado      Coritiba -0.913545  Athletico-PR           4-2-2-2   \n",
       "4698        Sabado         Goias -0.991445      Coritiba             4-4-2   \n",
       "4891       Domingo  Athletico-PR -0.866025      Flamengo             4-3-3   \n",
       "4892       Domingo   Figueirense -0.866025      Coritiba         4-1-2-1-2   \n",
       "4898  Quarta-feira   Corinthians -0.923880       Vitoria           4-2-3-1   \n",
       "\n",
       "     formacao_visitante         tecnico_mandante        tecnico_visitante  \\\n",
       "ID                                                                          \n",
       "4870              4-3-3   C. dos Santos Oliveira   C. dos Santos Oliveira   \n",
       "4698            4-2-2-2  M. dos Santos Gonçalves  M. dos Santos Gonçalves   \n",
       "4891            4-2-3-1   V. Luxemburgo da Silva   V. Luxemburgo da Silva   \n",
       "4892            4-3-2-1  M. dos Santos Gonçalves  M. dos Santos Gonçalves   \n",
       "4898          4-1-2-1-2    N. da Silveira Júnior    N. da Silveira Júnior   \n",
       "\n",
       "                                                  arena mandante_estado  \\\n",
       "ID                                                                        \n",
       "4870                                      couto pereira              PR   \n",
       "4698  estadio do governo do estado de goias serra do...              GO   \n",
       "4891                  estadio joaquim americo guimaraes              PR   \n",
       "4892                                  orlando scarpelli              SC   \n",
       "4898                                     arena pantanal              SP   \n",
       "\n",
       "     visitante_estado  rodada  escanteios  \n",
       "ID                                         \n",
       "4870               PR      52          12  \n",
       "4698               PR      56           6  \n",
       "4891               RJ      58           8  \n",
       "4892               PR      58          11  \n",
       "4898               BA      60          13  "
      ]
     },
     "execution_count": 48,
     "metadata": {},
     "output_type": "execute_result"
    }
   ],
   "source": [
    "df3.head()"
   ]
  },
  {
   "cell_type": "code",
   "execution_count": 49,
   "id": "0343fc89",
   "metadata": {
    "ExecuteTime": {
     "end_time": "2022-03-14T13:30:14.769780Z",
     "start_time": "2022-03-14T13:30:14.764556Z"
    }
   },
   "outputs": [
    {
     "data": {
      "text/plain": [
       "dia                    object\n",
       "mandante               object\n",
       "hora_sin              float64\n",
       "visitante              object\n",
       "formacao_mandante      object\n",
       "formacao_visitante     object\n",
       "tecnico_mandante       object\n",
       "tecnico_visitante      object\n",
       "arena                  object\n",
       "mandante_estado        object\n",
       "visitante_estado       object\n",
       "rodada                  int64\n",
       "escanteios              int64\n",
       "dtype: object"
      ]
     },
     "execution_count": 49,
     "metadata": {},
     "output_type": "execute_result"
    }
   ],
   "source": [
    "df3.dtypes"
   ]
  },
  {
   "cell_type": "code",
   "execution_count": 50,
   "id": "cf4439c8",
   "metadata": {
    "ExecuteTime": {
     "end_time": "2022-03-14T13:30:14.783638Z",
     "start_time": "2022-03-14T13:30:14.771241Z"
    }
   },
   "outputs": [],
   "source": [
    "df3['escanteios_mandante'] = df3['mandante'].map(df_stats_clube.set_index('clube')['escanteios'])\n",
    "df3['escanteios_visitante'] = df3['visitante'].map(df_stats_clube.set_index('clube')['escanteios'])\n",
    "\n",
    "df3['chutes_mandante'] = df3['mandante'].map(df_stats_clube.set_index('clube')['chutes'])\n",
    "df3['chutes_visitante'] = df3['visitante'].map(df_stats_clube.set_index('clube')['chutes'])\n",
    "\n",
    "\n",
    "df3['mandante_noalvo'] = df3['mandante'].map(df_stats_clube.set_index('clube')['chutes_no_alvo'])\n",
    "df3['visitante_noalvo'] = df3['visitante'].map(df_stats_clube.set_index('clube')['chutes_no_alvo'])"
   ]
  },
  {
   "cell_type": "code",
   "execution_count": 51,
   "id": "89a63b69",
   "metadata": {
    "ExecuteTime": {
     "end_time": "2022-03-14T13:30:14.883637Z",
     "start_time": "2022-03-14T13:30:14.784997Z"
    }
   },
   "outputs": [
    {
     "data": {
      "image/png": "[encoded data removed]",
      "text/plain": [
       "<Figure size 432x288 with 1 Axes>"
      ]
     },
     "metadata": {
      "needs_background": "light"
     },
     "output_type": "display_data"
    }
   ],
   "source": [
    "plt.hist(df3.escanteios);"
   ]
  },
  {
   "cell_type": "code",
   "execution_count": 52,
   "id": "83f5a2c3",
   "metadata": {
    "ExecuteTime": {
     "end_time": "2022-03-14T13:30:14.890825Z",
     "start_time": "2022-03-14T13:30:14.885182Z"
    }
   },
   "outputs": [],
   "source": [
    "df3['maior_que_95'] = 1* (df3.escanteios > 9.5)"
   ]
  },
  {
   "cell_type": "code",
   "execution_count": 53,
   "id": "d975aeef",
   "metadata": {
    "ExecuteTime": {
     "end_time": "2022-03-14T13:30:14.909631Z",
     "start_time": "2022-03-14T13:30:14.892254Z"
    }
   },
   "outputs": [
    {
     "data": {
      "text/html": [
       "<div>\n",
       "<style scoped>\n",
       "    .dataframe tbody tr th:only-of-type {\n",
       "        vertical-align: middle;\n",
       "    }\n",
       "\n",
       "    .dataframe tbody tr th {\n",
       "        vertical-align: top;\n",
       "    }\n",
       "\n",
       "    .dataframe thead th {\n",
       "        text-align: right;\n",
       "    }\n",
       "</style>\n",
       "<table border=\"1\" class=\"dataframe\">\n",
       "  <thead>\n",
       "    <tr style=\"text-align: right;\">\n",
       "      <th></th>\n",
       "      <th>dia</th>\n",
       "      <th>mandante</th>\n",
       "      <th>hora_sin</th>\n",
       "      <th>visitante</th>\n",
       "      <th>formacao_mandante</th>\n",
       "      <th>formacao_visitante</th>\n",
       "      <th>tecnico_mandante</th>\n",
       "      <th>tecnico_visitante</th>\n",
       "      <th>arena</th>\n",
       "      <th>mandante_estado</th>\n",
       "      <th>visitante_estado</th>\n",
       "      <th>rodada</th>\n",
       "      <th>escanteios</th>\n",
       "      <th>escanteios_mandante</th>\n",
       "      <th>escanteios_visitante</th>\n",
       "      <th>chutes_mandante</th>\n",
       "      <th>chutes_visitante</th>\n",
       "      <th>mandante_noalvo</th>\n",
       "      <th>visitante_noalvo</th>\n",
       "      <th>maior_que_95</th>\n",
       "    </tr>\n",
       "    <tr>\n",
       "      <th>ID</th>\n",
       "      <th></th>\n",
       "      <th></th>\n",
       "      <th></th>\n",
       "      <th></th>\n",
       "      <th></th>\n",
       "      <th></th>\n",
       "      <th></th>\n",
       "      <th></th>\n",
       "      <th></th>\n",
       "      <th></th>\n",
       "      <th></th>\n",
       "      <th></th>\n",
       "      <th></th>\n",
       "      <th></th>\n",
       "      <th></th>\n",
       "      <th></th>\n",
       "      <th></th>\n",
       "      <th></th>\n",
       "      <th></th>\n",
       "      <th></th>\n",
       "    </tr>\n",
       "  </thead>\n",
       "  <tbody>\n",
       "    <tr>\n",
       "      <th>4870</th>\n",
       "      <td>Sabado</td>\n",
       "      <td>Coritiba</td>\n",
       "      <td>-0.913545</td>\n",
       "      <td>Athletico-PR</td>\n",
       "      <td>4-2-2-2</td>\n",
       "      <td>4-3-3</td>\n",
       "      <td>C. dos Santos Oliveira</td>\n",
       "      <td>C. dos Santos Oliveira</td>\n",
       "      <td>couto pereira</td>\n",
       "      <td>PR</td>\n",
       "      <td>PR</td>\n",
       "      <td>52</td>\n",
       "      <td>12</td>\n",
       "      <td>4.566667</td>\n",
       "      <td>4.617424</td>\n",
       "      <td>11.453333</td>\n",
       "      <td>11.659091</td>\n",
       "      <td>1.946667</td>\n",
       "      <td>3.049242</td>\n",
       "      <td>1</td>\n",
       "    </tr>\n",
       "    <tr>\n",
       "      <th>4698</th>\n",
       "      <td>Sabado</td>\n",
       "      <td>Goias</td>\n",
       "      <td>-0.991445</td>\n",
       "      <td>Coritiba</td>\n",
       "      <td>4-4-2</td>\n",
       "      <td>4-2-2-2</td>\n",
       "      <td>M. dos Santos Gonçalves</td>\n",
       "      <td>M. dos Santos Gonçalves</td>\n",
       "      <td>estadio do governo do estado de goias serra do...</td>\n",
       "      <td>GO</td>\n",
       "      <td>PR</td>\n",
       "      <td>56</td>\n",
       "      <td>6</td>\n",
       "      <td>4.419643</td>\n",
       "      <td>4.566667</td>\n",
       "      <td>12.000000</td>\n",
       "      <td>11.453333</td>\n",
       "      <td>2.526786</td>\n",
       "      <td>1.946667</td>\n",
       "      <td>0</td>\n",
       "    </tr>\n",
       "    <tr>\n",
       "      <th>4891</th>\n",
       "      <td>Domingo</td>\n",
       "      <td>Athletico-PR</td>\n",
       "      <td>-0.866025</td>\n",
       "      <td>Flamengo</td>\n",
       "      <td>4-3-3</td>\n",
       "      <td>4-2-3-1</td>\n",
       "      <td>V. Luxemburgo da Silva</td>\n",
       "      <td>V. Luxemburgo da Silva</td>\n",
       "      <td>estadio joaquim americo guimaraes</td>\n",
       "      <td>PR</td>\n",
       "      <td>RJ</td>\n",
       "      <td>58</td>\n",
       "      <td>8</td>\n",
       "      <td>4.617424</td>\n",
       "      <td>6.166038</td>\n",
       "      <td>11.659091</td>\n",
       "      <td>14.698113</td>\n",
       "      <td>3.049242</td>\n",
       "      <td>3.973585</td>\n",
       "      <td>0</td>\n",
       "    </tr>\n",
       "    <tr>\n",
       "      <th>4892</th>\n",
       "      <td>Domingo</td>\n",
       "      <td>Figueirense</td>\n",
       "      <td>-0.866025</td>\n",
       "      <td>Coritiba</td>\n",
       "      <td>4-1-2-1-2</td>\n",
       "      <td>4-3-2-1</td>\n",
       "      <td>M. dos Santos Gonçalves</td>\n",
       "      <td>M. dos Santos Gonçalves</td>\n",
       "      <td>orlando scarpelli</td>\n",
       "      <td>SC</td>\n",
       "      <td>PR</td>\n",
       "      <td>58</td>\n",
       "      <td>11</td>\n",
       "      <td>4.432432</td>\n",
       "      <td>4.566667</td>\n",
       "      <td>9.851351</td>\n",
       "      <td>11.453333</td>\n",
       "      <td>0.054054</td>\n",
       "      <td>1.946667</td>\n",
       "      <td>1</td>\n",
       "    </tr>\n",
       "    <tr>\n",
       "      <th>4898</th>\n",
       "      <td>Quarta-feira</td>\n",
       "      <td>Corinthians</td>\n",
       "      <td>-0.923880</td>\n",
       "      <td>Vitoria</td>\n",
       "      <td>4-2-3-1</td>\n",
       "      <td>4-1-2-1-2</td>\n",
       "      <td>N. da Silveira Júnior</td>\n",
       "      <td>N. da Silveira Júnior</td>\n",
       "      <td>arena pantanal</td>\n",
       "      <td>SP</td>\n",
       "      <td>BA</td>\n",
       "      <td>60</td>\n",
       "      <td>13</td>\n",
       "      <td>5.242424</td>\n",
       "      <td>4.973684</td>\n",
       "      <td>12.037879</td>\n",
       "      <td>13.315789</td>\n",
       "      <td>2.920455</td>\n",
       "      <td>2.535088</td>\n",
       "      <td>1</td>\n",
       "    </tr>\n",
       "  </tbody>\n",
       "</table>\n",
       "</div>"
      ],
      "text/plain": [
       "               dia      mandante  hora_sin     visitante formacao_mandante  \\\n",
       "ID                                                                           \n",
       "4870        Sabado      Coritiba -0.913545  Athletico-PR           4-2-2-2   \n",
       "4698        Sabado         Goias -0.991445      Coritiba             4-4-2   \n",
       "4891       Domingo  Athletico-PR -0.866025      Flamengo             4-3-3   \n",
       "4892       Domingo   Figueirense -0.866025      Coritiba         4-1-2-1-2   \n",
       "4898  Quarta-feira   Corinthians -0.923880       Vitoria           4-2-3-1   \n",
       "\n",
       "     formacao_visitante         tecnico_mandante        tecnico_visitante  \\\n",
       "ID                                                                          \n",
       "4870              4-3-3   C. dos Santos Oliveira   C. dos Santos Oliveira   \n",
       "4698            4-2-2-2  M. dos Santos Gonçalves  M. dos Santos Gonçalves   \n",
       "4891            4-2-3-1   V. Luxemburgo da Silva   V. Luxemburgo da Silva   \n",
       "4892            4-3-2-1  M. dos Santos Gonçalves  M. dos Santos Gonçalves   \n",
       "4898          4-1-2-1-2    N. da Silveira Júnior    N. da Silveira Júnior   \n",
       "\n",
       "                                                  arena mandante_estado  \\\n",
       "ID                                                                        \n",
       "4870                                      couto pereira              PR   \n",
       "4698  estadio do governo do estado de goias serra do...              GO   \n",
       "4891                  estadio joaquim americo guimaraes              PR   \n",
       "4892                                  orlando scarpelli              SC   \n",
       "4898                                     arena pantanal              SP   \n",
       "\n",
       "     visitante_estado  rodada  escanteios  escanteios_mandante  \\\n",
       "ID                                                               \n",
       "4870               PR      52          12             4.566667   \n",
       "4698               PR      56           6             4.419643   \n",
       "4891               RJ      58           8             4.617424   \n",
       "4892               PR      58          11             4.432432   \n",
       "4898               BA      60          13             5.242424   \n",
       "\n",
       "      escanteios_visitante  chutes_mandante  chutes_visitante  \\\n",
       "ID                                                              \n",
       "4870              4.617424        11.453333         11.659091   \n",
       "4698              4.566667        12.000000         11.453333   \n",
       "4891              6.166038        11.659091         14.698113   \n",
       "4892              4.566667         9.851351         11.453333   \n",
       "4898              4.973684        12.037879         13.315789   \n",
       "\n",
       "      mandante_noalvo  visitante_noalvo  maior_que_95  \n",
       "ID                                                     \n",
       "4870         1.946667          3.049242             1  \n",
       "4698         2.526786          1.946667             0  \n",
       "4891         3.049242          3.973585             0  \n",
       "4892         0.054054          1.946667             1  \n",
       "4898         2.920455          2.535088             1  "
      ]
     },
     "execution_count": 53,
     "metadata": {},
     "output_type": "execute_result"
    }
   ],
   "source": [
    "df3.head()"
   ]
  },
  {
   "cell_type": "code",
   "execution_count": 54,
   "id": "62380da8",
   "metadata": {
    "ExecuteTime": {
     "end_time": "2022-03-14T13:30:14.916620Z",
     "start_time": "2022-03-14T13:30:14.911178Z"
    }
   },
   "outputs": [],
   "source": [
    "encode = ['dia',                  \n",
    "          'mandante',             \n",
    "          'visitante',            \n",
    "          'formacao_mandante',    \n",
    "          'formacao_visitante',   \n",
    "          'tecnico_mandante',     \n",
    "          'tecnico_visitante',    \n",
    "          'arena',                \n",
    "          'mandante_estado',      \n",
    "          'visitante_estado']"
   ]
  },
  {
   "cell_type": "code",
   "execution_count": 55,
   "id": "01c6a07a",
   "metadata": {
    "ExecuteTime": {
     "end_time": "2022-03-14T13:30:14.933648Z",
     "start_time": "2022-03-14T13:30:14.918235Z"
    }
   },
   "outputs": [],
   "source": [
    "df3_encoded = pd.DataFrame()\n",
    "\n",
    "df3_encoded['dia'] = LabelEncoder().fit_transform(df3['dia'])\n",
    "df3_encoded['mandante'] = LabelEncoder().fit_transform(df3['mandante'])\n",
    "df3_encoded['visitante'] = LabelEncoder().fit_transform(df3['visitante'])\n",
    "df3_encoded['formacao_mandante'] = LabelEncoder().fit_transform(df3['formacao_mandante'])\n",
    "df3_encoded['formacao_visitante'] = LabelEncoder().fit_transform(df3['formacao_visitante'])\n",
    "df3_encoded['tecnico_visitante'] = LabelEncoder().fit_transform(df3['tecnico_visitante'])\n",
    "df3_encoded['arena'] = LabelEncoder().fit_transform(df3['arena'])\n",
    "df3_encoded['mandante_estado'] = LabelEncoder().fit_transform(df3['mandante_estado'])\n",
    "df3_encoded['visitante_estado'] = LabelEncoder().fit_transform(df3['visitante_estado'])"
   ]
  },
  {
   "cell_type": "code",
   "execution_count": 56,
   "id": "cd42fbbb",
   "metadata": {
    "ExecuteTime": {
     "end_time": "2022-03-14T13:30:14.939409Z",
     "start_time": "2022-03-14T13:30:14.935229Z"
    }
   },
   "outputs": [],
   "source": [
    "df31 = df3_encoded.copy()"
   ]
  },
  {
   "cell_type": "code",
   "execution_count": 57,
   "id": "36465adc",
   "metadata": {
    "ExecuteTime": {
     "end_time": "2022-03-14T13:30:14.950217Z",
     "start_time": "2022-03-14T13:30:14.941008Z"
    }
   },
   "outputs": [],
   "source": [
    "df31['hora_sin'] = df3.hora_sin.values\n",
    "df31['rodada'] = df3.rodada.values\n",
    "df31['chutes_mandante'] = df3.chutes_mandante.values\n",
    "df31['chutes_visitante'] = df3.chutes_visitante.values\n",
    "df31['mandante_noalvo'] = df3.mandante_noalvo.values\n",
    "df31['visitante_noalvo'] = df3.visitante_noalvo.values\n",
    "df31['maior_que_95'] = df3.maior_que_95.values"
   ]
  },
  {
   "cell_type": "code",
   "execution_count": 58,
   "id": "b90fcdee",
   "metadata": {
    "ExecuteTime": {
     "end_time": "2022-03-14T13:30:14.956909Z",
     "start_time": "2022-03-14T13:30:14.951763Z"
    }
   },
   "outputs": [],
   "source": [
    "df31 = df31.dropna()"
   ]
  },
  {
   "cell_type": "code",
   "execution_count": 59,
   "id": "26c1ad73",
   "metadata": {
    "ExecuteTime": {
     "end_time": "2022-03-14T13:30:14.970821Z",
     "start_time": "2022-03-14T13:30:14.958345Z"
    }
   },
   "outputs": [
    {
     "data": {
      "text/html": [
       "<div>\n",
       "<style scoped>\n",
       "    .dataframe tbody tr th:only-of-type {\n",
       "        vertical-align: middle;\n",
       "    }\n",
       "\n",
       "    .dataframe tbody tr th {\n",
       "        vertical-align: top;\n",
       "    }\n",
       "\n",
       "    .dataframe thead th {\n",
       "        text-align: right;\n",
       "    }\n",
       "</style>\n",
       "<table border=\"1\" class=\"dataframe\">\n",
       "  <thead>\n",
       "    <tr style=\"text-align: right;\">\n",
       "      <th></th>\n",
       "      <th>dia</th>\n",
       "      <th>mandante</th>\n",
       "      <th>visitante</th>\n",
       "      <th>formacao_mandante</th>\n",
       "      <th>formacao_visitante</th>\n",
       "      <th>tecnico_visitante</th>\n",
       "      <th>arena</th>\n",
       "      <th>mandante_estado</th>\n",
       "      <th>visitante_estado</th>\n",
       "      <th>hora_sin</th>\n",
       "      <th>rodada</th>\n",
       "      <th>chutes_mandante</th>\n",
       "      <th>chutes_visitante</th>\n",
       "      <th>mandante_noalvo</th>\n",
       "      <th>visitante_noalvo</th>\n",
       "      <th>maior_que_95</th>\n",
       "    </tr>\n",
       "  </thead>\n",
       "  <tbody>\n",
       "    <tr>\n",
       "      <th>0</th>\n",
       "      <td>3</td>\n",
       "      <td>12</td>\n",
       "      <td>1</td>\n",
       "      <td>10</td>\n",
       "      <td>14</td>\n",
       "      <td>30</td>\n",
       "      <td>13</td>\n",
       "      <td>7</td>\n",
       "      <td>7</td>\n",
       "      <td>-0.913545</td>\n",
       "      <td>52</td>\n",
       "      <td>11.453333</td>\n",
       "      <td>11.659091</td>\n",
       "      <td>1.946667</td>\n",
       "      <td>3.049242</td>\n",
       "      <td>1</td>\n",
       "    </tr>\n",
       "    <tr>\n",
       "      <th>1</th>\n",
       "      <td>3</td>\n",
       "      <td>20</td>\n",
       "      <td>12</td>\n",
       "      <td>17</td>\n",
       "      <td>9</td>\n",
       "      <td>129</td>\n",
       "      <td>21</td>\n",
       "      <td>3</td>\n",
       "      <td>7</td>\n",
       "      <td>-0.991445</td>\n",
       "      <td>56</td>\n",
       "      <td>12.000000</td>\n",
       "      <td>11.453333</td>\n",
       "      <td>2.526786</td>\n",
       "      <td>1.946667</td>\n",
       "      <td>0</td>\n",
       "    </tr>\n",
       "    <tr>\n",
       "      <th>2</th>\n",
       "      <td>0</td>\n",
       "      <td>1</td>\n",
       "      <td>16</td>\n",
       "      <td>15</td>\n",
       "      <td>10</td>\n",
       "      <td>166</td>\n",
       "      <td>26</td>\n",
       "      <td>7</td>\n",
       "      <td>8</td>\n",
       "      <td>-0.866025</td>\n",
       "      <td>58</td>\n",
       "      <td>11.659091</td>\n",
       "      <td>14.698113</td>\n",
       "      <td>3.049242</td>\n",
       "      <td>3.973585</td>\n",
       "      <td>0</td>\n",
       "    </tr>\n",
       "    <tr>\n",
       "      <th>3</th>\n",
       "      <td>0</td>\n",
       "      <td>16</td>\n",
       "      <td>12</td>\n",
       "      <td>7</td>\n",
       "      <td>13</td>\n",
       "      <td>129</td>\n",
       "      <td>48</td>\n",
       "      <td>10</td>\n",
       "      <td>7</td>\n",
       "      <td>-0.866025</td>\n",
       "      <td>58</td>\n",
       "      <td>9.851351</td>\n",
       "      <td>11.453333</td>\n",
       "      <td>0.054054</td>\n",
       "      <td>1.946667</td>\n",
       "      <td>1</td>\n",
       "    </tr>\n",
       "    <tr>\n",
       "      <th>4</th>\n",
       "      <td>1</td>\n",
       "      <td>11</td>\n",
       "      <td>32</td>\n",
       "      <td>11</td>\n",
       "      <td>6</td>\n",
       "      <td>131</td>\n",
       "      <td>11</td>\n",
       "      <td>11</td>\n",
       "      <td>1</td>\n",
       "      <td>-0.923880</td>\n",
       "      <td>60</td>\n",
       "      <td>12.037879</td>\n",
       "      <td>13.315789</td>\n",
       "      <td>2.920455</td>\n",
       "      <td>2.535088</td>\n",
       "      <td>1</td>\n",
       "    </tr>\n",
       "  </tbody>\n",
       "</table>\n",
       "</div>"
      ],
      "text/plain": [
       "   dia  mandante  visitante  formacao_mandante  formacao_visitante  \\\n",
       "0    3        12          1                 10                  14   \n",
       "1    3        20         12                 17                   9   \n",
       "2    0         1         16                 15                  10   \n",
       "3    0        16         12                  7                  13   \n",
       "4    1        11         32                 11                   6   \n",
       "\n",
       "   tecnico_visitante  arena  mandante_estado  visitante_estado  hora_sin  \\\n",
       "0                 30     13                7                 7 -0.913545   \n",
       "1                129     21                3                 7 -0.991445   \n",
       "2                166     26                7                 8 -0.866025   \n",
       "3                129     48               10                 7 -0.866025   \n",
       "4                131     11               11                 1 -0.923880   \n",
       "\n",
       "   rodada  chutes_mandante  chutes_visitante  mandante_noalvo  \\\n",
       "0      52        11.453333         11.659091         1.946667   \n",
       "1      56        12.000000         11.453333         2.526786   \n",
       "2      58        11.659091         14.698113         3.049242   \n",
       "3      58         9.851351         11.453333         0.054054   \n",
       "4      60        12.037879         13.315789         2.920455   \n",
       "\n",
       "   visitante_noalvo  maior_que_95  \n",
       "0          3.049242             1  \n",
       "1          1.946667             0  \n",
       "2          3.973585             0  \n",
       "3          1.946667             1  \n",
       "4          2.535088             1  "
      ]
     },
     "execution_count": 59,
     "metadata": {},
     "output_type": "execute_result"
    }
   ],
   "source": [
    "df31.head()"
   ]
  },
  {
   "cell_type": "markdown",
   "id": "356beb22",
   "metadata": {},
   "source": [
    "# 4.0 Feature selection and scaling "
   ]
  },
  {
   "cell_type": "code",
   "execution_count": 60,
   "id": "853aba73",
   "metadata": {
    "ExecuteTime": {
     "end_time": "2022-03-14T13:30:14.975131Z",
     "start_time": "2022-03-14T13:30:14.972224Z"
    }
   },
   "outputs": [],
   "source": [
    "df4 = df31.copy()"
   ]
  },
  {
   "cell_type": "code",
   "execution_count": 61,
   "id": "62a7f358",
   "metadata": {
    "ExecuteTime": {
     "end_time": "2022-03-14T13:30:14.984771Z",
     "start_time": "2022-03-14T13:30:14.976489Z"
    }
   },
   "outputs": [],
   "source": [
    "X = df4.drop(['maior_que_95'], axis=1)\n",
    "y = df4.maior_que_95"
   ]
  },
  {
   "cell_type": "code",
   "execution_count": 62,
   "id": "9b016aa6",
   "metadata": {
    "ExecuteTime": {
     "end_time": "2022-03-14T13:30:14.992900Z",
     "start_time": "2022-03-14T13:30:14.986430Z"
    }
   },
   "outputs": [],
   "source": [
    "X_train, X_test, y_train, y_test = train_test_split(X, y,shuffle=True)"
   ]
  },
  {
   "cell_type": "code",
   "execution_count": 63,
   "id": "2ec97c28",
   "metadata": {
    "ExecuteTime": {
     "end_time": "2022-03-14T13:30:14.999571Z",
     "start_time": "2022-03-14T13:30:14.994881Z"
    }
   },
   "outputs": [],
   "source": [
    "#y_train = (y_train - np.mean(y_train)) / np.std(y_train)\n",
    "#y_test = (y_test - np.mean(y_test)) / np.std(y_test)"
   ]
  },
  {
   "cell_type": "code",
   "execution_count": 64,
   "id": "007735d3",
   "metadata": {
    "ExecuteTime": {
     "end_time": "2022-03-14T13:30:15.225045Z",
     "start_time": "2022-03-14T13:30:15.001336Z"
    }
   },
   "outputs": [
    {
     "data": {
      "image/png": "[encoded data removed]",
      "text/plain": [
       "<Figure size 864x288 with 2 Axes>"
      ]
     },
     "metadata": {
      "needs_background": "light"
     },
     "output_type": "display_data"
    }
   ],
   "source": [
    "plt.figure(figsize=(12,4))\n",
    "plt.subplot(1,2,1)\n",
    "plt.hist(y_train);\n",
    "plt.title('Treino');\n",
    "\n",
    "plt.subplot(1,2,2)\n",
    "plt.hist(y_test);\n",
    "plt.title('Teste');"
   ]
  },
  {
   "cell_type": "code",
   "execution_count": 65,
   "id": "b2ff17c1",
   "metadata": {
    "ExecuteTime": {
     "end_time": "2022-03-14T13:30:15.234819Z",
     "start_time": "2022-03-14T13:30:15.228348Z"
    }
   },
   "outputs": [
    {
     "data": {
      "text/plain": [
       "0.564629258517034"
      ]
     },
     "execution_count": 65,
     "metadata": {},
     "output_type": "execute_result"
    }
   ],
   "source": [
    "# Number of samples on class 1 - train set\n",
    "np.sum(y_train == 1) / len(y_train)"
   ]
  },
  {
   "cell_type": "code",
   "execution_count": 66,
   "id": "847a9ea2",
   "metadata": {
    "ExecuteTime": {
     "end_time": "2022-03-14T13:30:15.241318Z",
     "start_time": "2022-03-14T13:30:15.236440Z"
    }
   },
   "outputs": [
    {
     "data": {
      "text/plain": [
       "0.566066066066066"
      ]
     },
     "execution_count": 66,
     "metadata": {},
     "output_type": "execute_result"
    }
   ],
   "source": [
    "# Number of samples on class 1 - test set\n",
    "np.sum(y_test == 1) / len(y_test)"
   ]
  },
  {
   "cell_type": "markdown",
   "id": "e0204b6a",
   "metadata": {},
   "source": [
    "# 5.0 Machine Learning Models "
   ]
  },
  {
   "cell_type": "markdown",
   "id": "e9bde165",
   "metadata": {},
   "source": [
    "## 5.1 Logistic Regression "
   ]
  },
  {
   "cell_type": "code",
   "execution_count": 67,
   "id": "3c3e4606",
   "metadata": {
    "ExecuteTime": {
     "end_time": "2022-03-14T13:30:15.305136Z",
     "start_time": "2022-03-14T13:30:15.243645Z"
    }
   },
   "outputs": [
    {
     "name": "stderr",
     "output_type": "stream",
     "text": [
      "/home/mahelvson/anaconda3/envs/foot/lib/python3.9/site-packages/sklearn/linear_model/_logistic.py:814: ConvergenceWarning: lbfgs failed to converge (status=1):\n",
      "STOP: TOTAL NO. of ITERATIONS REACHED LIMIT.\n",
      "\n",
      "Increase the number of iterations (max_iter) or scale the data as shown in:\n",
      "    https://scikit-learn.org/stable/modules/preprocessing.html\n",
      "Please also refer to the documentation for alternative solver options:\n",
      "    https://scikit-learn.org/stable/modules/linear_model.html#logistic-regression\n",
      "  n_iter_i = _check_optimize_result(\n"
     ]
    }
   ],
   "source": [
    "clf_lg = LogisticRegression().fit(X_train, y_train)\n",
    "y_hat_lg = clf_lg.predict(X_test)"
   ]
  },
  {
   "cell_type": "code",
   "execution_count": 68,
   "id": "ab386e06",
   "metadata": {
    "ExecuteTime": {
     "end_time": "2022-03-14T13:30:15.312263Z",
     "start_time": "2022-03-14T13:30:15.307339Z"
    }
   },
   "outputs": [
    {
     "data": {
      "text/plain": [
       "0.566066066066066"
      ]
     },
     "execution_count": 68,
     "metadata": {},
     "output_type": "execute_result"
    }
   ],
   "source": [
    "accuracy_score(y_test, y_hat_lg)"
   ]
  },
  {
   "cell_type": "code",
   "execution_count": 69,
   "id": "e113aa05",
   "metadata": {
    "ExecuteTime": {
     "end_time": "2022-03-14T13:30:15.478566Z",
     "start_time": "2022-03-14T13:30:15.313742Z"
    }
   },
   "outputs": [
    {
     "data": {
      "image/png": "[encoded data removed]",
      "text/plain": [
       "<Figure size 432x288 with 2 Axes>"
      ]
     },
     "metadata": {
      "needs_background": "light"
     },
     "output_type": "display_data"
    }
   ],
   "source": [
    "sns.heatmap(confusion_matrix(y_test, y_hat_lg, normalize='true'), annot=True);"
   ]
  },
  {
   "cell_type": "code",
   "execution_count": 70,
   "id": "0b2a62b4",
   "metadata": {
    "ExecuteTime": {
     "end_time": "2022-03-14T13:30:15.490180Z",
     "start_time": "2022-03-14T13:30:15.480066Z"
    }
   },
   "outputs": [
    {
     "name": "stdout",
     "output_type": "stream",
     "text": [
      "              precision    recall  f1-score   support\n",
      "\n",
      "           0       0.50      0.11      0.18       289\n",
      "           1       0.57      0.92      0.71       377\n",
      "\n",
      "    accuracy                           0.57       666\n",
      "   macro avg       0.54      0.51      0.44       666\n",
      "weighted avg       0.54      0.57      0.48       666\n",
      "\n"
     ]
    }
   ],
   "source": [
    "print(classification_report(y_test, y_hat_lg))"
   ]
  },
  {
   "cell_type": "markdown",
   "id": "97562ef9",
   "metadata": {},
   "source": [
    "## 5.2 XGBoost "
   ]
  },
  {
   "cell_type": "code",
   "execution_count": 71,
   "id": "ccf54b7d",
   "metadata": {
    "ExecuteTime": {
     "end_time": "2022-03-14T13:30:17.239118Z",
     "start_time": "2022-03-14T13:30:15.491756Z"
    }
   },
   "outputs": [
    {
     "name": "stderr",
     "output_type": "stream",
     "text": [
      "/home/mahelvson/anaconda3/envs/foot/lib/python3.9/site-packages/xgboost/sklearn.py:1224: UserWarning: The use of label encoder in XGBClassifier is deprecated and will be removed in a future release. To remove this warning, do the following: 1) Pass option use_label_encoder=False when constructing XGBClassifier object; and 2) Encode your labels (y) as integers starting with 0, i.e. 0, 1, 2, ..., [num_class - 1].\n",
      "  warnings.warn(label_encoder_deprecation_msg, UserWarning)\n",
      "/home/mahelvson/anaconda3/envs/foot/lib/python3.9/site-packages/xgboost/data.py:250: FutureWarning: pandas.Int64Index is deprecated and will be removed from pandas in a future version. Use pandas.Index with the appropriate dtype instead.\n",
      "  elif isinstance(data.columns, (pd.Int64Index, pd.RangeIndex)):\n"
     ]
    },
    {
     "name": "stdout",
     "output_type": "stream",
     "text": [
      "[10:30:16] WARNING: ../src/learner.cc:1115: Starting in XGBoost 1.3.0, the default evaluation metric used with the objective 'binary:logistic' was changed from 'error' to 'logloss'. Explicitly set eval_metric if you'd like to restore the old behavior.\n"
     ]
    }
   ],
   "source": [
    "clf_xgb = xgb.XGBRFClassifier(n_estimators = 1000).fit(X_train, y_train)\n",
    "yhat_xgb = clf_xgb.predict(X_test)"
   ]
  },
  {
   "cell_type": "code",
   "execution_count": 72,
   "id": "4f31c151",
   "metadata": {
    "ExecuteTime": {
     "end_time": "2022-03-14T13:30:17.255063Z",
     "start_time": "2022-03-14T13:30:17.245517Z"
    }
   },
   "outputs": [
    {
     "data": {
      "text/plain": [
       "0.581081081081081"
      ]
     },
     "execution_count": 72,
     "metadata": {},
     "output_type": "execute_result"
    }
   ],
   "source": [
    "accuracy_score(y_test, yhat_xgb)"
   ]
  },
  {
   "cell_type": "code",
   "execution_count": 73,
   "id": "d0b9b6e2",
   "metadata": {
    "ExecuteTime": {
     "end_time": "2022-03-14T13:30:17.527546Z",
     "start_time": "2022-03-14T13:30:17.263225Z"
    }
   },
   "outputs": [
    {
     "data": {
      "text/plain": [
       "<AxesSubplot:>"
      ]
     },
     "execution_count": 73,
     "metadata": {},
     "output_type": "execute_result"
    },
    {
     "data": {
      "image/png": "[encoded data removed]",
      "text/plain": [
       "<Figure size 432x288 with 2 Axes>"
      ]
     },
     "metadata": {
      "needs_background": "light"
     },
     "output_type": "display_data"
    }
   ],
   "source": [
    "sns.heatmap(confusion_matrix(y_test, yhat_xgb, normalize='true'), annot=True, )"
   ]
  },
  {
   "cell_type": "code",
   "execution_count": 74,
   "id": "5014ed35",
   "metadata": {
    "ExecuteTime": {
     "end_time": "2022-03-14T13:30:17.540893Z",
     "start_time": "2022-03-14T13:30:17.530529Z"
    }
   },
   "outputs": [
    {
     "name": "stdout",
     "output_type": "stream",
     "text": [
      "              precision    recall  f1-score   support\n",
      "\n",
      "           0       0.55      0.19      0.28       289\n",
      "           1       0.59      0.88      0.70       377\n",
      "\n",
      "    accuracy                           0.58       666\n",
      "   macro avg       0.57      0.54      0.49       666\n",
      "weighted avg       0.57      0.58      0.52       666\n",
      "\n"
     ]
    }
   ],
   "source": [
    "print(classification_report(y_test, yhat_xgb))"
   ]
  },
  {
   "cell_type": "markdown",
   "id": "94bca91f",
   "metadata": {},
   "source": [
    "## 5.3 Random Forests"
   ]
  },
  {
   "cell_type": "code",
   "execution_count": 75,
   "id": "d719d49e",
   "metadata": {
    "ExecuteTime": {
     "end_time": "2022-03-14T13:30:22.806995Z",
     "start_time": "2022-03-14T13:30:17.543290Z"
    }
   },
   "outputs": [],
   "source": [
    "clf_rf = RandomForestClassifier(n_estimators = 2000, n_jobs = -1, random_state = 42).fit(X_train, y_train)\n",
    "yhat_rf = clf_rf.predict(X_test)"
   ]
  },
  {
   "cell_type": "code",
   "execution_count": 76,
   "id": "6ab30c6e",
   "metadata": {
    "ExecuteTime": {
     "end_time": "2022-03-14T13:30:22.813375Z",
     "start_time": "2022-03-14T13:30:22.808383Z"
    }
   },
   "outputs": [
    {
     "data": {
      "text/plain": [
       "0.5570570570570571"
      ]
     },
     "execution_count": 76,
     "metadata": {},
     "output_type": "execute_result"
    }
   ],
   "source": [
    "accuracy_score(y_test, yhat_rf)"
   ]
  },
  {
   "cell_type": "code",
   "execution_count": 77,
   "id": "e3d33899",
   "metadata": {
    "ExecuteTime": {
     "end_time": "2022-03-14T13:30:22.978204Z",
     "start_time": "2022-03-14T13:30:22.815625Z"
    }
   },
   "outputs": [
    {
     "data": {
      "image/png": "[encoded data removed]",
      "text/plain": [
       "<Figure size 432x288 with 2 Axes>"
      ]
     },
     "metadata": {
      "needs_background": "light"
     },
     "output_type": "display_data"
    }
   ],
   "source": [
    "sns.heatmap(confusion_matrix(y_test, yhat_rf, normalize='true'), annot=True, );"
   ]
  },
  {
   "cell_type": "code",
   "execution_count": 78,
   "id": "71b84c06",
   "metadata": {
    "ExecuteTime": {
     "end_time": "2022-03-14T13:30:22.990881Z",
     "start_time": "2022-03-14T13:30:22.981627Z"
    }
   },
   "outputs": [
    {
     "name": "stdout",
     "output_type": "stream",
     "text": [
      "              precision    recall  f1-score   support\n",
      "\n",
      "           0       0.49      0.35      0.41       289\n",
      "           1       0.59      0.71      0.65       377\n",
      "\n",
      "    accuracy                           0.56       666\n",
      "   macro avg       0.54      0.53      0.53       666\n",
      "weighted avg       0.54      0.56      0.54       666\n",
      "\n"
     ]
    }
   ],
   "source": [
    "print(classification_report(y_test, yhat_rf))"
   ]
  },
  {
   "cell_type": "markdown",
   "id": "6b893f61",
   "metadata": {},
   "source": [
    "## 5.4 SVM "
   ]
  },
  {
   "cell_type": "code",
   "execution_count": 79,
   "id": "3994a33f",
   "metadata": {
    "ExecuteTime": {
     "end_time": "2022-03-14T13:30:23.305422Z",
     "start_time": "2022-03-14T13:30:22.992649Z"
    }
   },
   "outputs": [],
   "source": [
    "clf_svc = svm.SVC().fit(X_train, y_train)\n",
    "y_hat_svc = clf_svc.predict(X_test)"
   ]
  },
  {
   "cell_type": "code",
   "execution_count": 80,
   "id": "fd78c083",
   "metadata": {
    "ExecuteTime": {
     "end_time": "2022-03-14T13:30:23.312744Z",
     "start_time": "2022-03-14T13:30:23.307367Z"
    }
   },
   "outputs": [
    {
     "data": {
      "text/plain": [
       "0.5675675675675675"
      ]
     },
     "execution_count": 80,
     "metadata": {},
     "output_type": "execute_result"
    }
   ],
   "source": [
    "accuracy_score(y_test, y_hat_svc)"
   ]
  },
  {
   "cell_type": "code",
   "execution_count": 81,
   "id": "eb9d9cd1",
   "metadata": {
    "ExecuteTime": {
     "end_time": "2022-03-14T13:30:23.448598Z",
     "start_time": "2022-03-14T13:30:23.314288Z"
    }
   },
   "outputs": [
    {
     "data": {
      "image/png": "[encoded data removed]",
      "text/plain": [
       "<Figure size 432x288 with 2 Axes>"
      ]
     },
     "metadata": {
      "needs_background": "light"
     },
     "output_type": "display_data"
    }
   ],
   "source": [
    "sns.heatmap(confusion_matrix(y_test, y_hat_svc, normalize='true'), annot=True);"
   ]
  },
  {
   "cell_type": "code",
   "execution_count": 82,
   "id": "ae3c75cd",
   "metadata": {
    "ExecuteTime": {
     "end_time": "2022-03-14T13:30:23.463278Z",
     "start_time": "2022-03-14T13:30:23.454961Z"
    }
   },
   "outputs": [
    {
     "name": "stdout",
     "output_type": "stream",
     "text": [
      "              precision    recall  f1-score   support\n",
      "\n",
      "           0       1.00      0.00      0.01       289\n",
      "           1       0.57      1.00      0.72       377\n",
      "\n",
      "    accuracy                           0.57       666\n",
      "   macro avg       0.78      0.50      0.37       666\n",
      "weighted avg       0.75      0.57      0.41       666\n",
      "\n"
     ]
    }
   ],
   "source": [
    "print(classification_report(y_test, y_hat_svc))"
   ]
  },
  {
   "cell_type": "markdown",
   "id": "357a2b0c",
   "metadata": {},
   "source": [
    "## 5.5 Naive Bayes "
   ]
  },
  {
   "cell_type": "code",
   "execution_count": 83,
   "id": "03fbbd88",
   "metadata": {
    "ExecuteTime": {
     "end_time": "2022-03-14T13:30:23.473221Z",
     "start_time": "2022-03-14T13:30:23.465144Z"
    }
   },
   "outputs": [],
   "source": [
    "clf_gb = GaussianNB().fit(X_train, y_train)\n",
    "y_hat_gnb = clf_gb.predict(X_test)"
   ]
  },
  {
   "cell_type": "code",
   "execution_count": 84,
   "id": "06aadac5",
   "metadata": {
    "ExecuteTime": {
     "end_time": "2022-03-14T13:30:23.478788Z",
     "start_time": "2022-03-14T13:30:23.474738Z"
    }
   },
   "outputs": [
    {
     "data": {
      "text/plain": [
       "0.5675675675675675"
      ]
     },
     "execution_count": 84,
     "metadata": {},
     "output_type": "execute_result"
    }
   ],
   "source": [
    "accuracy_score(y_test, y_hat_gnb)"
   ]
  },
  {
   "cell_type": "code",
   "execution_count": 85,
   "id": "3f5c7c8e",
   "metadata": {
    "ExecuteTime": {
     "end_time": "2022-03-14T13:30:23.602844Z",
     "start_time": "2022-03-14T13:30:23.480110Z"
    }
   },
   "outputs": [
    {
     "data": {
      "image/png": "[encoded data removed]",
      "text/plain": [
       "<Figure size 432x288 with 2 Axes>"
      ]
     },
     "metadata": {
      "needs_background": "light"
     },
     "output_type": "display_data"
    }
   ],
   "source": [
    "sns.heatmap(confusion_matrix(y_test, y_hat_gnb, normalize='true'), annot=True, );"
   ]
  },
  {
   "cell_type": "code",
   "execution_count": 86,
   "id": "1ea12c9f",
   "metadata": {
    "ExecuteTime": {
     "end_time": "2022-03-14T13:30:23.614307Z",
     "start_time": "2022-03-14T13:30:23.604637Z"
    }
   },
   "outputs": [
    {
     "name": "stdout",
     "output_type": "stream",
     "text": [
      "              precision    recall  f1-score   support\n",
      "\n",
      "           0       0.50      0.28      0.36       289\n",
      "           1       0.59      0.79      0.67       377\n",
      "\n",
      "    accuracy                           0.57       666\n",
      "   macro avg       0.55      0.53      0.52       666\n",
      "weighted avg       0.55      0.57      0.54       666\n",
      "\n"
     ]
    }
   ],
   "source": [
    "print(classification_report(y_test, y_hat_gnb))"
   ]
  },
  {
   "cell_type": "markdown",
   "id": "55a278aa",
   "metadata": {},
   "source": [
    "## 5.6 SGD Classifier "
   ]
  },
  {
   "cell_type": "code",
   "execution_count": 87,
   "id": "9a5b2aff",
   "metadata": {
    "ExecuteTime": {
     "end_time": "2022-03-14T13:30:23.648847Z",
     "start_time": "2022-03-14T13:30:23.615909Z"
    }
   },
   "outputs": [],
   "source": [
    "clf_sgd = SGDClassifier().fit(X_train, y_train)\n",
    "y_hat_sgd = clf_sgd.predict(X_test)"
   ]
  },
  {
   "cell_type": "code",
   "execution_count": 88,
   "id": "e4742206",
   "metadata": {
    "ExecuteTime": {
     "end_time": "2022-03-14T13:30:23.655715Z",
     "start_time": "2022-03-14T13:30:23.650703Z"
    },
    "scrolled": true
   },
   "outputs": [
    {
     "data": {
      "text/plain": [
       "0.4339339339339339"
      ]
     },
     "execution_count": 88,
     "metadata": {},
     "output_type": "execute_result"
    }
   ],
   "source": [
    "accuracy_score(y_test, y_hat_sgd)"
   ]
  },
  {
   "cell_type": "code",
   "execution_count": 89,
   "id": "4140c9b9",
   "metadata": {
    "ExecuteTime": {
     "end_time": "2022-03-14T13:30:23.794192Z",
     "start_time": "2022-03-14T13:30:23.657962Z"
    }
   },
   "outputs": [
    {
     "data": {
      "text/plain": [
       "<AxesSubplot:>"
      ]
     },
     "execution_count": 89,
     "metadata": {},
     "output_type": "execute_result"
    },
    {
     "data": {
      "image/png": "[encoded data removed]",
      "text/plain": [
       "<Figure size 432x288 with 2 Axes>"
      ]
     },
     "metadata": {
      "needs_background": "light"
     },
     "output_type": "display_data"
    }
   ],
   "source": [
    "sns.heatmap(confusion_matrix(y_test, y_hat_sgd, normalize='true'), annot=True, )"
   ]
  },
  {
   "cell_type": "code",
   "execution_count": 90,
   "id": "c6b86019",
   "metadata": {
    "ExecuteTime": {
     "end_time": "2022-03-14T13:30:23.805540Z",
     "start_time": "2022-03-14T13:30:23.796256Z"
    }
   },
   "outputs": [
    {
     "name": "stdout",
     "output_type": "stream",
     "text": [
      "              precision    recall  f1-score   support\n",
      "\n",
      "           0       0.43      0.98      0.60       289\n",
      "           1       0.50      0.02      0.04       377\n",
      "\n",
      "    accuracy                           0.43       666\n",
      "   macro avg       0.47      0.50      0.32       666\n",
      "weighted avg       0.47      0.43      0.28       666\n",
      "\n"
     ]
    }
   ],
   "source": [
    "print(classification_report(y_test, y_hat_sgd))"
   ]
  },
  {
   "cell_type": "markdown",
   "id": "ea707aaf",
   "metadata": {},
   "source": [
    "## 5.7 Decision Tree"
   ]
  },
  {
   "cell_type": "code",
   "execution_count": 91,
   "id": "833849cf",
   "metadata": {
    "ExecuteTime": {
     "end_time": "2022-03-14T13:30:23.828730Z",
     "start_time": "2022-03-14T13:30:23.807552Z"
    }
   },
   "outputs": [],
   "source": [
    "clf_dt = tree.DecisionTreeClassifier().fit(X_train, y_train)\n",
    "y_hat_dt = clf_dt.predict(X_test)"
   ]
  },
  {
   "cell_type": "code",
   "execution_count": 92,
   "id": "69700ec8",
   "metadata": {
    "ExecuteTime": {
     "end_time": "2022-03-14T13:30:23.834883Z",
     "start_time": "2022-03-14T13:30:23.830210Z"
    },
    "scrolled": true
   },
   "outputs": [
    {
     "data": {
      "text/plain": [
       "0.5315315315315315"
      ]
     },
     "execution_count": 92,
     "metadata": {},
     "output_type": "execute_result"
    }
   ],
   "source": [
    "accuracy_score(y_test, y_hat_dt)"
   ]
  },
  {
   "cell_type": "code",
   "execution_count": 93,
   "id": "92ce198d",
   "metadata": {
    "ExecuteTime": {
     "end_time": "2022-03-14T13:30:23.976170Z",
     "start_time": "2022-03-14T13:30:23.838134Z"
    }
   },
   "outputs": [
    {
     "data": {
      "image/png": "[encoded data removed]",
      "text/plain": [
       "<Figure size 432x288 with 2 Axes>"
      ]
     },
     "metadata": {
      "needs_background": "light"
     },
     "output_type": "display_data"
    }
   ],
   "source": [
    "sns.heatmap(confusion_matrix(y_test, y_hat_dt, normalize='true'), annot=True, );"
   ]
  },
  {
   "cell_type": "code",
   "execution_count": 94,
   "id": "023e1c66",
   "metadata": {
    "ExecuteTime": {
     "end_time": "2022-03-14T13:30:23.991033Z",
     "start_time": "2022-03-14T13:30:23.979509Z"
    }
   },
   "outputs": [
    {
     "name": "stdout",
     "output_type": "stream",
     "text": [
      "              precision    recall  f1-score   support\n",
      "\n",
      "           0       0.46      0.50      0.48       289\n",
      "           1       0.59      0.56      0.57       377\n",
      "\n",
      "    accuracy                           0.53       666\n",
      "   macro avg       0.53      0.53      0.53       666\n",
      "weighted avg       0.54      0.53      0.53       666\n",
      "\n"
     ]
    }
   ],
   "source": [
    "print(classification_report(y_test, y_hat_dt))"
   ]
  },
  {
   "cell_type": "markdown",
   "id": "5c1dbbb5",
   "metadata": {},
   "source": [
    "# 6.0 Ensemble "
   ]
  },
  {
   "cell_type": "code",
   "execution_count": 95,
   "id": "68ad6e89",
   "metadata": {
    "ExecuteTime": {
     "end_time": "2022-03-14T13:30:24.002393Z",
     "start_time": "2022-03-14T13:30:23.995513Z"
    }
   },
   "outputs": [],
   "source": [
    "eclf = VotingClassifier(estimators=[('logistic', clf_lg), ('xgb', clf_xgb), ('random_forest', clf_rf), ('naive_bayes', clf_gb), ('decision_tree', clf_dt)], voting='hard')"
   ]
  },
  {
   "cell_type": "code",
   "execution_count": 96,
   "id": "26518993",
   "metadata": {
    "ExecuteTime": {
     "end_time": "2022-03-14T13:30:52.073727Z",
     "start_time": "2022-03-14T13:30:24.004992Z"
    }
   },
   "outputs": [
    {
     "name": "stderr",
     "output_type": "stream",
     "text": [
      "/home/mahelvson/anaconda3/envs/foot/lib/python3.9/site-packages/sklearn/linear_model/_logistic.py:814: ConvergenceWarning: lbfgs failed to converge (status=1):\n",
      "STOP: TOTAL NO. of ITERATIONS REACHED LIMIT.\n",
      "\n",
      "Increase the number of iterations (max_iter) or scale the data as shown in:\n",
      "    https://scikit-learn.org/stable/modules/preprocessing.html\n",
      "Please also refer to the documentation for alternative solver options:\n",
      "    https://scikit-learn.org/stable/modules/linear_model.html#logistic-regression\n",
      "  n_iter_i = _check_optimize_result(\n",
      "/home/mahelvson/anaconda3/envs/foot/lib/python3.9/site-packages/sklearn/linear_model/_logistic.py:814: ConvergenceWarning: lbfgs failed to converge (status=1):\n",
      "STOP: TOTAL NO. of ITERATIONS REACHED LIMIT.\n",
      "\n",
      "Increase the number of iterations (max_iter) or scale the data as shown in:\n",
      "    https://scikit-learn.org/stable/modules/preprocessing.html\n",
      "Please also refer to the documentation for alternative solver options:\n",
      "    https://scikit-learn.org/stable/modules/linear_model.html#logistic-regression\n",
      "  n_iter_i = _check_optimize_result(\n",
      "/home/mahelvson/anaconda3/envs/foot/lib/python3.9/site-packages/sklearn/linear_model/_logistic.py:814: ConvergenceWarning: lbfgs failed to converge (status=1):\n",
      "STOP: TOTAL NO. of ITERATIONS REACHED LIMIT.\n",
      "\n",
      "Increase the number of iterations (max_iter) or scale the data as shown in:\n",
      "    https://scikit-learn.org/stable/modules/preprocessing.html\n",
      "Please also refer to the documentation for alternative solver options:\n",
      "    https://scikit-learn.org/stable/modules/linear_model.html#logistic-regression\n",
      "  n_iter_i = _check_optimize_result(\n",
      "/home/mahelvson/anaconda3/envs/foot/lib/python3.9/site-packages/sklearn/linear_model/_logistic.py:814: ConvergenceWarning: lbfgs failed to converge (status=1):\n",
      "STOP: TOTAL NO. of ITERATIONS REACHED LIMIT.\n",
      "\n",
      "Increase the number of iterations (max_iter) or scale the data as shown in:\n",
      "    https://scikit-learn.org/stable/modules/preprocessing.html\n",
      "Please also refer to the documentation for alternative solver options:\n",
      "    https://scikit-learn.org/stable/modules/linear_model.html#logistic-regression\n",
      "  n_iter_i = _check_optimize_result(\n",
      "/home/mahelvson/anaconda3/envs/foot/lib/python3.9/site-packages/sklearn/linear_model/_logistic.py:814: ConvergenceWarning: lbfgs failed to converge (status=1):\n",
      "STOP: TOTAL NO. of ITERATIONS REACHED LIMIT.\n",
      "\n",
      "Increase the number of iterations (max_iter) or scale the data as shown in:\n",
      "    https://scikit-learn.org/stable/modules/preprocessing.html\n",
      "Please also refer to the documentation for alternative solver options:\n",
      "    https://scikit-learn.org/stable/modules/linear_model.html#logistic-regression\n",
      "  n_iter_i = _check_optimize_result(\n",
      "/home/mahelvson/anaconda3/envs/foot/lib/python3.9/site-packages/xgboost/sklearn.py:1224: UserWarning: The use of label encoder in XGBClassifier is deprecated and will be removed in a future release. To remove this warning, do the following: 1) Pass option use_label_encoder=False when constructing XGBClassifier object; and 2) Encode your labels (y) as integers starting with 0, i.e. 0, 1, 2, ..., [num_class - 1].\n",
      "  warnings.warn(label_encoder_deprecation_msg, UserWarning)\n",
      "/home/mahelvson/anaconda3/envs/foot/lib/python3.9/site-packages/xgboost/data.py:250: FutureWarning: pandas.Int64Index is deprecated and will be removed from pandas in a future version. Use pandas.Index with the appropriate dtype instead.\n",
      "  elif isinstance(data.columns, (pd.Int64Index, pd.RangeIndex)):\n"
     ]
    },
    {
     "name": "stdout",
     "output_type": "stream",
     "text": [
      "Accuracy: 0.55 (+/- 0.02) [logistic]\n",
      "[10:30:25] WARNING: ../src/learner.cc:1115: Starting in XGBoost 1.3.0, the default evaluation metric used with the objective 'binary:logistic' was changed from 'error' to 'logloss'. Explicitly set eval_metric if you'd like to restore the old behavior.\n"
     ]
    },
    {
     "name": "stderr",
     "output_type": "stream",
     "text": [
      "/home/mahelvson/anaconda3/envs/foot/lib/python3.9/site-packages/xgboost/sklearn.py:1224: UserWarning: The use of label encoder in XGBClassifier is deprecated and will be removed in a future release. To remove this warning, do the following: 1) Pass option use_label_encoder=False when constructing XGBClassifier object; and 2) Encode your labels (y) as integers starting with 0, i.e. 0, 1, 2, ..., [num_class - 1].\n",
      "  warnings.warn(label_encoder_deprecation_msg, UserWarning)\n",
      "/home/mahelvson/anaconda3/envs/foot/lib/python3.9/site-packages/xgboost/data.py:250: FutureWarning: pandas.Int64Index is deprecated and will be removed from pandas in a future version. Use pandas.Index with the appropriate dtype instead.\n",
      "  elif isinstance(data.columns, (pd.Int64Index, pd.RangeIndex)):\n"
     ]
    },
    {
     "name": "stdout",
     "output_type": "stream",
     "text": [
      "[10:30:28] WARNING: ../src/learner.cc:1115: Starting in XGBoost 1.3.0, the default evaluation metric used with the objective 'binary:logistic' was changed from 'error' to 'logloss'. Explicitly set eval_metric if you'd like to restore the old behavior.\n"
     ]
    },
    {
     "name": "stderr",
     "output_type": "stream",
     "text": [
      "/home/mahelvson/anaconda3/envs/foot/lib/python3.9/site-packages/xgboost/sklearn.py:1224: UserWarning: The use of label encoder in XGBClassifier is deprecated and will be removed in a future release. To remove this warning, do the following: 1) Pass option use_label_encoder=False when constructing XGBClassifier object; and 2) Encode your labels (y) as integers starting with 0, i.e. 0, 1, 2, ..., [num_class - 1].\n",
      "  warnings.warn(label_encoder_deprecation_msg, UserWarning)\n",
      "/home/mahelvson/anaconda3/envs/foot/lib/python3.9/site-packages/xgboost/data.py:250: FutureWarning: pandas.Int64Index is deprecated and will be removed from pandas in a future version. Use pandas.Index with the appropriate dtype instead.\n",
      "  elif isinstance(data.columns, (pd.Int64Index, pd.RangeIndex)):\n"
     ]
    },
    {
     "name": "stdout",
     "output_type": "stream",
     "text": [
      "[10:30:30] WARNING: ../src/learner.cc:1115: Starting in XGBoost 1.3.0, the default evaluation metric used with the objective 'binary:logistic' was changed from 'error' to 'logloss'. Explicitly set eval_metric if you'd like to restore the old behavior.\n"
     ]
    },
    {
     "name": "stderr",
     "output_type": "stream",
     "text": [
      "/home/mahelvson/anaconda3/envs/foot/lib/python3.9/site-packages/xgboost/sklearn.py:1224: UserWarning: The use of label encoder in XGBClassifier is deprecated and will be removed in a future release. To remove this warning, do the following: 1) Pass option use_label_encoder=False when constructing XGBClassifier object; and 2) Encode your labels (y) as integers starting with 0, i.e. 0, 1, 2, ..., [num_class - 1].\n",
      "  warnings.warn(label_encoder_deprecation_msg, UserWarning)\n",
      "/home/mahelvson/anaconda3/envs/foot/lib/python3.9/site-packages/xgboost/data.py:250: FutureWarning: pandas.Int64Index is deprecated and will be removed from pandas in a future version. Use pandas.Index with the appropriate dtype instead.\n",
      "  elif isinstance(data.columns, (pd.Int64Index, pd.RangeIndex)):\n"
     ]
    },
    {
     "name": "stdout",
     "output_type": "stream",
     "text": [
      "[10:30:32] WARNING: ../src/learner.cc:1115: Starting in XGBoost 1.3.0, the default evaluation metric used with the objective 'binary:logistic' was changed from 'error' to 'logloss'. Explicitly set eval_metric if you'd like to restore the old behavior.\n"
     ]
    },
    {
     "name": "stderr",
     "output_type": "stream",
     "text": [
      "/home/mahelvson/anaconda3/envs/foot/lib/python3.9/site-packages/xgboost/sklearn.py:1224: UserWarning: The use of label encoder in XGBClassifier is deprecated and will be removed in a future release. To remove this warning, do the following: 1) Pass option use_label_encoder=False when constructing XGBClassifier object; and 2) Encode your labels (y) as integers starting with 0, i.e. 0, 1, 2, ..., [num_class - 1].\n",
      "  warnings.warn(label_encoder_deprecation_msg, UserWarning)\n",
      "/home/mahelvson/anaconda3/envs/foot/lib/python3.9/site-packages/xgboost/data.py:250: FutureWarning: pandas.Int64Index is deprecated and will be removed from pandas in a future version. Use pandas.Index with the appropriate dtype instead.\n",
      "  elif isinstance(data.columns, (pd.Int64Index, pd.RangeIndex)):\n"
     ]
    },
    {
     "name": "stdout",
     "output_type": "stream",
     "text": [
      "[10:30:34] WARNING: ../src/learner.cc:1115: Starting in XGBoost 1.3.0, the default evaluation metric used with the objective 'binary:logistic' was changed from 'error' to 'logloss'. Explicitly set eval_metric if you'd like to restore the old behavior.\n",
      "Accuracy: 0.55 (+/- 0.02) [xgb]\n",
      "Accuracy: 0.53 (+/- 0.01) [random_forest]\n",
      "Accuracy: 0.54 (+/- 0.03) [naive_bayes]\n",
      "Accuracy: 0.51 (+/- 0.02) [decision_tree]\n"
     ]
    }
   ],
   "source": [
    "for clf, label in zip([clf_lg, clf_xgb, clf_rf, clf_gb, clf_dt], ['logistic', 'xgb', 'random_forest', 'naive_bayes', 'decision_tree' ]):\n",
    "    scores = cross_val_score(clf, X, y, scoring='accuracy', cv=5)\n",
    "    print(\"Accuracy: %0.2f (+/- %0.2f) [%s]\" % (scores.mean(), scores.std(), label))"
   ]
  },
  {
   "cell_type": "code",
   "execution_count": 97,
   "id": "f7b6ae5a",
   "metadata": {
    "ExecuteTime": {
     "end_time": "2022-03-14T13:30:55.925627Z",
     "start_time": "2022-03-14T13:30:52.075827Z"
    }
   },
   "outputs": [
    {
     "name": "stderr",
     "output_type": "stream",
     "text": [
      "/home/mahelvson/anaconda3/envs/foot/lib/python3.9/site-packages/sklearn/linear_model/_logistic.py:814: ConvergenceWarning: lbfgs failed to converge (status=1):\n",
      "STOP: TOTAL NO. of ITERATIONS REACHED LIMIT.\n",
      "\n",
      "Increase the number of iterations (max_iter) or scale the data as shown in:\n",
      "    https://scikit-learn.org/stable/modules/preprocessing.html\n",
      "Please also refer to the documentation for alternative solver options:\n",
      "    https://scikit-learn.org/stable/modules/linear_model.html#logistic-regression\n",
      "  n_iter_i = _check_optimize_result(\n",
      "/home/mahelvson/anaconda3/envs/foot/lib/python3.9/site-packages/xgboost/sklearn.py:1224: UserWarning: The use of label encoder in XGBClassifier is deprecated and will be removed in a future release. To remove this warning, do the following: 1) Pass option use_label_encoder=False when constructing XGBClassifier object; and 2) Encode your labels (y) as integers starting with 0, i.e. 0, 1, 2, ..., [num_class - 1].\n",
      "  warnings.warn(label_encoder_deprecation_msg, UserWarning)\n",
      "/home/mahelvson/anaconda3/envs/foot/lib/python3.9/site-packages/xgboost/data.py:250: FutureWarning: pandas.Int64Index is deprecated and will be removed from pandas in a future version. Use pandas.Index with the appropriate dtype instead.\n",
      "  elif isinstance(data.columns, (pd.Int64Index, pd.RangeIndex)):\n"
     ]
    },
    {
     "name": "stdout",
     "output_type": "stream",
     "text": [
      "[10:30:53] WARNING: ../src/learner.cc:1115: Starting in XGBoost 1.3.0, the default evaluation metric used with the objective 'binary:logistic' was changed from 'error' to 'logloss'. Explicitly set eval_metric if you'd like to restore the old behavior.\n"
     ]
    }
   ],
   "source": [
    "eclf = VotingClassifier(estimators=[('logistic', clf_lg), ('xgb', clf_xgb), ('random_forest', clf_rf), ('naive_bayes', clf_gb), ('decision_tree', clf_dt)], voting='hard').fit(X_train, y_train)"
   ]
  },
  {
   "cell_type": "code",
   "execution_count": 98,
   "id": "547ed177",
   "metadata": {
    "ExecuteTime": {
     "end_time": "2022-03-14T13:30:56.437693Z",
     "start_time": "2022-03-14T13:30:55.927071Z"
    }
   },
   "outputs": [],
   "source": [
    "y_hat_eclf = eclf.predict(X_test)"
   ]
  },
  {
   "cell_type": "code",
   "execution_count": 99,
   "id": "28650a33",
   "metadata": {
    "ExecuteTime": {
     "end_time": "2022-03-14T13:30:56.444349Z",
     "start_time": "2022-03-14T13:30:56.439260Z"
    },
    "scrolled": true
   },
   "outputs": [
    {
     "data": {
      "text/plain": [
       "0.575075075075075"
      ]
     },
     "execution_count": 99,
     "metadata": {},
     "output_type": "execute_result"
    }
   ],
   "source": [
    "accuracy_score(y_test, y_hat_eclf)"
   ]
  },
  {
   "cell_type": "code",
   "execution_count": 100,
   "id": "05b25b6e",
   "metadata": {
    "ExecuteTime": {
     "end_time": "2022-03-14T13:30:56.584238Z",
     "start_time": "2022-03-14T13:30:56.445770Z"
    }
   },
   "outputs": [
    {
     "data": {
      "image/png": "[encoded data removed]",
      "text/plain": [
       "<Figure size 432x288 with 2 Axes>"
      ]
     },
     "metadata": {
      "needs_background": "light"
     },
     "output_type": "display_data"
    }
   ],
   "source": [
    "sns.heatmap(confusion_matrix(y_test, y_hat_eclf, normalize='true'), annot=True, );"
   ]
  },
  {
   "cell_type": "code",
   "execution_count": 101,
   "id": "4349e38c",
   "metadata": {
    "ExecuteTime": {
     "end_time": "2022-03-14T13:30:56.596165Z",
     "start_time": "2022-03-14T13:30:56.587753Z"
    }
   },
   "outputs": [
    {
     "name": "stdout",
     "output_type": "stream",
     "text": [
      "              precision    recall  f1-score   support\n",
      "\n",
      "           0       0.53      0.20      0.29       289\n",
      "           1       0.58      0.86      0.70       377\n",
      "\n",
      "    accuracy                           0.58       666\n",
      "   macro avg       0.56      0.53      0.49       666\n",
      "weighted avg       0.56      0.58      0.52       666\n",
      "\n"
     ]
    }
   ],
   "source": [
    "print(classification_report(y_test, y_hat_eclf))"
   ]
  },
  {
   "cell_type": "code",
   "execution_count": null,
   "id": "e761ada0",
   "metadata": {},
   "outputs": [],
   "source": []
  },
  {
   "cell_type": "code",
   "execution_count": null,
   "id": "785d58b1",
   "metadata": {},
   "outputs": [],
   "source": []
  },
  {
   "cell_type": "code",
   "execution_count": null,
   "id": "0b855c5c",
   "metadata": {},
   "outputs": [],
   "source": []
  }
 ],
 "metadata": {
  "kernelspec": {
   "display_name": "Python 3 (ipykernel)",
   "language": "python",
   "name": "python3"
  },
  "language_info": {
   "codemirror_mode": {
    "name": "ipython",
    "version": 3
   },
   "file_extension": ".py",
   "mimetype": "text/x-python",
   "name": "python",
   "nbconvert_exporter": "python",
   "pygments_lexer": "ipython3",
   "version": "3.9.7"
  }
 },
 "nbformat": 4,
 "nbformat_minor": 5
}
