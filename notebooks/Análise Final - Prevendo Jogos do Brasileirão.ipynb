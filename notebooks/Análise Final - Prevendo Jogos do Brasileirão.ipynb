{
 "cells": [
  {
   "cell_type": "markdown",
   "id": "3bdebc5a",
   "metadata": {},
   "source": [
    "# 0. Imports "
   ]
  },
  {
   "cell_type": "code",
   "execution_count": 119,
   "id": "1b2013bd",
   "metadata": {
    "ExecuteTime": {
     "end_time": "2022-04-05T14:03:37.981366Z",
     "start_time": "2022-04-05T14:03:37.968763Z"
    }
   },
   "outputs": [],
   "source": [
    "import math\n",
    "import random\n",
    "import pickle\n",
    "\n",
    "import pandas as pd\n",
    "import numpy as np\n",
    "import matplotlib.pyplot as plt\n",
    "import seaborn as sns\n",
    "import xgboost as xgb\n",
    "import statsmodels.api as sm\n",
    "\n",
    "from os import listdir\n",
    "from sklearn.model_selection import train_test_split, cross_val_score\n",
    "from sklearn.metrics import confusion_matrix, accuracy_score, classification_report\n",
    "from sklearn.ensemble import RandomForestRegressor, RandomForestClassifier\n",
    "from sklearn.metrics import mean_absolute_error, mean_squared_error, mean_absolute_percentage_error\n",
    "from sklearn.linear_model import LogisticRegression\n",
    "from sklearn.preprocessing import LabelEncoder, StandardScaler\n",
    "from sklearn import svm, tree\n",
    "from sklearn.naive_bayes import GaussianNB\n",
    "from sklearn.linear_model import SGDClassifier\n",
    "from sklearn.ensemble import VotingClassifier\n",
    "from sklearn.neural_network import MLPClassifier\n",
    "\n",
    "from boruta import BorutaPy\n",
    "from imblearn.under_sampling import RandomUnderSampler\n",
    "from imblearn.over_sampling import RandomOverSampler\n"
   ]
  },
  {
   "cell_type": "markdown",
   "id": "d0053fb9",
   "metadata": {},
   "source": [
    "# 1.0 Data Loading "
   ]
  },
  {
   "cell_type": "code",
   "execution_count": 2,
   "id": "83cd7a65",
   "metadata": {
    "ExecuteTime": {
     "end_time": "2022-04-05T13:44:08.732904Z",
     "start_time": "2022-04-05T13:44:08.725761Z"
    }
   },
   "outputs": [],
   "source": [
    "data_path = '../datasets/'\n",
    "files = listdir(data_path)\n",
    "\n",
    "full = files[1]\n",
    "stats = files[2]"
   ]
  },
  {
   "cell_type": "markdown",
   "id": "f2d8f1d1",
   "metadata": {},
   "source": [
    "## 1.1 Partidas"
   ]
  },
  {
   "cell_type": "code",
   "execution_count": 3,
   "id": "0e786f69",
   "metadata": {
    "ExecuteTime": {
     "end_time": "2022-04-05T13:44:08.787892Z",
     "start_time": "2022-04-05T13:44:08.734559Z"
    }
   },
   "outputs": [
    {
     "data": {
      "text/html": [
       "<div>\n",
       "<style scoped>\n",
       "    .dataframe tbody tr th:only-of-type {\n",
       "        vertical-align: middle;\n",
       "    }\n",
       "\n",
       "    .dataframe tbody tr th {\n",
       "        vertical-align: top;\n",
       "    }\n",
       "\n",
       "    .dataframe thead th {\n",
       "        text-align: right;\n",
       "    }\n",
       "</style>\n",
       "<table border=\"1\" class=\"dataframe\">\n",
       "  <thead>\n",
       "    <tr style=\"text-align: right;\">\n",
       "      <th></th>\n",
       "      <th>ID</th>\n",
       "      <th>rodada</th>\n",
       "      <th>data</th>\n",
       "      <th>hora</th>\n",
       "      <th>dia</th>\n",
       "      <th>mandante</th>\n",
       "      <th>visitante</th>\n",
       "      <th>formacao_mandante</th>\n",
       "      <th>formacao_visitante</th>\n",
       "      <th>tecnico_mandante</th>\n",
       "      <th>tecnico_visitante</th>\n",
       "      <th>vencedor</th>\n",
       "      <th>arena</th>\n",
       "      <th>mandante_placar</th>\n",
       "      <th>visitante_placar</th>\n",
       "      <th>mandante_estado</th>\n",
       "      <th>visitante_estado</th>\n",
       "      <th>estado_vencedor</th>\n",
       "    </tr>\n",
       "  </thead>\n",
       "  <tbody>\n",
       "    <tr>\n",
       "      <th>0</th>\n",
       "      <td>1</td>\n",
       "      <td>1</td>\n",
       "      <td>2003-03-29</td>\n",
       "      <td>16:00</td>\n",
       "      <td>Sabado</td>\n",
       "      <td>Guarani</td>\n",
       "      <td>Vasco</td>\n",
       "      <td>NaN</td>\n",
       "      <td>NaN</td>\n",
       "      <td>NaN</td>\n",
       "      <td>NaN</td>\n",
       "      <td>Guarani</td>\n",
       "      <td>brinco de ouro</td>\n",
       "      <td>4</td>\n",
       "      <td>2</td>\n",
       "      <td>SP</td>\n",
       "      <td>RJ</td>\n",
       "      <td>SP</td>\n",
       "    </tr>\n",
       "    <tr>\n",
       "      <th>1</th>\n",
       "      <td>2</td>\n",
       "      <td>1</td>\n",
       "      <td>2003-03-29</td>\n",
       "      <td>16:00</td>\n",
       "      <td>Sabado</td>\n",
       "      <td>Athletico-PR</td>\n",
       "      <td>Gremio</td>\n",
       "      <td>NaN</td>\n",
       "      <td>NaN</td>\n",
       "      <td>NaN</td>\n",
       "      <td>NaN</td>\n",
       "      <td>Athletico-PR</td>\n",
       "      <td>arena da baixada</td>\n",
       "      <td>2</td>\n",
       "      <td>0</td>\n",
       "      <td>PR</td>\n",
       "      <td>RS</td>\n",
       "      <td>PR</td>\n",
       "    </tr>\n",
       "    <tr>\n",
       "      <th>2</th>\n",
       "      <td>3</td>\n",
       "      <td>1</td>\n",
       "      <td>2003-03-30</td>\n",
       "      <td>16:00</td>\n",
       "      <td>Domingo</td>\n",
       "      <td>Flamengo</td>\n",
       "      <td>Coritiba</td>\n",
       "      <td>NaN</td>\n",
       "      <td>NaN</td>\n",
       "      <td>NaN</td>\n",
       "      <td>NaN</td>\n",
       "      <td>-</td>\n",
       "      <td>maracana</td>\n",
       "      <td>1</td>\n",
       "      <td>1</td>\n",
       "      <td>RJ</td>\n",
       "      <td>PR</td>\n",
       "      <td>-</td>\n",
       "    </tr>\n",
       "    <tr>\n",
       "      <th>3</th>\n",
       "      <td>4</td>\n",
       "      <td>1</td>\n",
       "      <td>2003-03-30</td>\n",
       "      <td>16:00</td>\n",
       "      <td>Domingo</td>\n",
       "      <td>Goias</td>\n",
       "      <td>Paysandu</td>\n",
       "      <td>NaN</td>\n",
       "      <td>NaN</td>\n",
       "      <td>NaN</td>\n",
       "      <td>NaN</td>\n",
       "      <td>-</td>\n",
       "      <td>serra dourada</td>\n",
       "      <td>2</td>\n",
       "      <td>2</td>\n",
       "      <td>GO</td>\n",
       "      <td>PA</td>\n",
       "      <td>-</td>\n",
       "    </tr>\n",
       "    <tr>\n",
       "      <th>4</th>\n",
       "      <td>5</td>\n",
       "      <td>1</td>\n",
       "      <td>2003-03-30</td>\n",
       "      <td>16:00</td>\n",
       "      <td>Domingo</td>\n",
       "      <td>Internacional</td>\n",
       "      <td>Ponte Preta</td>\n",
       "      <td>NaN</td>\n",
       "      <td>NaN</td>\n",
       "      <td>NaN</td>\n",
       "      <td>NaN</td>\n",
       "      <td>-</td>\n",
       "      <td>beira rio</td>\n",
       "      <td>1</td>\n",
       "      <td>1</td>\n",
       "      <td>RS</td>\n",
       "      <td>SP</td>\n",
       "      <td>-</td>\n",
       "    </tr>\n",
       "  </tbody>\n",
       "</table>\n",
       "</div>"
      ],
      "text/plain": [
       "   ID  rodada        data   hora      dia       mandante    visitante  \\\n",
       "0   1       1  2003-03-29  16:00   Sabado        Guarani        Vasco   \n",
       "1   2       1  2003-03-29  16:00   Sabado   Athletico-PR       Gremio   \n",
       "2   3       1  2003-03-30  16:00  Domingo       Flamengo     Coritiba   \n",
       "3   4       1  2003-03-30  16:00  Domingo          Goias     Paysandu   \n",
       "4   5       1  2003-03-30  16:00  Domingo  Internacional  Ponte Preta   \n",
       "\n",
       "  formacao_mandante formacao_visitante tecnico_mandante tecnico_visitante  \\\n",
       "0               NaN                NaN              NaN               NaN   \n",
       "1               NaN                NaN              NaN               NaN   \n",
       "2               NaN                NaN              NaN               NaN   \n",
       "3               NaN                NaN              NaN               NaN   \n",
       "4               NaN                NaN              NaN               NaN   \n",
       "\n",
       "       vencedor             arena  mandante_placar  visitante_placar  \\\n",
       "0       Guarani    brinco de ouro                4                 2   \n",
       "1  Athletico-PR  arena da baixada                2                 0   \n",
       "2             -          maracana                1                 1   \n",
       "3             -     serra dourada                2                 2   \n",
       "4             -         beira rio                1                 1   \n",
       "\n",
       "  mandante_estado visitante_estado estado_vencedor  \n",
       "0              SP               RJ              SP  \n",
       "1              PR               RS              PR  \n",
       "2              RJ               PR               -  \n",
       "3              GO               PA               -  \n",
       "4              RS               SP               -  "
      ]
     },
     "execution_count": 3,
     "metadata": {},
     "output_type": "execute_result"
    }
   ],
   "source": [
    "df_full = pd.read_csv(data_path + full)\n",
    "df_full.head()"
   ]
  },
  {
   "cell_type": "code",
   "execution_count": 4,
   "id": "626a8cd1",
   "metadata": {
    "ExecuteTime": {
     "end_time": "2022-04-05T13:44:08.796373Z",
     "start_time": "2022-04-05T13:44:08.793045Z"
    }
   },
   "outputs": [
    {
     "name": "stdout",
     "output_type": "stream",
     "text": [
      "O número de linhas (exemplos) é 7645 e de colunas (atributos) é 18.\n"
     ]
    }
   ],
   "source": [
    "print(f'O número de linhas (exemplos) é {df_full.shape[0]} e de colunas (atributos) é {df_full.shape[1]}.')"
   ]
  },
  {
   "cell_type": "code",
   "execution_count": 5,
   "id": "8fbaeaa0",
   "metadata": {
    "ExecuteTime": {
     "end_time": "2022-04-05T13:44:08.806761Z",
     "start_time": "2022-04-05T13:44:08.798064Z"
    }
   },
   "outputs": [
    {
     "data": {
      "text/plain": [
       "ID                     int64\n",
       "rodada                 int64\n",
       "data                  object\n",
       "hora                  object\n",
       "dia                   object\n",
       "mandante              object\n",
       "visitante             object\n",
       "formacao_mandante     object\n",
       "formacao_visitante    object\n",
       "tecnico_mandante      object\n",
       "tecnico_visitante     object\n",
       "vencedor              object\n",
       "arena                 object\n",
       "mandante_placar        int64\n",
       "visitante_placar       int64\n",
       "mandante_estado       object\n",
       "visitante_estado      object\n",
       "estado_vencedor       object\n",
       "dtype: object"
      ]
     },
     "execution_count": 5,
     "metadata": {},
     "output_type": "execute_result"
    }
   ],
   "source": [
    "df_full.dtypes"
   ]
  },
  {
   "cell_type": "markdown",
   "id": "d4d204fc",
   "metadata": {},
   "source": [
    "## 1.2  Estatísticas"
   ]
  },
  {
   "cell_type": "code",
   "execution_count": 6,
   "id": "2b0f65b6",
   "metadata": {
    "ExecuteTime": {
     "end_time": "2022-04-05T13:44:08.842657Z",
     "start_time": "2022-04-05T13:44:08.810216Z"
    }
   },
   "outputs": [
    {
     "data": {
      "text/html": [
       "<div>\n",
       "<style scoped>\n",
       "    .dataframe tbody tr th:only-of-type {\n",
       "        vertical-align: middle;\n",
       "    }\n",
       "\n",
       "    .dataframe tbody tr th {\n",
       "        vertical-align: top;\n",
       "    }\n",
       "\n",
       "    .dataframe thead th {\n",
       "        text-align: right;\n",
       "    }\n",
       "</style>\n",
       "<table border=\"1\" class=\"dataframe\">\n",
       "  <thead>\n",
       "    <tr style=\"text-align: right;\">\n",
       "      <th></th>\n",
       "      <th>partida_id</th>\n",
       "      <th>rodada</th>\n",
       "      <th>clube</th>\n",
       "      <th>chutes</th>\n",
       "      <th>chutes_no_alvo</th>\n",
       "      <th>posse_de_bola</th>\n",
       "      <th>passes</th>\n",
       "      <th>precisao_passes</th>\n",
       "      <th>faltas</th>\n",
       "      <th>cartao_amarelo</th>\n",
       "      <th>cartao_vermelho</th>\n",
       "      <th>impedimentos</th>\n",
       "      <th>escanteios</th>\n",
       "    </tr>\n",
       "  </thead>\n",
       "  <tbody>\n",
       "    <tr>\n",
       "      <th>0</th>\n",
       "      <td>1</td>\n",
       "      <td>1</td>\n",
       "      <td>Guarani</td>\n",
       "      <td>0</td>\n",
       "      <td>0</td>\n",
       "      <td>NaN</td>\n",
       "      <td>0</td>\n",
       "      <td>NaN</td>\n",
       "      <td>0</td>\n",
       "      <td>0</td>\n",
       "      <td>0</td>\n",
       "      <td>0</td>\n",
       "      <td>0</td>\n",
       "    </tr>\n",
       "    <tr>\n",
       "      <th>1</th>\n",
       "      <td>1</td>\n",
       "      <td>1</td>\n",
       "      <td>Vasco</td>\n",
       "      <td>0</td>\n",
       "      <td>0</td>\n",
       "      <td>NaN</td>\n",
       "      <td>0</td>\n",
       "      <td>NaN</td>\n",
       "      <td>0</td>\n",
       "      <td>0</td>\n",
       "      <td>0</td>\n",
       "      <td>0</td>\n",
       "      <td>0</td>\n",
       "    </tr>\n",
       "    <tr>\n",
       "      <th>2</th>\n",
       "      <td>2</td>\n",
       "      <td>1</td>\n",
       "      <td>Athletico-PR</td>\n",
       "      <td>0</td>\n",
       "      <td>0</td>\n",
       "      <td>NaN</td>\n",
       "      <td>0</td>\n",
       "      <td>NaN</td>\n",
       "      <td>0</td>\n",
       "      <td>0</td>\n",
       "      <td>0</td>\n",
       "      <td>0</td>\n",
       "      <td>0</td>\n",
       "    </tr>\n",
       "    <tr>\n",
       "      <th>3</th>\n",
       "      <td>2</td>\n",
       "      <td>1</td>\n",
       "      <td>Gremio</td>\n",
       "      <td>0</td>\n",
       "      <td>0</td>\n",
       "      <td>NaN</td>\n",
       "      <td>0</td>\n",
       "      <td>NaN</td>\n",
       "      <td>0</td>\n",
       "      <td>0</td>\n",
       "      <td>0</td>\n",
       "      <td>0</td>\n",
       "      <td>0</td>\n",
       "    </tr>\n",
       "    <tr>\n",
       "      <th>4</th>\n",
       "      <td>3</td>\n",
       "      <td>1</td>\n",
       "      <td>Flamengo</td>\n",
       "      <td>0</td>\n",
       "      <td>0</td>\n",
       "      <td>NaN</td>\n",
       "      <td>0</td>\n",
       "      <td>NaN</td>\n",
       "      <td>0</td>\n",
       "      <td>0</td>\n",
       "      <td>0</td>\n",
       "      <td>0</td>\n",
       "      <td>0</td>\n",
       "    </tr>\n",
       "  </tbody>\n",
       "</table>\n",
       "</div>"
      ],
      "text/plain": [
       "   partida_id  rodada         clube  chutes  chutes_no_alvo posse_de_bola  \\\n",
       "0           1       1       Guarani       0               0           NaN   \n",
       "1           1       1         Vasco       0               0           NaN   \n",
       "2           2       1  Athletico-PR       0               0           NaN   \n",
       "3           2       1        Gremio       0               0           NaN   \n",
       "4           3       1      Flamengo       0               0           NaN   \n",
       "\n",
       "   passes precisao_passes  faltas  cartao_amarelo  cartao_vermelho  \\\n",
       "0       0             NaN       0               0                0   \n",
       "1       0             NaN       0               0                0   \n",
       "2       0             NaN       0               0                0   \n",
       "3       0             NaN       0               0                0   \n",
       "4       0             NaN       0               0                0   \n",
       "\n",
       "   impedimentos  escanteios  \n",
       "0             0           0  \n",
       "1             0           0  \n",
       "2             0           0  \n",
       "3             0           0  \n",
       "4             0           0  "
      ]
     },
     "execution_count": 6,
     "metadata": {},
     "output_type": "execute_result"
    }
   ],
   "source": [
    "df_stats = pd.read_csv(data_path + stats)\n",
    "df_stats.head()"
   ]
  },
  {
   "cell_type": "code",
   "execution_count": 7,
   "id": "07b6c089",
   "metadata": {
    "ExecuteTime": {
     "end_time": "2022-04-05T13:44:08.847556Z",
     "start_time": "2022-04-05T13:44:08.844386Z"
    }
   },
   "outputs": [
    {
     "name": "stdout",
     "output_type": "stream",
     "text": [
      "O número de linhas (exemplos) é 15290 e de colunas (atributos) é 13.\n"
     ]
    }
   ],
   "source": [
    "print(f'O número de linhas (exemplos) é {df_stats.shape[0]} e de colunas (atributos) é {df_stats.shape[1]}.')"
   ]
  },
  {
   "cell_type": "code",
   "execution_count": 8,
   "id": "359a5e34",
   "metadata": {
    "ExecuteTime": {
     "end_time": "2022-04-05T13:44:08.856424Z",
     "start_time": "2022-04-05T13:44:08.849419Z"
    }
   },
   "outputs": [
    {
     "data": {
      "text/plain": [
       "partida_id          int64\n",
       "rodada              int64\n",
       "clube              object\n",
       "chutes              int64\n",
       "chutes_no_alvo      int64\n",
       "posse_de_bola      object\n",
       "passes              int64\n",
       "precisao_passes    object\n",
       "faltas              int64\n",
       "cartao_amarelo      int64\n",
       "cartao_vermelho     int64\n",
       "impedimentos        int64\n",
       "escanteios          int64\n",
       "dtype: object"
      ]
     },
     "execution_count": 8,
     "metadata": {},
     "output_type": "execute_result"
    }
   ],
   "source": [
    "df_stats.dtypes"
   ]
  },
  {
   "cell_type": "markdown",
   "id": "426cbc68",
   "metadata": {},
   "source": [
    "# 2.0 Data Cleaning "
   ]
  },
  {
   "cell_type": "code",
   "execution_count": 9,
   "id": "99068698",
   "metadata": {
    "ExecuteTime": {
     "end_time": "2022-04-05T13:44:08.862188Z",
     "start_time": "2022-04-05T13:44:08.857989Z"
    }
   },
   "outputs": [],
   "source": [
    "# uma copia para facilitar recuperar os dados\n",
    "df2_full = df_full.copy()\n",
    "df2_stats = df_stats.copy()"
   ]
  },
  {
   "cell_type": "markdown",
   "id": "95880ec3",
   "metadata": {},
   "source": [
    "## 2.1 Funções Úteis"
   ]
  },
  {
   "cell_type": "code",
   "execution_count": 10,
   "id": "145f3290",
   "metadata": {
    "ExecuteTime": {
     "end_time": "2022-04-05T13:44:08.868899Z",
     "start_time": "2022-04-05T13:44:08.865166Z"
    }
   },
   "outputs": [],
   "source": [
    "def season(row):\n",
    "    \"\"\"\n",
    "    Indica qual a temporada do campeonato, considerando o efeito da pandemia na temporada de 2020\n",
    "    \"\"\"\n",
    "    if row['data'] <= pd.to_datetime('2021-02-25', yearfirst=True):\n",
    "        if row['data'].year != 2021:\n",
    "            return row['data'].year\n",
    "        else:\n",
    "            return row['data'].year - 1\n",
    "    else:\n",
    "        return row['data'].year"
   ]
  },
  {
   "cell_type": "markdown",
   "id": "89d2fa0c",
   "metadata": {},
   "source": [
    "## 2.2  Dataframe de Partidas"
   ]
  },
  {
   "cell_type": "code",
   "execution_count": 11,
   "id": "41855210",
   "metadata": {
    "ExecuteTime": {
     "end_time": "2022-04-05T13:44:09.702687Z",
     "start_time": "2022-04-05T13:44:08.870440Z"
    }
   },
   "outputs": [
    {
     "data": {
      "text/html": [
       "<div>\n",
       "<style scoped>\n",
       "    .dataframe tbody tr th:only-of-type {\n",
       "        vertical-align: middle;\n",
       "    }\n",
       "\n",
       "    .dataframe tbody tr th {\n",
       "        vertical-align: top;\n",
       "    }\n",
       "\n",
       "    .dataframe thead th {\n",
       "        text-align: right;\n",
       "    }\n",
       "</style>\n",
       "<table border=\"1\" class=\"dataframe\">\n",
       "  <thead>\n",
       "    <tr style=\"text-align: right;\">\n",
       "      <th></th>\n",
       "      <th>ID</th>\n",
       "      <th>rodada</th>\n",
       "      <th>data</th>\n",
       "      <th>hora</th>\n",
       "      <th>temporada</th>\n",
       "      <th>dia</th>\n",
       "      <th>mandante</th>\n",
       "      <th>visitante</th>\n",
       "      <th>formacao_mandante</th>\n",
       "      <th>formacao_visitante</th>\n",
       "      <th>tecnico_mandante</th>\n",
       "      <th>tecnico_visitante</th>\n",
       "      <th>vencedor</th>\n",
       "      <th>arena</th>\n",
       "      <th>mandante_placar</th>\n",
       "      <th>visitante_placar</th>\n",
       "      <th>mandante_estado</th>\n",
       "      <th>visitante_estado</th>\n",
       "      <th>estado_vencedor</th>\n",
       "    </tr>\n",
       "  </thead>\n",
       "  <tbody>\n",
       "    <tr>\n",
       "      <th>0</th>\n",
       "      <td>1</td>\n",
       "      <td>1</td>\n",
       "      <td>2003-03-29</td>\n",
       "      <td>16:00</td>\n",
       "      <td>2003</td>\n",
       "      <td>Sabado</td>\n",
       "      <td>Guarani</td>\n",
       "      <td>Vasco</td>\n",
       "      <td>NaN</td>\n",
       "      <td>NaN</td>\n",
       "      <td>NaN</td>\n",
       "      <td>NaN</td>\n",
       "      <td>Guarani</td>\n",
       "      <td>brinco de ouro</td>\n",
       "      <td>4</td>\n",
       "      <td>2</td>\n",
       "      <td>SP</td>\n",
       "      <td>RJ</td>\n",
       "      <td>SP</td>\n",
       "    </tr>\n",
       "    <tr>\n",
       "      <th>1</th>\n",
       "      <td>2</td>\n",
       "      <td>1</td>\n",
       "      <td>2003-03-29</td>\n",
       "      <td>16:00</td>\n",
       "      <td>2003</td>\n",
       "      <td>Sabado</td>\n",
       "      <td>Athletico-PR</td>\n",
       "      <td>Gremio</td>\n",
       "      <td>NaN</td>\n",
       "      <td>NaN</td>\n",
       "      <td>NaN</td>\n",
       "      <td>NaN</td>\n",
       "      <td>Athletico-PR</td>\n",
       "      <td>arena da baixada</td>\n",
       "      <td>2</td>\n",
       "      <td>0</td>\n",
       "      <td>PR</td>\n",
       "      <td>RS</td>\n",
       "      <td>PR</td>\n",
       "    </tr>\n",
       "    <tr>\n",
       "      <th>2</th>\n",
       "      <td>3</td>\n",
       "      <td>1</td>\n",
       "      <td>2003-03-30</td>\n",
       "      <td>16:00</td>\n",
       "      <td>2003</td>\n",
       "      <td>Domingo</td>\n",
       "      <td>Flamengo</td>\n",
       "      <td>Coritiba</td>\n",
       "      <td>NaN</td>\n",
       "      <td>NaN</td>\n",
       "      <td>NaN</td>\n",
       "      <td>NaN</td>\n",
       "      <td>-</td>\n",
       "      <td>maracana</td>\n",
       "      <td>1</td>\n",
       "      <td>1</td>\n",
       "      <td>RJ</td>\n",
       "      <td>PR</td>\n",
       "      <td>-</td>\n",
       "    </tr>\n",
       "    <tr>\n",
       "      <th>3</th>\n",
       "      <td>4</td>\n",
       "      <td>1</td>\n",
       "      <td>2003-03-30</td>\n",
       "      <td>16:00</td>\n",
       "      <td>2003</td>\n",
       "      <td>Domingo</td>\n",
       "      <td>Goias</td>\n",
       "      <td>Paysandu</td>\n",
       "      <td>NaN</td>\n",
       "      <td>NaN</td>\n",
       "      <td>NaN</td>\n",
       "      <td>NaN</td>\n",
       "      <td>-</td>\n",
       "      <td>serra dourada</td>\n",
       "      <td>2</td>\n",
       "      <td>2</td>\n",
       "      <td>GO</td>\n",
       "      <td>PA</td>\n",
       "      <td>-</td>\n",
       "    </tr>\n",
       "    <tr>\n",
       "      <th>4</th>\n",
       "      <td>5</td>\n",
       "      <td>1</td>\n",
       "      <td>2003-03-30</td>\n",
       "      <td>16:00</td>\n",
       "      <td>2003</td>\n",
       "      <td>Domingo</td>\n",
       "      <td>Internacional</td>\n",
       "      <td>Ponte Preta</td>\n",
       "      <td>NaN</td>\n",
       "      <td>NaN</td>\n",
       "      <td>NaN</td>\n",
       "      <td>NaN</td>\n",
       "      <td>-</td>\n",
       "      <td>beira rio</td>\n",
       "      <td>1</td>\n",
       "      <td>1</td>\n",
       "      <td>RS</td>\n",
       "      <td>SP</td>\n",
       "      <td>-</td>\n",
       "    </tr>\n",
       "  </tbody>\n",
       "</table>\n",
       "</div>"
      ],
      "text/plain": [
       "   ID  rodada       data   hora  temporada      dia       mandante  \\\n",
       "0   1       1 2003-03-29  16:00       2003   Sabado        Guarani   \n",
       "1   2       1 2003-03-29  16:00       2003   Sabado   Athletico-PR   \n",
       "2   3       1 2003-03-30  16:00       2003  Domingo       Flamengo   \n",
       "3   4       1 2003-03-30  16:00       2003  Domingo          Goias   \n",
       "4   5       1 2003-03-30  16:00       2003  Domingo  Internacional   \n",
       "\n",
       "     visitante formacao_mandante formacao_visitante tecnico_mandante  \\\n",
       "0        Vasco               NaN                NaN              NaN   \n",
       "1       Gremio               NaN                NaN              NaN   \n",
       "2     Coritiba               NaN                NaN              NaN   \n",
       "3     Paysandu               NaN                NaN              NaN   \n",
       "4  Ponte Preta               NaN                NaN              NaN   \n",
       "\n",
       "  tecnico_visitante      vencedor             arena  mandante_placar  \\\n",
       "0               NaN       Guarani    brinco de ouro                4   \n",
       "1               NaN  Athletico-PR  arena da baixada                2   \n",
       "2               NaN             -          maracana                1   \n",
       "3               NaN             -     serra dourada                2   \n",
       "4               NaN             -         beira rio                1   \n",
       "\n",
       "   visitante_placar mandante_estado visitante_estado estado_vencedor  \n",
       "0                 2              SP               RJ              SP  \n",
       "1                 0              PR               RS              PR  \n",
       "2                 1              RJ               PR               -  \n",
       "3                 2              GO               PA               -  \n",
       "4                 1              RS               SP               -  "
      ]
     },
     "execution_count": 11,
     "metadata": {},
     "output_type": "execute_result"
    }
   ],
   "source": [
    "# indicando qual a temporada do campeonato\n",
    "df2_full.loc[:, 'data'] = pd.to_datetime(df2_full.data, yearfirst=True)    \n",
    "df2_full.insert(4, 'temporada', df2_full.apply(season, axis = 1))\n",
    "df2_full.head()"
   ]
  },
  {
   "cell_type": "code",
   "execution_count": 12,
   "id": "3764a856",
   "metadata": {
    "ExecuteTime": {
     "end_time": "2022-04-05T13:44:09.713840Z",
     "start_time": "2022-04-05T13:44:09.704533Z"
    }
   },
   "outputs": [
    {
     "data": {
      "text/plain": [
       "temporada\n",
       "2003    46\n",
       "2004    46\n",
       "2005    42\n",
       "2006    38\n",
       "2007    38\n",
       "2008    38\n",
       "2009    38\n",
       "2010    38\n",
       "2011    38\n",
       "2012    38\n",
       "2013    38\n",
       "2014    38\n",
       "2015    38\n",
       "2016    38\n",
       "2017    38\n",
       "2018    38\n",
       "2019    38\n",
       "2020    38\n",
       "2021    38\n",
       "Name: rodada, dtype: int64"
      ]
     },
     "execution_count": 12,
     "metadata": {},
     "output_type": "execute_result"
    }
   ],
   "source": [
    "df2_full.groupby('temporada')['rodada'].max()"
   ]
  },
  {
   "cell_type": "code",
   "execution_count": 13,
   "id": "54af2eb4",
   "metadata": {
    "ExecuteTime": {
     "end_time": "2022-04-05T13:44:09.720089Z",
     "start_time": "2022-04-05T13:44:09.715436Z"
    }
   },
   "outputs": [
    {
     "data": {
      "text/plain": [
       "temporada\n",
       "2003    552\n",
       "2004    552\n",
       "2005    462\n",
       "2006    380\n",
       "2007    380\n",
       "2008    380\n",
       "2009    380\n",
       "2010    380\n",
       "2011    380\n",
       "2012    380\n",
       "2013    380\n",
       "2014    380\n",
       "2015    380\n",
       "2016    379\n",
       "2017    380\n",
       "2018    380\n",
       "2019    380\n",
       "2020    380\n",
       "2021    380\n",
       "Name: rodada, dtype: int64"
      ]
     },
     "execution_count": 13,
     "metadata": {},
     "output_type": "execute_result"
    }
   ],
   "source": [
    "df2_full.groupby('temporada')['rodada'].count()"
   ]
  },
  {
   "cell_type": "markdown",
   "id": "e089ff83",
   "metadata": {},
   "source": [
    "<b> Constatações <b>\n",
    "- Em 2005 foram 42 rodadas com 11 jogos cada, pois era outro formato de campeonato; \n",
    "- A temporada 2016 teve um jogo a menos"
   ]
  },
  {
   "cell_type": "markdown",
   "id": "65a42edb",
   "metadata": {},
   "source": [
    "## 2.3 Dataframe de Estatísticas"
   ]
  },
  {
   "cell_type": "code",
   "execution_count": 14,
   "id": "2ee04d63",
   "metadata": {
    "ExecuteTime": {
     "end_time": "2022-04-05T13:44:09.725166Z",
     "start_time": "2022-04-05T13:44:09.721631Z"
    }
   },
   "outputs": [],
   "source": [
    "# renomeando a coluna para ficar compatível com df_full\n",
    "df2_stats = df2_stats.rename(columns = {'partida_id': 'ID'})"
   ]
  },
  {
   "cell_type": "code",
   "execution_count": 15,
   "id": "d0ec6879",
   "metadata": {
    "ExecuteTime": {
     "end_time": "2022-04-05T13:44:09.736084Z",
     "start_time": "2022-04-05T13:44:09.726730Z"
    }
   },
   "outputs": [],
   "source": [
    "# como df_stats2 nao tem a data, sera inlcuida\n",
    "df2_stats = pd.merge(df2_stats, df2_full[['ID','data']], on='ID')"
   ]
  },
  {
   "cell_type": "code",
   "execution_count": 16,
   "id": "c42ef82c",
   "metadata": {
    "ExecuteTime": {
     "end_time": "2022-04-05T13:44:11.362196Z",
     "start_time": "2022-04-05T13:44:09.737954Z"
    }
   },
   "outputs": [],
   "source": [
    "# incluindo a temporada\n",
    "df2_stats.loc[:, 'temporada'] = df2_stats.apply(season, axis = 1)"
   ]
  },
  {
   "cell_type": "code",
   "execution_count": 17,
   "id": "36a2401f",
   "metadata": {
    "ExecuteTime": {
     "end_time": "2022-04-05T13:44:11.371138Z",
     "start_time": "2022-04-05T13:44:11.364228Z"
    }
   },
   "outputs": [],
   "source": [
    "columns_new_order = ['ID',\n",
    "                     'temporada',\n",
    "                     'rodada',\n",
    "                     'data',\n",
    "                     'clube',\n",
    "                     'chutes',                     \n",
    "                     'chutes_no_alvo',\n",
    "                     'posse_de_bola',\n",
    "                     'passes',\n",
    "                     'precisao_passes',\n",
    "                     'faltas',\n",
    "                     'cartao_amarelo',\n",
    "                     'cartao_vermelho',\n",
    "                     'impedimentos',\n",
    "                     'escanteios']\n",
    "df2_stats = df2_stats[columns_new_order]"
   ]
  },
  {
   "cell_type": "code",
   "execution_count": 18,
   "id": "faeb6218",
   "metadata": {
    "ExecuteTime": {
     "end_time": "2022-04-05T13:44:11.385335Z",
     "start_time": "2022-04-05T13:44:11.372731Z"
    }
   },
   "outputs": [
    {
     "data": {
      "text/html": [
       "<div>\n",
       "<style scoped>\n",
       "    .dataframe tbody tr th:only-of-type {\n",
       "        vertical-align: middle;\n",
       "    }\n",
       "\n",
       "    .dataframe tbody tr th {\n",
       "        vertical-align: top;\n",
       "    }\n",
       "\n",
       "    .dataframe thead th {\n",
       "        text-align: right;\n",
       "    }\n",
       "</style>\n",
       "<table border=\"1\" class=\"dataframe\">\n",
       "  <thead>\n",
       "    <tr style=\"text-align: right;\">\n",
       "      <th></th>\n",
       "      <th>ID</th>\n",
       "      <th>temporada</th>\n",
       "      <th>rodada</th>\n",
       "      <th>data</th>\n",
       "      <th>clube</th>\n",
       "      <th>chutes</th>\n",
       "      <th>chutes_no_alvo</th>\n",
       "      <th>posse_de_bola</th>\n",
       "      <th>passes</th>\n",
       "      <th>precisao_passes</th>\n",
       "      <th>faltas</th>\n",
       "      <th>cartao_amarelo</th>\n",
       "      <th>cartao_vermelho</th>\n",
       "      <th>impedimentos</th>\n",
       "      <th>escanteios</th>\n",
       "    </tr>\n",
       "  </thead>\n",
       "  <tbody>\n",
       "    <tr>\n",
       "      <th>0</th>\n",
       "      <td>1</td>\n",
       "      <td>2003</td>\n",
       "      <td>1</td>\n",
       "      <td>2003-03-29</td>\n",
       "      <td>Guarani</td>\n",
       "      <td>0</td>\n",
       "      <td>0</td>\n",
       "      <td>NaN</td>\n",
       "      <td>0</td>\n",
       "      <td>NaN</td>\n",
       "      <td>0</td>\n",
       "      <td>0</td>\n",
       "      <td>0</td>\n",
       "      <td>0</td>\n",
       "      <td>0</td>\n",
       "    </tr>\n",
       "    <tr>\n",
       "      <th>1</th>\n",
       "      <td>1</td>\n",
       "      <td>2003</td>\n",
       "      <td>1</td>\n",
       "      <td>2003-03-29</td>\n",
       "      <td>Vasco</td>\n",
       "      <td>0</td>\n",
       "      <td>0</td>\n",
       "      <td>NaN</td>\n",
       "      <td>0</td>\n",
       "      <td>NaN</td>\n",
       "      <td>0</td>\n",
       "      <td>0</td>\n",
       "      <td>0</td>\n",
       "      <td>0</td>\n",
       "      <td>0</td>\n",
       "    </tr>\n",
       "    <tr>\n",
       "      <th>2</th>\n",
       "      <td>2</td>\n",
       "      <td>2003</td>\n",
       "      <td>1</td>\n",
       "      <td>2003-03-29</td>\n",
       "      <td>Athletico-PR</td>\n",
       "      <td>0</td>\n",
       "      <td>0</td>\n",
       "      <td>NaN</td>\n",
       "      <td>0</td>\n",
       "      <td>NaN</td>\n",
       "      <td>0</td>\n",
       "      <td>0</td>\n",
       "      <td>0</td>\n",
       "      <td>0</td>\n",
       "      <td>0</td>\n",
       "    </tr>\n",
       "    <tr>\n",
       "      <th>3</th>\n",
       "      <td>2</td>\n",
       "      <td>2003</td>\n",
       "      <td>1</td>\n",
       "      <td>2003-03-29</td>\n",
       "      <td>Gremio</td>\n",
       "      <td>0</td>\n",
       "      <td>0</td>\n",
       "      <td>NaN</td>\n",
       "      <td>0</td>\n",
       "      <td>NaN</td>\n",
       "      <td>0</td>\n",
       "      <td>0</td>\n",
       "      <td>0</td>\n",
       "      <td>0</td>\n",
       "      <td>0</td>\n",
       "    </tr>\n",
       "    <tr>\n",
       "      <th>4</th>\n",
       "      <td>3</td>\n",
       "      <td>2003</td>\n",
       "      <td>1</td>\n",
       "      <td>2003-03-30</td>\n",
       "      <td>Flamengo</td>\n",
       "      <td>0</td>\n",
       "      <td>0</td>\n",
       "      <td>NaN</td>\n",
       "      <td>0</td>\n",
       "      <td>NaN</td>\n",
       "      <td>0</td>\n",
       "      <td>0</td>\n",
       "      <td>0</td>\n",
       "      <td>0</td>\n",
       "      <td>0</td>\n",
       "    </tr>\n",
       "  </tbody>\n",
       "</table>\n",
       "</div>"
      ],
      "text/plain": [
       "   ID  temporada  rodada       data         clube  chutes  chutes_no_alvo  \\\n",
       "0   1       2003       1 2003-03-29       Guarani       0               0   \n",
       "1   1       2003       1 2003-03-29         Vasco       0               0   \n",
       "2   2       2003       1 2003-03-29  Athletico-PR       0               0   \n",
       "3   2       2003       1 2003-03-29        Gremio       0               0   \n",
       "4   3       2003       1 2003-03-30      Flamengo       0               0   \n",
       "\n",
       "  posse_de_bola  passes precisao_passes  faltas  cartao_amarelo  \\\n",
       "0           NaN       0             NaN       0               0   \n",
       "1           NaN       0             NaN       0               0   \n",
       "2           NaN       0             NaN       0               0   \n",
       "3           NaN       0             NaN       0               0   \n",
       "4           NaN       0             NaN       0               0   \n",
       "\n",
       "   cartao_vermelho  impedimentos  escanteios  \n",
       "0                0             0           0  \n",
       "1                0             0           0  \n",
       "2                0             0           0  \n",
       "3                0             0           0  \n",
       "4                0             0           0  "
      ]
     },
     "execution_count": 18,
     "metadata": {},
     "output_type": "execute_result"
    }
   ],
   "source": [
    "df2_stats.head()"
   ]
  },
  {
   "cell_type": "markdown",
   "id": "2a58dff0",
   "metadata": {},
   "source": [
    "Checando variáveis com muitos zeros"
   ]
  },
  {
   "cell_type": "code",
   "execution_count": 19,
   "id": "87dc28de",
   "metadata": {
    "ExecuteTime": {
     "end_time": "2022-04-05T13:44:11.398398Z",
     "start_time": "2022-04-05T13:44:11.387961Z"
    }
   },
   "outputs": [
    {
     "data": {
      "text/plain": [
       "temporada\n",
       "2003         0\n",
       "2004         0\n",
       "2005         0\n",
       "2006         0\n",
       "2007         0\n",
       "2008         0\n",
       "2009         0\n",
       "2010         0\n",
       "2011         0\n",
       "2012         0\n",
       "2013         0\n",
       "2014     13087\n",
       "2015    315861\n",
       "2016    313276\n",
       "2017    320578\n",
       "2018    324116\n",
       "2019    301837\n",
       "2020    325403\n",
       "2021    323609\n",
       "Name: passes, dtype: int64"
      ]
     },
     "execution_count": 19,
     "metadata": {},
     "output_type": "execute_result"
    }
   ],
   "source": [
    "df2_stats.groupby('temporada').sum()['passes']"
   ]
  },
  {
   "cell_type": "code",
   "execution_count": 20,
   "id": "5dd790c0",
   "metadata": {
    "ExecuteTime": {
     "end_time": "2022-04-05T13:44:11.408734Z",
     "start_time": "2022-04-05T13:44:11.399787Z"
    }
   },
   "outputs": [
    {
     "data": {
      "text/plain": [
       "temporada\n",
       "2003       0\n",
       "2004       0\n",
       "2005       0\n",
       "2006       0\n",
       "2007       0\n",
       "2008       0\n",
       "2009       0\n",
       "2010       0\n",
       "2011       0\n",
       "2012       0\n",
       "2013       0\n",
       "2014     391\n",
       "2015    9290\n",
       "2016    9494\n",
       "2017    9678\n",
       "2018    9599\n",
       "2019    9692\n",
       "2020    9566\n",
       "2021    9659\n",
       "Name: chutes, dtype: int64"
      ]
     },
     "execution_count": 20,
     "metadata": {},
     "output_type": "execute_result"
    }
   ],
   "source": [
    "df2_stats.groupby('temporada').sum()['chutes']"
   ]
  },
  {
   "cell_type": "code",
   "execution_count": 21,
   "id": "0f707414",
   "metadata": {
    "ExecuteTime": {
     "end_time": "2022-04-05T13:44:11.426628Z",
     "start_time": "2022-04-05T13:44:11.410526Z"
    }
   },
   "outputs": [
    {
     "data": {
      "text/plain": [
       "temporada\n",
       "2003       0\n",
       "2004       0\n",
       "2005       0\n",
       "2006       0\n",
       "2007       0\n",
       "2008       0\n",
       "2009       0\n",
       "2010       0\n",
       "2011       0\n",
       "2012       0\n",
       "2013       0\n",
       "2014      68\n",
       "2015    1824\n",
       "2016    1693\n",
       "2017    1773\n",
       "2018    1814\n",
       "2019    1534\n",
       "2020    1630\n",
       "2021    1680\n",
       "Name: cartao_amarelo, dtype: int64"
      ]
     },
     "execution_count": 21,
     "metadata": {},
     "output_type": "execute_result"
    }
   ],
   "source": [
    "df2_stats.groupby('temporada').sum()['cartao_amarelo']"
   ]
  },
  {
   "cell_type": "code",
   "execution_count": 22,
   "id": "cc8b3930",
   "metadata": {
    "ExecuteTime": {
     "end_time": "2022-04-05T13:44:11.437634Z",
     "start_time": "2022-04-05T13:44:11.428438Z"
    }
   },
   "outputs": [
    {
     "data": {
      "text/plain": [
       "temporada\n",
       "2003      0\n",
       "2004      0\n",
       "2005      0\n",
       "2006      0\n",
       "2007      0\n",
       "2008      0\n",
       "2009      0\n",
       "2010      0\n",
       "2011      0\n",
       "2012      0\n",
       "2013      0\n",
       "2014      0\n",
       "2015    109\n",
       "2016     86\n",
       "2017     77\n",
       "2018    101\n",
       "2019     95\n",
       "2020    106\n",
       "2021     81\n",
       "Name: cartao_vermelho, dtype: int64"
      ]
     },
     "execution_count": 22,
     "metadata": {},
     "output_type": "execute_result"
    }
   ],
   "source": [
    "df2_stats.groupby('temporada').sum()['cartao_vermelho']"
   ]
  },
  {
   "cell_type": "code",
   "execution_count": 23,
   "id": "51c39f8e",
   "metadata": {
    "ExecuteTime": {
     "end_time": "2022-04-05T13:44:11.448416Z",
     "start_time": "2022-04-05T13:44:11.439095Z"
    }
   },
   "outputs": [
    {
     "data": {
      "text/plain": [
       "temporada\n",
       "2003       0\n",
       "2004       0\n",
       "2005       0\n",
       "2006       0\n",
       "2007       0\n",
       "2008       0\n",
       "2009       0\n",
       "2010       0\n",
       "2011       0\n",
       "2012       0\n",
       "2013       0\n",
       "2014      63\n",
       "2015    1593\n",
       "2016    1490\n",
       "2017    1298\n",
       "2018    1126\n",
       "2019     945\n",
       "2020    1129\n",
       "2021    1040\n",
       "Name: impedimentos, dtype: int64"
      ]
     },
     "execution_count": 23,
     "metadata": {},
     "output_type": "execute_result"
    }
   ],
   "source": [
    "df2_stats.groupby('temporada').sum()['impedimentos']"
   ]
  },
  {
   "cell_type": "code",
   "execution_count": 24,
   "id": "9dbca0de",
   "metadata": {
    "ExecuteTime": {
     "end_time": "2022-04-05T13:44:11.458553Z",
     "start_time": "2022-04-05T13:44:11.450211Z"
    }
   },
   "outputs": [
    {
     "data": {
      "text/plain": [
       "temporada\n",
       "2003       0\n",
       "2004       0\n",
       "2005       0\n",
       "2006       0\n",
       "2007       0\n",
       "2008       0\n",
       "2009       0\n",
       "2010       0\n",
       "2011       0\n",
       "2012       0\n",
       "2013       0\n",
       "2014     183\n",
       "2015    3923\n",
       "2016    3870\n",
       "2017    4044\n",
       "2018    4054\n",
       "2019    3733\n",
       "2020    3854\n",
       "2021    3878\n",
       "Name: escanteios, dtype: int64"
      ]
     },
     "execution_count": 24,
     "metadata": {},
     "output_type": "execute_result"
    }
   ],
   "source": [
    "df2_stats.groupby('temporada').sum()['escanteios']"
   ]
  },
  {
   "cell_type": "markdown",
   "id": "e186d773",
   "metadata": {},
   "source": [
    "Nota-se que algumas variáveis estão sem dados coerentes para temporadas anteriores à 2015. Apesar destas variáveis serem obtidas apenas após o jogo, será possível utilizar um modelo para estimar o número de chutes, por exemplo."
   ]
  },
  {
   "cell_type": "markdown",
   "id": "8757cce3",
   "metadata": {},
   "source": [
    "## 2.3 Filtrando as temporadas"
   ]
  },
  {
   "cell_type": "code",
   "execution_count": 25,
   "id": "877e6b88",
   "metadata": {
    "ExecuteTime": {
     "end_time": "2022-04-05T13:44:11.464426Z",
     "start_time": "2022-04-05T13:44:11.460662Z"
    }
   },
   "outputs": [],
   "source": [
    "# Filtrando a partir de 2015\n",
    "df2_full = df2_full[df2_full.temporada >= 2015].reset_index(drop=True)"
   ]
  },
  {
   "cell_type": "code",
   "execution_count": 26,
   "id": "be6a33b0",
   "metadata": {
    "ExecuteTime": {
     "end_time": "2022-04-05T13:44:11.470438Z",
     "start_time": "2022-04-05T13:44:11.466604Z"
    }
   },
   "outputs": [
    {
     "name": "stdout",
     "output_type": "stream",
     "text": [
      "O primeiro ID das partidas desde 2015 é: 4987\n"
     ]
    }
   ],
   "source": [
    "print('O primeiro ID das partidas desde 2015 é:', df2_full.loc[0,'ID'])"
   ]
  },
  {
   "cell_type": "code",
   "execution_count": 27,
   "id": "295a963d",
   "metadata": {
    "ExecuteTime": {
     "end_time": "2022-04-05T13:44:11.476887Z",
     "start_time": "2022-04-05T13:44:11.472158Z"
    }
   },
   "outputs": [],
   "source": [
    "# Entao servira como filtro\n",
    "df2_stats = df2_stats[df2_stats.ID >= df2_full.loc[0,'ID']]"
   ]
  },
  {
   "cell_type": "markdown",
   "id": "3eac9b62",
   "metadata": {},
   "source": [
    "## 2.4 Verificando NaN"
   ]
  },
  {
   "cell_type": "code",
   "execution_count": 28,
   "id": "38a87c0e",
   "metadata": {
    "ExecuteTime": {
     "end_time": "2022-04-05T13:44:11.494884Z",
     "start_time": "2022-04-05T13:44:11.484097Z"
    }
   },
   "outputs": [
    {
     "name": "stdout",
     "output_type": "stream",
     "text": [
      "% of NaN\n"
     ]
    },
    {
     "data": {
      "text/plain": [
       "ID                    0.000000\n",
       "rodada                0.000000\n",
       "data                  0.000000\n",
       "hora                  0.000000\n",
       "temporada             0.000000\n",
       "dia                   0.000000\n",
       "mandante              0.000000\n",
       "visitante             0.000000\n",
       "formacao_mandante     0.001504\n",
       "formacao_visitante    0.001504\n",
       "tecnico_mandante      0.000376\n",
       "tecnico_visitante     0.000376\n",
       "vencedor              0.000000\n",
       "arena                 0.000000\n",
       "mandante_placar       0.000000\n",
       "visitante_placar      0.000000\n",
       "mandante_estado       0.000000\n",
       "visitante_estado      0.000000\n",
       "estado_vencedor       0.000000\n",
       "dtype: float64"
      ]
     },
     "execution_count": 28,
     "metadata": {},
     "output_type": "execute_result"
    }
   ],
   "source": [
    "print('% of NaN')\n",
    "df2_full.isna().sum() / len(df2_full)"
   ]
  },
  {
   "cell_type": "markdown",
   "id": "82447fca",
   "metadata": {},
   "source": [
    "<b>df2_full</b>\n",
    "- formacao_mandante e formacao_visitante = 4 partidas com NaN\n",
    "- tecnico_mandante e tecnico_visitante = 1 partida com NaN"
   ]
  },
  {
   "cell_type": "code",
   "execution_count": 29,
   "id": "c94b582a",
   "metadata": {
    "ExecuteTime": {
     "end_time": "2022-04-05T13:44:11.508315Z",
     "start_time": "2022-04-05T13:44:11.496714Z"
    }
   },
   "outputs": [
    {
     "name": "stdout",
     "output_type": "stream",
     "text": [
      "% of NaN\n"
     ]
    },
    {
     "data": {
      "text/plain": [
       "ID                 0.0\n",
       "temporada          0.0\n",
       "rodada             0.0\n",
       "data               0.0\n",
       "clube              0.0\n",
       "chutes             0.0\n",
       "chutes_no_alvo     0.0\n",
       "posse_de_bola      0.0\n",
       "passes             0.0\n",
       "precisao_passes    0.0\n",
       "faltas             0.0\n",
       "cartao_amarelo     0.0\n",
       "cartao_vermelho    0.0\n",
       "impedimentos       0.0\n",
       "escanteios         0.0\n",
       "dtype: float64"
      ]
     },
     "execution_count": 29,
     "metadata": {},
     "output_type": "execute_result"
    }
   ],
   "source": [
    "print('% of NaN')\n",
    "df2_stats.isna().sum() / len(df2_stats)"
   ]
  },
  {
   "cell_type": "markdown",
   "id": "ffeb0bb8",
   "metadata": {},
   "source": [
    "<b>df2_stats</b>\n",
    "- sem partidas com NaN"
   ]
  },
  {
   "cell_type": "code",
   "execution_count": 30,
   "id": "91198c52",
   "metadata": {
    "ExecuteTime": {
     "end_time": "2022-04-05T13:44:11.513835Z",
     "start_time": "2022-04-05T13:44:11.510292Z"
    }
   },
   "outputs": [
    {
     "name": "stdout",
     "output_type": "stream",
     "text": [
      "O número de jogos é 2659 e o número de jogos com estatísticas  é 2659\n"
     ]
    }
   ],
   "source": [
    "print(f'O número de jogos é {len(df2_full)} e o número de jogos com estatísticas  é {int(len(df2_stats)/2)}')"
   ]
  },
  {
   "cell_type": "markdown",
   "id": "0a10098c",
   "metadata": {},
   "source": [
    "<b> Todos os jogos tem estatísticas! </b>"
   ]
  },
  {
   "cell_type": "markdown",
   "id": "70c70097",
   "metadata": {},
   "source": [
    "# 3.0 Exploratory Data Analysis"
   ]
  },
  {
   "cell_type": "code",
   "execution_count": 31,
   "id": "53340489",
   "metadata": {
    "ExecuteTime": {
     "end_time": "2022-04-05T13:44:11.521081Z",
     "start_time": "2022-04-05T13:44:11.515814Z"
    }
   },
   "outputs": [],
   "source": [
    "df3_full = df2_full.copy()\n",
    "df3_stats = df2_stats.copy()"
   ]
  },
  {
   "cell_type": "markdown",
   "id": "0994416d",
   "metadata": {},
   "source": [
    "A ideia aqui é tentar adquirir algum conhecimento das variáveis que possa ajudar a identificar as melhores features e modelos que possam ser utilizados posteriormente. Também são geradas algumas hipóteses com base nestas análises."
   ]
  },
  {
   "cell_type": "markdown",
   "id": "cede1373",
   "metadata": {},
   "source": [
    "## 3.1 Funções Úteis"
   ]
  },
  {
   "cell_type": "code",
   "execution_count": 32,
   "id": "00b5b50a",
   "metadata": {
    "ExecuteTime": {
     "end_time": "2022-04-05T13:44:11.526156Z",
     "start_time": "2022-04-05T13:44:11.522682Z"
    }
   },
   "outputs": [],
   "source": [
    "def encode_target(row):\n",
    "    \"\"\"\n",
    "    Tranforma os resultados com base no vencedor, seguindo:\n",
    "    0 - empate\n",
    "    1 - mandante\n",
    "    2 - visitante\n",
    "    \"\"\"\n",
    "    if row['mandante'] == row['vencedor']:\n",
    "        return 1\n",
    "    elif row['visitante'] == row['vencedor']:\n",
    "        return 2\n",
    "    else:\n",
    "        return 0"
   ]
  },
  {
   "cell_type": "markdown",
   "id": "0d5f00ea",
   "metadata": {},
   "source": [
    "## 3.1 Vencedor Mandante x Visitante x Empate"
   ]
  },
  {
   "cell_type": "code",
   "execution_count": 33,
   "id": "17bf8500",
   "metadata": {
    "ExecuteTime": {
     "end_time": "2022-04-05T13:44:11.578537Z",
     "start_time": "2022-04-05T13:44:11.528094Z"
    }
   },
   "outputs": [],
   "source": [
    "# encoding na variavel do vencedor para facilitar algumas analises\n",
    "df3_full['vencedor'] = df3_full.apply(encode_target, axis = 1)    "
   ]
  },
  {
   "cell_type": "code",
   "execution_count": 34,
   "id": "d93fbfdc",
   "metadata": {
    "ExecuteTime": {
     "end_time": "2022-04-05T13:44:11.842654Z",
     "start_time": "2022-04-05T13:44:11.580733Z"
    }
   },
   "outputs": [
    {
     "data": {
      "image/png": "[encoded data removed]",
      "text/plain": [
       "<Figure size 432x288 with 1 Axes>"
      ]
     },
     "metadata": {
      "needs_background": "light"
     },
     "output_type": "display_data"
    }
   ],
   "source": [
    "df3_full.vencedor.value_counts(normalize=True).plot(kind='bar');\n",
    "plt.xticks(ticks=[0, 1, 2], labels=['Mandante', 'Empate', 'Visitante']);"
   ]
  },
  {
   "cell_type": "markdown",
   "id": "e50c10e9",
   "metadata": {
    "ExecuteTime": {
     "end_time": "2022-03-23T14:27:20.499119Z",
     "start_time": "2022-03-23T14:27:20.493454Z"
    }
   },
   "source": [
    "<b> Constatações </b>\n",
    "- A maioria dos jogos é vencida pelo mandante; \n",
    "- Os visitantes vencem na menor frequência"
   ]
  },
  {
   "cell_type": "markdown",
   "id": "bd058ae2",
   "metadata": {},
   "source": [
    "## 3.2 Resultados dos Dia da Semana"
   ]
  },
  {
   "cell_type": "code",
   "execution_count": 35,
   "id": "3c7c64e0",
   "metadata": {
    "ExecuteTime": {
     "end_time": "2022-04-05T13:44:12.025649Z",
     "start_time": "2022-04-05T13:44:11.844519Z"
    }
   },
   "outputs": [
    {
     "data": {
      "image/png": "[encoded data removed]",
      "text/plain": [
       "<Figure size 432x288 with 1 Axes>"
      ]
     },
     "metadata": {
      "needs_background": "light"
     },
     "output_type": "display_data"
    }
   ],
   "source": [
    "sns.countplot(y=df3_full.dia, hue=df3_full.vencedor, order=['Domingo', 'Segunda-feira', 'Terça-feira', 'Quarta-feira', 'Quinta-feira', 'Sexta-feira', 'Sabado']);\n",
    "plt.legend(['Empate', 'Mandante', 'Visitante']);"
   ]
  },
  {
   "cell_type": "markdown",
   "id": "c8e474d1",
   "metadata": {},
   "source": [
    "<b> Constatações </b>\n",
    "- Visualmente não há diferença no efeito mandante x visitante em diferentes dias da semana;\n",
    "- A única exceção é a segunda-feira, mas não foi feita análise da significância desta diferença;"
   ]
  },
  {
   "cell_type": "markdown",
   "id": "ccdea104",
   "metadata": {},
   "source": [
    "## 3.3 Vencedor por Estado"
   ]
  },
  {
   "cell_type": "code",
   "execution_count": 36,
   "id": "237882b5",
   "metadata": {
    "ExecuteTime": {
     "end_time": "2022-04-05T13:44:12.040958Z",
     "start_time": "2022-04-05T13:44:12.027077Z"
    }
   },
   "outputs": [],
   "source": [
    "df_aux = df3_full[['temporada', 'mandante', 'mandante_estado']]\n",
    "df_aux2 = pd.DataFrame(pd.DataFrame(df_aux.groupby(['temporada', 'mandante_estado']).value_counts()).drop(0, axis = 1).groupby(['temporada', 'mandante_estado']).value_counts(), columns=['counts'])\n",
    "df_aux2 = df_aux2.reset_index()"
   ]
  },
  {
   "cell_type": "code",
   "execution_count": 37,
   "id": "ce9dd12a",
   "metadata": {
    "ExecuteTime": {
     "end_time": "2022-04-05T13:44:12.723839Z",
     "start_time": "2022-04-05T13:44:12.042752Z"
    }
   },
   "outputs": [
    {
     "data": {
      "image/png": "[encoded data removed]",
      "text/plain": [
       "<Figure size 1152x360 with 1 Axes>"
      ]
     },
     "metadata": {
      "needs_background": "light"
     },
     "output_type": "display_data"
    }
   ],
   "source": [
    "plt.figure(figsize=(16,5));\n",
    "sns.barplot(x=df_aux2.temporada, y=df_aux2.counts, hue=df_aux2.mandante_estado, palette='bright');\n",
    "plt.legend();\n",
    "plt.title('N. de times por estado por temporada');"
   ]
  },
  {
   "cell_type": "markdown",
   "id": "6adfbf8e",
   "metadata": {},
   "source": [
    "<b> Constatações </b>\n",
    "- SP e RJ são os estados com maior quantidades de times na série A;\n",
    "- RS, e SC se alternam na terceira colocação;\n",
    "- No geral, a maioria dos estados tem entre 1 e 2 times na série A; "
   ]
  },
  {
   "cell_type": "markdown",
   "id": "b5f6fa72",
   "metadata": {},
   "source": [
    "### 3.3.1 Vencedores por Estado x Tempo"
   ]
  },
  {
   "cell_type": "markdown",
   "id": "3d95e8d6",
   "metadata": {},
   "source": [
    "Para avaliar os times que mais venceram por temporada, é mais coerente apresentar a relação entre n. de vitorias / n. de times, já que a distribuição da quantidade destes não é homogênea."
   ]
  },
  {
   "cell_type": "code",
   "execution_count": 38,
   "id": "0bc1ad5d",
   "metadata": {
    "ExecuteTime": {
     "end_time": "2022-04-05T13:44:12.747093Z",
     "start_time": "2022-04-05T13:44:12.728102Z"
    }
   },
   "outputs": [],
   "source": [
    "df_aux2 = df_aux2.set_index(['temporada', 'mandante_estado'])\n",
    "df_aux2 = df_aux2.rename(columns={'counts': 'contagem_de_times'})\n",
    "\n",
    "df_aux3 = pd.DataFrame(pd.DataFrame(df3_full[df3_full['estado_vencedor'] != '-'][['temporada', 'estado_vencedor']] \\\n",
    "                                    .value_counts(), columns=['contagem_vitoria']).groupby(['temporada', 'estado_vencedor']) \\\n",
    "                                    .value_counts()).drop(0, axis = 1) \\\n",
    "                                    .reset_index(['contagem_vitoria'])\n",
    "\n",
    "df_aux4 = pd.concat([df_aux2, df_aux3], axis = 1)\n",
    "df_aux4.loc[:, 'vitorias_por_times'] = df_aux3.contagem_vitoria / df_aux4.contagem_de_times"
   ]
  },
  {
   "cell_type": "code",
   "execution_count": 39,
   "id": "06974669",
   "metadata": {
    "ExecuteTime": {
     "end_time": "2022-04-05T13:44:12.762648Z",
     "start_time": "2022-04-05T13:44:12.748519Z"
    }
   },
   "outputs": [
    {
     "data": {
      "text/html": [
       "<div>\n",
       "<style scoped>\n",
       "    .dataframe tbody tr th:only-of-type {\n",
       "        vertical-align: middle;\n",
       "    }\n",
       "\n",
       "    .dataframe tbody tr th {\n",
       "        vertical-align: top;\n",
       "    }\n",
       "\n",
       "    .dataframe thead th {\n",
       "        text-align: right;\n",
       "    }\n",
       "</style>\n",
       "<table border=\"1\" class=\"dataframe\">\n",
       "  <thead>\n",
       "    <tr style=\"text-align: right;\">\n",
       "      <th></th>\n",
       "      <th>temporada</th>\n",
       "      <th>time</th>\n",
       "      <th>contagem_de_times</th>\n",
       "      <th>contagem_vitoria</th>\n",
       "      <th>vitorias_por_times</th>\n",
       "    </tr>\n",
       "  </thead>\n",
       "  <tbody>\n",
       "    <tr>\n",
       "      <th>47</th>\n",
       "      <td>2020</td>\n",
       "      <td>MG</td>\n",
       "      <td>1</td>\n",
       "      <td>20</td>\n",
       "      <td>20.0</td>\n",
       "    </tr>\n",
       "    <tr>\n",
       "      <th>56</th>\n",
       "      <td>2021</td>\n",
       "      <td>MG</td>\n",
       "      <td>2</td>\n",
       "      <td>39</td>\n",
       "      <td>19.5</td>\n",
       "    </tr>\n",
       "    <tr>\n",
       "      <th>43</th>\n",
       "      <td>2019</td>\n",
       "      <td>SP</td>\n",
       "      <td>4</td>\n",
       "      <td>74</td>\n",
       "      <td>18.5</td>\n",
       "    </tr>\n",
       "    <tr>\n",
       "      <th>31</th>\n",
       "      <td>2018</td>\n",
       "      <td>RS</td>\n",
       "      <td>2</td>\n",
       "      <td>37</td>\n",
       "      <td>18.5</td>\n",
       "    </tr>\n",
       "    <tr>\n",
       "      <th>5</th>\n",
       "      <td>2015</td>\n",
       "      <td>RS</td>\n",
       "      <td>2</td>\n",
       "      <td>37</td>\n",
       "      <td>18.5</td>\n",
       "    </tr>\n",
       "    <tr>\n",
       "      <th>22</th>\n",
       "      <td>2017</td>\n",
       "      <td>RS</td>\n",
       "      <td>1</td>\n",
       "      <td>18</td>\n",
       "      <td>18.0</td>\n",
       "    </tr>\n",
       "    <tr>\n",
       "      <th>15</th>\n",
       "      <td>2016</td>\n",
       "      <td>SP</td>\n",
       "      <td>5</td>\n",
       "      <td>90</td>\n",
       "      <td>18.0</td>\n",
       "    </tr>\n",
       "    <tr>\n",
       "      <th>39</th>\n",
       "      <td>2019</td>\n",
       "      <td>PR</td>\n",
       "      <td>1</td>\n",
       "      <td>18</td>\n",
       "      <td>18.0</td>\n",
       "    </tr>\n",
       "    <tr>\n",
       "      <th>1</th>\n",
       "      <td>2015</td>\n",
       "      <td>MG</td>\n",
       "      <td>2</td>\n",
       "      <td>36</td>\n",
       "      <td>18.0</td>\n",
       "    </tr>\n",
       "    <tr>\n",
       "      <th>60</th>\n",
       "      <td>2021</td>\n",
       "      <td>RJ</td>\n",
       "      <td>2</td>\n",
       "      <td>36</td>\n",
       "      <td>18.0</td>\n",
       "    </tr>\n",
       "  </tbody>\n",
       "</table>\n",
       "</div>"
      ],
      "text/plain": [
       "    temporada time  contagem_de_times  contagem_vitoria  vitorias_por_times\n",
       "47       2020   MG                  1                20                20.0\n",
       "56       2021   MG                  2                39                19.5\n",
       "43       2019   SP                  4                74                18.5\n",
       "31       2018   RS                  2                37                18.5\n",
       "5        2015   RS                  2                37                18.5\n",
       "22       2017   RS                  1                18                18.0\n",
       "15       2016   SP                  5                90                18.0\n",
       "39       2019   PR                  1                18                18.0\n",
       "1        2015   MG                  2                36                18.0\n",
       "60       2021   RJ                  2                36                18.0"
      ]
     },
     "execution_count": 39,
     "metadata": {},
     "output_type": "execute_result"
    }
   ],
   "source": [
    "df_aux4 = df_aux4.reset_index()\n",
    "df_aux4 = df_aux4.rename(columns={'level_1': 'time'})\n",
    "df_aux4.sort_values('vitorias_por_times', ascending=False).head(10)"
   ]
  },
  {
   "cell_type": "code",
   "execution_count": 40,
   "id": "dcad00eb",
   "metadata": {
    "ExecuteTime": {
     "end_time": "2022-04-05T13:44:13.426962Z",
     "start_time": "2022-04-05T13:44:12.766488Z"
    }
   },
   "outputs": [
    {
     "data": {
      "image/png": "[encoded data removed]",
      "text/plain": [
       "<Figure size 1152x360 with 1 Axes>"
      ]
     },
     "metadata": {
      "needs_background": "light"
     },
     "output_type": "display_data"
    }
   ],
   "source": [
    "plt.figure(figsize=(16, 5));\n",
    "sns.barplot(x=df_aux4['temporada'], y=df_aux4['vitorias_por_times'], hue=df_aux4['time'], palette='bright');\n",
    "plt.title('Número médio de vitórias por time para cada estado participante ao longo das temporadas');"
   ]
  },
  {
   "cell_type": "markdown",
   "id": "8c72fb2e",
   "metadata": {},
   "source": [
    "<b> Constatações </b>\n",
    "- MG aparece como o estado mais vitorioso nos últimos 2 anos da série e também com um pico na relação em 2014;\n",
    "- SP mesmo com a racionalização dos valores, ainda é um dos estados mais vitoriosos;\n",
    "- RS aparece com uma proporção mais homogênea e ao longo do tempo;\n",
    "- O número médio de vitórias por time de cada estado mostra uma alternância entre SP, MG, RS e RJ na primeira posição."
   ]
  },
  {
   "cell_type": "markdown",
   "id": "1f9ed40e",
   "metadata": {},
   "source": [
    "### 3.3.2 Estados Mais Vitoriosos"
   ]
  },
  {
   "cell_type": "code",
   "execution_count": 41,
   "id": "641ea76c",
   "metadata": {
    "ExecuteTime": {
     "end_time": "2022-04-05T13:44:13.439491Z",
     "start_time": "2022-04-05T13:44:13.428861Z"
    }
   },
   "outputs": [],
   "source": [
    "df_aux5 = df_aux4.groupby('time').sum().drop('vitorias_por_times', axis = 1)\n",
    "df_aux5.loc[:, 'vitorias_por_times'] = df_aux5.contagem_vitoria / df_aux5.contagem_de_times\n",
    "df_aux5 = df_aux5.reset_index().drop(['temporada'], axis = 1)"
   ]
  },
  {
   "cell_type": "code",
   "execution_count": 42,
   "id": "8c401c38",
   "metadata": {
    "ExecuteTime": {
     "end_time": "2022-04-05T13:44:13.617798Z",
     "start_time": "2022-04-05T13:44:13.445115Z"
    }
   },
   "outputs": [
    {
     "data": {
      "image/png": "[encoded data removed]",
      "text/plain": [
       "<Figure size 1152x360 with 1 Axes>"
      ]
     },
     "metadata": {
      "needs_background": "light"
     },
     "output_type": "display_data"
    }
   ],
   "source": [
    "plt.figure(figsize=(16,5));\n",
    "sns.barplot(x = df_aux5.sort_values('vitorias_por_times').time, y = df_aux5.sort_values('vitorias_por_times').vitorias_por_times, );"
   ]
  },
  {
   "cell_type": "markdown",
   "id": "ba6ed833",
   "metadata": {},
   "source": [
    "<b> Constatações </b>\n",
    "- No agregado geral, SP tem a liderança, seguido por RS e MG;\n",
    "- Já RJ, ocupa a 4a posição, mesmo tendo quase sempre mais times no campeonato que RS e MG."
   ]
  },
  {
   "cell_type": "markdown",
   "id": "86a8806c",
   "metadata": {},
   "source": [
    "## 3.4 Distrbuição dos Gols"
   ]
  },
  {
   "cell_type": "markdown",
   "id": "926fb578",
   "metadata": {},
   "source": [
    "### 3.4.1 Overview "
   ]
  },
  {
   "cell_type": "code",
   "execution_count": 43,
   "id": "32bc552f",
   "metadata": {
    "ExecuteTime": {
     "end_time": "2022-04-05T13:44:14.234000Z",
     "start_time": "2022-04-05T13:44:13.619251Z"
    }
   },
   "outputs": [
    {
     "data": {
      "image/png": "[encoded data removed]",
      "text/plain": [
       "<Figure size 864x288 with 2 Axes>"
      ]
     },
     "metadata": {
      "needs_background": "light"
     },
     "output_type": "display_data"
    }
   ],
   "source": [
    "plt.figure(figsize=(12,4));\n",
    "plt.subplot(1,2,1);\n",
    "sns.histplot(data=df3_full[['mandante_placar', 'visitante_placar']], discrete=True, binwidth=0.5, fill=False );\n",
    "plt.legend(['Mandante', 'Visitante']);\n",
    "plt.title('Histograma');\n",
    "plt.subplot(1,2,2);\n",
    "sns.kdeplot(data=df3_full[['mandante_placar', 'visitante_placar']], cumulative=True);\n",
    "plt.legend(['Mandante', 'Visitante']);\n",
    "plt.title('Densidade de probabilidade acumulada');"
   ]
  },
  {
   "cell_type": "markdown",
   "id": "307d9f60",
   "metadata": {},
   "source": [
    "<b> Constatações </b>\n",
    "- Os mandantes fazem gol com mais frequência que os visitantes;\n",
    "- Mas as chances de fazer de 2 gols em diante maior para os visitantes."
   ]
  },
  {
   "cell_type": "markdown",
   "id": "ffc272db",
   "metadata": {},
   "source": [
    "### 3.4.2  Gols por Rodada ao Longo das Temporadas"
   ]
  },
  {
   "cell_type": "code",
   "execution_count": 44,
   "id": "9c78ff23",
   "metadata": {
    "ExecuteTime": {
     "end_time": "2022-04-05T13:44:14.246781Z",
     "start_time": "2022-04-05T13:44:14.236117Z"
    }
   },
   "outputs": [],
   "source": [
    "df3_full.loc[:, 'total_de_gols'] = df3_full['mandante_placar'] + df3_full['visitante_placar']\n",
    "df_aux = pd.DataFrame(df3_full.groupby(['temporada', 'rodada']).sum()['total_de_gols']).reset_index()"
   ]
  },
  {
   "cell_type": "code",
   "execution_count": 45,
   "id": "b89076a0",
   "metadata": {
    "ExecuteTime": {
     "end_time": "2022-04-05T13:44:14.638184Z",
     "start_time": "2022-04-05T13:44:14.248412Z"
    }
   },
   "outputs": [
    {
     "data": {
      "image/png": "[encoded data removed]",
      "text/plain": [
       "<Figure size 1152x360 with 1 Axes>"
      ]
     },
     "metadata": {
      "needs_background": "light"
     },
     "output_type": "display_data"
    }
   ],
   "source": [
    "plt.figure(figsize=(16,5));\n",
    "sns.lineplot(y=df_aux.total_de_gols, x=df_aux.rodada, hue=df_aux.temporada, palette='bright');\n",
    "plt.hlines(df_aux.total_de_gols.mean(), xmin = 1, xmax=38, color='black', label='media', linestyle='dashed');\n",
    "plt.legend();"
   ]
  },
  {
   "cell_type": "markdown",
   "id": "3f7cfbe9",
   "metadata": {},
   "source": [
    "<b> Constatações </b>\n",
    "- A rodada do campeonato não aparenta influenciar o número de gols;"
   ]
  },
  {
   "cell_type": "markdown",
   "id": "503e41ce",
   "metadata": {},
   "source": [
    "## 3.5 Chutes "
   ]
  },
  {
   "cell_type": "markdown",
   "id": "b0acbf09",
   "metadata": {
    "ExecuteTime": {
     "end_time": "2022-03-25T17:23:04.393285Z",
     "start_time": "2022-03-25T17:23:04.390156Z"
    }
   },
   "source": [
    "Algumas estatísticas ainda estão zeradas em cerca de 50 partidas. Elas serão filtradas aqui."
   ]
  },
  {
   "cell_type": "code",
   "execution_count": 46,
   "id": "ea844549",
   "metadata": {
    "ExecuteTime": {
     "end_time": "2022-04-05T13:44:14.655412Z",
     "start_time": "2022-04-05T13:44:14.642628Z"
    }
   },
   "outputs": [
    {
     "data": {
      "text/plain": [
       "50"
      ]
     },
     "execution_count": 46,
     "metadata": {},
     "output_type": "execute_result"
    }
   ],
   "source": [
    "len(df3_stats[df3_stats['chutes'] == 0])"
   ]
  },
  {
   "cell_type": "code",
   "execution_count": 47,
   "id": "72dab4da",
   "metadata": {
    "ExecuteTime": {
     "end_time": "2022-04-05T13:44:14.663730Z",
     "start_time": "2022-04-05T13:44:14.657576Z"
    }
   },
   "outputs": [
    {
     "data": {
      "text/plain": [
       "50"
      ]
     },
     "execution_count": 47,
     "metadata": {},
     "output_type": "execute_result"
    }
   ],
   "source": [
    "len(df3_stats[df3_stats['passes'] == 0])"
   ]
  },
  {
   "cell_type": "code",
   "execution_count": 48,
   "id": "1ecea06c",
   "metadata": {
    "ExecuteTime": {
     "end_time": "2022-04-05T13:44:14.669302Z",
     "start_time": "2022-04-05T13:44:14.665419Z"
    }
   },
   "outputs": [],
   "source": [
    "df_aux_stats = df3_stats[df3_stats.passes != 0]"
   ]
  },
  {
   "cell_type": "markdown",
   "id": "263421ee",
   "metadata": {},
   "source": [
    "### 3.5.1 Overview "
   ]
  },
  {
   "cell_type": "markdown",
   "id": "869e4ad5",
   "metadata": {},
   "source": [
    "<b>Top 10 maiores chutadores<b>"
   ]
  },
  {
   "cell_type": "code",
   "execution_count": 49,
   "id": "0dbe86b9",
   "metadata": {
    "ExecuteTime": {
     "end_time": "2022-04-05T13:44:14.680012Z",
     "start_time": "2022-04-05T13:44:14.670897Z"
    }
   },
   "outputs": [
    {
     "name": "stdout",
     "output_type": "stream",
     "text": [
      "Top 10 em chutes por partida\n"
     ]
    },
    {
     "data": {
      "text/plain": [
       "clube\n",
       "Flamengo       14.743396\n",
       "Atletico-MG    14.434615\n",
       "Bragantino     14.381579\n",
       "Palmeiras      14.034091\n",
       "Cruzeiro       13.839572\n",
       "Vitoria        13.315789\n",
       "Gremio         13.287879\n",
       "Bahia          13.200000\n",
       "Sao Paulo      12.912879\n",
       "Ceara          12.881579\n",
       "Name: chutes, dtype: float64"
      ]
     },
     "execution_count": 49,
     "metadata": {},
     "output_type": "execute_result"
    }
   ],
   "source": [
    "print('Top 10 em chutes por partida')\n",
    "df_aux_stats.groupby('clube').mean().sort_values('chutes', ascending=False).head(10)['chutes']"
   ]
  },
  {
   "cell_type": "markdown",
   "id": "cf5a5100",
   "metadata": {},
   "source": [
    "<b>Top 10 chutadores mais precisos<b>"
   ]
  },
  {
   "cell_type": "code",
   "execution_count": 50,
   "id": "b33e53d2",
   "metadata": {
    "ExecuteTime": {
     "end_time": "2022-04-05T13:44:14.694410Z",
     "start_time": "2022-04-05T13:44:14.681468Z"
    }
   },
   "outputs": [
    {
     "name": "stdout",
     "output_type": "stream",
     "text": [
      "Top 10 em chutes no alvo por partida\n"
     ]
    },
    {
     "data": {
      "text/plain": [
       "clube\n",
       "Bragantino     4.618421\n",
       "Bahia          4.426316\n",
       "Ceara          4.223684\n",
       "Fortaleza      4.061947\n",
       "Flamengo       3.973585\n",
       "Atletico-GO    3.561404\n",
       "Atletico-MG    3.538462\n",
       "Palmeiras      3.518939\n",
       "Juventude      3.421053\n",
       "Cuiaba         3.394737\n",
       "Name: chutes_no_alvo, dtype: float64"
      ]
     },
     "execution_count": 50,
     "metadata": {},
     "output_type": "execute_result"
    }
   ],
   "source": [
    "print('Top 10 em chutes no alvo por partida')\n",
    "df_aux_stats.groupby('clube').mean().sort_values('chutes_no_alvo', ascending=False).head(10)['chutes_no_alvo']"
   ]
  },
  {
   "cell_type": "markdown",
   "id": "77f6e042",
   "metadata": {},
   "source": [
    "<b> Constatações </b>\n",
    "- Flamengo e Atlético-MG são os times que mais chutaram ao gol por partidas jogadas;\n",
    "- Bragantino e Bahia são os times que tem maior precisão no chute."
   ]
  },
  {
   "cell_type": "markdown",
   "id": "025b3c79",
   "metadata": {},
   "source": [
    "### 3.5.2 Chutes por Todos os Times ao Longo das Rodadas para Cada Temporada"
   ]
  },
  {
   "cell_type": "code",
   "execution_count": 51,
   "id": "4ff34852",
   "metadata": {
    "ExecuteTime": {
     "end_time": "2022-04-05T13:44:15.287932Z",
     "start_time": "2022-04-05T13:44:14.696548Z"
    }
   },
   "outputs": [
    {
     "name": "stderr",
     "output_type": "stream",
     "text": [
      "/tmp/ipykernel_18438/2575306210.py:2: SettingWithCopyWarning: \n",
      "A value is trying to be set on a copy of a slice from a DataFrame.\n",
      "Try using .loc[row_indexer,col_indexer] = value instead\n",
      "\n",
      "See the caveats in the documentation: https://pandas.pydata.org/pandas-docs/stable/user_guide/indexing.html#returning-a-view-versus-a-copy\n",
      "  df_aux_stats.loc[:,'temporada'] = df_aux_stats.apply(season, axis = 1)\n"
     ]
    }
   ],
   "source": [
    "# criando uma feature para temporada e mudando a posicao dela e da data\n",
    "df_aux_stats.loc[:,'temporada'] = df_aux_stats.apply(season, axis = 1)\n",
    "df_aux = df_aux_stats[['data']]\n",
    "df_aux_stats = df_aux_stats.drop('data', axis = 1)\n",
    "df_aux_stats.insert(3, 'data', df_aux)"
   ]
  },
  {
   "cell_type": "code",
   "execution_count": 52,
   "id": "919dfbe8",
   "metadata": {
    "ExecuteTime": {
     "end_time": "2022-04-05T13:44:15.297092Z",
     "start_time": "2022-04-05T13:44:15.289906Z"
    }
   },
   "outputs": [],
   "source": [
    "df_aux = pd.DataFrame(df_aux_stats.groupby(['temporada', 'rodada']).mean()['chutes']).reset_index()"
   ]
  },
  {
   "cell_type": "code",
   "execution_count": 53,
   "id": "b4071112",
   "metadata": {
    "ExecuteTime": {
     "end_time": "2022-04-05T13:44:15.574639Z",
     "start_time": "2022-04-05T13:44:15.300160Z"
    }
   },
   "outputs": [
    {
     "data": {
      "image/png": "[encoded data removed]",
      "text/plain": [
       "<Figure size 1152x360 with 1 Axes>"
      ]
     },
     "metadata": {
      "needs_background": "light"
     },
     "output_type": "display_data"
    }
   ],
   "source": [
    "plt.figure(figsize=(16,5));\n",
    "sns.lineplot(y=df_aux.chutes, x=df_aux.rodada, hue=df_aux.temporada, palette='bright');\n",
    "plt.hlines(df_aux.chutes.mean(), xmin = 1, xmax=38, color='black', label='media', linestyle='dashed');\n",
    "plt.legend();"
   ]
  },
  {
   "cell_type": "code",
   "execution_count": 54,
   "id": "df234507",
   "metadata": {
    "ExecuteTime": {
     "end_time": "2022-04-05T13:44:15.604577Z",
     "start_time": "2022-04-05T13:44:15.576637Z"
    }
   },
   "outputs": [
    {
     "name": "stdout",
     "output_type": "stream",
     "text": [
      "Estatísticas dos chutes por temporada\n"
     ]
    },
    {
     "data": {
      "text/html": [
       "<div>\n",
       "<style scoped>\n",
       "    .dataframe tbody tr th:only-of-type {\n",
       "        vertical-align: middle;\n",
       "    }\n",
       "\n",
       "    .dataframe tbody tr th {\n",
       "        vertical-align: top;\n",
       "    }\n",
       "\n",
       "    .dataframe thead th {\n",
       "        text-align: right;\n",
       "    }\n",
       "</style>\n",
       "<table border=\"1\" class=\"dataframe\">\n",
       "  <thead>\n",
       "    <tr style=\"text-align: right;\">\n",
       "      <th></th>\n",
       "      <th>count</th>\n",
       "      <th>mean</th>\n",
       "      <th>std</th>\n",
       "      <th>min</th>\n",
       "      <th>25%</th>\n",
       "      <th>50%</th>\n",
       "      <th>75%</th>\n",
       "      <th>max</th>\n",
       "    </tr>\n",
       "    <tr>\n",
       "      <th>temporada</th>\n",
       "      <th></th>\n",
       "      <th></th>\n",
       "      <th></th>\n",
       "      <th></th>\n",
       "      <th></th>\n",
       "      <th></th>\n",
       "      <th></th>\n",
       "      <th></th>\n",
       "    </tr>\n",
       "  </thead>\n",
       "  <tbody>\n",
       "    <tr>\n",
       "      <th>2015</th>\n",
       "      <td>38.0</td>\n",
       "      <td>12.223684</td>\n",
       "      <td>0.773876</td>\n",
       "      <td>10.60</td>\n",
       "      <td>11.625000</td>\n",
       "      <td>12.425000</td>\n",
       "      <td>12.787500</td>\n",
       "      <td>13.500000</td>\n",
       "    </tr>\n",
       "    <tr>\n",
       "      <th>2016</th>\n",
       "      <td>38.0</td>\n",
       "      <td>12.525292</td>\n",
       "      <td>0.926860</td>\n",
       "      <td>10.30</td>\n",
       "      <td>11.950000</td>\n",
       "      <td>12.575000</td>\n",
       "      <td>12.987500</td>\n",
       "      <td>14.800000</td>\n",
       "    </tr>\n",
       "    <tr>\n",
       "      <th>2017</th>\n",
       "      <td>38.0</td>\n",
       "      <td>12.766813</td>\n",
       "      <td>0.792442</td>\n",
       "      <td>11.20</td>\n",
       "      <td>12.212500</td>\n",
       "      <td>12.875000</td>\n",
       "      <td>13.425000</td>\n",
       "      <td>13.900000</td>\n",
       "    </tr>\n",
       "    <tr>\n",
       "      <th>2018</th>\n",
       "      <td>38.0</td>\n",
       "      <td>12.630263</td>\n",
       "      <td>0.786073</td>\n",
       "      <td>10.80</td>\n",
       "      <td>12.150000</td>\n",
       "      <td>12.550000</td>\n",
       "      <td>13.037500</td>\n",
       "      <td>14.150000</td>\n",
       "    </tr>\n",
       "    <tr>\n",
       "      <th>2019</th>\n",
       "      <td>38.0</td>\n",
       "      <td>13.589547</td>\n",
       "      <td>0.918254</td>\n",
       "      <td>11.55</td>\n",
       "      <td>12.958333</td>\n",
       "      <td>13.633333</td>\n",
       "      <td>14.277778</td>\n",
       "      <td>15.388889</td>\n",
       "    </tr>\n",
       "    <tr>\n",
       "      <th>2020</th>\n",
       "      <td>38.0</td>\n",
       "      <td>12.620175</td>\n",
       "      <td>0.721747</td>\n",
       "      <td>11.30</td>\n",
       "      <td>12.150000</td>\n",
       "      <td>12.550000</td>\n",
       "      <td>13.050000</td>\n",
       "      <td>14.650000</td>\n",
       "    </tr>\n",
       "    <tr>\n",
       "      <th>2021</th>\n",
       "      <td>38.0</td>\n",
       "      <td>12.709211</td>\n",
       "      <td>0.929462</td>\n",
       "      <td>11.10</td>\n",
       "      <td>12.075000</td>\n",
       "      <td>12.700000</td>\n",
       "      <td>13.150000</td>\n",
       "      <td>14.900000</td>\n",
       "    </tr>\n",
       "  </tbody>\n",
       "</table>\n",
       "</div>"
      ],
      "text/plain": [
       "           count       mean       std    min        25%        50%        75%  \\\n",
       "temporada                                                                       \n",
       "2015        38.0  12.223684  0.773876  10.60  11.625000  12.425000  12.787500   \n",
       "2016        38.0  12.525292  0.926860  10.30  11.950000  12.575000  12.987500   \n",
       "2017        38.0  12.766813  0.792442  11.20  12.212500  12.875000  13.425000   \n",
       "2018        38.0  12.630263  0.786073  10.80  12.150000  12.550000  13.037500   \n",
       "2019        38.0  13.589547  0.918254  11.55  12.958333  13.633333  14.277778   \n",
       "2020        38.0  12.620175  0.721747  11.30  12.150000  12.550000  13.050000   \n",
       "2021        38.0  12.709211  0.929462  11.10  12.075000  12.700000  13.150000   \n",
       "\n",
       "                 max  \n",
       "temporada             \n",
       "2015       13.500000  \n",
       "2016       14.800000  \n",
       "2017       13.900000  \n",
       "2018       14.150000  \n",
       "2019       15.388889  \n",
       "2020       14.650000  \n",
       "2021       14.900000  "
      ]
     },
     "execution_count": 54,
     "metadata": {},
     "output_type": "execute_result"
    }
   ],
   "source": [
    "print('Estatísticas dos chutes por temporada')\n",
    "df_aux[df_aux.temporada != 2014].groupby('temporada')['chutes'].describe()"
   ]
  },
  {
   "cell_type": "markdown",
   "id": "2c4bdb0e",
   "metadata": {},
   "source": [
    "<b> Constatações <b>\n",
    "- Visualmente, o ano de 2019 a maior média de chutes ao gol em geral;\n",
    "- 2016, 2019 e 2021 vem maior variabilidade no número de chutes;\n",
    "- Visualmente as estatísticas estão bem próximas ao longo destes anos."
   ]
  },
  {
   "cell_type": "markdown",
   "id": "16c19c50",
   "metadata": {},
   "source": [
    "## 3.6 Faltas "
   ]
  },
  {
   "cell_type": "code",
   "execution_count": 55,
   "id": "50963e41",
   "metadata": {
    "ExecuteTime": {
     "end_time": "2022-04-05T13:44:15.618646Z",
     "start_time": "2022-04-05T13:44:15.605983Z"
    }
   },
   "outputs": [
    {
     "name": "stdout",
     "output_type": "stream",
     "text": [
      "Top 10 na média do n. de faltas por jogo\n"
     ]
    },
    {
     "data": {
      "text/plain": [
       "clube\n",
       "Vitoria          17.622807\n",
       "Figueirense      17.539474\n",
       "Ponte Preta      16.798246\n",
       "Coritiba         16.605263\n",
       "Joinville        16.578947\n",
       "Palmeiras        16.334586\n",
       "Internacional    16.131579\n",
       "Chapecoense      15.929515\n",
       "Atletico-GO      15.912281\n",
       "Bahia            15.878947\n",
       "Name: faltas, dtype: float64"
      ]
     },
     "execution_count": 55,
     "metadata": {},
     "output_type": "execute_result"
    }
   ],
   "source": [
    "print('Top 10 na média do n. de faltas por jogo')\n",
    "df3_stats.groupby('clube').mean().sort_values('faltas', ascending=False).head(10)['faltas']"
   ]
  },
  {
   "cell_type": "markdown",
   "id": "1da6cc3b",
   "metadata": {},
   "source": [
    "## 3.7 Cartões Amarelos e Cartões Vermelhos"
   ]
  },
  {
   "cell_type": "code",
   "execution_count": 56,
   "id": "e6968aea",
   "metadata": {
    "ExecuteTime": {
     "end_time": "2022-04-05T13:44:15.631395Z",
     "start_time": "2022-04-05T13:44:15.622447Z"
    }
   },
   "outputs": [
    {
     "name": "stdout",
     "output_type": "stream",
     "text": [
      "Top 10 na média do n. de cartões amarelos por jogo\n"
     ]
    },
    {
     "data": {
      "text/plain": [
       "clube\n",
       "Vitoria          2.666667\n",
       "Figueirense      2.592105\n",
       "Coritiba         2.585526\n",
       "Vasco            2.584211\n",
       "Parana           2.578947\n",
       "Internacional    2.557018\n",
       "Ponte Preta      2.491228\n",
       "Joinville        2.473684\n",
       "Goias            2.429825\n",
       "Avai             2.412281\n",
       "Name: cartao_amarelo, dtype: float64"
      ]
     },
     "execution_count": 56,
     "metadata": {},
     "output_type": "execute_result"
    }
   ],
   "source": [
    "print('Top 10 na média do n. de cartões amarelos por jogo')\n",
    "df3_stats.groupby('clube').mean().sort_values('cartao_amarelo', ascending=False).head(10)['cartao_amarelo']"
   ]
  },
  {
   "cell_type": "code",
   "execution_count": 57,
   "id": "5b65d10a",
   "metadata": {
    "ExecuteTime": {
     "end_time": "2022-04-05T13:44:15.648185Z",
     "start_time": "2022-04-05T13:44:15.638880Z"
    }
   },
   "outputs": [
    {
     "name": "stdout",
     "output_type": "stream",
     "text": [
      "Top 10 na média do n. de cartões vermelhos por jogo\n"
     ]
    },
    {
     "data": {
      "text/plain": [
       "clube\n",
       "Parana           0.236842\n",
       "Joinville        0.210526\n",
       "Vasco            0.178947\n",
       "Internacional    0.175439\n",
       "Vitoria          0.175439\n",
       "Figueirense      0.171053\n",
       "Santa Cruz       0.157895\n",
       "Fortaleza        0.157895\n",
       "Avai             0.157895\n",
       "Cuiaba           0.157895\n",
       "Name: cartao_vermelho, dtype: float64"
      ]
     },
     "execution_count": 57,
     "metadata": {},
     "output_type": "execute_result"
    }
   ],
   "source": [
    "print('Top 10 na média do n. de cartões vermelhos por jogo')\n",
    "df3_stats.groupby('clube').mean().sort_values('cartao_vermelho', ascending=False).head(10)['cartao_vermelho']"
   ]
  },
  {
   "cell_type": "markdown",
   "id": "32f6d87a",
   "metadata": {},
   "source": [
    "# 4.0 Hipóteses "
   ]
  },
  {
   "cell_type": "markdown",
   "id": "ad0b730e",
   "metadata": {},
   "source": [
    "Algumas hipóteses podem ajudar a determinar as melhores features e insights para construção dos modelos, tais como:\n",
    "<ol>\n",
    "    <li>O time que mais chuta a gol é o que faz mais gols;</li>\n",
    "    <li>O time que mais chuta a gol é o mais vencedor;</li>\n",
    "</ol>"
   ]
  },
  {
   "cell_type": "code",
   "execution_count": 58,
   "id": "25aafa95",
   "metadata": {
    "ExecuteTime": {
     "end_time": "2022-04-05T13:44:15.655031Z",
     "start_time": "2022-04-05T13:44:15.650514Z"
    }
   },
   "outputs": [],
   "source": [
    "df4_full = df3_full.copy()\n",
    "df4_stats = df3_stats.copy()"
   ]
  },
  {
   "cell_type": "code",
   "execution_count": 59,
   "id": "ef3fb76c",
   "metadata": {
    "ExecuteTime": {
     "end_time": "2022-04-05T13:44:15.660689Z",
     "start_time": "2022-04-05T13:44:15.656454Z"
    }
   },
   "outputs": [
    {
     "data": {
      "text/plain": [
       "['ID',\n",
       " 'temporada',\n",
       " 'rodada',\n",
       " 'data',\n",
       " 'clube',\n",
       " 'chutes',\n",
       " 'chutes_no_alvo',\n",
       " 'posse_de_bola',\n",
       " 'passes',\n",
       " 'precisao_passes',\n",
       " 'faltas',\n",
       " 'cartao_amarelo',\n",
       " 'cartao_vermelho',\n",
       " 'impedimentos',\n",
       " 'escanteios']"
      ]
     },
     "execution_count": 59,
     "metadata": {},
     "output_type": "execute_result"
    }
   ],
   "source": [
    "df4_stats.columns.tolist()"
   ]
  },
  {
   "cell_type": "code",
   "execution_count": 60,
   "id": "873e4136",
   "metadata": {
    "ExecuteTime": {
     "end_time": "2022-04-05T13:44:15.671334Z",
     "start_time": "2022-04-05T13:44:15.665325Z"
    }
   },
   "outputs": [
    {
     "data": {
      "text/plain": [
       "['ID',\n",
       " 'rodada',\n",
       " 'data',\n",
       " 'hora',\n",
       " 'temporada',\n",
       " 'dia',\n",
       " 'mandante',\n",
       " 'visitante',\n",
       " 'formacao_mandante',\n",
       " 'formacao_visitante',\n",
       " 'tecnico_mandante',\n",
       " 'tecnico_visitante',\n",
       " 'vencedor',\n",
       " 'arena',\n",
       " 'mandante_placar',\n",
       " 'visitante_placar',\n",
       " 'mandante_estado',\n",
       " 'visitante_estado',\n",
       " 'estado_vencedor',\n",
       " 'total_de_gols']"
      ]
     },
     "execution_count": 60,
     "metadata": {},
     "output_type": "execute_result"
    }
   ],
   "source": [
    "df4_full.columns.tolist()"
   ]
  },
  {
   "cell_type": "markdown",
   "id": "ce3e1669",
   "metadata": {},
   "source": [
    "## 4.1 Funções Úteis"
   ]
  },
  {
   "cell_type": "code",
   "execution_count": 61,
   "id": "35df2d01",
   "metadata": {
    "ExecuteTime": {
     "end_time": "2022-04-05T13:44:15.681429Z",
     "start_time": "2022-04-05T13:44:15.673244Z"
    }
   },
   "outputs": [],
   "source": [
    "def add_attributes(df_stats, df_full):\n",
    "    \"\"\"\n",
    "    This function merge some attributes from two differente df, considering home x away teams\n",
    "    \"\"\"\n",
    "   \n",
    "    columns = df_stats.columns.to_list()[3:-3]\n",
    "           \n",
    "    for row in range(len(df_full)):\n",
    "        for column in columns:\n",
    "            if (df_stats['ID'] == df_full.loc[row, 'ID']).any() & (df_stats['clube'] == df_full.loc[row, 'mandante']).any():\n",
    "                df_full.loc[row, 'mandante_' + column] = df_stats[(df_stats['ID'] == df_full.loc[row, 'ID']) & (df_stats['clube'] == df_full.loc[row, 'mandante'])][column].values[0]\n",
    "            else:\n",
    "                df_full.loc[row, 'mandante_' + column] = np.nan\n",
    "                \n",
    "            if (df_stats['ID'] == df_full.loc[row, 'ID']).any() & (df_stats['clube'] == df_full.loc[row, 'visitante']).any():       \n",
    "                df_full.loc[row, 'visitante_' + column] = df_stats[(df_stats['ID'] == df_full.loc[row, 'ID']) & (df_stats['clube'] == df_full.loc[row, 'visitante'])][column].values[0]\n",
    "            else:\n",
    "                df_full.loc[row, 'visitante_' + column] = np.nan\n",
    "                \n",
    "\n",
    "    return df_full\n",
    "\n",
    "def win(row):  \n",
    "    \"\"\"\n",
    "    Cria uma variavel auxiliar para contar as vitorias\n",
    "    \"\"\"\n",
    "    if (row.index == 'mandante').any():\n",
    "        if row['vencedor'] == 1:\n",
    "            return 1\n",
    "        else:\n",
    "            return 0\n",
    "        \n",
    "    elif (row.index == 'visitante').any():\n",
    "        if row['vencedor'] == 2:\n",
    "            return 1\n",
    "        else:\n",
    "            return 0\n",
    "    "
   ]
  },
  {
   "cell_type": "code",
   "execution_count": 62,
   "id": "ba525fca",
   "metadata": {
    "ExecuteTime": {
     "end_time": "2022-04-05T13:45:32.470765Z",
     "start_time": "2022-04-05T13:44:15.683178Z"
    }
   },
   "outputs": [],
   "source": [
    "df4 = add_attributes(df4_stats, df4_full)"
   ]
  },
  {
   "cell_type": "code",
   "execution_count": 63,
   "id": "36cd4587",
   "metadata": {
    "ExecuteTime": {
     "end_time": "2022-04-05T13:45:32.478798Z",
     "start_time": "2022-04-05T13:45:32.472372Z"
    }
   },
   "outputs": [
    {
     "data": {
      "text/plain": [
       "Index(['ID', 'rodada', 'data', 'hora', 'temporada', 'dia', 'mandante',\n",
       "       'visitante', 'formacao_mandante', 'formacao_visitante',\n",
       "       'tecnico_mandante', 'tecnico_visitante', 'vencedor', 'arena',\n",
       "       'mandante_placar', 'visitante_placar', 'mandante_estado',\n",
       "       'visitante_estado', 'estado_vencedor', 'total_de_gols', 'mandante_data',\n",
       "       'visitante_data', 'mandante_clube', 'visitante_clube',\n",
       "       'mandante_chutes', 'visitante_chutes', 'mandante_chutes_no_alvo',\n",
       "       'visitante_chutes_no_alvo', 'mandante_posse_de_bola',\n",
       "       'visitante_posse_de_bola', 'mandante_passes', 'visitante_passes',\n",
       "       'mandante_precisao_passes', 'visitante_precisao_passes',\n",
       "       'mandante_faltas', 'visitante_faltas', 'mandante_cartao_amarelo',\n",
       "       'visitante_cartao_amarelo'],\n",
       "      dtype='object')"
      ]
     },
     "execution_count": 63,
     "metadata": {},
     "output_type": "execute_result"
    }
   ],
   "source": [
    "df4.columns"
   ]
  },
  {
   "cell_type": "markdown",
   "id": "ec03f03f",
   "metadata": {},
   "source": [
    "## 4.2 O time que mais chuta a gol é o que mais faz gols "
   ]
  },
  {
   "cell_type": "code",
   "execution_count": 64,
   "id": "49c911cd",
   "metadata": {
    "ExecuteTime": {
     "end_time": "2022-04-05T13:45:32.485459Z",
     "start_time": "2022-04-05T13:45:32.480434Z"
    }
   },
   "outputs": [],
   "source": [
    "# removendo os problemas de valores zeros nos passes, que provavelmente indica registro incorreto também nos passes\n",
    "df_aux4 = df4[(df4.mandante_passes != 0) | (df4.visitante_passes != 0)]"
   ]
  },
  {
   "cell_type": "code",
   "execution_count": 65,
   "id": "c8a3c778",
   "metadata": {
    "ExecuteTime": {
     "end_time": "2022-04-05T13:45:32.622924Z",
     "start_time": "2022-04-05T13:45:32.486767Z"
    }
   },
   "outputs": [
    {
     "data": {
      "image/png": "[encoded data removed]",
      "text/plain": [
       "<Figure size 432x288 with 1 Axes>"
      ]
     },
     "metadata": {
      "needs_background": "light"
     },
     "output_type": "display_data"
    }
   ],
   "source": [
    "df_aux41 = pd.concat([df_aux4[['mandante', 'mandante_chutes', 'mandante_placar']] \\\n",
    "                      .rename(columns={'mandante': 'clube', 'mandante_chutes': 'chutes', 'mandante_placar': 'gols'}),\\\n",
    "                      df_aux4[['visitante', 'visitante_chutes', 'visitante_placar']] \\\n",
    "                      .rename(columns={'visitante': 'clube', 'visitante_chutes': 'chutes', 'visitante_placar': 'gols'})], axis=0)\n",
    "\n",
    "sns.scatterplot(x=df_aux41.chutes, y=df_aux41.gols);\n",
    "plt.title('Dispersão N. de Chutes x N. de Gols por partida');"
   ]
  },
  {
   "cell_type": "code",
   "execution_count": 66,
   "id": "a2ca5b0f",
   "metadata": {
    "ExecuteTime": {
     "end_time": "2022-04-05T13:45:32.635788Z",
     "start_time": "2022-04-05T13:45:32.624950Z"
    }
   },
   "outputs": [
    {
     "data": {
      "text/html": [
       "<div>\n",
       "<style scoped>\n",
       "    .dataframe tbody tr th:only-of-type {\n",
       "        vertical-align: middle;\n",
       "    }\n",
       "\n",
       "    .dataframe tbody tr th {\n",
       "        vertical-align: top;\n",
       "    }\n",
       "\n",
       "    .dataframe thead th {\n",
       "        text-align: right;\n",
       "    }\n",
       "</style>\n",
       "<table border=\"1\" class=\"dataframe\">\n",
       "  <thead>\n",
       "    <tr style=\"text-align: right;\">\n",
       "      <th></th>\n",
       "      <th>chutes</th>\n",
       "      <th>gols</th>\n",
       "    </tr>\n",
       "  </thead>\n",
       "  <tbody>\n",
       "    <tr>\n",
       "      <th>chutes</th>\n",
       "      <td>1.000000</td>\n",
       "      <td>0.187737</td>\n",
       "    </tr>\n",
       "    <tr>\n",
       "      <th>gols</th>\n",
       "      <td>0.187737</td>\n",
       "      <td>1.000000</td>\n",
       "    </tr>\n",
       "  </tbody>\n",
       "</table>\n",
       "</div>"
      ],
      "text/plain": [
       "          chutes      gols\n",
       "chutes  1.000000  0.187737\n",
       "gols    0.187737  1.000000"
      ]
     },
     "execution_count": 66,
     "metadata": {},
     "output_type": "execute_result"
    }
   ],
   "source": [
    "df_aux41.corr()"
   ]
  },
  {
   "cell_type": "code",
   "execution_count": 67,
   "id": "f6ff76a9",
   "metadata": {
    "ExecuteTime": {
     "end_time": "2022-04-05T13:45:32.646492Z",
     "start_time": "2022-04-05T13:45:32.637203Z"
    }
   },
   "outputs": [],
   "source": [
    "top_kicks_mean = df_aux41.groupby('clube').mean().sort_values('chutes', ascending=False)\n",
    "top_kicks_sum = df_aux41.groupby('clube').sum().sort_values('gols', ascending=False)"
   ]
  },
  {
   "cell_type": "code",
   "execution_count": 68,
   "id": "b2eae220",
   "metadata": {
    "ExecuteTime": {
     "end_time": "2022-04-05T13:45:32.655520Z",
     "start_time": "2022-04-05T13:45:32.648390Z"
    }
   },
   "outputs": [
    {
     "name": "stdout",
     "output_type": "stream",
     "text": [
      "Correlação entre as Médias\n"
     ]
    },
    {
     "data": {
      "text/html": [
       "<div>\n",
       "<style scoped>\n",
       "    .dataframe tbody tr th:only-of-type {\n",
       "        vertical-align: middle;\n",
       "    }\n",
       "\n",
       "    .dataframe tbody tr th {\n",
       "        vertical-align: top;\n",
       "    }\n",
       "\n",
       "    .dataframe thead th {\n",
       "        text-align: right;\n",
       "    }\n",
       "</style>\n",
       "<table border=\"1\" class=\"dataframe\">\n",
       "  <thead>\n",
       "    <tr style=\"text-align: right;\">\n",
       "      <th></th>\n",
       "      <th>chutes</th>\n",
       "      <th>gols</th>\n",
       "    </tr>\n",
       "  </thead>\n",
       "  <tbody>\n",
       "    <tr>\n",
       "      <th>chutes</th>\n",
       "      <td>1.000000</td>\n",
       "      <td>0.770229</td>\n",
       "    </tr>\n",
       "    <tr>\n",
       "      <th>gols</th>\n",
       "      <td>0.770229</td>\n",
       "      <td>1.000000</td>\n",
       "    </tr>\n",
       "  </tbody>\n",
       "</table>\n",
       "</div>"
      ],
      "text/plain": [
       "          chutes      gols\n",
       "chutes  1.000000  0.770229\n",
       "gols    0.770229  1.000000"
      ]
     },
     "execution_count": 68,
     "metadata": {},
     "output_type": "execute_result"
    }
   ],
   "source": [
    "print('Correlação entre as Médias')\n",
    "top_kicks_mean.corr()"
   ]
  },
  {
   "cell_type": "code",
   "execution_count": 69,
   "id": "b23704cc",
   "metadata": {
    "ExecuteTime": {
     "end_time": "2022-04-05T13:45:32.665181Z",
     "start_time": "2022-04-05T13:45:32.658092Z"
    }
   },
   "outputs": [
    {
     "name": "stdout",
     "output_type": "stream",
     "text": [
      "Correlação entre as somas\n"
     ]
    },
    {
     "data": {
      "text/html": [
       "<div>\n",
       "<style scoped>\n",
       "    .dataframe tbody tr th:only-of-type {\n",
       "        vertical-align: middle;\n",
       "    }\n",
       "\n",
       "    .dataframe tbody tr th {\n",
       "        vertical-align: top;\n",
       "    }\n",
       "\n",
       "    .dataframe thead th {\n",
       "        text-align: right;\n",
       "    }\n",
       "</style>\n",
       "<table border=\"1\" class=\"dataframe\">\n",
       "  <thead>\n",
       "    <tr style=\"text-align: right;\">\n",
       "      <th></th>\n",
       "      <th>chutes</th>\n",
       "      <th>gols</th>\n",
       "    </tr>\n",
       "  </thead>\n",
       "  <tbody>\n",
       "    <tr>\n",
       "      <th>chutes</th>\n",
       "      <td>1.00000</td>\n",
       "      <td>0.98131</td>\n",
       "    </tr>\n",
       "    <tr>\n",
       "      <th>gols</th>\n",
       "      <td>0.98131</td>\n",
       "      <td>1.00000</td>\n",
       "    </tr>\n",
       "  </tbody>\n",
       "</table>\n",
       "</div>"
      ],
      "text/plain": [
       "         chutes     gols\n",
       "chutes  1.00000  0.98131\n",
       "gols    0.98131  1.00000"
      ]
     },
     "execution_count": 69,
     "metadata": {},
     "output_type": "execute_result"
    }
   ],
   "source": [
    "print('Correlação entre as somas')\n",
    "top_kicks_sum.corr()"
   ]
  },
  {
   "cell_type": "code",
   "execution_count": 70,
   "id": "6201eee6",
   "metadata": {
    "ExecuteTime": {
     "end_time": "2022-04-05T13:45:32.885862Z",
     "start_time": "2022-04-05T13:45:32.667342Z"
    }
   },
   "outputs": [
    {
     "data": {
      "image/png": "[encoded data removed]",
      "text/plain": [
       "<Figure size 864x288 with 2 Axes>"
      ]
     },
     "metadata": {
      "needs_background": "light"
     },
     "output_type": "display_data"
    }
   ],
   "source": [
    "plt.figure(figsize=(12,4));\n",
    "\n",
    "plt.subplot(1,2,1);\n",
    "plt.scatter(x=top_kicks_mean.chutes, y=top_kicks_mean.gols);\n",
    "plt.ylabel('Chutes');\n",
    "plt.xlabel('Gols');\n",
    "plt.title('Dispersão Média de Chutes x Média de Gols');\n",
    "\n",
    "\n",
    "plt.subplot(1,2,2);\n",
    "plt.scatter(x=top_kicks_sum.chutes, y=top_kicks_sum.gols);\n",
    "plt.ylabel('Chutes');\n",
    "plt.xlabel('Gols');\n",
    "plt.title('Dispersão Soma de Chutes x Soma de Gols');"
   ]
  },
  {
   "cell_type": "markdown",
   "id": "9c705ac8",
   "metadata": {},
   "source": [
    "<b> Constatações </b>\n",
    "- Numericamente, dadas as características do futebol em ser um jogo de baixa pontuação, não há correlação forte entre o número de chutes e o número de gols, quando os números são avaliados por partida.\n",
    "- Entretanto, ao comparar os valores agregados pela média ou pela soma, nota-se que há forte correlação entre as duas variáveis."
   ]
  },
  {
   "cell_type": "markdown",
   "id": "12f6f780",
   "metadata": {
    "ExecuteTime": {
     "end_time": "2022-03-23T20:04:11.040515Z",
     "start_time": "2022-03-23T20:04:11.035041Z"
    }
   },
   "source": [
    "<b> Conclusão: </b> parcialmente confirmada\n",
    "- As evidências apontam que os times que mais chutam são os que possuem maior quantidade de gols marcados;\n",
    "- Apesar de ser fraca a correlação por partida, este fator é decisivo em longo prazo (média e acumulado)."
   ]
  },
  {
   "cell_type": "markdown",
   "id": "5700aa4a",
   "metadata": {},
   "source": [
    "## 4.3 O time que é mais chuta é o mais vencedor"
   ]
  },
  {
   "cell_type": "code",
   "execution_count": 71,
   "id": "36042407",
   "metadata": {
    "ExecuteTime": {
     "end_time": "2022-04-05T13:45:33.203346Z",
     "start_time": "2022-04-05T13:45:32.887943Z"
    }
   },
   "outputs": [
    {
     "name": "stderr",
     "output_type": "stream",
     "text": [
      "/tmp/ipykernel_18438/636460711.py:2: SettingWithCopyWarning: \n",
      "A value is trying to be set on a copy of a slice from a DataFrame.\n",
      "Try using .loc[row_indexer,col_indexer] = value instead\n",
      "\n",
      "See the caveats in the documentation: https://pandas.pydata.org/pandas-docs/stable/user_guide/indexing.html#returning-a-view-versus-a-copy\n",
      "  df_aux42_mandante.loc[:,'venceu'] = df_aux42_mandante.apply(win, axis = 1)\n",
      "/tmp/ipykernel_18438/636460711.py:5: SettingWithCopyWarning: \n",
      "A value is trying to be set on a copy of a slice from a DataFrame.\n",
      "Try using .loc[row_indexer,col_indexer] = value instead\n",
      "\n",
      "See the caveats in the documentation: https://pandas.pydata.org/pandas-docs/stable/user_guide/indexing.html#returning-a-view-versus-a-copy\n",
      "  df_aux42_visitante.loc[:,'venceu'] = df_aux42_visitante.apply(win, axis = 1)\n"
     ]
    }
   ],
   "source": [
    "df_aux42_mandante = df_aux4[['temporada', 'mandante', 'vencedor']]\n",
    "df_aux42_mandante.loc[:,'venceu'] = df_aux42_mandante.apply(win, axis = 1)\n",
    "\n",
    "df_aux42_visitante = df_aux4[['temporada', 'visitante', 'vencedor']]\n",
    "df_aux42_visitante.loc[:,'venceu'] = df_aux42_visitante.apply(win, axis = 1)\n",
    "\n",
    "df_aux42_visitante = df_aux42_visitante.rename(columns={'visitante': 'clube'})\n",
    "df_aux42_mandante = df_aux42_mandante.rename(columns={'mandante': 'clube'})\n",
    "\n",
    "df_aux42 = pd.concat([df_aux42_mandante, df_aux42_visitante], axis=0).drop('vencedor', axis = 1)\n",
    "df_aux42 = df_aux42.reset_index(drop=True)"
   ]
  },
  {
   "cell_type": "code",
   "execution_count": 72,
   "id": "86b194f8",
   "metadata": {
    "ExecuteTime": {
     "end_time": "2022-04-05T13:45:33.220009Z",
     "start_time": "2022-04-05T13:45:33.205237Z"
    }
   },
   "outputs": [],
   "source": [
    "# criando variaveis auxiliares e contando as vitorias\n",
    "df_aux421 = pd.DataFrame(df_aux42.groupby(['temporada', 'clube']).value_counts()).reset_index()\n",
    "df_aux421 = df_aux421[df_aux421['venceu'] == 1].rename(columns={0: 'n_vitorias'}).drop('venceu', axis = 1)\n",
    "df_aux421 = df_aux421.groupby(['clube']).sum().drop('temporada', axis = 1)"
   ]
  },
  {
   "cell_type": "code",
   "execution_count": 73,
   "id": "82ef5bb0",
   "metadata": {
    "ExecuteTime": {
     "end_time": "2022-04-05T13:45:33.230476Z",
     "start_time": "2022-04-05T13:45:33.221506Z"
    }
   },
   "outputs": [
    {
     "data": {
      "text/html": [
       "<div>\n",
       "<style scoped>\n",
       "    .dataframe tbody tr th:only-of-type {\n",
       "        vertical-align: middle;\n",
       "    }\n",
       "\n",
       "    .dataframe tbody tr th {\n",
       "        vertical-align: top;\n",
       "    }\n",
       "\n",
       "    .dataframe thead th {\n",
       "        text-align: right;\n",
       "    }\n",
       "</style>\n",
       "<table border=\"1\" class=\"dataframe\">\n",
       "  <thead>\n",
       "    <tr style=\"text-align: right;\">\n",
       "      <th></th>\n",
       "      <th>n_vitorias</th>\n",
       "      <th>chutes_sum</th>\n",
       "    </tr>\n",
       "    <tr>\n",
       "      <th>clube</th>\n",
       "      <th></th>\n",
       "      <th></th>\n",
       "    </tr>\n",
       "  </thead>\n",
       "  <tbody>\n",
       "    <tr>\n",
       "      <th>America-MG</th>\n",
       "      <td>30</td>\n",
       "      <td>1405.0</td>\n",
       "    </tr>\n",
       "    <tr>\n",
       "      <th>Athletico-PR</th>\n",
       "      <td>97</td>\n",
       "      <td>3096.0</td>\n",
       "    </tr>\n",
       "    <tr>\n",
       "      <th>Atletico-GO</th>\n",
       "      <td>34</td>\n",
       "      <td>1344.0</td>\n",
       "    </tr>\n",
       "    <tr>\n",
       "      <th>Atletico-MG</th>\n",
       "      <td>127</td>\n",
       "      <td>3753.0</td>\n",
       "    </tr>\n",
       "    <tr>\n",
       "      <th>Avai</th>\n",
       "      <td>23</td>\n",
       "      <td>1308.0</td>\n",
       "    </tr>\n",
       "  </tbody>\n",
       "</table>\n",
       "</div>"
      ],
      "text/plain": [
       "              n_vitorias  chutes_sum\n",
       "clube                               \n",
       "America-MG            30      1405.0\n",
       "Athletico-PR          97      3096.0\n",
       "Atletico-GO           34      1344.0\n",
       "Atletico-MG          127      3753.0\n",
       "Avai                  23      1308.0"
      ]
     },
     "execution_count": 73,
     "metadata": {},
     "output_type": "execute_result"
    }
   ],
   "source": [
    "df_aux_422 = pd.concat([df_aux421, top_kicks_sum.rename(columns={'chutes': 'chutes_sum'})[['chutes_sum']]], axis = 1)\n",
    "df_aux_422.head()"
   ]
  },
  {
   "cell_type": "code",
   "execution_count": 74,
   "id": "28ccd257",
   "metadata": {
    "ExecuteTime": {
     "end_time": "2022-04-05T13:45:33.241194Z",
     "start_time": "2022-04-05T13:45:33.231977Z"
    }
   },
   "outputs": [
    {
     "data": {
      "text/html": [
       "<div>\n",
       "<style scoped>\n",
       "    .dataframe tbody tr th:only-of-type {\n",
       "        vertical-align: middle;\n",
       "    }\n",
       "\n",
       "    .dataframe tbody tr th {\n",
       "        vertical-align: top;\n",
       "    }\n",
       "\n",
       "    .dataframe thead th {\n",
       "        text-align: right;\n",
       "    }\n",
       "</style>\n",
       "<table border=\"1\" class=\"dataframe\">\n",
       "  <thead>\n",
       "    <tr style=\"text-align: right;\">\n",
       "      <th></th>\n",
       "      <th>n_vitorias</th>\n",
       "      <th>chutes_sum</th>\n",
       "    </tr>\n",
       "  </thead>\n",
       "  <tbody>\n",
       "    <tr>\n",
       "      <th>n_vitorias</th>\n",
       "      <td>1.000000</td>\n",
       "      <td>0.971627</td>\n",
       "    </tr>\n",
       "    <tr>\n",
       "      <th>chutes_sum</th>\n",
       "      <td>0.971627</td>\n",
       "      <td>1.000000</td>\n",
       "    </tr>\n",
       "  </tbody>\n",
       "</table>\n",
       "</div>"
      ],
      "text/plain": [
       "            n_vitorias  chutes_sum\n",
       "n_vitorias    1.000000    0.971627\n",
       "chutes_sum    0.971627    1.000000"
      ]
     },
     "execution_count": 74,
     "metadata": {},
     "output_type": "execute_result"
    }
   ],
   "source": [
    "df_aux_422.corr()"
   ]
  },
  {
   "cell_type": "markdown",
   "id": "758d3c4d",
   "metadata": {},
   "source": [
    "<b> Conclusão: </b> confirmada.\n",
    "- A variável da soma de chutes por time tem uma correlação forte com o número de vitórias, já que "
   ]
  },
  {
   "cell_type": "markdown",
   "id": "24c36aec",
   "metadata": {},
   "source": [
    "#  5.0 Feature Engineering"
   ]
  },
  {
   "cell_type": "code",
   "execution_count": 75,
   "id": "45a9d0b0",
   "metadata": {
    "ExecuteTime": {
     "end_time": "2022-04-05T13:45:33.260558Z",
     "start_time": "2022-04-05T13:45:33.245369Z"
    }
   },
   "outputs": [
    {
     "data": {
      "text/plain": [
       "formacao_mandante     4\n",
       "formacao_visitante    4\n",
       "tecnico_mandante      1\n",
       "tecnico_visitante     1\n",
       "dtype: int64"
      ]
     },
     "execution_count": 75,
     "metadata": {},
     "output_type": "execute_result"
    }
   ],
   "source": [
    "# Verificando se existem na no dataset\n",
    "df3_full.isna().sum()[df3_full.isna().sum() > 0]"
   ]
  },
  {
   "cell_type": "code",
   "execution_count": 76,
   "id": "2b6eccec",
   "metadata": {
    "ExecuteTime": {
     "end_time": "2022-04-05T13:45:33.267032Z",
     "start_time": "2022-04-05T13:45:33.263001Z"
    }
   },
   "outputs": [
    {
     "data": {
      "text/plain": [
       "['ID',\n",
       " 'rodada',\n",
       " 'data',\n",
       " 'hora',\n",
       " 'temporada',\n",
       " 'dia',\n",
       " 'mandante',\n",
       " 'visitante',\n",
       " 'formacao_mandante',\n",
       " 'formacao_visitante',\n",
       " 'tecnico_mandante',\n",
       " 'tecnico_visitante',\n",
       " 'vencedor',\n",
       " 'arena',\n",
       " 'mandante_placar',\n",
       " 'visitante_placar',\n",
       " 'mandante_estado',\n",
       " 'visitante_estado',\n",
       " 'estado_vencedor',\n",
       " 'total_de_gols']"
      ]
     },
     "execution_count": 76,
     "metadata": {},
     "output_type": "execute_result"
    }
   ],
   "source": [
    "df3_full.columns.tolist()"
   ]
  },
  {
   "cell_type": "code",
   "execution_count": 77,
   "id": "452c9327",
   "metadata": {
    "ExecuteTime": {
     "end_time": "2022-04-05T13:45:33.272278Z",
     "start_time": "2022-04-05T13:45:33.268429Z"
    }
   },
   "outputs": [],
   "source": [
    "# Optou-se aqui por remover estas features\n",
    "df5 = df3_full.drop(['formacao_mandante',\n",
    "                     'formacao_visitante',\n",
    "                     'tecnico_mandante',\n",
    "                     'tecnico_visitante',\n",
    "                     #'mandante_placar',\n",
    "                     #'visitante_placar',\n",
    "                     'estado_vencedor',\n",
    "                     'total_de_gols'], axis = 1)"
   ]
  },
  {
   "cell_type": "markdown",
   "id": "ebfaba99",
   "metadata": {},
   "source": [
    "Baseado no artigo referenciado abaixo, as seguintes features serão criadas:\n",
    "- Número de vitórias na temporada;\n",
    "- Número de derrotas do time na temporada;\n",
    "- Número de empates do time na temporada;\n",
    "- Número de vitórias do time em casa (%);\n",
    "- Número de vitórias do time fora de casa (%);\n",
    "- Número de empates do time em casa (%);\n",
    "- Número de empates do time fora de casa (%);\n",
    "- Número de derrotas do time em casa (%);\n",
    "- Número de derrotas do time fora de casa (%);\n",
    "- Sequência de vitórias em casa do time mandante;\n",
    "- Sequência de vitórias em casa do time visitante;\n",
    "- Sequência sem vitórias fora de casa do time mandante;\n",
    "- Sequência sem vitórias fora de casa do time visitante;\n",
    "- O time jogou na última temporada;\n",
    "- Dias desde o último jogo;\n",
    "- Gols marcados essa temporada jogando em casa;\n",
    "- Gols marcados essa temporada jogando fora de casa;\n",
    "- Gols sofridos essa temporada jogando em casa;\n",
    "- Gols sofridos essa temporada jogando fora de casa;\n",
    "- Número de vitórias do mandante contra o adversário;\n",
    "- Número de vitórias do visitante contra o adversário."
   ]
  },
  {
   "cell_type": "markdown",
   "id": "c5e2add6",
   "metadata": {},
   "source": [
    "## 5.1 Vitórias, Derrotas e Empates"
   ]
  },
  {
   "cell_type": "code",
   "execution_count": 78,
   "id": "0b555f6f",
   "metadata": {
    "ExecuteTime": {
     "end_time": "2022-04-05T13:45:44.831414Z",
     "start_time": "2022-04-05T13:45:33.274032Z"
    }
   },
   "outputs": [],
   "source": [
    "pd.options.mode.chained_assignment = None\n",
    "\n",
    "temporadas = df5['temporada'].value_counts().index.sort_values().values\n",
    "\n",
    "df5['mandante_vitorias'] = df5['mandante']\n",
    "df5['visitante_vitorias'] = df5['mandante']\n",
    "\n",
    "df5['mandante_derrotas'] = df5['mandante']\n",
    "df5['visitante_derrotas'] = df5['mandante']\n",
    "\n",
    "df5['mandante_empates'] = df5['mandante']\n",
    "df5['visitante_empates'] = df5['mandante']\n",
    "\n",
    "for temporada in temporadas:\n",
    "    dft = df5[df5['temporada'] == temporada]\n",
    "    \n",
    "    for index, row in dft.iterrows():\n",
    "        df_home = dft[(dft['rodada'] < row['rodada']) & (dft['mandante'] == row['mandante'])]\n",
    "        c1_wins = 0\n",
    "        c1_loss = 0\n",
    "        c1_draw = 0\n",
    "        for index2, row2 in df_home.iterrows():\n",
    "            if row2['vencedor'] == 0:\n",
    "                c1_draw+=1\n",
    "            elif row2['vencedor'] == 1:\n",
    "                c1_wins+=1\n",
    "            elif row2['vencedor'] == 2:\n",
    "                c1_loss+=1\n",
    "\n",
    "        df_away = dft[(dft['rodada'] < row['rodada']) & (dft['visitante'] == row['mandante'])]\n",
    "        for index2, row2 in df_away.iterrows():\n",
    "            if row2['vencedor'] == 1:\n",
    "                c1_loss+=1                \n",
    "            elif row2['vencedor'] == 0:\n",
    "                c1_draw+=1\n",
    "            elif row2['vencedor'] == 2:\n",
    "                c1_wins+=1\n",
    "\n",
    "\n",
    "        df_home = dft[(dft['rodada'] < row['rodada']) & (dft['mandante'] == row['visitante'])]\n",
    "        c2_wins = 0\n",
    "        c2_loss = 0\n",
    "        c2_draw = 0\n",
    "        for index2, row2 in df_home.iterrows():\n",
    "            if row2['vencedor'] == 0:\n",
    "                c2_draw+=1\n",
    "            elif row2['vencedor'] == 1:\n",
    "                c2_wins+=1                \n",
    "            elif row2['vencedor'] == 2:\n",
    "                c2_loss+=1\n",
    "\n",
    "        df_away = dft[(dft['rodada'] < row['rodada']) & (dft['visitante'] == row['visitante'])]\n",
    "        for index2, row2 in df_away.iterrows():\n",
    "            if row2['vencedor'] == 1:\n",
    "                c2_loss+=1                \n",
    "            elif row2['vencedor'] == 0:\n",
    "                c2_draw+=1\n",
    "            elif row2['vencedor'] == 2:\n",
    "                c2_wins+=1\n",
    "                \n",
    "\n",
    "\n",
    "        df5.at[index, 'mandante_vitorias'] = c1_wins\n",
    "        df5.at[index, 'visitante_vitorias'] = c2_wins\n",
    "        \n",
    "        df5.at[index, 'mandante_derrotas'] = c1_loss\n",
    "        df5.at[index, 'visitante_derrotas'] = c2_loss\n",
    "        \n",
    "        df5.at[index, 'mandante_empates'] = c1_draw\n",
    "        df5.at[index, 'visitante_empates'] = c2_draw"
   ]
  },
  {
   "cell_type": "code",
   "execution_count": 79,
   "id": "712c26e4",
   "metadata": {
    "ExecuteTime": {
     "end_time": "2022-04-05T13:45:44.849618Z",
     "start_time": "2022-04-05T13:45:44.833038Z"
    }
   },
   "outputs": [
    {
     "data": {
      "text/html": [
       "<div>\n",
       "<style scoped>\n",
       "    .dataframe tbody tr th:only-of-type {\n",
       "        vertical-align: middle;\n",
       "    }\n",
       "\n",
       "    .dataframe tbody tr th {\n",
       "        vertical-align: top;\n",
       "    }\n",
       "\n",
       "    .dataframe thead th {\n",
       "        text-align: right;\n",
       "    }\n",
       "</style>\n",
       "<table border=\"1\" class=\"dataframe\">\n",
       "  <thead>\n",
       "    <tr style=\"text-align: right;\">\n",
       "      <th></th>\n",
       "      <th>ID</th>\n",
       "      <th>rodada</th>\n",
       "      <th>data</th>\n",
       "      <th>hora</th>\n",
       "      <th>temporada</th>\n",
       "      <th>dia</th>\n",
       "      <th>mandante</th>\n",
       "      <th>visitante</th>\n",
       "      <th>vencedor</th>\n",
       "      <th>arena</th>\n",
       "      <th>mandante_placar</th>\n",
       "      <th>visitante_placar</th>\n",
       "      <th>mandante_estado</th>\n",
       "      <th>visitante_estado</th>\n",
       "      <th>mandante_vitorias</th>\n",
       "      <th>visitante_vitorias</th>\n",
       "      <th>mandante_derrotas</th>\n",
       "      <th>visitante_derrotas</th>\n",
       "      <th>mandante_empates</th>\n",
       "      <th>visitante_empates</th>\n",
       "    </tr>\n",
       "  </thead>\n",
       "  <tbody>\n",
       "    <tr>\n",
       "      <th>0</th>\n",
       "      <td>4987</td>\n",
       "      <td>1</td>\n",
       "      <td>2015-05-09</td>\n",
       "      <td>18:32</td>\n",
       "      <td>2015</td>\n",
       "      <td>Sabado</td>\n",
       "      <td>Chapecoense</td>\n",
       "      <td>Coritiba</td>\n",
       "      <td>1</td>\n",
       "      <td>arena conda</td>\n",
       "      <td>2</td>\n",
       "      <td>1</td>\n",
       "      <td>SC</td>\n",
       "      <td>PR</td>\n",
       "      <td>0</td>\n",
       "      <td>0</td>\n",
       "      <td>0</td>\n",
       "      <td>0</td>\n",
       "      <td>0</td>\n",
       "      <td>0</td>\n",
       "    </tr>\n",
       "    <tr>\n",
       "      <th>1</th>\n",
       "      <td>4988</td>\n",
       "      <td>1</td>\n",
       "      <td>2015-05-09</td>\n",
       "      <td>18:33</td>\n",
       "      <td>2015</td>\n",
       "      <td>Sabado</td>\n",
       "      <td>Palmeiras</td>\n",
       "      <td>Atletico-MG</td>\n",
       "      <td>0</td>\n",
       "      <td>allianz parque</td>\n",
       "      <td>2</td>\n",
       "      <td>2</td>\n",
       "      <td>SP</td>\n",
       "      <td>MG</td>\n",
       "      <td>0</td>\n",
       "      <td>0</td>\n",
       "      <td>0</td>\n",
       "      <td>0</td>\n",
       "      <td>0</td>\n",
       "      <td>0</td>\n",
       "    </tr>\n",
       "    <tr>\n",
       "      <th>2</th>\n",
       "      <td>4989</td>\n",
       "      <td>1</td>\n",
       "      <td>2015-05-09</td>\n",
       "      <td>21:00</td>\n",
       "      <td>2015</td>\n",
       "      <td>Sabado</td>\n",
       "      <td>Fluminense</td>\n",
       "      <td>Joinville</td>\n",
       "      <td>1</td>\n",
       "      <td>maracana</td>\n",
       "      <td>1</td>\n",
       "      <td>0</td>\n",
       "      <td>RJ</td>\n",
       "      <td>SC</td>\n",
       "      <td>0</td>\n",
       "      <td>0</td>\n",
       "      <td>0</td>\n",
       "      <td>0</td>\n",
       "      <td>0</td>\n",
       "      <td>0</td>\n",
       "    </tr>\n",
       "    <tr>\n",
       "      <th>3</th>\n",
       "      <td>4990</td>\n",
       "      <td>1</td>\n",
       "      <td>2015-05-10</td>\n",
       "      <td>11:00</td>\n",
       "      <td>2015</td>\n",
       "      <td>Domingo</td>\n",
       "      <td>Gremio</td>\n",
       "      <td>Ponte Preta</td>\n",
       "      <td>0</td>\n",
       "      <td>arena do gremio</td>\n",
       "      <td>3</td>\n",
       "      <td>3</td>\n",
       "      <td>RS</td>\n",
       "      <td>SP</td>\n",
       "      <td>0</td>\n",
       "      <td>0</td>\n",
       "      <td>0</td>\n",
       "      <td>0</td>\n",
       "      <td>0</td>\n",
       "      <td>0</td>\n",
       "    </tr>\n",
       "    <tr>\n",
       "      <th>4</th>\n",
       "      <td>4991</td>\n",
       "      <td>1</td>\n",
       "      <td>2015-05-10</td>\n",
       "      <td>16:00</td>\n",
       "      <td>2015</td>\n",
       "      <td>Domingo</td>\n",
       "      <td>Athletico-PR</td>\n",
       "      <td>Internacional</td>\n",
       "      <td>1</td>\n",
       "      <td>estadio joaquim americo guimaraes</td>\n",
       "      <td>3</td>\n",
       "      <td>0</td>\n",
       "      <td>PR</td>\n",
       "      <td>RS</td>\n",
       "      <td>0</td>\n",
       "      <td>0</td>\n",
       "      <td>0</td>\n",
       "      <td>0</td>\n",
       "      <td>0</td>\n",
       "      <td>0</td>\n",
       "    </tr>\n",
       "  </tbody>\n",
       "</table>\n",
       "</div>"
      ],
      "text/plain": [
       "     ID  rodada       data   hora  temporada      dia      mandante  \\\n",
       "0  4987       1 2015-05-09  18:32       2015   Sabado   Chapecoense   \n",
       "1  4988       1 2015-05-09  18:33       2015   Sabado     Palmeiras   \n",
       "2  4989       1 2015-05-09  21:00       2015   Sabado    Fluminense   \n",
       "3  4990       1 2015-05-10  11:00       2015  Domingo        Gremio   \n",
       "4  4991       1 2015-05-10  16:00       2015  Domingo  Athletico-PR   \n",
       "\n",
       "       visitante  vencedor                              arena  \\\n",
       "0       Coritiba         1                        arena conda   \n",
       "1    Atletico-MG         0                     allianz parque   \n",
       "2      Joinville         1                           maracana   \n",
       "3    Ponte Preta         0                    arena do gremio   \n",
       "4  Internacional         1  estadio joaquim americo guimaraes   \n",
       "\n",
       "   mandante_placar  visitante_placar mandante_estado visitante_estado  \\\n",
       "0                2                 1              SC               PR   \n",
       "1                2                 2              SP               MG   \n",
       "2                1                 0              RJ               SC   \n",
       "3                3                 3              RS               SP   \n",
       "4                3                 0              PR               RS   \n",
       "\n",
       "  mandante_vitorias visitante_vitorias mandante_derrotas visitante_derrotas  \\\n",
       "0                 0                  0                 0                  0   \n",
       "1                 0                  0                 0                  0   \n",
       "2                 0                  0                 0                  0   \n",
       "3                 0                  0                 0                  0   \n",
       "4                 0                  0                 0                  0   \n",
       "\n",
       "  mandante_empates visitante_empates  \n",
       "0                0                 0  \n",
       "1                0                 0  \n",
       "2                0                 0  \n",
       "3                0                 0  \n",
       "4                0                 0  "
      ]
     },
     "execution_count": 79,
     "metadata": {},
     "output_type": "execute_result"
    }
   ],
   "source": [
    "df5.head()"
   ]
  },
  {
   "cell_type": "markdown",
   "id": "c39d7711",
   "metadata": {},
   "source": [
    "## 5.2 Vitórias, Derrotas e Empates como Mandante ou Visitante"
   ]
  },
  {
   "cell_type": "code",
   "execution_count": 80,
   "id": "4090095a",
   "metadata": {
    "ExecuteTime": {
     "end_time": "2022-04-05T13:45:44.966301Z",
     "start_time": "2022-04-05T13:45:44.853059Z"
    }
   },
   "outputs": [],
   "source": [
    "def find_wins_home(ser):\n",
    "    wins = [0]\n",
    "    \n",
    "    [wins.append(wins[-1]+1) if win==0 else wins.append(wins[-1]) for win in ser.values]\n",
    "    \n",
    "    return wins[0:-1]\n",
    "\n",
    "def find_wins_away(ser):\n",
    "    wins = [0]\n",
    "    \n",
    "    [wins.append(wins[-1]+1) if win==1 else wins.append(wins[-1]) for win in ser.values]\n",
    "    \n",
    "    return wins[0:-1]\n",
    "\n",
    "def find_draws(ser):\n",
    "    wins = [0]\n",
    "    \n",
    "    [wins.append(wins[-1]+1) if win==2 else wins.append(wins[-1]) for win in ser.values]\n",
    "    \n",
    "    return wins[0:-1]\n",
    "\n",
    "df5['vitorias_como_mandante'] = df5.groupby(['temporada', 'mandante'])['vencedor'].transform(lambda x: find_wins_home(x))\n",
    "df5['derrotas_como_mandante'] = df5.groupby(['temporada', 'mandante'])['vencedor'].transform(lambda x: find_wins_away(x))\n",
    "df5['vitorias_como_visitante'] = df5.groupby(['temporada', 'visitante'])['vencedor'].transform(lambda x: find_wins_away(x))\n",
    "df5['derrotas_como_visitante'] = df5.groupby(['temporada', 'visitante'])['vencedor'].transform(lambda x: find_wins_home(x))\n",
    "df5['empates_como_mandante'] = df5.groupby(['temporada', 'mandante'])['vencedor'].transform(lambda x: find_draws(x)) \n",
    "df5['empates_como_visitante'] = df5.groupby(['temporada', 'visitante'])['vencedor'].transform(lambda x: find_draws(x))"
   ]
  },
  {
   "cell_type": "markdown",
   "id": "72d1325c",
   "metadata": {},
   "source": [
    "## 5.3 Vitórias Seguidas"
   ]
  },
  {
   "cell_type": "code",
   "execution_count": 81,
   "id": "9339210c",
   "metadata": {
    "ExecuteTime": {
     "end_time": "2022-04-05T13:45:44.975293Z",
     "start_time": "2022-04-05T13:45:44.968843Z"
    }
   },
   "outputs": [],
   "source": [
    "df5['vitorias_do_mandante'] = [1 if x == 0 else 0 for x in df5['vencedor'].values]\n",
    "df5['vitorias_do_visitante'] = [1 if x == 1 else 0 for x in df5['vencedor'].values]"
   ]
  },
  {
   "cell_type": "code",
   "execution_count": 82,
   "id": "1bea721b",
   "metadata": {
    "ExecuteTime": {
     "end_time": "2022-04-05T13:45:45.061421Z",
     "start_time": "2022-04-05T13:45:44.981919Z"
    }
   },
   "outputs": [],
   "source": [
    "def find_streak(ser):\n",
    "    streak = [0]\n",
    "    \n",
    "    [streak.append(streak[-1]+1) if win==1 else streak.append(0) for win in ser.values]\n",
    "    \n",
    "    return streak[0:-1]\n",
    "\n",
    "df5['mandante_sequencia_vitorias'] =  df5.groupby(['temporada', 'mandante'])['vitorias_do_mandante'].transform(lambda x: find_streak(x))\n",
    "df5['mandante_sequencia_derrotas'] =  df5.groupby(['temporada', 'mandante'])['vitorias_do_visitante'].transform(lambda x: find_streak(x))\n",
    "df5['visitante_sequencia_vitorias'] = df5.groupby(['temporada', 'visitante'])['vitorias_do_visitante'].transform(lambda x: find_streak(x))\n",
    "df5['visitante_sequencia_derrotas'] = df5.groupby(['temporada', 'visitante'])['vitorias_do_mandante'].transform(lambda x: find_streak(x))\n"
   ]
  },
  {
   "cell_type": "markdown",
   "id": "5be0389e",
   "metadata": {},
   "source": [
    "## 5.4 Gols "
   ]
  },
  {
   "cell_type": "code",
   "execution_count": 83,
   "id": "e7e5d06b",
   "metadata": {
    "ExecuteTime": {
     "end_time": "2022-04-05T13:45:45.140888Z",
     "start_time": "2022-04-05T13:45:45.063216Z"
    }
   },
   "outputs": [],
   "source": [
    "def find_goals(ser):\n",
    "    goals = [0]\n",
    "    \n",
    "    [goals.append(goals[-1]+goal) for goal in ser.values]\n",
    "    \n",
    "    return goals[0:-1]\n",
    "\n",
    "df5['gols_marcados_mandante'] =  df5.groupby(['temporada', 'mandante'])['mandante_placar'].transform(lambda x: find_goals(x))\n",
    "df5['gols_sofridos_mandante'] =  df5.groupby(['temporada', 'mandante'])['visitante_placar'].transform(lambda x: find_goals(x))\n",
    "\n",
    "df5['gols_marcados_visitante'] = df5.groupby(['temporada', 'visitante'])['visitante_placar'].transform(lambda x: find_goals(x))\n",
    "df5['gols_sofridos_visitante'] = df5.groupby(['temporada', 'visitante'])['mandante_placar'].transform(lambda x: find_goals(x))"
   ]
  },
  {
   "cell_type": "markdown",
   "id": "ff616ea3",
   "metadata": {},
   "source": [
    "## 5.5 Dias Desde o Último Jogo"
   ]
  },
  {
   "cell_type": "code",
   "execution_count": 84,
   "id": "c1de4faf",
   "metadata": {
    "ExecuteTime": {
     "end_time": "2022-04-05T13:45:52.019860Z",
     "start_time": "2022-04-05T13:45:45.142809Z"
    }
   },
   "outputs": [],
   "source": [
    "temporadas = df5['temporada'].value_counts().index.sort_values().values\n",
    "\n",
    "\n",
    "df5['dias_entre_jogos_mandante'] = 0\n",
    "df5['dias_entre_jogos_visitante'] = 0\n",
    "\n",
    "\n",
    "for temporada in temporadas:\n",
    "    dft = df5[df5['temporada'] == temporada]\n",
    "    \n",
    "    for index, row in dft.iterrows():\n",
    "        dfc = dft[(dft['data'] <= row['data']) & ((dft['mandante'] == row['mandante']) | (dft['visitante'] == row['mandante']))]\n",
    "        days_bet = ((dfc['data'] - dfc['data'].shift()).dt.days).values[-1]\n",
    "        if math.isnan(days_bet):\n",
    "            df5.at[index, 'dias_entre_jogos_mandante'] = 5\n",
    "        else:\n",
    "            df5.at[index, 'dias_entre_jogos_mandante'] = days_bet\n",
    "            \n",
    "        dfc = dft[(dft['data'] <= row['data']) & ((dft['mandante'] == row['visitante']) | (dft['visitante'] == row['visitante']))]\n",
    "        days_bet_away = ((dfc['data'] - dfc['data'].shift()).dt.days).values[-1]\n",
    "        if math.isnan(days_bet_away):\n",
    "            df5.at[index, 'dias_entre_jogos_visitante'] = 5\n",
    "        else:\n",
    "            df5.at[index, 'dias_entre_jogos_visitante'] = days_bet_away"
   ]
  },
  {
   "cell_type": "markdown",
   "id": "e582d1e2",
   "metadata": {},
   "source": [
    "## 5.6 Subiu de Divisão? "
   ]
  },
  {
   "cell_type": "code",
   "execution_count": 85,
   "id": "655a4fa4",
   "metadata": {
    "ExecuteTime": {
     "end_time": "2022-04-05T13:45:53.173162Z",
     "start_time": "2022-04-05T13:45:52.022053Z"
    }
   },
   "outputs": [],
   "source": [
    "temporadas = df5['temporada'].value_counts().index.sort_values().values\n",
    "\n",
    "df5['mandante_subiu'] = 0\n",
    "df5['visitante_subiu'] = 0\n",
    "\n",
    "for temporada in temporadas[1:]:\n",
    "    dft = df5[df5['temporada'] == temporada]\n",
    "    \n",
    "    dfw = df5[df5['temporada'] == temporada-1]\n",
    "    \n",
    "    for index, row in dft.iterrows():\n",
    "        last_year_clubs = dfw['mandante'].value_counts().index.sort_values().values\n",
    "        \n",
    "        home_club = row['mandante']\n",
    "        if home_club in last_year_clubs:\n",
    "            df5.at[index, 'mandante_subiu'] = 0\n",
    "        else:\n",
    "            df5.at[index, 'mandante_subiu'] = 1\n",
    "        \n",
    "        away_club = row['visitante']\n",
    "        if away_club in last_year_clubs:\n",
    "            df5.at[index, 'visitante_subiu'] = 0\n",
    "        else:\n",
    "            df5.at[index, 'visitante_subiu'] = 1"
   ]
  },
  {
   "cell_type": "markdown",
   "id": "0c92759d",
   "metadata": {},
   "source": [
    "## 5.7 Confrontos Diretos "
   ]
  },
  {
   "cell_type": "code",
   "execution_count": 86,
   "id": "f4f0def4",
   "metadata": {
    "ExecuteTime": {
     "end_time": "2022-04-05T13:45:55.250977Z",
     "start_time": "2022-04-05T13:45:53.174992Z"
    }
   },
   "outputs": [],
   "source": [
    "df5['mandante_vitorias_contra_visitante'] = 0\n",
    "df5['visitante_vitorias_contra_mandante'] = 0\n",
    "df5['empates_historico'] = 0\n",
    "\n",
    "clubs = df5['mandante'].value_counts().index.sort_values().values\n",
    "\n",
    "for club1 in clubs:\n",
    "    for club2 in clubs:\n",
    "        dfc = df5[((df5['mandante'] == club1) & (df5['visitante'] == club2)) | ((df5['visitante'] == club1) & (df5['mandante'] == club2))]\n",
    "        win_home = 0\n",
    "        win_away = 0\n",
    "        draws = 0\n",
    "        for index, row in dfc.iterrows():\n",
    "            df5.at[index, 'mandante_vitorias_contra_visitante'] = win_home\n",
    "            df5.at[index, 'visitante_vitorias_contra_mandante'] = win_away\n",
    "            df5.at[index, 'empates_historico'] = draws\n",
    "            \n",
    "            if row['vencedor'] == 0:\n",
    "                win_home +=1\n",
    "            elif row['vencedor'] == 1:\n",
    "                win_away +=1\n",
    "            else:\n",
    "                draws+=1"
   ]
  },
  {
   "cell_type": "markdown",
   "id": "f16a212d",
   "metadata": {},
   "source": [
    "## 5.8 Verificando Todas as Features"
   ]
  },
  {
   "cell_type": "code",
   "execution_count": 87,
   "id": "23c925d8",
   "metadata": {
    "ExecuteTime": {
     "end_time": "2022-04-05T13:45:55.268597Z",
     "start_time": "2022-04-05T13:45:55.252741Z"
    }
   },
   "outputs": [
    {
     "data": {
      "text/html": [
       "<div>\n",
       "<style scoped>\n",
       "    .dataframe tbody tr th:only-of-type {\n",
       "        vertical-align: middle;\n",
       "    }\n",
       "\n",
       "    .dataframe tbody tr th {\n",
       "        vertical-align: top;\n",
       "    }\n",
       "\n",
       "    .dataframe thead th {\n",
       "        text-align: right;\n",
       "    }\n",
       "</style>\n",
       "<table border=\"1\" class=\"dataframe\">\n",
       "  <thead>\n",
       "    <tr style=\"text-align: right;\">\n",
       "      <th></th>\n",
       "      <th>ID</th>\n",
       "      <th>rodada</th>\n",
       "      <th>data</th>\n",
       "      <th>hora</th>\n",
       "      <th>temporada</th>\n",
       "      <th>dia</th>\n",
       "      <th>mandante</th>\n",
       "      <th>visitante</th>\n",
       "      <th>vencedor</th>\n",
       "      <th>arena</th>\n",
       "      <th>...</th>\n",
       "      <th>gols_sofridos_mandante</th>\n",
       "      <th>gols_marcados_visitante</th>\n",
       "      <th>gols_sofridos_visitante</th>\n",
       "      <th>dias_entre_jogos_mandante</th>\n",
       "      <th>dias_entre_jogos_visitante</th>\n",
       "      <th>mandante_subiu</th>\n",
       "      <th>visitante_subiu</th>\n",
       "      <th>mandante_vitorias_contra_visitante</th>\n",
       "      <th>visitante_vitorias_contra_mandante</th>\n",
       "      <th>empates_historico</th>\n",
       "    </tr>\n",
       "  </thead>\n",
       "  <tbody>\n",
       "    <tr>\n",
       "      <th>0</th>\n",
       "      <td>4987</td>\n",
       "      <td>1</td>\n",
       "      <td>2015-05-09</td>\n",
       "      <td>18:32</td>\n",
       "      <td>2015</td>\n",
       "      <td>Sabado</td>\n",
       "      <td>Chapecoense</td>\n",
       "      <td>Coritiba</td>\n",
       "      <td>1</td>\n",
       "      <td>arena conda</td>\n",
       "      <td>...</td>\n",
       "      <td>0</td>\n",
       "      <td>0</td>\n",
       "      <td>0</td>\n",
       "      <td>5</td>\n",
       "      <td>5</td>\n",
       "      <td>0</td>\n",
       "      <td>0</td>\n",
       "      <td>0</td>\n",
       "      <td>0</td>\n",
       "      <td>0</td>\n",
       "    </tr>\n",
       "    <tr>\n",
       "      <th>1</th>\n",
       "      <td>4988</td>\n",
       "      <td>1</td>\n",
       "      <td>2015-05-09</td>\n",
       "      <td>18:33</td>\n",
       "      <td>2015</td>\n",
       "      <td>Sabado</td>\n",
       "      <td>Palmeiras</td>\n",
       "      <td>Atletico-MG</td>\n",
       "      <td>0</td>\n",
       "      <td>allianz parque</td>\n",
       "      <td>...</td>\n",
       "      <td>0</td>\n",
       "      <td>0</td>\n",
       "      <td>0</td>\n",
       "      <td>5</td>\n",
       "      <td>5</td>\n",
       "      <td>0</td>\n",
       "      <td>0</td>\n",
       "      <td>0</td>\n",
       "      <td>0</td>\n",
       "      <td>0</td>\n",
       "    </tr>\n",
       "    <tr>\n",
       "      <th>2</th>\n",
       "      <td>4989</td>\n",
       "      <td>1</td>\n",
       "      <td>2015-05-09</td>\n",
       "      <td>21:00</td>\n",
       "      <td>2015</td>\n",
       "      <td>Sabado</td>\n",
       "      <td>Fluminense</td>\n",
       "      <td>Joinville</td>\n",
       "      <td>1</td>\n",
       "      <td>maracana</td>\n",
       "      <td>...</td>\n",
       "      <td>0</td>\n",
       "      <td>0</td>\n",
       "      <td>0</td>\n",
       "      <td>5</td>\n",
       "      <td>5</td>\n",
       "      <td>0</td>\n",
       "      <td>0</td>\n",
       "      <td>0</td>\n",
       "      <td>0</td>\n",
       "      <td>0</td>\n",
       "    </tr>\n",
       "    <tr>\n",
       "      <th>3</th>\n",
       "      <td>4990</td>\n",
       "      <td>1</td>\n",
       "      <td>2015-05-10</td>\n",
       "      <td>11:00</td>\n",
       "      <td>2015</td>\n",
       "      <td>Domingo</td>\n",
       "      <td>Gremio</td>\n",
       "      <td>Ponte Preta</td>\n",
       "      <td>0</td>\n",
       "      <td>arena do gremio</td>\n",
       "      <td>...</td>\n",
       "      <td>0</td>\n",
       "      <td>0</td>\n",
       "      <td>0</td>\n",
       "      <td>5</td>\n",
       "      <td>5</td>\n",
       "      <td>0</td>\n",
       "      <td>0</td>\n",
       "      <td>0</td>\n",
       "      <td>0</td>\n",
       "      <td>0</td>\n",
       "    </tr>\n",
       "    <tr>\n",
       "      <th>4</th>\n",
       "      <td>4991</td>\n",
       "      <td>1</td>\n",
       "      <td>2015-05-10</td>\n",
       "      <td>16:00</td>\n",
       "      <td>2015</td>\n",
       "      <td>Domingo</td>\n",
       "      <td>Athletico-PR</td>\n",
       "      <td>Internacional</td>\n",
       "      <td>1</td>\n",
       "      <td>estadio joaquim americo guimaraes</td>\n",
       "      <td>...</td>\n",
       "      <td>0</td>\n",
       "      <td>0</td>\n",
       "      <td>0</td>\n",
       "      <td>5</td>\n",
       "      <td>5</td>\n",
       "      <td>0</td>\n",
       "      <td>0</td>\n",
       "      <td>0</td>\n",
       "      <td>0</td>\n",
       "      <td>0</td>\n",
       "    </tr>\n",
       "  </tbody>\n",
       "</table>\n",
       "<p>5 rows × 43 columns</p>\n",
       "</div>"
      ],
      "text/plain": [
       "     ID  rodada       data   hora  temporada      dia      mandante  \\\n",
       "0  4987       1 2015-05-09  18:32       2015   Sabado   Chapecoense   \n",
       "1  4988       1 2015-05-09  18:33       2015   Sabado     Palmeiras   \n",
       "2  4989       1 2015-05-09  21:00       2015   Sabado    Fluminense   \n",
       "3  4990       1 2015-05-10  11:00       2015  Domingo        Gremio   \n",
       "4  4991       1 2015-05-10  16:00       2015  Domingo  Athletico-PR   \n",
       "\n",
       "       visitante  vencedor                              arena  ...  \\\n",
       "0       Coritiba         1                        arena conda  ...   \n",
       "1    Atletico-MG         0                     allianz parque  ...   \n",
       "2      Joinville         1                           maracana  ...   \n",
       "3    Ponte Preta         0                    arena do gremio  ...   \n",
       "4  Internacional         1  estadio joaquim americo guimaraes  ...   \n",
       "\n",
       "   gols_sofridos_mandante  gols_marcados_visitante gols_sofridos_visitante  \\\n",
       "0                       0                        0                       0   \n",
       "1                       0                        0                       0   \n",
       "2                       0                        0                       0   \n",
       "3                       0                        0                       0   \n",
       "4                       0                        0                       0   \n",
       "\n",
       "  dias_entre_jogos_mandante dias_entre_jogos_visitante mandante_subiu  \\\n",
       "0                         5                          5              0   \n",
       "1                         5                          5              0   \n",
       "2                         5                          5              0   \n",
       "3                         5                          5              0   \n",
       "4                         5                          5              0   \n",
       "\n",
       "  visitante_subiu mandante_vitorias_contra_visitante  \\\n",
       "0               0                                  0   \n",
       "1               0                                  0   \n",
       "2               0                                  0   \n",
       "3               0                                  0   \n",
       "4               0                                  0   \n",
       "\n",
       "  visitante_vitorias_contra_mandante empates_historico  \n",
       "0                                  0                 0  \n",
       "1                                  0                 0  \n",
       "2                                  0                 0  \n",
       "3                                  0                 0  \n",
       "4                                  0                 0  \n",
       "\n",
       "[5 rows x 43 columns]"
      ]
     },
     "execution_count": 87,
     "metadata": {},
     "output_type": "execute_result"
    }
   ],
   "source": [
    "df5.head()"
   ]
  },
  {
   "cell_type": "code",
   "execution_count": 88,
   "id": "9d7d024c",
   "metadata": {
    "ExecuteTime": {
     "end_time": "2022-04-05T13:45:55.276225Z",
     "start_time": "2022-04-05T13:45:55.270890Z"
    }
   },
   "outputs": [
    {
     "data": {
      "text/plain": [
       "['ID',\n",
       " 'rodada',\n",
       " 'data',\n",
       " 'hora',\n",
       " 'temporada',\n",
       " 'dia',\n",
       " 'mandante',\n",
       " 'visitante',\n",
       " 'vencedor',\n",
       " 'arena',\n",
       " 'mandante_placar',\n",
       " 'visitante_placar',\n",
       " 'mandante_estado',\n",
       " 'visitante_estado',\n",
       " 'mandante_vitorias',\n",
       " 'visitante_vitorias',\n",
       " 'mandante_derrotas',\n",
       " 'visitante_derrotas',\n",
       " 'mandante_empates',\n",
       " 'visitante_empates',\n",
       " 'vitorias_como_mandante',\n",
       " 'derrotas_como_mandante',\n",
       " 'vitorias_como_visitante',\n",
       " 'derrotas_como_visitante',\n",
       " 'empates_como_mandante',\n",
       " 'empates_como_visitante',\n",
       " 'vitorias_do_mandante',\n",
       " 'vitorias_do_visitante',\n",
       " 'mandante_sequencia_vitorias',\n",
       " 'mandante_sequencia_derrotas',\n",
       " 'visitante_sequencia_vitorias',\n",
       " 'visitante_sequencia_derrotas',\n",
       " 'gols_marcados_mandante',\n",
       " 'gols_sofridos_mandante',\n",
       " 'gols_marcados_visitante',\n",
       " 'gols_sofridos_visitante',\n",
       " 'dias_entre_jogos_mandante',\n",
       " 'dias_entre_jogos_visitante',\n",
       " 'mandante_subiu',\n",
       " 'visitante_subiu',\n",
       " 'mandante_vitorias_contra_visitante',\n",
       " 'visitante_vitorias_contra_mandante',\n",
       " 'empates_historico']"
      ]
     },
     "execution_count": 88,
     "metadata": {},
     "output_type": "execute_result"
    }
   ],
   "source": [
    "df5.columns.tolist()"
   ]
  },
  {
   "cell_type": "markdown",
   "id": "e71935ed",
   "metadata": {},
   "source": [
    "As features <b>mandante_placar</b> e <b>visitante_placar</b> não devem estar preenchidas, pois estão disponíveis apenas após os jogos. Outras features relacionadas aos eventos da partida em si serão mantidas, pois mesmo que não estejam disponíveis no instante da previsão, poderão ser criados modelos específicos para elas."
   ]
  },
  {
   "cell_type": "code",
   "execution_count": 89,
   "id": "5c417162",
   "metadata": {
    "ExecuteTime": {
     "end_time": "2022-04-05T13:45:55.281540Z",
     "start_time": "2022-04-05T13:45:55.277651Z"
    }
   },
   "outputs": [],
   "source": [
    "df5 = df5.drop(['mandante_placar', 'visitante_placar', 'vitorias_do_mandante', 'vitorias_do_visitante'], axis = 1)"
   ]
  },
  {
   "cell_type": "markdown",
   "id": "b400a667",
   "metadata": {},
   "source": [
    "# 6.0 Data Transformation "
   ]
  },
  {
   "cell_type": "code",
   "execution_count": 90,
   "id": "a0089f88",
   "metadata": {
    "ExecuteTime": {
     "end_time": "2022-04-05T13:45:55.291524Z",
     "start_time": "2022-04-05T13:45:55.282942Z"
    }
   },
   "outputs": [],
   "source": [
    "df6 = df5.copy()\n",
    "df6 = df6.drop('ID', axis = 1)"
   ]
  },
  {
   "cell_type": "code",
   "execution_count": 91,
   "id": "1595895c",
   "metadata": {
    "ExecuteTime": {
     "end_time": "2022-04-05T13:45:55.311011Z",
     "start_time": "2022-04-05T13:45:55.293480Z"
    }
   },
   "outputs": [
    {
     "data": {
      "text/plain": [
       "Series([], dtype: int64)"
      ]
     },
     "execution_count": 91,
     "metadata": {},
     "output_type": "execute_result"
    }
   ],
   "source": [
    "df6.isna().sum()[df6.isna().sum() > 0]"
   ]
  },
  {
   "cell_type": "markdown",
   "id": "7eaea1af",
   "metadata": {},
   "source": [
    "## 6.1 Tipos "
   ]
  },
  {
   "cell_type": "code",
   "execution_count": 92,
   "id": "3a0c965f",
   "metadata": {
    "ExecuteTime": {
     "end_time": "2022-04-05T13:45:55.316783Z",
     "start_time": "2022-04-05T13:45:55.312337Z"
    }
   },
   "outputs": [
    {
     "data": {
      "text/plain": [
       "['hora',\n",
       " 'dia',\n",
       " 'mandante',\n",
       " 'visitante',\n",
       " 'arena',\n",
       " 'mandante_estado',\n",
       " 'visitante_estado',\n",
       " 'mandante_vitorias',\n",
       " 'visitante_vitorias',\n",
       " 'mandante_derrotas',\n",
       " 'visitante_derrotas',\n",
       " 'mandante_empates',\n",
       " 'visitante_empates']"
      ]
     },
     "execution_count": 92,
     "metadata": {},
     "output_type": "execute_result"
    }
   ],
   "source": [
    "df6.dtypes[df6.dtypes == 'object'].keys().tolist()"
   ]
  },
  {
   "cell_type": "code",
   "execution_count": 93,
   "id": "cf162686",
   "metadata": {
    "ExecuteTime": {
     "end_time": "2022-04-05T13:45:55.325313Z",
     "start_time": "2022-04-05T13:45:55.318140Z"
    }
   },
   "outputs": [],
   "source": [
    "# mandante_vitorias, visitante_vitorias, mandante_derrotas, visitante_derrotas, mandante_empates, visitante_empates podem ser int64\n",
    "df6['mandante_vitorias'] = df6.mandante_vitorias.astype('int64')\n",
    "df6['visitante_vitorias'] = df6.mandante_vitorias.astype('int64')\n",
    "df6['mandante_derrotas'] = df6.mandante_derrotas.astype('int64')\n",
    "df6['visitante_derrotas'] = df6.visitante_derrotas.astype('int64')\n",
    "df6['mandante_empates'] = df6.mandante_empates.astype('int64')\n",
    "df6['visitante_empates'] = df6.visitante_empates.astype('int64')"
   ]
  },
  {
   "cell_type": "markdown",
   "id": "b960bfaa",
   "metadata": {},
   "source": [
    "## 6.2 Natureza "
   ]
  },
  {
   "cell_type": "code",
   "execution_count": 94,
   "id": "ec6b486a",
   "metadata": {
    "ExecuteTime": {
     "end_time": "2022-04-05T13:45:55.379132Z",
     "start_time": "2022-04-05T13:45:55.326803Z"
    }
   },
   "outputs": [
    {
     "data": {
      "text/html": [
       "<div>\n",
       "<style scoped>\n",
       "    .dataframe tbody tr th:only-of-type {\n",
       "        vertical-align: middle;\n",
       "    }\n",
       "\n",
       "    .dataframe tbody tr th {\n",
       "        vertical-align: top;\n",
       "    }\n",
       "\n",
       "    .dataframe thead th {\n",
       "        text-align: right;\n",
       "    }\n",
       "</style>\n",
       "<table border=\"1\" class=\"dataframe\">\n",
       "  <thead>\n",
       "    <tr style=\"text-align: right;\">\n",
       "      <th></th>\n",
       "      <th>rodada</th>\n",
       "      <th>data</th>\n",
       "      <th>temporada</th>\n",
       "      <th>dia</th>\n",
       "      <th>mandante</th>\n",
       "      <th>hora_sin</th>\n",
       "      <th>hora_cos</th>\n",
       "      <th>visitante</th>\n",
       "      <th>vencedor</th>\n",
       "      <th>arena</th>\n",
       "      <th>...</th>\n",
       "      <th>gols_sofridos_mandante</th>\n",
       "      <th>gols_marcados_visitante</th>\n",
       "      <th>gols_sofridos_visitante</th>\n",
       "      <th>dias_entre_jogos_mandante</th>\n",
       "      <th>dias_entre_jogos_visitante</th>\n",
       "      <th>mandante_subiu</th>\n",
       "      <th>visitante_subiu</th>\n",
       "      <th>mandante_vitorias_contra_visitante</th>\n",
       "      <th>visitante_vitorias_contra_mandante</th>\n",
       "      <th>empates_historico</th>\n",
       "    </tr>\n",
       "  </thead>\n",
       "  <tbody>\n",
       "    <tr>\n",
       "      <th>0</th>\n",
       "      <td>1</td>\n",
       "      <td>2015-05-09</td>\n",
       "      <td>2015</td>\n",
       "      <td>Sabado</td>\n",
       "      <td>Chapecoense</td>\n",
       "      <td>-0.990268</td>\n",
       "      <td>0.139173</td>\n",
       "      <td>Coritiba</td>\n",
       "      <td>1</td>\n",
       "      <td>arena conda</td>\n",
       "      <td>...</td>\n",
       "      <td>0</td>\n",
       "      <td>0</td>\n",
       "      <td>0</td>\n",
       "      <td>5</td>\n",
       "      <td>5</td>\n",
       "      <td>0</td>\n",
       "      <td>0</td>\n",
       "      <td>0</td>\n",
       "      <td>0</td>\n",
       "      <td>0</td>\n",
       "    </tr>\n",
       "    <tr>\n",
       "      <th>1</th>\n",
       "      <td>1</td>\n",
       "      <td>2015-05-09</td>\n",
       "      <td>2015</td>\n",
       "      <td>Sabado</td>\n",
       "      <td>Palmeiras</td>\n",
       "      <td>-0.989651</td>\n",
       "      <td>0.143493</td>\n",
       "      <td>Atletico-MG</td>\n",
       "      <td>0</td>\n",
       "      <td>allianz parque</td>\n",
       "      <td>...</td>\n",
       "      <td>0</td>\n",
       "      <td>0</td>\n",
       "      <td>0</td>\n",
       "      <td>5</td>\n",
       "      <td>5</td>\n",
       "      <td>0</td>\n",
       "      <td>0</td>\n",
       "      <td>0</td>\n",
       "      <td>0</td>\n",
       "      <td>0</td>\n",
       "    </tr>\n",
       "    <tr>\n",
       "      <th>2</th>\n",
       "      <td>1</td>\n",
       "      <td>2015-05-09</td>\n",
       "      <td>2015</td>\n",
       "      <td>Sabado</td>\n",
       "      <td>Fluminense</td>\n",
       "      <td>-0.707107</td>\n",
       "      <td>0.707107</td>\n",
       "      <td>Joinville</td>\n",
       "      <td>1</td>\n",
       "      <td>maracana</td>\n",
       "      <td>...</td>\n",
       "      <td>0</td>\n",
       "      <td>0</td>\n",
       "      <td>0</td>\n",
       "      <td>5</td>\n",
       "      <td>5</td>\n",
       "      <td>0</td>\n",
       "      <td>0</td>\n",
       "      <td>0</td>\n",
       "      <td>0</td>\n",
       "      <td>0</td>\n",
       "    </tr>\n",
       "    <tr>\n",
       "      <th>3</th>\n",
       "      <td>1</td>\n",
       "      <td>2015-05-10</td>\n",
       "      <td>2015</td>\n",
       "      <td>Domingo</td>\n",
       "      <td>Gremio</td>\n",
       "      <td>0.258819</td>\n",
       "      <td>-0.965926</td>\n",
       "      <td>Ponte Preta</td>\n",
       "      <td>0</td>\n",
       "      <td>arena do gremio</td>\n",
       "      <td>...</td>\n",
       "      <td>0</td>\n",
       "      <td>0</td>\n",
       "      <td>0</td>\n",
       "      <td>5</td>\n",
       "      <td>5</td>\n",
       "      <td>0</td>\n",
       "      <td>0</td>\n",
       "      <td>0</td>\n",
       "      <td>0</td>\n",
       "      <td>0</td>\n",
       "    </tr>\n",
       "    <tr>\n",
       "      <th>4</th>\n",
       "      <td>1</td>\n",
       "      <td>2015-05-10</td>\n",
       "      <td>2015</td>\n",
       "      <td>Domingo</td>\n",
       "      <td>Athletico-PR</td>\n",
       "      <td>-0.866025</td>\n",
       "      <td>-0.500000</td>\n",
       "      <td>Internacional</td>\n",
       "      <td>1</td>\n",
       "      <td>estadio joaquim americo guimaraes</td>\n",
       "      <td>...</td>\n",
       "      <td>0</td>\n",
       "      <td>0</td>\n",
       "      <td>0</td>\n",
       "      <td>5</td>\n",
       "      <td>5</td>\n",
       "      <td>0</td>\n",
       "      <td>0</td>\n",
       "      <td>0</td>\n",
       "      <td>0</td>\n",
       "      <td>0</td>\n",
       "    </tr>\n",
       "  </tbody>\n",
       "</table>\n",
       "<p>5 rows × 39 columns</p>\n",
       "</div>"
      ],
      "text/plain": [
       "   rodada       data  temporada      dia      mandante  hora_sin  hora_cos  \\\n",
       "0       1 2015-05-09       2015   Sabado   Chapecoense -0.990268  0.139173   \n",
       "1       1 2015-05-09       2015   Sabado     Palmeiras -0.989651  0.143493   \n",
       "2       1 2015-05-09       2015   Sabado    Fluminense -0.707107  0.707107   \n",
       "3       1 2015-05-10       2015  Domingo        Gremio  0.258819 -0.965926   \n",
       "4       1 2015-05-10       2015  Domingo  Athletico-PR -0.866025 -0.500000   \n",
       "\n",
       "       visitante  vencedor                              arena  ...  \\\n",
       "0       Coritiba         1                        arena conda  ...   \n",
       "1    Atletico-MG         0                     allianz parque  ...   \n",
       "2      Joinville         1                           maracana  ...   \n",
       "3    Ponte Preta         0                    arena do gremio  ...   \n",
       "4  Internacional         1  estadio joaquim americo guimaraes  ...   \n",
       "\n",
       "  gols_sofridos_mandante gols_marcados_visitante  gols_sofridos_visitante  \\\n",
       "0                      0                       0                        0   \n",
       "1                      0                       0                        0   \n",
       "2                      0                       0                        0   \n",
       "3                      0                       0                        0   \n",
       "4                      0                       0                        0   \n",
       "\n",
       "   dias_entre_jogos_mandante  dias_entre_jogos_visitante  mandante_subiu  \\\n",
       "0                          5                           5               0   \n",
       "1                          5                           5               0   \n",
       "2                          5                           5               0   \n",
       "3                          5                           5               0   \n",
       "4                          5                           5               0   \n",
       "\n",
       "   visitante_subiu  mandante_vitorias_contra_visitante  \\\n",
       "0                0                                   0   \n",
       "1                0                                   0   \n",
       "2                0                                   0   \n",
       "3                0                                   0   \n",
       "4                0                                   0   \n",
       "\n",
       "   visitante_vitorias_contra_mandante  empates_historico  \n",
       "0                                   0                  0  \n",
       "1                                   0                  0  \n",
       "2                                   0                  0  \n",
       "3                                   0                  0  \n",
       "4                                   0                  0  \n",
       "\n",
       "[5 rows x 39 columns]"
      ]
     },
     "execution_count": 94,
     "metadata": {},
     "output_type": "execute_result"
    }
   ],
   "source": [
    "# lidando coma hora\n",
    "df6.loc[:,'hora_decimal'] = pd.to_datetime(df6.hora).dt.hour + pd.to_datetime(df6.hora).dt.minute / 60\n",
    "df6['hora_sin_'] = df6['hora_decimal'].apply(lambda x: np.sin(x * (2 * np.pi/24)))\n",
    "df6['hora_cos_'] = df6['hora_decimal'].apply(lambda x: np.cos(x * (2 * np.pi/24)))\n",
    "df6 = df6.drop(['hora', 'hora_decimal'], axis = 1)\n",
    "df6.insert(5, 'hora_sin', df6.hora_sin_)\n",
    "df6.insert(6, 'hora_cos', df6.hora_cos_)\n",
    "df6 = df6.drop(['hora_sin_', 'hora_cos_'], axis = 1)\n",
    "df6.head()"
   ]
  },
  {
   "cell_type": "code",
   "execution_count": 95,
   "id": "39d2cac7",
   "metadata": {
    "ExecuteTime": {
     "end_time": "2022-04-05T13:45:55.386048Z",
     "start_time": "2022-04-05T13:45:55.380728Z"
    }
   },
   "outputs": [
    {
     "data": {
      "text/plain": [
       "['data']"
      ]
     },
     "execution_count": 95,
     "metadata": {},
     "output_type": "execute_result"
    }
   ],
   "source": [
    "df6.dtypes[df6.dtypes == '<M8[ns]'].keys().tolist()"
   ]
  },
  {
   "cell_type": "code",
   "execution_count": 96,
   "id": "991790f5",
   "metadata": {
    "ExecuteTime": {
     "end_time": "2022-04-05T13:45:55.392837Z",
     "start_time": "2022-04-05T13:45:55.387457Z"
    }
   },
   "outputs": [
    {
     "data": {
      "text/plain": [
       "rodada                                         int64\n",
       "data                                  datetime64[ns]\n",
       "temporada                                      int64\n",
       "dia                                           object\n",
       "mandante                                      object\n",
       "hora_sin                                     float64\n",
       "hora_cos                                     float64\n",
       "visitante                                     object\n",
       "vencedor                                       int64\n",
       "arena                                         object\n",
       "mandante_estado                               object\n",
       "visitante_estado                              object\n",
       "mandante_vitorias                              int64\n",
       "visitante_vitorias                             int64\n",
       "mandante_derrotas                              int64\n",
       "visitante_derrotas                             int64\n",
       "mandante_empates                               int64\n",
       "visitante_empates                              int64\n",
       "vitorias_como_mandante                         int64\n",
       "derrotas_como_mandante                         int64\n",
       "vitorias_como_visitante                        int64\n",
       "derrotas_como_visitante                        int64\n",
       "empates_como_mandante                          int64\n",
       "empates_como_visitante                         int64\n",
       "mandante_sequencia_vitorias                    int64\n",
       "mandante_sequencia_derrotas                    int64\n",
       "visitante_sequencia_vitorias                   int64\n",
       "visitante_sequencia_derrotas                   int64\n",
       "gols_marcados_mandante                         int64\n",
       "gols_sofridos_mandante                         int64\n",
       "gols_marcados_visitante                        int64\n",
       "gols_sofridos_visitante                        int64\n",
       "dias_entre_jogos_mandante                      int64\n",
       "dias_entre_jogos_visitante                     int64\n",
       "mandante_subiu                                 int64\n",
       "visitante_subiu                                int64\n",
       "mandante_vitorias_contra_visitante             int64\n",
       "visitante_vitorias_contra_mandante             int64\n",
       "empates_historico                              int64\n",
       "dtype: object"
      ]
     },
     "execution_count": 96,
     "metadata": {},
     "output_type": "execute_result"
    }
   ],
   "source": [
    "df6.dtypes"
   ]
  },
  {
   "cell_type": "code",
   "execution_count": 97,
   "id": "a4922dbe",
   "metadata": {
    "ExecuteTime": {
     "end_time": "2022-04-05T13:45:55.446703Z",
     "start_time": "2022-04-05T13:45:55.394400Z"
    }
   },
   "outputs": [
    {
     "name": "stderr",
     "output_type": "stream",
     "text": [
      "/tmp/ipykernel_18438/2216932869.py:11: FutureWarning: Series.dt.weekofyear and Series.dt.week have been deprecated. Please use Series.dt.isocalendar().week instead.\n",
      "  df6['semana_do_ano'] = df6['data'].dt.weekofyear\n"
     ]
    }
   ],
   "source": [
    "# hora e dia serão transformados utilizando relações trigonométricas\n",
    "# month\n",
    "df6['mes'] = df6['data'].dt.month\n",
    "df6['mes_sin'] = df6['mes'].apply(lambda x: np.sin(x * (2 * np.pi/12)))\n",
    "df6['mes_cos'] = df6['mes'].apply(lambda x: np.cos(x * (2 * np.pi/12)))\n",
    "# day\n",
    "df6['dia_do_mes'] = df6['data'].dt.day\n",
    "df6['dia_do_mes_sin'] = df6['dia_do_mes'].apply(lambda x: np.sin(x * (2 * np.pi/30)))\n",
    "df6['dia_do_mes_cos'] = df6['dia_do_mes'].apply(lambda x: np.cos(x * (2 * np.pi/30)))\n",
    "# week of year\n",
    "df6['semana_do_ano'] = df6['data'].dt.weekofyear\n",
    "df6['semana_do_ano_sin'] = df6['semana_do_ano'].apply(lambda x: np.sin(x * (2 * np.pi/52)))\n",
    "df6['semana_do_ano_cos'] = df6['semana_do_ano'].apply(lambda x: np.cos(x * (2 * np.pi/52)))"
   ]
  },
  {
   "cell_type": "code",
   "execution_count": 98,
   "id": "eeca1186",
   "metadata": {
    "ExecuteTime": {
     "end_time": "2022-04-05T13:45:55.457402Z",
     "start_time": "2022-04-05T13:45:55.451949Z"
    }
   },
   "outputs": [],
   "source": [
    "df6 = df6.drop(['mes', 'dia_do_mes', 'semana_do_ano'], axis = 1)"
   ]
  },
  {
   "cell_type": "code",
   "execution_count": 99,
   "id": "d35dd272",
   "metadata": {
    "ExecuteTime": {
     "end_time": "2022-04-05T13:45:55.468309Z",
     "start_time": "2022-04-05T13:45:55.459190Z"
    }
   },
   "outputs": [],
   "source": [
    "categorical = df6.dtypes[df6.dtypes == 'object'].keys().tolist()\n",
    "df_categorical = df6[categorical]\n",
    "numerics = df6.dtypes[(df6.dtypes == 'int64') | (df6.dtypes == 'float64')].keys().tolist()\n",
    "numerics.remove('vencedor'); numerics.remove('temporada')\n",
    "df_numerics = df6[numerics]\n",
    "df_target = df6[['vencedor']]\n",
    "df_temporada = df6[['temporada']]"
   ]
  },
  {
   "cell_type": "markdown",
   "id": "5636cc72",
   "metadata": {},
   "source": [
    "## 6.3 Encoding "
   ]
  },
  {
   "cell_type": "code",
   "execution_count": 100,
   "id": "3a7157bd",
   "metadata": {
    "ExecuteTime": {
     "end_time": "2022-04-05T13:45:55.479519Z",
     "start_time": "2022-04-05T13:45:55.470281Z"
    }
   },
   "outputs": [],
   "source": [
    "df_categorical = pd.get_dummies(df_categorical)"
   ]
  },
  {
   "cell_type": "markdown",
   "id": "00892447",
   "metadata": {},
   "source": [
    "## 6.4 Escala "
   ]
  },
  {
   "cell_type": "code",
   "execution_count": 101,
   "id": "7a0c2945",
   "metadata": {
    "ExecuteTime": {
     "end_time": "2022-04-05T13:45:55.483329Z",
     "start_time": "2022-04-05T13:45:55.481105Z"
    }
   },
   "outputs": [],
   "source": [
    "ss = StandardScaler()"
   ]
  },
  {
   "cell_type": "code",
   "execution_count": 102,
   "id": "939171aa",
   "metadata": {
    "ExecuteTime": {
     "end_time": "2022-04-05T13:45:55.512676Z",
     "start_time": "2022-04-05T13:45:55.484755Z"
    }
   },
   "outputs": [
    {
     "data": {
      "text/html": [
       "<div>\n",
       "<style scoped>\n",
       "    .dataframe tbody tr th:only-of-type {\n",
       "        vertical-align: middle;\n",
       "    }\n",
       "\n",
       "    .dataframe tbody tr th {\n",
       "        vertical-align: top;\n",
       "    }\n",
       "\n",
       "    .dataframe thead th {\n",
       "        text-align: right;\n",
       "    }\n",
       "</style>\n",
       "<table border=\"1\" class=\"dataframe\">\n",
       "  <thead>\n",
       "    <tr style=\"text-align: right;\">\n",
       "      <th></th>\n",
       "      <th>rodada</th>\n",
       "      <th>hora_sin</th>\n",
       "      <th>hora_cos</th>\n",
       "      <th>mandante_vitorias</th>\n",
       "      <th>visitante_vitorias</th>\n",
       "      <th>mandante_derrotas</th>\n",
       "      <th>visitante_derrotas</th>\n",
       "      <th>mandante_empates</th>\n",
       "      <th>visitante_empates</th>\n",
       "      <th>vitorias_como_mandante</th>\n",
       "      <th>...</th>\n",
       "      <th>visitante_subiu</th>\n",
       "      <th>mandante_vitorias_contra_visitante</th>\n",
       "      <th>visitante_vitorias_contra_mandante</th>\n",
       "      <th>empates_historico</th>\n",
       "      <th>mes_sin</th>\n",
       "      <th>mes_cos</th>\n",
       "      <th>dia_do_mes_sin</th>\n",
       "      <th>dia_do_mes_cos</th>\n",
       "      <th>semana_do_ano_sin</th>\n",
       "      <th>semana_do_ano_cos</th>\n",
       "    </tr>\n",
       "  </thead>\n",
       "  <tbody>\n",
       "    <tr>\n",
       "      <th>0</th>\n",
       "      <td>-1.687006</td>\n",
       "      <td>-0.667244</td>\n",
       "      <td>0.117696</td>\n",
       "      <td>-1.370719</td>\n",
       "      <td>-1.370719</td>\n",
       "      <td>-1.400316</td>\n",
       "      <td>-1.380118</td>\n",
       "      <td>-1.432178</td>\n",
       "      <td>-1.426422</td>\n",
       "      <td>-1.228117</td>\n",
       "      <td>...</td>\n",
       "      <td>-0.454962</td>\n",
       "      <td>-0.800245</td>\n",
       "      <td>-0.960233</td>\n",
       "      <td>-0.757214</td>\n",
       "      <td>1.758753</td>\n",
       "      <td>-1.07702</td>\n",
       "      <td>1.320394</td>\n",
       "      <td>-0.395739</td>\n",
       "      <td>1.986769</td>\n",
       "      <td>-0.697683</td>\n",
       "    </tr>\n",
       "    <tr>\n",
       "      <th>1</th>\n",
       "      <td>-1.687006</td>\n",
       "      <td>-0.665172</td>\n",
       "      <td>0.125877</td>\n",
       "      <td>-1.370719</td>\n",
       "      <td>-1.370719</td>\n",
       "      <td>-1.400316</td>\n",
       "      <td>-1.380118</td>\n",
       "      <td>-1.432178</td>\n",
       "      <td>-1.426422</td>\n",
       "      <td>-1.228117</td>\n",
       "      <td>...</td>\n",
       "      <td>-0.454962</td>\n",
       "      <td>-0.800245</td>\n",
       "      <td>-0.960233</td>\n",
       "      <td>-0.757214</td>\n",
       "      <td>1.758753</td>\n",
       "      <td>-1.07702</td>\n",
       "      <td>1.320394</td>\n",
       "      <td>-0.395739</td>\n",
       "      <td>1.986769</td>\n",
       "      <td>-0.697683</td>\n",
       "    </tr>\n",
       "    <tr>\n",
       "      <th>2</th>\n",
       "      <td>-1.687006</td>\n",
       "      <td>0.283858</td>\n",
       "      <td>1.193351</td>\n",
       "      <td>-1.370719</td>\n",
       "      <td>-1.370719</td>\n",
       "      <td>-1.400316</td>\n",
       "      <td>-1.380118</td>\n",
       "      <td>-1.432178</td>\n",
       "      <td>-1.426422</td>\n",
       "      <td>-1.228117</td>\n",
       "      <td>...</td>\n",
       "      <td>-0.454962</td>\n",
       "      <td>-0.800245</td>\n",
       "      <td>-0.960233</td>\n",
       "      <td>-0.757214</td>\n",
       "      <td>1.758753</td>\n",
       "      <td>-1.07702</td>\n",
       "      <td>1.320394</td>\n",
       "      <td>-0.395739</td>\n",
       "      <td>1.986769</td>\n",
       "      <td>-0.697683</td>\n",
       "    </tr>\n",
       "    <tr>\n",
       "      <th>3</th>\n",
       "      <td>-1.687006</td>\n",
       "      <td>3.528278</td>\n",
       "      <td>-1.975339</td>\n",
       "      <td>-1.370719</td>\n",
       "      <td>-1.370719</td>\n",
       "      <td>-1.400316</td>\n",
       "      <td>-1.380118</td>\n",
       "      <td>-1.432178</td>\n",
       "      <td>-1.426422</td>\n",
       "      <td>-1.228117</td>\n",
       "      <td>...</td>\n",
       "      <td>-0.454962</td>\n",
       "      <td>-0.800245</td>\n",
       "      <td>-0.960233</td>\n",
       "      <td>-0.757214</td>\n",
       "      <td>1.758753</td>\n",
       "      <td>-1.07702</td>\n",
       "      <td>1.198025</td>\n",
       "      <td>-0.661765</td>\n",
       "      <td>1.986769</td>\n",
       "      <td>-0.697683</td>\n",
       "    </tr>\n",
       "    <tr>\n",
       "      <th>4</th>\n",
       "      <td>-1.687006</td>\n",
       "      <td>-0.249929</td>\n",
       "      <td>-1.092885</td>\n",
       "      <td>-1.370719</td>\n",
       "      <td>-1.370719</td>\n",
       "      <td>-1.400316</td>\n",
       "      <td>-1.380118</td>\n",
       "      <td>-1.432178</td>\n",
       "      <td>-1.426422</td>\n",
       "      <td>-1.228117</td>\n",
       "      <td>...</td>\n",
       "      <td>-0.454962</td>\n",
       "      <td>-0.800245</td>\n",
       "      <td>-0.960233</td>\n",
       "      <td>-0.757214</td>\n",
       "      <td>1.758753</td>\n",
       "      <td>-1.07702</td>\n",
       "      <td>1.198025</td>\n",
       "      <td>-0.661765</td>\n",
       "      <td>1.986769</td>\n",
       "      <td>-0.697683</td>\n",
       "    </tr>\n",
       "  </tbody>\n",
       "</table>\n",
       "<p>5 rows × 36 columns</p>\n",
       "</div>"
      ],
      "text/plain": [
       "     rodada  hora_sin  hora_cos  mandante_vitorias  visitante_vitorias  \\\n",
       "0 -1.687006 -0.667244  0.117696          -1.370719           -1.370719   \n",
       "1 -1.687006 -0.665172  0.125877          -1.370719           -1.370719   \n",
       "2 -1.687006  0.283858  1.193351          -1.370719           -1.370719   \n",
       "3 -1.687006  3.528278 -1.975339          -1.370719           -1.370719   \n",
       "4 -1.687006 -0.249929 -1.092885          -1.370719           -1.370719   \n",
       "\n",
       "   mandante_derrotas  visitante_derrotas  mandante_empates  visitante_empates  \\\n",
       "0          -1.400316           -1.380118         -1.432178          -1.426422   \n",
       "1          -1.400316           -1.380118         -1.432178          -1.426422   \n",
       "2          -1.400316           -1.380118         -1.432178          -1.426422   \n",
       "3          -1.400316           -1.380118         -1.432178          -1.426422   \n",
       "4          -1.400316           -1.380118         -1.432178          -1.426422   \n",
       "\n",
       "   vitorias_como_mandante  ...  visitante_subiu  \\\n",
       "0               -1.228117  ...        -0.454962   \n",
       "1               -1.228117  ...        -0.454962   \n",
       "2               -1.228117  ...        -0.454962   \n",
       "3               -1.228117  ...        -0.454962   \n",
       "4               -1.228117  ...        -0.454962   \n",
       "\n",
       "   mandante_vitorias_contra_visitante  visitante_vitorias_contra_mandante  \\\n",
       "0                           -0.800245                           -0.960233   \n",
       "1                           -0.800245                           -0.960233   \n",
       "2                           -0.800245                           -0.960233   \n",
       "3                           -0.800245                           -0.960233   \n",
       "4                           -0.800245                           -0.960233   \n",
       "\n",
       "   empates_historico   mes_sin  mes_cos  dia_do_mes_sin  dia_do_mes_cos  \\\n",
       "0          -0.757214  1.758753 -1.07702        1.320394       -0.395739   \n",
       "1          -0.757214  1.758753 -1.07702        1.320394       -0.395739   \n",
       "2          -0.757214  1.758753 -1.07702        1.320394       -0.395739   \n",
       "3          -0.757214  1.758753 -1.07702        1.198025       -0.661765   \n",
       "4          -0.757214  1.758753 -1.07702        1.198025       -0.661765   \n",
       "\n",
       "   semana_do_ano_sin  semana_do_ano_cos  \n",
       "0           1.986769          -0.697683  \n",
       "1           1.986769          -0.697683  \n",
       "2           1.986769          -0.697683  \n",
       "3           1.986769          -0.697683  \n",
       "4           1.986769          -0.697683  \n",
       "\n",
       "[5 rows x 36 columns]"
      ]
     },
     "execution_count": 102,
     "metadata": {},
     "output_type": "execute_result"
    }
   ],
   "source": [
    "df_numerics = pd.DataFrame(ss.fit_transform(df_numerics.values), columns = df_numerics.columns.tolist())\n",
    "df_numerics.head()"
   ]
  },
  {
   "cell_type": "code",
   "execution_count": 103,
   "id": "bbb3f356",
   "metadata": {
    "ExecuteTime": {
     "end_time": "2022-04-05T13:45:55.518072Z",
     "start_time": "2022-04-05T13:45:55.514324Z"
    }
   },
   "outputs": [
    {
     "data": {
      "text/plain": [
       "['rodada',\n",
       " 'hora_sin',\n",
       " 'hora_cos',\n",
       " 'mandante_vitorias',\n",
       " 'visitante_vitorias',\n",
       " 'mandante_derrotas',\n",
       " 'visitante_derrotas',\n",
       " 'mandante_empates',\n",
       " 'visitante_empates',\n",
       " 'vitorias_como_mandante',\n",
       " 'derrotas_como_mandante',\n",
       " 'vitorias_como_visitante',\n",
       " 'derrotas_como_visitante',\n",
       " 'empates_como_mandante',\n",
       " 'empates_como_visitante',\n",
       " 'mandante_sequencia_vitorias',\n",
       " 'mandante_sequencia_derrotas',\n",
       " 'visitante_sequencia_vitorias',\n",
       " 'visitante_sequencia_derrotas',\n",
       " 'gols_marcados_mandante',\n",
       " 'gols_sofridos_mandante',\n",
       " 'gols_marcados_visitante',\n",
       " 'gols_sofridos_visitante',\n",
       " 'dias_entre_jogos_mandante',\n",
       " 'dias_entre_jogos_visitante',\n",
       " 'mandante_subiu',\n",
       " 'visitante_subiu',\n",
       " 'mandante_vitorias_contra_visitante',\n",
       " 'visitante_vitorias_contra_mandante',\n",
       " 'empates_historico',\n",
       " 'mes_sin',\n",
       " 'mes_cos',\n",
       " 'dia_do_mes_sin',\n",
       " 'dia_do_mes_cos',\n",
       " 'semana_do_ano_sin',\n",
       " 'semana_do_ano_cos']"
      ]
     },
     "execution_count": 103,
     "metadata": {},
     "output_type": "execute_result"
    }
   ],
   "source": [
    "df_numerics.columns.tolist()"
   ]
  },
  {
   "cell_type": "code",
   "execution_count": 104,
   "id": "d805f4fa",
   "metadata": {
    "ExecuteTime": {
     "end_time": "2022-04-05T13:45:55.522721Z",
     "start_time": "2022-04-05T13:45:55.519412Z"
    }
   },
   "outputs": [],
   "source": [
    "df_final = pd.concat([df_temporada, df_categorical, df_numerics, df_target], axis = 1)"
   ]
  },
  {
   "cell_type": "code",
   "execution_count": 105,
   "id": "9887c1b7",
   "metadata": {
    "ExecuteTime": {
     "end_time": "2022-04-05T13:45:55.531826Z",
     "start_time": "2022-04-05T13:45:55.524350Z"
    }
   },
   "outputs": [
    {
     "data": {
      "text/plain": [
       "['temporada',\n",
       " 'dia_Domingo',\n",
       " 'dia_Quarta-feira',\n",
       " 'dia_Quinta-feira',\n",
       " 'dia_Sabado',\n",
       " 'dia_Segunda-feira',\n",
       " 'dia_Sexta-feira',\n",
       " 'dia_Terça-feira',\n",
       " 'mandante_America-MG',\n",
       " 'mandante_Athletico-PR',\n",
       " 'mandante_Atletico-GO',\n",
       " 'mandante_Atletico-MG',\n",
       " 'mandante_Avai',\n",
       " 'mandante_Bahia',\n",
       " 'mandante_Botafogo-RJ',\n",
       " 'mandante_Bragantino',\n",
       " 'mandante_CSA',\n",
       " 'mandante_Ceara',\n",
       " 'mandante_Chapecoense',\n",
       " 'mandante_Corinthians',\n",
       " 'mandante_Coritiba',\n",
       " 'mandante_Cruzeiro',\n",
       " 'mandante_Cuiaba',\n",
       " 'mandante_Figueirense',\n",
       " 'mandante_Flamengo',\n",
       " 'mandante_Fluminense',\n",
       " 'mandante_Fortaleza',\n",
       " 'mandante_Goias',\n",
       " 'mandante_Gremio',\n",
       " 'mandante_Internacional',\n",
       " 'mandante_Joinville',\n",
       " 'mandante_Juventude',\n",
       " 'mandante_Palmeiras',\n",
       " 'mandante_Parana',\n",
       " 'mandante_Ponte Preta',\n",
       " 'mandante_Santa Cruz',\n",
       " 'mandante_Santos',\n",
       " 'mandante_Sao Paulo',\n",
       " 'mandante_Sport',\n",
       " 'mandante_Vasco',\n",
       " 'mandante_Vitoria',\n",
       " 'visitante_America-MG',\n",
       " 'visitante_Athletico-PR',\n",
       " 'visitante_Atletico-GO',\n",
       " 'visitante_Atletico-MG',\n",
       " 'visitante_Avai',\n",
       " 'visitante_Bahia',\n",
       " 'visitante_Botafogo-RJ',\n",
       " 'visitante_Bragantino',\n",
       " 'visitante_CSA',\n",
       " 'visitante_Ceara',\n",
       " 'visitante_Chapecoense',\n",
       " 'visitante_Corinthians',\n",
       " 'visitante_Coritiba',\n",
       " 'visitante_Cruzeiro',\n",
       " 'visitante_Cuiaba',\n",
       " 'visitante_Figueirense',\n",
       " 'visitante_Flamengo',\n",
       " 'visitante_Fluminense',\n",
       " 'visitante_Fortaleza',\n",
       " 'visitante_Goias',\n",
       " 'visitante_Gremio',\n",
       " 'visitante_Internacional',\n",
       " 'visitante_Joinville',\n",
       " 'visitante_Juventude',\n",
       " 'visitante_Palmeiras',\n",
       " 'visitante_Parana',\n",
       " 'visitante_Ponte Preta',\n",
       " 'visitante_Santa Cruz',\n",
       " 'visitante_Santos',\n",
       " 'visitante_Sao Paulo',\n",
       " 'visitante_Sport',\n",
       " 'visitante_Vasco',\n",
       " 'visitante_Vitoria',\n",
       " 'arena_adelmar da costa carvalho',\n",
       " 'arena_alfredo jaconi',\n",
       " 'arena_allianz parque',\n",
       " 'arena_arena barueri',\n",
       " 'arena_arena castelao',\n",
       " 'arena_arena conda',\n",
       " 'arena_arena da amazonia',\n",
       " 'arena_arena das dunas',\n",
       " 'arena_arena de pernambuco',\n",
       " 'arena_arena do gremio',\n",
       " 'arena_arena joinville',\n",
       " 'arena_arena pantanal',\n",
       " 'arena_barradao',\n",
       " 'arena_couto pereira',\n",
       " 'arena_estadio alberto oliveira',\n",
       " 'arena_estadio antonio accioly',\n",
       " 'arena_estadio brinco de ouro',\n",
       " 'arena_estadio da serrinha',\n",
       " 'arena_estadio de pituacu',\n",
       " 'arena_estadio do arruda',\n",
       " 'arena_estadio do cafe',\n",
       " 'arena_estadio do governo do estado de goias serra dourada',\n",
       " 'arena_estadio doutor adhemar de barros',\n",
       " 'arena_estadio francisco stedile centenario',\n",
       " 'arena_estadio giulite coutinho',\n",
       " 'arena_estadio joaquim americo guimaraes',\n",
       " 'arena_estadio jose pinheiro borda',\n",
       " 'arena_estadio municipal general raulino de oliveira',\n",
       " 'arena_estadio municipal paulo machado de carvalho',\n",
       " 'arena_estadio nacional de brasilia',\n",
       " 'arena_estadio nilton santos',\n",
       " 'arena_estadio olimpico pedro ludovico teixeira',\n",
       " 'arena_estadio presidente vargas',\n",
       " 'arena_estadio raimundo sampaio',\n",
       " 'arena_estadio rei pele',\n",
       " 'arena_estadio urbano caldeira',\n",
       " 'arena_estadio vasco da gama',\n",
       " 'arena_helenao',\n",
       " 'arena_itaipava arena fonte nova',\n",
       " 'arena_kleber andrade',\n",
       " 'arena_luso-brasileiro',\n",
       " 'arena_maracana',\n",
       " 'arena_mineirao',\n",
       " 'arena_moises lucarelli',\n",
       " 'arena_morumbi',\n",
       " 'arena_nabizao',\n",
       " 'arena_neo quimica arena',\n",
       " 'arena_orlando scarpelli',\n",
       " 'arena_ressacada',\n",
       " 'arena_vila capanema',\n",
       " 'mandante_estado_AL',\n",
       " 'mandante_estado_BA',\n",
       " 'mandante_estado_CE',\n",
       " 'mandante_estado_GO',\n",
       " 'mandante_estado_MG',\n",
       " 'mandante_estado_MT',\n",
       " 'mandante_estado_PE',\n",
       " 'mandante_estado_PR',\n",
       " 'mandante_estado_RJ',\n",
       " 'mandante_estado_RS',\n",
       " 'mandante_estado_SC',\n",
       " 'mandante_estado_SP',\n",
       " 'visitante_estado_AL',\n",
       " 'visitante_estado_BA',\n",
       " 'visitante_estado_CE',\n",
       " 'visitante_estado_GO',\n",
       " 'visitante_estado_MG',\n",
       " 'visitante_estado_MT',\n",
       " 'visitante_estado_PE',\n",
       " 'visitante_estado_PR',\n",
       " 'visitante_estado_RJ',\n",
       " 'visitante_estado_RS',\n",
       " 'visitante_estado_SC',\n",
       " 'visitante_estado_SP',\n",
       " 'rodada',\n",
       " 'hora_sin',\n",
       " 'hora_cos',\n",
       " 'mandante_vitorias',\n",
       " 'visitante_vitorias',\n",
       " 'mandante_derrotas',\n",
       " 'visitante_derrotas',\n",
       " 'mandante_empates',\n",
       " 'visitante_empates',\n",
       " 'vitorias_como_mandante',\n",
       " 'derrotas_como_mandante',\n",
       " 'vitorias_como_visitante',\n",
       " 'derrotas_como_visitante',\n",
       " 'empates_como_mandante',\n",
       " 'empates_como_visitante',\n",
       " 'mandante_sequencia_vitorias',\n",
       " 'mandante_sequencia_derrotas',\n",
       " 'visitante_sequencia_vitorias',\n",
       " 'visitante_sequencia_derrotas',\n",
       " 'gols_marcados_mandante',\n",
       " 'gols_sofridos_mandante',\n",
       " 'gols_marcados_visitante',\n",
       " 'gols_sofridos_visitante',\n",
       " 'dias_entre_jogos_mandante',\n",
       " 'dias_entre_jogos_visitante',\n",
       " 'mandante_subiu',\n",
       " 'visitante_subiu',\n",
       " 'mandante_vitorias_contra_visitante',\n",
       " 'visitante_vitorias_contra_mandante',\n",
       " 'empates_historico',\n",
       " 'mes_sin',\n",
       " 'mes_cos',\n",
       " 'dia_do_mes_sin',\n",
       " 'dia_do_mes_cos',\n",
       " 'semana_do_ano_sin',\n",
       " 'semana_do_ano_cos',\n",
       " 'vencedor']"
      ]
     },
     "execution_count": 105,
     "metadata": {},
     "output_type": "execute_result"
    }
   ],
   "source": [
    "df_final.columns.tolist()"
   ]
  },
  {
   "cell_type": "markdown",
   "id": "ac986e01",
   "metadata": {},
   "source": [
    "# 7.0 Machine Learning Models "
   ]
  },
  {
   "cell_type": "markdown",
   "id": "0c9ef487",
   "metadata": {},
   "source": [
    "Os resultadodos de uma temporada são fortemente dependentes dos resultados da temporada anterior, já que boa parte dos jogadores e comissão técnica se mantém em curto prazo. Então aqui será utilizada uma estratégia para cross-validation que irá considerar o treinamento de modelos com base nos resultados de 1, 2 e 3 anos anteriores. A estatísticas de teste serão apresentadas como média e desvio-padrão destes períodos."
   ]
  },
  {
   "cell_type": "code",
   "execution_count": 106,
   "id": "2dcb691d",
   "metadata": {
    "ExecuteTime": {
     "end_time": "2022-04-05T13:45:55.536981Z",
     "start_time": "2022-04-05T13:45:55.533410Z"
    }
   },
   "outputs": [],
   "source": [
    "df7 = df_final.copy()"
   ]
  },
  {
   "cell_type": "markdown",
   "id": "5fd3f141",
   "metadata": {},
   "source": [
    "## 7.1 Funcões Úteis "
   ]
  },
  {
   "cell_type": "code",
   "execution_count": 107,
   "id": "6570ab78",
   "metadata": {
    "ExecuteTime": {
     "end_time": "2022-04-05T13:45:55.544788Z",
     "start_time": "2022-04-05T13:45:55.538365Z"
    }
   },
   "outputs": [],
   "source": [
    "def cross_val_temps(n_temps_train, df, model):\n",
    "    \"\"\"\n",
    "    Esta função faz cross-val com base no treinamento de n_temps_train temporadas anteriores\n",
    "    e faz a predição de todos os resultados de uma temporada\n",
    "    \"\"\"\n",
    "    temporadas = df.temporada.unique()\n",
    "    df_metrics = pd.DataFrame()\n",
    "    metrics = []\n",
    "    \n",
    "    for i, temporada in enumerate(temporadas):\n",
    "        if (i > n_temps_train - 1) & (i < len(temporadas)):\n",
    "            temps = []\n",
    "            df_aux = pd.DataFrame()\n",
    "            \n",
    "            for j in range(i - n_temps_train, i):                \n",
    "                temps.append(temporadas[j])                \n",
    "                df_aux = pd.concat([df_aux, df[df.temporada == temporadas[j]]], axis = 0, ignore_index=True)\n",
    "            #print(f'Temporada de Treino {temps}')\n",
    "            #print(f'Temporada de Teste {temporada}')                \n",
    "            \n",
    "            X_train = df_aux.drop(['vencedor','temporada'], axis = 1).values\n",
    "            y_train = df_aux['vencedor']            \n",
    "            \n",
    "            X_test = df[df.temporada == temporada].drop(['vencedor', 'temporada'], axis = 1).values\n",
    "            y_test = df[df.temporada == temporada]['vencedor'].values\n",
    "            \n",
    "            model_selected = model.fit(X_train, y_train)\n",
    "            y_hat = model_selected.predict(X_test)\n",
    "            metrics.append(accuracy_score(y_hat, y_test))       \n",
    "    \n",
    "    return metrics"
   ]
  },
  {
   "cell_type": "markdown",
   "id": "2ad08ea2",
   "metadata": {},
   "source": [
    "## 7.2 Logistic Regression"
   ]
  },
  {
   "cell_type": "code",
   "execution_count": 108,
   "id": "552e66e5",
   "metadata": {
    "ExecuteTime": {
     "end_time": "2022-04-05T13:45:57.479125Z",
     "start_time": "2022-04-05T13:45:55.546198Z"
    }
   },
   "outputs": [],
   "source": [
    "metrics_lg_1 = cross_val_temps(1, df7, LogisticRegression(max_iter = 500))\n",
    "metrics_lg_2 = cross_val_temps(2, df7, LogisticRegression(max_iter = 500))\n",
    "metrics_lg_3 = cross_val_temps(3, df7, LogisticRegression(max_iter = 500))"
   ]
  },
  {
   "cell_type": "code",
   "execution_count": 109,
   "id": "ecab9c53",
   "metadata": {
    "ExecuteTime": {
     "end_time": "2022-04-05T13:45:57.618434Z",
     "start_time": "2022-04-05T13:45:57.482253Z"
    }
   },
   "outputs": [
    {
     "data": {
      "text/plain": [
       "Text(0.5, 1.0, 'Acurácia por temporada de previsão')"
      ]
     },
     "execution_count": 109,
     "metadata": {},
     "output_type": "execute_result"
    },
    {
     "data": {
      "image/png": "[encoded data removed]",
      "text/plain": [
       "<Figure size 432x288 with 1 Axes>"
      ]
     },
     "metadata": {
      "needs_background": "light"
     },
     "output_type": "display_data"
    }
   ],
   "source": [
    "plt.plot(metrics_lg_1)\n",
    "plt.plot(metrics_lg_2)\n",
    "plt.plot(metrics_lg_3)\n",
    "plt.xticks(ticks = np.arange(0, len(df7.temporada.unique())), labels = df7.temporada.unique());\n",
    "plt.legend(['1 temp.', '2 temp.', '3 temp.']);\n",
    "plt.title('Acurácia por temporada de previsão')"
   ]
  },
  {
   "cell_type": "markdown",
   "id": "ae9a52bf",
   "metadata": {},
   "source": [
    "## 7.3 XGBoost "
   ]
  },
  {
   "cell_type": "code",
   "execution_count": 110,
   "id": "0cef084f",
   "metadata": {
    "ExecuteTime": {
     "end_time": "2022-04-05T13:47:12.697722Z",
     "start_time": "2022-04-05T13:45:57.623844Z"
    }
   },
   "outputs": [],
   "source": [
    "metrics_xgb_1 = cross_val_temps(1, df7, xgb.XGBRFClassifier(n_estimators = 1000, use_label_encoder = False, eval_metric = 'mlogloss' ))\n",
    "metrics_xgb_2 = cross_val_temps(2, df7, xgb.XGBRFClassifier(n_estimators = 1000, use_label_encoder = False, eval_metric = 'mlogloss' ))\n",
    "metrics_xgb_3 = cross_val_temps(3, df7, xgb.XGBRFClassifier(n_estimators = 1000, use_label_encoder = False, eval_metric = 'mlogloss' ))"
   ]
  },
  {
   "cell_type": "code",
   "execution_count": 111,
   "id": "594d88c8",
   "metadata": {
    "ExecuteTime": {
     "end_time": "2022-04-05T13:47:12.825496Z",
     "start_time": "2022-04-05T13:47:12.701280Z"
    }
   },
   "outputs": [
    {
     "data": {
      "text/plain": [
       "Text(0.5, 1.0, 'Acurácia por temporada de previsão')"
      ]
     },
     "execution_count": 111,
     "metadata": {},
     "output_type": "execute_result"
    },
    {
     "data": {
      "image/png": "[encoded data removed]",
      "text/plain": [
       "<Figure size 432x288 with 1 Axes>"
      ]
     },
     "metadata": {
      "needs_background": "light"
     },
     "output_type": "display_data"
    }
   ],
   "source": [
    "plt.plot(metrics_xgb_1)\n",
    "plt.plot(metrics_xgb_2)\n",
    "plt.plot(metrics_xgb_3)\n",
    "plt.xticks(ticks = np.arange(0, len(df7.temporada.unique())), labels = df7.temporada.unique());\n",
    "plt.legend(['1 temp.', '2 temp.', '3 temp.']);\n",
    "plt.title('Acurácia por temporada de previsão')"
   ]
  },
  {
   "cell_type": "markdown",
   "id": "92ef5452",
   "metadata": {},
   "source": [
    "## 7.4 Random Forest "
   ]
  },
  {
   "cell_type": "code",
   "execution_count": 112,
   "id": "052134ef",
   "metadata": {
    "ExecuteTime": {
     "end_time": "2022-04-05T13:48:06.064110Z",
     "start_time": "2022-04-05T13:47:12.830169Z"
    }
   },
   "outputs": [],
   "source": [
    "metrics_rf_1 = cross_val_temps(1, df7, RandomForestClassifier(n_estimators = 2000, n_jobs = -1, random_state = 42))\n",
    "metrics_rf_2 = cross_val_temps(2, df7, RandomForestClassifier(n_estimators = 2000, n_jobs = -1, random_state = 42))\n",
    "metrics_rf_3 = cross_val_temps(3, df7, RandomForestClassifier(n_estimators = 2000, n_jobs = -1, random_state = 42))"
   ]
  },
  {
   "cell_type": "code",
   "execution_count": 113,
   "id": "a1491919",
   "metadata": {
    "ExecuteTime": {
     "end_time": "2022-04-05T13:48:06.197524Z",
     "start_time": "2022-04-05T13:48:06.065757Z"
    }
   },
   "outputs": [
    {
     "data": {
      "text/plain": [
       "Text(0.5, 1.0, 'Acurácia por temporada de previsão')"
      ]
     },
     "execution_count": 113,
     "metadata": {},
     "output_type": "execute_result"
    },
    {
     "data": {
      "image/png": "[encoded data removed]",
      "text/plain": [
       "<Figure size 432x288 with 1 Axes>"
      ]
     },
     "metadata": {
      "needs_background": "light"
     },
     "output_type": "display_data"
    }
   ],
   "source": [
    "plt.plot(metrics_rf_1)\n",
    "plt.plot(metrics_rf_2)\n",
    "plt.plot(metrics_rf_3)\n",
    "plt.xticks(ticks = np.arange(0, len(df7.temporada.unique())), labels = df7.temporada.unique());\n",
    "plt.legend(['1 temp.', '2 temp.', '3 temp.']);\n",
    "plt.title('Acurácia por temporada de previsão')"
   ]
  },
  {
   "cell_type": "markdown",
   "id": "932e9839",
   "metadata": {},
   "source": [
    "## 7.5 SVM "
   ]
  },
  {
   "cell_type": "code",
   "execution_count": 114,
   "id": "6b7b9f3b",
   "metadata": {
    "ExecuteTime": {
     "end_time": "2022-04-05T13:48:07.897123Z",
     "start_time": "2022-04-05T13:48:06.207694Z"
    }
   },
   "outputs": [],
   "source": [
    "metrics_svm_1 = cross_val_temps(1, df7,svm.SVC())\n",
    "metrics_svm_2 = cross_val_temps(2, df7,svm.SVC())\n",
    "metrics_svm_3 = cross_val_temps(3, df7,svm.SVC())"
   ]
  },
  {
   "cell_type": "code",
   "execution_count": 115,
   "id": "c765cf45",
   "metadata": {
    "ExecuteTime": {
     "end_time": "2022-04-05T13:48:08.020781Z",
     "start_time": "2022-04-05T13:48:07.900496Z"
    }
   },
   "outputs": [
    {
     "data": {
      "text/plain": [
       "Text(0.5, 1.0, 'Acurácia por temporada de previsão')"
      ]
     },
     "execution_count": 115,
     "metadata": {},
     "output_type": "execute_result"
    },
    {
     "data": {
      "image/png": "[encoded data removed]",
      "text/plain": [
       "<Figure size 432x288 with 1 Axes>"
      ]
     },
     "metadata": {
      "needs_background": "light"
     },
     "output_type": "display_data"
    }
   ],
   "source": [
    "plt.plot(metrics_svm_1)\n",
    "plt.plot(metrics_svm_2)\n",
    "plt.plot(metrics_svm_3)\n",
    "plt.xticks(ticks = np.arange(0, len(df7.temporada.unique())), labels = df7.temporada.unique());\n",
    "plt.legend(['1 temp.', '2 temp.', '3 temp.']);\n",
    "plt.title('Acurácia por temporada de previsão')"
   ]
  },
  {
   "cell_type": "markdown",
   "id": "0a33c7a4",
   "metadata": {},
   "source": [
    "## 7.6 Resumo "
   ]
  },
  {
   "cell_type": "code",
   "execution_count": 116,
   "id": "65c96a75",
   "metadata": {
    "ExecuteTime": {
     "end_time": "2022-04-05T13:48:08.036560Z",
     "start_time": "2022-04-05T13:48:08.022435Z"
    }
   },
   "outputs": [
    {
     "data": {
      "text/html": [
       "<div>\n",
       "<style scoped>\n",
       "    .dataframe tbody tr th:only-of-type {\n",
       "        vertical-align: middle;\n",
       "    }\n",
       "\n",
       "    .dataframe tbody tr th {\n",
       "        vertical-align: top;\n",
       "    }\n",
       "\n",
       "    .dataframe thead th {\n",
       "        text-align: right;\n",
       "    }\n",
       "</style>\n",
       "<table border=\"1\" class=\"dataframe\">\n",
       "  <thead>\n",
       "    <tr style=\"text-align: right;\">\n",
       "      <th></th>\n",
       "      <th>models</th>\n",
       "      <th>mean - 1. temp</th>\n",
       "      <th>std - 1. temp</th>\n",
       "      <th>mean - 2. temp</th>\n",
       "      <th>std - 2. temp</th>\n",
       "      <th>mean - 3. temp</th>\n",
       "      <th>std - 3. temp</th>\n",
       "    </tr>\n",
       "  </thead>\n",
       "  <tbody>\n",
       "    <tr>\n",
       "      <th>0</th>\n",
       "      <td>Logistic Regression</td>\n",
       "      <td>0.383941</td>\n",
       "      <td>0.038543</td>\n",
       "      <td>0.406316</td>\n",
       "      <td>0.019309</td>\n",
       "      <td>0.412500</td>\n",
       "      <td>0.012672</td>\n",
       "    </tr>\n",
       "    <tr>\n",
       "      <th>1</th>\n",
       "      <td>XGBoost</td>\n",
       "      <td>0.460311</td>\n",
       "      <td>0.028415</td>\n",
       "      <td>0.460526</td>\n",
       "      <td>0.040768</td>\n",
       "      <td>0.475658</td>\n",
       "      <td>0.024431</td>\n",
       "    </tr>\n",
       "    <tr>\n",
       "      <th>2</th>\n",
       "      <td>Random Forest</td>\n",
       "      <td>0.465581</td>\n",
       "      <td>0.032945</td>\n",
       "      <td>0.467368</td>\n",
       "      <td>0.035913</td>\n",
       "      <td>0.482895</td>\n",
       "      <td>0.030033</td>\n",
       "    </tr>\n",
       "    <tr>\n",
       "      <th>3</th>\n",
       "      <td>SVM</td>\n",
       "      <td>0.469092</td>\n",
       "      <td>0.028733</td>\n",
       "      <td>0.467368</td>\n",
       "      <td>0.028323</td>\n",
       "      <td>0.486184</td>\n",
       "      <td>0.028059</td>\n",
       "    </tr>\n",
       "  </tbody>\n",
       "</table>\n",
       "</div>"
      ],
      "text/plain": [
       "                models  mean - 1. temp  std - 1. temp  mean - 2. temp  \\\n",
       "0  Logistic Regression        0.383941       0.038543        0.406316   \n",
       "1              XGBoost        0.460311       0.028415        0.460526   \n",
       "2        Random Forest        0.465581       0.032945        0.467368   \n",
       "3                  SVM        0.469092       0.028733        0.467368   \n",
       "\n",
       "   std - 2. temp  mean - 3. temp  std - 3. temp  \n",
       "0       0.019309        0.412500       0.012672  \n",
       "1       0.040768        0.475658       0.024431  \n",
       "2       0.035913        0.482895       0.030033  \n",
       "3       0.028323        0.486184       0.028059  "
      ]
     },
     "execution_count": 116,
     "metadata": {},
     "output_type": "execute_result"
    }
   ],
   "source": [
    "metrics = {\n",
    "    'models': ['Logistic Regression', 'XGBoost', 'Random Forest', 'SVM'],\n",
    "    \n",
    "    'mean - 1. temp': [np.mean(metrics_lg_1), np.mean(metrics_xgb_1), np.mean(metrics_rf_1), np.mean(metrics_svm_1)],\n",
    "    'std - 1. temp': [np.std(metrics_lg_1), np.std(metrics_xgb_1), np.std(metrics_rf_1), np.std(metrics_svm_1)],\n",
    "    \n",
    "    'mean - 2. temp': [np.mean(metrics_lg_2), np.mean(metrics_xgb_2), np.mean(metrics_rf_2), np.mean(metrics_svm_2)],\n",
    "    'std - 2. temp': [np.std(metrics_lg_2), np.std(metrics_xgb_2), np.std(metrics_rf_2), np.std(metrics_svm_2)],\n",
    "\n",
    "    'mean - 3. temp': [np.mean(metrics_lg_3), np.mean(metrics_xgb_3), np.mean(metrics_rf_3), np.mean(metrics_svm_3)],\n",
    "    'std - 3. temp': [np.std(metrics_lg_3), np.std(metrics_xgb_3), np.std(metrics_rf_3), np.std(metrics_svm_3)],\n",
    "}\n",
    "\n",
    "df_metrics = pd.DataFrame(metrics)\n",
    "df_metrics"
   ]
  },
  {
   "cell_type": "markdown",
   "id": "ae9f8c5a",
   "metadata": {},
   "source": [
    "Nota-se que o melhor modelo é o <b> SVM que considera 3 temporadas </b>, cujo valor médio e desvio-padrão da acurácia são os mais favoráveis."
   ]
  },
  {
   "cell_type": "markdown",
   "id": "23dcfea8",
   "metadata": {},
   "source": [
    "# 8.0 Fine Tuning "
   ]
  },
  {
   "cell_type": "code",
   "execution_count": 120,
   "id": "15bcd831",
   "metadata": {
    "ExecuteTime": {
     "end_time": "2022-04-05T14:05:06.670216Z",
     "start_time": "2022-04-05T14:05:06.666462Z"
    }
   },
   "outputs": [],
   "source": [
    "df8 = df7.copy()"
   ]
  },
  {
   "cell_type": "markdown",
   "id": "ece50ea3",
   "metadata": {},
   "source": [
    "## 8.1 Random Search "
   ]
  },
  {
   "cell_type": "code",
   "execution_count": 145,
   "id": "3934774e",
   "metadata": {
    "ExecuteTime": {
     "end_time": "2022-04-05T14:32:41.660239Z",
     "start_time": "2022-04-05T14:32:41.656889Z"
    }
   },
   "outputs": [],
   "source": [
    "params = {\n",
    "    'C': [0.6, 1.0, 1.2, 1.4],\n",
    "    'kernel': ['linear', 'rbf', 'sigmoid', 'poly'],\n",
    "    'coef0': [0.0, 1.2, 1.4, 1.8, 2.2],\n",
    "    'shrinking': [True, False],\n",
    "    'decision_function_shape': ['ovr', 'ovo']  \n",
    "}"
   ]
  },
  {
   "cell_type": "code",
   "execution_count": 147,
   "id": "da6cc860",
   "metadata": {
    "ExecuteTime": {
     "end_time": "2022-04-05T14:33:02.305127Z",
     "start_time": "2022-04-05T14:32:51.844450Z"
    }
   },
   "outputs": [
    {
     "name": "stdout",
     "output_type": "stream",
     "text": [
      "Index: 0\n",
      "{'C': 1.2, 'kernel': 'rbf', 'coef0': 1.4, 'shrinking': False, 'decision_function_shape': 'ovo'}\n",
      "Index: 1\n",
      "{'C': 1.0, 'kernel': 'sigmoid', 'coef0': 1.2, 'shrinking': False, 'decision_function_shape': 'ovo'}\n",
      "Index: 2\n",
      "{'C': 1.2, 'kernel': 'poly', 'coef0': 1.2, 'shrinking': True, 'decision_function_shape': 'ovr'}\n",
      "Index: 3\n",
      "{'C': 1.4, 'kernel': 'rbf', 'coef0': 1.8, 'shrinking': False, 'decision_function_shape': 'ovr'}\n",
      "Index: 4\n",
      "{'C': 1.4, 'kernel': 'rbf', 'coef0': 1.4, 'shrinking': True, 'decision_function_shape': 'ovr'}\n",
      "Index: 5\n",
      "{'C': 1.4, 'kernel': 'rbf', 'coef0': 2.2, 'shrinking': False, 'decision_function_shape': 'ovr'}\n",
      "Index: 6\n",
      "{'C': 1.2, 'kernel': 'rbf', 'coef0': 0.0, 'shrinking': False, 'decision_function_shape': 'ovo'}\n",
      "Index: 7\n",
      "{'C': 0.6, 'kernel': 'sigmoid', 'coef0': 2.2, 'shrinking': True, 'decision_function_shape': 'ovr'}\n",
      "Index: 8\n",
      "{'C': 1.2, 'kernel': 'sigmoid', 'coef0': 1.4, 'shrinking': True, 'decision_function_shape': 'ovo'}\n",
      "Index: 9\n",
      "{'C': 1.0, 'kernel': 'linear', 'coef0': 1.4, 'shrinking': False, 'decision_function_shape': 'ovr'}\n"
     ]
    },
    {
     "data": {
      "text/html": [
       "<div>\n",
       "<style scoped>\n",
       "    .dataframe tbody tr th:only-of-type {\n",
       "        vertical-align: middle;\n",
       "    }\n",
       "\n",
       "    .dataframe tbody tr th {\n",
       "        vertical-align: top;\n",
       "    }\n",
       "\n",
       "    .dataframe thead th {\n",
       "        text-align: right;\n",
       "    }\n",
       "</style>\n",
       "<table border=\"1\" class=\"dataframe\">\n",
       "  <thead>\n",
       "    <tr style=\"text-align: right;\">\n",
       "      <th></th>\n",
       "      <th>2018</th>\n",
       "      <th>2019</th>\n",
       "      <th>2020</th>\n",
       "      <th>2021</th>\n",
       "    </tr>\n",
       "  </thead>\n",
       "  <tbody>\n",
       "    <tr>\n",
       "      <th>0</th>\n",
       "      <td>0.521053</td>\n",
       "      <td>0.481579</td>\n",
       "      <td>0.457895</td>\n",
       "      <td>0.476316</td>\n",
       "    </tr>\n",
       "    <tr>\n",
       "      <th>1</th>\n",
       "      <td>0.331579</td>\n",
       "      <td>0.373684</td>\n",
       "      <td>0.294737</td>\n",
       "      <td>0.326316</td>\n",
       "    </tr>\n",
       "    <tr>\n",
       "      <th>2</th>\n",
       "      <td>0.326316</td>\n",
       "      <td>0.350000</td>\n",
       "      <td>0.410526</td>\n",
       "      <td>0.421053</td>\n",
       "    </tr>\n",
       "    <tr>\n",
       "      <th>3</th>\n",
       "      <td>0.507895</td>\n",
       "      <td>0.471053</td>\n",
       "      <td>0.447368</td>\n",
       "      <td>0.478947</td>\n",
       "    </tr>\n",
       "    <tr>\n",
       "      <th>4</th>\n",
       "      <td>0.507895</td>\n",
       "      <td>0.471053</td>\n",
       "      <td>0.447368</td>\n",
       "      <td>0.478947</td>\n",
       "    </tr>\n",
       "    <tr>\n",
       "      <th>5</th>\n",
       "      <td>0.507895</td>\n",
       "      <td>0.471053</td>\n",
       "      <td>0.447368</td>\n",
       "      <td>0.478947</td>\n",
       "    </tr>\n",
       "    <tr>\n",
       "      <th>6</th>\n",
       "      <td>0.521053</td>\n",
       "      <td>0.481579</td>\n",
       "      <td>0.457895</td>\n",
       "      <td>0.476316</td>\n",
       "    </tr>\n",
       "    <tr>\n",
       "      <th>7</th>\n",
       "      <td>0.478947</td>\n",
       "      <td>0.444737</td>\n",
       "      <td>0.439474</td>\n",
       "      <td>0.407895</td>\n",
       "    </tr>\n",
       "    <tr>\n",
       "      <th>8</th>\n",
       "      <td>0.463158</td>\n",
       "      <td>0.410526</td>\n",
       "      <td>0.300000</td>\n",
       "      <td>0.334211</td>\n",
       "    </tr>\n",
       "    <tr>\n",
       "      <th>9</th>\n",
       "      <td>0.426316</td>\n",
       "      <td>0.436842</td>\n",
       "      <td>0.442105</td>\n",
       "      <td>0.439474</td>\n",
       "    </tr>\n",
       "  </tbody>\n",
       "</table>\n",
       "</div>"
      ],
      "text/plain": [
       "       2018      2019      2020      2021\n",
       "0  0.521053  0.481579  0.457895  0.476316\n",
       "1  0.331579  0.373684  0.294737  0.326316\n",
       "2  0.326316  0.350000  0.410526  0.421053\n",
       "3  0.507895  0.471053  0.447368  0.478947\n",
       "4  0.507895  0.471053  0.447368  0.478947\n",
       "5  0.507895  0.471053  0.447368  0.478947\n",
       "6  0.521053  0.481579  0.457895  0.476316\n",
       "7  0.478947  0.444737  0.439474  0.407895\n",
       "8  0.463158  0.410526  0.300000  0.334211\n",
       "9  0.426316  0.436842  0.442105  0.439474"
      ]
     },
     "execution_count": 147,
     "metadata": {},
     "output_type": "execute_result"
    }
   ],
   "source": [
    "final_result = pd.DataFrame()\n",
    "\n",
    "for i in range(10):\n",
    "   \n",
    "    # escolhe os parâmetros aleatoriamente\n",
    "    hp = {k: random.sample(v,1)[0] for k, v in params.items()}\n",
    "    print(f'Index: {i}')\n",
    "    print(hp)\n",
    "    \n",
    "    # model\n",
    "    result = cross_val_temps(3, df8, svm.SVC(random_state = 42,\n",
    "                                              C=hp['C'],\n",
    "                                              kernel=hp['kernel'],\n",
    "                                              coef0=hp['coef0'],\n",
    "                                              shrinking=hp['shrinking'],\n",
    "                                              decision_function_shape=hp['decision_function_shape']))\n",
    "\n",
    "    \n",
    "    # performance\n",
    "    final_result = pd.concat([final_result, pd.DataFrame(result).T])\n",
    "\n",
    "final_result = final_result.reset_index(drop=True)\n",
    "final_result.rename(columns={0: '2018', 1: '2019', 2: '2020', 3: '2021'})"
   ]
  },
  {
   "cell_type": "code",
   "execution_count": 148,
   "id": "858f3fc5",
   "metadata": {
    "ExecuteTime": {
     "end_time": "2022-04-05T14:33:02.341562Z",
     "start_time": "2022-04-05T14:33:02.306830Z"
    }
   },
   "outputs": [
    {
     "data": {
      "text/html": [
       "<div>\n",
       "<style scoped>\n",
       "    .dataframe tbody tr th:only-of-type {\n",
       "        vertical-align: middle;\n",
       "    }\n",
       "\n",
       "    .dataframe tbody tr th {\n",
       "        vertical-align: top;\n",
       "    }\n",
       "\n",
       "    .dataframe thead th {\n",
       "        text-align: right;\n",
       "    }\n",
       "</style>\n",
       "<table border=\"1\" class=\"dataframe\">\n",
       "  <thead>\n",
       "    <tr style=\"text-align: right;\">\n",
       "      <th></th>\n",
       "      <th>count</th>\n",
       "      <th>mean</th>\n",
       "      <th>std</th>\n",
       "      <th>min</th>\n",
       "      <th>25%</th>\n",
       "      <th>50%</th>\n",
       "      <th>75%</th>\n",
       "      <th>max</th>\n",
       "    </tr>\n",
       "  </thead>\n",
       "  <tbody>\n",
       "    <tr>\n",
       "      <th>0</th>\n",
       "      <td>4.0</td>\n",
       "      <td>0.484211</td>\n",
       "      <td>0.026578</td>\n",
       "      <td>0.457895</td>\n",
       "      <td>0.471711</td>\n",
       "      <td>0.478947</td>\n",
       "      <td>0.491447</td>\n",
       "      <td>0.521053</td>\n",
       "    </tr>\n",
       "    <tr>\n",
       "      <th>6</th>\n",
       "      <td>4.0</td>\n",
       "      <td>0.484211</td>\n",
       "      <td>0.026578</td>\n",
       "      <td>0.457895</td>\n",
       "      <td>0.471711</td>\n",
       "      <td>0.478947</td>\n",
       "      <td>0.491447</td>\n",
       "      <td>0.521053</td>\n",
       "    </tr>\n",
       "    <tr>\n",
       "      <th>3</th>\n",
       "      <td>4.0</td>\n",
       "      <td>0.476316</td>\n",
       "      <td>0.024965</td>\n",
       "      <td>0.447368</td>\n",
       "      <td>0.465132</td>\n",
       "      <td>0.475000</td>\n",
       "      <td>0.486184</td>\n",
       "      <td>0.507895</td>\n",
       "    </tr>\n",
       "    <tr>\n",
       "      <th>4</th>\n",
       "      <td>4.0</td>\n",
       "      <td>0.476316</td>\n",
       "      <td>0.024965</td>\n",
       "      <td>0.447368</td>\n",
       "      <td>0.465132</td>\n",
       "      <td>0.475000</td>\n",
       "      <td>0.486184</td>\n",
       "      <td>0.507895</td>\n",
       "    </tr>\n",
       "    <tr>\n",
       "      <th>5</th>\n",
       "      <td>4.0</td>\n",
       "      <td>0.476316</td>\n",
       "      <td>0.024965</td>\n",
       "      <td>0.447368</td>\n",
       "      <td>0.465132</td>\n",
       "      <td>0.475000</td>\n",
       "      <td>0.486184</td>\n",
       "      <td>0.507895</td>\n",
       "    </tr>\n",
       "    <tr>\n",
       "      <th>7</th>\n",
       "      <td>4.0</td>\n",
       "      <td>0.442763</td>\n",
       "      <td>0.029097</td>\n",
       "      <td>0.407895</td>\n",
       "      <td>0.431579</td>\n",
       "      <td>0.442105</td>\n",
       "      <td>0.453289</td>\n",
       "      <td>0.478947</td>\n",
       "    </tr>\n",
       "    <tr>\n",
       "      <th>9</th>\n",
       "      <td>4.0</td>\n",
       "      <td>0.436184</td>\n",
       "      <td>0.006921</td>\n",
       "      <td>0.426316</td>\n",
       "      <td>0.434211</td>\n",
       "      <td>0.438158</td>\n",
       "      <td>0.440132</td>\n",
       "      <td>0.442105</td>\n",
       "    </tr>\n",
       "    <tr>\n",
       "      <th>8</th>\n",
       "      <td>4.0</td>\n",
       "      <td>0.376974</td>\n",
       "      <td>0.073727</td>\n",
       "      <td>0.300000</td>\n",
       "      <td>0.325658</td>\n",
       "      <td>0.372368</td>\n",
       "      <td>0.423684</td>\n",
       "      <td>0.463158</td>\n",
       "    </tr>\n",
       "    <tr>\n",
       "      <th>2</th>\n",
       "      <td>4.0</td>\n",
       "      <td>0.376974</td>\n",
       "      <td>0.046053</td>\n",
       "      <td>0.326316</td>\n",
       "      <td>0.344079</td>\n",
       "      <td>0.380263</td>\n",
       "      <td>0.413158</td>\n",
       "      <td>0.421053</td>\n",
       "    </tr>\n",
       "    <tr>\n",
       "      <th>1</th>\n",
       "      <td>4.0</td>\n",
       "      <td>0.331579</td>\n",
       "      <td>0.032444</td>\n",
       "      <td>0.294737</td>\n",
       "      <td>0.318421</td>\n",
       "      <td>0.328947</td>\n",
       "      <td>0.342105</td>\n",
       "      <td>0.373684</td>\n",
       "    </tr>\n",
       "  </tbody>\n",
       "</table>\n",
       "</div>"
      ],
      "text/plain": [
       "   count      mean       std       min       25%       50%       75%       max\n",
       "0    4.0  0.484211  0.026578  0.457895  0.471711  0.478947  0.491447  0.521053\n",
       "6    4.0  0.484211  0.026578  0.457895  0.471711  0.478947  0.491447  0.521053\n",
       "3    4.0  0.476316  0.024965  0.447368  0.465132  0.475000  0.486184  0.507895\n",
       "4    4.0  0.476316  0.024965  0.447368  0.465132  0.475000  0.486184  0.507895\n",
       "5    4.0  0.476316  0.024965  0.447368  0.465132  0.475000  0.486184  0.507895\n",
       "7    4.0  0.442763  0.029097  0.407895  0.431579  0.442105  0.453289  0.478947\n",
       "9    4.0  0.436184  0.006921  0.426316  0.434211  0.438158  0.440132  0.442105\n",
       "8    4.0  0.376974  0.073727  0.300000  0.325658  0.372368  0.423684  0.463158\n",
       "2    4.0  0.376974  0.046053  0.326316  0.344079  0.380263  0.413158  0.421053\n",
       "1    4.0  0.331579  0.032444  0.294737  0.318421  0.328947  0.342105  0.373684"
      ]
     },
     "execution_count": 148,
     "metadata": {},
     "output_type": "execute_result"
    }
   ],
   "source": [
    "final_result.T.describe().T.sort_values(by='mean', ascending=False)"
   ]
  },
  {
   "cell_type": "code",
   "execution_count": 151,
   "id": "ff7c136a",
   "metadata": {
    "ExecuteTime": {
     "end_time": "2022-04-05T14:33:41.085254Z",
     "start_time": "2022-04-05T14:33:40.907470Z"
    }
   },
   "outputs": [
    {
     "data": {
      "text/plain": [
       "<AxesSubplot:>"
      ]
     },
     "execution_count": 151,
     "metadata": {},
     "output_type": "execute_result"
    },
    {
     "data": {
      "image/png": "[encoded data removed]",
      "text/plain": [
       "<Figure size 432x288 with 1 Axes>"
      ]
     },
     "metadata": {
      "needs_background": "light"
     },
     "output_type": "display_data"
    }
   ],
   "source": [
    "final_result.T.plot(kind='box')"
   ]
  },
  {
   "cell_type": "markdown",
   "id": "72d4b766",
   "metadata": {},
   "source": [
    "Com base na tabela acima, vemos que a melhor média de acurácia ocorre no índice 0."
   ]
  },
  {
   "cell_type": "markdown",
   "id": "d418ba1b",
   "metadata": {},
   "source": [
    "<b>{'C': 1.2, 'kernel': 'rbf', 'coef0': 1.4, 'shrinking': False, 'decision_function_shape': 'ovo'}</b>"
   ]
  },
  {
   "cell_type": "code",
   "execution_count": 155,
   "id": "ec8bf386",
   "metadata": {
    "ExecuteTime": {
     "end_time": "2022-04-05T14:38:33.432149Z",
     "start_time": "2022-04-05T14:38:33.426982Z"
    }
   },
   "outputs": [],
   "source": [
    "df_model = df8[(df8.temporada == 2019) | (df8.temporada == 2020) | (df8.temporada == 2021)]\n",
    "final_model = svm.SVC(C=1.2, kernel='rbf', coef0 = 1.4, shrinking=False, decision_function_shape='ovo')"
   ]
  },
  {
   "cell_type": "code",
   "execution_count": null,
   "id": "0deedc0b",
   "metadata": {},
   "outputs": [],
   "source": []
  }
 ],
 "metadata": {
  "kernelspec": {
   "display_name": "Python 3 (ipykernel)",
   "language": "python",
   "name": "python3"
  },
  "language_info": {
   "codemirror_mode": {
    "name": "ipython",
    "version": 3
   },
   "file_extension": ".py",
   "mimetype": "text/x-python",
   "name": "python",
   "nbconvert_exporter": "python",
   "pygments_lexer": "ipython3",
   "version": "3.9.7"
  }
 },
 "nbformat": 4,
 "nbformat_minor": 5
}
