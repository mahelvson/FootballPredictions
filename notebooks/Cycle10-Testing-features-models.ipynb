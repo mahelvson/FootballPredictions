{
 "cells": [
  {
   "cell_type": "markdown",
   "id": "648a4712",
   "metadata": {},
   "source": [
    "# 0. Imports "
   ]
  },
  {
   "cell_type": "code",
   "execution_count": 316,
   "id": "0b87f4ad",
   "metadata": {
    "ExecuteTime": {
     "end_time": "2022-03-22T16:29:29.273340Z",
     "start_time": "2022-03-22T16:29:28.873659Z"
    }
   },
   "outputs": [],
   "source": [
    "import pandas as pd\n",
    "import numpy as np\n",
    "import matplotlib.pyplot as plt\n",
    "import seaborn as sns\n",
    "import xgboost as xgb\n",
    "\n",
    "from os import listdir\n",
    "from sklearn.model_selection import train_test_split, cross_val_score\n",
    "from sklearn.metrics import confusion_matrix, accuracy_score, classification_report\n",
    "from sklearn.ensemble import RandomForestRegressor, RandomForestClassifier\n",
    "from sklearn.metrics import mean_absolute_error, mean_squared_error, mean_absolute_percentage_error\n",
    "from sklearn.linear_model import LogisticRegression\n",
    "from sklearn.preprocessing import LabelEncoder, StandardScaler\n",
    "from sklearn import svm, tree\n",
    "from sklearn.naive_bayes import GaussianNB\n",
    "from sklearn.linear_model import SGDClassifier\n",
    "from sklearn.ensemble import VotingClassifier\n",
    "from sklearn.neural_network import MLPClassifier\n",
    "\n",
    "from boruta import BorutaPy\n",
    "from imblearn.under_sampling import RandomUnderSampler\n",
    "from imblearn.over_sampling import RandomOverSampler\n",
    "import statsmodels.api as sm"
   ]
  },
  {
   "cell_type": "markdown",
   "id": "d789db41",
   "metadata": {},
   "source": [
    "## 0.1 Helper Functions "
   ]
  },
  {
   "cell_type": "code",
   "execution_count": 2,
   "id": "d1ba9ef8",
   "metadata": {
    "ExecuteTime": {
     "end_time": "2022-03-22T14:29:20.969041Z",
     "start_time": "2022-03-22T14:29:20.951520Z"
    }
   },
   "outputs": [],
   "source": [
    "def check_last_match(df):\n",
    "    \"\"\"\n",
    "    This function checks if a team won the last match and how many gols each team scored\n",
    "    \"\"\"\n",
    "    seasons = df['data'].dt.year.unique()\n",
    "    df_result = pd.DataFrame()\n",
    "    for season in seasons:\n",
    "        df_season = df[df['data'].dt.year == season]        \n",
    "        for round_n in range(1, max(df_season.rodada) + 1):\n",
    "            df_round_n = df_season[df_season['rodada'] == round_n]\n",
    "            for idx in df_round_n.ID.values:                \n",
    "                home = df.loc[idx, 'mandante']\n",
    "                away = df.loc[idx, 'visitante'] \n",
    "                if round_n > 1:\n",
    "                    # win ?\n",
    "                    if ((df_season['rodada'] == round_n -1) & (df_season['vencedor'] == home)).any():\n",
    "                        df_season.loc[idx, 'mandante_venceu_ultima'] = 1.0\n",
    "                    else:\n",
    "                        df_season.loc[idx, 'mandante_venceu_ultima'] = 0.\n",
    "                        \n",
    "                    if ((df_season['rodada'] == round_n -1) & (df_season['vencedor'] == away)).any():\n",
    "                        df_season.loc[idx, 'visitante_venceu_ultima'] = 1.0                    \n",
    "                    else:                     \n",
    "                        df_season.loc[idx, 'visitante_venceu_ultima'] = 0.\n",
    "                        \n",
    "                    # n. of goals\n",
    "                    if ((df_season['rodada'] == round_n-1) & (df_season['mandante'] == home)).any():\n",
    "                        df_season.loc[idx, 'n_gols_mandante_ultima'] = df_season[((df_season['rodada'] == round_n-1) & (df_season['mandante'] == home))]['mandante_placar'].values[0]\n",
    "                        \n",
    "                    elif ((df_season['rodada'] == round_n-1) & (df_season['visitante'] == home)).any():\n",
    "                        df_season.loc[idx, 'n_gols_mandante_ultima'] = df_season[((df_season['rodada'] == round_n-1) & (df_season['visitante'] == home))]['visitante_placar'].values[0]\n",
    "                    \n",
    "                    if ((df_season['rodada'] == round_n-1) & (df_season['mandante'] == away)).any():\n",
    "                        df_season.loc[idx, 'n_gols_visitante_ultima'] = df_season[((df_season['rodada'] == round_n-1) & (df_season['mandante'] == away))]['mandante_placar'].values[0]\n",
    "                        \n",
    "                    elif ((df_season['rodada'] == round_n-1) & (df_season['visitante'] == away)).any():\n",
    "                        df_season.loc[idx, 'n_gols_visitante_ultima'] = df_season[((df_season['rodada'] == round_n-1) & (df_season['visitante'] == away))]['visitante_placar'].values[0]\n",
    "               \n",
    "                else:                 \n",
    "                    df_season['mandante_venceu_ultima'] = 0\n",
    "                    df_season['visitante_venceu_ultima'] = 0\n",
    "                    df_season['n_gols_mandante_ultima'] = 0\n",
    "                    df_season['n_gols_visitante_ultima'] = 0\n",
    "                    \n",
    "        df_result = pd.concat([df_result, df_season], axis = 0)\n",
    "    return df_result\n",
    "\n",
    "\n",
    "def add_attributes(df_stats_recent, df_full_recent):\n",
    "    \"\"\"\n",
    "    This function add some attributes from two differente df\n",
    "    \"\"\"\n",
    "    df_full_stats_recent = df_full_recent.copy()\n",
    "    columns = df_stats_recent.columns.to_list()[4:-1]\n",
    "           \n",
    "    for row in range(len(df_full_stats_recent)):\n",
    "        for column in columns:\n",
    "            if (df_stats_recent['ID'] == df_full_stats_recent.loc[row, 'ID']).any() & (df_stats_recent['clube'] == df_full_stats_recent.loc[row, 'mandante']).any():\n",
    "                df_full_stats_recent.loc[row, 'mandante_' + column] = df_stats_recent[(df_stats_recent['ID'] == df_full_stats_recent.loc[row, 'ID']) & (df_stats_recent['clube'] == df_full_stats_recent.loc[row, 'mandante'])][column].values[0]\n",
    "            else:\n",
    "                df_full_stats_recent.loc[row, 'mandante_' + column] = np.nan\n",
    "                \n",
    "            if (df_stats_recent['ID'] == df_full_stats_recent.loc[row, 'ID']).any() & (df_stats_recent['clube'] == df_full_stats_recent.loc[row, 'visitante']).any():       \n",
    "                df_full_stats_recent.loc[row, 'visitante_' + column] = df_stats_recent[(df_stats_recent['ID'] == df_full_stats_recent.loc[row, 'ID']) & (df_stats_recent['clube'] == df_full_stats_recent.loc[row, 'visitante'])][column].values[0]\n",
    "            else:\n",
    "                df_full_stats_recent.loc[row, 'visitante_' + column] = np.nan    \n",
    "\n",
    "    return df_full_stats_recent\n",
    "\n",
    "def create_target(df):\n",
    "    \n",
    "    for i in range(0, len(df)):\n",
    "        if df.loc[i, 'vencedor'] == df.loc[i, 'mandante']:\n",
    "            df.loc[i, 'resultado'] = 1\n",
    "        elif df.loc[i, 'vencedor'] == df.loc[i, 'visitante']:\n",
    "            df.loc[i, 'resultado'] = 2\n",
    "        else:\n",
    "            df.loc[i, 'resultado'] = 0  \n",
    "            \n",
    "    df = df.drop('vencedor', axis = 1)\n",
    "            \n",
    "    return df"
   ]
  },
  {
   "cell_type": "markdown",
   "id": "25b9bf7e",
   "metadata": {},
   "source": [
    "# 1. Loading Data "
   ]
  },
  {
   "cell_type": "code",
   "execution_count": 3,
   "id": "b9bc9da9",
   "metadata": {
    "ExecuteTime": {
     "end_time": "2022-03-22T14:29:20.980098Z",
     "start_time": "2022-03-22T14:29:20.970729Z"
    }
   },
   "outputs": [],
   "source": [
    "data_path = '../datasets/'\n",
    "files = listdir(data_path)"
   ]
  },
  {
   "cell_type": "code",
   "execution_count": 4,
   "id": "e40fc1d5",
   "metadata": {
    "ExecuteTime": {
     "end_time": "2022-03-22T14:29:20.988560Z",
     "start_time": "2022-03-22T14:29:20.982135Z"
    }
   },
   "outputs": [
    {
     "data": {
      "text/plain": [
       "['campeonato-brasileiro-cartoes.csv',\n",
       " 'campeonato-brasileiro-full.csv',\n",
       " 'campeonato-brasileiro-estatisticas-full.csv',\n",
       " 'campeonato-brasileiro-gols.csv',\n",
       " 'Legenda.txt']"
      ]
     },
     "execution_count": 4,
     "metadata": {},
     "output_type": "execute_result"
    }
   ],
   "source": [
    "files"
   ]
  },
  {
   "cell_type": "code",
   "execution_count": 5,
   "id": "71d0ac19",
   "metadata": {
    "ExecuteTime": {
     "end_time": "2022-03-22T14:29:20.993559Z",
     "start_time": "2022-03-22T14:29:20.990174Z"
    }
   },
   "outputs": [],
   "source": [
    "cards = files[0]\n",
    "full = files[1]\n",
    "stats = files[2]\n",
    "goals = files[3]"
   ]
  },
  {
   "cell_type": "markdown",
   "id": "402e3783",
   "metadata": {},
   "source": [
    "## 1.1 Cards"
   ]
  },
  {
   "cell_type": "code",
   "execution_count": 6,
   "id": "bad57e66",
   "metadata": {
    "ExecuteTime": {
     "end_time": "2022-03-22T14:29:21.030360Z",
     "start_time": "2022-03-22T14:29:20.996281Z"
    }
   },
   "outputs": [
    {
     "data": {
      "text/html": [
       "<div>\n",
       "<style scoped>\n",
       "    .dataframe tbody tr th:only-of-type {\n",
       "        vertical-align: middle;\n",
       "    }\n",
       "\n",
       "    .dataframe tbody tr th {\n",
       "        vertical-align: top;\n",
       "    }\n",
       "\n",
       "    .dataframe thead th {\n",
       "        text-align: right;\n",
       "    }\n",
       "</style>\n",
       "<table border=\"1\" class=\"dataframe\">\n",
       "  <thead>\n",
       "    <tr style=\"text-align: right;\">\n",
       "      <th></th>\n",
       "      <th>partida_id</th>\n",
       "      <th>rodada</th>\n",
       "      <th>clube</th>\n",
       "      <th>cartao</th>\n",
       "      <th>atleta</th>\n",
       "      <th>num_camisa</th>\n",
       "      <th>posicao</th>\n",
       "      <th>minuto</th>\n",
       "    </tr>\n",
       "  </thead>\n",
       "  <tbody>\n",
       "    <tr>\n",
       "      <th>0</th>\n",
       "      <td>4607</td>\n",
       "      <td>1</td>\n",
       "      <td>Figueirense</td>\n",
       "      <td>Amarelo</td>\n",
       "      <td>Thiago Heleno</td>\n",
       "      <td>4.0</td>\n",
       "      <td>Zagueiro</td>\n",
       "      <td>44</td>\n",
       "    </tr>\n",
       "    <tr>\n",
       "      <th>1</th>\n",
       "      <td>4607</td>\n",
       "      <td>1</td>\n",
       "      <td>Figueirense</td>\n",
       "      <td>Amarelo</td>\n",
       "      <td>Paulo Roberto da Silva</td>\n",
       "      <td>28.0</td>\n",
       "      <td>NaN</td>\n",
       "      <td>66</td>\n",
       "    </tr>\n",
       "    <tr>\n",
       "      <th>2</th>\n",
       "      <td>4608</td>\n",
       "      <td>1</td>\n",
       "      <td>Internacional</td>\n",
       "      <td>Amarelo</td>\n",
       "      <td>Juan Silveira dos Santos</td>\n",
       "      <td>4.0</td>\n",
       "      <td>Zagueiro</td>\n",
       "      <td>20</td>\n",
       "    </tr>\n",
       "    <tr>\n",
       "      <th>3</th>\n",
       "      <td>4608</td>\n",
       "      <td>1</td>\n",
       "      <td>Vitoria</td>\n",
       "      <td>Amarelo</td>\n",
       "      <td>Vinícius Santos Silva</td>\n",
       "      <td>NaN</td>\n",
       "      <td>NaN</td>\n",
       "      <td>82</td>\n",
       "    </tr>\n",
       "    <tr>\n",
       "      <th>4</th>\n",
       "      <td>4608</td>\n",
       "      <td>1</td>\n",
       "      <td>Internacional</td>\n",
       "      <td>Amarelo</td>\n",
       "      <td>Andrés D'Alessandro</td>\n",
       "      <td>10.0</td>\n",
       "      <td>Meio-campo</td>\n",
       "      <td>72</td>\n",
       "    </tr>\n",
       "  </tbody>\n",
       "</table>\n",
       "</div>"
      ],
      "text/plain": [
       "   partida_id  rodada          clube   cartao                    atleta  \\\n",
       "0        4607       1    Figueirense  Amarelo             Thiago Heleno   \n",
       "1        4607       1    Figueirense  Amarelo    Paulo Roberto da Silva   \n",
       "2        4608       1  Internacional  Amarelo  Juan Silveira dos Santos   \n",
       "3        4608       1        Vitoria  Amarelo     Vinícius Santos Silva   \n",
       "4        4608       1  Internacional  Amarelo       Andrés D'Alessandro   \n",
       "\n",
       "   num_camisa     posicao minuto  \n",
       "0         4.0    Zagueiro     44  \n",
       "1        28.0         NaN     66  \n",
       "2         4.0    Zagueiro     20  \n",
       "3         NaN         NaN     82  \n",
       "4        10.0  Meio-campo     72  "
      ]
     },
     "execution_count": 6,
     "metadata": {},
     "output_type": "execute_result"
    }
   ],
   "source": [
    "df_cards = pd.read_csv(data_path + cards)\n",
    "df_cards.head()"
   ]
  },
  {
   "cell_type": "code",
   "execution_count": 7,
   "id": "5451bc20",
   "metadata": {
    "ExecuteTime": {
     "end_time": "2022-03-22T14:29:21.047094Z",
     "start_time": "2022-03-22T14:29:21.032087Z"
    }
   },
   "outputs": [
    {
     "data": {
      "text/plain": [
       "partida_id    0.000000\n",
       "rodada        0.000000\n",
       "clube         0.000000\n",
       "cartao        0.000000\n",
       "atleta        0.000406\n",
       "num_camisa    0.026138\n",
       "posicao       0.081121\n",
       "minuto        0.000000\n",
       "dtype: float64"
      ]
     },
     "execution_count": 7,
     "metadata": {},
     "output_type": "execute_result"
    }
   ],
   "source": [
    "df_cards.isna().sum() / df_cards.shape[0]"
   ]
  },
  {
   "cell_type": "code",
   "execution_count": 8,
   "id": "06865881",
   "metadata": {
    "ExecuteTime": {
     "end_time": "2022-03-22T14:29:21.170778Z",
     "start_time": "2022-03-22T14:29:21.158164Z"
    }
   },
   "outputs": [
    {
     "data": {
      "text/plain": [
       "(14768, 8)"
      ]
     },
     "execution_count": 8,
     "metadata": {},
     "output_type": "execute_result"
    }
   ],
   "source": [
    "df_cards.shape"
   ]
  },
  {
   "cell_type": "code",
   "execution_count": 9,
   "id": "1573bdf7",
   "metadata": {
    "ExecuteTime": {
     "end_time": "2022-03-22T14:29:21.337425Z",
     "start_time": "2022-03-22T14:29:21.332887Z"
    }
   },
   "outputs": [
    {
     "data": {
      "text/plain": [
       "partida_id      int64\n",
       "rodada          int64\n",
       "clube          object\n",
       "cartao         object\n",
       "atleta         object\n",
       "num_camisa    float64\n",
       "posicao        object\n",
       "minuto         object\n",
       "dtype: object"
      ]
     },
     "execution_count": 9,
     "metadata": {},
     "output_type": "execute_result"
    }
   ],
   "source": [
    "df_cards.dtypes"
   ]
  },
  {
   "cell_type": "markdown",
   "id": "6b202bf5",
   "metadata": {},
   "source": [
    "Quantidade de NaN é no máximo 8% em relação ao total da registros."
   ]
  },
  {
   "cell_type": "markdown",
   "id": "773ebda2",
   "metadata": {},
   "source": [
    "## 1.2 Full"
   ]
  },
  {
   "cell_type": "code",
   "execution_count": 484,
   "id": "b0198203",
   "metadata": {
    "ExecuteTime": {
     "end_time": "2022-03-22T17:15:37.957418Z",
     "start_time": "2022-03-22T17:15:37.897233Z"
    }
   },
   "outputs": [
    {
     "data": {
      "text/html": [
       "<div>\n",
       "<style scoped>\n",
       "    .dataframe tbody tr th:only-of-type {\n",
       "        vertical-align: middle;\n",
       "    }\n",
       "\n",
       "    .dataframe tbody tr th {\n",
       "        vertical-align: top;\n",
       "    }\n",
       "\n",
       "    .dataframe thead th {\n",
       "        text-align: right;\n",
       "    }\n",
       "</style>\n",
       "<table border=\"1\" class=\"dataframe\">\n",
       "  <thead>\n",
       "    <tr style=\"text-align: right;\">\n",
       "      <th></th>\n",
       "      <th>ID</th>\n",
       "      <th>rodada</th>\n",
       "      <th>data</th>\n",
       "      <th>hora</th>\n",
       "      <th>dia</th>\n",
       "      <th>mandante</th>\n",
       "      <th>visitante</th>\n",
       "      <th>formacao_mandante</th>\n",
       "      <th>formacao_visitante</th>\n",
       "      <th>tecnico_mandante</th>\n",
       "      <th>tecnico_visitante</th>\n",
       "      <th>vencedor</th>\n",
       "      <th>arena</th>\n",
       "      <th>mandante_placar</th>\n",
       "      <th>visitante_placar</th>\n",
       "      <th>mandante_estado</th>\n",
       "      <th>visitante_estado</th>\n",
       "      <th>estado_vencedor</th>\n",
       "    </tr>\n",
       "  </thead>\n",
       "  <tbody>\n",
       "    <tr>\n",
       "      <th>0</th>\n",
       "      <td>1</td>\n",
       "      <td>1</td>\n",
       "      <td>2003-03-29</td>\n",
       "      <td>16:00</td>\n",
       "      <td>Sabado</td>\n",
       "      <td>Guarani</td>\n",
       "      <td>Vasco</td>\n",
       "      <td>NaN</td>\n",
       "      <td>NaN</td>\n",
       "      <td>NaN</td>\n",
       "      <td>NaN</td>\n",
       "      <td>Guarani</td>\n",
       "      <td>brinco de ouro</td>\n",
       "      <td>4</td>\n",
       "      <td>2</td>\n",
       "      <td>SP</td>\n",
       "      <td>RJ</td>\n",
       "      <td>SP</td>\n",
       "    </tr>\n",
       "    <tr>\n",
       "      <th>1</th>\n",
       "      <td>2</td>\n",
       "      <td>1</td>\n",
       "      <td>2003-03-29</td>\n",
       "      <td>16:00</td>\n",
       "      <td>Sabado</td>\n",
       "      <td>Athletico-PR</td>\n",
       "      <td>Gremio</td>\n",
       "      <td>NaN</td>\n",
       "      <td>NaN</td>\n",
       "      <td>NaN</td>\n",
       "      <td>NaN</td>\n",
       "      <td>Athletico-PR</td>\n",
       "      <td>arena da baixada</td>\n",
       "      <td>2</td>\n",
       "      <td>0</td>\n",
       "      <td>PR</td>\n",
       "      <td>RS</td>\n",
       "      <td>PR</td>\n",
       "    </tr>\n",
       "    <tr>\n",
       "      <th>2</th>\n",
       "      <td>3</td>\n",
       "      <td>1</td>\n",
       "      <td>2003-03-30</td>\n",
       "      <td>16:00</td>\n",
       "      <td>Domingo</td>\n",
       "      <td>Flamengo</td>\n",
       "      <td>Coritiba</td>\n",
       "      <td>NaN</td>\n",
       "      <td>NaN</td>\n",
       "      <td>NaN</td>\n",
       "      <td>NaN</td>\n",
       "      <td>-</td>\n",
       "      <td>maracana</td>\n",
       "      <td>1</td>\n",
       "      <td>1</td>\n",
       "      <td>RJ</td>\n",
       "      <td>PR</td>\n",
       "      <td>-</td>\n",
       "    </tr>\n",
       "    <tr>\n",
       "      <th>3</th>\n",
       "      <td>4</td>\n",
       "      <td>1</td>\n",
       "      <td>2003-03-30</td>\n",
       "      <td>16:00</td>\n",
       "      <td>Domingo</td>\n",
       "      <td>Goias</td>\n",
       "      <td>Paysandu</td>\n",
       "      <td>NaN</td>\n",
       "      <td>NaN</td>\n",
       "      <td>NaN</td>\n",
       "      <td>NaN</td>\n",
       "      <td>-</td>\n",
       "      <td>serra dourada</td>\n",
       "      <td>2</td>\n",
       "      <td>2</td>\n",
       "      <td>GO</td>\n",
       "      <td>PA</td>\n",
       "      <td>-</td>\n",
       "    </tr>\n",
       "    <tr>\n",
       "      <th>4</th>\n",
       "      <td>5</td>\n",
       "      <td>1</td>\n",
       "      <td>2003-03-30</td>\n",
       "      <td>16:00</td>\n",
       "      <td>Domingo</td>\n",
       "      <td>Internacional</td>\n",
       "      <td>Ponte Preta</td>\n",
       "      <td>NaN</td>\n",
       "      <td>NaN</td>\n",
       "      <td>NaN</td>\n",
       "      <td>NaN</td>\n",
       "      <td>-</td>\n",
       "      <td>beira rio</td>\n",
       "      <td>1</td>\n",
       "      <td>1</td>\n",
       "      <td>RS</td>\n",
       "      <td>SP</td>\n",
       "      <td>-</td>\n",
       "    </tr>\n",
       "  </tbody>\n",
       "</table>\n",
       "</div>"
      ],
      "text/plain": [
       "   ID  rodada        data   hora      dia       mandante    visitante  \\\n",
       "0   1       1  2003-03-29  16:00   Sabado        Guarani        Vasco   \n",
       "1   2       1  2003-03-29  16:00   Sabado   Athletico-PR       Gremio   \n",
       "2   3       1  2003-03-30  16:00  Domingo       Flamengo     Coritiba   \n",
       "3   4       1  2003-03-30  16:00  Domingo          Goias     Paysandu   \n",
       "4   5       1  2003-03-30  16:00  Domingo  Internacional  Ponte Preta   \n",
       "\n",
       "  formacao_mandante formacao_visitante tecnico_mandante tecnico_visitante  \\\n",
       "0               NaN                NaN              NaN               NaN   \n",
       "1               NaN                NaN              NaN               NaN   \n",
       "2               NaN                NaN              NaN               NaN   \n",
       "3               NaN                NaN              NaN               NaN   \n",
       "4               NaN                NaN              NaN               NaN   \n",
       "\n",
       "       vencedor             arena  mandante_placar  visitante_placar  \\\n",
       "0       Guarani    brinco de ouro                4                 2   \n",
       "1  Athletico-PR  arena da baixada                2                 0   \n",
       "2             -          maracana                1                 1   \n",
       "3             -     serra dourada                2                 2   \n",
       "4             -         beira rio                1                 1   \n",
       "\n",
       "  mandante_estado visitante_estado estado_vencedor  \n",
       "0              SP               RJ              SP  \n",
       "1              PR               RS              PR  \n",
       "2              RJ               PR               -  \n",
       "3              GO               PA               -  \n",
       "4              RS               SP               -  "
      ]
     },
     "execution_count": 484,
     "metadata": {},
     "output_type": "execute_result"
    }
   ],
   "source": [
    "df_full = pd.read_csv(data_path + full)\n",
    "df_full.head()"
   ]
  },
  {
   "cell_type": "code",
   "execution_count": 485,
   "id": "2cca1f49",
   "metadata": {
    "ExecuteTime": {
     "end_time": "2022-03-22T17:15:38.031709Z",
     "start_time": "2022-03-22T17:15:38.027903Z"
    }
   },
   "outputs": [
    {
     "data": {
      "text/plain": [
       "(7645, 18)"
      ]
     },
     "execution_count": 485,
     "metadata": {},
     "output_type": "execute_result"
    }
   ],
   "source": [
    "df_full.shape"
   ]
  },
  {
   "cell_type": "code",
   "execution_count": 486,
   "id": "317aff8e",
   "metadata": {
    "ExecuteTime": {
     "end_time": "2022-03-22T17:15:38.178367Z",
     "start_time": "2022-03-22T17:15:38.157123Z"
    }
   },
   "outputs": [
    {
     "name": "stdout",
     "output_type": "stream",
     "text": [
      "% of NaN\n"
     ]
    },
    {
     "data": {
      "text/plain": [
       "ID                    0.000000\n",
       "rodada                0.000000\n",
       "data                  0.000000\n",
       "hora                  0.000000\n",
       "dia                   0.000000\n",
       "mandante              0.000000\n",
       "visitante             0.000000\n",
       "formacao_mandante     0.650621\n",
       "formacao_visitante    0.650621\n",
       "tecnico_mandante      0.603009\n",
       "tecnico_visitante     0.603009\n",
       "vencedor              0.000000\n",
       "arena                 0.000000\n",
       "mandante_placar       0.000000\n",
       "visitante_placar      0.000000\n",
       "mandante_estado       0.000000\n",
       "visitante_estado      0.000000\n",
       "estado_vencedor       0.000000\n",
       "dtype: float64"
      ]
     },
     "execution_count": 486,
     "metadata": {},
     "output_type": "execute_result"
    }
   ],
   "source": [
    "print('% of NaN')\n",
    "df_full.isna().sum()/df_full.shape[0]"
   ]
  },
  {
   "cell_type": "code",
   "execution_count": 487,
   "id": "80934ad7",
   "metadata": {
    "ExecuteTime": {
     "end_time": "2022-03-22T17:15:38.352548Z",
     "start_time": "2022-03-22T17:15:38.346689Z"
    }
   },
   "outputs": [
    {
     "data": {
      "text/plain": [
       "ID                     int64\n",
       "rodada                 int64\n",
       "data                  object\n",
       "hora                  object\n",
       "dia                   object\n",
       "mandante              object\n",
       "visitante             object\n",
       "formacao_mandante     object\n",
       "formacao_visitante    object\n",
       "tecnico_mandante      object\n",
       "tecnico_visitante     object\n",
       "vencedor              object\n",
       "arena                 object\n",
       "mandante_placar        int64\n",
       "visitante_placar       int64\n",
       "mandante_estado       object\n",
       "visitante_estado      object\n",
       "estado_vencedor       object\n",
       "dtype: object"
      ]
     },
     "execution_count": 487,
     "metadata": {},
     "output_type": "execute_result"
    }
   ],
   "source": [
    "df_full.dtypes"
   ]
  },
  {
   "cell_type": "code",
   "execution_count": 488,
   "id": "89763785",
   "metadata": {
    "ExecuteTime": {
     "end_time": "2022-03-22T17:15:38.642615Z",
     "start_time": "2022-03-22T17:15:38.631077Z"
    }
   },
   "outputs": [],
   "source": [
    "df_full.loc[:, 'data'] = pd.to_datetime(df_full.data, yearfirst=True)"
   ]
  },
  {
   "cell_type": "code",
   "execution_count": 489,
   "id": "ca1a773a",
   "metadata": {
    "ExecuteTime": {
     "end_time": "2022-03-22T17:15:38.896725Z",
     "start_time": "2022-03-22T17:15:38.891435Z"
    }
   },
   "outputs": [],
   "source": [
    "df_full = df_full.set_index('ID', drop=False)"
   ]
  },
  {
   "cell_type": "code",
   "execution_count": 490,
   "id": "a6df8354",
   "metadata": {
    "ExecuteTime": {
     "end_time": "2022-03-22T17:16:12.207117Z",
     "start_time": "2022-03-22T17:15:39.101816Z"
    }
   },
   "outputs": [],
   "source": [
    "df_full = check_last_match(df_full)"
   ]
  },
  {
   "cell_type": "code",
   "execution_count": 491,
   "id": "b620d9dd",
   "metadata": {
    "ExecuteTime": {
     "end_time": "2022-03-22T17:16:12.230476Z",
     "start_time": "2022-03-22T17:16:12.209109Z"
    }
   },
   "outputs": [
    {
     "data": {
      "text/html": [
       "<div>\n",
       "<style scoped>\n",
       "    .dataframe tbody tr th:only-of-type {\n",
       "        vertical-align: middle;\n",
       "    }\n",
       "\n",
       "    .dataframe tbody tr th {\n",
       "        vertical-align: top;\n",
       "    }\n",
       "\n",
       "    .dataframe thead th {\n",
       "        text-align: right;\n",
       "    }\n",
       "</style>\n",
       "<table border=\"1\" class=\"dataframe\">\n",
       "  <thead>\n",
       "    <tr style=\"text-align: right;\">\n",
       "      <th></th>\n",
       "      <th>ID</th>\n",
       "      <th>rodada</th>\n",
       "      <th>data</th>\n",
       "      <th>hora</th>\n",
       "      <th>dia</th>\n",
       "      <th>mandante</th>\n",
       "      <th>visitante</th>\n",
       "      <th>formacao_mandante</th>\n",
       "      <th>formacao_visitante</th>\n",
       "      <th>tecnico_mandante</th>\n",
       "      <th>...</th>\n",
       "      <th>arena</th>\n",
       "      <th>mandante_placar</th>\n",
       "      <th>visitante_placar</th>\n",
       "      <th>mandante_estado</th>\n",
       "      <th>visitante_estado</th>\n",
       "      <th>estado_vencedor</th>\n",
       "      <th>mandante_venceu_ultima</th>\n",
       "      <th>visitante_venceu_ultima</th>\n",
       "      <th>n_gols_mandante_ultima</th>\n",
       "      <th>n_gols_visitante_ultima</th>\n",
       "    </tr>\n",
       "    <tr>\n",
       "      <th>ID</th>\n",
       "      <th></th>\n",
       "      <th></th>\n",
       "      <th></th>\n",
       "      <th></th>\n",
       "      <th></th>\n",
       "      <th></th>\n",
       "      <th></th>\n",
       "      <th></th>\n",
       "      <th></th>\n",
       "      <th></th>\n",
       "      <th></th>\n",
       "      <th></th>\n",
       "      <th></th>\n",
       "      <th></th>\n",
       "      <th></th>\n",
       "      <th></th>\n",
       "      <th></th>\n",
       "      <th></th>\n",
       "      <th></th>\n",
       "      <th></th>\n",
       "      <th></th>\n",
       "    </tr>\n",
       "  </thead>\n",
       "  <tbody>\n",
       "    <tr>\n",
       "      <th>1</th>\n",
       "      <td>1</td>\n",
       "      <td>1</td>\n",
       "      <td>2003-03-29</td>\n",
       "      <td>16:00</td>\n",
       "      <td>Sabado</td>\n",
       "      <td>Guarani</td>\n",
       "      <td>Vasco</td>\n",
       "      <td>NaN</td>\n",
       "      <td>NaN</td>\n",
       "      <td>NaN</td>\n",
       "      <td>...</td>\n",
       "      <td>brinco de ouro</td>\n",
       "      <td>4</td>\n",
       "      <td>2</td>\n",
       "      <td>SP</td>\n",
       "      <td>RJ</td>\n",
       "      <td>SP</td>\n",
       "      <td>0</td>\n",
       "      <td>0</td>\n",
       "      <td>0</td>\n",
       "      <td>0</td>\n",
       "    </tr>\n",
       "    <tr>\n",
       "      <th>2</th>\n",
       "      <td>2</td>\n",
       "      <td>1</td>\n",
       "      <td>2003-03-29</td>\n",
       "      <td>16:00</td>\n",
       "      <td>Sabado</td>\n",
       "      <td>Athletico-PR</td>\n",
       "      <td>Gremio</td>\n",
       "      <td>NaN</td>\n",
       "      <td>NaN</td>\n",
       "      <td>NaN</td>\n",
       "      <td>...</td>\n",
       "      <td>arena da baixada</td>\n",
       "      <td>2</td>\n",
       "      <td>0</td>\n",
       "      <td>PR</td>\n",
       "      <td>RS</td>\n",
       "      <td>PR</td>\n",
       "      <td>0</td>\n",
       "      <td>0</td>\n",
       "      <td>0</td>\n",
       "      <td>0</td>\n",
       "    </tr>\n",
       "    <tr>\n",
       "      <th>3</th>\n",
       "      <td>3</td>\n",
       "      <td>1</td>\n",
       "      <td>2003-03-30</td>\n",
       "      <td>16:00</td>\n",
       "      <td>Domingo</td>\n",
       "      <td>Flamengo</td>\n",
       "      <td>Coritiba</td>\n",
       "      <td>NaN</td>\n",
       "      <td>NaN</td>\n",
       "      <td>NaN</td>\n",
       "      <td>...</td>\n",
       "      <td>maracana</td>\n",
       "      <td>1</td>\n",
       "      <td>1</td>\n",
       "      <td>RJ</td>\n",
       "      <td>PR</td>\n",
       "      <td>-</td>\n",
       "      <td>0</td>\n",
       "      <td>0</td>\n",
       "      <td>0</td>\n",
       "      <td>0</td>\n",
       "    </tr>\n",
       "    <tr>\n",
       "      <th>4</th>\n",
       "      <td>4</td>\n",
       "      <td>1</td>\n",
       "      <td>2003-03-30</td>\n",
       "      <td>16:00</td>\n",
       "      <td>Domingo</td>\n",
       "      <td>Goias</td>\n",
       "      <td>Paysandu</td>\n",
       "      <td>NaN</td>\n",
       "      <td>NaN</td>\n",
       "      <td>NaN</td>\n",
       "      <td>...</td>\n",
       "      <td>serra dourada</td>\n",
       "      <td>2</td>\n",
       "      <td>2</td>\n",
       "      <td>GO</td>\n",
       "      <td>PA</td>\n",
       "      <td>-</td>\n",
       "      <td>0</td>\n",
       "      <td>0</td>\n",
       "      <td>0</td>\n",
       "      <td>0</td>\n",
       "    </tr>\n",
       "    <tr>\n",
       "      <th>5</th>\n",
       "      <td>5</td>\n",
       "      <td>1</td>\n",
       "      <td>2003-03-30</td>\n",
       "      <td>16:00</td>\n",
       "      <td>Domingo</td>\n",
       "      <td>Internacional</td>\n",
       "      <td>Ponte Preta</td>\n",
       "      <td>NaN</td>\n",
       "      <td>NaN</td>\n",
       "      <td>NaN</td>\n",
       "      <td>...</td>\n",
       "      <td>beira rio</td>\n",
       "      <td>1</td>\n",
       "      <td>1</td>\n",
       "      <td>RS</td>\n",
       "      <td>SP</td>\n",
       "      <td>-</td>\n",
       "      <td>0</td>\n",
       "      <td>0</td>\n",
       "      <td>0</td>\n",
       "      <td>0</td>\n",
       "    </tr>\n",
       "  </tbody>\n",
       "</table>\n",
       "<p>5 rows × 22 columns</p>\n",
       "</div>"
      ],
      "text/plain": [
       "    ID  rodada       data   hora      dia       mandante    visitante  \\\n",
       "ID                                                                      \n",
       "1    1       1 2003-03-29  16:00   Sabado        Guarani        Vasco   \n",
       "2    2       1 2003-03-29  16:00   Sabado   Athletico-PR       Gremio   \n",
       "3    3       1 2003-03-30  16:00  Domingo       Flamengo     Coritiba   \n",
       "4    4       1 2003-03-30  16:00  Domingo          Goias     Paysandu   \n",
       "5    5       1 2003-03-30  16:00  Domingo  Internacional  Ponte Preta   \n",
       "\n",
       "   formacao_mandante formacao_visitante tecnico_mandante  ...  \\\n",
       "ID                                                        ...   \n",
       "1                NaN                NaN              NaN  ...   \n",
       "2                NaN                NaN              NaN  ...   \n",
       "3                NaN                NaN              NaN  ...   \n",
       "4                NaN                NaN              NaN  ...   \n",
       "5                NaN                NaN              NaN  ...   \n",
       "\n",
       "               arena mandante_placar visitante_placar  mandante_estado  \\\n",
       "ID                                                                       \n",
       "1     brinco de ouro               4                2               SP   \n",
       "2   arena da baixada               2                0               PR   \n",
       "3           maracana               1                1               RJ   \n",
       "4      serra dourada               2                2               GO   \n",
       "5          beira rio               1                1               RS   \n",
       "\n",
       "    visitante_estado estado_vencedor mandante_venceu_ultima  \\\n",
       "ID                                                            \n",
       "1                 RJ              SP                      0   \n",
       "2                 RS              PR                      0   \n",
       "3                 PR               -                      0   \n",
       "4                 PA               -                      0   \n",
       "5                 SP               -                      0   \n",
       "\n",
       "   visitante_venceu_ultima  n_gols_mandante_ultima  n_gols_visitante_ultima  \n",
       "ID                                                                           \n",
       "1                        0                       0                        0  \n",
       "2                        0                       0                        0  \n",
       "3                        0                       0                        0  \n",
       "4                        0                       0                        0  \n",
       "5                        0                       0                        0  \n",
       "\n",
       "[5 rows x 22 columns]"
      ]
     },
     "execution_count": 491,
     "metadata": {},
     "output_type": "execute_result"
    }
   ],
   "source": [
    "df_full.head()"
   ]
  },
  {
   "cell_type": "code",
   "execution_count": 492,
   "id": "b716e8d6",
   "metadata": {
    "ExecuteTime": {
     "end_time": "2022-03-22T17:16:12.241756Z",
     "start_time": "2022-03-22T17:16:12.236521Z"
    }
   },
   "outputs": [],
   "source": [
    "df_full['temporada'] = df_full.data.dt.year"
   ]
  },
  {
   "cell_type": "markdown",
   "id": "ae364e6d",
   "metadata": {},
   "source": [
    "## 1.3 Stats "
   ]
  },
  {
   "cell_type": "code",
   "execution_count": 493,
   "id": "e1306a2d",
   "metadata": {
    "ExecuteTime": {
     "end_time": "2022-03-22T17:16:12.277656Z",
     "start_time": "2022-03-22T17:16:12.245281Z"
    }
   },
   "outputs": [
    {
     "data": {
      "text/html": [
       "<div>\n",
       "<style scoped>\n",
       "    .dataframe tbody tr th:only-of-type {\n",
       "        vertical-align: middle;\n",
       "    }\n",
       "\n",
       "    .dataframe tbody tr th {\n",
       "        vertical-align: top;\n",
       "    }\n",
       "\n",
       "    .dataframe thead th {\n",
       "        text-align: right;\n",
       "    }\n",
       "</style>\n",
       "<table border=\"1\" class=\"dataframe\">\n",
       "  <thead>\n",
       "    <tr style=\"text-align: right;\">\n",
       "      <th></th>\n",
       "      <th>partida_id</th>\n",
       "      <th>rodada</th>\n",
       "      <th>clube</th>\n",
       "      <th>chutes</th>\n",
       "      <th>chutes_no_alvo</th>\n",
       "      <th>posse_de_bola</th>\n",
       "      <th>passes</th>\n",
       "      <th>precisao_passes</th>\n",
       "      <th>faltas</th>\n",
       "      <th>cartao_amarelo</th>\n",
       "      <th>cartao_vermelho</th>\n",
       "      <th>impedimentos</th>\n",
       "      <th>escanteios</th>\n",
       "    </tr>\n",
       "  </thead>\n",
       "  <tbody>\n",
       "    <tr>\n",
       "      <th>0</th>\n",
       "      <td>1</td>\n",
       "      <td>1</td>\n",
       "      <td>Guarani</td>\n",
       "      <td>0</td>\n",
       "      <td>0</td>\n",
       "      <td>NaN</td>\n",
       "      <td>0</td>\n",
       "      <td>NaN</td>\n",
       "      <td>0</td>\n",
       "      <td>0</td>\n",
       "      <td>0</td>\n",
       "      <td>0</td>\n",
       "      <td>0</td>\n",
       "    </tr>\n",
       "    <tr>\n",
       "      <th>1</th>\n",
       "      <td>1</td>\n",
       "      <td>1</td>\n",
       "      <td>Vasco</td>\n",
       "      <td>0</td>\n",
       "      <td>0</td>\n",
       "      <td>NaN</td>\n",
       "      <td>0</td>\n",
       "      <td>NaN</td>\n",
       "      <td>0</td>\n",
       "      <td>0</td>\n",
       "      <td>0</td>\n",
       "      <td>0</td>\n",
       "      <td>0</td>\n",
       "    </tr>\n",
       "    <tr>\n",
       "      <th>2</th>\n",
       "      <td>2</td>\n",
       "      <td>1</td>\n",
       "      <td>Athletico-PR</td>\n",
       "      <td>0</td>\n",
       "      <td>0</td>\n",
       "      <td>NaN</td>\n",
       "      <td>0</td>\n",
       "      <td>NaN</td>\n",
       "      <td>0</td>\n",
       "      <td>0</td>\n",
       "      <td>0</td>\n",
       "      <td>0</td>\n",
       "      <td>0</td>\n",
       "    </tr>\n",
       "    <tr>\n",
       "      <th>3</th>\n",
       "      <td>2</td>\n",
       "      <td>1</td>\n",
       "      <td>Gremio</td>\n",
       "      <td>0</td>\n",
       "      <td>0</td>\n",
       "      <td>NaN</td>\n",
       "      <td>0</td>\n",
       "      <td>NaN</td>\n",
       "      <td>0</td>\n",
       "      <td>0</td>\n",
       "      <td>0</td>\n",
       "      <td>0</td>\n",
       "      <td>0</td>\n",
       "    </tr>\n",
       "    <tr>\n",
       "      <th>4</th>\n",
       "      <td>3</td>\n",
       "      <td>1</td>\n",
       "      <td>Flamengo</td>\n",
       "      <td>0</td>\n",
       "      <td>0</td>\n",
       "      <td>NaN</td>\n",
       "      <td>0</td>\n",
       "      <td>NaN</td>\n",
       "      <td>0</td>\n",
       "      <td>0</td>\n",
       "      <td>0</td>\n",
       "      <td>0</td>\n",
       "      <td>0</td>\n",
       "    </tr>\n",
       "  </tbody>\n",
       "</table>\n",
       "</div>"
      ],
      "text/plain": [
       "   partida_id  rodada         clube  chutes  chutes_no_alvo posse_de_bola  \\\n",
       "0           1       1       Guarani       0               0           NaN   \n",
       "1           1       1         Vasco       0               0           NaN   \n",
       "2           2       1  Athletico-PR       0               0           NaN   \n",
       "3           2       1        Gremio       0               0           NaN   \n",
       "4           3       1      Flamengo       0               0           NaN   \n",
       "\n",
       "   passes precisao_passes  faltas  cartao_amarelo  cartao_vermelho  \\\n",
       "0       0             NaN       0               0                0   \n",
       "1       0             NaN       0               0                0   \n",
       "2       0             NaN       0               0                0   \n",
       "3       0             NaN       0               0                0   \n",
       "4       0             NaN       0               0                0   \n",
       "\n",
       "   impedimentos  escanteios  \n",
       "0             0           0  \n",
       "1             0           0  \n",
       "2             0           0  \n",
       "3             0           0  \n",
       "4             0           0  "
      ]
     },
     "execution_count": 493,
     "metadata": {},
     "output_type": "execute_result"
    }
   ],
   "source": [
    "df_stats = pd.read_csv(data_path + stats)\n",
    "df_stats.head()"
   ]
  },
  {
   "cell_type": "code",
   "execution_count": 494,
   "id": "eabf6995",
   "metadata": {
    "ExecuteTime": {
     "end_time": "2022-03-22T17:16:12.288190Z",
     "start_time": "2022-03-22T17:16:12.279730Z"
    }
   },
   "outputs": [
    {
     "data": {
      "text/plain": [
       "(15290, 13)"
      ]
     },
     "execution_count": 494,
     "metadata": {},
     "output_type": "execute_result"
    }
   ],
   "source": [
    "df_stats.shape"
   ]
  },
  {
   "cell_type": "code",
   "execution_count": 495,
   "id": "958b80b5",
   "metadata": {
    "ExecuteTime": {
     "end_time": "2022-03-22T17:16:12.302859Z",
     "start_time": "2022-03-22T17:16:12.289947Z"
    }
   },
   "outputs": [
    {
     "name": "stdout",
     "output_type": "stream",
     "text": [
      "% of NaN\n"
     ]
    },
    {
     "data": {
      "text/plain": [
       "partida_id         0.000000\n",
       "rodada             0.000000\n",
       "clube              0.000000\n",
       "chutes             0.000000\n",
       "chutes_no_alvo     0.000000\n",
       "posse_de_bola      0.602485\n",
       "passes             0.000000\n",
       "precisao_passes    0.602485\n",
       "faltas             0.000000\n",
       "cartao_amarelo     0.000000\n",
       "cartao_vermelho    0.000000\n",
       "impedimentos       0.000000\n",
       "escanteios         0.000000\n",
       "dtype: float64"
      ]
     },
     "execution_count": 495,
     "metadata": {},
     "output_type": "execute_result"
    }
   ],
   "source": [
    "print('% of NaN')\n",
    "df_stats.isna().sum()/df_stats.shape[0]"
   ]
  },
  {
   "cell_type": "code",
   "execution_count": 496,
   "id": "e8f4720a",
   "metadata": {
    "ExecuteTime": {
     "end_time": "2022-03-22T17:16:12.328839Z",
     "start_time": "2022-03-22T17:16:12.304592Z"
    }
   },
   "outputs": [],
   "source": [
    "df_stats['posse_de_bola'] = df_stats['posse_de_bola'].apply(lambda x: np.nan if x == 'None' else x)\n",
    "df_stats['precisao_passes'] = df_stats['precisao_passes'].apply(lambda x: np.nan if x == 'None' else x)\n",
    "df_stats = df_stats.dropna()\n",
    "\n",
    "df_stats['posse_de_bola'] = df_stats['posse_de_bola'].apply(lambda x: int(x[0:2])/100)\n",
    "df_stats['precisao_passes'] = df_stats['precisao_passes'].apply(lambda x: int(x[0:2])/100)"
   ]
  },
  {
   "cell_type": "code",
   "execution_count": 497,
   "id": "4d8c681b",
   "metadata": {
    "ExecuteTime": {
     "end_time": "2022-03-22T17:16:12.334852Z",
     "start_time": "2022-03-22T17:16:12.330326Z"
    }
   },
   "outputs": [],
   "source": [
    "df_stats = df_stats.rename(columns = {'partida_id': 'ID'})"
   ]
  },
  {
   "cell_type": "code",
   "execution_count": 498,
   "id": "bec05c4d",
   "metadata": {
    "ExecuteTime": {
     "end_time": "2022-03-22T17:16:12.358312Z",
     "start_time": "2022-03-22T17:16:12.336903Z"
    }
   },
   "outputs": [
    {
     "data": {
      "text/html": [
       "<div>\n",
       "<style scoped>\n",
       "    .dataframe tbody tr th:only-of-type {\n",
       "        vertical-align: middle;\n",
       "    }\n",
       "\n",
       "    .dataframe tbody tr th {\n",
       "        vertical-align: top;\n",
       "    }\n",
       "\n",
       "    .dataframe thead th {\n",
       "        text-align: right;\n",
       "    }\n",
       "</style>\n",
       "<table border=\"1\" class=\"dataframe\">\n",
       "  <thead>\n",
       "    <tr style=\"text-align: right;\">\n",
       "      <th></th>\n",
       "      <th>ID</th>\n",
       "      <th>rodada</th>\n",
       "      <th>clube</th>\n",
       "      <th>chutes</th>\n",
       "      <th>chutes_no_alvo</th>\n",
       "      <th>posse_de_bola</th>\n",
       "      <th>passes</th>\n",
       "      <th>precisao_passes</th>\n",
       "      <th>faltas</th>\n",
       "      <th>cartao_amarelo</th>\n",
       "      <th>cartao_vermelho</th>\n",
       "      <th>impedimentos</th>\n",
       "      <th>escanteios</th>\n",
       "    </tr>\n",
       "  </thead>\n",
       "  <tbody>\n",
       "    <tr>\n",
       "      <th>12250</th>\n",
       "      <td>6126</td>\n",
       "      <td>1</td>\n",
       "      <td>Cruzeiro</td>\n",
       "      <td>12</td>\n",
       "      <td>2</td>\n",
       "      <td>0.40</td>\n",
       "      <td>425</td>\n",
       "      <td>0.81</td>\n",
       "      <td>20</td>\n",
       "      <td>3</td>\n",
       "      <td>0</td>\n",
       "      <td>0</td>\n",
       "      <td>7</td>\n",
       "    </tr>\n",
       "    <tr>\n",
       "      <th>12251</th>\n",
       "      <td>6126</td>\n",
       "      <td>1</td>\n",
       "      <td>Gremio</td>\n",
       "      <td>6</td>\n",
       "      <td>2</td>\n",
       "      <td>0.60</td>\n",
       "      <td>649</td>\n",
       "      <td>0.86</td>\n",
       "      <td>15</td>\n",
       "      <td>1</td>\n",
       "      <td>1</td>\n",
       "      <td>3</td>\n",
       "      <td>4</td>\n",
       "    </tr>\n",
       "    <tr>\n",
       "      <th>12252</th>\n",
       "      <td>6127</td>\n",
       "      <td>1</td>\n",
       "      <td>Vitoria</td>\n",
       "      <td>21</td>\n",
       "      <td>6</td>\n",
       "      <td>0.66</td>\n",
       "      <td>545</td>\n",
       "      <td>0.88</td>\n",
       "      <td>24</td>\n",
       "      <td>3</td>\n",
       "      <td>0</td>\n",
       "      <td>2</td>\n",
       "      <td>4</td>\n",
       "    </tr>\n",
       "    <tr>\n",
       "      <th>12253</th>\n",
       "      <td>6127</td>\n",
       "      <td>1</td>\n",
       "      <td>Flamengo</td>\n",
       "      <td>10</td>\n",
       "      <td>5</td>\n",
       "      <td>0.34</td>\n",
       "      <td>286</td>\n",
       "      <td>0.72</td>\n",
       "      <td>10</td>\n",
       "      <td>2</td>\n",
       "      <td>1</td>\n",
       "      <td>2</td>\n",
       "      <td>5</td>\n",
       "    </tr>\n",
       "    <tr>\n",
       "      <th>12254</th>\n",
       "      <td>6128</td>\n",
       "      <td>1</td>\n",
       "      <td>Santos</td>\n",
       "      <td>22</td>\n",
       "      <td>3</td>\n",
       "      <td>0.54</td>\n",
       "      <td>532</td>\n",
       "      <td>0.90</td>\n",
       "      <td>7</td>\n",
       "      <td>0</td>\n",
       "      <td>0</td>\n",
       "      <td>1</td>\n",
       "      <td>4</td>\n",
       "    </tr>\n",
       "    <tr>\n",
       "      <th>...</th>\n",
       "      <td>...</td>\n",
       "      <td>...</td>\n",
       "      <td>...</td>\n",
       "      <td>...</td>\n",
       "      <td>...</td>\n",
       "      <td>...</td>\n",
       "      <td>...</td>\n",
       "      <td>...</td>\n",
       "      <td>...</td>\n",
       "      <td>...</td>\n",
       "      <td>...</td>\n",
       "      <td>...</td>\n",
       "      <td>...</td>\n",
       "    </tr>\n",
       "    <tr>\n",
       "      <th>15285</th>\n",
       "      <td>7643</td>\n",
       "      <td>38</td>\n",
       "      <td>Corinthians</td>\n",
       "      <td>1</td>\n",
       "      <td>1</td>\n",
       "      <td>0.56</td>\n",
       "      <td>519</td>\n",
       "      <td>0.85</td>\n",
       "      <td>22</td>\n",
       "      <td>2</td>\n",
       "      <td>1</td>\n",
       "      <td>0</td>\n",
       "      <td>4</td>\n",
       "    </tr>\n",
       "    <tr>\n",
       "      <th>15286</th>\n",
       "      <td>7644</td>\n",
       "      <td>38</td>\n",
       "      <td>Gremio</td>\n",
       "      <td>7</td>\n",
       "      <td>4</td>\n",
       "      <td>0.37</td>\n",
       "      <td>328</td>\n",
       "      <td>0.83</td>\n",
       "      <td>15</td>\n",
       "      <td>3</td>\n",
       "      <td>0</td>\n",
       "      <td>1</td>\n",
       "      <td>3</td>\n",
       "    </tr>\n",
       "    <tr>\n",
       "      <th>15287</th>\n",
       "      <td>7644</td>\n",
       "      <td>38</td>\n",
       "      <td>Atletico-MG</td>\n",
       "      <td>13</td>\n",
       "      <td>7</td>\n",
       "      <td>0.63</td>\n",
       "      <td>548</td>\n",
       "      <td>0.88</td>\n",
       "      <td>11</td>\n",
       "      <td>1</td>\n",
       "      <td>0</td>\n",
       "      <td>0</td>\n",
       "      <td>9</td>\n",
       "    </tr>\n",
       "    <tr>\n",
       "      <th>15288</th>\n",
       "      <td>7645</td>\n",
       "      <td>38</td>\n",
       "      <td>Santos</td>\n",
       "      <td>13</td>\n",
       "      <td>5</td>\n",
       "      <td>0.62</td>\n",
       "      <td>513</td>\n",
       "      <td>0.84</td>\n",
       "      <td>17</td>\n",
       "      <td>1</td>\n",
       "      <td>0</td>\n",
       "      <td>0</td>\n",
       "      <td>6</td>\n",
       "    </tr>\n",
       "    <tr>\n",
       "      <th>15289</th>\n",
       "      <td>7645</td>\n",
       "      <td>38</td>\n",
       "      <td>Cuiaba</td>\n",
       "      <td>8</td>\n",
       "      <td>3</td>\n",
       "      <td>0.38</td>\n",
       "      <td>321</td>\n",
       "      <td>0.72</td>\n",
       "      <td>15</td>\n",
       "      <td>2</td>\n",
       "      <td>0</td>\n",
       "      <td>1</td>\n",
       "      <td>4</td>\n",
       "    </tr>\n",
       "  </tbody>\n",
       "</table>\n",
       "<p>2992 rows × 13 columns</p>\n",
       "</div>"
      ],
      "text/plain": [
       "         ID  rodada        clube  chutes  chutes_no_alvo  posse_de_bola  \\\n",
       "12250  6126       1     Cruzeiro      12               2           0.40   \n",
       "12251  6126       1       Gremio       6               2           0.60   \n",
       "12252  6127       1      Vitoria      21               6           0.66   \n",
       "12253  6127       1     Flamengo      10               5           0.34   \n",
       "12254  6128       1       Santos      22               3           0.54   \n",
       "...     ...     ...          ...     ...             ...            ...   \n",
       "15285  7643      38  Corinthians       1               1           0.56   \n",
       "15286  7644      38       Gremio       7               4           0.37   \n",
       "15287  7644      38  Atletico-MG      13               7           0.63   \n",
       "15288  7645      38       Santos      13               5           0.62   \n",
       "15289  7645      38       Cuiaba       8               3           0.38   \n",
       "\n",
       "       passes  precisao_passes  faltas  cartao_amarelo  cartao_vermelho  \\\n",
       "12250     425             0.81      20               3                0   \n",
       "12251     649             0.86      15               1                1   \n",
       "12252     545             0.88      24               3                0   \n",
       "12253     286             0.72      10               2                1   \n",
       "12254     532             0.90       7               0                0   \n",
       "...       ...              ...     ...             ...              ...   \n",
       "15285     519             0.85      22               2                1   \n",
       "15286     328             0.83      15               3                0   \n",
       "15287     548             0.88      11               1                0   \n",
       "15288     513             0.84      17               1                0   \n",
       "15289     321             0.72      15               2                0   \n",
       "\n",
       "       impedimentos  escanteios  \n",
       "12250             0           7  \n",
       "12251             3           4  \n",
       "12252             2           4  \n",
       "12253             2           5  \n",
       "12254             1           4  \n",
       "...             ...         ...  \n",
       "15285             0           4  \n",
       "15286             1           3  \n",
       "15287             0           9  \n",
       "15288             0           6  \n",
       "15289             1           4  \n",
       "\n",
       "[2992 rows x 13 columns]"
      ]
     },
     "execution_count": 498,
     "metadata": {},
     "output_type": "execute_result"
    }
   ],
   "source": [
    "df_stats"
   ]
  },
  {
   "cell_type": "code",
   "execution_count": 499,
   "id": "2e933065",
   "metadata": {
    "ExecuteTime": {
     "end_time": "2022-03-22T17:16:12.368458Z",
     "start_time": "2022-03-22T17:16:12.361454Z"
    }
   },
   "outputs": [],
   "source": [
    "df_stats = pd.merge(df_stats, df_full[['data']], on='ID')"
   ]
  },
  {
   "cell_type": "code",
   "execution_count": 500,
   "id": "b81883ac",
   "metadata": {
    "ExecuteTime": {
     "end_time": "2022-03-22T17:16:12.374386Z",
     "start_time": "2022-03-22T17:16:12.370649Z"
    }
   },
   "outputs": [
    {
     "data": {
      "text/plain": [
       "['ID',\n",
       " 'rodada',\n",
       " 'clube',\n",
       " 'chutes',\n",
       " 'chutes_no_alvo',\n",
       " 'posse_de_bola',\n",
       " 'passes',\n",
       " 'precisao_passes',\n",
       " 'faltas',\n",
       " 'cartao_amarelo',\n",
       " 'cartao_vermelho',\n",
       " 'impedimentos',\n",
       " 'escanteios',\n",
       " 'data']"
      ]
     },
     "execution_count": 500,
     "metadata": {},
     "output_type": "execute_result"
    }
   ],
   "source": [
    "df_stats.columns.tolist()"
   ]
  },
  {
   "cell_type": "code",
   "execution_count": 501,
   "id": "2969fb66",
   "metadata": {
    "ExecuteTime": {
     "end_time": "2022-03-22T17:16:12.380409Z",
     "start_time": "2022-03-22T17:16:12.375988Z"
    }
   },
   "outputs": [
    {
     "data": {
      "text/plain": [
       "['ID',\n",
       " 'data',\n",
       " 'rodada',\n",
       " 'clube',\n",
       " 'chutes',\n",
       " 'chutes_no_alvo',\n",
       " 'posse_de_bola',\n",
       " 'passes',\n",
       " 'precisao_passes',\n",
       " 'faltas',\n",
       " 'cartao_amarelo',\n",
       " 'cartao_vermelho',\n",
       " 'impedimentos',\n",
       " 'escanteios']"
      ]
     },
     "execution_count": 501,
     "metadata": {},
     "output_type": "execute_result"
    }
   ],
   "source": [
    "['ID', 'data', 'rodada', 'clube', 'chutes', 'chutes_no_alvo', 'posse_de_bola', 'passes', 'precisao_passes', 'faltas', 'cartao_amarelo',\n",
    " 'cartao_vermelho', 'impedimentos', 'escanteios']"
   ]
  },
  {
   "cell_type": "code",
   "execution_count": 502,
   "id": "88de0063",
   "metadata": {
    "ExecuteTime": {
     "end_time": "2022-03-22T17:16:12.386814Z",
     "start_time": "2022-03-22T17:16:12.382175Z"
    }
   },
   "outputs": [],
   "source": [
    "df_stats = df_stats[['ID', 'data', 'rodada', 'clube', 'chutes', 'chutes_no_alvo', 'posse_de_bola', 'passes', 'precisao_passes', 'faltas', 'cartao_amarelo',\n",
    " 'cartao_vermelho', 'impedimentos', 'escanteios']]"
   ]
  },
  {
   "cell_type": "code",
   "execution_count": 503,
   "id": "10cc4592",
   "metadata": {
    "ExecuteTime": {
     "end_time": "2022-03-22T17:16:12.398170Z",
     "start_time": "2022-03-22T17:16:12.392402Z"
    }
   },
   "outputs": [],
   "source": [
    "df_stats = df_stats.reset_index(drop=True)"
   ]
  },
  {
   "cell_type": "code",
   "execution_count": 504,
   "id": "769b5bd8",
   "metadata": {
    "ExecuteTime": {
     "end_time": "2022-03-22T17:16:12.408747Z",
     "start_time": "2022-03-22T17:16:12.401076Z"
    }
   },
   "outputs": [
    {
     "data": {
      "text/plain": [
       "ID                 0\n",
       "data               0\n",
       "rodada             0\n",
       "clube              0\n",
       "chutes             0\n",
       "chutes_no_alvo     0\n",
       "posse_de_bola      0\n",
       "passes             0\n",
       "precisao_passes    0\n",
       "faltas             0\n",
       "cartao_amarelo     0\n",
       "cartao_vermelho    0\n",
       "impedimentos       0\n",
       "escanteios         0\n",
       "dtype: int64"
      ]
     },
     "execution_count": 504,
     "metadata": {},
     "output_type": "execute_result"
    }
   ],
   "source": [
    "df_stats.isna().sum()"
   ]
  },
  {
   "cell_type": "code",
   "execution_count": 505,
   "id": "b65131ab",
   "metadata": {
    "ExecuteTime": {
     "end_time": "2022-03-22T17:16:12.430386Z",
     "start_time": "2022-03-22T17:16:12.410773Z"
    }
   },
   "outputs": [
    {
     "data": {
      "text/html": [
       "<div>\n",
       "<style scoped>\n",
       "    .dataframe tbody tr th:only-of-type {\n",
       "        vertical-align: middle;\n",
       "    }\n",
       "\n",
       "    .dataframe tbody tr th {\n",
       "        vertical-align: top;\n",
       "    }\n",
       "\n",
       "    .dataframe thead th {\n",
       "        text-align: right;\n",
       "    }\n",
       "</style>\n",
       "<table border=\"1\" class=\"dataframe\">\n",
       "  <thead>\n",
       "    <tr style=\"text-align: right;\">\n",
       "      <th></th>\n",
       "      <th>chutes</th>\n",
       "      <th>chutes_no_alvo</th>\n",
       "      <th>posse_de_bola</th>\n",
       "      <th>passes</th>\n",
       "      <th>precisao_passes</th>\n",
       "      <th>faltas</th>\n",
       "      <th>cartao_amarelo</th>\n",
       "      <th>cartao_vermelho</th>\n",
       "      <th>impedimentos</th>\n",
       "      <th>escanteios</th>\n",
       "    </tr>\n",
       "    <tr>\n",
       "      <th>clube</th>\n",
       "      <th></th>\n",
       "      <th></th>\n",
       "      <th></th>\n",
       "      <th></th>\n",
       "      <th></th>\n",
       "      <th></th>\n",
       "      <th></th>\n",
       "      <th></th>\n",
       "      <th></th>\n",
       "      <th></th>\n",
       "    </tr>\n",
       "  </thead>\n",
       "  <tbody>\n",
       "    <tr>\n",
       "      <th>America-MG</th>\n",
       "      <td>12.973684</td>\n",
       "      <td>3.842105</td>\n",
       "      <td>0.472895</td>\n",
       "      <td>401.973684</td>\n",
       "      <td>0.780789</td>\n",
       "      <td>14.934211</td>\n",
       "      <td>1.921053</td>\n",
       "      <td>0.118421</td>\n",
       "      <td>1.684211</td>\n",
       "      <td>4.763158</td>\n",
       "    </tr>\n",
       "    <tr>\n",
       "      <th>Athletico-PR</th>\n",
       "      <td>13.045455</td>\n",
       "      <td>4.295455</td>\n",
       "      <td>0.531894</td>\n",
       "      <td>460.977273</td>\n",
       "      <td>0.828030</td>\n",
       "      <td>15.871212</td>\n",
       "      <td>2.196970</td>\n",
       "      <td>0.090909</td>\n",
       "      <td>1.446970</td>\n",
       "      <td>5.098485</td>\n",
       "    </tr>\n",
       "    <tr>\n",
       "      <th>Atletico-GO</th>\n",
       "      <td>11.421053</td>\n",
       "      <td>3.500000</td>\n",
       "      <td>0.480395</td>\n",
       "      <td>391.815789</td>\n",
       "      <td>0.790000</td>\n",
       "      <td>14.828947</td>\n",
       "      <td>2.223684</td>\n",
       "      <td>0.092105</td>\n",
       "      <td>1.342105</td>\n",
       "      <td>5.644737</td>\n",
       "    </tr>\n",
       "    <tr>\n",
       "      <th>Atletico-MG</th>\n",
       "      <td>15.189189</td>\n",
       "      <td>5.040541</td>\n",
       "      <td>0.559122</td>\n",
       "      <td>497.108108</td>\n",
       "      <td>0.831622</td>\n",
       "      <td>14.871622</td>\n",
       "      <td>1.939189</td>\n",
       "      <td>0.087838</td>\n",
       "      <td>1.527027</td>\n",
       "      <td>6.324324</td>\n",
       "    </tr>\n",
       "    <tr>\n",
       "      <th>Avai</th>\n",
       "      <td>12.305556</td>\n",
       "      <td>3.055556</td>\n",
       "      <td>0.465556</td>\n",
       "      <td>392.083333</td>\n",
       "      <td>0.773889</td>\n",
       "      <td>15.277778</td>\n",
       "      <td>2.055556</td>\n",
       "      <td>0.277778</td>\n",
       "      <td>1.222222</td>\n",
       "      <td>4.888889</td>\n",
       "    </tr>\n",
       "  </tbody>\n",
       "</table>\n",
       "</div>"
      ],
      "text/plain": [
       "                 chutes  chutes_no_alvo  posse_de_bola      passes  \\\n",
       "clube                                                                \n",
       "America-MG    12.973684        3.842105       0.472895  401.973684   \n",
       "Athletico-PR  13.045455        4.295455       0.531894  460.977273   \n",
       "Atletico-GO   11.421053        3.500000       0.480395  391.815789   \n",
       "Atletico-MG   15.189189        5.040541       0.559122  497.108108   \n",
       "Avai          12.305556        3.055556       0.465556  392.083333   \n",
       "\n",
       "              precisao_passes     faltas  cartao_amarelo  cartao_vermelho  \\\n",
       "clube                                                                       \n",
       "America-MG           0.780789  14.934211        1.921053         0.118421   \n",
       "Athletico-PR         0.828030  15.871212        2.196970         0.090909   \n",
       "Atletico-GO          0.790000  14.828947        2.223684         0.092105   \n",
       "Atletico-MG          0.831622  14.871622        1.939189         0.087838   \n",
       "Avai                 0.773889  15.277778        2.055556         0.277778   \n",
       "\n",
       "              impedimentos  escanteios  \n",
       "clube                                   \n",
       "America-MG        1.684211    4.763158  \n",
       "Athletico-PR      1.446970    5.098485  \n",
       "Atletico-GO       1.342105    5.644737  \n",
       "Atletico-MG       1.527027    6.324324  \n",
       "Avai              1.222222    4.888889  "
      ]
     },
     "execution_count": 505,
     "metadata": {},
     "output_type": "execute_result"
    }
   ],
   "source": [
    "df_stats_clube = df_stats.groupby('clube').mean()\n",
    "df_stats_clube = df_stats_clube.drop(['ID', 'rodada'], axis = 1)\n",
    "df_stats_clube.head()"
   ]
  },
  {
   "cell_type": "markdown",
   "id": "3ea26c4b",
   "metadata": {},
   "source": [
    "## 1.4 Goals "
   ]
  },
  {
   "cell_type": "code",
   "execution_count": 506,
   "id": "4cf8c1cb",
   "metadata": {
    "ExecuteTime": {
     "end_time": "2022-03-22T17:16:12.449983Z",
     "start_time": "2022-03-22T17:16:12.432465Z"
    }
   },
   "outputs": [
    {
     "data": {
      "text/html": [
       "<div>\n",
       "<style scoped>\n",
       "    .dataframe tbody tr th:only-of-type {\n",
       "        vertical-align: middle;\n",
       "    }\n",
       "\n",
       "    .dataframe tbody tr th {\n",
       "        vertical-align: top;\n",
       "    }\n",
       "\n",
       "    .dataframe thead th {\n",
       "        text-align: right;\n",
       "    }\n",
       "</style>\n",
       "<table border=\"1\" class=\"dataframe\">\n",
       "  <thead>\n",
       "    <tr style=\"text-align: right;\">\n",
       "      <th></th>\n",
       "      <th>partida_id</th>\n",
       "      <th>rodada</th>\n",
       "      <th>clube</th>\n",
       "      <th>atleta</th>\n",
       "      <th>minuto</th>\n",
       "    </tr>\n",
       "  </thead>\n",
       "  <tbody>\n",
       "    <tr>\n",
       "      <th>0</th>\n",
       "      <td>4607</td>\n",
       "      <td>1</td>\n",
       "      <td>Fluminense</td>\n",
       "      <td>Rafael Sóbis</td>\n",
       "      <td>31</td>\n",
       "    </tr>\n",
       "    <tr>\n",
       "      <th>1</th>\n",
       "      <td>4607</td>\n",
       "      <td>1</td>\n",
       "      <td>Fluminense</td>\n",
       "      <td>Fred</td>\n",
       "      <td>45</td>\n",
       "    </tr>\n",
       "    <tr>\n",
       "      <th>2</th>\n",
       "      <td>4607</td>\n",
       "      <td>1</td>\n",
       "      <td>Fluminense</td>\n",
       "      <td>Nirley da Silva Fonseca</td>\n",
       "      <td>59</td>\n",
       "    </tr>\n",
       "    <tr>\n",
       "      <th>3</th>\n",
       "      <td>4608</td>\n",
       "      <td>1</td>\n",
       "      <td>Internacional</td>\n",
       "      <td>Charles Aránguiz</td>\n",
       "      <td>6</td>\n",
       "    </tr>\n",
       "    <tr>\n",
       "      <th>4</th>\n",
       "      <td>4610</td>\n",
       "      <td>1</td>\n",
       "      <td>Athletico-PR</td>\n",
       "      <td>Dráusio Luis Salla Gil</td>\n",
       "      <td>16</td>\n",
       "    </tr>\n",
       "  </tbody>\n",
       "</table>\n",
       "</div>"
      ],
      "text/plain": [
       "   partida_id  rodada          clube                   atleta minuto\n",
       "0        4607       1     Fluminense             Rafael Sóbis     31\n",
       "1        4607       1     Fluminense                     Fred     45\n",
       "2        4607       1     Fluminense  Nirley da Silva Fonseca     59\n",
       "3        4608       1  Internacional         Charles Aránguiz      6\n",
       "4        4610       1   Athletico-PR   Dráusio Luis Salla Gil     16"
      ]
     },
     "execution_count": 506,
     "metadata": {},
     "output_type": "execute_result"
    }
   ],
   "source": [
    "df_goals = pd.read_csv(data_path + goals)\n",
    "df_goals.head()"
   ]
  },
  {
   "cell_type": "code",
   "execution_count": 507,
   "id": "6aeb961e",
   "metadata": {
    "ExecuteTime": {
     "end_time": "2022-03-22T17:16:12.454852Z",
     "start_time": "2022-03-22T17:16:12.451697Z"
    }
   },
   "outputs": [],
   "source": [
    "df_goals['gol'] = 1"
   ]
  },
  {
   "cell_type": "code",
   "execution_count": 508,
   "id": "cf117cb0",
   "metadata": {
    "ExecuteTime": {
     "end_time": "2022-03-22T17:16:12.466308Z",
     "start_time": "2022-03-22T17:16:12.456637Z"
    }
   },
   "outputs": [
    {
     "data": {
      "text/html": [
       "<div>\n",
       "<style scoped>\n",
       "    .dataframe tbody tr th:only-of-type {\n",
       "        vertical-align: middle;\n",
       "    }\n",
       "\n",
       "    .dataframe tbody tr th {\n",
       "        vertical-align: top;\n",
       "    }\n",
       "\n",
       "    .dataframe thead th {\n",
       "        text-align: right;\n",
       "    }\n",
       "</style>\n",
       "<table border=\"1\" class=\"dataframe\">\n",
       "  <thead>\n",
       "    <tr style=\"text-align: right;\">\n",
       "      <th></th>\n",
       "      <th>partida_id</th>\n",
       "      <th>rodada</th>\n",
       "      <th>clube</th>\n",
       "      <th>atleta</th>\n",
       "      <th>minuto</th>\n",
       "      <th>gol</th>\n",
       "    </tr>\n",
       "  </thead>\n",
       "  <tbody>\n",
       "    <tr>\n",
       "      <th>0</th>\n",
       "      <td>4607</td>\n",
       "      <td>1</td>\n",
       "      <td>Fluminense</td>\n",
       "      <td>Rafael Sóbis</td>\n",
       "      <td>31</td>\n",
       "      <td>1</td>\n",
       "    </tr>\n",
       "    <tr>\n",
       "      <th>1</th>\n",
       "      <td>4607</td>\n",
       "      <td>1</td>\n",
       "      <td>Fluminense</td>\n",
       "      <td>Fred</td>\n",
       "      <td>45</td>\n",
       "      <td>1</td>\n",
       "    </tr>\n",
       "    <tr>\n",
       "      <th>2</th>\n",
       "      <td>4607</td>\n",
       "      <td>1</td>\n",
       "      <td>Fluminense</td>\n",
       "      <td>Nirley da Silva Fonseca</td>\n",
       "      <td>59</td>\n",
       "      <td>1</td>\n",
       "    </tr>\n",
       "    <tr>\n",
       "      <th>3</th>\n",
       "      <td>4608</td>\n",
       "      <td>1</td>\n",
       "      <td>Internacional</td>\n",
       "      <td>Charles Aránguiz</td>\n",
       "      <td>6</td>\n",
       "      <td>1</td>\n",
       "    </tr>\n",
       "    <tr>\n",
       "      <th>4</th>\n",
       "      <td>4610</td>\n",
       "      <td>1</td>\n",
       "      <td>Athletico-PR</td>\n",
       "      <td>Dráusio Luis Salla Gil</td>\n",
       "      <td>16</td>\n",
       "      <td>1</td>\n",
       "    </tr>\n",
       "  </tbody>\n",
       "</table>\n",
       "</div>"
      ],
      "text/plain": [
       "   partida_id  rodada          clube                   atleta minuto  gol\n",
       "0        4607       1     Fluminense             Rafael Sóbis     31    1\n",
       "1        4607       1     Fluminense                     Fred     45    1\n",
       "2        4607       1     Fluminense  Nirley da Silva Fonseca     59    1\n",
       "3        4608       1  Internacional         Charles Aránguiz      6    1\n",
       "4        4610       1   Athletico-PR   Dráusio Luis Salla Gil     16    1"
      ]
     },
     "execution_count": 508,
     "metadata": {},
     "output_type": "execute_result"
    }
   ],
   "source": [
    "df_goals.head()"
   ]
  },
  {
   "cell_type": "code",
   "execution_count": 509,
   "id": "0c0d707f",
   "metadata": {
    "ExecuteTime": {
     "end_time": "2022-03-22T17:16:12.472026Z",
     "start_time": "2022-03-22T17:16:12.468086Z"
    }
   },
   "outputs": [
    {
     "data": {
      "text/plain": [
       "(7081, 6)"
      ]
     },
     "execution_count": 509,
     "metadata": {},
     "output_type": "execute_result"
    }
   ],
   "source": [
    "df_goals.shape"
   ]
  },
  {
   "cell_type": "code",
   "execution_count": 510,
   "id": "2ddaeda9",
   "metadata": {
    "ExecuteTime": {
     "end_time": "2022-03-22T17:16:12.487828Z",
     "start_time": "2022-03-22T17:16:12.474032Z"
    }
   },
   "outputs": [
    {
     "name": "stdout",
     "output_type": "stream",
     "text": [
      "% of NaN\n"
     ]
    },
    {
     "data": {
      "text/plain": [
       "partida_id    0.0\n",
       "rodada        0.0\n",
       "clube         0.0\n",
       "atleta        0.0\n",
       "minuto        0.0\n",
       "gol           0.0\n",
       "dtype: float64"
      ]
     },
     "execution_count": 510,
     "metadata": {},
     "output_type": "execute_result"
    }
   ],
   "source": [
    "print('% of NaN')\n",
    "df_goals.isna().sum()/df_goals.shape[0]"
   ]
  },
  {
   "cell_type": "markdown",
   "id": "9e0298f5",
   "metadata": {},
   "source": [
    "## 1.5 Legend"
   ]
  },
  {
   "cell_type": "markdown",
   "id": "8830e31e",
   "metadata": {},
   "source": [
    "**Legenda - campeonato-brasileiro-full.csv**\n",
    "- ID : ID da partida\n",
    "- Rodada : Rodada que aconteceu a partida\n",
    "- Data : Data que ocorreu a partida\n",
    "- Horário :  Horário que ocorreu a partida\n",
    "- Dia : Dia da semana que ocorreu a partida\n",
    "- Mandante : Clube mandante                      \n",
    "- Visitante : Clube Visitante\n",
    "- formacao_mandante: Formação do mandante\n",
    "- formacao_visitante: Formação do visitante\n",
    "- tecnico_mandante: Técnico do mandante\n",
    "- tecnico_visitante: Técnico do visitante\n",
    "- Vencedor : Clube vencedor da partida. Quando tiver \"-\", é um empate\n",
    "- Arena : Arena que ocorreu a partida                      \n",
    "- Mandante Placar : Gols que o clube mandante fez na partida                      \n",
    "- Visitante Placar : Gols que o clube visitante fez na partida                      \n",
    "- Estado Mandante : Estado do clube mandatorio                      \n",
    "- Estado Visitante : Estado do clube visitante                      \n",
    "- Estado Vencedor : Estado do clube vencedor. Quando tiver \"-\", é um empate\n",
    "\n",
    "\n",
    "**Legenda - campeonato-brasileiro-estatisticas-full.csv**\n",
    "- partida_ID - ID da partida\n",
    "- Rodada - Rodada da partida\n",
    "- Clube - Nome do clube\n",
    "- Chutes - Finalizações\n",
    "- Chutes a gol - Finalizações na direção do gol\n",
    "- Posse de bola - Percentual da posse de bola\n",
    "- Passes - Quantidade de passes que o clube deu na partida\n",
    "- precisao_passes - Percentual da precisão de passe\n",
    "- Faltas - Quantidade de faltas cometidas na partida\n",
    "- cartao_amarelo - Quantidade de cartões amarelos para o clube na partida\n",
    "- cartao_vermelho - Quantidade de cartões vermelhos para o clube na partida\n",
    "- Impedimentos - Quantidade de impedimentos para o clube na partida\n",
    "- Escanteios - Quantidade de escanteios para o clube na partida\n",
    "\n",
    "\n",
    "**Legenda - campeonato-brasileiro-gols.csv**\n",
    "- partida_ID - ID da partida\n",
    "- Rodada - Rodada da partida\n",
    "- Clube - Nome do clube\n",
    "- Atleta - Nome do atleta que fez o gol\n",
    "- Minuto - Minuto na partida em que o gol foi marcado\n",
    "\n",
    "\n",
    "**Legenda - campeonato-brasileiro-cartoes.csv**\n",
    "- partida_ID - ID da partida\n",
    "- Rodada - Rodada da partida\n",
    "- Clube - Nome do clube\n",
    "- Cartao - Cor do cartão aplicado\n",
    "- Atleta - Nome do atleta punido pelo cartão\n",
    "- num_camisa - Número da camisa do atleta\n",
    "- Posicao - Posição na partida em que o atleta se encontra\n",
    "- Minuto - Minuto na partida em que o cartão foi aplicado"
   ]
  },
  {
   "cell_type": "markdown",
   "id": "57170f8e",
   "metadata": {},
   "source": [
    "## 1.6 Filtering seasons"
   ]
  },
  {
   "cell_type": "markdown",
   "id": "ac1e3cf2",
   "metadata": {},
   "source": [
    "### 1.6.1 Selecting recent games (5 years) "
   ]
  },
  {
   "cell_type": "code",
   "execution_count": 511,
   "id": "17ee2bf1",
   "metadata": {
    "ExecuteTime": {
     "end_time": "2022-03-22T17:20:51.953447Z",
     "start_time": "2022-03-22T17:20:51.947640Z"
    }
   },
   "outputs": [],
   "source": [
    "df_full_recent = df_full[df_full['data'] > '2019-01-01'].reset_index(drop=True)\n",
    "df_stats_recent = df_stats[df_stats['data'] > '2019-01-01'].reset_index(drop=True)"
   ]
  },
  {
   "cell_type": "code",
   "execution_count": 512,
   "id": "20ed31df",
   "metadata": {
    "ExecuteTime": {
     "end_time": "2022-03-22T17:20:52.164846Z",
     "start_time": "2022-03-22T17:20:52.140797Z"
    }
   },
   "outputs": [
    {
     "data": {
      "text/html": [
       "<div>\n",
       "<style scoped>\n",
       "    .dataframe tbody tr th:only-of-type {\n",
       "        vertical-align: middle;\n",
       "    }\n",
       "\n",
       "    .dataframe tbody tr th {\n",
       "        vertical-align: top;\n",
       "    }\n",
       "\n",
       "    .dataframe thead th {\n",
       "        text-align: right;\n",
       "    }\n",
       "</style>\n",
       "<table border=\"1\" class=\"dataframe\">\n",
       "  <thead>\n",
       "    <tr style=\"text-align: right;\">\n",
       "      <th></th>\n",
       "      <th>ID</th>\n",
       "      <th>rodada</th>\n",
       "      <th>data</th>\n",
       "      <th>hora</th>\n",
       "      <th>dia</th>\n",
       "      <th>mandante</th>\n",
       "      <th>visitante</th>\n",
       "      <th>formacao_mandante</th>\n",
       "      <th>formacao_visitante</th>\n",
       "      <th>tecnico_mandante</th>\n",
       "      <th>...</th>\n",
       "      <th>mandante_placar</th>\n",
       "      <th>visitante_placar</th>\n",
       "      <th>mandante_estado</th>\n",
       "      <th>visitante_estado</th>\n",
       "      <th>estado_vencedor</th>\n",
       "      <th>mandante_venceu_ultima</th>\n",
       "      <th>visitante_venceu_ultima</th>\n",
       "      <th>n_gols_mandante_ultima</th>\n",
       "      <th>n_gols_visitante_ultima</th>\n",
       "      <th>temporada</th>\n",
       "    </tr>\n",
       "  </thead>\n",
       "  <tbody>\n",
       "    <tr>\n",
       "      <th>0</th>\n",
       "      <td>6506</td>\n",
       "      <td>1</td>\n",
       "      <td>2019-04-27</td>\n",
       "      <td>16:02</td>\n",
       "      <td>Sabado</td>\n",
       "      <td>Sao Paulo</td>\n",
       "      <td>Botafogo-RJ</td>\n",
       "      <td>4-2-3-1</td>\n",
       "      <td>4-1-4-1</td>\n",
       "      <td>E. de Souza Barroca</td>\n",
       "      <td>...</td>\n",
       "      <td>2</td>\n",
       "      <td>0</td>\n",
       "      <td>SP</td>\n",
       "      <td>RJ</td>\n",
       "      <td>SP</td>\n",
       "      <td>0</td>\n",
       "      <td>0</td>\n",
       "      <td>0</td>\n",
       "      <td>0</td>\n",
       "      <td>2019</td>\n",
       "    </tr>\n",
       "    <tr>\n",
       "      <th>1</th>\n",
       "      <td>6507</td>\n",
       "      <td>1</td>\n",
       "      <td>2019-04-27</td>\n",
       "      <td>19:00</td>\n",
       "      <td>Sabado</td>\n",
       "      <td>Atletico-MG</td>\n",
       "      <td>Avai</td>\n",
       "      <td>4-2-3-1</td>\n",
       "      <td>4-1-4-1</td>\n",
       "      <td>E. Machado Souto</td>\n",
       "      <td>...</td>\n",
       "      <td>2</td>\n",
       "      <td>1</td>\n",
       "      <td>MG</td>\n",
       "      <td>SC</td>\n",
       "      <td>MG</td>\n",
       "      <td>0</td>\n",
       "      <td>0</td>\n",
       "      <td>0</td>\n",
       "      <td>0</td>\n",
       "      <td>2019</td>\n",
       "    </tr>\n",
       "    <tr>\n",
       "      <th>2</th>\n",
       "      <td>6508</td>\n",
       "      <td>1</td>\n",
       "      <td>2019-04-27</td>\n",
       "      <td>19:01</td>\n",
       "      <td>Sabado</td>\n",
       "      <td>Chapecoense</td>\n",
       "      <td>Internacional</td>\n",
       "      <td>4-2-3-1</td>\n",
       "      <td>4-3-3</td>\n",
       "      <td>O. Hellmann</td>\n",
       "      <td>...</td>\n",
       "      <td>2</td>\n",
       "      <td>0</td>\n",
       "      <td>SC</td>\n",
       "      <td>RS</td>\n",
       "      <td>SC</td>\n",
       "      <td>0</td>\n",
       "      <td>0</td>\n",
       "      <td>0</td>\n",
       "      <td>0</td>\n",
       "      <td>2019</td>\n",
       "    </tr>\n",
       "    <tr>\n",
       "      <th>3</th>\n",
       "      <td>6509</td>\n",
       "      <td>1</td>\n",
       "      <td>2019-04-27</td>\n",
       "      <td>21:00</td>\n",
       "      <td>Sabado</td>\n",
       "      <td>Flamengo</td>\n",
       "      <td>Cruzeiro</td>\n",
       "      <td>4-2-3-1</td>\n",
       "      <td>4-2-3-1</td>\n",
       "      <td>L. Venker de Menezes</td>\n",
       "      <td>...</td>\n",
       "      <td>3</td>\n",
       "      <td>1</td>\n",
       "      <td>RJ</td>\n",
       "      <td>MG</td>\n",
       "      <td>RJ</td>\n",
       "      <td>0</td>\n",
       "      <td>0</td>\n",
       "      <td>0</td>\n",
       "      <td>0</td>\n",
       "      <td>2019</td>\n",
       "    </tr>\n",
       "    <tr>\n",
       "      <th>4</th>\n",
       "      <td>6510</td>\n",
       "      <td>1</td>\n",
       "      <td>2019-04-28</td>\n",
       "      <td>11:03</td>\n",
       "      <td>Domingo</td>\n",
       "      <td>Gremio</td>\n",
       "      <td>Santos</td>\n",
       "      <td>4-2-3-1</td>\n",
       "      <td>3-4-1-2</td>\n",
       "      <td>J. Sampaoli Moya</td>\n",
       "      <td>...</td>\n",
       "      <td>1</td>\n",
       "      <td>2</td>\n",
       "      <td>RS</td>\n",
       "      <td>SP</td>\n",
       "      <td>SP</td>\n",
       "      <td>0</td>\n",
       "      <td>0</td>\n",
       "      <td>0</td>\n",
       "      <td>0</td>\n",
       "      <td>2019</td>\n",
       "    </tr>\n",
       "  </tbody>\n",
       "</table>\n",
       "<p>5 rows × 23 columns</p>\n",
       "</div>"
      ],
      "text/plain": [
       "     ID  rodada       data   hora      dia     mandante      visitante  \\\n",
       "0  6506       1 2019-04-27  16:02   Sabado    Sao Paulo    Botafogo-RJ   \n",
       "1  6507       1 2019-04-27  19:00   Sabado  Atletico-MG           Avai   \n",
       "2  6508       1 2019-04-27  19:01   Sabado  Chapecoense  Internacional   \n",
       "3  6509       1 2019-04-27  21:00   Sabado     Flamengo       Cruzeiro   \n",
       "4  6510       1 2019-04-28  11:03  Domingo       Gremio         Santos   \n",
       "\n",
       "  formacao_mandante formacao_visitante      tecnico_mandante  ...  \\\n",
       "0           4-2-3-1            4-1-4-1   E. de Souza Barroca  ...   \n",
       "1           4-2-3-1            4-1-4-1      E. Machado Souto  ...   \n",
       "2           4-2-3-1              4-3-3           O. Hellmann  ...   \n",
       "3           4-2-3-1            4-2-3-1  L. Venker de Menezes  ...   \n",
       "4           4-2-3-1            3-4-1-2      J. Sampaoli Moya  ...   \n",
       "\n",
       "  mandante_placar visitante_placar mandante_estado  visitante_estado  \\\n",
       "0               2                0              SP                RJ   \n",
       "1               2                1              MG                SC   \n",
       "2               2                0              SC                RS   \n",
       "3               3                1              RJ                MG   \n",
       "4               1                2              RS                SP   \n",
       "\n",
       "   estado_vencedor mandante_venceu_ultima visitante_venceu_ultima  \\\n",
       "0               SP                      0                       0   \n",
       "1               MG                      0                       0   \n",
       "2               SC                      0                       0   \n",
       "3               RJ                      0                       0   \n",
       "4               SP                      0                       0   \n",
       "\n",
       "  n_gols_mandante_ultima  n_gols_visitante_ultima  temporada  \n",
       "0                      0                        0       2019  \n",
       "1                      0                        0       2019  \n",
       "2                      0                        0       2019  \n",
       "3                      0                        0       2019  \n",
       "4                      0                        0       2019  \n",
       "\n",
       "[5 rows x 23 columns]"
      ]
     },
     "execution_count": 512,
     "metadata": {},
     "output_type": "execute_result"
    }
   ],
   "source": [
    "df_full_recent.head()"
   ]
  },
  {
   "cell_type": "code",
   "execution_count": 513,
   "id": "1487bfaf",
   "metadata": {
    "ExecuteTime": {
     "end_time": "2022-03-22T17:20:52.283489Z",
     "start_time": "2022-03-22T17:20:52.273635Z"
    }
   },
   "outputs": [
    {
     "data": {
      "text/plain": [
       "ID                         0\n",
       "rodada                     0\n",
       "data                       0\n",
       "hora                       0\n",
       "dia                        0\n",
       "mandante                   0\n",
       "visitante                  0\n",
       "formacao_mandante          0\n",
       "formacao_visitante         0\n",
       "tecnico_mandante           0\n",
       "tecnico_visitante          0\n",
       "vencedor                   0\n",
       "arena                      0\n",
       "mandante_placar            0\n",
       "visitante_placar           0\n",
       "mandante_estado            0\n",
       "visitante_estado           0\n",
       "estado_vencedor            0\n",
       "mandante_venceu_ultima     0\n",
       "visitante_venceu_ultima    0\n",
       "n_gols_mandante_ultima     0\n",
       "n_gols_visitante_ultima    0\n",
       "temporada                  0\n",
       "dtype: int64"
      ]
     },
     "execution_count": 513,
     "metadata": {},
     "output_type": "execute_result"
    }
   ],
   "source": [
    "df_full_recent.isna().sum()"
   ]
  },
  {
   "cell_type": "code",
   "execution_count": 514,
   "id": "aef920be",
   "metadata": {
    "ExecuteTime": {
     "end_time": "2022-03-22T17:20:52.937508Z",
     "start_time": "2022-03-22T17:20:52.916931Z"
    }
   },
   "outputs": [
    {
     "data": {
      "text/html": [
       "<div>\n",
       "<style scoped>\n",
       "    .dataframe tbody tr th:only-of-type {\n",
       "        vertical-align: middle;\n",
       "    }\n",
       "\n",
       "    .dataframe tbody tr th {\n",
       "        vertical-align: top;\n",
       "    }\n",
       "\n",
       "    .dataframe thead th {\n",
       "        text-align: right;\n",
       "    }\n",
       "</style>\n",
       "<table border=\"1\" class=\"dataframe\">\n",
       "  <thead>\n",
       "    <tr style=\"text-align: right;\">\n",
       "      <th></th>\n",
       "      <th>ID</th>\n",
       "      <th>data</th>\n",
       "      <th>rodada</th>\n",
       "      <th>clube</th>\n",
       "      <th>chutes</th>\n",
       "      <th>chutes_no_alvo</th>\n",
       "      <th>posse_de_bola</th>\n",
       "      <th>passes</th>\n",
       "      <th>precisao_passes</th>\n",
       "      <th>faltas</th>\n",
       "      <th>cartao_amarelo</th>\n",
       "      <th>cartao_vermelho</th>\n",
       "      <th>impedimentos</th>\n",
       "      <th>escanteios</th>\n",
       "    </tr>\n",
       "  </thead>\n",
       "  <tbody>\n",
       "    <tr>\n",
       "      <th>0</th>\n",
       "      <td>6506</td>\n",
       "      <td>2019-04-27</td>\n",
       "      <td>1</td>\n",
       "      <td>Sao Paulo</td>\n",
       "      <td>7</td>\n",
       "      <td>4</td>\n",
       "      <td>0.28</td>\n",
       "      <td>269</td>\n",
       "      <td>0.75</td>\n",
       "      <td>23</td>\n",
       "      <td>0</td>\n",
       "      <td>0</td>\n",
       "      <td>2</td>\n",
       "      <td>3</td>\n",
       "    </tr>\n",
       "    <tr>\n",
       "      <th>1</th>\n",
       "      <td>6506</td>\n",
       "      <td>2019-04-27</td>\n",
       "      <td>1</td>\n",
       "      <td>Botafogo-RJ</td>\n",
       "      <td>11</td>\n",
       "      <td>2</td>\n",
       "      <td>0.72</td>\n",
       "      <td>702</td>\n",
       "      <td>0.89</td>\n",
       "      <td>7</td>\n",
       "      <td>4</td>\n",
       "      <td>0</td>\n",
       "      <td>1</td>\n",
       "      <td>2</td>\n",
       "    </tr>\n",
       "    <tr>\n",
       "      <th>2</th>\n",
       "      <td>6507</td>\n",
       "      <td>2019-04-27</td>\n",
       "      <td>1</td>\n",
       "      <td>Atletico-MG</td>\n",
       "      <td>11</td>\n",
       "      <td>3</td>\n",
       "      <td>0.60</td>\n",
       "      <td>549</td>\n",
       "      <td>0.86</td>\n",
       "      <td>12</td>\n",
       "      <td>0</td>\n",
       "      <td>0</td>\n",
       "      <td>0</td>\n",
       "      <td>4</td>\n",
       "    </tr>\n",
       "    <tr>\n",
       "      <th>3</th>\n",
       "      <td>6507</td>\n",
       "      <td>2019-04-27</td>\n",
       "      <td>1</td>\n",
       "      <td>Avai</td>\n",
       "      <td>6</td>\n",
       "      <td>1</td>\n",
       "      <td>0.40</td>\n",
       "      <td>362</td>\n",
       "      <td>0.79</td>\n",
       "      <td>18</td>\n",
       "      <td>1</td>\n",
       "      <td>0</td>\n",
       "      <td>1</td>\n",
       "      <td>4</td>\n",
       "    </tr>\n",
       "    <tr>\n",
       "      <th>4</th>\n",
       "      <td>6508</td>\n",
       "      <td>2019-04-27</td>\n",
       "      <td>1</td>\n",
       "      <td>Chapecoense</td>\n",
       "      <td>12</td>\n",
       "      <td>7</td>\n",
       "      <td>0.43</td>\n",
       "      <td>392</td>\n",
       "      <td>0.77</td>\n",
       "      <td>15</td>\n",
       "      <td>1</td>\n",
       "      <td>0</td>\n",
       "      <td>0</td>\n",
       "      <td>3</td>\n",
       "    </tr>\n",
       "  </tbody>\n",
       "</table>\n",
       "</div>"
      ],
      "text/plain": [
       "     ID       data  rodada        clube  chutes  chutes_no_alvo  \\\n",
       "0  6506 2019-04-27       1    Sao Paulo       7               4   \n",
       "1  6506 2019-04-27       1  Botafogo-RJ      11               2   \n",
       "2  6507 2019-04-27       1  Atletico-MG      11               3   \n",
       "3  6507 2019-04-27       1         Avai       6               1   \n",
       "4  6508 2019-04-27       1  Chapecoense      12               7   \n",
       "\n",
       "   posse_de_bola  passes  precisao_passes  faltas  cartao_amarelo  \\\n",
       "0           0.28     269             0.75      23               0   \n",
       "1           0.72     702             0.89       7               4   \n",
       "2           0.60     549             0.86      12               0   \n",
       "3           0.40     362             0.79      18               1   \n",
       "4           0.43     392             0.77      15               1   \n",
       "\n",
       "   cartao_vermelho  impedimentos  escanteios  \n",
       "0                0             2           3  \n",
       "1                0             1           2  \n",
       "2                0             0           4  \n",
       "3                0             1           4  \n",
       "4                0             0           3  "
      ]
     },
     "execution_count": 514,
     "metadata": {},
     "output_type": "execute_result"
    }
   ],
   "source": [
    "df_stats_recent.head()"
   ]
  },
  {
   "cell_type": "code",
   "execution_count": 515,
   "id": "ad2c0861",
   "metadata": {
    "ExecuteTime": {
     "end_time": "2022-03-22T17:21:17.132980Z",
     "start_time": "2022-03-22T17:20:53.139949Z"
    }
   },
   "outputs": [],
   "source": [
    "df_full_stats_recent = add_attributes(df_stats_recent, df_full_recent)"
   ]
  },
  {
   "cell_type": "code",
   "execution_count": 516,
   "id": "8c53208e",
   "metadata": {
    "ExecuteTime": {
     "end_time": "2022-03-22T17:21:17.160062Z",
     "start_time": "2022-03-22T17:21:17.135498Z"
    }
   },
   "outputs": [
    {
     "data": {
      "text/html": [
       "<div>\n",
       "<style scoped>\n",
       "    .dataframe tbody tr th:only-of-type {\n",
       "        vertical-align: middle;\n",
       "    }\n",
       "\n",
       "    .dataframe tbody tr th {\n",
       "        vertical-align: top;\n",
       "    }\n",
       "\n",
       "    .dataframe thead th {\n",
       "        text-align: right;\n",
       "    }\n",
       "</style>\n",
       "<table border=\"1\" class=\"dataframe\">\n",
       "  <thead>\n",
       "    <tr style=\"text-align: right;\">\n",
       "      <th></th>\n",
       "      <th>ID</th>\n",
       "      <th>rodada</th>\n",
       "      <th>data</th>\n",
       "      <th>hora</th>\n",
       "      <th>dia</th>\n",
       "      <th>mandante</th>\n",
       "      <th>visitante</th>\n",
       "      <th>formacao_mandante</th>\n",
       "      <th>formacao_visitante</th>\n",
       "      <th>tecnico_mandante</th>\n",
       "      <th>...</th>\n",
       "      <th>mandante_precisao_passes</th>\n",
       "      <th>visitante_precisao_passes</th>\n",
       "      <th>mandante_faltas</th>\n",
       "      <th>visitante_faltas</th>\n",
       "      <th>mandante_cartao_amarelo</th>\n",
       "      <th>visitante_cartao_amarelo</th>\n",
       "      <th>mandante_cartao_vermelho</th>\n",
       "      <th>visitante_cartao_vermelho</th>\n",
       "      <th>mandante_impedimentos</th>\n",
       "      <th>visitante_impedimentos</th>\n",
       "    </tr>\n",
       "  </thead>\n",
       "  <tbody>\n",
       "    <tr>\n",
       "      <th>0</th>\n",
       "      <td>6506</td>\n",
       "      <td>1</td>\n",
       "      <td>2019-04-27</td>\n",
       "      <td>16:02</td>\n",
       "      <td>Sabado</td>\n",
       "      <td>Sao Paulo</td>\n",
       "      <td>Botafogo-RJ</td>\n",
       "      <td>4-2-3-1</td>\n",
       "      <td>4-1-4-1</td>\n",
       "      <td>E. de Souza Barroca</td>\n",
       "      <td>...</td>\n",
       "      <td>0.75</td>\n",
       "      <td>0.89</td>\n",
       "      <td>23.0</td>\n",
       "      <td>7.0</td>\n",
       "      <td>0.0</td>\n",
       "      <td>4.0</td>\n",
       "      <td>0.0</td>\n",
       "      <td>0.0</td>\n",
       "      <td>2.0</td>\n",
       "      <td>1.0</td>\n",
       "    </tr>\n",
       "    <tr>\n",
       "      <th>1</th>\n",
       "      <td>6507</td>\n",
       "      <td>1</td>\n",
       "      <td>2019-04-27</td>\n",
       "      <td>19:00</td>\n",
       "      <td>Sabado</td>\n",
       "      <td>Atletico-MG</td>\n",
       "      <td>Avai</td>\n",
       "      <td>4-2-3-1</td>\n",
       "      <td>4-1-4-1</td>\n",
       "      <td>E. Machado Souto</td>\n",
       "      <td>...</td>\n",
       "      <td>0.86</td>\n",
       "      <td>0.79</td>\n",
       "      <td>12.0</td>\n",
       "      <td>18.0</td>\n",
       "      <td>0.0</td>\n",
       "      <td>1.0</td>\n",
       "      <td>0.0</td>\n",
       "      <td>0.0</td>\n",
       "      <td>0.0</td>\n",
       "      <td>1.0</td>\n",
       "    </tr>\n",
       "    <tr>\n",
       "      <th>2</th>\n",
       "      <td>6508</td>\n",
       "      <td>1</td>\n",
       "      <td>2019-04-27</td>\n",
       "      <td>19:01</td>\n",
       "      <td>Sabado</td>\n",
       "      <td>Chapecoense</td>\n",
       "      <td>Internacional</td>\n",
       "      <td>4-2-3-1</td>\n",
       "      <td>4-3-3</td>\n",
       "      <td>O. Hellmann</td>\n",
       "      <td>...</td>\n",
       "      <td>0.77</td>\n",
       "      <td>0.81</td>\n",
       "      <td>15.0</td>\n",
       "      <td>11.0</td>\n",
       "      <td>1.0</td>\n",
       "      <td>1.0</td>\n",
       "      <td>0.0</td>\n",
       "      <td>0.0</td>\n",
       "      <td>0.0</td>\n",
       "      <td>2.0</td>\n",
       "    </tr>\n",
       "    <tr>\n",
       "      <th>3</th>\n",
       "      <td>6509</td>\n",
       "      <td>1</td>\n",
       "      <td>2019-04-27</td>\n",
       "      <td>21:00</td>\n",
       "      <td>Sabado</td>\n",
       "      <td>Flamengo</td>\n",
       "      <td>Cruzeiro</td>\n",
       "      <td>4-2-3-1</td>\n",
       "      <td>4-2-3-1</td>\n",
       "      <td>L. Venker de Menezes</td>\n",
       "      <td>...</td>\n",
       "      <td>0.85</td>\n",
       "      <td>0.79</td>\n",
       "      <td>13.0</td>\n",
       "      <td>17.0</td>\n",
       "      <td>4.0</td>\n",
       "      <td>4.0</td>\n",
       "      <td>0.0</td>\n",
       "      <td>1.0</td>\n",
       "      <td>0.0</td>\n",
       "      <td>1.0</td>\n",
       "    </tr>\n",
       "    <tr>\n",
       "      <th>4</th>\n",
       "      <td>6510</td>\n",
       "      <td>1</td>\n",
       "      <td>2019-04-28</td>\n",
       "      <td>11:03</td>\n",
       "      <td>Domingo</td>\n",
       "      <td>Gremio</td>\n",
       "      <td>Santos</td>\n",
       "      <td>4-2-3-1</td>\n",
       "      <td>3-4-1-2</td>\n",
       "      <td>J. Sampaoli Moya</td>\n",
       "      <td>...</td>\n",
       "      <td>0.82</td>\n",
       "      <td>0.71</td>\n",
       "      <td>12.0</td>\n",
       "      <td>18.0</td>\n",
       "      <td>3.0</td>\n",
       "      <td>4.0</td>\n",
       "      <td>0.0</td>\n",
       "      <td>1.0</td>\n",
       "      <td>2.0</td>\n",
       "      <td>1.0</td>\n",
       "    </tr>\n",
       "  </tbody>\n",
       "</table>\n",
       "<p>5 rows × 41 columns</p>\n",
       "</div>"
      ],
      "text/plain": [
       "     ID  rodada       data   hora      dia     mandante      visitante  \\\n",
       "0  6506       1 2019-04-27  16:02   Sabado    Sao Paulo    Botafogo-RJ   \n",
       "1  6507       1 2019-04-27  19:00   Sabado  Atletico-MG           Avai   \n",
       "2  6508       1 2019-04-27  19:01   Sabado  Chapecoense  Internacional   \n",
       "3  6509       1 2019-04-27  21:00   Sabado     Flamengo       Cruzeiro   \n",
       "4  6510       1 2019-04-28  11:03  Domingo       Gremio         Santos   \n",
       "\n",
       "  formacao_mandante formacao_visitante      tecnico_mandante  ...  \\\n",
       "0           4-2-3-1            4-1-4-1   E. de Souza Barroca  ...   \n",
       "1           4-2-3-1            4-1-4-1      E. Machado Souto  ...   \n",
       "2           4-2-3-1              4-3-3           O. Hellmann  ...   \n",
       "3           4-2-3-1            4-2-3-1  L. Venker de Menezes  ...   \n",
       "4           4-2-3-1            3-4-1-2      J. Sampaoli Moya  ...   \n",
       "\n",
       "  mandante_precisao_passes visitante_precisao_passes mandante_faltas  \\\n",
       "0                     0.75                      0.89            23.0   \n",
       "1                     0.86                      0.79            12.0   \n",
       "2                     0.77                      0.81            15.0   \n",
       "3                     0.85                      0.79            13.0   \n",
       "4                     0.82                      0.71            12.0   \n",
       "\n",
       "   visitante_faltas  mandante_cartao_amarelo visitante_cartao_amarelo  \\\n",
       "0               7.0                      0.0                      4.0   \n",
       "1              18.0                      0.0                      1.0   \n",
       "2              11.0                      1.0                      1.0   \n",
       "3              17.0                      4.0                      4.0   \n",
       "4              18.0                      3.0                      4.0   \n",
       "\n",
       "  mandante_cartao_vermelho visitante_cartao_vermelho  mandante_impedimentos  \\\n",
       "0                      0.0                       0.0                    2.0   \n",
       "1                      0.0                       0.0                    0.0   \n",
       "2                      0.0                       0.0                    0.0   \n",
       "3                      0.0                       1.0                    0.0   \n",
       "4                      0.0                       1.0                    2.0   \n",
       "\n",
       "   visitante_impedimentos  \n",
       "0                     1.0  \n",
       "1                     1.0  \n",
       "2                     2.0  \n",
       "3                     1.0  \n",
       "4                     1.0  \n",
       "\n",
       "[5 rows x 41 columns]"
      ]
     },
     "execution_count": 516,
     "metadata": {},
     "output_type": "execute_result"
    }
   ],
   "source": [
    "df_full_stats_recent.head()"
   ]
  },
  {
   "cell_type": "code",
   "execution_count": 517,
   "id": "c4a6cbed",
   "metadata": {
    "ExecuteTime": {
     "end_time": "2022-03-22T17:21:17.176352Z",
     "start_time": "2022-03-22T17:21:17.164590Z"
    }
   },
   "outputs": [],
   "source": [
    "df_full_final = df_full_stats_recent.dropna()\n",
    "df_full_final = df_full_final.reset_index()"
   ]
  },
  {
   "cell_type": "code",
   "execution_count": 518,
   "id": "6cf11304",
   "metadata": {
    "ExecuteTime": {
     "end_time": "2022-03-22T17:21:17.186335Z",
     "start_time": "2022-03-22T17:21:17.178349Z"
    }
   },
   "outputs": [
    {
     "data": {
      "text/plain": [
       "['index',\n",
       " 'ID',\n",
       " 'rodada',\n",
       " 'data',\n",
       " 'hora',\n",
       " 'dia',\n",
       " 'mandante',\n",
       " 'visitante',\n",
       " 'formacao_mandante',\n",
       " 'formacao_visitante',\n",
       " 'tecnico_mandante',\n",
       " 'tecnico_visitante',\n",
       " 'vencedor',\n",
       " 'arena',\n",
       " 'mandante_placar',\n",
       " 'visitante_placar',\n",
       " 'mandante_estado',\n",
       " 'visitante_estado',\n",
       " 'estado_vencedor',\n",
       " 'mandante_venceu_ultima',\n",
       " 'visitante_venceu_ultima',\n",
       " 'n_gols_mandante_ultima',\n",
       " 'n_gols_visitante_ultima',\n",
       " 'temporada',\n",
       " 'mandante_chutes',\n",
       " 'visitante_chutes',\n",
       " 'mandante_chutes_no_alvo',\n",
       " 'visitante_chutes_no_alvo',\n",
       " 'mandante_posse_de_bola',\n",
       " 'visitante_posse_de_bola',\n",
       " 'mandante_passes',\n",
       " 'visitante_passes',\n",
       " 'mandante_precisao_passes',\n",
       " 'visitante_precisao_passes',\n",
       " 'mandante_faltas',\n",
       " 'visitante_faltas',\n",
       " 'mandante_cartao_amarelo',\n",
       " 'visitante_cartao_amarelo',\n",
       " 'mandante_cartao_vermelho',\n",
       " 'visitante_cartao_vermelho',\n",
       " 'mandante_impedimentos',\n",
       " 'visitante_impedimentos']"
      ]
     },
     "execution_count": 518,
     "metadata": {},
     "output_type": "execute_result"
    }
   ],
   "source": [
    "df_full_final.columns.tolist()"
   ]
  },
  {
   "cell_type": "markdown",
   "id": "18dca0c5",
   "metadata": {},
   "source": [
    "### 1.6.2 Choosing some initial features to test "
   ]
  },
  {
   "cell_type": "code",
   "execution_count": 519,
   "id": "6ed4dbd5",
   "metadata": {
    "ExecuteTime": {
     "end_time": "2022-03-22T17:21:17.194061Z",
     "start_time": "2022-03-22T17:21:17.189626Z"
    }
   },
   "outputs": [],
   "source": [
    "columns = ['ID',\n",
    "           'rodada',\n",
    "           'data',\n",
    "           'hora',\n",
    "           'dia',\n",
    "           'mandante',\n",
    "           'visitante',\n",
    "           'formacao_mandante',\n",
    "           'formacao_visitante',\n",
    "           'vencedor',\n",
    "           'arena',\n",
    "           'mandante_estado',\n",
    "           'visitante_estado']\n",
    "\n",
    "df_full_recent = df_full_recent[columns]"
   ]
  },
  {
   "cell_type": "code",
   "execution_count": 520,
   "id": "d0d17393",
   "metadata": {
    "ExecuteTime": {
     "end_time": "2022-03-22T17:21:17.209173Z",
     "start_time": "2022-03-22T17:21:17.195859Z"
    },
    "scrolled": true
   },
   "outputs": [
    {
     "data": {
      "text/html": [
       "<div>\n",
       "<style scoped>\n",
       "    .dataframe tbody tr th:only-of-type {\n",
       "        vertical-align: middle;\n",
       "    }\n",
       "\n",
       "    .dataframe tbody tr th {\n",
       "        vertical-align: top;\n",
       "    }\n",
       "\n",
       "    .dataframe thead th {\n",
       "        text-align: right;\n",
       "    }\n",
       "</style>\n",
       "<table border=\"1\" class=\"dataframe\">\n",
       "  <thead>\n",
       "    <tr style=\"text-align: right;\">\n",
       "      <th></th>\n",
       "      <th>ID</th>\n",
       "      <th>rodada</th>\n",
       "      <th>data</th>\n",
       "      <th>hora</th>\n",
       "      <th>dia</th>\n",
       "      <th>mandante</th>\n",
       "      <th>visitante</th>\n",
       "      <th>formacao_mandante</th>\n",
       "      <th>formacao_visitante</th>\n",
       "      <th>vencedor</th>\n",
       "      <th>arena</th>\n",
       "      <th>mandante_estado</th>\n",
       "      <th>visitante_estado</th>\n",
       "    </tr>\n",
       "  </thead>\n",
       "  <tbody>\n",
       "    <tr>\n",
       "      <th>0</th>\n",
       "      <td>6506</td>\n",
       "      <td>1</td>\n",
       "      <td>2019-04-27</td>\n",
       "      <td>16:02</td>\n",
       "      <td>Sabado</td>\n",
       "      <td>Sao Paulo</td>\n",
       "      <td>Botafogo-RJ</td>\n",
       "      <td>4-2-3-1</td>\n",
       "      <td>4-1-4-1</td>\n",
       "      <td>Sao Paulo</td>\n",
       "      <td>morumbi</td>\n",
       "      <td>SP</td>\n",
       "      <td>RJ</td>\n",
       "    </tr>\n",
       "    <tr>\n",
       "      <th>1</th>\n",
       "      <td>6507</td>\n",
       "      <td>1</td>\n",
       "      <td>2019-04-27</td>\n",
       "      <td>19:00</td>\n",
       "      <td>Sabado</td>\n",
       "      <td>Atletico-MG</td>\n",
       "      <td>Avai</td>\n",
       "      <td>4-2-3-1</td>\n",
       "      <td>4-1-4-1</td>\n",
       "      <td>Atletico-MG</td>\n",
       "      <td>estadio raimundo sampaio</td>\n",
       "      <td>MG</td>\n",
       "      <td>SC</td>\n",
       "    </tr>\n",
       "    <tr>\n",
       "      <th>2</th>\n",
       "      <td>6508</td>\n",
       "      <td>1</td>\n",
       "      <td>2019-04-27</td>\n",
       "      <td>19:01</td>\n",
       "      <td>Sabado</td>\n",
       "      <td>Chapecoense</td>\n",
       "      <td>Internacional</td>\n",
       "      <td>4-2-3-1</td>\n",
       "      <td>4-3-3</td>\n",
       "      <td>Chapecoense</td>\n",
       "      <td>arena conda</td>\n",
       "      <td>SC</td>\n",
       "      <td>RS</td>\n",
       "    </tr>\n",
       "    <tr>\n",
       "      <th>3</th>\n",
       "      <td>6509</td>\n",
       "      <td>1</td>\n",
       "      <td>2019-04-27</td>\n",
       "      <td>21:00</td>\n",
       "      <td>Sabado</td>\n",
       "      <td>Flamengo</td>\n",
       "      <td>Cruzeiro</td>\n",
       "      <td>4-2-3-1</td>\n",
       "      <td>4-2-3-1</td>\n",
       "      <td>Flamengo</td>\n",
       "      <td>maracana</td>\n",
       "      <td>RJ</td>\n",
       "      <td>MG</td>\n",
       "    </tr>\n",
       "    <tr>\n",
       "      <th>4</th>\n",
       "      <td>6510</td>\n",
       "      <td>1</td>\n",
       "      <td>2019-04-28</td>\n",
       "      <td>11:03</td>\n",
       "      <td>Domingo</td>\n",
       "      <td>Gremio</td>\n",
       "      <td>Santos</td>\n",
       "      <td>4-2-3-1</td>\n",
       "      <td>3-4-1-2</td>\n",
       "      <td>Santos</td>\n",
       "      <td>arena do gremio</td>\n",
       "      <td>RS</td>\n",
       "      <td>SP</td>\n",
       "    </tr>\n",
       "  </tbody>\n",
       "</table>\n",
       "</div>"
      ],
      "text/plain": [
       "     ID  rodada       data   hora      dia     mandante      visitante  \\\n",
       "0  6506       1 2019-04-27  16:02   Sabado    Sao Paulo    Botafogo-RJ   \n",
       "1  6507       1 2019-04-27  19:00   Sabado  Atletico-MG           Avai   \n",
       "2  6508       1 2019-04-27  19:01   Sabado  Chapecoense  Internacional   \n",
       "3  6509       1 2019-04-27  21:00   Sabado     Flamengo       Cruzeiro   \n",
       "4  6510       1 2019-04-28  11:03  Domingo       Gremio         Santos   \n",
       "\n",
       "  formacao_mandante formacao_visitante     vencedor                     arena  \\\n",
       "0           4-2-3-1            4-1-4-1    Sao Paulo                   morumbi   \n",
       "1           4-2-3-1            4-1-4-1  Atletico-MG  estadio raimundo sampaio   \n",
       "2           4-2-3-1              4-3-3  Chapecoense               arena conda   \n",
       "3           4-2-3-1            4-2-3-1     Flamengo                  maracana   \n",
       "4           4-2-3-1            3-4-1-2       Santos           arena do gremio   \n",
       "\n",
       "  mandante_estado visitante_estado  \n",
       "0              SP               RJ  \n",
       "1              MG               SC  \n",
       "2              SC               RS  \n",
       "3              RJ               MG  \n",
       "4              RS               SP  "
      ]
     },
     "execution_count": 520,
     "metadata": {},
     "output_type": "execute_result"
    }
   ],
   "source": [
    "df_full_recent.head()"
   ]
  },
  {
   "cell_type": "markdown",
   "id": "210fcd3c",
   "metadata": {},
   "source": [
    "### 1.6.3 Some statistics by team"
   ]
  },
  {
   "cell_type": "code",
   "execution_count": 521,
   "id": "b1b0f5ca",
   "metadata": {
    "ExecuteTime": {
     "end_time": "2022-03-22T17:21:17.227722Z",
     "start_time": "2022-03-22T17:21:17.210630Z"
    }
   },
   "outputs": [
    {
     "data": {
      "text/html": [
       "<div>\n",
       "<style scoped>\n",
       "    .dataframe tbody tr th:only-of-type {\n",
       "        vertical-align: middle;\n",
       "    }\n",
       "\n",
       "    .dataframe tbody tr th {\n",
       "        vertical-align: top;\n",
       "    }\n",
       "\n",
       "    .dataframe thead th {\n",
       "        text-align: right;\n",
       "    }\n",
       "</style>\n",
       "<table border=\"1\" class=\"dataframe\">\n",
       "  <thead>\n",
       "    <tr style=\"text-align: right;\">\n",
       "      <th></th>\n",
       "      <th>chutes</th>\n",
       "      <th>chutes_no_alvo</th>\n",
       "      <th>posse_de_bola</th>\n",
       "      <th>passes</th>\n",
       "      <th>precisao_passes</th>\n",
       "      <th>faltas</th>\n",
       "      <th>cartao_amarelo</th>\n",
       "      <th>cartao_vermelho</th>\n",
       "      <th>impedimentos</th>\n",
       "      <th>escanteios</th>\n",
       "    </tr>\n",
       "    <tr>\n",
       "      <th>clube</th>\n",
       "      <th></th>\n",
       "      <th></th>\n",
       "      <th></th>\n",
       "      <th></th>\n",
       "      <th></th>\n",
       "      <th></th>\n",
       "      <th></th>\n",
       "      <th></th>\n",
       "      <th></th>\n",
       "      <th></th>\n",
       "    </tr>\n",
       "  </thead>\n",
       "  <tbody>\n",
       "    <tr>\n",
       "      <th>America-MG</th>\n",
       "      <td>15.210526</td>\n",
       "      <td>4.394737</td>\n",
       "      <td>0.473158</td>\n",
       "      <td>379.631579</td>\n",
       "      <td>0.771053</td>\n",
       "      <td>14.526316</td>\n",
       "      <td>1.631579</td>\n",
       "      <td>0.026316</td>\n",
       "      <td>1.868421</td>\n",
       "      <td>5.131579</td>\n",
       "    </tr>\n",
       "    <tr>\n",
       "      <th>Athletico-PR</th>\n",
       "      <td>12.755319</td>\n",
       "      <td>4.106383</td>\n",
       "      <td>0.524255</td>\n",
       "      <td>449.308511</td>\n",
       "      <td>0.822766</td>\n",
       "      <td>16.138298</td>\n",
       "      <td>2.148936</td>\n",
       "      <td>0.074468</td>\n",
       "      <td>1.351064</td>\n",
       "      <td>4.914894</td>\n",
       "    </tr>\n",
       "    <tr>\n",
       "      <th>Atletico-GO</th>\n",
       "      <td>11.421053</td>\n",
       "      <td>3.500000</td>\n",
       "      <td>0.480395</td>\n",
       "      <td>391.815789</td>\n",
       "      <td>0.790000</td>\n",
       "      <td>14.828947</td>\n",
       "      <td>2.223684</td>\n",
       "      <td>0.092105</td>\n",
       "      <td>1.342105</td>\n",
       "      <td>5.644737</td>\n",
       "    </tr>\n",
       "    <tr>\n",
       "      <th>Atletico-MG</th>\n",
       "      <td>15.572727</td>\n",
       "      <td>5.227273</td>\n",
       "      <td>0.559000</td>\n",
       "      <td>498.163636</td>\n",
       "      <td>0.833091</td>\n",
       "      <td>14.527273</td>\n",
       "      <td>1.790909</td>\n",
       "      <td>0.090909</td>\n",
       "      <td>1.509091</td>\n",
       "      <td>6.372727</td>\n",
       "    </tr>\n",
       "    <tr>\n",
       "      <th>Avai</th>\n",
       "      <td>12.305556</td>\n",
       "      <td>3.055556</td>\n",
       "      <td>0.465556</td>\n",
       "      <td>392.083333</td>\n",
       "      <td>0.773889</td>\n",
       "      <td>15.277778</td>\n",
       "      <td>2.055556</td>\n",
       "      <td>0.277778</td>\n",
       "      <td>1.222222</td>\n",
       "      <td>4.888889</td>\n",
       "    </tr>\n",
       "  </tbody>\n",
       "</table>\n",
       "</div>"
      ],
      "text/plain": [
       "                 chutes  chutes_no_alvo  posse_de_bola      passes  \\\n",
       "clube                                                                \n",
       "America-MG    15.210526        4.394737       0.473158  379.631579   \n",
       "Athletico-PR  12.755319        4.106383       0.524255  449.308511   \n",
       "Atletico-GO   11.421053        3.500000       0.480395  391.815789   \n",
       "Atletico-MG   15.572727        5.227273       0.559000  498.163636   \n",
       "Avai          12.305556        3.055556       0.465556  392.083333   \n",
       "\n",
       "              precisao_passes     faltas  cartao_amarelo  cartao_vermelho  \\\n",
       "clube                                                                       \n",
       "America-MG           0.771053  14.526316        1.631579         0.026316   \n",
       "Athletico-PR         0.822766  16.138298        2.148936         0.074468   \n",
       "Atletico-GO          0.790000  14.828947        2.223684         0.092105   \n",
       "Atletico-MG          0.833091  14.527273        1.790909         0.090909   \n",
       "Avai                 0.773889  15.277778        2.055556         0.277778   \n",
       "\n",
       "              impedimentos  escanteios  \n",
       "clube                                   \n",
       "America-MG        1.868421    5.131579  \n",
       "Athletico-PR      1.351064    4.914894  \n",
       "Atletico-GO       1.342105    5.644737  \n",
       "Atletico-MG       1.509091    6.372727  \n",
       "Avai              1.222222    4.888889  "
      ]
     },
     "execution_count": 521,
     "metadata": {},
     "output_type": "execute_result"
    }
   ],
   "source": [
    "df_stats_clube = df_stats_recent.groupby('clube').mean()\n",
    "df_stats_clube = df_stats_clube.drop(['ID', 'rodada'], axis = 1)\n",
    "df_stats_clube.head()"
   ]
  },
  {
   "cell_type": "markdown",
   "id": "67afcf7e",
   "metadata": {},
   "source": [
    "### 1.6.4 Creating the target feature "
   ]
  },
  {
   "cell_type": "code",
   "execution_count": 522,
   "id": "35320492",
   "metadata": {
    "ExecuteTime": {
     "end_time": "2022-03-22T17:21:17.239528Z",
     "start_time": "2022-03-22T17:21:17.229535Z"
    }
   },
   "outputs": [
    {
     "data": {
      "text/plain": [
       "index                        0\n",
       "ID                           0\n",
       "rodada                       0\n",
       "data                         0\n",
       "hora                         0\n",
       "dia                          0\n",
       "mandante                     0\n",
       "visitante                    0\n",
       "formacao_mandante            0\n",
       "formacao_visitante           0\n",
       "tecnico_mandante             0\n",
       "tecnico_visitante            0\n",
       "vencedor                     0\n",
       "arena                        0\n",
       "mandante_placar              0\n",
       "visitante_placar             0\n",
       "mandante_estado              0\n",
       "visitante_estado             0\n",
       "estado_vencedor              0\n",
       "mandante_venceu_ultima       0\n",
       "visitante_venceu_ultima      0\n",
       "n_gols_mandante_ultima       0\n",
       "n_gols_visitante_ultima      0\n",
       "temporada                    0\n",
       "mandante_chutes              0\n",
       "visitante_chutes             0\n",
       "mandante_chutes_no_alvo      0\n",
       "visitante_chutes_no_alvo     0\n",
       "mandante_posse_de_bola       0\n",
       "visitante_posse_de_bola      0\n",
       "mandante_passes              0\n",
       "visitante_passes             0\n",
       "mandante_precisao_passes     0\n",
       "visitante_precisao_passes    0\n",
       "mandante_faltas              0\n",
       "visitante_faltas             0\n",
       "mandante_cartao_amarelo      0\n",
       "visitante_cartao_amarelo     0\n",
       "mandante_cartao_vermelho     0\n",
       "visitante_cartao_vermelho    0\n",
       "mandante_impedimentos        0\n",
       "visitante_impedimentos       0\n",
       "dtype: int64"
      ]
     },
     "execution_count": 522,
     "metadata": {},
     "output_type": "execute_result"
    }
   ],
   "source": [
    "df_full_final.isna().sum()"
   ]
  },
  {
   "cell_type": "code",
   "execution_count": 523,
   "id": "ad420545",
   "metadata": {
    "ExecuteTime": {
     "end_time": "2022-03-22T17:21:17.270948Z",
     "start_time": "2022-03-22T17:21:17.241267Z"
    }
   },
   "outputs": [
    {
     "data": {
      "text/html": [
       "<div>\n",
       "<style scoped>\n",
       "    .dataframe tbody tr th:only-of-type {\n",
       "        vertical-align: middle;\n",
       "    }\n",
       "\n",
       "    .dataframe tbody tr th {\n",
       "        vertical-align: top;\n",
       "    }\n",
       "\n",
       "    .dataframe thead th {\n",
       "        text-align: right;\n",
       "    }\n",
       "</style>\n",
       "<table border=\"1\" class=\"dataframe\">\n",
       "  <thead>\n",
       "    <tr style=\"text-align: right;\">\n",
       "      <th></th>\n",
       "      <th>index</th>\n",
       "      <th>ID</th>\n",
       "      <th>rodada</th>\n",
       "      <th>data</th>\n",
       "      <th>hora</th>\n",
       "      <th>dia</th>\n",
       "      <th>mandante</th>\n",
       "      <th>visitante</th>\n",
       "      <th>formacao_mandante</th>\n",
       "      <th>formacao_visitante</th>\n",
       "      <th>...</th>\n",
       "      <th>mandante_precisao_passes</th>\n",
       "      <th>visitante_precisao_passes</th>\n",
       "      <th>mandante_faltas</th>\n",
       "      <th>visitante_faltas</th>\n",
       "      <th>mandante_cartao_amarelo</th>\n",
       "      <th>visitante_cartao_amarelo</th>\n",
       "      <th>mandante_cartao_vermelho</th>\n",
       "      <th>visitante_cartao_vermelho</th>\n",
       "      <th>mandante_impedimentos</th>\n",
       "      <th>visitante_impedimentos</th>\n",
       "    </tr>\n",
       "  </thead>\n",
       "  <tbody>\n",
       "    <tr>\n",
       "      <th>0</th>\n",
       "      <td>0</td>\n",
       "      <td>6506</td>\n",
       "      <td>1</td>\n",
       "      <td>2019-04-27</td>\n",
       "      <td>16:02</td>\n",
       "      <td>Sabado</td>\n",
       "      <td>Sao Paulo</td>\n",
       "      <td>Botafogo-RJ</td>\n",
       "      <td>4-2-3-1</td>\n",
       "      <td>4-1-4-1</td>\n",
       "      <td>...</td>\n",
       "      <td>0.75</td>\n",
       "      <td>0.89</td>\n",
       "      <td>23.0</td>\n",
       "      <td>7.0</td>\n",
       "      <td>0.0</td>\n",
       "      <td>4.0</td>\n",
       "      <td>0.0</td>\n",
       "      <td>0.0</td>\n",
       "      <td>2.0</td>\n",
       "      <td>1.0</td>\n",
       "    </tr>\n",
       "    <tr>\n",
       "      <th>1</th>\n",
       "      <td>1</td>\n",
       "      <td>6507</td>\n",
       "      <td>1</td>\n",
       "      <td>2019-04-27</td>\n",
       "      <td>19:00</td>\n",
       "      <td>Sabado</td>\n",
       "      <td>Atletico-MG</td>\n",
       "      <td>Avai</td>\n",
       "      <td>4-2-3-1</td>\n",
       "      <td>4-1-4-1</td>\n",
       "      <td>...</td>\n",
       "      <td>0.86</td>\n",
       "      <td>0.79</td>\n",
       "      <td>12.0</td>\n",
       "      <td>18.0</td>\n",
       "      <td>0.0</td>\n",
       "      <td>1.0</td>\n",
       "      <td>0.0</td>\n",
       "      <td>0.0</td>\n",
       "      <td>0.0</td>\n",
       "      <td>1.0</td>\n",
       "    </tr>\n",
       "    <tr>\n",
       "      <th>2</th>\n",
       "      <td>2</td>\n",
       "      <td>6508</td>\n",
       "      <td>1</td>\n",
       "      <td>2019-04-27</td>\n",
       "      <td>19:01</td>\n",
       "      <td>Sabado</td>\n",
       "      <td>Chapecoense</td>\n",
       "      <td>Internacional</td>\n",
       "      <td>4-2-3-1</td>\n",
       "      <td>4-3-3</td>\n",
       "      <td>...</td>\n",
       "      <td>0.77</td>\n",
       "      <td>0.81</td>\n",
       "      <td>15.0</td>\n",
       "      <td>11.0</td>\n",
       "      <td>1.0</td>\n",
       "      <td>1.0</td>\n",
       "      <td>0.0</td>\n",
       "      <td>0.0</td>\n",
       "      <td>0.0</td>\n",
       "      <td>2.0</td>\n",
       "    </tr>\n",
       "    <tr>\n",
       "      <th>3</th>\n",
       "      <td>3</td>\n",
       "      <td>6509</td>\n",
       "      <td>1</td>\n",
       "      <td>2019-04-27</td>\n",
       "      <td>21:00</td>\n",
       "      <td>Sabado</td>\n",
       "      <td>Flamengo</td>\n",
       "      <td>Cruzeiro</td>\n",
       "      <td>4-2-3-1</td>\n",
       "      <td>4-2-3-1</td>\n",
       "      <td>...</td>\n",
       "      <td>0.85</td>\n",
       "      <td>0.79</td>\n",
       "      <td>13.0</td>\n",
       "      <td>17.0</td>\n",
       "      <td>4.0</td>\n",
       "      <td>4.0</td>\n",
       "      <td>0.0</td>\n",
       "      <td>1.0</td>\n",
       "      <td>0.0</td>\n",
       "      <td>1.0</td>\n",
       "    </tr>\n",
       "    <tr>\n",
       "      <th>4</th>\n",
       "      <td>4</td>\n",
       "      <td>6510</td>\n",
       "      <td>1</td>\n",
       "      <td>2019-04-28</td>\n",
       "      <td>11:03</td>\n",
       "      <td>Domingo</td>\n",
       "      <td>Gremio</td>\n",
       "      <td>Santos</td>\n",
       "      <td>4-2-3-1</td>\n",
       "      <td>3-4-1-2</td>\n",
       "      <td>...</td>\n",
       "      <td>0.82</td>\n",
       "      <td>0.71</td>\n",
       "      <td>12.0</td>\n",
       "      <td>18.0</td>\n",
       "      <td>3.0</td>\n",
       "      <td>4.0</td>\n",
       "      <td>0.0</td>\n",
       "      <td>1.0</td>\n",
       "      <td>2.0</td>\n",
       "      <td>1.0</td>\n",
       "    </tr>\n",
       "    <tr>\n",
       "      <th>5</th>\n",
       "      <td>5</td>\n",
       "      <td>6511</td>\n",
       "      <td>1</td>\n",
       "      <td>2019-04-28</td>\n",
       "      <td>16:01</td>\n",
       "      <td>Domingo</td>\n",
       "      <td>Bahia</td>\n",
       "      <td>Corinthians</td>\n",
       "      <td>4-2-3-1</td>\n",
       "      <td>4-1-4-1</td>\n",
       "      <td>...</td>\n",
       "      <td>0.75</td>\n",
       "      <td>0.78</td>\n",
       "      <td>17.0</td>\n",
       "      <td>5.0</td>\n",
       "      <td>1.0</td>\n",
       "      <td>4.0</td>\n",
       "      <td>0.0</td>\n",
       "      <td>0.0</td>\n",
       "      <td>1.0</td>\n",
       "      <td>0.0</td>\n",
       "    </tr>\n",
       "    <tr>\n",
       "      <th>6</th>\n",
       "      <td>6</td>\n",
       "      <td>6512</td>\n",
       "      <td>1</td>\n",
       "      <td>2019-04-28</td>\n",
       "      <td>16:03</td>\n",
       "      <td>Domingo</td>\n",
       "      <td>Athletico-PR</td>\n",
       "      <td>Vasco</td>\n",
       "      <td>4-2-3-1</td>\n",
       "      <td>3-5-2</td>\n",
       "      <td>...</td>\n",
       "      <td>0.87</td>\n",
       "      <td>0.85</td>\n",
       "      <td>15.0</td>\n",
       "      <td>19.0</td>\n",
       "      <td>1.0</td>\n",
       "      <td>1.0</td>\n",
       "      <td>0.0</td>\n",
       "      <td>0.0</td>\n",
       "      <td>2.0</td>\n",
       "      <td>1.0</td>\n",
       "    </tr>\n",
       "    <tr>\n",
       "      <th>7</th>\n",
       "      <td>7</td>\n",
       "      <td>6513</td>\n",
       "      <td>1</td>\n",
       "      <td>2019-04-28</td>\n",
       "      <td>16:00</td>\n",
       "      <td>Domingo</td>\n",
       "      <td>Ceara</td>\n",
       "      <td>CSA</td>\n",
       "      <td>4-2-3-1</td>\n",
       "      <td>4-2-3-1</td>\n",
       "      <td>...</td>\n",
       "      <td>0.87</td>\n",
       "      <td>0.81</td>\n",
       "      <td>15.0</td>\n",
       "      <td>4.0</td>\n",
       "      <td>0.0</td>\n",
       "      <td>0.0</td>\n",
       "      <td>0.0</td>\n",
       "      <td>1.0</td>\n",
       "      <td>2.0</td>\n",
       "      <td>1.0</td>\n",
       "    </tr>\n",
       "    <tr>\n",
       "      <th>8</th>\n",
       "      <td>8</td>\n",
       "      <td>6514</td>\n",
       "      <td>1</td>\n",
       "      <td>2019-04-28</td>\n",
       "      <td>19:00</td>\n",
       "      <td>Domingo</td>\n",
       "      <td>Palmeiras</td>\n",
       "      <td>Fortaleza</td>\n",
       "      <td>4-2-3-1</td>\n",
       "      <td>4-4-2</td>\n",
       "      <td>...</td>\n",
       "      <td>0.79</td>\n",
       "      <td>0.79</td>\n",
       "      <td>12.0</td>\n",
       "      <td>16.0</td>\n",
       "      <td>1.0</td>\n",
       "      <td>2.0</td>\n",
       "      <td>0.0</td>\n",
       "      <td>0.0</td>\n",
       "      <td>3.0</td>\n",
       "      <td>1.0</td>\n",
       "    </tr>\n",
       "    <tr>\n",
       "      <th>9</th>\n",
       "      <td>9</td>\n",
       "      <td>6515</td>\n",
       "      <td>1</td>\n",
       "      <td>2019-04-28</td>\n",
       "      <td>19:27</td>\n",
       "      <td>Domingo</td>\n",
       "      <td>Fluminense</td>\n",
       "      <td>Goias</td>\n",
       "      <td>4-3-3</td>\n",
       "      <td>4-2-3-1</td>\n",
       "      <td>...</td>\n",
       "      <td>0.90</td>\n",
       "      <td>0.70</td>\n",
       "      <td>14.0</td>\n",
       "      <td>9.0</td>\n",
       "      <td>4.0</td>\n",
       "      <td>1.0</td>\n",
       "      <td>0.0</td>\n",
       "      <td>0.0</td>\n",
       "      <td>1.0</td>\n",
       "      <td>0.0</td>\n",
       "    </tr>\n",
       "    <tr>\n",
       "      <th>10</th>\n",
       "      <td>10</td>\n",
       "      <td>6516</td>\n",
       "      <td>2</td>\n",
       "      <td>2019-05-01</td>\n",
       "      <td>16:01</td>\n",
       "      <td>Quarta-feira</td>\n",
       "      <td>Internacional</td>\n",
       "      <td>Flamengo</td>\n",
       "      <td>4-3-3</td>\n",
       "      <td>4-2-3-1</td>\n",
       "      <td>...</td>\n",
       "      <td>0.81</td>\n",
       "      <td>0.81</td>\n",
       "      <td>8.0</td>\n",
       "      <td>9.0</td>\n",
       "      <td>3.0</td>\n",
       "      <td>2.0</td>\n",
       "      <td>0.0</td>\n",
       "      <td>0.0</td>\n",
       "      <td>1.0</td>\n",
       "      <td>3.0</td>\n",
       "    </tr>\n",
       "    <tr>\n",
       "      <th>11</th>\n",
       "      <td>12</td>\n",
       "      <td>6518</td>\n",
       "      <td>2</td>\n",
       "      <td>2019-05-01</td>\n",
       "      <td>16:01</td>\n",
       "      <td>Quarta-feira</td>\n",
       "      <td>Corinthians</td>\n",
       "      <td>Chapecoense</td>\n",
       "      <td>4-1-4-1</td>\n",
       "      <td>4-4-1-1</td>\n",
       "      <td>...</td>\n",
       "      <td>0.81</td>\n",
       "      <td>0.78</td>\n",
       "      <td>14.0</td>\n",
       "      <td>10.0</td>\n",
       "      <td>2.0</td>\n",
       "      <td>1.0</td>\n",
       "      <td>0.0</td>\n",
       "      <td>0.0</td>\n",
       "      <td>1.0</td>\n",
       "      <td>1.0</td>\n",
       "    </tr>\n",
       "  </tbody>\n",
       "</table>\n",
       "<p>12 rows × 42 columns</p>\n",
       "</div>"
      ],
      "text/plain": [
       "    index    ID  rodada       data   hora           dia       mandante  \\\n",
       "0       0  6506       1 2019-04-27  16:02        Sabado      Sao Paulo   \n",
       "1       1  6507       1 2019-04-27  19:00        Sabado    Atletico-MG   \n",
       "2       2  6508       1 2019-04-27  19:01        Sabado    Chapecoense   \n",
       "3       3  6509       1 2019-04-27  21:00        Sabado       Flamengo   \n",
       "4       4  6510       1 2019-04-28  11:03       Domingo         Gremio   \n",
       "5       5  6511       1 2019-04-28  16:01       Domingo          Bahia   \n",
       "6       6  6512       1 2019-04-28  16:03       Domingo   Athletico-PR   \n",
       "7       7  6513       1 2019-04-28  16:00       Domingo          Ceara   \n",
       "8       8  6514       1 2019-04-28  19:00       Domingo      Palmeiras   \n",
       "9       9  6515       1 2019-04-28  19:27       Domingo     Fluminense   \n",
       "10     10  6516       2 2019-05-01  16:01  Quarta-feira  Internacional   \n",
       "11     12  6518       2 2019-05-01  16:01  Quarta-feira    Corinthians   \n",
       "\n",
       "        visitante formacao_mandante formacao_visitante  ...  \\\n",
       "0     Botafogo-RJ           4-2-3-1            4-1-4-1  ...   \n",
       "1            Avai           4-2-3-1            4-1-4-1  ...   \n",
       "2   Internacional           4-2-3-1              4-3-3  ...   \n",
       "3        Cruzeiro           4-2-3-1            4-2-3-1  ...   \n",
       "4          Santos           4-2-3-1            3-4-1-2  ...   \n",
       "5     Corinthians           4-2-3-1            4-1-4-1  ...   \n",
       "6           Vasco           4-2-3-1              3-5-2  ...   \n",
       "7             CSA           4-2-3-1            4-2-3-1  ...   \n",
       "8       Fortaleza           4-2-3-1              4-4-2  ...   \n",
       "9           Goias             4-3-3            4-2-3-1  ...   \n",
       "10       Flamengo             4-3-3            4-2-3-1  ...   \n",
       "11    Chapecoense           4-1-4-1            4-4-1-1  ...   \n",
       "\n",
       "   mandante_precisao_passes visitante_precisao_passes mandante_faltas  \\\n",
       "0                      0.75                      0.89            23.0   \n",
       "1                      0.86                      0.79            12.0   \n",
       "2                      0.77                      0.81            15.0   \n",
       "3                      0.85                      0.79            13.0   \n",
       "4                      0.82                      0.71            12.0   \n",
       "5                      0.75                      0.78            17.0   \n",
       "6                      0.87                      0.85            15.0   \n",
       "7                      0.87                      0.81            15.0   \n",
       "8                      0.79                      0.79            12.0   \n",
       "9                      0.90                      0.70            14.0   \n",
       "10                     0.81                      0.81             8.0   \n",
       "11                     0.81                      0.78            14.0   \n",
       "\n",
       "   visitante_faltas  mandante_cartao_amarelo  visitante_cartao_amarelo  \\\n",
       "0               7.0                      0.0                       4.0   \n",
       "1              18.0                      0.0                       1.0   \n",
       "2              11.0                      1.0                       1.0   \n",
       "3              17.0                      4.0                       4.0   \n",
       "4              18.0                      3.0                       4.0   \n",
       "5               5.0                      1.0                       4.0   \n",
       "6              19.0                      1.0                       1.0   \n",
       "7               4.0                      0.0                       0.0   \n",
       "8              16.0                      1.0                       2.0   \n",
       "9               9.0                      4.0                       1.0   \n",
       "10              9.0                      3.0                       2.0   \n",
       "11             10.0                      2.0                       1.0   \n",
       "\n",
       "   mandante_cartao_vermelho visitante_cartao_vermelho mandante_impedimentos  \\\n",
       "0                       0.0                       0.0                   2.0   \n",
       "1                       0.0                       0.0                   0.0   \n",
       "2                       0.0                       0.0                   0.0   \n",
       "3                       0.0                       1.0                   0.0   \n",
       "4                       0.0                       1.0                   2.0   \n",
       "5                       0.0                       0.0                   1.0   \n",
       "6                       0.0                       0.0                   2.0   \n",
       "7                       0.0                       1.0                   2.0   \n",
       "8                       0.0                       0.0                   3.0   \n",
       "9                       0.0                       0.0                   1.0   \n",
       "10                      0.0                       0.0                   1.0   \n",
       "11                      0.0                       0.0                   1.0   \n",
       "\n",
       "    visitante_impedimentos  \n",
       "0                      1.0  \n",
       "1                      1.0  \n",
       "2                      2.0  \n",
       "3                      1.0  \n",
       "4                      1.0  \n",
       "5                      0.0  \n",
       "6                      1.0  \n",
       "7                      1.0  \n",
       "8                      1.0  \n",
       "9                      0.0  \n",
       "10                     3.0  \n",
       "11                     1.0  \n",
       "\n",
       "[12 rows x 42 columns]"
      ]
     },
     "execution_count": 523,
     "metadata": {},
     "output_type": "execute_result"
    }
   ],
   "source": [
    "df_full_final.head(12)"
   ]
  },
  {
   "cell_type": "code",
   "execution_count": 524,
   "id": "07839660",
   "metadata": {
    "ExecuteTime": {
     "end_time": "2022-03-22T17:21:17.409363Z",
     "start_time": "2022-03-22T17:21:17.274002Z"
    }
   },
   "outputs": [],
   "source": [
    "# 1 - mandante\n",
    "# 2 - visitante\n",
    "# 0 - empate\n",
    "df_full_final = create_target(df_full_final)"
   ]
  },
  {
   "cell_type": "code",
   "execution_count": 525,
   "id": "cbdcc2b1",
   "metadata": {
    "ExecuteTime": {
     "end_time": "2022-03-22T17:21:17.414710Z",
     "start_time": "2022-03-22T17:21:17.411039Z"
    }
   },
   "outputs": [],
   "source": [
    "df_full_final = df_full_final.drop('index', axis = 1)"
   ]
  },
  {
   "cell_type": "code",
   "execution_count": 528,
   "id": "fa75b45f",
   "metadata": {
    "ExecuteTime": {
     "end_time": "2022-03-22T17:21:32.573816Z",
     "start_time": "2022-03-22T17:21:32.551092Z"
    }
   },
   "outputs": [
    {
     "data": {
      "text/html": [
       "<div>\n",
       "<style scoped>\n",
       "    .dataframe tbody tr th:only-of-type {\n",
       "        vertical-align: middle;\n",
       "    }\n",
       "\n",
       "    .dataframe tbody tr th {\n",
       "        vertical-align: top;\n",
       "    }\n",
       "\n",
       "    .dataframe thead th {\n",
       "        text-align: right;\n",
       "    }\n",
       "</style>\n",
       "<table border=\"1\" class=\"dataframe\">\n",
       "  <thead>\n",
       "    <tr style=\"text-align: right;\">\n",
       "      <th></th>\n",
       "      <th>ID</th>\n",
       "      <th>rodada</th>\n",
       "      <th>data</th>\n",
       "      <th>hora</th>\n",
       "      <th>dia</th>\n",
       "      <th>mandante</th>\n",
       "      <th>visitante</th>\n",
       "      <th>formacao_mandante</th>\n",
       "      <th>formacao_visitante</th>\n",
       "      <th>tecnico_mandante</th>\n",
       "      <th>...</th>\n",
       "      <th>visitante_precisao_passes</th>\n",
       "      <th>mandante_faltas</th>\n",
       "      <th>visitante_faltas</th>\n",
       "      <th>mandante_cartao_amarelo</th>\n",
       "      <th>visitante_cartao_amarelo</th>\n",
       "      <th>mandante_cartao_vermelho</th>\n",
       "      <th>visitante_cartao_vermelho</th>\n",
       "      <th>mandante_impedimentos</th>\n",
       "      <th>visitante_impedimentos</th>\n",
       "      <th>resultado</th>\n",
       "    </tr>\n",
       "  </thead>\n",
       "  <tbody>\n",
       "    <tr>\n",
       "      <th>0</th>\n",
       "      <td>6506</td>\n",
       "      <td>1</td>\n",
       "      <td>2019-04-27</td>\n",
       "      <td>16:02</td>\n",
       "      <td>Sabado</td>\n",
       "      <td>Sao Paulo</td>\n",
       "      <td>Botafogo-RJ</td>\n",
       "      <td>4-2-3-1</td>\n",
       "      <td>4-1-4-1</td>\n",
       "      <td>E. de Souza Barroca</td>\n",
       "      <td>...</td>\n",
       "      <td>0.89</td>\n",
       "      <td>23.0</td>\n",
       "      <td>7.0</td>\n",
       "      <td>0.0</td>\n",
       "      <td>4.0</td>\n",
       "      <td>0.0</td>\n",
       "      <td>0.0</td>\n",
       "      <td>2.0</td>\n",
       "      <td>1.0</td>\n",
       "      <td>1.0</td>\n",
       "    </tr>\n",
       "    <tr>\n",
       "      <th>1</th>\n",
       "      <td>6507</td>\n",
       "      <td>1</td>\n",
       "      <td>2019-04-27</td>\n",
       "      <td>19:00</td>\n",
       "      <td>Sabado</td>\n",
       "      <td>Atletico-MG</td>\n",
       "      <td>Avai</td>\n",
       "      <td>4-2-3-1</td>\n",
       "      <td>4-1-4-1</td>\n",
       "      <td>E. Machado Souto</td>\n",
       "      <td>...</td>\n",
       "      <td>0.79</td>\n",
       "      <td>12.0</td>\n",
       "      <td>18.0</td>\n",
       "      <td>0.0</td>\n",
       "      <td>1.0</td>\n",
       "      <td>0.0</td>\n",
       "      <td>0.0</td>\n",
       "      <td>0.0</td>\n",
       "      <td>1.0</td>\n",
       "      <td>1.0</td>\n",
       "    </tr>\n",
       "    <tr>\n",
       "      <th>2</th>\n",
       "      <td>6508</td>\n",
       "      <td>1</td>\n",
       "      <td>2019-04-27</td>\n",
       "      <td>19:01</td>\n",
       "      <td>Sabado</td>\n",
       "      <td>Chapecoense</td>\n",
       "      <td>Internacional</td>\n",
       "      <td>4-2-3-1</td>\n",
       "      <td>4-3-3</td>\n",
       "      <td>O. Hellmann</td>\n",
       "      <td>...</td>\n",
       "      <td>0.81</td>\n",
       "      <td>15.0</td>\n",
       "      <td>11.0</td>\n",
       "      <td>1.0</td>\n",
       "      <td>1.0</td>\n",
       "      <td>0.0</td>\n",
       "      <td>0.0</td>\n",
       "      <td>0.0</td>\n",
       "      <td>2.0</td>\n",
       "      <td>1.0</td>\n",
       "    </tr>\n",
       "    <tr>\n",
       "      <th>3</th>\n",
       "      <td>6509</td>\n",
       "      <td>1</td>\n",
       "      <td>2019-04-27</td>\n",
       "      <td>21:00</td>\n",
       "      <td>Sabado</td>\n",
       "      <td>Flamengo</td>\n",
       "      <td>Cruzeiro</td>\n",
       "      <td>4-2-3-1</td>\n",
       "      <td>4-2-3-1</td>\n",
       "      <td>L. Venker de Menezes</td>\n",
       "      <td>...</td>\n",
       "      <td>0.79</td>\n",
       "      <td>13.0</td>\n",
       "      <td>17.0</td>\n",
       "      <td>4.0</td>\n",
       "      <td>4.0</td>\n",
       "      <td>0.0</td>\n",
       "      <td>1.0</td>\n",
       "      <td>0.0</td>\n",
       "      <td>1.0</td>\n",
       "      <td>1.0</td>\n",
       "    </tr>\n",
       "    <tr>\n",
       "      <th>4</th>\n",
       "      <td>6510</td>\n",
       "      <td>1</td>\n",
       "      <td>2019-04-28</td>\n",
       "      <td>11:03</td>\n",
       "      <td>Domingo</td>\n",
       "      <td>Gremio</td>\n",
       "      <td>Santos</td>\n",
       "      <td>4-2-3-1</td>\n",
       "      <td>3-4-1-2</td>\n",
       "      <td>J. Sampaoli Moya</td>\n",
       "      <td>...</td>\n",
       "      <td>0.71</td>\n",
       "      <td>12.0</td>\n",
       "      <td>18.0</td>\n",
       "      <td>3.0</td>\n",
       "      <td>4.0</td>\n",
       "      <td>0.0</td>\n",
       "      <td>1.0</td>\n",
       "      <td>2.0</td>\n",
       "      <td>1.0</td>\n",
       "      <td>2.0</td>\n",
       "    </tr>\n",
       "  </tbody>\n",
       "</table>\n",
       "<p>5 rows × 41 columns</p>\n",
       "</div>"
      ],
      "text/plain": [
       "     ID  rodada       data   hora      dia     mandante      visitante  \\\n",
       "0  6506       1 2019-04-27  16:02   Sabado    Sao Paulo    Botafogo-RJ   \n",
       "1  6507       1 2019-04-27  19:00   Sabado  Atletico-MG           Avai   \n",
       "2  6508       1 2019-04-27  19:01   Sabado  Chapecoense  Internacional   \n",
       "3  6509       1 2019-04-27  21:00   Sabado     Flamengo       Cruzeiro   \n",
       "4  6510       1 2019-04-28  11:03  Domingo       Gremio         Santos   \n",
       "\n",
       "  formacao_mandante formacao_visitante      tecnico_mandante  ...  \\\n",
       "0           4-2-3-1            4-1-4-1   E. de Souza Barroca  ...   \n",
       "1           4-2-3-1            4-1-4-1      E. Machado Souto  ...   \n",
       "2           4-2-3-1              4-3-3           O. Hellmann  ...   \n",
       "3           4-2-3-1            4-2-3-1  L. Venker de Menezes  ...   \n",
       "4           4-2-3-1            3-4-1-2      J. Sampaoli Moya  ...   \n",
       "\n",
       "  visitante_precisao_passes mandante_faltas  visitante_faltas  \\\n",
       "0                      0.89            23.0               7.0   \n",
       "1                      0.79            12.0              18.0   \n",
       "2                      0.81            15.0              11.0   \n",
       "3                      0.79            13.0              17.0   \n",
       "4                      0.71            12.0              18.0   \n",
       "\n",
       "   mandante_cartao_amarelo visitante_cartao_amarelo mandante_cartao_vermelho  \\\n",
       "0                      0.0                      4.0                      0.0   \n",
       "1                      0.0                      1.0                      0.0   \n",
       "2                      1.0                      1.0                      0.0   \n",
       "3                      4.0                      4.0                      0.0   \n",
       "4                      3.0                      4.0                      0.0   \n",
       "\n",
       "  visitante_cartao_vermelho  mandante_impedimentos  visitante_impedimentos  \\\n",
       "0                       0.0                    2.0                     1.0   \n",
       "1                       0.0                    0.0                     1.0   \n",
       "2                       0.0                    0.0                     2.0   \n",
       "3                       1.0                    0.0                     1.0   \n",
       "4                       1.0                    2.0                     1.0   \n",
       "\n",
       "   resultado  \n",
       "0        1.0  \n",
       "1        1.0  \n",
       "2        1.0  \n",
       "3        1.0  \n",
       "4        2.0  \n",
       "\n",
       "[5 rows x 41 columns]"
      ]
     },
     "execution_count": 528,
     "metadata": {},
     "output_type": "execute_result"
    }
   ],
   "source": [
    "df_full_final.head()"
   ]
  },
  {
   "cell_type": "markdown",
   "id": "619090e9",
   "metadata": {},
   "source": [
    "# 2. Exploratory Data Analysys"
   ]
  },
  {
   "cell_type": "code",
   "execution_count": 59,
   "id": "e0fbcb43",
   "metadata": {
    "ExecuteTime": {
     "end_time": "2022-03-22T14:30:33.953748Z",
     "start_time": "2022-03-22T14:30:33.946387Z"
    }
   },
   "outputs": [],
   "source": [
    "df2 = df_full_final.copy()"
   ]
  },
  {
   "cell_type": "code",
   "execution_count": 60,
   "id": "ee21480b",
   "metadata": {
    "ExecuteTime": {
     "end_time": "2022-03-22T14:30:34.503747Z",
     "start_time": "2022-03-22T14:30:34.347689Z"
    }
   },
   "outputs": [
    {
     "data": {
      "image/png": "[encoded data removed]",
      "text/plain": [
       "<Figure size 432x288 with 1 Axes>"
      ]
     },
     "metadata": {
      "needs_background": "light"
     },
     "output_type": "display_data"
    }
   ],
   "source": [
    "df2.resultado.value_counts(normalize=True).plot(kind='bar');\n",
    "plt.title('0 - Empate, 1 - Mandante, 2 - Visitante');"
   ]
  },
  {
   "cell_type": "code",
   "execution_count": 61,
   "id": "81ff0aeb",
   "metadata": {
    "ExecuteTime": {
     "end_time": "2022-03-22T14:30:35.337639Z",
     "start_time": "2022-03-22T14:30:35.148604Z"
    }
   },
   "outputs": [
    {
     "data": {
      "image/png": "[encoded data removed]",
      "text/plain": [
       "<Figure size 432x288 with 1 Axes>"
      ]
     },
     "metadata": {
      "needs_background": "light"
     },
     "output_type": "display_data"
    }
   ],
   "source": [
    "sns.countplot(y=df2.dia, hue=df2.resultado);\n",
    "plt.title('Resultado por dia da semana');"
   ]
  },
  {
   "cell_type": "markdown",
   "id": "06ba7bb1",
   "metadata": {},
   "source": [
    "# 3. Feature Engineering "
   ]
  },
  {
   "cell_type": "code",
   "execution_count": 351,
   "id": "94fdb3fc",
   "metadata": {
    "ExecuteTime": {
     "end_time": "2022-03-22T16:39:33.856936Z",
     "start_time": "2022-03-22T16:39:33.848955Z"
    }
   },
   "outputs": [],
   "source": [
    "df3 = df2.copy()"
   ]
  },
  {
   "cell_type": "code",
   "execution_count": 352,
   "id": "ec2bfd42",
   "metadata": {
    "ExecuteTime": {
     "end_time": "2022-03-22T16:39:34.000873Z",
     "start_time": "2022-03-22T16:39:33.996926Z"
    }
   },
   "outputs": [],
   "source": [
    "to_drop = ['index','ID']\n",
    "df3 = df3.drop(to_drop, axis = 1)"
   ]
  },
  {
   "cell_type": "code",
   "execution_count": 353,
   "id": "4fa0b10b",
   "metadata": {
    "ExecuteTime": {
     "end_time": "2022-03-22T16:39:34.181727Z",
     "start_time": "2022-03-22T16:39:34.156732Z"
    }
   },
   "outputs": [
    {
     "data": {
      "text/html": [
       "<div>\n",
       "<style scoped>\n",
       "    .dataframe tbody tr th:only-of-type {\n",
       "        vertical-align: middle;\n",
       "    }\n",
       "\n",
       "    .dataframe tbody tr th {\n",
       "        vertical-align: top;\n",
       "    }\n",
       "\n",
       "    .dataframe thead th {\n",
       "        text-align: right;\n",
       "    }\n",
       "</style>\n",
       "<table border=\"1\" class=\"dataframe\">\n",
       "  <thead>\n",
       "    <tr style=\"text-align: right;\">\n",
       "      <th></th>\n",
       "      <th>rodada</th>\n",
       "      <th>data</th>\n",
       "      <th>hora</th>\n",
       "      <th>dia</th>\n",
       "      <th>mandante</th>\n",
       "      <th>visitante</th>\n",
       "      <th>formacao_mandante</th>\n",
       "      <th>formacao_visitante</th>\n",
       "      <th>tecnico_mandante</th>\n",
       "      <th>tecnico_visitante</th>\n",
       "      <th>...</th>\n",
       "      <th>visitante_precisao_passes</th>\n",
       "      <th>mandante_faltas</th>\n",
       "      <th>visitante_faltas</th>\n",
       "      <th>mandante_cartao_amarelo</th>\n",
       "      <th>visitante_cartao_amarelo</th>\n",
       "      <th>mandante_cartao_vermelho</th>\n",
       "      <th>visitante_cartao_vermelho</th>\n",
       "      <th>mandante_impedimentos</th>\n",
       "      <th>visitante_impedimentos</th>\n",
       "      <th>resultado</th>\n",
       "    </tr>\n",
       "  </thead>\n",
       "  <tbody>\n",
       "    <tr>\n",
       "      <th>0</th>\n",
       "      <td>1</td>\n",
       "      <td>2019-04-27</td>\n",
       "      <td>16:02</td>\n",
       "      <td>Sabado</td>\n",
       "      <td>Sao Paulo</td>\n",
       "      <td>Botafogo-RJ</td>\n",
       "      <td>4-2-3-1</td>\n",
       "      <td>4-1-4-1</td>\n",
       "      <td>E. de Souza Barroca</td>\n",
       "      <td>E. de Souza Barroca</td>\n",
       "      <td>...</td>\n",
       "      <td>0.89</td>\n",
       "      <td>23.0</td>\n",
       "      <td>7.0</td>\n",
       "      <td>0.0</td>\n",
       "      <td>4.0</td>\n",
       "      <td>0.0</td>\n",
       "      <td>0.0</td>\n",
       "      <td>2.0</td>\n",
       "      <td>1.0</td>\n",
       "      <td>1.0</td>\n",
       "    </tr>\n",
       "    <tr>\n",
       "      <th>1</th>\n",
       "      <td>1</td>\n",
       "      <td>2019-04-27</td>\n",
       "      <td>19:00</td>\n",
       "      <td>Sabado</td>\n",
       "      <td>Atletico-MG</td>\n",
       "      <td>Avai</td>\n",
       "      <td>4-2-3-1</td>\n",
       "      <td>4-1-4-1</td>\n",
       "      <td>E. Machado Souto</td>\n",
       "      <td>E. Machado Souto</td>\n",
       "      <td>...</td>\n",
       "      <td>0.79</td>\n",
       "      <td>12.0</td>\n",
       "      <td>18.0</td>\n",
       "      <td>0.0</td>\n",
       "      <td>1.0</td>\n",
       "      <td>0.0</td>\n",
       "      <td>0.0</td>\n",
       "      <td>0.0</td>\n",
       "      <td>1.0</td>\n",
       "      <td>1.0</td>\n",
       "    </tr>\n",
       "    <tr>\n",
       "      <th>2</th>\n",
       "      <td>1</td>\n",
       "      <td>2019-04-27</td>\n",
       "      <td>19:01</td>\n",
       "      <td>Sabado</td>\n",
       "      <td>Chapecoense</td>\n",
       "      <td>Internacional</td>\n",
       "      <td>4-2-3-1</td>\n",
       "      <td>4-3-3</td>\n",
       "      <td>O. Hellmann</td>\n",
       "      <td>O. Hellmann</td>\n",
       "      <td>...</td>\n",
       "      <td>0.81</td>\n",
       "      <td>15.0</td>\n",
       "      <td>11.0</td>\n",
       "      <td>1.0</td>\n",
       "      <td>1.0</td>\n",
       "      <td>0.0</td>\n",
       "      <td>0.0</td>\n",
       "      <td>0.0</td>\n",
       "      <td>2.0</td>\n",
       "      <td>1.0</td>\n",
       "    </tr>\n",
       "    <tr>\n",
       "      <th>3</th>\n",
       "      <td>1</td>\n",
       "      <td>2019-04-27</td>\n",
       "      <td>21:00</td>\n",
       "      <td>Sabado</td>\n",
       "      <td>Flamengo</td>\n",
       "      <td>Cruzeiro</td>\n",
       "      <td>4-2-3-1</td>\n",
       "      <td>4-2-3-1</td>\n",
       "      <td>L. Venker de Menezes</td>\n",
       "      <td>L. Venker de Menezes</td>\n",
       "      <td>...</td>\n",
       "      <td>0.79</td>\n",
       "      <td>13.0</td>\n",
       "      <td>17.0</td>\n",
       "      <td>4.0</td>\n",
       "      <td>4.0</td>\n",
       "      <td>0.0</td>\n",
       "      <td>1.0</td>\n",
       "      <td>0.0</td>\n",
       "      <td>1.0</td>\n",
       "      <td>1.0</td>\n",
       "    </tr>\n",
       "    <tr>\n",
       "      <th>4</th>\n",
       "      <td>1</td>\n",
       "      <td>2019-04-28</td>\n",
       "      <td>11:03</td>\n",
       "      <td>Domingo</td>\n",
       "      <td>Gremio</td>\n",
       "      <td>Santos</td>\n",
       "      <td>4-2-3-1</td>\n",
       "      <td>3-4-1-2</td>\n",
       "      <td>J. Sampaoli Moya</td>\n",
       "      <td>J. Sampaoli Moya</td>\n",
       "      <td>...</td>\n",
       "      <td>0.71</td>\n",
       "      <td>12.0</td>\n",
       "      <td>18.0</td>\n",
       "      <td>3.0</td>\n",
       "      <td>4.0</td>\n",
       "      <td>0.0</td>\n",
       "      <td>1.0</td>\n",
       "      <td>2.0</td>\n",
       "      <td>1.0</td>\n",
       "      <td>2.0</td>\n",
       "    </tr>\n",
       "  </tbody>\n",
       "</table>\n",
       "<p>5 rows × 39 columns</p>\n",
       "</div>"
      ],
      "text/plain": [
       "   rodada       data   hora      dia     mandante      visitante  \\\n",
       "0       1 2019-04-27  16:02   Sabado    Sao Paulo    Botafogo-RJ   \n",
       "1       1 2019-04-27  19:00   Sabado  Atletico-MG           Avai   \n",
       "2       1 2019-04-27  19:01   Sabado  Chapecoense  Internacional   \n",
       "3       1 2019-04-27  21:00   Sabado     Flamengo       Cruzeiro   \n",
       "4       1 2019-04-28  11:03  Domingo       Gremio         Santos   \n",
       "\n",
       "  formacao_mandante formacao_visitante      tecnico_mandante  \\\n",
       "0           4-2-3-1            4-1-4-1   E. de Souza Barroca   \n",
       "1           4-2-3-1            4-1-4-1      E. Machado Souto   \n",
       "2           4-2-3-1              4-3-3           O. Hellmann   \n",
       "3           4-2-3-1            4-2-3-1  L. Venker de Menezes   \n",
       "4           4-2-3-1            3-4-1-2      J. Sampaoli Moya   \n",
       "\n",
       "      tecnico_visitante  ... visitante_precisao_passes  mandante_faltas  \\\n",
       "0   E. de Souza Barroca  ...                      0.89             23.0   \n",
       "1      E. Machado Souto  ...                      0.79             12.0   \n",
       "2           O. Hellmann  ...                      0.81             15.0   \n",
       "3  L. Venker de Menezes  ...                      0.79             13.0   \n",
       "4      J. Sampaoli Moya  ...                      0.71             12.0   \n",
       "\n",
       "   visitante_faltas mandante_cartao_amarelo visitante_cartao_amarelo  \\\n",
       "0               7.0                     0.0                      4.0   \n",
       "1              18.0                     0.0                      1.0   \n",
       "2              11.0                     1.0                      1.0   \n",
       "3              17.0                     4.0                      4.0   \n",
       "4              18.0                     3.0                      4.0   \n",
       "\n",
       "  mandante_cartao_vermelho  visitante_cartao_vermelho  mandante_impedimentos  \\\n",
       "0                      0.0                        0.0                    2.0   \n",
       "1                      0.0                        0.0                    0.0   \n",
       "2                      0.0                        0.0                    0.0   \n",
       "3                      0.0                        1.0                    0.0   \n",
       "4                      0.0                        1.0                    2.0   \n",
       "\n",
       "   visitante_impedimentos  resultado  \n",
       "0                     1.0        1.0  \n",
       "1                     1.0        1.0  \n",
       "2                     2.0        1.0  \n",
       "3                     1.0        1.0  \n",
       "4                     1.0        2.0  \n",
       "\n",
       "[5 rows x 39 columns]"
      ]
     },
     "execution_count": 353,
     "metadata": {},
     "output_type": "execute_result"
    }
   ],
   "source": [
    "df3.head()"
   ]
  },
  {
   "cell_type": "code",
   "execution_count": 354,
   "id": "64cab1df",
   "metadata": {
    "ExecuteTime": {
     "end_time": "2022-03-22T16:39:34.312441Z",
     "start_time": "2022-03-22T16:39:34.305613Z"
    }
   },
   "outputs": [
    {
     "data": {
      "text/plain": [
       "rodada                                int64\n",
       "data                         datetime64[ns]\n",
       "hora                                 object\n",
       "dia                                  object\n",
       "mandante                             object\n",
       "visitante                            object\n",
       "formacao_mandante                    object\n",
       "formacao_visitante                   object\n",
       "tecnico_mandante                     object\n",
       "tecnico_visitante                    object\n",
       "arena                                object\n",
       "mandante_placar                       int64\n",
       "visitante_placar                      int64\n",
       "mandante_estado                      object\n",
       "visitante_estado                     object\n",
       "estado_vencedor                      object\n",
       "mandante_venceu_ultima                int64\n",
       "visitante_venceu_ultima               int64\n",
       "n_gols_mandante_ultima                int64\n",
       "n_gols_visitante_ultima               int64\n",
       "mandante_chutes                     float64\n",
       "visitante_chutes                    float64\n",
       "mandante_chutes_no_alvo             float64\n",
       "visitante_chutes_no_alvo            float64\n",
       "mandante_posse_de_bola              float64\n",
       "visitante_posse_de_bola             float64\n",
       "mandante_passes                     float64\n",
       "visitante_passes                    float64\n",
       "mandante_precisao_passes            float64\n",
       "visitante_precisao_passes           float64\n",
       "mandante_faltas                     float64\n",
       "visitante_faltas                    float64\n",
       "mandante_cartao_amarelo             float64\n",
       "visitante_cartao_amarelo            float64\n",
       "mandante_cartao_vermelho            float64\n",
       "visitante_cartao_vermelho           float64\n",
       "mandante_impedimentos               float64\n",
       "visitante_impedimentos              float64\n",
       "resultado                           float64\n",
       "dtype: object"
      ]
     },
     "execution_count": 354,
     "metadata": {},
     "output_type": "execute_result"
    }
   ],
   "source": [
    "df3.dtypes"
   ]
  },
  {
   "cell_type": "code",
   "execution_count": 355,
   "id": "09e4c9a9",
   "metadata": {
    "ExecuteTime": {
     "end_time": "2022-03-22T16:39:34.487754Z",
     "start_time": "2022-03-22T16:39:34.467968Z"
    }
   },
   "outputs": [],
   "source": [
    "df3.loc[:,'hora_decimal'] = pd.to_datetime(df3.hora).dt.hour + pd.to_datetime(df3.hora).dt.minute / 60"
   ]
  },
  {
   "cell_type": "code",
   "execution_count": 356,
   "id": "900a4911",
   "metadata": {
    "ExecuteTime": {
     "end_time": "2022-03-22T16:39:34.640744Z",
     "start_time": "2022-03-22T16:39:34.633788Z"
    }
   },
   "outputs": [],
   "source": [
    "df3['hora_sin_'] = df3['hora_decimal'].apply(lambda x: np.sin(x * (2 * np.pi/24)))"
   ]
  },
  {
   "cell_type": "code",
   "execution_count": 357,
   "id": "43ee73b5",
   "metadata": {
    "ExecuteTime": {
     "end_time": "2022-03-22T16:39:34.828139Z",
     "start_time": "2022-03-22T16:39:34.811187Z"
    }
   },
   "outputs": [],
   "source": [
    "df3 = df3.drop(['hora', 'hora_decimal'], axis = 1)"
   ]
  },
  {
   "cell_type": "code",
   "execution_count": 358,
   "id": "0eff477b",
   "metadata": {
    "ExecuteTime": {
     "end_time": "2022-03-22T16:39:34.970083Z",
     "start_time": "2022-03-22T16:39:34.966341Z"
    }
   },
   "outputs": [],
   "source": [
    "df3.insert(2, 'hora_sin', df3.hora_sin_)"
   ]
  },
  {
   "cell_type": "code",
   "execution_count": 359,
   "id": "4db7ff65",
   "metadata": {
    "ExecuteTime": {
     "end_time": "2022-03-22T16:39:35.139376Z",
     "start_time": "2022-03-22T16:39:35.131290Z"
    }
   },
   "outputs": [],
   "source": [
    "df3 = df3.drop('hora_sin_', axis = 1)"
   ]
  },
  {
   "cell_type": "code",
   "execution_count": 360,
   "id": "2081235f",
   "metadata": {
    "ExecuteTime": {
     "end_time": "2022-03-22T16:39:35.398017Z",
     "start_time": "2022-03-22T16:39:35.323766Z"
    }
   },
   "outputs": [
    {
     "data": {
      "text/html": [
       "<div>\n",
       "<style scoped>\n",
       "    .dataframe tbody tr th:only-of-type {\n",
       "        vertical-align: middle;\n",
       "    }\n",
       "\n",
       "    .dataframe tbody tr th {\n",
       "        vertical-align: top;\n",
       "    }\n",
       "\n",
       "    .dataframe thead th {\n",
       "        text-align: right;\n",
       "    }\n",
       "</style>\n",
       "<table border=\"1\" class=\"dataframe\">\n",
       "  <thead>\n",
       "    <tr style=\"text-align: right;\">\n",
       "      <th></th>\n",
       "      <th>rodada</th>\n",
       "      <th>data</th>\n",
       "      <th>hora_sin</th>\n",
       "      <th>dia</th>\n",
       "      <th>mandante</th>\n",
       "      <th>visitante</th>\n",
       "      <th>formacao_mandante</th>\n",
       "      <th>formacao_visitante</th>\n",
       "      <th>tecnico_mandante</th>\n",
       "      <th>tecnico_visitante</th>\n",
       "      <th>...</th>\n",
       "      <th>visitante_precisao_passes</th>\n",
       "      <th>mandante_faltas</th>\n",
       "      <th>visitante_faltas</th>\n",
       "      <th>mandante_cartao_amarelo</th>\n",
       "      <th>visitante_cartao_amarelo</th>\n",
       "      <th>mandante_cartao_vermelho</th>\n",
       "      <th>visitante_cartao_vermelho</th>\n",
       "      <th>mandante_impedimentos</th>\n",
       "      <th>visitante_impedimentos</th>\n",
       "      <th>resultado</th>\n",
       "    </tr>\n",
       "  </thead>\n",
       "  <tbody>\n",
       "    <tr>\n",
       "      <th>0</th>\n",
       "      <td>1</td>\n",
       "      <td>2019-04-27</td>\n",
       "      <td>-0.870356</td>\n",
       "      <td>Sabado</td>\n",
       "      <td>Sao Paulo</td>\n",
       "      <td>Botafogo-RJ</td>\n",
       "      <td>4-2-3-1</td>\n",
       "      <td>4-1-4-1</td>\n",
       "      <td>E. de Souza Barroca</td>\n",
       "      <td>E. de Souza Barroca</td>\n",
       "      <td>...</td>\n",
       "      <td>0.89</td>\n",
       "      <td>23.0</td>\n",
       "      <td>7.0</td>\n",
       "      <td>0.0</td>\n",
       "      <td>4.0</td>\n",
       "      <td>0.0</td>\n",
       "      <td>0.0</td>\n",
       "      <td>2.0</td>\n",
       "      <td>1.0</td>\n",
       "      <td>1.0</td>\n",
       "    </tr>\n",
       "    <tr>\n",
       "      <th>1</th>\n",
       "      <td>1</td>\n",
       "      <td>2019-04-27</td>\n",
       "      <td>-0.965926</td>\n",
       "      <td>Sabado</td>\n",
       "      <td>Atletico-MG</td>\n",
       "      <td>Avai</td>\n",
       "      <td>4-2-3-1</td>\n",
       "      <td>4-1-4-1</td>\n",
       "      <td>E. Machado Souto</td>\n",
       "      <td>E. Machado Souto</td>\n",
       "      <td>...</td>\n",
       "      <td>0.79</td>\n",
       "      <td>12.0</td>\n",
       "      <td>18.0</td>\n",
       "      <td>0.0</td>\n",
       "      <td>1.0</td>\n",
       "      <td>0.0</td>\n",
       "      <td>0.0</td>\n",
       "      <td>0.0</td>\n",
       "      <td>1.0</td>\n",
       "      <td>1.0</td>\n",
       "    </tr>\n",
       "    <tr>\n",
       "      <th>2</th>\n",
       "      <td>1</td>\n",
       "      <td>2019-04-27</td>\n",
       "      <td>-0.964787</td>\n",
       "      <td>Sabado</td>\n",
       "      <td>Chapecoense</td>\n",
       "      <td>Internacional</td>\n",
       "      <td>4-2-3-1</td>\n",
       "      <td>4-3-3</td>\n",
       "      <td>O. Hellmann</td>\n",
       "      <td>O. Hellmann</td>\n",
       "      <td>...</td>\n",
       "      <td>0.81</td>\n",
       "      <td>15.0</td>\n",
       "      <td>11.0</td>\n",
       "      <td>1.0</td>\n",
       "      <td>1.0</td>\n",
       "      <td>0.0</td>\n",
       "      <td>0.0</td>\n",
       "      <td>0.0</td>\n",
       "      <td>2.0</td>\n",
       "      <td>1.0</td>\n",
       "    </tr>\n",
       "    <tr>\n",
       "      <th>3</th>\n",
       "      <td>1</td>\n",
       "      <td>2019-04-27</td>\n",
       "      <td>-0.707107</td>\n",
       "      <td>Sabado</td>\n",
       "      <td>Flamengo</td>\n",
       "      <td>Cruzeiro</td>\n",
       "      <td>4-2-3-1</td>\n",
       "      <td>4-2-3-1</td>\n",
       "      <td>L. Venker de Menezes</td>\n",
       "      <td>L. Venker de Menezes</td>\n",
       "      <td>...</td>\n",
       "      <td>0.79</td>\n",
       "      <td>13.0</td>\n",
       "      <td>17.0</td>\n",
       "      <td>4.0</td>\n",
       "      <td>4.0</td>\n",
       "      <td>0.0</td>\n",
       "      <td>1.0</td>\n",
       "      <td>0.0</td>\n",
       "      <td>1.0</td>\n",
       "      <td>1.0</td>\n",
       "    </tr>\n",
       "    <tr>\n",
       "      <th>4</th>\n",
       "      <td>1</td>\n",
       "      <td>2019-04-28</td>\n",
       "      <td>0.246153</td>\n",
       "      <td>Domingo</td>\n",
       "      <td>Gremio</td>\n",
       "      <td>Santos</td>\n",
       "      <td>4-2-3-1</td>\n",
       "      <td>3-4-1-2</td>\n",
       "      <td>J. Sampaoli Moya</td>\n",
       "      <td>J. Sampaoli Moya</td>\n",
       "      <td>...</td>\n",
       "      <td>0.71</td>\n",
       "      <td>12.0</td>\n",
       "      <td>18.0</td>\n",
       "      <td>3.0</td>\n",
       "      <td>4.0</td>\n",
       "      <td>0.0</td>\n",
       "      <td>1.0</td>\n",
       "      <td>2.0</td>\n",
       "      <td>1.0</td>\n",
       "      <td>2.0</td>\n",
       "    </tr>\n",
       "  </tbody>\n",
       "</table>\n",
       "<p>5 rows × 39 columns</p>\n",
       "</div>"
      ],
      "text/plain": [
       "   rodada       data  hora_sin      dia     mandante      visitante  \\\n",
       "0       1 2019-04-27 -0.870356   Sabado    Sao Paulo    Botafogo-RJ   \n",
       "1       1 2019-04-27 -0.965926   Sabado  Atletico-MG           Avai   \n",
       "2       1 2019-04-27 -0.964787   Sabado  Chapecoense  Internacional   \n",
       "3       1 2019-04-27 -0.707107   Sabado     Flamengo       Cruzeiro   \n",
       "4       1 2019-04-28  0.246153  Domingo       Gremio         Santos   \n",
       "\n",
       "  formacao_mandante formacao_visitante      tecnico_mandante  \\\n",
       "0           4-2-3-1            4-1-4-1   E. de Souza Barroca   \n",
       "1           4-2-3-1            4-1-4-1      E. Machado Souto   \n",
       "2           4-2-3-1              4-3-3           O. Hellmann   \n",
       "3           4-2-3-1            4-2-3-1  L. Venker de Menezes   \n",
       "4           4-2-3-1            3-4-1-2      J. Sampaoli Moya   \n",
       "\n",
       "      tecnico_visitante  ... visitante_precisao_passes  mandante_faltas  \\\n",
       "0   E. de Souza Barroca  ...                      0.89             23.0   \n",
       "1      E. Machado Souto  ...                      0.79             12.0   \n",
       "2           O. Hellmann  ...                      0.81             15.0   \n",
       "3  L. Venker de Menezes  ...                      0.79             13.0   \n",
       "4      J. Sampaoli Moya  ...                      0.71             12.0   \n",
       "\n",
       "   visitante_faltas mandante_cartao_amarelo visitante_cartao_amarelo  \\\n",
       "0               7.0                     0.0                      4.0   \n",
       "1              18.0                     0.0                      1.0   \n",
       "2              11.0                     1.0                      1.0   \n",
       "3              17.0                     4.0                      4.0   \n",
       "4              18.0                     3.0                      4.0   \n",
       "\n",
       "  mandante_cartao_vermelho  visitante_cartao_vermelho  mandante_impedimentos  \\\n",
       "0                      0.0                        0.0                    2.0   \n",
       "1                      0.0                        0.0                    0.0   \n",
       "2                      0.0                        0.0                    0.0   \n",
       "3                      0.0                        1.0                    0.0   \n",
       "4                      0.0                        1.0                    2.0   \n",
       "\n",
       "   visitante_impedimentos  resultado  \n",
       "0                     1.0        1.0  \n",
       "1                     1.0        1.0  \n",
       "2                     2.0        1.0  \n",
       "3                     1.0        1.0  \n",
       "4                     1.0        2.0  \n",
       "\n",
       "[5 rows x 39 columns]"
      ]
     },
     "execution_count": 360,
     "metadata": {},
     "output_type": "execute_result"
    }
   ],
   "source": [
    "df3.head()"
   ]
  },
  {
   "cell_type": "code",
   "execution_count": 361,
   "id": "0343fc89",
   "metadata": {
    "ExecuteTime": {
     "end_time": "2022-03-22T16:39:35.494034Z",
     "start_time": "2022-03-22T16:39:35.489242Z"
    }
   },
   "outputs": [
    {
     "data": {
      "text/plain": [
       "rodada                                int64\n",
       "data                         datetime64[ns]\n",
       "hora_sin                            float64\n",
       "dia                                  object\n",
       "mandante                             object\n",
       "visitante                            object\n",
       "formacao_mandante                    object\n",
       "formacao_visitante                   object\n",
       "tecnico_mandante                     object\n",
       "tecnico_visitante                    object\n",
       "arena                                object\n",
       "mandante_placar                       int64\n",
       "visitante_placar                      int64\n",
       "mandante_estado                      object\n",
       "visitante_estado                     object\n",
       "estado_vencedor                      object\n",
       "mandante_venceu_ultima                int64\n",
       "visitante_venceu_ultima               int64\n",
       "n_gols_mandante_ultima                int64\n",
       "n_gols_visitante_ultima               int64\n",
       "mandante_chutes                     float64\n",
       "visitante_chutes                    float64\n",
       "mandante_chutes_no_alvo             float64\n",
       "visitante_chutes_no_alvo            float64\n",
       "mandante_posse_de_bola              float64\n",
       "visitante_posse_de_bola             float64\n",
       "mandante_passes                     float64\n",
       "visitante_passes                    float64\n",
       "mandante_precisao_passes            float64\n",
       "visitante_precisao_passes           float64\n",
       "mandante_faltas                     float64\n",
       "visitante_faltas                    float64\n",
       "mandante_cartao_amarelo             float64\n",
       "visitante_cartao_amarelo            float64\n",
       "mandante_cartao_vermelho            float64\n",
       "visitante_cartao_vermelho           float64\n",
       "mandante_impedimentos               float64\n",
       "visitante_impedimentos              float64\n",
       "resultado                           float64\n",
       "dtype: object"
      ]
     },
     "execution_count": 361,
     "metadata": {},
     "output_type": "execute_result"
    }
   ],
   "source": [
    "df3.dtypes"
   ]
  },
  {
   "cell_type": "markdown",
   "id": "9ec5b791",
   "metadata": {},
   "source": [
    "## 3.1 Features creation "
   ]
  },
  {
   "cell_type": "code",
   "execution_count": 362,
   "id": "18edb926",
   "metadata": {
    "ExecuteTime": {
     "end_time": "2022-03-22T16:39:36.032758Z",
     "start_time": "2022-03-22T16:39:35.943502Z"
    }
   },
   "outputs": [
    {
     "data": {
      "text/html": [
       "<div>\n",
       "<style scoped>\n",
       "    .dataframe tbody tr th:only-of-type {\n",
       "        vertical-align: middle;\n",
       "    }\n",
       "\n",
       "    .dataframe tbody tr th {\n",
       "        vertical-align: top;\n",
       "    }\n",
       "\n",
       "    .dataframe thead th {\n",
       "        text-align: right;\n",
       "    }\n",
       "</style>\n",
       "<table border=\"1\" class=\"dataframe\">\n",
       "  <thead>\n",
       "    <tr style=\"text-align: right;\">\n",
       "      <th></th>\n",
       "      <th>rodada</th>\n",
       "      <th>data</th>\n",
       "      <th>hora_sin</th>\n",
       "      <th>dia</th>\n",
       "      <th>mandante</th>\n",
       "      <th>visitante</th>\n",
       "      <th>formacao_mandante</th>\n",
       "      <th>formacao_visitante</th>\n",
       "      <th>tecnico_mandante</th>\n",
       "      <th>tecnico_visitante</th>\n",
       "      <th>...</th>\n",
       "      <th>visitante_cartao_amarelo</th>\n",
       "      <th>mandante_cartao_vermelho</th>\n",
       "      <th>visitante_cartao_vermelho</th>\n",
       "      <th>mandante_impedimentos</th>\n",
       "      <th>visitante_impedimentos</th>\n",
       "      <th>resultado</th>\n",
       "      <th>ano</th>\n",
       "      <th>dia_do_mes</th>\n",
       "      <th>mes</th>\n",
       "      <th>semana_do_ano</th>\n",
       "    </tr>\n",
       "  </thead>\n",
       "  <tbody>\n",
       "    <tr>\n",
       "      <th>0</th>\n",
       "      <td>1</td>\n",
       "      <td>2019-04-27</td>\n",
       "      <td>-0.870356</td>\n",
       "      <td>Sabado</td>\n",
       "      <td>Sao Paulo</td>\n",
       "      <td>Botafogo-RJ</td>\n",
       "      <td>4-2-3-1</td>\n",
       "      <td>4-1-4-1</td>\n",
       "      <td>E. de Souza Barroca</td>\n",
       "      <td>E. de Souza Barroca</td>\n",
       "      <td>...</td>\n",
       "      <td>4.0</td>\n",
       "      <td>0.0</td>\n",
       "      <td>0.0</td>\n",
       "      <td>2.0</td>\n",
       "      <td>1.0</td>\n",
       "      <td>1.0</td>\n",
       "      <td>2019</td>\n",
       "      <td>27</td>\n",
       "      <td>4</td>\n",
       "      <td>17</td>\n",
       "    </tr>\n",
       "    <tr>\n",
       "      <th>1</th>\n",
       "      <td>1</td>\n",
       "      <td>2019-04-27</td>\n",
       "      <td>-0.965926</td>\n",
       "      <td>Sabado</td>\n",
       "      <td>Atletico-MG</td>\n",
       "      <td>Avai</td>\n",
       "      <td>4-2-3-1</td>\n",
       "      <td>4-1-4-1</td>\n",
       "      <td>E. Machado Souto</td>\n",
       "      <td>E. Machado Souto</td>\n",
       "      <td>...</td>\n",
       "      <td>1.0</td>\n",
       "      <td>0.0</td>\n",
       "      <td>0.0</td>\n",
       "      <td>0.0</td>\n",
       "      <td>1.0</td>\n",
       "      <td>1.0</td>\n",
       "      <td>2019</td>\n",
       "      <td>27</td>\n",
       "      <td>4</td>\n",
       "      <td>17</td>\n",
       "    </tr>\n",
       "    <tr>\n",
       "      <th>2</th>\n",
       "      <td>1</td>\n",
       "      <td>2019-04-27</td>\n",
       "      <td>-0.964787</td>\n",
       "      <td>Sabado</td>\n",
       "      <td>Chapecoense</td>\n",
       "      <td>Internacional</td>\n",
       "      <td>4-2-3-1</td>\n",
       "      <td>4-3-3</td>\n",
       "      <td>O. Hellmann</td>\n",
       "      <td>O. Hellmann</td>\n",
       "      <td>...</td>\n",
       "      <td>1.0</td>\n",
       "      <td>0.0</td>\n",
       "      <td>0.0</td>\n",
       "      <td>0.0</td>\n",
       "      <td>2.0</td>\n",
       "      <td>1.0</td>\n",
       "      <td>2019</td>\n",
       "      <td>27</td>\n",
       "      <td>4</td>\n",
       "      <td>17</td>\n",
       "    </tr>\n",
       "    <tr>\n",
       "      <th>3</th>\n",
       "      <td>1</td>\n",
       "      <td>2019-04-27</td>\n",
       "      <td>-0.707107</td>\n",
       "      <td>Sabado</td>\n",
       "      <td>Flamengo</td>\n",
       "      <td>Cruzeiro</td>\n",
       "      <td>4-2-3-1</td>\n",
       "      <td>4-2-3-1</td>\n",
       "      <td>L. Venker de Menezes</td>\n",
       "      <td>L. Venker de Menezes</td>\n",
       "      <td>...</td>\n",
       "      <td>4.0</td>\n",
       "      <td>0.0</td>\n",
       "      <td>1.0</td>\n",
       "      <td>0.0</td>\n",
       "      <td>1.0</td>\n",
       "      <td>1.0</td>\n",
       "      <td>2019</td>\n",
       "      <td>27</td>\n",
       "      <td>4</td>\n",
       "      <td>17</td>\n",
       "    </tr>\n",
       "    <tr>\n",
       "      <th>4</th>\n",
       "      <td>1</td>\n",
       "      <td>2019-04-28</td>\n",
       "      <td>0.246153</td>\n",
       "      <td>Domingo</td>\n",
       "      <td>Gremio</td>\n",
       "      <td>Santos</td>\n",
       "      <td>4-2-3-1</td>\n",
       "      <td>3-4-1-2</td>\n",
       "      <td>J. Sampaoli Moya</td>\n",
       "      <td>J. Sampaoli Moya</td>\n",
       "      <td>...</td>\n",
       "      <td>4.0</td>\n",
       "      <td>0.0</td>\n",
       "      <td>1.0</td>\n",
       "      <td>2.0</td>\n",
       "      <td>1.0</td>\n",
       "      <td>2.0</td>\n",
       "      <td>2019</td>\n",
       "      <td>28</td>\n",
       "      <td>4</td>\n",
       "      <td>17</td>\n",
       "    </tr>\n",
       "  </tbody>\n",
       "</table>\n",
       "<p>5 rows × 43 columns</p>\n",
       "</div>"
      ],
      "text/plain": [
       "   rodada       data  hora_sin      dia     mandante      visitante  \\\n",
       "0       1 2019-04-27 -0.870356   Sabado    Sao Paulo    Botafogo-RJ   \n",
       "1       1 2019-04-27 -0.965926   Sabado  Atletico-MG           Avai   \n",
       "2       1 2019-04-27 -0.964787   Sabado  Chapecoense  Internacional   \n",
       "3       1 2019-04-27 -0.707107   Sabado     Flamengo       Cruzeiro   \n",
       "4       1 2019-04-28  0.246153  Domingo       Gremio         Santos   \n",
       "\n",
       "  formacao_mandante formacao_visitante      tecnico_mandante  \\\n",
       "0           4-2-3-1            4-1-4-1   E. de Souza Barroca   \n",
       "1           4-2-3-1            4-1-4-1      E. Machado Souto   \n",
       "2           4-2-3-1              4-3-3           O. Hellmann   \n",
       "3           4-2-3-1            4-2-3-1  L. Venker de Menezes   \n",
       "4           4-2-3-1            3-4-1-2      J. Sampaoli Moya   \n",
       "\n",
       "      tecnico_visitante  ... visitante_cartao_amarelo  \\\n",
       "0   E. de Souza Barroca  ...                      4.0   \n",
       "1      E. Machado Souto  ...                      1.0   \n",
       "2           O. Hellmann  ...                      1.0   \n",
       "3  L. Venker de Menezes  ...                      4.0   \n",
       "4      J. Sampaoli Moya  ...                      4.0   \n",
       "\n",
       "   mandante_cartao_vermelho  visitante_cartao_vermelho mandante_impedimentos  \\\n",
       "0                       0.0                        0.0                   2.0   \n",
       "1                       0.0                        0.0                   0.0   \n",
       "2                       0.0                        0.0                   0.0   \n",
       "3                       0.0                        1.0                   0.0   \n",
       "4                       0.0                        1.0                   2.0   \n",
       "\n",
       "  visitante_impedimentos resultado   ano  dia_do_mes  mes  semana_do_ano  \n",
       "0                    1.0       1.0  2019          27    4             17  \n",
       "1                    1.0       1.0  2019          27    4             17  \n",
       "2                    2.0       1.0  2019          27    4             17  \n",
       "3                    1.0       1.0  2019          27    4             17  \n",
       "4                    1.0       2.0  2019          28    4             17  \n",
       "\n",
       "[5 rows x 43 columns]"
      ]
     },
     "execution_count": 362,
     "metadata": {},
     "output_type": "execute_result"
    }
   ],
   "source": [
    "df3['ano'] = df3.data.dt.year\n",
    "df3['dia_do_mes'] = df3.data.dt.day\n",
    "df3['mes'] = df3.data.dt.month\n",
    "df3['semana_do_ano'] = df3.data.dt.weekofyear\n",
    "\n",
    "df3.head()"
   ]
  },
  {
   "cell_type": "markdown",
   "id": "f740f90b",
   "metadata": {},
   "source": [
    "## 3.1 Data transformation "
   ]
  },
  {
   "cell_type": "code",
   "execution_count": 363,
   "id": "e3a23b08",
   "metadata": {
    "ExecuteTime": {
     "end_time": "2022-03-22T16:39:36.891877Z",
     "start_time": "2022-03-22T16:39:36.822620Z"
    }
   },
   "outputs": [],
   "source": [
    "# month\n",
    "df3['mes_sin'] = df3['mes'].apply(lambda x: np.sin(x * (2 * np.pi/12)))\n",
    "df3['mes_cos'] = df3['mes'].apply(lambda x: np.cos(x * (2 * np.pi/12)))\n",
    "# day\n",
    "df3['dia_do_mes_sin'] = df3['dia_do_mes'].apply(lambda x: np.sin(x * (2 * np.pi/30)))\n",
    "df3['dia_do_mes_cos'] = df3['dia_do_mes'].apply(lambda x: np.cos(x * (2 * np.pi/30)))\n",
    "# week of year\n",
    "df3['semana_do_ano_sin'] = df3['semana_do_ano'].apply(lambda x: np.sin(x * (2 * np.pi/52)))\n",
    "df3['semana_do_ano_cos'] = df3['semana_do_ano'].apply(lambda x: np.cos(x * (2 * np.pi/52)))"
   ]
  },
  {
   "cell_type": "code",
   "execution_count": 364,
   "id": "641d83bc",
   "metadata": {
    "ExecuteTime": {
     "end_time": "2022-03-22T16:39:37.377294Z",
     "start_time": "2022-03-22T16:39:37.338798Z"
    }
   },
   "outputs": [
    {
     "data": {
      "text/html": [
       "<div>\n",
       "<style scoped>\n",
       "    .dataframe tbody tr th:only-of-type {\n",
       "        vertical-align: middle;\n",
       "    }\n",
       "\n",
       "    .dataframe tbody tr th {\n",
       "        vertical-align: top;\n",
       "    }\n",
       "\n",
       "    .dataframe thead th {\n",
       "        text-align: right;\n",
       "    }\n",
       "</style>\n",
       "<table border=\"1\" class=\"dataframe\">\n",
       "  <thead>\n",
       "    <tr style=\"text-align: right;\">\n",
       "      <th></th>\n",
       "      <th>rodada</th>\n",
       "      <th>data</th>\n",
       "      <th>hora_sin</th>\n",
       "      <th>dia</th>\n",
       "      <th>mandante</th>\n",
       "      <th>visitante</th>\n",
       "      <th>formacao_mandante</th>\n",
       "      <th>formacao_visitante</th>\n",
       "      <th>tecnico_mandante</th>\n",
       "      <th>tecnico_visitante</th>\n",
       "      <th>...</th>\n",
       "      <th>ano</th>\n",
       "      <th>dia_do_mes</th>\n",
       "      <th>mes</th>\n",
       "      <th>semana_do_ano</th>\n",
       "      <th>mes_sin</th>\n",
       "      <th>mes_cos</th>\n",
       "      <th>dia_do_mes_sin</th>\n",
       "      <th>dia_do_mes_cos</th>\n",
       "      <th>semana_do_ano_sin</th>\n",
       "      <th>semana_do_ano_cos</th>\n",
       "    </tr>\n",
       "  </thead>\n",
       "  <tbody>\n",
       "    <tr>\n",
       "      <th>0</th>\n",
       "      <td>1</td>\n",
       "      <td>2019-04-27</td>\n",
       "      <td>-0.870356</td>\n",
       "      <td>Sabado</td>\n",
       "      <td>Sao Paulo</td>\n",
       "      <td>Botafogo-RJ</td>\n",
       "      <td>4-2-3-1</td>\n",
       "      <td>4-1-4-1</td>\n",
       "      <td>E. de Souza Barroca</td>\n",
       "      <td>E. de Souza Barroca</td>\n",
       "      <td>...</td>\n",
       "      <td>2019</td>\n",
       "      <td>27</td>\n",
       "      <td>4</td>\n",
       "      <td>17</td>\n",
       "      <td>0.866025</td>\n",
       "      <td>-0.5</td>\n",
       "      <td>-0.587785</td>\n",
       "      <td>0.809017</td>\n",
       "      <td>0.885456</td>\n",
       "      <td>-0.464723</td>\n",
       "    </tr>\n",
       "    <tr>\n",
       "      <th>1</th>\n",
       "      <td>1</td>\n",
       "      <td>2019-04-27</td>\n",
       "      <td>-0.965926</td>\n",
       "      <td>Sabado</td>\n",
       "      <td>Atletico-MG</td>\n",
       "      <td>Avai</td>\n",
       "      <td>4-2-3-1</td>\n",
       "      <td>4-1-4-1</td>\n",
       "      <td>E. Machado Souto</td>\n",
       "      <td>E. Machado Souto</td>\n",
       "      <td>...</td>\n",
       "      <td>2019</td>\n",
       "      <td>27</td>\n",
       "      <td>4</td>\n",
       "      <td>17</td>\n",
       "      <td>0.866025</td>\n",
       "      <td>-0.5</td>\n",
       "      <td>-0.587785</td>\n",
       "      <td>0.809017</td>\n",
       "      <td>0.885456</td>\n",
       "      <td>-0.464723</td>\n",
       "    </tr>\n",
       "    <tr>\n",
       "      <th>2</th>\n",
       "      <td>1</td>\n",
       "      <td>2019-04-27</td>\n",
       "      <td>-0.964787</td>\n",
       "      <td>Sabado</td>\n",
       "      <td>Chapecoense</td>\n",
       "      <td>Internacional</td>\n",
       "      <td>4-2-3-1</td>\n",
       "      <td>4-3-3</td>\n",
       "      <td>O. Hellmann</td>\n",
       "      <td>O. Hellmann</td>\n",
       "      <td>...</td>\n",
       "      <td>2019</td>\n",
       "      <td>27</td>\n",
       "      <td>4</td>\n",
       "      <td>17</td>\n",
       "      <td>0.866025</td>\n",
       "      <td>-0.5</td>\n",
       "      <td>-0.587785</td>\n",
       "      <td>0.809017</td>\n",
       "      <td>0.885456</td>\n",
       "      <td>-0.464723</td>\n",
       "    </tr>\n",
       "    <tr>\n",
       "      <th>3</th>\n",
       "      <td>1</td>\n",
       "      <td>2019-04-27</td>\n",
       "      <td>-0.707107</td>\n",
       "      <td>Sabado</td>\n",
       "      <td>Flamengo</td>\n",
       "      <td>Cruzeiro</td>\n",
       "      <td>4-2-3-1</td>\n",
       "      <td>4-2-3-1</td>\n",
       "      <td>L. Venker de Menezes</td>\n",
       "      <td>L. Venker de Menezes</td>\n",
       "      <td>...</td>\n",
       "      <td>2019</td>\n",
       "      <td>27</td>\n",
       "      <td>4</td>\n",
       "      <td>17</td>\n",
       "      <td>0.866025</td>\n",
       "      <td>-0.5</td>\n",
       "      <td>-0.587785</td>\n",
       "      <td>0.809017</td>\n",
       "      <td>0.885456</td>\n",
       "      <td>-0.464723</td>\n",
       "    </tr>\n",
       "    <tr>\n",
       "      <th>4</th>\n",
       "      <td>1</td>\n",
       "      <td>2019-04-28</td>\n",
       "      <td>0.246153</td>\n",
       "      <td>Domingo</td>\n",
       "      <td>Gremio</td>\n",
       "      <td>Santos</td>\n",
       "      <td>4-2-3-1</td>\n",
       "      <td>3-4-1-2</td>\n",
       "      <td>J. Sampaoli Moya</td>\n",
       "      <td>J. Sampaoli Moya</td>\n",
       "      <td>...</td>\n",
       "      <td>2019</td>\n",
       "      <td>28</td>\n",
       "      <td>4</td>\n",
       "      <td>17</td>\n",
       "      <td>0.866025</td>\n",
       "      <td>-0.5</td>\n",
       "      <td>-0.406737</td>\n",
       "      <td>0.913545</td>\n",
       "      <td>0.885456</td>\n",
       "      <td>-0.464723</td>\n",
       "    </tr>\n",
       "  </tbody>\n",
       "</table>\n",
       "<p>5 rows × 49 columns</p>\n",
       "</div>"
      ],
      "text/plain": [
       "   rodada       data  hora_sin      dia     mandante      visitante  \\\n",
       "0       1 2019-04-27 -0.870356   Sabado    Sao Paulo    Botafogo-RJ   \n",
       "1       1 2019-04-27 -0.965926   Sabado  Atletico-MG           Avai   \n",
       "2       1 2019-04-27 -0.964787   Sabado  Chapecoense  Internacional   \n",
       "3       1 2019-04-27 -0.707107   Sabado     Flamengo       Cruzeiro   \n",
       "4       1 2019-04-28  0.246153  Domingo       Gremio         Santos   \n",
       "\n",
       "  formacao_mandante formacao_visitante      tecnico_mandante  \\\n",
       "0           4-2-3-1            4-1-4-1   E. de Souza Barroca   \n",
       "1           4-2-3-1            4-1-4-1      E. Machado Souto   \n",
       "2           4-2-3-1              4-3-3           O. Hellmann   \n",
       "3           4-2-3-1            4-2-3-1  L. Venker de Menezes   \n",
       "4           4-2-3-1            3-4-1-2      J. Sampaoli Moya   \n",
       "\n",
       "      tecnico_visitante  ...   ano  dia_do_mes  mes semana_do_ano   mes_sin  \\\n",
       "0   E. de Souza Barroca  ...  2019          27    4            17  0.866025   \n",
       "1      E. Machado Souto  ...  2019          27    4            17  0.866025   \n",
       "2           O. Hellmann  ...  2019          27    4            17  0.866025   \n",
       "3  L. Venker de Menezes  ...  2019          27    4            17  0.866025   \n",
       "4      J. Sampaoli Moya  ...  2019          28    4            17  0.866025   \n",
       "\n",
       "  mes_cos  dia_do_mes_sin  dia_do_mes_cos  semana_do_ano_sin  \\\n",
       "0    -0.5       -0.587785        0.809017           0.885456   \n",
       "1    -0.5       -0.587785        0.809017           0.885456   \n",
       "2    -0.5       -0.587785        0.809017           0.885456   \n",
       "3    -0.5       -0.587785        0.809017           0.885456   \n",
       "4    -0.5       -0.406737        0.913545           0.885456   \n",
       "\n",
       "   semana_do_ano_cos  \n",
       "0          -0.464723  \n",
       "1          -0.464723  \n",
       "2          -0.464723  \n",
       "3          -0.464723  \n",
       "4          -0.464723  \n",
       "\n",
       "[5 rows x 49 columns]"
      ]
     },
     "execution_count": 364,
     "metadata": {},
     "output_type": "execute_result"
    }
   ],
   "source": [
    "df3.head()"
   ]
  },
  {
   "cell_type": "code",
   "execution_count": 365,
   "id": "263654d5",
   "metadata": {
    "ExecuteTime": {
     "end_time": "2022-03-22T16:39:37.572767Z",
     "start_time": "2022-03-22T16:39:37.540301Z"
    }
   },
   "outputs": [],
   "source": [
    "# rodadas\n",
    "df3['rodadas_sin'] = df3['rodada'].apply(lambda x: np.sin(x * (2 * np.pi/38)))\n",
    "df3['rodadas_cos'] = df3['rodada'].apply(lambda x: np.cos(x * (2 * np.pi/38)))"
   ]
  },
  {
   "cell_type": "code",
   "execution_count": 366,
   "id": "65e82b84",
   "metadata": {
    "ExecuteTime": {
     "end_time": "2022-03-22T16:39:37.698750Z",
     "start_time": "2022-03-22T16:39:37.693235Z"
    }
   },
   "outputs": [],
   "source": [
    "to_drop = ['dia', 'mes', 'ano', 'data', 'rodada', 'dia_do_mes', 'semana_do_ano']\n",
    "df3 = df3.drop(to_drop, axis=1)"
   ]
  },
  {
   "cell_type": "code",
   "execution_count": 367,
   "id": "62b9f6aa",
   "metadata": {
    "ExecuteTime": {
     "end_time": "2022-03-22T16:39:38.042253Z",
     "start_time": "2022-03-22T16:39:38.018713Z"
    }
   },
   "outputs": [],
   "source": [
    "df3.insert(len(df3.columns.tolist()), 'resultado_final', df3.resultado)"
   ]
  },
  {
   "cell_type": "code",
   "execution_count": 368,
   "id": "4fd0d678",
   "metadata": {
    "ExecuteTime": {
     "end_time": "2022-03-22T16:39:38.526690Z",
     "start_time": "2022-03-22T16:39:38.510915Z"
    }
   },
   "outputs": [],
   "source": [
    "df3 = df3.drop('resultado', axis = 1)"
   ]
  },
  {
   "cell_type": "code",
   "execution_count": 369,
   "id": "f75e3682",
   "metadata": {
    "ExecuteTime": {
     "end_time": "2022-03-22T16:39:39.539093Z",
     "start_time": "2022-03-22T16:39:39.511601Z"
    }
   },
   "outputs": [],
   "source": [
    "categorical = ['mandante', 'visitante', 'formacao_mandante', 'formacao_visitante', 'arena']\n",
    "target = ['resultado_final']\n",
    "\n",
    "df3_cat = df3[categorical]\n",
    "df3_target = df3[target]\n",
    "\n",
    "df3_vitoria = df3[['mandante_venceu_ultima', 'visitante_venceu_ultima']]"
   ]
  },
  {
   "cell_type": "code",
   "execution_count": 370,
   "id": "30bae413",
   "metadata": {
    "ExecuteTime": {
     "end_time": "2022-03-22T16:39:40.132933Z",
     "start_time": "2022-03-22T16:39:40.109419Z"
    }
   },
   "outputs": [],
   "source": [
    "df3_cat_dummies = pd.get_dummies(df3_cat)"
   ]
  },
  {
   "cell_type": "code",
   "execution_count": 380,
   "id": "499db33c",
   "metadata": {
    "ExecuteTime": {
     "end_time": "2022-03-22T16:40:07.294231Z",
     "start_time": "2022-03-22T16:40:07.276626Z"
    }
   },
   "outputs": [
    {
     "data": {
      "text/plain": [
       "['mandante_America-MG',\n",
       " 'mandante_Athletico-PR',\n",
       " 'mandante_Atletico-GO',\n",
       " 'mandante_Atletico-MG',\n",
       " 'mandante_Avai',\n",
       " 'mandante_Bahia',\n",
       " 'mandante_Botafogo-RJ',\n",
       " 'mandante_Bragantino',\n",
       " 'mandante_CSA',\n",
       " 'mandante_Ceara',\n",
       " 'mandante_Chapecoense',\n",
       " 'mandante_Corinthians',\n",
       " 'mandante_Coritiba',\n",
       " 'mandante_Cruzeiro',\n",
       " 'mandante_Cuiaba',\n",
       " 'mandante_Flamengo',\n",
       " 'mandante_Fluminense',\n",
       " 'mandante_Fortaleza',\n",
       " 'mandante_Goias',\n",
       " 'mandante_Gremio',\n",
       " 'mandante_Internacional',\n",
       " 'mandante_Juventude',\n",
       " 'mandante_Palmeiras',\n",
       " 'mandante_Santos',\n",
       " 'mandante_Sao Paulo',\n",
       " 'mandante_Sport',\n",
       " 'mandante_Vasco',\n",
       " 'visitante_America-MG',\n",
       " 'visitante_Athletico-PR',\n",
       " 'visitante_Atletico-GO',\n",
       " 'visitante_Atletico-MG',\n",
       " 'visitante_Avai',\n",
       " 'visitante_Bahia',\n",
       " 'visitante_Botafogo-RJ',\n",
       " 'visitante_Bragantino',\n",
       " 'visitante_CSA',\n",
       " 'visitante_Ceara',\n",
       " 'visitante_Chapecoense',\n",
       " 'visitante_Corinthians',\n",
       " 'visitante_Coritiba',\n",
       " 'visitante_Cruzeiro',\n",
       " 'visitante_Cuiaba',\n",
       " 'visitante_Flamengo',\n",
       " 'visitante_Fluminense',\n",
       " 'visitante_Fortaleza',\n",
       " 'visitante_Goias',\n",
       " 'visitante_Gremio',\n",
       " 'visitante_Internacional',\n",
       " 'visitante_Juventude',\n",
       " 'visitante_Palmeiras',\n",
       " 'visitante_Santos',\n",
       " 'visitante_Sao Paulo',\n",
       " 'visitante_Sport',\n",
       " 'visitante_Vasco',\n",
       " 'formacao_mandante_3-1-4-2',\n",
       " 'formacao_mandante_3-2-4-1',\n",
       " 'formacao_mandante_3-4-1-2',\n",
       " 'formacao_mandante_3-4-2-1',\n",
       " 'formacao_mandante_3-4-3',\n",
       " 'formacao_mandante_3-5-2',\n",
       " 'formacao_mandante_4-1-2-1-2',\n",
       " 'formacao_mandante_4-1-3-2',\n",
       " 'formacao_mandante_4-1-4-1',\n",
       " 'formacao_mandante_4-2-2-2',\n",
       " 'formacao_mandante_4-2-3-1',\n",
       " 'formacao_mandante_4-2-4-0',\n",
       " 'formacao_mandante_4-3-1-2',\n",
       " 'formacao_mandante_4-3-2-1',\n",
       " 'formacao_mandante_4-3-3',\n",
       " 'formacao_mandante_4-4-1-1',\n",
       " 'formacao_mandante_4-4-2',\n",
       " 'formacao_mandante_4-5-1',\n",
       " 'formacao_mandante_5-3-2',\n",
       " 'formacao_mandante_5-4-1',\n",
       " 'formacao_visitante_3-1-4-2',\n",
       " 'formacao_visitante_3-4-1-2',\n",
       " 'formacao_visitante_3-4-2-1',\n",
       " 'formacao_visitante_3-4-3',\n",
       " 'formacao_visitante_3-5-1-1',\n",
       " 'formacao_visitante_3-5-2',\n",
       " 'formacao_visitante_4-1-2-1-2',\n",
       " 'formacao_visitante_4-1-3-2',\n",
       " 'formacao_visitante_4-1-4-1',\n",
       " 'formacao_visitante_4-2-2-2',\n",
       " 'formacao_visitante_4-2-3-1',\n",
       " 'formacao_visitante_4-2-4-0',\n",
       " 'formacao_visitante_4-3-1-2',\n",
       " 'formacao_visitante_4-3-2-1',\n",
       " 'formacao_visitante_4-3-3',\n",
       " 'formacao_visitante_4-4-1-1',\n",
       " 'formacao_visitante_4-4-2',\n",
       " 'formacao_visitante_4-5-1',\n",
       " 'formacao_visitante_5-3-2',\n",
       " 'formacao_visitante_5-4-1',\n",
       " 'arena_adelmar da costa carvalho',\n",
       " 'arena_alfredo jaconi',\n",
       " 'arena_allianz parque',\n",
       " 'arena_arena barueri',\n",
       " 'arena_arena castelao',\n",
       " 'arena_arena conda',\n",
       " 'arena_arena da amazonia',\n",
       " 'arena_arena de pernambuco',\n",
       " 'arena_arena do gremio',\n",
       " 'arena_arena pantanal',\n",
       " 'arena_couto pereira',\n",
       " 'arena_estadio antonio accioly',\n",
       " 'arena_estadio brinco de ouro',\n",
       " 'arena_estadio da serrinha',\n",
       " 'arena_estadio de pituacu',\n",
       " 'arena_estadio do governo do estado de goias serra dourada',\n",
       " 'arena_estadio francisco stedile centenario',\n",
       " 'arena_estadio joaquim americo guimaraes',\n",
       " 'arena_estadio jose pinheiro borda',\n",
       " 'arena_estadio municipal general raulino de oliveira',\n",
       " 'arena_estadio municipal paulo machado de carvalho',\n",
       " 'arena_estadio nacional de brasilia',\n",
       " 'arena_estadio nilton santos',\n",
       " 'arena_estadio olimpico pedro ludovico teixeira',\n",
       " 'arena_estadio raimundo sampaio',\n",
       " 'arena_estadio rei pele',\n",
       " 'arena_estadio urbano caldeira',\n",
       " 'arena_estadio vasco da gama',\n",
       " 'arena_itaipava arena fonte nova',\n",
       " 'arena_kleber andrade',\n",
       " 'arena_maracana',\n",
       " 'arena_mineirao',\n",
       " 'arena_morumbi',\n",
       " 'arena_nabizao',\n",
       " 'arena_neo quimica arena',\n",
       " 'arena_ressacada']"
      ]
     },
     "execution_count": 380,
     "metadata": {},
     "output_type": "execute_result"
    }
   ],
   "source": [
    "df3_cat_dummies.columns.tolist()"
   ]
  },
  {
   "cell_type": "code",
   "execution_count": 372,
   "id": "87dcfab5",
   "metadata": {
    "ExecuteTime": {
     "end_time": "2022-03-22T16:39:41.415925Z",
     "start_time": "2022-03-22T16:39:41.408057Z"
    }
   },
   "outputs": [],
   "source": [
    "categorical.append(target[0])"
   ]
  },
  {
   "cell_type": "code",
   "execution_count": 373,
   "id": "aba07f64",
   "metadata": {
    "ExecuteTime": {
     "end_time": "2022-03-22T16:39:42.014431Z",
     "start_time": "2022-03-22T16:39:41.999228Z"
    }
   },
   "outputs": [],
   "source": [
    "to_drop = ['mandante',\n",
    "           'visitante',\n",
    "           'formacao_mandante',\n",
    "           'formacao_visitante',\n",
    "           'tecnico_mandante', \n",
    "           'tecnico_visitante',\n",
    "           'arena',\n",
    "           'mandante_estado',\n",
    "           'estado_vencedor',\n",
    "           'visitante_estado',\n",
    "           'mandante_venceu_ultima',\n",
    "           'visitante_venceu_ultima',\n",
    "           'resultado_final']"
   ]
  },
  {
   "cell_type": "code",
   "execution_count": 374,
   "id": "76908b26",
   "metadata": {
    "ExecuteTime": {
     "end_time": "2022-03-22T16:39:42.715822Z",
     "start_time": "2022-03-22T16:39:42.697212Z"
    }
   },
   "outputs": [],
   "source": [
    "df3_numeric = df3.drop(to_drop, axis=1)"
   ]
  },
  {
   "cell_type": "code",
   "execution_count": 375,
   "id": "8f7cfba4",
   "metadata": {
    "ExecuteTime": {
     "end_time": "2022-03-22T16:39:43.494221Z",
     "start_time": "2022-03-22T16:39:43.423579Z"
    }
   },
   "outputs": [
    {
     "data": {
      "text/html": [
       "<div>\n",
       "<style scoped>\n",
       "    .dataframe tbody tr th:only-of-type {\n",
       "        vertical-align: middle;\n",
       "    }\n",
       "\n",
       "    .dataframe tbody tr th {\n",
       "        vertical-align: top;\n",
       "    }\n",
       "\n",
       "    .dataframe thead th {\n",
       "        text-align: right;\n",
       "    }\n",
       "</style>\n",
       "<table border=\"1\" class=\"dataframe\">\n",
       "  <thead>\n",
       "    <tr style=\"text-align: right;\">\n",
       "      <th></th>\n",
       "      <th>hora_sin</th>\n",
       "      <th>mandante</th>\n",
       "      <th>visitante</th>\n",
       "      <th>formacao_mandante</th>\n",
       "      <th>formacao_visitante</th>\n",
       "      <th>tecnico_mandante</th>\n",
       "      <th>tecnico_visitante</th>\n",
       "      <th>arena</th>\n",
       "      <th>mandante_placar</th>\n",
       "      <th>visitante_placar</th>\n",
       "      <th>...</th>\n",
       "      <th>visitante_impedimentos</th>\n",
       "      <th>mes_sin</th>\n",
       "      <th>mes_cos</th>\n",
       "      <th>dia_do_mes_sin</th>\n",
       "      <th>dia_do_mes_cos</th>\n",
       "      <th>semana_do_ano_sin</th>\n",
       "      <th>semana_do_ano_cos</th>\n",
       "      <th>rodadas_sin</th>\n",
       "      <th>rodadas_cos</th>\n",
       "      <th>resultado_final</th>\n",
       "    </tr>\n",
       "  </thead>\n",
       "  <tbody>\n",
       "    <tr>\n",
       "      <th>0</th>\n",
       "      <td>-0.870356</td>\n",
       "      <td>Sao Paulo</td>\n",
       "      <td>Botafogo-RJ</td>\n",
       "      <td>4-2-3-1</td>\n",
       "      <td>4-1-4-1</td>\n",
       "      <td>E. de Souza Barroca</td>\n",
       "      <td>E. de Souza Barroca</td>\n",
       "      <td>morumbi</td>\n",
       "      <td>2</td>\n",
       "      <td>0</td>\n",
       "      <td>...</td>\n",
       "      <td>1.0</td>\n",
       "      <td>0.866025</td>\n",
       "      <td>-0.5</td>\n",
       "      <td>-0.587785</td>\n",
       "      <td>0.809017</td>\n",
       "      <td>0.885456</td>\n",
       "      <td>-0.464723</td>\n",
       "      <td>0.164595</td>\n",
       "      <td>0.986361</td>\n",
       "      <td>1.0</td>\n",
       "    </tr>\n",
       "    <tr>\n",
       "      <th>1</th>\n",
       "      <td>-0.965926</td>\n",
       "      <td>Atletico-MG</td>\n",
       "      <td>Avai</td>\n",
       "      <td>4-2-3-1</td>\n",
       "      <td>4-1-4-1</td>\n",
       "      <td>E. Machado Souto</td>\n",
       "      <td>E. Machado Souto</td>\n",
       "      <td>estadio raimundo sampaio</td>\n",
       "      <td>2</td>\n",
       "      <td>1</td>\n",
       "      <td>...</td>\n",
       "      <td>1.0</td>\n",
       "      <td>0.866025</td>\n",
       "      <td>-0.5</td>\n",
       "      <td>-0.587785</td>\n",
       "      <td>0.809017</td>\n",
       "      <td>0.885456</td>\n",
       "      <td>-0.464723</td>\n",
       "      <td>0.164595</td>\n",
       "      <td>0.986361</td>\n",
       "      <td>1.0</td>\n",
       "    </tr>\n",
       "    <tr>\n",
       "      <th>2</th>\n",
       "      <td>-0.964787</td>\n",
       "      <td>Chapecoense</td>\n",
       "      <td>Internacional</td>\n",
       "      <td>4-2-3-1</td>\n",
       "      <td>4-3-3</td>\n",
       "      <td>O. Hellmann</td>\n",
       "      <td>O. Hellmann</td>\n",
       "      <td>arena conda</td>\n",
       "      <td>2</td>\n",
       "      <td>0</td>\n",
       "      <td>...</td>\n",
       "      <td>2.0</td>\n",
       "      <td>0.866025</td>\n",
       "      <td>-0.5</td>\n",
       "      <td>-0.587785</td>\n",
       "      <td>0.809017</td>\n",
       "      <td>0.885456</td>\n",
       "      <td>-0.464723</td>\n",
       "      <td>0.164595</td>\n",
       "      <td>0.986361</td>\n",
       "      <td>1.0</td>\n",
       "    </tr>\n",
       "    <tr>\n",
       "      <th>3</th>\n",
       "      <td>-0.707107</td>\n",
       "      <td>Flamengo</td>\n",
       "      <td>Cruzeiro</td>\n",
       "      <td>4-2-3-1</td>\n",
       "      <td>4-2-3-1</td>\n",
       "      <td>L. Venker de Menezes</td>\n",
       "      <td>L. Venker de Menezes</td>\n",
       "      <td>maracana</td>\n",
       "      <td>3</td>\n",
       "      <td>1</td>\n",
       "      <td>...</td>\n",
       "      <td>1.0</td>\n",
       "      <td>0.866025</td>\n",
       "      <td>-0.5</td>\n",
       "      <td>-0.587785</td>\n",
       "      <td>0.809017</td>\n",
       "      <td>0.885456</td>\n",
       "      <td>-0.464723</td>\n",
       "      <td>0.164595</td>\n",
       "      <td>0.986361</td>\n",
       "      <td>1.0</td>\n",
       "    </tr>\n",
       "    <tr>\n",
       "      <th>4</th>\n",
       "      <td>0.246153</td>\n",
       "      <td>Gremio</td>\n",
       "      <td>Santos</td>\n",
       "      <td>4-2-3-1</td>\n",
       "      <td>3-4-1-2</td>\n",
       "      <td>J. Sampaoli Moya</td>\n",
       "      <td>J. Sampaoli Moya</td>\n",
       "      <td>arena do gremio</td>\n",
       "      <td>1</td>\n",
       "      <td>2</td>\n",
       "      <td>...</td>\n",
       "      <td>1.0</td>\n",
       "      <td>0.866025</td>\n",
       "      <td>-0.5</td>\n",
       "      <td>-0.406737</td>\n",
       "      <td>0.913545</td>\n",
       "      <td>0.885456</td>\n",
       "      <td>-0.464723</td>\n",
       "      <td>0.164595</td>\n",
       "      <td>0.986361</td>\n",
       "      <td>2.0</td>\n",
       "    </tr>\n",
       "  </tbody>\n",
       "</table>\n",
       "<p>5 rows × 44 columns</p>\n",
       "</div>"
      ],
      "text/plain": [
       "   hora_sin     mandante      visitante formacao_mandante formacao_visitante  \\\n",
       "0 -0.870356    Sao Paulo    Botafogo-RJ           4-2-3-1            4-1-4-1   \n",
       "1 -0.965926  Atletico-MG           Avai           4-2-3-1            4-1-4-1   \n",
       "2 -0.964787  Chapecoense  Internacional           4-2-3-1              4-3-3   \n",
       "3 -0.707107     Flamengo       Cruzeiro           4-2-3-1            4-2-3-1   \n",
       "4  0.246153       Gremio         Santos           4-2-3-1            3-4-1-2   \n",
       "\n",
       "       tecnico_mandante     tecnico_visitante                     arena  \\\n",
       "0   E. de Souza Barroca   E. de Souza Barroca                   morumbi   \n",
       "1      E. Machado Souto      E. Machado Souto  estadio raimundo sampaio   \n",
       "2           O. Hellmann           O. Hellmann               arena conda   \n",
       "3  L. Venker de Menezes  L. Venker de Menezes                  maracana   \n",
       "4      J. Sampaoli Moya      J. Sampaoli Moya           arena do gremio   \n",
       "\n",
       "   mandante_placar  visitante_placar  ... visitante_impedimentos   mes_sin  \\\n",
       "0                2                 0  ...                    1.0  0.866025   \n",
       "1                2                 1  ...                    1.0  0.866025   \n",
       "2                2                 0  ...                    2.0  0.866025   \n",
       "3                3                 1  ...                    1.0  0.866025   \n",
       "4                1                 2  ...                    1.0  0.866025   \n",
       "\n",
       "  mes_cos  dia_do_mes_sin  dia_do_mes_cos  semana_do_ano_sin  \\\n",
       "0    -0.5       -0.587785        0.809017           0.885456   \n",
       "1    -0.5       -0.587785        0.809017           0.885456   \n",
       "2    -0.5       -0.587785        0.809017           0.885456   \n",
       "3    -0.5       -0.587785        0.809017           0.885456   \n",
       "4    -0.5       -0.406737        0.913545           0.885456   \n",
       "\n",
       "   semana_do_ano_cos  rodadas_sin  rodadas_cos  resultado_final  \n",
       "0          -0.464723     0.164595     0.986361              1.0  \n",
       "1          -0.464723     0.164595     0.986361              1.0  \n",
       "2          -0.464723     0.164595     0.986361              1.0  \n",
       "3          -0.464723     0.164595     0.986361              1.0  \n",
       "4          -0.464723     0.164595     0.986361              2.0  \n",
       "\n",
       "[5 rows x 44 columns]"
      ]
     },
     "execution_count": 375,
     "metadata": {},
     "output_type": "execute_result"
    }
   ],
   "source": [
    "df3.head()"
   ]
  },
  {
   "cell_type": "code",
   "execution_count": 376,
   "id": "1f3c520b",
   "metadata": {
    "ExecuteTime": {
     "end_time": "2022-03-22T16:39:44.116452Z",
     "start_time": "2022-03-22T16:39:44.109118Z"
    }
   },
   "outputs": [],
   "source": [
    "columns = df3_numeric.columns.tolist()"
   ]
  },
  {
   "cell_type": "code",
   "execution_count": 377,
   "id": "44fa07a7",
   "metadata": {
    "ExecuteTime": {
     "end_time": "2022-03-22T16:39:45.027928Z",
     "start_time": "2022-03-22T16:39:44.996115Z"
    }
   },
   "outputs": [],
   "source": [
    "ss = StandardScaler()\n",
    "df3_numeric_scaled = pd.DataFrame(ss.fit_transform(df3_numeric), columns=columns)"
   ]
  },
  {
   "cell_type": "code",
   "execution_count": 378,
   "id": "93ef12a8",
   "metadata": {
    "ExecuteTime": {
     "end_time": "2022-03-22T16:39:45.486530Z",
     "start_time": "2022-03-22T16:39:45.434714Z"
    }
   },
   "outputs": [
    {
     "data": {
      "text/html": [
       "<div>\n",
       "<style scoped>\n",
       "    .dataframe tbody tr th:only-of-type {\n",
       "        vertical-align: middle;\n",
       "    }\n",
       "\n",
       "    .dataframe tbody tr th {\n",
       "        vertical-align: top;\n",
       "    }\n",
       "\n",
       "    .dataframe thead th {\n",
       "        text-align: right;\n",
       "    }\n",
       "</style>\n",
       "<table border=\"1\" class=\"dataframe\">\n",
       "  <thead>\n",
       "    <tr style=\"text-align: right;\">\n",
       "      <th></th>\n",
       "      <th>hora_sin</th>\n",
       "      <th>mandante_placar</th>\n",
       "      <th>visitante_placar</th>\n",
       "      <th>n_gols_mandante_ultima</th>\n",
       "      <th>n_gols_visitante_ultima</th>\n",
       "      <th>mandante_chutes</th>\n",
       "      <th>visitante_chutes</th>\n",
       "      <th>mandante_chutes_no_alvo</th>\n",
       "      <th>visitante_chutes_no_alvo</th>\n",
       "      <th>mandante_posse_de_bola</th>\n",
       "      <th>...</th>\n",
       "      <th>mandante_impedimentos</th>\n",
       "      <th>visitante_impedimentos</th>\n",
       "      <th>mes_sin</th>\n",
       "      <th>mes_cos</th>\n",
       "      <th>dia_do_mes_sin</th>\n",
       "      <th>dia_do_mes_cos</th>\n",
       "      <th>semana_do_ano_sin</th>\n",
       "      <th>semana_do_ano_cos</th>\n",
       "      <th>rodadas_sin</th>\n",
       "      <th>rodadas_cos</th>\n",
       "    </tr>\n",
       "  </thead>\n",
       "  <tbody>\n",
       "    <tr>\n",
       "      <th>0</th>\n",
       "      <td>-0.202792</td>\n",
       "      <td>0.562091</td>\n",
       "      <td>-0.979600</td>\n",
       "      <td>-1.054064</td>\n",
       "      <td>-1.070022</td>\n",
       "      <td>-1.455842</td>\n",
       "      <td>-0.084266</td>\n",
       "      <td>-0.330471</td>\n",
       "      <td>-0.815287</td>\n",
       "      <td>-2.170772</td>\n",
       "      <td>...</td>\n",
       "      <td>0.423443</td>\n",
       "      <td>-0.280807</td>\n",
       "      <td>2.266602</td>\n",
       "      <td>-0.876216</td>\n",
       "      <td>-0.977710</td>\n",
       "      <td>1.180711</td>\n",
       "      <td>2.282713</td>\n",
       "      <td>-0.700326</td>\n",
       "      <td>0.229111</td>\n",
       "      <td>1.391262</td>\n",
       "    </tr>\n",
       "    <tr>\n",
       "      <th>1</th>\n",
       "      <td>-0.575607</td>\n",
       "      <td>0.562091</td>\n",
       "      <td>0.021530</td>\n",
       "      <td>-1.054064</td>\n",
       "      <td>-1.070022</td>\n",
       "      <td>-0.682902</td>\n",
       "      <td>-1.201145</td>\n",
       "      <td>-0.735308</td>\n",
       "      <td>-1.298485</td>\n",
       "      <td>0.775400</td>\n",
       "      <td>...</td>\n",
       "      <td>-1.072007</td>\n",
       "      <td>-0.280807</td>\n",
       "      <td>2.266602</td>\n",
       "      <td>-0.876216</td>\n",
       "      <td>-0.977710</td>\n",
       "      <td>1.180711</td>\n",
       "      <td>2.282713</td>\n",
       "      <td>-0.700326</td>\n",
       "      <td>0.229111</td>\n",
       "      <td>1.391262</td>\n",
       "    </tr>\n",
       "    <tr>\n",
       "      <th>2</th>\n",
       "      <td>-0.571165</td>\n",
       "      <td>0.562091</td>\n",
       "      <td>-0.979600</td>\n",
       "      <td>-1.054064</td>\n",
       "      <td>-1.070022</td>\n",
       "      <td>-0.489667</td>\n",
       "      <td>1.926116</td>\n",
       "      <td>0.884038</td>\n",
       "      <td>1.600699</td>\n",
       "      <td>-0.789754</td>\n",
       "      <td>...</td>\n",
       "      <td>-1.072007</td>\n",
       "      <td>0.506581</td>\n",
       "      <td>2.266602</td>\n",
       "      <td>-0.876216</td>\n",
       "      <td>-0.977710</td>\n",
       "      <td>1.180711</td>\n",
       "      <td>2.282713</td>\n",
       "      <td>-0.700326</td>\n",
       "      <td>0.229111</td>\n",
       "      <td>1.391262</td>\n",
       "    </tr>\n",
       "    <tr>\n",
       "      <th>3</th>\n",
       "      <td>0.434035</td>\n",
       "      <td>1.443120</td>\n",
       "      <td>0.021530</td>\n",
       "      <td>-1.054064</td>\n",
       "      <td>-1.070022</td>\n",
       "      <td>0.476508</td>\n",
       "      <td>-2.094649</td>\n",
       "      <td>0.074365</td>\n",
       "      <td>-1.298485</td>\n",
       "      <td>0.591264</td>\n",
       "      <td>...</td>\n",
       "      <td>-1.072007</td>\n",
       "      <td>-0.280807</td>\n",
       "      <td>2.266602</td>\n",
       "      <td>-0.876216</td>\n",
       "      <td>-0.977710</td>\n",
       "      <td>1.180711</td>\n",
       "      <td>2.282713</td>\n",
       "      <td>-0.700326</td>\n",
       "      <td>0.229111</td>\n",
       "      <td>1.391262</td>\n",
       "    </tr>\n",
       "    <tr>\n",
       "      <th>4</th>\n",
       "      <td>4.152659</td>\n",
       "      <td>-0.318939</td>\n",
       "      <td>1.022659</td>\n",
       "      <td>-1.054064</td>\n",
       "      <td>-1.070022</td>\n",
       "      <td>2.215623</td>\n",
       "      <td>-0.754394</td>\n",
       "      <td>2.503383</td>\n",
       "      <td>0.634305</td>\n",
       "      <td>1.235739</td>\n",
       "      <td>...</td>\n",
       "      <td>0.423443</td>\n",
       "      <td>-0.280807</td>\n",
       "      <td>2.266602</td>\n",
       "      <td>-0.876216</td>\n",
       "      <td>-0.717075</td>\n",
       "      <td>1.327360</td>\n",
       "      <td>2.282713</td>\n",
       "      <td>-0.700326</td>\n",
       "      <td>0.229111</td>\n",
       "      <td>1.391262</td>\n",
       "    </tr>\n",
       "  </tbody>\n",
       "</table>\n",
       "<p>5 rows × 31 columns</p>\n",
       "</div>"
      ],
      "text/plain": [
       "   hora_sin  mandante_placar  visitante_placar  n_gols_mandante_ultima  \\\n",
       "0 -0.202792         0.562091         -0.979600               -1.054064   \n",
       "1 -0.575607         0.562091          0.021530               -1.054064   \n",
       "2 -0.571165         0.562091         -0.979600               -1.054064   \n",
       "3  0.434035         1.443120          0.021530               -1.054064   \n",
       "4  4.152659        -0.318939          1.022659               -1.054064   \n",
       "\n",
       "   n_gols_visitante_ultima  mandante_chutes  visitante_chutes  \\\n",
       "0                -1.070022        -1.455842         -0.084266   \n",
       "1                -1.070022        -0.682902         -1.201145   \n",
       "2                -1.070022        -0.489667          1.926116   \n",
       "3                -1.070022         0.476508         -2.094649   \n",
       "4                -1.070022         2.215623         -0.754394   \n",
       "\n",
       "   mandante_chutes_no_alvo  visitante_chutes_no_alvo  mandante_posse_de_bola  \\\n",
       "0                -0.330471                 -0.815287               -2.170772   \n",
       "1                -0.735308                 -1.298485                0.775400   \n",
       "2                 0.884038                  1.600699               -0.789754   \n",
       "3                 0.074365                 -1.298485                0.591264   \n",
       "4                 2.503383                  0.634305                1.235739   \n",
       "\n",
       "   ...  mandante_impedimentos  visitante_impedimentos   mes_sin   mes_cos  \\\n",
       "0  ...               0.423443               -0.280807  2.266602 -0.876216   \n",
       "1  ...              -1.072007               -0.280807  2.266602 -0.876216   \n",
       "2  ...              -1.072007                0.506581  2.266602 -0.876216   \n",
       "3  ...              -1.072007               -0.280807  2.266602 -0.876216   \n",
       "4  ...               0.423443               -0.280807  2.266602 -0.876216   \n",
       "\n",
       "   dia_do_mes_sin  dia_do_mes_cos  semana_do_ano_sin  semana_do_ano_cos  \\\n",
       "0       -0.977710        1.180711           2.282713          -0.700326   \n",
       "1       -0.977710        1.180711           2.282713          -0.700326   \n",
       "2       -0.977710        1.180711           2.282713          -0.700326   \n",
       "3       -0.977710        1.180711           2.282713          -0.700326   \n",
       "4       -0.717075        1.327360           2.282713          -0.700326   \n",
       "\n",
       "   rodadas_sin  rodadas_cos  \n",
       "0     0.229111     1.391262  \n",
       "1     0.229111     1.391262  \n",
       "2     0.229111     1.391262  \n",
       "3     0.229111     1.391262  \n",
       "4     0.229111     1.391262  \n",
       "\n",
       "[5 rows x 31 columns]"
      ]
     },
     "execution_count": 378,
     "metadata": {},
     "output_type": "execute_result"
    }
   ],
   "source": [
    "df3_numeric_scaled.head()"
   ]
  },
  {
   "cell_type": "code",
   "execution_count": 394,
   "id": "29d33c1e",
   "metadata": {
    "ExecuteTime": {
     "end_time": "2022-03-22T16:42:06.647510Z",
     "start_time": "2022-03-22T16:42:06.627862Z"
    }
   },
   "outputs": [],
   "source": [
    "df3_final = pd.concat([df3_cat_dummies, df3_vitoria, df3_numeric_scaled, df3_target], axis = 1)\n",
    "\n",
    "min_columns = [\n",
    "               'hora_sin',\n",
    "               'mandante_placar',\n",
    "               'visitante_placar',\n",
    "               'mandante_chutes_no_alvo',\n",
    "               'visitante_chutes_no_alvo',\n",
    "               'mandante_passes',\n",
    "               'visitante_passes',\n",
    "               'mandante_precisao_passes',\n",
    "               'visitante_precisao_passes',\n",
    "               'mandante_faltas',\n",
    "               'visitante_faltas',\n",
    "               'mandante_cartao_amarelo',\n",
    "               'visitante_cartao_amarelo',\n",
    "               'mandante_cartao_vermelho',\n",
    "               'visitante_cartao_vermelho',\n",
    "               'mandante_impedimentos',\n",
    "               'visitante_impedimentos',\n",
    "               'mes_sin',\n",
    "               'mes_cos',\n",
    "               'dia_do_mes_sin',\n",
    "               'dia_do_mes_cos',\n",
    "               'semana_do_ano_sin',\n",
    "               'semana_do_ano_cos',\n",
    "               'rodadas_sin',\n",
    "               'rodadas_cos',\n",
    "               ]\n",
    "\n",
    "df3_final = df3_final.drop(min_columns, axis = 1)"
   ]
  },
  {
   "cell_type": "code",
   "execution_count": 395,
   "id": "e02cf7b9",
   "metadata": {
    "ExecuteTime": {
     "end_time": "2022-03-22T16:42:12.294849Z",
     "start_time": "2022-03-22T16:42:07.460239Z"
    }
   },
   "outputs": [
    {
     "data": {
      "text/html": [
       "<div>\n",
       "<style scoped>\n",
       "    .dataframe tbody tr th:only-of-type {\n",
       "        vertical-align: middle;\n",
       "    }\n",
       "\n",
       "    .dataframe tbody tr th {\n",
       "        vertical-align: top;\n",
       "    }\n",
       "\n",
       "    .dataframe thead th {\n",
       "        text-align: right;\n",
       "    }\n",
       "</style>\n",
       "<table border=\"1\" class=\"dataframe\">\n",
       "  <thead>\n",
       "    <tr style=\"text-align: right;\">\n",
       "      <th></th>\n",
       "      <th>Var</th>\n",
       "      <th>Vif</th>\n",
       "    </tr>\n",
       "  </thead>\n",
       "  <tbody>\n",
       "    <tr>\n",
       "      <th>0</th>\n",
       "      <td>mandante_America-MG</td>\n",
       "      <td>inf</td>\n",
       "    </tr>\n",
       "    <tr>\n",
       "      <th>83</th>\n",
       "      <td>formacao_visitante_4-2-2-2</td>\n",
       "      <td>inf</td>\n",
       "    </tr>\n",
       "    <tr>\n",
       "      <th>97</th>\n",
       "      <td>arena_arena barueri</td>\n",
       "      <td>inf</td>\n",
       "    </tr>\n",
       "    <tr>\n",
       "      <th>96</th>\n",
       "      <td>arena_allianz parque</td>\n",
       "      <td>inf</td>\n",
       "    </tr>\n",
       "    <tr>\n",
       "      <th>95</th>\n",
       "      <td>arena_alfredo jaconi</td>\n",
       "      <td>inf</td>\n",
       "    </tr>\n",
       "    <tr>\n",
       "      <th>...</th>\n",
       "      <td>...</td>\n",
       "      <td>...</td>\n",
       "    </tr>\n",
       "    <tr>\n",
       "      <th>130</th>\n",
       "      <td>mandante_venceu_ultima</td>\n",
       "      <td>1.81</td>\n",
       "    </tr>\n",
       "    <tr>\n",
       "      <th>133</th>\n",
       "      <td>n_gols_visitante_ultima</td>\n",
       "      <td>1.81</td>\n",
       "    </tr>\n",
       "    <tr>\n",
       "      <th>131</th>\n",
       "      <td>visitante_venceu_ultima</td>\n",
       "      <td>1.75</td>\n",
       "    </tr>\n",
       "    <tr>\n",
       "      <th>135</th>\n",
       "      <td>visitante_chutes</td>\n",
       "      <td>1.57</td>\n",
       "    </tr>\n",
       "    <tr>\n",
       "      <th>134</th>\n",
       "      <td>mandante_chutes</td>\n",
       "      <td>1.55</td>\n",
       "    </tr>\n",
       "  </tbody>\n",
       "</table>\n",
       "<p>138 rows × 2 columns</p>\n",
       "</div>"
      ],
      "text/plain": [
       "                            Var   Vif\n",
       "0           mandante_America-MG   inf\n",
       "83   formacao_visitante_4-2-2-2   inf\n",
       "97          arena_arena barueri   inf\n",
       "96         arena_allianz parque   inf\n",
       "95         arena_alfredo jaconi   inf\n",
       "..                          ...   ...\n",
       "130      mandante_venceu_ultima  1.81\n",
       "133     n_gols_visitante_ultima  1.81\n",
       "131     visitante_venceu_ultima  1.75\n",
       "135            visitante_chutes  1.57\n",
       "134             mandante_chutes  1.55\n",
       "\n",
       "[138 rows x 2 columns]"
      ]
     },
     "execution_count": 395,
     "metadata": {},
     "output_type": "execute_result"
    }
   ],
   "source": [
    "# Function to calculate VIF\n",
    "def calculate_vif(data):\n",
    "    vif_df = pd.DataFrame(columns = ['Var', 'Vif'])\n",
    "    x_var_names = data.columns\n",
    "    for i in range(0, x_var_names.shape[0]):\n",
    "        y = data[x_var_names[i]]\n",
    "        x = data[x_var_names.drop([x_var_names[i]])]\n",
    "        r_squared = sm.OLS(y,x).fit().rsquared\n",
    "        vif = round(1/(1-r_squared),2)\n",
    "        vif_df.loc[i] = [x_var_names[i], vif]\n",
    "    return vif_df.sort_values(by = 'Vif', axis = 0, ascending=False, inplace=False)\n",
    "\n",
    "X=df3_final.drop(['resultado_final'],axis=1)\n",
    "calculate_vif(X)"
   ]
  },
  {
   "cell_type": "markdown",
   "id": "356beb22",
   "metadata": {},
   "source": [
    "# 4.0 Feature selection and scaling "
   ]
  },
  {
   "cell_type": "code",
   "execution_count": 396,
   "id": "853aba73",
   "metadata": {
    "ExecuteTime": {
     "end_time": "2022-03-22T16:42:12.302278Z",
     "start_time": "2022-03-22T16:42:12.299620Z"
    }
   },
   "outputs": [],
   "source": [
    "df4 = df3_final.copy()"
   ]
  },
  {
   "cell_type": "code",
   "execution_count": 397,
   "id": "535854d4",
   "metadata": {
    "ExecuteTime": {
     "end_time": "2022-03-22T16:42:12.313792Z",
     "start_time": "2022-03-22T16:42:12.304320Z"
    }
   },
   "outputs": [],
   "source": [
    "df4 = df4.dropna()"
   ]
  },
  {
   "cell_type": "code",
   "execution_count": 398,
   "id": "004fd3d1",
   "metadata": {
    "ExecuteTime": {
     "end_time": "2022-03-22T16:42:12.319410Z",
     "start_time": "2022-03-22T16:42:12.315925Z"
    }
   },
   "outputs": [
    {
     "data": {
      "text/plain": [
       "(1116, 139)"
      ]
     },
     "execution_count": 398,
     "metadata": {},
     "output_type": "execute_result"
    }
   ],
   "source": [
    "df4.shape"
   ]
  },
  {
   "cell_type": "code",
   "execution_count": 399,
   "id": "62a7f358",
   "metadata": {
    "ExecuteTime": {
     "end_time": "2022-03-22T16:42:12.324830Z",
     "start_time": "2022-03-22T16:42:12.320887Z"
    }
   },
   "outputs": [],
   "source": [
    "X = df4.drop(['resultado_final'], axis=1)\n",
    "y = df4.resultado_final"
   ]
  },
  {
   "cell_type": "code",
   "execution_count": 400,
   "id": "9b016aa6",
   "metadata": {
    "ExecuteTime": {
     "end_time": "2022-03-22T16:42:12.334913Z",
     "start_time": "2022-03-22T16:42:12.327616Z"
    }
   },
   "outputs": [],
   "source": [
    "X_train, X_test, y_train, y_test = train_test_split(X, y,shuffle=False)"
   ]
  },
  {
   "cell_type": "code",
   "execution_count": 401,
   "id": "c964ca3f",
   "metadata": {
    "ExecuteTime": {
     "end_time": "2022-03-22T16:42:12.339472Z",
     "start_time": "2022-03-22T16:42:12.336600Z"
    }
   },
   "outputs": [],
   "source": [
    "undersampling = RandomOverSampler(random_state=32)"
   ]
  },
  {
   "cell_type": "code",
   "execution_count": 402,
   "id": "a9567861",
   "metadata": {
    "ExecuteTime": {
     "end_time": "2022-03-22T16:42:12.408144Z",
     "start_time": "2022-03-22T16:42:12.341066Z"
    }
   },
   "outputs": [],
   "source": [
    "X_train, y_train = undersampling.fit_resample(X_train, y_train)"
   ]
  },
  {
   "cell_type": "code",
   "execution_count": 403,
   "id": "de0c02d4",
   "metadata": {
    "ExecuteTime": {
     "end_time": "2022-03-22T16:42:12.550131Z",
     "start_time": "2022-03-22T16:42:12.409819Z"
    }
   },
   "outputs": [
    {
     "data": {
      "text/plain": [
       "<AxesSubplot:xlabel='resultado_final', ylabel='count'>"
      ]
     },
     "execution_count": 403,
     "metadata": {},
     "output_type": "execute_result"
    },
    {
     "data": {
      "image/png": "[encoded data removed]",
      "text/plain": [
       "<Figure size 432x288 with 1 Axes>"
      ]
     },
     "metadata": {
      "needs_background": "light"
     },
     "output_type": "display_data"
    }
   ],
   "source": [
    "sns.countplot(y_train)"
   ]
  },
  {
   "cell_type": "markdown",
   "id": "e0204b6a",
   "metadata": {},
   "source": [
    "# 5.0 Machine Learning Models "
   ]
  },
  {
   "cell_type": "markdown",
   "id": "e9bde165",
   "metadata": {},
   "source": [
    "## 5.1 Logistic Regression "
   ]
  },
  {
   "cell_type": "code",
   "execution_count": 404,
   "id": "3c3e4606",
   "metadata": {
    "ExecuteTime": {
     "end_time": "2022-03-22T16:42:12.860118Z",
     "start_time": "2022-03-22T16:42:12.552869Z"
    }
   },
   "outputs": [],
   "source": [
    "clf_lg = LogisticRegression().fit(X_train, y_train)\n",
    "y_hat_lg = clf_lg.predict(X_test)"
   ]
  },
  {
   "cell_type": "code",
   "execution_count": 405,
   "id": "ab386e06",
   "metadata": {
    "ExecuteTime": {
     "end_time": "2022-03-22T16:42:12.868003Z",
     "start_time": "2022-03-22T16:42:12.863586Z"
    }
   },
   "outputs": [
    {
     "data": {
      "text/plain": [
       "0.4767025089605735"
      ]
     },
     "execution_count": 405,
     "metadata": {},
     "output_type": "execute_result"
    }
   ],
   "source": [
    "accuracy_score(y_test, y_hat_lg)"
   ]
  },
  {
   "cell_type": "code",
   "execution_count": 406,
   "id": "e113aa05",
   "metadata": {
    "ExecuteTime": {
     "end_time": "2022-03-22T16:42:14.136376Z",
     "start_time": "2022-03-22T16:42:13.898367Z"
    }
   },
   "outputs": [
    {
     "data": {
      "image/png": "[encoded data removed]",
      "text/plain": [
       "<Figure size 432x288 with 2 Axes>"
      ]
     },
     "metadata": {
      "needs_background": "light"
     },
     "output_type": "display_data"
    }
   ],
   "source": [
    "sns.heatmap(confusion_matrix(y_test, y_hat_lg, normalize='true'), annot=True);"
   ]
  },
  {
   "cell_type": "code",
   "execution_count": 407,
   "id": "0b2a62b4",
   "metadata": {
    "ExecuteTime": {
     "end_time": "2022-03-22T16:42:16.582922Z",
     "start_time": "2022-03-22T16:42:16.537734Z"
    }
   },
   "outputs": [
    {
     "name": "stdout",
     "output_type": "stream",
     "text": [
      "              precision    recall  f1-score   support\n",
      "\n",
      "         0.0       0.33      0.39      0.36        80\n",
      "         1.0       0.66      0.54      0.60       134\n",
      "         2.0       0.39      0.45      0.41        65\n",
      "\n",
      "    accuracy                           0.48       279\n",
      "   macro avg       0.46      0.46      0.46       279\n",
      "weighted avg       0.50      0.48      0.49       279\n",
      "\n"
     ]
    }
   ],
   "source": [
    "print(classification_report(y_test, y_hat_lg))"
   ]
  },
  {
   "cell_type": "markdown",
   "id": "97562ef9",
   "metadata": {},
   "source": [
    "## 5.2 XGBoost "
   ]
  },
  {
   "cell_type": "code",
   "execution_count": 408,
   "id": "ccf54b7d",
   "metadata": {
    "ExecuteTime": {
     "end_time": "2022-03-22T16:42:24.526202Z",
     "start_time": "2022-03-22T16:42:17.186406Z"
    }
   },
   "outputs": [
    {
     "name": "stdout",
     "output_type": "stream",
     "text": [
      "[13:42:23] WARNING: ../src/learner.cc:1115: Starting in XGBoost 1.3.0, the default evaluation metric used with the objective 'multi:softprob' was changed from 'merror' to 'mlogloss'. Explicitly set eval_metric if you'd like to restore the old behavior.\n"
     ]
    }
   ],
   "source": [
    "clf_xgb = xgb.XGBRFClassifier(n_estimators = 1000).fit(X_train, y_train)\n",
    "yhat_xgb = clf_xgb.predict(X_test)"
   ]
  },
  {
   "cell_type": "code",
   "execution_count": 409,
   "id": "4f31c151",
   "metadata": {
    "ExecuteTime": {
     "end_time": "2022-03-22T16:42:24.533461Z",
     "start_time": "2022-03-22T16:42:24.528586Z"
    }
   },
   "outputs": [
    {
     "data": {
      "text/plain": [
       "0.43727598566308246"
      ]
     },
     "execution_count": 409,
     "metadata": {},
     "output_type": "execute_result"
    }
   ],
   "source": [
    "accuracy_score(y_test, yhat_xgb)"
   ]
  },
  {
   "cell_type": "code",
   "execution_count": 410,
   "id": "d0b9b6e2",
   "metadata": {
    "ExecuteTime": {
     "end_time": "2022-03-22T16:42:24.723040Z",
     "start_time": "2022-03-22T16:42:24.535350Z"
    }
   },
   "outputs": [
    {
     "data": {
      "text/plain": [
       "<AxesSubplot:>"
      ]
     },
     "execution_count": 410,
     "metadata": {},
     "output_type": "execute_result"
    },
    {
     "data": {
      "image/png": "[encoded data removed]",
      "text/plain": [
       "<Figure size 432x288 with 2 Axes>"
      ]
     },
     "metadata": {
      "needs_background": "light"
     },
     "output_type": "display_data"
    }
   ],
   "source": [
    "sns.heatmap(confusion_matrix(y_test, yhat_xgb, normalize='true'), annot=True, )"
   ]
  },
  {
   "cell_type": "code",
   "execution_count": 411,
   "id": "5014ed35",
   "metadata": {
    "ExecuteTime": {
     "end_time": "2022-03-22T16:42:24.736312Z",
     "start_time": "2022-03-22T16:42:24.724942Z"
    }
   },
   "outputs": [
    {
     "name": "stdout",
     "output_type": "stream",
     "text": [
      "              precision    recall  f1-score   support\n",
      "\n",
      "         0.0       0.34      0.50      0.41        80\n",
      "         1.0       0.74      0.37      0.49       134\n",
      "         2.0       0.34      0.51      0.41        65\n",
      "\n",
      "    accuracy                           0.44       279\n",
      "   macro avg       0.48      0.46      0.44       279\n",
      "weighted avg       0.53      0.44      0.45       279\n",
      "\n"
     ]
    }
   ],
   "source": [
    "print(classification_report(y_test, yhat_xgb))"
   ]
  },
  {
   "cell_type": "markdown",
   "id": "94bca91f",
   "metadata": {},
   "source": [
    "## 5.3 Random Forests"
   ]
  },
  {
   "cell_type": "code",
   "execution_count": 412,
   "id": "d719d49e",
   "metadata": {
    "ExecuteTime": {
     "end_time": "2022-03-22T16:42:32.995301Z",
     "start_time": "2022-03-22T16:42:28.388996Z"
    }
   },
   "outputs": [],
   "source": [
    "clf_rf = RandomForestClassifier(n_estimators = 2000, n_jobs = -1, random_state = 42).fit(X_train, y_train)\n",
    "yhat_rf = clf_rf.predict(X_test)"
   ]
  },
  {
   "cell_type": "code",
   "execution_count": 413,
   "id": "6ab30c6e",
   "metadata": {
    "ExecuteTime": {
     "end_time": "2022-03-22T16:42:33.001874Z",
     "start_time": "2022-03-22T16:42:32.997437Z"
    }
   },
   "outputs": [
    {
     "data": {
      "text/plain": [
       "0.5125448028673835"
      ]
     },
     "execution_count": 413,
     "metadata": {},
     "output_type": "execute_result"
    }
   ],
   "source": [
    "accuracy_score(y_test, yhat_rf)"
   ]
  },
  {
   "cell_type": "code",
   "execution_count": 414,
   "id": "e3d33899",
   "metadata": {
    "ExecuteTime": {
     "end_time": "2022-03-22T16:42:33.202432Z",
     "start_time": "2022-03-22T16:42:33.003862Z"
    }
   },
   "outputs": [
    {
     "data": {
      "image/png": "[encoded data removed]",
      "text/plain": [
       "<Figure size 432x288 with 2 Axes>"
      ]
     },
     "metadata": {
      "needs_background": "light"
     },
     "output_type": "display_data"
    }
   ],
   "source": [
    "sns.heatmap(confusion_matrix(y_test, yhat_rf, normalize='true'), annot=True, );"
   ]
  },
  {
   "cell_type": "code",
   "execution_count": 415,
   "id": "71b84c06",
   "metadata": {
    "ExecuteTime": {
     "end_time": "2022-03-22T16:42:37.741664Z",
     "start_time": "2022-03-22T16:42:37.701799Z"
    }
   },
   "outputs": [
    {
     "name": "stdout",
     "output_type": "stream",
     "text": [
      "              precision    recall  f1-score   support\n",
      "\n",
      "         0.0       0.36      0.31      0.34        80\n",
      "         1.0       0.62      0.75      0.68       134\n",
      "         2.0       0.37      0.26      0.31        65\n",
      "\n",
      "    accuracy                           0.51       279\n",
      "   macro avg       0.45      0.44      0.44       279\n",
      "weighted avg       0.49      0.51      0.49       279\n",
      "\n"
     ]
    }
   ],
   "source": [
    "print(classification_report(y_test, yhat_rf))"
   ]
  },
  {
   "cell_type": "markdown",
   "id": "6b893f61",
   "metadata": {},
   "source": [
    "## 5.4 SVM "
   ]
  },
  {
   "cell_type": "code",
   "execution_count": 416,
   "id": "3994a33f",
   "metadata": {
    "ExecuteTime": {
     "end_time": "2022-03-22T16:42:39.042555Z",
     "start_time": "2022-03-22T16:42:38.762110Z"
    }
   },
   "outputs": [],
   "source": [
    "clf_svc = svm.SVC().fit(X_train, y_train)\n",
    "y_hat_svc = clf_svc.predict(X_test)"
   ]
  },
  {
   "cell_type": "code",
   "execution_count": 417,
   "id": "fd78c083",
   "metadata": {
    "ExecuteTime": {
     "end_time": "2022-03-22T16:42:39.500874Z",
     "start_time": "2022-03-22T16:42:39.484861Z"
    }
   },
   "outputs": [
    {
     "data": {
      "text/plain": [
       "0.5161290322580645"
      ]
     },
     "execution_count": 417,
     "metadata": {},
     "output_type": "execute_result"
    }
   ],
   "source": [
    "accuracy_score(y_test, y_hat_svc)"
   ]
  },
  {
   "cell_type": "code",
   "execution_count": 418,
   "id": "eb9d9cd1",
   "metadata": {
    "ExecuteTime": {
     "end_time": "2022-03-22T16:42:40.363295Z",
     "start_time": "2022-03-22T16:42:40.103573Z"
    }
   },
   "outputs": [
    {
     "data": {
      "image/png": "[encoded data removed]",
      "text/plain": [
       "<Figure size 432x288 with 2 Axes>"
      ]
     },
     "metadata": {
      "needs_background": "light"
     },
     "output_type": "display_data"
    }
   ],
   "source": [
    "sns.heatmap(confusion_matrix(y_test, y_hat_svc, normalize='true'), annot=True);"
   ]
  },
  {
   "cell_type": "code",
   "execution_count": 419,
   "id": "ae3c75cd",
   "metadata": {
    "ExecuteTime": {
     "end_time": "2022-03-22T16:42:41.707556Z",
     "start_time": "2022-03-22T16:42:41.666646Z"
    }
   },
   "outputs": [
    {
     "name": "stdout",
     "output_type": "stream",
     "text": [
      "              precision    recall  f1-score   support\n",
      "\n",
      "         0.0       0.37      0.39      0.38        80\n",
      "         1.0       0.66      0.65      0.66       134\n",
      "         2.0       0.41      0.40      0.40        65\n",
      "\n",
      "    accuracy                           0.52       279\n",
      "   macro avg       0.48      0.48      0.48       279\n",
      "weighted avg       0.52      0.52      0.52       279\n",
      "\n"
     ]
    }
   ],
   "source": [
    "print(classification_report(y_test, y_hat_svc))"
   ]
  },
  {
   "cell_type": "markdown",
   "id": "357a2b0c",
   "metadata": {},
   "source": [
    "## 5.5 Naive Bayes "
   ]
  },
  {
   "cell_type": "code",
   "execution_count": 420,
   "id": "03fbbd88",
   "metadata": {
    "ExecuteTime": {
     "end_time": "2022-03-22T16:42:42.856975Z",
     "start_time": "2022-03-22T16:42:42.812509Z"
    }
   },
   "outputs": [],
   "source": [
    "clf_gb = GaussianNB().fit(X_train, y_train)\n",
    "y_hat_gnb = clf_gb.predict(X_test)"
   ]
  },
  {
   "cell_type": "code",
   "execution_count": 421,
   "id": "06aadac5",
   "metadata": {
    "ExecuteTime": {
     "end_time": "2022-03-22T16:42:43.284634Z",
     "start_time": "2022-03-22T16:42:43.262640Z"
    }
   },
   "outputs": [
    {
     "data": {
      "text/plain": [
       "0.2939068100358423"
      ]
     },
     "execution_count": 421,
     "metadata": {},
     "output_type": "execute_result"
    }
   ],
   "source": [
    "accuracy_score(y_test, y_hat_gnb)"
   ]
  },
  {
   "cell_type": "code",
   "execution_count": 422,
   "id": "3f5c7c8e",
   "metadata": {
    "ExecuteTime": {
     "end_time": "2022-03-22T16:42:44.288905Z",
     "start_time": "2022-03-22T16:42:44.065394Z"
    }
   },
   "outputs": [
    {
     "data": {
      "image/png": "[encoded data removed]",
      "text/plain": [
       "<Figure size 432x288 with 2 Axes>"
      ]
     },
     "metadata": {
      "needs_background": "light"
     },
     "output_type": "display_data"
    }
   ],
   "source": [
    "sns.heatmap(confusion_matrix(y_test, y_hat_gnb, normalize='true'), annot=True, );"
   ]
  },
  {
   "cell_type": "code",
   "execution_count": 423,
   "id": "1ea12c9f",
   "metadata": {
    "ExecuteTime": {
     "end_time": "2022-03-22T16:42:45.202501Z",
     "start_time": "2022-03-22T16:42:45.155943Z"
    }
   },
   "outputs": [
    {
     "name": "stdout",
     "output_type": "stream",
     "text": [
      "              precision    recall  f1-score   support\n",
      "\n",
      "         0.0       0.32      0.41      0.36        80\n",
      "         1.0       0.43      0.07      0.13       134\n",
      "         2.0       0.25      0.60      0.36        65\n",
      "\n",
      "    accuracy                           0.29       279\n",
      "   macro avg       0.34      0.36      0.28       279\n",
      "weighted avg       0.36      0.29      0.25       279\n",
      "\n"
     ]
    }
   ],
   "source": [
    "print(classification_report(y_test, y_hat_gnb))"
   ]
  },
  {
   "cell_type": "markdown",
   "id": "55a278aa",
   "metadata": {},
   "source": [
    "## 5.6 SGD Classifier "
   ]
  },
  {
   "cell_type": "code",
   "execution_count": 424,
   "id": "9a5b2aff",
   "metadata": {
    "ExecuteTime": {
     "end_time": "2022-03-22T16:42:46.319331Z",
     "start_time": "2022-03-22T16:42:46.112074Z"
    }
   },
   "outputs": [],
   "source": [
    "clf_sgd = SGDClassifier().fit(X_train, y_train)\n",
    "y_hat_sgd = clf_sgd.predict(X_test)"
   ]
  },
  {
   "cell_type": "code",
   "execution_count": 425,
   "id": "e4742206",
   "metadata": {
    "ExecuteTime": {
     "end_time": "2022-03-22T16:42:46.565499Z",
     "start_time": "2022-03-22T16:42:46.559424Z"
    },
    "scrolled": true
   },
   "outputs": [
    {
     "data": {
      "text/plain": [
       "0.4731182795698925"
      ]
     },
     "execution_count": 425,
     "metadata": {},
     "output_type": "execute_result"
    }
   ],
   "source": [
    "accuracy_score(y_test, y_hat_sgd)"
   ]
  },
  {
   "cell_type": "code",
   "execution_count": 426,
   "id": "4140c9b9",
   "metadata": {
    "ExecuteTime": {
     "end_time": "2022-03-22T16:42:47.666671Z",
     "start_time": "2022-03-22T16:42:47.438665Z"
    }
   },
   "outputs": [
    {
     "data": {
      "text/plain": [
       "<AxesSubplot:>"
      ]
     },
     "execution_count": 426,
     "metadata": {},
     "output_type": "execute_result"
    },
    {
     "data": {
      "image/png": "[encoded data removed]",
      "text/plain": [
       "<Figure size 432x288 with 2 Axes>"
      ]
     },
     "metadata": {
      "needs_background": "light"
     },
     "output_type": "display_data"
    }
   ],
   "source": [
    "sns.heatmap(confusion_matrix(y_test, y_hat_sgd, normalize='true'), annot=True, )"
   ]
  },
  {
   "cell_type": "code",
   "execution_count": 427,
   "id": "c6b86019",
   "metadata": {
    "ExecuteTime": {
     "end_time": "2022-03-22T16:42:49.089653Z",
     "start_time": "2022-03-22T16:42:49.055417Z"
    }
   },
   "outputs": [
    {
     "name": "stdout",
     "output_type": "stream",
     "text": [
      "              precision    recall  f1-score   support\n",
      "\n",
      "         0.0       0.34      0.29      0.31        80\n",
      "         1.0       0.58      0.61      0.60       134\n",
      "         2.0       0.39      0.42      0.40        65\n",
      "\n",
      "    accuracy                           0.47       279\n",
      "   macro avg       0.44      0.44      0.44       279\n",
      "weighted avg       0.47      0.47      0.47       279\n",
      "\n"
     ]
    }
   ],
   "source": [
    "print(classification_report(y_test, y_hat_sgd))"
   ]
  },
  {
   "cell_type": "markdown",
   "id": "ea707aaf",
   "metadata": {},
   "source": [
    "## 5.7 Decision Tree"
   ]
  },
  {
   "cell_type": "code",
   "execution_count": 428,
   "id": "833849cf",
   "metadata": {
    "ExecuteTime": {
     "end_time": "2022-03-22T16:42:50.153224Z",
     "start_time": "2022-03-22T16:42:50.074723Z"
    }
   },
   "outputs": [],
   "source": [
    "clf_dt = tree.DecisionTreeClassifier().fit(X_train, y_train)\n",
    "y_hat_dt = clf_dt.predict(X_test)"
   ]
  },
  {
   "cell_type": "code",
   "execution_count": 429,
   "id": "69700ec8",
   "metadata": {
    "ExecuteTime": {
     "end_time": "2022-03-22T16:42:50.431571Z",
     "start_time": "2022-03-22T16:42:50.409471Z"
    },
    "scrolled": true
   },
   "outputs": [
    {
     "data": {
      "text/plain": [
       "0.43010752688172044"
      ]
     },
     "execution_count": 429,
     "metadata": {},
     "output_type": "execute_result"
    }
   ],
   "source": [
    "accuracy_score(y_test, y_hat_dt)"
   ]
  },
  {
   "cell_type": "code",
   "execution_count": 430,
   "id": "92ce198d",
   "metadata": {
    "ExecuteTime": {
     "end_time": "2022-03-22T16:42:51.386918Z",
     "start_time": "2022-03-22T16:42:51.153450Z"
    }
   },
   "outputs": [
    {
     "data": {
      "image/png": "[encoded data removed]",
      "text/plain": [
       "<Figure size 432x288 with 2 Axes>"
      ]
     },
     "metadata": {
      "needs_background": "light"
     },
     "output_type": "display_data"
    }
   ],
   "source": [
    "sns.heatmap(confusion_matrix(y_test, y_hat_dt, normalize='true'), annot=True, );"
   ]
  },
  {
   "cell_type": "code",
   "execution_count": 431,
   "id": "023e1c66",
   "metadata": {
    "ExecuteTime": {
     "end_time": "2022-03-22T16:42:52.235098Z",
     "start_time": "2022-03-22T16:42:52.188205Z"
    }
   },
   "outputs": [
    {
     "name": "stdout",
     "output_type": "stream",
     "text": [
      "              precision    recall  f1-score   support\n",
      "\n",
      "         0.0       0.33      0.36      0.35        80\n",
      "         1.0       0.59      0.51      0.54       134\n",
      "         2.0       0.31      0.35      0.33        65\n",
      "\n",
      "    accuracy                           0.43       279\n",
      "   macro avg       0.41      0.41      0.41       279\n",
      "weighted avg       0.45      0.43      0.44       279\n",
      "\n"
     ]
    }
   ],
   "source": [
    "print(classification_report(y_test, y_hat_dt))"
   ]
  },
  {
   "cell_type": "markdown",
   "id": "525fc54f",
   "metadata": {},
   "source": [
    "## 5.8 MLP"
   ]
  },
  {
   "cell_type": "code",
   "execution_count": 432,
   "id": "aa014027",
   "metadata": {
    "ExecuteTime": {
     "end_time": "2022-03-22T16:42:56.589534Z",
     "start_time": "2022-03-22T16:42:53.068479Z"
    }
   },
   "outputs": [],
   "source": [
    "clf_mlp = MLPClassifier(max_iter=500).fit(X_train, y_train)\n",
    "y_hat_mlp = clf_mlp.predict(X_test)"
   ]
  },
  {
   "cell_type": "code",
   "execution_count": 433,
   "id": "6d159af4",
   "metadata": {
    "ExecuteTime": {
     "end_time": "2022-03-22T16:42:56.598887Z",
     "start_time": "2022-03-22T16:42:56.591142Z"
    },
    "scrolled": true
   },
   "outputs": [
    {
     "data": {
      "text/plain": [
       "0.46236559139784944"
      ]
     },
     "execution_count": 433,
     "metadata": {},
     "output_type": "execute_result"
    }
   ],
   "source": [
    "accuracy_score(y_test, y_hat_mlp)"
   ]
  },
  {
   "cell_type": "code",
   "execution_count": 434,
   "id": "1465c2a7",
   "metadata": {
    "ExecuteTime": {
     "end_time": "2022-03-22T16:42:56.814199Z",
     "start_time": "2022-03-22T16:42:56.600381Z"
    }
   },
   "outputs": [
    {
     "data": {
      "image/png": "[encoded data removed]",
      "text/plain": [
       "<Figure size 432x288 with 2 Axes>"
      ]
     },
     "metadata": {
      "needs_background": "light"
     },
     "output_type": "display_data"
    }
   ],
   "source": [
    "sns.heatmap(confusion_matrix(y_test, y_hat_mlp, normalize='true'), annot=True, );"
   ]
  },
  {
   "cell_type": "code",
   "execution_count": 276,
   "id": "9e2d05de",
   "metadata": {
    "ExecuteTime": {
     "end_time": "2022-03-22T14:44:33.995575Z",
     "start_time": "2022-03-22T14:44:33.983454Z"
    }
   },
   "outputs": [
    {
     "name": "stdout",
     "output_type": "stream",
     "text": [
      "              precision    recall  f1-score   support\n",
      "\n",
      "         0.0       0.31      0.23      0.26        80\n",
      "         1.0       0.60      0.57      0.59       134\n",
      "         2.0       0.34      0.48      0.40        65\n",
      "\n",
      "    accuracy                           0.45       279\n",
      "   macro avg       0.41      0.43      0.41       279\n",
      "weighted avg       0.45      0.45      0.45       279\n",
      "\n"
     ]
    }
   ],
   "source": [
    "print(classification_report(y_test, y_hat_mlp))"
   ]
  },
  {
   "cell_type": "markdown",
   "id": "5c1dbbb5",
   "metadata": {},
   "source": [
    "# 6.0 Ensemble "
   ]
  },
  {
   "cell_type": "code",
   "execution_count": 277,
   "id": "f67b8925",
   "metadata": {
    "ExecuteTime": {
     "end_time": "2022-03-22T14:44:34.005570Z",
     "start_time": "2022-03-22T14:44:33.997311Z"
    }
   },
   "outputs": [],
   "source": [
    "import warnings\n",
    "warnings.filterwarnings(\"ignore\")"
   ]
  },
  {
   "cell_type": "code",
   "execution_count": 278,
   "id": "68ad6e89",
   "metadata": {
    "ExecuteTime": {
     "end_time": "2022-03-22T14:44:34.011951Z",
     "start_time": "2022-03-22T14:44:34.007337Z"
    }
   },
   "outputs": [],
   "source": [
    "eclf = VotingClassifier(estimators=[('logistic', clf_lg), ('xgb', clf_xgb), ('random_forest', clf_rf), ('naive_bayes', clf_gb), ('decision_tree', clf_dt), ('mlp', clf_mlp)], voting='hard')"
   ]
  },
  {
   "cell_type": "code",
   "execution_count": 279,
   "id": "26518993",
   "metadata": {
    "ExecuteTime": {
     "end_time": "2022-03-22T14:45:09.246751Z",
     "start_time": "2022-03-22T14:44:34.013721Z"
    }
   },
   "outputs": [
    {
     "name": "stdout",
     "output_type": "stream",
     "text": [
      "Accuracy: 0.50 (+/- 0.01) [logistic]\n",
      "[11:44:37] WARNING: ../src/learner.cc:1115: Starting in XGBoost 1.3.0, the default evaluation metric used with the objective 'multi:softprob' was changed from 'merror' to 'mlogloss'. Explicitly set eval_metric if you'd like to restore the old behavior.\n",
      "[11:44:41] WARNING: ../src/learner.cc:1115: Starting in XGBoost 1.3.0, the default evaluation metric used with the objective 'multi:softprob' was changed from 'merror' to 'mlogloss'. Explicitly set eval_metric if you'd like to restore the old behavior.\n",
      "[11:44:45] WARNING: ../src/learner.cc:1115: Starting in XGBoost 1.3.0, the default evaluation metric used with the objective 'multi:softprob' was changed from 'merror' to 'mlogloss'. Explicitly set eval_metric if you'd like to restore the old behavior.\n",
      "[11:44:49] WARNING: ../src/learner.cc:1115: Starting in XGBoost 1.3.0, the default evaluation metric used with the objective 'multi:softprob' was changed from 'merror' to 'mlogloss'. Explicitly set eval_metric if you'd like to restore the old behavior.\n",
      "[11:44:52] WARNING: ../src/learner.cc:1115: Starting in XGBoost 1.3.0, the default evaluation metric used with the objective 'multi:softprob' was changed from 'merror' to 'mlogloss'. Explicitly set eval_metric if you'd like to restore the old behavior.\n",
      "Accuracy: 0.47 (+/- 0.03) [xgb]\n",
      "Accuracy: 0.45 (+/- 0.02) [random_forest]\n",
      "Accuracy: 0.39 (+/- 0.03) [naive_bayes]\n",
      "Accuracy: 0.39 (+/- 0.01) [decision_tree]\n"
     ]
    }
   ],
   "source": [
    "for clf, label in zip([clf_lg, clf_xgb, clf_rf, clf_gb, clf_dt], ['logistic', 'xgb', 'random_forest', 'naive_bayes', 'decision_tree', 'mlp' ]):\n",
    "    scores = cross_val_score(clf, X, y, scoring='accuracy', cv=5)\n",
    "    print(\"Accuracy: %0.2f (+/- %0.2f) [%s]\" % (scores.mean(), scores.std(), label))"
   ]
  },
  {
   "cell_type": "code",
   "execution_count": 472,
   "id": "f7b6ae5a",
   "metadata": {
    "ExecuteTime": {
     "end_time": "2022-03-22T16:48:28.836252Z",
     "start_time": "2022-03-22T16:48:28.584407Z"
    }
   },
   "outputs": [],
   "source": [
    "eclf = VotingClassifier(estimators=[('svc', clf_svc), ('nb', clf_gb), ('sgd', clf_sgd)], voting='hard').fit(X_train, y_train)"
   ]
  },
  {
   "cell_type": "code",
   "execution_count": 473,
   "id": "547ed177",
   "metadata": {
    "ExecuteTime": {
     "end_time": "2022-03-22T16:48:29.509575Z",
     "start_time": "2022-03-22T16:48:29.407814Z"
    }
   },
   "outputs": [],
   "source": [
    "y_hat_eclf = eclf.predict(X_test)"
   ]
  },
  {
   "cell_type": "code",
   "execution_count": 474,
   "id": "28650a33",
   "metadata": {
    "ExecuteTime": {
     "end_time": "2022-03-22T16:48:29.624042Z",
     "start_time": "2022-03-22T16:48:29.620159Z"
    },
    "scrolled": true
   },
   "outputs": [
    {
     "data": {
      "text/plain": [
       "0.45878136200716846"
      ]
     },
     "execution_count": 474,
     "metadata": {},
     "output_type": "execute_result"
    }
   ],
   "source": [
    "accuracy_score(y_test, y_hat_eclf)"
   ]
  },
  {
   "cell_type": "code",
   "execution_count": 475,
   "id": "05b25b6e",
   "metadata": {
    "ExecuteTime": {
     "end_time": "2022-03-22T16:48:30.882336Z",
     "start_time": "2022-03-22T16:48:30.522191Z"
    }
   },
   "outputs": [
    {
     "data": {
      "image/png": "[encoded data removed]",
      "text/plain": [
       "<Figure size 432x288 with 2 Axes>"
      ]
     },
     "metadata": {
      "needs_background": "light"
     },
     "output_type": "display_data"
    }
   ],
   "source": [
    "sns.heatmap(confusion_matrix(y_test, y_hat_eclf, normalize='true'), annot=True, );"
   ]
  },
  {
   "cell_type": "code",
   "execution_count": 467,
   "id": "4349e38c",
   "metadata": {
    "ExecuteTime": {
     "end_time": "2022-03-22T16:47:54.580886Z",
     "start_time": "2022-03-22T16:47:54.569860Z"
    }
   },
   "outputs": [
    {
     "name": "stdout",
     "output_type": "stream",
     "text": [
      "              precision    recall  f1-score   support\n",
      "\n",
      "         0.0       0.38      0.46      0.42        80\n",
      "         1.0       0.66      0.55      0.60       134\n",
      "         2.0       0.38      0.40      0.39        65\n",
      "\n",
      "    accuracy                           0.49       279\n",
      "   macro avg       0.47      0.47      0.47       279\n",
      "weighted avg       0.51      0.49      0.50       279\n",
      "\n"
     ]
    }
   ],
   "source": [
    "print(classification_report(y_test, y_hat_eclf))"
   ]
  },
  {
   "cell_type": "code",
   "execution_count": null,
   "id": "ee92c918",
   "metadata": {},
   "outputs": [],
   "source": []
  }
 ],
 "metadata": {
  "kernelspec": {
   "display_name": "Python 3 (ipykernel)",
   "language": "python",
   "name": "python3"
  },
  "language_info": {
   "codemirror_mode": {
    "name": "ipython",
    "version": 3
   },
   "file_extension": ".py",
   "mimetype": "text/x-python",
   "name": "python",
   "nbconvert_exporter": "python",
   "pygments_lexer": "ipython3",
   "version": "3.9.7"
  }
 },
 "nbformat": 4,
 "nbformat_minor": 5
}
