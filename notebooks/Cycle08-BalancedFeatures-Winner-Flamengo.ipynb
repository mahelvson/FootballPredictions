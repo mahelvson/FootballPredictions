{
 "cells": [
  {
   "cell_type": "markdown",
   "id": "648a4712",
   "metadata": {},
   "source": [
    "# 0. Imports "
   ]
  },
  {
   "cell_type": "code",
   "execution_count": 1,
   "id": "0b87f4ad",
   "metadata": {
    "ExecuteTime": {
     "end_time": "2022-03-18T15:01:17.751937Z",
     "start_time": "2022-03-18T15:01:16.220852Z"
    }
   },
   "outputs": [
    {
     "name": "stderr",
     "output_type": "stream",
     "text": [
      "/home/mahelvson/anaconda3/envs/foot/lib/python3.9/site-packages/xgboost/compat.py:36: FutureWarning: pandas.Int64Index is deprecated and will be removed from pandas in a future version. Use pandas.Index with the appropriate dtype instead.\n",
      "  from pandas import MultiIndex, Int64Index\n"
     ]
    }
   ],
   "source": [
    "import pandas as pd\n",
    "import numpy as np\n",
    "import matplotlib.pyplot as plt\n",
    "import seaborn as sns\n",
    "import xgboost as xgb\n",
    "\n",
    "from os import listdir\n",
    "from sklearn.model_selection import train_test_split, cross_val_score\n",
    "from sklearn.metrics import confusion_matrix, accuracy_score, classification_report\n",
    "from sklearn.ensemble import RandomForestRegressor, RandomForestClassifier\n",
    "from sklearn.metrics import mean_absolute_error, mean_squared_error, mean_absolute_percentage_error\n",
    "from sklearn.linear_model import LogisticRegression\n",
    "from sklearn.preprocessing import LabelEncoder, StandardScaler\n",
    "from sklearn import svm, tree\n",
    "from sklearn.naive_bayes import GaussianNB\n",
    "from sklearn.linear_model import SGDClassifier\n",
    "from sklearn.ensemble import VotingClassifier\n",
    "from sklearn.neural_network import MLPClassifier\n",
    "\n",
    "from boruta import BorutaPy\n",
    "from imblearn.under_sampling import RandomUnderSampler\n",
    "from imblearn.over_sampling import RandomOverSampler"
   ]
  },
  {
   "cell_type": "markdown",
   "id": "25b9bf7e",
   "metadata": {},
   "source": [
    "# 1. Loading Data "
   ]
  },
  {
   "cell_type": "code",
   "execution_count": 2,
   "id": "b9bc9da9",
   "metadata": {
    "ExecuteTime": {
     "end_time": "2022-03-18T15:01:17.756672Z",
     "start_time": "2022-03-18T15:01:17.754075Z"
    }
   },
   "outputs": [],
   "source": [
    "data_path = '../datasets/'\n",
    "files = listdir(data_path)"
   ]
  },
  {
   "cell_type": "code",
   "execution_count": 3,
   "id": "e40fc1d5",
   "metadata": {
    "ExecuteTime": {
     "end_time": "2022-03-18T15:01:17.764969Z",
     "start_time": "2022-03-18T15:01:17.758282Z"
    }
   },
   "outputs": [
    {
     "data": {
      "text/plain": [
       "['campeonato-brasileiro-cartoes.csv',\n",
       " 'campeonato-brasileiro-full.csv',\n",
       " 'campeonato-brasileiro-estatisticas-full.csv',\n",
       " 'campeonato-brasileiro-gols.csv',\n",
       " 'Legenda.txt']"
      ]
     },
     "execution_count": 3,
     "metadata": {},
     "output_type": "execute_result"
    }
   ],
   "source": [
    "files"
   ]
  },
  {
   "cell_type": "code",
   "execution_count": 4,
   "id": "71d0ac19",
   "metadata": {
    "ExecuteTime": {
     "end_time": "2022-03-18T15:01:17.770330Z",
     "start_time": "2022-03-18T15:01:17.767166Z"
    }
   },
   "outputs": [],
   "source": [
    "cards = files[0]\n",
    "full = files[1]\n",
    "stats = files[2]\n",
    "goals = files[3]"
   ]
  },
  {
   "cell_type": "markdown",
   "id": "402e3783",
   "metadata": {},
   "source": [
    "## 1.1 Cards"
   ]
  },
  {
   "cell_type": "code",
   "execution_count": 5,
   "id": "bad57e66",
   "metadata": {
    "ExecuteTime": {
     "end_time": "2022-03-18T15:01:17.803828Z",
     "start_time": "2022-03-18T15:01:17.771672Z"
    }
   },
   "outputs": [
    {
     "data": {
      "text/html": [
       "<div>\n",
       "<style scoped>\n",
       "    .dataframe tbody tr th:only-of-type {\n",
       "        vertical-align: middle;\n",
       "    }\n",
       "\n",
       "    .dataframe tbody tr th {\n",
       "        vertical-align: top;\n",
       "    }\n",
       "\n",
       "    .dataframe thead th {\n",
       "        text-align: right;\n",
       "    }\n",
       "</style>\n",
       "<table border=\"1\" class=\"dataframe\">\n",
       "  <thead>\n",
       "    <tr style=\"text-align: right;\">\n",
       "      <th></th>\n",
       "      <th>partida_id</th>\n",
       "      <th>rodada</th>\n",
       "      <th>clube</th>\n",
       "      <th>cartao</th>\n",
       "      <th>atleta</th>\n",
       "      <th>num_camisa</th>\n",
       "      <th>posicao</th>\n",
       "      <th>minuto</th>\n",
       "    </tr>\n",
       "  </thead>\n",
       "  <tbody>\n",
       "    <tr>\n",
       "      <th>0</th>\n",
       "      <td>4607</td>\n",
       "      <td>1</td>\n",
       "      <td>Figueirense</td>\n",
       "      <td>Amarelo</td>\n",
       "      <td>Thiago Heleno</td>\n",
       "      <td>4.0</td>\n",
       "      <td>Zagueiro</td>\n",
       "      <td>44</td>\n",
       "    </tr>\n",
       "    <tr>\n",
       "      <th>1</th>\n",
       "      <td>4607</td>\n",
       "      <td>1</td>\n",
       "      <td>Figueirense</td>\n",
       "      <td>Amarelo</td>\n",
       "      <td>Paulo Roberto da Silva</td>\n",
       "      <td>28.0</td>\n",
       "      <td>NaN</td>\n",
       "      <td>66</td>\n",
       "    </tr>\n",
       "    <tr>\n",
       "      <th>2</th>\n",
       "      <td>4608</td>\n",
       "      <td>1</td>\n",
       "      <td>Internacional</td>\n",
       "      <td>Amarelo</td>\n",
       "      <td>Juan Silveira dos Santos</td>\n",
       "      <td>4.0</td>\n",
       "      <td>Zagueiro</td>\n",
       "      <td>20</td>\n",
       "    </tr>\n",
       "    <tr>\n",
       "      <th>3</th>\n",
       "      <td>4608</td>\n",
       "      <td>1</td>\n",
       "      <td>Vitoria</td>\n",
       "      <td>Amarelo</td>\n",
       "      <td>Vinícius Santos Silva</td>\n",
       "      <td>NaN</td>\n",
       "      <td>NaN</td>\n",
       "      <td>82</td>\n",
       "    </tr>\n",
       "    <tr>\n",
       "      <th>4</th>\n",
       "      <td>4608</td>\n",
       "      <td>1</td>\n",
       "      <td>Internacional</td>\n",
       "      <td>Amarelo</td>\n",
       "      <td>Andrés D'Alessandro</td>\n",
       "      <td>10.0</td>\n",
       "      <td>Meio-campo</td>\n",
       "      <td>72</td>\n",
       "    </tr>\n",
       "  </tbody>\n",
       "</table>\n",
       "</div>"
      ],
      "text/plain": [
       "   partida_id  rodada          clube   cartao                    atleta  \\\n",
       "0        4607       1    Figueirense  Amarelo             Thiago Heleno   \n",
       "1        4607       1    Figueirense  Amarelo    Paulo Roberto da Silva   \n",
       "2        4608       1  Internacional  Amarelo  Juan Silveira dos Santos   \n",
       "3        4608       1        Vitoria  Amarelo     Vinícius Santos Silva   \n",
       "4        4608       1  Internacional  Amarelo       Andrés D'Alessandro   \n",
       "\n",
       "   num_camisa     posicao minuto  \n",
       "0         4.0    Zagueiro     44  \n",
       "1        28.0         NaN     66  \n",
       "2         4.0    Zagueiro     20  \n",
       "3         NaN         NaN     82  \n",
       "4        10.0  Meio-campo     72  "
      ]
     },
     "execution_count": 5,
     "metadata": {},
     "output_type": "execute_result"
    }
   ],
   "source": [
    "df_cards = pd.read_csv(data_path + cards)\n",
    "df_cards.head()"
   ]
  },
  {
   "cell_type": "code",
   "execution_count": 6,
   "id": "5451bc20",
   "metadata": {
    "ExecuteTime": {
     "end_time": "2022-03-18T15:01:17.822394Z",
     "start_time": "2022-03-18T15:01:17.805701Z"
    }
   },
   "outputs": [
    {
     "data": {
      "text/plain": [
       "partida_id    0.000000\n",
       "rodada        0.000000\n",
       "clube         0.000000\n",
       "cartao        0.000000\n",
       "atleta        0.000406\n",
       "num_camisa    0.026138\n",
       "posicao       0.081121\n",
       "minuto        0.000000\n",
       "dtype: float64"
      ]
     },
     "execution_count": 6,
     "metadata": {},
     "output_type": "execute_result"
    }
   ],
   "source": [
    "df_cards.isna().sum() / df_cards.shape[0]"
   ]
  },
  {
   "cell_type": "code",
   "execution_count": 7,
   "id": "06865881",
   "metadata": {
    "ExecuteTime": {
     "end_time": "2022-03-18T15:01:17.831895Z",
     "start_time": "2022-03-18T15:01:17.826129Z"
    }
   },
   "outputs": [
    {
     "data": {
      "text/plain": [
       "(14768, 8)"
      ]
     },
     "execution_count": 7,
     "metadata": {},
     "output_type": "execute_result"
    }
   ],
   "source": [
    "df_cards.shape"
   ]
  },
  {
   "cell_type": "code",
   "execution_count": 8,
   "id": "1573bdf7",
   "metadata": {
    "ExecuteTime": {
     "end_time": "2022-03-18T15:01:17.838668Z",
     "start_time": "2022-03-18T15:01:17.833486Z"
    }
   },
   "outputs": [
    {
     "data": {
      "text/plain": [
       "partida_id      int64\n",
       "rodada          int64\n",
       "clube          object\n",
       "cartao         object\n",
       "atleta         object\n",
       "num_camisa    float64\n",
       "posicao        object\n",
       "minuto         object\n",
       "dtype: object"
      ]
     },
     "execution_count": 8,
     "metadata": {},
     "output_type": "execute_result"
    }
   ],
   "source": [
    "df_cards.dtypes"
   ]
  },
  {
   "cell_type": "markdown",
   "id": "6b202bf5",
   "metadata": {},
   "source": [
    "Quantidade de NaN é no máximo 8% em relação ao total da registros."
   ]
  },
  {
   "cell_type": "markdown",
   "id": "773ebda2",
   "metadata": {},
   "source": [
    "## 1.2 Full"
   ]
  },
  {
   "cell_type": "code",
   "execution_count": 9,
   "id": "b0198203",
   "metadata": {
    "ExecuteTime": {
     "end_time": "2022-03-18T15:01:17.879518Z",
     "start_time": "2022-03-18T15:01:17.840322Z"
    }
   },
   "outputs": [
    {
     "data": {
      "text/html": [
       "<div>\n",
       "<style scoped>\n",
       "    .dataframe tbody tr th:only-of-type {\n",
       "        vertical-align: middle;\n",
       "    }\n",
       "\n",
       "    .dataframe tbody tr th {\n",
       "        vertical-align: top;\n",
       "    }\n",
       "\n",
       "    .dataframe thead th {\n",
       "        text-align: right;\n",
       "    }\n",
       "</style>\n",
       "<table border=\"1\" class=\"dataframe\">\n",
       "  <thead>\n",
       "    <tr style=\"text-align: right;\">\n",
       "      <th></th>\n",
       "      <th>ID</th>\n",
       "      <th>rodada</th>\n",
       "      <th>data</th>\n",
       "      <th>hora</th>\n",
       "      <th>dia</th>\n",
       "      <th>mandante</th>\n",
       "      <th>visitante</th>\n",
       "      <th>formacao_mandante</th>\n",
       "      <th>formacao_visitante</th>\n",
       "      <th>tecnico_mandante</th>\n",
       "      <th>tecnico_visitante</th>\n",
       "      <th>vencedor</th>\n",
       "      <th>arena</th>\n",
       "      <th>mandante_placar</th>\n",
       "      <th>visitante_placar</th>\n",
       "      <th>mandante_estado</th>\n",
       "      <th>visitante_estado</th>\n",
       "      <th>estado_vencedor</th>\n",
       "    </tr>\n",
       "  </thead>\n",
       "  <tbody>\n",
       "    <tr>\n",
       "      <th>0</th>\n",
       "      <td>1</td>\n",
       "      <td>1</td>\n",
       "      <td>2003-03-29</td>\n",
       "      <td>16:00</td>\n",
       "      <td>Sabado</td>\n",
       "      <td>Guarani</td>\n",
       "      <td>Vasco</td>\n",
       "      <td>NaN</td>\n",
       "      <td>NaN</td>\n",
       "      <td>NaN</td>\n",
       "      <td>NaN</td>\n",
       "      <td>Guarani</td>\n",
       "      <td>brinco de ouro</td>\n",
       "      <td>4</td>\n",
       "      <td>2</td>\n",
       "      <td>SP</td>\n",
       "      <td>RJ</td>\n",
       "      <td>SP</td>\n",
       "    </tr>\n",
       "    <tr>\n",
       "      <th>1</th>\n",
       "      <td>2</td>\n",
       "      <td>1</td>\n",
       "      <td>2003-03-29</td>\n",
       "      <td>16:00</td>\n",
       "      <td>Sabado</td>\n",
       "      <td>Athletico-PR</td>\n",
       "      <td>Gremio</td>\n",
       "      <td>NaN</td>\n",
       "      <td>NaN</td>\n",
       "      <td>NaN</td>\n",
       "      <td>NaN</td>\n",
       "      <td>Athletico-PR</td>\n",
       "      <td>arena da baixada</td>\n",
       "      <td>2</td>\n",
       "      <td>0</td>\n",
       "      <td>PR</td>\n",
       "      <td>RS</td>\n",
       "      <td>PR</td>\n",
       "    </tr>\n",
       "    <tr>\n",
       "      <th>2</th>\n",
       "      <td>3</td>\n",
       "      <td>1</td>\n",
       "      <td>2003-03-30</td>\n",
       "      <td>16:00</td>\n",
       "      <td>Domingo</td>\n",
       "      <td>Flamengo</td>\n",
       "      <td>Coritiba</td>\n",
       "      <td>NaN</td>\n",
       "      <td>NaN</td>\n",
       "      <td>NaN</td>\n",
       "      <td>NaN</td>\n",
       "      <td>-</td>\n",
       "      <td>maracana</td>\n",
       "      <td>1</td>\n",
       "      <td>1</td>\n",
       "      <td>RJ</td>\n",
       "      <td>PR</td>\n",
       "      <td>-</td>\n",
       "    </tr>\n",
       "    <tr>\n",
       "      <th>3</th>\n",
       "      <td>4</td>\n",
       "      <td>1</td>\n",
       "      <td>2003-03-30</td>\n",
       "      <td>16:00</td>\n",
       "      <td>Domingo</td>\n",
       "      <td>Goias</td>\n",
       "      <td>Paysandu</td>\n",
       "      <td>NaN</td>\n",
       "      <td>NaN</td>\n",
       "      <td>NaN</td>\n",
       "      <td>NaN</td>\n",
       "      <td>-</td>\n",
       "      <td>serra dourada</td>\n",
       "      <td>2</td>\n",
       "      <td>2</td>\n",
       "      <td>GO</td>\n",
       "      <td>PA</td>\n",
       "      <td>-</td>\n",
       "    </tr>\n",
       "    <tr>\n",
       "      <th>4</th>\n",
       "      <td>5</td>\n",
       "      <td>1</td>\n",
       "      <td>2003-03-30</td>\n",
       "      <td>16:00</td>\n",
       "      <td>Domingo</td>\n",
       "      <td>Internacional</td>\n",
       "      <td>Ponte Preta</td>\n",
       "      <td>NaN</td>\n",
       "      <td>NaN</td>\n",
       "      <td>NaN</td>\n",
       "      <td>NaN</td>\n",
       "      <td>-</td>\n",
       "      <td>beira rio</td>\n",
       "      <td>1</td>\n",
       "      <td>1</td>\n",
       "      <td>RS</td>\n",
       "      <td>SP</td>\n",
       "      <td>-</td>\n",
       "    </tr>\n",
       "    <tr>\n",
       "      <th>...</th>\n",
       "      <td>...</td>\n",
       "      <td>...</td>\n",
       "      <td>...</td>\n",
       "      <td>...</td>\n",
       "      <td>...</td>\n",
       "      <td>...</td>\n",
       "      <td>...</td>\n",
       "      <td>...</td>\n",
       "      <td>...</td>\n",
       "      <td>...</td>\n",
       "      <td>...</td>\n",
       "      <td>...</td>\n",
       "      <td>...</td>\n",
       "      <td>...</td>\n",
       "      <td>...</td>\n",
       "      <td>...</td>\n",
       "      <td>...</td>\n",
       "      <td>...</td>\n",
       "    </tr>\n",
       "    <tr>\n",
       "      <th>7640</th>\n",
       "      <td>7641</td>\n",
       "      <td>38</td>\n",
       "      <td>2021-12-12</td>\n",
       "      <td>21:33</td>\n",
       "      <td>Domingo</td>\n",
       "      <td>Bragantino</td>\n",
       "      <td>Internacional</td>\n",
       "      <td>4-2-3-1</td>\n",
       "      <td>3-4-2-1</td>\n",
       "      <td>D. Aguirre Camblor</td>\n",
       "      <td>D. Aguirre Camblor</td>\n",
       "      <td>Bragantino</td>\n",
       "      <td>nabizao</td>\n",
       "      <td>1</td>\n",
       "      <td>0</td>\n",
       "      <td>SP</td>\n",
       "      <td>RS</td>\n",
       "      <td>SP</td>\n",
       "    </tr>\n",
       "    <tr>\n",
       "      <th>7641</th>\n",
       "      <td>7642</td>\n",
       "      <td>38</td>\n",
       "      <td>2021-12-12</td>\n",
       "      <td>21:30</td>\n",
       "      <td>Domingo</td>\n",
       "      <td>Sport</td>\n",
       "      <td>Athletico-PR</td>\n",
       "      <td>4-2-3-1</td>\n",
       "      <td>3-4-2-1</td>\n",
       "      <td>J. Freitas</td>\n",
       "      <td>J. Freitas</td>\n",
       "      <td>-</td>\n",
       "      <td>arena de pernambuco</td>\n",
       "      <td>1</td>\n",
       "      <td>1</td>\n",
       "      <td>PE</td>\n",
       "      <td>PR</td>\n",
       "      <td>-</td>\n",
       "    </tr>\n",
       "    <tr>\n",
       "      <th>7642</th>\n",
       "      <td>7643</td>\n",
       "      <td>38</td>\n",
       "      <td>2021-12-12</td>\n",
       "      <td>21:33</td>\n",
       "      <td>Domingo</td>\n",
       "      <td>Juventude</td>\n",
       "      <td>Corinthians</td>\n",
       "      <td>3-4-3</td>\n",
       "      <td>4-3-3</td>\n",
       "      <td>S. Campos Junior</td>\n",
       "      <td>S. Campos Junior</td>\n",
       "      <td>Juventude</td>\n",
       "      <td>alfredo jaconi</td>\n",
       "      <td>1</td>\n",
       "      <td>0</td>\n",
       "      <td>RS</td>\n",
       "      <td>SP</td>\n",
       "      <td>RS</td>\n",
       "    </tr>\n",
       "    <tr>\n",
       "      <th>7643</th>\n",
       "      <td>7644</td>\n",
       "      <td>38</td>\n",
       "      <td>2021-12-12</td>\n",
       "      <td>21:33</td>\n",
       "      <td>Domingo</td>\n",
       "      <td>Gremio</td>\n",
       "      <td>Atletico-MG</td>\n",
       "      <td>4-2-3-1</td>\n",
       "      <td>4-2-3-1</td>\n",
       "      <td>A. Stival</td>\n",
       "      <td>A. Stival</td>\n",
       "      <td>Gremio</td>\n",
       "      <td>arena do gremio</td>\n",
       "      <td>4</td>\n",
       "      <td>3</td>\n",
       "      <td>RS</td>\n",
       "      <td>MG</td>\n",
       "      <td>RS</td>\n",
       "    </tr>\n",
       "    <tr>\n",
       "      <th>7644</th>\n",
       "      <td>7645</td>\n",
       "      <td>38</td>\n",
       "      <td>2021-12-12</td>\n",
       "      <td>21:33</td>\n",
       "      <td>Domingo</td>\n",
       "      <td>Santos</td>\n",
       "      <td>Cuiaba</td>\n",
       "      <td>3-4-2-1</td>\n",
       "      <td>4-4-2</td>\n",
       "      <td>J. de Amorim Campos</td>\n",
       "      <td>J. de Amorim Campos</td>\n",
       "      <td>-</td>\n",
       "      <td>estadio urbano caldeira</td>\n",
       "      <td>1</td>\n",
       "      <td>1</td>\n",
       "      <td>SP</td>\n",
       "      <td>MT</td>\n",
       "      <td>-</td>\n",
       "    </tr>\n",
       "  </tbody>\n",
       "</table>\n",
       "<p>7645 rows × 18 columns</p>\n",
       "</div>"
      ],
      "text/plain": [
       "        ID  rodada        data   hora      dia       mandante      visitante  \\\n",
       "0        1       1  2003-03-29  16:00   Sabado        Guarani          Vasco   \n",
       "1        2       1  2003-03-29  16:00   Sabado   Athletico-PR         Gremio   \n",
       "2        3       1  2003-03-30  16:00  Domingo       Flamengo       Coritiba   \n",
       "3        4       1  2003-03-30  16:00  Domingo          Goias       Paysandu   \n",
       "4        5       1  2003-03-30  16:00  Domingo  Internacional    Ponte Preta   \n",
       "...    ...     ...         ...    ...      ...            ...            ...   \n",
       "7640  7641      38  2021-12-12  21:33  Domingo     Bragantino  Internacional   \n",
       "7641  7642      38  2021-12-12  21:30  Domingo          Sport   Athletico-PR   \n",
       "7642  7643      38  2021-12-12  21:33  Domingo      Juventude    Corinthians   \n",
       "7643  7644      38  2021-12-12  21:33  Domingo         Gremio    Atletico-MG   \n",
       "7644  7645      38  2021-12-12  21:33  Domingo         Santos         Cuiaba   \n",
       "\n",
       "     formacao_mandante formacao_visitante     tecnico_mandante  \\\n",
       "0                  NaN                NaN                  NaN   \n",
       "1                  NaN                NaN                  NaN   \n",
       "2                  NaN                NaN                  NaN   \n",
       "3                  NaN                NaN                  NaN   \n",
       "4                  NaN                NaN                  NaN   \n",
       "...                ...                ...                  ...   \n",
       "7640           4-2-3-1            3-4-2-1   D. Aguirre Camblor   \n",
       "7641           4-2-3-1            3-4-2-1           J. Freitas   \n",
       "7642             3-4-3              4-3-3     S. Campos Junior   \n",
       "7643           4-2-3-1            4-2-3-1            A. Stival   \n",
       "7644           3-4-2-1              4-4-2  J. de Amorim Campos   \n",
       "\n",
       "        tecnico_visitante      vencedor                    arena  \\\n",
       "0                     NaN       Guarani           brinco de ouro   \n",
       "1                     NaN  Athletico-PR         arena da baixada   \n",
       "2                     NaN             -                 maracana   \n",
       "3                     NaN             -            serra dourada   \n",
       "4                     NaN             -                beira rio   \n",
       "...                   ...           ...                      ...   \n",
       "7640   D. Aguirre Camblor    Bragantino                  nabizao   \n",
       "7641           J. Freitas             -      arena de pernambuco   \n",
       "7642     S. Campos Junior     Juventude           alfredo jaconi   \n",
       "7643            A. Stival        Gremio          arena do gremio   \n",
       "7644  J. de Amorim Campos             -  estadio urbano caldeira   \n",
       "\n",
       "      mandante_placar  visitante_placar mandante_estado visitante_estado  \\\n",
       "0                   4                 2              SP               RJ   \n",
       "1                   2                 0              PR               RS   \n",
       "2                   1                 1              RJ               PR   \n",
       "3                   2                 2              GO               PA   \n",
       "4                   1                 1              RS               SP   \n",
       "...               ...               ...             ...              ...   \n",
       "7640                1                 0              SP               RS   \n",
       "7641                1                 1              PE               PR   \n",
       "7642                1                 0              RS               SP   \n",
       "7643                4                 3              RS               MG   \n",
       "7644                1                 1              SP               MT   \n",
       "\n",
       "     estado_vencedor  \n",
       "0                 SP  \n",
       "1                 PR  \n",
       "2                  -  \n",
       "3                  -  \n",
       "4                  -  \n",
       "...              ...  \n",
       "7640              SP  \n",
       "7641               -  \n",
       "7642              RS  \n",
       "7643              RS  \n",
       "7644               -  \n",
       "\n",
       "[7645 rows x 18 columns]"
      ]
     },
     "execution_count": 9,
     "metadata": {},
     "output_type": "execute_result"
    }
   ],
   "source": [
    "df_full = pd.read_csv(data_path + full)\n",
    "df_full"
   ]
  },
  {
   "cell_type": "code",
   "execution_count": 10,
   "id": "d8d1c128",
   "metadata": {
    "ExecuteTime": {
     "end_time": "2022-03-18T15:01:17.889086Z",
     "start_time": "2022-03-18T15:01:17.882526Z"
    }
   },
   "outputs": [],
   "source": [
    "df_full_fla_man = df_full[df_full['mandante'] == 'Flamengo']\n",
    "df_full_fla_vis = df_full[df_full['visitante'] == 'Flamengo']"
   ]
  },
  {
   "cell_type": "code",
   "execution_count": 11,
   "id": "2cca1f49",
   "metadata": {
    "ExecuteTime": {
     "end_time": "2022-03-18T15:01:18.060930Z",
     "start_time": "2022-03-18T15:01:17.890580Z"
    }
   },
   "outputs": [
    {
     "name": "stderr",
     "output_type": "stream",
     "text": [
      "/tmp/ipykernel_39509/1212725605.py:1: FutureWarning: The frame.append method is deprecated and will be removed from pandas in a future version. Use pandas.concat instead.\n",
      "  df_full_fla = df_full_fla_man.append(df_full_fla_vis)\n"
     ]
    },
    {
     "data": {
      "text/html": [
       "<div>\n",
       "<style scoped>\n",
       "    .dataframe tbody tr th:only-of-type {\n",
       "        vertical-align: middle;\n",
       "    }\n",
       "\n",
       "    .dataframe tbody tr th {\n",
       "        vertical-align: top;\n",
       "    }\n",
       "\n",
       "    .dataframe thead th {\n",
       "        text-align: right;\n",
       "    }\n",
       "</style>\n",
       "<table border=\"1\" class=\"dataframe\">\n",
       "  <thead>\n",
       "    <tr style=\"text-align: right;\">\n",
       "      <th></th>\n",
       "      <th>ID</th>\n",
       "      <th>rodada</th>\n",
       "      <th>data</th>\n",
       "      <th>hora</th>\n",
       "      <th>dia</th>\n",
       "      <th>mandante</th>\n",
       "      <th>visitante</th>\n",
       "      <th>formacao_mandante</th>\n",
       "      <th>formacao_visitante</th>\n",
       "      <th>tecnico_mandante</th>\n",
       "      <th>tecnico_visitante</th>\n",
       "      <th>vencedor</th>\n",
       "      <th>arena</th>\n",
       "      <th>mandante_placar</th>\n",
       "      <th>visitante_placar</th>\n",
       "      <th>mandante_estado</th>\n",
       "      <th>visitante_estado</th>\n",
       "      <th>estado_vencedor</th>\n",
       "    </tr>\n",
       "  </thead>\n",
       "  <tbody>\n",
       "    <tr>\n",
       "      <th>2</th>\n",
       "      <td>3</td>\n",
       "      <td>1</td>\n",
       "      <td>2003-03-30</td>\n",
       "      <td>16:00</td>\n",
       "      <td>Domingo</td>\n",
       "      <td>Flamengo</td>\n",
       "      <td>Coritiba</td>\n",
       "      <td>NaN</td>\n",
       "      <td>NaN</td>\n",
       "      <td>NaN</td>\n",
       "      <td>NaN</td>\n",
       "      <td>-</td>\n",
       "      <td>maracana</td>\n",
       "      <td>1</td>\n",
       "      <td>1</td>\n",
       "      <td>RJ</td>\n",
       "      <td>PR</td>\n",
       "      <td>-</td>\n",
       "    </tr>\n",
       "    <tr>\n",
       "      <th>35</th>\n",
       "      <td>48</td>\n",
       "      <td>3</td>\n",
       "      <td>2003-04-13</td>\n",
       "      <td>18:00</td>\n",
       "      <td>Domingo</td>\n",
       "      <td>Flamengo</td>\n",
       "      <td>Fluminense</td>\n",
       "      <td>NaN</td>\n",
       "      <td>NaN</td>\n",
       "      <td>NaN</td>\n",
       "      <td>NaN</td>\n",
       "      <td>Flamengo</td>\n",
       "      <td>maracana</td>\n",
       "      <td>4</td>\n",
       "      <td>1</td>\n",
       "      <td>RJ</td>\n",
       "      <td>RJ</td>\n",
       "      <td>RJ</td>\n",
       "    </tr>\n",
       "    <tr>\n",
       "      <th>50</th>\n",
       "      <td>51</td>\n",
       "      <td>5</td>\n",
       "      <td>2003-04-19</td>\n",
       "      <td>18:00</td>\n",
       "      <td>Sabado</td>\n",
       "      <td>Flamengo</td>\n",
       "      <td>Santos</td>\n",
       "      <td>NaN</td>\n",
       "      <td>NaN</td>\n",
       "      <td>NaN</td>\n",
       "      <td>NaN</td>\n",
       "      <td>Santos</td>\n",
       "      <td>maracana</td>\n",
       "      <td>0</td>\n",
       "      <td>2</td>\n",
       "      <td>RJ</td>\n",
       "      <td>SP</td>\n",
       "      <td>SP</td>\n",
       "    </tr>\n",
       "    <tr>\n",
       "      <th>72</th>\n",
       "      <td>73</td>\n",
       "      <td>7</td>\n",
       "      <td>2003-05-03</td>\n",
       "      <td>16:00</td>\n",
       "      <td>Sabado</td>\n",
       "      <td>Flamengo</td>\n",
       "      <td>Vitoria</td>\n",
       "      <td>NaN</td>\n",
       "      <td>NaN</td>\n",
       "      <td>NaN</td>\n",
       "      <td>NaN</td>\n",
       "      <td>Flamengo</td>\n",
       "      <td>maracana</td>\n",
       "      <td>2</td>\n",
       "      <td>1</td>\n",
       "      <td>RJ</td>\n",
       "      <td>BA</td>\n",
       "      <td>RJ</td>\n",
       "    </tr>\n",
       "    <tr>\n",
       "      <th>106</th>\n",
       "      <td>107</td>\n",
       "      <td>9</td>\n",
       "      <td>2003-05-18</td>\n",
       "      <td>18:00</td>\n",
       "      <td>Domingo</td>\n",
       "      <td>Flamengo</td>\n",
       "      <td>Guarani</td>\n",
       "      <td>NaN</td>\n",
       "      <td>NaN</td>\n",
       "      <td>NaN</td>\n",
       "      <td>NaN</td>\n",
       "      <td>-</td>\n",
       "      <td>maracana</td>\n",
       "      <td>1</td>\n",
       "      <td>1</td>\n",
       "      <td>RJ</td>\n",
       "      <td>SP</td>\n",
       "      <td>-</td>\n",
       "    </tr>\n",
       "    <tr>\n",
       "      <th>...</th>\n",
       "      <td>...</td>\n",
       "      <td>...</td>\n",
       "      <td>...</td>\n",
       "      <td>...</td>\n",
       "      <td>...</td>\n",
       "      <td>...</td>\n",
       "      <td>...</td>\n",
       "      <td>...</td>\n",
       "      <td>...</td>\n",
       "      <td>...</td>\n",
       "      <td>...</td>\n",
       "      <td>...</td>\n",
       "      <td>...</td>\n",
       "      <td>...</td>\n",
       "      <td>...</td>\n",
       "      <td>...</td>\n",
       "      <td>...</td>\n",
       "      <td>...</td>\n",
       "    </tr>\n",
       "    <tr>\n",
       "      <th>7563</th>\n",
       "      <td>7584</td>\n",
       "      <td>30</td>\n",
       "      <td>2021-11-08</td>\n",
       "      <td>11:06</td>\n",
       "      <td>Segunda-feira</td>\n",
       "      <td>Chapecoense</td>\n",
       "      <td>Flamengo</td>\n",
       "      <td>4-2-3-1</td>\n",
       "      <td>4-4-2</td>\n",
       "      <td>Renato Gaúcho</td>\n",
       "      <td>Renato Gaúcho</td>\n",
       "      <td>-</td>\n",
       "      <td>arena conda</td>\n",
       "      <td>2</td>\n",
       "      <td>2</td>\n",
       "      <td>SC</td>\n",
       "      <td>RJ</td>\n",
       "      <td>-</td>\n",
       "    </tr>\n",
       "    <tr>\n",
       "      <th>7580</th>\n",
       "      <td>7591</td>\n",
       "      <td>32</td>\n",
       "      <td>2021-11-14</td>\n",
       "      <td>16:01</td>\n",
       "      <td>Domingo</td>\n",
       "      <td>Sao Paulo</td>\n",
       "      <td>Flamengo</td>\n",
       "      <td>4-3-1-2</td>\n",
       "      <td>4-4-2</td>\n",
       "      <td>Renato Gaúcho</td>\n",
       "      <td>Renato Gaúcho</td>\n",
       "      <td>Flamengo</td>\n",
       "      <td>morumbi</td>\n",
       "      <td>0</td>\n",
       "      <td>4</td>\n",
       "      <td>SP</td>\n",
       "      <td>RJ</td>\n",
       "      <td>RJ</td>\n",
       "    </tr>\n",
       "    <tr>\n",
       "      <th>7600</th>\n",
       "      <td>7551</td>\n",
       "      <td>34</td>\n",
       "      <td>2021-11-11</td>\n",
       "      <td>21:30</td>\n",
       "      <td>Quinta-feira</td>\n",
       "      <td>Internacional</td>\n",
       "      <td>Flamengo</td>\n",
       "      <td>4-2-3-1</td>\n",
       "      <td>4-2-3-1</td>\n",
       "      <td>Renato Gaúcho</td>\n",
       "      <td>Renato Gaúcho</td>\n",
       "      <td>Flamengo</td>\n",
       "      <td>estadio jose pinheiro borda</td>\n",
       "      <td>1</td>\n",
       "      <td>2</td>\n",
       "      <td>RS</td>\n",
       "      <td>RJ</td>\n",
       "      <td>RJ</td>\n",
       "    </tr>\n",
       "    <tr>\n",
       "      <th>7614</th>\n",
       "      <td>7615</td>\n",
       "      <td>35</td>\n",
       "      <td>2021-12-12</td>\n",
       "      <td>20:00</td>\n",
       "      <td>Domingo</td>\n",
       "      <td>Sport</td>\n",
       "      <td>Flamengo</td>\n",
       "      <td>4-2-3-1</td>\n",
       "      <td>4-2-2-2</td>\n",
       "      <td>M. Souza</td>\n",
       "      <td>M. Souza</td>\n",
       "      <td>-</td>\n",
       "      <td>arena de pernambuco</td>\n",
       "      <td>1</td>\n",
       "      <td>1</td>\n",
       "      <td>PE</td>\n",
       "      <td>RJ</td>\n",
       "      <td>-</td>\n",
       "    </tr>\n",
       "    <tr>\n",
       "      <th>7636</th>\n",
       "      <td>7637</td>\n",
       "      <td>38</td>\n",
       "      <td>2021-12-12</td>\n",
       "      <td>21:33</td>\n",
       "      <td>Domingo</td>\n",
       "      <td>Atletico-GO</td>\n",
       "      <td>Flamengo</td>\n",
       "      <td>4-3-3</td>\n",
       "      <td>3-4-2-1</td>\n",
       "      <td>M. Souza</td>\n",
       "      <td>M. Souza</td>\n",
       "      <td>Atletico-GO</td>\n",
       "      <td>estadio antonio accioly</td>\n",
       "      <td>2</td>\n",
       "      <td>0</td>\n",
       "      <td>GO</td>\n",
       "      <td>RJ</td>\n",
       "      <td>GO</td>\n",
       "    </tr>\n",
       "  </tbody>\n",
       "</table>\n",
       "<p>742 rows × 18 columns</p>\n",
       "</div>"
      ],
      "text/plain": [
       "        ID  rodada        data   hora            dia       mandante  \\\n",
       "2        3       1  2003-03-30  16:00        Domingo       Flamengo   \n",
       "35      48       3  2003-04-13  18:00        Domingo       Flamengo   \n",
       "50      51       5  2003-04-19  18:00         Sabado       Flamengo   \n",
       "72      73       7  2003-05-03  16:00         Sabado       Flamengo   \n",
       "106    107       9  2003-05-18  18:00        Domingo       Flamengo   \n",
       "...    ...     ...         ...    ...            ...            ...   \n",
       "7563  7584      30  2021-11-08  11:06  Segunda-feira    Chapecoense   \n",
       "7580  7591      32  2021-11-14  16:01        Domingo      Sao Paulo   \n",
       "7600  7551      34  2021-11-11  21:30   Quinta-feira  Internacional   \n",
       "7614  7615      35  2021-12-12  20:00        Domingo          Sport   \n",
       "7636  7637      38  2021-12-12  21:33        Domingo    Atletico-GO   \n",
       "\n",
       "       visitante formacao_mandante formacao_visitante tecnico_mandante  \\\n",
       "2       Coritiba               NaN                NaN              NaN   \n",
       "35    Fluminense               NaN                NaN              NaN   \n",
       "50        Santos               NaN                NaN              NaN   \n",
       "72       Vitoria               NaN                NaN              NaN   \n",
       "106      Guarani               NaN                NaN              NaN   \n",
       "...          ...               ...                ...              ...   \n",
       "7563    Flamengo           4-2-3-1              4-4-2    Renato Gaúcho   \n",
       "7580    Flamengo           4-3-1-2              4-4-2    Renato Gaúcho   \n",
       "7600    Flamengo           4-2-3-1            4-2-3-1    Renato Gaúcho   \n",
       "7614    Flamengo           4-2-3-1            4-2-2-2         M. Souza   \n",
       "7636    Flamengo             4-3-3            3-4-2-1         M. Souza   \n",
       "\n",
       "     tecnico_visitante     vencedor                        arena  \\\n",
       "2                  NaN            -                     maracana   \n",
       "35                 NaN     Flamengo                     maracana   \n",
       "50                 NaN       Santos                     maracana   \n",
       "72                 NaN     Flamengo                     maracana   \n",
       "106                NaN            -                     maracana   \n",
       "...                ...          ...                          ...   \n",
       "7563     Renato Gaúcho            -                  arena conda   \n",
       "7580     Renato Gaúcho     Flamengo                      morumbi   \n",
       "7600     Renato Gaúcho     Flamengo  estadio jose pinheiro borda   \n",
       "7614          M. Souza            -          arena de pernambuco   \n",
       "7636          M. Souza  Atletico-GO      estadio antonio accioly   \n",
       "\n",
       "      mandante_placar  visitante_placar mandante_estado visitante_estado  \\\n",
       "2                   1                 1              RJ               PR   \n",
       "35                  4                 1              RJ               RJ   \n",
       "50                  0                 2              RJ               SP   \n",
       "72                  2                 1              RJ               BA   \n",
       "106                 1                 1              RJ               SP   \n",
       "...               ...               ...             ...              ...   \n",
       "7563                2                 2              SC               RJ   \n",
       "7580                0                 4              SP               RJ   \n",
       "7600                1                 2              RS               RJ   \n",
       "7614                1                 1              PE               RJ   \n",
       "7636                2                 0              GO               RJ   \n",
       "\n",
       "     estado_vencedor  \n",
       "2                  -  \n",
       "35                RJ  \n",
       "50                SP  \n",
       "72                RJ  \n",
       "106                -  \n",
       "...              ...  \n",
       "7563               -  \n",
       "7580              RJ  \n",
       "7600              RJ  \n",
       "7614               -  \n",
       "7636              GO  \n",
       "\n",
       "[742 rows x 18 columns]"
      ]
     },
     "execution_count": 11,
     "metadata": {},
     "output_type": "execute_result"
    }
   ],
   "source": [
    "df_full_fla = df_full_fla_man.append(df_full_fla_vis)\n",
    "df_full_fla"
   ]
  },
  {
   "cell_type": "code",
   "execution_count": 12,
   "id": "2423654d",
   "metadata": {
    "ExecuteTime": {
     "end_time": "2022-03-18T15:01:18.065930Z",
     "start_time": "2022-03-18T15:01:18.062980Z"
    }
   },
   "outputs": [],
   "source": [
    "df_full = df_full_fla.copy()"
   ]
  },
  {
   "cell_type": "code",
   "execution_count": 13,
   "id": "317aff8e",
   "metadata": {
    "ExecuteTime": {
     "end_time": "2022-03-18T15:01:18.078220Z",
     "start_time": "2022-03-18T15:01:18.068991Z"
    }
   },
   "outputs": [
    {
     "name": "stdout",
     "output_type": "stream",
     "text": [
      "% of NaN\n"
     ]
    },
    {
     "data": {
      "text/plain": [
       "ID                    0.000000\n",
       "rodada                0.000000\n",
       "data                  0.000000\n",
       "hora                  0.000000\n",
       "dia                   0.000000\n",
       "mandante              0.000000\n",
       "visitante             0.000000\n",
       "formacao_mandante     0.638814\n",
       "formacao_visitante    0.638814\n",
       "tecnico_mandante      0.590296\n",
       "tecnico_visitante     0.590296\n",
       "vencedor              0.000000\n",
       "arena                 0.000000\n",
       "mandante_placar       0.000000\n",
       "visitante_placar      0.000000\n",
       "mandante_estado       0.000000\n",
       "visitante_estado      0.000000\n",
       "estado_vencedor       0.000000\n",
       "dtype: float64"
      ]
     },
     "execution_count": 13,
     "metadata": {},
     "output_type": "execute_result"
    }
   ],
   "source": [
    "print('% of NaN')\n",
    "df_full.isna().sum()/df_full.shape[0]"
   ]
  },
  {
   "cell_type": "code",
   "execution_count": 14,
   "id": "80934ad7",
   "metadata": {
    "ExecuteTime": {
     "end_time": "2022-03-18T15:01:18.084755Z",
     "start_time": "2022-03-18T15:01:18.079936Z"
    }
   },
   "outputs": [
    {
     "data": {
      "text/plain": [
       "ID                     int64\n",
       "rodada                 int64\n",
       "data                  object\n",
       "hora                  object\n",
       "dia                   object\n",
       "mandante              object\n",
       "visitante             object\n",
       "formacao_mandante     object\n",
       "formacao_visitante    object\n",
       "tecnico_mandante      object\n",
       "tecnico_visitante     object\n",
       "vencedor              object\n",
       "arena                 object\n",
       "mandante_placar        int64\n",
       "visitante_placar       int64\n",
       "mandante_estado       object\n",
       "visitante_estado      object\n",
       "estado_vencedor       object\n",
       "dtype: object"
      ]
     },
     "execution_count": 14,
     "metadata": {},
     "output_type": "execute_result"
    }
   ],
   "source": [
    "df_full.dtypes"
   ]
  },
  {
   "cell_type": "code",
   "execution_count": 15,
   "id": "89763785",
   "metadata": {
    "ExecuteTime": {
     "end_time": "2022-03-18T15:01:18.089973Z",
     "start_time": "2022-03-18T15:01:18.086469Z"
    }
   },
   "outputs": [],
   "source": [
    "df_full['data'] = pd.to_datetime(df_full.data, yearfirst=True)"
   ]
  },
  {
   "cell_type": "code",
   "execution_count": 16,
   "id": "737531d2",
   "metadata": {
    "ExecuteTime": {
     "end_time": "2022-03-18T15:01:18.107777Z",
     "start_time": "2022-03-18T15:01:18.091342Z"
    }
   },
   "outputs": [
    {
     "data": {
      "text/html": [
       "<div>\n",
       "<style scoped>\n",
       "    .dataframe tbody tr th:only-of-type {\n",
       "        vertical-align: middle;\n",
       "    }\n",
       "\n",
       "    .dataframe tbody tr th {\n",
       "        vertical-align: top;\n",
       "    }\n",
       "\n",
       "    .dataframe thead th {\n",
       "        text-align: right;\n",
       "    }\n",
       "</style>\n",
       "<table border=\"1\" class=\"dataframe\">\n",
       "  <thead>\n",
       "    <tr style=\"text-align: right;\">\n",
       "      <th></th>\n",
       "      <th>ID</th>\n",
       "      <th>rodada</th>\n",
       "      <th>data</th>\n",
       "      <th>hora</th>\n",
       "      <th>dia</th>\n",
       "      <th>mandante</th>\n",
       "      <th>visitante</th>\n",
       "      <th>formacao_mandante</th>\n",
       "      <th>formacao_visitante</th>\n",
       "      <th>tecnico_mandante</th>\n",
       "      <th>tecnico_visitante</th>\n",
       "      <th>vencedor</th>\n",
       "      <th>arena</th>\n",
       "      <th>mandante_placar</th>\n",
       "      <th>visitante_placar</th>\n",
       "      <th>mandante_estado</th>\n",
       "      <th>visitante_estado</th>\n",
       "      <th>estado_vencedor</th>\n",
       "    </tr>\n",
       "  </thead>\n",
       "  <tbody>\n",
       "    <tr>\n",
       "      <th>2</th>\n",
       "      <td>3</td>\n",
       "      <td>1</td>\n",
       "      <td>2003-03-30</td>\n",
       "      <td>16:00</td>\n",
       "      <td>Domingo</td>\n",
       "      <td>Flamengo</td>\n",
       "      <td>Coritiba</td>\n",
       "      <td>NaN</td>\n",
       "      <td>NaN</td>\n",
       "      <td>NaN</td>\n",
       "      <td>NaN</td>\n",
       "      <td>-</td>\n",
       "      <td>maracana</td>\n",
       "      <td>1</td>\n",
       "      <td>1</td>\n",
       "      <td>RJ</td>\n",
       "      <td>PR</td>\n",
       "      <td>-</td>\n",
       "    </tr>\n",
       "    <tr>\n",
       "      <th>35</th>\n",
       "      <td>48</td>\n",
       "      <td>3</td>\n",
       "      <td>2003-04-13</td>\n",
       "      <td>18:00</td>\n",
       "      <td>Domingo</td>\n",
       "      <td>Flamengo</td>\n",
       "      <td>Fluminense</td>\n",
       "      <td>NaN</td>\n",
       "      <td>NaN</td>\n",
       "      <td>NaN</td>\n",
       "      <td>NaN</td>\n",
       "      <td>Flamengo</td>\n",
       "      <td>maracana</td>\n",
       "      <td>4</td>\n",
       "      <td>1</td>\n",
       "      <td>RJ</td>\n",
       "      <td>RJ</td>\n",
       "      <td>RJ</td>\n",
       "    </tr>\n",
       "    <tr>\n",
       "      <th>50</th>\n",
       "      <td>51</td>\n",
       "      <td>5</td>\n",
       "      <td>2003-04-19</td>\n",
       "      <td>18:00</td>\n",
       "      <td>Sabado</td>\n",
       "      <td>Flamengo</td>\n",
       "      <td>Santos</td>\n",
       "      <td>NaN</td>\n",
       "      <td>NaN</td>\n",
       "      <td>NaN</td>\n",
       "      <td>NaN</td>\n",
       "      <td>Santos</td>\n",
       "      <td>maracana</td>\n",
       "      <td>0</td>\n",
       "      <td>2</td>\n",
       "      <td>RJ</td>\n",
       "      <td>SP</td>\n",
       "      <td>SP</td>\n",
       "    </tr>\n",
       "    <tr>\n",
       "      <th>72</th>\n",
       "      <td>73</td>\n",
       "      <td>7</td>\n",
       "      <td>2003-05-03</td>\n",
       "      <td>16:00</td>\n",
       "      <td>Sabado</td>\n",
       "      <td>Flamengo</td>\n",
       "      <td>Vitoria</td>\n",
       "      <td>NaN</td>\n",
       "      <td>NaN</td>\n",
       "      <td>NaN</td>\n",
       "      <td>NaN</td>\n",
       "      <td>Flamengo</td>\n",
       "      <td>maracana</td>\n",
       "      <td>2</td>\n",
       "      <td>1</td>\n",
       "      <td>RJ</td>\n",
       "      <td>BA</td>\n",
       "      <td>RJ</td>\n",
       "    </tr>\n",
       "    <tr>\n",
       "      <th>106</th>\n",
       "      <td>107</td>\n",
       "      <td>9</td>\n",
       "      <td>2003-05-18</td>\n",
       "      <td>18:00</td>\n",
       "      <td>Domingo</td>\n",
       "      <td>Flamengo</td>\n",
       "      <td>Guarani</td>\n",
       "      <td>NaN</td>\n",
       "      <td>NaN</td>\n",
       "      <td>NaN</td>\n",
       "      <td>NaN</td>\n",
       "      <td>-</td>\n",
       "      <td>maracana</td>\n",
       "      <td>1</td>\n",
       "      <td>1</td>\n",
       "      <td>RJ</td>\n",
       "      <td>SP</td>\n",
       "      <td>-</td>\n",
       "    </tr>\n",
       "  </tbody>\n",
       "</table>\n",
       "</div>"
      ],
      "text/plain": [
       "      ID  rodada       data   hora      dia  mandante   visitante  \\\n",
       "2      3       1 2003-03-30  16:00  Domingo  Flamengo    Coritiba   \n",
       "35    48       3 2003-04-13  18:00  Domingo  Flamengo  Fluminense   \n",
       "50    51       5 2003-04-19  18:00   Sabado  Flamengo      Santos   \n",
       "72    73       7 2003-05-03  16:00   Sabado  Flamengo     Vitoria   \n",
       "106  107       9 2003-05-18  18:00  Domingo  Flamengo     Guarani   \n",
       "\n",
       "    formacao_mandante formacao_visitante tecnico_mandante tecnico_visitante  \\\n",
       "2                 NaN                NaN              NaN               NaN   \n",
       "35                NaN                NaN              NaN               NaN   \n",
       "50                NaN                NaN              NaN               NaN   \n",
       "72                NaN                NaN              NaN               NaN   \n",
       "106               NaN                NaN              NaN               NaN   \n",
       "\n",
       "     vencedor     arena  mandante_placar  visitante_placar mandante_estado  \\\n",
       "2           -  maracana                1                 1              RJ   \n",
       "35   Flamengo  maracana                4                 1              RJ   \n",
       "50     Santos  maracana                0                 2              RJ   \n",
       "72   Flamengo  maracana                2                 1              RJ   \n",
       "106         -  maracana                1                 1              RJ   \n",
       "\n",
       "    visitante_estado estado_vencedor  \n",
       "2                 PR               -  \n",
       "35                RJ              RJ  \n",
       "50                SP              SP  \n",
       "72                BA              RJ  \n",
       "106               SP               -  "
      ]
     },
     "execution_count": 16,
     "metadata": {},
     "output_type": "execute_result"
    }
   ],
   "source": [
    "df_full.head()"
   ]
  },
  {
   "cell_type": "code",
   "execution_count": 17,
   "id": "4aec6685",
   "metadata": {
    "ExecuteTime": {
     "end_time": "2022-03-18T15:01:18.115028Z",
     "start_time": "2022-03-18T15:01:18.109115Z"
    }
   },
   "outputs": [
    {
     "data": {
      "text/plain": [
       "ID                             int64\n",
       "rodada                         int64\n",
       "data                  datetime64[ns]\n",
       "hora                          object\n",
       "dia                           object\n",
       "mandante                      object\n",
       "visitante                     object\n",
       "formacao_mandante             object\n",
       "formacao_visitante            object\n",
       "tecnico_mandante              object\n",
       "tecnico_visitante             object\n",
       "vencedor                      object\n",
       "arena                         object\n",
       "mandante_placar                int64\n",
       "visitante_placar               int64\n",
       "mandante_estado               object\n",
       "visitante_estado              object\n",
       "estado_vencedor               object\n",
       "dtype: object"
      ]
     },
     "execution_count": 17,
     "metadata": {},
     "output_type": "execute_result"
    }
   ],
   "source": [
    "df_full.dtypes"
   ]
  },
  {
   "cell_type": "markdown",
   "id": "ae364e6d",
   "metadata": {},
   "source": [
    "## 1.3 Stats "
   ]
  },
  {
   "cell_type": "code",
   "execution_count": 18,
   "id": "e1306a2d",
   "metadata": {
    "ExecuteTime": {
     "end_time": "2022-03-18T15:01:18.145386Z",
     "start_time": "2022-03-18T15:01:18.117236Z"
    }
   },
   "outputs": [
    {
     "data": {
      "text/html": [
       "<div>\n",
       "<style scoped>\n",
       "    .dataframe tbody tr th:only-of-type {\n",
       "        vertical-align: middle;\n",
       "    }\n",
       "\n",
       "    .dataframe tbody tr th {\n",
       "        vertical-align: top;\n",
       "    }\n",
       "\n",
       "    .dataframe thead th {\n",
       "        text-align: right;\n",
       "    }\n",
       "</style>\n",
       "<table border=\"1\" class=\"dataframe\">\n",
       "  <thead>\n",
       "    <tr style=\"text-align: right;\">\n",
       "      <th></th>\n",
       "      <th>partida_id</th>\n",
       "      <th>rodada</th>\n",
       "      <th>clube</th>\n",
       "      <th>chutes</th>\n",
       "      <th>chutes_no_alvo</th>\n",
       "      <th>posse_de_bola</th>\n",
       "      <th>passes</th>\n",
       "      <th>precisao_passes</th>\n",
       "      <th>faltas</th>\n",
       "      <th>cartao_amarelo</th>\n",
       "      <th>cartao_vermelho</th>\n",
       "      <th>impedimentos</th>\n",
       "      <th>escanteios</th>\n",
       "    </tr>\n",
       "  </thead>\n",
       "  <tbody>\n",
       "    <tr>\n",
       "      <th>0</th>\n",
       "      <td>1</td>\n",
       "      <td>1</td>\n",
       "      <td>Guarani</td>\n",
       "      <td>0</td>\n",
       "      <td>0</td>\n",
       "      <td>NaN</td>\n",
       "      <td>0</td>\n",
       "      <td>NaN</td>\n",
       "      <td>0</td>\n",
       "      <td>0</td>\n",
       "      <td>0</td>\n",
       "      <td>0</td>\n",
       "      <td>0</td>\n",
       "    </tr>\n",
       "    <tr>\n",
       "      <th>1</th>\n",
       "      <td>1</td>\n",
       "      <td>1</td>\n",
       "      <td>Vasco</td>\n",
       "      <td>0</td>\n",
       "      <td>0</td>\n",
       "      <td>NaN</td>\n",
       "      <td>0</td>\n",
       "      <td>NaN</td>\n",
       "      <td>0</td>\n",
       "      <td>0</td>\n",
       "      <td>0</td>\n",
       "      <td>0</td>\n",
       "      <td>0</td>\n",
       "    </tr>\n",
       "    <tr>\n",
       "      <th>2</th>\n",
       "      <td>2</td>\n",
       "      <td>1</td>\n",
       "      <td>Athletico-PR</td>\n",
       "      <td>0</td>\n",
       "      <td>0</td>\n",
       "      <td>NaN</td>\n",
       "      <td>0</td>\n",
       "      <td>NaN</td>\n",
       "      <td>0</td>\n",
       "      <td>0</td>\n",
       "      <td>0</td>\n",
       "      <td>0</td>\n",
       "      <td>0</td>\n",
       "    </tr>\n",
       "    <tr>\n",
       "      <th>3</th>\n",
       "      <td>2</td>\n",
       "      <td>1</td>\n",
       "      <td>Gremio</td>\n",
       "      <td>0</td>\n",
       "      <td>0</td>\n",
       "      <td>NaN</td>\n",
       "      <td>0</td>\n",
       "      <td>NaN</td>\n",
       "      <td>0</td>\n",
       "      <td>0</td>\n",
       "      <td>0</td>\n",
       "      <td>0</td>\n",
       "      <td>0</td>\n",
       "    </tr>\n",
       "    <tr>\n",
       "      <th>4</th>\n",
       "      <td>3</td>\n",
       "      <td>1</td>\n",
       "      <td>Flamengo</td>\n",
       "      <td>0</td>\n",
       "      <td>0</td>\n",
       "      <td>NaN</td>\n",
       "      <td>0</td>\n",
       "      <td>NaN</td>\n",
       "      <td>0</td>\n",
       "      <td>0</td>\n",
       "      <td>0</td>\n",
       "      <td>0</td>\n",
       "      <td>0</td>\n",
       "    </tr>\n",
       "  </tbody>\n",
       "</table>\n",
       "</div>"
      ],
      "text/plain": [
       "   partida_id  rodada         clube  chutes  chutes_no_alvo posse_de_bola  \\\n",
       "0           1       1       Guarani       0               0           NaN   \n",
       "1           1       1         Vasco       0               0           NaN   \n",
       "2           2       1  Athletico-PR       0               0           NaN   \n",
       "3           2       1        Gremio       0               0           NaN   \n",
       "4           3       1      Flamengo       0               0           NaN   \n",
       "\n",
       "   passes precisao_passes  faltas  cartao_amarelo  cartao_vermelho  \\\n",
       "0       0             NaN       0               0                0   \n",
       "1       0             NaN       0               0                0   \n",
       "2       0             NaN       0               0                0   \n",
       "3       0             NaN       0               0                0   \n",
       "4       0             NaN       0               0                0   \n",
       "\n",
       "   impedimentos  escanteios  \n",
       "0             0           0  \n",
       "1             0           0  \n",
       "2             0           0  \n",
       "3             0           0  \n",
       "4             0           0  "
      ]
     },
     "execution_count": 18,
     "metadata": {},
     "output_type": "execute_result"
    }
   ],
   "source": [
    "df_stats = pd.read_csv(data_path + stats)\n",
    "df_stats.head()"
   ]
  },
  {
   "cell_type": "code",
   "execution_count": 19,
   "id": "eabf6995",
   "metadata": {
    "ExecuteTime": {
     "end_time": "2022-03-18T15:01:18.150612Z",
     "start_time": "2022-03-18T15:01:18.147137Z"
    }
   },
   "outputs": [
    {
     "data": {
      "text/plain": [
       "(15290, 13)"
      ]
     },
     "execution_count": 19,
     "metadata": {},
     "output_type": "execute_result"
    }
   ],
   "source": [
    "df_stats.shape"
   ]
  },
  {
   "cell_type": "code",
   "execution_count": 20,
   "id": "958b80b5",
   "metadata": {
    "ExecuteTime": {
     "end_time": "2022-03-18T15:01:18.167193Z",
     "start_time": "2022-03-18T15:01:18.151930Z"
    }
   },
   "outputs": [
    {
     "name": "stdout",
     "output_type": "stream",
     "text": [
      "% of NaN\n"
     ]
    },
    {
     "data": {
      "text/plain": [
       "partida_id         0.000000\n",
       "rodada             0.000000\n",
       "clube              0.000000\n",
       "chutes             0.000000\n",
       "chutes_no_alvo     0.000000\n",
       "posse_de_bola      0.602485\n",
       "passes             0.000000\n",
       "precisao_passes    0.602485\n",
       "faltas             0.000000\n",
       "cartao_amarelo     0.000000\n",
       "cartao_vermelho    0.000000\n",
       "impedimentos       0.000000\n",
       "escanteios         0.000000\n",
       "dtype: float64"
      ]
     },
     "execution_count": 20,
     "metadata": {},
     "output_type": "execute_result"
    }
   ],
   "source": [
    "print('% of NaN')\n",
    "df_stats.isna().sum()/df_stats.shape[0]"
   ]
  },
  {
   "cell_type": "code",
   "execution_count": 21,
   "id": "88de0063",
   "metadata": {
    "ExecuteTime": {
     "end_time": "2022-03-18T15:01:18.173453Z",
     "start_time": "2022-03-18T15:01:18.168858Z"
    }
   },
   "outputs": [
    {
     "data": {
      "text/plain": [
       "partida_id          int64\n",
       "rodada              int64\n",
       "clube              object\n",
       "chutes              int64\n",
       "chutes_no_alvo      int64\n",
       "posse_de_bola      object\n",
       "passes              int64\n",
       "precisao_passes    object\n",
       "faltas              int64\n",
       "cartao_amarelo      int64\n",
       "cartao_vermelho     int64\n",
       "impedimentos        int64\n",
       "escanteios          int64\n",
       "dtype: object"
      ]
     },
     "execution_count": 21,
     "metadata": {},
     "output_type": "execute_result"
    }
   ],
   "source": [
    "df_stats.dtypes"
   ]
  },
  {
   "cell_type": "code",
   "execution_count": 22,
   "id": "8b14c171",
   "metadata": {
    "ExecuteTime": {
     "end_time": "2022-03-18T15:01:18.367263Z",
     "start_time": "2022-03-18T15:01:18.175272Z"
    }
   },
   "outputs": [
    {
     "data": {
      "text/plain": [
       "<AxesSubplot:>"
      ]
     },
     "execution_count": 22,
     "metadata": {},
     "output_type": "execute_result"
    },
    {
     "data": {
      "image/png": "[encoded data removed]",
      "text/plain": [
       "<Figure size 432x288 with 1 Axes>"
      ]
     },
     "metadata": {
      "needs_background": "light"
     },
     "output_type": "display_data"
    }
   ],
   "source": [
    "df_stats[10000:].plot(y='cartao_amarelo')"
   ]
  },
  {
   "cell_type": "markdown",
   "id": "3ea26c4b",
   "metadata": {},
   "source": [
    "## 1.4 Goals "
   ]
  },
  {
   "cell_type": "code",
   "execution_count": 23,
   "id": "4cf8c1cb",
   "metadata": {
    "ExecuteTime": {
     "end_time": "2022-03-18T15:01:18.386872Z",
     "start_time": "2022-03-18T15:01:18.369064Z"
    }
   },
   "outputs": [
    {
     "data": {
      "text/html": [
       "<div>\n",
       "<style scoped>\n",
       "    .dataframe tbody tr th:only-of-type {\n",
       "        vertical-align: middle;\n",
       "    }\n",
       "\n",
       "    .dataframe tbody tr th {\n",
       "        vertical-align: top;\n",
       "    }\n",
       "\n",
       "    .dataframe thead th {\n",
       "        text-align: right;\n",
       "    }\n",
       "</style>\n",
       "<table border=\"1\" class=\"dataframe\">\n",
       "  <thead>\n",
       "    <tr style=\"text-align: right;\">\n",
       "      <th></th>\n",
       "      <th>partida_id</th>\n",
       "      <th>rodada</th>\n",
       "      <th>clube</th>\n",
       "      <th>atleta</th>\n",
       "      <th>minuto</th>\n",
       "    </tr>\n",
       "  </thead>\n",
       "  <tbody>\n",
       "    <tr>\n",
       "      <th>0</th>\n",
       "      <td>4607</td>\n",
       "      <td>1</td>\n",
       "      <td>Fluminense</td>\n",
       "      <td>Rafael Sóbis</td>\n",
       "      <td>31</td>\n",
       "    </tr>\n",
       "    <tr>\n",
       "      <th>1</th>\n",
       "      <td>4607</td>\n",
       "      <td>1</td>\n",
       "      <td>Fluminense</td>\n",
       "      <td>Fred</td>\n",
       "      <td>45</td>\n",
       "    </tr>\n",
       "    <tr>\n",
       "      <th>2</th>\n",
       "      <td>4607</td>\n",
       "      <td>1</td>\n",
       "      <td>Fluminense</td>\n",
       "      <td>Nirley da Silva Fonseca</td>\n",
       "      <td>59</td>\n",
       "    </tr>\n",
       "    <tr>\n",
       "      <th>3</th>\n",
       "      <td>4608</td>\n",
       "      <td>1</td>\n",
       "      <td>Internacional</td>\n",
       "      <td>Charles Aránguiz</td>\n",
       "      <td>6</td>\n",
       "    </tr>\n",
       "    <tr>\n",
       "      <th>4</th>\n",
       "      <td>4610</td>\n",
       "      <td>1</td>\n",
       "      <td>Athletico-PR</td>\n",
       "      <td>Dráusio Luis Salla Gil</td>\n",
       "      <td>16</td>\n",
       "    </tr>\n",
       "  </tbody>\n",
       "</table>\n",
       "</div>"
      ],
      "text/plain": [
       "   partida_id  rodada          clube                   atleta minuto\n",
       "0        4607       1     Fluminense             Rafael Sóbis     31\n",
       "1        4607       1     Fluminense                     Fred     45\n",
       "2        4607       1     Fluminense  Nirley da Silva Fonseca     59\n",
       "3        4608       1  Internacional         Charles Aránguiz      6\n",
       "4        4610       1   Athletico-PR   Dráusio Luis Salla Gil     16"
      ]
     },
     "execution_count": 23,
     "metadata": {},
     "output_type": "execute_result"
    }
   ],
   "source": [
    "df_goals = pd.read_csv(data_path + goals)\n",
    "df_goals.head()"
   ]
  },
  {
   "cell_type": "code",
   "execution_count": 24,
   "id": "6aeb961e",
   "metadata": {
    "ExecuteTime": {
     "end_time": "2022-03-18T15:01:18.391336Z",
     "start_time": "2022-03-18T15:01:18.388333Z"
    }
   },
   "outputs": [],
   "source": [
    "df_goals['gol'] = 1"
   ]
  },
  {
   "cell_type": "code",
   "execution_count": 25,
   "id": "cf117cb0",
   "metadata": {
    "ExecuteTime": {
     "end_time": "2022-03-18T15:01:18.401274Z",
     "start_time": "2022-03-18T15:01:18.393008Z"
    }
   },
   "outputs": [
    {
     "data": {
      "text/html": [
       "<div>\n",
       "<style scoped>\n",
       "    .dataframe tbody tr th:only-of-type {\n",
       "        vertical-align: middle;\n",
       "    }\n",
       "\n",
       "    .dataframe tbody tr th {\n",
       "        vertical-align: top;\n",
       "    }\n",
       "\n",
       "    .dataframe thead th {\n",
       "        text-align: right;\n",
       "    }\n",
       "</style>\n",
       "<table border=\"1\" class=\"dataframe\">\n",
       "  <thead>\n",
       "    <tr style=\"text-align: right;\">\n",
       "      <th></th>\n",
       "      <th>partida_id</th>\n",
       "      <th>rodada</th>\n",
       "      <th>clube</th>\n",
       "      <th>atleta</th>\n",
       "      <th>minuto</th>\n",
       "      <th>gol</th>\n",
       "    </tr>\n",
       "  </thead>\n",
       "  <tbody>\n",
       "    <tr>\n",
       "      <th>0</th>\n",
       "      <td>4607</td>\n",
       "      <td>1</td>\n",
       "      <td>Fluminense</td>\n",
       "      <td>Rafael Sóbis</td>\n",
       "      <td>31</td>\n",
       "      <td>1</td>\n",
       "    </tr>\n",
       "    <tr>\n",
       "      <th>1</th>\n",
       "      <td>4607</td>\n",
       "      <td>1</td>\n",
       "      <td>Fluminense</td>\n",
       "      <td>Fred</td>\n",
       "      <td>45</td>\n",
       "      <td>1</td>\n",
       "    </tr>\n",
       "    <tr>\n",
       "      <th>2</th>\n",
       "      <td>4607</td>\n",
       "      <td>1</td>\n",
       "      <td>Fluminense</td>\n",
       "      <td>Nirley da Silva Fonseca</td>\n",
       "      <td>59</td>\n",
       "      <td>1</td>\n",
       "    </tr>\n",
       "    <tr>\n",
       "      <th>3</th>\n",
       "      <td>4608</td>\n",
       "      <td>1</td>\n",
       "      <td>Internacional</td>\n",
       "      <td>Charles Aránguiz</td>\n",
       "      <td>6</td>\n",
       "      <td>1</td>\n",
       "    </tr>\n",
       "    <tr>\n",
       "      <th>4</th>\n",
       "      <td>4610</td>\n",
       "      <td>1</td>\n",
       "      <td>Athletico-PR</td>\n",
       "      <td>Dráusio Luis Salla Gil</td>\n",
       "      <td>16</td>\n",
       "      <td>1</td>\n",
       "    </tr>\n",
       "  </tbody>\n",
       "</table>\n",
       "</div>"
      ],
      "text/plain": [
       "   partida_id  rodada          clube                   atleta minuto  gol\n",
       "0        4607       1     Fluminense             Rafael Sóbis     31    1\n",
       "1        4607       1     Fluminense                     Fred     45    1\n",
       "2        4607       1     Fluminense  Nirley da Silva Fonseca     59    1\n",
       "3        4608       1  Internacional         Charles Aránguiz      6    1\n",
       "4        4610       1   Athletico-PR   Dráusio Luis Salla Gil     16    1"
      ]
     },
     "execution_count": 25,
     "metadata": {},
     "output_type": "execute_result"
    }
   ],
   "source": [
    "df_goals.head()"
   ]
  },
  {
   "cell_type": "code",
   "execution_count": 26,
   "id": "0c0d707f",
   "metadata": {
    "ExecuteTime": {
     "end_time": "2022-03-18T15:01:18.407954Z",
     "start_time": "2022-03-18T15:01:18.402701Z"
    }
   },
   "outputs": [
    {
     "data": {
      "text/plain": [
       "(7081, 6)"
      ]
     },
     "execution_count": 26,
     "metadata": {},
     "output_type": "execute_result"
    }
   ],
   "source": [
    "df_goals.shape"
   ]
  },
  {
   "cell_type": "code",
   "execution_count": 27,
   "id": "2ddaeda9",
   "metadata": {
    "ExecuteTime": {
     "end_time": "2022-03-18T15:01:18.431187Z",
     "start_time": "2022-03-18T15:01:18.409311Z"
    }
   },
   "outputs": [
    {
     "name": "stdout",
     "output_type": "stream",
     "text": [
      "% of NaN\n"
     ]
    },
    {
     "data": {
      "text/plain": [
       "partida_id    0.0\n",
       "rodada        0.0\n",
       "clube         0.0\n",
       "atleta        0.0\n",
       "minuto        0.0\n",
       "gol           0.0\n",
       "dtype: float64"
      ]
     },
     "execution_count": 27,
     "metadata": {},
     "output_type": "execute_result"
    }
   ],
   "source": [
    "print('% of NaN')\n",
    "df_goals.isna().sum()/df_goals.shape[0]"
   ]
  },
  {
   "cell_type": "markdown",
   "id": "9e0298f5",
   "metadata": {},
   "source": [
    "## 1.5 Legend"
   ]
  },
  {
   "cell_type": "markdown",
   "id": "8830e31e",
   "metadata": {},
   "source": [
    "**Legenda - campeonato-brasileiro-full.csv**\n",
    "- ID : ID da partida\n",
    "- Rodada : Rodada que aconteceu a partida\n",
    "- Data : Data que ocorreu a partida\n",
    "- Horário :  Horário que ocorreu a partida\n",
    "- Dia : Dia da semana que ocorreu a partida\n",
    "- Mandante : Clube mandante                      \n",
    "- Visitante : Clube Visitante\n",
    "- formacao_mandante: Formação do mandante\n",
    "- formacao_visitante: Formação do visitante\n",
    "- tecnico_mandante: Técnico do mandante\n",
    "- tecnico_visitante: Técnico do visitante\n",
    "- Vencedor : Clube vencedor da partida. Quando tiver \"-\", é um empate\n",
    "- Arena : Arena que ocorreu a partida                      \n",
    "- Mandante Placar : Gols que o clube mandante fez na partida                      \n",
    "- Visitante Placar : Gols que o clube visitante fez na partida                      \n",
    "- Estado Mandante : Estado do clube mandatorio                      \n",
    "- Estado Visitante : Estado do clube visitante                      \n",
    "- Estado Vencedor : Estado do clube vencedor. Quando tiver \"-\", é um empate\n",
    "\n",
    "\n",
    "**Legenda - campeonato-brasileiro-estatisticas-full.csv**\n",
    "- partida_ID - ID da partida\n",
    "- Rodada - Rodada da partida\n",
    "- Clube - Nome do clube\n",
    "- Chutes - Finalizações\n",
    "- Chutes a gol - Finalizações na direção do gol\n",
    "- Posse de bola - Percentual da posse de bola\n",
    "- Passes - Quantidade de passes que o clube deu na partida\n",
    "- precisao_passes - Percentual da precisão de passe\n",
    "- Faltas - Quantidade de faltas cometidas na partida\n",
    "- cartao_amarelo - Quantidade de cartões amarelos para o clube na partida\n",
    "- cartao_vermelho - Quantidade de cartões vermelhos para o clube na partida\n",
    "- Impedimentos - Quantidade de impedimentos para o clube na partida\n",
    "- Escanteios - Quantidade de escanteios para o clube na partida\n",
    "\n",
    "\n",
    "**Legenda - campeonato-brasileiro-gols.csv**\n",
    "- partida_ID - ID da partida\n",
    "- Rodada - Rodada da partida\n",
    "- Clube - Nome do clube\n",
    "- Atleta - Nome do atleta que fez o gol\n",
    "- Minuto - Minuto na partida em que o gol foi marcado\n",
    "\n",
    "\n",
    "**Legenda - campeonato-brasileiro-cartoes.csv**\n",
    "- partida_ID - ID da partida\n",
    "- Rodada - Rodada da partida\n",
    "- Clube - Nome do clube\n",
    "- Cartao - Cor do cartão aplicado\n",
    "- Atleta - Nome do atleta punido pelo cartão\n",
    "- num_camisa - Número da camisa do atleta\n",
    "- Posicao - Posição na partida em que o atleta se encontra\n",
    "- Minuto - Minuto na partida em que o cartão foi aplicado"
   ]
  },
  {
   "cell_type": "markdown",
   "id": "57170f8e",
   "metadata": {},
   "source": [
    "## 1.6 Filling NA and and filtering data"
   ]
  },
  {
   "cell_type": "markdown",
   "id": "ac1e3cf2",
   "metadata": {},
   "source": [
    "### 1.6.1 Selecting recent games (5 years) "
   ]
  },
  {
   "cell_type": "code",
   "execution_count": 28,
   "id": "17ee2bf1",
   "metadata": {
    "ExecuteTime": {
     "end_time": "2022-03-18T15:01:18.446904Z",
     "start_time": "2022-03-18T15:01:18.440255Z"
    }
   },
   "outputs": [],
   "source": [
    "df_full_recent = df_full[df_full['data'] > '2018-01-01']"
   ]
  },
  {
   "cell_type": "code",
   "execution_count": 29,
   "id": "20ed31df",
   "metadata": {
    "ExecuteTime": {
     "end_time": "2022-03-18T15:01:18.469378Z",
     "start_time": "2022-03-18T15:01:18.453831Z"
    }
   },
   "outputs": [
    {
     "data": {
      "text/html": [
       "<div>\n",
       "<style scoped>\n",
       "    .dataframe tbody tr th:only-of-type {\n",
       "        vertical-align: middle;\n",
       "    }\n",
       "\n",
       "    .dataframe tbody tr th {\n",
       "        vertical-align: top;\n",
       "    }\n",
       "\n",
       "    .dataframe thead th {\n",
       "        text-align: right;\n",
       "    }\n",
       "</style>\n",
       "<table border=\"1\" class=\"dataframe\">\n",
       "  <thead>\n",
       "    <tr style=\"text-align: right;\">\n",
       "      <th></th>\n",
       "      <th>ID</th>\n",
       "      <th>rodada</th>\n",
       "      <th>data</th>\n",
       "      <th>hora</th>\n",
       "      <th>dia</th>\n",
       "      <th>mandante</th>\n",
       "      <th>visitante</th>\n",
       "      <th>formacao_mandante</th>\n",
       "      <th>formacao_visitante</th>\n",
       "      <th>tecnico_mandante</th>\n",
       "      <th>tecnico_visitante</th>\n",
       "      <th>vencedor</th>\n",
       "      <th>arena</th>\n",
       "      <th>mandante_placar</th>\n",
       "      <th>visitante_placar</th>\n",
       "      <th>mandante_estado</th>\n",
       "      <th>visitante_estado</th>\n",
       "      <th>estado_vencedor</th>\n",
       "    </tr>\n",
       "  </thead>\n",
       "  <tbody>\n",
       "    <tr>\n",
       "      <th>6136</th>\n",
       "      <td>6137</td>\n",
       "      <td>2</td>\n",
       "      <td>2018-04-21</td>\n",
       "      <td>19:00</td>\n",
       "      <td>Sabado</td>\n",
       "      <td>Flamengo</td>\n",
       "      <td>America-MG</td>\n",
       "      <td>4-1-4-1</td>\n",
       "      <td>4-2-3-1</td>\n",
       "      <td>E. Alves Moreira</td>\n",
       "      <td>E. Alves Moreira</td>\n",
       "      <td>Flamengo</td>\n",
       "      <td>maracana</td>\n",
       "      <td>2</td>\n",
       "      <td>0</td>\n",
       "      <td>RJ</td>\n",
       "      <td>MG</td>\n",
       "      <td>RJ</td>\n",
       "    </tr>\n",
       "    <tr>\n",
       "      <th>6158</th>\n",
       "      <td>6159</td>\n",
       "      <td>4</td>\n",
       "      <td>2018-05-06</td>\n",
       "      <td>16:00</td>\n",
       "      <td>Domingo</td>\n",
       "      <td>Flamengo</td>\n",
       "      <td>Internacional</td>\n",
       "      <td>4-1-4-1</td>\n",
       "      <td>4-1-4-1</td>\n",
       "      <td>O. Hellmann</td>\n",
       "      <td>O. Hellmann</td>\n",
       "      <td>Flamengo</td>\n",
       "      <td>maracana</td>\n",
       "      <td>2</td>\n",
       "      <td>0</td>\n",
       "      <td>RJ</td>\n",
       "      <td>RS</td>\n",
       "      <td>RJ</td>\n",
       "    </tr>\n",
       "    <tr>\n",
       "      <th>6176</th>\n",
       "      <td>6177</td>\n",
       "      <td>6</td>\n",
       "      <td>2018-05-19</td>\n",
       "      <td>19:01</td>\n",
       "      <td>Sabado</td>\n",
       "      <td>Flamengo</td>\n",
       "      <td>Vasco</td>\n",
       "      <td>4-1-4-1</td>\n",
       "      <td>4-2-3-1</td>\n",
       "      <td>J. Mannarino</td>\n",
       "      <td>J. Mannarino</td>\n",
       "      <td>-</td>\n",
       "      <td>maracana</td>\n",
       "      <td>1</td>\n",
       "      <td>1</td>\n",
       "      <td>RJ</td>\n",
       "      <td>RJ</td>\n",
       "      <td>-</td>\n",
       "    </tr>\n",
       "    <tr>\n",
       "      <th>6202</th>\n",
       "      <td>6203</td>\n",
       "      <td>8</td>\n",
       "      <td>2018-05-31</td>\n",
       "      <td>16:00</td>\n",
       "      <td>Quinta-feira</td>\n",
       "      <td>Flamengo</td>\n",
       "      <td>Bahia</td>\n",
       "      <td>4-1-4-1</td>\n",
       "      <td>4-2-4-0</td>\n",
       "      <td>A. Ferreira</td>\n",
       "      <td>A. Ferreira</td>\n",
       "      <td>Flamengo</td>\n",
       "      <td>maracana</td>\n",
       "      <td>2</td>\n",
       "      <td>0</td>\n",
       "      <td>RJ</td>\n",
       "      <td>BA</td>\n",
       "      <td>RJ</td>\n",
       "    </tr>\n",
       "    <tr>\n",
       "      <th>6209</th>\n",
       "      <td>6210</td>\n",
       "      <td>9</td>\n",
       "      <td>2018-06-03</td>\n",
       "      <td>16:00</td>\n",
       "      <td>Domingo</td>\n",
       "      <td>Flamengo</td>\n",
       "      <td>Corinthians</td>\n",
       "      <td>4-1-4-1</td>\n",
       "      <td>4-2-4-0</td>\n",
       "      <td>O. Loss</td>\n",
       "      <td>O. Loss</td>\n",
       "      <td>Flamengo</td>\n",
       "      <td>maracana</td>\n",
       "      <td>1</td>\n",
       "      <td>0</td>\n",
       "      <td>RJ</td>\n",
       "      <td>SP</td>\n",
       "      <td>RJ</td>\n",
       "    </tr>\n",
       "  </tbody>\n",
       "</table>\n",
       "</div>"
      ],
      "text/plain": [
       "        ID  rodada       data   hora           dia  mandante      visitante  \\\n",
       "6136  6137       2 2018-04-21  19:00        Sabado  Flamengo     America-MG   \n",
       "6158  6159       4 2018-05-06  16:00       Domingo  Flamengo  Internacional   \n",
       "6176  6177       6 2018-05-19  19:01        Sabado  Flamengo          Vasco   \n",
       "6202  6203       8 2018-05-31  16:00  Quinta-feira  Flamengo          Bahia   \n",
       "6209  6210       9 2018-06-03  16:00       Domingo  Flamengo    Corinthians   \n",
       "\n",
       "     formacao_mandante formacao_visitante  tecnico_mandante tecnico_visitante  \\\n",
       "6136           4-1-4-1            4-2-3-1  E. Alves Moreira  E. Alves Moreira   \n",
       "6158           4-1-4-1            4-1-4-1       O. Hellmann       O. Hellmann   \n",
       "6176           4-1-4-1            4-2-3-1      J. Mannarino      J. Mannarino   \n",
       "6202           4-1-4-1            4-2-4-0       A. Ferreira       A. Ferreira   \n",
       "6209           4-1-4-1            4-2-4-0           O. Loss           O. Loss   \n",
       "\n",
       "      vencedor     arena  mandante_placar  visitante_placar mandante_estado  \\\n",
       "6136  Flamengo  maracana                2                 0              RJ   \n",
       "6158  Flamengo  maracana                2                 0              RJ   \n",
       "6176         -  maracana                1                 1              RJ   \n",
       "6202  Flamengo  maracana                2                 0              RJ   \n",
       "6209  Flamengo  maracana                1                 0              RJ   \n",
       "\n",
       "     visitante_estado estado_vencedor  \n",
       "6136               MG              RJ  \n",
       "6158               RS              RJ  \n",
       "6176               RJ               -  \n",
       "6202               BA              RJ  \n",
       "6209               SP              RJ  "
      ]
     },
     "execution_count": 29,
     "metadata": {},
     "output_type": "execute_result"
    }
   ],
   "source": [
    "# dataframe das partidas de 2018 em diante\n",
    "df_full_recent.head()"
   ]
  },
  {
   "cell_type": "code",
   "execution_count": 30,
   "id": "45b1fea1",
   "metadata": {
    "ExecuteTime": {
     "end_time": "2022-03-18T15:01:18.474479Z",
     "start_time": "2022-03-18T15:01:18.471294Z"
    }
   },
   "outputs": [],
   "source": [
    "columns = df_full_recent.columns.to_list()"
   ]
  },
  {
   "cell_type": "markdown",
   "id": "18dca0c5",
   "metadata": {},
   "source": [
    "### 1.6.2 Choosing some initial features to test "
   ]
  },
  {
   "cell_type": "code",
   "execution_count": 31,
   "id": "6ed4dbd5",
   "metadata": {
    "ExecuteTime": {
     "end_time": "2022-03-18T15:01:18.482682Z",
     "start_time": "2022-03-18T15:01:18.476411Z"
    }
   },
   "outputs": [],
   "source": [
    "columns = ['ID',\n",
    "           'rodada',\n",
    "           'data',\n",
    "           'hora',\n",
    "           'dia',\n",
    "           'mandante',\n",
    "           'visitante',\n",
    "           'formacao_mandante',\n",
    "           'formacao_visitante',\n",
    "           'vencedor',\n",
    "           'arena',\n",
    "           'mandante_estado',\n",
    "           'visitante_estado']\n",
    "\n",
    "df_full_recent = df_full_recent[columns]"
   ]
  },
  {
   "cell_type": "code",
   "execution_count": 32,
   "id": "d0d17393",
   "metadata": {
    "ExecuteTime": {
     "end_time": "2022-03-18T15:01:18.500236Z",
     "start_time": "2022-03-18T15:01:18.484887Z"
    },
    "scrolled": true
   },
   "outputs": [
    {
     "data": {
      "text/html": [
       "<div>\n",
       "<style scoped>\n",
       "    .dataframe tbody tr th:only-of-type {\n",
       "        vertical-align: middle;\n",
       "    }\n",
       "\n",
       "    .dataframe tbody tr th {\n",
       "        vertical-align: top;\n",
       "    }\n",
       "\n",
       "    .dataframe thead th {\n",
       "        text-align: right;\n",
       "    }\n",
       "</style>\n",
       "<table border=\"1\" class=\"dataframe\">\n",
       "  <thead>\n",
       "    <tr style=\"text-align: right;\">\n",
       "      <th></th>\n",
       "      <th>ID</th>\n",
       "      <th>rodada</th>\n",
       "      <th>data</th>\n",
       "      <th>hora</th>\n",
       "      <th>dia</th>\n",
       "      <th>mandante</th>\n",
       "      <th>visitante</th>\n",
       "      <th>formacao_mandante</th>\n",
       "      <th>formacao_visitante</th>\n",
       "      <th>vencedor</th>\n",
       "      <th>arena</th>\n",
       "      <th>mandante_estado</th>\n",
       "      <th>visitante_estado</th>\n",
       "    </tr>\n",
       "  </thead>\n",
       "  <tbody>\n",
       "    <tr>\n",
       "      <th>6136</th>\n",
       "      <td>6137</td>\n",
       "      <td>2</td>\n",
       "      <td>2018-04-21</td>\n",
       "      <td>19:00</td>\n",
       "      <td>Sabado</td>\n",
       "      <td>Flamengo</td>\n",
       "      <td>America-MG</td>\n",
       "      <td>4-1-4-1</td>\n",
       "      <td>4-2-3-1</td>\n",
       "      <td>Flamengo</td>\n",
       "      <td>maracana</td>\n",
       "      <td>RJ</td>\n",
       "      <td>MG</td>\n",
       "    </tr>\n",
       "    <tr>\n",
       "      <th>6158</th>\n",
       "      <td>6159</td>\n",
       "      <td>4</td>\n",
       "      <td>2018-05-06</td>\n",
       "      <td>16:00</td>\n",
       "      <td>Domingo</td>\n",
       "      <td>Flamengo</td>\n",
       "      <td>Internacional</td>\n",
       "      <td>4-1-4-1</td>\n",
       "      <td>4-1-4-1</td>\n",
       "      <td>Flamengo</td>\n",
       "      <td>maracana</td>\n",
       "      <td>RJ</td>\n",
       "      <td>RS</td>\n",
       "    </tr>\n",
       "    <tr>\n",
       "      <th>6176</th>\n",
       "      <td>6177</td>\n",
       "      <td>6</td>\n",
       "      <td>2018-05-19</td>\n",
       "      <td>19:01</td>\n",
       "      <td>Sabado</td>\n",
       "      <td>Flamengo</td>\n",
       "      <td>Vasco</td>\n",
       "      <td>4-1-4-1</td>\n",
       "      <td>4-2-3-1</td>\n",
       "      <td>-</td>\n",
       "      <td>maracana</td>\n",
       "      <td>RJ</td>\n",
       "      <td>RJ</td>\n",
       "    </tr>\n",
       "    <tr>\n",
       "      <th>6202</th>\n",
       "      <td>6203</td>\n",
       "      <td>8</td>\n",
       "      <td>2018-05-31</td>\n",
       "      <td>16:00</td>\n",
       "      <td>Quinta-feira</td>\n",
       "      <td>Flamengo</td>\n",
       "      <td>Bahia</td>\n",
       "      <td>4-1-4-1</td>\n",
       "      <td>4-2-4-0</td>\n",
       "      <td>Flamengo</td>\n",
       "      <td>maracana</td>\n",
       "      <td>RJ</td>\n",
       "      <td>BA</td>\n",
       "    </tr>\n",
       "    <tr>\n",
       "      <th>6209</th>\n",
       "      <td>6210</td>\n",
       "      <td>9</td>\n",
       "      <td>2018-06-03</td>\n",
       "      <td>16:00</td>\n",
       "      <td>Domingo</td>\n",
       "      <td>Flamengo</td>\n",
       "      <td>Corinthians</td>\n",
       "      <td>4-1-4-1</td>\n",
       "      <td>4-2-4-0</td>\n",
       "      <td>Flamengo</td>\n",
       "      <td>maracana</td>\n",
       "      <td>RJ</td>\n",
       "      <td>SP</td>\n",
       "    </tr>\n",
       "  </tbody>\n",
       "</table>\n",
       "</div>"
      ],
      "text/plain": [
       "        ID  rodada       data   hora           dia  mandante      visitante  \\\n",
       "6136  6137       2 2018-04-21  19:00        Sabado  Flamengo     America-MG   \n",
       "6158  6159       4 2018-05-06  16:00       Domingo  Flamengo  Internacional   \n",
       "6176  6177       6 2018-05-19  19:01        Sabado  Flamengo          Vasco   \n",
       "6202  6203       8 2018-05-31  16:00  Quinta-feira  Flamengo          Bahia   \n",
       "6209  6210       9 2018-06-03  16:00       Domingo  Flamengo    Corinthians   \n",
       "\n",
       "     formacao_mandante formacao_visitante  vencedor     arena mandante_estado  \\\n",
       "6136           4-1-4-1            4-2-3-1  Flamengo  maracana              RJ   \n",
       "6158           4-1-4-1            4-1-4-1  Flamengo  maracana              RJ   \n",
       "6176           4-1-4-1            4-2-3-1         -  maracana              RJ   \n",
       "6202           4-1-4-1            4-2-4-0  Flamengo  maracana              RJ   \n",
       "6209           4-1-4-1            4-2-4-0  Flamengo  maracana              RJ   \n",
       "\n",
       "     visitante_estado  \n",
       "6136               MG  \n",
       "6158               RS  \n",
       "6176               RJ  \n",
       "6202               BA  \n",
       "6209               SP  "
      ]
     },
     "execution_count": 32,
     "metadata": {},
     "output_type": "execute_result"
    }
   ],
   "source": [
    "df_full_recent.head()"
   ]
  },
  {
   "cell_type": "markdown",
   "id": "210fcd3c",
   "metadata": {},
   "source": [
    "### 1.6.3 Selecting just recent stats (5 years) "
   ]
  },
  {
   "cell_type": "code",
   "execution_count": 33,
   "id": "4335ec6d",
   "metadata": {
    "ExecuteTime": {
     "end_time": "2022-03-18T15:01:18.511033Z",
     "start_time": "2022-03-18T15:01:18.506471Z"
    }
   },
   "outputs": [],
   "source": [
    "df_stats_recent = df_stats[df_stats['partida_id'] > 6137]"
   ]
  },
  {
   "cell_type": "code",
   "execution_count": 34,
   "id": "0d106423",
   "metadata": {
    "ExecuteTime": {
     "end_time": "2022-03-18T15:01:18.529649Z",
     "start_time": "2022-03-18T15:01:18.512901Z"
    }
   },
   "outputs": [],
   "source": [
    "aux_val = []\n",
    "for value in df_stats_recent['posse_de_bola'].values:\n",
    "    if value != 'None':\n",
    "        aux_val.append(np.float32(value[0:2]))\n",
    "    else:\n",
    "        aux_val.append(np.nan)"
   ]
  },
  {
   "cell_type": "code",
   "execution_count": 35,
   "id": "0a665ce3",
   "metadata": {
    "ExecuteTime": {
     "end_time": "2022-03-18T15:01:18.552686Z",
     "start_time": "2022-03-18T15:01:18.532072Z"
    }
   },
   "outputs": [
    {
     "name": "stderr",
     "output_type": "stream",
     "text": [
      "/tmp/ipykernel_39509/1222983903.py:1: SettingWithCopyWarning: \n",
      "A value is trying to be set on a copy of a slice from a DataFrame.\n",
      "Try using .loc[row_indexer,col_indexer] = value instead\n",
      "\n",
      "See the caveats in the documentation: https://pandas.pydata.org/pandas-docs/stable/user_guide/indexing.html#returning-a-view-versus-a-copy\n",
      "  df_stats_recent.loc[:,'posse_de_bola'] = aux_val\n"
     ]
    }
   ],
   "source": [
    "df_stats_recent.loc[:,'posse_de_bola'] = aux_val"
   ]
  },
  {
   "cell_type": "code",
   "execution_count": 36,
   "id": "c3e538e6",
   "metadata": {
    "ExecuteTime": {
     "end_time": "2022-03-18T15:01:18.559702Z",
     "start_time": "2022-03-18T15:01:18.554444Z"
    }
   },
   "outputs": [],
   "source": [
    "aux_val = []\n",
    "for value in df_stats_recent['precisao_passes'].values:\n",
    "    if value != 'None':\n",
    "        aux_val.append(np.float32(value[0:2]))\n",
    "    else:\n",
    "        aux_val.append(np.nan)"
   ]
  },
  {
   "cell_type": "code",
   "execution_count": 37,
   "id": "dc998585",
   "metadata": {
    "ExecuteTime": {
     "end_time": "2022-03-18T15:01:18.578150Z",
     "start_time": "2022-03-18T15:01:18.561592Z"
    }
   },
   "outputs": [
    {
     "name": "stderr",
     "output_type": "stream",
     "text": [
      "/tmp/ipykernel_39509/2135160869.py:1: SettingWithCopyWarning: \n",
      "A value is trying to be set on a copy of a slice from a DataFrame.\n",
      "Try using .loc[row_indexer,col_indexer] = value instead\n",
      "\n",
      "See the caveats in the documentation: https://pandas.pydata.org/pandas-docs/stable/user_guide/indexing.html#returning-a-view-versus-a-copy\n",
      "  df_stats_recent.loc[:, 'precisao_passes'] = aux_val\n"
     ]
    }
   ],
   "source": [
    "df_stats_recent.loc[:, 'precisao_passes'] = aux_val"
   ]
  },
  {
   "cell_type": "code",
   "execution_count": 38,
   "id": "b1b0f5ca",
   "metadata": {
    "ExecuteTime": {
     "end_time": "2022-03-18T15:01:18.599903Z",
     "start_time": "2022-03-18T15:01:18.580346Z"
    }
   },
   "outputs": [
    {
     "data": {
      "text/html": [
       "<div>\n",
       "<style scoped>\n",
       "    .dataframe tbody tr th:only-of-type {\n",
       "        vertical-align: middle;\n",
       "    }\n",
       "\n",
       "    .dataframe tbody tr th {\n",
       "        vertical-align: top;\n",
       "    }\n",
       "\n",
       "    .dataframe thead th {\n",
       "        text-align: right;\n",
       "    }\n",
       "</style>\n",
       "<table border=\"1\" class=\"dataframe\">\n",
       "  <thead>\n",
       "    <tr style=\"text-align: right;\">\n",
       "      <th></th>\n",
       "      <th>chutes</th>\n",
       "      <th>chutes_no_alvo</th>\n",
       "      <th>posse_de_bola</th>\n",
       "      <th>passes</th>\n",
       "      <th>precisao_passes</th>\n",
       "      <th>faltas</th>\n",
       "      <th>cartao_amarelo</th>\n",
       "      <th>cartao_vermelho</th>\n",
       "      <th>impedimentos</th>\n",
       "      <th>escanteios</th>\n",
       "    </tr>\n",
       "    <tr>\n",
       "      <th>clube</th>\n",
       "      <th></th>\n",
       "      <th></th>\n",
       "      <th></th>\n",
       "      <th></th>\n",
       "      <th></th>\n",
       "      <th></th>\n",
       "      <th></th>\n",
       "      <th></th>\n",
       "      <th></th>\n",
       "      <th></th>\n",
       "    </tr>\n",
       "  </thead>\n",
       "  <tbody>\n",
       "    <tr>\n",
       "      <th>America-MG</th>\n",
       "      <td>12.891892</td>\n",
       "      <td>3.824324</td>\n",
       "      <td>47.364865</td>\n",
       "      <td>403.270270</td>\n",
       "      <td>78.094595</td>\n",
       "      <td>14.959459</td>\n",
       "      <td>1.945946</td>\n",
       "      <td>0.121622</td>\n",
       "      <td>1.675676</td>\n",
       "      <td>4.702703</td>\n",
       "    </tr>\n",
       "    <tr>\n",
       "      <th>Athletico-PR</th>\n",
       "      <td>11.284768</td>\n",
       "      <td>3.701987</td>\n",
       "      <td>53.061069</td>\n",
       "      <td>398.695364</td>\n",
       "      <td>82.732824</td>\n",
       "      <td>13.807947</td>\n",
       "      <td>1.913907</td>\n",
       "      <td>0.079470</td>\n",
       "      <td>1.245033</td>\n",
       "      <td>4.437086</td>\n",
       "    </tr>\n",
       "    <tr>\n",
       "      <th>Atletico-GO</th>\n",
       "      <td>11.421053</td>\n",
       "      <td>3.500000</td>\n",
       "      <td>48.039474</td>\n",
       "      <td>391.815789</td>\n",
       "      <td>79.000000</td>\n",
       "      <td>14.828947</td>\n",
       "      <td>2.223684</td>\n",
       "      <td>0.092105</td>\n",
       "      <td>1.342105</td>\n",
       "      <td>5.644737</td>\n",
       "    </tr>\n",
       "    <tr>\n",
       "      <th>Atletico-MG</th>\n",
       "      <td>14.814570</td>\n",
       "      <td>4.900662</td>\n",
       "      <td>56.068027</td>\n",
       "      <td>485.105960</td>\n",
       "      <td>83.197279</td>\n",
       "      <td>14.456954</td>\n",
       "      <td>1.880795</td>\n",
       "      <td>0.086093</td>\n",
       "      <td>1.476821</td>\n",
       "      <td>6.178808</td>\n",
       "    </tr>\n",
       "    <tr>\n",
       "      <th>Avai</th>\n",
       "      <td>11.657895</td>\n",
       "      <td>2.894737</td>\n",
       "      <td>46.555556</td>\n",
       "      <td>371.447368</td>\n",
       "      <td>77.388889</td>\n",
       "      <td>14.473684</td>\n",
       "      <td>1.947368</td>\n",
       "      <td>0.263158</td>\n",
       "      <td>1.157895</td>\n",
       "      <td>4.631579</td>\n",
       "    </tr>\n",
       "  </tbody>\n",
       "</table>\n",
       "</div>"
      ],
      "text/plain": [
       "                 chutes  chutes_no_alvo  posse_de_bola      passes  \\\n",
       "clube                                                                \n",
       "America-MG    12.891892        3.824324      47.364865  403.270270   \n",
       "Athletico-PR  11.284768        3.701987      53.061069  398.695364   \n",
       "Atletico-GO   11.421053        3.500000      48.039474  391.815789   \n",
       "Atletico-MG   14.814570        4.900662      56.068027  485.105960   \n",
       "Avai          11.657895        2.894737      46.555556  371.447368   \n",
       "\n",
       "              precisao_passes     faltas  cartao_amarelo  cartao_vermelho  \\\n",
       "clube                                                                       \n",
       "America-MG          78.094595  14.959459        1.945946         0.121622   \n",
       "Athletico-PR        82.732824  13.807947        1.913907         0.079470   \n",
       "Atletico-GO         79.000000  14.828947        2.223684         0.092105   \n",
       "Atletico-MG         83.197279  14.456954        1.880795         0.086093   \n",
       "Avai                77.388889  14.473684        1.947368         0.263158   \n",
       "\n",
       "              impedimentos  escanteios  \n",
       "clube                                   \n",
       "America-MG        1.675676    4.702703  \n",
       "Athletico-PR      1.245033    4.437086  \n",
       "Atletico-GO       1.342105    5.644737  \n",
       "Atletico-MG       1.476821    6.178808  \n",
       "Avai              1.157895    4.631579  "
      ]
     },
     "execution_count": 38,
     "metadata": {},
     "output_type": "execute_result"
    }
   ],
   "source": [
    "df_stats_clube = df_stats_recent.groupby('clube').mean()\n",
    "df_stats_clube = df_stats_clube.drop(['partida_id', 'rodada'], axis = 1)\n",
    "df_stats_clube.head()"
   ]
  },
  {
   "cell_type": "code",
   "execution_count": 39,
   "id": "ad2c0861",
   "metadata": {
    "ExecuteTime": {
     "end_time": "2022-03-18T15:01:18.616502Z",
     "start_time": "2022-03-18T15:01:18.603815Z"
    }
   },
   "outputs": [],
   "source": [
    "for column in df_stats_clube.columns.tolist():\n",
    "    # df_full_recent['mandante_' + column] = df_full_recent['mandante'].map(df_stats_clube[column])\n",
    "    df_full_recent['visitante_' + column] = df_full_recent['visitante'].map(df_stats_clube[column])"
   ]
  },
  {
   "cell_type": "markdown",
   "id": "67afcf7e",
   "metadata": {},
   "source": [
    "### 1.6.4 Creating the target feature "
   ]
  },
  {
   "cell_type": "code",
   "execution_count": 40,
   "id": "9a864637",
   "metadata": {
    "ExecuteTime": {
     "end_time": "2022-03-18T15:01:18.627550Z",
     "start_time": "2022-03-18T15:01:18.619083Z"
    }
   },
   "outputs": [],
   "source": [
    "df_full_recent = df_full_recent.reset_index()"
   ]
  },
  {
   "cell_type": "code",
   "execution_count": 41,
   "id": "07839660",
   "metadata": {
    "ExecuteTime": {
     "end_time": "2022-03-18T15:01:18.653489Z",
     "start_time": "2022-03-18T15:01:18.629606Z"
    }
   },
   "outputs": [],
   "source": [
    "# 1 - mandante\n",
    "# 2 - visitante\n",
    "# 0 - empate\n",
    "\n",
    "for i in range(0, len(df_full_recent)):\n",
    "    if df_full_recent.loc[i, 'vencedor'] == df_full_recent.loc[i, 'mandante']:\n",
    "        df_full_recent.loc[i, 'resultado'] = 1\n",
    "    elif df_full_recent.loc[i, 'vencedor'] == df_full_recent.loc[i, 'visitante']:\n",
    "        df_full_recent.loc[i, 'resultado'] = 2\n",
    "    else:\n",
    "        df_full_recent.loc[i, 'resultado'] = 0    "
   ]
  },
  {
   "cell_type": "code",
   "execution_count": 42,
   "id": "cbdcc2b1",
   "metadata": {
    "ExecuteTime": {
     "end_time": "2022-03-18T15:01:18.675155Z",
     "start_time": "2022-03-18T15:01:18.655003Z"
    }
   },
   "outputs": [
    {
     "data": {
      "text/html": [
       "<div>\n",
       "<style scoped>\n",
       "    .dataframe tbody tr th:only-of-type {\n",
       "        vertical-align: middle;\n",
       "    }\n",
       "\n",
       "    .dataframe tbody tr th {\n",
       "        vertical-align: top;\n",
       "    }\n",
       "\n",
       "    .dataframe thead th {\n",
       "        text-align: right;\n",
       "    }\n",
       "</style>\n",
       "<table border=\"1\" class=\"dataframe\">\n",
       "  <thead>\n",
       "    <tr style=\"text-align: right;\">\n",
       "      <th></th>\n",
       "      <th>index</th>\n",
       "      <th>ID</th>\n",
       "      <th>rodada</th>\n",
       "      <th>data</th>\n",
       "      <th>hora</th>\n",
       "      <th>dia</th>\n",
       "      <th>mandante</th>\n",
       "      <th>visitante</th>\n",
       "      <th>formacao_mandante</th>\n",
       "      <th>formacao_visitante</th>\n",
       "      <th>...</th>\n",
       "      <th>visitante_chutes_no_alvo</th>\n",
       "      <th>visitante_posse_de_bola</th>\n",
       "      <th>visitante_passes</th>\n",
       "      <th>visitante_precisao_passes</th>\n",
       "      <th>visitante_faltas</th>\n",
       "      <th>visitante_cartao_amarelo</th>\n",
       "      <th>visitante_cartao_vermelho</th>\n",
       "      <th>visitante_impedimentos</th>\n",
       "      <th>visitante_escanteios</th>\n",
       "      <th>resultado</th>\n",
       "    </tr>\n",
       "  </thead>\n",
       "  <tbody>\n",
       "    <tr>\n",
       "      <th>0</th>\n",
       "      <td>6136</td>\n",
       "      <td>6137</td>\n",
       "      <td>2</td>\n",
       "      <td>2018-04-21</td>\n",
       "      <td>19:00</td>\n",
       "      <td>Sabado</td>\n",
       "      <td>Flamengo</td>\n",
       "      <td>America-MG</td>\n",
       "      <td>4-1-4-1</td>\n",
       "      <td>4-2-3-1</td>\n",
       "      <td>...</td>\n",
       "      <td>3.824324</td>\n",
       "      <td>47.364865</td>\n",
       "      <td>403.270270</td>\n",
       "      <td>78.094595</td>\n",
       "      <td>14.959459</td>\n",
       "      <td>1.945946</td>\n",
       "      <td>0.121622</td>\n",
       "      <td>1.675676</td>\n",
       "      <td>4.702703</td>\n",
       "      <td>1.0</td>\n",
       "    </tr>\n",
       "    <tr>\n",
       "      <th>1</th>\n",
       "      <td>6158</td>\n",
       "      <td>6159</td>\n",
       "      <td>4</td>\n",
       "      <td>2018-05-06</td>\n",
       "      <td>16:00</td>\n",
       "      <td>Domingo</td>\n",
       "      <td>Flamengo</td>\n",
       "      <td>Internacional</td>\n",
       "      <td>4-1-4-1</td>\n",
       "      <td>4-1-4-1</td>\n",
       "      <td>...</td>\n",
       "      <td>4.443709</td>\n",
       "      <td>51.344371</td>\n",
       "      <td>439.887417</td>\n",
       "      <td>80.596026</td>\n",
       "      <td>15.874172</td>\n",
       "      <td>2.529801</td>\n",
       "      <td>0.192053</td>\n",
       "      <td>1.569536</td>\n",
       "      <td>5.675497</td>\n",
       "      <td>1.0</td>\n",
       "    </tr>\n",
       "    <tr>\n",
       "      <th>2</th>\n",
       "      <td>6176</td>\n",
       "      <td>6177</td>\n",
       "      <td>6</td>\n",
       "      <td>2018-05-19</td>\n",
       "      <td>19:01</td>\n",
       "      <td>Sabado</td>\n",
       "      <td>Flamengo</td>\n",
       "      <td>Vasco</td>\n",
       "      <td>4-1-4-1</td>\n",
       "      <td>4-2-3-1</td>\n",
       "      <td>...</td>\n",
       "      <td>3.902655</td>\n",
       "      <td>46.441441</td>\n",
       "      <td>385.876106</td>\n",
       "      <td>79.603604</td>\n",
       "      <td>15.309735</td>\n",
       "      <td>2.424779</td>\n",
       "      <td>0.159292</td>\n",
       "      <td>1.185841</td>\n",
       "      <td>4.601770</td>\n",
       "      <td>0.0</td>\n",
       "    </tr>\n",
       "    <tr>\n",
       "      <th>3</th>\n",
       "      <td>6202</td>\n",
       "      <td>6203</td>\n",
       "      <td>8</td>\n",
       "      <td>2018-05-31</td>\n",
       "      <td>16:00</td>\n",
       "      <td>Quinta-feira</td>\n",
       "      <td>Flamengo</td>\n",
       "      <td>Bahia</td>\n",
       "      <td>4-1-4-1</td>\n",
       "      <td>4-2-4-0</td>\n",
       "      <td>...</td>\n",
       "      <td>4.360000</td>\n",
       "      <td>47.133333</td>\n",
       "      <td>393.760000</td>\n",
       "      <td>78.793333</td>\n",
       "      <td>15.646667</td>\n",
       "      <td>2.080000</td>\n",
       "      <td>0.140000</td>\n",
       "      <td>1.253333</td>\n",
       "      <td>5.386667</td>\n",
       "      <td>1.0</td>\n",
       "    </tr>\n",
       "    <tr>\n",
       "      <th>4</th>\n",
       "      <td>6209</td>\n",
       "      <td>6210</td>\n",
       "      <td>9</td>\n",
       "      <td>2018-06-03</td>\n",
       "      <td>16:00</td>\n",
       "      <td>Domingo</td>\n",
       "      <td>Flamengo</td>\n",
       "      <td>Corinthians</td>\n",
       "      <td>4-1-4-1</td>\n",
       "      <td>4-2-4-0</td>\n",
       "      <td>...</td>\n",
       "      <td>3.894040</td>\n",
       "      <td>52.853333</td>\n",
       "      <td>470.788079</td>\n",
       "      <td>82.300000</td>\n",
       "      <td>13.562914</td>\n",
       "      <td>1.894040</td>\n",
       "      <td>0.099338</td>\n",
       "      <td>1.079470</td>\n",
       "      <td>5.225166</td>\n",
       "      <td>1.0</td>\n",
       "    </tr>\n",
       "  </tbody>\n",
       "</table>\n",
       "<p>5 rows × 25 columns</p>\n",
       "</div>"
      ],
      "text/plain": [
       "   index    ID  rodada       data   hora           dia  mandante  \\\n",
       "0   6136  6137       2 2018-04-21  19:00        Sabado  Flamengo   \n",
       "1   6158  6159       4 2018-05-06  16:00       Domingo  Flamengo   \n",
       "2   6176  6177       6 2018-05-19  19:01        Sabado  Flamengo   \n",
       "3   6202  6203       8 2018-05-31  16:00  Quinta-feira  Flamengo   \n",
       "4   6209  6210       9 2018-06-03  16:00       Domingo  Flamengo   \n",
       "\n",
       "       visitante formacao_mandante formacao_visitante  ...  \\\n",
       "0     America-MG           4-1-4-1            4-2-3-1  ...   \n",
       "1  Internacional           4-1-4-1            4-1-4-1  ...   \n",
       "2          Vasco           4-1-4-1            4-2-3-1  ...   \n",
       "3          Bahia           4-1-4-1            4-2-4-0  ...   \n",
       "4    Corinthians           4-1-4-1            4-2-4-0  ...   \n",
       "\n",
       "  visitante_chutes_no_alvo visitante_posse_de_bola visitante_passes  \\\n",
       "0                 3.824324               47.364865       403.270270   \n",
       "1                 4.443709               51.344371       439.887417   \n",
       "2                 3.902655               46.441441       385.876106   \n",
       "3                 4.360000               47.133333       393.760000   \n",
       "4                 3.894040               52.853333       470.788079   \n",
       "\n",
       "  visitante_precisao_passes  visitante_faltas  visitante_cartao_amarelo  \\\n",
       "0                 78.094595         14.959459                  1.945946   \n",
       "1                 80.596026         15.874172                  2.529801   \n",
       "2                 79.603604         15.309735                  2.424779   \n",
       "3                 78.793333         15.646667                  2.080000   \n",
       "4                 82.300000         13.562914                  1.894040   \n",
       "\n",
       "   visitante_cartao_vermelho  visitante_impedimentos  visitante_escanteios  \\\n",
       "0                   0.121622                1.675676              4.702703   \n",
       "1                   0.192053                1.569536              5.675497   \n",
       "2                   0.159292                1.185841              4.601770   \n",
       "3                   0.140000                1.253333              5.386667   \n",
       "4                   0.099338                1.079470              5.225166   \n",
       "\n",
       "   resultado  \n",
       "0        1.0  \n",
       "1        1.0  \n",
       "2        0.0  \n",
       "3        1.0  \n",
       "4        1.0  \n",
       "\n",
       "[5 rows x 25 columns]"
      ]
     },
     "execution_count": 42,
     "metadata": {},
     "output_type": "execute_result"
    }
   ],
   "source": [
    "df_full_recent.head()"
   ]
  },
  {
   "cell_type": "code",
   "execution_count": 43,
   "id": "c1edb994",
   "metadata": {
    "ExecuteTime": {
     "end_time": "2022-03-18T15:01:18.683601Z",
     "start_time": "2022-03-18T15:01:18.678409Z"
    }
   },
   "outputs": [
    {
     "data": {
      "text/plain": [
       "index                                 int64\n",
       "ID                                    int64\n",
       "rodada                                int64\n",
       "data                         datetime64[ns]\n",
       "hora                                 object\n",
       "dia                                  object\n",
       "mandante                             object\n",
       "visitante                            object\n",
       "formacao_mandante                    object\n",
       "formacao_visitante                   object\n",
       "vencedor                             object\n",
       "arena                                object\n",
       "mandante_estado                      object\n",
       "visitante_estado                     object\n",
       "visitante_chutes                    float64\n",
       "visitante_chutes_no_alvo            float64\n",
       "visitante_posse_de_bola             float64\n",
       "visitante_passes                    float64\n",
       "visitante_precisao_passes           float64\n",
       "visitante_faltas                    float64\n",
       "visitante_cartao_amarelo            float64\n",
       "visitante_cartao_vermelho           float64\n",
       "visitante_impedimentos              float64\n",
       "visitante_escanteios                float64\n",
       "resultado                           float64\n",
       "dtype: object"
      ]
     },
     "execution_count": 43,
     "metadata": {},
     "output_type": "execute_result"
    }
   ],
   "source": [
    "df_full_recent.dtypes"
   ]
  },
  {
   "cell_type": "markdown",
   "id": "619090e9",
   "metadata": {},
   "source": [
    "# 2. Exploratory Data Analysy"
   ]
  },
  {
   "cell_type": "code",
   "execution_count": 44,
   "id": "e0fbcb43",
   "metadata": {
    "ExecuteTime": {
     "end_time": "2022-03-18T15:01:18.688352Z",
     "start_time": "2022-03-18T15:01:18.685206Z"
    }
   },
   "outputs": [],
   "source": [
    "df2 = df_full_recent.copy()"
   ]
  },
  {
   "cell_type": "code",
   "execution_count": 45,
   "id": "ee21480b",
   "metadata": {
    "ExecuteTime": {
     "end_time": "2022-03-18T15:01:18.794013Z",
     "start_time": "2022-03-18T15:01:18.689881Z"
    }
   },
   "outputs": [
    {
     "data": {
      "image/png": "[encoded data removed]",
      "text/plain": [
       "<Figure size 432x288 with 1 Axes>"
      ]
     },
     "metadata": {
      "needs_background": "light"
     },
     "output_type": "display_data"
    }
   ],
   "source": [
    "df2.resultado.value_counts(normalize=True).plot(kind='bar');\n",
    "plt.title('0 - Empate, 1 - Mandante, 2 - Visitante');"
   ]
  },
  {
   "cell_type": "code",
   "execution_count": 46,
   "id": "81ff0aeb",
   "metadata": {
    "ExecuteTime": {
     "end_time": "2022-03-18T15:01:18.986111Z",
     "start_time": "2022-03-18T15:01:18.796029Z"
    }
   },
   "outputs": [
    {
     "data": {
      "image/png": "[encoded data removed]",
      "text/plain": [
       "<Figure size 432x288 with 1 Axes>"
      ]
     },
     "metadata": {
      "needs_background": "light"
     },
     "output_type": "display_data"
    }
   ],
   "source": [
    "sns.countplot(y=df2.dia, hue=df2.resultado);\n",
    "plt.title('Resultado por dia da semana');"
   ]
  },
  {
   "cell_type": "markdown",
   "id": "06ba7bb1",
   "metadata": {},
   "source": [
    "# 3. Feature Engineering "
   ]
  },
  {
   "cell_type": "code",
   "execution_count": 47,
   "id": "94fdb3fc",
   "metadata": {
    "ExecuteTime": {
     "end_time": "2022-03-18T15:01:18.991847Z",
     "start_time": "2022-03-18T15:01:18.989066Z"
    }
   },
   "outputs": [],
   "source": [
    "df3 = df2.copy()"
   ]
  },
  {
   "cell_type": "code",
   "execution_count": 48,
   "id": "ec2bfd42",
   "metadata": {
    "ExecuteTime": {
     "end_time": "2022-03-18T15:01:18.998734Z",
     "start_time": "2022-03-18T15:01:18.993994Z"
    }
   },
   "outputs": [],
   "source": [
    "to_drop = ['index', 'vencedor', 'ID']\n",
    "df3 = df3.drop(to_drop, axis = 1)"
   ]
  },
  {
   "cell_type": "code",
   "execution_count": 49,
   "id": "4fa0b10b",
   "metadata": {
    "ExecuteTime": {
     "end_time": "2022-03-18T15:01:19.019425Z",
     "start_time": "2022-03-18T15:01:19.000849Z"
    }
   },
   "outputs": [
    {
     "data": {
      "text/html": [
       "<div>\n",
       "<style scoped>\n",
       "    .dataframe tbody tr th:only-of-type {\n",
       "        vertical-align: middle;\n",
       "    }\n",
       "\n",
       "    .dataframe tbody tr th {\n",
       "        vertical-align: top;\n",
       "    }\n",
       "\n",
       "    .dataframe thead th {\n",
       "        text-align: right;\n",
       "    }\n",
       "</style>\n",
       "<table border=\"1\" class=\"dataframe\">\n",
       "  <thead>\n",
       "    <tr style=\"text-align: right;\">\n",
       "      <th></th>\n",
       "      <th>rodada</th>\n",
       "      <th>data</th>\n",
       "      <th>hora</th>\n",
       "      <th>dia</th>\n",
       "      <th>mandante</th>\n",
       "      <th>visitante</th>\n",
       "      <th>formacao_mandante</th>\n",
       "      <th>formacao_visitante</th>\n",
       "      <th>arena</th>\n",
       "      <th>mandante_estado</th>\n",
       "      <th>...</th>\n",
       "      <th>visitante_chutes_no_alvo</th>\n",
       "      <th>visitante_posse_de_bola</th>\n",
       "      <th>visitante_passes</th>\n",
       "      <th>visitante_precisao_passes</th>\n",
       "      <th>visitante_faltas</th>\n",
       "      <th>visitante_cartao_amarelo</th>\n",
       "      <th>visitante_cartao_vermelho</th>\n",
       "      <th>visitante_impedimentos</th>\n",
       "      <th>visitante_escanteios</th>\n",
       "      <th>resultado</th>\n",
       "    </tr>\n",
       "  </thead>\n",
       "  <tbody>\n",
       "    <tr>\n",
       "      <th>0</th>\n",
       "      <td>2</td>\n",
       "      <td>2018-04-21</td>\n",
       "      <td>19:00</td>\n",
       "      <td>Sabado</td>\n",
       "      <td>Flamengo</td>\n",
       "      <td>America-MG</td>\n",
       "      <td>4-1-4-1</td>\n",
       "      <td>4-2-3-1</td>\n",
       "      <td>maracana</td>\n",
       "      <td>RJ</td>\n",
       "      <td>...</td>\n",
       "      <td>3.824324</td>\n",
       "      <td>47.364865</td>\n",
       "      <td>403.270270</td>\n",
       "      <td>78.094595</td>\n",
       "      <td>14.959459</td>\n",
       "      <td>1.945946</td>\n",
       "      <td>0.121622</td>\n",
       "      <td>1.675676</td>\n",
       "      <td>4.702703</td>\n",
       "      <td>1.0</td>\n",
       "    </tr>\n",
       "    <tr>\n",
       "      <th>1</th>\n",
       "      <td>4</td>\n",
       "      <td>2018-05-06</td>\n",
       "      <td>16:00</td>\n",
       "      <td>Domingo</td>\n",
       "      <td>Flamengo</td>\n",
       "      <td>Internacional</td>\n",
       "      <td>4-1-4-1</td>\n",
       "      <td>4-1-4-1</td>\n",
       "      <td>maracana</td>\n",
       "      <td>RJ</td>\n",
       "      <td>...</td>\n",
       "      <td>4.443709</td>\n",
       "      <td>51.344371</td>\n",
       "      <td>439.887417</td>\n",
       "      <td>80.596026</td>\n",
       "      <td>15.874172</td>\n",
       "      <td>2.529801</td>\n",
       "      <td>0.192053</td>\n",
       "      <td>1.569536</td>\n",
       "      <td>5.675497</td>\n",
       "      <td>1.0</td>\n",
       "    </tr>\n",
       "    <tr>\n",
       "      <th>2</th>\n",
       "      <td>6</td>\n",
       "      <td>2018-05-19</td>\n",
       "      <td>19:01</td>\n",
       "      <td>Sabado</td>\n",
       "      <td>Flamengo</td>\n",
       "      <td>Vasco</td>\n",
       "      <td>4-1-4-1</td>\n",
       "      <td>4-2-3-1</td>\n",
       "      <td>maracana</td>\n",
       "      <td>RJ</td>\n",
       "      <td>...</td>\n",
       "      <td>3.902655</td>\n",
       "      <td>46.441441</td>\n",
       "      <td>385.876106</td>\n",
       "      <td>79.603604</td>\n",
       "      <td>15.309735</td>\n",
       "      <td>2.424779</td>\n",
       "      <td>0.159292</td>\n",
       "      <td>1.185841</td>\n",
       "      <td>4.601770</td>\n",
       "      <td>0.0</td>\n",
       "    </tr>\n",
       "    <tr>\n",
       "      <th>3</th>\n",
       "      <td>8</td>\n",
       "      <td>2018-05-31</td>\n",
       "      <td>16:00</td>\n",
       "      <td>Quinta-feira</td>\n",
       "      <td>Flamengo</td>\n",
       "      <td>Bahia</td>\n",
       "      <td>4-1-4-1</td>\n",
       "      <td>4-2-4-0</td>\n",
       "      <td>maracana</td>\n",
       "      <td>RJ</td>\n",
       "      <td>...</td>\n",
       "      <td>4.360000</td>\n",
       "      <td>47.133333</td>\n",
       "      <td>393.760000</td>\n",
       "      <td>78.793333</td>\n",
       "      <td>15.646667</td>\n",
       "      <td>2.080000</td>\n",
       "      <td>0.140000</td>\n",
       "      <td>1.253333</td>\n",
       "      <td>5.386667</td>\n",
       "      <td>1.0</td>\n",
       "    </tr>\n",
       "    <tr>\n",
       "      <th>4</th>\n",
       "      <td>9</td>\n",
       "      <td>2018-06-03</td>\n",
       "      <td>16:00</td>\n",
       "      <td>Domingo</td>\n",
       "      <td>Flamengo</td>\n",
       "      <td>Corinthians</td>\n",
       "      <td>4-1-4-1</td>\n",
       "      <td>4-2-4-0</td>\n",
       "      <td>maracana</td>\n",
       "      <td>RJ</td>\n",
       "      <td>...</td>\n",
       "      <td>3.894040</td>\n",
       "      <td>52.853333</td>\n",
       "      <td>470.788079</td>\n",
       "      <td>82.300000</td>\n",
       "      <td>13.562914</td>\n",
       "      <td>1.894040</td>\n",
       "      <td>0.099338</td>\n",
       "      <td>1.079470</td>\n",
       "      <td>5.225166</td>\n",
       "      <td>1.0</td>\n",
       "    </tr>\n",
       "  </tbody>\n",
       "</table>\n",
       "<p>5 rows × 22 columns</p>\n",
       "</div>"
      ],
      "text/plain": [
       "   rodada       data   hora           dia  mandante      visitante  \\\n",
       "0       2 2018-04-21  19:00        Sabado  Flamengo     America-MG   \n",
       "1       4 2018-05-06  16:00       Domingo  Flamengo  Internacional   \n",
       "2       6 2018-05-19  19:01        Sabado  Flamengo          Vasco   \n",
       "3       8 2018-05-31  16:00  Quinta-feira  Flamengo          Bahia   \n",
       "4       9 2018-06-03  16:00       Domingo  Flamengo    Corinthians   \n",
       "\n",
       "  formacao_mandante formacao_visitante     arena mandante_estado  ...  \\\n",
       "0           4-1-4-1            4-2-3-1  maracana              RJ  ...   \n",
       "1           4-1-4-1            4-1-4-1  maracana              RJ  ...   \n",
       "2           4-1-4-1            4-2-3-1  maracana              RJ  ...   \n",
       "3           4-1-4-1            4-2-4-0  maracana              RJ  ...   \n",
       "4           4-1-4-1            4-2-4-0  maracana              RJ  ...   \n",
       "\n",
       "  visitante_chutes_no_alvo  visitante_posse_de_bola  visitante_passes  \\\n",
       "0                 3.824324                47.364865        403.270270   \n",
       "1                 4.443709                51.344371        439.887417   \n",
       "2                 3.902655                46.441441        385.876106   \n",
       "3                 4.360000                47.133333        393.760000   \n",
       "4                 3.894040                52.853333        470.788079   \n",
       "\n",
       "   visitante_precisao_passes  visitante_faltas  visitante_cartao_amarelo  \\\n",
       "0                  78.094595         14.959459                  1.945946   \n",
       "1                  80.596026         15.874172                  2.529801   \n",
       "2                  79.603604         15.309735                  2.424779   \n",
       "3                  78.793333         15.646667                  2.080000   \n",
       "4                  82.300000         13.562914                  1.894040   \n",
       "\n",
       "   visitante_cartao_vermelho  visitante_impedimentos  visitante_escanteios  \\\n",
       "0                   0.121622                1.675676              4.702703   \n",
       "1                   0.192053                1.569536              5.675497   \n",
       "2                   0.159292                1.185841              4.601770   \n",
       "3                   0.140000                1.253333              5.386667   \n",
       "4                   0.099338                1.079470              5.225166   \n",
       "\n",
       "   resultado  \n",
       "0        1.0  \n",
       "1        1.0  \n",
       "2        0.0  \n",
       "3        1.0  \n",
       "4        1.0  \n",
       "\n",
       "[5 rows x 22 columns]"
      ]
     },
     "execution_count": 49,
     "metadata": {},
     "output_type": "execute_result"
    }
   ],
   "source": [
    "df3.head()"
   ]
  },
  {
   "cell_type": "code",
   "execution_count": 50,
   "id": "64cab1df",
   "metadata": {
    "ExecuteTime": {
     "end_time": "2022-03-18T15:01:19.025852Z",
     "start_time": "2022-03-18T15:01:19.020797Z"
    }
   },
   "outputs": [
    {
     "data": {
      "text/plain": [
       "rodada                                int64\n",
       "data                         datetime64[ns]\n",
       "hora                                 object\n",
       "dia                                  object\n",
       "mandante                             object\n",
       "visitante                            object\n",
       "formacao_mandante                    object\n",
       "formacao_visitante                   object\n",
       "arena                                object\n",
       "mandante_estado                      object\n",
       "visitante_estado                     object\n",
       "visitante_chutes                    float64\n",
       "visitante_chutes_no_alvo            float64\n",
       "visitante_posse_de_bola             float64\n",
       "visitante_passes                    float64\n",
       "visitante_precisao_passes           float64\n",
       "visitante_faltas                    float64\n",
       "visitante_cartao_amarelo            float64\n",
       "visitante_cartao_vermelho           float64\n",
       "visitante_impedimentos              float64\n",
       "visitante_escanteios                float64\n",
       "resultado                           float64\n",
       "dtype: object"
      ]
     },
     "execution_count": 50,
     "metadata": {},
     "output_type": "execute_result"
    }
   ],
   "source": [
    "df3.dtypes"
   ]
  },
  {
   "cell_type": "code",
   "execution_count": 51,
   "id": "09e4c9a9",
   "metadata": {
    "ExecuteTime": {
     "end_time": "2022-03-18T15:01:19.039987Z",
     "start_time": "2022-03-18T15:01:19.027730Z"
    }
   },
   "outputs": [],
   "source": [
    "df3.loc[:,'hora_decimal'] = pd.to_datetime(df3.hora).dt.hour + pd.to_datetime(df3.hora).dt.minute / 60"
   ]
  },
  {
   "cell_type": "code",
   "execution_count": 52,
   "id": "900a4911",
   "metadata": {
    "ExecuteTime": {
     "end_time": "2022-03-18T15:01:19.050530Z",
     "start_time": "2022-03-18T15:01:19.041424Z"
    }
   },
   "outputs": [],
   "source": [
    "df3['hora_sin_'] = df3['hora_decimal'].apply(lambda x: np.sin(x * (2 * np.pi/24)))"
   ]
  },
  {
   "cell_type": "code",
   "execution_count": 53,
   "id": "43ee73b5",
   "metadata": {
    "ExecuteTime": {
     "end_time": "2022-03-18T15:01:19.056543Z",
     "start_time": "2022-03-18T15:01:19.052251Z"
    }
   },
   "outputs": [],
   "source": [
    "df3 = df3.drop(['hora', 'hora_decimal'], axis = 1)"
   ]
  },
  {
   "cell_type": "code",
   "execution_count": 54,
   "id": "0eff477b",
   "metadata": {
    "ExecuteTime": {
     "end_time": "2022-03-18T15:01:19.064055Z",
     "start_time": "2022-03-18T15:01:19.057981Z"
    }
   },
   "outputs": [],
   "source": [
    "df3.insert(2, 'hora_sin', df3.hora_sin_)"
   ]
  },
  {
   "cell_type": "code",
   "execution_count": 55,
   "id": "4db7ff65",
   "metadata": {
    "ExecuteTime": {
     "end_time": "2022-03-18T15:01:19.069670Z",
     "start_time": "2022-03-18T15:01:19.065447Z"
    }
   },
   "outputs": [],
   "source": [
    "df3 = df3.drop('hora_sin_', axis = 1)"
   ]
  },
  {
   "cell_type": "code",
   "execution_count": 56,
   "id": "2081235f",
   "metadata": {
    "ExecuteTime": {
     "end_time": "2022-03-18T15:01:19.091383Z",
     "start_time": "2022-03-18T15:01:19.071135Z"
    }
   },
   "outputs": [
    {
     "data": {
      "text/html": [
       "<div>\n",
       "<style scoped>\n",
       "    .dataframe tbody tr th:only-of-type {\n",
       "        vertical-align: middle;\n",
       "    }\n",
       "\n",
       "    .dataframe tbody tr th {\n",
       "        vertical-align: top;\n",
       "    }\n",
       "\n",
       "    .dataframe thead th {\n",
       "        text-align: right;\n",
       "    }\n",
       "</style>\n",
       "<table border=\"1\" class=\"dataframe\">\n",
       "  <thead>\n",
       "    <tr style=\"text-align: right;\">\n",
       "      <th></th>\n",
       "      <th>rodada</th>\n",
       "      <th>data</th>\n",
       "      <th>hora_sin</th>\n",
       "      <th>dia</th>\n",
       "      <th>mandante</th>\n",
       "      <th>visitante</th>\n",
       "      <th>formacao_mandante</th>\n",
       "      <th>formacao_visitante</th>\n",
       "      <th>arena</th>\n",
       "      <th>mandante_estado</th>\n",
       "      <th>...</th>\n",
       "      <th>visitante_chutes_no_alvo</th>\n",
       "      <th>visitante_posse_de_bola</th>\n",
       "      <th>visitante_passes</th>\n",
       "      <th>visitante_precisao_passes</th>\n",
       "      <th>visitante_faltas</th>\n",
       "      <th>visitante_cartao_amarelo</th>\n",
       "      <th>visitante_cartao_vermelho</th>\n",
       "      <th>visitante_impedimentos</th>\n",
       "      <th>visitante_escanteios</th>\n",
       "      <th>resultado</th>\n",
       "    </tr>\n",
       "  </thead>\n",
       "  <tbody>\n",
       "    <tr>\n",
       "      <th>0</th>\n",
       "      <td>2</td>\n",
       "      <td>2018-04-21</td>\n",
       "      <td>-0.965926</td>\n",
       "      <td>Sabado</td>\n",
       "      <td>Flamengo</td>\n",
       "      <td>America-MG</td>\n",
       "      <td>4-1-4-1</td>\n",
       "      <td>4-2-3-1</td>\n",
       "      <td>maracana</td>\n",
       "      <td>RJ</td>\n",
       "      <td>...</td>\n",
       "      <td>3.824324</td>\n",
       "      <td>47.364865</td>\n",
       "      <td>403.270270</td>\n",
       "      <td>78.094595</td>\n",
       "      <td>14.959459</td>\n",
       "      <td>1.945946</td>\n",
       "      <td>0.121622</td>\n",
       "      <td>1.675676</td>\n",
       "      <td>4.702703</td>\n",
       "      <td>1.0</td>\n",
       "    </tr>\n",
       "    <tr>\n",
       "      <th>1</th>\n",
       "      <td>4</td>\n",
       "      <td>2018-05-06</td>\n",
       "      <td>-0.866025</td>\n",
       "      <td>Domingo</td>\n",
       "      <td>Flamengo</td>\n",
       "      <td>Internacional</td>\n",
       "      <td>4-1-4-1</td>\n",
       "      <td>4-1-4-1</td>\n",
       "      <td>maracana</td>\n",
       "      <td>RJ</td>\n",
       "      <td>...</td>\n",
       "      <td>4.443709</td>\n",
       "      <td>51.344371</td>\n",
       "      <td>439.887417</td>\n",
       "      <td>80.596026</td>\n",
       "      <td>15.874172</td>\n",
       "      <td>2.529801</td>\n",
       "      <td>0.192053</td>\n",
       "      <td>1.569536</td>\n",
       "      <td>5.675497</td>\n",
       "      <td>1.0</td>\n",
       "    </tr>\n",
       "    <tr>\n",
       "      <th>2</th>\n",
       "      <td>6</td>\n",
       "      <td>2018-05-19</td>\n",
       "      <td>-0.964787</td>\n",
       "      <td>Sabado</td>\n",
       "      <td>Flamengo</td>\n",
       "      <td>Vasco</td>\n",
       "      <td>4-1-4-1</td>\n",
       "      <td>4-2-3-1</td>\n",
       "      <td>maracana</td>\n",
       "      <td>RJ</td>\n",
       "      <td>...</td>\n",
       "      <td>3.902655</td>\n",
       "      <td>46.441441</td>\n",
       "      <td>385.876106</td>\n",
       "      <td>79.603604</td>\n",
       "      <td>15.309735</td>\n",
       "      <td>2.424779</td>\n",
       "      <td>0.159292</td>\n",
       "      <td>1.185841</td>\n",
       "      <td>4.601770</td>\n",
       "      <td>0.0</td>\n",
       "    </tr>\n",
       "    <tr>\n",
       "      <th>3</th>\n",
       "      <td>8</td>\n",
       "      <td>2018-05-31</td>\n",
       "      <td>-0.866025</td>\n",
       "      <td>Quinta-feira</td>\n",
       "      <td>Flamengo</td>\n",
       "      <td>Bahia</td>\n",
       "      <td>4-1-4-1</td>\n",
       "      <td>4-2-4-0</td>\n",
       "      <td>maracana</td>\n",
       "      <td>RJ</td>\n",
       "      <td>...</td>\n",
       "      <td>4.360000</td>\n",
       "      <td>47.133333</td>\n",
       "      <td>393.760000</td>\n",
       "      <td>78.793333</td>\n",
       "      <td>15.646667</td>\n",
       "      <td>2.080000</td>\n",
       "      <td>0.140000</td>\n",
       "      <td>1.253333</td>\n",
       "      <td>5.386667</td>\n",
       "      <td>1.0</td>\n",
       "    </tr>\n",
       "    <tr>\n",
       "      <th>4</th>\n",
       "      <td>9</td>\n",
       "      <td>2018-06-03</td>\n",
       "      <td>-0.866025</td>\n",
       "      <td>Domingo</td>\n",
       "      <td>Flamengo</td>\n",
       "      <td>Corinthians</td>\n",
       "      <td>4-1-4-1</td>\n",
       "      <td>4-2-4-0</td>\n",
       "      <td>maracana</td>\n",
       "      <td>RJ</td>\n",
       "      <td>...</td>\n",
       "      <td>3.894040</td>\n",
       "      <td>52.853333</td>\n",
       "      <td>470.788079</td>\n",
       "      <td>82.300000</td>\n",
       "      <td>13.562914</td>\n",
       "      <td>1.894040</td>\n",
       "      <td>0.099338</td>\n",
       "      <td>1.079470</td>\n",
       "      <td>5.225166</td>\n",
       "      <td>1.0</td>\n",
       "    </tr>\n",
       "  </tbody>\n",
       "</table>\n",
       "<p>5 rows × 22 columns</p>\n",
       "</div>"
      ],
      "text/plain": [
       "   rodada       data  hora_sin           dia  mandante      visitante  \\\n",
       "0       2 2018-04-21 -0.965926        Sabado  Flamengo     America-MG   \n",
       "1       4 2018-05-06 -0.866025       Domingo  Flamengo  Internacional   \n",
       "2       6 2018-05-19 -0.964787        Sabado  Flamengo          Vasco   \n",
       "3       8 2018-05-31 -0.866025  Quinta-feira  Flamengo          Bahia   \n",
       "4       9 2018-06-03 -0.866025       Domingo  Flamengo    Corinthians   \n",
       "\n",
       "  formacao_mandante formacao_visitante     arena mandante_estado  ...  \\\n",
       "0           4-1-4-1            4-2-3-1  maracana              RJ  ...   \n",
       "1           4-1-4-1            4-1-4-1  maracana              RJ  ...   \n",
       "2           4-1-4-1            4-2-3-1  maracana              RJ  ...   \n",
       "3           4-1-4-1            4-2-4-0  maracana              RJ  ...   \n",
       "4           4-1-4-1            4-2-4-0  maracana              RJ  ...   \n",
       "\n",
       "  visitante_chutes_no_alvo  visitante_posse_de_bola  visitante_passes  \\\n",
       "0                 3.824324                47.364865        403.270270   \n",
       "1                 4.443709                51.344371        439.887417   \n",
       "2                 3.902655                46.441441        385.876106   \n",
       "3                 4.360000                47.133333        393.760000   \n",
       "4                 3.894040                52.853333        470.788079   \n",
       "\n",
       "   visitante_precisao_passes  visitante_faltas  visitante_cartao_amarelo  \\\n",
       "0                  78.094595         14.959459                  1.945946   \n",
       "1                  80.596026         15.874172                  2.529801   \n",
       "2                  79.603604         15.309735                  2.424779   \n",
       "3                  78.793333         15.646667                  2.080000   \n",
       "4                  82.300000         13.562914                  1.894040   \n",
       "\n",
       "   visitante_cartao_vermelho  visitante_impedimentos  visitante_escanteios  \\\n",
       "0                   0.121622                1.675676              4.702703   \n",
       "1                   0.192053                1.569536              5.675497   \n",
       "2                   0.159292                1.185841              4.601770   \n",
       "3                   0.140000                1.253333              5.386667   \n",
       "4                   0.099338                1.079470              5.225166   \n",
       "\n",
       "   resultado  \n",
       "0        1.0  \n",
       "1        1.0  \n",
       "2        0.0  \n",
       "3        1.0  \n",
       "4        1.0  \n",
       "\n",
       "[5 rows x 22 columns]"
      ]
     },
     "execution_count": 56,
     "metadata": {},
     "output_type": "execute_result"
    }
   ],
   "source": [
    "df3.head()"
   ]
  },
  {
   "cell_type": "code",
   "execution_count": 57,
   "id": "0343fc89",
   "metadata": {
    "ExecuteTime": {
     "end_time": "2022-03-18T15:01:19.101139Z",
     "start_time": "2022-03-18T15:01:19.096395Z"
    }
   },
   "outputs": [
    {
     "data": {
      "text/plain": [
       "rodada                                int64\n",
       "data                         datetime64[ns]\n",
       "hora_sin                            float64\n",
       "dia                                  object\n",
       "mandante                             object\n",
       "visitante                            object\n",
       "formacao_mandante                    object\n",
       "formacao_visitante                   object\n",
       "arena                                object\n",
       "mandante_estado                      object\n",
       "visitante_estado                     object\n",
       "visitante_chutes                    float64\n",
       "visitante_chutes_no_alvo            float64\n",
       "visitante_posse_de_bola             float64\n",
       "visitante_passes                    float64\n",
       "visitante_precisao_passes           float64\n",
       "visitante_faltas                    float64\n",
       "visitante_cartao_amarelo            float64\n",
       "visitante_cartao_vermelho           float64\n",
       "visitante_impedimentos              float64\n",
       "visitante_escanteios                float64\n",
       "resultado                           float64\n",
       "dtype: object"
      ]
     },
     "execution_count": 57,
     "metadata": {},
     "output_type": "execute_result"
    }
   ],
   "source": [
    "df3.dtypes"
   ]
  },
  {
   "cell_type": "markdown",
   "id": "9ec5b791",
   "metadata": {},
   "source": [
    "## 3.1 Features creation "
   ]
  },
  {
   "cell_type": "code",
   "execution_count": 58,
   "id": "18edb926",
   "metadata": {
    "ExecuteTime": {
     "end_time": "2022-03-18T15:01:19.136467Z",
     "start_time": "2022-03-18T15:01:19.103158Z"
    }
   },
   "outputs": [
    {
     "name": "stderr",
     "output_type": "stream",
     "text": [
      "/tmp/ipykernel_39509/3886982136.py:4: FutureWarning: Series.dt.weekofyear and Series.dt.week have been deprecated. Please use Series.dt.isocalendar().week instead.\n",
      "  df3['semana_do_ano'] = df3.data.dt.weekofyear\n"
     ]
    },
    {
     "data": {
      "text/html": [
       "<div>\n",
       "<style scoped>\n",
       "    .dataframe tbody tr th:only-of-type {\n",
       "        vertical-align: middle;\n",
       "    }\n",
       "\n",
       "    .dataframe tbody tr th {\n",
       "        vertical-align: top;\n",
       "    }\n",
       "\n",
       "    .dataframe thead th {\n",
       "        text-align: right;\n",
       "    }\n",
       "</style>\n",
       "<table border=\"1\" class=\"dataframe\">\n",
       "  <thead>\n",
       "    <tr style=\"text-align: right;\">\n",
       "      <th></th>\n",
       "      <th>rodada</th>\n",
       "      <th>data</th>\n",
       "      <th>hora_sin</th>\n",
       "      <th>dia</th>\n",
       "      <th>mandante</th>\n",
       "      <th>visitante</th>\n",
       "      <th>formacao_mandante</th>\n",
       "      <th>formacao_visitante</th>\n",
       "      <th>arena</th>\n",
       "      <th>mandante_estado</th>\n",
       "      <th>...</th>\n",
       "      <th>visitante_faltas</th>\n",
       "      <th>visitante_cartao_amarelo</th>\n",
       "      <th>visitante_cartao_vermelho</th>\n",
       "      <th>visitante_impedimentos</th>\n",
       "      <th>visitante_escanteios</th>\n",
       "      <th>resultado</th>\n",
       "      <th>ano</th>\n",
       "      <th>dia_do_mes</th>\n",
       "      <th>mes</th>\n",
       "      <th>semana_do_ano</th>\n",
       "    </tr>\n",
       "  </thead>\n",
       "  <tbody>\n",
       "    <tr>\n",
       "      <th>0</th>\n",
       "      <td>2</td>\n",
       "      <td>2018-04-21</td>\n",
       "      <td>-0.965926</td>\n",
       "      <td>Sabado</td>\n",
       "      <td>Flamengo</td>\n",
       "      <td>America-MG</td>\n",
       "      <td>4-1-4-1</td>\n",
       "      <td>4-2-3-1</td>\n",
       "      <td>maracana</td>\n",
       "      <td>RJ</td>\n",
       "      <td>...</td>\n",
       "      <td>14.959459</td>\n",
       "      <td>1.945946</td>\n",
       "      <td>0.121622</td>\n",
       "      <td>1.675676</td>\n",
       "      <td>4.702703</td>\n",
       "      <td>1.0</td>\n",
       "      <td>2018</td>\n",
       "      <td>21</td>\n",
       "      <td>4</td>\n",
       "      <td>16</td>\n",
       "    </tr>\n",
       "    <tr>\n",
       "      <th>1</th>\n",
       "      <td>4</td>\n",
       "      <td>2018-05-06</td>\n",
       "      <td>-0.866025</td>\n",
       "      <td>Domingo</td>\n",
       "      <td>Flamengo</td>\n",
       "      <td>Internacional</td>\n",
       "      <td>4-1-4-1</td>\n",
       "      <td>4-1-4-1</td>\n",
       "      <td>maracana</td>\n",
       "      <td>RJ</td>\n",
       "      <td>...</td>\n",
       "      <td>15.874172</td>\n",
       "      <td>2.529801</td>\n",
       "      <td>0.192053</td>\n",
       "      <td>1.569536</td>\n",
       "      <td>5.675497</td>\n",
       "      <td>1.0</td>\n",
       "      <td>2018</td>\n",
       "      <td>6</td>\n",
       "      <td>5</td>\n",
       "      <td>18</td>\n",
       "    </tr>\n",
       "    <tr>\n",
       "      <th>2</th>\n",
       "      <td>6</td>\n",
       "      <td>2018-05-19</td>\n",
       "      <td>-0.964787</td>\n",
       "      <td>Sabado</td>\n",
       "      <td>Flamengo</td>\n",
       "      <td>Vasco</td>\n",
       "      <td>4-1-4-1</td>\n",
       "      <td>4-2-3-1</td>\n",
       "      <td>maracana</td>\n",
       "      <td>RJ</td>\n",
       "      <td>...</td>\n",
       "      <td>15.309735</td>\n",
       "      <td>2.424779</td>\n",
       "      <td>0.159292</td>\n",
       "      <td>1.185841</td>\n",
       "      <td>4.601770</td>\n",
       "      <td>0.0</td>\n",
       "      <td>2018</td>\n",
       "      <td>19</td>\n",
       "      <td>5</td>\n",
       "      <td>20</td>\n",
       "    </tr>\n",
       "    <tr>\n",
       "      <th>3</th>\n",
       "      <td>8</td>\n",
       "      <td>2018-05-31</td>\n",
       "      <td>-0.866025</td>\n",
       "      <td>Quinta-feira</td>\n",
       "      <td>Flamengo</td>\n",
       "      <td>Bahia</td>\n",
       "      <td>4-1-4-1</td>\n",
       "      <td>4-2-4-0</td>\n",
       "      <td>maracana</td>\n",
       "      <td>RJ</td>\n",
       "      <td>...</td>\n",
       "      <td>15.646667</td>\n",
       "      <td>2.080000</td>\n",
       "      <td>0.140000</td>\n",
       "      <td>1.253333</td>\n",
       "      <td>5.386667</td>\n",
       "      <td>1.0</td>\n",
       "      <td>2018</td>\n",
       "      <td>31</td>\n",
       "      <td>5</td>\n",
       "      <td>22</td>\n",
       "    </tr>\n",
       "    <tr>\n",
       "      <th>4</th>\n",
       "      <td>9</td>\n",
       "      <td>2018-06-03</td>\n",
       "      <td>-0.866025</td>\n",
       "      <td>Domingo</td>\n",
       "      <td>Flamengo</td>\n",
       "      <td>Corinthians</td>\n",
       "      <td>4-1-4-1</td>\n",
       "      <td>4-2-4-0</td>\n",
       "      <td>maracana</td>\n",
       "      <td>RJ</td>\n",
       "      <td>...</td>\n",
       "      <td>13.562914</td>\n",
       "      <td>1.894040</td>\n",
       "      <td>0.099338</td>\n",
       "      <td>1.079470</td>\n",
       "      <td>5.225166</td>\n",
       "      <td>1.0</td>\n",
       "      <td>2018</td>\n",
       "      <td>3</td>\n",
       "      <td>6</td>\n",
       "      <td>22</td>\n",
       "    </tr>\n",
       "  </tbody>\n",
       "</table>\n",
       "<p>5 rows × 26 columns</p>\n",
       "</div>"
      ],
      "text/plain": [
       "   rodada       data  hora_sin           dia  mandante      visitante  \\\n",
       "0       2 2018-04-21 -0.965926        Sabado  Flamengo     America-MG   \n",
       "1       4 2018-05-06 -0.866025       Domingo  Flamengo  Internacional   \n",
       "2       6 2018-05-19 -0.964787        Sabado  Flamengo          Vasco   \n",
       "3       8 2018-05-31 -0.866025  Quinta-feira  Flamengo          Bahia   \n",
       "4       9 2018-06-03 -0.866025       Domingo  Flamengo    Corinthians   \n",
       "\n",
       "  formacao_mandante formacao_visitante     arena mandante_estado  ...  \\\n",
       "0           4-1-4-1            4-2-3-1  maracana              RJ  ...   \n",
       "1           4-1-4-1            4-1-4-1  maracana              RJ  ...   \n",
       "2           4-1-4-1            4-2-3-1  maracana              RJ  ...   \n",
       "3           4-1-4-1            4-2-4-0  maracana              RJ  ...   \n",
       "4           4-1-4-1            4-2-4-0  maracana              RJ  ...   \n",
       "\n",
       "  visitante_faltas  visitante_cartao_amarelo  visitante_cartao_vermelho  \\\n",
       "0        14.959459                  1.945946                   0.121622   \n",
       "1        15.874172                  2.529801                   0.192053   \n",
       "2        15.309735                  2.424779                   0.159292   \n",
       "3        15.646667                  2.080000                   0.140000   \n",
       "4        13.562914                  1.894040                   0.099338   \n",
       "\n",
       "   visitante_impedimentos  visitante_escanteios  resultado   ano  dia_do_mes  \\\n",
       "0                1.675676              4.702703        1.0  2018          21   \n",
       "1                1.569536              5.675497        1.0  2018           6   \n",
       "2                1.185841              4.601770        0.0  2018          19   \n",
       "3                1.253333              5.386667        1.0  2018          31   \n",
       "4                1.079470              5.225166        1.0  2018           3   \n",
       "\n",
       "   mes  semana_do_ano  \n",
       "0    4             16  \n",
       "1    5             18  \n",
       "2    5             20  \n",
       "3    5             22  \n",
       "4    6             22  \n",
       "\n",
       "[5 rows x 26 columns]"
      ]
     },
     "execution_count": 58,
     "metadata": {},
     "output_type": "execute_result"
    }
   ],
   "source": [
    "df3['ano'] = df3.data.dt.year\n",
    "df3['dia_do_mes'] = df3.data.dt.day\n",
    "df3['mes'] = df3.data.dt.month\n",
    "df3['semana_do_ano'] = df3.data.dt.weekofyear\n",
    "\n",
    "df3.head()"
   ]
  },
  {
   "cell_type": "markdown",
   "id": "f740f90b",
   "metadata": {},
   "source": [
    "## 3.1 Data transformation "
   ]
  },
  {
   "cell_type": "code",
   "execution_count": 59,
   "id": "e3a23b08",
   "metadata": {
    "ExecuteTime": {
     "end_time": "2022-03-18T15:01:19.148575Z",
     "start_time": "2022-03-18T15:01:19.137938Z"
    }
   },
   "outputs": [],
   "source": [
    "# month\n",
    "df3['mes_sin'] = df3['mes'].apply(lambda x: np.sin(x * (2 * np.pi/12)))\n",
    "df3['mes_cos'] = df3['mes'].apply(lambda x: np.cos(x * (2 * np.pi/12)))\n",
    "# day\n",
    "df3['dia_do_mes_sin'] = df3['dia_do_mes'].apply(lambda x: np.sin(x * (2 * np.pi/30)))\n",
    "df3['dia_do_mes_cos'] = df3['dia_do_mes'].apply(lambda x: np.cos(x * (2 * np.pi/30)))\n",
    "# week of year\n",
    "df3['semana_do_ano_sin'] = df3['semana_do_ano'].apply(lambda x: np.sin(x * (2 * np.pi/52)))\n",
    "df3['semana_do_ano_cos'] = df3['semana_do_ano'].apply(lambda x: np.cos(x * (2 * np.pi/52)))"
   ]
  },
  {
   "cell_type": "code",
   "execution_count": 60,
   "id": "641d83bc",
   "metadata": {
    "ExecuteTime": {
     "end_time": "2022-03-18T15:01:19.170771Z",
     "start_time": "2022-03-18T15:01:19.150481Z"
    }
   },
   "outputs": [
    {
     "data": {
      "text/html": [
       "<div>\n",
       "<style scoped>\n",
       "    .dataframe tbody tr th:only-of-type {\n",
       "        vertical-align: middle;\n",
       "    }\n",
       "\n",
       "    .dataframe tbody tr th {\n",
       "        vertical-align: top;\n",
       "    }\n",
       "\n",
       "    .dataframe thead th {\n",
       "        text-align: right;\n",
       "    }\n",
       "</style>\n",
       "<table border=\"1\" class=\"dataframe\">\n",
       "  <thead>\n",
       "    <tr style=\"text-align: right;\">\n",
       "      <th></th>\n",
       "      <th>rodada</th>\n",
       "      <th>data</th>\n",
       "      <th>hora_sin</th>\n",
       "      <th>dia</th>\n",
       "      <th>mandante</th>\n",
       "      <th>visitante</th>\n",
       "      <th>formacao_mandante</th>\n",
       "      <th>formacao_visitante</th>\n",
       "      <th>arena</th>\n",
       "      <th>mandante_estado</th>\n",
       "      <th>...</th>\n",
       "      <th>ano</th>\n",
       "      <th>dia_do_mes</th>\n",
       "      <th>mes</th>\n",
       "      <th>semana_do_ano</th>\n",
       "      <th>mes_sin</th>\n",
       "      <th>mes_cos</th>\n",
       "      <th>dia_do_mes_sin</th>\n",
       "      <th>dia_do_mes_cos</th>\n",
       "      <th>semana_do_ano_sin</th>\n",
       "      <th>semana_do_ano_cos</th>\n",
       "    </tr>\n",
       "  </thead>\n",
       "  <tbody>\n",
       "    <tr>\n",
       "      <th>0</th>\n",
       "      <td>2</td>\n",
       "      <td>2018-04-21</td>\n",
       "      <td>-0.965926</td>\n",
       "      <td>Sabado</td>\n",
       "      <td>Flamengo</td>\n",
       "      <td>America-MG</td>\n",
       "      <td>4-1-4-1</td>\n",
       "      <td>4-2-3-1</td>\n",
       "      <td>maracana</td>\n",
       "      <td>RJ</td>\n",
       "      <td>...</td>\n",
       "      <td>2018</td>\n",
       "      <td>21</td>\n",
       "      <td>4</td>\n",
       "      <td>16</td>\n",
       "      <td>8.660254e-01</td>\n",
       "      <td>-0.500000</td>\n",
       "      <td>-0.951057</td>\n",
       "      <td>-0.309017</td>\n",
       "      <td>0.935016</td>\n",
       "      <td>-0.354605</td>\n",
       "    </tr>\n",
       "    <tr>\n",
       "      <th>1</th>\n",
       "      <td>4</td>\n",
       "      <td>2018-05-06</td>\n",
       "      <td>-0.866025</td>\n",
       "      <td>Domingo</td>\n",
       "      <td>Flamengo</td>\n",
       "      <td>Internacional</td>\n",
       "      <td>4-1-4-1</td>\n",
       "      <td>4-1-4-1</td>\n",
       "      <td>maracana</td>\n",
       "      <td>RJ</td>\n",
       "      <td>...</td>\n",
       "      <td>2018</td>\n",
       "      <td>6</td>\n",
       "      <td>5</td>\n",
       "      <td>18</td>\n",
       "      <td>5.000000e-01</td>\n",
       "      <td>-0.866025</td>\n",
       "      <td>0.951057</td>\n",
       "      <td>0.309017</td>\n",
       "      <td>0.822984</td>\n",
       "      <td>-0.568065</td>\n",
       "    </tr>\n",
       "    <tr>\n",
       "      <th>2</th>\n",
       "      <td>6</td>\n",
       "      <td>2018-05-19</td>\n",
       "      <td>-0.964787</td>\n",
       "      <td>Sabado</td>\n",
       "      <td>Flamengo</td>\n",
       "      <td>Vasco</td>\n",
       "      <td>4-1-4-1</td>\n",
       "      <td>4-2-3-1</td>\n",
       "      <td>maracana</td>\n",
       "      <td>RJ</td>\n",
       "      <td>...</td>\n",
       "      <td>2018</td>\n",
       "      <td>19</td>\n",
       "      <td>5</td>\n",
       "      <td>20</td>\n",
       "      <td>5.000000e-01</td>\n",
       "      <td>-0.866025</td>\n",
       "      <td>-0.743145</td>\n",
       "      <td>-0.669131</td>\n",
       "      <td>0.663123</td>\n",
       "      <td>-0.748511</td>\n",
       "    </tr>\n",
       "    <tr>\n",
       "      <th>3</th>\n",
       "      <td>8</td>\n",
       "      <td>2018-05-31</td>\n",
       "      <td>-0.866025</td>\n",
       "      <td>Quinta-feira</td>\n",
       "      <td>Flamengo</td>\n",
       "      <td>Bahia</td>\n",
       "      <td>4-1-4-1</td>\n",
       "      <td>4-2-4-0</td>\n",
       "      <td>maracana</td>\n",
       "      <td>RJ</td>\n",
       "      <td>...</td>\n",
       "      <td>2018</td>\n",
       "      <td>31</td>\n",
       "      <td>5</td>\n",
       "      <td>22</td>\n",
       "      <td>5.000000e-01</td>\n",
       "      <td>-0.866025</td>\n",
       "      <td>0.207912</td>\n",
       "      <td>0.978148</td>\n",
       "      <td>0.464723</td>\n",
       "      <td>-0.885456</td>\n",
       "    </tr>\n",
       "    <tr>\n",
       "      <th>4</th>\n",
       "      <td>9</td>\n",
       "      <td>2018-06-03</td>\n",
       "      <td>-0.866025</td>\n",
       "      <td>Domingo</td>\n",
       "      <td>Flamengo</td>\n",
       "      <td>Corinthians</td>\n",
       "      <td>4-1-4-1</td>\n",
       "      <td>4-2-4-0</td>\n",
       "      <td>maracana</td>\n",
       "      <td>RJ</td>\n",
       "      <td>...</td>\n",
       "      <td>2018</td>\n",
       "      <td>3</td>\n",
       "      <td>6</td>\n",
       "      <td>22</td>\n",
       "      <td>1.224647e-16</td>\n",
       "      <td>-1.000000</td>\n",
       "      <td>0.587785</td>\n",
       "      <td>0.809017</td>\n",
       "      <td>0.464723</td>\n",
       "      <td>-0.885456</td>\n",
       "    </tr>\n",
       "  </tbody>\n",
       "</table>\n",
       "<p>5 rows × 32 columns</p>\n",
       "</div>"
      ],
      "text/plain": [
       "   rodada       data  hora_sin           dia  mandante      visitante  \\\n",
       "0       2 2018-04-21 -0.965926        Sabado  Flamengo     America-MG   \n",
       "1       4 2018-05-06 -0.866025       Domingo  Flamengo  Internacional   \n",
       "2       6 2018-05-19 -0.964787        Sabado  Flamengo          Vasco   \n",
       "3       8 2018-05-31 -0.866025  Quinta-feira  Flamengo          Bahia   \n",
       "4       9 2018-06-03 -0.866025       Domingo  Flamengo    Corinthians   \n",
       "\n",
       "  formacao_mandante formacao_visitante     arena mandante_estado  ...   ano  \\\n",
       "0           4-1-4-1            4-2-3-1  maracana              RJ  ...  2018   \n",
       "1           4-1-4-1            4-1-4-1  maracana              RJ  ...  2018   \n",
       "2           4-1-4-1            4-2-3-1  maracana              RJ  ...  2018   \n",
       "3           4-1-4-1            4-2-4-0  maracana              RJ  ...  2018   \n",
       "4           4-1-4-1            4-2-4-0  maracana              RJ  ...  2018   \n",
       "\n",
       "   dia_do_mes  mes  semana_do_ano       mes_sin   mes_cos  dia_do_mes_sin  \\\n",
       "0          21    4             16  8.660254e-01 -0.500000       -0.951057   \n",
       "1           6    5             18  5.000000e-01 -0.866025        0.951057   \n",
       "2          19    5             20  5.000000e-01 -0.866025       -0.743145   \n",
       "3          31    5             22  5.000000e-01 -0.866025        0.207912   \n",
       "4           3    6             22  1.224647e-16 -1.000000        0.587785   \n",
       "\n",
       "   dia_do_mes_cos  semana_do_ano_sin  semana_do_ano_cos  \n",
       "0       -0.309017           0.935016          -0.354605  \n",
       "1        0.309017           0.822984          -0.568065  \n",
       "2       -0.669131           0.663123          -0.748511  \n",
       "3        0.978148           0.464723          -0.885456  \n",
       "4        0.809017           0.464723          -0.885456  \n",
       "\n",
       "[5 rows x 32 columns]"
      ]
     },
     "execution_count": 60,
     "metadata": {},
     "output_type": "execute_result"
    }
   ],
   "source": [
    "df3.head()"
   ]
  },
  {
   "cell_type": "code",
   "execution_count": 61,
   "id": "263654d5",
   "metadata": {
    "ExecuteTime": {
     "end_time": "2022-03-18T15:01:19.177565Z",
     "start_time": "2022-03-18T15:01:19.172148Z"
    }
   },
   "outputs": [],
   "source": [
    "# rodadas\n",
    "df3['rodadas_sin'] = df3['rodada'].apply(lambda x: np.sin(x * (2 * np.pi/38)))\n",
    "df3['rodadas_cos'] = df3['rodada'].apply(lambda x: np.cos(x * (2 * np.pi/38)))"
   ]
  },
  {
   "cell_type": "code",
   "execution_count": 62,
   "id": "7ece3577",
   "metadata": {
    "ExecuteTime": {
     "end_time": "2022-03-18T15:01:19.183057Z",
     "start_time": "2022-03-18T15:01:19.179294Z"
    }
   },
   "outputs": [
    {
     "data": {
      "text/plain": [
       "['rodada',\n",
       " 'data',\n",
       " 'hora_sin',\n",
       " 'dia',\n",
       " 'mandante',\n",
       " 'visitante',\n",
       " 'formacao_mandante',\n",
       " 'formacao_visitante',\n",
       " 'arena',\n",
       " 'mandante_estado',\n",
       " 'visitante_estado',\n",
       " 'visitante_chutes',\n",
       " 'visitante_chutes_no_alvo',\n",
       " 'visitante_posse_de_bola',\n",
       " 'visitante_passes',\n",
       " 'visitante_precisao_passes',\n",
       " 'visitante_faltas',\n",
       " 'visitante_cartao_amarelo',\n",
       " 'visitante_cartao_vermelho',\n",
       " 'visitante_impedimentos',\n",
       " 'visitante_escanteios',\n",
       " 'resultado',\n",
       " 'ano',\n",
       " 'dia_do_mes',\n",
       " 'mes',\n",
       " 'semana_do_ano',\n",
       " 'mes_sin',\n",
       " 'mes_cos',\n",
       " 'dia_do_mes_sin',\n",
       " 'dia_do_mes_cos',\n",
       " 'semana_do_ano_sin',\n",
       " 'semana_do_ano_cos',\n",
       " 'rodadas_sin',\n",
       " 'rodadas_cos']"
      ]
     },
     "execution_count": 62,
     "metadata": {},
     "output_type": "execute_result"
    }
   ],
   "source": [
    "df3.columns.tolist()"
   ]
  },
  {
   "cell_type": "code",
   "execution_count": 63,
   "id": "65e82b84",
   "metadata": {
    "ExecuteTime": {
     "end_time": "2022-03-18T15:01:19.188668Z",
     "start_time": "2022-03-18T15:01:19.184678Z"
    }
   },
   "outputs": [],
   "source": [
    "to_drop = ['dia', 'mes', 'ano', 'data', 'rodada', 'dia_do_mes', 'semana_do_ano']\n",
    "df3 = df3.drop(to_drop, axis=1)"
   ]
  },
  {
   "cell_type": "code",
   "execution_count": 64,
   "id": "5589328e",
   "metadata": {
    "ExecuteTime": {
     "end_time": "2022-03-18T15:01:19.214625Z",
     "start_time": "2022-03-18T15:01:19.190241Z"
    }
   },
   "outputs": [
    {
     "data": {
      "text/html": [
       "<div>\n",
       "<style scoped>\n",
       "    .dataframe tbody tr th:only-of-type {\n",
       "        vertical-align: middle;\n",
       "    }\n",
       "\n",
       "    .dataframe tbody tr th {\n",
       "        vertical-align: top;\n",
       "    }\n",
       "\n",
       "    .dataframe thead th {\n",
       "        text-align: right;\n",
       "    }\n",
       "</style>\n",
       "<table border=\"1\" class=\"dataframe\">\n",
       "  <thead>\n",
       "    <tr style=\"text-align: right;\">\n",
       "      <th></th>\n",
       "      <th>hora_sin</th>\n",
       "      <th>mandante</th>\n",
       "      <th>visitante</th>\n",
       "      <th>formacao_mandante</th>\n",
       "      <th>formacao_visitante</th>\n",
       "      <th>arena</th>\n",
       "      <th>mandante_estado</th>\n",
       "      <th>visitante_estado</th>\n",
       "      <th>visitante_chutes</th>\n",
       "      <th>visitante_chutes_no_alvo</th>\n",
       "      <th>...</th>\n",
       "      <th>visitante_escanteios</th>\n",
       "      <th>resultado</th>\n",
       "      <th>mes_sin</th>\n",
       "      <th>mes_cos</th>\n",
       "      <th>dia_do_mes_sin</th>\n",
       "      <th>dia_do_mes_cos</th>\n",
       "      <th>semana_do_ano_sin</th>\n",
       "      <th>semana_do_ano_cos</th>\n",
       "      <th>rodadas_sin</th>\n",
       "      <th>rodadas_cos</th>\n",
       "    </tr>\n",
       "  </thead>\n",
       "  <tbody>\n",
       "    <tr>\n",
       "      <th>0</th>\n",
       "      <td>-0.965926</td>\n",
       "      <td>Flamengo</td>\n",
       "      <td>America-MG</td>\n",
       "      <td>4-1-4-1</td>\n",
       "      <td>4-2-3-1</td>\n",
       "      <td>maracana</td>\n",
       "      <td>RJ</td>\n",
       "      <td>MG</td>\n",
       "      <td>12.891892</td>\n",
       "      <td>3.824324</td>\n",
       "      <td>...</td>\n",
       "      <td>4.702703</td>\n",
       "      <td>1.0</td>\n",
       "      <td>8.660254e-01</td>\n",
       "      <td>-0.500000</td>\n",
       "      <td>-0.951057</td>\n",
       "      <td>-0.309017</td>\n",
       "      <td>0.935016</td>\n",
       "      <td>-0.354605</td>\n",
       "      <td>0.324699</td>\n",
       "      <td>0.945817</td>\n",
       "    </tr>\n",
       "    <tr>\n",
       "      <th>1</th>\n",
       "      <td>-0.866025</td>\n",
       "      <td>Flamengo</td>\n",
       "      <td>Internacional</td>\n",
       "      <td>4-1-4-1</td>\n",
       "      <td>4-1-4-1</td>\n",
       "      <td>maracana</td>\n",
       "      <td>RJ</td>\n",
       "      <td>RS</td>\n",
       "      <td>12.728477</td>\n",
       "      <td>4.443709</td>\n",
       "      <td>...</td>\n",
       "      <td>5.675497</td>\n",
       "      <td>1.0</td>\n",
       "      <td>5.000000e-01</td>\n",
       "      <td>-0.866025</td>\n",
       "      <td>0.951057</td>\n",
       "      <td>0.309017</td>\n",
       "      <td>0.822984</td>\n",
       "      <td>-0.568065</td>\n",
       "      <td>0.614213</td>\n",
       "      <td>0.789141</td>\n",
       "    </tr>\n",
       "    <tr>\n",
       "      <th>2</th>\n",
       "      <td>-0.964787</td>\n",
       "      <td>Flamengo</td>\n",
       "      <td>Vasco</td>\n",
       "      <td>4-1-4-1</td>\n",
       "      <td>4-2-3-1</td>\n",
       "      <td>maracana</td>\n",
       "      <td>RJ</td>\n",
       "      <td>RJ</td>\n",
       "      <td>11.938053</td>\n",
       "      <td>3.902655</td>\n",
       "      <td>...</td>\n",
       "      <td>4.601770</td>\n",
       "      <td>0.0</td>\n",
       "      <td>5.000000e-01</td>\n",
       "      <td>-0.866025</td>\n",
       "      <td>-0.743145</td>\n",
       "      <td>-0.669131</td>\n",
       "      <td>0.663123</td>\n",
       "      <td>-0.748511</td>\n",
       "      <td>0.837166</td>\n",
       "      <td>0.546948</td>\n",
       "    </tr>\n",
       "    <tr>\n",
       "      <th>3</th>\n",
       "      <td>-0.866025</td>\n",
       "      <td>Flamengo</td>\n",
       "      <td>Bahia</td>\n",
       "      <td>4-1-4-1</td>\n",
       "      <td>4-2-4-0</td>\n",
       "      <td>maracana</td>\n",
       "      <td>RJ</td>\n",
       "      <td>BA</td>\n",
       "      <td>13.173333</td>\n",
       "      <td>4.360000</td>\n",
       "      <td>...</td>\n",
       "      <td>5.386667</td>\n",
       "      <td>1.0</td>\n",
       "      <td>5.000000e-01</td>\n",
       "      <td>-0.866025</td>\n",
       "      <td>0.207912</td>\n",
       "      <td>0.978148</td>\n",
       "      <td>0.464723</td>\n",
       "      <td>-0.885456</td>\n",
       "      <td>0.969400</td>\n",
       "      <td>0.245485</td>\n",
       "    </tr>\n",
       "    <tr>\n",
       "      <th>4</th>\n",
       "      <td>-0.866025</td>\n",
       "      <td>Flamengo</td>\n",
       "      <td>Corinthians</td>\n",
       "      <td>4-1-4-1</td>\n",
       "      <td>4-2-4-0</td>\n",
       "      <td>maracana</td>\n",
       "      <td>RJ</td>\n",
       "      <td>SP</td>\n",
       "      <td>11.655629</td>\n",
       "      <td>3.894040</td>\n",
       "      <td>...</td>\n",
       "      <td>5.225166</td>\n",
       "      <td>1.0</td>\n",
       "      <td>1.224647e-16</td>\n",
       "      <td>-1.000000</td>\n",
       "      <td>0.587785</td>\n",
       "      <td>0.809017</td>\n",
       "      <td>0.464723</td>\n",
       "      <td>-0.885456</td>\n",
       "      <td>0.996584</td>\n",
       "      <td>0.082579</td>\n",
       "    </tr>\n",
       "  </tbody>\n",
       "</table>\n",
       "<p>5 rows × 27 columns</p>\n",
       "</div>"
      ],
      "text/plain": [
       "   hora_sin  mandante      visitante formacao_mandante formacao_visitante  \\\n",
       "0 -0.965926  Flamengo     America-MG           4-1-4-1            4-2-3-1   \n",
       "1 -0.866025  Flamengo  Internacional           4-1-4-1            4-1-4-1   \n",
       "2 -0.964787  Flamengo          Vasco           4-1-4-1            4-2-3-1   \n",
       "3 -0.866025  Flamengo          Bahia           4-1-4-1            4-2-4-0   \n",
       "4 -0.866025  Flamengo    Corinthians           4-1-4-1            4-2-4-0   \n",
       "\n",
       "      arena mandante_estado visitante_estado  visitante_chutes  \\\n",
       "0  maracana              RJ               MG         12.891892   \n",
       "1  maracana              RJ               RS         12.728477   \n",
       "2  maracana              RJ               RJ         11.938053   \n",
       "3  maracana              RJ               BA         13.173333   \n",
       "4  maracana              RJ               SP         11.655629   \n",
       "\n",
       "   visitante_chutes_no_alvo  ...  visitante_escanteios  resultado  \\\n",
       "0                  3.824324  ...              4.702703        1.0   \n",
       "1                  4.443709  ...              5.675497        1.0   \n",
       "2                  3.902655  ...              4.601770        0.0   \n",
       "3                  4.360000  ...              5.386667        1.0   \n",
       "4                  3.894040  ...              5.225166        1.0   \n",
       "\n",
       "        mes_sin   mes_cos  dia_do_mes_sin  dia_do_mes_cos  semana_do_ano_sin  \\\n",
       "0  8.660254e-01 -0.500000       -0.951057       -0.309017           0.935016   \n",
       "1  5.000000e-01 -0.866025        0.951057        0.309017           0.822984   \n",
       "2  5.000000e-01 -0.866025       -0.743145       -0.669131           0.663123   \n",
       "3  5.000000e-01 -0.866025        0.207912        0.978148           0.464723   \n",
       "4  1.224647e-16 -1.000000        0.587785        0.809017           0.464723   \n",
       "\n",
       "   semana_do_ano_cos  rodadas_sin  rodadas_cos  \n",
       "0          -0.354605     0.324699     0.945817  \n",
       "1          -0.568065     0.614213     0.789141  \n",
       "2          -0.748511     0.837166     0.546948  \n",
       "3          -0.885456     0.969400     0.245485  \n",
       "4          -0.885456     0.996584     0.082579  \n",
       "\n",
       "[5 rows x 27 columns]"
      ]
     },
     "execution_count": 64,
     "metadata": {},
     "output_type": "execute_result"
    }
   ],
   "source": [
    "df3.head()"
   ]
  },
  {
   "cell_type": "code",
   "execution_count": 65,
   "id": "62b9f6aa",
   "metadata": {
    "ExecuteTime": {
     "end_time": "2022-03-18T15:01:19.219711Z",
     "start_time": "2022-03-18T15:01:19.216492Z"
    }
   },
   "outputs": [],
   "source": [
    "df3.insert(len(df3.columns.tolist()), 'resultado_final', df3.resultado)"
   ]
  },
  {
   "cell_type": "code",
   "execution_count": 66,
   "id": "4fd0d678",
   "metadata": {
    "ExecuteTime": {
     "end_time": "2022-03-18T15:01:19.227614Z",
     "start_time": "2022-03-18T15:01:19.221050Z"
    }
   },
   "outputs": [],
   "source": [
    "df3 = df3.drop('resultado', axis = 1)"
   ]
  },
  {
   "cell_type": "code",
   "execution_count": 67,
   "id": "e1ba7ec8",
   "metadata": {
    "ExecuteTime": {
     "end_time": "2022-03-18T15:01:19.232513Z",
     "start_time": "2022-03-18T15:01:19.229332Z"
    }
   },
   "outputs": [],
   "source": [
    "df3['resultado_final'] = df3.resultado_final.astype(int)"
   ]
  },
  {
   "cell_type": "code",
   "execution_count": 68,
   "id": "fb737ae7",
   "metadata": {
    "ExecuteTime": {
     "end_time": "2022-03-18T15:01:19.239682Z",
     "start_time": "2022-03-18T15:01:19.234164Z"
    }
   },
   "outputs": [
    {
     "data": {
      "text/plain": [
       "hora_sin                     float64\n",
       "mandante                      object\n",
       "visitante                     object\n",
       "formacao_mandante             object\n",
       "formacao_visitante            object\n",
       "arena                         object\n",
       "mandante_estado               object\n",
       "visitante_estado              object\n",
       "visitante_chutes             float64\n",
       "visitante_chutes_no_alvo     float64\n",
       "visitante_posse_de_bola      float64\n",
       "visitante_passes             float64\n",
       "visitante_precisao_passes    float64\n",
       "visitante_faltas             float64\n",
       "visitante_cartao_amarelo     float64\n",
       "visitante_cartao_vermelho    float64\n",
       "visitante_impedimentos       float64\n",
       "visitante_escanteios         float64\n",
       "mes_sin                      float64\n",
       "mes_cos                      float64\n",
       "dia_do_mes_sin               float64\n",
       "dia_do_mes_cos               float64\n",
       "semana_do_ano_sin            float64\n",
       "semana_do_ano_cos            float64\n",
       "rodadas_sin                  float64\n",
       "rodadas_cos                  float64\n",
       "resultado_final                int64\n",
       "dtype: object"
      ]
     },
     "execution_count": 68,
     "metadata": {},
     "output_type": "execute_result"
    }
   ],
   "source": [
    "df3.dtypes"
   ]
  },
  {
   "cell_type": "code",
   "execution_count": 69,
   "id": "f75e3682",
   "metadata": {
    "ExecuteTime": {
     "end_time": "2022-03-18T15:01:19.246167Z",
     "start_time": "2022-03-18T15:01:19.241336Z"
    }
   },
   "outputs": [],
   "source": [
    "categorical = ['mandante', 'visitante']\n",
    "target = ['resultado_final']\n",
    "\n",
    "df3_cat = df3[categorical]\n",
    "df3_target = df3[target]"
   ]
  },
  {
   "cell_type": "code",
   "execution_count": 70,
   "id": "30bae413",
   "metadata": {
    "ExecuteTime": {
     "end_time": "2022-03-18T15:01:19.254324Z",
     "start_time": "2022-03-18T15:01:19.248018Z"
    }
   },
   "outputs": [],
   "source": [
    "df3_cat_dummies = pd.get_dummies(df3_cat)"
   ]
  },
  {
   "cell_type": "code",
   "execution_count": 71,
   "id": "499db33c",
   "metadata": {
    "ExecuteTime": {
     "end_time": "2022-03-18T15:01:19.272184Z",
     "start_time": "2022-03-18T15:01:19.256007Z"
    }
   },
   "outputs": [
    {
     "data": {
      "text/html": [
       "<div>\n",
       "<style scoped>\n",
       "    .dataframe tbody tr th:only-of-type {\n",
       "        vertical-align: middle;\n",
       "    }\n",
       "\n",
       "    .dataframe tbody tr th {\n",
       "        vertical-align: top;\n",
       "    }\n",
       "\n",
       "    .dataframe thead th {\n",
       "        text-align: right;\n",
       "    }\n",
       "</style>\n",
       "<table border=\"1\" class=\"dataframe\">\n",
       "  <thead>\n",
       "    <tr style=\"text-align: right;\">\n",
       "      <th></th>\n",
       "      <th>mandante_America-MG</th>\n",
       "      <th>mandante_Athletico-PR</th>\n",
       "      <th>mandante_Atletico-GO</th>\n",
       "      <th>mandante_Atletico-MG</th>\n",
       "      <th>mandante_Avai</th>\n",
       "      <th>mandante_Bahia</th>\n",
       "      <th>mandante_Botafogo-RJ</th>\n",
       "      <th>mandante_Bragantino</th>\n",
       "      <th>mandante_CSA</th>\n",
       "      <th>mandante_Ceara</th>\n",
       "      <th>...</th>\n",
       "      <th>visitante_Gremio</th>\n",
       "      <th>visitante_Internacional</th>\n",
       "      <th>visitante_Juventude</th>\n",
       "      <th>visitante_Palmeiras</th>\n",
       "      <th>visitante_Parana</th>\n",
       "      <th>visitante_Santos</th>\n",
       "      <th>visitante_Sao Paulo</th>\n",
       "      <th>visitante_Sport</th>\n",
       "      <th>visitante_Vasco</th>\n",
       "      <th>visitante_Vitoria</th>\n",
       "    </tr>\n",
       "  </thead>\n",
       "  <tbody>\n",
       "    <tr>\n",
       "      <th>0</th>\n",
       "      <td>0</td>\n",
       "      <td>0</td>\n",
       "      <td>0</td>\n",
       "      <td>0</td>\n",
       "      <td>0</td>\n",
       "      <td>0</td>\n",
       "      <td>0</td>\n",
       "      <td>0</td>\n",
       "      <td>0</td>\n",
       "      <td>0</td>\n",
       "      <td>...</td>\n",
       "      <td>0</td>\n",
       "      <td>0</td>\n",
       "      <td>0</td>\n",
       "      <td>0</td>\n",
       "      <td>0</td>\n",
       "      <td>0</td>\n",
       "      <td>0</td>\n",
       "      <td>0</td>\n",
       "      <td>0</td>\n",
       "      <td>0</td>\n",
       "    </tr>\n",
       "    <tr>\n",
       "      <th>1</th>\n",
       "      <td>0</td>\n",
       "      <td>0</td>\n",
       "      <td>0</td>\n",
       "      <td>0</td>\n",
       "      <td>0</td>\n",
       "      <td>0</td>\n",
       "      <td>0</td>\n",
       "      <td>0</td>\n",
       "      <td>0</td>\n",
       "      <td>0</td>\n",
       "      <td>...</td>\n",
       "      <td>0</td>\n",
       "      <td>1</td>\n",
       "      <td>0</td>\n",
       "      <td>0</td>\n",
       "      <td>0</td>\n",
       "      <td>0</td>\n",
       "      <td>0</td>\n",
       "      <td>0</td>\n",
       "      <td>0</td>\n",
       "      <td>0</td>\n",
       "    </tr>\n",
       "    <tr>\n",
       "      <th>2</th>\n",
       "      <td>0</td>\n",
       "      <td>0</td>\n",
       "      <td>0</td>\n",
       "      <td>0</td>\n",
       "      <td>0</td>\n",
       "      <td>0</td>\n",
       "      <td>0</td>\n",
       "      <td>0</td>\n",
       "      <td>0</td>\n",
       "      <td>0</td>\n",
       "      <td>...</td>\n",
       "      <td>0</td>\n",
       "      <td>0</td>\n",
       "      <td>0</td>\n",
       "      <td>0</td>\n",
       "      <td>0</td>\n",
       "      <td>0</td>\n",
       "      <td>0</td>\n",
       "      <td>0</td>\n",
       "      <td>1</td>\n",
       "      <td>0</td>\n",
       "    </tr>\n",
       "    <tr>\n",
       "      <th>3</th>\n",
       "      <td>0</td>\n",
       "      <td>0</td>\n",
       "      <td>0</td>\n",
       "      <td>0</td>\n",
       "      <td>0</td>\n",
       "      <td>0</td>\n",
       "      <td>0</td>\n",
       "      <td>0</td>\n",
       "      <td>0</td>\n",
       "      <td>0</td>\n",
       "      <td>...</td>\n",
       "      <td>0</td>\n",
       "      <td>0</td>\n",
       "      <td>0</td>\n",
       "      <td>0</td>\n",
       "      <td>0</td>\n",
       "      <td>0</td>\n",
       "      <td>0</td>\n",
       "      <td>0</td>\n",
       "      <td>0</td>\n",
       "      <td>0</td>\n",
       "    </tr>\n",
       "    <tr>\n",
       "      <th>4</th>\n",
       "      <td>0</td>\n",
       "      <td>0</td>\n",
       "      <td>0</td>\n",
       "      <td>0</td>\n",
       "      <td>0</td>\n",
       "      <td>0</td>\n",
       "      <td>0</td>\n",
       "      <td>0</td>\n",
       "      <td>0</td>\n",
       "      <td>0</td>\n",
       "      <td>...</td>\n",
       "      <td>0</td>\n",
       "      <td>0</td>\n",
       "      <td>0</td>\n",
       "      <td>0</td>\n",
       "      <td>0</td>\n",
       "      <td>0</td>\n",
       "      <td>0</td>\n",
       "      <td>0</td>\n",
       "      <td>0</td>\n",
       "      <td>0</td>\n",
       "    </tr>\n",
       "    <tr>\n",
       "      <th>...</th>\n",
       "      <td>...</td>\n",
       "      <td>...</td>\n",
       "      <td>...</td>\n",
       "      <td>...</td>\n",
       "      <td>...</td>\n",
       "      <td>...</td>\n",
       "      <td>...</td>\n",
       "      <td>...</td>\n",
       "      <td>...</td>\n",
       "      <td>...</td>\n",
       "      <td>...</td>\n",
       "      <td>...</td>\n",
       "      <td>...</td>\n",
       "      <td>...</td>\n",
       "      <td>...</td>\n",
       "      <td>...</td>\n",
       "      <td>...</td>\n",
       "      <td>...</td>\n",
       "      <td>...</td>\n",
       "      <td>...</td>\n",
       "      <td>...</td>\n",
       "    </tr>\n",
       "    <tr>\n",
       "      <th>147</th>\n",
       "      <td>0</td>\n",
       "      <td>0</td>\n",
       "      <td>0</td>\n",
       "      <td>0</td>\n",
       "      <td>0</td>\n",
       "      <td>0</td>\n",
       "      <td>0</td>\n",
       "      <td>0</td>\n",
       "      <td>0</td>\n",
       "      <td>0</td>\n",
       "      <td>...</td>\n",
       "      <td>0</td>\n",
       "      <td>0</td>\n",
       "      <td>0</td>\n",
       "      <td>0</td>\n",
       "      <td>0</td>\n",
       "      <td>0</td>\n",
       "      <td>0</td>\n",
       "      <td>0</td>\n",
       "      <td>0</td>\n",
       "      <td>0</td>\n",
       "    </tr>\n",
       "    <tr>\n",
       "      <th>148</th>\n",
       "      <td>0</td>\n",
       "      <td>0</td>\n",
       "      <td>0</td>\n",
       "      <td>0</td>\n",
       "      <td>0</td>\n",
       "      <td>0</td>\n",
       "      <td>0</td>\n",
       "      <td>0</td>\n",
       "      <td>0</td>\n",
       "      <td>0</td>\n",
       "      <td>...</td>\n",
       "      <td>0</td>\n",
       "      <td>0</td>\n",
       "      <td>0</td>\n",
       "      <td>0</td>\n",
       "      <td>0</td>\n",
       "      <td>0</td>\n",
       "      <td>0</td>\n",
       "      <td>0</td>\n",
       "      <td>0</td>\n",
       "      <td>0</td>\n",
       "    </tr>\n",
       "    <tr>\n",
       "      <th>149</th>\n",
       "      <td>0</td>\n",
       "      <td>0</td>\n",
       "      <td>0</td>\n",
       "      <td>0</td>\n",
       "      <td>0</td>\n",
       "      <td>0</td>\n",
       "      <td>0</td>\n",
       "      <td>0</td>\n",
       "      <td>0</td>\n",
       "      <td>0</td>\n",
       "      <td>...</td>\n",
       "      <td>0</td>\n",
       "      <td>0</td>\n",
       "      <td>0</td>\n",
       "      <td>0</td>\n",
       "      <td>0</td>\n",
       "      <td>0</td>\n",
       "      <td>0</td>\n",
       "      <td>0</td>\n",
       "      <td>0</td>\n",
       "      <td>0</td>\n",
       "    </tr>\n",
       "    <tr>\n",
       "      <th>150</th>\n",
       "      <td>0</td>\n",
       "      <td>0</td>\n",
       "      <td>0</td>\n",
       "      <td>0</td>\n",
       "      <td>0</td>\n",
       "      <td>0</td>\n",
       "      <td>0</td>\n",
       "      <td>0</td>\n",
       "      <td>0</td>\n",
       "      <td>0</td>\n",
       "      <td>...</td>\n",
       "      <td>0</td>\n",
       "      <td>0</td>\n",
       "      <td>0</td>\n",
       "      <td>0</td>\n",
       "      <td>0</td>\n",
       "      <td>0</td>\n",
       "      <td>0</td>\n",
       "      <td>0</td>\n",
       "      <td>0</td>\n",
       "      <td>0</td>\n",
       "    </tr>\n",
       "    <tr>\n",
       "      <th>151</th>\n",
       "      <td>0</td>\n",
       "      <td>0</td>\n",
       "      <td>1</td>\n",
       "      <td>0</td>\n",
       "      <td>0</td>\n",
       "      <td>0</td>\n",
       "      <td>0</td>\n",
       "      <td>0</td>\n",
       "      <td>0</td>\n",
       "      <td>0</td>\n",
       "      <td>...</td>\n",
       "      <td>0</td>\n",
       "      <td>0</td>\n",
       "      <td>0</td>\n",
       "      <td>0</td>\n",
       "      <td>0</td>\n",
       "      <td>0</td>\n",
       "      <td>0</td>\n",
       "      <td>0</td>\n",
       "      <td>0</td>\n",
       "      <td>0</td>\n",
       "    </tr>\n",
       "  </tbody>\n",
       "</table>\n",
       "<p>152 rows × 58 columns</p>\n",
       "</div>"
      ],
      "text/plain": [
       "     mandante_America-MG  mandante_Athletico-PR  mandante_Atletico-GO  \\\n",
       "0                      0                      0                     0   \n",
       "1                      0                      0                     0   \n",
       "2                      0                      0                     0   \n",
       "3                      0                      0                     0   \n",
       "4                      0                      0                     0   \n",
       "..                   ...                    ...                   ...   \n",
       "147                    0                      0                     0   \n",
       "148                    0                      0                     0   \n",
       "149                    0                      0                     0   \n",
       "150                    0                      0                     0   \n",
       "151                    0                      0                     1   \n",
       "\n",
       "     mandante_Atletico-MG  mandante_Avai  mandante_Bahia  \\\n",
       "0                       0              0               0   \n",
       "1                       0              0               0   \n",
       "2                       0              0               0   \n",
       "3                       0              0               0   \n",
       "4                       0              0               0   \n",
       "..                    ...            ...             ...   \n",
       "147                     0              0               0   \n",
       "148                     0              0               0   \n",
       "149                     0              0               0   \n",
       "150                     0              0               0   \n",
       "151                     0              0               0   \n",
       "\n",
       "     mandante_Botafogo-RJ  mandante_Bragantino  mandante_CSA  mandante_Ceara  \\\n",
       "0                       0                    0             0               0   \n",
       "1                       0                    0             0               0   \n",
       "2                       0                    0             0               0   \n",
       "3                       0                    0             0               0   \n",
       "4                       0                    0             0               0   \n",
       "..                    ...                  ...           ...             ...   \n",
       "147                     0                    0             0               0   \n",
       "148                     0                    0             0               0   \n",
       "149                     0                    0             0               0   \n",
       "150                     0                    0             0               0   \n",
       "151                     0                    0             0               0   \n",
       "\n",
       "     ...  visitante_Gremio  visitante_Internacional  visitante_Juventude  \\\n",
       "0    ...                 0                        0                    0   \n",
       "1    ...                 0                        1                    0   \n",
       "2    ...                 0                        0                    0   \n",
       "3    ...                 0                        0                    0   \n",
       "4    ...                 0                        0                    0   \n",
       "..   ...               ...                      ...                  ...   \n",
       "147  ...                 0                        0                    0   \n",
       "148  ...                 0                        0                    0   \n",
       "149  ...                 0                        0                    0   \n",
       "150  ...                 0                        0                    0   \n",
       "151  ...                 0                        0                    0   \n",
       "\n",
       "     visitante_Palmeiras  visitante_Parana  visitante_Santos  \\\n",
       "0                      0                 0                 0   \n",
       "1                      0                 0                 0   \n",
       "2                      0                 0                 0   \n",
       "3                      0                 0                 0   \n",
       "4                      0                 0                 0   \n",
       "..                   ...               ...               ...   \n",
       "147                    0                 0                 0   \n",
       "148                    0                 0                 0   \n",
       "149                    0                 0                 0   \n",
       "150                    0                 0                 0   \n",
       "151                    0                 0                 0   \n",
       "\n",
       "     visitante_Sao Paulo  visitante_Sport  visitante_Vasco  visitante_Vitoria  \n",
       "0                      0                0                0                  0  \n",
       "1                      0                0                0                  0  \n",
       "2                      0                0                1                  0  \n",
       "3                      0                0                0                  0  \n",
       "4                      0                0                0                  0  \n",
       "..                   ...              ...              ...                ...  \n",
       "147                    0                0                0                  0  \n",
       "148                    0                0                0                  0  \n",
       "149                    0                0                0                  0  \n",
       "150                    0                0                0                  0  \n",
       "151                    0                0                0                  0  \n",
       "\n",
       "[152 rows x 58 columns]"
      ]
     },
     "execution_count": 71,
     "metadata": {},
     "output_type": "execute_result"
    }
   ],
   "source": [
    "df3_cat_dummies"
   ]
  },
  {
   "cell_type": "code",
   "execution_count": 72,
   "id": "87dcfab5",
   "metadata": {
    "ExecuteTime": {
     "end_time": "2022-03-18T15:01:19.276510Z",
     "start_time": "2022-03-18T15:01:19.273594Z"
    }
   },
   "outputs": [],
   "source": [
    "categorical.append(target[0])"
   ]
  },
  {
   "cell_type": "code",
   "execution_count": 73,
   "id": "aba07f64",
   "metadata": {
    "ExecuteTime": {
     "end_time": "2022-03-18T15:01:19.280718Z",
     "start_time": "2022-03-18T15:01:19.278181Z"
    }
   },
   "outputs": [],
   "source": [
    "to_drop = ['mandante',\n",
    "           'visitante',\n",
    "           'formacao_mandante',\n",
    "           'formacao_visitante',\n",
    "           'arena',\n",
    "           'mandante_estado',\n",
    "           'visitante_estado',\n",
    "           'resultado_final']"
   ]
  },
  {
   "cell_type": "code",
   "execution_count": 74,
   "id": "76908b26",
   "metadata": {
    "ExecuteTime": {
     "end_time": "2022-03-18T15:01:19.286619Z",
     "start_time": "2022-03-18T15:01:19.282292Z"
    }
   },
   "outputs": [],
   "source": [
    "df3_numeric = df3.drop(to_drop, axis=1)"
   ]
  },
  {
   "cell_type": "code",
   "execution_count": 75,
   "id": "1f3c520b",
   "metadata": {
    "ExecuteTime": {
     "end_time": "2022-03-18T15:01:19.291153Z",
     "start_time": "2022-03-18T15:01:19.288494Z"
    }
   },
   "outputs": [],
   "source": [
    "columns = df3_numeric.columns.tolist()"
   ]
  },
  {
   "cell_type": "code",
   "execution_count": 76,
   "id": "44fa07a7",
   "metadata": {
    "ExecuteTime": {
     "end_time": "2022-03-18T15:01:19.299800Z",
     "start_time": "2022-03-18T15:01:19.292481Z"
    }
   },
   "outputs": [],
   "source": [
    "ss = StandardScaler()\n",
    "df3_numeric_scaled = pd.DataFrame(ss.fit_transform(df3_numeric), columns=columns)"
   ]
  },
  {
   "cell_type": "code",
   "execution_count": 77,
   "id": "93ef12a8",
   "metadata": {
    "ExecuteTime": {
     "end_time": "2022-03-18T15:01:19.319614Z",
     "start_time": "2022-03-18T15:01:19.301638Z"
    }
   },
   "outputs": [
    {
     "data": {
      "text/html": [
       "<div>\n",
       "<style scoped>\n",
       "    .dataframe tbody tr th:only-of-type {\n",
       "        vertical-align: middle;\n",
       "    }\n",
       "\n",
       "    .dataframe tbody tr th {\n",
       "        vertical-align: top;\n",
       "    }\n",
       "\n",
       "    .dataframe thead th {\n",
       "        text-align: right;\n",
       "    }\n",
       "</style>\n",
       "<table border=\"1\" class=\"dataframe\">\n",
       "  <thead>\n",
       "    <tr style=\"text-align: right;\">\n",
       "      <th></th>\n",
       "      <th>hora_sin</th>\n",
       "      <th>visitante_chutes</th>\n",
       "      <th>visitante_chutes_no_alvo</th>\n",
       "      <th>visitante_posse_de_bola</th>\n",
       "      <th>visitante_passes</th>\n",
       "      <th>visitante_precisao_passes</th>\n",
       "      <th>visitante_faltas</th>\n",
       "      <th>visitante_cartao_amarelo</th>\n",
       "      <th>visitante_cartao_vermelho</th>\n",
       "      <th>visitante_impedimentos</th>\n",
       "      <th>visitante_escanteios</th>\n",
       "      <th>mes_sin</th>\n",
       "      <th>mes_cos</th>\n",
       "      <th>dia_do_mes_sin</th>\n",
       "      <th>dia_do_mes_cos</th>\n",
       "      <th>semana_do_ano_sin</th>\n",
       "      <th>semana_do_ano_cos</th>\n",
       "      <th>rodadas_sin</th>\n",
       "      <th>rodadas_cos</th>\n",
       "    </tr>\n",
       "  </thead>\n",
       "  <tbody>\n",
       "    <tr>\n",
       "      <th>0</th>\n",
       "      <td>-0.608558</td>\n",
       "      <td>-0.628594</td>\n",
       "      <td>-1.149864</td>\n",
       "      <td>-1.251896</td>\n",
       "      <td>-1.043831</td>\n",
       "      <td>-1.699672</td>\n",
       "      <td>-0.363629</td>\n",
       "      <td>-1.739478</td>\n",
       "      <td>-0.064150</td>\n",
       "      <td>1.856592</td>\n",
       "      <td>-1.259964</td>\n",
       "      <td>2.192844</td>\n",
       "      <td>-0.793995</td>\n",
       "      <td>-1.486235</td>\n",
       "      <td>-0.392213</td>\n",
       "      <td>2.235222</td>\n",
       "      <td>-0.464693</td>\n",
       "      <td>0.459194</td>\n",
       "      <td>1.337588</td>\n",
       "    </tr>\n",
       "    <tr>\n",
       "      <th>1</th>\n",
       "      <td>-0.267492</td>\n",
       "      <td>-0.739187</td>\n",
       "      <td>-0.464192</td>\n",
       "      <td>-0.541584</td>\n",
       "      <td>-0.370520</td>\n",
       "      <td>-0.715651</td>\n",
       "      <td>1.121556</td>\n",
       "      <td>2.273358</td>\n",
       "      <td>2.559600</td>\n",
       "      <td>1.302030</td>\n",
       "      <td>0.027790</td>\n",
       "      <td>1.558899</td>\n",
       "      <td>-1.310281</td>\n",
       "      <td>1.253283</td>\n",
       "      <td>0.472745</td>\n",
       "      <td>2.048579</td>\n",
       "      <td>-0.775037</td>\n",
       "      <td>0.868628</td>\n",
       "      <td>1.116013</td>\n",
       "    </tr>\n",
       "    <tr>\n",
       "      <th>2</th>\n",
       "      <td>-0.604672</td>\n",
       "      <td>-1.274114</td>\n",
       "      <td>-1.063151</td>\n",
       "      <td>-1.416720</td>\n",
       "      <td>-1.363672</td>\n",
       "      <td>-1.106054</td>\n",
       "      <td>0.205100</td>\n",
       "      <td>1.551538</td>\n",
       "      <td>1.339170</td>\n",
       "      <td>-0.702728</td>\n",
       "      <td>-1.393576</td>\n",
       "      <td>1.558899</td>\n",
       "      <td>-1.310281</td>\n",
       "      <td>-1.186790</td>\n",
       "      <td>-0.896203</td>\n",
       "      <td>1.782255</td>\n",
       "      <td>-1.037384</td>\n",
       "      <td>1.183932</td>\n",
       "      <td>0.773502</td>\n",
       "    </tr>\n",
       "    <tr>\n",
       "      <th>3</th>\n",
       "      <td>-0.267492</td>\n",
       "      <td>-0.438125</td>\n",
       "      <td>-0.556860</td>\n",
       "      <td>-1.293223</td>\n",
       "      <td>-1.218704</td>\n",
       "      <td>-1.424800</td>\n",
       "      <td>0.752164</td>\n",
       "      <td>-0.818125</td>\n",
       "      <td>0.620492</td>\n",
       "      <td>-0.350088</td>\n",
       "      <td>-0.354554</td>\n",
       "      <td>1.558899</td>\n",
       "      <td>-1.310281</td>\n",
       "      <td>0.182969</td>\n",
       "      <td>1.409214</td>\n",
       "      <td>1.451727</td>\n",
       "      <td>-1.236485</td>\n",
       "      <td>1.370939</td>\n",
       "      <td>0.347169</td>\n",
       "    </tr>\n",
       "    <tr>\n",
       "      <th>4</th>\n",
       "      <td>-0.267492</td>\n",
       "      <td>-1.465248</td>\n",
       "      <td>-1.072688</td>\n",
       "      <td>-0.272246</td>\n",
       "      <td>0.197677</td>\n",
       "      <td>-0.045337</td>\n",
       "      <td>-2.631148</td>\n",
       "      <td>-2.096229</td>\n",
       "      <td>-0.894282</td>\n",
       "      <td>-1.258499</td>\n",
       "      <td>-0.568344</td>\n",
       "      <td>0.692913</td>\n",
       "      <td>-1.499255</td>\n",
       "      <td>0.730082</td>\n",
       "      <td>1.172511</td>\n",
       "      <td>1.451727</td>\n",
       "      <td>-1.236485</td>\n",
       "      <td>1.409383</td>\n",
       "      <td>0.116785</td>\n",
       "    </tr>\n",
       "  </tbody>\n",
       "</table>\n",
       "</div>"
      ],
      "text/plain": [
       "   hora_sin  visitante_chutes  visitante_chutes_no_alvo  \\\n",
       "0 -0.608558         -0.628594                 -1.149864   \n",
       "1 -0.267492         -0.739187                 -0.464192   \n",
       "2 -0.604672         -1.274114                 -1.063151   \n",
       "3 -0.267492         -0.438125                 -0.556860   \n",
       "4 -0.267492         -1.465248                 -1.072688   \n",
       "\n",
       "   visitante_posse_de_bola  visitante_passes  visitante_precisao_passes  \\\n",
       "0                -1.251896         -1.043831                  -1.699672   \n",
       "1                -0.541584         -0.370520                  -0.715651   \n",
       "2                -1.416720         -1.363672                  -1.106054   \n",
       "3                -1.293223         -1.218704                  -1.424800   \n",
       "4                -0.272246          0.197677                  -0.045337   \n",
       "\n",
       "   visitante_faltas  visitante_cartao_amarelo  visitante_cartao_vermelho  \\\n",
       "0         -0.363629                 -1.739478                  -0.064150   \n",
       "1          1.121556                  2.273358                   2.559600   \n",
       "2          0.205100                  1.551538                   1.339170   \n",
       "3          0.752164                 -0.818125                   0.620492   \n",
       "4         -2.631148                 -2.096229                  -0.894282   \n",
       "\n",
       "   visitante_impedimentos  visitante_escanteios   mes_sin   mes_cos  \\\n",
       "0                1.856592             -1.259964  2.192844 -0.793995   \n",
       "1                1.302030              0.027790  1.558899 -1.310281   \n",
       "2               -0.702728             -1.393576  1.558899 -1.310281   \n",
       "3               -0.350088             -0.354554  1.558899 -1.310281   \n",
       "4               -1.258499             -0.568344  0.692913 -1.499255   \n",
       "\n",
       "   dia_do_mes_sin  dia_do_mes_cos  semana_do_ano_sin  semana_do_ano_cos  \\\n",
       "0       -1.486235       -0.392213           2.235222          -0.464693   \n",
       "1        1.253283        0.472745           2.048579          -0.775037   \n",
       "2       -1.186790       -0.896203           1.782255          -1.037384   \n",
       "3        0.182969        1.409214           1.451727          -1.236485   \n",
       "4        0.730082        1.172511           1.451727          -1.236485   \n",
       "\n",
       "   rodadas_sin  rodadas_cos  \n",
       "0     0.459194     1.337588  \n",
       "1     0.868628     1.116013  \n",
       "2     1.183932     0.773502  \n",
       "3     1.370939     0.347169  \n",
       "4     1.409383     0.116785  "
      ]
     },
     "execution_count": 77,
     "metadata": {},
     "output_type": "execute_result"
    }
   ],
   "source": [
    "df3_numeric_scaled.head()"
   ]
  },
  {
   "cell_type": "code",
   "execution_count": 78,
   "id": "26c1ad73",
   "metadata": {
    "ExecuteTime": {
     "end_time": "2022-03-18T15:01:19.324678Z",
     "start_time": "2022-03-18T15:01:19.321316Z"
    }
   },
   "outputs": [],
   "source": [
    "df3_final = pd.concat([df3_cat_dummies, df3_numeric_scaled, df3_target], axis =1)"
   ]
  },
  {
   "cell_type": "code",
   "execution_count": 79,
   "id": "29d33c1e",
   "metadata": {
    "ExecuteTime": {
     "end_time": "2022-03-18T15:01:19.347717Z",
     "start_time": "2022-03-18T15:01:19.326321Z"
    }
   },
   "outputs": [
    {
     "data": {
      "text/html": [
       "<div>\n",
       "<style scoped>\n",
       "    .dataframe tbody tr th:only-of-type {\n",
       "        vertical-align: middle;\n",
       "    }\n",
       "\n",
       "    .dataframe tbody tr th {\n",
       "        vertical-align: top;\n",
       "    }\n",
       "\n",
       "    .dataframe thead th {\n",
       "        text-align: right;\n",
       "    }\n",
       "</style>\n",
       "<table border=\"1\" class=\"dataframe\">\n",
       "  <thead>\n",
       "    <tr style=\"text-align: right;\">\n",
       "      <th></th>\n",
       "      <th>mandante_America-MG</th>\n",
       "      <th>mandante_Athletico-PR</th>\n",
       "      <th>mandante_Atletico-GO</th>\n",
       "      <th>mandante_Atletico-MG</th>\n",
       "      <th>mandante_Avai</th>\n",
       "      <th>mandante_Bahia</th>\n",
       "      <th>mandante_Botafogo-RJ</th>\n",
       "      <th>mandante_Bragantino</th>\n",
       "      <th>mandante_CSA</th>\n",
       "      <th>mandante_Ceara</th>\n",
       "      <th>...</th>\n",
       "      <th>visitante_escanteios</th>\n",
       "      <th>mes_sin</th>\n",
       "      <th>mes_cos</th>\n",
       "      <th>dia_do_mes_sin</th>\n",
       "      <th>dia_do_mes_cos</th>\n",
       "      <th>semana_do_ano_sin</th>\n",
       "      <th>semana_do_ano_cos</th>\n",
       "      <th>rodadas_sin</th>\n",
       "      <th>rodadas_cos</th>\n",
       "      <th>resultado_final</th>\n",
       "    </tr>\n",
       "  </thead>\n",
       "  <tbody>\n",
       "    <tr>\n",
       "      <th>0</th>\n",
       "      <td>0</td>\n",
       "      <td>0</td>\n",
       "      <td>0</td>\n",
       "      <td>0</td>\n",
       "      <td>0</td>\n",
       "      <td>0</td>\n",
       "      <td>0</td>\n",
       "      <td>0</td>\n",
       "      <td>0</td>\n",
       "      <td>0</td>\n",
       "      <td>...</td>\n",
       "      <td>-1.259964</td>\n",
       "      <td>2.192844</td>\n",
       "      <td>-0.793995</td>\n",
       "      <td>-1.486235</td>\n",
       "      <td>-0.392213</td>\n",
       "      <td>2.235222</td>\n",
       "      <td>-0.464693</td>\n",
       "      <td>4.591944e-01</td>\n",
       "      <td>1.337588</td>\n",
       "      <td>1</td>\n",
       "    </tr>\n",
       "    <tr>\n",
       "      <th>1</th>\n",
       "      <td>0</td>\n",
       "      <td>0</td>\n",
       "      <td>0</td>\n",
       "      <td>0</td>\n",
       "      <td>0</td>\n",
       "      <td>0</td>\n",
       "      <td>0</td>\n",
       "      <td>0</td>\n",
       "      <td>0</td>\n",
       "      <td>0</td>\n",
       "      <td>...</td>\n",
       "      <td>0.027790</td>\n",
       "      <td>1.558899</td>\n",
       "      <td>-1.310281</td>\n",
       "      <td>1.253283</td>\n",
       "      <td>0.472745</td>\n",
       "      <td>2.048579</td>\n",
       "      <td>-0.775037</td>\n",
       "      <td>8.686279e-01</td>\n",
       "      <td>1.116013</td>\n",
       "      <td>1</td>\n",
       "    </tr>\n",
       "    <tr>\n",
       "      <th>2</th>\n",
       "      <td>0</td>\n",
       "      <td>0</td>\n",
       "      <td>0</td>\n",
       "      <td>0</td>\n",
       "      <td>0</td>\n",
       "      <td>0</td>\n",
       "      <td>0</td>\n",
       "      <td>0</td>\n",
       "      <td>0</td>\n",
       "      <td>0</td>\n",
       "      <td>...</td>\n",
       "      <td>-1.393576</td>\n",
       "      <td>1.558899</td>\n",
       "      <td>-1.310281</td>\n",
       "      <td>-1.186790</td>\n",
       "      <td>-0.896203</td>\n",
       "      <td>1.782255</td>\n",
       "      <td>-1.037384</td>\n",
       "      <td>1.183932e+00</td>\n",
       "      <td>0.773502</td>\n",
       "      <td>0</td>\n",
       "    </tr>\n",
       "    <tr>\n",
       "      <th>3</th>\n",
       "      <td>0</td>\n",
       "      <td>0</td>\n",
       "      <td>0</td>\n",
       "      <td>0</td>\n",
       "      <td>0</td>\n",
       "      <td>0</td>\n",
       "      <td>0</td>\n",
       "      <td>0</td>\n",
       "      <td>0</td>\n",
       "      <td>0</td>\n",
       "      <td>...</td>\n",
       "      <td>-0.354554</td>\n",
       "      <td>1.558899</td>\n",
       "      <td>-1.310281</td>\n",
       "      <td>0.182969</td>\n",
       "      <td>1.409214</td>\n",
       "      <td>1.451727</td>\n",
       "      <td>-1.236485</td>\n",
       "      <td>1.370939e+00</td>\n",
       "      <td>0.347169</td>\n",
       "      <td>1</td>\n",
       "    </tr>\n",
       "    <tr>\n",
       "      <th>4</th>\n",
       "      <td>0</td>\n",
       "      <td>0</td>\n",
       "      <td>0</td>\n",
       "      <td>0</td>\n",
       "      <td>0</td>\n",
       "      <td>0</td>\n",
       "      <td>0</td>\n",
       "      <td>0</td>\n",
       "      <td>0</td>\n",
       "      <td>0</td>\n",
       "      <td>...</td>\n",
       "      <td>-0.568344</td>\n",
       "      <td>0.692913</td>\n",
       "      <td>-1.499255</td>\n",
       "      <td>0.730082</td>\n",
       "      <td>1.172511</td>\n",
       "      <td>1.451727</td>\n",
       "      <td>-1.236485</td>\n",
       "      <td>1.409383e+00</td>\n",
       "      <td>0.116785</td>\n",
       "      <td>1</td>\n",
       "    </tr>\n",
       "    <tr>\n",
       "      <th>...</th>\n",
       "      <td>...</td>\n",
       "      <td>...</td>\n",
       "      <td>...</td>\n",
       "      <td>...</td>\n",
       "      <td>...</td>\n",
       "      <td>...</td>\n",
       "      <td>...</td>\n",
       "      <td>...</td>\n",
       "      <td>...</td>\n",
       "      <td>...</td>\n",
       "      <td>...</td>\n",
       "      <td>...</td>\n",
       "      <td>...</td>\n",
       "      <td>...</td>\n",
       "      <td>...</td>\n",
       "      <td>...</td>\n",
       "      <td>...</td>\n",
       "      <td>...</td>\n",
       "      <td>...</td>\n",
       "      <td>...</td>\n",
       "      <td>...</td>\n",
       "    </tr>\n",
       "    <tr>\n",
       "      <th>147</th>\n",
       "      <td>0</td>\n",
       "      <td>0</td>\n",
       "      <td>0</td>\n",
       "      <td>0</td>\n",
       "      <td>0</td>\n",
       "      <td>0</td>\n",
       "      <td>0</td>\n",
       "      <td>0</td>\n",
       "      <td>0</td>\n",
       "      <td>0</td>\n",
       "      <td>...</td>\n",
       "      <td>0.810361</td>\n",
       "      <td>-0.173073</td>\n",
       "      <td>1.132812</td>\n",
       "      <td>1.315884</td>\n",
       "      <td>-0.106025</td>\n",
       "      <td>-0.569486</td>\n",
       "      <td>1.014959</td>\n",
       "      <td>-1.370939e+00</td>\n",
       "      <td>0.347169</td>\n",
       "      <td>0</td>\n",
       "    </tr>\n",
       "    <tr>\n",
       "      <th>148</th>\n",
       "      <td>0</td>\n",
       "      <td>0</td>\n",
       "      <td>0</td>\n",
       "      <td>0</td>\n",
       "      <td>0</td>\n",
       "      <td>0</td>\n",
       "      <td>0</td>\n",
       "      <td>0</td>\n",
       "      <td>0</td>\n",
       "      <td>0</td>\n",
       "      <td>...</td>\n",
       "      <td>0.810361</td>\n",
       "      <td>-0.173073</td>\n",
       "      <td>1.132812</td>\n",
       "      <td>0.182969</td>\n",
       "      <td>-1.328682</td>\n",
       "      <td>-0.569486</td>\n",
       "      <td>1.014959</td>\n",
       "      <td>-1.183932e+00</td>\n",
       "      <td>0.773502</td>\n",
       "      <td>2</td>\n",
       "    </tr>\n",
       "    <tr>\n",
       "      <th>149</th>\n",
       "      <td>0</td>\n",
       "      <td>0</td>\n",
       "      <td>0</td>\n",
       "      <td>0</td>\n",
       "      <td>0</td>\n",
       "      <td>0</td>\n",
       "      <td>0</td>\n",
       "      <td>0</td>\n",
       "      <td>0</td>\n",
       "      <td>0</td>\n",
       "      <td>...</td>\n",
       "      <td>0.810361</td>\n",
       "      <td>-0.173073</td>\n",
       "      <td>1.132812</td>\n",
       "      <td>0.953839</td>\n",
       "      <td>-0.896203</td>\n",
       "      <td>-0.569486</td>\n",
       "      <td>1.014959</td>\n",
       "      <td>-8.686279e-01</td>\n",
       "      <td>1.116013</td>\n",
       "      <td>2</td>\n",
       "    </tr>\n",
       "    <tr>\n",
       "      <th>150</th>\n",
       "      <td>0</td>\n",
       "      <td>0</td>\n",
       "      <td>0</td>\n",
       "      <td>0</td>\n",
       "      <td>0</td>\n",
       "      <td>0</td>\n",
       "      <td>0</td>\n",
       "      <td>0</td>\n",
       "      <td>0</td>\n",
       "      <td>0</td>\n",
       "      <td>...</td>\n",
       "      <td>0.810361</td>\n",
       "      <td>0.692913</td>\n",
       "      <td>1.321786</td>\n",
       "      <td>0.730082</td>\n",
       "      <td>-1.091978</td>\n",
       "      <td>0.086750</td>\n",
       "      <td>1.410260</td>\n",
       "      <td>-6.730913e-01</td>\n",
       "      <td>1.243764</td>\n",
       "      <td>0</td>\n",
       "    </tr>\n",
       "    <tr>\n",
       "      <th>151</th>\n",
       "      <td>0</td>\n",
       "      <td>0</td>\n",
       "      <td>1</td>\n",
       "      <td>0</td>\n",
       "      <td>0</td>\n",
       "      <td>0</td>\n",
       "      <td>0</td>\n",
       "      <td>0</td>\n",
       "      <td>0</td>\n",
       "      <td>0</td>\n",
       "      <td>...</td>\n",
       "      <td>0.810361</td>\n",
       "      <td>0.692913</td>\n",
       "      <td>1.321786</td>\n",
       "      <td>0.730082</td>\n",
       "      <td>-1.091978</td>\n",
       "      <td>0.086750</td>\n",
       "      <td>1.410260</td>\n",
       "      <td>-2.988665e-16</td>\n",
       "      <td>1.414214</td>\n",
       "      <td>1</td>\n",
       "    </tr>\n",
       "  </tbody>\n",
       "</table>\n",
       "<p>152 rows × 78 columns</p>\n",
       "</div>"
      ],
      "text/plain": [
       "     mandante_America-MG  mandante_Athletico-PR  mandante_Atletico-GO  \\\n",
       "0                      0                      0                     0   \n",
       "1                      0                      0                     0   \n",
       "2                      0                      0                     0   \n",
       "3                      0                      0                     0   \n",
       "4                      0                      0                     0   \n",
       "..                   ...                    ...                   ...   \n",
       "147                    0                      0                     0   \n",
       "148                    0                      0                     0   \n",
       "149                    0                      0                     0   \n",
       "150                    0                      0                     0   \n",
       "151                    0                      0                     1   \n",
       "\n",
       "     mandante_Atletico-MG  mandante_Avai  mandante_Bahia  \\\n",
       "0                       0              0               0   \n",
       "1                       0              0               0   \n",
       "2                       0              0               0   \n",
       "3                       0              0               0   \n",
       "4                       0              0               0   \n",
       "..                    ...            ...             ...   \n",
       "147                     0              0               0   \n",
       "148                     0              0               0   \n",
       "149                     0              0               0   \n",
       "150                     0              0               0   \n",
       "151                     0              0               0   \n",
       "\n",
       "     mandante_Botafogo-RJ  mandante_Bragantino  mandante_CSA  mandante_Ceara  \\\n",
       "0                       0                    0             0               0   \n",
       "1                       0                    0             0               0   \n",
       "2                       0                    0             0               0   \n",
       "3                       0                    0             0               0   \n",
       "4                       0                    0             0               0   \n",
       "..                    ...                  ...           ...             ...   \n",
       "147                     0                    0             0               0   \n",
       "148                     0                    0             0               0   \n",
       "149                     0                    0             0               0   \n",
       "150                     0                    0             0               0   \n",
       "151                     0                    0             0               0   \n",
       "\n",
       "     ...  visitante_escanteios   mes_sin   mes_cos  dia_do_mes_sin  \\\n",
       "0    ...             -1.259964  2.192844 -0.793995       -1.486235   \n",
       "1    ...              0.027790  1.558899 -1.310281        1.253283   \n",
       "2    ...             -1.393576  1.558899 -1.310281       -1.186790   \n",
       "3    ...             -0.354554  1.558899 -1.310281        0.182969   \n",
       "4    ...             -0.568344  0.692913 -1.499255        0.730082   \n",
       "..   ...                   ...       ...       ...             ...   \n",
       "147  ...              0.810361 -0.173073  1.132812        1.315884   \n",
       "148  ...              0.810361 -0.173073  1.132812        0.182969   \n",
       "149  ...              0.810361 -0.173073  1.132812        0.953839   \n",
       "150  ...              0.810361  0.692913  1.321786        0.730082   \n",
       "151  ...              0.810361  0.692913  1.321786        0.730082   \n",
       "\n",
       "     dia_do_mes_cos  semana_do_ano_sin  semana_do_ano_cos   rodadas_sin  \\\n",
       "0         -0.392213           2.235222          -0.464693  4.591944e-01   \n",
       "1          0.472745           2.048579          -0.775037  8.686279e-01   \n",
       "2         -0.896203           1.782255          -1.037384  1.183932e+00   \n",
       "3          1.409214           1.451727          -1.236485  1.370939e+00   \n",
       "4          1.172511           1.451727          -1.236485  1.409383e+00   \n",
       "..              ...                ...                ...           ...   \n",
       "147       -0.106025          -0.569486           1.014959 -1.370939e+00   \n",
       "148       -1.328682          -0.569486           1.014959 -1.183932e+00   \n",
       "149       -0.896203          -0.569486           1.014959 -8.686279e-01   \n",
       "150       -1.091978           0.086750           1.410260 -6.730913e-01   \n",
       "151       -1.091978           0.086750           1.410260 -2.988665e-16   \n",
       "\n",
       "     rodadas_cos  resultado_final  \n",
       "0       1.337588                1  \n",
       "1       1.116013                1  \n",
       "2       0.773502                0  \n",
       "3       0.347169                1  \n",
       "4       0.116785                1  \n",
       "..           ...              ...  \n",
       "147     0.347169                0  \n",
       "148     0.773502                2  \n",
       "149     1.116013                2  \n",
       "150     1.243764                0  \n",
       "151     1.414214                1  \n",
       "\n",
       "[152 rows x 78 columns]"
      ]
     },
     "execution_count": 79,
     "metadata": {},
     "output_type": "execute_result"
    }
   ],
   "source": [
    "df3_final"
   ]
  },
  {
   "cell_type": "markdown",
   "id": "356beb22",
   "metadata": {},
   "source": [
    "# 4.0 Feature selection and scaling "
   ]
  },
  {
   "cell_type": "code",
   "execution_count": 80,
   "id": "853aba73",
   "metadata": {
    "ExecuteTime": {
     "end_time": "2022-03-18T15:01:19.352030Z",
     "start_time": "2022-03-18T15:01:19.349151Z"
    }
   },
   "outputs": [],
   "source": [
    "df4 = df3_final.copy()"
   ]
  },
  {
   "cell_type": "code",
   "execution_count": 81,
   "id": "535854d4",
   "metadata": {
    "ExecuteTime": {
     "end_time": "2022-03-18T15:01:19.360249Z",
     "start_time": "2022-03-18T15:01:19.353367Z"
    }
   },
   "outputs": [],
   "source": [
    "df4 = df4.dropna()"
   ]
  },
  {
   "cell_type": "code",
   "execution_count": 82,
   "id": "004fd3d1",
   "metadata": {
    "ExecuteTime": {
     "end_time": "2022-03-18T15:01:19.383551Z",
     "start_time": "2022-03-18T15:01:19.367400Z"
    }
   },
   "outputs": [
    {
     "data": {
      "text/html": [
       "<div>\n",
       "<style scoped>\n",
       "    .dataframe tbody tr th:only-of-type {\n",
       "        vertical-align: middle;\n",
       "    }\n",
       "\n",
       "    .dataframe tbody tr th {\n",
       "        vertical-align: top;\n",
       "    }\n",
       "\n",
       "    .dataframe thead th {\n",
       "        text-align: right;\n",
       "    }\n",
       "</style>\n",
       "<table border=\"1\" class=\"dataframe\">\n",
       "  <thead>\n",
       "    <tr style=\"text-align: right;\">\n",
       "      <th></th>\n",
       "      <th>mandante_America-MG</th>\n",
       "      <th>mandante_Athletico-PR</th>\n",
       "      <th>mandante_Atletico-GO</th>\n",
       "      <th>mandante_Atletico-MG</th>\n",
       "      <th>mandante_Avai</th>\n",
       "      <th>mandante_Bahia</th>\n",
       "      <th>mandante_Botafogo-RJ</th>\n",
       "      <th>mandante_Bragantino</th>\n",
       "      <th>mandante_CSA</th>\n",
       "      <th>mandante_Ceara</th>\n",
       "      <th>...</th>\n",
       "      <th>visitante_escanteios</th>\n",
       "      <th>mes_sin</th>\n",
       "      <th>mes_cos</th>\n",
       "      <th>dia_do_mes_sin</th>\n",
       "      <th>dia_do_mes_cos</th>\n",
       "      <th>semana_do_ano_sin</th>\n",
       "      <th>semana_do_ano_cos</th>\n",
       "      <th>rodadas_sin</th>\n",
       "      <th>rodadas_cos</th>\n",
       "      <th>resultado_final</th>\n",
       "    </tr>\n",
       "  </thead>\n",
       "  <tbody>\n",
       "    <tr>\n",
       "      <th>0</th>\n",
       "      <td>0</td>\n",
       "      <td>0</td>\n",
       "      <td>0</td>\n",
       "      <td>0</td>\n",
       "      <td>0</td>\n",
       "      <td>0</td>\n",
       "      <td>0</td>\n",
       "      <td>0</td>\n",
       "      <td>0</td>\n",
       "      <td>0</td>\n",
       "      <td>...</td>\n",
       "      <td>-1.259964</td>\n",
       "      <td>2.192844</td>\n",
       "      <td>-0.793995</td>\n",
       "      <td>-1.486235</td>\n",
       "      <td>-0.392213</td>\n",
       "      <td>2.235222</td>\n",
       "      <td>-0.464693</td>\n",
       "      <td>0.459194</td>\n",
       "      <td>1.337588</td>\n",
       "      <td>1</td>\n",
       "    </tr>\n",
       "    <tr>\n",
       "      <th>1</th>\n",
       "      <td>0</td>\n",
       "      <td>0</td>\n",
       "      <td>0</td>\n",
       "      <td>0</td>\n",
       "      <td>0</td>\n",
       "      <td>0</td>\n",
       "      <td>0</td>\n",
       "      <td>0</td>\n",
       "      <td>0</td>\n",
       "      <td>0</td>\n",
       "      <td>...</td>\n",
       "      <td>0.027790</td>\n",
       "      <td>1.558899</td>\n",
       "      <td>-1.310281</td>\n",
       "      <td>1.253283</td>\n",
       "      <td>0.472745</td>\n",
       "      <td>2.048579</td>\n",
       "      <td>-0.775037</td>\n",
       "      <td>0.868628</td>\n",
       "      <td>1.116013</td>\n",
       "      <td>1</td>\n",
       "    </tr>\n",
       "    <tr>\n",
       "      <th>2</th>\n",
       "      <td>0</td>\n",
       "      <td>0</td>\n",
       "      <td>0</td>\n",
       "      <td>0</td>\n",
       "      <td>0</td>\n",
       "      <td>0</td>\n",
       "      <td>0</td>\n",
       "      <td>0</td>\n",
       "      <td>0</td>\n",
       "      <td>0</td>\n",
       "      <td>...</td>\n",
       "      <td>-1.393576</td>\n",
       "      <td>1.558899</td>\n",
       "      <td>-1.310281</td>\n",
       "      <td>-1.186790</td>\n",
       "      <td>-0.896203</td>\n",
       "      <td>1.782255</td>\n",
       "      <td>-1.037384</td>\n",
       "      <td>1.183932</td>\n",
       "      <td>0.773502</td>\n",
       "      <td>0</td>\n",
       "    </tr>\n",
       "    <tr>\n",
       "      <th>3</th>\n",
       "      <td>0</td>\n",
       "      <td>0</td>\n",
       "      <td>0</td>\n",
       "      <td>0</td>\n",
       "      <td>0</td>\n",
       "      <td>0</td>\n",
       "      <td>0</td>\n",
       "      <td>0</td>\n",
       "      <td>0</td>\n",
       "      <td>0</td>\n",
       "      <td>...</td>\n",
       "      <td>-0.354554</td>\n",
       "      <td>1.558899</td>\n",
       "      <td>-1.310281</td>\n",
       "      <td>0.182969</td>\n",
       "      <td>1.409214</td>\n",
       "      <td>1.451727</td>\n",
       "      <td>-1.236485</td>\n",
       "      <td>1.370939</td>\n",
       "      <td>0.347169</td>\n",
       "      <td>1</td>\n",
       "    </tr>\n",
       "    <tr>\n",
       "      <th>4</th>\n",
       "      <td>0</td>\n",
       "      <td>0</td>\n",
       "      <td>0</td>\n",
       "      <td>0</td>\n",
       "      <td>0</td>\n",
       "      <td>0</td>\n",
       "      <td>0</td>\n",
       "      <td>0</td>\n",
       "      <td>0</td>\n",
       "      <td>0</td>\n",
       "      <td>...</td>\n",
       "      <td>-0.568344</td>\n",
       "      <td>0.692913</td>\n",
       "      <td>-1.499255</td>\n",
       "      <td>0.730082</td>\n",
       "      <td>1.172511</td>\n",
       "      <td>1.451727</td>\n",
       "      <td>-1.236485</td>\n",
       "      <td>1.409383</td>\n",
       "      <td>0.116785</td>\n",
       "      <td>1</td>\n",
       "    </tr>\n",
       "  </tbody>\n",
       "</table>\n",
       "<p>5 rows × 78 columns</p>\n",
       "</div>"
      ],
      "text/plain": [
       "   mandante_America-MG  mandante_Athletico-PR  mandante_Atletico-GO  \\\n",
       "0                    0                      0                     0   \n",
       "1                    0                      0                     0   \n",
       "2                    0                      0                     0   \n",
       "3                    0                      0                     0   \n",
       "4                    0                      0                     0   \n",
       "\n",
       "   mandante_Atletico-MG  mandante_Avai  mandante_Bahia  mandante_Botafogo-RJ  \\\n",
       "0                     0              0               0                     0   \n",
       "1                     0              0               0                     0   \n",
       "2                     0              0               0                     0   \n",
       "3                     0              0               0                     0   \n",
       "4                     0              0               0                     0   \n",
       "\n",
       "   mandante_Bragantino  mandante_CSA  mandante_Ceara  ...  \\\n",
       "0                    0             0               0  ...   \n",
       "1                    0             0               0  ...   \n",
       "2                    0             0               0  ...   \n",
       "3                    0             0               0  ...   \n",
       "4                    0             0               0  ...   \n",
       "\n",
       "   visitante_escanteios   mes_sin   mes_cos  dia_do_mes_sin  dia_do_mes_cos  \\\n",
       "0             -1.259964  2.192844 -0.793995       -1.486235       -0.392213   \n",
       "1              0.027790  1.558899 -1.310281        1.253283        0.472745   \n",
       "2             -1.393576  1.558899 -1.310281       -1.186790       -0.896203   \n",
       "3             -0.354554  1.558899 -1.310281        0.182969        1.409214   \n",
       "4             -0.568344  0.692913 -1.499255        0.730082        1.172511   \n",
       "\n",
       "   semana_do_ano_sin  semana_do_ano_cos  rodadas_sin  rodadas_cos  \\\n",
       "0           2.235222          -0.464693     0.459194     1.337588   \n",
       "1           2.048579          -0.775037     0.868628     1.116013   \n",
       "2           1.782255          -1.037384     1.183932     0.773502   \n",
       "3           1.451727          -1.236485     1.370939     0.347169   \n",
       "4           1.451727          -1.236485     1.409383     0.116785   \n",
       "\n",
       "   resultado_final  \n",
       "0                1  \n",
       "1                1  \n",
       "2                0  \n",
       "3                1  \n",
       "4                1  \n",
       "\n",
       "[5 rows x 78 columns]"
      ]
     },
     "execution_count": 82,
     "metadata": {},
     "output_type": "execute_result"
    }
   ],
   "source": [
    "df4.head()"
   ]
  },
  {
   "cell_type": "code",
   "execution_count": 83,
   "id": "62a7f358",
   "metadata": {
    "ExecuteTime": {
     "end_time": "2022-03-18T15:01:19.388664Z",
     "start_time": "2022-03-18T15:01:19.385086Z"
    }
   },
   "outputs": [],
   "source": [
    "X = df4.drop(['resultado_final'], axis=1)\n",
    "y = df4.resultado_final"
   ]
  },
  {
   "cell_type": "code",
   "execution_count": 84,
   "id": "9b016aa6",
   "metadata": {
    "ExecuteTime": {
     "end_time": "2022-03-18T15:01:19.398770Z",
     "start_time": "2022-03-18T15:01:19.390177Z"
    }
   },
   "outputs": [],
   "source": [
    "X_train, X_test, y_train, y_test = train_test_split(X, y,shuffle=True)"
   ]
  },
  {
   "cell_type": "code",
   "execution_count": 85,
   "id": "0cbd464e",
   "metadata": {
    "ExecuteTime": {
     "end_time": "2022-03-18T15:01:19.405673Z",
     "start_time": "2022-03-18T15:01:19.403230Z"
    }
   },
   "outputs": [],
   "source": [
    "undersampling = RandomOverSampler(random_state=32)"
   ]
  },
  {
   "cell_type": "code",
   "execution_count": 86,
   "id": "7da8f5f7",
   "metadata": {
    "ExecuteTime": {
     "end_time": "2022-03-18T15:01:19.424812Z",
     "start_time": "2022-03-18T15:01:19.407447Z"
    }
   },
   "outputs": [],
   "source": [
    "X_train, y_train = undersampling.fit_resample(X_train, y_train)"
   ]
  },
  {
   "cell_type": "code",
   "execution_count": 87,
   "id": "72970db1",
   "metadata": {
    "ExecuteTime": {
     "end_time": "2022-03-18T15:01:19.525112Z",
     "start_time": "2022-03-18T15:01:19.426571Z"
    }
   },
   "outputs": [
    {
     "name": "stderr",
     "output_type": "stream",
     "text": [
      "/home/mahelvson/anaconda3/envs/foot/lib/python3.9/site-packages/seaborn/_decorators.py:36: FutureWarning: Pass the following variable as a keyword arg: x. From version 0.12, the only valid positional argument will be `data`, and passing other arguments without an explicit keyword will result in an error or misinterpretation.\n",
      "  warnings.warn(\n"
     ]
    },
    {
     "data": {
      "text/plain": [
       "<AxesSubplot:xlabel='resultado_final', ylabel='count'>"
      ]
     },
     "execution_count": 87,
     "metadata": {},
     "output_type": "execute_result"
    },
    {
     "data": {
      "image/png": "[encoded data removed]",
      "text/plain": [
       "<Figure size 432x288 with 1 Axes>"
      ]
     },
     "metadata": {
      "needs_background": "light"
     },
     "output_type": "display_data"
    }
   ],
   "source": [
    "sns.countplot(y_train)"
   ]
  },
  {
   "cell_type": "markdown",
   "id": "e0204b6a",
   "metadata": {},
   "source": [
    "# 5.0 Machine Learning Models "
   ]
  },
  {
   "cell_type": "markdown",
   "id": "e9bde165",
   "metadata": {},
   "source": [
    "## 5.1 Logistic Regression "
   ]
  },
  {
   "cell_type": "code",
   "execution_count": 88,
   "id": "3c3e4606",
   "metadata": {
    "ExecuteTime": {
     "end_time": "2022-03-18T15:01:19.568438Z",
     "start_time": "2022-03-18T15:01:19.526571Z"
    }
   },
   "outputs": [],
   "source": [
    "clf_lg = LogisticRegression().fit(X_train, y_train)\n",
    "y_hat_lg = clf_lg.predict(X_test)"
   ]
  },
  {
   "cell_type": "code",
   "execution_count": 89,
   "id": "ab386e06",
   "metadata": {
    "ExecuteTime": {
     "end_time": "2022-03-18T15:01:19.573709Z",
     "start_time": "2022-03-18T15:01:19.570152Z"
    }
   },
   "outputs": [
    {
     "data": {
      "text/plain": [
       "0.42105263157894735"
      ]
     },
     "execution_count": 89,
     "metadata": {},
     "output_type": "execute_result"
    }
   ],
   "source": [
    "accuracy_score(y_test, y_hat_lg)"
   ]
  },
  {
   "cell_type": "code",
   "execution_count": 90,
   "id": "e113aa05",
   "metadata": {
    "ExecuteTime": {
     "end_time": "2022-03-18T15:01:19.758944Z",
     "start_time": "2022-03-18T15:01:19.575328Z"
    }
   },
   "outputs": [
    {
     "data": {
      "image/png": "[encoded data removed]",
      "text/plain": [
       "<Figure size 432x288 with 2 Axes>"
      ]
     },
     "metadata": {
      "needs_background": "light"
     },
     "output_type": "display_data"
    }
   ],
   "source": [
    "sns.heatmap(confusion_matrix(y_test, y_hat_lg, normalize='true'), annot=True);"
   ]
  },
  {
   "cell_type": "code",
   "execution_count": 91,
   "id": "0b2a62b4",
   "metadata": {
    "ExecuteTime": {
     "end_time": "2022-03-18T15:01:19.770507Z",
     "start_time": "2022-03-18T15:01:19.760802Z"
    }
   },
   "outputs": [
    {
     "name": "stdout",
     "output_type": "stream",
     "text": [
      "              precision    recall  f1-score   support\n",
      "\n",
      "           0       0.18      0.20      0.19        10\n",
      "           1       0.82      0.60      0.69        15\n",
      "           2       0.31      0.38      0.34        13\n",
      "\n",
      "    accuracy                           0.42        38\n",
      "   macro avg       0.44      0.39      0.41        38\n",
      "weighted avg       0.48      0.42      0.44        38\n",
      "\n"
     ]
    }
   ],
   "source": [
    "print(classification_report(y_test, y_hat_lg))"
   ]
  },
  {
   "cell_type": "markdown",
   "id": "97562ef9",
   "metadata": {},
   "source": [
    "## 5.2 XGBoost "
   ]
  },
  {
   "cell_type": "code",
   "execution_count": 92,
   "id": "ccf54b7d",
   "metadata": {
    "ExecuteTime": {
     "end_time": "2022-03-18T15:01:21.217659Z",
     "start_time": "2022-03-18T15:01:19.771875Z"
    }
   },
   "outputs": [
    {
     "name": "stderr",
     "output_type": "stream",
     "text": [
      "/home/mahelvson/anaconda3/envs/foot/lib/python3.9/site-packages/xgboost/sklearn.py:1224: UserWarning: The use of label encoder in XGBClassifier is deprecated and will be removed in a future release. To remove this warning, do the following: 1) Pass option use_label_encoder=False when constructing XGBClassifier object; and 2) Encode your labels (y) as integers starting with 0, i.e. 0, 1, 2, ..., [num_class - 1].\n",
      "  warnings.warn(label_encoder_deprecation_msg, UserWarning)\n",
      "/home/mahelvson/anaconda3/envs/foot/lib/python3.9/site-packages/xgboost/data.py:250: FutureWarning: pandas.Int64Index is deprecated and will be removed from pandas in a future version. Use pandas.Index with the appropriate dtype instead.\n",
      "  elif isinstance(data.columns, (pd.Int64Index, pd.RangeIndex)):\n"
     ]
    },
    {
     "name": "stdout",
     "output_type": "stream",
     "text": [
      "[12:01:20] WARNING: ../src/learner.cc:1115: Starting in XGBoost 1.3.0, the default evaluation metric used with the objective 'multi:softprob' was changed from 'merror' to 'mlogloss'. Explicitly set eval_metric if you'd like to restore the old behavior.\n"
     ]
    }
   ],
   "source": [
    "clf_xgb = xgb.XGBRFClassifier(n_estimators = 1000).fit(X_train, y_train)\n",
    "yhat_xgb = clf_xgb.predict(X_test)"
   ]
  },
  {
   "cell_type": "code",
   "execution_count": 93,
   "id": "4f31c151",
   "metadata": {
    "ExecuteTime": {
     "end_time": "2022-03-18T15:01:21.224475Z",
     "start_time": "2022-03-18T15:01:21.219411Z"
    }
   },
   "outputs": [
    {
     "data": {
      "text/plain": [
       "0.47368421052631576"
      ]
     },
     "execution_count": 93,
     "metadata": {},
     "output_type": "execute_result"
    }
   ],
   "source": [
    "accuracy_score(y_test, yhat_xgb)"
   ]
  },
  {
   "cell_type": "code",
   "execution_count": 94,
   "id": "d0b9b6e2",
   "metadata": {
    "ExecuteTime": {
     "end_time": "2022-03-18T15:01:21.397681Z",
     "start_time": "2022-03-18T15:01:21.228646Z"
    }
   },
   "outputs": [
    {
     "data": {
      "text/plain": [
       "<AxesSubplot:>"
      ]
     },
     "execution_count": 94,
     "metadata": {},
     "output_type": "execute_result"
    },
    {
     "data": {
      "image/png": "[encoded data removed]",
      "text/plain": [
       "<Figure size 432x288 with 2 Axes>"
      ]
     },
     "metadata": {
      "needs_background": "light"
     },
     "output_type": "display_data"
    }
   ],
   "source": [
    "sns.heatmap(confusion_matrix(y_test, yhat_xgb, normalize='true'), annot=True, )"
   ]
  },
  {
   "cell_type": "code",
   "execution_count": 95,
   "id": "5014ed35",
   "metadata": {
    "ExecuteTime": {
     "end_time": "2022-03-18T15:01:21.408649Z",
     "start_time": "2022-03-18T15:01:21.401436Z"
    }
   },
   "outputs": [
    {
     "name": "stdout",
     "output_type": "stream",
     "text": [
      "              precision    recall  f1-score   support\n",
      "\n",
      "           0       0.14      0.10      0.12        10\n",
      "           1       0.71      0.67      0.69        15\n",
      "           2       0.41      0.54      0.47        13\n",
      "\n",
      "    accuracy                           0.47        38\n",
      "   macro avg       0.42      0.44      0.42        38\n",
      "weighted avg       0.46      0.47      0.46        38\n",
      "\n"
     ]
    }
   ],
   "source": [
    "print(classification_report(y_test, yhat_xgb))"
   ]
  },
  {
   "cell_type": "markdown",
   "id": "94bca91f",
   "metadata": {},
   "source": [
    "## 5.3 Random Forests"
   ]
  },
  {
   "cell_type": "code",
   "execution_count": 96,
   "id": "d719d49e",
   "metadata": {
    "ExecuteTime": {
     "end_time": "2022-03-18T15:01:24.811215Z",
     "start_time": "2022-03-18T15:01:21.410648Z"
    }
   },
   "outputs": [],
   "source": [
    "clf_rf = RandomForestClassifier(n_estimators = 2000, n_jobs = -1, random_state = 42).fit(X_train, y_train)\n",
    "yhat_rf = clf_rf.predict(X_test)"
   ]
  },
  {
   "cell_type": "code",
   "execution_count": 97,
   "id": "6ab30c6e",
   "metadata": {
    "ExecuteTime": {
     "end_time": "2022-03-18T15:01:24.818157Z",
     "start_time": "2022-03-18T15:01:24.812603Z"
    }
   },
   "outputs": [
    {
     "data": {
      "text/plain": [
       "0.5"
      ]
     },
     "execution_count": 97,
     "metadata": {},
     "output_type": "execute_result"
    }
   ],
   "source": [
    "accuracy_score(y_test, yhat_rf)"
   ]
  },
  {
   "cell_type": "code",
   "execution_count": 98,
   "id": "e3d33899",
   "metadata": {
    "ExecuteTime": {
     "end_time": "2022-03-18T15:01:24.977004Z",
     "start_time": "2022-03-18T15:01:24.819989Z"
    }
   },
   "outputs": [
    {
     "data": {
      "image/png": "[encoded data removed]",
      "text/plain": [
       "<Figure size 432x288 with 2 Axes>"
      ]
     },
     "metadata": {
      "needs_background": "light"
     },
     "output_type": "display_data"
    }
   ],
   "source": [
    "sns.heatmap(confusion_matrix(y_test, yhat_rf, normalize='true'), annot=True, );"
   ]
  },
  {
   "cell_type": "code",
   "execution_count": 99,
   "id": "71b84c06",
   "metadata": {
    "ExecuteTime": {
     "end_time": "2022-03-18T15:01:24.986767Z",
     "start_time": "2022-03-18T15:01:24.978805Z"
    }
   },
   "outputs": [
    {
     "name": "stdout",
     "output_type": "stream",
     "text": [
      "              precision    recall  f1-score   support\n",
      "\n",
      "           0       0.17      0.10      0.12        10\n",
      "           1       0.69      0.73      0.71        15\n",
      "           2       0.44      0.54      0.48        13\n",
      "\n",
      "    accuracy                           0.50        38\n",
      "   macro avg       0.43      0.46      0.44        38\n",
      "weighted avg       0.46      0.50      0.48        38\n",
      "\n"
     ]
    }
   ],
   "source": [
    "print(classification_report(y_test, yhat_rf))"
   ]
  },
  {
   "cell_type": "markdown",
   "id": "6b893f61",
   "metadata": {},
   "source": [
    "## 5.4 SVM "
   ]
  },
  {
   "cell_type": "code",
   "execution_count": 100,
   "id": "3994a33f",
   "metadata": {
    "ExecuteTime": {
     "end_time": "2022-03-18T15:01:25.001416Z",
     "start_time": "2022-03-18T15:01:24.988177Z"
    }
   },
   "outputs": [],
   "source": [
    "clf_svc = svm.SVC().fit(X_train, y_train)\n",
    "y_hat_svc = clf_svc.predict(X_test)"
   ]
  },
  {
   "cell_type": "code",
   "execution_count": 101,
   "id": "fd78c083",
   "metadata": {
    "ExecuteTime": {
     "end_time": "2022-03-18T15:01:25.006880Z",
     "start_time": "2022-03-18T15:01:25.002851Z"
    }
   },
   "outputs": [
    {
     "data": {
      "text/plain": [
       "0.5263157894736842"
      ]
     },
     "execution_count": 101,
     "metadata": {},
     "output_type": "execute_result"
    }
   ],
   "source": [
    "accuracy_score(y_test, y_hat_svc)"
   ]
  },
  {
   "cell_type": "code",
   "execution_count": 102,
   "id": "eb9d9cd1",
   "metadata": {
    "ExecuteTime": {
     "end_time": "2022-03-18T15:01:25.263840Z",
     "start_time": "2022-03-18T15:01:25.008880Z"
    }
   },
   "outputs": [
    {
     "data": {
      "image/png": "[encoded data removed]",
      "text/plain": [
       "<Figure size 432x288 with 2 Axes>"
      ]
     },
     "metadata": {
      "needs_background": "light"
     },
     "output_type": "display_data"
    }
   ],
   "source": [
    "sns.heatmap(confusion_matrix(y_test, y_hat_svc, normalize='true'), annot=True);"
   ]
  },
  {
   "cell_type": "code",
   "execution_count": 103,
   "id": "ae3c75cd",
   "metadata": {
    "ExecuteTime": {
     "end_time": "2022-03-18T15:01:25.276205Z",
     "start_time": "2022-03-18T15:01:25.265513Z"
    }
   },
   "outputs": [
    {
     "name": "stdout",
     "output_type": "stream",
     "text": [
      "              precision    recall  f1-score   support\n",
      "\n",
      "           0       0.17      0.10      0.12        10\n",
      "           1       0.85      0.73      0.79        15\n",
      "           2       0.42      0.62      0.50        13\n",
      "\n",
      "    accuracy                           0.53        38\n",
      "   macro avg       0.48      0.48      0.47        38\n",
      "weighted avg       0.52      0.53      0.51        38\n",
      "\n"
     ]
    }
   ],
   "source": [
    "print(classification_report(y_test, y_hat_svc))"
   ]
  },
  {
   "cell_type": "markdown",
   "id": "357a2b0c",
   "metadata": {},
   "source": [
    "## 5.5 Naive Bayes "
   ]
  },
  {
   "cell_type": "code",
   "execution_count": 104,
   "id": "03fbbd88",
   "metadata": {
    "ExecuteTime": {
     "end_time": "2022-03-18T15:01:25.285727Z",
     "start_time": "2022-03-18T15:01:25.278640Z"
    }
   },
   "outputs": [],
   "source": [
    "clf_gb = GaussianNB().fit(X_train, y_train)\n",
    "y_hat_gnb = clf_gb.predict(X_test)"
   ]
  },
  {
   "cell_type": "code",
   "execution_count": 105,
   "id": "06aadac5",
   "metadata": {
    "ExecuteTime": {
     "end_time": "2022-03-18T15:01:25.291935Z",
     "start_time": "2022-03-18T15:01:25.287884Z"
    }
   },
   "outputs": [
    {
     "data": {
      "text/plain": [
       "0.3157894736842105"
      ]
     },
     "execution_count": 105,
     "metadata": {},
     "output_type": "execute_result"
    }
   ],
   "source": [
    "accuracy_score(y_test, y_hat_gnb)"
   ]
  },
  {
   "cell_type": "code",
   "execution_count": 106,
   "id": "3f5c7c8e",
   "metadata": {
    "ExecuteTime": {
     "end_time": "2022-03-18T15:01:25.454559Z",
     "start_time": "2022-03-18T15:01:25.294054Z"
    }
   },
   "outputs": [
    {
     "data": {
      "image/png": "[encoded data removed]",
      "text/plain": [
       "<Figure size 432x288 with 2 Axes>"
      ]
     },
     "metadata": {
      "needs_background": "light"
     },
     "output_type": "display_data"
    }
   ],
   "source": [
    "sns.heatmap(confusion_matrix(y_test, y_hat_gnb, normalize='true'), annot=True, );"
   ]
  },
  {
   "cell_type": "code",
   "execution_count": 107,
   "id": "1ea12c9f",
   "metadata": {
    "ExecuteTime": {
     "end_time": "2022-03-18T15:01:25.468043Z",
     "start_time": "2022-03-18T15:01:25.456235Z"
    }
   },
   "outputs": [
    {
     "name": "stdout",
     "output_type": "stream",
     "text": [
      "              precision    recall  f1-score   support\n",
      "\n",
      "           0       0.22      0.40      0.29        10\n",
      "           1       0.88      0.47      0.61        15\n",
      "           2       0.08      0.08      0.08        13\n",
      "\n",
      "    accuracy                           0.32        38\n",
      "   macro avg       0.39      0.31      0.32        38\n",
      "weighted avg       0.43      0.32      0.34        38\n",
      "\n"
     ]
    }
   ],
   "source": [
    "print(classification_report(y_test, y_hat_gnb))"
   ]
  },
  {
   "cell_type": "markdown",
   "id": "55a278aa",
   "metadata": {},
   "source": [
    "## 5.6 SGD Classifier "
   ]
  },
  {
   "cell_type": "code",
   "execution_count": 108,
   "id": "9a5b2aff",
   "metadata": {
    "ExecuteTime": {
     "end_time": "2022-03-18T15:01:25.482849Z",
     "start_time": "2022-03-18T15:01:25.469463Z"
    }
   },
   "outputs": [],
   "source": [
    "clf_sgd = SGDClassifier().fit(X_train, y_train)\n",
    "y_hat_sgd = clf_sgd.predict(X_test)"
   ]
  },
  {
   "cell_type": "code",
   "execution_count": 109,
   "id": "e4742206",
   "metadata": {
    "ExecuteTime": {
     "end_time": "2022-03-18T15:01:25.488548Z",
     "start_time": "2022-03-18T15:01:25.484654Z"
    },
    "scrolled": true
   },
   "outputs": [
    {
     "data": {
      "text/plain": [
       "0.3684210526315789"
      ]
     },
     "execution_count": 109,
     "metadata": {},
     "output_type": "execute_result"
    }
   ],
   "source": [
    "accuracy_score(y_test, y_hat_sgd)"
   ]
  },
  {
   "cell_type": "code",
   "execution_count": 110,
   "id": "4140c9b9",
   "metadata": {
    "ExecuteTime": {
     "end_time": "2022-03-18T15:01:25.645764Z",
     "start_time": "2022-03-18T15:01:25.490063Z"
    }
   },
   "outputs": [
    {
     "data": {
      "text/plain": [
       "<AxesSubplot:>"
      ]
     },
     "execution_count": 110,
     "metadata": {},
     "output_type": "execute_result"
    },
    {
     "data": {
      "image/png": "[encoded data removed]",
      "text/plain": [
       "<Figure size 432x288 with 2 Axes>"
      ]
     },
     "metadata": {
      "needs_background": "light"
     },
     "output_type": "display_data"
    }
   ],
   "source": [
    "sns.heatmap(confusion_matrix(y_test, y_hat_sgd, normalize='true'), annot=True, )"
   ]
  },
  {
   "cell_type": "code",
   "execution_count": 111,
   "id": "c6b86019",
   "metadata": {
    "ExecuteTime": {
     "end_time": "2022-03-18T15:01:25.656033Z",
     "start_time": "2022-03-18T15:01:25.647631Z"
    }
   },
   "outputs": [
    {
     "name": "stdout",
     "output_type": "stream",
     "text": [
      "              precision    recall  f1-score   support\n",
      "\n",
      "           0       0.25      0.30      0.27        10\n",
      "           1       0.60      0.60      0.60        15\n",
      "           2       0.18      0.15      0.17        13\n",
      "\n",
      "    accuracy                           0.37        38\n",
      "   macro avg       0.34      0.35      0.35        38\n",
      "weighted avg       0.36      0.37      0.37        38\n",
      "\n"
     ]
    }
   ],
   "source": [
    "print(classification_report(y_test, y_hat_sgd))"
   ]
  },
  {
   "cell_type": "markdown",
   "id": "ea707aaf",
   "metadata": {},
   "source": [
    "## 5.7 Decision Tree"
   ]
  },
  {
   "cell_type": "code",
   "execution_count": 112,
   "id": "833849cf",
   "metadata": {
    "ExecuteTime": {
     "end_time": "2022-03-18T15:01:25.666200Z",
     "start_time": "2022-03-18T15:01:25.657670Z"
    }
   },
   "outputs": [],
   "source": [
    "clf_dt = tree.DecisionTreeClassifier().fit(X_train, y_train)\n",
    "y_hat_dt = clf_dt.predict(X_test)"
   ]
  },
  {
   "cell_type": "code",
   "execution_count": 113,
   "id": "69700ec8",
   "metadata": {
    "ExecuteTime": {
     "end_time": "2022-03-18T15:01:25.673080Z",
     "start_time": "2022-03-18T15:01:25.667644Z"
    },
    "scrolled": true
   },
   "outputs": [
    {
     "data": {
      "text/plain": [
       "0.5"
      ]
     },
     "execution_count": 113,
     "metadata": {},
     "output_type": "execute_result"
    }
   ],
   "source": [
    "accuracy_score(y_test, y_hat_dt)"
   ]
  },
  {
   "cell_type": "code",
   "execution_count": 114,
   "id": "92ce198d",
   "metadata": {
    "ExecuteTime": {
     "end_time": "2022-03-18T15:01:25.832402Z",
     "start_time": "2022-03-18T15:01:25.674457Z"
    }
   },
   "outputs": [
    {
     "data": {
      "image/png": "[encoded data removed]",
      "text/plain": [
       "<Figure size 432x288 with 2 Axes>"
      ]
     },
     "metadata": {
      "needs_background": "light"
     },
     "output_type": "display_data"
    }
   ],
   "source": [
    "sns.heatmap(confusion_matrix(y_test, y_hat_dt, normalize='true'), annot=True, );"
   ]
  },
  {
   "cell_type": "code",
   "execution_count": 115,
   "id": "023e1c66",
   "metadata": {
    "ExecuteTime": {
     "end_time": "2022-03-18T15:01:25.842176Z",
     "start_time": "2022-03-18T15:01:25.834212Z"
    }
   },
   "outputs": [
    {
     "name": "stdout",
     "output_type": "stream",
     "text": [
      "              precision    recall  f1-score   support\n",
      "\n",
      "           0       0.25      0.10      0.14        10\n",
      "           1       0.61      0.73      0.67        15\n",
      "           2       0.44      0.54      0.48        13\n",
      "\n",
      "    accuracy                           0.50        38\n",
      "   macro avg       0.43      0.46      0.43        38\n",
      "weighted avg       0.46      0.50      0.47        38\n",
      "\n"
     ]
    }
   ],
   "source": [
    "print(classification_report(y_test, y_hat_dt))"
   ]
  },
  {
   "cell_type": "markdown",
   "id": "525fc54f",
   "metadata": {},
   "source": [
    "## 5.8 MLP"
   ]
  },
  {
   "cell_type": "code",
   "execution_count": 116,
   "id": "aa014027",
   "metadata": {
    "ExecuteTime": {
     "end_time": "2022-03-18T15:01:26.463115Z",
     "start_time": "2022-03-18T15:01:25.843950Z"
    }
   },
   "outputs": [],
   "source": [
    "clf_mlp = MLPClassifier(max_iter=500).fit(X_train, y_train)\n",
    "y_hat_mlp = clf_mlp.predict(X_test)"
   ]
  },
  {
   "cell_type": "code",
   "execution_count": 117,
   "id": "6d159af4",
   "metadata": {
    "ExecuteTime": {
     "end_time": "2022-03-18T15:01:26.468589Z",
     "start_time": "2022-03-18T15:01:26.465037Z"
    },
    "scrolled": true
   },
   "outputs": [
    {
     "data": {
      "text/plain": [
       "0.3684210526315789"
      ]
     },
     "execution_count": 117,
     "metadata": {},
     "output_type": "execute_result"
    }
   ],
   "source": [
    "accuracy_score(y_test, y_hat_mlp)"
   ]
  },
  {
   "cell_type": "code",
   "execution_count": 118,
   "id": "1465c2a7",
   "metadata": {
    "ExecuteTime": {
     "end_time": "2022-03-18T15:01:26.664524Z",
     "start_time": "2022-03-18T15:01:26.474978Z"
    }
   },
   "outputs": [
    {
     "data": {
      "image/png": "[encoded data removed]",
      "text/plain": [
       "<Figure size 432x288 with 2 Axes>"
      ]
     },
     "metadata": {
      "needs_background": "light"
     },
     "output_type": "display_data"
    }
   ],
   "source": [
    "sns.heatmap(confusion_matrix(y_test, y_hat_mlp, normalize='true'), annot=True, );"
   ]
  },
  {
   "cell_type": "code",
   "execution_count": 119,
   "id": "9e2d05de",
   "metadata": {
    "ExecuteTime": {
     "end_time": "2022-03-18T15:01:26.675281Z",
     "start_time": "2022-03-18T15:01:26.667953Z"
    }
   },
   "outputs": [
    {
     "name": "stdout",
     "output_type": "stream",
     "text": [
      "              precision    recall  f1-score   support\n",
      "\n",
      "           0       0.14      0.10      0.12        10\n",
      "           1       0.56      0.60      0.58        15\n",
      "           2       0.27      0.31      0.29        13\n",
      "\n",
      "    accuracy                           0.37        38\n",
      "   macro avg       0.32      0.34      0.33        38\n",
      "weighted avg       0.35      0.37      0.36        38\n",
      "\n"
     ]
    }
   ],
   "source": [
    "print(classification_report(y_test, y_hat_mlp))"
   ]
  },
  {
   "cell_type": "markdown",
   "id": "5c1dbbb5",
   "metadata": {},
   "source": [
    "# 6.0 Ensemble "
   ]
  },
  {
   "cell_type": "code",
   "execution_count": 120,
   "id": "f67b8925",
   "metadata": {
    "ExecuteTime": {
     "end_time": "2022-03-18T15:01:26.679769Z",
     "start_time": "2022-03-18T15:01:26.677096Z"
    }
   },
   "outputs": [],
   "source": [
    "import warnings\n",
    "warnings.filterwarnings(\"ignore\")"
   ]
  },
  {
   "cell_type": "code",
   "execution_count": 121,
   "id": "68ad6e89",
   "metadata": {
    "ExecuteTime": {
     "end_time": "2022-03-18T15:01:26.686174Z",
     "start_time": "2022-03-18T15:01:26.681196Z"
    }
   },
   "outputs": [],
   "source": [
    "eclf = VotingClassifier(estimators=[('logistic', clf_lg), ('xgb', clf_xgb), ('random_forest', clf_rf), ('naive_bayes', clf_gb), ('decision_tree', clf_dt), ('mlp', clf_mlp)], voting='hard')"
   ]
  },
  {
   "cell_type": "code",
   "execution_count": 122,
   "id": "26518993",
   "metadata": {
    "ExecuteTime": {
     "end_time": "2022-03-18T15:01:50.365483Z",
     "start_time": "2022-03-18T15:01:26.687744Z"
    }
   },
   "outputs": [
    {
     "name": "stdout",
     "output_type": "stream",
     "text": [
      "Accuracy: 0.47 (+/- 0.16) [logistic]\n",
      "[12:01:27] WARNING: ../src/learner.cc:1115: Starting in XGBoost 1.3.0, the default evaluation metric used with the objective 'multi:softprob' was changed from 'merror' to 'mlogloss'. Explicitly set eval_metric if you'd like to restore the old behavior.\n",
      "[12:01:29] WARNING: ../src/learner.cc:1115: Starting in XGBoost 1.3.0, the default evaluation metric used with the objective 'multi:softprob' was changed from 'merror' to 'mlogloss'. Explicitly set eval_metric if you'd like to restore the old behavior.\n",
      "[12:01:35] WARNING: ../src/learner.cc:1115: Starting in XGBoost 1.3.0, the default evaluation metric used with the objective 'multi:softprob' was changed from 'merror' to 'mlogloss'. Explicitly set eval_metric if you'd like to restore the old behavior.\n",
      "[12:01:36] WARNING: ../src/learner.cc:1115: Starting in XGBoost 1.3.0, the default evaluation metric used with the objective 'multi:softprob' was changed from 'merror' to 'mlogloss'. Explicitly set eval_metric if you'd like to restore the old behavior.\n",
      "[12:01:38] WARNING: ../src/learner.cc:1115: Starting in XGBoost 1.3.0, the default evaluation metric used with the objective 'multi:softprob' was changed from 'merror' to 'mlogloss'. Explicitly set eval_metric if you'd like to restore the old behavior.\n",
      "Accuracy: 0.46 (+/- 0.10) [xgb]\n",
      "Accuracy: 0.49 (+/- 0.11) [random_forest]\n",
      "Accuracy: 0.30 (+/- 0.10) [naive_bayes]\n",
      "Accuracy: 0.40 (+/- 0.15) [decision_tree]\n"
     ]
    }
   ],
   "source": [
    "for clf, label in zip([clf_lg, clf_xgb, clf_rf, clf_gb, clf_dt], ['logistic', 'xgb', 'random_forest', 'naive_bayes', 'decision_tree', 'mlp' ]):\n",
    "    scores = cross_val_score(clf, X, y, scoring='accuracy', cv=5)\n",
    "    print(\"Accuracy: %0.2f (+/- %0.2f) [%s]\" % (scores.mean(), scores.std(), label))"
   ]
  },
  {
   "cell_type": "code",
   "execution_count": 129,
   "id": "f7b6ae5a",
   "metadata": {
    "ExecuteTime": {
     "end_time": "2022-03-18T15:04:08.879718Z",
     "start_time": "2022-03-18T15:04:05.891925Z"
    }
   },
   "outputs": [
    {
     "name": "stdout",
     "output_type": "stream",
     "text": [
      "[12:04:07] WARNING: ../src/learner.cc:1115: Starting in XGBoost 1.3.0, the default evaluation metric used with the objective 'multi:softprob' was changed from 'merror' to 'mlogloss'. Explicitly set eval_metric if you'd like to restore the old behavior.\n"
     ]
    }
   ],
   "source": [
    "eclf = VotingClassifier(estimators=[('xgb', clf_xgb), ('svc', clf_svc), ('dt', clf_dt), ('rf', clf_rf)], voting='hard').fit(X_train, y_train)"
   ]
  },
  {
   "cell_type": "code",
   "execution_count": 130,
   "id": "547ed177",
   "metadata": {
    "ExecuteTime": {
     "end_time": "2022-03-18T15:04:09.263680Z",
     "start_time": "2022-03-18T15:04:08.881396Z"
    }
   },
   "outputs": [],
   "source": [
    "y_hat_eclf = eclf.predict(X_test)"
   ]
  },
  {
   "cell_type": "code",
   "execution_count": 131,
   "id": "28650a33",
   "metadata": {
    "ExecuteTime": {
     "end_time": "2022-03-18T15:04:09.272177Z",
     "start_time": "2022-03-18T15:04:09.266088Z"
    },
    "scrolled": true
   },
   "outputs": [
    {
     "data": {
      "text/plain": [
       "0.5263157894736842"
      ]
     },
     "execution_count": 131,
     "metadata": {},
     "output_type": "execute_result"
    }
   ],
   "source": [
    "accuracy_score(y_test, y_hat_eclf)"
   ]
  },
  {
   "cell_type": "code",
   "execution_count": 132,
   "id": "05b25b6e",
   "metadata": {
    "ExecuteTime": {
     "end_time": "2022-03-18T15:04:10.364008Z",
     "start_time": "2022-03-18T15:04:10.146731Z"
    }
   },
   "outputs": [
    {
     "data": {
      "image/png": "[encoded data removed]",
      "text/plain": [
       "<Figure size 432x288 with 2 Axes>"
      ]
     },
     "metadata": {
      "needs_background": "light"
     },
     "output_type": "display_data"
    }
   ],
   "source": [
    "sns.heatmap(confusion_matrix(y_test, y_hat_eclf, normalize='true'), annot=True, );"
   ]
  },
  {
   "cell_type": "code",
   "execution_count": 127,
   "id": "4349e38c",
   "metadata": {
    "ExecuteTime": {
     "end_time": "2022-03-18T15:01:53.153863Z",
     "start_time": "2022-03-18T15:01:53.145611Z"
    }
   },
   "outputs": [
    {
     "name": "stdout",
     "output_type": "stream",
     "text": [
      "              precision    recall  f1-score   support\n",
      "\n",
      "           0       0.29      0.20      0.24        10\n",
      "           1       0.75      0.80      0.77        15\n",
      "           2       0.40      0.46      0.43        13\n",
      "\n",
      "    accuracy                           0.53        38\n",
      "   macro avg       0.48      0.49      0.48        38\n",
      "weighted avg       0.51      0.53      0.51        38\n",
      "\n"
     ]
    }
   ],
   "source": [
    "print(classification_report(y_test, y_hat_eclf))"
   ]
  },
  {
   "cell_type": "code",
   "execution_count": null,
   "id": "b5ef47a9",
   "metadata": {},
   "outputs": [],
   "source": []
  }
 ],
 "metadata": {
  "kernelspec": {
   "display_name": "Python 3 (ipykernel)",
   "language": "python",
   "name": "python3"
  },
  "language_info": {
   "codemirror_mode": {
    "name": "ipython",
    "version": 3
   },
   "file_extension": ".py",
   "mimetype": "text/x-python",
   "name": "python",
   "nbconvert_exporter": "python",
   "pygments_lexer": "ipython3",
   "version": "3.9.7"
  }
 },
 "nbformat": 4,
 "nbformat_minor": 5
}
