{
 "cells": [
  {
   "cell_type": "markdown",
   "id": "648a4712",
   "metadata": {},
   "source": [
    "# 0. Imports "
   ]
  },
  {
   "cell_type": "code",
   "execution_count": 1,
   "id": "0b87f4ad",
   "metadata": {
    "ExecuteTime": {
     "end_time": "2022-03-22T11:15:13.861307Z",
     "start_time": "2022-03-22T11:15:10.479679Z"
    }
   },
   "outputs": [
    {
     "name": "stderr",
     "output_type": "stream",
     "text": [
      "/home/mahelvson/anaconda3/envs/foot/lib/python3.9/site-packages/xgboost/compat.py:36: FutureWarning: pandas.Int64Index is deprecated and will be removed from pandas in a future version. Use pandas.Index with the appropriate dtype instead.\n",
      "  from pandas import MultiIndex, Int64Index\n"
     ]
    }
   ],
   "source": [
    "import pandas as pd\n",
    "import numpy as np\n",
    "import matplotlib.pyplot as plt\n",
    "import seaborn as sns\n",
    "import xgboost as xgb\n",
    "\n",
    "from os import listdir\n",
    "from sklearn.model_selection import train_test_split, cross_val_score\n",
    "from sklearn.metrics import confusion_matrix, accuracy_score, classification_report\n",
    "from sklearn.ensemble import RandomForestRegressor, RandomForestClassifier\n",
    "from sklearn.metrics import mean_absolute_error, mean_squared_error, mean_absolute_percentage_error\n",
    "from sklearn.linear_model import LogisticRegression\n",
    "from sklearn.preprocessing import LabelEncoder, StandardScaler\n",
    "from sklearn import svm, tree\n",
    "from sklearn.naive_bayes import GaussianNB\n",
    "from sklearn.linear_model import SGDClassifier\n",
    "from sklearn.ensemble import VotingClassifier\n",
    "from sklearn.neural_network import MLPClassifier\n",
    "\n",
    "from boruta import BorutaPy\n",
    "from imblearn.under_sampling import RandomUnderSampler\n",
    "from imblearn.over_sampling import RandomOverSampler"
   ]
  },
  {
   "cell_type": "markdown",
   "id": "d789db41",
   "metadata": {},
   "source": [
    "## 0.1 Helper Functions "
   ]
  },
  {
   "cell_type": "code",
   "execution_count": 469,
   "id": "d1ba9ef8",
   "metadata": {
    "ExecuteTime": {
     "end_time": "2022-03-22T14:24:36.728721Z",
     "start_time": "2022-03-22T14:24:36.711046Z"
    }
   },
   "outputs": [],
   "source": [
    "def check_last_match(df):\n",
    "    \"\"\"\n",
    "    This function checks if a team won the last match and how many gols each team scored\n",
    "    \"\"\"\n",
    "    seasons = df['data'].dt.year.unique()\n",
    "    df_result = pd.DataFrame()\n",
    "    for season in seasons:\n",
    "        df_season = df[df['data'].dt.year == season]        \n",
    "        for round_n in range(1, max(df_season.rodada) + 1):\n",
    "            df_round_n = df_season[df_season['rodada'] == round_n]\n",
    "            for idx in df_round_n.ID.values:                \n",
    "                home = df.loc[idx, 'mandante']\n",
    "                away = df.loc[idx, 'visitante'] \n",
    "                if round_n > 1:\n",
    "                    # win ?\n",
    "                    if ((df_season['rodada'] == round_n -1) & (df_season['vencedor'] == home)).any():\n",
    "                        df_season.loc[idx, 'mandante_venceu_ultima'] = 1.0\n",
    "                    else:\n",
    "                        df_season.loc[idx, 'mandante_venceu_ultima'] = 0.\n",
    "                        \n",
    "                    if ((df_season['rodada'] == round_n -1) & (df_season['vencedor'] == away)).any():\n",
    "                        df_season.loc[idx, 'visitante_venceu_ultima'] = 1.0                    \n",
    "                    else:                     \n",
    "                        df_season.loc[idx, 'visitante_venceu_ultima'] = 0.\n",
    "                        \n",
    "                    # n. of goals\n",
    "                    if ((df_season['rodada'] == round_n-1) & (df_season['mandante'] == home)).any():\n",
    "                        df_season.loc[idx, 'n_gols_mandante_ultima'] = df_season[((df_season['rodada'] == round_n-1) & (df_season['mandante'] == home))]['mandante_placar'].values[0]\n",
    "                        \n",
    "                    elif ((df_season['rodada'] == round_n-1) & (df_season['visitante'] == home)).any():\n",
    "                        df_season.loc[idx, 'n_gols_mandante_ultima'] = df_season[((df_season['rodada'] == round_n-1) & (df_season['visitante'] == home))]['visitante_placar'].values[0]\n",
    "                    \n",
    "                    if ((df_season['rodada'] == round_n-1) & (df_season['mandante'] == away)).any():\n",
    "                        df_season.loc[idx, 'n_gols_visitante_ultima'] = df_season[((df_season['rodada'] == round_n-1) & (df_season['mandante'] == away))]['mandante_placar'].values[0]\n",
    "                        \n",
    "                    elif ((df_season['rodada'] == round_n-1) & (df_season['visitante'] == away)).any():\n",
    "                        df_season.loc[idx, 'n_gols_visitante_ultima'] = df_season[((df_season['rodada'] == round_n-1) & (df_season['visitante'] == away))]['visitante_placar'].values[0]\n",
    "               \n",
    "                else:                 \n",
    "                    df_season['mandante_venceu_ultima'] = 0\n",
    "                    df_season['visitante_venceu_ultima'] = 0\n",
    "                    df_season['n_gols_mandante_ultima'] = 0\n",
    "                    df_season['n_gols_visitante_ultima'] = 0\n",
    "                    \n",
    "        df_result = pd.concat([df_result, df_season], axis = 0)\n",
    "    return df_result\n",
    "\n",
    "\n",
    "def add_attributes(df_stats_recent, df_full_recent):\n",
    "    \"\"\"\n",
    "    This function add some attributes from two differente df\n",
    "    \"\"\"\n",
    "    df_full_stats_recent = df_full_recent.copy()\n",
    "    columns = df_stats_recent.columns.to_list()[4:-1]\n",
    "           \n",
    "    for row in range(len(df_full_stats_recent)):\n",
    "        for column in columns:\n",
    "            if (df_stats_recent['ID'] == df_full_stats_recent.loc[row, 'ID']).any() & (df_stats_recent['clube'] == df_full_stats_recent.loc[row, 'mandante']).any():\n",
    "                df_full_stats_recent.loc[row, 'mandante_' + column] = df_stats_recent[(df_stats_recent['ID'] == df_full_stats_recent.loc[row, 'ID']) & (df_stats_recent['clube'] == df_full_stats_recent.loc[row, 'mandante'])][column].values[0]\n",
    "            else:\n",
    "                df_full_stats_recent.loc[row, 'mandante_' + column] = np.nan\n",
    "                \n",
    "            if (df_stats_recent['ID'] == df_full_stats_recent.loc[row, 'ID']).any() & (df_stats_recent['clube'] == df_full_stats_recent.loc[row, 'visitante']).any():       \n",
    "                df_full_stats_recent.loc[row, 'visitante_' + column] = df_stats_recent[(df_stats_recent['ID'] == df_full_stats_recent.loc[row, 'ID']) & (df_stats_recent['clube'] == df_full_stats_recent.loc[row, 'visitante'])][column].values[0]\n",
    "            else:\n",
    "                df_full_stats_recent.loc[row, 'visitante_' + column] = np.nan    \n",
    "\n",
    "    return df_full_stats_recent\n",
    "\n",
    "def create_target(df):\n",
    "    \n",
    "    for i in range(0, len(df)):\n",
    "        if df.loc[i, 'vencedor'] == df.loc[i, 'mandante']:\n",
    "            df.loc[i, 'resultado'] = 1\n",
    "        elif df.loc[i, 'vencedor'] == df.loc[i, 'visitante']:\n",
    "            df.loc[i, 'resultado'] = 2\n",
    "        else:\n",
    "            df.loc[i, 'resultado'] = 0  \n",
    "            \n",
    "    df = df.drop('vencedor', axis = 1)\n",
    "            \n",
    "    return df"
   ]
  },
  {
   "cell_type": "markdown",
   "id": "25b9bf7e",
   "metadata": {},
   "source": [
    "# 1. Loading Data "
   ]
  },
  {
   "cell_type": "code",
   "execution_count": 3,
   "id": "b9bc9da9",
   "metadata": {
    "ExecuteTime": {
     "end_time": "2022-03-22T11:15:17.682253Z",
     "start_time": "2022-03-22T11:15:17.675701Z"
    }
   },
   "outputs": [],
   "source": [
    "data_path = '../datasets/'\n",
    "files = listdir(data_path)"
   ]
  },
  {
   "cell_type": "code",
   "execution_count": 4,
   "id": "e40fc1d5",
   "metadata": {
    "ExecuteTime": {
     "end_time": "2022-03-22T11:15:18.822872Z",
     "start_time": "2022-03-22T11:15:18.813795Z"
    }
   },
   "outputs": [
    {
     "data": {
      "text/plain": [
       "['campeonato-brasileiro-cartoes.csv',\n",
       " 'campeonato-brasileiro-full.csv',\n",
       " 'campeonato-brasileiro-estatisticas-full.csv',\n",
       " 'campeonato-brasileiro-gols.csv',\n",
       " 'Legenda.txt']"
      ]
     },
     "execution_count": 4,
     "metadata": {},
     "output_type": "execute_result"
    }
   ],
   "source": [
    "files"
   ]
  },
  {
   "cell_type": "code",
   "execution_count": 5,
   "id": "71d0ac19",
   "metadata": {
    "ExecuteTime": {
     "end_time": "2022-03-22T11:15:19.369558Z",
     "start_time": "2022-03-22T11:15:19.362209Z"
    }
   },
   "outputs": [],
   "source": [
    "cards = files[0]\n",
    "full = files[1]\n",
    "stats = files[2]\n",
    "goals = files[3]"
   ]
  },
  {
   "cell_type": "markdown",
   "id": "402e3783",
   "metadata": {},
   "source": [
    "## 1.1 Cards"
   ]
  },
  {
   "cell_type": "code",
   "execution_count": 6,
   "id": "bad57e66",
   "metadata": {
    "ExecuteTime": {
     "end_time": "2022-03-22T11:15:23.064444Z",
     "start_time": "2022-03-22T11:15:23.023014Z"
    }
   },
   "outputs": [
    {
     "data": {
      "text/html": [
       "<div>\n",
       "<style scoped>\n",
       "    .dataframe tbody tr th:only-of-type {\n",
       "        vertical-align: middle;\n",
       "    }\n",
       "\n",
       "    .dataframe tbody tr th {\n",
       "        vertical-align: top;\n",
       "    }\n",
       "\n",
       "    .dataframe thead th {\n",
       "        text-align: right;\n",
       "    }\n",
       "</style>\n",
       "<table border=\"1\" class=\"dataframe\">\n",
       "  <thead>\n",
       "    <tr style=\"text-align: right;\">\n",
       "      <th></th>\n",
       "      <th>partida_id</th>\n",
       "      <th>rodada</th>\n",
       "      <th>clube</th>\n",
       "      <th>cartao</th>\n",
       "      <th>atleta</th>\n",
       "      <th>num_camisa</th>\n",
       "      <th>posicao</th>\n",
       "      <th>minuto</th>\n",
       "    </tr>\n",
       "  </thead>\n",
       "  <tbody>\n",
       "    <tr>\n",
       "      <th>0</th>\n",
       "      <td>4607</td>\n",
       "      <td>1</td>\n",
       "      <td>Figueirense</td>\n",
       "      <td>Amarelo</td>\n",
       "      <td>Thiago Heleno</td>\n",
       "      <td>4.0</td>\n",
       "      <td>Zagueiro</td>\n",
       "      <td>44</td>\n",
       "    </tr>\n",
       "    <tr>\n",
       "      <th>1</th>\n",
       "      <td>4607</td>\n",
       "      <td>1</td>\n",
       "      <td>Figueirense</td>\n",
       "      <td>Amarelo</td>\n",
       "      <td>Paulo Roberto da Silva</td>\n",
       "      <td>28.0</td>\n",
       "      <td>NaN</td>\n",
       "      <td>66</td>\n",
       "    </tr>\n",
       "    <tr>\n",
       "      <th>2</th>\n",
       "      <td>4608</td>\n",
       "      <td>1</td>\n",
       "      <td>Internacional</td>\n",
       "      <td>Amarelo</td>\n",
       "      <td>Juan Silveira dos Santos</td>\n",
       "      <td>4.0</td>\n",
       "      <td>Zagueiro</td>\n",
       "      <td>20</td>\n",
       "    </tr>\n",
       "    <tr>\n",
       "      <th>3</th>\n",
       "      <td>4608</td>\n",
       "      <td>1</td>\n",
       "      <td>Vitoria</td>\n",
       "      <td>Amarelo</td>\n",
       "      <td>Vinícius Santos Silva</td>\n",
       "      <td>NaN</td>\n",
       "      <td>NaN</td>\n",
       "      <td>82</td>\n",
       "    </tr>\n",
       "    <tr>\n",
       "      <th>4</th>\n",
       "      <td>4608</td>\n",
       "      <td>1</td>\n",
       "      <td>Internacional</td>\n",
       "      <td>Amarelo</td>\n",
       "      <td>Andrés D'Alessandro</td>\n",
       "      <td>10.0</td>\n",
       "      <td>Meio-campo</td>\n",
       "      <td>72</td>\n",
       "    </tr>\n",
       "  </tbody>\n",
       "</table>\n",
       "</div>"
      ],
      "text/plain": [
       "   partida_id  rodada          clube   cartao                    atleta  \\\n",
       "0        4607       1    Figueirense  Amarelo             Thiago Heleno   \n",
       "1        4607       1    Figueirense  Amarelo    Paulo Roberto da Silva   \n",
       "2        4608       1  Internacional  Amarelo  Juan Silveira dos Santos   \n",
       "3        4608       1        Vitoria  Amarelo     Vinícius Santos Silva   \n",
       "4        4608       1  Internacional  Amarelo       Andrés D'Alessandro   \n",
       "\n",
       "   num_camisa     posicao minuto  \n",
       "0         4.0    Zagueiro     44  \n",
       "1        28.0         NaN     66  \n",
       "2         4.0    Zagueiro     20  \n",
       "3         NaN         NaN     82  \n",
       "4        10.0  Meio-campo     72  "
      ]
     },
     "execution_count": 6,
     "metadata": {},
     "output_type": "execute_result"
    }
   ],
   "source": [
    "df_cards = pd.read_csv(data_path + cards)\n",
    "df_cards.head()"
   ]
  },
  {
   "cell_type": "code",
   "execution_count": 7,
   "id": "5451bc20",
   "metadata": {
    "ExecuteTime": {
     "end_time": "2022-03-22T11:15:28.314652Z",
     "start_time": "2022-03-22T11:15:28.297360Z"
    }
   },
   "outputs": [
    {
     "data": {
      "text/plain": [
       "partida_id    0.000000\n",
       "rodada        0.000000\n",
       "clube         0.000000\n",
       "cartao        0.000000\n",
       "atleta        0.000406\n",
       "num_camisa    0.026138\n",
       "posicao       0.081121\n",
       "minuto        0.000000\n",
       "dtype: float64"
      ]
     },
     "execution_count": 7,
     "metadata": {},
     "output_type": "execute_result"
    }
   ],
   "source": [
    "df_cards.isna().sum() / df_cards.shape[0]"
   ]
  },
  {
   "cell_type": "code",
   "execution_count": 8,
   "id": "06865881",
   "metadata": {
    "ExecuteTime": {
     "end_time": "2022-03-22T11:15:29.082657Z",
     "start_time": "2022-03-22T11:15:29.072560Z"
    }
   },
   "outputs": [
    {
     "data": {
      "text/plain": [
       "(14768, 8)"
      ]
     },
     "execution_count": 8,
     "metadata": {},
     "output_type": "execute_result"
    }
   ],
   "source": [
    "df_cards.shape"
   ]
  },
  {
   "cell_type": "code",
   "execution_count": 9,
   "id": "1573bdf7",
   "metadata": {
    "ExecuteTime": {
     "end_time": "2022-03-22T11:15:29.606361Z",
     "start_time": "2022-03-22T11:15:29.597824Z"
    }
   },
   "outputs": [
    {
     "data": {
      "text/plain": [
       "partida_id      int64\n",
       "rodada          int64\n",
       "clube          object\n",
       "cartao         object\n",
       "atleta         object\n",
       "num_camisa    float64\n",
       "posicao        object\n",
       "minuto         object\n",
       "dtype: object"
      ]
     },
     "execution_count": 9,
     "metadata": {},
     "output_type": "execute_result"
    }
   ],
   "source": [
    "df_cards.dtypes"
   ]
  },
  {
   "cell_type": "markdown",
   "id": "6b202bf5",
   "metadata": {},
   "source": [
    "Quantidade de NaN é no máximo 8% em relação ao total da registros."
   ]
  },
  {
   "cell_type": "markdown",
   "id": "773ebda2",
   "metadata": {},
   "source": [
    "## 1.2 Full"
   ]
  },
  {
   "cell_type": "code",
   "execution_count": 92,
   "id": "b0198203",
   "metadata": {
    "ExecuteTime": {
     "end_time": "2022-03-22T11:55:14.191124Z",
     "start_time": "2022-03-22T11:55:14.154375Z"
    }
   },
   "outputs": [
    {
     "data": {
      "text/html": [
       "<div>\n",
       "<style scoped>\n",
       "    .dataframe tbody tr th:only-of-type {\n",
       "        vertical-align: middle;\n",
       "    }\n",
       "\n",
       "    .dataframe tbody tr th {\n",
       "        vertical-align: top;\n",
       "    }\n",
       "\n",
       "    .dataframe thead th {\n",
       "        text-align: right;\n",
       "    }\n",
       "</style>\n",
       "<table border=\"1\" class=\"dataframe\">\n",
       "  <thead>\n",
       "    <tr style=\"text-align: right;\">\n",
       "      <th></th>\n",
       "      <th>ID</th>\n",
       "      <th>rodada</th>\n",
       "      <th>data</th>\n",
       "      <th>hora</th>\n",
       "      <th>dia</th>\n",
       "      <th>mandante</th>\n",
       "      <th>visitante</th>\n",
       "      <th>formacao_mandante</th>\n",
       "      <th>formacao_visitante</th>\n",
       "      <th>tecnico_mandante</th>\n",
       "      <th>tecnico_visitante</th>\n",
       "      <th>vencedor</th>\n",
       "      <th>arena</th>\n",
       "      <th>mandante_placar</th>\n",
       "      <th>visitante_placar</th>\n",
       "      <th>mandante_estado</th>\n",
       "      <th>visitante_estado</th>\n",
       "      <th>estado_vencedor</th>\n",
       "    </tr>\n",
       "  </thead>\n",
       "  <tbody>\n",
       "    <tr>\n",
       "      <th>0</th>\n",
       "      <td>1</td>\n",
       "      <td>1</td>\n",
       "      <td>2003-03-29</td>\n",
       "      <td>16:00</td>\n",
       "      <td>Sabado</td>\n",
       "      <td>Guarani</td>\n",
       "      <td>Vasco</td>\n",
       "      <td>NaN</td>\n",
       "      <td>NaN</td>\n",
       "      <td>NaN</td>\n",
       "      <td>NaN</td>\n",
       "      <td>Guarani</td>\n",
       "      <td>brinco de ouro</td>\n",
       "      <td>4</td>\n",
       "      <td>2</td>\n",
       "      <td>SP</td>\n",
       "      <td>RJ</td>\n",
       "      <td>SP</td>\n",
       "    </tr>\n",
       "    <tr>\n",
       "      <th>1</th>\n",
       "      <td>2</td>\n",
       "      <td>1</td>\n",
       "      <td>2003-03-29</td>\n",
       "      <td>16:00</td>\n",
       "      <td>Sabado</td>\n",
       "      <td>Athletico-PR</td>\n",
       "      <td>Gremio</td>\n",
       "      <td>NaN</td>\n",
       "      <td>NaN</td>\n",
       "      <td>NaN</td>\n",
       "      <td>NaN</td>\n",
       "      <td>Athletico-PR</td>\n",
       "      <td>arena da baixada</td>\n",
       "      <td>2</td>\n",
       "      <td>0</td>\n",
       "      <td>PR</td>\n",
       "      <td>RS</td>\n",
       "      <td>PR</td>\n",
       "    </tr>\n",
       "    <tr>\n",
       "      <th>2</th>\n",
       "      <td>3</td>\n",
       "      <td>1</td>\n",
       "      <td>2003-03-30</td>\n",
       "      <td>16:00</td>\n",
       "      <td>Domingo</td>\n",
       "      <td>Flamengo</td>\n",
       "      <td>Coritiba</td>\n",
       "      <td>NaN</td>\n",
       "      <td>NaN</td>\n",
       "      <td>NaN</td>\n",
       "      <td>NaN</td>\n",
       "      <td>-</td>\n",
       "      <td>maracana</td>\n",
       "      <td>1</td>\n",
       "      <td>1</td>\n",
       "      <td>RJ</td>\n",
       "      <td>PR</td>\n",
       "      <td>-</td>\n",
       "    </tr>\n",
       "    <tr>\n",
       "      <th>3</th>\n",
       "      <td>4</td>\n",
       "      <td>1</td>\n",
       "      <td>2003-03-30</td>\n",
       "      <td>16:00</td>\n",
       "      <td>Domingo</td>\n",
       "      <td>Goias</td>\n",
       "      <td>Paysandu</td>\n",
       "      <td>NaN</td>\n",
       "      <td>NaN</td>\n",
       "      <td>NaN</td>\n",
       "      <td>NaN</td>\n",
       "      <td>-</td>\n",
       "      <td>serra dourada</td>\n",
       "      <td>2</td>\n",
       "      <td>2</td>\n",
       "      <td>GO</td>\n",
       "      <td>PA</td>\n",
       "      <td>-</td>\n",
       "    </tr>\n",
       "    <tr>\n",
       "      <th>4</th>\n",
       "      <td>5</td>\n",
       "      <td>1</td>\n",
       "      <td>2003-03-30</td>\n",
       "      <td>16:00</td>\n",
       "      <td>Domingo</td>\n",
       "      <td>Internacional</td>\n",
       "      <td>Ponte Preta</td>\n",
       "      <td>NaN</td>\n",
       "      <td>NaN</td>\n",
       "      <td>NaN</td>\n",
       "      <td>NaN</td>\n",
       "      <td>-</td>\n",
       "      <td>beira rio</td>\n",
       "      <td>1</td>\n",
       "      <td>1</td>\n",
       "      <td>RS</td>\n",
       "      <td>SP</td>\n",
       "      <td>-</td>\n",
       "    </tr>\n",
       "  </tbody>\n",
       "</table>\n",
       "</div>"
      ],
      "text/plain": [
       "   ID  rodada        data   hora      dia       mandante    visitante  \\\n",
       "0   1       1  2003-03-29  16:00   Sabado        Guarani        Vasco   \n",
       "1   2       1  2003-03-29  16:00   Sabado   Athletico-PR       Gremio   \n",
       "2   3       1  2003-03-30  16:00  Domingo       Flamengo     Coritiba   \n",
       "3   4       1  2003-03-30  16:00  Domingo          Goias     Paysandu   \n",
       "4   5       1  2003-03-30  16:00  Domingo  Internacional  Ponte Preta   \n",
       "\n",
       "  formacao_mandante formacao_visitante tecnico_mandante tecnico_visitante  \\\n",
       "0               NaN                NaN              NaN               NaN   \n",
       "1               NaN                NaN              NaN               NaN   \n",
       "2               NaN                NaN              NaN               NaN   \n",
       "3               NaN                NaN              NaN               NaN   \n",
       "4               NaN                NaN              NaN               NaN   \n",
       "\n",
       "       vencedor             arena  mandante_placar  visitante_placar  \\\n",
       "0       Guarani    brinco de ouro                4                 2   \n",
       "1  Athletico-PR  arena da baixada                2                 0   \n",
       "2             -          maracana                1                 1   \n",
       "3             -     serra dourada                2                 2   \n",
       "4             -         beira rio                1                 1   \n",
       "\n",
       "  mandante_estado visitante_estado estado_vencedor  \n",
       "0              SP               RJ              SP  \n",
       "1              PR               RS              PR  \n",
       "2              RJ               PR               -  \n",
       "3              GO               PA               -  \n",
       "4              RS               SP               -  "
      ]
     },
     "execution_count": 92,
     "metadata": {},
     "output_type": "execute_result"
    }
   ],
   "source": [
    "df_full = pd.read_csv(data_path + full)\n",
    "df_full.head()"
   ]
  },
  {
   "cell_type": "code",
   "execution_count": 93,
   "id": "2cca1f49",
   "metadata": {
    "ExecuteTime": {
     "end_time": "2022-03-22T11:55:14.465628Z",
     "start_time": "2022-03-22T11:55:14.459455Z"
    }
   },
   "outputs": [
    {
     "data": {
      "text/plain": [
       "(7645, 18)"
      ]
     },
     "execution_count": 93,
     "metadata": {},
     "output_type": "execute_result"
    }
   ],
   "source": [
    "df_full.shape"
   ]
  },
  {
   "cell_type": "code",
   "execution_count": 94,
   "id": "317aff8e",
   "metadata": {
    "ExecuteTime": {
     "end_time": "2022-03-22T11:55:14.905994Z",
     "start_time": "2022-03-22T11:55:14.885420Z"
    }
   },
   "outputs": [
    {
     "name": "stdout",
     "output_type": "stream",
     "text": [
      "% of NaN\n"
     ]
    },
    {
     "data": {
      "text/plain": [
       "ID                    0.000000\n",
       "rodada                0.000000\n",
       "data                  0.000000\n",
       "hora                  0.000000\n",
       "dia                   0.000000\n",
       "mandante              0.000000\n",
       "visitante             0.000000\n",
       "formacao_mandante     0.650621\n",
       "formacao_visitante    0.650621\n",
       "tecnico_mandante      0.603009\n",
       "tecnico_visitante     0.603009\n",
       "vencedor              0.000000\n",
       "arena                 0.000000\n",
       "mandante_placar       0.000000\n",
       "visitante_placar      0.000000\n",
       "mandante_estado       0.000000\n",
       "visitante_estado      0.000000\n",
       "estado_vencedor       0.000000\n",
       "dtype: float64"
      ]
     },
     "execution_count": 94,
     "metadata": {},
     "output_type": "execute_result"
    }
   ],
   "source": [
    "print('% of NaN')\n",
    "df_full.isna().sum()/df_full.shape[0]"
   ]
  },
  {
   "cell_type": "code",
   "execution_count": 95,
   "id": "80934ad7",
   "metadata": {
    "ExecuteTime": {
     "end_time": "2022-03-22T11:55:15.067004Z",
     "start_time": "2022-03-22T11:55:15.061373Z"
    }
   },
   "outputs": [
    {
     "data": {
      "text/plain": [
       "ID                     int64\n",
       "rodada                 int64\n",
       "data                  object\n",
       "hora                  object\n",
       "dia                   object\n",
       "mandante              object\n",
       "visitante             object\n",
       "formacao_mandante     object\n",
       "formacao_visitante    object\n",
       "tecnico_mandante      object\n",
       "tecnico_visitante     object\n",
       "vencedor              object\n",
       "arena                 object\n",
       "mandante_placar        int64\n",
       "visitante_placar       int64\n",
       "mandante_estado       object\n",
       "visitante_estado      object\n",
       "estado_vencedor       object\n",
       "dtype: object"
      ]
     },
     "execution_count": 95,
     "metadata": {},
     "output_type": "execute_result"
    }
   ],
   "source": [
    "df_full.dtypes"
   ]
  },
  {
   "cell_type": "code",
   "execution_count": 96,
   "id": "89763785",
   "metadata": {
    "ExecuteTime": {
     "end_time": "2022-03-22T11:55:15.323781Z",
     "start_time": "2022-03-22T11:55:15.313240Z"
    }
   },
   "outputs": [],
   "source": [
    "df_full.loc[:, 'data'] = pd.to_datetime(df_full.data, yearfirst=True)"
   ]
  },
  {
   "cell_type": "code",
   "execution_count": 97,
   "id": "ca1a773a",
   "metadata": {
    "ExecuteTime": {
     "end_time": "2022-03-22T11:55:15.936875Z",
     "start_time": "2022-03-22T11:55:15.930840Z"
    }
   },
   "outputs": [],
   "source": [
    "df_full = df_full.set_index('ID', drop=False)"
   ]
  },
  {
   "cell_type": "code",
   "execution_count": 98,
   "id": "a6df8354",
   "metadata": {
    "ExecuteTime": {
     "end_time": "2022-03-22T11:55:47.987673Z",
     "start_time": "2022-03-22T11:55:16.878965Z"
    }
   },
   "outputs": [
    {
     "name": "stderr",
     "output_type": "stream",
     "text": [
      "/tmp/ipykernel_28129/2534383528.py:40: SettingWithCopyWarning: \n",
      "A value is trying to be set on a copy of a slice from a DataFrame.\n",
      "Try using .loc[row_indexer,col_indexer] = value instead\n",
      "\n",
      "See the caveats in the documentation: https://pandas.pydata.org/pandas-docs/stable/user_guide/indexing.html#returning-a-view-versus-a-copy\n",
      "  df_season['mandante_venceu_ultima'] = 0\n",
      "/tmp/ipykernel_28129/2534383528.py:41: SettingWithCopyWarning: \n",
      "A value is trying to be set on a copy of a slice from a DataFrame.\n",
      "Try using .loc[row_indexer,col_indexer] = value instead\n",
      "\n",
      "See the caveats in the documentation: https://pandas.pydata.org/pandas-docs/stable/user_guide/indexing.html#returning-a-view-versus-a-copy\n",
      "  df_season['visitante_venceu_ultima'] = 0\n",
      "/tmp/ipykernel_28129/2534383528.py:42: SettingWithCopyWarning: \n",
      "A value is trying to be set on a copy of a slice from a DataFrame.\n",
      "Try using .loc[row_indexer,col_indexer] = value instead\n",
      "\n",
      "See the caveats in the documentation: https://pandas.pydata.org/pandas-docs/stable/user_guide/indexing.html#returning-a-view-versus-a-copy\n",
      "  df_season['n_gols_mandante_ultima'] = 0\n",
      "/tmp/ipykernel_28129/2534383528.py:43: SettingWithCopyWarning: \n",
      "A value is trying to be set on a copy of a slice from a DataFrame.\n",
      "Try using .loc[row_indexer,col_indexer] = value instead\n",
      "\n",
      "See the caveats in the documentation: https://pandas.pydata.org/pandas-docs/stable/user_guide/indexing.html#returning-a-view-versus-a-copy\n",
      "  df_season['n_gols_visitante_ultima'] = 0\n",
      "/tmp/ipykernel_28129/2534383528.py:40: SettingWithCopyWarning: \n",
      "A value is trying to be set on a copy of a slice from a DataFrame.\n",
      "Try using .loc[row_indexer,col_indexer] = value instead\n",
      "\n",
      "See the caveats in the documentation: https://pandas.pydata.org/pandas-docs/stable/user_guide/indexing.html#returning-a-view-versus-a-copy\n",
      "  df_season['mandante_venceu_ultima'] = 0\n",
      "/tmp/ipykernel_28129/2534383528.py:41: SettingWithCopyWarning: \n",
      "A value is trying to be set on a copy of a slice from a DataFrame.\n",
      "Try using .loc[row_indexer,col_indexer] = value instead\n",
      "\n",
      "See the caveats in the documentation: https://pandas.pydata.org/pandas-docs/stable/user_guide/indexing.html#returning-a-view-versus-a-copy\n",
      "  df_season['visitante_venceu_ultima'] = 0\n",
      "/tmp/ipykernel_28129/2534383528.py:42: SettingWithCopyWarning: \n",
      "A value is trying to be set on a copy of a slice from a DataFrame.\n",
      "Try using .loc[row_indexer,col_indexer] = value instead\n",
      "\n",
      "See the caveats in the documentation: https://pandas.pydata.org/pandas-docs/stable/user_guide/indexing.html#returning-a-view-versus-a-copy\n",
      "  df_season['n_gols_mandante_ultima'] = 0\n",
      "/tmp/ipykernel_28129/2534383528.py:40: SettingWithCopyWarning: \n",
      "A value is trying to be set on a copy of a slice from a DataFrame.\n",
      "Try using .loc[row_indexer,col_indexer] = value instead\n",
      "\n",
      "See the caveats in the documentation: https://pandas.pydata.org/pandas-docs/stable/user_guide/indexing.html#returning-a-view-versus-a-copy\n",
      "  df_season['mandante_venceu_ultima'] = 0\n",
      "/tmp/ipykernel_28129/2534383528.py:41: SettingWithCopyWarning: \n",
      "A value is trying to be set on a copy of a slice from a DataFrame.\n",
      "Try using .loc[row_indexer,col_indexer] = value instead\n",
      "\n",
      "See the caveats in the documentation: https://pandas.pydata.org/pandas-docs/stable/user_guide/indexing.html#returning-a-view-versus-a-copy\n",
      "  df_season['visitante_venceu_ultima'] = 0\n",
      "/tmp/ipykernel_28129/2534383528.py:42: SettingWithCopyWarning: \n",
      "A value is trying to be set on a copy of a slice from a DataFrame.\n",
      "Try using .loc[row_indexer,col_indexer] = value instead\n",
      "\n",
      "See the caveats in the documentation: https://pandas.pydata.org/pandas-docs/stable/user_guide/indexing.html#returning-a-view-versus-a-copy\n",
      "  df_season['n_gols_mandante_ultima'] = 0\n",
      "/tmp/ipykernel_28129/2534383528.py:43: SettingWithCopyWarning: \n",
      "A value is trying to be set on a copy of a slice from a DataFrame.\n",
      "Try using .loc[row_indexer,col_indexer] = value instead\n",
      "\n",
      "See the caveats in the documentation: https://pandas.pydata.org/pandas-docs/stable/user_guide/indexing.html#returning-a-view-versus-a-copy\n",
      "  df_season['n_gols_visitante_ultima'] = 0\n",
      "/tmp/ipykernel_28129/2534383528.py:40: SettingWithCopyWarning: \n",
      "A value is trying to be set on a copy of a slice from a DataFrame.\n",
      "Try using .loc[row_indexer,col_indexer] = value instead\n",
      "\n",
      "See the caveats in the documentation: https://pandas.pydata.org/pandas-docs/stable/user_guide/indexing.html#returning-a-view-versus-a-copy\n",
      "  df_season['mandante_venceu_ultima'] = 0\n",
      "/tmp/ipykernel_28129/2534383528.py:41: SettingWithCopyWarning: \n",
      "A value is trying to be set on a copy of a slice from a DataFrame.\n",
      "Try using .loc[row_indexer,col_indexer] = value instead\n",
      "\n",
      "See the caveats in the documentation: https://pandas.pydata.org/pandas-docs/stable/user_guide/indexing.html#returning-a-view-versus-a-copy\n",
      "  df_season['visitante_venceu_ultima'] = 0\n",
      "/tmp/ipykernel_28129/2534383528.py:42: SettingWithCopyWarning: \n",
      "A value is trying to be set on a copy of a slice from a DataFrame.\n",
      "Try using .loc[row_indexer,col_indexer] = value instead\n",
      "\n",
      "See the caveats in the documentation: https://pandas.pydata.org/pandas-docs/stable/user_guide/indexing.html#returning-a-view-versus-a-copy\n",
      "  df_season['n_gols_mandante_ultima'] = 0\n",
      "/tmp/ipykernel_28129/2534383528.py:40: SettingWithCopyWarning: \n",
      "A value is trying to be set on a copy of a slice from a DataFrame.\n",
      "Try using .loc[row_indexer,col_indexer] = value instead\n",
      "\n",
      "See the caveats in the documentation: https://pandas.pydata.org/pandas-docs/stable/user_guide/indexing.html#returning-a-view-versus-a-copy\n",
      "  df_season['mandante_venceu_ultima'] = 0\n",
      "/tmp/ipykernel_28129/2534383528.py:41: SettingWithCopyWarning: \n",
      "A value is trying to be set on a copy of a slice from a DataFrame.\n",
      "Try using .loc[row_indexer,col_indexer] = value instead\n",
      "\n",
      "See the caveats in the documentation: https://pandas.pydata.org/pandas-docs/stable/user_guide/indexing.html#returning-a-view-versus-a-copy\n",
      "  df_season['visitante_venceu_ultima'] = 0\n",
      "/tmp/ipykernel_28129/2534383528.py:42: SettingWithCopyWarning: \n",
      "A value is trying to be set on a copy of a slice from a DataFrame.\n",
      "Try using .loc[row_indexer,col_indexer] = value instead\n",
      "\n",
      "See the caveats in the documentation: https://pandas.pydata.org/pandas-docs/stable/user_guide/indexing.html#returning-a-view-versus-a-copy\n",
      "  df_season['n_gols_mandante_ultima'] = 0\n",
      "/tmp/ipykernel_28129/2534383528.py:43: SettingWithCopyWarning: \n",
      "A value is trying to be set on a copy of a slice from a DataFrame.\n",
      "Try using .loc[row_indexer,col_indexer] = value instead\n",
      "\n",
      "See the caveats in the documentation: https://pandas.pydata.org/pandas-docs/stable/user_guide/indexing.html#returning-a-view-versus-a-copy\n",
      "  df_season['n_gols_visitante_ultima'] = 0\n",
      "/tmp/ipykernel_28129/2534383528.py:40: SettingWithCopyWarning: \n",
      "A value is trying to be set on a copy of a slice from a DataFrame.\n",
      "Try using .loc[row_indexer,col_indexer] = value instead\n",
      "\n",
      "See the caveats in the documentation: https://pandas.pydata.org/pandas-docs/stable/user_guide/indexing.html#returning-a-view-versus-a-copy\n",
      "  df_season['mandante_venceu_ultima'] = 0\n",
      "/tmp/ipykernel_28129/2534383528.py:41: SettingWithCopyWarning: \n",
      "A value is trying to be set on a copy of a slice from a DataFrame.\n",
      "Try using .loc[row_indexer,col_indexer] = value instead\n",
      "\n",
      "See the caveats in the documentation: https://pandas.pydata.org/pandas-docs/stable/user_guide/indexing.html#returning-a-view-versus-a-copy\n",
      "  df_season['visitante_venceu_ultima'] = 0\n",
      "/tmp/ipykernel_28129/2534383528.py:42: SettingWithCopyWarning: \n",
      "A value is trying to be set on a copy of a slice from a DataFrame.\n",
      "Try using .loc[row_indexer,col_indexer] = value instead\n",
      "\n",
      "See the caveats in the documentation: https://pandas.pydata.org/pandas-docs/stable/user_guide/indexing.html#returning-a-view-versus-a-copy\n",
      "  df_season['n_gols_mandante_ultima'] = 0\n",
      "/tmp/ipykernel_28129/2534383528.py:40: SettingWithCopyWarning: \n",
      "A value is trying to be set on a copy of a slice from a DataFrame.\n",
      "Try using .loc[row_indexer,col_indexer] = value instead\n",
      "\n",
      "See the caveats in the documentation: https://pandas.pydata.org/pandas-docs/stable/user_guide/indexing.html#returning-a-view-versus-a-copy\n",
      "  df_season['mandante_venceu_ultima'] = 0\n",
      "/tmp/ipykernel_28129/2534383528.py:41: SettingWithCopyWarning: \n",
      "A value is trying to be set on a copy of a slice from a DataFrame.\n",
      "Try using .loc[row_indexer,col_indexer] = value instead\n",
      "\n",
      "See the caveats in the documentation: https://pandas.pydata.org/pandas-docs/stable/user_guide/indexing.html#returning-a-view-versus-a-copy\n",
      "  df_season['visitante_venceu_ultima'] = 0\n",
      "/tmp/ipykernel_28129/2534383528.py:42: SettingWithCopyWarning: \n",
      "A value is trying to be set on a copy of a slice from a DataFrame.\n",
      "Try using .loc[row_indexer,col_indexer] = value instead\n",
      "\n",
      "See the caveats in the documentation: https://pandas.pydata.org/pandas-docs/stable/user_guide/indexing.html#returning-a-view-versus-a-copy\n",
      "  df_season['n_gols_mandante_ultima'] = 0\n",
      "/tmp/ipykernel_28129/2534383528.py:43: SettingWithCopyWarning: \n",
      "A value is trying to be set on a copy of a slice from a DataFrame.\n",
      "Try using .loc[row_indexer,col_indexer] = value instead\n",
      "\n",
      "See the caveats in the documentation: https://pandas.pydata.org/pandas-docs/stable/user_guide/indexing.html#returning-a-view-versus-a-copy\n",
      "  df_season['n_gols_visitante_ultima'] = 0\n",
      "/tmp/ipykernel_28129/2534383528.py:40: SettingWithCopyWarning: \n",
      "A value is trying to be set on a copy of a slice from a DataFrame.\n",
      "Try using .loc[row_indexer,col_indexer] = value instead\n",
      "\n",
      "See the caveats in the documentation: https://pandas.pydata.org/pandas-docs/stable/user_guide/indexing.html#returning-a-view-versus-a-copy\n",
      "  df_season['mandante_venceu_ultima'] = 0\n",
      "/tmp/ipykernel_28129/2534383528.py:41: SettingWithCopyWarning: \n",
      "A value is trying to be set on a copy of a slice from a DataFrame.\n",
      "Try using .loc[row_indexer,col_indexer] = value instead\n",
      "\n",
      "See the caveats in the documentation: https://pandas.pydata.org/pandas-docs/stable/user_guide/indexing.html#returning-a-view-versus-a-copy\n",
      "  df_season['visitante_venceu_ultima'] = 0\n",
      "/tmp/ipykernel_28129/2534383528.py:42: SettingWithCopyWarning: \n",
      "A value is trying to be set on a copy of a slice from a DataFrame.\n",
      "Try using .loc[row_indexer,col_indexer] = value instead\n",
      "\n",
      "See the caveats in the documentation: https://pandas.pydata.org/pandas-docs/stable/user_guide/indexing.html#returning-a-view-versus-a-copy\n",
      "  df_season['n_gols_mandante_ultima'] = 0\n"
     ]
    },
    {
     "name": "stderr",
     "output_type": "stream",
     "text": [
      "/tmp/ipykernel_28129/2534383528.py:40: SettingWithCopyWarning: \n",
      "A value is trying to be set on a copy of a slice from a DataFrame.\n",
      "Try using .loc[row_indexer,col_indexer] = value instead\n",
      "\n",
      "See the caveats in the documentation: https://pandas.pydata.org/pandas-docs/stable/user_guide/indexing.html#returning-a-view-versus-a-copy\n",
      "  df_season['mandante_venceu_ultima'] = 0\n",
      "/tmp/ipykernel_28129/2534383528.py:41: SettingWithCopyWarning: \n",
      "A value is trying to be set on a copy of a slice from a DataFrame.\n",
      "Try using .loc[row_indexer,col_indexer] = value instead\n",
      "\n",
      "See the caveats in the documentation: https://pandas.pydata.org/pandas-docs/stable/user_guide/indexing.html#returning-a-view-versus-a-copy\n",
      "  df_season['visitante_venceu_ultima'] = 0\n",
      "/tmp/ipykernel_28129/2534383528.py:42: SettingWithCopyWarning: \n",
      "A value is trying to be set on a copy of a slice from a DataFrame.\n",
      "Try using .loc[row_indexer,col_indexer] = value instead\n",
      "\n",
      "See the caveats in the documentation: https://pandas.pydata.org/pandas-docs/stable/user_guide/indexing.html#returning-a-view-versus-a-copy\n",
      "  df_season['n_gols_mandante_ultima'] = 0\n",
      "/tmp/ipykernel_28129/2534383528.py:43: SettingWithCopyWarning: \n",
      "A value is trying to be set on a copy of a slice from a DataFrame.\n",
      "Try using .loc[row_indexer,col_indexer] = value instead\n",
      "\n",
      "See the caveats in the documentation: https://pandas.pydata.org/pandas-docs/stable/user_guide/indexing.html#returning-a-view-versus-a-copy\n",
      "  df_season['n_gols_visitante_ultima'] = 0\n",
      "/tmp/ipykernel_28129/2534383528.py:40: SettingWithCopyWarning: \n",
      "A value is trying to be set on a copy of a slice from a DataFrame.\n",
      "Try using .loc[row_indexer,col_indexer] = value instead\n",
      "\n",
      "See the caveats in the documentation: https://pandas.pydata.org/pandas-docs/stable/user_guide/indexing.html#returning-a-view-versus-a-copy\n",
      "  df_season['mandante_venceu_ultima'] = 0\n",
      "/tmp/ipykernel_28129/2534383528.py:41: SettingWithCopyWarning: \n",
      "A value is trying to be set on a copy of a slice from a DataFrame.\n",
      "Try using .loc[row_indexer,col_indexer] = value instead\n",
      "\n",
      "See the caveats in the documentation: https://pandas.pydata.org/pandas-docs/stable/user_guide/indexing.html#returning-a-view-versus-a-copy\n",
      "  df_season['visitante_venceu_ultima'] = 0\n",
      "/tmp/ipykernel_28129/2534383528.py:42: SettingWithCopyWarning: \n",
      "A value is trying to be set on a copy of a slice from a DataFrame.\n",
      "Try using .loc[row_indexer,col_indexer] = value instead\n",
      "\n",
      "See the caveats in the documentation: https://pandas.pydata.org/pandas-docs/stable/user_guide/indexing.html#returning-a-view-versus-a-copy\n",
      "  df_season['n_gols_mandante_ultima'] = 0\n",
      "/tmp/ipykernel_28129/2534383528.py:40: SettingWithCopyWarning: \n",
      "A value is trying to be set on a copy of a slice from a DataFrame.\n",
      "Try using .loc[row_indexer,col_indexer] = value instead\n",
      "\n",
      "See the caveats in the documentation: https://pandas.pydata.org/pandas-docs/stable/user_guide/indexing.html#returning-a-view-versus-a-copy\n",
      "  df_season['mandante_venceu_ultima'] = 0\n",
      "/tmp/ipykernel_28129/2534383528.py:41: SettingWithCopyWarning: \n",
      "A value is trying to be set on a copy of a slice from a DataFrame.\n",
      "Try using .loc[row_indexer,col_indexer] = value instead\n",
      "\n",
      "See the caveats in the documentation: https://pandas.pydata.org/pandas-docs/stable/user_guide/indexing.html#returning-a-view-versus-a-copy\n",
      "  df_season['visitante_venceu_ultima'] = 0\n",
      "/tmp/ipykernel_28129/2534383528.py:42: SettingWithCopyWarning: \n",
      "A value is trying to be set on a copy of a slice from a DataFrame.\n",
      "Try using .loc[row_indexer,col_indexer] = value instead\n",
      "\n",
      "See the caveats in the documentation: https://pandas.pydata.org/pandas-docs/stable/user_guide/indexing.html#returning-a-view-versus-a-copy\n",
      "  df_season['n_gols_mandante_ultima'] = 0\n",
      "/tmp/ipykernel_28129/2534383528.py:43: SettingWithCopyWarning: \n",
      "A value is trying to be set on a copy of a slice from a DataFrame.\n",
      "Try using .loc[row_indexer,col_indexer] = value instead\n",
      "\n",
      "See the caveats in the documentation: https://pandas.pydata.org/pandas-docs/stable/user_guide/indexing.html#returning-a-view-versus-a-copy\n",
      "  df_season['n_gols_visitante_ultima'] = 0\n",
      "/tmp/ipykernel_28129/2534383528.py:40: SettingWithCopyWarning: \n",
      "A value is trying to be set on a copy of a slice from a DataFrame.\n",
      "Try using .loc[row_indexer,col_indexer] = value instead\n",
      "\n",
      "See the caveats in the documentation: https://pandas.pydata.org/pandas-docs/stable/user_guide/indexing.html#returning-a-view-versus-a-copy\n",
      "  df_season['mandante_venceu_ultima'] = 0\n",
      "/tmp/ipykernel_28129/2534383528.py:41: SettingWithCopyWarning: \n",
      "A value is trying to be set on a copy of a slice from a DataFrame.\n",
      "Try using .loc[row_indexer,col_indexer] = value instead\n",
      "\n",
      "See the caveats in the documentation: https://pandas.pydata.org/pandas-docs/stable/user_guide/indexing.html#returning-a-view-versus-a-copy\n",
      "  df_season['visitante_venceu_ultima'] = 0\n",
      "/tmp/ipykernel_28129/2534383528.py:42: SettingWithCopyWarning: \n",
      "A value is trying to be set on a copy of a slice from a DataFrame.\n",
      "Try using .loc[row_indexer,col_indexer] = value instead\n",
      "\n",
      "See the caveats in the documentation: https://pandas.pydata.org/pandas-docs/stable/user_guide/indexing.html#returning-a-view-versus-a-copy\n",
      "  df_season['n_gols_mandante_ultima'] = 0\n",
      "/tmp/ipykernel_28129/2534383528.py:40: SettingWithCopyWarning: \n",
      "A value is trying to be set on a copy of a slice from a DataFrame.\n",
      "Try using .loc[row_indexer,col_indexer] = value instead\n",
      "\n",
      "See the caveats in the documentation: https://pandas.pydata.org/pandas-docs/stable/user_guide/indexing.html#returning-a-view-versus-a-copy\n",
      "  df_season['mandante_venceu_ultima'] = 0\n",
      "/tmp/ipykernel_28129/2534383528.py:41: SettingWithCopyWarning: \n",
      "A value is trying to be set on a copy of a slice from a DataFrame.\n",
      "Try using .loc[row_indexer,col_indexer] = value instead\n",
      "\n",
      "See the caveats in the documentation: https://pandas.pydata.org/pandas-docs/stable/user_guide/indexing.html#returning-a-view-versus-a-copy\n",
      "  df_season['visitante_venceu_ultima'] = 0\n",
      "/tmp/ipykernel_28129/2534383528.py:42: SettingWithCopyWarning: \n",
      "A value is trying to be set on a copy of a slice from a DataFrame.\n",
      "Try using .loc[row_indexer,col_indexer] = value instead\n",
      "\n",
      "See the caveats in the documentation: https://pandas.pydata.org/pandas-docs/stable/user_guide/indexing.html#returning-a-view-versus-a-copy\n",
      "  df_season['n_gols_mandante_ultima'] = 0\n",
      "/tmp/ipykernel_28129/2534383528.py:43: SettingWithCopyWarning: \n",
      "A value is trying to be set on a copy of a slice from a DataFrame.\n",
      "Try using .loc[row_indexer,col_indexer] = value instead\n",
      "\n",
      "See the caveats in the documentation: https://pandas.pydata.org/pandas-docs/stable/user_guide/indexing.html#returning-a-view-versus-a-copy\n",
      "  df_season['n_gols_visitante_ultima'] = 0\n",
      "/tmp/ipykernel_28129/2534383528.py:40: SettingWithCopyWarning: \n",
      "A value is trying to be set on a copy of a slice from a DataFrame.\n",
      "Try using .loc[row_indexer,col_indexer] = value instead\n",
      "\n",
      "See the caveats in the documentation: https://pandas.pydata.org/pandas-docs/stable/user_guide/indexing.html#returning-a-view-versus-a-copy\n",
      "  df_season['mandante_venceu_ultima'] = 0\n",
      "/tmp/ipykernel_28129/2534383528.py:41: SettingWithCopyWarning: \n",
      "A value is trying to be set on a copy of a slice from a DataFrame.\n",
      "Try using .loc[row_indexer,col_indexer] = value instead\n",
      "\n",
      "See the caveats in the documentation: https://pandas.pydata.org/pandas-docs/stable/user_guide/indexing.html#returning-a-view-versus-a-copy\n",
      "  df_season['visitante_venceu_ultima'] = 0\n",
      "/tmp/ipykernel_28129/2534383528.py:42: SettingWithCopyWarning: \n",
      "A value is trying to be set on a copy of a slice from a DataFrame.\n",
      "Try using .loc[row_indexer,col_indexer] = value instead\n",
      "\n",
      "See the caveats in the documentation: https://pandas.pydata.org/pandas-docs/stable/user_guide/indexing.html#returning-a-view-versus-a-copy\n",
      "  df_season['n_gols_mandante_ultima'] = 0\n",
      "/tmp/ipykernel_28129/2534383528.py:40: SettingWithCopyWarning: \n",
      "A value is trying to be set on a copy of a slice from a DataFrame.\n",
      "Try using .loc[row_indexer,col_indexer] = value instead\n",
      "\n",
      "See the caveats in the documentation: https://pandas.pydata.org/pandas-docs/stable/user_guide/indexing.html#returning-a-view-versus-a-copy\n",
      "  df_season['mandante_venceu_ultima'] = 0\n",
      "/tmp/ipykernel_28129/2534383528.py:41: SettingWithCopyWarning: \n",
      "A value is trying to be set on a copy of a slice from a DataFrame.\n",
      "Try using .loc[row_indexer,col_indexer] = value instead\n",
      "\n",
      "See the caveats in the documentation: https://pandas.pydata.org/pandas-docs/stable/user_guide/indexing.html#returning-a-view-versus-a-copy\n",
      "  df_season['visitante_venceu_ultima'] = 0\n",
      "/tmp/ipykernel_28129/2534383528.py:42: SettingWithCopyWarning: \n",
      "A value is trying to be set on a copy of a slice from a DataFrame.\n",
      "Try using .loc[row_indexer,col_indexer] = value instead\n",
      "\n",
      "See the caveats in the documentation: https://pandas.pydata.org/pandas-docs/stable/user_guide/indexing.html#returning-a-view-versus-a-copy\n",
      "  df_season['n_gols_mandante_ultima'] = 0\n",
      "/tmp/ipykernel_28129/2534383528.py:43: SettingWithCopyWarning: \n",
      "A value is trying to be set on a copy of a slice from a DataFrame.\n",
      "Try using .loc[row_indexer,col_indexer] = value instead\n",
      "\n",
      "See the caveats in the documentation: https://pandas.pydata.org/pandas-docs/stable/user_guide/indexing.html#returning-a-view-versus-a-copy\n",
      "  df_season['n_gols_visitante_ultima'] = 0\n",
      "/tmp/ipykernel_28129/2534383528.py:40: SettingWithCopyWarning: \n",
      "A value is trying to be set on a copy of a slice from a DataFrame.\n",
      "Try using .loc[row_indexer,col_indexer] = value instead\n",
      "\n",
      "See the caveats in the documentation: https://pandas.pydata.org/pandas-docs/stable/user_guide/indexing.html#returning-a-view-versus-a-copy\n",
      "  df_season['mandante_venceu_ultima'] = 0\n",
      "/tmp/ipykernel_28129/2534383528.py:41: SettingWithCopyWarning: \n",
      "A value is trying to be set on a copy of a slice from a DataFrame.\n",
      "Try using .loc[row_indexer,col_indexer] = value instead\n",
      "\n",
      "See the caveats in the documentation: https://pandas.pydata.org/pandas-docs/stable/user_guide/indexing.html#returning-a-view-versus-a-copy\n",
      "  df_season['visitante_venceu_ultima'] = 0\n",
      "/tmp/ipykernel_28129/2534383528.py:42: SettingWithCopyWarning: \n",
      "A value is trying to be set on a copy of a slice from a DataFrame.\n",
      "Try using .loc[row_indexer,col_indexer] = value instead\n",
      "\n",
      "See the caveats in the documentation: https://pandas.pydata.org/pandas-docs/stable/user_guide/indexing.html#returning-a-view-versus-a-copy\n",
      "  df_season['n_gols_mandante_ultima'] = 0\n"
     ]
    },
    {
     "name": "stderr",
     "output_type": "stream",
     "text": [
      "/tmp/ipykernel_28129/2534383528.py:40: SettingWithCopyWarning: \n",
      "A value is trying to be set on a copy of a slice from a DataFrame.\n",
      "Try using .loc[row_indexer,col_indexer] = value instead\n",
      "\n",
      "See the caveats in the documentation: https://pandas.pydata.org/pandas-docs/stable/user_guide/indexing.html#returning-a-view-versus-a-copy\n",
      "  df_season['mandante_venceu_ultima'] = 0\n",
      "/tmp/ipykernel_28129/2534383528.py:41: SettingWithCopyWarning: \n",
      "A value is trying to be set on a copy of a slice from a DataFrame.\n",
      "Try using .loc[row_indexer,col_indexer] = value instead\n",
      "\n",
      "See the caveats in the documentation: https://pandas.pydata.org/pandas-docs/stable/user_guide/indexing.html#returning-a-view-versus-a-copy\n",
      "  df_season['visitante_venceu_ultima'] = 0\n",
      "/tmp/ipykernel_28129/2534383528.py:42: SettingWithCopyWarning: \n",
      "A value is trying to be set on a copy of a slice from a DataFrame.\n",
      "Try using .loc[row_indexer,col_indexer] = value instead\n",
      "\n",
      "See the caveats in the documentation: https://pandas.pydata.org/pandas-docs/stable/user_guide/indexing.html#returning-a-view-versus-a-copy\n",
      "  df_season['n_gols_mandante_ultima'] = 0\n",
      "/tmp/ipykernel_28129/2534383528.py:43: SettingWithCopyWarning: \n",
      "A value is trying to be set on a copy of a slice from a DataFrame.\n",
      "Try using .loc[row_indexer,col_indexer] = value instead\n",
      "\n",
      "See the caveats in the documentation: https://pandas.pydata.org/pandas-docs/stable/user_guide/indexing.html#returning-a-view-versus-a-copy\n",
      "  df_season['n_gols_visitante_ultima'] = 0\n",
      "/tmp/ipykernel_28129/2534383528.py:40: SettingWithCopyWarning: \n",
      "A value is trying to be set on a copy of a slice from a DataFrame.\n",
      "Try using .loc[row_indexer,col_indexer] = value instead\n",
      "\n",
      "See the caveats in the documentation: https://pandas.pydata.org/pandas-docs/stable/user_guide/indexing.html#returning-a-view-versus-a-copy\n",
      "  df_season['mandante_venceu_ultima'] = 0\n",
      "/tmp/ipykernel_28129/2534383528.py:41: SettingWithCopyWarning: \n",
      "A value is trying to be set on a copy of a slice from a DataFrame.\n",
      "Try using .loc[row_indexer,col_indexer] = value instead\n",
      "\n",
      "See the caveats in the documentation: https://pandas.pydata.org/pandas-docs/stable/user_guide/indexing.html#returning-a-view-versus-a-copy\n",
      "  df_season['visitante_venceu_ultima'] = 0\n",
      "/tmp/ipykernel_28129/2534383528.py:42: SettingWithCopyWarning: \n",
      "A value is trying to be set on a copy of a slice from a DataFrame.\n",
      "Try using .loc[row_indexer,col_indexer] = value instead\n",
      "\n",
      "See the caveats in the documentation: https://pandas.pydata.org/pandas-docs/stable/user_guide/indexing.html#returning-a-view-versus-a-copy\n",
      "  df_season['n_gols_mandante_ultima'] = 0\n",
      "/tmp/ipykernel_28129/2534383528.py:40: SettingWithCopyWarning: \n",
      "A value is trying to be set on a copy of a slice from a DataFrame.\n",
      "Try using .loc[row_indexer,col_indexer] = value instead\n",
      "\n",
      "See the caveats in the documentation: https://pandas.pydata.org/pandas-docs/stable/user_guide/indexing.html#returning-a-view-versus-a-copy\n",
      "  df_season['mandante_venceu_ultima'] = 0\n",
      "/tmp/ipykernel_28129/2534383528.py:41: SettingWithCopyWarning: \n",
      "A value is trying to be set on a copy of a slice from a DataFrame.\n",
      "Try using .loc[row_indexer,col_indexer] = value instead\n",
      "\n",
      "See the caveats in the documentation: https://pandas.pydata.org/pandas-docs/stable/user_guide/indexing.html#returning-a-view-versus-a-copy\n",
      "  df_season['visitante_venceu_ultima'] = 0\n",
      "/tmp/ipykernel_28129/2534383528.py:42: SettingWithCopyWarning: \n",
      "A value is trying to be set on a copy of a slice from a DataFrame.\n",
      "Try using .loc[row_indexer,col_indexer] = value instead\n",
      "\n",
      "See the caveats in the documentation: https://pandas.pydata.org/pandas-docs/stable/user_guide/indexing.html#returning-a-view-versus-a-copy\n",
      "  df_season['n_gols_mandante_ultima'] = 0\n",
      "/tmp/ipykernel_28129/2534383528.py:43: SettingWithCopyWarning: \n",
      "A value is trying to be set on a copy of a slice from a DataFrame.\n",
      "Try using .loc[row_indexer,col_indexer] = value instead\n",
      "\n",
      "See the caveats in the documentation: https://pandas.pydata.org/pandas-docs/stable/user_guide/indexing.html#returning-a-view-versus-a-copy\n",
      "  df_season['n_gols_visitante_ultima'] = 0\n",
      "/tmp/ipykernel_28129/2534383528.py:40: SettingWithCopyWarning: \n",
      "A value is trying to be set on a copy of a slice from a DataFrame.\n",
      "Try using .loc[row_indexer,col_indexer] = value instead\n",
      "\n",
      "See the caveats in the documentation: https://pandas.pydata.org/pandas-docs/stable/user_guide/indexing.html#returning-a-view-versus-a-copy\n",
      "  df_season['mandante_venceu_ultima'] = 0\n",
      "/tmp/ipykernel_28129/2534383528.py:41: SettingWithCopyWarning: \n",
      "A value is trying to be set on a copy of a slice from a DataFrame.\n",
      "Try using .loc[row_indexer,col_indexer] = value instead\n",
      "\n",
      "See the caveats in the documentation: https://pandas.pydata.org/pandas-docs/stable/user_guide/indexing.html#returning-a-view-versus-a-copy\n",
      "  df_season['visitante_venceu_ultima'] = 0\n",
      "/tmp/ipykernel_28129/2534383528.py:42: SettingWithCopyWarning: \n",
      "A value is trying to be set on a copy of a slice from a DataFrame.\n",
      "Try using .loc[row_indexer,col_indexer] = value instead\n",
      "\n",
      "See the caveats in the documentation: https://pandas.pydata.org/pandas-docs/stable/user_guide/indexing.html#returning-a-view-versus-a-copy\n",
      "  df_season['n_gols_mandante_ultima'] = 0\n",
      "/tmp/ipykernel_28129/2534383528.py:40: SettingWithCopyWarning: \n",
      "A value is trying to be set on a copy of a slice from a DataFrame.\n",
      "Try using .loc[row_indexer,col_indexer] = value instead\n",
      "\n",
      "See the caveats in the documentation: https://pandas.pydata.org/pandas-docs/stable/user_guide/indexing.html#returning-a-view-versus-a-copy\n",
      "  df_season['mandante_venceu_ultima'] = 0\n",
      "/tmp/ipykernel_28129/2534383528.py:41: SettingWithCopyWarning: \n",
      "A value is trying to be set on a copy of a slice from a DataFrame.\n",
      "Try using .loc[row_indexer,col_indexer] = value instead\n",
      "\n",
      "See the caveats in the documentation: https://pandas.pydata.org/pandas-docs/stable/user_guide/indexing.html#returning-a-view-versus-a-copy\n",
      "  df_season['visitante_venceu_ultima'] = 0\n",
      "/tmp/ipykernel_28129/2534383528.py:42: SettingWithCopyWarning: \n",
      "A value is trying to be set on a copy of a slice from a DataFrame.\n",
      "Try using .loc[row_indexer,col_indexer] = value instead\n",
      "\n",
      "See the caveats in the documentation: https://pandas.pydata.org/pandas-docs/stable/user_guide/indexing.html#returning-a-view-versus-a-copy\n",
      "  df_season['n_gols_mandante_ultima'] = 0\n",
      "/tmp/ipykernel_28129/2534383528.py:43: SettingWithCopyWarning: \n",
      "A value is trying to be set on a copy of a slice from a DataFrame.\n",
      "Try using .loc[row_indexer,col_indexer] = value instead\n",
      "\n",
      "See the caveats in the documentation: https://pandas.pydata.org/pandas-docs/stable/user_guide/indexing.html#returning-a-view-versus-a-copy\n",
      "  df_season['n_gols_visitante_ultima'] = 0\n",
      "/tmp/ipykernel_28129/2534383528.py:40: SettingWithCopyWarning: \n",
      "A value is trying to be set on a copy of a slice from a DataFrame.\n",
      "Try using .loc[row_indexer,col_indexer] = value instead\n",
      "\n",
      "See the caveats in the documentation: https://pandas.pydata.org/pandas-docs/stable/user_guide/indexing.html#returning-a-view-versus-a-copy\n",
      "  df_season['mandante_venceu_ultima'] = 0\n",
      "/tmp/ipykernel_28129/2534383528.py:41: SettingWithCopyWarning: \n",
      "A value is trying to be set on a copy of a slice from a DataFrame.\n",
      "Try using .loc[row_indexer,col_indexer] = value instead\n",
      "\n",
      "See the caveats in the documentation: https://pandas.pydata.org/pandas-docs/stable/user_guide/indexing.html#returning-a-view-versus-a-copy\n",
      "  df_season['visitante_venceu_ultima'] = 0\n",
      "/tmp/ipykernel_28129/2534383528.py:42: SettingWithCopyWarning: \n",
      "A value is trying to be set on a copy of a slice from a DataFrame.\n",
      "Try using .loc[row_indexer,col_indexer] = value instead\n",
      "\n",
      "See the caveats in the documentation: https://pandas.pydata.org/pandas-docs/stable/user_guide/indexing.html#returning-a-view-versus-a-copy\n",
      "  df_season['n_gols_mandante_ultima'] = 0\n",
      "/tmp/ipykernel_28129/2534383528.py:40: SettingWithCopyWarning: \n",
      "A value is trying to be set on a copy of a slice from a DataFrame.\n",
      "Try using .loc[row_indexer,col_indexer] = value instead\n",
      "\n",
      "See the caveats in the documentation: https://pandas.pydata.org/pandas-docs/stable/user_guide/indexing.html#returning-a-view-versus-a-copy\n",
      "  df_season['mandante_venceu_ultima'] = 0\n",
      "/tmp/ipykernel_28129/2534383528.py:41: SettingWithCopyWarning: \n",
      "A value is trying to be set on a copy of a slice from a DataFrame.\n",
      "Try using .loc[row_indexer,col_indexer] = value instead\n",
      "\n",
      "See the caveats in the documentation: https://pandas.pydata.org/pandas-docs/stable/user_guide/indexing.html#returning-a-view-versus-a-copy\n",
      "  df_season['visitante_venceu_ultima'] = 0\n",
      "/tmp/ipykernel_28129/2534383528.py:42: SettingWithCopyWarning: \n",
      "A value is trying to be set on a copy of a slice from a DataFrame.\n",
      "Try using .loc[row_indexer,col_indexer] = value instead\n",
      "\n",
      "See the caveats in the documentation: https://pandas.pydata.org/pandas-docs/stable/user_guide/indexing.html#returning-a-view-versus-a-copy\n",
      "  df_season['n_gols_mandante_ultima'] = 0\n",
      "/tmp/ipykernel_28129/2534383528.py:43: SettingWithCopyWarning: \n",
      "A value is trying to be set on a copy of a slice from a DataFrame.\n",
      "Try using .loc[row_indexer,col_indexer] = value instead\n",
      "\n",
      "See the caveats in the documentation: https://pandas.pydata.org/pandas-docs/stable/user_guide/indexing.html#returning-a-view-versus-a-copy\n",
      "  df_season['n_gols_visitante_ultima'] = 0\n",
      "/tmp/ipykernel_28129/2534383528.py:40: SettingWithCopyWarning: \n",
      "A value is trying to be set on a copy of a slice from a DataFrame.\n",
      "Try using .loc[row_indexer,col_indexer] = value instead\n",
      "\n",
      "See the caveats in the documentation: https://pandas.pydata.org/pandas-docs/stable/user_guide/indexing.html#returning-a-view-versus-a-copy\n",
      "  df_season['mandante_venceu_ultima'] = 0\n",
      "/tmp/ipykernel_28129/2534383528.py:41: SettingWithCopyWarning: \n",
      "A value is trying to be set on a copy of a slice from a DataFrame.\n",
      "Try using .loc[row_indexer,col_indexer] = value instead\n",
      "\n",
      "See the caveats in the documentation: https://pandas.pydata.org/pandas-docs/stable/user_guide/indexing.html#returning-a-view-versus-a-copy\n",
      "  df_season['visitante_venceu_ultima'] = 0\n",
      "/tmp/ipykernel_28129/2534383528.py:42: SettingWithCopyWarning: \n",
      "A value is trying to be set on a copy of a slice from a DataFrame.\n",
      "Try using .loc[row_indexer,col_indexer] = value instead\n",
      "\n",
      "See the caveats in the documentation: https://pandas.pydata.org/pandas-docs/stable/user_guide/indexing.html#returning-a-view-versus-a-copy\n",
      "  df_season['n_gols_mandante_ultima'] = 0\n"
     ]
    },
    {
     "name": "stderr",
     "output_type": "stream",
     "text": [
      "/tmp/ipykernel_28129/2534383528.py:40: SettingWithCopyWarning: \n",
      "A value is trying to be set on a copy of a slice from a DataFrame.\n",
      "Try using .loc[row_indexer,col_indexer] = value instead\n",
      "\n",
      "See the caveats in the documentation: https://pandas.pydata.org/pandas-docs/stable/user_guide/indexing.html#returning-a-view-versus-a-copy\n",
      "  df_season['mandante_venceu_ultima'] = 0\n",
      "/tmp/ipykernel_28129/2534383528.py:41: SettingWithCopyWarning: \n",
      "A value is trying to be set on a copy of a slice from a DataFrame.\n",
      "Try using .loc[row_indexer,col_indexer] = value instead\n",
      "\n",
      "See the caveats in the documentation: https://pandas.pydata.org/pandas-docs/stable/user_guide/indexing.html#returning-a-view-versus-a-copy\n",
      "  df_season['visitante_venceu_ultima'] = 0\n",
      "/tmp/ipykernel_28129/2534383528.py:42: SettingWithCopyWarning: \n",
      "A value is trying to be set on a copy of a slice from a DataFrame.\n",
      "Try using .loc[row_indexer,col_indexer] = value instead\n",
      "\n",
      "See the caveats in the documentation: https://pandas.pydata.org/pandas-docs/stable/user_guide/indexing.html#returning-a-view-versus-a-copy\n",
      "  df_season['n_gols_mandante_ultima'] = 0\n",
      "/tmp/ipykernel_28129/2534383528.py:43: SettingWithCopyWarning: \n",
      "A value is trying to be set on a copy of a slice from a DataFrame.\n",
      "Try using .loc[row_indexer,col_indexer] = value instead\n",
      "\n",
      "See the caveats in the documentation: https://pandas.pydata.org/pandas-docs/stable/user_guide/indexing.html#returning-a-view-versus-a-copy\n",
      "  df_season['n_gols_visitante_ultima'] = 0\n",
      "/tmp/ipykernel_28129/2534383528.py:40: SettingWithCopyWarning: \n",
      "A value is trying to be set on a copy of a slice from a DataFrame.\n",
      "Try using .loc[row_indexer,col_indexer] = value instead\n",
      "\n",
      "See the caveats in the documentation: https://pandas.pydata.org/pandas-docs/stable/user_guide/indexing.html#returning-a-view-versus-a-copy\n",
      "  df_season['mandante_venceu_ultima'] = 0\n",
      "/tmp/ipykernel_28129/2534383528.py:41: SettingWithCopyWarning: \n",
      "A value is trying to be set on a copy of a slice from a DataFrame.\n",
      "Try using .loc[row_indexer,col_indexer] = value instead\n",
      "\n",
      "See the caveats in the documentation: https://pandas.pydata.org/pandas-docs/stable/user_guide/indexing.html#returning-a-view-versus-a-copy\n",
      "  df_season['visitante_venceu_ultima'] = 0\n",
      "/tmp/ipykernel_28129/2534383528.py:42: SettingWithCopyWarning: \n",
      "A value is trying to be set on a copy of a slice from a DataFrame.\n",
      "Try using .loc[row_indexer,col_indexer] = value instead\n",
      "\n",
      "See the caveats in the documentation: https://pandas.pydata.org/pandas-docs/stable/user_guide/indexing.html#returning-a-view-versus-a-copy\n",
      "  df_season['n_gols_mandante_ultima'] = 0\n",
      "/tmp/ipykernel_28129/2534383528.py:40: SettingWithCopyWarning: \n",
      "A value is trying to be set on a copy of a slice from a DataFrame.\n",
      "Try using .loc[row_indexer,col_indexer] = value instead\n",
      "\n",
      "See the caveats in the documentation: https://pandas.pydata.org/pandas-docs/stable/user_guide/indexing.html#returning-a-view-versus-a-copy\n",
      "  df_season['mandante_venceu_ultima'] = 0\n",
      "/tmp/ipykernel_28129/2534383528.py:41: SettingWithCopyWarning: \n",
      "A value is trying to be set on a copy of a slice from a DataFrame.\n",
      "Try using .loc[row_indexer,col_indexer] = value instead\n",
      "\n",
      "See the caveats in the documentation: https://pandas.pydata.org/pandas-docs/stable/user_guide/indexing.html#returning-a-view-versus-a-copy\n",
      "  df_season['visitante_venceu_ultima'] = 0\n",
      "/tmp/ipykernel_28129/2534383528.py:42: SettingWithCopyWarning: \n",
      "A value is trying to be set on a copy of a slice from a DataFrame.\n",
      "Try using .loc[row_indexer,col_indexer] = value instead\n",
      "\n",
      "See the caveats in the documentation: https://pandas.pydata.org/pandas-docs/stable/user_guide/indexing.html#returning-a-view-versus-a-copy\n",
      "  df_season['n_gols_mandante_ultima'] = 0\n",
      "/tmp/ipykernel_28129/2534383528.py:43: SettingWithCopyWarning: \n",
      "A value is trying to be set on a copy of a slice from a DataFrame.\n",
      "Try using .loc[row_indexer,col_indexer] = value instead\n",
      "\n",
      "See the caveats in the documentation: https://pandas.pydata.org/pandas-docs/stable/user_guide/indexing.html#returning-a-view-versus-a-copy\n",
      "  df_season['n_gols_visitante_ultima'] = 0\n",
      "/tmp/ipykernel_28129/2534383528.py:40: SettingWithCopyWarning: \n",
      "A value is trying to be set on a copy of a slice from a DataFrame.\n",
      "Try using .loc[row_indexer,col_indexer] = value instead\n",
      "\n",
      "See the caveats in the documentation: https://pandas.pydata.org/pandas-docs/stable/user_guide/indexing.html#returning-a-view-versus-a-copy\n",
      "  df_season['mandante_venceu_ultima'] = 0\n",
      "/tmp/ipykernel_28129/2534383528.py:41: SettingWithCopyWarning: \n",
      "A value is trying to be set on a copy of a slice from a DataFrame.\n",
      "Try using .loc[row_indexer,col_indexer] = value instead\n",
      "\n",
      "See the caveats in the documentation: https://pandas.pydata.org/pandas-docs/stable/user_guide/indexing.html#returning-a-view-versus-a-copy\n",
      "  df_season['visitante_venceu_ultima'] = 0\n",
      "/tmp/ipykernel_28129/2534383528.py:42: SettingWithCopyWarning: \n",
      "A value is trying to be set on a copy of a slice from a DataFrame.\n",
      "Try using .loc[row_indexer,col_indexer] = value instead\n",
      "\n",
      "See the caveats in the documentation: https://pandas.pydata.org/pandas-docs/stable/user_guide/indexing.html#returning-a-view-versus-a-copy\n",
      "  df_season['n_gols_mandante_ultima'] = 0\n",
      "/tmp/ipykernel_28129/2534383528.py:40: SettingWithCopyWarning: \n",
      "A value is trying to be set on a copy of a slice from a DataFrame.\n",
      "Try using .loc[row_indexer,col_indexer] = value instead\n",
      "\n",
      "See the caveats in the documentation: https://pandas.pydata.org/pandas-docs/stable/user_guide/indexing.html#returning-a-view-versus-a-copy\n",
      "  df_season['mandante_venceu_ultima'] = 0\n",
      "/tmp/ipykernel_28129/2534383528.py:41: SettingWithCopyWarning: \n",
      "A value is trying to be set on a copy of a slice from a DataFrame.\n",
      "Try using .loc[row_indexer,col_indexer] = value instead\n",
      "\n",
      "See the caveats in the documentation: https://pandas.pydata.org/pandas-docs/stable/user_guide/indexing.html#returning-a-view-versus-a-copy\n",
      "  df_season['visitante_venceu_ultima'] = 0\n",
      "/tmp/ipykernel_28129/2534383528.py:42: SettingWithCopyWarning: \n",
      "A value is trying to be set on a copy of a slice from a DataFrame.\n",
      "Try using .loc[row_indexer,col_indexer] = value instead\n",
      "\n",
      "See the caveats in the documentation: https://pandas.pydata.org/pandas-docs/stable/user_guide/indexing.html#returning-a-view-versus-a-copy\n",
      "  df_season['n_gols_mandante_ultima'] = 0\n",
      "/tmp/ipykernel_28129/2534383528.py:43: SettingWithCopyWarning: \n",
      "A value is trying to be set on a copy of a slice from a DataFrame.\n",
      "Try using .loc[row_indexer,col_indexer] = value instead\n",
      "\n",
      "See the caveats in the documentation: https://pandas.pydata.org/pandas-docs/stable/user_guide/indexing.html#returning-a-view-versus-a-copy\n",
      "  df_season['n_gols_visitante_ultima'] = 0\n",
      "/tmp/ipykernel_28129/2534383528.py:40: SettingWithCopyWarning: \n",
      "A value is trying to be set on a copy of a slice from a DataFrame.\n",
      "Try using .loc[row_indexer,col_indexer] = value instead\n",
      "\n",
      "See the caveats in the documentation: https://pandas.pydata.org/pandas-docs/stable/user_guide/indexing.html#returning-a-view-versus-a-copy\n",
      "  df_season['mandante_venceu_ultima'] = 0\n",
      "/tmp/ipykernel_28129/2534383528.py:41: SettingWithCopyWarning: \n",
      "A value is trying to be set on a copy of a slice from a DataFrame.\n",
      "Try using .loc[row_indexer,col_indexer] = value instead\n",
      "\n",
      "See the caveats in the documentation: https://pandas.pydata.org/pandas-docs/stable/user_guide/indexing.html#returning-a-view-versus-a-copy\n",
      "  df_season['visitante_venceu_ultima'] = 0\n",
      "/tmp/ipykernel_28129/2534383528.py:42: SettingWithCopyWarning: \n",
      "A value is trying to be set on a copy of a slice from a DataFrame.\n",
      "Try using .loc[row_indexer,col_indexer] = value instead\n",
      "\n",
      "See the caveats in the documentation: https://pandas.pydata.org/pandas-docs/stable/user_guide/indexing.html#returning-a-view-versus-a-copy\n",
      "  df_season['n_gols_mandante_ultima'] = 0\n",
      "/tmp/ipykernel_28129/2534383528.py:40: SettingWithCopyWarning: \n",
      "A value is trying to be set on a copy of a slice from a DataFrame.\n",
      "Try using .loc[row_indexer,col_indexer] = value instead\n",
      "\n",
      "See the caveats in the documentation: https://pandas.pydata.org/pandas-docs/stable/user_guide/indexing.html#returning-a-view-versus-a-copy\n",
      "  df_season['mandante_venceu_ultima'] = 0\n",
      "/tmp/ipykernel_28129/2534383528.py:41: SettingWithCopyWarning: \n",
      "A value is trying to be set on a copy of a slice from a DataFrame.\n",
      "Try using .loc[row_indexer,col_indexer] = value instead\n",
      "\n",
      "See the caveats in the documentation: https://pandas.pydata.org/pandas-docs/stable/user_guide/indexing.html#returning-a-view-versus-a-copy\n",
      "  df_season['visitante_venceu_ultima'] = 0\n",
      "/tmp/ipykernel_28129/2534383528.py:42: SettingWithCopyWarning: \n",
      "A value is trying to be set on a copy of a slice from a DataFrame.\n",
      "Try using .loc[row_indexer,col_indexer] = value instead\n",
      "\n",
      "See the caveats in the documentation: https://pandas.pydata.org/pandas-docs/stable/user_guide/indexing.html#returning-a-view-versus-a-copy\n",
      "  df_season['n_gols_mandante_ultima'] = 0\n",
      "/tmp/ipykernel_28129/2534383528.py:43: SettingWithCopyWarning: \n",
      "A value is trying to be set on a copy of a slice from a DataFrame.\n",
      "Try using .loc[row_indexer,col_indexer] = value instead\n",
      "\n",
      "See the caveats in the documentation: https://pandas.pydata.org/pandas-docs/stable/user_guide/indexing.html#returning-a-view-versus-a-copy\n",
      "  df_season['n_gols_visitante_ultima'] = 0\n",
      "/tmp/ipykernel_28129/2534383528.py:40: SettingWithCopyWarning: \n",
      "A value is trying to be set on a copy of a slice from a DataFrame.\n",
      "Try using .loc[row_indexer,col_indexer] = value instead\n",
      "\n",
      "See the caveats in the documentation: https://pandas.pydata.org/pandas-docs/stable/user_guide/indexing.html#returning-a-view-versus-a-copy\n",
      "  df_season['mandante_venceu_ultima'] = 0\n",
      "/tmp/ipykernel_28129/2534383528.py:41: SettingWithCopyWarning: \n",
      "A value is trying to be set on a copy of a slice from a DataFrame.\n",
      "Try using .loc[row_indexer,col_indexer] = value instead\n",
      "\n",
      "See the caveats in the documentation: https://pandas.pydata.org/pandas-docs/stable/user_guide/indexing.html#returning-a-view-versus-a-copy\n",
      "  df_season['visitante_venceu_ultima'] = 0\n",
      "/tmp/ipykernel_28129/2534383528.py:42: SettingWithCopyWarning: \n",
      "A value is trying to be set on a copy of a slice from a DataFrame.\n",
      "Try using .loc[row_indexer,col_indexer] = value instead\n",
      "\n",
      "See the caveats in the documentation: https://pandas.pydata.org/pandas-docs/stable/user_guide/indexing.html#returning-a-view-versus-a-copy\n",
      "  df_season['n_gols_mandante_ultima'] = 0\n"
     ]
    },
    {
     "name": "stderr",
     "output_type": "stream",
     "text": [
      "/tmp/ipykernel_28129/2534383528.py:40: SettingWithCopyWarning: \n",
      "A value is trying to be set on a copy of a slice from a DataFrame.\n",
      "Try using .loc[row_indexer,col_indexer] = value instead\n",
      "\n",
      "See the caveats in the documentation: https://pandas.pydata.org/pandas-docs/stable/user_guide/indexing.html#returning-a-view-versus-a-copy\n",
      "  df_season['mandante_venceu_ultima'] = 0\n",
      "/tmp/ipykernel_28129/2534383528.py:41: SettingWithCopyWarning: \n",
      "A value is trying to be set on a copy of a slice from a DataFrame.\n",
      "Try using .loc[row_indexer,col_indexer] = value instead\n",
      "\n",
      "See the caveats in the documentation: https://pandas.pydata.org/pandas-docs/stable/user_guide/indexing.html#returning-a-view-versus-a-copy\n",
      "  df_season['visitante_venceu_ultima'] = 0\n",
      "/tmp/ipykernel_28129/2534383528.py:42: SettingWithCopyWarning: \n",
      "A value is trying to be set on a copy of a slice from a DataFrame.\n",
      "Try using .loc[row_indexer,col_indexer] = value instead\n",
      "\n",
      "See the caveats in the documentation: https://pandas.pydata.org/pandas-docs/stable/user_guide/indexing.html#returning-a-view-versus-a-copy\n",
      "  df_season['n_gols_mandante_ultima'] = 0\n",
      "/tmp/ipykernel_28129/2534383528.py:43: SettingWithCopyWarning: \n",
      "A value is trying to be set on a copy of a slice from a DataFrame.\n",
      "Try using .loc[row_indexer,col_indexer] = value instead\n",
      "\n",
      "See the caveats in the documentation: https://pandas.pydata.org/pandas-docs/stable/user_guide/indexing.html#returning-a-view-versus-a-copy\n",
      "  df_season['n_gols_visitante_ultima'] = 0\n",
      "/tmp/ipykernel_28129/2534383528.py:40: SettingWithCopyWarning: \n",
      "A value is trying to be set on a copy of a slice from a DataFrame.\n",
      "Try using .loc[row_indexer,col_indexer] = value instead\n",
      "\n",
      "See the caveats in the documentation: https://pandas.pydata.org/pandas-docs/stable/user_guide/indexing.html#returning-a-view-versus-a-copy\n",
      "  df_season['mandante_venceu_ultima'] = 0\n",
      "/tmp/ipykernel_28129/2534383528.py:41: SettingWithCopyWarning: \n",
      "A value is trying to be set on a copy of a slice from a DataFrame.\n",
      "Try using .loc[row_indexer,col_indexer] = value instead\n",
      "\n",
      "See the caveats in the documentation: https://pandas.pydata.org/pandas-docs/stable/user_guide/indexing.html#returning-a-view-versus-a-copy\n",
      "  df_season['visitante_venceu_ultima'] = 0\n",
      "/tmp/ipykernel_28129/2534383528.py:42: SettingWithCopyWarning: \n",
      "A value is trying to be set on a copy of a slice from a DataFrame.\n",
      "Try using .loc[row_indexer,col_indexer] = value instead\n",
      "\n",
      "See the caveats in the documentation: https://pandas.pydata.org/pandas-docs/stable/user_guide/indexing.html#returning-a-view-versus-a-copy\n",
      "  df_season['n_gols_mandante_ultima'] = 0\n",
      "/tmp/ipykernel_28129/2534383528.py:40: SettingWithCopyWarning: \n",
      "A value is trying to be set on a copy of a slice from a DataFrame.\n",
      "Try using .loc[row_indexer,col_indexer] = value instead\n",
      "\n",
      "See the caveats in the documentation: https://pandas.pydata.org/pandas-docs/stable/user_guide/indexing.html#returning-a-view-versus-a-copy\n",
      "  df_season['mandante_venceu_ultima'] = 0\n",
      "/tmp/ipykernel_28129/2534383528.py:41: SettingWithCopyWarning: \n",
      "A value is trying to be set on a copy of a slice from a DataFrame.\n",
      "Try using .loc[row_indexer,col_indexer] = value instead\n",
      "\n",
      "See the caveats in the documentation: https://pandas.pydata.org/pandas-docs/stable/user_guide/indexing.html#returning-a-view-versus-a-copy\n",
      "  df_season['visitante_venceu_ultima'] = 0\n",
      "/tmp/ipykernel_28129/2534383528.py:42: SettingWithCopyWarning: \n",
      "A value is trying to be set on a copy of a slice from a DataFrame.\n",
      "Try using .loc[row_indexer,col_indexer] = value instead\n",
      "\n",
      "See the caveats in the documentation: https://pandas.pydata.org/pandas-docs/stable/user_guide/indexing.html#returning-a-view-versus-a-copy\n",
      "  df_season['n_gols_mandante_ultima'] = 0\n",
      "/tmp/ipykernel_28129/2534383528.py:43: SettingWithCopyWarning: \n",
      "A value is trying to be set on a copy of a slice from a DataFrame.\n",
      "Try using .loc[row_indexer,col_indexer] = value instead\n",
      "\n",
      "See the caveats in the documentation: https://pandas.pydata.org/pandas-docs/stable/user_guide/indexing.html#returning-a-view-versus-a-copy\n",
      "  df_season['n_gols_visitante_ultima'] = 0\n",
      "/tmp/ipykernel_28129/2534383528.py:40: SettingWithCopyWarning: \n",
      "A value is trying to be set on a copy of a slice from a DataFrame.\n",
      "Try using .loc[row_indexer,col_indexer] = value instead\n",
      "\n",
      "See the caveats in the documentation: https://pandas.pydata.org/pandas-docs/stable/user_guide/indexing.html#returning-a-view-versus-a-copy\n",
      "  df_season['mandante_venceu_ultima'] = 0\n",
      "/tmp/ipykernel_28129/2534383528.py:41: SettingWithCopyWarning: \n",
      "A value is trying to be set on a copy of a slice from a DataFrame.\n",
      "Try using .loc[row_indexer,col_indexer] = value instead\n",
      "\n",
      "See the caveats in the documentation: https://pandas.pydata.org/pandas-docs/stable/user_guide/indexing.html#returning-a-view-versus-a-copy\n",
      "  df_season['visitante_venceu_ultima'] = 0\n",
      "/tmp/ipykernel_28129/2534383528.py:42: SettingWithCopyWarning: \n",
      "A value is trying to be set on a copy of a slice from a DataFrame.\n",
      "Try using .loc[row_indexer,col_indexer] = value instead\n",
      "\n",
      "See the caveats in the documentation: https://pandas.pydata.org/pandas-docs/stable/user_guide/indexing.html#returning-a-view-versus-a-copy\n",
      "  df_season['n_gols_mandante_ultima'] = 0\n",
      "/tmp/ipykernel_28129/2534383528.py:40: SettingWithCopyWarning: \n",
      "A value is trying to be set on a copy of a slice from a DataFrame.\n",
      "Try using .loc[row_indexer,col_indexer] = value instead\n",
      "\n",
      "See the caveats in the documentation: https://pandas.pydata.org/pandas-docs/stable/user_guide/indexing.html#returning-a-view-versus-a-copy\n",
      "  df_season['mandante_venceu_ultima'] = 0\n",
      "/tmp/ipykernel_28129/2534383528.py:41: SettingWithCopyWarning: \n",
      "A value is trying to be set on a copy of a slice from a DataFrame.\n",
      "Try using .loc[row_indexer,col_indexer] = value instead\n",
      "\n",
      "See the caveats in the documentation: https://pandas.pydata.org/pandas-docs/stable/user_guide/indexing.html#returning-a-view-versus-a-copy\n",
      "  df_season['visitante_venceu_ultima'] = 0\n",
      "/tmp/ipykernel_28129/2534383528.py:42: SettingWithCopyWarning: \n",
      "A value is trying to be set on a copy of a slice from a DataFrame.\n",
      "Try using .loc[row_indexer,col_indexer] = value instead\n",
      "\n",
      "See the caveats in the documentation: https://pandas.pydata.org/pandas-docs/stable/user_guide/indexing.html#returning-a-view-versus-a-copy\n",
      "  df_season['n_gols_mandante_ultima'] = 0\n",
      "/tmp/ipykernel_28129/2534383528.py:43: SettingWithCopyWarning: \n",
      "A value is trying to be set on a copy of a slice from a DataFrame.\n",
      "Try using .loc[row_indexer,col_indexer] = value instead\n",
      "\n",
      "See the caveats in the documentation: https://pandas.pydata.org/pandas-docs/stable/user_guide/indexing.html#returning-a-view-versus-a-copy\n",
      "  df_season['n_gols_visitante_ultima'] = 0\n",
      "/tmp/ipykernel_28129/2534383528.py:40: SettingWithCopyWarning: \n",
      "A value is trying to be set on a copy of a slice from a DataFrame.\n",
      "Try using .loc[row_indexer,col_indexer] = value instead\n",
      "\n",
      "See the caveats in the documentation: https://pandas.pydata.org/pandas-docs/stable/user_guide/indexing.html#returning-a-view-versus-a-copy\n",
      "  df_season['mandante_venceu_ultima'] = 0\n",
      "/tmp/ipykernel_28129/2534383528.py:41: SettingWithCopyWarning: \n",
      "A value is trying to be set on a copy of a slice from a DataFrame.\n",
      "Try using .loc[row_indexer,col_indexer] = value instead\n",
      "\n",
      "See the caveats in the documentation: https://pandas.pydata.org/pandas-docs/stable/user_guide/indexing.html#returning-a-view-versus-a-copy\n",
      "  df_season['visitante_venceu_ultima'] = 0\n",
      "/tmp/ipykernel_28129/2534383528.py:42: SettingWithCopyWarning: \n",
      "A value is trying to be set on a copy of a slice from a DataFrame.\n",
      "Try using .loc[row_indexer,col_indexer] = value instead\n",
      "\n",
      "See the caveats in the documentation: https://pandas.pydata.org/pandas-docs/stable/user_guide/indexing.html#returning-a-view-versus-a-copy\n",
      "  df_season['n_gols_mandante_ultima'] = 0\n"
     ]
    }
   ],
   "source": [
    "df_full = check_last_match(df_full)"
   ]
  },
  {
   "cell_type": "code",
   "execution_count": 99,
   "id": "b620d9dd",
   "metadata": {
    "ExecuteTime": {
     "end_time": "2022-03-22T11:55:48.008601Z",
     "start_time": "2022-03-22T11:55:47.989698Z"
    }
   },
   "outputs": [
    {
     "data": {
      "text/html": [
       "<div>\n",
       "<style scoped>\n",
       "    .dataframe tbody tr th:only-of-type {\n",
       "        vertical-align: middle;\n",
       "    }\n",
       "\n",
       "    .dataframe tbody tr th {\n",
       "        vertical-align: top;\n",
       "    }\n",
       "\n",
       "    .dataframe thead th {\n",
       "        text-align: right;\n",
       "    }\n",
       "</style>\n",
       "<table border=\"1\" class=\"dataframe\">\n",
       "  <thead>\n",
       "    <tr style=\"text-align: right;\">\n",
       "      <th></th>\n",
       "      <th>ID</th>\n",
       "      <th>rodada</th>\n",
       "      <th>data</th>\n",
       "      <th>hora</th>\n",
       "      <th>dia</th>\n",
       "      <th>mandante</th>\n",
       "      <th>visitante</th>\n",
       "      <th>formacao_mandante</th>\n",
       "      <th>formacao_visitante</th>\n",
       "      <th>tecnico_mandante</th>\n",
       "      <th>...</th>\n",
       "      <th>arena</th>\n",
       "      <th>mandante_placar</th>\n",
       "      <th>visitante_placar</th>\n",
       "      <th>mandante_estado</th>\n",
       "      <th>visitante_estado</th>\n",
       "      <th>estado_vencedor</th>\n",
       "      <th>mandante_venceu_ultima</th>\n",
       "      <th>visitante_venceu_ultima</th>\n",
       "      <th>n_gols_mandante_ultima</th>\n",
       "      <th>n_gols_visitante_ultima</th>\n",
       "    </tr>\n",
       "    <tr>\n",
       "      <th>ID</th>\n",
       "      <th></th>\n",
       "      <th></th>\n",
       "      <th></th>\n",
       "      <th></th>\n",
       "      <th></th>\n",
       "      <th></th>\n",
       "      <th></th>\n",
       "      <th></th>\n",
       "      <th></th>\n",
       "      <th></th>\n",
       "      <th></th>\n",
       "      <th></th>\n",
       "      <th></th>\n",
       "      <th></th>\n",
       "      <th></th>\n",
       "      <th></th>\n",
       "      <th></th>\n",
       "      <th></th>\n",
       "      <th></th>\n",
       "      <th></th>\n",
       "      <th></th>\n",
       "    </tr>\n",
       "  </thead>\n",
       "  <tbody>\n",
       "    <tr>\n",
       "      <th>1</th>\n",
       "      <td>1</td>\n",
       "      <td>1</td>\n",
       "      <td>2003-03-29</td>\n",
       "      <td>16:00</td>\n",
       "      <td>Sabado</td>\n",
       "      <td>Guarani</td>\n",
       "      <td>Vasco</td>\n",
       "      <td>NaN</td>\n",
       "      <td>NaN</td>\n",
       "      <td>NaN</td>\n",
       "      <td>...</td>\n",
       "      <td>brinco de ouro</td>\n",
       "      <td>4</td>\n",
       "      <td>2</td>\n",
       "      <td>SP</td>\n",
       "      <td>RJ</td>\n",
       "      <td>SP</td>\n",
       "      <td>0</td>\n",
       "      <td>0</td>\n",
       "      <td>0</td>\n",
       "      <td>0</td>\n",
       "    </tr>\n",
       "    <tr>\n",
       "      <th>2</th>\n",
       "      <td>2</td>\n",
       "      <td>1</td>\n",
       "      <td>2003-03-29</td>\n",
       "      <td>16:00</td>\n",
       "      <td>Sabado</td>\n",
       "      <td>Athletico-PR</td>\n",
       "      <td>Gremio</td>\n",
       "      <td>NaN</td>\n",
       "      <td>NaN</td>\n",
       "      <td>NaN</td>\n",
       "      <td>...</td>\n",
       "      <td>arena da baixada</td>\n",
       "      <td>2</td>\n",
       "      <td>0</td>\n",
       "      <td>PR</td>\n",
       "      <td>RS</td>\n",
       "      <td>PR</td>\n",
       "      <td>0</td>\n",
       "      <td>0</td>\n",
       "      <td>0</td>\n",
       "      <td>0</td>\n",
       "    </tr>\n",
       "    <tr>\n",
       "      <th>3</th>\n",
       "      <td>3</td>\n",
       "      <td>1</td>\n",
       "      <td>2003-03-30</td>\n",
       "      <td>16:00</td>\n",
       "      <td>Domingo</td>\n",
       "      <td>Flamengo</td>\n",
       "      <td>Coritiba</td>\n",
       "      <td>NaN</td>\n",
       "      <td>NaN</td>\n",
       "      <td>NaN</td>\n",
       "      <td>...</td>\n",
       "      <td>maracana</td>\n",
       "      <td>1</td>\n",
       "      <td>1</td>\n",
       "      <td>RJ</td>\n",
       "      <td>PR</td>\n",
       "      <td>-</td>\n",
       "      <td>0</td>\n",
       "      <td>0</td>\n",
       "      <td>0</td>\n",
       "      <td>0</td>\n",
       "    </tr>\n",
       "    <tr>\n",
       "      <th>4</th>\n",
       "      <td>4</td>\n",
       "      <td>1</td>\n",
       "      <td>2003-03-30</td>\n",
       "      <td>16:00</td>\n",
       "      <td>Domingo</td>\n",
       "      <td>Goias</td>\n",
       "      <td>Paysandu</td>\n",
       "      <td>NaN</td>\n",
       "      <td>NaN</td>\n",
       "      <td>NaN</td>\n",
       "      <td>...</td>\n",
       "      <td>serra dourada</td>\n",
       "      <td>2</td>\n",
       "      <td>2</td>\n",
       "      <td>GO</td>\n",
       "      <td>PA</td>\n",
       "      <td>-</td>\n",
       "      <td>0</td>\n",
       "      <td>0</td>\n",
       "      <td>0</td>\n",
       "      <td>0</td>\n",
       "    </tr>\n",
       "    <tr>\n",
       "      <th>5</th>\n",
       "      <td>5</td>\n",
       "      <td>1</td>\n",
       "      <td>2003-03-30</td>\n",
       "      <td>16:00</td>\n",
       "      <td>Domingo</td>\n",
       "      <td>Internacional</td>\n",
       "      <td>Ponte Preta</td>\n",
       "      <td>NaN</td>\n",
       "      <td>NaN</td>\n",
       "      <td>NaN</td>\n",
       "      <td>...</td>\n",
       "      <td>beira rio</td>\n",
       "      <td>1</td>\n",
       "      <td>1</td>\n",
       "      <td>RS</td>\n",
       "      <td>SP</td>\n",
       "      <td>-</td>\n",
       "      <td>0</td>\n",
       "      <td>0</td>\n",
       "      <td>0</td>\n",
       "      <td>0</td>\n",
       "    </tr>\n",
       "  </tbody>\n",
       "</table>\n",
       "<p>5 rows × 22 columns</p>\n",
       "</div>"
      ],
      "text/plain": [
       "    ID  rodada       data   hora      dia       mandante    visitante  \\\n",
       "ID                                                                      \n",
       "1    1       1 2003-03-29  16:00   Sabado        Guarani        Vasco   \n",
       "2    2       1 2003-03-29  16:00   Sabado   Athletico-PR       Gremio   \n",
       "3    3       1 2003-03-30  16:00  Domingo       Flamengo     Coritiba   \n",
       "4    4       1 2003-03-30  16:00  Domingo          Goias     Paysandu   \n",
       "5    5       1 2003-03-30  16:00  Domingo  Internacional  Ponte Preta   \n",
       "\n",
       "   formacao_mandante formacao_visitante tecnico_mandante  ...  \\\n",
       "ID                                                        ...   \n",
       "1                NaN                NaN              NaN  ...   \n",
       "2                NaN                NaN              NaN  ...   \n",
       "3                NaN                NaN              NaN  ...   \n",
       "4                NaN                NaN              NaN  ...   \n",
       "5                NaN                NaN              NaN  ...   \n",
       "\n",
       "               arena mandante_placar visitante_placar  mandante_estado  \\\n",
       "ID                                                                       \n",
       "1     brinco de ouro               4                2               SP   \n",
       "2   arena da baixada               2                0               PR   \n",
       "3           maracana               1                1               RJ   \n",
       "4      serra dourada               2                2               GO   \n",
       "5          beira rio               1                1               RS   \n",
       "\n",
       "    visitante_estado estado_vencedor mandante_venceu_ultima  \\\n",
       "ID                                                            \n",
       "1                 RJ              SP                      0   \n",
       "2                 RS              PR                      0   \n",
       "3                 PR               -                      0   \n",
       "4                 PA               -                      0   \n",
       "5                 SP               -                      0   \n",
       "\n",
       "   visitante_venceu_ultima  n_gols_mandante_ultima  n_gols_visitante_ultima  \n",
       "ID                                                                           \n",
       "1                        0                       0                        0  \n",
       "2                        0                       0                        0  \n",
       "3                        0                       0                        0  \n",
       "4                        0                       0                        0  \n",
       "5                        0                       0                        0  \n",
       "\n",
       "[5 rows x 22 columns]"
      ]
     },
     "execution_count": 99,
     "metadata": {},
     "output_type": "execute_result"
    }
   ],
   "source": [
    "df_full.head()"
   ]
  },
  {
   "cell_type": "markdown",
   "id": "ae364e6d",
   "metadata": {},
   "source": [
    "## 1.3 Stats "
   ]
  },
  {
   "cell_type": "code",
   "execution_count": 389,
   "id": "e1306a2d",
   "metadata": {
    "ExecuteTime": {
     "end_time": "2022-03-22T14:14:21.221079Z",
     "start_time": "2022-03-22T14:14:21.196504Z"
    }
   },
   "outputs": [
    {
     "data": {
      "text/html": [
       "<div>\n",
       "<style scoped>\n",
       "    .dataframe tbody tr th:only-of-type {\n",
       "        vertical-align: middle;\n",
       "    }\n",
       "\n",
       "    .dataframe tbody tr th {\n",
       "        vertical-align: top;\n",
       "    }\n",
       "\n",
       "    .dataframe thead th {\n",
       "        text-align: right;\n",
       "    }\n",
       "</style>\n",
       "<table border=\"1\" class=\"dataframe\">\n",
       "  <thead>\n",
       "    <tr style=\"text-align: right;\">\n",
       "      <th></th>\n",
       "      <th>partida_id</th>\n",
       "      <th>rodada</th>\n",
       "      <th>clube</th>\n",
       "      <th>chutes</th>\n",
       "      <th>chutes_no_alvo</th>\n",
       "      <th>posse_de_bola</th>\n",
       "      <th>passes</th>\n",
       "      <th>precisao_passes</th>\n",
       "      <th>faltas</th>\n",
       "      <th>cartao_amarelo</th>\n",
       "      <th>cartao_vermelho</th>\n",
       "      <th>impedimentos</th>\n",
       "      <th>escanteios</th>\n",
       "    </tr>\n",
       "  </thead>\n",
       "  <tbody>\n",
       "    <tr>\n",
       "      <th>0</th>\n",
       "      <td>1</td>\n",
       "      <td>1</td>\n",
       "      <td>Guarani</td>\n",
       "      <td>0</td>\n",
       "      <td>0</td>\n",
       "      <td>NaN</td>\n",
       "      <td>0</td>\n",
       "      <td>NaN</td>\n",
       "      <td>0</td>\n",
       "      <td>0</td>\n",
       "      <td>0</td>\n",
       "      <td>0</td>\n",
       "      <td>0</td>\n",
       "    </tr>\n",
       "    <tr>\n",
       "      <th>1</th>\n",
       "      <td>1</td>\n",
       "      <td>1</td>\n",
       "      <td>Vasco</td>\n",
       "      <td>0</td>\n",
       "      <td>0</td>\n",
       "      <td>NaN</td>\n",
       "      <td>0</td>\n",
       "      <td>NaN</td>\n",
       "      <td>0</td>\n",
       "      <td>0</td>\n",
       "      <td>0</td>\n",
       "      <td>0</td>\n",
       "      <td>0</td>\n",
       "    </tr>\n",
       "    <tr>\n",
       "      <th>2</th>\n",
       "      <td>2</td>\n",
       "      <td>1</td>\n",
       "      <td>Athletico-PR</td>\n",
       "      <td>0</td>\n",
       "      <td>0</td>\n",
       "      <td>NaN</td>\n",
       "      <td>0</td>\n",
       "      <td>NaN</td>\n",
       "      <td>0</td>\n",
       "      <td>0</td>\n",
       "      <td>0</td>\n",
       "      <td>0</td>\n",
       "      <td>0</td>\n",
       "    </tr>\n",
       "    <tr>\n",
       "      <th>3</th>\n",
       "      <td>2</td>\n",
       "      <td>1</td>\n",
       "      <td>Gremio</td>\n",
       "      <td>0</td>\n",
       "      <td>0</td>\n",
       "      <td>NaN</td>\n",
       "      <td>0</td>\n",
       "      <td>NaN</td>\n",
       "      <td>0</td>\n",
       "      <td>0</td>\n",
       "      <td>0</td>\n",
       "      <td>0</td>\n",
       "      <td>0</td>\n",
       "    </tr>\n",
       "    <tr>\n",
       "      <th>4</th>\n",
       "      <td>3</td>\n",
       "      <td>1</td>\n",
       "      <td>Flamengo</td>\n",
       "      <td>0</td>\n",
       "      <td>0</td>\n",
       "      <td>NaN</td>\n",
       "      <td>0</td>\n",
       "      <td>NaN</td>\n",
       "      <td>0</td>\n",
       "      <td>0</td>\n",
       "      <td>0</td>\n",
       "      <td>0</td>\n",
       "      <td>0</td>\n",
       "    </tr>\n",
       "  </tbody>\n",
       "</table>\n",
       "</div>"
      ],
      "text/plain": [
       "   partida_id  rodada         clube  chutes  chutes_no_alvo posse_de_bola  \\\n",
       "0           1       1       Guarani       0               0           NaN   \n",
       "1           1       1         Vasco       0               0           NaN   \n",
       "2           2       1  Athletico-PR       0               0           NaN   \n",
       "3           2       1        Gremio       0               0           NaN   \n",
       "4           3       1      Flamengo       0               0           NaN   \n",
       "\n",
       "   passes precisao_passes  faltas  cartao_amarelo  cartao_vermelho  \\\n",
       "0       0             NaN       0               0                0   \n",
       "1       0             NaN       0               0                0   \n",
       "2       0             NaN       0               0                0   \n",
       "3       0             NaN       0               0                0   \n",
       "4       0             NaN       0               0                0   \n",
       "\n",
       "   impedimentos  escanteios  \n",
       "0             0           0  \n",
       "1             0           0  \n",
       "2             0           0  \n",
       "3             0           0  \n",
       "4             0           0  "
      ]
     },
     "execution_count": 389,
     "metadata": {},
     "output_type": "execute_result"
    }
   ],
   "source": [
    "df_stats = pd.read_csv(data_path + stats)\n",
    "df_stats.head()"
   ]
  },
  {
   "cell_type": "code",
   "execution_count": 390,
   "id": "eabf6995",
   "metadata": {
    "ExecuteTime": {
     "end_time": "2022-03-22T14:14:21.520488Z",
     "start_time": "2022-03-22T14:14:21.515933Z"
    }
   },
   "outputs": [
    {
     "data": {
      "text/plain": [
       "(15290, 13)"
      ]
     },
     "execution_count": 390,
     "metadata": {},
     "output_type": "execute_result"
    }
   ],
   "source": [
    "df_stats.shape"
   ]
  },
  {
   "cell_type": "code",
   "execution_count": 391,
   "id": "958b80b5",
   "metadata": {
    "ExecuteTime": {
     "end_time": "2022-03-22T14:14:22.100524Z",
     "start_time": "2022-03-22T14:14:22.082754Z"
    }
   },
   "outputs": [
    {
     "name": "stdout",
     "output_type": "stream",
     "text": [
      "% of NaN\n"
     ]
    },
    {
     "data": {
      "text/plain": [
       "partida_id         0.000000\n",
       "rodada             0.000000\n",
       "clube              0.000000\n",
       "chutes             0.000000\n",
       "chutes_no_alvo     0.000000\n",
       "posse_de_bola      0.602485\n",
       "passes             0.000000\n",
       "precisao_passes    0.602485\n",
       "faltas             0.000000\n",
       "cartao_amarelo     0.000000\n",
       "cartao_vermelho    0.000000\n",
       "impedimentos       0.000000\n",
       "escanteios         0.000000\n",
       "dtype: float64"
      ]
     },
     "execution_count": 391,
     "metadata": {},
     "output_type": "execute_result"
    }
   ],
   "source": [
    "print('% of NaN')\n",
    "df_stats.isna().sum()/df_stats.shape[0]"
   ]
  },
  {
   "cell_type": "code",
   "execution_count": 392,
   "id": "e8f4720a",
   "metadata": {
    "ExecuteTime": {
     "end_time": "2022-03-22T14:14:22.610752Z",
     "start_time": "2022-03-22T14:14:22.580218Z"
    }
   },
   "outputs": [],
   "source": [
    "df_stats['posse_de_bola'] = df_stats['posse_de_bola'].apply(lambda x: np.nan if x == 'None' else x)\n",
    "df_stats['precisao_passes'] = df_stats['precisao_passes'].apply(lambda x: np.nan if x == 'None' else x)\n",
    "df_stats = df_stats.dropna()\n",
    "\n",
    "df_stats['posse_de_bola'] = df_stats['posse_de_bola'].apply(lambda x: int(x[0:2])/100)\n",
    "df_stats['precisao_passes'] = df_stats['precisao_passes'].apply(lambda x: int(x[0:2])/100)\n"
   ]
  },
  {
   "cell_type": "code",
   "execution_count": 393,
   "id": "4d8c681b",
   "metadata": {
    "ExecuteTime": {
     "end_time": "2022-03-22T14:14:23.203262Z",
     "start_time": "2022-03-22T14:14:23.194305Z"
    }
   },
   "outputs": [],
   "source": [
    "df_stats = df_stats.rename(columns = {'partida_id': 'ID'})"
   ]
  },
  {
   "cell_type": "code",
   "execution_count": 394,
   "id": "bec05c4d",
   "metadata": {
    "ExecuteTime": {
     "end_time": "2022-03-22T14:14:24.212076Z",
     "start_time": "2022-03-22T14:14:24.196381Z"
    }
   },
   "outputs": [
    {
     "data": {
      "text/html": [
       "<div>\n",
       "<style scoped>\n",
       "    .dataframe tbody tr th:only-of-type {\n",
       "        vertical-align: middle;\n",
       "    }\n",
       "\n",
       "    .dataframe tbody tr th {\n",
       "        vertical-align: top;\n",
       "    }\n",
       "\n",
       "    .dataframe thead th {\n",
       "        text-align: right;\n",
       "    }\n",
       "</style>\n",
       "<table border=\"1\" class=\"dataframe\">\n",
       "  <thead>\n",
       "    <tr style=\"text-align: right;\">\n",
       "      <th></th>\n",
       "      <th>ID</th>\n",
       "      <th>rodada</th>\n",
       "      <th>clube</th>\n",
       "      <th>chutes</th>\n",
       "      <th>chutes_no_alvo</th>\n",
       "      <th>posse_de_bola</th>\n",
       "      <th>passes</th>\n",
       "      <th>precisao_passes</th>\n",
       "      <th>faltas</th>\n",
       "      <th>cartao_amarelo</th>\n",
       "      <th>cartao_vermelho</th>\n",
       "      <th>impedimentos</th>\n",
       "      <th>escanteios</th>\n",
       "    </tr>\n",
       "  </thead>\n",
       "  <tbody>\n",
       "    <tr>\n",
       "      <th>12250</th>\n",
       "      <td>6126</td>\n",
       "      <td>1</td>\n",
       "      <td>Cruzeiro</td>\n",
       "      <td>12</td>\n",
       "      <td>2</td>\n",
       "      <td>0.40</td>\n",
       "      <td>425</td>\n",
       "      <td>0.81</td>\n",
       "      <td>20</td>\n",
       "      <td>3</td>\n",
       "      <td>0</td>\n",
       "      <td>0</td>\n",
       "      <td>7</td>\n",
       "    </tr>\n",
       "    <tr>\n",
       "      <th>12251</th>\n",
       "      <td>6126</td>\n",
       "      <td>1</td>\n",
       "      <td>Gremio</td>\n",
       "      <td>6</td>\n",
       "      <td>2</td>\n",
       "      <td>0.60</td>\n",
       "      <td>649</td>\n",
       "      <td>0.86</td>\n",
       "      <td>15</td>\n",
       "      <td>1</td>\n",
       "      <td>1</td>\n",
       "      <td>3</td>\n",
       "      <td>4</td>\n",
       "    </tr>\n",
       "    <tr>\n",
       "      <th>12252</th>\n",
       "      <td>6127</td>\n",
       "      <td>1</td>\n",
       "      <td>Vitoria</td>\n",
       "      <td>21</td>\n",
       "      <td>6</td>\n",
       "      <td>0.66</td>\n",
       "      <td>545</td>\n",
       "      <td>0.88</td>\n",
       "      <td>24</td>\n",
       "      <td>3</td>\n",
       "      <td>0</td>\n",
       "      <td>2</td>\n",
       "      <td>4</td>\n",
       "    </tr>\n",
       "    <tr>\n",
       "      <th>12253</th>\n",
       "      <td>6127</td>\n",
       "      <td>1</td>\n",
       "      <td>Flamengo</td>\n",
       "      <td>10</td>\n",
       "      <td>5</td>\n",
       "      <td>0.34</td>\n",
       "      <td>286</td>\n",
       "      <td>0.72</td>\n",
       "      <td>10</td>\n",
       "      <td>2</td>\n",
       "      <td>1</td>\n",
       "      <td>2</td>\n",
       "      <td>5</td>\n",
       "    </tr>\n",
       "    <tr>\n",
       "      <th>12254</th>\n",
       "      <td>6128</td>\n",
       "      <td>1</td>\n",
       "      <td>Santos</td>\n",
       "      <td>22</td>\n",
       "      <td>3</td>\n",
       "      <td>0.54</td>\n",
       "      <td>532</td>\n",
       "      <td>0.90</td>\n",
       "      <td>7</td>\n",
       "      <td>0</td>\n",
       "      <td>0</td>\n",
       "      <td>1</td>\n",
       "      <td>4</td>\n",
       "    </tr>\n",
       "    <tr>\n",
       "      <th>...</th>\n",
       "      <td>...</td>\n",
       "      <td>...</td>\n",
       "      <td>...</td>\n",
       "      <td>...</td>\n",
       "      <td>...</td>\n",
       "      <td>...</td>\n",
       "      <td>...</td>\n",
       "      <td>...</td>\n",
       "      <td>...</td>\n",
       "      <td>...</td>\n",
       "      <td>...</td>\n",
       "      <td>...</td>\n",
       "      <td>...</td>\n",
       "    </tr>\n",
       "    <tr>\n",
       "      <th>15285</th>\n",
       "      <td>7643</td>\n",
       "      <td>38</td>\n",
       "      <td>Corinthians</td>\n",
       "      <td>1</td>\n",
       "      <td>1</td>\n",
       "      <td>0.56</td>\n",
       "      <td>519</td>\n",
       "      <td>0.85</td>\n",
       "      <td>22</td>\n",
       "      <td>2</td>\n",
       "      <td>1</td>\n",
       "      <td>0</td>\n",
       "      <td>4</td>\n",
       "    </tr>\n",
       "    <tr>\n",
       "      <th>15286</th>\n",
       "      <td>7644</td>\n",
       "      <td>38</td>\n",
       "      <td>Gremio</td>\n",
       "      <td>7</td>\n",
       "      <td>4</td>\n",
       "      <td>0.37</td>\n",
       "      <td>328</td>\n",
       "      <td>0.83</td>\n",
       "      <td>15</td>\n",
       "      <td>3</td>\n",
       "      <td>0</td>\n",
       "      <td>1</td>\n",
       "      <td>3</td>\n",
       "    </tr>\n",
       "    <tr>\n",
       "      <th>15287</th>\n",
       "      <td>7644</td>\n",
       "      <td>38</td>\n",
       "      <td>Atletico-MG</td>\n",
       "      <td>13</td>\n",
       "      <td>7</td>\n",
       "      <td>0.63</td>\n",
       "      <td>548</td>\n",
       "      <td>0.88</td>\n",
       "      <td>11</td>\n",
       "      <td>1</td>\n",
       "      <td>0</td>\n",
       "      <td>0</td>\n",
       "      <td>9</td>\n",
       "    </tr>\n",
       "    <tr>\n",
       "      <th>15288</th>\n",
       "      <td>7645</td>\n",
       "      <td>38</td>\n",
       "      <td>Santos</td>\n",
       "      <td>13</td>\n",
       "      <td>5</td>\n",
       "      <td>0.62</td>\n",
       "      <td>513</td>\n",
       "      <td>0.84</td>\n",
       "      <td>17</td>\n",
       "      <td>1</td>\n",
       "      <td>0</td>\n",
       "      <td>0</td>\n",
       "      <td>6</td>\n",
       "    </tr>\n",
       "    <tr>\n",
       "      <th>15289</th>\n",
       "      <td>7645</td>\n",
       "      <td>38</td>\n",
       "      <td>Cuiaba</td>\n",
       "      <td>8</td>\n",
       "      <td>3</td>\n",
       "      <td>0.38</td>\n",
       "      <td>321</td>\n",
       "      <td>0.72</td>\n",
       "      <td>15</td>\n",
       "      <td>2</td>\n",
       "      <td>0</td>\n",
       "      <td>1</td>\n",
       "      <td>4</td>\n",
       "    </tr>\n",
       "  </tbody>\n",
       "</table>\n",
       "<p>2992 rows × 13 columns</p>\n",
       "</div>"
      ],
      "text/plain": [
       "         ID  rodada        clube  chutes  chutes_no_alvo  posse_de_bola  \\\n",
       "12250  6126       1     Cruzeiro      12               2           0.40   \n",
       "12251  6126       1       Gremio       6               2           0.60   \n",
       "12252  6127       1      Vitoria      21               6           0.66   \n",
       "12253  6127       1     Flamengo      10               5           0.34   \n",
       "12254  6128       1       Santos      22               3           0.54   \n",
       "...     ...     ...          ...     ...             ...            ...   \n",
       "15285  7643      38  Corinthians       1               1           0.56   \n",
       "15286  7644      38       Gremio       7               4           0.37   \n",
       "15287  7644      38  Atletico-MG      13               7           0.63   \n",
       "15288  7645      38       Santos      13               5           0.62   \n",
       "15289  7645      38       Cuiaba       8               3           0.38   \n",
       "\n",
       "       passes  precisao_passes  faltas  cartao_amarelo  cartao_vermelho  \\\n",
       "12250     425             0.81      20               3                0   \n",
       "12251     649             0.86      15               1                1   \n",
       "12252     545             0.88      24               3                0   \n",
       "12253     286             0.72      10               2                1   \n",
       "12254     532             0.90       7               0                0   \n",
       "...       ...              ...     ...             ...              ...   \n",
       "15285     519             0.85      22               2                1   \n",
       "15286     328             0.83      15               3                0   \n",
       "15287     548             0.88      11               1                0   \n",
       "15288     513             0.84      17               1                0   \n",
       "15289     321             0.72      15               2                0   \n",
       "\n",
       "       impedimentos  escanteios  \n",
       "12250             0           7  \n",
       "12251             3           4  \n",
       "12252             2           4  \n",
       "12253             2           5  \n",
       "12254             1           4  \n",
       "...             ...         ...  \n",
       "15285             0           4  \n",
       "15286             1           3  \n",
       "15287             0           9  \n",
       "15288             0           6  \n",
       "15289             1           4  \n",
       "\n",
       "[2992 rows x 13 columns]"
      ]
     },
     "execution_count": 394,
     "metadata": {},
     "output_type": "execute_result"
    }
   ],
   "source": [
    "df_stats"
   ]
  },
  {
   "cell_type": "code",
   "execution_count": 395,
   "id": "2e933065",
   "metadata": {
    "ExecuteTime": {
     "end_time": "2022-03-22T14:14:25.227131Z",
     "start_time": "2022-03-22T14:14:25.221151Z"
    }
   },
   "outputs": [],
   "source": [
    "df_stats = pd.merge(df_stats, df_full[['data']], on='ID')"
   ]
  },
  {
   "cell_type": "code",
   "execution_count": 396,
   "id": "b81883ac",
   "metadata": {
    "ExecuteTime": {
     "end_time": "2022-03-22T14:14:26.112466Z",
     "start_time": "2022-03-22T14:14:26.108473Z"
    }
   },
   "outputs": [
    {
     "data": {
      "text/plain": [
       "['ID',\n",
       " 'rodada',\n",
       " 'clube',\n",
       " 'chutes',\n",
       " 'chutes_no_alvo',\n",
       " 'posse_de_bola',\n",
       " 'passes',\n",
       " 'precisao_passes',\n",
       " 'faltas',\n",
       " 'cartao_amarelo',\n",
       " 'cartao_vermelho',\n",
       " 'impedimentos',\n",
       " 'escanteios',\n",
       " 'data']"
      ]
     },
     "execution_count": 396,
     "metadata": {},
     "output_type": "execute_result"
    }
   ],
   "source": [
    "df_stats.columns.tolist()"
   ]
  },
  {
   "cell_type": "code",
   "execution_count": 397,
   "id": "2969fb66",
   "metadata": {
    "ExecuteTime": {
     "end_time": "2022-03-22T14:14:27.340577Z",
     "start_time": "2022-03-22T14:14:27.333874Z"
    }
   },
   "outputs": [
    {
     "data": {
      "text/plain": [
       "['ID',\n",
       " 'data',\n",
       " 'rodada',\n",
       " 'clube',\n",
       " 'chutes',\n",
       " 'chutes_no_alvo',\n",
       " 'posse_de_bola',\n",
       " 'passes',\n",
       " 'precisao_passes',\n",
       " 'faltas',\n",
       " 'cartao_amarelo',\n",
       " 'cartao_vermelho',\n",
       " 'impedimentos',\n",
       " 'escanteios']"
      ]
     },
     "execution_count": 397,
     "metadata": {},
     "output_type": "execute_result"
    }
   ],
   "source": [
    "['ID', 'data', 'rodada', 'clube', 'chutes', 'chutes_no_alvo', 'posse_de_bola', 'passes', 'precisao_passes', 'faltas', 'cartao_amarelo',\n",
    " 'cartao_vermelho', 'impedimentos', 'escanteios']"
   ]
  },
  {
   "cell_type": "code",
   "execution_count": 398,
   "id": "88de0063",
   "metadata": {
    "ExecuteTime": {
     "end_time": "2022-03-22T14:14:28.004428Z",
     "start_time": "2022-03-22T14:14:27.994368Z"
    }
   },
   "outputs": [],
   "source": [
    "df_stats = df_stats[['ID', 'data', 'rodada', 'clube', 'chutes', 'chutes_no_alvo', 'posse_de_bola', 'passes', 'precisao_passes', 'faltas', 'cartao_amarelo',\n",
    " 'cartao_vermelho', 'impedimentos', 'escanteios']]"
   ]
  },
  {
   "cell_type": "code",
   "execution_count": 399,
   "id": "10cc4592",
   "metadata": {
    "ExecuteTime": {
     "end_time": "2022-03-22T14:14:29.787264Z",
     "start_time": "2022-03-22T14:14:29.784113Z"
    }
   },
   "outputs": [],
   "source": [
    "df_stats = df_stats.reset_index(drop=True)"
   ]
  },
  {
   "cell_type": "code",
   "execution_count": 400,
   "id": "769b5bd8",
   "metadata": {
    "ExecuteTime": {
     "end_time": "2022-03-22T14:14:30.579830Z",
     "start_time": "2022-03-22T14:14:30.570152Z"
    }
   },
   "outputs": [
    {
     "data": {
      "text/plain": [
       "ID                 0\n",
       "data               0\n",
       "rodada             0\n",
       "clube              0\n",
       "chutes             0\n",
       "chutes_no_alvo     0\n",
       "posse_de_bola      0\n",
       "passes             0\n",
       "precisao_passes    0\n",
       "faltas             0\n",
       "cartao_amarelo     0\n",
       "cartao_vermelho    0\n",
       "impedimentos       0\n",
       "escanteios         0\n",
       "dtype: int64"
      ]
     },
     "execution_count": 400,
     "metadata": {},
     "output_type": "execute_result"
    }
   ],
   "source": [
    "df_stats.isna().sum()"
   ]
  },
  {
   "cell_type": "code",
   "execution_count": 91,
   "id": "b65131ab",
   "metadata": {
    "ExecuteTime": {
     "end_time": "2022-03-22T11:48:06.177969Z",
     "start_time": "2022-03-22T11:48:06.156620Z"
    }
   },
   "outputs": [
    {
     "data": {
      "text/html": [
       "<div>\n",
       "<style scoped>\n",
       "    .dataframe tbody tr th:only-of-type {\n",
       "        vertical-align: middle;\n",
       "    }\n",
       "\n",
       "    .dataframe tbody tr th {\n",
       "        vertical-align: top;\n",
       "    }\n",
       "\n",
       "    .dataframe thead th {\n",
       "        text-align: right;\n",
       "    }\n",
       "</style>\n",
       "<table border=\"1\" class=\"dataframe\">\n",
       "  <thead>\n",
       "    <tr style=\"text-align: right;\">\n",
       "      <th></th>\n",
       "      <th>chutes</th>\n",
       "      <th>chutes_no_alvo</th>\n",
       "      <th>posse_de_bola</th>\n",
       "      <th>passes</th>\n",
       "      <th>precisao_passes</th>\n",
       "      <th>faltas</th>\n",
       "      <th>cartao_amarelo</th>\n",
       "      <th>cartao_vermelho</th>\n",
       "      <th>impedimentos</th>\n",
       "      <th>escanteios</th>\n",
       "    </tr>\n",
       "    <tr>\n",
       "      <th>clube</th>\n",
       "      <th></th>\n",
       "      <th></th>\n",
       "      <th></th>\n",
       "      <th></th>\n",
       "      <th></th>\n",
       "      <th></th>\n",
       "      <th></th>\n",
       "      <th></th>\n",
       "      <th></th>\n",
       "      <th></th>\n",
       "    </tr>\n",
       "  </thead>\n",
       "  <tbody>\n",
       "    <tr>\n",
       "      <th>America-MG</th>\n",
       "      <td>12.973684</td>\n",
       "      <td>3.842105</td>\n",
       "      <td>0.472895</td>\n",
       "      <td>401.973684</td>\n",
       "      <td>0.780789</td>\n",
       "      <td>14.934211</td>\n",
       "      <td>1.921053</td>\n",
       "      <td>0.118421</td>\n",
       "      <td>1.684211</td>\n",
       "      <td>4.763158</td>\n",
       "    </tr>\n",
       "    <tr>\n",
       "      <th>Athletico-PR</th>\n",
       "      <td>13.045455</td>\n",
       "      <td>4.295455</td>\n",
       "      <td>0.531894</td>\n",
       "      <td>460.977273</td>\n",
       "      <td>0.828030</td>\n",
       "      <td>15.871212</td>\n",
       "      <td>2.196970</td>\n",
       "      <td>0.090909</td>\n",
       "      <td>1.446970</td>\n",
       "      <td>5.098485</td>\n",
       "    </tr>\n",
       "    <tr>\n",
       "      <th>Atletico-GO</th>\n",
       "      <td>11.421053</td>\n",
       "      <td>3.500000</td>\n",
       "      <td>0.480395</td>\n",
       "      <td>391.815789</td>\n",
       "      <td>0.790000</td>\n",
       "      <td>14.828947</td>\n",
       "      <td>2.223684</td>\n",
       "      <td>0.092105</td>\n",
       "      <td>1.342105</td>\n",
       "      <td>5.644737</td>\n",
       "    </tr>\n",
       "    <tr>\n",
       "      <th>Atletico-MG</th>\n",
       "      <td>15.189189</td>\n",
       "      <td>5.040541</td>\n",
       "      <td>0.559122</td>\n",
       "      <td>497.108108</td>\n",
       "      <td>0.831622</td>\n",
       "      <td>14.871622</td>\n",
       "      <td>1.939189</td>\n",
       "      <td>0.087838</td>\n",
       "      <td>1.527027</td>\n",
       "      <td>6.324324</td>\n",
       "    </tr>\n",
       "    <tr>\n",
       "      <th>Avai</th>\n",
       "      <td>12.305556</td>\n",
       "      <td>3.055556</td>\n",
       "      <td>0.465556</td>\n",
       "      <td>392.083333</td>\n",
       "      <td>0.773889</td>\n",
       "      <td>15.277778</td>\n",
       "      <td>2.055556</td>\n",
       "      <td>0.277778</td>\n",
       "      <td>1.222222</td>\n",
       "      <td>4.888889</td>\n",
       "    </tr>\n",
       "  </tbody>\n",
       "</table>\n",
       "</div>"
      ],
      "text/plain": [
       "                 chutes  chutes_no_alvo  posse_de_bola      passes  \\\n",
       "clube                                                                \n",
       "America-MG    12.973684        3.842105       0.472895  401.973684   \n",
       "Athletico-PR  13.045455        4.295455       0.531894  460.977273   \n",
       "Atletico-GO   11.421053        3.500000       0.480395  391.815789   \n",
       "Atletico-MG   15.189189        5.040541       0.559122  497.108108   \n",
       "Avai          12.305556        3.055556       0.465556  392.083333   \n",
       "\n",
       "              precisao_passes     faltas  cartao_amarelo  cartao_vermelho  \\\n",
       "clube                                                                       \n",
       "America-MG           0.780789  14.934211        1.921053         0.118421   \n",
       "Athletico-PR         0.828030  15.871212        2.196970         0.090909   \n",
       "Atletico-GO          0.790000  14.828947        2.223684         0.092105   \n",
       "Atletico-MG          0.831622  14.871622        1.939189         0.087838   \n",
       "Avai                 0.773889  15.277778        2.055556         0.277778   \n",
       "\n",
       "              impedimentos  escanteios  \n",
       "clube                                   \n",
       "America-MG        1.684211    4.763158  \n",
       "Athletico-PR      1.446970    5.098485  \n",
       "Atletico-GO       1.342105    5.644737  \n",
       "Atletico-MG       1.527027    6.324324  \n",
       "Avai              1.222222    4.888889  "
      ]
     },
     "execution_count": 91,
     "metadata": {},
     "output_type": "execute_result"
    }
   ],
   "source": [
    "df_stats_clube = df_stats.groupby('clube').mean()\n",
    "df_stats_clube = df_stats_clube.drop(['ID', 'rodada'], axis = 1)\n",
    "df_stats_clube.head()"
   ]
  },
  {
   "cell_type": "markdown",
   "id": "3ea26c4b",
   "metadata": {},
   "source": [
    "## 1.4 Goals "
   ]
  },
  {
   "cell_type": "code",
   "execution_count": 21,
   "id": "4cf8c1cb",
   "metadata": {
    "ExecuteTime": {
     "end_time": "2022-03-21T13:51:55.795677Z",
     "start_time": "2022-03-21T13:51:55.763730Z"
    }
   },
   "outputs": [
    {
     "data": {
      "text/html": [
       "<div>\n",
       "<style scoped>\n",
       "    .dataframe tbody tr th:only-of-type {\n",
       "        vertical-align: middle;\n",
       "    }\n",
       "\n",
       "    .dataframe tbody tr th {\n",
       "        vertical-align: top;\n",
       "    }\n",
       "\n",
       "    .dataframe thead th {\n",
       "        text-align: right;\n",
       "    }\n",
       "</style>\n",
       "<table border=\"1\" class=\"dataframe\">\n",
       "  <thead>\n",
       "    <tr style=\"text-align: right;\">\n",
       "      <th></th>\n",
       "      <th>partida_id</th>\n",
       "      <th>rodada</th>\n",
       "      <th>clube</th>\n",
       "      <th>atleta</th>\n",
       "      <th>minuto</th>\n",
       "    </tr>\n",
       "  </thead>\n",
       "  <tbody>\n",
       "    <tr>\n",
       "      <th>0</th>\n",
       "      <td>4607</td>\n",
       "      <td>1</td>\n",
       "      <td>Fluminense</td>\n",
       "      <td>Rafael Sóbis</td>\n",
       "      <td>31</td>\n",
       "    </tr>\n",
       "    <tr>\n",
       "      <th>1</th>\n",
       "      <td>4607</td>\n",
       "      <td>1</td>\n",
       "      <td>Fluminense</td>\n",
       "      <td>Fred</td>\n",
       "      <td>45</td>\n",
       "    </tr>\n",
       "    <tr>\n",
       "      <th>2</th>\n",
       "      <td>4607</td>\n",
       "      <td>1</td>\n",
       "      <td>Fluminense</td>\n",
       "      <td>Nirley da Silva Fonseca</td>\n",
       "      <td>59</td>\n",
       "    </tr>\n",
       "    <tr>\n",
       "      <th>3</th>\n",
       "      <td>4608</td>\n",
       "      <td>1</td>\n",
       "      <td>Internacional</td>\n",
       "      <td>Charles Aránguiz</td>\n",
       "      <td>6</td>\n",
       "    </tr>\n",
       "    <tr>\n",
       "      <th>4</th>\n",
       "      <td>4610</td>\n",
       "      <td>1</td>\n",
       "      <td>Athletico-PR</td>\n",
       "      <td>Dráusio Luis Salla Gil</td>\n",
       "      <td>16</td>\n",
       "    </tr>\n",
       "  </tbody>\n",
       "</table>\n",
       "</div>"
      ],
      "text/plain": [
       "   partida_id  rodada          clube                   atleta minuto\n",
       "0        4607       1     Fluminense             Rafael Sóbis     31\n",
       "1        4607       1     Fluminense                     Fred     45\n",
       "2        4607       1     Fluminense  Nirley da Silva Fonseca     59\n",
       "3        4608       1  Internacional         Charles Aránguiz      6\n",
       "4        4610       1   Athletico-PR   Dráusio Luis Salla Gil     16"
      ]
     },
     "execution_count": 21,
     "metadata": {},
     "output_type": "execute_result"
    }
   ],
   "source": [
    "df_goals = pd.read_csv(data_path + goals)\n",
    "df_goals.head()"
   ]
  },
  {
   "cell_type": "code",
   "execution_count": 22,
   "id": "6aeb961e",
   "metadata": {
    "ExecuteTime": {
     "end_time": "2022-03-21T13:51:59.148263Z",
     "start_time": "2022-03-21T13:51:59.141743Z"
    }
   },
   "outputs": [],
   "source": [
    "df_goals['gol'] = 1"
   ]
  },
  {
   "cell_type": "code",
   "execution_count": 23,
   "id": "cf117cb0",
   "metadata": {
    "ExecuteTime": {
     "end_time": "2022-03-21T13:51:59.752959Z",
     "start_time": "2022-03-21T13:51:59.728397Z"
    }
   },
   "outputs": [
    {
     "data": {
      "text/html": [
       "<div>\n",
       "<style scoped>\n",
       "    .dataframe tbody tr th:only-of-type {\n",
       "        vertical-align: middle;\n",
       "    }\n",
       "\n",
       "    .dataframe tbody tr th {\n",
       "        vertical-align: top;\n",
       "    }\n",
       "\n",
       "    .dataframe thead th {\n",
       "        text-align: right;\n",
       "    }\n",
       "</style>\n",
       "<table border=\"1\" class=\"dataframe\">\n",
       "  <thead>\n",
       "    <tr style=\"text-align: right;\">\n",
       "      <th></th>\n",
       "      <th>partida_id</th>\n",
       "      <th>rodada</th>\n",
       "      <th>clube</th>\n",
       "      <th>atleta</th>\n",
       "      <th>minuto</th>\n",
       "      <th>gol</th>\n",
       "    </tr>\n",
       "  </thead>\n",
       "  <tbody>\n",
       "    <tr>\n",
       "      <th>0</th>\n",
       "      <td>4607</td>\n",
       "      <td>1</td>\n",
       "      <td>Fluminense</td>\n",
       "      <td>Rafael Sóbis</td>\n",
       "      <td>31</td>\n",
       "      <td>1</td>\n",
       "    </tr>\n",
       "    <tr>\n",
       "      <th>1</th>\n",
       "      <td>4607</td>\n",
       "      <td>1</td>\n",
       "      <td>Fluminense</td>\n",
       "      <td>Fred</td>\n",
       "      <td>45</td>\n",
       "      <td>1</td>\n",
       "    </tr>\n",
       "    <tr>\n",
       "      <th>2</th>\n",
       "      <td>4607</td>\n",
       "      <td>1</td>\n",
       "      <td>Fluminense</td>\n",
       "      <td>Nirley da Silva Fonseca</td>\n",
       "      <td>59</td>\n",
       "      <td>1</td>\n",
       "    </tr>\n",
       "    <tr>\n",
       "      <th>3</th>\n",
       "      <td>4608</td>\n",
       "      <td>1</td>\n",
       "      <td>Internacional</td>\n",
       "      <td>Charles Aránguiz</td>\n",
       "      <td>6</td>\n",
       "      <td>1</td>\n",
       "    </tr>\n",
       "    <tr>\n",
       "      <th>4</th>\n",
       "      <td>4610</td>\n",
       "      <td>1</td>\n",
       "      <td>Athletico-PR</td>\n",
       "      <td>Dráusio Luis Salla Gil</td>\n",
       "      <td>16</td>\n",
       "      <td>1</td>\n",
       "    </tr>\n",
       "  </tbody>\n",
       "</table>\n",
       "</div>"
      ],
      "text/plain": [
       "   partida_id  rodada          clube                   atleta minuto  gol\n",
       "0        4607       1     Fluminense             Rafael Sóbis     31    1\n",
       "1        4607       1     Fluminense                     Fred     45    1\n",
       "2        4607       1     Fluminense  Nirley da Silva Fonseca     59    1\n",
       "3        4608       1  Internacional         Charles Aránguiz      6    1\n",
       "4        4610       1   Athletico-PR   Dráusio Luis Salla Gil     16    1"
      ]
     },
     "execution_count": 23,
     "metadata": {},
     "output_type": "execute_result"
    }
   ],
   "source": [
    "df_goals.head()"
   ]
  },
  {
   "cell_type": "code",
   "execution_count": 24,
   "id": "0c0d707f",
   "metadata": {
    "ExecuteTime": {
     "end_time": "2022-03-21T13:52:09.064811Z",
     "start_time": "2022-03-21T13:52:09.051081Z"
    }
   },
   "outputs": [
    {
     "data": {
      "text/plain": [
       "(7081, 6)"
      ]
     },
     "execution_count": 24,
     "metadata": {},
     "output_type": "execute_result"
    }
   ],
   "source": [
    "df_goals.shape"
   ]
  },
  {
   "cell_type": "code",
   "execution_count": 25,
   "id": "2ddaeda9",
   "metadata": {
    "ExecuteTime": {
     "end_time": "2022-03-21T13:52:09.352970Z",
     "start_time": "2022-03-21T13:52:09.330118Z"
    }
   },
   "outputs": [
    {
     "name": "stdout",
     "output_type": "stream",
     "text": [
      "% of NaN\n"
     ]
    },
    {
     "data": {
      "text/plain": [
       "partida_id    0.0\n",
       "rodada        0.0\n",
       "clube         0.0\n",
       "atleta        0.0\n",
       "minuto        0.0\n",
       "gol           0.0\n",
       "dtype: float64"
      ]
     },
     "execution_count": 25,
     "metadata": {},
     "output_type": "execute_result"
    }
   ],
   "source": [
    "print('% of NaN')\n",
    "df_goals.isna().sum()/df_goals.shape[0]"
   ]
  },
  {
   "cell_type": "markdown",
   "id": "9e0298f5",
   "metadata": {},
   "source": [
    "## 1.5 Legend"
   ]
  },
  {
   "cell_type": "markdown",
   "id": "8830e31e",
   "metadata": {},
   "source": [
    "**Legenda - campeonato-brasileiro-full.csv**\n",
    "- ID : ID da partida\n",
    "- Rodada : Rodada que aconteceu a partida\n",
    "- Data : Data que ocorreu a partida\n",
    "- Horário :  Horário que ocorreu a partida\n",
    "- Dia : Dia da semana que ocorreu a partida\n",
    "- Mandante : Clube mandante                      \n",
    "- Visitante : Clube Visitante\n",
    "- formacao_mandante: Formação do mandante\n",
    "- formacao_visitante: Formação do visitante\n",
    "- tecnico_mandante: Técnico do mandante\n",
    "- tecnico_visitante: Técnico do visitante\n",
    "- Vencedor : Clube vencedor da partida. Quando tiver \"-\", é um empate\n",
    "- Arena : Arena que ocorreu a partida                      \n",
    "- Mandante Placar : Gols que o clube mandante fez na partida                      \n",
    "- Visitante Placar : Gols que o clube visitante fez na partida                      \n",
    "- Estado Mandante : Estado do clube mandatorio                      \n",
    "- Estado Visitante : Estado do clube visitante                      \n",
    "- Estado Vencedor : Estado do clube vencedor. Quando tiver \"-\", é um empate\n",
    "\n",
    "\n",
    "**Legenda - campeonato-brasileiro-estatisticas-full.csv**\n",
    "- partida_ID - ID da partida\n",
    "- Rodada - Rodada da partida\n",
    "- Clube - Nome do clube\n",
    "- Chutes - Finalizações\n",
    "- Chutes a gol - Finalizações na direção do gol\n",
    "- Posse de bola - Percentual da posse de bola\n",
    "- Passes - Quantidade de passes que o clube deu na partida\n",
    "- precisao_passes - Percentual da precisão de passe\n",
    "- Faltas - Quantidade de faltas cometidas na partida\n",
    "- cartao_amarelo - Quantidade de cartões amarelos para o clube na partida\n",
    "- cartao_vermelho - Quantidade de cartões vermelhos para o clube na partida\n",
    "- Impedimentos - Quantidade de impedimentos para o clube na partida\n",
    "- Escanteios - Quantidade de escanteios para o clube na partida\n",
    "\n",
    "\n",
    "**Legenda - campeonato-brasileiro-gols.csv**\n",
    "- partida_ID - ID da partida\n",
    "- Rodada - Rodada da partida\n",
    "- Clube - Nome do clube\n",
    "- Atleta - Nome do atleta que fez o gol\n",
    "- Minuto - Minuto na partida em que o gol foi marcado\n",
    "\n",
    "\n",
    "**Legenda - campeonato-brasileiro-cartoes.csv**\n",
    "- partida_ID - ID da partida\n",
    "- Rodada - Rodada da partida\n",
    "- Clube - Nome do clube\n",
    "- Cartao - Cor do cartão aplicado\n",
    "- Atleta - Nome do atleta punido pelo cartão\n",
    "- num_camisa - Número da camisa do atleta\n",
    "- Posicao - Posição na partida em que o atleta se encontra\n",
    "- Minuto - Minuto na partida em que o cartão foi aplicado"
   ]
  },
  {
   "cell_type": "markdown",
   "id": "57170f8e",
   "metadata": {},
   "source": [
    "## 1.6 Filtering seasons"
   ]
  },
  {
   "cell_type": "markdown",
   "id": "ac1e3cf2",
   "metadata": {},
   "source": [
    "### 1.6.1 Selecting recent games (5 years) "
   ]
  },
  {
   "cell_type": "code",
   "execution_count": 153,
   "id": "17ee2bf1",
   "metadata": {
    "ExecuteTime": {
     "end_time": "2022-03-22T13:01:51.233385Z",
     "start_time": "2022-03-22T13:01:51.219955Z"
    }
   },
   "outputs": [],
   "source": [
    "df_full_recent = df_full[df_full['data'] > '2019-01-01'].reset_index(drop=True)\n",
    "df_stats_recent = df_stats[df_stats['data'] > '2019-01-01'].reset_index(drop=True)"
   ]
  },
  {
   "cell_type": "code",
   "execution_count": 154,
   "id": "20ed31df",
   "metadata": {
    "ExecuteTime": {
     "end_time": "2022-03-22T13:01:51.911292Z",
     "start_time": "2022-03-22T13:01:51.882732Z"
    }
   },
   "outputs": [
    {
     "data": {
      "text/html": [
       "<div>\n",
       "<style scoped>\n",
       "    .dataframe tbody tr th:only-of-type {\n",
       "        vertical-align: middle;\n",
       "    }\n",
       "\n",
       "    .dataframe tbody tr th {\n",
       "        vertical-align: top;\n",
       "    }\n",
       "\n",
       "    .dataframe thead th {\n",
       "        text-align: right;\n",
       "    }\n",
       "</style>\n",
       "<table border=\"1\" class=\"dataframe\">\n",
       "  <thead>\n",
       "    <tr style=\"text-align: right;\">\n",
       "      <th></th>\n",
       "      <th>ID</th>\n",
       "      <th>rodada</th>\n",
       "      <th>data</th>\n",
       "      <th>hora</th>\n",
       "      <th>dia</th>\n",
       "      <th>mandante</th>\n",
       "      <th>visitante</th>\n",
       "      <th>formacao_mandante</th>\n",
       "      <th>formacao_visitante</th>\n",
       "      <th>tecnico_mandante</th>\n",
       "      <th>...</th>\n",
       "      <th>arena</th>\n",
       "      <th>mandante_placar</th>\n",
       "      <th>visitante_placar</th>\n",
       "      <th>mandante_estado</th>\n",
       "      <th>visitante_estado</th>\n",
       "      <th>estado_vencedor</th>\n",
       "      <th>mandante_venceu_ultima</th>\n",
       "      <th>visitante_venceu_ultima</th>\n",
       "      <th>n_gols_mandante_ultima</th>\n",
       "      <th>n_gols_visitante_ultima</th>\n",
       "    </tr>\n",
       "  </thead>\n",
       "  <tbody>\n",
       "    <tr>\n",
       "      <th>0</th>\n",
       "      <td>6506</td>\n",
       "      <td>1</td>\n",
       "      <td>2019-04-27</td>\n",
       "      <td>16:02</td>\n",
       "      <td>Sabado</td>\n",
       "      <td>Sao Paulo</td>\n",
       "      <td>Botafogo-RJ</td>\n",
       "      <td>4-2-3-1</td>\n",
       "      <td>4-1-4-1</td>\n",
       "      <td>E. de Souza Barroca</td>\n",
       "      <td>...</td>\n",
       "      <td>morumbi</td>\n",
       "      <td>2</td>\n",
       "      <td>0</td>\n",
       "      <td>SP</td>\n",
       "      <td>RJ</td>\n",
       "      <td>SP</td>\n",
       "      <td>0</td>\n",
       "      <td>0</td>\n",
       "      <td>0</td>\n",
       "      <td>0</td>\n",
       "    </tr>\n",
       "    <tr>\n",
       "      <th>1</th>\n",
       "      <td>6507</td>\n",
       "      <td>1</td>\n",
       "      <td>2019-04-27</td>\n",
       "      <td>19:00</td>\n",
       "      <td>Sabado</td>\n",
       "      <td>Atletico-MG</td>\n",
       "      <td>Avai</td>\n",
       "      <td>4-2-3-1</td>\n",
       "      <td>4-1-4-1</td>\n",
       "      <td>E. Machado Souto</td>\n",
       "      <td>...</td>\n",
       "      <td>estadio raimundo sampaio</td>\n",
       "      <td>2</td>\n",
       "      <td>1</td>\n",
       "      <td>MG</td>\n",
       "      <td>SC</td>\n",
       "      <td>MG</td>\n",
       "      <td>0</td>\n",
       "      <td>0</td>\n",
       "      <td>0</td>\n",
       "      <td>0</td>\n",
       "    </tr>\n",
       "    <tr>\n",
       "      <th>2</th>\n",
       "      <td>6508</td>\n",
       "      <td>1</td>\n",
       "      <td>2019-04-27</td>\n",
       "      <td>19:01</td>\n",
       "      <td>Sabado</td>\n",
       "      <td>Chapecoense</td>\n",
       "      <td>Internacional</td>\n",
       "      <td>4-2-3-1</td>\n",
       "      <td>4-3-3</td>\n",
       "      <td>O. Hellmann</td>\n",
       "      <td>...</td>\n",
       "      <td>arena conda</td>\n",
       "      <td>2</td>\n",
       "      <td>0</td>\n",
       "      <td>SC</td>\n",
       "      <td>RS</td>\n",
       "      <td>SC</td>\n",
       "      <td>0</td>\n",
       "      <td>0</td>\n",
       "      <td>0</td>\n",
       "      <td>0</td>\n",
       "    </tr>\n",
       "    <tr>\n",
       "      <th>3</th>\n",
       "      <td>6509</td>\n",
       "      <td>1</td>\n",
       "      <td>2019-04-27</td>\n",
       "      <td>21:00</td>\n",
       "      <td>Sabado</td>\n",
       "      <td>Flamengo</td>\n",
       "      <td>Cruzeiro</td>\n",
       "      <td>4-2-3-1</td>\n",
       "      <td>4-2-3-1</td>\n",
       "      <td>L. Venker de Menezes</td>\n",
       "      <td>...</td>\n",
       "      <td>maracana</td>\n",
       "      <td>3</td>\n",
       "      <td>1</td>\n",
       "      <td>RJ</td>\n",
       "      <td>MG</td>\n",
       "      <td>RJ</td>\n",
       "      <td>0</td>\n",
       "      <td>0</td>\n",
       "      <td>0</td>\n",
       "      <td>0</td>\n",
       "    </tr>\n",
       "    <tr>\n",
       "      <th>4</th>\n",
       "      <td>6510</td>\n",
       "      <td>1</td>\n",
       "      <td>2019-04-28</td>\n",
       "      <td>11:03</td>\n",
       "      <td>Domingo</td>\n",
       "      <td>Gremio</td>\n",
       "      <td>Santos</td>\n",
       "      <td>4-2-3-1</td>\n",
       "      <td>3-4-1-2</td>\n",
       "      <td>J. Sampaoli Moya</td>\n",
       "      <td>...</td>\n",
       "      <td>arena do gremio</td>\n",
       "      <td>1</td>\n",
       "      <td>2</td>\n",
       "      <td>RS</td>\n",
       "      <td>SP</td>\n",
       "      <td>SP</td>\n",
       "      <td>0</td>\n",
       "      <td>0</td>\n",
       "      <td>0</td>\n",
       "      <td>0</td>\n",
       "    </tr>\n",
       "  </tbody>\n",
       "</table>\n",
       "<p>5 rows × 22 columns</p>\n",
       "</div>"
      ],
      "text/plain": [
       "     ID  rodada       data   hora      dia     mandante      visitante  \\\n",
       "0  6506       1 2019-04-27  16:02   Sabado    Sao Paulo    Botafogo-RJ   \n",
       "1  6507       1 2019-04-27  19:00   Sabado  Atletico-MG           Avai   \n",
       "2  6508       1 2019-04-27  19:01   Sabado  Chapecoense  Internacional   \n",
       "3  6509       1 2019-04-27  21:00   Sabado     Flamengo       Cruzeiro   \n",
       "4  6510       1 2019-04-28  11:03  Domingo       Gremio         Santos   \n",
       "\n",
       "  formacao_mandante formacao_visitante      tecnico_mandante  ...  \\\n",
       "0           4-2-3-1            4-1-4-1   E. de Souza Barroca  ...   \n",
       "1           4-2-3-1            4-1-4-1      E. Machado Souto  ...   \n",
       "2           4-2-3-1              4-3-3           O. Hellmann  ...   \n",
       "3           4-2-3-1            4-2-3-1  L. Venker de Menezes  ...   \n",
       "4           4-2-3-1            3-4-1-2      J. Sampaoli Moya  ...   \n",
       "\n",
       "                      arena mandante_placar visitante_placar  mandante_estado  \\\n",
       "0                   morumbi               2                0               SP   \n",
       "1  estadio raimundo sampaio               2                1               MG   \n",
       "2               arena conda               2                0               SC   \n",
       "3                  maracana               3                1               RJ   \n",
       "4           arena do gremio               1                2               RS   \n",
       "\n",
       "   visitante_estado estado_vencedor mandante_venceu_ultima  \\\n",
       "0                RJ              SP                      0   \n",
       "1                SC              MG                      0   \n",
       "2                RS              SC                      0   \n",
       "3                MG              RJ                      0   \n",
       "4                SP              SP                      0   \n",
       "\n",
       "  visitante_venceu_ultima  n_gols_mandante_ultima  n_gols_visitante_ultima  \n",
       "0                       0                       0                        0  \n",
       "1                       0                       0                        0  \n",
       "2                       0                       0                        0  \n",
       "3                       0                       0                        0  \n",
       "4                       0                       0                        0  \n",
       "\n",
       "[5 rows x 22 columns]"
      ]
     },
     "execution_count": 154,
     "metadata": {},
     "output_type": "execute_result"
    }
   ],
   "source": [
    "df_full_recent.head()"
   ]
  },
  {
   "cell_type": "code",
   "execution_count": 256,
   "id": "1487bfaf",
   "metadata": {
    "ExecuteTime": {
     "end_time": "2022-03-22T13:49:32.062637Z",
     "start_time": "2022-03-22T13:49:32.052503Z"
    }
   },
   "outputs": [
    {
     "data": {
      "text/plain": [
       "ID                         0\n",
       "rodada                     0\n",
       "data                       0\n",
       "hora                       0\n",
       "dia                        0\n",
       "mandante                   0\n",
       "visitante                  0\n",
       "formacao_mandante          0\n",
       "formacao_visitante         0\n",
       "tecnico_mandante           0\n",
       "tecnico_visitante          0\n",
       "vencedor                   0\n",
       "arena                      0\n",
       "mandante_placar            0\n",
       "visitante_placar           0\n",
       "mandante_estado            0\n",
       "visitante_estado           0\n",
       "estado_vencedor            0\n",
       "mandante_venceu_ultima     0\n",
       "visitante_venceu_ultima    0\n",
       "n_gols_mandante_ultima     0\n",
       "n_gols_visitante_ultima    0\n",
       "dtype: int64"
      ]
     },
     "execution_count": 256,
     "metadata": {},
     "output_type": "execute_result"
    }
   ],
   "source": [
    "df_full_recent.isna().sum()"
   ]
  },
  {
   "cell_type": "code",
   "execution_count": 227,
   "id": "aef920be",
   "metadata": {
    "ExecuteTime": {
     "end_time": "2022-03-22T13:37:01.572856Z",
     "start_time": "2022-03-22T13:37:01.558396Z"
    }
   },
   "outputs": [
    {
     "data": {
      "text/html": [
       "<div>\n",
       "<style scoped>\n",
       "    .dataframe tbody tr th:only-of-type {\n",
       "        vertical-align: middle;\n",
       "    }\n",
       "\n",
       "    .dataframe tbody tr th {\n",
       "        vertical-align: top;\n",
       "    }\n",
       "\n",
       "    .dataframe thead th {\n",
       "        text-align: right;\n",
       "    }\n",
       "</style>\n",
       "<table border=\"1\" class=\"dataframe\">\n",
       "  <thead>\n",
       "    <tr style=\"text-align: right;\">\n",
       "      <th></th>\n",
       "      <th>ID</th>\n",
       "      <th>data</th>\n",
       "      <th>rodada</th>\n",
       "      <th>clube</th>\n",
       "      <th>chutes</th>\n",
       "      <th>chutes_no_alvo</th>\n",
       "      <th>posse_de_bola</th>\n",
       "      <th>passes</th>\n",
       "      <th>precisao_passes</th>\n",
       "      <th>faltas</th>\n",
       "      <th>cartao_amarelo</th>\n",
       "      <th>cartao_vermelho</th>\n",
       "      <th>impedimentos</th>\n",
       "      <th>escanteios</th>\n",
       "    </tr>\n",
       "  </thead>\n",
       "  <tbody>\n",
       "    <tr>\n",
       "      <th>0</th>\n",
       "      <td>6506</td>\n",
       "      <td>2019-04-27</td>\n",
       "      <td>1</td>\n",
       "      <td>Sao Paulo</td>\n",
       "      <td>7</td>\n",
       "      <td>4</td>\n",
       "      <td>0.28</td>\n",
       "      <td>269</td>\n",
       "      <td>0.75</td>\n",
       "      <td>23</td>\n",
       "      <td>0</td>\n",
       "      <td>0</td>\n",
       "      <td>2</td>\n",
       "      <td>3</td>\n",
       "    </tr>\n",
       "    <tr>\n",
       "      <th>1</th>\n",
       "      <td>6506</td>\n",
       "      <td>2019-04-27</td>\n",
       "      <td>1</td>\n",
       "      <td>Botafogo-RJ</td>\n",
       "      <td>11</td>\n",
       "      <td>2</td>\n",
       "      <td>0.72</td>\n",
       "      <td>702</td>\n",
       "      <td>0.89</td>\n",
       "      <td>7</td>\n",
       "      <td>4</td>\n",
       "      <td>0</td>\n",
       "      <td>1</td>\n",
       "      <td>2</td>\n",
       "    </tr>\n",
       "    <tr>\n",
       "      <th>2</th>\n",
       "      <td>6507</td>\n",
       "      <td>2019-04-27</td>\n",
       "      <td>1</td>\n",
       "      <td>Atletico-MG</td>\n",
       "      <td>11</td>\n",
       "      <td>3</td>\n",
       "      <td>0.60</td>\n",
       "      <td>549</td>\n",
       "      <td>0.86</td>\n",
       "      <td>12</td>\n",
       "      <td>0</td>\n",
       "      <td>0</td>\n",
       "      <td>0</td>\n",
       "      <td>4</td>\n",
       "    </tr>\n",
       "    <tr>\n",
       "      <th>3</th>\n",
       "      <td>6507</td>\n",
       "      <td>2019-04-27</td>\n",
       "      <td>1</td>\n",
       "      <td>Avai</td>\n",
       "      <td>6</td>\n",
       "      <td>1</td>\n",
       "      <td>0.40</td>\n",
       "      <td>362</td>\n",
       "      <td>0.79</td>\n",
       "      <td>18</td>\n",
       "      <td>1</td>\n",
       "      <td>0</td>\n",
       "      <td>1</td>\n",
       "      <td>4</td>\n",
       "    </tr>\n",
       "    <tr>\n",
       "      <th>4</th>\n",
       "      <td>6508</td>\n",
       "      <td>2019-04-27</td>\n",
       "      <td>1</td>\n",
       "      <td>Chapecoense</td>\n",
       "      <td>12</td>\n",
       "      <td>7</td>\n",
       "      <td>0.43</td>\n",
       "      <td>392</td>\n",
       "      <td>0.77</td>\n",
       "      <td>15</td>\n",
       "      <td>1</td>\n",
       "      <td>0</td>\n",
       "      <td>0</td>\n",
       "      <td>3</td>\n",
       "    </tr>\n",
       "  </tbody>\n",
       "</table>\n",
       "</div>"
      ],
      "text/plain": [
       "     ID       data  rodada        clube  chutes  chutes_no_alvo  \\\n",
       "0  6506 2019-04-27       1    Sao Paulo       7               4   \n",
       "1  6506 2019-04-27       1  Botafogo-RJ      11               2   \n",
       "2  6507 2019-04-27       1  Atletico-MG      11               3   \n",
       "3  6507 2019-04-27       1         Avai       6               1   \n",
       "4  6508 2019-04-27       1  Chapecoense      12               7   \n",
       "\n",
       "   posse_de_bola  passes  precisao_passes  faltas  cartao_amarelo  \\\n",
       "0           0.28     269             0.75      23               0   \n",
       "1           0.72     702             0.89       7               4   \n",
       "2           0.60     549             0.86      12               0   \n",
       "3           0.40     362             0.79      18               1   \n",
       "4           0.43     392             0.77      15               1   \n",
       "\n",
       "   cartao_vermelho  impedimentos  escanteios  \n",
       "0                0             2           3  \n",
       "1                0             1           2  \n",
       "2                0             0           4  \n",
       "3                0             1           4  \n",
       "4                0             0           3  "
      ]
     },
     "execution_count": 227,
     "metadata": {},
     "output_type": "execute_result"
    }
   ],
   "source": [
    "df_stats_recent.head()"
   ]
  },
  {
   "cell_type": "code",
   "execution_count": 229,
   "id": "ad2c0861",
   "metadata": {
    "ExecuteTime": {
     "end_time": "2022-03-22T13:39:49.404050Z",
     "start_time": "2022-03-22T13:39:25.066326Z"
    }
   },
   "outputs": [],
   "source": [
    "df_full_stats_recent = add_attributes(df_stats_recent, df_full_recent)"
   ]
  },
  {
   "cell_type": "code",
   "execution_count": 269,
   "id": "8c53208e",
   "metadata": {
    "ExecuteTime": {
     "end_time": "2022-03-22T13:52:39.946539Z",
     "start_time": "2022-03-22T13:52:39.924575Z"
    }
   },
   "outputs": [
    {
     "data": {
      "text/html": [
       "<div>\n",
       "<style scoped>\n",
       "    .dataframe tbody tr th:only-of-type {\n",
       "        vertical-align: middle;\n",
       "    }\n",
       "\n",
       "    .dataframe tbody tr th {\n",
       "        vertical-align: top;\n",
       "    }\n",
       "\n",
       "    .dataframe thead th {\n",
       "        text-align: right;\n",
       "    }\n",
       "</style>\n",
       "<table border=\"1\" class=\"dataframe\">\n",
       "  <thead>\n",
       "    <tr style=\"text-align: right;\">\n",
       "      <th></th>\n",
       "      <th>ID</th>\n",
       "      <th>rodada</th>\n",
       "      <th>data</th>\n",
       "      <th>hora</th>\n",
       "      <th>dia</th>\n",
       "      <th>mandante</th>\n",
       "      <th>visitante</th>\n",
       "      <th>formacao_mandante</th>\n",
       "      <th>formacao_visitante</th>\n",
       "      <th>tecnico_mandante</th>\n",
       "      <th>...</th>\n",
       "      <th>mandante_precisao_passes</th>\n",
       "      <th>visitante_precisao_passes</th>\n",
       "      <th>mandante_faltas</th>\n",
       "      <th>visitante_faltas</th>\n",
       "      <th>mandante_cartao_amarelo</th>\n",
       "      <th>visitante_cartao_amarelo</th>\n",
       "      <th>mandante_cartao_vermelho</th>\n",
       "      <th>visitante_cartao_vermelho</th>\n",
       "      <th>mandante_impedimentos</th>\n",
       "      <th>visitante_impedimentos</th>\n",
       "    </tr>\n",
       "  </thead>\n",
       "  <tbody>\n",
       "    <tr>\n",
       "      <th>0</th>\n",
       "      <td>6506</td>\n",
       "      <td>1</td>\n",
       "      <td>2019-04-27</td>\n",
       "      <td>16:02</td>\n",
       "      <td>Sabado</td>\n",
       "      <td>Sao Paulo</td>\n",
       "      <td>Botafogo-RJ</td>\n",
       "      <td>4-2-3-1</td>\n",
       "      <td>4-1-4-1</td>\n",
       "      <td>E. de Souza Barroca</td>\n",
       "      <td>...</td>\n",
       "      <td>0.75</td>\n",
       "      <td>0.89</td>\n",
       "      <td>23.0</td>\n",
       "      <td>7.0</td>\n",
       "      <td>0.0</td>\n",
       "      <td>4.0</td>\n",
       "      <td>0.0</td>\n",
       "      <td>0.0</td>\n",
       "      <td>2.0</td>\n",
       "      <td>1.0</td>\n",
       "    </tr>\n",
       "    <tr>\n",
       "      <th>1</th>\n",
       "      <td>6507</td>\n",
       "      <td>1</td>\n",
       "      <td>2019-04-27</td>\n",
       "      <td>19:00</td>\n",
       "      <td>Sabado</td>\n",
       "      <td>Atletico-MG</td>\n",
       "      <td>Avai</td>\n",
       "      <td>4-2-3-1</td>\n",
       "      <td>4-1-4-1</td>\n",
       "      <td>E. Machado Souto</td>\n",
       "      <td>...</td>\n",
       "      <td>0.86</td>\n",
       "      <td>0.79</td>\n",
       "      <td>12.0</td>\n",
       "      <td>18.0</td>\n",
       "      <td>0.0</td>\n",
       "      <td>1.0</td>\n",
       "      <td>0.0</td>\n",
       "      <td>0.0</td>\n",
       "      <td>0.0</td>\n",
       "      <td>1.0</td>\n",
       "    </tr>\n",
       "    <tr>\n",
       "      <th>2</th>\n",
       "      <td>6508</td>\n",
       "      <td>1</td>\n",
       "      <td>2019-04-27</td>\n",
       "      <td>19:01</td>\n",
       "      <td>Sabado</td>\n",
       "      <td>Chapecoense</td>\n",
       "      <td>Internacional</td>\n",
       "      <td>4-2-3-1</td>\n",
       "      <td>4-3-3</td>\n",
       "      <td>O. Hellmann</td>\n",
       "      <td>...</td>\n",
       "      <td>0.77</td>\n",
       "      <td>0.81</td>\n",
       "      <td>15.0</td>\n",
       "      <td>11.0</td>\n",
       "      <td>1.0</td>\n",
       "      <td>1.0</td>\n",
       "      <td>0.0</td>\n",
       "      <td>0.0</td>\n",
       "      <td>0.0</td>\n",
       "      <td>2.0</td>\n",
       "    </tr>\n",
       "    <tr>\n",
       "      <th>3</th>\n",
       "      <td>6509</td>\n",
       "      <td>1</td>\n",
       "      <td>2019-04-27</td>\n",
       "      <td>21:00</td>\n",
       "      <td>Sabado</td>\n",
       "      <td>Flamengo</td>\n",
       "      <td>Cruzeiro</td>\n",
       "      <td>4-2-3-1</td>\n",
       "      <td>4-2-3-1</td>\n",
       "      <td>L. Venker de Menezes</td>\n",
       "      <td>...</td>\n",
       "      <td>0.85</td>\n",
       "      <td>0.79</td>\n",
       "      <td>13.0</td>\n",
       "      <td>17.0</td>\n",
       "      <td>4.0</td>\n",
       "      <td>4.0</td>\n",
       "      <td>0.0</td>\n",
       "      <td>1.0</td>\n",
       "      <td>0.0</td>\n",
       "      <td>1.0</td>\n",
       "    </tr>\n",
       "    <tr>\n",
       "      <th>4</th>\n",
       "      <td>6510</td>\n",
       "      <td>1</td>\n",
       "      <td>2019-04-28</td>\n",
       "      <td>11:03</td>\n",
       "      <td>Domingo</td>\n",
       "      <td>Gremio</td>\n",
       "      <td>Santos</td>\n",
       "      <td>4-2-3-1</td>\n",
       "      <td>3-4-1-2</td>\n",
       "      <td>J. Sampaoli Moya</td>\n",
       "      <td>...</td>\n",
       "      <td>0.82</td>\n",
       "      <td>0.71</td>\n",
       "      <td>12.0</td>\n",
       "      <td>18.0</td>\n",
       "      <td>3.0</td>\n",
       "      <td>4.0</td>\n",
       "      <td>0.0</td>\n",
       "      <td>1.0</td>\n",
       "      <td>2.0</td>\n",
       "      <td>1.0</td>\n",
       "    </tr>\n",
       "  </tbody>\n",
       "</table>\n",
       "<p>5 rows × 40 columns</p>\n",
       "</div>"
      ],
      "text/plain": [
       "     ID  rodada       data   hora      dia     mandante      visitante  \\\n",
       "0  6506       1 2019-04-27  16:02   Sabado    Sao Paulo    Botafogo-RJ   \n",
       "1  6507       1 2019-04-27  19:00   Sabado  Atletico-MG           Avai   \n",
       "2  6508       1 2019-04-27  19:01   Sabado  Chapecoense  Internacional   \n",
       "3  6509       1 2019-04-27  21:00   Sabado     Flamengo       Cruzeiro   \n",
       "4  6510       1 2019-04-28  11:03  Domingo       Gremio         Santos   \n",
       "\n",
       "  formacao_mandante formacao_visitante      tecnico_mandante  ...  \\\n",
       "0           4-2-3-1            4-1-4-1   E. de Souza Barroca  ...   \n",
       "1           4-2-3-1            4-1-4-1      E. Machado Souto  ...   \n",
       "2           4-2-3-1              4-3-3           O. Hellmann  ...   \n",
       "3           4-2-3-1            4-2-3-1  L. Venker de Menezes  ...   \n",
       "4           4-2-3-1            3-4-1-2      J. Sampaoli Moya  ...   \n",
       "\n",
       "  mandante_precisao_passes visitante_precisao_passes mandante_faltas  \\\n",
       "0                     0.75                      0.89            23.0   \n",
       "1                     0.86                      0.79            12.0   \n",
       "2                     0.77                      0.81            15.0   \n",
       "3                     0.85                      0.79            13.0   \n",
       "4                     0.82                      0.71            12.0   \n",
       "\n",
       "   visitante_faltas  mandante_cartao_amarelo visitante_cartao_amarelo  \\\n",
       "0               7.0                      0.0                      4.0   \n",
       "1              18.0                      0.0                      1.0   \n",
       "2              11.0                      1.0                      1.0   \n",
       "3              17.0                      4.0                      4.0   \n",
       "4              18.0                      3.0                      4.0   \n",
       "\n",
       "  mandante_cartao_vermelho visitante_cartao_vermelho  mandante_impedimentos  \\\n",
       "0                      0.0                       0.0                    2.0   \n",
       "1                      0.0                       0.0                    0.0   \n",
       "2                      0.0                       0.0                    0.0   \n",
       "3                      0.0                       1.0                    0.0   \n",
       "4                      0.0                       1.0                    2.0   \n",
       "\n",
       "   visitante_impedimentos  \n",
       "0                     1.0  \n",
       "1                     1.0  \n",
       "2                     2.0  \n",
       "3                     1.0  \n",
       "4                     1.0  \n",
       "\n",
       "[5 rows x 40 columns]"
      ]
     },
     "execution_count": 269,
     "metadata": {},
     "output_type": "execute_result"
    }
   ],
   "source": [
    "df_full_stats_recent.head()"
   ]
  },
  {
   "cell_type": "code",
   "execution_count": 284,
   "id": "c4a6cbed",
   "metadata": {
    "ExecuteTime": {
     "end_time": "2022-03-22T14:02:43.106134Z",
     "start_time": "2022-03-22T14:02:43.097451Z"
    }
   },
   "outputs": [],
   "source": [
    "df_full_final = df_full_stats_recent.dropna()\n",
    "df_full_final = df_full_final.reset_index()"
   ]
  },
  {
   "cell_type": "code",
   "execution_count": 272,
   "id": "6cf11304",
   "metadata": {
    "ExecuteTime": {
     "end_time": "2022-03-22T13:53:21.122553Z",
     "start_time": "2022-03-22T13:53:21.111919Z"
    }
   },
   "outputs": [
    {
     "data": {
      "text/plain": [
       "['ID',\n",
       " 'rodada',\n",
       " 'data',\n",
       " 'hora',\n",
       " 'dia',\n",
       " 'mandante',\n",
       " 'visitante',\n",
       " 'formacao_mandante',\n",
       " 'formacao_visitante',\n",
       " 'tecnico_mandante',\n",
       " 'tecnico_visitante',\n",
       " 'vencedor',\n",
       " 'arena',\n",
       " 'mandante_placar',\n",
       " 'visitante_placar',\n",
       " 'mandante_estado',\n",
       " 'visitante_estado',\n",
       " 'estado_vencedor',\n",
       " 'mandante_venceu_ultima',\n",
       " 'visitante_venceu_ultima',\n",
       " 'n_gols_mandante_ultima',\n",
       " 'n_gols_visitante_ultima',\n",
       " 'mandante_chutes',\n",
       " 'visitante_chutes',\n",
       " 'mandante_chutes_no_alvo',\n",
       " 'visitante_chutes_no_alvo',\n",
       " 'mandante_posse_de_bola',\n",
       " 'visitante_posse_de_bola',\n",
       " 'mandante_passes',\n",
       " 'visitante_passes',\n",
       " 'mandante_precisao_passes',\n",
       " 'visitante_precisao_passes',\n",
       " 'mandante_faltas',\n",
       " 'visitante_faltas',\n",
       " 'mandante_cartao_amarelo',\n",
       " 'visitante_cartao_amarelo',\n",
       " 'mandante_cartao_vermelho',\n",
       " 'visitante_cartao_vermelho',\n",
       " 'mandante_impedimentos',\n",
       " 'visitante_impedimentos']"
      ]
     },
     "execution_count": 272,
     "metadata": {},
     "output_type": "execute_result"
    }
   ],
   "source": [
    "df_full_final.columns.tolist()"
   ]
  },
  {
   "cell_type": "markdown",
   "id": "18dca0c5",
   "metadata": {},
   "source": [
    "### 1.6.2 Choosing some initial features to test "
   ]
  },
  {
   "cell_type": "code",
   "execution_count": 29,
   "id": "6ed4dbd5",
   "metadata": {
    "ExecuteTime": {
     "end_time": "2022-03-18T14:20:34.687860Z",
     "start_time": "2022-03-18T14:20:34.683480Z"
    }
   },
   "outputs": [],
   "source": [
    "columns = ['ID',\n",
    "           'rodada',\n",
    "           'data',\n",
    "           'hora',\n",
    "           'dia',\n",
    "           'mandante',\n",
    "           'visitante',\n",
    "           'formacao_mandante',\n",
    "           'formacao_visitante',\n",
    "           'vencedor',\n",
    "           'arena',\n",
    "           'mandante_estado',\n",
    "           'visitante_estado']\n",
    "\n",
    "df_full_recent = df_full_recent[columns]"
   ]
  },
  {
   "cell_type": "code",
   "execution_count": 30,
   "id": "d0d17393",
   "metadata": {
    "ExecuteTime": {
     "end_time": "2022-03-18T14:20:34.702945Z",
     "start_time": "2022-03-18T14:20:34.689330Z"
    },
    "scrolled": true
   },
   "outputs": [
    {
     "data": {
      "text/html": [
       "<div>\n",
       "<style scoped>\n",
       "    .dataframe tbody tr th:only-of-type {\n",
       "        vertical-align: middle;\n",
       "    }\n",
       "\n",
       "    .dataframe tbody tr th {\n",
       "        vertical-align: top;\n",
       "    }\n",
       "\n",
       "    .dataframe thead th {\n",
       "        text-align: right;\n",
       "    }\n",
       "</style>\n",
       "<table border=\"1\" class=\"dataframe\">\n",
       "  <thead>\n",
       "    <tr style=\"text-align: right;\">\n",
       "      <th></th>\n",
       "      <th>ID</th>\n",
       "      <th>rodada</th>\n",
       "      <th>data</th>\n",
       "      <th>hora</th>\n",
       "      <th>dia</th>\n",
       "      <th>mandante</th>\n",
       "      <th>visitante</th>\n",
       "      <th>formacao_mandante</th>\n",
       "      <th>formacao_visitante</th>\n",
       "      <th>vencedor</th>\n",
       "      <th>arena</th>\n",
       "      <th>mandante_estado</th>\n",
       "      <th>visitante_estado</th>\n",
       "    </tr>\n",
       "  </thead>\n",
       "  <tbody>\n",
       "    <tr>\n",
       "      <th>4986</th>\n",
       "      <td>4987</td>\n",
       "      <td>1</td>\n",
       "      <td>2015-05-09</td>\n",
       "      <td>18:32</td>\n",
       "      <td>Sabado</td>\n",
       "      <td>Chapecoense</td>\n",
       "      <td>Coritiba</td>\n",
       "      <td>4-2-3-1</td>\n",
       "      <td>3-5-2</td>\n",
       "      <td>Chapecoense</td>\n",
       "      <td>arena conda</td>\n",
       "      <td>SC</td>\n",
       "      <td>PR</td>\n",
       "    </tr>\n",
       "    <tr>\n",
       "      <th>4987</th>\n",
       "      <td>4988</td>\n",
       "      <td>1</td>\n",
       "      <td>2015-05-09</td>\n",
       "      <td>18:33</td>\n",
       "      <td>Sabado</td>\n",
       "      <td>Palmeiras</td>\n",
       "      <td>Atletico-MG</td>\n",
       "      <td>4-2-3-1</td>\n",
       "      <td>4-2-3-1</td>\n",
       "      <td>-</td>\n",
       "      <td>allianz parque</td>\n",
       "      <td>SP</td>\n",
       "      <td>MG</td>\n",
       "    </tr>\n",
       "    <tr>\n",
       "      <th>4988</th>\n",
       "      <td>4989</td>\n",
       "      <td>1</td>\n",
       "      <td>2015-05-09</td>\n",
       "      <td>21:00</td>\n",
       "      <td>Sabado</td>\n",
       "      <td>Fluminense</td>\n",
       "      <td>Joinville</td>\n",
       "      <td>4-3-1-2</td>\n",
       "      <td>4-4-1-1</td>\n",
       "      <td>Fluminense</td>\n",
       "      <td>maracana</td>\n",
       "      <td>RJ</td>\n",
       "      <td>SC</td>\n",
       "    </tr>\n",
       "    <tr>\n",
       "      <th>4989</th>\n",
       "      <td>4990</td>\n",
       "      <td>1</td>\n",
       "      <td>2015-05-10</td>\n",
       "      <td>11:00</td>\n",
       "      <td>Domingo</td>\n",
       "      <td>Gremio</td>\n",
       "      <td>Ponte Preta</td>\n",
       "      <td>4-2-3-1</td>\n",
       "      <td>4-1-2-1-2</td>\n",
       "      <td>-</td>\n",
       "      <td>arena do gremio</td>\n",
       "      <td>RS</td>\n",
       "      <td>SP</td>\n",
       "    </tr>\n",
       "    <tr>\n",
       "      <th>4990</th>\n",
       "      <td>4991</td>\n",
       "      <td>1</td>\n",
       "      <td>2015-05-10</td>\n",
       "      <td>16:00</td>\n",
       "      <td>Domingo</td>\n",
       "      <td>Athletico-PR</td>\n",
       "      <td>Internacional</td>\n",
       "      <td>4-2-3-1</td>\n",
       "      <td>4-2-3-1</td>\n",
       "      <td>Athletico-PR</td>\n",
       "      <td>estadio joaquim americo guimaraes</td>\n",
       "      <td>PR</td>\n",
       "      <td>RS</td>\n",
       "    </tr>\n",
       "  </tbody>\n",
       "</table>\n",
       "</div>"
      ],
      "text/plain": [
       "        ID  rodada       data   hora      dia      mandante      visitante  \\\n",
       "4986  4987       1 2015-05-09  18:32   Sabado   Chapecoense       Coritiba   \n",
       "4987  4988       1 2015-05-09  18:33   Sabado     Palmeiras    Atletico-MG   \n",
       "4988  4989       1 2015-05-09  21:00   Sabado    Fluminense      Joinville   \n",
       "4989  4990       1 2015-05-10  11:00  Domingo        Gremio    Ponte Preta   \n",
       "4990  4991       1 2015-05-10  16:00  Domingo  Athletico-PR  Internacional   \n",
       "\n",
       "     formacao_mandante formacao_visitante      vencedor  \\\n",
       "4986           4-2-3-1              3-5-2   Chapecoense   \n",
       "4987           4-2-3-1            4-2-3-1             -   \n",
       "4988           4-3-1-2            4-4-1-1    Fluminense   \n",
       "4989           4-2-3-1          4-1-2-1-2             -   \n",
       "4990           4-2-3-1            4-2-3-1  Athletico-PR   \n",
       "\n",
       "                                  arena mandante_estado visitante_estado  \n",
       "4986                        arena conda              SC               PR  \n",
       "4987                     allianz parque              SP               MG  \n",
       "4988                           maracana              RJ               SC  \n",
       "4989                    arena do gremio              RS               SP  \n",
       "4990  estadio joaquim americo guimaraes              PR               RS  "
      ]
     },
     "execution_count": 30,
     "metadata": {},
     "output_type": "execute_result"
    }
   ],
   "source": [
    "df_full_recent.head()"
   ]
  },
  {
   "cell_type": "markdown",
   "id": "210fcd3c",
   "metadata": {},
   "source": [
    "### 1.6.3 Some statistics by team"
   ]
  },
  {
   "cell_type": "code",
   "execution_count": 36,
   "id": "b1b0f5ca",
   "metadata": {
    "ExecuteTime": {
     "end_time": "2022-03-18T14:20:34.934857Z",
     "start_time": "2022-03-18T14:20:34.918768Z"
    }
   },
   "outputs": [
    {
     "data": {
      "text/html": [
       "<div>\n",
       "<style scoped>\n",
       "    .dataframe tbody tr th:only-of-type {\n",
       "        vertical-align: middle;\n",
       "    }\n",
       "\n",
       "    .dataframe tbody tr th {\n",
       "        vertical-align: top;\n",
       "    }\n",
       "\n",
       "    .dataframe thead th {\n",
       "        text-align: right;\n",
       "    }\n",
       "</style>\n",
       "<table border=\"1\" class=\"dataframe\">\n",
       "  <thead>\n",
       "    <tr style=\"text-align: right;\">\n",
       "      <th></th>\n",
       "      <th>chutes</th>\n",
       "      <th>chutes_no_alvo</th>\n",
       "      <th>posse_de_bola</th>\n",
       "      <th>passes</th>\n",
       "      <th>precisao_passes</th>\n",
       "      <th>faltas</th>\n",
       "      <th>cartao_amarelo</th>\n",
       "      <th>cartao_vermelho</th>\n",
       "      <th>impedimentos</th>\n",
       "      <th>escanteios</th>\n",
       "    </tr>\n",
       "    <tr>\n",
       "      <th>clube</th>\n",
       "      <th></th>\n",
       "      <th></th>\n",
       "      <th></th>\n",
       "      <th></th>\n",
       "      <th></th>\n",
       "      <th></th>\n",
       "      <th></th>\n",
       "      <th></th>\n",
       "      <th></th>\n",
       "      <th></th>\n",
       "    </tr>\n",
       "  </thead>\n",
       "  <tbody>\n",
       "    <tr>\n",
       "      <th>America-MG</th>\n",
       "      <td>12.324561</td>\n",
       "      <td>2.561404</td>\n",
       "      <td>46.587719</td>\n",
       "      <td>397.912281</td>\n",
       "      <td>78.078947</td>\n",
       "      <td>14.763158</td>\n",
       "      <td>1.859649</td>\n",
       "      <td>0.105263</td>\n",
       "      <td>1.587719</td>\n",
       "      <td>4.657895</td>\n",
       "    </tr>\n",
       "    <tr>\n",
       "      <th>Athletico-PR</th>\n",
       "      <td>11.639098</td>\n",
       "      <td>3.026316</td>\n",
       "      <td>51.861789</td>\n",
       "      <td>414.973684</td>\n",
       "      <td>82.803030</td>\n",
       "      <td>14.030075</td>\n",
       "      <td>1.988722</td>\n",
       "      <td>0.086466</td>\n",
       "      <td>1.522556</td>\n",
       "      <td>4.609023</td>\n",
       "    </tr>\n",
       "    <tr>\n",
       "      <th>Atletico-GO</th>\n",
       "      <td>11.789474</td>\n",
       "      <td>3.561404</td>\n",
       "      <td>46.508772</td>\n",
       "      <td>385.026316</td>\n",
       "      <td>79.000000</td>\n",
       "      <td>15.912281</td>\n",
       "      <td>2.210526</td>\n",
       "      <td>0.087719</td>\n",
       "      <td>1.508772</td>\n",
       "      <td>5.315789</td>\n",
       "    </tr>\n",
       "    <tr>\n",
       "      <th>Atletico-MG</th>\n",
       "      <td>14.162264</td>\n",
       "      <td>3.471698</td>\n",
       "      <td>55.400000</td>\n",
       "      <td>475.166038</td>\n",
       "      <td>83.162162</td>\n",
       "      <td>14.592453</td>\n",
       "      <td>2.037736</td>\n",
       "      <td>0.090566</td>\n",
       "      <td>1.883019</td>\n",
       "      <td>5.947170</td>\n",
       "    </tr>\n",
       "    <tr>\n",
       "      <th>Avai</th>\n",
       "      <td>11.473684</td>\n",
       "      <td>1.938596</td>\n",
       "      <td>43.196429</td>\n",
       "      <td>351.438596</td>\n",
       "      <td>77.388889</td>\n",
       "      <td>14.815789</td>\n",
       "      <td>2.412281</td>\n",
       "      <td>0.157895</td>\n",
       "      <td>1.482456</td>\n",
       "      <td>4.850877</td>\n",
       "    </tr>\n",
       "  </tbody>\n",
       "</table>\n",
       "</div>"
      ],
      "text/plain": [
       "                 chutes  chutes_no_alvo  posse_de_bola      passes  \\\n",
       "clube                                                                \n",
       "America-MG    12.324561        2.561404      46.587719  397.912281   \n",
       "Athletico-PR  11.639098        3.026316      51.861789  414.973684   \n",
       "Atletico-GO   11.789474        3.561404      46.508772  385.026316   \n",
       "Atletico-MG   14.162264        3.471698      55.400000  475.166038   \n",
       "Avai          11.473684        1.938596      43.196429  351.438596   \n",
       "\n",
       "              precisao_passes     faltas  cartao_amarelo  cartao_vermelho  \\\n",
       "clube                                                                       \n",
       "America-MG          78.078947  14.763158        1.859649         0.105263   \n",
       "Athletico-PR        82.803030  14.030075        1.988722         0.086466   \n",
       "Atletico-GO         79.000000  15.912281        2.210526         0.087719   \n",
       "Atletico-MG         83.162162  14.592453        2.037736         0.090566   \n",
       "Avai                77.388889  14.815789        2.412281         0.157895   \n",
       "\n",
       "              impedimentos  escanteios  \n",
       "clube                                   \n",
       "America-MG        1.587719    4.657895  \n",
       "Athletico-PR      1.522556    4.609023  \n",
       "Atletico-GO       1.508772    5.315789  \n",
       "Atletico-MG       1.883019    5.947170  \n",
       "Avai              1.482456    4.850877  "
      ]
     },
     "execution_count": 36,
     "metadata": {},
     "output_type": "execute_result"
    }
   ],
   "source": [
    "df_stats_clube = df_stats_recent.groupby('clube').mean()\n",
    "df_stats_clube = df_stats_clube.drop(['partida_id', 'rodada'], axis = 1)\n",
    "df_stats_clube.head()"
   ]
  },
  {
   "cell_type": "markdown",
   "id": "67afcf7e",
   "metadata": {},
   "source": [
    "### 1.6.4 Creating the target feature "
   ]
  },
  {
   "cell_type": "code",
   "execution_count": 277,
   "id": "35320492",
   "metadata": {
    "ExecuteTime": {
     "end_time": "2022-03-22T13:57:24.594555Z",
     "start_time": "2022-03-22T13:57:24.586195Z"
    }
   },
   "outputs": [
    {
     "data": {
      "text/plain": [
       "ID                              0\n",
       "rodada                          0\n",
       "data                            0\n",
       "hora                            0\n",
       "dia                             0\n",
       "mandante                        0\n",
       "visitante                       0\n",
       "formacao_mandante               0\n",
       "formacao_visitante              0\n",
       "tecnico_mandante                0\n",
       "tecnico_visitante               0\n",
       "vencedor                        0\n",
       "arena                           0\n",
       "mandante_placar                 0\n",
       "visitante_placar                0\n",
       "mandante_estado                 0\n",
       "visitante_estado                0\n",
       "estado_vencedor                 0\n",
       "mandante_venceu_ultima          0\n",
       "visitante_venceu_ultima         0\n",
       "n_gols_mandante_ultima          0\n",
       "n_gols_visitante_ultima         0\n",
       "mandante_chutes                 0\n",
       "visitante_chutes                0\n",
       "mandante_chutes_no_alvo         0\n",
       "visitante_chutes_no_alvo        0\n",
       "mandante_posse_de_bola          0\n",
       "visitante_posse_de_bola         0\n",
       "mandante_passes                 0\n",
       "visitante_passes                0\n",
       "mandante_precisao_passes        0\n",
       "visitante_precisao_passes       0\n",
       "mandante_faltas                 0\n",
       "visitante_faltas                0\n",
       "mandante_cartao_amarelo         0\n",
       "visitante_cartao_amarelo        0\n",
       "mandante_cartao_vermelho        0\n",
       "visitante_cartao_vermelho       0\n",
       "mandante_impedimentos           0\n",
       "visitante_impedimentos          0\n",
       "resultado                    1105\n",
       "dtype: int64"
      ]
     },
     "execution_count": 277,
     "metadata": {},
     "output_type": "execute_result"
    }
   ],
   "source": [
    "df_full_final.isna().sum()"
   ]
  },
  {
   "cell_type": "code",
   "execution_count": 283,
   "id": "ad420545",
   "metadata": {
    "ExecuteTime": {
     "end_time": "2022-03-22T14:01:55.092060Z",
     "start_time": "2022-03-22T14:01:55.062947Z"
    }
   },
   "outputs": [
    {
     "data": {
      "text/html": [
       "<div>\n",
       "<style scoped>\n",
       "    .dataframe tbody tr th:only-of-type {\n",
       "        vertical-align: middle;\n",
       "    }\n",
       "\n",
       "    .dataframe tbody tr th {\n",
       "        vertical-align: top;\n",
       "    }\n",
       "\n",
       "    .dataframe thead th {\n",
       "        text-align: right;\n",
       "    }\n",
       "</style>\n",
       "<table border=\"1\" class=\"dataframe\">\n",
       "  <thead>\n",
       "    <tr style=\"text-align: right;\">\n",
       "      <th></th>\n",
       "      <th>ID</th>\n",
       "      <th>rodada</th>\n",
       "      <th>data</th>\n",
       "      <th>hora</th>\n",
       "      <th>dia</th>\n",
       "      <th>mandante</th>\n",
       "      <th>visitante</th>\n",
       "      <th>formacao_mandante</th>\n",
       "      <th>formacao_visitante</th>\n",
       "      <th>tecnico_mandante</th>\n",
       "      <th>...</th>\n",
       "      <th>visitante_precisao_passes</th>\n",
       "      <th>mandante_faltas</th>\n",
       "      <th>visitante_faltas</th>\n",
       "      <th>mandante_cartao_amarelo</th>\n",
       "      <th>visitante_cartao_amarelo</th>\n",
       "      <th>mandante_cartao_vermelho</th>\n",
       "      <th>visitante_cartao_vermelho</th>\n",
       "      <th>mandante_impedimentos</th>\n",
       "      <th>visitante_impedimentos</th>\n",
       "      <th>resultado</th>\n",
       "    </tr>\n",
       "  </thead>\n",
       "  <tbody>\n",
       "    <tr>\n",
       "      <th>0</th>\n",
       "      <td>6506</td>\n",
       "      <td>1</td>\n",
       "      <td>2019-04-27</td>\n",
       "      <td>16:02</td>\n",
       "      <td>Sabado</td>\n",
       "      <td>Sao Paulo</td>\n",
       "      <td>Botafogo-RJ</td>\n",
       "      <td>4-2-3-1</td>\n",
       "      <td>4-1-4-1</td>\n",
       "      <td>E. de Souza Barroca</td>\n",
       "      <td>...</td>\n",
       "      <td>0.89</td>\n",
       "      <td>23.0</td>\n",
       "      <td>7.0</td>\n",
       "      <td>0.0</td>\n",
       "      <td>4.0</td>\n",
       "      <td>0.0</td>\n",
       "      <td>0.0</td>\n",
       "      <td>2.0</td>\n",
       "      <td>1.0</td>\n",
       "      <td>1.0</td>\n",
       "    </tr>\n",
       "    <tr>\n",
       "      <th>1</th>\n",
       "      <td>6507</td>\n",
       "      <td>1</td>\n",
       "      <td>2019-04-27</td>\n",
       "      <td>19:00</td>\n",
       "      <td>Sabado</td>\n",
       "      <td>Atletico-MG</td>\n",
       "      <td>Avai</td>\n",
       "      <td>4-2-3-1</td>\n",
       "      <td>4-1-4-1</td>\n",
       "      <td>E. Machado Souto</td>\n",
       "      <td>...</td>\n",
       "      <td>0.79</td>\n",
       "      <td>12.0</td>\n",
       "      <td>18.0</td>\n",
       "      <td>0.0</td>\n",
       "      <td>1.0</td>\n",
       "      <td>0.0</td>\n",
       "      <td>0.0</td>\n",
       "      <td>0.0</td>\n",
       "      <td>1.0</td>\n",
       "      <td>1.0</td>\n",
       "    </tr>\n",
       "    <tr>\n",
       "      <th>2</th>\n",
       "      <td>6508</td>\n",
       "      <td>1</td>\n",
       "      <td>2019-04-27</td>\n",
       "      <td>19:01</td>\n",
       "      <td>Sabado</td>\n",
       "      <td>Chapecoense</td>\n",
       "      <td>Internacional</td>\n",
       "      <td>4-2-3-1</td>\n",
       "      <td>4-3-3</td>\n",
       "      <td>O. Hellmann</td>\n",
       "      <td>...</td>\n",
       "      <td>0.81</td>\n",
       "      <td>15.0</td>\n",
       "      <td>11.0</td>\n",
       "      <td>1.0</td>\n",
       "      <td>1.0</td>\n",
       "      <td>0.0</td>\n",
       "      <td>0.0</td>\n",
       "      <td>0.0</td>\n",
       "      <td>2.0</td>\n",
       "      <td>1.0</td>\n",
       "    </tr>\n",
       "    <tr>\n",
       "      <th>3</th>\n",
       "      <td>6509</td>\n",
       "      <td>1</td>\n",
       "      <td>2019-04-27</td>\n",
       "      <td>21:00</td>\n",
       "      <td>Sabado</td>\n",
       "      <td>Flamengo</td>\n",
       "      <td>Cruzeiro</td>\n",
       "      <td>4-2-3-1</td>\n",
       "      <td>4-2-3-1</td>\n",
       "      <td>L. Venker de Menezes</td>\n",
       "      <td>...</td>\n",
       "      <td>0.79</td>\n",
       "      <td>13.0</td>\n",
       "      <td>17.0</td>\n",
       "      <td>4.0</td>\n",
       "      <td>4.0</td>\n",
       "      <td>0.0</td>\n",
       "      <td>1.0</td>\n",
       "      <td>0.0</td>\n",
       "      <td>1.0</td>\n",
       "      <td>1.0</td>\n",
       "    </tr>\n",
       "    <tr>\n",
       "      <th>4</th>\n",
       "      <td>6510</td>\n",
       "      <td>1</td>\n",
       "      <td>2019-04-28</td>\n",
       "      <td>11:03</td>\n",
       "      <td>Domingo</td>\n",
       "      <td>Gremio</td>\n",
       "      <td>Santos</td>\n",
       "      <td>4-2-3-1</td>\n",
       "      <td>3-4-1-2</td>\n",
       "      <td>J. Sampaoli Moya</td>\n",
       "      <td>...</td>\n",
       "      <td>0.71</td>\n",
       "      <td>12.0</td>\n",
       "      <td>18.0</td>\n",
       "      <td>3.0</td>\n",
       "      <td>4.0</td>\n",
       "      <td>0.0</td>\n",
       "      <td>1.0</td>\n",
       "      <td>2.0</td>\n",
       "      <td>1.0</td>\n",
       "      <td>2.0</td>\n",
       "    </tr>\n",
       "    <tr>\n",
       "      <th>5</th>\n",
       "      <td>6511</td>\n",
       "      <td>1</td>\n",
       "      <td>2019-04-28</td>\n",
       "      <td>16:01</td>\n",
       "      <td>Domingo</td>\n",
       "      <td>Bahia</td>\n",
       "      <td>Corinthians</td>\n",
       "      <td>4-2-3-1</td>\n",
       "      <td>4-1-4-1</td>\n",
       "      <td>F. Carille</td>\n",
       "      <td>...</td>\n",
       "      <td>0.78</td>\n",
       "      <td>17.0</td>\n",
       "      <td>5.0</td>\n",
       "      <td>1.0</td>\n",
       "      <td>4.0</td>\n",
       "      <td>0.0</td>\n",
       "      <td>0.0</td>\n",
       "      <td>1.0</td>\n",
       "      <td>0.0</td>\n",
       "      <td>1.0</td>\n",
       "    </tr>\n",
       "    <tr>\n",
       "      <th>6</th>\n",
       "      <td>6512</td>\n",
       "      <td>1</td>\n",
       "      <td>2019-04-28</td>\n",
       "      <td>16:03</td>\n",
       "      <td>Domingo</td>\n",
       "      <td>Athletico-PR</td>\n",
       "      <td>Vasco</td>\n",
       "      <td>4-2-3-1</td>\n",
       "      <td>3-5-2</td>\n",
       "      <td>M. Gomes Valadares</td>\n",
       "      <td>...</td>\n",
       "      <td>0.85</td>\n",
       "      <td>15.0</td>\n",
       "      <td>19.0</td>\n",
       "      <td>1.0</td>\n",
       "      <td>1.0</td>\n",
       "      <td>0.0</td>\n",
       "      <td>0.0</td>\n",
       "      <td>2.0</td>\n",
       "      <td>1.0</td>\n",
       "      <td>1.0</td>\n",
       "    </tr>\n",
       "    <tr>\n",
       "      <th>7</th>\n",
       "      <td>6513</td>\n",
       "      <td>1</td>\n",
       "      <td>2019-04-28</td>\n",
       "      <td>16:00</td>\n",
       "      <td>Domingo</td>\n",
       "      <td>Ceara</td>\n",
       "      <td>CSA</td>\n",
       "      <td>4-2-3-1</td>\n",
       "      <td>4-2-3-1</td>\n",
       "      <td>M. Ribeiro Cabo</td>\n",
       "      <td>...</td>\n",
       "      <td>0.81</td>\n",
       "      <td>15.0</td>\n",
       "      <td>4.0</td>\n",
       "      <td>0.0</td>\n",
       "      <td>0.0</td>\n",
       "      <td>0.0</td>\n",
       "      <td>1.0</td>\n",
       "      <td>2.0</td>\n",
       "      <td>1.0</td>\n",
       "      <td>1.0</td>\n",
       "    </tr>\n",
       "    <tr>\n",
       "      <th>8</th>\n",
       "      <td>6514</td>\n",
       "      <td>1</td>\n",
       "      <td>2019-04-28</td>\n",
       "      <td>19:00</td>\n",
       "      <td>Domingo</td>\n",
       "      <td>Palmeiras</td>\n",
       "      <td>Fortaleza</td>\n",
       "      <td>4-2-3-1</td>\n",
       "      <td>4-4-2</td>\n",
       "      <td>R. Ceni</td>\n",
       "      <td>...</td>\n",
       "      <td>0.79</td>\n",
       "      <td>12.0</td>\n",
       "      <td>16.0</td>\n",
       "      <td>1.0</td>\n",
       "      <td>2.0</td>\n",
       "      <td>0.0</td>\n",
       "      <td>0.0</td>\n",
       "      <td>3.0</td>\n",
       "      <td>1.0</td>\n",
       "      <td>1.0</td>\n",
       "    </tr>\n",
       "    <tr>\n",
       "      <th>9</th>\n",
       "      <td>6515</td>\n",
       "      <td>1</td>\n",
       "      <td>2019-04-28</td>\n",
       "      <td>19:27</td>\n",
       "      <td>Domingo</td>\n",
       "      <td>Fluminense</td>\n",
       "      <td>Goias</td>\n",
       "      <td>4-3-3</td>\n",
       "      <td>4-2-3-1</td>\n",
       "      <td>C. dos Santos Oliveira</td>\n",
       "      <td>...</td>\n",
       "      <td>0.70</td>\n",
       "      <td>14.0</td>\n",
       "      <td>9.0</td>\n",
       "      <td>4.0</td>\n",
       "      <td>1.0</td>\n",
       "      <td>0.0</td>\n",
       "      <td>0.0</td>\n",
       "      <td>1.0</td>\n",
       "      <td>0.0</td>\n",
       "      <td>2.0</td>\n",
       "    </tr>\n",
       "    <tr>\n",
       "      <th>10</th>\n",
       "      <td>6516</td>\n",
       "      <td>2</td>\n",
       "      <td>2019-05-01</td>\n",
       "      <td>16:01</td>\n",
       "      <td>Quarta-feira</td>\n",
       "      <td>Internacional</td>\n",
       "      <td>Flamengo</td>\n",
       "      <td>4-3-3</td>\n",
       "      <td>4-2-3-1</td>\n",
       "      <td>A. da Silva Braga</td>\n",
       "      <td>...</td>\n",
       "      <td>0.81</td>\n",
       "      <td>8.0</td>\n",
       "      <td>9.0</td>\n",
       "      <td>3.0</td>\n",
       "      <td>2.0</td>\n",
       "      <td>0.0</td>\n",
       "      <td>0.0</td>\n",
       "      <td>1.0</td>\n",
       "      <td>3.0</td>\n",
       "      <td>1.0</td>\n",
       "    </tr>\n",
       "    <tr>\n",
       "      <th>12</th>\n",
       "      <td>6518</td>\n",
       "      <td>2</td>\n",
       "      <td>2019-05-01</td>\n",
       "      <td>16:01</td>\n",
       "      <td>Quarta-feira</td>\n",
       "      <td>Corinthians</td>\n",
       "      <td>Chapecoense</td>\n",
       "      <td>4-1-4-1</td>\n",
       "      <td>4-4-1-1</td>\n",
       "      <td>N. da Silveira Júnior</td>\n",
       "      <td>...</td>\n",
       "      <td>0.78</td>\n",
       "      <td>14.0</td>\n",
       "      <td>10.0</td>\n",
       "      <td>2.0</td>\n",
       "      <td>1.0</td>\n",
       "      <td>0.0</td>\n",
       "      <td>0.0</td>\n",
       "      <td>1.0</td>\n",
       "      <td>1.0</td>\n",
       "      <td>NaN</td>\n",
       "    </tr>\n",
       "  </tbody>\n",
       "</table>\n",
       "<p>12 rows × 41 columns</p>\n",
       "</div>"
      ],
      "text/plain": [
       "      ID  rodada       data   hora           dia       mandante  \\\n",
       "0   6506       1 2019-04-27  16:02        Sabado      Sao Paulo   \n",
       "1   6507       1 2019-04-27  19:00        Sabado    Atletico-MG   \n",
       "2   6508       1 2019-04-27  19:01        Sabado    Chapecoense   \n",
       "3   6509       1 2019-04-27  21:00        Sabado       Flamengo   \n",
       "4   6510       1 2019-04-28  11:03       Domingo         Gremio   \n",
       "5   6511       1 2019-04-28  16:01       Domingo          Bahia   \n",
       "6   6512       1 2019-04-28  16:03       Domingo   Athletico-PR   \n",
       "7   6513       1 2019-04-28  16:00       Domingo          Ceara   \n",
       "8   6514       1 2019-04-28  19:00       Domingo      Palmeiras   \n",
       "9   6515       1 2019-04-28  19:27       Domingo     Fluminense   \n",
       "10  6516       2 2019-05-01  16:01  Quarta-feira  Internacional   \n",
       "12  6518       2 2019-05-01  16:01  Quarta-feira    Corinthians   \n",
       "\n",
       "        visitante formacao_mandante formacao_visitante  \\\n",
       "0     Botafogo-RJ           4-2-3-1            4-1-4-1   \n",
       "1            Avai           4-2-3-1            4-1-4-1   \n",
       "2   Internacional           4-2-3-1              4-3-3   \n",
       "3        Cruzeiro           4-2-3-1            4-2-3-1   \n",
       "4          Santos           4-2-3-1            3-4-1-2   \n",
       "5     Corinthians           4-2-3-1            4-1-4-1   \n",
       "6           Vasco           4-2-3-1              3-5-2   \n",
       "7             CSA           4-2-3-1            4-2-3-1   \n",
       "8       Fortaleza           4-2-3-1              4-4-2   \n",
       "9           Goias             4-3-3            4-2-3-1   \n",
       "10       Flamengo             4-3-3            4-2-3-1   \n",
       "12    Chapecoense           4-1-4-1            4-4-1-1   \n",
       "\n",
       "          tecnico_mandante  ... visitante_precisao_passes mandante_faltas  \\\n",
       "0      E. de Souza Barroca  ...                      0.89            23.0   \n",
       "1         E. Machado Souto  ...                      0.79            12.0   \n",
       "2              O. Hellmann  ...                      0.81            15.0   \n",
       "3     L. Venker de Menezes  ...                      0.79            13.0   \n",
       "4         J. Sampaoli Moya  ...                      0.71            12.0   \n",
       "5               F. Carille  ...                      0.78            17.0   \n",
       "6       M. Gomes Valadares  ...                      0.85            15.0   \n",
       "7          M. Ribeiro Cabo  ...                      0.81            15.0   \n",
       "8                  R. Ceni  ...                      0.79            12.0   \n",
       "9   C. dos Santos Oliveira  ...                      0.70            14.0   \n",
       "10       A. da Silva Braga  ...                      0.81             8.0   \n",
       "12   N. da Silveira Júnior  ...                      0.78            14.0   \n",
       "\n",
       "   visitante_faltas  mandante_cartao_amarelo  visitante_cartao_amarelo  \\\n",
       "0               7.0                      0.0                       4.0   \n",
       "1              18.0                      0.0                       1.0   \n",
       "2              11.0                      1.0                       1.0   \n",
       "3              17.0                      4.0                       4.0   \n",
       "4              18.0                      3.0                       4.0   \n",
       "5               5.0                      1.0                       4.0   \n",
       "6              19.0                      1.0                       1.0   \n",
       "7               4.0                      0.0                       0.0   \n",
       "8              16.0                      1.0                       2.0   \n",
       "9               9.0                      4.0                       1.0   \n",
       "10              9.0                      3.0                       2.0   \n",
       "12             10.0                      2.0                       1.0   \n",
       "\n",
       "   mandante_cartao_vermelho visitante_cartao_vermelho mandante_impedimentos  \\\n",
       "0                       0.0                       0.0                   2.0   \n",
       "1                       0.0                       0.0                   0.0   \n",
       "2                       0.0                       0.0                   0.0   \n",
       "3                       0.0                       1.0                   0.0   \n",
       "4                       0.0                       1.0                   2.0   \n",
       "5                       0.0                       0.0                   1.0   \n",
       "6                       0.0                       0.0                   2.0   \n",
       "7                       0.0                       1.0                   2.0   \n",
       "8                       0.0                       0.0                   3.0   \n",
       "9                       0.0                       0.0                   1.0   \n",
       "10                      0.0                       0.0                   1.0   \n",
       "12                      0.0                       0.0                   1.0   \n",
       "\n",
       "    visitante_impedimentos  resultado  \n",
       "0                      1.0        1.0  \n",
       "1                      1.0        1.0  \n",
       "2                      2.0        1.0  \n",
       "3                      1.0        1.0  \n",
       "4                      1.0        2.0  \n",
       "5                      0.0        1.0  \n",
       "6                      1.0        1.0  \n",
       "7                      1.0        1.0  \n",
       "8                      1.0        1.0  \n",
       "9                      0.0        2.0  \n",
       "10                     3.0        1.0  \n",
       "12                     1.0        NaN  \n",
       "\n",
       "[12 rows x 41 columns]"
      ]
     },
     "execution_count": 283,
     "metadata": {},
     "output_type": "execute_result"
    }
   ],
   "source": [
    "df_full_final.head(12)"
   ]
  },
  {
   "cell_type": "code",
   "execution_count": 286,
   "id": "07839660",
   "metadata": {
    "ExecuteTime": {
     "end_time": "2022-03-22T14:02:59.668720Z",
     "start_time": "2022-03-22T14:02:59.535522Z"
    }
   },
   "outputs": [],
   "source": [
    "# 1 - mandante\n",
    "# 2 - visitante\n",
    "# 0 - empate\n",
    "df_full_final = create_target(df_full_final)"
   ]
  },
  {
   "cell_type": "code",
   "execution_count": 288,
   "id": "cbdcc2b1",
   "metadata": {
    "ExecuteTime": {
     "end_time": "2022-03-22T14:03:13.920231Z",
     "start_time": "2022-03-22T14:03:13.898592Z"
    }
   },
   "outputs": [
    {
     "data": {
      "text/html": [
       "<div>\n",
       "<style scoped>\n",
       "    .dataframe tbody tr th:only-of-type {\n",
       "        vertical-align: middle;\n",
       "    }\n",
       "\n",
       "    .dataframe tbody tr th {\n",
       "        vertical-align: top;\n",
       "    }\n",
       "\n",
       "    .dataframe thead th {\n",
       "        text-align: right;\n",
       "    }\n",
       "</style>\n",
       "<table border=\"1\" class=\"dataframe\">\n",
       "  <thead>\n",
       "    <tr style=\"text-align: right;\">\n",
       "      <th></th>\n",
       "      <th>index</th>\n",
       "      <th>ID</th>\n",
       "      <th>rodada</th>\n",
       "      <th>data</th>\n",
       "      <th>hora</th>\n",
       "      <th>dia</th>\n",
       "      <th>mandante</th>\n",
       "      <th>visitante</th>\n",
       "      <th>formacao_mandante</th>\n",
       "      <th>formacao_visitante</th>\n",
       "      <th>...</th>\n",
       "      <th>visitante_precisao_passes</th>\n",
       "      <th>mandante_faltas</th>\n",
       "      <th>visitante_faltas</th>\n",
       "      <th>mandante_cartao_amarelo</th>\n",
       "      <th>visitante_cartao_amarelo</th>\n",
       "      <th>mandante_cartao_vermelho</th>\n",
       "      <th>visitante_cartao_vermelho</th>\n",
       "      <th>mandante_impedimentos</th>\n",
       "      <th>visitante_impedimentos</th>\n",
       "      <th>resultado</th>\n",
       "    </tr>\n",
       "  </thead>\n",
       "  <tbody>\n",
       "    <tr>\n",
       "      <th>0</th>\n",
       "      <td>0</td>\n",
       "      <td>6506</td>\n",
       "      <td>1</td>\n",
       "      <td>2019-04-27</td>\n",
       "      <td>16:02</td>\n",
       "      <td>Sabado</td>\n",
       "      <td>Sao Paulo</td>\n",
       "      <td>Botafogo-RJ</td>\n",
       "      <td>4-2-3-1</td>\n",
       "      <td>4-1-4-1</td>\n",
       "      <td>...</td>\n",
       "      <td>0.89</td>\n",
       "      <td>23.0</td>\n",
       "      <td>7.0</td>\n",
       "      <td>0.0</td>\n",
       "      <td>4.0</td>\n",
       "      <td>0.0</td>\n",
       "      <td>0.0</td>\n",
       "      <td>2.0</td>\n",
       "      <td>1.0</td>\n",
       "      <td>1.0</td>\n",
       "    </tr>\n",
       "    <tr>\n",
       "      <th>1</th>\n",
       "      <td>1</td>\n",
       "      <td>6507</td>\n",
       "      <td>1</td>\n",
       "      <td>2019-04-27</td>\n",
       "      <td>19:00</td>\n",
       "      <td>Sabado</td>\n",
       "      <td>Atletico-MG</td>\n",
       "      <td>Avai</td>\n",
       "      <td>4-2-3-1</td>\n",
       "      <td>4-1-4-1</td>\n",
       "      <td>...</td>\n",
       "      <td>0.79</td>\n",
       "      <td>12.0</td>\n",
       "      <td>18.0</td>\n",
       "      <td>0.0</td>\n",
       "      <td>1.0</td>\n",
       "      <td>0.0</td>\n",
       "      <td>0.0</td>\n",
       "      <td>0.0</td>\n",
       "      <td>1.0</td>\n",
       "      <td>1.0</td>\n",
       "    </tr>\n",
       "    <tr>\n",
       "      <th>2</th>\n",
       "      <td>2</td>\n",
       "      <td>6508</td>\n",
       "      <td>1</td>\n",
       "      <td>2019-04-27</td>\n",
       "      <td>19:01</td>\n",
       "      <td>Sabado</td>\n",
       "      <td>Chapecoense</td>\n",
       "      <td>Internacional</td>\n",
       "      <td>4-2-3-1</td>\n",
       "      <td>4-3-3</td>\n",
       "      <td>...</td>\n",
       "      <td>0.81</td>\n",
       "      <td>15.0</td>\n",
       "      <td>11.0</td>\n",
       "      <td>1.0</td>\n",
       "      <td>1.0</td>\n",
       "      <td>0.0</td>\n",
       "      <td>0.0</td>\n",
       "      <td>0.0</td>\n",
       "      <td>2.0</td>\n",
       "      <td>1.0</td>\n",
       "    </tr>\n",
       "    <tr>\n",
       "      <th>3</th>\n",
       "      <td>3</td>\n",
       "      <td>6509</td>\n",
       "      <td>1</td>\n",
       "      <td>2019-04-27</td>\n",
       "      <td>21:00</td>\n",
       "      <td>Sabado</td>\n",
       "      <td>Flamengo</td>\n",
       "      <td>Cruzeiro</td>\n",
       "      <td>4-2-3-1</td>\n",
       "      <td>4-2-3-1</td>\n",
       "      <td>...</td>\n",
       "      <td>0.79</td>\n",
       "      <td>13.0</td>\n",
       "      <td>17.0</td>\n",
       "      <td>4.0</td>\n",
       "      <td>4.0</td>\n",
       "      <td>0.0</td>\n",
       "      <td>1.0</td>\n",
       "      <td>0.0</td>\n",
       "      <td>1.0</td>\n",
       "      <td>1.0</td>\n",
       "    </tr>\n",
       "    <tr>\n",
       "      <th>4</th>\n",
       "      <td>4</td>\n",
       "      <td>6510</td>\n",
       "      <td>1</td>\n",
       "      <td>2019-04-28</td>\n",
       "      <td>11:03</td>\n",
       "      <td>Domingo</td>\n",
       "      <td>Gremio</td>\n",
       "      <td>Santos</td>\n",
       "      <td>4-2-3-1</td>\n",
       "      <td>3-4-1-2</td>\n",
       "      <td>...</td>\n",
       "      <td>0.71</td>\n",
       "      <td>12.0</td>\n",
       "      <td>18.0</td>\n",
       "      <td>3.0</td>\n",
       "      <td>4.0</td>\n",
       "      <td>0.0</td>\n",
       "      <td>1.0</td>\n",
       "      <td>2.0</td>\n",
       "      <td>1.0</td>\n",
       "      <td>2.0</td>\n",
       "    </tr>\n",
       "  </tbody>\n",
       "</table>\n",
       "<p>5 rows × 41 columns</p>\n",
       "</div>"
      ],
      "text/plain": [
       "   index    ID  rodada       data   hora      dia     mandante      visitante  \\\n",
       "0      0  6506       1 2019-04-27  16:02   Sabado    Sao Paulo    Botafogo-RJ   \n",
       "1      1  6507       1 2019-04-27  19:00   Sabado  Atletico-MG           Avai   \n",
       "2      2  6508       1 2019-04-27  19:01   Sabado  Chapecoense  Internacional   \n",
       "3      3  6509       1 2019-04-27  21:00   Sabado     Flamengo       Cruzeiro   \n",
       "4      4  6510       1 2019-04-28  11:03  Domingo       Gremio         Santos   \n",
       "\n",
       "  formacao_mandante formacao_visitante  ... visitante_precisao_passes  \\\n",
       "0           4-2-3-1            4-1-4-1  ...                      0.89   \n",
       "1           4-2-3-1            4-1-4-1  ...                      0.79   \n",
       "2           4-2-3-1              4-3-3  ...                      0.81   \n",
       "3           4-2-3-1            4-2-3-1  ...                      0.79   \n",
       "4           4-2-3-1            3-4-1-2  ...                      0.71   \n",
       "\n",
       "  mandante_faltas visitante_faltas  mandante_cartao_amarelo  \\\n",
       "0            23.0              7.0                      0.0   \n",
       "1            12.0             18.0                      0.0   \n",
       "2            15.0             11.0                      1.0   \n",
       "3            13.0             17.0                      4.0   \n",
       "4            12.0             18.0                      3.0   \n",
       "\n",
       "   visitante_cartao_amarelo mandante_cartao_vermelho  \\\n",
       "0                       4.0                      0.0   \n",
       "1                       1.0                      0.0   \n",
       "2                       1.0                      0.0   \n",
       "3                       4.0                      0.0   \n",
       "4                       4.0                      0.0   \n",
       "\n",
       "  visitante_cartao_vermelho mandante_impedimentos  visitante_impedimentos  \\\n",
       "0                       0.0                   2.0                     1.0   \n",
       "1                       0.0                   0.0                     1.0   \n",
       "2                       0.0                   0.0                     2.0   \n",
       "3                       1.0                   0.0                     1.0   \n",
       "4                       1.0                   2.0                     1.0   \n",
       "\n",
       "   resultado  \n",
       "0        1.0  \n",
       "1        1.0  \n",
       "2        1.0  \n",
       "3        1.0  \n",
       "4        2.0  \n",
       "\n",
       "[5 rows x 41 columns]"
      ]
     },
     "execution_count": 288,
     "metadata": {},
     "output_type": "execute_result"
    }
   ],
   "source": [
    "df_full_final.head()"
   ]
  },
  {
   "cell_type": "markdown",
   "id": "619090e9",
   "metadata": {},
   "source": [
    "# 2. Exploratory Data Analysy"
   ]
  },
  {
   "cell_type": "code",
   "execution_count": 289,
   "id": "e0fbcb43",
   "metadata": {
    "ExecuteTime": {
     "end_time": "2022-03-22T14:03:35.838102Z",
     "start_time": "2022-03-22T14:03:35.835342Z"
    }
   },
   "outputs": [],
   "source": [
    "df2 = df_full_final.copy()"
   ]
  },
  {
   "cell_type": "code",
   "execution_count": 290,
   "id": "ee21480b",
   "metadata": {
    "ExecuteTime": {
     "end_time": "2022-03-22T14:03:37.864523Z",
     "start_time": "2022-03-22T14:03:37.759927Z"
    }
   },
   "outputs": [
    {
     "data": {
      "image/png": "[encoded data removed]",
      "text/plain": [
       "<Figure size 432x288 with 1 Axes>"
      ]
     },
     "metadata": {
      "needs_background": "light"
     },
     "output_type": "display_data"
    }
   ],
   "source": [
    "df2.resultado.value_counts(normalize=True).plot(kind='bar');\n",
    "plt.title('0 - Empate, 1 - Mandante, 2 - Visitante');"
   ]
  },
  {
   "cell_type": "code",
   "execution_count": 291,
   "id": "81ff0aeb",
   "metadata": {
    "ExecuteTime": {
     "end_time": "2022-03-22T14:03:40.674886Z",
     "start_time": "2022-03-22T14:03:40.497961Z"
    }
   },
   "outputs": [
    {
     "data": {
      "image/png": "[encoded data removed]",
      "text/plain": [
       "<Figure size 432x288 with 1 Axes>"
      ]
     },
     "metadata": {
      "needs_background": "light"
     },
     "output_type": "display_data"
    }
   ],
   "source": [
    "sns.countplot(y=df2.dia, hue=df2.resultado);\n",
    "plt.title('Resultado por dia da semana');"
   ]
  },
  {
   "cell_type": "markdown",
   "id": "06ba7bb1",
   "metadata": {},
   "source": [
    "# 3. Feature Engineering "
   ]
  },
  {
   "cell_type": "code",
   "execution_count": 401,
   "id": "94fdb3fc",
   "metadata": {
    "ExecuteTime": {
     "end_time": "2022-03-22T14:17:50.279716Z",
     "start_time": "2022-03-22T14:17:50.276862Z"
    }
   },
   "outputs": [],
   "source": [
    "df3 = df2.copy()"
   ]
  },
  {
   "cell_type": "code",
   "execution_count": 402,
   "id": "ec2bfd42",
   "metadata": {
    "ExecuteTime": {
     "end_time": "2022-03-22T14:17:50.620106Z",
     "start_time": "2022-03-22T14:17:50.611860Z"
    }
   },
   "outputs": [],
   "source": [
    "to_drop = ['index','ID']\n",
    "df3 = df3.drop(to_drop, axis = 1)"
   ]
  },
  {
   "cell_type": "code",
   "execution_count": 403,
   "id": "4fa0b10b",
   "metadata": {
    "ExecuteTime": {
     "end_time": "2022-03-22T14:17:51.003914Z",
     "start_time": "2022-03-22T14:17:50.977157Z"
    }
   },
   "outputs": [
    {
     "data": {
      "text/html": [
       "<div>\n",
       "<style scoped>\n",
       "    .dataframe tbody tr th:only-of-type {\n",
       "        vertical-align: middle;\n",
       "    }\n",
       "\n",
       "    .dataframe tbody tr th {\n",
       "        vertical-align: top;\n",
       "    }\n",
       "\n",
       "    .dataframe thead th {\n",
       "        text-align: right;\n",
       "    }\n",
       "</style>\n",
       "<table border=\"1\" class=\"dataframe\">\n",
       "  <thead>\n",
       "    <tr style=\"text-align: right;\">\n",
       "      <th></th>\n",
       "      <th>rodada</th>\n",
       "      <th>data</th>\n",
       "      <th>hora</th>\n",
       "      <th>dia</th>\n",
       "      <th>mandante</th>\n",
       "      <th>visitante</th>\n",
       "      <th>formacao_mandante</th>\n",
       "      <th>formacao_visitante</th>\n",
       "      <th>tecnico_mandante</th>\n",
       "      <th>tecnico_visitante</th>\n",
       "      <th>...</th>\n",
       "      <th>visitante_precisao_passes</th>\n",
       "      <th>mandante_faltas</th>\n",
       "      <th>visitante_faltas</th>\n",
       "      <th>mandante_cartao_amarelo</th>\n",
       "      <th>visitante_cartao_amarelo</th>\n",
       "      <th>mandante_cartao_vermelho</th>\n",
       "      <th>visitante_cartao_vermelho</th>\n",
       "      <th>mandante_impedimentos</th>\n",
       "      <th>visitante_impedimentos</th>\n",
       "      <th>resultado</th>\n",
       "    </tr>\n",
       "  </thead>\n",
       "  <tbody>\n",
       "    <tr>\n",
       "      <th>0</th>\n",
       "      <td>1</td>\n",
       "      <td>2019-04-27</td>\n",
       "      <td>16:02</td>\n",
       "      <td>Sabado</td>\n",
       "      <td>Sao Paulo</td>\n",
       "      <td>Botafogo-RJ</td>\n",
       "      <td>4-2-3-1</td>\n",
       "      <td>4-1-4-1</td>\n",
       "      <td>E. de Souza Barroca</td>\n",
       "      <td>E. de Souza Barroca</td>\n",
       "      <td>...</td>\n",
       "      <td>0.89</td>\n",
       "      <td>23.0</td>\n",
       "      <td>7.0</td>\n",
       "      <td>0.0</td>\n",
       "      <td>4.0</td>\n",
       "      <td>0.0</td>\n",
       "      <td>0.0</td>\n",
       "      <td>2.0</td>\n",
       "      <td>1.0</td>\n",
       "      <td>1.0</td>\n",
       "    </tr>\n",
       "    <tr>\n",
       "      <th>1</th>\n",
       "      <td>1</td>\n",
       "      <td>2019-04-27</td>\n",
       "      <td>19:00</td>\n",
       "      <td>Sabado</td>\n",
       "      <td>Atletico-MG</td>\n",
       "      <td>Avai</td>\n",
       "      <td>4-2-3-1</td>\n",
       "      <td>4-1-4-1</td>\n",
       "      <td>E. Machado Souto</td>\n",
       "      <td>E. Machado Souto</td>\n",
       "      <td>...</td>\n",
       "      <td>0.79</td>\n",
       "      <td>12.0</td>\n",
       "      <td>18.0</td>\n",
       "      <td>0.0</td>\n",
       "      <td>1.0</td>\n",
       "      <td>0.0</td>\n",
       "      <td>0.0</td>\n",
       "      <td>0.0</td>\n",
       "      <td>1.0</td>\n",
       "      <td>1.0</td>\n",
       "    </tr>\n",
       "    <tr>\n",
       "      <th>2</th>\n",
       "      <td>1</td>\n",
       "      <td>2019-04-27</td>\n",
       "      <td>19:01</td>\n",
       "      <td>Sabado</td>\n",
       "      <td>Chapecoense</td>\n",
       "      <td>Internacional</td>\n",
       "      <td>4-2-3-1</td>\n",
       "      <td>4-3-3</td>\n",
       "      <td>O. Hellmann</td>\n",
       "      <td>O. Hellmann</td>\n",
       "      <td>...</td>\n",
       "      <td>0.81</td>\n",
       "      <td>15.0</td>\n",
       "      <td>11.0</td>\n",
       "      <td>1.0</td>\n",
       "      <td>1.0</td>\n",
       "      <td>0.0</td>\n",
       "      <td>0.0</td>\n",
       "      <td>0.0</td>\n",
       "      <td>2.0</td>\n",
       "      <td>1.0</td>\n",
       "    </tr>\n",
       "    <tr>\n",
       "      <th>3</th>\n",
       "      <td>1</td>\n",
       "      <td>2019-04-27</td>\n",
       "      <td>21:00</td>\n",
       "      <td>Sabado</td>\n",
       "      <td>Flamengo</td>\n",
       "      <td>Cruzeiro</td>\n",
       "      <td>4-2-3-1</td>\n",
       "      <td>4-2-3-1</td>\n",
       "      <td>L. Venker de Menezes</td>\n",
       "      <td>L. Venker de Menezes</td>\n",
       "      <td>...</td>\n",
       "      <td>0.79</td>\n",
       "      <td>13.0</td>\n",
       "      <td>17.0</td>\n",
       "      <td>4.0</td>\n",
       "      <td>4.0</td>\n",
       "      <td>0.0</td>\n",
       "      <td>1.0</td>\n",
       "      <td>0.0</td>\n",
       "      <td>1.0</td>\n",
       "      <td>1.0</td>\n",
       "    </tr>\n",
       "    <tr>\n",
       "      <th>4</th>\n",
       "      <td>1</td>\n",
       "      <td>2019-04-28</td>\n",
       "      <td>11:03</td>\n",
       "      <td>Domingo</td>\n",
       "      <td>Gremio</td>\n",
       "      <td>Santos</td>\n",
       "      <td>4-2-3-1</td>\n",
       "      <td>3-4-1-2</td>\n",
       "      <td>J. Sampaoli Moya</td>\n",
       "      <td>J. Sampaoli Moya</td>\n",
       "      <td>...</td>\n",
       "      <td>0.71</td>\n",
       "      <td>12.0</td>\n",
       "      <td>18.0</td>\n",
       "      <td>3.0</td>\n",
       "      <td>4.0</td>\n",
       "      <td>0.0</td>\n",
       "      <td>1.0</td>\n",
       "      <td>2.0</td>\n",
       "      <td>1.0</td>\n",
       "      <td>2.0</td>\n",
       "    </tr>\n",
       "  </tbody>\n",
       "</table>\n",
       "<p>5 rows × 39 columns</p>\n",
       "</div>"
      ],
      "text/plain": [
       "   rodada       data   hora      dia     mandante      visitante  \\\n",
       "0       1 2019-04-27  16:02   Sabado    Sao Paulo    Botafogo-RJ   \n",
       "1       1 2019-04-27  19:00   Sabado  Atletico-MG           Avai   \n",
       "2       1 2019-04-27  19:01   Sabado  Chapecoense  Internacional   \n",
       "3       1 2019-04-27  21:00   Sabado     Flamengo       Cruzeiro   \n",
       "4       1 2019-04-28  11:03  Domingo       Gremio         Santos   \n",
       "\n",
       "  formacao_mandante formacao_visitante      tecnico_mandante  \\\n",
       "0           4-2-3-1            4-1-4-1   E. de Souza Barroca   \n",
       "1           4-2-3-1            4-1-4-1      E. Machado Souto   \n",
       "2           4-2-3-1              4-3-3           O. Hellmann   \n",
       "3           4-2-3-1            4-2-3-1  L. Venker de Menezes   \n",
       "4           4-2-3-1            3-4-1-2      J. Sampaoli Moya   \n",
       "\n",
       "      tecnico_visitante  ... visitante_precisao_passes  mandante_faltas  \\\n",
       "0   E. de Souza Barroca  ...                      0.89             23.0   \n",
       "1      E. Machado Souto  ...                      0.79             12.0   \n",
       "2           O. Hellmann  ...                      0.81             15.0   \n",
       "3  L. Venker de Menezes  ...                      0.79             13.0   \n",
       "4      J. Sampaoli Moya  ...                      0.71             12.0   \n",
       "\n",
       "   visitante_faltas mandante_cartao_amarelo visitante_cartao_amarelo  \\\n",
       "0               7.0                     0.0                      4.0   \n",
       "1              18.0                     0.0                      1.0   \n",
       "2              11.0                     1.0                      1.0   \n",
       "3              17.0                     4.0                      4.0   \n",
       "4              18.0                     3.0                      4.0   \n",
       "\n",
       "  mandante_cartao_vermelho  visitante_cartao_vermelho  mandante_impedimentos  \\\n",
       "0                      0.0                        0.0                    2.0   \n",
       "1                      0.0                        0.0                    0.0   \n",
       "2                      0.0                        0.0                    0.0   \n",
       "3                      0.0                        1.0                    0.0   \n",
       "4                      0.0                        1.0                    2.0   \n",
       "\n",
       "   visitante_impedimentos  resultado  \n",
       "0                     1.0        1.0  \n",
       "1                     1.0        1.0  \n",
       "2                     2.0        1.0  \n",
       "3                     1.0        1.0  \n",
       "4                     1.0        2.0  \n",
       "\n",
       "[5 rows x 39 columns]"
      ]
     },
     "execution_count": 403,
     "metadata": {},
     "output_type": "execute_result"
    }
   ],
   "source": [
    "df3.head()"
   ]
  },
  {
   "cell_type": "code",
   "execution_count": 404,
   "id": "64cab1df",
   "metadata": {
    "ExecuteTime": {
     "end_time": "2022-03-22T14:17:51.753196Z",
     "start_time": "2022-03-22T14:17:51.738962Z"
    }
   },
   "outputs": [
    {
     "data": {
      "text/plain": [
       "rodada                                int64\n",
       "data                         datetime64[ns]\n",
       "hora                                 object\n",
       "dia                                  object\n",
       "mandante                             object\n",
       "visitante                            object\n",
       "formacao_mandante                    object\n",
       "formacao_visitante                   object\n",
       "tecnico_mandante                     object\n",
       "tecnico_visitante                    object\n",
       "arena                                object\n",
       "mandante_placar                       int64\n",
       "visitante_placar                      int64\n",
       "mandante_estado                      object\n",
       "visitante_estado                     object\n",
       "estado_vencedor                      object\n",
       "mandante_venceu_ultima                int64\n",
       "visitante_venceu_ultima               int64\n",
       "n_gols_mandante_ultima                int64\n",
       "n_gols_visitante_ultima               int64\n",
       "mandante_chutes                     float64\n",
       "visitante_chutes                    float64\n",
       "mandante_chutes_no_alvo             float64\n",
       "visitante_chutes_no_alvo            float64\n",
       "mandante_posse_de_bola              float64\n",
       "visitante_posse_de_bola             float64\n",
       "mandante_passes                     float64\n",
       "visitante_passes                    float64\n",
       "mandante_precisao_passes            float64\n",
       "visitante_precisao_passes           float64\n",
       "mandante_faltas                     float64\n",
       "visitante_faltas                    float64\n",
       "mandante_cartao_amarelo             float64\n",
       "visitante_cartao_amarelo            float64\n",
       "mandante_cartao_vermelho            float64\n",
       "visitante_cartao_vermelho           float64\n",
       "mandante_impedimentos               float64\n",
       "visitante_impedimentos              float64\n",
       "resultado                           float64\n",
       "dtype: object"
      ]
     },
     "execution_count": 404,
     "metadata": {},
     "output_type": "execute_result"
    }
   ],
   "source": [
    "df3.dtypes"
   ]
  },
  {
   "cell_type": "code",
   "execution_count": 405,
   "id": "09e4c9a9",
   "metadata": {
    "ExecuteTime": {
     "end_time": "2022-03-22T14:17:52.519067Z",
     "start_time": "2022-03-22T14:17:52.499893Z"
    }
   },
   "outputs": [],
   "source": [
    "df3.loc[:,'hora_decimal'] = pd.to_datetime(df3.hora).dt.hour + pd.to_datetime(df3.hora).dt.minute / 60"
   ]
  },
  {
   "cell_type": "code",
   "execution_count": 406,
   "id": "900a4911",
   "metadata": {
    "ExecuteTime": {
     "end_time": "2022-03-22T14:17:53.320898Z",
     "start_time": "2022-03-22T14:17:53.314966Z"
    }
   },
   "outputs": [],
   "source": [
    "df3['hora_sin_'] = df3['hora_decimal'].apply(lambda x: np.sin(x * (2 * np.pi/24)))"
   ]
  },
  {
   "cell_type": "code",
   "execution_count": 407,
   "id": "43ee73b5",
   "metadata": {
    "ExecuteTime": {
     "end_time": "2022-03-22T14:17:53.690651Z",
     "start_time": "2022-03-22T14:17:53.685101Z"
    }
   },
   "outputs": [],
   "source": [
    "df3 = df3.drop(['hora', 'hora_decimal'], axis = 1)"
   ]
  },
  {
   "cell_type": "code",
   "execution_count": 408,
   "id": "0eff477b",
   "metadata": {
    "ExecuteTime": {
     "end_time": "2022-03-22T14:17:54.554645Z",
     "start_time": "2022-03-22T14:17:54.551368Z"
    }
   },
   "outputs": [],
   "source": [
    "df3.insert(2, 'hora_sin', df3.hora_sin_)"
   ]
  },
  {
   "cell_type": "code",
   "execution_count": 409,
   "id": "4db7ff65",
   "metadata": {
    "ExecuteTime": {
     "end_time": "2022-03-22T14:17:55.368027Z",
     "start_time": "2022-03-22T14:17:55.364111Z"
    }
   },
   "outputs": [],
   "source": [
    "df3 = df3.drop('hora_sin_', axis = 1)"
   ]
  },
  {
   "cell_type": "code",
   "execution_count": 410,
   "id": "2081235f",
   "metadata": {
    "ExecuteTime": {
     "end_time": "2022-03-22T14:17:55.560089Z",
     "start_time": "2022-03-22T14:17:55.532152Z"
    }
   },
   "outputs": [
    {
     "data": {
      "text/html": [
       "<div>\n",
       "<style scoped>\n",
       "    .dataframe tbody tr th:only-of-type {\n",
       "        vertical-align: middle;\n",
       "    }\n",
       "\n",
       "    .dataframe tbody tr th {\n",
       "        vertical-align: top;\n",
       "    }\n",
       "\n",
       "    .dataframe thead th {\n",
       "        text-align: right;\n",
       "    }\n",
       "</style>\n",
       "<table border=\"1\" class=\"dataframe\">\n",
       "  <thead>\n",
       "    <tr style=\"text-align: right;\">\n",
       "      <th></th>\n",
       "      <th>rodada</th>\n",
       "      <th>data</th>\n",
       "      <th>hora_sin</th>\n",
       "      <th>dia</th>\n",
       "      <th>mandante</th>\n",
       "      <th>visitante</th>\n",
       "      <th>formacao_mandante</th>\n",
       "      <th>formacao_visitante</th>\n",
       "      <th>tecnico_mandante</th>\n",
       "      <th>tecnico_visitante</th>\n",
       "      <th>...</th>\n",
       "      <th>visitante_precisao_passes</th>\n",
       "      <th>mandante_faltas</th>\n",
       "      <th>visitante_faltas</th>\n",
       "      <th>mandante_cartao_amarelo</th>\n",
       "      <th>visitante_cartao_amarelo</th>\n",
       "      <th>mandante_cartao_vermelho</th>\n",
       "      <th>visitante_cartao_vermelho</th>\n",
       "      <th>mandante_impedimentos</th>\n",
       "      <th>visitante_impedimentos</th>\n",
       "      <th>resultado</th>\n",
       "    </tr>\n",
       "  </thead>\n",
       "  <tbody>\n",
       "    <tr>\n",
       "      <th>0</th>\n",
       "      <td>1</td>\n",
       "      <td>2019-04-27</td>\n",
       "      <td>-0.870356</td>\n",
       "      <td>Sabado</td>\n",
       "      <td>Sao Paulo</td>\n",
       "      <td>Botafogo-RJ</td>\n",
       "      <td>4-2-3-1</td>\n",
       "      <td>4-1-4-1</td>\n",
       "      <td>E. de Souza Barroca</td>\n",
       "      <td>E. de Souza Barroca</td>\n",
       "      <td>...</td>\n",
       "      <td>0.89</td>\n",
       "      <td>23.0</td>\n",
       "      <td>7.0</td>\n",
       "      <td>0.0</td>\n",
       "      <td>4.0</td>\n",
       "      <td>0.0</td>\n",
       "      <td>0.0</td>\n",
       "      <td>2.0</td>\n",
       "      <td>1.0</td>\n",
       "      <td>1.0</td>\n",
       "    </tr>\n",
       "    <tr>\n",
       "      <th>1</th>\n",
       "      <td>1</td>\n",
       "      <td>2019-04-27</td>\n",
       "      <td>-0.965926</td>\n",
       "      <td>Sabado</td>\n",
       "      <td>Atletico-MG</td>\n",
       "      <td>Avai</td>\n",
       "      <td>4-2-3-1</td>\n",
       "      <td>4-1-4-1</td>\n",
       "      <td>E. Machado Souto</td>\n",
       "      <td>E. Machado Souto</td>\n",
       "      <td>...</td>\n",
       "      <td>0.79</td>\n",
       "      <td>12.0</td>\n",
       "      <td>18.0</td>\n",
       "      <td>0.0</td>\n",
       "      <td>1.0</td>\n",
       "      <td>0.0</td>\n",
       "      <td>0.0</td>\n",
       "      <td>0.0</td>\n",
       "      <td>1.0</td>\n",
       "      <td>1.0</td>\n",
       "    </tr>\n",
       "    <tr>\n",
       "      <th>2</th>\n",
       "      <td>1</td>\n",
       "      <td>2019-04-27</td>\n",
       "      <td>-0.964787</td>\n",
       "      <td>Sabado</td>\n",
       "      <td>Chapecoense</td>\n",
       "      <td>Internacional</td>\n",
       "      <td>4-2-3-1</td>\n",
       "      <td>4-3-3</td>\n",
       "      <td>O. Hellmann</td>\n",
       "      <td>O. Hellmann</td>\n",
       "      <td>...</td>\n",
       "      <td>0.81</td>\n",
       "      <td>15.0</td>\n",
       "      <td>11.0</td>\n",
       "      <td>1.0</td>\n",
       "      <td>1.0</td>\n",
       "      <td>0.0</td>\n",
       "      <td>0.0</td>\n",
       "      <td>0.0</td>\n",
       "      <td>2.0</td>\n",
       "      <td>1.0</td>\n",
       "    </tr>\n",
       "    <tr>\n",
       "      <th>3</th>\n",
       "      <td>1</td>\n",
       "      <td>2019-04-27</td>\n",
       "      <td>-0.707107</td>\n",
       "      <td>Sabado</td>\n",
       "      <td>Flamengo</td>\n",
       "      <td>Cruzeiro</td>\n",
       "      <td>4-2-3-1</td>\n",
       "      <td>4-2-3-1</td>\n",
       "      <td>L. Venker de Menezes</td>\n",
       "      <td>L. Venker de Menezes</td>\n",
       "      <td>...</td>\n",
       "      <td>0.79</td>\n",
       "      <td>13.0</td>\n",
       "      <td>17.0</td>\n",
       "      <td>4.0</td>\n",
       "      <td>4.0</td>\n",
       "      <td>0.0</td>\n",
       "      <td>1.0</td>\n",
       "      <td>0.0</td>\n",
       "      <td>1.0</td>\n",
       "      <td>1.0</td>\n",
       "    </tr>\n",
       "    <tr>\n",
       "      <th>4</th>\n",
       "      <td>1</td>\n",
       "      <td>2019-04-28</td>\n",
       "      <td>0.246153</td>\n",
       "      <td>Domingo</td>\n",
       "      <td>Gremio</td>\n",
       "      <td>Santos</td>\n",
       "      <td>4-2-3-1</td>\n",
       "      <td>3-4-1-2</td>\n",
       "      <td>J. Sampaoli Moya</td>\n",
       "      <td>J. Sampaoli Moya</td>\n",
       "      <td>...</td>\n",
       "      <td>0.71</td>\n",
       "      <td>12.0</td>\n",
       "      <td>18.0</td>\n",
       "      <td>3.0</td>\n",
       "      <td>4.0</td>\n",
       "      <td>0.0</td>\n",
       "      <td>1.0</td>\n",
       "      <td>2.0</td>\n",
       "      <td>1.0</td>\n",
       "      <td>2.0</td>\n",
       "    </tr>\n",
       "  </tbody>\n",
       "</table>\n",
       "<p>5 rows × 39 columns</p>\n",
       "</div>"
      ],
      "text/plain": [
       "   rodada       data  hora_sin      dia     mandante      visitante  \\\n",
       "0       1 2019-04-27 -0.870356   Sabado    Sao Paulo    Botafogo-RJ   \n",
       "1       1 2019-04-27 -0.965926   Sabado  Atletico-MG           Avai   \n",
       "2       1 2019-04-27 -0.964787   Sabado  Chapecoense  Internacional   \n",
       "3       1 2019-04-27 -0.707107   Sabado     Flamengo       Cruzeiro   \n",
       "4       1 2019-04-28  0.246153  Domingo       Gremio         Santos   \n",
       "\n",
       "  formacao_mandante formacao_visitante      tecnico_mandante  \\\n",
       "0           4-2-3-1            4-1-4-1   E. de Souza Barroca   \n",
       "1           4-2-3-1            4-1-4-1      E. Machado Souto   \n",
       "2           4-2-3-1              4-3-3           O. Hellmann   \n",
       "3           4-2-3-1            4-2-3-1  L. Venker de Menezes   \n",
       "4           4-2-3-1            3-4-1-2      J. Sampaoli Moya   \n",
       "\n",
       "      tecnico_visitante  ... visitante_precisao_passes  mandante_faltas  \\\n",
       "0   E. de Souza Barroca  ...                      0.89             23.0   \n",
       "1      E. Machado Souto  ...                      0.79             12.0   \n",
       "2           O. Hellmann  ...                      0.81             15.0   \n",
       "3  L. Venker de Menezes  ...                      0.79             13.0   \n",
       "4      J. Sampaoli Moya  ...                      0.71             12.0   \n",
       "\n",
       "   visitante_faltas mandante_cartao_amarelo visitante_cartao_amarelo  \\\n",
       "0               7.0                     0.0                      4.0   \n",
       "1              18.0                     0.0                      1.0   \n",
       "2              11.0                     1.0                      1.0   \n",
       "3              17.0                     4.0                      4.0   \n",
       "4              18.0                     3.0                      4.0   \n",
       "\n",
       "  mandante_cartao_vermelho  visitante_cartao_vermelho  mandante_impedimentos  \\\n",
       "0                      0.0                        0.0                    2.0   \n",
       "1                      0.0                        0.0                    0.0   \n",
       "2                      0.0                        0.0                    0.0   \n",
       "3                      0.0                        1.0                    0.0   \n",
       "4                      0.0                        1.0                    2.0   \n",
       "\n",
       "   visitante_impedimentos  resultado  \n",
       "0                     1.0        1.0  \n",
       "1                     1.0        1.0  \n",
       "2                     2.0        1.0  \n",
       "3                     1.0        1.0  \n",
       "4                     1.0        2.0  \n",
       "\n",
       "[5 rows x 39 columns]"
      ]
     },
     "execution_count": 410,
     "metadata": {},
     "output_type": "execute_result"
    }
   ],
   "source": [
    "df3.head()"
   ]
  },
  {
   "cell_type": "code",
   "execution_count": 411,
   "id": "0343fc89",
   "metadata": {
    "ExecuteTime": {
     "end_time": "2022-03-22T14:18:05.307909Z",
     "start_time": "2022-03-22T14:18:05.302625Z"
    }
   },
   "outputs": [
    {
     "data": {
      "text/plain": [
       "rodada                                int64\n",
       "data                         datetime64[ns]\n",
       "hora_sin                            float64\n",
       "dia                                  object\n",
       "mandante                             object\n",
       "visitante                            object\n",
       "formacao_mandante                    object\n",
       "formacao_visitante                   object\n",
       "tecnico_mandante                     object\n",
       "tecnico_visitante                    object\n",
       "arena                                object\n",
       "mandante_placar                       int64\n",
       "visitante_placar                      int64\n",
       "mandante_estado                      object\n",
       "visitante_estado                     object\n",
       "estado_vencedor                      object\n",
       "mandante_venceu_ultima                int64\n",
       "visitante_venceu_ultima               int64\n",
       "n_gols_mandante_ultima                int64\n",
       "n_gols_visitante_ultima               int64\n",
       "mandante_chutes                     float64\n",
       "visitante_chutes                    float64\n",
       "mandante_chutes_no_alvo             float64\n",
       "visitante_chutes_no_alvo            float64\n",
       "mandante_posse_de_bola              float64\n",
       "visitante_posse_de_bola             float64\n",
       "mandante_passes                     float64\n",
       "visitante_passes                    float64\n",
       "mandante_precisao_passes            float64\n",
       "visitante_precisao_passes           float64\n",
       "mandante_faltas                     float64\n",
       "visitante_faltas                    float64\n",
       "mandante_cartao_amarelo             float64\n",
       "visitante_cartao_amarelo            float64\n",
       "mandante_cartao_vermelho            float64\n",
       "visitante_cartao_vermelho           float64\n",
       "mandante_impedimentos               float64\n",
       "visitante_impedimentos              float64\n",
       "resultado                           float64\n",
       "dtype: object"
      ]
     },
     "execution_count": 411,
     "metadata": {},
     "output_type": "execute_result"
    }
   ],
   "source": [
    "df3.dtypes"
   ]
  },
  {
   "cell_type": "markdown",
   "id": "9ec5b791",
   "metadata": {},
   "source": [
    "## 3.1 Features creation "
   ]
  },
  {
   "cell_type": "code",
   "execution_count": 412,
   "id": "18edb926",
   "metadata": {
    "ExecuteTime": {
     "end_time": "2022-03-22T14:18:35.662643Z",
     "start_time": "2022-03-22T14:18:35.627743Z"
    }
   },
   "outputs": [
    {
     "name": "stderr",
     "output_type": "stream",
     "text": [
      "/tmp/ipykernel_28129/3886982136.py:4: FutureWarning: Series.dt.weekofyear and Series.dt.week have been deprecated. Please use Series.dt.isocalendar().week instead.\n",
      "  df3['semana_do_ano'] = df3.data.dt.weekofyear\n"
     ]
    },
    {
     "data": {
      "text/html": [
       "<div>\n",
       "<style scoped>\n",
       "    .dataframe tbody tr th:only-of-type {\n",
       "        vertical-align: middle;\n",
       "    }\n",
       "\n",
       "    .dataframe tbody tr th {\n",
       "        vertical-align: top;\n",
       "    }\n",
       "\n",
       "    .dataframe thead th {\n",
       "        text-align: right;\n",
       "    }\n",
       "</style>\n",
       "<table border=\"1\" class=\"dataframe\">\n",
       "  <thead>\n",
       "    <tr style=\"text-align: right;\">\n",
       "      <th></th>\n",
       "      <th>rodada</th>\n",
       "      <th>data</th>\n",
       "      <th>hora_sin</th>\n",
       "      <th>dia</th>\n",
       "      <th>mandante</th>\n",
       "      <th>visitante</th>\n",
       "      <th>formacao_mandante</th>\n",
       "      <th>formacao_visitante</th>\n",
       "      <th>tecnico_mandante</th>\n",
       "      <th>tecnico_visitante</th>\n",
       "      <th>...</th>\n",
       "      <th>visitante_cartao_amarelo</th>\n",
       "      <th>mandante_cartao_vermelho</th>\n",
       "      <th>visitante_cartao_vermelho</th>\n",
       "      <th>mandante_impedimentos</th>\n",
       "      <th>visitante_impedimentos</th>\n",
       "      <th>resultado</th>\n",
       "      <th>ano</th>\n",
       "      <th>dia_do_mes</th>\n",
       "      <th>mes</th>\n",
       "      <th>semana_do_ano</th>\n",
       "    </tr>\n",
       "  </thead>\n",
       "  <tbody>\n",
       "    <tr>\n",
       "      <th>0</th>\n",
       "      <td>1</td>\n",
       "      <td>2019-04-27</td>\n",
       "      <td>-0.870356</td>\n",
       "      <td>Sabado</td>\n",
       "      <td>Sao Paulo</td>\n",
       "      <td>Botafogo-RJ</td>\n",
       "      <td>4-2-3-1</td>\n",
       "      <td>4-1-4-1</td>\n",
       "      <td>E. de Souza Barroca</td>\n",
       "      <td>E. de Souza Barroca</td>\n",
       "      <td>...</td>\n",
       "      <td>4.0</td>\n",
       "      <td>0.0</td>\n",
       "      <td>0.0</td>\n",
       "      <td>2.0</td>\n",
       "      <td>1.0</td>\n",
       "      <td>1.0</td>\n",
       "      <td>2019</td>\n",
       "      <td>27</td>\n",
       "      <td>4</td>\n",
       "      <td>17</td>\n",
       "    </tr>\n",
       "    <tr>\n",
       "      <th>1</th>\n",
       "      <td>1</td>\n",
       "      <td>2019-04-27</td>\n",
       "      <td>-0.965926</td>\n",
       "      <td>Sabado</td>\n",
       "      <td>Atletico-MG</td>\n",
       "      <td>Avai</td>\n",
       "      <td>4-2-3-1</td>\n",
       "      <td>4-1-4-1</td>\n",
       "      <td>E. Machado Souto</td>\n",
       "      <td>E. Machado Souto</td>\n",
       "      <td>...</td>\n",
       "      <td>1.0</td>\n",
       "      <td>0.0</td>\n",
       "      <td>0.0</td>\n",
       "      <td>0.0</td>\n",
       "      <td>1.0</td>\n",
       "      <td>1.0</td>\n",
       "      <td>2019</td>\n",
       "      <td>27</td>\n",
       "      <td>4</td>\n",
       "      <td>17</td>\n",
       "    </tr>\n",
       "    <tr>\n",
       "      <th>2</th>\n",
       "      <td>1</td>\n",
       "      <td>2019-04-27</td>\n",
       "      <td>-0.964787</td>\n",
       "      <td>Sabado</td>\n",
       "      <td>Chapecoense</td>\n",
       "      <td>Internacional</td>\n",
       "      <td>4-2-3-1</td>\n",
       "      <td>4-3-3</td>\n",
       "      <td>O. Hellmann</td>\n",
       "      <td>O. Hellmann</td>\n",
       "      <td>...</td>\n",
       "      <td>1.0</td>\n",
       "      <td>0.0</td>\n",
       "      <td>0.0</td>\n",
       "      <td>0.0</td>\n",
       "      <td>2.0</td>\n",
       "      <td>1.0</td>\n",
       "      <td>2019</td>\n",
       "      <td>27</td>\n",
       "      <td>4</td>\n",
       "      <td>17</td>\n",
       "    </tr>\n",
       "    <tr>\n",
       "      <th>3</th>\n",
       "      <td>1</td>\n",
       "      <td>2019-04-27</td>\n",
       "      <td>-0.707107</td>\n",
       "      <td>Sabado</td>\n",
       "      <td>Flamengo</td>\n",
       "      <td>Cruzeiro</td>\n",
       "      <td>4-2-3-1</td>\n",
       "      <td>4-2-3-1</td>\n",
       "      <td>L. Venker de Menezes</td>\n",
       "      <td>L. Venker de Menezes</td>\n",
       "      <td>...</td>\n",
       "      <td>4.0</td>\n",
       "      <td>0.0</td>\n",
       "      <td>1.0</td>\n",
       "      <td>0.0</td>\n",
       "      <td>1.0</td>\n",
       "      <td>1.0</td>\n",
       "      <td>2019</td>\n",
       "      <td>27</td>\n",
       "      <td>4</td>\n",
       "      <td>17</td>\n",
       "    </tr>\n",
       "    <tr>\n",
       "      <th>4</th>\n",
       "      <td>1</td>\n",
       "      <td>2019-04-28</td>\n",
       "      <td>0.246153</td>\n",
       "      <td>Domingo</td>\n",
       "      <td>Gremio</td>\n",
       "      <td>Santos</td>\n",
       "      <td>4-2-3-1</td>\n",
       "      <td>3-4-1-2</td>\n",
       "      <td>J. Sampaoli Moya</td>\n",
       "      <td>J. Sampaoli Moya</td>\n",
       "      <td>...</td>\n",
       "      <td>4.0</td>\n",
       "      <td>0.0</td>\n",
       "      <td>1.0</td>\n",
       "      <td>2.0</td>\n",
       "      <td>1.0</td>\n",
       "      <td>2.0</td>\n",
       "      <td>2019</td>\n",
       "      <td>28</td>\n",
       "      <td>4</td>\n",
       "      <td>17</td>\n",
       "    </tr>\n",
       "  </tbody>\n",
       "</table>\n",
       "<p>5 rows × 43 columns</p>\n",
       "</div>"
      ],
      "text/plain": [
       "   rodada       data  hora_sin      dia     mandante      visitante  \\\n",
       "0       1 2019-04-27 -0.870356   Sabado    Sao Paulo    Botafogo-RJ   \n",
       "1       1 2019-04-27 -0.965926   Sabado  Atletico-MG           Avai   \n",
       "2       1 2019-04-27 -0.964787   Sabado  Chapecoense  Internacional   \n",
       "3       1 2019-04-27 -0.707107   Sabado     Flamengo       Cruzeiro   \n",
       "4       1 2019-04-28  0.246153  Domingo       Gremio         Santos   \n",
       "\n",
       "  formacao_mandante formacao_visitante      tecnico_mandante  \\\n",
       "0           4-2-3-1            4-1-4-1   E. de Souza Barroca   \n",
       "1           4-2-3-1            4-1-4-1      E. Machado Souto   \n",
       "2           4-2-3-1              4-3-3           O. Hellmann   \n",
       "3           4-2-3-1            4-2-3-1  L. Venker de Menezes   \n",
       "4           4-2-3-1            3-4-1-2      J. Sampaoli Moya   \n",
       "\n",
       "      tecnico_visitante  ... visitante_cartao_amarelo  \\\n",
       "0   E. de Souza Barroca  ...                      4.0   \n",
       "1      E. Machado Souto  ...                      1.0   \n",
       "2           O. Hellmann  ...                      1.0   \n",
       "3  L. Venker de Menezes  ...                      4.0   \n",
       "4      J. Sampaoli Moya  ...                      4.0   \n",
       "\n",
       "   mandante_cartao_vermelho  visitante_cartao_vermelho mandante_impedimentos  \\\n",
       "0                       0.0                        0.0                   2.0   \n",
       "1                       0.0                        0.0                   0.0   \n",
       "2                       0.0                        0.0                   0.0   \n",
       "3                       0.0                        1.0                   0.0   \n",
       "4                       0.0                        1.0                   2.0   \n",
       "\n",
       "  visitante_impedimentos resultado   ano  dia_do_mes  mes  semana_do_ano  \n",
       "0                    1.0       1.0  2019          27    4             17  \n",
       "1                    1.0       1.0  2019          27    4             17  \n",
       "2                    2.0       1.0  2019          27    4             17  \n",
       "3                    1.0       1.0  2019          27    4             17  \n",
       "4                    1.0       2.0  2019          28    4             17  \n",
       "\n",
       "[5 rows x 43 columns]"
      ]
     },
     "execution_count": 412,
     "metadata": {},
     "output_type": "execute_result"
    }
   ],
   "source": [
    "df3['ano'] = df3.data.dt.year\n",
    "df3['dia_do_mes'] = df3.data.dt.day\n",
    "df3['mes'] = df3.data.dt.month\n",
    "df3['semana_do_ano'] = df3.data.dt.weekofyear\n",
    "\n",
    "df3.head()"
   ]
  },
  {
   "cell_type": "markdown",
   "id": "f740f90b",
   "metadata": {},
   "source": [
    "## 3.1 Data transformation "
   ]
  },
  {
   "cell_type": "code",
   "execution_count": 413,
   "id": "e3a23b08",
   "metadata": {
    "ExecuteTime": {
     "end_time": "2022-03-22T14:18:45.154003Z",
     "start_time": "2022-03-22T14:18:45.135445Z"
    }
   },
   "outputs": [],
   "source": [
    "# month\n",
    "df3['mes_sin'] = df3['mes'].apply(lambda x: np.sin(x * (2 * np.pi/12)))\n",
    "df3['mes_cos'] = df3['mes'].apply(lambda x: np.cos(x * (2 * np.pi/12)))\n",
    "# day\n",
    "df3['dia_do_mes_sin'] = df3['dia_do_mes'].apply(lambda x: np.sin(x * (2 * np.pi/30)))\n",
    "df3['dia_do_mes_cos'] = df3['dia_do_mes'].apply(lambda x: np.cos(x * (2 * np.pi/30)))\n",
    "# week of year\n",
    "df3['semana_do_ano_sin'] = df3['semana_do_ano'].apply(lambda x: np.sin(x * (2 * np.pi/52)))\n",
    "df3['semana_do_ano_cos'] = df3['semana_do_ano'].apply(lambda x: np.cos(x * (2 * np.pi/52)))"
   ]
  },
  {
   "cell_type": "code",
   "execution_count": 414,
   "id": "641d83bc",
   "metadata": {
    "ExecuteTime": {
     "end_time": "2022-03-22T14:18:45.997556Z",
     "start_time": "2022-03-22T14:18:45.978890Z"
    }
   },
   "outputs": [
    {
     "data": {
      "text/html": [
       "<div>\n",
       "<style scoped>\n",
       "    .dataframe tbody tr th:only-of-type {\n",
       "        vertical-align: middle;\n",
       "    }\n",
       "\n",
       "    .dataframe tbody tr th {\n",
       "        vertical-align: top;\n",
       "    }\n",
       "\n",
       "    .dataframe thead th {\n",
       "        text-align: right;\n",
       "    }\n",
       "</style>\n",
       "<table border=\"1\" class=\"dataframe\">\n",
       "  <thead>\n",
       "    <tr style=\"text-align: right;\">\n",
       "      <th></th>\n",
       "      <th>rodada</th>\n",
       "      <th>data</th>\n",
       "      <th>hora_sin</th>\n",
       "      <th>dia</th>\n",
       "      <th>mandante</th>\n",
       "      <th>visitante</th>\n",
       "      <th>formacao_mandante</th>\n",
       "      <th>formacao_visitante</th>\n",
       "      <th>tecnico_mandante</th>\n",
       "      <th>tecnico_visitante</th>\n",
       "      <th>...</th>\n",
       "      <th>ano</th>\n",
       "      <th>dia_do_mes</th>\n",
       "      <th>mes</th>\n",
       "      <th>semana_do_ano</th>\n",
       "      <th>mes_sin</th>\n",
       "      <th>mes_cos</th>\n",
       "      <th>dia_do_mes_sin</th>\n",
       "      <th>dia_do_mes_cos</th>\n",
       "      <th>semana_do_ano_sin</th>\n",
       "      <th>semana_do_ano_cos</th>\n",
       "    </tr>\n",
       "  </thead>\n",
       "  <tbody>\n",
       "    <tr>\n",
       "      <th>0</th>\n",
       "      <td>1</td>\n",
       "      <td>2019-04-27</td>\n",
       "      <td>-0.870356</td>\n",
       "      <td>Sabado</td>\n",
       "      <td>Sao Paulo</td>\n",
       "      <td>Botafogo-RJ</td>\n",
       "      <td>4-2-3-1</td>\n",
       "      <td>4-1-4-1</td>\n",
       "      <td>E. de Souza Barroca</td>\n",
       "      <td>E. de Souza Barroca</td>\n",
       "      <td>...</td>\n",
       "      <td>2019</td>\n",
       "      <td>27</td>\n",
       "      <td>4</td>\n",
       "      <td>17</td>\n",
       "      <td>0.866025</td>\n",
       "      <td>-0.5</td>\n",
       "      <td>-0.587785</td>\n",
       "      <td>0.809017</td>\n",
       "      <td>0.885456</td>\n",
       "      <td>-0.464723</td>\n",
       "    </tr>\n",
       "    <tr>\n",
       "      <th>1</th>\n",
       "      <td>1</td>\n",
       "      <td>2019-04-27</td>\n",
       "      <td>-0.965926</td>\n",
       "      <td>Sabado</td>\n",
       "      <td>Atletico-MG</td>\n",
       "      <td>Avai</td>\n",
       "      <td>4-2-3-1</td>\n",
       "      <td>4-1-4-1</td>\n",
       "      <td>E. Machado Souto</td>\n",
       "      <td>E. Machado Souto</td>\n",
       "      <td>...</td>\n",
       "      <td>2019</td>\n",
       "      <td>27</td>\n",
       "      <td>4</td>\n",
       "      <td>17</td>\n",
       "      <td>0.866025</td>\n",
       "      <td>-0.5</td>\n",
       "      <td>-0.587785</td>\n",
       "      <td>0.809017</td>\n",
       "      <td>0.885456</td>\n",
       "      <td>-0.464723</td>\n",
       "    </tr>\n",
       "    <tr>\n",
       "      <th>2</th>\n",
       "      <td>1</td>\n",
       "      <td>2019-04-27</td>\n",
       "      <td>-0.964787</td>\n",
       "      <td>Sabado</td>\n",
       "      <td>Chapecoense</td>\n",
       "      <td>Internacional</td>\n",
       "      <td>4-2-3-1</td>\n",
       "      <td>4-3-3</td>\n",
       "      <td>O. Hellmann</td>\n",
       "      <td>O. Hellmann</td>\n",
       "      <td>...</td>\n",
       "      <td>2019</td>\n",
       "      <td>27</td>\n",
       "      <td>4</td>\n",
       "      <td>17</td>\n",
       "      <td>0.866025</td>\n",
       "      <td>-0.5</td>\n",
       "      <td>-0.587785</td>\n",
       "      <td>0.809017</td>\n",
       "      <td>0.885456</td>\n",
       "      <td>-0.464723</td>\n",
       "    </tr>\n",
       "    <tr>\n",
       "      <th>3</th>\n",
       "      <td>1</td>\n",
       "      <td>2019-04-27</td>\n",
       "      <td>-0.707107</td>\n",
       "      <td>Sabado</td>\n",
       "      <td>Flamengo</td>\n",
       "      <td>Cruzeiro</td>\n",
       "      <td>4-2-3-1</td>\n",
       "      <td>4-2-3-1</td>\n",
       "      <td>L. Venker de Menezes</td>\n",
       "      <td>L. Venker de Menezes</td>\n",
       "      <td>...</td>\n",
       "      <td>2019</td>\n",
       "      <td>27</td>\n",
       "      <td>4</td>\n",
       "      <td>17</td>\n",
       "      <td>0.866025</td>\n",
       "      <td>-0.5</td>\n",
       "      <td>-0.587785</td>\n",
       "      <td>0.809017</td>\n",
       "      <td>0.885456</td>\n",
       "      <td>-0.464723</td>\n",
       "    </tr>\n",
       "    <tr>\n",
       "      <th>4</th>\n",
       "      <td>1</td>\n",
       "      <td>2019-04-28</td>\n",
       "      <td>0.246153</td>\n",
       "      <td>Domingo</td>\n",
       "      <td>Gremio</td>\n",
       "      <td>Santos</td>\n",
       "      <td>4-2-3-1</td>\n",
       "      <td>3-4-1-2</td>\n",
       "      <td>J. Sampaoli Moya</td>\n",
       "      <td>J. Sampaoli Moya</td>\n",
       "      <td>...</td>\n",
       "      <td>2019</td>\n",
       "      <td>28</td>\n",
       "      <td>4</td>\n",
       "      <td>17</td>\n",
       "      <td>0.866025</td>\n",
       "      <td>-0.5</td>\n",
       "      <td>-0.406737</td>\n",
       "      <td>0.913545</td>\n",
       "      <td>0.885456</td>\n",
       "      <td>-0.464723</td>\n",
       "    </tr>\n",
       "  </tbody>\n",
       "</table>\n",
       "<p>5 rows × 49 columns</p>\n",
       "</div>"
      ],
      "text/plain": [
       "   rodada       data  hora_sin      dia     mandante      visitante  \\\n",
       "0       1 2019-04-27 -0.870356   Sabado    Sao Paulo    Botafogo-RJ   \n",
       "1       1 2019-04-27 -0.965926   Sabado  Atletico-MG           Avai   \n",
       "2       1 2019-04-27 -0.964787   Sabado  Chapecoense  Internacional   \n",
       "3       1 2019-04-27 -0.707107   Sabado     Flamengo       Cruzeiro   \n",
       "4       1 2019-04-28  0.246153  Domingo       Gremio         Santos   \n",
       "\n",
       "  formacao_mandante formacao_visitante      tecnico_mandante  \\\n",
       "0           4-2-3-1            4-1-4-1   E. de Souza Barroca   \n",
       "1           4-2-3-1            4-1-4-1      E. Machado Souto   \n",
       "2           4-2-3-1              4-3-3           O. Hellmann   \n",
       "3           4-2-3-1            4-2-3-1  L. Venker de Menezes   \n",
       "4           4-2-3-1            3-4-1-2      J. Sampaoli Moya   \n",
       "\n",
       "      tecnico_visitante  ...   ano  dia_do_mes  mes semana_do_ano   mes_sin  \\\n",
       "0   E. de Souza Barroca  ...  2019          27    4            17  0.866025   \n",
       "1      E. Machado Souto  ...  2019          27    4            17  0.866025   \n",
       "2           O. Hellmann  ...  2019          27    4            17  0.866025   \n",
       "3  L. Venker de Menezes  ...  2019          27    4            17  0.866025   \n",
       "4      J. Sampaoli Moya  ...  2019          28    4            17  0.866025   \n",
       "\n",
       "  mes_cos  dia_do_mes_sin  dia_do_mes_cos  semana_do_ano_sin  \\\n",
       "0    -0.5       -0.587785        0.809017           0.885456   \n",
       "1    -0.5       -0.587785        0.809017           0.885456   \n",
       "2    -0.5       -0.587785        0.809017           0.885456   \n",
       "3    -0.5       -0.587785        0.809017           0.885456   \n",
       "4    -0.5       -0.406737        0.913545           0.885456   \n",
       "\n",
       "   semana_do_ano_cos  \n",
       "0          -0.464723  \n",
       "1          -0.464723  \n",
       "2          -0.464723  \n",
       "3          -0.464723  \n",
       "4          -0.464723  \n",
       "\n",
       "[5 rows x 49 columns]"
      ]
     },
     "execution_count": 414,
     "metadata": {},
     "output_type": "execute_result"
    }
   ],
   "source": [
    "df3.head()"
   ]
  },
  {
   "cell_type": "code",
   "execution_count": 415,
   "id": "263654d5",
   "metadata": {
    "ExecuteTime": {
     "end_time": "2022-03-22T14:19:10.485571Z",
     "start_time": "2022-03-22T14:19:10.477669Z"
    }
   },
   "outputs": [],
   "source": [
    "# rodadas\n",
    "df3['rodadas_sin'] = df3['rodada'].apply(lambda x: np.sin(x * (2 * np.pi/38)))\n",
    "df3['rodadas_cos'] = df3['rodada'].apply(lambda x: np.cos(x * (2 * np.pi/38)))"
   ]
  },
  {
   "cell_type": "code",
   "execution_count": 416,
   "id": "7ece3577",
   "metadata": {
    "ExecuteTime": {
     "end_time": "2022-03-22T14:19:11.016421Z",
     "start_time": "2022-03-22T14:19:11.004436Z"
    }
   },
   "outputs": [
    {
     "data": {
      "text/plain": [
       "['rodada',\n",
       " 'data',\n",
       " 'hora_sin',\n",
       " 'dia',\n",
       " 'mandante',\n",
       " 'visitante',\n",
       " 'formacao_mandante',\n",
       " 'formacao_visitante',\n",
       " 'tecnico_mandante',\n",
       " 'tecnico_visitante',\n",
       " 'arena',\n",
       " 'mandante_placar',\n",
       " 'visitante_placar',\n",
       " 'mandante_estado',\n",
       " 'visitante_estado',\n",
       " 'estado_vencedor',\n",
       " 'mandante_venceu_ultima',\n",
       " 'visitante_venceu_ultima',\n",
       " 'n_gols_mandante_ultima',\n",
       " 'n_gols_visitante_ultima',\n",
       " 'mandante_chutes',\n",
       " 'visitante_chutes',\n",
       " 'mandante_chutes_no_alvo',\n",
       " 'visitante_chutes_no_alvo',\n",
       " 'mandante_posse_de_bola',\n",
       " 'visitante_posse_de_bola',\n",
       " 'mandante_passes',\n",
       " 'visitante_passes',\n",
       " 'mandante_precisao_passes',\n",
       " 'visitante_precisao_passes',\n",
       " 'mandante_faltas',\n",
       " 'visitante_faltas',\n",
       " 'mandante_cartao_amarelo',\n",
       " 'visitante_cartao_amarelo',\n",
       " 'mandante_cartao_vermelho',\n",
       " 'visitante_cartao_vermelho',\n",
       " 'mandante_impedimentos',\n",
       " 'visitante_impedimentos',\n",
       " 'resultado',\n",
       " 'ano',\n",
       " 'dia_do_mes',\n",
       " 'mes',\n",
       " 'semana_do_ano',\n",
       " 'mes_sin',\n",
       " 'mes_cos',\n",
       " 'dia_do_mes_sin',\n",
       " 'dia_do_mes_cos',\n",
       " 'semana_do_ano_sin',\n",
       " 'semana_do_ano_cos',\n",
       " 'rodadas_sin',\n",
       " 'rodadas_cos']"
      ]
     },
     "execution_count": 416,
     "metadata": {},
     "output_type": "execute_result"
    }
   ],
   "source": [
    "df3.columns.tolist()"
   ]
  },
  {
   "cell_type": "code",
   "execution_count": 417,
   "id": "65e82b84",
   "metadata": {
    "ExecuteTime": {
     "end_time": "2022-03-22T14:19:29.809529Z",
     "start_time": "2022-03-22T14:19:29.804539Z"
    }
   },
   "outputs": [],
   "source": [
    "to_drop = ['dia', 'mes', 'ano', 'data', 'rodada', 'dia_do_mes', 'semana_do_ano']\n",
    "df3 = df3.drop(to_drop, axis=1)"
   ]
  },
  {
   "cell_type": "code",
   "execution_count": 418,
   "id": "5589328e",
   "metadata": {
    "ExecuteTime": {
     "end_time": "2022-03-22T14:19:30.171048Z",
     "start_time": "2022-03-22T14:19:30.150049Z"
    }
   },
   "outputs": [
    {
     "data": {
      "text/html": [
       "<div>\n",
       "<style scoped>\n",
       "    .dataframe tbody tr th:only-of-type {\n",
       "        vertical-align: middle;\n",
       "    }\n",
       "\n",
       "    .dataframe tbody tr th {\n",
       "        vertical-align: top;\n",
       "    }\n",
       "\n",
       "    .dataframe thead th {\n",
       "        text-align: right;\n",
       "    }\n",
       "</style>\n",
       "<table border=\"1\" class=\"dataframe\">\n",
       "  <thead>\n",
       "    <tr style=\"text-align: right;\">\n",
       "      <th></th>\n",
       "      <th>hora_sin</th>\n",
       "      <th>mandante</th>\n",
       "      <th>visitante</th>\n",
       "      <th>formacao_mandante</th>\n",
       "      <th>formacao_visitante</th>\n",
       "      <th>tecnico_mandante</th>\n",
       "      <th>tecnico_visitante</th>\n",
       "      <th>arena</th>\n",
       "      <th>mandante_placar</th>\n",
       "      <th>visitante_placar</th>\n",
       "      <th>...</th>\n",
       "      <th>visitante_impedimentos</th>\n",
       "      <th>resultado</th>\n",
       "      <th>mes_sin</th>\n",
       "      <th>mes_cos</th>\n",
       "      <th>dia_do_mes_sin</th>\n",
       "      <th>dia_do_mes_cos</th>\n",
       "      <th>semana_do_ano_sin</th>\n",
       "      <th>semana_do_ano_cos</th>\n",
       "      <th>rodadas_sin</th>\n",
       "      <th>rodadas_cos</th>\n",
       "    </tr>\n",
       "  </thead>\n",
       "  <tbody>\n",
       "    <tr>\n",
       "      <th>0</th>\n",
       "      <td>-0.870356</td>\n",
       "      <td>Sao Paulo</td>\n",
       "      <td>Botafogo-RJ</td>\n",
       "      <td>4-2-3-1</td>\n",
       "      <td>4-1-4-1</td>\n",
       "      <td>E. de Souza Barroca</td>\n",
       "      <td>E. de Souza Barroca</td>\n",
       "      <td>morumbi</td>\n",
       "      <td>2</td>\n",
       "      <td>0</td>\n",
       "      <td>...</td>\n",
       "      <td>1.0</td>\n",
       "      <td>1.0</td>\n",
       "      <td>0.866025</td>\n",
       "      <td>-0.5</td>\n",
       "      <td>-0.587785</td>\n",
       "      <td>0.809017</td>\n",
       "      <td>0.885456</td>\n",
       "      <td>-0.464723</td>\n",
       "      <td>0.164595</td>\n",
       "      <td>0.986361</td>\n",
       "    </tr>\n",
       "    <tr>\n",
       "      <th>1</th>\n",
       "      <td>-0.965926</td>\n",
       "      <td>Atletico-MG</td>\n",
       "      <td>Avai</td>\n",
       "      <td>4-2-3-1</td>\n",
       "      <td>4-1-4-1</td>\n",
       "      <td>E. Machado Souto</td>\n",
       "      <td>E. Machado Souto</td>\n",
       "      <td>estadio raimundo sampaio</td>\n",
       "      <td>2</td>\n",
       "      <td>1</td>\n",
       "      <td>...</td>\n",
       "      <td>1.0</td>\n",
       "      <td>1.0</td>\n",
       "      <td>0.866025</td>\n",
       "      <td>-0.5</td>\n",
       "      <td>-0.587785</td>\n",
       "      <td>0.809017</td>\n",
       "      <td>0.885456</td>\n",
       "      <td>-0.464723</td>\n",
       "      <td>0.164595</td>\n",
       "      <td>0.986361</td>\n",
       "    </tr>\n",
       "    <tr>\n",
       "      <th>2</th>\n",
       "      <td>-0.964787</td>\n",
       "      <td>Chapecoense</td>\n",
       "      <td>Internacional</td>\n",
       "      <td>4-2-3-1</td>\n",
       "      <td>4-3-3</td>\n",
       "      <td>O. Hellmann</td>\n",
       "      <td>O. Hellmann</td>\n",
       "      <td>arena conda</td>\n",
       "      <td>2</td>\n",
       "      <td>0</td>\n",
       "      <td>...</td>\n",
       "      <td>2.0</td>\n",
       "      <td>1.0</td>\n",
       "      <td>0.866025</td>\n",
       "      <td>-0.5</td>\n",
       "      <td>-0.587785</td>\n",
       "      <td>0.809017</td>\n",
       "      <td>0.885456</td>\n",
       "      <td>-0.464723</td>\n",
       "      <td>0.164595</td>\n",
       "      <td>0.986361</td>\n",
       "    </tr>\n",
       "    <tr>\n",
       "      <th>3</th>\n",
       "      <td>-0.707107</td>\n",
       "      <td>Flamengo</td>\n",
       "      <td>Cruzeiro</td>\n",
       "      <td>4-2-3-1</td>\n",
       "      <td>4-2-3-1</td>\n",
       "      <td>L. Venker de Menezes</td>\n",
       "      <td>L. Venker de Menezes</td>\n",
       "      <td>maracana</td>\n",
       "      <td>3</td>\n",
       "      <td>1</td>\n",
       "      <td>...</td>\n",
       "      <td>1.0</td>\n",
       "      <td>1.0</td>\n",
       "      <td>0.866025</td>\n",
       "      <td>-0.5</td>\n",
       "      <td>-0.587785</td>\n",
       "      <td>0.809017</td>\n",
       "      <td>0.885456</td>\n",
       "      <td>-0.464723</td>\n",
       "      <td>0.164595</td>\n",
       "      <td>0.986361</td>\n",
       "    </tr>\n",
       "    <tr>\n",
       "      <th>4</th>\n",
       "      <td>0.246153</td>\n",
       "      <td>Gremio</td>\n",
       "      <td>Santos</td>\n",
       "      <td>4-2-3-1</td>\n",
       "      <td>3-4-1-2</td>\n",
       "      <td>J. Sampaoli Moya</td>\n",
       "      <td>J. Sampaoli Moya</td>\n",
       "      <td>arena do gremio</td>\n",
       "      <td>1</td>\n",
       "      <td>2</td>\n",
       "      <td>...</td>\n",
       "      <td>1.0</td>\n",
       "      <td>2.0</td>\n",
       "      <td>0.866025</td>\n",
       "      <td>-0.5</td>\n",
       "      <td>-0.406737</td>\n",
       "      <td>0.913545</td>\n",
       "      <td>0.885456</td>\n",
       "      <td>-0.464723</td>\n",
       "      <td>0.164595</td>\n",
       "      <td>0.986361</td>\n",
       "    </tr>\n",
       "  </tbody>\n",
       "</table>\n",
       "<p>5 rows × 44 columns</p>\n",
       "</div>"
      ],
      "text/plain": [
       "   hora_sin     mandante      visitante formacao_mandante formacao_visitante  \\\n",
       "0 -0.870356    Sao Paulo    Botafogo-RJ           4-2-3-1            4-1-4-1   \n",
       "1 -0.965926  Atletico-MG           Avai           4-2-3-1            4-1-4-1   \n",
       "2 -0.964787  Chapecoense  Internacional           4-2-3-1              4-3-3   \n",
       "3 -0.707107     Flamengo       Cruzeiro           4-2-3-1            4-2-3-1   \n",
       "4  0.246153       Gremio         Santos           4-2-3-1            3-4-1-2   \n",
       "\n",
       "       tecnico_mandante     tecnico_visitante                     arena  \\\n",
       "0   E. de Souza Barroca   E. de Souza Barroca                   morumbi   \n",
       "1      E. Machado Souto      E. Machado Souto  estadio raimundo sampaio   \n",
       "2           O. Hellmann           O. Hellmann               arena conda   \n",
       "3  L. Venker de Menezes  L. Venker de Menezes                  maracana   \n",
       "4      J. Sampaoli Moya      J. Sampaoli Moya           arena do gremio   \n",
       "\n",
       "   mandante_placar  visitante_placar  ... visitante_impedimentos resultado  \\\n",
       "0                2                 0  ...                    1.0       1.0   \n",
       "1                2                 1  ...                    1.0       1.0   \n",
       "2                2                 0  ...                    2.0       1.0   \n",
       "3                3                 1  ...                    1.0       1.0   \n",
       "4                1                 2  ...                    1.0       2.0   \n",
       "\n",
       "    mes_sin  mes_cos  dia_do_mes_sin  dia_do_mes_cos  semana_do_ano_sin  \\\n",
       "0  0.866025     -0.5       -0.587785        0.809017           0.885456   \n",
       "1  0.866025     -0.5       -0.587785        0.809017           0.885456   \n",
       "2  0.866025     -0.5       -0.587785        0.809017           0.885456   \n",
       "3  0.866025     -0.5       -0.587785        0.809017           0.885456   \n",
       "4  0.866025     -0.5       -0.406737        0.913545           0.885456   \n",
       "\n",
       "   semana_do_ano_cos  rodadas_sin  rodadas_cos  \n",
       "0          -0.464723     0.164595     0.986361  \n",
       "1          -0.464723     0.164595     0.986361  \n",
       "2          -0.464723     0.164595     0.986361  \n",
       "3          -0.464723     0.164595     0.986361  \n",
       "4          -0.464723     0.164595     0.986361  \n",
       "\n",
       "[5 rows x 44 columns]"
      ]
     },
     "execution_count": 418,
     "metadata": {},
     "output_type": "execute_result"
    }
   ],
   "source": [
    "df3.head()"
   ]
  },
  {
   "cell_type": "code",
   "execution_count": 419,
   "id": "62b9f6aa",
   "metadata": {
    "ExecuteTime": {
     "end_time": "2022-03-22T14:19:35.019197Z",
     "start_time": "2022-03-22T14:19:35.015734Z"
    }
   },
   "outputs": [],
   "source": [
    "df3.insert(len(df3.columns.tolist()), 'resultado_final', df3.resultado)"
   ]
  },
  {
   "cell_type": "code",
   "execution_count": 420,
   "id": "4fd0d678",
   "metadata": {
    "ExecuteTime": {
     "end_time": "2022-03-22T14:19:35.335530Z",
     "start_time": "2022-03-22T14:19:35.329476Z"
    }
   },
   "outputs": [],
   "source": [
    "df3 = df3.drop('resultado', axis = 1)"
   ]
  },
  {
   "cell_type": "code",
   "execution_count": 421,
   "id": "fb737ae7",
   "metadata": {
    "ExecuteTime": {
     "end_time": "2022-03-22T14:19:35.835850Z",
     "start_time": "2022-03-22T14:19:35.829313Z"
    }
   },
   "outputs": [
    {
     "data": {
      "text/plain": [
       "hora_sin                     float64\n",
       "mandante                      object\n",
       "visitante                     object\n",
       "formacao_mandante             object\n",
       "formacao_visitante            object\n",
       "tecnico_mandante              object\n",
       "tecnico_visitante             object\n",
       "arena                         object\n",
       "mandante_placar                int64\n",
       "visitante_placar               int64\n",
       "mandante_estado               object\n",
       "visitante_estado              object\n",
       "estado_vencedor               object\n",
       "mandante_venceu_ultima         int64\n",
       "visitante_venceu_ultima        int64\n",
       "n_gols_mandante_ultima         int64\n",
       "n_gols_visitante_ultima        int64\n",
       "mandante_chutes              float64\n",
       "visitante_chutes             float64\n",
       "mandante_chutes_no_alvo      float64\n",
       "visitante_chutes_no_alvo     float64\n",
       "mandante_posse_de_bola       float64\n",
       "visitante_posse_de_bola      float64\n",
       "mandante_passes              float64\n",
       "visitante_passes             float64\n",
       "mandante_precisao_passes     float64\n",
       "visitante_precisao_passes    float64\n",
       "mandante_faltas              float64\n",
       "visitante_faltas             float64\n",
       "mandante_cartao_amarelo      float64\n",
       "visitante_cartao_amarelo     float64\n",
       "mandante_cartao_vermelho     float64\n",
       "visitante_cartao_vermelho    float64\n",
       "mandante_impedimentos        float64\n",
       "visitante_impedimentos       float64\n",
       "mes_sin                      float64\n",
       "mes_cos                      float64\n",
       "dia_do_mes_sin               float64\n",
       "dia_do_mes_cos               float64\n",
       "semana_do_ano_sin            float64\n",
       "semana_do_ano_cos            float64\n",
       "rodadas_sin                  float64\n",
       "rodadas_cos                  float64\n",
       "resultado_final              float64\n",
       "dtype: object"
      ]
     },
     "execution_count": 421,
     "metadata": {},
     "output_type": "execute_result"
    }
   ],
   "source": [
    "df3.dtypes"
   ]
  },
  {
   "cell_type": "code",
   "execution_count": 428,
   "id": "f75e3682",
   "metadata": {
    "ExecuteTime": {
     "end_time": "2022-03-22T14:21:32.932434Z",
     "start_time": "2022-03-22T14:21:32.919580Z"
    }
   },
   "outputs": [],
   "source": [
    "categorical = ['mandante', 'visitante']\n",
    "target = ['resultado_final']\n",
    "\n",
    "df3_cat = df3[categorical]\n",
    "df3_target = df3[target]\n",
    "\n",
    "df3_vitoria = df3[['mandante_venceu_ultima', 'visitante_venceu_ultima']]"
   ]
  },
  {
   "cell_type": "code",
   "execution_count": 423,
   "id": "30bae413",
   "metadata": {
    "ExecuteTime": {
     "end_time": "2022-03-22T14:20:02.071408Z",
     "start_time": "2022-03-22T14:20:02.059477Z"
    }
   },
   "outputs": [],
   "source": [
    "df3_cat_dummies = pd.get_dummies(df3_cat)"
   ]
  },
  {
   "cell_type": "code",
   "execution_count": 424,
   "id": "499db33c",
   "metadata": {
    "ExecuteTime": {
     "end_time": "2022-03-22T14:20:02.430855Z",
     "start_time": "2022-03-22T14:20:02.413372Z"
    }
   },
   "outputs": [
    {
     "data": {
      "text/html": [
       "<div>\n",
       "<style scoped>\n",
       "    .dataframe tbody tr th:only-of-type {\n",
       "        vertical-align: middle;\n",
       "    }\n",
       "\n",
       "    .dataframe tbody tr th {\n",
       "        vertical-align: top;\n",
       "    }\n",
       "\n",
       "    .dataframe thead th {\n",
       "        text-align: right;\n",
       "    }\n",
       "</style>\n",
       "<table border=\"1\" class=\"dataframe\">\n",
       "  <thead>\n",
       "    <tr style=\"text-align: right;\">\n",
       "      <th></th>\n",
       "      <th>mandante_America-MG</th>\n",
       "      <th>mandante_Athletico-PR</th>\n",
       "      <th>mandante_Atletico-GO</th>\n",
       "      <th>mandante_Atletico-MG</th>\n",
       "      <th>mandante_Avai</th>\n",
       "      <th>mandante_Bahia</th>\n",
       "      <th>mandante_Botafogo-RJ</th>\n",
       "      <th>mandante_Bragantino</th>\n",
       "      <th>mandante_CSA</th>\n",
       "      <th>mandante_Ceara</th>\n",
       "      <th>...</th>\n",
       "      <th>visitante_Fortaleza</th>\n",
       "      <th>visitante_Goias</th>\n",
       "      <th>visitante_Gremio</th>\n",
       "      <th>visitante_Internacional</th>\n",
       "      <th>visitante_Juventude</th>\n",
       "      <th>visitante_Palmeiras</th>\n",
       "      <th>visitante_Santos</th>\n",
       "      <th>visitante_Sao Paulo</th>\n",
       "      <th>visitante_Sport</th>\n",
       "      <th>visitante_Vasco</th>\n",
       "    </tr>\n",
       "  </thead>\n",
       "  <tbody>\n",
       "    <tr>\n",
       "      <th>0</th>\n",
       "      <td>0</td>\n",
       "      <td>0</td>\n",
       "      <td>0</td>\n",
       "      <td>0</td>\n",
       "      <td>0</td>\n",
       "      <td>0</td>\n",
       "      <td>0</td>\n",
       "      <td>0</td>\n",
       "      <td>0</td>\n",
       "      <td>0</td>\n",
       "      <td>...</td>\n",
       "      <td>0</td>\n",
       "      <td>0</td>\n",
       "      <td>0</td>\n",
       "      <td>0</td>\n",
       "      <td>0</td>\n",
       "      <td>0</td>\n",
       "      <td>0</td>\n",
       "      <td>0</td>\n",
       "      <td>0</td>\n",
       "      <td>0</td>\n",
       "    </tr>\n",
       "    <tr>\n",
       "      <th>1</th>\n",
       "      <td>0</td>\n",
       "      <td>0</td>\n",
       "      <td>0</td>\n",
       "      <td>1</td>\n",
       "      <td>0</td>\n",
       "      <td>0</td>\n",
       "      <td>0</td>\n",
       "      <td>0</td>\n",
       "      <td>0</td>\n",
       "      <td>0</td>\n",
       "      <td>...</td>\n",
       "      <td>0</td>\n",
       "      <td>0</td>\n",
       "      <td>0</td>\n",
       "      <td>0</td>\n",
       "      <td>0</td>\n",
       "      <td>0</td>\n",
       "      <td>0</td>\n",
       "      <td>0</td>\n",
       "      <td>0</td>\n",
       "      <td>0</td>\n",
       "    </tr>\n",
       "    <tr>\n",
       "      <th>2</th>\n",
       "      <td>0</td>\n",
       "      <td>0</td>\n",
       "      <td>0</td>\n",
       "      <td>0</td>\n",
       "      <td>0</td>\n",
       "      <td>0</td>\n",
       "      <td>0</td>\n",
       "      <td>0</td>\n",
       "      <td>0</td>\n",
       "      <td>0</td>\n",
       "      <td>...</td>\n",
       "      <td>0</td>\n",
       "      <td>0</td>\n",
       "      <td>0</td>\n",
       "      <td>1</td>\n",
       "      <td>0</td>\n",
       "      <td>0</td>\n",
       "      <td>0</td>\n",
       "      <td>0</td>\n",
       "      <td>0</td>\n",
       "      <td>0</td>\n",
       "    </tr>\n",
       "    <tr>\n",
       "      <th>3</th>\n",
       "      <td>0</td>\n",
       "      <td>0</td>\n",
       "      <td>0</td>\n",
       "      <td>0</td>\n",
       "      <td>0</td>\n",
       "      <td>0</td>\n",
       "      <td>0</td>\n",
       "      <td>0</td>\n",
       "      <td>0</td>\n",
       "      <td>0</td>\n",
       "      <td>...</td>\n",
       "      <td>0</td>\n",
       "      <td>0</td>\n",
       "      <td>0</td>\n",
       "      <td>0</td>\n",
       "      <td>0</td>\n",
       "      <td>0</td>\n",
       "      <td>0</td>\n",
       "      <td>0</td>\n",
       "      <td>0</td>\n",
       "      <td>0</td>\n",
       "    </tr>\n",
       "    <tr>\n",
       "      <th>4</th>\n",
       "      <td>0</td>\n",
       "      <td>0</td>\n",
       "      <td>0</td>\n",
       "      <td>0</td>\n",
       "      <td>0</td>\n",
       "      <td>0</td>\n",
       "      <td>0</td>\n",
       "      <td>0</td>\n",
       "      <td>0</td>\n",
       "      <td>0</td>\n",
       "      <td>...</td>\n",
       "      <td>0</td>\n",
       "      <td>0</td>\n",
       "      <td>0</td>\n",
       "      <td>0</td>\n",
       "      <td>0</td>\n",
       "      <td>0</td>\n",
       "      <td>1</td>\n",
       "      <td>0</td>\n",
       "      <td>0</td>\n",
       "      <td>0</td>\n",
       "    </tr>\n",
       "    <tr>\n",
       "      <th>...</th>\n",
       "      <td>...</td>\n",
       "      <td>...</td>\n",
       "      <td>...</td>\n",
       "      <td>...</td>\n",
       "      <td>...</td>\n",
       "      <td>...</td>\n",
       "      <td>...</td>\n",
       "      <td>...</td>\n",
       "      <td>...</td>\n",
       "      <td>...</td>\n",
       "      <td>...</td>\n",
       "      <td>...</td>\n",
       "      <td>...</td>\n",
       "      <td>...</td>\n",
       "      <td>...</td>\n",
       "      <td>...</td>\n",
       "      <td>...</td>\n",
       "      <td>...</td>\n",
       "      <td>...</td>\n",
       "      <td>...</td>\n",
       "      <td>...</td>\n",
       "    </tr>\n",
       "    <tr>\n",
       "      <th>1111</th>\n",
       "      <td>0</td>\n",
       "      <td>0</td>\n",
       "      <td>0</td>\n",
       "      <td>0</td>\n",
       "      <td>0</td>\n",
       "      <td>0</td>\n",
       "      <td>0</td>\n",
       "      <td>1</td>\n",
       "      <td>0</td>\n",
       "      <td>0</td>\n",
       "      <td>...</td>\n",
       "      <td>0</td>\n",
       "      <td>0</td>\n",
       "      <td>0</td>\n",
       "      <td>1</td>\n",
       "      <td>0</td>\n",
       "      <td>0</td>\n",
       "      <td>0</td>\n",
       "      <td>0</td>\n",
       "      <td>0</td>\n",
       "      <td>0</td>\n",
       "    </tr>\n",
       "    <tr>\n",
       "      <th>1112</th>\n",
       "      <td>0</td>\n",
       "      <td>0</td>\n",
       "      <td>0</td>\n",
       "      <td>0</td>\n",
       "      <td>0</td>\n",
       "      <td>0</td>\n",
       "      <td>0</td>\n",
       "      <td>0</td>\n",
       "      <td>0</td>\n",
       "      <td>0</td>\n",
       "      <td>...</td>\n",
       "      <td>0</td>\n",
       "      <td>0</td>\n",
       "      <td>0</td>\n",
       "      <td>0</td>\n",
       "      <td>0</td>\n",
       "      <td>0</td>\n",
       "      <td>0</td>\n",
       "      <td>0</td>\n",
       "      <td>0</td>\n",
       "      <td>0</td>\n",
       "    </tr>\n",
       "    <tr>\n",
       "      <th>1113</th>\n",
       "      <td>0</td>\n",
       "      <td>0</td>\n",
       "      <td>0</td>\n",
       "      <td>0</td>\n",
       "      <td>0</td>\n",
       "      <td>0</td>\n",
       "      <td>0</td>\n",
       "      <td>0</td>\n",
       "      <td>0</td>\n",
       "      <td>0</td>\n",
       "      <td>...</td>\n",
       "      <td>0</td>\n",
       "      <td>0</td>\n",
       "      <td>0</td>\n",
       "      <td>0</td>\n",
       "      <td>0</td>\n",
       "      <td>0</td>\n",
       "      <td>0</td>\n",
       "      <td>0</td>\n",
       "      <td>0</td>\n",
       "      <td>0</td>\n",
       "    </tr>\n",
       "    <tr>\n",
       "      <th>1114</th>\n",
       "      <td>0</td>\n",
       "      <td>0</td>\n",
       "      <td>0</td>\n",
       "      <td>0</td>\n",
       "      <td>0</td>\n",
       "      <td>0</td>\n",
       "      <td>0</td>\n",
       "      <td>0</td>\n",
       "      <td>0</td>\n",
       "      <td>0</td>\n",
       "      <td>...</td>\n",
       "      <td>0</td>\n",
       "      <td>0</td>\n",
       "      <td>0</td>\n",
       "      <td>0</td>\n",
       "      <td>0</td>\n",
       "      <td>0</td>\n",
       "      <td>0</td>\n",
       "      <td>0</td>\n",
       "      <td>0</td>\n",
       "      <td>0</td>\n",
       "    </tr>\n",
       "    <tr>\n",
       "      <th>1115</th>\n",
       "      <td>0</td>\n",
       "      <td>0</td>\n",
       "      <td>0</td>\n",
       "      <td>0</td>\n",
       "      <td>0</td>\n",
       "      <td>0</td>\n",
       "      <td>0</td>\n",
       "      <td>0</td>\n",
       "      <td>0</td>\n",
       "      <td>0</td>\n",
       "      <td>...</td>\n",
       "      <td>0</td>\n",
       "      <td>0</td>\n",
       "      <td>0</td>\n",
       "      <td>0</td>\n",
       "      <td>0</td>\n",
       "      <td>0</td>\n",
       "      <td>0</td>\n",
       "      <td>0</td>\n",
       "      <td>0</td>\n",
       "      <td>0</td>\n",
       "    </tr>\n",
       "  </tbody>\n",
       "</table>\n",
       "<p>1116 rows × 54 columns</p>\n",
       "</div>"
      ],
      "text/plain": [
       "      mandante_America-MG  mandante_Athletico-PR  mandante_Atletico-GO  \\\n",
       "0                       0                      0                     0   \n",
       "1                       0                      0                     0   \n",
       "2                       0                      0                     0   \n",
       "3                       0                      0                     0   \n",
       "4                       0                      0                     0   \n",
       "...                   ...                    ...                   ...   \n",
       "1111                    0                      0                     0   \n",
       "1112                    0                      0                     0   \n",
       "1113                    0                      0                     0   \n",
       "1114                    0                      0                     0   \n",
       "1115                    0                      0                     0   \n",
       "\n",
       "      mandante_Atletico-MG  mandante_Avai  mandante_Bahia  \\\n",
       "0                        0              0               0   \n",
       "1                        1              0               0   \n",
       "2                        0              0               0   \n",
       "3                        0              0               0   \n",
       "4                        0              0               0   \n",
       "...                    ...            ...             ...   \n",
       "1111                     0              0               0   \n",
       "1112                     0              0               0   \n",
       "1113                     0              0               0   \n",
       "1114                     0              0               0   \n",
       "1115                     0              0               0   \n",
       "\n",
       "      mandante_Botafogo-RJ  mandante_Bragantino  mandante_CSA  mandante_Ceara  \\\n",
       "0                        0                    0             0               0   \n",
       "1                        0                    0             0               0   \n",
       "2                        0                    0             0               0   \n",
       "3                        0                    0             0               0   \n",
       "4                        0                    0             0               0   \n",
       "...                    ...                  ...           ...             ...   \n",
       "1111                     0                    1             0               0   \n",
       "1112                     0                    0             0               0   \n",
       "1113                     0                    0             0               0   \n",
       "1114                     0                    0             0               0   \n",
       "1115                     0                    0             0               0   \n",
       "\n",
       "      ...  visitante_Fortaleza  visitante_Goias  visitante_Gremio  \\\n",
       "0     ...                    0                0                 0   \n",
       "1     ...                    0                0                 0   \n",
       "2     ...                    0                0                 0   \n",
       "3     ...                    0                0                 0   \n",
       "4     ...                    0                0                 0   \n",
       "...   ...                  ...              ...               ...   \n",
       "1111  ...                    0                0                 0   \n",
       "1112  ...                    0                0                 0   \n",
       "1113  ...                    0                0                 0   \n",
       "1114  ...                    0                0                 0   \n",
       "1115  ...                    0                0                 0   \n",
       "\n",
       "      visitante_Internacional  visitante_Juventude  visitante_Palmeiras  \\\n",
       "0                           0                    0                    0   \n",
       "1                           0                    0                    0   \n",
       "2                           1                    0                    0   \n",
       "3                           0                    0                    0   \n",
       "4                           0                    0                    0   \n",
       "...                       ...                  ...                  ...   \n",
       "1111                        1                    0                    0   \n",
       "1112                        0                    0                    0   \n",
       "1113                        0                    0                    0   \n",
       "1114                        0                    0                    0   \n",
       "1115                        0                    0                    0   \n",
       "\n",
       "      visitante_Santos  visitante_Sao Paulo  visitante_Sport  visitante_Vasco  \n",
       "0                    0                    0                0                0  \n",
       "1                    0                    0                0                0  \n",
       "2                    0                    0                0                0  \n",
       "3                    0                    0                0                0  \n",
       "4                    1                    0                0                0  \n",
       "...                ...                  ...              ...              ...  \n",
       "1111                 0                    0                0                0  \n",
       "1112                 0                    0                0                0  \n",
       "1113                 0                    0                0                0  \n",
       "1114                 0                    0                0                0  \n",
       "1115                 0                    0                0                0  \n",
       "\n",
       "[1116 rows x 54 columns]"
      ]
     },
     "execution_count": 424,
     "metadata": {},
     "output_type": "execute_result"
    }
   ],
   "source": [
    "df3_cat_dummies"
   ]
  },
  {
   "cell_type": "code",
   "execution_count": 425,
   "id": "87dcfab5",
   "metadata": {
    "ExecuteTime": {
     "end_time": "2022-03-22T14:20:15.780129Z",
     "start_time": "2022-03-22T14:20:15.775180Z"
    }
   },
   "outputs": [],
   "source": [
    "categorical.append(target[0])"
   ]
  },
  {
   "cell_type": "code",
   "execution_count": 429,
   "id": "aba07f64",
   "metadata": {
    "ExecuteTime": {
     "end_time": "2022-03-22T14:21:56.699931Z",
     "start_time": "2022-03-22T14:21:56.695011Z"
    }
   },
   "outputs": [],
   "source": [
    "to_drop = ['mandante',\n",
    "           'visitante',\n",
    "           'formacao_mandante',\n",
    "           'formacao_visitante',\n",
    "           'tecnico_mandante', \n",
    "           'tecnico_visitante',\n",
    "           'arena',\n",
    "           'mandante_estado',\n",
    "           'estado_vencedor',\n",
    "           'visitante_estado',\n",
    "           'mandante_venceu_ultima',\n",
    "           'visitante_venceu_ultima',\n",
    "           'resultado_final']"
   ]
  },
  {
   "cell_type": "code",
   "execution_count": 431,
   "id": "76908b26",
   "metadata": {
    "ExecuteTime": {
     "end_time": "2022-03-22T14:22:00.922064Z",
     "start_time": "2022-03-22T14:22:00.918604Z"
    }
   },
   "outputs": [],
   "source": [
    "df3_numeric = df3.drop(to_drop, axis=1)"
   ]
  },
  {
   "cell_type": "code",
   "execution_count": 432,
   "id": "8f7cfba4",
   "metadata": {
    "ExecuteTime": {
     "end_time": "2022-03-22T14:22:04.618664Z",
     "start_time": "2022-03-22T14:22:04.593842Z"
    }
   },
   "outputs": [
    {
     "data": {
      "text/html": [
       "<div>\n",
       "<style scoped>\n",
       "    .dataframe tbody tr th:only-of-type {\n",
       "        vertical-align: middle;\n",
       "    }\n",
       "\n",
       "    .dataframe tbody tr th {\n",
       "        vertical-align: top;\n",
       "    }\n",
       "\n",
       "    .dataframe thead th {\n",
       "        text-align: right;\n",
       "    }\n",
       "</style>\n",
       "<table border=\"1\" class=\"dataframe\">\n",
       "  <thead>\n",
       "    <tr style=\"text-align: right;\">\n",
       "      <th></th>\n",
       "      <th>hora_sin</th>\n",
       "      <th>mandante</th>\n",
       "      <th>visitante</th>\n",
       "      <th>formacao_mandante</th>\n",
       "      <th>formacao_visitante</th>\n",
       "      <th>tecnico_mandante</th>\n",
       "      <th>tecnico_visitante</th>\n",
       "      <th>arena</th>\n",
       "      <th>mandante_placar</th>\n",
       "      <th>visitante_placar</th>\n",
       "      <th>...</th>\n",
       "      <th>visitante_impedimentos</th>\n",
       "      <th>mes_sin</th>\n",
       "      <th>mes_cos</th>\n",
       "      <th>dia_do_mes_sin</th>\n",
       "      <th>dia_do_mes_cos</th>\n",
       "      <th>semana_do_ano_sin</th>\n",
       "      <th>semana_do_ano_cos</th>\n",
       "      <th>rodadas_sin</th>\n",
       "      <th>rodadas_cos</th>\n",
       "      <th>resultado_final</th>\n",
       "    </tr>\n",
       "  </thead>\n",
       "  <tbody>\n",
       "    <tr>\n",
       "      <th>0</th>\n",
       "      <td>-0.870356</td>\n",
       "      <td>Sao Paulo</td>\n",
       "      <td>Botafogo-RJ</td>\n",
       "      <td>4-2-3-1</td>\n",
       "      <td>4-1-4-1</td>\n",
       "      <td>E. de Souza Barroca</td>\n",
       "      <td>E. de Souza Barroca</td>\n",
       "      <td>morumbi</td>\n",
       "      <td>2</td>\n",
       "      <td>0</td>\n",
       "      <td>...</td>\n",
       "      <td>1.0</td>\n",
       "      <td>0.866025</td>\n",
       "      <td>-0.5</td>\n",
       "      <td>-0.587785</td>\n",
       "      <td>0.809017</td>\n",
       "      <td>0.885456</td>\n",
       "      <td>-0.464723</td>\n",
       "      <td>0.164595</td>\n",
       "      <td>0.986361</td>\n",
       "      <td>1.0</td>\n",
       "    </tr>\n",
       "    <tr>\n",
       "      <th>1</th>\n",
       "      <td>-0.965926</td>\n",
       "      <td>Atletico-MG</td>\n",
       "      <td>Avai</td>\n",
       "      <td>4-2-3-1</td>\n",
       "      <td>4-1-4-1</td>\n",
       "      <td>E. Machado Souto</td>\n",
       "      <td>E. Machado Souto</td>\n",
       "      <td>estadio raimundo sampaio</td>\n",
       "      <td>2</td>\n",
       "      <td>1</td>\n",
       "      <td>...</td>\n",
       "      <td>1.0</td>\n",
       "      <td>0.866025</td>\n",
       "      <td>-0.5</td>\n",
       "      <td>-0.587785</td>\n",
       "      <td>0.809017</td>\n",
       "      <td>0.885456</td>\n",
       "      <td>-0.464723</td>\n",
       "      <td>0.164595</td>\n",
       "      <td>0.986361</td>\n",
       "      <td>1.0</td>\n",
       "    </tr>\n",
       "    <tr>\n",
       "      <th>2</th>\n",
       "      <td>-0.964787</td>\n",
       "      <td>Chapecoense</td>\n",
       "      <td>Internacional</td>\n",
       "      <td>4-2-3-1</td>\n",
       "      <td>4-3-3</td>\n",
       "      <td>O. Hellmann</td>\n",
       "      <td>O. Hellmann</td>\n",
       "      <td>arena conda</td>\n",
       "      <td>2</td>\n",
       "      <td>0</td>\n",
       "      <td>...</td>\n",
       "      <td>2.0</td>\n",
       "      <td>0.866025</td>\n",
       "      <td>-0.5</td>\n",
       "      <td>-0.587785</td>\n",
       "      <td>0.809017</td>\n",
       "      <td>0.885456</td>\n",
       "      <td>-0.464723</td>\n",
       "      <td>0.164595</td>\n",
       "      <td>0.986361</td>\n",
       "      <td>1.0</td>\n",
       "    </tr>\n",
       "    <tr>\n",
       "      <th>3</th>\n",
       "      <td>-0.707107</td>\n",
       "      <td>Flamengo</td>\n",
       "      <td>Cruzeiro</td>\n",
       "      <td>4-2-3-1</td>\n",
       "      <td>4-2-3-1</td>\n",
       "      <td>L. Venker de Menezes</td>\n",
       "      <td>L. Venker de Menezes</td>\n",
       "      <td>maracana</td>\n",
       "      <td>3</td>\n",
       "      <td>1</td>\n",
       "      <td>...</td>\n",
       "      <td>1.0</td>\n",
       "      <td>0.866025</td>\n",
       "      <td>-0.5</td>\n",
       "      <td>-0.587785</td>\n",
       "      <td>0.809017</td>\n",
       "      <td>0.885456</td>\n",
       "      <td>-0.464723</td>\n",
       "      <td>0.164595</td>\n",
       "      <td>0.986361</td>\n",
       "      <td>1.0</td>\n",
       "    </tr>\n",
       "    <tr>\n",
       "      <th>4</th>\n",
       "      <td>0.246153</td>\n",
       "      <td>Gremio</td>\n",
       "      <td>Santos</td>\n",
       "      <td>4-2-3-1</td>\n",
       "      <td>3-4-1-2</td>\n",
       "      <td>J. Sampaoli Moya</td>\n",
       "      <td>J. Sampaoli Moya</td>\n",
       "      <td>arena do gremio</td>\n",
       "      <td>1</td>\n",
       "      <td>2</td>\n",
       "      <td>...</td>\n",
       "      <td>1.0</td>\n",
       "      <td>0.866025</td>\n",
       "      <td>-0.5</td>\n",
       "      <td>-0.406737</td>\n",
       "      <td>0.913545</td>\n",
       "      <td>0.885456</td>\n",
       "      <td>-0.464723</td>\n",
       "      <td>0.164595</td>\n",
       "      <td>0.986361</td>\n",
       "      <td>2.0</td>\n",
       "    </tr>\n",
       "  </tbody>\n",
       "</table>\n",
       "<p>5 rows × 44 columns</p>\n",
       "</div>"
      ],
      "text/plain": [
       "   hora_sin     mandante      visitante formacao_mandante formacao_visitante  \\\n",
       "0 -0.870356    Sao Paulo    Botafogo-RJ           4-2-3-1            4-1-4-1   \n",
       "1 -0.965926  Atletico-MG           Avai           4-2-3-1            4-1-4-1   \n",
       "2 -0.964787  Chapecoense  Internacional           4-2-3-1              4-3-3   \n",
       "3 -0.707107     Flamengo       Cruzeiro           4-2-3-1            4-2-3-1   \n",
       "4  0.246153       Gremio         Santos           4-2-3-1            3-4-1-2   \n",
       "\n",
       "       tecnico_mandante     tecnico_visitante                     arena  \\\n",
       "0   E. de Souza Barroca   E. de Souza Barroca                   morumbi   \n",
       "1      E. Machado Souto      E. Machado Souto  estadio raimundo sampaio   \n",
       "2           O. Hellmann           O. Hellmann               arena conda   \n",
       "3  L. Venker de Menezes  L. Venker de Menezes                  maracana   \n",
       "4      J. Sampaoli Moya      J. Sampaoli Moya           arena do gremio   \n",
       "\n",
       "   mandante_placar  visitante_placar  ... visitante_impedimentos   mes_sin  \\\n",
       "0                2                 0  ...                    1.0  0.866025   \n",
       "1                2                 1  ...                    1.0  0.866025   \n",
       "2                2                 0  ...                    2.0  0.866025   \n",
       "3                3                 1  ...                    1.0  0.866025   \n",
       "4                1                 2  ...                    1.0  0.866025   \n",
       "\n",
       "  mes_cos  dia_do_mes_sin  dia_do_mes_cos  semana_do_ano_sin  \\\n",
       "0    -0.5       -0.587785        0.809017           0.885456   \n",
       "1    -0.5       -0.587785        0.809017           0.885456   \n",
       "2    -0.5       -0.587785        0.809017           0.885456   \n",
       "3    -0.5       -0.587785        0.809017           0.885456   \n",
       "4    -0.5       -0.406737        0.913545           0.885456   \n",
       "\n",
       "   semana_do_ano_cos  rodadas_sin  rodadas_cos  resultado_final  \n",
       "0          -0.464723     0.164595     0.986361              1.0  \n",
       "1          -0.464723     0.164595     0.986361              1.0  \n",
       "2          -0.464723     0.164595     0.986361              1.0  \n",
       "3          -0.464723     0.164595     0.986361              1.0  \n",
       "4          -0.464723     0.164595     0.986361              2.0  \n",
       "\n",
       "[5 rows x 44 columns]"
      ]
     },
     "execution_count": 432,
     "metadata": {},
     "output_type": "execute_result"
    }
   ],
   "source": [
    "df3.head()"
   ]
  },
  {
   "cell_type": "code",
   "execution_count": 433,
   "id": "1f3c520b",
   "metadata": {
    "ExecuteTime": {
     "end_time": "2022-03-22T14:22:19.321878Z",
     "start_time": "2022-03-22T14:22:19.319431Z"
    }
   },
   "outputs": [],
   "source": [
    "columns = df3_numeric.columns.tolist()"
   ]
  },
  {
   "cell_type": "code",
   "execution_count": 434,
   "id": "44fa07a7",
   "metadata": {
    "ExecuteTime": {
     "end_time": "2022-03-22T14:22:23.277575Z",
     "start_time": "2022-03-22T14:22:23.270213Z"
    }
   },
   "outputs": [],
   "source": [
    "ss = StandardScaler()\n",
    "df3_numeric_scaled = pd.DataFrame(ss.fit_transform(df3_numeric), columns=columns)"
   ]
  },
  {
   "cell_type": "code",
   "execution_count": 435,
   "id": "93ef12a8",
   "metadata": {
    "ExecuteTime": {
     "end_time": "2022-03-22T14:22:25.168278Z",
     "start_time": "2022-03-22T14:22:25.145809Z"
    }
   },
   "outputs": [
    {
     "data": {
      "text/html": [
       "<div>\n",
       "<style scoped>\n",
       "    .dataframe tbody tr th:only-of-type {\n",
       "        vertical-align: middle;\n",
       "    }\n",
       "\n",
       "    .dataframe tbody tr th {\n",
       "        vertical-align: top;\n",
       "    }\n",
       "\n",
       "    .dataframe thead th {\n",
       "        text-align: right;\n",
       "    }\n",
       "</style>\n",
       "<table border=\"1\" class=\"dataframe\">\n",
       "  <thead>\n",
       "    <tr style=\"text-align: right;\">\n",
       "      <th></th>\n",
       "      <th>hora_sin</th>\n",
       "      <th>mandante_placar</th>\n",
       "      <th>visitante_placar</th>\n",
       "      <th>n_gols_mandante_ultima</th>\n",
       "      <th>n_gols_visitante_ultima</th>\n",
       "      <th>mandante_chutes</th>\n",
       "      <th>visitante_chutes</th>\n",
       "      <th>mandante_chutes_no_alvo</th>\n",
       "      <th>visitante_chutes_no_alvo</th>\n",
       "      <th>mandante_posse_de_bola</th>\n",
       "      <th>...</th>\n",
       "      <th>mandante_impedimentos</th>\n",
       "      <th>visitante_impedimentos</th>\n",
       "      <th>mes_sin</th>\n",
       "      <th>mes_cos</th>\n",
       "      <th>dia_do_mes_sin</th>\n",
       "      <th>dia_do_mes_cos</th>\n",
       "      <th>semana_do_ano_sin</th>\n",
       "      <th>semana_do_ano_cos</th>\n",
       "      <th>rodadas_sin</th>\n",
       "      <th>rodadas_cos</th>\n",
       "    </tr>\n",
       "  </thead>\n",
       "  <tbody>\n",
       "    <tr>\n",
       "      <th>0</th>\n",
       "      <td>-0.202792</td>\n",
       "      <td>0.562091</td>\n",
       "      <td>-0.979600</td>\n",
       "      <td>-1.054064</td>\n",
       "      <td>-1.070022</td>\n",
       "      <td>-1.455842</td>\n",
       "      <td>-0.084266</td>\n",
       "      <td>-0.330471</td>\n",
       "      <td>-0.815287</td>\n",
       "      <td>-2.170772</td>\n",
       "      <td>...</td>\n",
       "      <td>0.423443</td>\n",
       "      <td>-0.280807</td>\n",
       "      <td>2.266602</td>\n",
       "      <td>-0.876216</td>\n",
       "      <td>-0.977710</td>\n",
       "      <td>1.180711</td>\n",
       "      <td>2.282713</td>\n",
       "      <td>-0.700326</td>\n",
       "      <td>0.229111</td>\n",
       "      <td>1.391262</td>\n",
       "    </tr>\n",
       "    <tr>\n",
       "      <th>1</th>\n",
       "      <td>-0.575607</td>\n",
       "      <td>0.562091</td>\n",
       "      <td>0.021530</td>\n",
       "      <td>-1.054064</td>\n",
       "      <td>-1.070022</td>\n",
       "      <td>-0.682902</td>\n",
       "      <td>-1.201145</td>\n",
       "      <td>-0.735308</td>\n",
       "      <td>-1.298485</td>\n",
       "      <td>0.775400</td>\n",
       "      <td>...</td>\n",
       "      <td>-1.072007</td>\n",
       "      <td>-0.280807</td>\n",
       "      <td>2.266602</td>\n",
       "      <td>-0.876216</td>\n",
       "      <td>-0.977710</td>\n",
       "      <td>1.180711</td>\n",
       "      <td>2.282713</td>\n",
       "      <td>-0.700326</td>\n",
       "      <td>0.229111</td>\n",
       "      <td>1.391262</td>\n",
       "    </tr>\n",
       "    <tr>\n",
       "      <th>2</th>\n",
       "      <td>-0.571165</td>\n",
       "      <td>0.562091</td>\n",
       "      <td>-0.979600</td>\n",
       "      <td>-1.054064</td>\n",
       "      <td>-1.070022</td>\n",
       "      <td>-0.489667</td>\n",
       "      <td>1.926116</td>\n",
       "      <td>0.884038</td>\n",
       "      <td>1.600699</td>\n",
       "      <td>-0.789754</td>\n",
       "      <td>...</td>\n",
       "      <td>-1.072007</td>\n",
       "      <td>0.506581</td>\n",
       "      <td>2.266602</td>\n",
       "      <td>-0.876216</td>\n",
       "      <td>-0.977710</td>\n",
       "      <td>1.180711</td>\n",
       "      <td>2.282713</td>\n",
       "      <td>-0.700326</td>\n",
       "      <td>0.229111</td>\n",
       "      <td>1.391262</td>\n",
       "    </tr>\n",
       "    <tr>\n",
       "      <th>3</th>\n",
       "      <td>0.434035</td>\n",
       "      <td>1.443120</td>\n",
       "      <td>0.021530</td>\n",
       "      <td>-1.054064</td>\n",
       "      <td>-1.070022</td>\n",
       "      <td>0.476508</td>\n",
       "      <td>-2.094649</td>\n",
       "      <td>0.074365</td>\n",
       "      <td>-1.298485</td>\n",
       "      <td>0.591264</td>\n",
       "      <td>...</td>\n",
       "      <td>-1.072007</td>\n",
       "      <td>-0.280807</td>\n",
       "      <td>2.266602</td>\n",
       "      <td>-0.876216</td>\n",
       "      <td>-0.977710</td>\n",
       "      <td>1.180711</td>\n",
       "      <td>2.282713</td>\n",
       "      <td>-0.700326</td>\n",
       "      <td>0.229111</td>\n",
       "      <td>1.391262</td>\n",
       "    </tr>\n",
       "    <tr>\n",
       "      <th>4</th>\n",
       "      <td>4.152659</td>\n",
       "      <td>-0.318939</td>\n",
       "      <td>1.022659</td>\n",
       "      <td>-1.054064</td>\n",
       "      <td>-1.070022</td>\n",
       "      <td>2.215623</td>\n",
       "      <td>-0.754394</td>\n",
       "      <td>2.503383</td>\n",
       "      <td>0.634305</td>\n",
       "      <td>1.235739</td>\n",
       "      <td>...</td>\n",
       "      <td>0.423443</td>\n",
       "      <td>-0.280807</td>\n",
       "      <td>2.266602</td>\n",
       "      <td>-0.876216</td>\n",
       "      <td>-0.717075</td>\n",
       "      <td>1.327360</td>\n",
       "      <td>2.282713</td>\n",
       "      <td>-0.700326</td>\n",
       "      <td>0.229111</td>\n",
       "      <td>1.391262</td>\n",
       "    </tr>\n",
       "  </tbody>\n",
       "</table>\n",
       "<p>5 rows × 31 columns</p>\n",
       "</div>"
      ],
      "text/plain": [
       "   hora_sin  mandante_placar  visitante_placar  n_gols_mandante_ultima  \\\n",
       "0 -0.202792         0.562091         -0.979600               -1.054064   \n",
       "1 -0.575607         0.562091          0.021530               -1.054064   \n",
       "2 -0.571165         0.562091         -0.979600               -1.054064   \n",
       "3  0.434035         1.443120          0.021530               -1.054064   \n",
       "4  4.152659        -0.318939          1.022659               -1.054064   \n",
       "\n",
       "   n_gols_visitante_ultima  mandante_chutes  visitante_chutes  \\\n",
       "0                -1.070022        -1.455842         -0.084266   \n",
       "1                -1.070022        -0.682902         -1.201145   \n",
       "2                -1.070022        -0.489667          1.926116   \n",
       "3                -1.070022         0.476508         -2.094649   \n",
       "4                -1.070022         2.215623         -0.754394   \n",
       "\n",
       "   mandante_chutes_no_alvo  visitante_chutes_no_alvo  mandante_posse_de_bola  \\\n",
       "0                -0.330471                 -0.815287               -2.170772   \n",
       "1                -0.735308                 -1.298485                0.775400   \n",
       "2                 0.884038                  1.600699               -0.789754   \n",
       "3                 0.074365                 -1.298485                0.591264   \n",
       "4                 2.503383                  0.634305                1.235739   \n",
       "\n",
       "   ...  mandante_impedimentos  visitante_impedimentos   mes_sin   mes_cos  \\\n",
       "0  ...               0.423443               -0.280807  2.266602 -0.876216   \n",
       "1  ...              -1.072007               -0.280807  2.266602 -0.876216   \n",
       "2  ...              -1.072007                0.506581  2.266602 -0.876216   \n",
       "3  ...              -1.072007               -0.280807  2.266602 -0.876216   \n",
       "4  ...               0.423443               -0.280807  2.266602 -0.876216   \n",
       "\n",
       "   dia_do_mes_sin  dia_do_mes_cos  semana_do_ano_sin  semana_do_ano_cos  \\\n",
       "0       -0.977710        1.180711           2.282713          -0.700326   \n",
       "1       -0.977710        1.180711           2.282713          -0.700326   \n",
       "2       -0.977710        1.180711           2.282713          -0.700326   \n",
       "3       -0.977710        1.180711           2.282713          -0.700326   \n",
       "4       -0.717075        1.327360           2.282713          -0.700326   \n",
       "\n",
       "   rodadas_sin  rodadas_cos  \n",
       "0     0.229111     1.391262  \n",
       "1     0.229111     1.391262  \n",
       "2     0.229111     1.391262  \n",
       "3     0.229111     1.391262  \n",
       "4     0.229111     1.391262  \n",
       "\n",
       "[5 rows x 31 columns]"
      ]
     },
     "execution_count": 435,
     "metadata": {},
     "output_type": "execute_result"
    }
   ],
   "source": [
    "df3_numeric_scaled.head()"
   ]
  },
  {
   "cell_type": "code",
   "execution_count": 436,
   "id": "26c1ad73",
   "metadata": {
    "ExecuteTime": {
     "end_time": "2022-03-22T14:22:35.937669Z",
     "start_time": "2022-03-22T14:22:35.932441Z"
    }
   },
   "outputs": [],
   "source": [
    "df3_final = pd.concat([df3_cat_dummies, df3_vitoria, df3_numeric_scaled, df3_target], axis =1)"
   ]
  },
  {
   "cell_type": "code",
   "execution_count": 437,
   "id": "29d33c1e",
   "metadata": {
    "ExecuteTime": {
     "end_time": "2022-03-22T14:22:36.590113Z",
     "start_time": "2022-03-22T14:22:36.558697Z"
    }
   },
   "outputs": [
    {
     "data": {
      "text/html": [
       "<div>\n",
       "<style scoped>\n",
       "    .dataframe tbody tr th:only-of-type {\n",
       "        vertical-align: middle;\n",
       "    }\n",
       "\n",
       "    .dataframe tbody tr th {\n",
       "        vertical-align: top;\n",
       "    }\n",
       "\n",
       "    .dataframe thead th {\n",
       "        text-align: right;\n",
       "    }\n",
       "</style>\n",
       "<table border=\"1\" class=\"dataframe\">\n",
       "  <thead>\n",
       "    <tr style=\"text-align: right;\">\n",
       "      <th></th>\n",
       "      <th>mandante_America-MG</th>\n",
       "      <th>mandante_Athletico-PR</th>\n",
       "      <th>mandante_Atletico-GO</th>\n",
       "      <th>mandante_Atletico-MG</th>\n",
       "      <th>mandante_Avai</th>\n",
       "      <th>mandante_Bahia</th>\n",
       "      <th>mandante_Botafogo-RJ</th>\n",
       "      <th>mandante_Bragantino</th>\n",
       "      <th>mandante_CSA</th>\n",
       "      <th>mandante_Ceara</th>\n",
       "      <th>...</th>\n",
       "      <th>visitante_impedimentos</th>\n",
       "      <th>mes_sin</th>\n",
       "      <th>mes_cos</th>\n",
       "      <th>dia_do_mes_sin</th>\n",
       "      <th>dia_do_mes_cos</th>\n",
       "      <th>semana_do_ano_sin</th>\n",
       "      <th>semana_do_ano_cos</th>\n",
       "      <th>rodadas_sin</th>\n",
       "      <th>rodadas_cos</th>\n",
       "      <th>resultado_final</th>\n",
       "    </tr>\n",
       "  </thead>\n",
       "  <tbody>\n",
       "    <tr>\n",
       "      <th>0</th>\n",
       "      <td>0</td>\n",
       "      <td>0</td>\n",
       "      <td>0</td>\n",
       "      <td>0</td>\n",
       "      <td>0</td>\n",
       "      <td>0</td>\n",
       "      <td>0</td>\n",
       "      <td>0</td>\n",
       "      <td>0</td>\n",
       "      <td>0</td>\n",
       "      <td>...</td>\n",
       "      <td>-0.280807</td>\n",
       "      <td>2.266602</td>\n",
       "      <td>-0.876216</td>\n",
       "      <td>-0.977710</td>\n",
       "      <td>1.180711</td>\n",
       "      <td>2.282713</td>\n",
       "      <td>-0.700326</td>\n",
       "      <td>0.229111</td>\n",
       "      <td>1.391262</td>\n",
       "      <td>1.0</td>\n",
       "    </tr>\n",
       "    <tr>\n",
       "      <th>1</th>\n",
       "      <td>0</td>\n",
       "      <td>0</td>\n",
       "      <td>0</td>\n",
       "      <td>1</td>\n",
       "      <td>0</td>\n",
       "      <td>0</td>\n",
       "      <td>0</td>\n",
       "      <td>0</td>\n",
       "      <td>0</td>\n",
       "      <td>0</td>\n",
       "      <td>...</td>\n",
       "      <td>-0.280807</td>\n",
       "      <td>2.266602</td>\n",
       "      <td>-0.876216</td>\n",
       "      <td>-0.977710</td>\n",
       "      <td>1.180711</td>\n",
       "      <td>2.282713</td>\n",
       "      <td>-0.700326</td>\n",
       "      <td>0.229111</td>\n",
       "      <td>1.391262</td>\n",
       "      <td>1.0</td>\n",
       "    </tr>\n",
       "    <tr>\n",
       "      <th>2</th>\n",
       "      <td>0</td>\n",
       "      <td>0</td>\n",
       "      <td>0</td>\n",
       "      <td>0</td>\n",
       "      <td>0</td>\n",
       "      <td>0</td>\n",
       "      <td>0</td>\n",
       "      <td>0</td>\n",
       "      <td>0</td>\n",
       "      <td>0</td>\n",
       "      <td>...</td>\n",
       "      <td>0.506581</td>\n",
       "      <td>2.266602</td>\n",
       "      <td>-0.876216</td>\n",
       "      <td>-0.977710</td>\n",
       "      <td>1.180711</td>\n",
       "      <td>2.282713</td>\n",
       "      <td>-0.700326</td>\n",
       "      <td>0.229111</td>\n",
       "      <td>1.391262</td>\n",
       "      <td>1.0</td>\n",
       "    </tr>\n",
       "    <tr>\n",
       "      <th>3</th>\n",
       "      <td>0</td>\n",
       "      <td>0</td>\n",
       "      <td>0</td>\n",
       "      <td>0</td>\n",
       "      <td>0</td>\n",
       "      <td>0</td>\n",
       "      <td>0</td>\n",
       "      <td>0</td>\n",
       "      <td>0</td>\n",
       "      <td>0</td>\n",
       "      <td>...</td>\n",
       "      <td>-0.280807</td>\n",
       "      <td>2.266602</td>\n",
       "      <td>-0.876216</td>\n",
       "      <td>-0.977710</td>\n",
       "      <td>1.180711</td>\n",
       "      <td>2.282713</td>\n",
       "      <td>-0.700326</td>\n",
       "      <td>0.229111</td>\n",
       "      <td>1.391262</td>\n",
       "      <td>1.0</td>\n",
       "    </tr>\n",
       "    <tr>\n",
       "      <th>4</th>\n",
       "      <td>0</td>\n",
       "      <td>0</td>\n",
       "      <td>0</td>\n",
       "      <td>0</td>\n",
       "      <td>0</td>\n",
       "      <td>0</td>\n",
       "      <td>0</td>\n",
       "      <td>0</td>\n",
       "      <td>0</td>\n",
       "      <td>0</td>\n",
       "      <td>...</td>\n",
       "      <td>-0.280807</td>\n",
       "      <td>2.266602</td>\n",
       "      <td>-0.876216</td>\n",
       "      <td>-0.717075</td>\n",
       "      <td>1.327360</td>\n",
       "      <td>2.282713</td>\n",
       "      <td>-0.700326</td>\n",
       "      <td>0.229111</td>\n",
       "      <td>1.391262</td>\n",
       "      <td>2.0</td>\n",
       "    </tr>\n",
       "    <tr>\n",
       "      <th>...</th>\n",
       "      <td>...</td>\n",
       "      <td>...</td>\n",
       "      <td>...</td>\n",
       "      <td>...</td>\n",
       "      <td>...</td>\n",
       "      <td>...</td>\n",
       "      <td>...</td>\n",
       "      <td>...</td>\n",
       "      <td>...</td>\n",
       "      <td>...</td>\n",
       "      <td>...</td>\n",
       "      <td>...</td>\n",
       "      <td>...</td>\n",
       "      <td>...</td>\n",
       "      <td>...</td>\n",
       "      <td>...</td>\n",
       "      <td>...</td>\n",
       "      <td>...</td>\n",
       "      <td>...</td>\n",
       "      <td>...</td>\n",
       "      <td>...</td>\n",
       "    </tr>\n",
       "    <tr>\n",
       "      <th>1111</th>\n",
       "      <td>0</td>\n",
       "      <td>0</td>\n",
       "      <td>0</td>\n",
       "      <td>0</td>\n",
       "      <td>0</td>\n",
       "      <td>0</td>\n",
       "      <td>0</td>\n",
       "      <td>1</td>\n",
       "      <td>0</td>\n",
       "      <td>0</td>\n",
       "      <td>...</td>\n",
       "      <td>-1.068194</td>\n",
       "      <td>0.732120</td>\n",
       "      <td>1.251693</td>\n",
       "      <td>0.714623</td>\n",
       "      <td>-1.089315</td>\n",
       "      <td>0.125005</td>\n",
       "      <td>1.304902</td>\n",
       "      <td>-0.003914</td>\n",
       "      <td>1.410529</td>\n",
       "      <td>1.0</td>\n",
       "    </tr>\n",
       "    <tr>\n",
       "      <th>1112</th>\n",
       "      <td>0</td>\n",
       "      <td>0</td>\n",
       "      <td>0</td>\n",
       "      <td>0</td>\n",
       "      <td>0</td>\n",
       "      <td>0</td>\n",
       "      <td>0</td>\n",
       "      <td>0</td>\n",
       "      <td>0</td>\n",
       "      <td>0</td>\n",
       "      <td>...</td>\n",
       "      <td>-1.068194</td>\n",
       "      <td>0.732120</td>\n",
       "      <td>1.251693</td>\n",
       "      <td>0.714623</td>\n",
       "      <td>-1.089315</td>\n",
       "      <td>0.125005</td>\n",
       "      <td>1.304902</td>\n",
       "      <td>-0.003914</td>\n",
       "      <td>1.410529</td>\n",
       "      <td>0.0</td>\n",
       "    </tr>\n",
       "    <tr>\n",
       "      <th>1113</th>\n",
       "      <td>0</td>\n",
       "      <td>0</td>\n",
       "      <td>0</td>\n",
       "      <td>0</td>\n",
       "      <td>0</td>\n",
       "      <td>0</td>\n",
       "      <td>0</td>\n",
       "      <td>0</td>\n",
       "      <td>0</td>\n",
       "      <td>0</td>\n",
       "      <td>...</td>\n",
       "      <td>-1.068194</td>\n",
       "      <td>0.732120</td>\n",
       "      <td>1.251693</td>\n",
       "      <td>0.714623</td>\n",
       "      <td>-1.089315</td>\n",
       "      <td>0.125005</td>\n",
       "      <td>1.304902</td>\n",
       "      <td>-0.003914</td>\n",
       "      <td>1.410529</td>\n",
       "      <td>1.0</td>\n",
       "    </tr>\n",
       "    <tr>\n",
       "      <th>1114</th>\n",
       "      <td>0</td>\n",
       "      <td>0</td>\n",
       "      <td>0</td>\n",
       "      <td>0</td>\n",
       "      <td>0</td>\n",
       "      <td>0</td>\n",
       "      <td>0</td>\n",
       "      <td>0</td>\n",
       "      <td>0</td>\n",
       "      <td>0</td>\n",
       "      <td>...</td>\n",
       "      <td>-1.068194</td>\n",
       "      <td>0.732120</td>\n",
       "      <td>1.251693</td>\n",
       "      <td>0.714623</td>\n",
       "      <td>-1.089315</td>\n",
       "      <td>0.125005</td>\n",
       "      <td>1.304902</td>\n",
       "      <td>-0.003914</td>\n",
       "      <td>1.410529</td>\n",
       "      <td>1.0</td>\n",
       "    </tr>\n",
       "    <tr>\n",
       "      <th>1115</th>\n",
       "      <td>0</td>\n",
       "      <td>0</td>\n",
       "      <td>0</td>\n",
       "      <td>0</td>\n",
       "      <td>0</td>\n",
       "      <td>0</td>\n",
       "      <td>0</td>\n",
       "      <td>0</td>\n",
       "      <td>0</td>\n",
       "      <td>0</td>\n",
       "      <td>...</td>\n",
       "      <td>-0.280807</td>\n",
       "      <td>0.732120</td>\n",
       "      <td>1.251693</td>\n",
       "      <td>0.714623</td>\n",
       "      <td>-1.089315</td>\n",
       "      <td>0.125005</td>\n",
       "      <td>1.304902</td>\n",
       "      <td>-0.003914</td>\n",
       "      <td>1.410529</td>\n",
       "      <td>0.0</td>\n",
       "    </tr>\n",
       "  </tbody>\n",
       "</table>\n",
       "<p>1116 rows × 88 columns</p>\n",
       "</div>"
      ],
      "text/plain": [
       "      mandante_America-MG  mandante_Athletico-PR  mandante_Atletico-GO  \\\n",
       "0                       0                      0                     0   \n",
       "1                       0                      0                     0   \n",
       "2                       0                      0                     0   \n",
       "3                       0                      0                     0   \n",
       "4                       0                      0                     0   \n",
       "...                   ...                    ...                   ...   \n",
       "1111                    0                      0                     0   \n",
       "1112                    0                      0                     0   \n",
       "1113                    0                      0                     0   \n",
       "1114                    0                      0                     0   \n",
       "1115                    0                      0                     0   \n",
       "\n",
       "      mandante_Atletico-MG  mandante_Avai  mandante_Bahia  \\\n",
       "0                        0              0               0   \n",
       "1                        1              0               0   \n",
       "2                        0              0               0   \n",
       "3                        0              0               0   \n",
       "4                        0              0               0   \n",
       "...                    ...            ...             ...   \n",
       "1111                     0              0               0   \n",
       "1112                     0              0               0   \n",
       "1113                     0              0               0   \n",
       "1114                     0              0               0   \n",
       "1115                     0              0               0   \n",
       "\n",
       "      mandante_Botafogo-RJ  mandante_Bragantino  mandante_CSA  mandante_Ceara  \\\n",
       "0                        0                    0             0               0   \n",
       "1                        0                    0             0               0   \n",
       "2                        0                    0             0               0   \n",
       "3                        0                    0             0               0   \n",
       "4                        0                    0             0               0   \n",
       "...                    ...                  ...           ...             ...   \n",
       "1111                     0                    1             0               0   \n",
       "1112                     0                    0             0               0   \n",
       "1113                     0                    0             0               0   \n",
       "1114                     0                    0             0               0   \n",
       "1115                     0                    0             0               0   \n",
       "\n",
       "      ...  visitante_impedimentos   mes_sin   mes_cos  dia_do_mes_sin  \\\n",
       "0     ...               -0.280807  2.266602 -0.876216       -0.977710   \n",
       "1     ...               -0.280807  2.266602 -0.876216       -0.977710   \n",
       "2     ...                0.506581  2.266602 -0.876216       -0.977710   \n",
       "3     ...               -0.280807  2.266602 -0.876216       -0.977710   \n",
       "4     ...               -0.280807  2.266602 -0.876216       -0.717075   \n",
       "...   ...                     ...       ...       ...             ...   \n",
       "1111  ...               -1.068194  0.732120  1.251693        0.714623   \n",
       "1112  ...               -1.068194  0.732120  1.251693        0.714623   \n",
       "1113  ...               -1.068194  0.732120  1.251693        0.714623   \n",
       "1114  ...               -1.068194  0.732120  1.251693        0.714623   \n",
       "1115  ...               -0.280807  0.732120  1.251693        0.714623   \n",
       "\n",
       "      dia_do_mes_cos  semana_do_ano_sin  semana_do_ano_cos  rodadas_sin  \\\n",
       "0           1.180711           2.282713          -0.700326     0.229111   \n",
       "1           1.180711           2.282713          -0.700326     0.229111   \n",
       "2           1.180711           2.282713          -0.700326     0.229111   \n",
       "3           1.180711           2.282713          -0.700326     0.229111   \n",
       "4           1.327360           2.282713          -0.700326     0.229111   \n",
       "...              ...                ...                ...          ...   \n",
       "1111       -1.089315           0.125005           1.304902    -0.003914   \n",
       "1112       -1.089315           0.125005           1.304902    -0.003914   \n",
       "1113       -1.089315           0.125005           1.304902    -0.003914   \n",
       "1114       -1.089315           0.125005           1.304902    -0.003914   \n",
       "1115       -1.089315           0.125005           1.304902    -0.003914   \n",
       "\n",
       "      rodadas_cos  resultado_final  \n",
       "0        1.391262              1.0  \n",
       "1        1.391262              1.0  \n",
       "2        1.391262              1.0  \n",
       "3        1.391262              1.0  \n",
       "4        1.391262              2.0  \n",
       "...           ...              ...  \n",
       "1111     1.410529              1.0  \n",
       "1112     1.410529              0.0  \n",
       "1113     1.410529              1.0  \n",
       "1114     1.410529              1.0  \n",
       "1115     1.410529              0.0  \n",
       "\n",
       "[1116 rows x 88 columns]"
      ]
     },
     "execution_count": 437,
     "metadata": {},
     "output_type": "execute_result"
    }
   ],
   "source": [
    "df3_final"
   ]
  },
  {
   "cell_type": "markdown",
   "id": "356beb22",
   "metadata": {},
   "source": [
    "# 4.0 Feature selection and scaling "
   ]
  },
  {
   "cell_type": "code",
   "execution_count": 438,
   "id": "853aba73",
   "metadata": {
    "ExecuteTime": {
     "end_time": "2022-03-22T14:23:09.004353Z",
     "start_time": "2022-03-22T14:23:09.001021Z"
    }
   },
   "outputs": [],
   "source": [
    "df4 = df3_final.copy()"
   ]
  },
  {
   "cell_type": "code",
   "execution_count": 439,
   "id": "535854d4",
   "metadata": {
    "ExecuteTime": {
     "end_time": "2022-03-22T14:23:09.423605Z",
     "start_time": "2022-03-22T14:23:09.418180Z"
    }
   },
   "outputs": [],
   "source": [
    "df4 = df4.dropna()"
   ]
  },
  {
   "cell_type": "code",
   "execution_count": 440,
   "id": "004fd3d1",
   "metadata": {
    "ExecuteTime": {
     "end_time": "2022-03-22T14:23:11.000133Z",
     "start_time": "2022-03-22T14:23:10.994309Z"
    }
   },
   "outputs": [
    {
     "data": {
      "text/plain": [
       "(1116, 88)"
      ]
     },
     "execution_count": 440,
     "metadata": {},
     "output_type": "execute_result"
    }
   ],
   "source": [
    "df4.shape"
   ]
  },
  {
   "cell_type": "code",
   "execution_count": 470,
   "id": "565d781f",
   "metadata": {
    "ExecuteTime": {
     "end_time": "2022-03-22T14:26:22.709583Z",
     "start_time": "2022-03-22T14:26:22.696572Z"
    }
   },
   "outputs": [
    {
     "data": {
      "text/plain": [
       "['mandante_America-MG',\n",
       " 'mandante_Athletico-PR',\n",
       " 'mandante_Atletico-GO',\n",
       " 'mandante_Atletico-MG',\n",
       " 'mandante_Avai',\n",
       " 'mandante_Bahia',\n",
       " 'mandante_Botafogo-RJ',\n",
       " 'mandante_Bragantino',\n",
       " 'mandante_CSA',\n",
       " 'mandante_Ceara',\n",
       " 'mandante_Chapecoense',\n",
       " 'mandante_Corinthians',\n",
       " 'mandante_Coritiba',\n",
       " 'mandante_Cruzeiro',\n",
       " 'mandante_Cuiaba',\n",
       " 'mandante_Flamengo',\n",
       " 'mandante_Fluminense',\n",
       " 'mandante_Fortaleza',\n",
       " 'mandante_Goias',\n",
       " 'mandante_Gremio',\n",
       " 'mandante_Internacional',\n",
       " 'mandante_Juventude',\n",
       " 'mandante_Palmeiras',\n",
       " 'mandante_Santos',\n",
       " 'mandante_Sao Paulo',\n",
       " 'mandante_Sport',\n",
       " 'mandante_Vasco',\n",
       " 'visitante_America-MG',\n",
       " 'visitante_Athletico-PR',\n",
       " 'visitante_Atletico-GO',\n",
       " 'visitante_Atletico-MG',\n",
       " 'visitante_Avai',\n",
       " 'visitante_Bahia',\n",
       " 'visitante_Botafogo-RJ',\n",
       " 'visitante_Bragantino',\n",
       " 'visitante_CSA',\n",
       " 'visitante_Ceara',\n",
       " 'visitante_Chapecoense',\n",
       " 'visitante_Corinthians',\n",
       " 'visitante_Coritiba',\n",
       " 'visitante_Cruzeiro',\n",
       " 'visitante_Cuiaba',\n",
       " 'visitante_Flamengo',\n",
       " 'visitante_Fluminense',\n",
       " 'visitante_Fortaleza',\n",
       " 'visitante_Goias',\n",
       " 'visitante_Gremio',\n",
       " 'visitante_Internacional',\n",
       " 'visitante_Juventude',\n",
       " 'visitante_Palmeiras',\n",
       " 'visitante_Santos',\n",
       " 'visitante_Sao Paulo',\n",
       " 'visitante_Sport',\n",
       " 'visitante_Vasco',\n",
       " 'mandante_venceu_ultima',\n",
       " 'visitante_venceu_ultima',\n",
       " 'hora_sin',\n",
       " 'mandante_placar',\n",
       " 'visitante_placar',\n",
       " 'n_gols_mandante_ultima',\n",
       " 'n_gols_visitante_ultima',\n",
       " 'mandante_chutes',\n",
       " 'visitante_chutes',\n",
       " 'mandante_chutes_no_alvo',\n",
       " 'visitante_chutes_no_alvo',\n",
       " 'mandante_posse_de_bola',\n",
       " 'visitante_posse_de_bola',\n",
       " 'mandante_passes',\n",
       " 'visitante_passes',\n",
       " 'mandante_precisao_passes',\n",
       " 'visitante_precisao_passes',\n",
       " 'mandante_faltas',\n",
       " 'visitante_faltas',\n",
       " 'mandante_cartao_amarelo',\n",
       " 'visitante_cartao_amarelo',\n",
       " 'mandante_cartao_vermelho',\n",
       " 'visitante_cartao_vermelho',\n",
       " 'mandante_impedimentos',\n",
       " 'visitante_impedimentos',\n",
       " 'mes_sin',\n",
       " 'mes_cos',\n",
       " 'dia_do_mes_sin',\n",
       " 'dia_do_mes_cos',\n",
       " 'semana_do_ano_sin',\n",
       " 'semana_do_ano_cos',\n",
       " 'rodadas_sin',\n",
       " 'rodadas_cos',\n",
       " 'resultado_final']"
      ]
     },
     "execution_count": 470,
     "metadata": {},
     "output_type": "execute_result"
    }
   ],
   "source": [
    "df4.columns.tolist()"
   ]
  },
  {
   "cell_type": "code",
   "execution_count": 441,
   "id": "62a7f358",
   "metadata": {
    "ExecuteTime": {
     "end_time": "2022-03-22T14:23:12.501698Z",
     "start_time": "2022-03-22T14:23:12.495787Z"
    }
   },
   "outputs": [],
   "source": [
    "X = df4.drop(['resultado_final'], axis=1)\n",
    "y = df4.resultado_final"
   ]
  },
  {
   "cell_type": "code",
   "execution_count": 442,
   "id": "9b016aa6",
   "metadata": {
    "ExecuteTime": {
     "end_time": "2022-03-22T14:23:12.921703Z",
     "start_time": "2022-03-22T14:23:12.913736Z"
    }
   },
   "outputs": [],
   "source": [
    "X_train, X_test, y_train, y_test = train_test_split(X, y,shuffle=False)"
   ]
  },
  {
   "cell_type": "code",
   "execution_count": 443,
   "id": "c964ca3f",
   "metadata": {
    "ExecuteTime": {
     "end_time": "2022-03-22T14:23:13.450268Z",
     "start_time": "2022-03-22T14:23:13.444955Z"
    }
   },
   "outputs": [],
   "source": [
    "undersampling = RandomUnderSampler(random_state=32)"
   ]
  },
  {
   "cell_type": "code",
   "execution_count": 444,
   "id": "a9567861",
   "metadata": {
    "ExecuteTime": {
     "end_time": "2022-03-22T14:23:16.188003Z",
     "start_time": "2022-03-22T14:23:16.170411Z"
    }
   },
   "outputs": [],
   "source": [
    "X_train, y_train = undersampling.fit_resample(X_train, y_train)"
   ]
  },
  {
   "cell_type": "code",
   "execution_count": 445,
   "id": "de0c02d4",
   "metadata": {
    "ExecuteTime": {
     "end_time": "2022-03-22T14:23:16.732586Z",
     "start_time": "2022-03-22T14:23:16.633619Z"
    }
   },
   "outputs": [
    {
     "name": "stderr",
     "output_type": "stream",
     "text": [
      "/home/mahelvson/anaconda3/envs/foot/lib/python3.9/site-packages/seaborn/_decorators.py:36: FutureWarning: Pass the following variable as a keyword arg: x. From version 0.12, the only valid positional argument will be `data`, and passing other arguments without an explicit keyword will result in an error or misinterpretation.\n",
      "  warnings.warn(\n"
     ]
    },
    {
     "data": {
      "text/plain": [
       "<AxesSubplot:xlabel='resultado_final', ylabel='count'>"
      ]
     },
     "execution_count": 445,
     "metadata": {},
     "output_type": "execute_result"
    },
    {
     "data": {
      "image/png": "[encoded data removed]",
      "text/plain": [
       "<Figure size 432x288 with 1 Axes>"
      ]
     },
     "metadata": {
      "needs_background": "light"
     },
     "output_type": "display_data"
    }
   ],
   "source": [
    "sns.countplot(y_train)"
   ]
  },
  {
   "cell_type": "markdown",
   "id": "e0204b6a",
   "metadata": {},
   "source": [
    "# 5.0 Machine Learning Models "
   ]
  },
  {
   "cell_type": "markdown",
   "id": "e9bde165",
   "metadata": {},
   "source": [
    "## 5.1 Logistic Regression "
   ]
  },
  {
   "cell_type": "code",
   "execution_count": 446,
   "id": "3c3e4606",
   "metadata": {
    "ExecuteTime": {
     "end_time": "2022-03-22T14:23:18.507518Z",
     "start_time": "2022-03-22T14:23:18.457381Z"
    }
   },
   "outputs": [],
   "source": [
    "clf_lg = LogisticRegression().fit(X_train, y_train)\n",
    "y_hat_lg = clf_lg.predict(X_test)"
   ]
  },
  {
   "cell_type": "code",
   "execution_count": 447,
   "id": "ab386e06",
   "metadata": {
    "ExecuteTime": {
     "end_time": "2022-03-22T14:23:18.939350Z",
     "start_time": "2022-03-22T14:23:18.932153Z"
    }
   },
   "outputs": [
    {
     "data": {
      "text/plain": [
       "1.0"
      ]
     },
     "execution_count": 447,
     "metadata": {},
     "output_type": "execute_result"
    }
   ],
   "source": [
    "accuracy_score(y_test, y_hat_lg)"
   ]
  },
  {
   "cell_type": "code",
   "execution_count": 448,
   "id": "e113aa05",
   "metadata": {
    "ExecuteTime": {
     "end_time": "2022-03-22T14:23:19.816189Z",
     "start_time": "2022-03-22T14:23:19.670244Z"
    }
   },
   "outputs": [
    {
     "data": {
      "image/png": "[encoded data removed]",
      "text/plain": [
       "<Figure size 432x288 with 2 Axes>"
      ]
     },
     "metadata": {
      "needs_background": "light"
     },
     "output_type": "display_data"
    }
   ],
   "source": [
    "sns.heatmap(confusion_matrix(y_test, y_hat_lg, normalize='true'), annot=True);"
   ]
  },
  {
   "cell_type": "code",
   "execution_count": 449,
   "id": "0b2a62b4",
   "metadata": {
    "ExecuteTime": {
     "end_time": "2022-03-22T14:23:22.065528Z",
     "start_time": "2022-03-22T14:23:22.057180Z"
    }
   },
   "outputs": [
    {
     "name": "stdout",
     "output_type": "stream",
     "text": [
      "              precision    recall  f1-score   support\n",
      "\n",
      "         0.0       1.00      1.00      1.00        80\n",
      "         1.0       1.00      1.00      1.00       134\n",
      "         2.0       1.00      1.00      1.00        65\n",
      "\n",
      "    accuracy                           1.00       279\n",
      "   macro avg       1.00      1.00      1.00       279\n",
      "weighted avg       1.00      1.00      1.00       279\n",
      "\n"
     ]
    }
   ],
   "source": [
    "print(classification_report(y_test, y_hat_lg))"
   ]
  },
  {
   "cell_type": "markdown",
   "id": "97562ef9",
   "metadata": {},
   "source": [
    "## 5.2 XGBoost "
   ]
  },
  {
   "cell_type": "code",
   "execution_count": 450,
   "id": "ccf54b7d",
   "metadata": {
    "ExecuteTime": {
     "end_time": "2022-03-22T14:23:26.697706Z",
     "start_time": "2022-03-22T14:23:24.107017Z"
    }
   },
   "outputs": [
    {
     "name": "stderr",
     "output_type": "stream",
     "text": [
      "/home/mahelvson/anaconda3/envs/foot/lib/python3.9/site-packages/xgboost/sklearn.py:1224: UserWarning: The use of label encoder in XGBClassifier is deprecated and will be removed in a future release. To remove this warning, do the following: 1) Pass option use_label_encoder=False when constructing XGBClassifier object; and 2) Encode your labels (y) as integers starting with 0, i.e. 0, 1, 2, ..., [num_class - 1].\n",
      "  warnings.warn(label_encoder_deprecation_msg, UserWarning)\n",
      "/home/mahelvson/anaconda3/envs/foot/lib/python3.9/site-packages/xgboost/data.py:250: FutureWarning: pandas.Int64Index is deprecated and will be removed from pandas in a future version. Use pandas.Index with the appropriate dtype instead.\n",
      "  elif isinstance(data.columns, (pd.Int64Index, pd.RangeIndex)):\n"
     ]
    },
    {
     "name": "stdout",
     "output_type": "stream",
     "text": [
      "[11:23:26] WARNING: ../src/learner.cc:1115: Starting in XGBoost 1.3.0, the default evaluation metric used with the objective 'multi:softprob' was changed from 'merror' to 'mlogloss'. Explicitly set eval_metric if you'd like to restore the old behavior.\n"
     ]
    }
   ],
   "source": [
    "clf_xgb = xgb.XGBRFClassifier(n_estimators = 1000).fit(X_train, y_train)\n",
    "yhat_xgb = clf_xgb.predict(X_test)"
   ]
  },
  {
   "cell_type": "code",
   "execution_count": 451,
   "id": "4f31c151",
   "metadata": {
    "ExecuteTime": {
     "end_time": "2022-03-22T14:23:26.703605Z",
     "start_time": "2022-03-22T14:23:26.699239Z"
    }
   },
   "outputs": [
    {
     "data": {
      "text/plain": [
       "0.992831541218638"
      ]
     },
     "execution_count": 451,
     "metadata": {},
     "output_type": "execute_result"
    }
   ],
   "source": [
    "accuracy_score(y_test, yhat_xgb)"
   ]
  },
  {
   "cell_type": "code",
   "execution_count": 452,
   "id": "d0b9b6e2",
   "metadata": {
    "ExecuteTime": {
     "end_time": "2022-03-22T14:23:27.993607Z",
     "start_time": "2022-03-22T14:23:27.845580Z"
    }
   },
   "outputs": [
    {
     "data": {
      "text/plain": [
       "<AxesSubplot:>"
      ]
     },
     "execution_count": 452,
     "metadata": {},
     "output_type": "execute_result"
    },
    {
     "data": {
      "image/png": "[encoded data removed]",
      "text/plain": [
       "<Figure size 432x288 with 2 Axes>"
      ]
     },
     "metadata": {
      "needs_background": "light"
     },
     "output_type": "display_data"
    }
   ],
   "source": [
    "sns.heatmap(confusion_matrix(y_test, yhat_xgb, normalize='true'), annot=True, )"
   ]
  },
  {
   "cell_type": "code",
   "execution_count": 453,
   "id": "5014ed35",
   "metadata": {
    "ExecuteTime": {
     "end_time": "2022-03-22T14:23:30.529128Z",
     "start_time": "2022-03-22T14:23:30.520590Z"
    }
   },
   "outputs": [
    {
     "name": "stdout",
     "output_type": "stream",
     "text": [
      "              precision    recall  f1-score   support\n",
      "\n",
      "         0.0       0.98      1.00      0.99        80\n",
      "         1.0       1.00      0.99      0.99       134\n",
      "         2.0       1.00      1.00      1.00        65\n",
      "\n",
      "    accuracy                           0.99       279\n",
      "   macro avg       0.99      1.00      0.99       279\n",
      "weighted avg       0.99      0.99      0.99       279\n",
      "\n"
     ]
    }
   ],
   "source": [
    "print(classification_report(y_test, yhat_xgb))"
   ]
  },
  {
   "cell_type": "markdown",
   "id": "94bca91f",
   "metadata": {},
   "source": [
    "## 5.3 Random Forests"
   ]
  },
  {
   "cell_type": "code",
   "execution_count": 454,
   "id": "d719d49e",
   "metadata": {
    "ExecuteTime": {
     "end_time": "2022-03-22T14:23:36.462751Z",
     "start_time": "2022-03-22T14:23:33.139991Z"
    }
   },
   "outputs": [],
   "source": [
    "clf_rf = RandomForestClassifier(n_estimators = 2000, n_jobs = -1, random_state = 42).fit(X_train, y_train)\n",
    "yhat_rf = clf_rf.predict(X_test)"
   ]
  },
  {
   "cell_type": "code",
   "execution_count": 455,
   "id": "6ab30c6e",
   "metadata": {
    "ExecuteTime": {
     "end_time": "2022-03-22T14:23:36.471359Z",
     "start_time": "2022-03-22T14:23:36.464283Z"
    }
   },
   "outputs": [
    {
     "data": {
      "text/plain": [
       "0.8817204301075269"
      ]
     },
     "execution_count": 455,
     "metadata": {},
     "output_type": "execute_result"
    }
   ],
   "source": [
    "accuracy_score(y_test, yhat_rf)"
   ]
  },
  {
   "cell_type": "code",
   "execution_count": 456,
   "id": "e3d33899",
   "metadata": {
    "ExecuteTime": {
     "end_time": "2022-03-22T14:23:36.631256Z",
     "start_time": "2022-03-22T14:23:36.472722Z"
    }
   },
   "outputs": [
    {
     "data": {
      "image/png": "[encoded data removed]",
      "text/plain": [
       "<Figure size 432x288 with 2 Axes>"
      ]
     },
     "metadata": {
      "needs_background": "light"
     },
     "output_type": "display_data"
    }
   ],
   "source": [
    "sns.heatmap(confusion_matrix(y_test, yhat_rf, normalize='true'), annot=True, );"
   ]
  },
  {
   "cell_type": "code",
   "execution_count": 458,
   "id": "71b84c06",
   "metadata": {
    "ExecuteTime": {
     "end_time": "2022-03-22T14:23:39.590969Z",
     "start_time": "2022-03-22T14:23:39.580528Z"
    }
   },
   "outputs": [
    {
     "name": "stdout",
     "output_type": "stream",
     "text": [
      "              precision    recall  f1-score   support\n",
      "\n",
      "         0.0       0.75      0.94      0.83        80\n",
      "         1.0       0.97      0.83      0.89       134\n",
      "         2.0       0.94      0.92      0.93        65\n",
      "\n",
      "    accuracy                           0.88       279\n",
      "   macro avg       0.88      0.90      0.89       279\n",
      "weighted avg       0.90      0.88      0.88       279\n",
      "\n"
     ]
    }
   ],
   "source": [
    "print(classification_report(y_test, yhat_rf))"
   ]
  },
  {
   "cell_type": "markdown",
   "id": "6b893f61",
   "metadata": {},
   "source": [
    "## 5.4 SVM "
   ]
  },
  {
   "cell_type": "code",
   "execution_count": 459,
   "id": "3994a33f",
   "metadata": {
    "ExecuteTime": {
     "end_time": "2022-03-22T14:23:40.464189Z",
     "start_time": "2022-03-22T14:23:40.408512Z"
    }
   },
   "outputs": [],
   "source": [
    "clf_svc = svm.SVC().fit(X_train, y_train)\n",
    "y_hat_svc = clf_svc.predict(X_test)"
   ]
  },
  {
   "cell_type": "code",
   "execution_count": 460,
   "id": "fd78c083",
   "metadata": {
    "ExecuteTime": {
     "end_time": "2022-03-22T14:23:41.491279Z",
     "start_time": "2022-03-22T14:23:41.484370Z"
    }
   },
   "outputs": [
    {
     "data": {
      "text/plain": [
       "0.8351254480286738"
      ]
     },
     "execution_count": 460,
     "metadata": {},
     "output_type": "execute_result"
    }
   ],
   "source": [
    "accuracy_score(y_test, y_hat_svc)"
   ]
  },
  {
   "cell_type": "code",
   "execution_count": 461,
   "id": "eb9d9cd1",
   "metadata": {
    "ExecuteTime": {
     "end_time": "2022-03-22T14:23:42.358128Z",
     "start_time": "2022-03-22T14:23:42.195152Z"
    }
   },
   "outputs": [
    {
     "data": {
      "image/png": "[encoded data removed]",
      "text/plain": [
       "<Figure size 432x288 with 2 Axes>"
      ]
     },
     "metadata": {
      "needs_background": "light"
     },
     "output_type": "display_data"
    }
   ],
   "source": [
    "sns.heatmap(confusion_matrix(y_test, y_hat_svc, normalize='true'), annot=True);"
   ]
  },
  {
   "cell_type": "code",
   "execution_count": 462,
   "id": "ae3c75cd",
   "metadata": {
    "ExecuteTime": {
     "end_time": "2022-03-22T14:23:45.043924Z",
     "start_time": "2022-03-22T14:23:45.032764Z"
    }
   },
   "outputs": [
    {
     "name": "stdout",
     "output_type": "stream",
     "text": [
      "              precision    recall  f1-score   support\n",
      "\n",
      "         0.0       0.66      0.88      0.75        80\n",
      "         1.0       0.98      0.81      0.89       134\n",
      "         2.0       0.87      0.85      0.86        65\n",
      "\n",
      "    accuracy                           0.84       279\n",
      "   macro avg       0.84      0.84      0.83       279\n",
      "weighted avg       0.86      0.84      0.84       279\n",
      "\n"
     ]
    }
   ],
   "source": [
    "print(classification_report(y_test, y_hat_svc))"
   ]
  },
  {
   "cell_type": "markdown",
   "id": "357a2b0c",
   "metadata": {},
   "source": [
    "## 5.5 Naive Bayes "
   ]
  },
  {
   "cell_type": "code",
   "execution_count": 463,
   "id": "03fbbd88",
   "metadata": {
    "ExecuteTime": {
     "end_time": "2022-03-22T14:23:47.303439Z",
     "start_time": "2022-03-22T14:23:47.292919Z"
    }
   },
   "outputs": [],
   "source": [
    "clf_gb = GaussianNB().fit(X_train, y_train)\n",
    "y_hat_gnb = clf_gb.predict(X_test)"
   ]
  },
  {
   "cell_type": "code",
   "execution_count": 464,
   "id": "06aadac5",
   "metadata": {
    "ExecuteTime": {
     "end_time": "2022-03-22T14:23:47.678870Z",
     "start_time": "2022-03-22T14:23:47.669944Z"
    }
   },
   "outputs": [
    {
     "data": {
      "text/plain": [
       "0.45161290322580644"
      ]
     },
     "execution_count": 464,
     "metadata": {},
     "output_type": "execute_result"
    }
   ],
   "source": [
    "accuracy_score(y_test, y_hat_gnb)"
   ]
  },
  {
   "cell_type": "code",
   "execution_count": 465,
   "id": "3f5c7c8e",
   "metadata": {
    "ExecuteTime": {
     "end_time": "2022-03-22T14:23:48.595175Z",
     "start_time": "2022-03-22T14:23:48.446324Z"
    }
   },
   "outputs": [
    {
     "data": {
      "image/png": "[encoded data removed]",
      "text/plain": [
       "<Figure size 432x288 with 2 Axes>"
      ]
     },
     "metadata": {
      "needs_background": "light"
     },
     "output_type": "display_data"
    }
   ],
   "source": [
    "sns.heatmap(confusion_matrix(y_test, y_hat_gnb, normalize='true'), annot=True, );"
   ]
  },
  {
   "cell_type": "code",
   "execution_count": 375,
   "id": "1ea12c9f",
   "metadata": {
    "ExecuteTime": {
     "end_time": "2022-03-22T14:11:20.647544Z",
     "start_time": "2022-03-22T14:11:20.637725Z"
    }
   },
   "outputs": [
    {
     "name": "stdout",
     "output_type": "stream",
     "text": [
      "              precision    recall  f1-score   support\n",
      "\n",
      "         0.0       0.31      0.39      0.35        80\n",
      "         1.0       0.68      0.49      0.57       134\n",
      "         2.0       0.35      0.46      0.40        65\n",
      "\n",
      "    accuracy                           0.45       279\n",
      "   macro avg       0.45      0.44      0.44       279\n",
      "weighted avg       0.50      0.45      0.47       279\n",
      "\n"
     ]
    }
   ],
   "source": [
    "print(classification_report(y_test, y_hat_gnb))"
   ]
  },
  {
   "cell_type": "markdown",
   "id": "55a278aa",
   "metadata": {},
   "source": [
    "## 5.6 SGD Classifier "
   ]
  },
  {
   "cell_type": "code",
   "execution_count": 466,
   "id": "9a5b2aff",
   "metadata": {
    "ExecuteTime": {
     "end_time": "2022-03-22T14:23:52.593675Z",
     "start_time": "2022-03-22T14:23:52.567120Z"
    }
   },
   "outputs": [],
   "source": [
    "clf_sgd = SGDClassifier().fit(X_train, y_train)\n",
    "y_hat_sgd = clf_sgd.predict(X_test)"
   ]
  },
  {
   "cell_type": "code",
   "execution_count": 467,
   "id": "e4742206",
   "metadata": {
    "ExecuteTime": {
     "end_time": "2022-03-22T14:23:53.014803Z",
     "start_time": "2022-03-22T14:23:53.006203Z"
    },
    "scrolled": true
   },
   "outputs": [
    {
     "data": {
      "text/plain": [
       "0.967741935483871"
      ]
     },
     "execution_count": 467,
     "metadata": {},
     "output_type": "execute_result"
    }
   ],
   "source": [
    "accuracy_score(y_test, y_hat_sgd)"
   ]
  },
  {
   "cell_type": "code",
   "execution_count": 468,
   "id": "4140c9b9",
   "metadata": {
    "ExecuteTime": {
     "end_time": "2022-03-22T14:23:53.910427Z",
     "start_time": "2022-03-22T14:23:53.756202Z"
    }
   },
   "outputs": [
    {
     "data": {
      "text/plain": [
       "<AxesSubplot:>"
      ]
     },
     "execution_count": 468,
     "metadata": {},
     "output_type": "execute_result"
    },
    {
     "data": {
      "image/png": "[encoded data removed]",
      "text/plain": [
       "<Figure size 432x288 with 2 Axes>"
      ]
     },
     "metadata": {
      "needs_background": "light"
     },
     "output_type": "display_data"
    }
   ],
   "source": [
    "sns.heatmap(confusion_matrix(y_test, y_hat_sgd, normalize='true'), annot=True, )"
   ]
  },
  {
   "cell_type": "code",
   "execution_count": 379,
   "id": "c6b86019",
   "metadata": {
    "ExecuteTime": {
     "end_time": "2022-03-22T14:11:25.634818Z",
     "start_time": "2022-03-22T14:11:25.625799Z"
    }
   },
   "outputs": [
    {
     "name": "stdout",
     "output_type": "stream",
     "text": [
      "              precision    recall  f1-score   support\n",
      "\n",
      "         0.0       0.99      1.00      0.99        80\n",
      "         1.0       1.00      0.99      1.00       134\n",
      "         2.0       1.00      1.00      1.00        65\n",
      "\n",
      "    accuracy                           1.00       279\n",
      "   macro avg       1.00      1.00      1.00       279\n",
      "weighted avg       1.00      1.00      1.00       279\n",
      "\n"
     ]
    }
   ],
   "source": [
    "print(classification_report(y_test, y_hat_sgd))"
   ]
  },
  {
   "cell_type": "markdown",
   "id": "ea707aaf",
   "metadata": {},
   "source": [
    "## 5.7 Decision Tree"
   ]
  },
  {
   "cell_type": "code",
   "execution_count": 380,
   "id": "833849cf",
   "metadata": {
    "ExecuteTime": {
     "end_time": "2022-03-22T14:11:26.957173Z",
     "start_time": "2022-03-22T14:11:26.946693Z"
    }
   },
   "outputs": [],
   "source": [
    "clf_dt = tree.DecisionTreeClassifier().fit(X_train, y_train)\n",
    "y_hat_dt = clf_dt.predict(X_test)"
   ]
  },
  {
   "cell_type": "code",
   "execution_count": 381,
   "id": "69700ec8",
   "metadata": {
    "ExecuteTime": {
     "end_time": "2022-03-22T14:11:27.473238Z",
     "start_time": "2022-03-22T14:11:27.459486Z"
    },
    "scrolled": true
   },
   "outputs": [
    {
     "data": {
      "text/plain": [
       "0.992831541218638"
      ]
     },
     "execution_count": 381,
     "metadata": {},
     "output_type": "execute_result"
    }
   ],
   "source": [
    "accuracy_score(y_test, y_hat_dt)"
   ]
  },
  {
   "cell_type": "code",
   "execution_count": 382,
   "id": "92ce198d",
   "metadata": {
    "ExecuteTime": {
     "end_time": "2022-03-22T14:11:28.188236Z",
     "start_time": "2022-03-22T14:11:28.037530Z"
    }
   },
   "outputs": [
    {
     "data": {
      "image/png": "[encoded data removed]",
      "text/plain": [
       "<Figure size 432x288 with 2 Axes>"
      ]
     },
     "metadata": {
      "needs_background": "light"
     },
     "output_type": "display_data"
    }
   ],
   "source": [
    "sns.heatmap(confusion_matrix(y_test, y_hat_dt, normalize='true'), annot=True, );"
   ]
  },
  {
   "cell_type": "code",
   "execution_count": 383,
   "id": "023e1c66",
   "metadata": {
    "ExecuteTime": {
     "end_time": "2022-03-22T14:11:29.585914Z",
     "start_time": "2022-03-22T14:11:29.576058Z"
    }
   },
   "outputs": [
    {
     "name": "stdout",
     "output_type": "stream",
     "text": [
      "              precision    recall  f1-score   support\n",
      "\n",
      "         0.0       0.98      1.00      0.99        80\n",
      "         1.0       1.00      0.99      0.99       134\n",
      "         2.0       1.00      1.00      1.00        65\n",
      "\n",
      "    accuracy                           0.99       279\n",
      "   macro avg       0.99      1.00      0.99       279\n",
      "weighted avg       0.99      0.99      0.99       279\n",
      "\n"
     ]
    }
   ],
   "source": [
    "print(classification_report(y_test, y_hat_dt))"
   ]
  },
  {
   "cell_type": "markdown",
   "id": "525fc54f",
   "metadata": {},
   "source": [
    "## 5.8 MLP"
   ]
  },
  {
   "cell_type": "code",
   "execution_count": 384,
   "id": "aa014027",
   "metadata": {
    "ExecuteTime": {
     "end_time": "2022-03-22T14:11:31.781111Z",
     "start_time": "2022-03-22T14:11:30.900581Z"
    }
   },
   "outputs": [],
   "source": [
    "clf_mlp = MLPClassifier(max_iter=500).fit(X_train, y_train)\n",
    "y_hat_mlp = clf_mlp.predict(X_test)"
   ]
  },
  {
   "cell_type": "code",
   "execution_count": 385,
   "id": "6d159af4",
   "metadata": {
    "ExecuteTime": {
     "end_time": "2022-03-22T14:11:31.787320Z",
     "start_time": "2022-03-22T14:11:31.782852Z"
    },
    "scrolled": true
   },
   "outputs": [
    {
     "data": {
      "text/plain": [
       "0.8888888888888888"
      ]
     },
     "execution_count": 385,
     "metadata": {},
     "output_type": "execute_result"
    }
   ],
   "source": [
    "accuracy_score(y_test, y_hat_mlp)"
   ]
  },
  {
   "cell_type": "code",
   "execution_count": 386,
   "id": "1465c2a7",
   "metadata": {
    "ExecuteTime": {
     "end_time": "2022-03-22T14:11:32.755816Z",
     "start_time": "2022-03-22T14:11:32.614337Z"
    }
   },
   "outputs": [
    {
     "data": {
      "image/png": "[encoded data removed]",
      "text/plain": [
       "<Figure size 432x288 with 2 Axes>"
      ]
     },
     "metadata": {
      "needs_background": "light"
     },
     "output_type": "display_data"
    }
   ],
   "source": [
    "sns.heatmap(confusion_matrix(y_test, y_hat_mlp, normalize='true'), annot=True, );"
   ]
  },
  {
   "cell_type": "code",
   "execution_count": 220,
   "id": "9e2d05de",
   "metadata": {
    "ExecuteTime": {
     "end_time": "2022-03-18T14:37:23.777088Z",
     "start_time": "2022-03-18T14:37:23.768885Z"
    }
   },
   "outputs": [
    {
     "name": "stdout",
     "output_type": "stream",
     "text": [
      "              precision    recall  f1-score   support\n",
      "\n",
      "           0       0.37      0.41      0.39       169\n",
      "           1       0.54      0.41      0.46       288\n",
      "           2       0.27      0.37      0.31       145\n",
      "\n",
      "    accuracy                           0.40       602\n",
      "   macro avg       0.39      0.39      0.39       602\n",
      "weighted avg       0.42      0.40      0.40       602\n",
      "\n"
     ]
    }
   ],
   "source": [
    "print(classification_report(y_test, y_hat_mlp))"
   ]
  },
  {
   "cell_type": "markdown",
   "id": "5c1dbbb5",
   "metadata": {},
   "source": [
    "# 6.0 Ensemble "
   ]
  },
  {
   "cell_type": "code",
   "execution_count": 221,
   "id": "f67b8925",
   "metadata": {
    "ExecuteTime": {
     "end_time": "2022-03-18T14:37:23.781474Z",
     "start_time": "2022-03-18T14:37:23.778999Z"
    }
   },
   "outputs": [],
   "source": [
    "import warnings\n",
    "warnings.filterwarnings(\"ignore\")"
   ]
  },
  {
   "cell_type": "code",
   "execution_count": 222,
   "id": "68ad6e89",
   "metadata": {
    "ExecuteTime": {
     "end_time": "2022-03-18T14:37:23.791595Z",
     "start_time": "2022-03-18T14:37:23.785468Z"
    }
   },
   "outputs": [],
   "source": [
    "eclf = VotingClassifier(estimators=[('logistic', clf_lg), ('xgb', clf_xgb), ('random_forest', clf_rf), ('naive_bayes', clf_gb), ('decision_tree', clf_dt), ('mlp', clf_mlp)], voting='hard')"
   ]
  },
  {
   "cell_type": "code",
   "execution_count": 223,
   "id": "26518993",
   "metadata": {
    "ExecuteTime": {
     "end_time": "2022-03-18T14:38:29.974009Z",
     "start_time": "2022-03-18T14:37:23.793339Z"
    }
   },
   "outputs": [
    {
     "name": "stdout",
     "output_type": "stream",
     "text": [
      "Accuracy: 0.47 (+/- 0.03) [logistic]\n",
      "[11:37:32] WARNING: ../src/learner.cc:1115: Starting in XGBoost 1.3.0, the default evaluation metric used with the objective 'multi:softprob' was changed from 'merror' to 'mlogloss'. Explicitly set eval_metric if you'd like to restore the old behavior.\n",
      "[11:37:41] WARNING: ../src/learner.cc:1115: Starting in XGBoost 1.3.0, the default evaluation metric used with the objective 'multi:softprob' was changed from 'merror' to 'mlogloss'. Explicitly set eval_metric if you'd like to restore the old behavior.\n",
      "[11:37:50] WARNING: ../src/learner.cc:1115: Starting in XGBoost 1.3.0, the default evaluation metric used with the objective 'multi:softprob' was changed from 'merror' to 'mlogloss'. Explicitly set eval_metric if you'd like to restore the old behavior.\n",
      "[11:37:58] WARNING: ../src/learner.cc:1115: Starting in XGBoost 1.3.0, the default evaluation metric used with the objective 'multi:softprob' was changed from 'merror' to 'mlogloss'. Explicitly set eval_metric if you'd like to restore the old behavior.\n",
      "[11:38:07] WARNING: ../src/learner.cc:1115: Starting in XGBoost 1.3.0, the default evaluation metric used with the objective 'multi:softprob' was changed from 'merror' to 'mlogloss'. Explicitly set eval_metric if you'd like to restore the old behavior.\n",
      "Accuracy: 0.47 (+/- 0.02) [xgb]\n",
      "Accuracy: 0.46 (+/- 0.01) [random_forest]\n",
      "Accuracy: 0.42 (+/- 0.04) [naive_bayes]\n",
      "Accuracy: 0.40 (+/- 0.02) [decision_tree]\n"
     ]
    }
   ],
   "source": [
    "for clf, label in zip([clf_lg, clf_xgb, clf_rf, clf_gb, clf_dt], ['logistic', 'xgb', 'random_forest', 'naive_bayes', 'decision_tree', 'mlp' ]):\n",
    "    scores = cross_val_score(clf, X, y, scoring='accuracy', cv=5)\n",
    "    print(\"Accuracy: %0.2f (+/- %0.2f) [%s]\" % (scores.mean(), scores.std(), label))"
   ]
  },
  {
   "cell_type": "code",
   "execution_count": 224,
   "id": "f7b6ae5a",
   "metadata": {
    "ExecuteTime": {
     "end_time": "2022-03-18T14:38:34.296340Z",
     "start_time": "2022-03-18T14:38:29.976266Z"
    }
   },
   "outputs": [],
   "source": [
    "eclf = VotingClassifier(estimators=[('decision_tree', clf_dt), ('sgd', clf_sgd), ('mlp', clf_mlp)], voting='hard', weights=[0.3, 0.3, 0.4]).fit(X_train, y_train)"
   ]
  },
  {
   "cell_type": "code",
   "execution_count": 225,
   "id": "547ed177",
   "metadata": {
    "ExecuteTime": {
     "end_time": "2022-03-18T14:38:34.332921Z",
     "start_time": "2022-03-18T14:38:34.304289Z"
    }
   },
   "outputs": [],
   "source": [
    "y_hat_eclf = eclf.predict(X_test)"
   ]
  },
  {
   "cell_type": "code",
   "execution_count": 226,
   "id": "28650a33",
   "metadata": {
    "ExecuteTime": {
     "end_time": "2022-03-18T14:38:34.343723Z",
     "start_time": "2022-03-18T14:38:34.337669Z"
    },
    "scrolled": true
   },
   "outputs": [
    {
     "data": {
      "text/plain": [
       "0.4318936877076412"
      ]
     },
     "execution_count": 226,
     "metadata": {},
     "output_type": "execute_result"
    }
   ],
   "source": [
    "accuracy_score(y_test, y_hat_eclf)"
   ]
  },
  {
   "cell_type": "code",
   "execution_count": 227,
   "id": "05b25b6e",
   "metadata": {
    "ExecuteTime": {
     "end_time": "2022-03-18T14:38:34.535992Z",
     "start_time": "2022-03-18T14:38:34.349035Z"
    }
   },
   "outputs": [
    {
     "data": {
      "image/png": "[encoded data removed]",
      "text/plain": [
       "<Figure size 432x288 with 2 Axes>"
      ]
     },
     "metadata": {
      "needs_background": "light"
     },
     "output_type": "display_data"
    }
   ],
   "source": [
    "sns.heatmap(confusion_matrix(y_test, y_hat_eclf, normalize='true'), annot=True, );"
   ]
  },
  {
   "cell_type": "code",
   "execution_count": 228,
   "id": "4349e38c",
   "metadata": {
    "ExecuteTime": {
     "end_time": "2022-03-18T14:38:34.546846Z",
     "start_time": "2022-03-18T14:38:34.537937Z"
    }
   },
   "outputs": [
    {
     "name": "stdout",
     "output_type": "stream",
     "text": [
      "              precision    recall  f1-score   support\n",
      "\n",
      "           0       0.37      0.47      0.41       169\n",
      "           1       0.60      0.45      0.52       288\n",
      "           2       0.30      0.34      0.32       145\n",
      "\n",
      "    accuracy                           0.43       602\n",
      "   macro avg       0.42      0.42      0.42       602\n",
      "weighted avg       0.46      0.43      0.44       602\n",
      "\n"
     ]
    }
   ],
   "source": [
    "print(classification_report(y_test, y_hat_eclf))"
   ]
  }
 ],
 "metadata": {
  "kernelspec": {
   "display_name": "Python 3 (ipykernel)",
   "language": "python",
   "name": "python3"
  },
  "language_info": {
   "codemirror_mode": {
    "name": "ipython",
    "version": 3
   },
   "file_extension": ".py",
   "mimetype": "text/x-python",
   "name": "python",
   "nbconvert_exporter": "python",
   "pygments_lexer": "ipython3",
   "version": "3.9.7"
  }
 },
 "nbformat": 4,
 "nbformat_minor": 5
}
