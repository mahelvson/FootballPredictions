{
 "cells": [
  {
   "cell_type": "markdown",
   "id": "648a4712",
   "metadata": {},
   "source": [
    "# 0. Imports "
   ]
  },
  {
   "cell_type": "code",
   "execution_count": 1,
   "id": "0b87f4ad",
   "metadata": {
    "ExecuteTime": {
     "end_time": "2022-03-21T13:50:48.808803Z",
     "start_time": "2022-03-21T13:50:45.044933Z"
    }
   },
   "outputs": [
    {
     "name": "stderr",
     "output_type": "stream",
     "text": [
      "/home/mahelvson/anaconda3/envs/foot/lib/python3.9/site-packages/xgboost/compat.py:36: FutureWarning: pandas.Int64Index is deprecated and will be removed from pandas in a future version. Use pandas.Index with the appropriate dtype instead.\n",
      "  from pandas import MultiIndex, Int64Index\n"
     ]
    }
   ],
   "source": [
    "import pandas as pd\n",
    "import numpy as np\n",
    "import matplotlib.pyplot as plt\n",
    "import seaborn as sns\n",
    "import xgboost as xgb\n",
    "\n",
    "from os import listdir\n",
    "from sklearn.model_selection import train_test_split, cross_val_score\n",
    "from sklearn.metrics import confusion_matrix, accuracy_score, classification_report\n",
    "from sklearn.ensemble import RandomForestRegressor, RandomForestClassifier\n",
    "from sklearn.metrics import mean_absolute_error, mean_squared_error, mean_absolute_percentage_error\n",
    "from sklearn.linear_model import LogisticRegression\n",
    "from sklearn.preprocessing import LabelEncoder, StandardScaler\n",
    "from sklearn import svm, tree\n",
    "from sklearn.naive_bayes import GaussianNB\n",
    "from sklearn.linear_model import SGDClassifier\n",
    "from sklearn.ensemble import VotingClassifier\n",
    "from sklearn.neural_network import MLPClassifier\n",
    "\n",
    "from boruta import BorutaPy\n",
    "from imblearn.under_sampling import RandomUnderSampler\n",
    "from imblearn.over_sampling import RandomOverSampler"
   ]
  },
  {
   "cell_type": "markdown",
   "id": "d789db41",
   "metadata": {},
   "source": [
    "## 0.1 Helper Functions "
   ]
  },
  {
   "cell_type": "code",
   "execution_count": 300,
   "id": "d1ba9ef8",
   "metadata": {
    "ExecuteTime": {
     "end_time": "2022-03-21T19:35:15.991009Z",
     "start_time": "2022-03-21T19:35:15.979235Z"
    }
   },
   "outputs": [],
   "source": [
    "def check_last_match(df):\n",
    "    \"\"\"\n",
    "    This function checks if a team won the last match and how many gols each team scored\n",
    "    \"\"\"\n",
    "    seasons = df['data'].dt.year.unique()\n",
    "    df_result = pd.DataFrame()\n",
    "    for season in seasons:\n",
    "        df_season = df[df['data'].dt.year == season]        \n",
    "        for round_n in range(1, max(df_season.rodada) + 1):\n",
    "            df_round_n = df_season[df_season['rodada'] == round_n]\n",
    "            for idx in df_round_n.ID.values:                \n",
    "                home = df.loc[idx, 'mandante']\n",
    "                away = df.loc[idx, 'visitante'] \n",
    "                if round_n > 1:\n",
    "                    # win ?\n",
    "                    if ((df_season['rodada'] == round_n -1) & (df_season['vencedor'] == home)).any():\n",
    "                        df_season.loc[idx, 'mandante_venceu_ultima'] = 1.0\n",
    "                    else:\n",
    "                        df_season.loc[idx, 'mandante_venceu_ultima'] = 0.\n",
    "                        \n",
    "                    if ((df_season['rodada'] == round_n -1) & (df_season['vencedor'] == away)).any():\n",
    "                        df_season.loc[idx, 'visitante_venceu_ultima'] = 1.0                    \n",
    "                    else:                     \n",
    "                        df_season.loc[idx, 'visitante_venceu_ultima'] = 0.\n",
    "                        \n",
    "                    # n. of goals\n",
    "                    if ((df_season['rodada'] == round_n-1) & (df_season['mandante'] == home)).any():\n",
    "                        df_season.loc[idx, 'n_gols_mandante_ultima'] = df_season[((df_season['rodada'] == round_n-1) & (df_season['mandante'] == home))]['mandante_placar'].values[0]\n",
    "                        \n",
    "                    elif ((df_season['rodada'] == round_n-1) & (df_season['visitante'] == home)).any():\n",
    "                        df_season.loc[idx, 'n_gols_mandante_ultima'] = df_season[((df_season['rodada'] == round_n-1) & (df_season['visitante'] == home))]['visitante_placar'].values[0]\n",
    "                    \n",
    "                    if ((df_season['rodada'] == round_n-1) & (df_season['mandante'] == away)).any():\n",
    "                        df_season.loc[idx, 'n_gols_visitante_ultima'] = df_season[((df_season['rodada'] == round_n-1) & (df_season['mandante'] == away))]['mandante_placar'].values[0]\n",
    "                        \n",
    "                    elif ((df_season['rodada'] == round_n-1) & (df_season['visitante'] == away)).any():\n",
    "                        df_season.loc[idx, 'n_gols_visitante_ultima'] = df_season[((df_season['rodada'] == round_n-1) & (df_season['visitante'] == away))]['visitante_placar'].values[0]\n",
    "               \n",
    "                else:                 \n",
    "                    df_season['mandante_venceu_ultima'] = 0\n",
    "                    df_season['visitante_venceu_ultima'] = 0\n",
    "                    df_season['n_gols_mandante_ultima'] = 0\n",
    "                    df_season['n_gols_visitante_ultima'] = 0\n",
    "                    \n",
    "        df_result = pd.concat([df_result, df_season], axis = 0)\n",
    "    return df_result"
   ]
  },
  {
   "cell_type": "markdown",
   "id": "25b9bf7e",
   "metadata": {},
   "source": [
    "# 1. Loading Data "
   ]
  },
  {
   "cell_type": "code",
   "execution_count": 2,
   "id": "b9bc9da9",
   "metadata": {
    "ExecuteTime": {
     "end_time": "2022-03-21T13:50:52.756258Z",
     "start_time": "2022-03-21T13:50:52.748880Z"
    }
   },
   "outputs": [],
   "source": [
    "data_path = '../datasets/'\n",
    "files = listdir(data_path)"
   ]
  },
  {
   "cell_type": "code",
   "execution_count": 3,
   "id": "e40fc1d5",
   "metadata": {
    "ExecuteTime": {
     "end_time": "2022-03-21T13:50:53.155458Z",
     "start_time": "2022-03-21T13:50:53.148478Z"
    }
   },
   "outputs": [
    {
     "data": {
      "text/plain": [
       "['campeonato-brasileiro-cartoes.csv',\n",
       " 'campeonato-brasileiro-full.csv',\n",
       " 'campeonato-brasileiro-estatisticas-full.csv',\n",
       " 'campeonato-brasileiro-gols.csv',\n",
       " 'Legenda.txt']"
      ]
     },
     "execution_count": 3,
     "metadata": {},
     "output_type": "execute_result"
    }
   ],
   "source": [
    "files"
   ]
  },
  {
   "cell_type": "code",
   "execution_count": 4,
   "id": "71d0ac19",
   "metadata": {
    "ExecuteTime": {
     "end_time": "2022-03-21T13:50:53.490525Z",
     "start_time": "2022-03-21T13:50:53.485238Z"
    }
   },
   "outputs": [],
   "source": [
    "cards = files[0]\n",
    "full = files[1]\n",
    "stats = files[2]\n",
    "goals = files[3]"
   ]
  },
  {
   "cell_type": "markdown",
   "id": "402e3783",
   "metadata": {},
   "source": [
    "## 1.1 Cards"
   ]
  },
  {
   "cell_type": "code",
   "execution_count": 5,
   "id": "bad57e66",
   "metadata": {
    "ExecuteTime": {
     "end_time": "2022-03-21T13:50:59.268463Z",
     "start_time": "2022-03-21T13:50:59.189241Z"
    }
   },
   "outputs": [
    {
     "data": {
      "text/html": [
       "<div>\n",
       "<style scoped>\n",
       "    .dataframe tbody tr th:only-of-type {\n",
       "        vertical-align: middle;\n",
       "    }\n",
       "\n",
       "    .dataframe tbody tr th {\n",
       "        vertical-align: top;\n",
       "    }\n",
       "\n",
       "    .dataframe thead th {\n",
       "        text-align: right;\n",
       "    }\n",
       "</style>\n",
       "<table border=\"1\" class=\"dataframe\">\n",
       "  <thead>\n",
       "    <tr style=\"text-align: right;\">\n",
       "      <th></th>\n",
       "      <th>partida_id</th>\n",
       "      <th>rodada</th>\n",
       "      <th>clube</th>\n",
       "      <th>cartao</th>\n",
       "      <th>atleta</th>\n",
       "      <th>num_camisa</th>\n",
       "      <th>posicao</th>\n",
       "      <th>minuto</th>\n",
       "    </tr>\n",
       "  </thead>\n",
       "  <tbody>\n",
       "    <tr>\n",
       "      <th>0</th>\n",
       "      <td>4607</td>\n",
       "      <td>1</td>\n",
       "      <td>Figueirense</td>\n",
       "      <td>Amarelo</td>\n",
       "      <td>Thiago Heleno</td>\n",
       "      <td>4.0</td>\n",
       "      <td>Zagueiro</td>\n",
       "      <td>44</td>\n",
       "    </tr>\n",
       "    <tr>\n",
       "      <th>1</th>\n",
       "      <td>4607</td>\n",
       "      <td>1</td>\n",
       "      <td>Figueirense</td>\n",
       "      <td>Amarelo</td>\n",
       "      <td>Paulo Roberto da Silva</td>\n",
       "      <td>28.0</td>\n",
       "      <td>NaN</td>\n",
       "      <td>66</td>\n",
       "    </tr>\n",
       "    <tr>\n",
       "      <th>2</th>\n",
       "      <td>4608</td>\n",
       "      <td>1</td>\n",
       "      <td>Internacional</td>\n",
       "      <td>Amarelo</td>\n",
       "      <td>Juan Silveira dos Santos</td>\n",
       "      <td>4.0</td>\n",
       "      <td>Zagueiro</td>\n",
       "      <td>20</td>\n",
       "    </tr>\n",
       "    <tr>\n",
       "      <th>3</th>\n",
       "      <td>4608</td>\n",
       "      <td>1</td>\n",
       "      <td>Vitoria</td>\n",
       "      <td>Amarelo</td>\n",
       "      <td>Vinícius Santos Silva</td>\n",
       "      <td>NaN</td>\n",
       "      <td>NaN</td>\n",
       "      <td>82</td>\n",
       "    </tr>\n",
       "    <tr>\n",
       "      <th>4</th>\n",
       "      <td>4608</td>\n",
       "      <td>1</td>\n",
       "      <td>Internacional</td>\n",
       "      <td>Amarelo</td>\n",
       "      <td>Andrés D'Alessandro</td>\n",
       "      <td>10.0</td>\n",
       "      <td>Meio-campo</td>\n",
       "      <td>72</td>\n",
       "    </tr>\n",
       "  </tbody>\n",
       "</table>\n",
       "</div>"
      ],
      "text/plain": [
       "   partida_id  rodada          clube   cartao                    atleta  \\\n",
       "0        4607       1    Figueirense  Amarelo             Thiago Heleno   \n",
       "1        4607       1    Figueirense  Amarelo    Paulo Roberto da Silva   \n",
       "2        4608       1  Internacional  Amarelo  Juan Silveira dos Santos   \n",
       "3        4608       1        Vitoria  Amarelo     Vinícius Santos Silva   \n",
       "4        4608       1  Internacional  Amarelo       Andrés D'Alessandro   \n",
       "\n",
       "   num_camisa     posicao minuto  \n",
       "0         4.0    Zagueiro     44  \n",
       "1        28.0         NaN     66  \n",
       "2         4.0    Zagueiro     20  \n",
       "3         NaN         NaN     82  \n",
       "4        10.0  Meio-campo     72  "
      ]
     },
     "execution_count": 5,
     "metadata": {},
     "output_type": "execute_result"
    }
   ],
   "source": [
    "df_cards = pd.read_csv(data_path + cards)\n",
    "df_cards.head()"
   ]
  },
  {
   "cell_type": "code",
   "execution_count": 6,
   "id": "5451bc20",
   "metadata": {
    "ExecuteTime": {
     "end_time": "2022-03-21T13:51:02.572721Z",
     "start_time": "2022-03-21T13:51:02.521376Z"
    }
   },
   "outputs": [
    {
     "data": {
      "text/plain": [
       "partida_id    0.000000\n",
       "rodada        0.000000\n",
       "clube         0.000000\n",
       "cartao        0.000000\n",
       "atleta        0.000406\n",
       "num_camisa    0.026138\n",
       "posicao       0.081121\n",
       "minuto        0.000000\n",
       "dtype: float64"
      ]
     },
     "execution_count": 6,
     "metadata": {},
     "output_type": "execute_result"
    }
   ],
   "source": [
    "df_cards.isna().sum() / df_cards.shape[0]"
   ]
  },
  {
   "cell_type": "code",
   "execution_count": 7,
   "id": "06865881",
   "metadata": {
    "ExecuteTime": {
     "end_time": "2022-03-21T13:51:03.316543Z",
     "start_time": "2022-03-21T13:51:03.302746Z"
    }
   },
   "outputs": [
    {
     "data": {
      "text/plain": [
       "(14768, 8)"
      ]
     },
     "execution_count": 7,
     "metadata": {},
     "output_type": "execute_result"
    }
   ],
   "source": [
    "df_cards.shape"
   ]
  },
  {
   "cell_type": "code",
   "execution_count": 8,
   "id": "1573bdf7",
   "metadata": {
    "ExecuteTime": {
     "end_time": "2022-03-21T13:51:03.724848Z",
     "start_time": "2022-03-21T13:51:03.716571Z"
    }
   },
   "outputs": [
    {
     "data": {
      "text/plain": [
       "partida_id      int64\n",
       "rodada          int64\n",
       "clube          object\n",
       "cartao         object\n",
       "atleta         object\n",
       "num_camisa    float64\n",
       "posicao        object\n",
       "minuto         object\n",
       "dtype: object"
      ]
     },
     "execution_count": 8,
     "metadata": {},
     "output_type": "execute_result"
    }
   ],
   "source": [
    "df_cards.dtypes"
   ]
  },
  {
   "cell_type": "markdown",
   "id": "6b202bf5",
   "metadata": {},
   "source": [
    "Quantidade de NaN é no máximo 8% em relação ao total da registros."
   ]
  },
  {
   "cell_type": "markdown",
   "id": "773ebda2",
   "metadata": {},
   "source": [
    "## 1.2 Full"
   ]
  },
  {
   "cell_type": "code",
   "execution_count": 61,
   "id": "b0198203",
   "metadata": {
    "ExecuteTime": {
     "end_time": "2022-03-21T16:40:46.177531Z",
     "start_time": "2022-03-21T16:40:46.139888Z"
    }
   },
   "outputs": [
    {
     "data": {
      "text/html": [
       "<div>\n",
       "<style scoped>\n",
       "    .dataframe tbody tr th:only-of-type {\n",
       "        vertical-align: middle;\n",
       "    }\n",
       "\n",
       "    .dataframe tbody tr th {\n",
       "        vertical-align: top;\n",
       "    }\n",
       "\n",
       "    .dataframe thead th {\n",
       "        text-align: right;\n",
       "    }\n",
       "</style>\n",
       "<table border=\"1\" class=\"dataframe\">\n",
       "  <thead>\n",
       "    <tr style=\"text-align: right;\">\n",
       "      <th></th>\n",
       "      <th>ID</th>\n",
       "      <th>rodada</th>\n",
       "      <th>data</th>\n",
       "      <th>hora</th>\n",
       "      <th>dia</th>\n",
       "      <th>mandante</th>\n",
       "      <th>visitante</th>\n",
       "      <th>formacao_mandante</th>\n",
       "      <th>formacao_visitante</th>\n",
       "      <th>tecnico_mandante</th>\n",
       "      <th>tecnico_visitante</th>\n",
       "      <th>vencedor</th>\n",
       "      <th>arena</th>\n",
       "      <th>mandante_placar</th>\n",
       "      <th>visitante_placar</th>\n",
       "      <th>mandante_estado</th>\n",
       "      <th>visitante_estado</th>\n",
       "      <th>estado_vencedor</th>\n",
       "    </tr>\n",
       "  </thead>\n",
       "  <tbody>\n",
       "    <tr>\n",
       "      <th>0</th>\n",
       "      <td>1</td>\n",
       "      <td>1</td>\n",
       "      <td>2003-03-29</td>\n",
       "      <td>16:00</td>\n",
       "      <td>Sabado</td>\n",
       "      <td>Guarani</td>\n",
       "      <td>Vasco</td>\n",
       "      <td>NaN</td>\n",
       "      <td>NaN</td>\n",
       "      <td>NaN</td>\n",
       "      <td>NaN</td>\n",
       "      <td>Guarani</td>\n",
       "      <td>brinco de ouro</td>\n",
       "      <td>4</td>\n",
       "      <td>2</td>\n",
       "      <td>SP</td>\n",
       "      <td>RJ</td>\n",
       "      <td>SP</td>\n",
       "    </tr>\n",
       "    <tr>\n",
       "      <th>1</th>\n",
       "      <td>2</td>\n",
       "      <td>1</td>\n",
       "      <td>2003-03-29</td>\n",
       "      <td>16:00</td>\n",
       "      <td>Sabado</td>\n",
       "      <td>Athletico-PR</td>\n",
       "      <td>Gremio</td>\n",
       "      <td>NaN</td>\n",
       "      <td>NaN</td>\n",
       "      <td>NaN</td>\n",
       "      <td>NaN</td>\n",
       "      <td>Athletico-PR</td>\n",
       "      <td>arena da baixada</td>\n",
       "      <td>2</td>\n",
       "      <td>0</td>\n",
       "      <td>PR</td>\n",
       "      <td>RS</td>\n",
       "      <td>PR</td>\n",
       "    </tr>\n",
       "    <tr>\n",
       "      <th>2</th>\n",
       "      <td>3</td>\n",
       "      <td>1</td>\n",
       "      <td>2003-03-30</td>\n",
       "      <td>16:00</td>\n",
       "      <td>Domingo</td>\n",
       "      <td>Flamengo</td>\n",
       "      <td>Coritiba</td>\n",
       "      <td>NaN</td>\n",
       "      <td>NaN</td>\n",
       "      <td>NaN</td>\n",
       "      <td>NaN</td>\n",
       "      <td>-</td>\n",
       "      <td>maracana</td>\n",
       "      <td>1</td>\n",
       "      <td>1</td>\n",
       "      <td>RJ</td>\n",
       "      <td>PR</td>\n",
       "      <td>-</td>\n",
       "    </tr>\n",
       "    <tr>\n",
       "      <th>3</th>\n",
       "      <td>4</td>\n",
       "      <td>1</td>\n",
       "      <td>2003-03-30</td>\n",
       "      <td>16:00</td>\n",
       "      <td>Domingo</td>\n",
       "      <td>Goias</td>\n",
       "      <td>Paysandu</td>\n",
       "      <td>NaN</td>\n",
       "      <td>NaN</td>\n",
       "      <td>NaN</td>\n",
       "      <td>NaN</td>\n",
       "      <td>-</td>\n",
       "      <td>serra dourada</td>\n",
       "      <td>2</td>\n",
       "      <td>2</td>\n",
       "      <td>GO</td>\n",
       "      <td>PA</td>\n",
       "      <td>-</td>\n",
       "    </tr>\n",
       "    <tr>\n",
       "      <th>4</th>\n",
       "      <td>5</td>\n",
       "      <td>1</td>\n",
       "      <td>2003-03-30</td>\n",
       "      <td>16:00</td>\n",
       "      <td>Domingo</td>\n",
       "      <td>Internacional</td>\n",
       "      <td>Ponte Preta</td>\n",
       "      <td>NaN</td>\n",
       "      <td>NaN</td>\n",
       "      <td>NaN</td>\n",
       "      <td>NaN</td>\n",
       "      <td>-</td>\n",
       "      <td>beira rio</td>\n",
       "      <td>1</td>\n",
       "      <td>1</td>\n",
       "      <td>RS</td>\n",
       "      <td>SP</td>\n",
       "      <td>-</td>\n",
       "    </tr>\n",
       "  </tbody>\n",
       "</table>\n",
       "</div>"
      ],
      "text/plain": [
       "   ID  rodada        data   hora      dia       mandante    visitante  \\\n",
       "0   1       1  2003-03-29  16:00   Sabado        Guarani        Vasco   \n",
       "1   2       1  2003-03-29  16:00   Sabado   Athletico-PR       Gremio   \n",
       "2   3       1  2003-03-30  16:00  Domingo       Flamengo     Coritiba   \n",
       "3   4       1  2003-03-30  16:00  Domingo          Goias     Paysandu   \n",
       "4   5       1  2003-03-30  16:00  Domingo  Internacional  Ponte Preta   \n",
       "\n",
       "  formacao_mandante formacao_visitante tecnico_mandante tecnico_visitante  \\\n",
       "0               NaN                NaN              NaN               NaN   \n",
       "1               NaN                NaN              NaN               NaN   \n",
       "2               NaN                NaN              NaN               NaN   \n",
       "3               NaN                NaN              NaN               NaN   \n",
       "4               NaN                NaN              NaN               NaN   \n",
       "\n",
       "       vencedor             arena  mandante_placar  visitante_placar  \\\n",
       "0       Guarani    brinco de ouro                4                 2   \n",
       "1  Athletico-PR  arena da baixada                2                 0   \n",
       "2             -          maracana                1                 1   \n",
       "3             -     serra dourada                2                 2   \n",
       "4             -         beira rio                1                 1   \n",
       "\n",
       "  mandante_estado visitante_estado estado_vencedor  \n",
       "0              SP               RJ              SP  \n",
       "1              PR               RS              PR  \n",
       "2              RJ               PR               -  \n",
       "3              GO               PA               -  \n",
       "4              RS               SP               -  "
      ]
     },
     "execution_count": 61,
     "metadata": {},
     "output_type": "execute_result"
    }
   ],
   "source": [
    "df_full = pd.read_csv(data_path + full)\n",
    "df_full.head()"
   ]
  },
  {
   "cell_type": "code",
   "execution_count": 194,
   "id": "6ec9a6d3",
   "metadata": {
    "ExecuteTime": {
     "end_time": "2022-03-21T18:26:13.977734Z",
     "start_time": "2022-03-21T18:26:13.973126Z"
    }
   },
   "outputs": [],
   "source": [
    "df_full = df_full[df_full['data'] > '2015-01-01']"
   ]
  },
  {
   "cell_type": "code",
   "execution_count": 195,
   "id": "2cca1f49",
   "metadata": {
    "ExecuteTime": {
     "end_time": "2022-03-21T18:26:16.586612Z",
     "start_time": "2022-03-21T18:26:16.582821Z"
    }
   },
   "outputs": [
    {
     "data": {
      "text/plain": [
       "(2659, 18)"
      ]
     },
     "execution_count": 195,
     "metadata": {},
     "output_type": "execute_result"
    }
   ],
   "source": [
    "df_full.shape"
   ]
  },
  {
   "cell_type": "code",
   "execution_count": 196,
   "id": "317aff8e",
   "metadata": {
    "ExecuteTime": {
     "end_time": "2022-03-21T18:26:17.483254Z",
     "start_time": "2022-03-21T18:26:17.472204Z"
    }
   },
   "outputs": [
    {
     "name": "stdout",
     "output_type": "stream",
     "text": [
      "% of NaN\n"
     ]
    },
    {
     "data": {
      "text/plain": [
       "ID                    0.000000\n",
       "rodada                0.000000\n",
       "data                  0.000000\n",
       "hora                  0.000000\n",
       "dia                   0.000000\n",
       "mandante              0.000000\n",
       "visitante             0.000000\n",
       "formacao_mandante     0.001504\n",
       "formacao_visitante    0.001504\n",
       "tecnico_mandante      0.000376\n",
       "tecnico_visitante     0.000376\n",
       "vencedor              0.000000\n",
       "arena                 0.000000\n",
       "mandante_placar       0.000000\n",
       "visitante_placar      0.000000\n",
       "mandante_estado       0.000000\n",
       "visitante_estado      0.000000\n",
       "estado_vencedor       0.000000\n",
       "dtype: float64"
      ]
     },
     "execution_count": 196,
     "metadata": {},
     "output_type": "execute_result"
    }
   ],
   "source": [
    "print('% of NaN')\n",
    "df_full.isna().sum()/df_full.shape[0]"
   ]
  },
  {
   "cell_type": "code",
   "execution_count": 197,
   "id": "80934ad7",
   "metadata": {
    "ExecuteTime": {
     "end_time": "2022-03-21T18:26:21.440462Z",
     "start_time": "2022-03-21T18:26:21.433720Z"
    }
   },
   "outputs": [
    {
     "data": {
      "text/plain": [
       "ID                             int64\n",
       "rodada                         int64\n",
       "data                  datetime64[ns]\n",
       "hora                          object\n",
       "dia                           object\n",
       "mandante                      object\n",
       "visitante                     object\n",
       "formacao_mandante             object\n",
       "formacao_visitante            object\n",
       "tecnico_mandante              object\n",
       "tecnico_visitante             object\n",
       "vencedor                      object\n",
       "arena                         object\n",
       "mandante_placar                int64\n",
       "visitante_placar               int64\n",
       "mandante_estado               object\n",
       "visitante_estado              object\n",
       "estado_vencedor               object\n",
       "dtype: object"
      ]
     },
     "execution_count": 197,
     "metadata": {},
     "output_type": "execute_result"
    }
   ],
   "source": [
    "df_full.dtypes"
   ]
  },
  {
   "cell_type": "code",
   "execution_count": 198,
   "id": "89763785",
   "metadata": {
    "ExecuteTime": {
     "end_time": "2022-03-21T18:26:25.474777Z",
     "start_time": "2022-03-21T18:26:25.459020Z"
    }
   },
   "outputs": [
    {
     "name": "stderr",
     "output_type": "stream",
     "text": [
      "/tmp/ipykernel_12946/2860450102.py:1: SettingWithCopyWarning: \n",
      "A value is trying to be set on a copy of a slice from a DataFrame.\n",
      "Try using .loc[row_indexer,col_indexer] = value instead\n",
      "\n",
      "See the caveats in the documentation: https://pandas.pydata.org/pandas-docs/stable/user_guide/indexing.html#returning-a-view-versus-a-copy\n",
      "  df_full['data'] = pd.to_datetime(df_full.data, yearfirst=True)\n"
     ]
    }
   ],
   "source": [
    "df_full['data'] = pd.to_datetime(df_full.data, yearfirst=True)"
   ]
  },
  {
   "cell_type": "code",
   "execution_count": 204,
   "id": "d5d1580e",
   "metadata": {
    "ExecuteTime": {
     "end_time": "2022-03-21T18:30:04.894241Z",
     "start_time": "2022-03-21T18:30:04.865702Z"
    }
   },
   "outputs": [
    {
     "data": {
      "text/html": [
       "<div>\n",
       "<style scoped>\n",
       "    .dataframe tbody tr th:only-of-type {\n",
       "        vertical-align: middle;\n",
       "    }\n",
       "\n",
       "    .dataframe tbody tr th {\n",
       "        vertical-align: top;\n",
       "    }\n",
       "\n",
       "    .dataframe thead th {\n",
       "        text-align: right;\n",
       "    }\n",
       "</style>\n",
       "<table border=\"1\" class=\"dataframe\">\n",
       "  <thead>\n",
       "    <tr style=\"text-align: right;\">\n",
       "      <th></th>\n",
       "      <th>ID</th>\n",
       "      <th>rodada</th>\n",
       "      <th>data</th>\n",
       "      <th>hora</th>\n",
       "      <th>dia</th>\n",
       "      <th>mandante</th>\n",
       "      <th>visitante</th>\n",
       "      <th>formacao_mandante</th>\n",
       "      <th>formacao_visitante</th>\n",
       "      <th>tecnico_mandante</th>\n",
       "      <th>tecnico_visitante</th>\n",
       "      <th>vencedor</th>\n",
       "      <th>arena</th>\n",
       "      <th>mandante_placar</th>\n",
       "      <th>visitante_placar</th>\n",
       "      <th>mandante_estado</th>\n",
       "      <th>visitante_estado</th>\n",
       "      <th>estado_vencedor</th>\n",
       "    </tr>\n",
       "    <tr>\n",
       "      <th>ID</th>\n",
       "      <th></th>\n",
       "      <th></th>\n",
       "      <th></th>\n",
       "      <th></th>\n",
       "      <th></th>\n",
       "      <th></th>\n",
       "      <th></th>\n",
       "      <th></th>\n",
       "      <th></th>\n",
       "      <th></th>\n",
       "      <th></th>\n",
       "      <th></th>\n",
       "      <th></th>\n",
       "      <th></th>\n",
       "      <th></th>\n",
       "      <th></th>\n",
       "      <th></th>\n",
       "      <th></th>\n",
       "    </tr>\n",
       "  </thead>\n",
       "  <tbody>\n",
       "    <tr>\n",
       "      <th>4987</th>\n",
       "      <td>4987</td>\n",
       "      <td>1</td>\n",
       "      <td>2015-05-09</td>\n",
       "      <td>18:32</td>\n",
       "      <td>Sabado</td>\n",
       "      <td>Chapecoense</td>\n",
       "      <td>Coritiba</td>\n",
       "      <td>4-2-3-1</td>\n",
       "      <td>3-5-2</td>\n",
       "      <td>M. dos Santos Gonçalves</td>\n",
       "      <td>M. dos Santos Gonçalves</td>\n",
       "      <td>Chapecoense</td>\n",
       "      <td>arena conda</td>\n",
       "      <td>2</td>\n",
       "      <td>1</td>\n",
       "      <td>SC</td>\n",
       "      <td>PR</td>\n",
       "      <td>SC</td>\n",
       "    </tr>\n",
       "    <tr>\n",
       "      <th>4988</th>\n",
       "      <td>4988</td>\n",
       "      <td>1</td>\n",
       "      <td>2015-05-09</td>\n",
       "      <td>18:33</td>\n",
       "      <td>Sabado</td>\n",
       "      <td>Palmeiras</td>\n",
       "      <td>Atletico-MG</td>\n",
       "      <td>4-2-3-1</td>\n",
       "      <td>4-2-3-1</td>\n",
       "      <td>L. Culpi</td>\n",
       "      <td>L. Culpi</td>\n",
       "      <td>-</td>\n",
       "      <td>allianz parque</td>\n",
       "      <td>2</td>\n",
       "      <td>2</td>\n",
       "      <td>SP</td>\n",
       "      <td>MG</td>\n",
       "      <td>-</td>\n",
       "    </tr>\n",
       "    <tr>\n",
       "      <th>4989</th>\n",
       "      <td>4989</td>\n",
       "      <td>1</td>\n",
       "      <td>2015-05-09</td>\n",
       "      <td>21:00</td>\n",
       "      <td>Sabado</td>\n",
       "      <td>Fluminense</td>\n",
       "      <td>Joinville</td>\n",
       "      <td>4-3-1-2</td>\n",
       "      <td>4-4-1-1</td>\n",
       "      <td>H. Maria</td>\n",
       "      <td>H. Maria</td>\n",
       "      <td>Fluminense</td>\n",
       "      <td>maracana</td>\n",
       "      <td>1</td>\n",
       "      <td>0</td>\n",
       "      <td>RJ</td>\n",
       "      <td>SC</td>\n",
       "      <td>RJ</td>\n",
       "    </tr>\n",
       "    <tr>\n",
       "      <th>4990</th>\n",
       "      <td>4990</td>\n",
       "      <td>1</td>\n",
       "      <td>2015-05-10</td>\n",
       "      <td>11:00</td>\n",
       "      <td>Domingo</td>\n",
       "      <td>Gremio</td>\n",
       "      <td>Ponte Preta</td>\n",
       "      <td>4-2-3-1</td>\n",
       "      <td>4-1-2-1-2</td>\n",
       "      <td>A. Ferreira</td>\n",
       "      <td>A. Ferreira</td>\n",
       "      <td>-</td>\n",
       "      <td>arena do gremio</td>\n",
       "      <td>3</td>\n",
       "      <td>3</td>\n",
       "      <td>RS</td>\n",
       "      <td>SP</td>\n",
       "      <td>-</td>\n",
       "    </tr>\n",
       "    <tr>\n",
       "      <th>4991</th>\n",
       "      <td>4991</td>\n",
       "      <td>1</td>\n",
       "      <td>2015-05-10</td>\n",
       "      <td>16:00</td>\n",
       "      <td>Domingo</td>\n",
       "      <td>Athletico-PR</td>\n",
       "      <td>Internacional</td>\n",
       "      <td>4-2-3-1</td>\n",
       "      <td>4-2-3-1</td>\n",
       "      <td>D. Aguirre Camblor</td>\n",
       "      <td>D. Aguirre Camblor</td>\n",
       "      <td>Athletico-PR</td>\n",
       "      <td>estadio joaquim americo guimaraes</td>\n",
       "      <td>3</td>\n",
       "      <td>0</td>\n",
       "      <td>PR</td>\n",
       "      <td>RS</td>\n",
       "      <td>PR</td>\n",
       "    </tr>\n",
       "    <tr>\n",
       "      <th>...</th>\n",
       "      <td>...</td>\n",
       "      <td>...</td>\n",
       "      <td>...</td>\n",
       "      <td>...</td>\n",
       "      <td>...</td>\n",
       "      <td>...</td>\n",
       "      <td>...</td>\n",
       "      <td>...</td>\n",
       "      <td>...</td>\n",
       "      <td>...</td>\n",
       "      <td>...</td>\n",
       "      <td>...</td>\n",
       "      <td>...</td>\n",
       "      <td>...</td>\n",
       "      <td>...</td>\n",
       "      <td>...</td>\n",
       "      <td>...</td>\n",
       "      <td>...</td>\n",
       "    </tr>\n",
       "    <tr>\n",
       "      <th>7641</th>\n",
       "      <td>7641</td>\n",
       "      <td>38</td>\n",
       "      <td>2021-12-12</td>\n",
       "      <td>21:33</td>\n",
       "      <td>Domingo</td>\n",
       "      <td>Bragantino</td>\n",
       "      <td>Internacional</td>\n",
       "      <td>4-2-3-1</td>\n",
       "      <td>3-4-2-1</td>\n",
       "      <td>D. Aguirre Camblor</td>\n",
       "      <td>D. Aguirre Camblor</td>\n",
       "      <td>Bragantino</td>\n",
       "      <td>nabizao</td>\n",
       "      <td>1</td>\n",
       "      <td>0</td>\n",
       "      <td>SP</td>\n",
       "      <td>RS</td>\n",
       "      <td>SP</td>\n",
       "    </tr>\n",
       "    <tr>\n",
       "      <th>7642</th>\n",
       "      <td>7642</td>\n",
       "      <td>38</td>\n",
       "      <td>2021-12-12</td>\n",
       "      <td>21:30</td>\n",
       "      <td>Domingo</td>\n",
       "      <td>Sport</td>\n",
       "      <td>Athletico-PR</td>\n",
       "      <td>4-2-3-1</td>\n",
       "      <td>3-4-2-1</td>\n",
       "      <td>J. Freitas</td>\n",
       "      <td>J. Freitas</td>\n",
       "      <td>-</td>\n",
       "      <td>arena de pernambuco</td>\n",
       "      <td>1</td>\n",
       "      <td>1</td>\n",
       "      <td>PE</td>\n",
       "      <td>PR</td>\n",
       "      <td>-</td>\n",
       "    </tr>\n",
       "    <tr>\n",
       "      <th>7643</th>\n",
       "      <td>7643</td>\n",
       "      <td>38</td>\n",
       "      <td>2021-12-12</td>\n",
       "      <td>21:33</td>\n",
       "      <td>Domingo</td>\n",
       "      <td>Juventude</td>\n",
       "      <td>Corinthians</td>\n",
       "      <td>3-4-3</td>\n",
       "      <td>4-3-3</td>\n",
       "      <td>S. Campos Junior</td>\n",
       "      <td>S. Campos Junior</td>\n",
       "      <td>Juventude</td>\n",
       "      <td>alfredo jaconi</td>\n",
       "      <td>1</td>\n",
       "      <td>0</td>\n",
       "      <td>RS</td>\n",
       "      <td>SP</td>\n",
       "      <td>RS</td>\n",
       "    </tr>\n",
       "    <tr>\n",
       "      <th>7644</th>\n",
       "      <td>7644</td>\n",
       "      <td>38</td>\n",
       "      <td>2021-12-12</td>\n",
       "      <td>21:33</td>\n",
       "      <td>Domingo</td>\n",
       "      <td>Gremio</td>\n",
       "      <td>Atletico-MG</td>\n",
       "      <td>4-2-3-1</td>\n",
       "      <td>4-2-3-1</td>\n",
       "      <td>A. Stival</td>\n",
       "      <td>A. Stival</td>\n",
       "      <td>Gremio</td>\n",
       "      <td>arena do gremio</td>\n",
       "      <td>4</td>\n",
       "      <td>3</td>\n",
       "      <td>RS</td>\n",
       "      <td>MG</td>\n",
       "      <td>RS</td>\n",
       "    </tr>\n",
       "    <tr>\n",
       "      <th>7645</th>\n",
       "      <td>7645</td>\n",
       "      <td>38</td>\n",
       "      <td>2021-12-12</td>\n",
       "      <td>21:33</td>\n",
       "      <td>Domingo</td>\n",
       "      <td>Santos</td>\n",
       "      <td>Cuiaba</td>\n",
       "      <td>3-4-2-1</td>\n",
       "      <td>4-4-2</td>\n",
       "      <td>J. de Amorim Campos</td>\n",
       "      <td>J. de Amorim Campos</td>\n",
       "      <td>-</td>\n",
       "      <td>estadio urbano caldeira</td>\n",
       "      <td>1</td>\n",
       "      <td>1</td>\n",
       "      <td>SP</td>\n",
       "      <td>MT</td>\n",
       "      <td>-</td>\n",
       "    </tr>\n",
       "  </tbody>\n",
       "</table>\n",
       "<p>2659 rows × 18 columns</p>\n",
       "</div>"
      ],
      "text/plain": [
       "        ID  rodada       data   hora      dia      mandante      visitante  \\\n",
       "ID                                                                           \n",
       "4987  4987       1 2015-05-09  18:32   Sabado   Chapecoense       Coritiba   \n",
       "4988  4988       1 2015-05-09  18:33   Sabado     Palmeiras    Atletico-MG   \n",
       "4989  4989       1 2015-05-09  21:00   Sabado    Fluminense      Joinville   \n",
       "4990  4990       1 2015-05-10  11:00  Domingo        Gremio    Ponte Preta   \n",
       "4991  4991       1 2015-05-10  16:00  Domingo  Athletico-PR  Internacional   \n",
       "...    ...     ...        ...    ...      ...           ...            ...   \n",
       "7641  7641      38 2021-12-12  21:33  Domingo    Bragantino  Internacional   \n",
       "7642  7642      38 2021-12-12  21:30  Domingo         Sport   Athletico-PR   \n",
       "7643  7643      38 2021-12-12  21:33  Domingo     Juventude    Corinthians   \n",
       "7644  7644      38 2021-12-12  21:33  Domingo        Gremio    Atletico-MG   \n",
       "7645  7645      38 2021-12-12  21:33  Domingo        Santos         Cuiaba   \n",
       "\n",
       "     formacao_mandante formacao_visitante         tecnico_mandante  \\\n",
       "ID                                                                   \n",
       "4987           4-2-3-1              3-5-2  M. dos Santos Gonçalves   \n",
       "4988           4-2-3-1            4-2-3-1                 L. Culpi   \n",
       "4989           4-3-1-2            4-4-1-1                 H. Maria   \n",
       "4990           4-2-3-1          4-1-2-1-2              A. Ferreira   \n",
       "4991           4-2-3-1            4-2-3-1       D. Aguirre Camblor   \n",
       "...                ...                ...                      ...   \n",
       "7641           4-2-3-1            3-4-2-1       D. Aguirre Camblor   \n",
       "7642           4-2-3-1            3-4-2-1               J. Freitas   \n",
       "7643             3-4-3              4-3-3         S. Campos Junior   \n",
       "7644           4-2-3-1            4-2-3-1                A. Stival   \n",
       "7645           3-4-2-1              4-4-2      J. de Amorim Campos   \n",
       "\n",
       "            tecnico_visitante      vencedor  \\\n",
       "ID                                            \n",
       "4987  M. dos Santos Gonçalves   Chapecoense   \n",
       "4988                 L. Culpi             -   \n",
       "4989                 H. Maria    Fluminense   \n",
       "4990              A. Ferreira             -   \n",
       "4991       D. Aguirre Camblor  Athletico-PR   \n",
       "...                       ...           ...   \n",
       "7641       D. Aguirre Camblor    Bragantino   \n",
       "7642               J. Freitas             -   \n",
       "7643         S. Campos Junior     Juventude   \n",
       "7644                A. Stival        Gremio   \n",
       "7645      J. de Amorim Campos             -   \n",
       "\n",
       "                                  arena  mandante_placar  visitante_placar  \\\n",
       "ID                                                                           \n",
       "4987                        arena conda                2                 1   \n",
       "4988                     allianz parque                2                 2   \n",
       "4989                           maracana                1                 0   \n",
       "4990                    arena do gremio                3                 3   \n",
       "4991  estadio joaquim americo guimaraes                3                 0   \n",
       "...                                 ...              ...               ...   \n",
       "7641                            nabizao                1                 0   \n",
       "7642                arena de pernambuco                1                 1   \n",
       "7643                     alfredo jaconi                1                 0   \n",
       "7644                    arena do gremio                4                 3   \n",
       "7645            estadio urbano caldeira                1                 1   \n",
       "\n",
       "     mandante_estado visitante_estado estado_vencedor  \n",
       "ID                                                     \n",
       "4987              SC               PR              SC  \n",
       "4988              SP               MG               -  \n",
       "4989              RJ               SC              RJ  \n",
       "4990              RS               SP               -  \n",
       "4991              PR               RS              PR  \n",
       "...              ...              ...             ...  \n",
       "7641              SP               RS              SP  \n",
       "7642              PE               PR               -  \n",
       "7643              RS               SP              RS  \n",
       "7644              RS               MG              RS  \n",
       "7645              SP               MT               -  \n",
       "\n",
       "[2659 rows x 18 columns]"
      ]
     },
     "execution_count": 204,
     "metadata": {},
     "output_type": "execute_result"
    }
   ],
   "source": [
    "df_full"
   ]
  },
  {
   "cell_type": "code",
   "execution_count": 199,
   "id": "ca1a773a",
   "metadata": {
    "ExecuteTime": {
     "end_time": "2022-03-21T18:26:42.912969Z",
     "start_time": "2022-03-21T18:26:42.907540Z"
    }
   },
   "outputs": [],
   "source": [
    "df_full = df_full.set_index('ID', drop=False)"
   ]
  },
  {
   "cell_type": "code",
   "execution_count": 301,
   "id": "a6df8354",
   "metadata": {
    "ExecuteTime": {
     "end_time": "2022-03-21T19:35:50.502528Z",
     "start_time": "2022-03-21T19:35:39.329146Z"
    }
   },
   "outputs": [
    {
     "name": "stderr",
     "output_type": "stream",
     "text": [
      "/tmp/ipykernel_12946/2534383528.py:40: SettingWithCopyWarning: \n",
      "A value is trying to be set on a copy of a slice from a DataFrame.\n",
      "Try using .loc[row_indexer,col_indexer] = value instead\n",
      "\n",
      "See the caveats in the documentation: https://pandas.pydata.org/pandas-docs/stable/user_guide/indexing.html#returning-a-view-versus-a-copy\n",
      "  df_season['mandante_venceu_ultima'] = 0\n",
      "/tmp/ipykernel_12946/2534383528.py:41: SettingWithCopyWarning: \n",
      "A value is trying to be set on a copy of a slice from a DataFrame.\n",
      "Try using .loc[row_indexer,col_indexer] = value instead\n",
      "\n",
      "See the caveats in the documentation: https://pandas.pydata.org/pandas-docs/stable/user_guide/indexing.html#returning-a-view-versus-a-copy\n",
      "  df_season['visitante_venceu_ultima'] = 0\n",
      "/tmp/ipykernel_12946/2534383528.py:42: SettingWithCopyWarning: \n",
      "A value is trying to be set on a copy of a slice from a DataFrame.\n",
      "Try using .loc[row_indexer,col_indexer] = value instead\n",
      "\n",
      "See the caveats in the documentation: https://pandas.pydata.org/pandas-docs/stable/user_guide/indexing.html#returning-a-view-versus-a-copy\n",
      "  df_season['n_gols_mandante_ultima'] = 0\n",
      "/tmp/ipykernel_12946/2534383528.py:43: SettingWithCopyWarning: \n",
      "A value is trying to be set on a copy of a slice from a DataFrame.\n",
      "Try using .loc[row_indexer,col_indexer] = value instead\n",
      "\n",
      "See the caveats in the documentation: https://pandas.pydata.org/pandas-docs/stable/user_guide/indexing.html#returning-a-view-versus-a-copy\n",
      "  df_season['n_gols_visitante_ultima'] = 0\n",
      "/tmp/ipykernel_12946/2534383528.py:40: SettingWithCopyWarning: \n",
      "A value is trying to be set on a copy of a slice from a DataFrame.\n",
      "Try using .loc[row_indexer,col_indexer] = value instead\n",
      "\n",
      "See the caveats in the documentation: https://pandas.pydata.org/pandas-docs/stable/user_guide/indexing.html#returning-a-view-versus-a-copy\n",
      "  df_season['mandante_venceu_ultima'] = 0\n",
      "/tmp/ipykernel_12946/2534383528.py:41: SettingWithCopyWarning: \n",
      "A value is trying to be set on a copy of a slice from a DataFrame.\n",
      "Try using .loc[row_indexer,col_indexer] = value instead\n",
      "\n",
      "See the caveats in the documentation: https://pandas.pydata.org/pandas-docs/stable/user_guide/indexing.html#returning-a-view-versus-a-copy\n",
      "  df_season['visitante_venceu_ultima'] = 0\n",
      "/tmp/ipykernel_12946/2534383528.py:42: SettingWithCopyWarning: \n",
      "A value is trying to be set on a copy of a slice from a DataFrame.\n",
      "Try using .loc[row_indexer,col_indexer] = value instead\n",
      "\n",
      "See the caveats in the documentation: https://pandas.pydata.org/pandas-docs/stable/user_guide/indexing.html#returning-a-view-versus-a-copy\n",
      "  df_season['n_gols_mandante_ultima'] = 0\n",
      "/tmp/ipykernel_12946/2534383528.py:40: SettingWithCopyWarning: \n",
      "A value is trying to be set on a copy of a slice from a DataFrame.\n",
      "Try using .loc[row_indexer,col_indexer] = value instead\n",
      "\n",
      "See the caveats in the documentation: https://pandas.pydata.org/pandas-docs/stable/user_guide/indexing.html#returning-a-view-versus-a-copy\n",
      "  df_season['mandante_venceu_ultima'] = 0\n",
      "/tmp/ipykernel_12946/2534383528.py:41: SettingWithCopyWarning: \n",
      "A value is trying to be set on a copy of a slice from a DataFrame.\n",
      "Try using .loc[row_indexer,col_indexer] = value instead\n",
      "\n",
      "See the caveats in the documentation: https://pandas.pydata.org/pandas-docs/stable/user_guide/indexing.html#returning-a-view-versus-a-copy\n",
      "  df_season['visitante_venceu_ultima'] = 0\n",
      "/tmp/ipykernel_12946/2534383528.py:42: SettingWithCopyWarning: \n",
      "A value is trying to be set on a copy of a slice from a DataFrame.\n",
      "Try using .loc[row_indexer,col_indexer] = value instead\n",
      "\n",
      "See the caveats in the documentation: https://pandas.pydata.org/pandas-docs/stable/user_guide/indexing.html#returning-a-view-versus-a-copy\n",
      "  df_season['n_gols_mandante_ultima'] = 0\n",
      "/tmp/ipykernel_12946/2534383528.py:43: SettingWithCopyWarning: \n",
      "A value is trying to be set on a copy of a slice from a DataFrame.\n",
      "Try using .loc[row_indexer,col_indexer] = value instead\n",
      "\n",
      "See the caveats in the documentation: https://pandas.pydata.org/pandas-docs/stable/user_guide/indexing.html#returning-a-view-versus-a-copy\n",
      "  df_season['n_gols_visitante_ultima'] = 0\n",
      "/tmp/ipykernel_12946/2534383528.py:40: SettingWithCopyWarning: \n",
      "A value is trying to be set on a copy of a slice from a DataFrame.\n",
      "Try using .loc[row_indexer,col_indexer] = value instead\n",
      "\n",
      "See the caveats in the documentation: https://pandas.pydata.org/pandas-docs/stable/user_guide/indexing.html#returning-a-view-versus-a-copy\n",
      "  df_season['mandante_venceu_ultima'] = 0\n",
      "/tmp/ipykernel_12946/2534383528.py:41: SettingWithCopyWarning: \n",
      "A value is trying to be set on a copy of a slice from a DataFrame.\n",
      "Try using .loc[row_indexer,col_indexer] = value instead\n",
      "\n",
      "See the caveats in the documentation: https://pandas.pydata.org/pandas-docs/stable/user_guide/indexing.html#returning-a-view-versus-a-copy\n",
      "  df_season['visitante_venceu_ultima'] = 0\n",
      "/tmp/ipykernel_12946/2534383528.py:42: SettingWithCopyWarning: \n",
      "A value is trying to be set on a copy of a slice from a DataFrame.\n",
      "Try using .loc[row_indexer,col_indexer] = value instead\n",
      "\n",
      "See the caveats in the documentation: https://pandas.pydata.org/pandas-docs/stable/user_guide/indexing.html#returning-a-view-versus-a-copy\n",
      "  df_season['n_gols_mandante_ultima'] = 0\n",
      "/tmp/ipykernel_12946/2534383528.py:40: SettingWithCopyWarning: \n",
      "A value is trying to be set on a copy of a slice from a DataFrame.\n",
      "Try using .loc[row_indexer,col_indexer] = value instead\n",
      "\n",
      "See the caveats in the documentation: https://pandas.pydata.org/pandas-docs/stable/user_guide/indexing.html#returning-a-view-versus-a-copy\n",
      "  df_season['mandante_venceu_ultima'] = 0\n",
      "/tmp/ipykernel_12946/2534383528.py:41: SettingWithCopyWarning: \n",
      "A value is trying to be set on a copy of a slice from a DataFrame.\n",
      "Try using .loc[row_indexer,col_indexer] = value instead\n",
      "\n",
      "See the caveats in the documentation: https://pandas.pydata.org/pandas-docs/stable/user_guide/indexing.html#returning-a-view-versus-a-copy\n",
      "  df_season['visitante_venceu_ultima'] = 0\n",
      "/tmp/ipykernel_12946/2534383528.py:42: SettingWithCopyWarning: \n",
      "A value is trying to be set on a copy of a slice from a DataFrame.\n",
      "Try using .loc[row_indexer,col_indexer] = value instead\n",
      "\n",
      "See the caveats in the documentation: https://pandas.pydata.org/pandas-docs/stable/user_guide/indexing.html#returning-a-view-versus-a-copy\n",
      "  df_season['n_gols_mandante_ultima'] = 0\n",
      "/tmp/ipykernel_12946/2534383528.py:43: SettingWithCopyWarning: \n",
      "A value is trying to be set on a copy of a slice from a DataFrame.\n",
      "Try using .loc[row_indexer,col_indexer] = value instead\n",
      "\n",
      "See the caveats in the documentation: https://pandas.pydata.org/pandas-docs/stable/user_guide/indexing.html#returning-a-view-versus-a-copy\n",
      "  df_season['n_gols_visitante_ultima'] = 0\n",
      "/tmp/ipykernel_12946/2534383528.py:40: SettingWithCopyWarning: \n",
      "A value is trying to be set on a copy of a slice from a DataFrame.\n",
      "Try using .loc[row_indexer,col_indexer] = value instead\n",
      "\n",
      "See the caveats in the documentation: https://pandas.pydata.org/pandas-docs/stable/user_guide/indexing.html#returning-a-view-versus-a-copy\n",
      "  df_season['mandante_venceu_ultima'] = 0\n",
      "/tmp/ipykernel_12946/2534383528.py:41: SettingWithCopyWarning: \n",
      "A value is trying to be set on a copy of a slice from a DataFrame.\n",
      "Try using .loc[row_indexer,col_indexer] = value instead\n",
      "\n",
      "See the caveats in the documentation: https://pandas.pydata.org/pandas-docs/stable/user_guide/indexing.html#returning-a-view-versus-a-copy\n",
      "  df_season['visitante_venceu_ultima'] = 0\n",
      "/tmp/ipykernel_12946/2534383528.py:42: SettingWithCopyWarning: \n",
      "A value is trying to be set on a copy of a slice from a DataFrame.\n",
      "Try using .loc[row_indexer,col_indexer] = value instead\n",
      "\n",
      "See the caveats in the documentation: https://pandas.pydata.org/pandas-docs/stable/user_guide/indexing.html#returning-a-view-versus-a-copy\n",
      "  df_season['n_gols_mandante_ultima'] = 0\n",
      "/tmp/ipykernel_12946/2534383528.py:40: SettingWithCopyWarning: \n",
      "A value is trying to be set on a copy of a slice from a DataFrame.\n",
      "Try using .loc[row_indexer,col_indexer] = value instead\n",
      "\n",
      "See the caveats in the documentation: https://pandas.pydata.org/pandas-docs/stable/user_guide/indexing.html#returning-a-view-versus-a-copy\n",
      "  df_season['mandante_venceu_ultima'] = 0\n",
      "/tmp/ipykernel_12946/2534383528.py:41: SettingWithCopyWarning: \n",
      "A value is trying to be set on a copy of a slice from a DataFrame.\n",
      "Try using .loc[row_indexer,col_indexer] = value instead\n",
      "\n",
      "See the caveats in the documentation: https://pandas.pydata.org/pandas-docs/stable/user_guide/indexing.html#returning-a-view-versus-a-copy\n",
      "  df_season['visitante_venceu_ultima'] = 0\n",
      "/tmp/ipykernel_12946/2534383528.py:42: SettingWithCopyWarning: \n",
      "A value is trying to be set on a copy of a slice from a DataFrame.\n",
      "Try using .loc[row_indexer,col_indexer] = value instead\n",
      "\n",
      "See the caveats in the documentation: https://pandas.pydata.org/pandas-docs/stable/user_guide/indexing.html#returning-a-view-versus-a-copy\n",
      "  df_season['n_gols_mandante_ultima'] = 0\n",
      "/tmp/ipykernel_12946/2534383528.py:43: SettingWithCopyWarning: \n",
      "A value is trying to be set on a copy of a slice from a DataFrame.\n",
      "Try using .loc[row_indexer,col_indexer] = value instead\n",
      "\n",
      "See the caveats in the documentation: https://pandas.pydata.org/pandas-docs/stable/user_guide/indexing.html#returning-a-view-versus-a-copy\n",
      "  df_season['n_gols_visitante_ultima'] = 0\n",
      "/tmp/ipykernel_12946/2534383528.py:40: SettingWithCopyWarning: \n",
      "A value is trying to be set on a copy of a slice from a DataFrame.\n",
      "Try using .loc[row_indexer,col_indexer] = value instead\n",
      "\n",
      "See the caveats in the documentation: https://pandas.pydata.org/pandas-docs/stable/user_guide/indexing.html#returning-a-view-versus-a-copy\n",
      "  df_season['mandante_venceu_ultima'] = 0\n",
      "/tmp/ipykernel_12946/2534383528.py:41: SettingWithCopyWarning: \n",
      "A value is trying to be set on a copy of a slice from a DataFrame.\n",
      "Try using .loc[row_indexer,col_indexer] = value instead\n",
      "\n",
      "See the caveats in the documentation: https://pandas.pydata.org/pandas-docs/stable/user_guide/indexing.html#returning-a-view-versus-a-copy\n",
      "  df_season['visitante_venceu_ultima'] = 0\n",
      "/tmp/ipykernel_12946/2534383528.py:42: SettingWithCopyWarning: \n",
      "A value is trying to be set on a copy of a slice from a DataFrame.\n",
      "Try using .loc[row_indexer,col_indexer] = value instead\n",
      "\n",
      "See the caveats in the documentation: https://pandas.pydata.org/pandas-docs/stable/user_guide/indexing.html#returning-a-view-versus-a-copy\n",
      "  df_season['n_gols_mandante_ultima'] = 0\n"
     ]
    },
    {
     "name": "stderr",
     "output_type": "stream",
     "text": [
      "/tmp/ipykernel_12946/2534383528.py:40: SettingWithCopyWarning: \n",
      "A value is trying to be set on a copy of a slice from a DataFrame.\n",
      "Try using .loc[row_indexer,col_indexer] = value instead\n",
      "\n",
      "See the caveats in the documentation: https://pandas.pydata.org/pandas-docs/stable/user_guide/indexing.html#returning-a-view-versus-a-copy\n",
      "  df_season['mandante_venceu_ultima'] = 0\n",
      "/tmp/ipykernel_12946/2534383528.py:41: SettingWithCopyWarning: \n",
      "A value is trying to be set on a copy of a slice from a DataFrame.\n",
      "Try using .loc[row_indexer,col_indexer] = value instead\n",
      "\n",
      "See the caveats in the documentation: https://pandas.pydata.org/pandas-docs/stable/user_guide/indexing.html#returning-a-view-versus-a-copy\n",
      "  df_season['visitante_venceu_ultima'] = 0\n",
      "/tmp/ipykernel_12946/2534383528.py:42: SettingWithCopyWarning: \n",
      "A value is trying to be set on a copy of a slice from a DataFrame.\n",
      "Try using .loc[row_indexer,col_indexer] = value instead\n",
      "\n",
      "See the caveats in the documentation: https://pandas.pydata.org/pandas-docs/stable/user_guide/indexing.html#returning-a-view-versus-a-copy\n",
      "  df_season['n_gols_mandante_ultima'] = 0\n",
      "/tmp/ipykernel_12946/2534383528.py:43: SettingWithCopyWarning: \n",
      "A value is trying to be set on a copy of a slice from a DataFrame.\n",
      "Try using .loc[row_indexer,col_indexer] = value instead\n",
      "\n",
      "See the caveats in the documentation: https://pandas.pydata.org/pandas-docs/stable/user_guide/indexing.html#returning-a-view-versus-a-copy\n",
      "  df_season['n_gols_visitante_ultima'] = 0\n",
      "/tmp/ipykernel_12946/2534383528.py:40: SettingWithCopyWarning: \n",
      "A value is trying to be set on a copy of a slice from a DataFrame.\n",
      "Try using .loc[row_indexer,col_indexer] = value instead\n",
      "\n",
      "See the caveats in the documentation: https://pandas.pydata.org/pandas-docs/stable/user_guide/indexing.html#returning-a-view-versus-a-copy\n",
      "  df_season['mandante_venceu_ultima'] = 0\n",
      "/tmp/ipykernel_12946/2534383528.py:41: SettingWithCopyWarning: \n",
      "A value is trying to be set on a copy of a slice from a DataFrame.\n",
      "Try using .loc[row_indexer,col_indexer] = value instead\n",
      "\n",
      "See the caveats in the documentation: https://pandas.pydata.org/pandas-docs/stable/user_guide/indexing.html#returning-a-view-versus-a-copy\n",
      "  df_season['visitante_venceu_ultima'] = 0\n",
      "/tmp/ipykernel_12946/2534383528.py:42: SettingWithCopyWarning: \n",
      "A value is trying to be set on a copy of a slice from a DataFrame.\n",
      "Try using .loc[row_indexer,col_indexer] = value instead\n",
      "\n",
      "See the caveats in the documentation: https://pandas.pydata.org/pandas-docs/stable/user_guide/indexing.html#returning-a-view-versus-a-copy\n",
      "  df_season['n_gols_mandante_ultima'] = 0\n",
      "/tmp/ipykernel_12946/2534383528.py:40: SettingWithCopyWarning: \n",
      "A value is trying to be set on a copy of a slice from a DataFrame.\n",
      "Try using .loc[row_indexer,col_indexer] = value instead\n",
      "\n",
      "See the caveats in the documentation: https://pandas.pydata.org/pandas-docs/stable/user_guide/indexing.html#returning-a-view-versus-a-copy\n",
      "  df_season['mandante_venceu_ultima'] = 0\n",
      "/tmp/ipykernel_12946/2534383528.py:41: SettingWithCopyWarning: \n",
      "A value is trying to be set on a copy of a slice from a DataFrame.\n",
      "Try using .loc[row_indexer,col_indexer] = value instead\n",
      "\n",
      "See the caveats in the documentation: https://pandas.pydata.org/pandas-docs/stable/user_guide/indexing.html#returning-a-view-versus-a-copy\n",
      "  df_season['visitante_venceu_ultima'] = 0\n",
      "/tmp/ipykernel_12946/2534383528.py:42: SettingWithCopyWarning: \n",
      "A value is trying to be set on a copy of a slice from a DataFrame.\n",
      "Try using .loc[row_indexer,col_indexer] = value instead\n",
      "\n",
      "See the caveats in the documentation: https://pandas.pydata.org/pandas-docs/stable/user_guide/indexing.html#returning-a-view-versus-a-copy\n",
      "  df_season['n_gols_mandante_ultima'] = 0\n",
      "/tmp/ipykernel_12946/2534383528.py:43: SettingWithCopyWarning: \n",
      "A value is trying to be set on a copy of a slice from a DataFrame.\n",
      "Try using .loc[row_indexer,col_indexer] = value instead\n",
      "\n",
      "See the caveats in the documentation: https://pandas.pydata.org/pandas-docs/stable/user_guide/indexing.html#returning-a-view-versus-a-copy\n",
      "  df_season['n_gols_visitante_ultima'] = 0\n",
      "/tmp/ipykernel_12946/2534383528.py:40: SettingWithCopyWarning: \n",
      "A value is trying to be set on a copy of a slice from a DataFrame.\n",
      "Try using .loc[row_indexer,col_indexer] = value instead\n",
      "\n",
      "See the caveats in the documentation: https://pandas.pydata.org/pandas-docs/stable/user_guide/indexing.html#returning-a-view-versus-a-copy\n",
      "  df_season['mandante_venceu_ultima'] = 0\n",
      "/tmp/ipykernel_12946/2534383528.py:41: SettingWithCopyWarning: \n",
      "A value is trying to be set on a copy of a slice from a DataFrame.\n",
      "Try using .loc[row_indexer,col_indexer] = value instead\n",
      "\n",
      "See the caveats in the documentation: https://pandas.pydata.org/pandas-docs/stable/user_guide/indexing.html#returning-a-view-versus-a-copy\n",
      "  df_season['visitante_venceu_ultima'] = 0\n",
      "/tmp/ipykernel_12946/2534383528.py:42: SettingWithCopyWarning: \n",
      "A value is trying to be set on a copy of a slice from a DataFrame.\n",
      "Try using .loc[row_indexer,col_indexer] = value instead\n",
      "\n",
      "See the caveats in the documentation: https://pandas.pydata.org/pandas-docs/stable/user_guide/indexing.html#returning-a-view-versus-a-copy\n",
      "  df_season['n_gols_mandante_ultima'] = 0\n",
      "/tmp/ipykernel_12946/2534383528.py:40: SettingWithCopyWarning: \n",
      "A value is trying to be set on a copy of a slice from a DataFrame.\n",
      "Try using .loc[row_indexer,col_indexer] = value instead\n",
      "\n",
      "See the caveats in the documentation: https://pandas.pydata.org/pandas-docs/stable/user_guide/indexing.html#returning-a-view-versus-a-copy\n",
      "  df_season['mandante_venceu_ultima'] = 0\n",
      "/tmp/ipykernel_12946/2534383528.py:41: SettingWithCopyWarning: \n",
      "A value is trying to be set on a copy of a slice from a DataFrame.\n",
      "Try using .loc[row_indexer,col_indexer] = value instead\n",
      "\n",
      "See the caveats in the documentation: https://pandas.pydata.org/pandas-docs/stable/user_guide/indexing.html#returning-a-view-versus-a-copy\n",
      "  df_season['visitante_venceu_ultima'] = 0\n",
      "/tmp/ipykernel_12946/2534383528.py:42: SettingWithCopyWarning: \n",
      "A value is trying to be set on a copy of a slice from a DataFrame.\n",
      "Try using .loc[row_indexer,col_indexer] = value instead\n",
      "\n",
      "See the caveats in the documentation: https://pandas.pydata.org/pandas-docs/stable/user_guide/indexing.html#returning-a-view-versus-a-copy\n",
      "  df_season['n_gols_mandante_ultima'] = 0\n",
      "/tmp/ipykernel_12946/2534383528.py:43: SettingWithCopyWarning: \n",
      "A value is trying to be set on a copy of a slice from a DataFrame.\n",
      "Try using .loc[row_indexer,col_indexer] = value instead\n",
      "\n",
      "See the caveats in the documentation: https://pandas.pydata.org/pandas-docs/stable/user_guide/indexing.html#returning-a-view-versus-a-copy\n",
      "  df_season['n_gols_visitante_ultima'] = 0\n",
      "/tmp/ipykernel_12946/2534383528.py:40: SettingWithCopyWarning: \n",
      "A value is trying to be set on a copy of a slice from a DataFrame.\n",
      "Try using .loc[row_indexer,col_indexer] = value instead\n",
      "\n",
      "See the caveats in the documentation: https://pandas.pydata.org/pandas-docs/stable/user_guide/indexing.html#returning-a-view-versus-a-copy\n",
      "  df_season['mandante_venceu_ultima'] = 0\n",
      "/tmp/ipykernel_12946/2534383528.py:41: SettingWithCopyWarning: \n",
      "A value is trying to be set on a copy of a slice from a DataFrame.\n",
      "Try using .loc[row_indexer,col_indexer] = value instead\n",
      "\n",
      "See the caveats in the documentation: https://pandas.pydata.org/pandas-docs/stable/user_guide/indexing.html#returning-a-view-versus-a-copy\n",
      "  df_season['visitante_venceu_ultima'] = 0\n",
      "/tmp/ipykernel_12946/2534383528.py:42: SettingWithCopyWarning: \n",
      "A value is trying to be set on a copy of a slice from a DataFrame.\n",
      "Try using .loc[row_indexer,col_indexer] = value instead\n",
      "\n",
      "See the caveats in the documentation: https://pandas.pydata.org/pandas-docs/stable/user_guide/indexing.html#returning-a-view-versus-a-copy\n",
      "  df_season['n_gols_mandante_ultima'] = 0\n"
     ]
    }
   ],
   "source": [
    "df_full = check_last_match(df_full)"
   ]
  },
  {
   "cell_type": "code",
   "execution_count": 302,
   "id": "b620d9dd",
   "metadata": {
    "ExecuteTime": {
     "end_time": "2022-03-21T19:36:05.709975Z",
     "start_time": "2022-03-21T19:36:05.691545Z"
    }
   },
   "outputs": [
    {
     "data": {
      "text/html": [
       "<div>\n",
       "<style scoped>\n",
       "    .dataframe tbody tr th:only-of-type {\n",
       "        vertical-align: middle;\n",
       "    }\n",
       "\n",
       "    .dataframe tbody tr th {\n",
       "        vertical-align: top;\n",
       "    }\n",
       "\n",
       "    .dataframe thead th {\n",
       "        text-align: right;\n",
       "    }\n",
       "</style>\n",
       "<table border=\"1\" class=\"dataframe\">\n",
       "  <thead>\n",
       "    <tr style=\"text-align: right;\">\n",
       "      <th></th>\n",
       "      <th>ID</th>\n",
       "      <th>rodada</th>\n",
       "      <th>data</th>\n",
       "      <th>hora</th>\n",
       "      <th>dia</th>\n",
       "      <th>mandante</th>\n",
       "      <th>visitante</th>\n",
       "      <th>formacao_mandante</th>\n",
       "      <th>formacao_visitante</th>\n",
       "      <th>tecnico_mandante</th>\n",
       "      <th>...</th>\n",
       "      <th>arena</th>\n",
       "      <th>mandante_placar</th>\n",
       "      <th>visitante_placar</th>\n",
       "      <th>mandante_estado</th>\n",
       "      <th>visitante_estado</th>\n",
       "      <th>estado_vencedor</th>\n",
       "      <th>mandante_venceu_ultima</th>\n",
       "      <th>visitante_venceu_ultima</th>\n",
       "      <th>n_gols_mandante_ultima</th>\n",
       "      <th>n_gols_visitante_ultima</th>\n",
       "    </tr>\n",
       "    <tr>\n",
       "      <th>ID</th>\n",
       "      <th></th>\n",
       "      <th></th>\n",
       "      <th></th>\n",
       "      <th></th>\n",
       "      <th></th>\n",
       "      <th></th>\n",
       "      <th></th>\n",
       "      <th></th>\n",
       "      <th></th>\n",
       "      <th></th>\n",
       "      <th></th>\n",
       "      <th></th>\n",
       "      <th></th>\n",
       "      <th></th>\n",
       "      <th></th>\n",
       "      <th></th>\n",
       "      <th></th>\n",
       "      <th></th>\n",
       "      <th></th>\n",
       "      <th></th>\n",
       "      <th></th>\n",
       "    </tr>\n",
       "  </thead>\n",
       "  <tbody>\n",
       "    <tr>\n",
       "      <th>4987</th>\n",
       "      <td>4987</td>\n",
       "      <td>1</td>\n",
       "      <td>2015-05-09</td>\n",
       "      <td>18:32</td>\n",
       "      <td>Sabado</td>\n",
       "      <td>Chapecoense</td>\n",
       "      <td>Coritiba</td>\n",
       "      <td>4-2-3-1</td>\n",
       "      <td>3-5-2</td>\n",
       "      <td>M. dos Santos Gonçalves</td>\n",
       "      <td>...</td>\n",
       "      <td>arena conda</td>\n",
       "      <td>2</td>\n",
       "      <td>1</td>\n",
       "      <td>SC</td>\n",
       "      <td>PR</td>\n",
       "      <td>SC</td>\n",
       "      <td>0</td>\n",
       "      <td>0</td>\n",
       "      <td>0</td>\n",
       "      <td>0</td>\n",
       "    </tr>\n",
       "    <tr>\n",
       "      <th>4988</th>\n",
       "      <td>4988</td>\n",
       "      <td>1</td>\n",
       "      <td>2015-05-09</td>\n",
       "      <td>18:33</td>\n",
       "      <td>Sabado</td>\n",
       "      <td>Palmeiras</td>\n",
       "      <td>Atletico-MG</td>\n",
       "      <td>4-2-3-1</td>\n",
       "      <td>4-2-3-1</td>\n",
       "      <td>L. Culpi</td>\n",
       "      <td>...</td>\n",
       "      <td>allianz parque</td>\n",
       "      <td>2</td>\n",
       "      <td>2</td>\n",
       "      <td>SP</td>\n",
       "      <td>MG</td>\n",
       "      <td>-</td>\n",
       "      <td>0</td>\n",
       "      <td>0</td>\n",
       "      <td>0</td>\n",
       "      <td>0</td>\n",
       "    </tr>\n",
       "    <tr>\n",
       "      <th>4989</th>\n",
       "      <td>4989</td>\n",
       "      <td>1</td>\n",
       "      <td>2015-05-09</td>\n",
       "      <td>21:00</td>\n",
       "      <td>Sabado</td>\n",
       "      <td>Fluminense</td>\n",
       "      <td>Joinville</td>\n",
       "      <td>4-3-1-2</td>\n",
       "      <td>4-4-1-1</td>\n",
       "      <td>H. Maria</td>\n",
       "      <td>...</td>\n",
       "      <td>maracana</td>\n",
       "      <td>1</td>\n",
       "      <td>0</td>\n",
       "      <td>RJ</td>\n",
       "      <td>SC</td>\n",
       "      <td>RJ</td>\n",
       "      <td>0</td>\n",
       "      <td>0</td>\n",
       "      <td>0</td>\n",
       "      <td>0</td>\n",
       "    </tr>\n",
       "    <tr>\n",
       "      <th>4990</th>\n",
       "      <td>4990</td>\n",
       "      <td>1</td>\n",
       "      <td>2015-05-10</td>\n",
       "      <td>11:00</td>\n",
       "      <td>Domingo</td>\n",
       "      <td>Gremio</td>\n",
       "      <td>Ponte Preta</td>\n",
       "      <td>4-2-3-1</td>\n",
       "      <td>4-1-2-1-2</td>\n",
       "      <td>A. Ferreira</td>\n",
       "      <td>...</td>\n",
       "      <td>arena do gremio</td>\n",
       "      <td>3</td>\n",
       "      <td>3</td>\n",
       "      <td>RS</td>\n",
       "      <td>SP</td>\n",
       "      <td>-</td>\n",
       "      <td>0</td>\n",
       "      <td>0</td>\n",
       "      <td>0</td>\n",
       "      <td>0</td>\n",
       "    </tr>\n",
       "    <tr>\n",
       "      <th>4991</th>\n",
       "      <td>4991</td>\n",
       "      <td>1</td>\n",
       "      <td>2015-05-10</td>\n",
       "      <td>16:00</td>\n",
       "      <td>Domingo</td>\n",
       "      <td>Athletico-PR</td>\n",
       "      <td>Internacional</td>\n",
       "      <td>4-2-3-1</td>\n",
       "      <td>4-2-3-1</td>\n",
       "      <td>D. Aguirre Camblor</td>\n",
       "      <td>...</td>\n",
       "      <td>estadio joaquim americo guimaraes</td>\n",
       "      <td>3</td>\n",
       "      <td>0</td>\n",
       "      <td>PR</td>\n",
       "      <td>RS</td>\n",
       "      <td>PR</td>\n",
       "      <td>0</td>\n",
       "      <td>0</td>\n",
       "      <td>0</td>\n",
       "      <td>0</td>\n",
       "    </tr>\n",
       "  </tbody>\n",
       "</table>\n",
       "<p>5 rows × 22 columns</p>\n",
       "</div>"
      ],
      "text/plain": [
       "        ID  rodada       data   hora      dia      mandante      visitante  \\\n",
       "ID                                                                           \n",
       "4987  4987       1 2015-05-09  18:32   Sabado   Chapecoense       Coritiba   \n",
       "4988  4988       1 2015-05-09  18:33   Sabado     Palmeiras    Atletico-MG   \n",
       "4989  4989       1 2015-05-09  21:00   Sabado    Fluminense      Joinville   \n",
       "4990  4990       1 2015-05-10  11:00  Domingo        Gremio    Ponte Preta   \n",
       "4991  4991       1 2015-05-10  16:00  Domingo  Athletico-PR  Internacional   \n",
       "\n",
       "     formacao_mandante formacao_visitante         tecnico_mandante  ...  \\\n",
       "ID                                                                  ...   \n",
       "4987           4-2-3-1              3-5-2  M. dos Santos Gonçalves  ...   \n",
       "4988           4-2-3-1            4-2-3-1                 L. Culpi  ...   \n",
       "4989           4-3-1-2            4-4-1-1                 H. Maria  ...   \n",
       "4990           4-2-3-1          4-1-2-1-2              A. Ferreira  ...   \n",
       "4991           4-2-3-1            4-2-3-1       D. Aguirre Camblor  ...   \n",
       "\n",
       "                                  arena mandante_placar visitante_placar  \\\n",
       "ID                                                                         \n",
       "4987                        arena conda               2                1   \n",
       "4988                     allianz parque               2                2   \n",
       "4989                           maracana               1                0   \n",
       "4990                    arena do gremio               3                3   \n",
       "4991  estadio joaquim americo guimaraes               3                0   \n",
       "\n",
       "      mandante_estado  visitante_estado estado_vencedor  \\\n",
       "ID                                                        \n",
       "4987               SC                PR              SC   \n",
       "4988               SP                MG               -   \n",
       "4989               RJ                SC              RJ   \n",
       "4990               RS                SP               -   \n",
       "4991               PR                RS              PR   \n",
       "\n",
       "     mandante_venceu_ultima visitante_venceu_ultima  n_gols_mandante_ultima  \\\n",
       "ID                                                                            \n",
       "4987                      0                       0                       0   \n",
       "4988                      0                       0                       0   \n",
       "4989                      0                       0                       0   \n",
       "4990                      0                       0                       0   \n",
       "4991                      0                       0                       0   \n",
       "\n",
       "      n_gols_visitante_ultima  \n",
       "ID                             \n",
       "4987                        0  \n",
       "4988                        0  \n",
       "4989                        0  \n",
       "4990                        0  \n",
       "4991                        0  \n",
       "\n",
       "[5 rows x 22 columns]"
      ]
     },
     "execution_count": 302,
     "metadata": {},
     "output_type": "execute_result"
    }
   ],
   "source": [
    "df_full.head()"
   ]
  },
  {
   "cell_type": "markdown",
   "id": "ae364e6d",
   "metadata": {},
   "source": [
    "## 1.3 Stats "
   ]
  },
  {
   "cell_type": "code",
   "execution_count": 16,
   "id": "e1306a2d",
   "metadata": {
    "ExecuteTime": {
     "end_time": "2022-03-21T13:51:41.283081Z",
     "start_time": "2022-03-21T13:51:41.187953Z"
    }
   },
   "outputs": [
    {
     "data": {
      "text/html": [
       "<div>\n",
       "<style scoped>\n",
       "    .dataframe tbody tr th:only-of-type {\n",
       "        vertical-align: middle;\n",
       "    }\n",
       "\n",
       "    .dataframe tbody tr th {\n",
       "        vertical-align: top;\n",
       "    }\n",
       "\n",
       "    .dataframe thead th {\n",
       "        text-align: right;\n",
       "    }\n",
       "</style>\n",
       "<table border=\"1\" class=\"dataframe\">\n",
       "  <thead>\n",
       "    <tr style=\"text-align: right;\">\n",
       "      <th></th>\n",
       "      <th>partida_id</th>\n",
       "      <th>rodada</th>\n",
       "      <th>clube</th>\n",
       "      <th>chutes</th>\n",
       "      <th>chutes_no_alvo</th>\n",
       "      <th>posse_de_bola</th>\n",
       "      <th>passes</th>\n",
       "      <th>precisao_passes</th>\n",
       "      <th>faltas</th>\n",
       "      <th>cartao_amarelo</th>\n",
       "      <th>cartao_vermelho</th>\n",
       "      <th>impedimentos</th>\n",
       "      <th>escanteios</th>\n",
       "    </tr>\n",
       "  </thead>\n",
       "  <tbody>\n",
       "    <tr>\n",
       "      <th>0</th>\n",
       "      <td>1</td>\n",
       "      <td>1</td>\n",
       "      <td>Guarani</td>\n",
       "      <td>0</td>\n",
       "      <td>0</td>\n",
       "      <td>NaN</td>\n",
       "      <td>0</td>\n",
       "      <td>NaN</td>\n",
       "      <td>0</td>\n",
       "      <td>0</td>\n",
       "      <td>0</td>\n",
       "      <td>0</td>\n",
       "      <td>0</td>\n",
       "    </tr>\n",
       "    <tr>\n",
       "      <th>1</th>\n",
       "      <td>1</td>\n",
       "      <td>1</td>\n",
       "      <td>Vasco</td>\n",
       "      <td>0</td>\n",
       "      <td>0</td>\n",
       "      <td>NaN</td>\n",
       "      <td>0</td>\n",
       "      <td>NaN</td>\n",
       "      <td>0</td>\n",
       "      <td>0</td>\n",
       "      <td>0</td>\n",
       "      <td>0</td>\n",
       "      <td>0</td>\n",
       "    </tr>\n",
       "    <tr>\n",
       "      <th>2</th>\n",
       "      <td>2</td>\n",
       "      <td>1</td>\n",
       "      <td>Athletico-PR</td>\n",
       "      <td>0</td>\n",
       "      <td>0</td>\n",
       "      <td>NaN</td>\n",
       "      <td>0</td>\n",
       "      <td>NaN</td>\n",
       "      <td>0</td>\n",
       "      <td>0</td>\n",
       "      <td>0</td>\n",
       "      <td>0</td>\n",
       "      <td>0</td>\n",
       "    </tr>\n",
       "    <tr>\n",
       "      <th>3</th>\n",
       "      <td>2</td>\n",
       "      <td>1</td>\n",
       "      <td>Gremio</td>\n",
       "      <td>0</td>\n",
       "      <td>0</td>\n",
       "      <td>NaN</td>\n",
       "      <td>0</td>\n",
       "      <td>NaN</td>\n",
       "      <td>0</td>\n",
       "      <td>0</td>\n",
       "      <td>0</td>\n",
       "      <td>0</td>\n",
       "      <td>0</td>\n",
       "    </tr>\n",
       "    <tr>\n",
       "      <th>4</th>\n",
       "      <td>3</td>\n",
       "      <td>1</td>\n",
       "      <td>Flamengo</td>\n",
       "      <td>0</td>\n",
       "      <td>0</td>\n",
       "      <td>NaN</td>\n",
       "      <td>0</td>\n",
       "      <td>NaN</td>\n",
       "      <td>0</td>\n",
       "      <td>0</td>\n",
       "      <td>0</td>\n",
       "      <td>0</td>\n",
       "      <td>0</td>\n",
       "    </tr>\n",
       "  </tbody>\n",
       "</table>\n",
       "</div>"
      ],
      "text/plain": [
       "   partida_id  rodada         clube  chutes  chutes_no_alvo posse_de_bola  \\\n",
       "0           1       1       Guarani       0               0           NaN   \n",
       "1           1       1         Vasco       0               0           NaN   \n",
       "2           2       1  Athletico-PR       0               0           NaN   \n",
       "3           2       1        Gremio       0               0           NaN   \n",
       "4           3       1      Flamengo       0               0           NaN   \n",
       "\n",
       "   passes precisao_passes  faltas  cartao_amarelo  cartao_vermelho  \\\n",
       "0       0             NaN       0               0                0   \n",
       "1       0             NaN       0               0                0   \n",
       "2       0             NaN       0               0                0   \n",
       "3       0             NaN       0               0                0   \n",
       "4       0             NaN       0               0                0   \n",
       "\n",
       "   impedimentos  escanteios  \n",
       "0             0           0  \n",
       "1             0           0  \n",
       "2             0           0  \n",
       "3             0           0  \n",
       "4             0           0  "
      ]
     },
     "execution_count": 16,
     "metadata": {},
     "output_type": "execute_result"
    }
   ],
   "source": [
    "df_stats = pd.read_csv(data_path + stats)\n",
    "df_stats.head()"
   ]
  },
  {
   "cell_type": "code",
   "execution_count": 17,
   "id": "eabf6995",
   "metadata": {
    "ExecuteTime": {
     "end_time": "2022-03-21T13:51:42.734817Z",
     "start_time": "2022-03-21T13:51:42.724977Z"
    }
   },
   "outputs": [
    {
     "data": {
      "text/plain": [
       "(15290, 13)"
      ]
     },
     "execution_count": 17,
     "metadata": {},
     "output_type": "execute_result"
    }
   ],
   "source": [
    "df_stats.shape"
   ]
  },
  {
   "cell_type": "code",
   "execution_count": 18,
   "id": "958b80b5",
   "metadata": {
    "ExecuteTime": {
     "end_time": "2022-03-21T13:51:43.182039Z",
     "start_time": "2022-03-21T13:51:43.159607Z"
    }
   },
   "outputs": [
    {
     "name": "stdout",
     "output_type": "stream",
     "text": [
      "% of NaN\n"
     ]
    },
    {
     "data": {
      "text/plain": [
       "partida_id         0.000000\n",
       "rodada             0.000000\n",
       "clube              0.000000\n",
       "chutes             0.000000\n",
       "chutes_no_alvo     0.000000\n",
       "posse_de_bola      0.602485\n",
       "passes             0.000000\n",
       "precisao_passes    0.602485\n",
       "faltas             0.000000\n",
       "cartao_amarelo     0.000000\n",
       "cartao_vermelho    0.000000\n",
       "impedimentos       0.000000\n",
       "escanteios         0.000000\n",
       "dtype: float64"
      ]
     },
     "execution_count": 18,
     "metadata": {},
     "output_type": "execute_result"
    }
   ],
   "source": [
    "print('% of NaN')\n",
    "df_stats.isna().sum()/df_stats.shape[0]"
   ]
  },
  {
   "cell_type": "code",
   "execution_count": 19,
   "id": "88de0063",
   "metadata": {
    "ExecuteTime": {
     "end_time": "2022-03-21T13:51:45.096912Z",
     "start_time": "2022-03-21T13:51:45.074204Z"
    }
   },
   "outputs": [
    {
     "data": {
      "text/plain": [
       "partida_id          int64\n",
       "rodada              int64\n",
       "clube              object\n",
       "chutes              int64\n",
       "chutes_no_alvo      int64\n",
       "posse_de_bola      object\n",
       "passes              int64\n",
       "precisao_passes    object\n",
       "faltas              int64\n",
       "cartao_amarelo      int64\n",
       "cartao_vermelho     int64\n",
       "impedimentos        int64\n",
       "escanteios          int64\n",
       "dtype: object"
      ]
     },
     "execution_count": 19,
     "metadata": {},
     "output_type": "execute_result"
    }
   ],
   "source": [
    "df_stats.dtypes"
   ]
  },
  {
   "cell_type": "code",
   "execution_count": 20,
   "id": "8b14c171",
   "metadata": {
    "ExecuteTime": {
     "end_time": "2022-03-21T13:51:47.914118Z",
     "start_time": "2022-03-21T13:51:47.552247Z"
    }
   },
   "outputs": [
    {
     "data": {
      "text/plain": [
       "<AxesSubplot:>"
      ]
     },
     "execution_count": 20,
     "metadata": {},
     "output_type": "execute_result"
    },
    {
     "data": {
      "image/png": "[encoded data removed]",
      "text/plain": [
       "<Figure size 432x288 with 1 Axes>"
      ]
     },
     "metadata": {
      "needs_background": "light"
     },
     "output_type": "display_data"
    }
   ],
   "source": [
    "df_stats[10000:].plot(y='cartao_amarelo')"
   ]
  },
  {
   "cell_type": "markdown",
   "id": "3ea26c4b",
   "metadata": {},
   "source": [
    "## 1.4 Goals "
   ]
  },
  {
   "cell_type": "code",
   "execution_count": 21,
   "id": "4cf8c1cb",
   "metadata": {
    "ExecuteTime": {
     "end_time": "2022-03-21T13:51:55.795677Z",
     "start_time": "2022-03-21T13:51:55.763730Z"
    }
   },
   "outputs": [
    {
     "data": {
      "text/html": [
       "<div>\n",
       "<style scoped>\n",
       "    .dataframe tbody tr th:only-of-type {\n",
       "        vertical-align: middle;\n",
       "    }\n",
       "\n",
       "    .dataframe tbody tr th {\n",
       "        vertical-align: top;\n",
       "    }\n",
       "\n",
       "    .dataframe thead th {\n",
       "        text-align: right;\n",
       "    }\n",
       "</style>\n",
       "<table border=\"1\" class=\"dataframe\">\n",
       "  <thead>\n",
       "    <tr style=\"text-align: right;\">\n",
       "      <th></th>\n",
       "      <th>partida_id</th>\n",
       "      <th>rodada</th>\n",
       "      <th>clube</th>\n",
       "      <th>atleta</th>\n",
       "      <th>minuto</th>\n",
       "    </tr>\n",
       "  </thead>\n",
       "  <tbody>\n",
       "    <tr>\n",
       "      <th>0</th>\n",
       "      <td>4607</td>\n",
       "      <td>1</td>\n",
       "      <td>Fluminense</td>\n",
       "      <td>Rafael Sóbis</td>\n",
       "      <td>31</td>\n",
       "    </tr>\n",
       "    <tr>\n",
       "      <th>1</th>\n",
       "      <td>4607</td>\n",
       "      <td>1</td>\n",
       "      <td>Fluminense</td>\n",
       "      <td>Fred</td>\n",
       "      <td>45</td>\n",
       "    </tr>\n",
       "    <tr>\n",
       "      <th>2</th>\n",
       "      <td>4607</td>\n",
       "      <td>1</td>\n",
       "      <td>Fluminense</td>\n",
       "      <td>Nirley da Silva Fonseca</td>\n",
       "      <td>59</td>\n",
       "    </tr>\n",
       "    <tr>\n",
       "      <th>3</th>\n",
       "      <td>4608</td>\n",
       "      <td>1</td>\n",
       "      <td>Internacional</td>\n",
       "      <td>Charles Aránguiz</td>\n",
       "      <td>6</td>\n",
       "    </tr>\n",
       "    <tr>\n",
       "      <th>4</th>\n",
       "      <td>4610</td>\n",
       "      <td>1</td>\n",
       "      <td>Athletico-PR</td>\n",
       "      <td>Dráusio Luis Salla Gil</td>\n",
       "      <td>16</td>\n",
       "    </tr>\n",
       "  </tbody>\n",
       "</table>\n",
       "</div>"
      ],
      "text/plain": [
       "   partida_id  rodada          clube                   atleta minuto\n",
       "0        4607       1     Fluminense             Rafael Sóbis     31\n",
       "1        4607       1     Fluminense                     Fred     45\n",
       "2        4607       1     Fluminense  Nirley da Silva Fonseca     59\n",
       "3        4608       1  Internacional         Charles Aránguiz      6\n",
       "4        4610       1   Athletico-PR   Dráusio Luis Salla Gil     16"
      ]
     },
     "execution_count": 21,
     "metadata": {},
     "output_type": "execute_result"
    }
   ],
   "source": [
    "df_goals = pd.read_csv(data_path + goals)\n",
    "df_goals.head()"
   ]
  },
  {
   "cell_type": "code",
   "execution_count": 22,
   "id": "6aeb961e",
   "metadata": {
    "ExecuteTime": {
     "end_time": "2022-03-21T13:51:59.148263Z",
     "start_time": "2022-03-21T13:51:59.141743Z"
    }
   },
   "outputs": [],
   "source": [
    "df_goals['gol'] = 1"
   ]
  },
  {
   "cell_type": "code",
   "execution_count": 23,
   "id": "cf117cb0",
   "metadata": {
    "ExecuteTime": {
     "end_time": "2022-03-21T13:51:59.752959Z",
     "start_time": "2022-03-21T13:51:59.728397Z"
    }
   },
   "outputs": [
    {
     "data": {
      "text/html": [
       "<div>\n",
       "<style scoped>\n",
       "    .dataframe tbody tr th:only-of-type {\n",
       "        vertical-align: middle;\n",
       "    }\n",
       "\n",
       "    .dataframe tbody tr th {\n",
       "        vertical-align: top;\n",
       "    }\n",
       "\n",
       "    .dataframe thead th {\n",
       "        text-align: right;\n",
       "    }\n",
       "</style>\n",
       "<table border=\"1\" class=\"dataframe\">\n",
       "  <thead>\n",
       "    <tr style=\"text-align: right;\">\n",
       "      <th></th>\n",
       "      <th>partida_id</th>\n",
       "      <th>rodada</th>\n",
       "      <th>clube</th>\n",
       "      <th>atleta</th>\n",
       "      <th>minuto</th>\n",
       "      <th>gol</th>\n",
       "    </tr>\n",
       "  </thead>\n",
       "  <tbody>\n",
       "    <tr>\n",
       "      <th>0</th>\n",
       "      <td>4607</td>\n",
       "      <td>1</td>\n",
       "      <td>Fluminense</td>\n",
       "      <td>Rafael Sóbis</td>\n",
       "      <td>31</td>\n",
       "      <td>1</td>\n",
       "    </tr>\n",
       "    <tr>\n",
       "      <th>1</th>\n",
       "      <td>4607</td>\n",
       "      <td>1</td>\n",
       "      <td>Fluminense</td>\n",
       "      <td>Fred</td>\n",
       "      <td>45</td>\n",
       "      <td>1</td>\n",
       "    </tr>\n",
       "    <tr>\n",
       "      <th>2</th>\n",
       "      <td>4607</td>\n",
       "      <td>1</td>\n",
       "      <td>Fluminense</td>\n",
       "      <td>Nirley da Silva Fonseca</td>\n",
       "      <td>59</td>\n",
       "      <td>1</td>\n",
       "    </tr>\n",
       "    <tr>\n",
       "      <th>3</th>\n",
       "      <td>4608</td>\n",
       "      <td>1</td>\n",
       "      <td>Internacional</td>\n",
       "      <td>Charles Aránguiz</td>\n",
       "      <td>6</td>\n",
       "      <td>1</td>\n",
       "    </tr>\n",
       "    <tr>\n",
       "      <th>4</th>\n",
       "      <td>4610</td>\n",
       "      <td>1</td>\n",
       "      <td>Athletico-PR</td>\n",
       "      <td>Dráusio Luis Salla Gil</td>\n",
       "      <td>16</td>\n",
       "      <td>1</td>\n",
       "    </tr>\n",
       "  </tbody>\n",
       "</table>\n",
       "</div>"
      ],
      "text/plain": [
       "   partida_id  rodada          clube                   atleta minuto  gol\n",
       "0        4607       1     Fluminense             Rafael Sóbis     31    1\n",
       "1        4607       1     Fluminense                     Fred     45    1\n",
       "2        4607       1     Fluminense  Nirley da Silva Fonseca     59    1\n",
       "3        4608       1  Internacional         Charles Aránguiz      6    1\n",
       "4        4610       1   Athletico-PR   Dráusio Luis Salla Gil     16    1"
      ]
     },
     "execution_count": 23,
     "metadata": {},
     "output_type": "execute_result"
    }
   ],
   "source": [
    "df_goals.head()"
   ]
  },
  {
   "cell_type": "code",
   "execution_count": 24,
   "id": "0c0d707f",
   "metadata": {
    "ExecuteTime": {
     "end_time": "2022-03-21T13:52:09.064811Z",
     "start_time": "2022-03-21T13:52:09.051081Z"
    }
   },
   "outputs": [
    {
     "data": {
      "text/plain": [
       "(7081, 6)"
      ]
     },
     "execution_count": 24,
     "metadata": {},
     "output_type": "execute_result"
    }
   ],
   "source": [
    "df_goals.shape"
   ]
  },
  {
   "cell_type": "code",
   "execution_count": 25,
   "id": "2ddaeda9",
   "metadata": {
    "ExecuteTime": {
     "end_time": "2022-03-21T13:52:09.352970Z",
     "start_time": "2022-03-21T13:52:09.330118Z"
    }
   },
   "outputs": [
    {
     "name": "stdout",
     "output_type": "stream",
     "text": [
      "% of NaN\n"
     ]
    },
    {
     "data": {
      "text/plain": [
       "partida_id    0.0\n",
       "rodada        0.0\n",
       "clube         0.0\n",
       "atleta        0.0\n",
       "minuto        0.0\n",
       "gol           0.0\n",
       "dtype: float64"
      ]
     },
     "execution_count": 25,
     "metadata": {},
     "output_type": "execute_result"
    }
   ],
   "source": [
    "print('% of NaN')\n",
    "df_goals.isna().sum()/df_goals.shape[0]"
   ]
  },
  {
   "cell_type": "markdown",
   "id": "9e0298f5",
   "metadata": {},
   "source": [
    "## 1.5 Legend"
   ]
  },
  {
   "cell_type": "markdown",
   "id": "8830e31e",
   "metadata": {},
   "source": [
    "**Legenda - campeonato-brasileiro-full.csv**\n",
    "- ID : ID da partida\n",
    "- Rodada : Rodada que aconteceu a partida\n",
    "- Data : Data que ocorreu a partida\n",
    "- Horário :  Horário que ocorreu a partida\n",
    "- Dia : Dia da semana que ocorreu a partida\n",
    "- Mandante : Clube mandante                      \n",
    "- Visitante : Clube Visitante\n",
    "- formacao_mandante: Formação do mandante\n",
    "- formacao_visitante: Formação do visitante\n",
    "- tecnico_mandante: Técnico do mandante\n",
    "- tecnico_visitante: Técnico do visitante\n",
    "- Vencedor : Clube vencedor da partida. Quando tiver \"-\", é um empate\n",
    "- Arena : Arena que ocorreu a partida                      \n",
    "- Mandante Placar : Gols que o clube mandante fez na partida                      \n",
    "- Visitante Placar : Gols que o clube visitante fez na partida                      \n",
    "- Estado Mandante : Estado do clube mandatorio                      \n",
    "- Estado Visitante : Estado do clube visitante                      \n",
    "- Estado Vencedor : Estado do clube vencedor. Quando tiver \"-\", é um empate\n",
    "\n",
    "\n",
    "**Legenda - campeonato-brasileiro-estatisticas-full.csv**\n",
    "- partida_ID - ID da partida\n",
    "- Rodada - Rodada da partida\n",
    "- Clube - Nome do clube\n",
    "- Chutes - Finalizações\n",
    "- Chutes a gol - Finalizações na direção do gol\n",
    "- Posse de bola - Percentual da posse de bola\n",
    "- Passes - Quantidade de passes que o clube deu na partida\n",
    "- precisao_passes - Percentual da precisão de passe\n",
    "- Faltas - Quantidade de faltas cometidas na partida\n",
    "- cartao_amarelo - Quantidade de cartões amarelos para o clube na partida\n",
    "- cartao_vermelho - Quantidade de cartões vermelhos para o clube na partida\n",
    "- Impedimentos - Quantidade de impedimentos para o clube na partida\n",
    "- Escanteios - Quantidade de escanteios para o clube na partida\n",
    "\n",
    "\n",
    "**Legenda - campeonato-brasileiro-gols.csv**\n",
    "- partida_ID - ID da partida\n",
    "- Rodada - Rodada da partida\n",
    "- Clube - Nome do clube\n",
    "- Atleta - Nome do atleta que fez o gol\n",
    "- Minuto - Minuto na partida em que o gol foi marcado\n",
    "\n",
    "\n",
    "**Legenda - campeonato-brasileiro-cartoes.csv**\n",
    "- partida_ID - ID da partida\n",
    "- Rodada - Rodada da partida\n",
    "- Clube - Nome do clube\n",
    "- Cartao - Cor do cartão aplicado\n",
    "- Atleta - Nome do atleta punido pelo cartão\n",
    "- num_camisa - Número da camisa do atleta\n",
    "- Posicao - Posição na partida em que o atleta se encontra\n",
    "- Minuto - Minuto na partida em que o cartão foi aplicado"
   ]
  },
  {
   "cell_type": "markdown",
   "id": "57170f8e",
   "metadata": {},
   "source": [
    "## 1.6 Filling NA and and filtering data"
   ]
  },
  {
   "cell_type": "markdown",
   "id": "ac1e3cf2",
   "metadata": {},
   "source": [
    "### 1.6.1 Selecting recent games (5 years) "
   ]
  },
  {
   "cell_type": "code",
   "execution_count": 26,
   "id": "17ee2bf1",
   "metadata": {
    "ExecuteTime": {
     "end_time": "2022-03-18T14:20:34.656787Z",
     "start_time": "2022-03-18T14:20:34.652891Z"
    }
   },
   "outputs": [],
   "source": [
    "df_full_recent = df_full[df_full['data'] > '2015-01-01']"
   ]
  },
  {
   "cell_type": "code",
   "execution_count": 27,
   "id": "20ed31df",
   "metadata": {
    "ExecuteTime": {
     "end_time": "2022-03-18T14:20:34.673930Z",
     "start_time": "2022-03-18T14:20:34.658772Z"
    }
   },
   "outputs": [
    {
     "data": {
      "text/html": [
       "<div>\n",
       "<style scoped>\n",
       "    .dataframe tbody tr th:only-of-type {\n",
       "        vertical-align: middle;\n",
       "    }\n",
       "\n",
       "    .dataframe tbody tr th {\n",
       "        vertical-align: top;\n",
       "    }\n",
       "\n",
       "    .dataframe thead th {\n",
       "        text-align: right;\n",
       "    }\n",
       "</style>\n",
       "<table border=\"1\" class=\"dataframe\">\n",
       "  <thead>\n",
       "    <tr style=\"text-align: right;\">\n",
       "      <th></th>\n",
       "      <th>ID</th>\n",
       "      <th>rodada</th>\n",
       "      <th>data</th>\n",
       "      <th>hora</th>\n",
       "      <th>dia</th>\n",
       "      <th>mandante</th>\n",
       "      <th>visitante</th>\n",
       "      <th>formacao_mandante</th>\n",
       "      <th>formacao_visitante</th>\n",
       "      <th>tecnico_mandante</th>\n",
       "      <th>tecnico_visitante</th>\n",
       "      <th>vencedor</th>\n",
       "      <th>arena</th>\n",
       "      <th>mandante_placar</th>\n",
       "      <th>visitante_placar</th>\n",
       "      <th>mandante_estado</th>\n",
       "      <th>visitante_estado</th>\n",
       "      <th>estado_vencedor</th>\n",
       "    </tr>\n",
       "  </thead>\n",
       "  <tbody>\n",
       "    <tr>\n",
       "      <th>4986</th>\n",
       "      <td>4987</td>\n",
       "      <td>1</td>\n",
       "      <td>2015-05-09</td>\n",
       "      <td>18:32</td>\n",
       "      <td>Sabado</td>\n",
       "      <td>Chapecoense</td>\n",
       "      <td>Coritiba</td>\n",
       "      <td>4-2-3-1</td>\n",
       "      <td>3-5-2</td>\n",
       "      <td>M. dos Santos Gonçalves</td>\n",
       "      <td>M. dos Santos Gonçalves</td>\n",
       "      <td>Chapecoense</td>\n",
       "      <td>arena conda</td>\n",
       "      <td>2</td>\n",
       "      <td>1</td>\n",
       "      <td>SC</td>\n",
       "      <td>PR</td>\n",
       "      <td>SC</td>\n",
       "    </tr>\n",
       "    <tr>\n",
       "      <th>4987</th>\n",
       "      <td>4988</td>\n",
       "      <td>1</td>\n",
       "      <td>2015-05-09</td>\n",
       "      <td>18:33</td>\n",
       "      <td>Sabado</td>\n",
       "      <td>Palmeiras</td>\n",
       "      <td>Atletico-MG</td>\n",
       "      <td>4-2-3-1</td>\n",
       "      <td>4-2-3-1</td>\n",
       "      <td>L. Culpi</td>\n",
       "      <td>L. Culpi</td>\n",
       "      <td>-</td>\n",
       "      <td>allianz parque</td>\n",
       "      <td>2</td>\n",
       "      <td>2</td>\n",
       "      <td>SP</td>\n",
       "      <td>MG</td>\n",
       "      <td>-</td>\n",
       "    </tr>\n",
       "    <tr>\n",
       "      <th>4988</th>\n",
       "      <td>4989</td>\n",
       "      <td>1</td>\n",
       "      <td>2015-05-09</td>\n",
       "      <td>21:00</td>\n",
       "      <td>Sabado</td>\n",
       "      <td>Fluminense</td>\n",
       "      <td>Joinville</td>\n",
       "      <td>4-3-1-2</td>\n",
       "      <td>4-4-1-1</td>\n",
       "      <td>H. Maria</td>\n",
       "      <td>H. Maria</td>\n",
       "      <td>Fluminense</td>\n",
       "      <td>maracana</td>\n",
       "      <td>1</td>\n",
       "      <td>0</td>\n",
       "      <td>RJ</td>\n",
       "      <td>SC</td>\n",
       "      <td>RJ</td>\n",
       "    </tr>\n",
       "    <tr>\n",
       "      <th>4989</th>\n",
       "      <td>4990</td>\n",
       "      <td>1</td>\n",
       "      <td>2015-05-10</td>\n",
       "      <td>11:00</td>\n",
       "      <td>Domingo</td>\n",
       "      <td>Gremio</td>\n",
       "      <td>Ponte Preta</td>\n",
       "      <td>4-2-3-1</td>\n",
       "      <td>4-1-2-1-2</td>\n",
       "      <td>A. Ferreira</td>\n",
       "      <td>A. Ferreira</td>\n",
       "      <td>-</td>\n",
       "      <td>arena do gremio</td>\n",
       "      <td>3</td>\n",
       "      <td>3</td>\n",
       "      <td>RS</td>\n",
       "      <td>SP</td>\n",
       "      <td>-</td>\n",
       "    </tr>\n",
       "    <tr>\n",
       "      <th>4990</th>\n",
       "      <td>4991</td>\n",
       "      <td>1</td>\n",
       "      <td>2015-05-10</td>\n",
       "      <td>16:00</td>\n",
       "      <td>Domingo</td>\n",
       "      <td>Athletico-PR</td>\n",
       "      <td>Internacional</td>\n",
       "      <td>4-2-3-1</td>\n",
       "      <td>4-2-3-1</td>\n",
       "      <td>D. Aguirre Camblor</td>\n",
       "      <td>D. Aguirre Camblor</td>\n",
       "      <td>Athletico-PR</td>\n",
       "      <td>estadio joaquim americo guimaraes</td>\n",
       "      <td>3</td>\n",
       "      <td>0</td>\n",
       "      <td>PR</td>\n",
       "      <td>RS</td>\n",
       "      <td>PR</td>\n",
       "    </tr>\n",
       "  </tbody>\n",
       "</table>\n",
       "</div>"
      ],
      "text/plain": [
       "        ID  rodada       data   hora      dia      mandante      visitante  \\\n",
       "4986  4987       1 2015-05-09  18:32   Sabado   Chapecoense       Coritiba   \n",
       "4987  4988       1 2015-05-09  18:33   Sabado     Palmeiras    Atletico-MG   \n",
       "4988  4989       1 2015-05-09  21:00   Sabado    Fluminense      Joinville   \n",
       "4989  4990       1 2015-05-10  11:00  Domingo        Gremio    Ponte Preta   \n",
       "4990  4991       1 2015-05-10  16:00  Domingo  Athletico-PR  Internacional   \n",
       "\n",
       "     formacao_mandante formacao_visitante         tecnico_mandante  \\\n",
       "4986           4-2-3-1              3-5-2  M. dos Santos Gonçalves   \n",
       "4987           4-2-3-1            4-2-3-1                 L. Culpi   \n",
       "4988           4-3-1-2            4-4-1-1                 H. Maria   \n",
       "4989           4-2-3-1          4-1-2-1-2              A. Ferreira   \n",
       "4990           4-2-3-1            4-2-3-1       D. Aguirre Camblor   \n",
       "\n",
       "            tecnico_visitante      vencedor  \\\n",
       "4986  M. dos Santos Gonçalves   Chapecoense   \n",
       "4987                 L. Culpi             -   \n",
       "4988                 H. Maria    Fluminense   \n",
       "4989              A. Ferreira             -   \n",
       "4990       D. Aguirre Camblor  Athletico-PR   \n",
       "\n",
       "                                  arena  mandante_placar  visitante_placar  \\\n",
       "4986                        arena conda                2                 1   \n",
       "4987                     allianz parque                2                 2   \n",
       "4988                           maracana                1                 0   \n",
       "4989                    arena do gremio                3                 3   \n",
       "4990  estadio joaquim americo guimaraes                3                 0   \n",
       "\n",
       "     mandante_estado visitante_estado estado_vencedor  \n",
       "4986              SC               PR              SC  \n",
       "4987              SP               MG               -  \n",
       "4988              RJ               SC              RJ  \n",
       "4989              RS               SP               -  \n",
       "4990              PR               RS              PR  "
      ]
     },
     "execution_count": 27,
     "metadata": {},
     "output_type": "execute_result"
    }
   ],
   "source": [
    "# dataframe das partidas de 2018 em diante\n",
    "df_full_recent.head()"
   ]
  },
  {
   "cell_type": "code",
   "execution_count": 28,
   "id": "45b1fea1",
   "metadata": {
    "ExecuteTime": {
     "end_time": "2022-03-18T14:20:34.682013Z",
     "start_time": "2022-03-18T14:20:34.679471Z"
    }
   },
   "outputs": [],
   "source": [
    "columns = df_full_recent.columns.to_list()"
   ]
  },
  {
   "cell_type": "markdown",
   "id": "18dca0c5",
   "metadata": {},
   "source": [
    "### 1.6.2 Choosing some initial features to test "
   ]
  },
  {
   "cell_type": "code",
   "execution_count": 29,
   "id": "6ed4dbd5",
   "metadata": {
    "ExecuteTime": {
     "end_time": "2022-03-18T14:20:34.687860Z",
     "start_time": "2022-03-18T14:20:34.683480Z"
    }
   },
   "outputs": [],
   "source": [
    "columns = ['ID',\n",
    "           'rodada',\n",
    "           'data',\n",
    "           'hora',\n",
    "           'dia',\n",
    "           'mandante',\n",
    "           'visitante',\n",
    "           'formacao_mandante',\n",
    "           'formacao_visitante',\n",
    "           'vencedor',\n",
    "           'arena',\n",
    "           'mandante_estado',\n",
    "           'visitante_estado']\n",
    "\n",
    "df_full_recent = df_full_recent[columns]"
   ]
  },
  {
   "cell_type": "code",
   "execution_count": 30,
   "id": "d0d17393",
   "metadata": {
    "ExecuteTime": {
     "end_time": "2022-03-18T14:20:34.702945Z",
     "start_time": "2022-03-18T14:20:34.689330Z"
    },
    "scrolled": true
   },
   "outputs": [
    {
     "data": {
      "text/html": [
       "<div>\n",
       "<style scoped>\n",
       "    .dataframe tbody tr th:only-of-type {\n",
       "        vertical-align: middle;\n",
       "    }\n",
       "\n",
       "    .dataframe tbody tr th {\n",
       "        vertical-align: top;\n",
       "    }\n",
       "\n",
       "    .dataframe thead th {\n",
       "        text-align: right;\n",
       "    }\n",
       "</style>\n",
       "<table border=\"1\" class=\"dataframe\">\n",
       "  <thead>\n",
       "    <tr style=\"text-align: right;\">\n",
       "      <th></th>\n",
       "      <th>ID</th>\n",
       "      <th>rodada</th>\n",
       "      <th>data</th>\n",
       "      <th>hora</th>\n",
       "      <th>dia</th>\n",
       "      <th>mandante</th>\n",
       "      <th>visitante</th>\n",
       "      <th>formacao_mandante</th>\n",
       "      <th>formacao_visitante</th>\n",
       "      <th>vencedor</th>\n",
       "      <th>arena</th>\n",
       "      <th>mandante_estado</th>\n",
       "      <th>visitante_estado</th>\n",
       "    </tr>\n",
       "  </thead>\n",
       "  <tbody>\n",
       "    <tr>\n",
       "      <th>4986</th>\n",
       "      <td>4987</td>\n",
       "      <td>1</td>\n",
       "      <td>2015-05-09</td>\n",
       "      <td>18:32</td>\n",
       "      <td>Sabado</td>\n",
       "      <td>Chapecoense</td>\n",
       "      <td>Coritiba</td>\n",
       "      <td>4-2-3-1</td>\n",
       "      <td>3-5-2</td>\n",
       "      <td>Chapecoense</td>\n",
       "      <td>arena conda</td>\n",
       "      <td>SC</td>\n",
       "      <td>PR</td>\n",
       "    </tr>\n",
       "    <tr>\n",
       "      <th>4987</th>\n",
       "      <td>4988</td>\n",
       "      <td>1</td>\n",
       "      <td>2015-05-09</td>\n",
       "      <td>18:33</td>\n",
       "      <td>Sabado</td>\n",
       "      <td>Palmeiras</td>\n",
       "      <td>Atletico-MG</td>\n",
       "      <td>4-2-3-1</td>\n",
       "      <td>4-2-3-1</td>\n",
       "      <td>-</td>\n",
       "      <td>allianz parque</td>\n",
       "      <td>SP</td>\n",
       "      <td>MG</td>\n",
       "    </tr>\n",
       "    <tr>\n",
       "      <th>4988</th>\n",
       "      <td>4989</td>\n",
       "      <td>1</td>\n",
       "      <td>2015-05-09</td>\n",
       "      <td>21:00</td>\n",
       "      <td>Sabado</td>\n",
       "      <td>Fluminense</td>\n",
       "      <td>Joinville</td>\n",
       "      <td>4-3-1-2</td>\n",
       "      <td>4-4-1-1</td>\n",
       "      <td>Fluminense</td>\n",
       "      <td>maracana</td>\n",
       "      <td>RJ</td>\n",
       "      <td>SC</td>\n",
       "    </tr>\n",
       "    <tr>\n",
       "      <th>4989</th>\n",
       "      <td>4990</td>\n",
       "      <td>1</td>\n",
       "      <td>2015-05-10</td>\n",
       "      <td>11:00</td>\n",
       "      <td>Domingo</td>\n",
       "      <td>Gremio</td>\n",
       "      <td>Ponte Preta</td>\n",
       "      <td>4-2-3-1</td>\n",
       "      <td>4-1-2-1-2</td>\n",
       "      <td>-</td>\n",
       "      <td>arena do gremio</td>\n",
       "      <td>RS</td>\n",
       "      <td>SP</td>\n",
       "    </tr>\n",
       "    <tr>\n",
       "      <th>4990</th>\n",
       "      <td>4991</td>\n",
       "      <td>1</td>\n",
       "      <td>2015-05-10</td>\n",
       "      <td>16:00</td>\n",
       "      <td>Domingo</td>\n",
       "      <td>Athletico-PR</td>\n",
       "      <td>Internacional</td>\n",
       "      <td>4-2-3-1</td>\n",
       "      <td>4-2-3-1</td>\n",
       "      <td>Athletico-PR</td>\n",
       "      <td>estadio joaquim americo guimaraes</td>\n",
       "      <td>PR</td>\n",
       "      <td>RS</td>\n",
       "    </tr>\n",
       "  </tbody>\n",
       "</table>\n",
       "</div>"
      ],
      "text/plain": [
       "        ID  rodada       data   hora      dia      mandante      visitante  \\\n",
       "4986  4987       1 2015-05-09  18:32   Sabado   Chapecoense       Coritiba   \n",
       "4987  4988       1 2015-05-09  18:33   Sabado     Palmeiras    Atletico-MG   \n",
       "4988  4989       1 2015-05-09  21:00   Sabado    Fluminense      Joinville   \n",
       "4989  4990       1 2015-05-10  11:00  Domingo        Gremio    Ponte Preta   \n",
       "4990  4991       1 2015-05-10  16:00  Domingo  Athletico-PR  Internacional   \n",
       "\n",
       "     formacao_mandante formacao_visitante      vencedor  \\\n",
       "4986           4-2-3-1              3-5-2   Chapecoense   \n",
       "4987           4-2-3-1            4-2-3-1             -   \n",
       "4988           4-3-1-2            4-4-1-1    Fluminense   \n",
       "4989           4-2-3-1          4-1-2-1-2             -   \n",
       "4990           4-2-3-1            4-2-3-1  Athletico-PR   \n",
       "\n",
       "                                  arena mandante_estado visitante_estado  \n",
       "4986                        arena conda              SC               PR  \n",
       "4987                     allianz parque              SP               MG  \n",
       "4988                           maracana              RJ               SC  \n",
       "4989                    arena do gremio              RS               SP  \n",
       "4990  estadio joaquim americo guimaraes              PR               RS  "
      ]
     },
     "execution_count": 30,
     "metadata": {},
     "output_type": "execute_result"
    }
   ],
   "source": [
    "df_full_recent.head()"
   ]
  },
  {
   "cell_type": "markdown",
   "id": "210fcd3c",
   "metadata": {},
   "source": [
    "### 1.6.3 Selecting just recent stats (5 years) "
   ]
  },
  {
   "cell_type": "code",
   "execution_count": 31,
   "id": "4335ec6d",
   "metadata": {
    "ExecuteTime": {
     "end_time": "2022-03-18T14:20:34.710208Z",
     "start_time": "2022-03-18T14:20:34.704724Z"
    }
   },
   "outputs": [],
   "source": [
    "df_stats_recent = df_stats[df_stats['partida_id'] > 4987]"
   ]
  },
  {
   "cell_type": "code",
   "execution_count": 32,
   "id": "0d106423",
   "metadata": {
    "ExecuteTime": {
     "end_time": "2022-03-18T14:20:34.719172Z",
     "start_time": "2022-03-18T14:20:34.711933Z"
    }
   },
   "outputs": [],
   "source": [
    "aux_val = []\n",
    "for value in df_stats_recent['posse_de_bola'].values:\n",
    "    if value != 'None':\n",
    "        aux_val.append(np.float32(value[0:2]))\n",
    "    else:\n",
    "        aux_val.append(np.nan)"
   ]
  },
  {
   "cell_type": "code",
   "execution_count": 33,
   "id": "0a665ce3",
   "metadata": {
    "ExecuteTime": {
     "end_time": "2022-03-18T14:20:34.891302Z",
     "start_time": "2022-03-18T14:20:34.720533Z"
    }
   },
   "outputs": [
    {
     "name": "stderr",
     "output_type": "stream",
     "text": [
      "/tmp/ipykernel_35371/1222983903.py:1: SettingWithCopyWarning: \n",
      "A value is trying to be set on a copy of a slice from a DataFrame.\n",
      "Try using .loc[row_indexer,col_indexer] = value instead\n",
      "\n",
      "See the caveats in the documentation: https://pandas.pydata.org/pandas-docs/stable/user_guide/indexing.html#returning-a-view-versus-a-copy\n",
      "  df_stats_recent.loc[:,'posse_de_bola'] = aux_val\n"
     ]
    }
   ],
   "source": [
    "df_stats_recent.loc[:,'posse_de_bola'] = aux_val"
   ]
  },
  {
   "cell_type": "code",
   "execution_count": 34,
   "id": "c3e538e6",
   "metadata": {
    "ExecuteTime": {
     "end_time": "2022-03-18T14:20:34.899303Z",
     "start_time": "2022-03-18T14:20:34.892820Z"
    }
   },
   "outputs": [],
   "source": [
    "aux_val = []\n",
    "for value in df_stats_recent['precisao_passes'].values:\n",
    "    if value != 'None':\n",
    "        aux_val.append(np.float32(value[0:2]))\n",
    "    else:\n",
    "        aux_val.append(np.nan)"
   ]
  },
  {
   "cell_type": "code",
   "execution_count": 35,
   "id": "dc998585",
   "metadata": {
    "ExecuteTime": {
     "end_time": "2022-03-18T14:20:34.916811Z",
     "start_time": "2022-03-18T14:20:34.901227Z"
    }
   },
   "outputs": [
    {
     "name": "stderr",
     "output_type": "stream",
     "text": [
      "/tmp/ipykernel_35371/2135160869.py:1: SettingWithCopyWarning: \n",
      "A value is trying to be set on a copy of a slice from a DataFrame.\n",
      "Try using .loc[row_indexer,col_indexer] = value instead\n",
      "\n",
      "See the caveats in the documentation: https://pandas.pydata.org/pandas-docs/stable/user_guide/indexing.html#returning-a-view-versus-a-copy\n",
      "  df_stats_recent.loc[:, 'precisao_passes'] = aux_val\n"
     ]
    }
   ],
   "source": [
    "df_stats_recent.loc[:, 'precisao_passes'] = aux_val"
   ]
  },
  {
   "cell_type": "code",
   "execution_count": 36,
   "id": "b1b0f5ca",
   "metadata": {
    "ExecuteTime": {
     "end_time": "2022-03-18T14:20:34.934857Z",
     "start_time": "2022-03-18T14:20:34.918768Z"
    }
   },
   "outputs": [
    {
     "data": {
      "text/html": [
       "<div>\n",
       "<style scoped>\n",
       "    .dataframe tbody tr th:only-of-type {\n",
       "        vertical-align: middle;\n",
       "    }\n",
       "\n",
       "    .dataframe tbody tr th {\n",
       "        vertical-align: top;\n",
       "    }\n",
       "\n",
       "    .dataframe thead th {\n",
       "        text-align: right;\n",
       "    }\n",
       "</style>\n",
       "<table border=\"1\" class=\"dataframe\">\n",
       "  <thead>\n",
       "    <tr style=\"text-align: right;\">\n",
       "      <th></th>\n",
       "      <th>chutes</th>\n",
       "      <th>chutes_no_alvo</th>\n",
       "      <th>posse_de_bola</th>\n",
       "      <th>passes</th>\n",
       "      <th>precisao_passes</th>\n",
       "      <th>faltas</th>\n",
       "      <th>cartao_amarelo</th>\n",
       "      <th>cartao_vermelho</th>\n",
       "      <th>impedimentos</th>\n",
       "      <th>escanteios</th>\n",
       "    </tr>\n",
       "    <tr>\n",
       "      <th>clube</th>\n",
       "      <th></th>\n",
       "      <th></th>\n",
       "      <th></th>\n",
       "      <th></th>\n",
       "      <th></th>\n",
       "      <th></th>\n",
       "      <th></th>\n",
       "      <th></th>\n",
       "      <th></th>\n",
       "      <th></th>\n",
       "    </tr>\n",
       "  </thead>\n",
       "  <tbody>\n",
       "    <tr>\n",
       "      <th>America-MG</th>\n",
       "      <td>12.324561</td>\n",
       "      <td>2.561404</td>\n",
       "      <td>46.587719</td>\n",
       "      <td>397.912281</td>\n",
       "      <td>78.078947</td>\n",
       "      <td>14.763158</td>\n",
       "      <td>1.859649</td>\n",
       "      <td>0.105263</td>\n",
       "      <td>1.587719</td>\n",
       "      <td>4.657895</td>\n",
       "    </tr>\n",
       "    <tr>\n",
       "      <th>Athletico-PR</th>\n",
       "      <td>11.639098</td>\n",
       "      <td>3.026316</td>\n",
       "      <td>51.861789</td>\n",
       "      <td>414.973684</td>\n",
       "      <td>82.803030</td>\n",
       "      <td>14.030075</td>\n",
       "      <td>1.988722</td>\n",
       "      <td>0.086466</td>\n",
       "      <td>1.522556</td>\n",
       "      <td>4.609023</td>\n",
       "    </tr>\n",
       "    <tr>\n",
       "      <th>Atletico-GO</th>\n",
       "      <td>11.789474</td>\n",
       "      <td>3.561404</td>\n",
       "      <td>46.508772</td>\n",
       "      <td>385.026316</td>\n",
       "      <td>79.000000</td>\n",
       "      <td>15.912281</td>\n",
       "      <td>2.210526</td>\n",
       "      <td>0.087719</td>\n",
       "      <td>1.508772</td>\n",
       "      <td>5.315789</td>\n",
       "    </tr>\n",
       "    <tr>\n",
       "      <th>Atletico-MG</th>\n",
       "      <td>14.162264</td>\n",
       "      <td>3.471698</td>\n",
       "      <td>55.400000</td>\n",
       "      <td>475.166038</td>\n",
       "      <td>83.162162</td>\n",
       "      <td>14.592453</td>\n",
       "      <td>2.037736</td>\n",
       "      <td>0.090566</td>\n",
       "      <td>1.883019</td>\n",
       "      <td>5.947170</td>\n",
       "    </tr>\n",
       "    <tr>\n",
       "      <th>Avai</th>\n",
       "      <td>11.473684</td>\n",
       "      <td>1.938596</td>\n",
       "      <td>43.196429</td>\n",
       "      <td>351.438596</td>\n",
       "      <td>77.388889</td>\n",
       "      <td>14.815789</td>\n",
       "      <td>2.412281</td>\n",
       "      <td>0.157895</td>\n",
       "      <td>1.482456</td>\n",
       "      <td>4.850877</td>\n",
       "    </tr>\n",
       "  </tbody>\n",
       "</table>\n",
       "</div>"
      ],
      "text/plain": [
       "                 chutes  chutes_no_alvo  posse_de_bola      passes  \\\n",
       "clube                                                                \n",
       "America-MG    12.324561        2.561404      46.587719  397.912281   \n",
       "Athletico-PR  11.639098        3.026316      51.861789  414.973684   \n",
       "Atletico-GO   11.789474        3.561404      46.508772  385.026316   \n",
       "Atletico-MG   14.162264        3.471698      55.400000  475.166038   \n",
       "Avai          11.473684        1.938596      43.196429  351.438596   \n",
       "\n",
       "              precisao_passes     faltas  cartao_amarelo  cartao_vermelho  \\\n",
       "clube                                                                       \n",
       "America-MG          78.078947  14.763158        1.859649         0.105263   \n",
       "Athletico-PR        82.803030  14.030075        1.988722         0.086466   \n",
       "Atletico-GO         79.000000  15.912281        2.210526         0.087719   \n",
       "Atletico-MG         83.162162  14.592453        2.037736         0.090566   \n",
       "Avai                77.388889  14.815789        2.412281         0.157895   \n",
       "\n",
       "              impedimentos  escanteios  \n",
       "clube                                   \n",
       "America-MG        1.587719    4.657895  \n",
       "Athletico-PR      1.522556    4.609023  \n",
       "Atletico-GO       1.508772    5.315789  \n",
       "Atletico-MG       1.883019    5.947170  \n",
       "Avai              1.482456    4.850877  "
      ]
     },
     "execution_count": 36,
     "metadata": {},
     "output_type": "execute_result"
    }
   ],
   "source": [
    "df_stats_clube = df_stats_recent.groupby('clube').mean()\n",
    "df_stats_clube = df_stats_clube.drop(['partida_id', 'rodada'], axis = 1)\n",
    "df_stats_clube.head()"
   ]
  },
  {
   "cell_type": "code",
   "execution_count": 37,
   "id": "ad2c0861",
   "metadata": {
    "ExecuteTime": {
     "end_time": "2022-03-18T14:20:34.959370Z",
     "start_time": "2022-03-18T14:20:34.936357Z"
    }
   },
   "outputs": [],
   "source": [
    "for column in df_stats_clube.columns.tolist():\n",
    "    df_full_recent['mandante_' + column] = df_full_recent['mandante'].map(df_stats_clube[column])\n",
    "    df_full_recent['visitante_' + column] = df_full_recent['visitante'].map(df_stats_clube[column])"
   ]
  },
  {
   "cell_type": "markdown",
   "id": "67afcf7e",
   "metadata": {},
   "source": [
    "### 1.6.4 Creating the target feature "
   ]
  },
  {
   "cell_type": "code",
   "execution_count": 38,
   "id": "9a864637",
   "metadata": {
    "ExecuteTime": {
     "end_time": "2022-03-18T14:20:34.966174Z",
     "start_time": "2022-03-18T14:20:34.961665Z"
    }
   },
   "outputs": [],
   "source": [
    "df_full_recent = df_full_recent.reset_index()"
   ]
  },
  {
   "cell_type": "code",
   "execution_count": 39,
   "id": "07839660",
   "metadata": {
    "ExecuteTime": {
     "end_time": "2022-03-18T14:20:35.279464Z",
     "start_time": "2022-03-18T14:20:34.967596Z"
    }
   },
   "outputs": [],
   "source": [
    "# 1 - mandante\n",
    "# 2 - visitante\n",
    "# 0 - empate\n",
    "\n",
    "for i in range(0, len(df_full_recent)):\n",
    "    if df_full_recent.loc[i, 'vencedor'] == df_full_recent.loc[i, 'mandante']:\n",
    "        df_full_recent.loc[i, 'resultado'] = 1\n",
    "    elif df_full_recent.loc[i, 'vencedor'] == df_full_recent.loc[i, 'visitante']:\n",
    "        df_full_recent.loc[i, 'resultado'] = 2\n",
    "    else:\n",
    "        df_full_recent.loc[i, 'resultado'] = 0    "
   ]
  },
  {
   "cell_type": "code",
   "execution_count": 40,
   "id": "cbdcc2b1",
   "metadata": {
    "ExecuteTime": {
     "end_time": "2022-03-18T14:20:35.310597Z",
     "start_time": "2022-03-18T14:20:35.281727Z"
    }
   },
   "outputs": [
    {
     "data": {
      "text/html": [
       "<div>\n",
       "<style scoped>\n",
       "    .dataframe tbody tr th:only-of-type {\n",
       "        vertical-align: middle;\n",
       "    }\n",
       "\n",
       "    .dataframe tbody tr th {\n",
       "        vertical-align: top;\n",
       "    }\n",
       "\n",
       "    .dataframe thead th {\n",
       "        text-align: right;\n",
       "    }\n",
       "</style>\n",
       "<table border=\"1\" class=\"dataframe\">\n",
       "  <thead>\n",
       "    <tr style=\"text-align: right;\">\n",
       "      <th></th>\n",
       "      <th>index</th>\n",
       "      <th>ID</th>\n",
       "      <th>rodada</th>\n",
       "      <th>data</th>\n",
       "      <th>hora</th>\n",
       "      <th>dia</th>\n",
       "      <th>mandante</th>\n",
       "      <th>visitante</th>\n",
       "      <th>formacao_mandante</th>\n",
       "      <th>formacao_visitante</th>\n",
       "      <th>...</th>\n",
       "      <th>visitante_faltas</th>\n",
       "      <th>mandante_cartao_amarelo</th>\n",
       "      <th>visitante_cartao_amarelo</th>\n",
       "      <th>mandante_cartao_vermelho</th>\n",
       "      <th>visitante_cartao_vermelho</th>\n",
       "      <th>mandante_impedimentos</th>\n",
       "      <th>visitante_impedimentos</th>\n",
       "      <th>mandante_escanteios</th>\n",
       "      <th>visitante_escanteios</th>\n",
       "      <th>resultado</th>\n",
       "    </tr>\n",
       "  </thead>\n",
       "  <tbody>\n",
       "    <tr>\n",
       "      <th>0</th>\n",
       "      <td>4986</td>\n",
       "      <td>4987</td>\n",
       "      <td>1</td>\n",
       "      <td>2015-05-09</td>\n",
       "      <td>18:32</td>\n",
       "      <td>Sabado</td>\n",
       "      <td>Chapecoense</td>\n",
       "      <td>Coritiba</td>\n",
       "      <td>4-2-3-1</td>\n",
       "      <td>3-5-2</td>\n",
       "      <td>...</td>\n",
       "      <td>16.576159</td>\n",
       "      <td>2.141593</td>\n",
       "      <td>2.589404</td>\n",
       "      <td>0.088496</td>\n",
       "      <td>0.145695</td>\n",
       "      <td>1.336283</td>\n",
       "      <td>1.867550</td>\n",
       "      <td>4.911504</td>\n",
       "      <td>4.549669</td>\n",
       "      <td>1.0</td>\n",
       "    </tr>\n",
       "    <tr>\n",
       "      <th>1</th>\n",
       "      <td>4987</td>\n",
       "      <td>4988</td>\n",
       "      <td>1</td>\n",
       "      <td>2015-05-09</td>\n",
       "      <td>18:33</td>\n",
       "      <td>Sabado</td>\n",
       "      <td>Palmeiras</td>\n",
       "      <td>Atletico-MG</td>\n",
       "      <td>4-2-3-1</td>\n",
       "      <td>4-2-3-1</td>\n",
       "      <td>...</td>\n",
       "      <td>14.592453</td>\n",
       "      <td>2.338346</td>\n",
       "      <td>2.037736</td>\n",
       "      <td>0.116541</td>\n",
       "      <td>0.090566</td>\n",
       "      <td>1.860902</td>\n",
       "      <td>1.883019</td>\n",
       "      <td>5.526316</td>\n",
       "      <td>5.947170</td>\n",
       "      <td>0.0</td>\n",
       "    </tr>\n",
       "    <tr>\n",
       "      <th>2</th>\n",
       "      <td>4988</td>\n",
       "      <td>4989</td>\n",
       "      <td>1</td>\n",
       "      <td>2015-05-09</td>\n",
       "      <td>21:00</td>\n",
       "      <td>Sabado</td>\n",
       "      <td>Fluminense</td>\n",
       "      <td>Joinville</td>\n",
       "      <td>4-3-1-2</td>\n",
       "      <td>4-4-1-1</td>\n",
       "      <td>...</td>\n",
       "      <td>16.578947</td>\n",
       "      <td>2.293233</td>\n",
       "      <td>2.473684</td>\n",
       "      <td>0.131579</td>\n",
       "      <td>0.210526</td>\n",
       "      <td>1.586466</td>\n",
       "      <td>1.736842</td>\n",
       "      <td>4.766917</td>\n",
       "      <td>5.289474</td>\n",
       "      <td>1.0</td>\n",
       "    </tr>\n",
       "    <tr>\n",
       "      <th>3</th>\n",
       "      <td>4989</td>\n",
       "      <td>4990</td>\n",
       "      <td>1</td>\n",
       "      <td>2015-05-10</td>\n",
       "      <td>11:00</td>\n",
       "      <td>Domingo</td>\n",
       "      <td>Gremio</td>\n",
       "      <td>Ponte Preta</td>\n",
       "      <td>4-2-3-1</td>\n",
       "      <td>4-1-2-1-2</td>\n",
       "      <td>...</td>\n",
       "      <td>16.798246</td>\n",
       "      <td>2.187970</td>\n",
       "      <td>2.491228</td>\n",
       "      <td>0.101504</td>\n",
       "      <td>0.149123</td>\n",
       "      <td>1.503759</td>\n",
       "      <td>1.754386</td>\n",
       "      <td>5.402256</td>\n",
       "      <td>5.166667</td>\n",
       "      <td>0.0</td>\n",
       "    </tr>\n",
       "    <tr>\n",
       "      <th>4</th>\n",
       "      <td>4990</td>\n",
       "      <td>4991</td>\n",
       "      <td>1</td>\n",
       "      <td>2015-05-10</td>\n",
       "      <td>16:00</td>\n",
       "      <td>Domingo</td>\n",
       "      <td>Athletico-PR</td>\n",
       "      <td>Internacional</td>\n",
       "      <td>4-2-3-1</td>\n",
       "      <td>4-2-3-1</td>\n",
       "      <td>...</td>\n",
       "      <td>16.131579</td>\n",
       "      <td>1.988722</td>\n",
       "      <td>2.557018</td>\n",
       "      <td>0.086466</td>\n",
       "      <td>0.175439</td>\n",
       "      <td>1.522556</td>\n",
       "      <td>1.614035</td>\n",
       "      <td>4.609023</td>\n",
       "      <td>5.618421</td>\n",
       "      <td>1.0</td>\n",
       "    </tr>\n",
       "  </tbody>\n",
       "</table>\n",
       "<p>5 rows × 35 columns</p>\n",
       "</div>"
      ],
      "text/plain": [
       "   index    ID  rodada       data   hora      dia      mandante  \\\n",
       "0   4986  4987       1 2015-05-09  18:32   Sabado   Chapecoense   \n",
       "1   4987  4988       1 2015-05-09  18:33   Sabado     Palmeiras   \n",
       "2   4988  4989       1 2015-05-09  21:00   Sabado    Fluminense   \n",
       "3   4989  4990       1 2015-05-10  11:00  Domingo        Gremio   \n",
       "4   4990  4991       1 2015-05-10  16:00  Domingo  Athletico-PR   \n",
       "\n",
       "       visitante formacao_mandante formacao_visitante  ... visitante_faltas  \\\n",
       "0       Coritiba           4-2-3-1              3-5-2  ...        16.576159   \n",
       "1    Atletico-MG           4-2-3-1            4-2-3-1  ...        14.592453   \n",
       "2      Joinville           4-3-1-2            4-4-1-1  ...        16.578947   \n",
       "3    Ponte Preta           4-2-3-1          4-1-2-1-2  ...        16.798246   \n",
       "4  Internacional           4-2-3-1            4-2-3-1  ...        16.131579   \n",
       "\n",
       "  mandante_cartao_amarelo visitante_cartao_amarelo mandante_cartao_vermelho  \\\n",
       "0                2.141593                 2.589404                 0.088496   \n",
       "1                2.338346                 2.037736                 0.116541   \n",
       "2                2.293233                 2.473684                 0.131579   \n",
       "3                2.187970                 2.491228                 0.101504   \n",
       "4                1.988722                 2.557018                 0.086466   \n",
       "\n",
       "   visitante_cartao_vermelho  mandante_impedimentos  visitante_impedimentos  \\\n",
       "0                   0.145695               1.336283                1.867550   \n",
       "1                   0.090566               1.860902                1.883019   \n",
       "2                   0.210526               1.586466                1.736842   \n",
       "3                   0.149123               1.503759                1.754386   \n",
       "4                   0.175439               1.522556                1.614035   \n",
       "\n",
       "   mandante_escanteios  visitante_escanteios  resultado  \n",
       "0             4.911504              4.549669        1.0  \n",
       "1             5.526316              5.947170        0.0  \n",
       "2             4.766917              5.289474        1.0  \n",
       "3             5.402256              5.166667        0.0  \n",
       "4             4.609023              5.618421        1.0  \n",
       "\n",
       "[5 rows x 35 columns]"
      ]
     },
     "execution_count": 40,
     "metadata": {},
     "output_type": "execute_result"
    }
   ],
   "source": [
    "df_full_recent.head()"
   ]
  },
  {
   "cell_type": "code",
   "execution_count": 41,
   "id": "c1edb994",
   "metadata": {
    "ExecuteTime": {
     "end_time": "2022-03-18T14:20:35.317356Z",
     "start_time": "2022-03-18T14:20:35.311990Z"
    }
   },
   "outputs": [
    {
     "data": {
      "text/plain": [
       "index                                 int64\n",
       "ID                                    int64\n",
       "rodada                                int64\n",
       "data                         datetime64[ns]\n",
       "hora                                 object\n",
       "dia                                  object\n",
       "mandante                             object\n",
       "visitante                            object\n",
       "formacao_mandante                    object\n",
       "formacao_visitante                   object\n",
       "vencedor                             object\n",
       "arena                                object\n",
       "mandante_estado                      object\n",
       "visitante_estado                     object\n",
       "mandante_chutes                     float64\n",
       "visitante_chutes                    float64\n",
       "mandante_chutes_no_alvo             float64\n",
       "visitante_chutes_no_alvo            float64\n",
       "mandante_posse_de_bola              float64\n",
       "visitante_posse_de_bola             float64\n",
       "mandante_passes                     float64\n",
       "visitante_passes                    float64\n",
       "mandante_precisao_passes            float64\n",
       "visitante_precisao_passes           float64\n",
       "mandante_faltas                     float64\n",
       "visitante_faltas                    float64\n",
       "mandante_cartao_amarelo             float64\n",
       "visitante_cartao_amarelo            float64\n",
       "mandante_cartao_vermelho            float64\n",
       "visitante_cartao_vermelho           float64\n",
       "mandante_impedimentos               float64\n",
       "visitante_impedimentos              float64\n",
       "mandante_escanteios                 float64\n",
       "visitante_escanteios                float64\n",
       "resultado                           float64\n",
       "dtype: object"
      ]
     },
     "execution_count": 41,
     "metadata": {},
     "output_type": "execute_result"
    }
   ],
   "source": [
    "df_full_recent.dtypes"
   ]
  },
  {
   "cell_type": "markdown",
   "id": "619090e9",
   "metadata": {},
   "source": [
    "# 2. Exploratory Data Analysy"
   ]
  },
  {
   "cell_type": "code",
   "execution_count": 42,
   "id": "e0fbcb43",
   "metadata": {
    "ExecuteTime": {
     "end_time": "2022-03-18T14:20:35.323304Z",
     "start_time": "2022-03-18T14:20:35.319037Z"
    }
   },
   "outputs": [],
   "source": [
    "df2 = df_full_recent.copy()"
   ]
  },
  {
   "cell_type": "code",
   "execution_count": 43,
   "id": "ee21480b",
   "metadata": {
    "ExecuteTime": {
     "end_time": "2022-03-18T14:20:35.429544Z",
     "start_time": "2022-03-18T14:20:35.325527Z"
    }
   },
   "outputs": [
    {
     "data": {
      "image/png": "[encoded data removed]",
      "text/plain": [
       "<Figure size 432x288 with 1 Axes>"
      ]
     },
     "metadata": {
      "needs_background": "light"
     },
     "output_type": "display_data"
    }
   ],
   "source": [
    "df2.resultado.value_counts(normalize=True).plot(kind='bar');\n",
    "plt.title('0 - Empate, 1 - Mandante, 2 - Visitante');"
   ]
  },
  {
   "cell_type": "code",
   "execution_count": 44,
   "id": "81ff0aeb",
   "metadata": {
    "ExecuteTime": {
     "end_time": "2022-03-18T14:20:35.612371Z",
     "start_time": "2022-03-18T14:20:35.431014Z"
    }
   },
   "outputs": [
    {
     "data": {
      "image/png": "[encoded data removed]",
      "text/plain": [
       "<Figure size 432x288 with 1 Axes>"
      ]
     },
     "metadata": {
      "needs_background": "light"
     },
     "output_type": "display_data"
    }
   ],
   "source": [
    "sns.countplot(y=df2.dia, hue=df2.resultado);\n",
    "plt.title('Resultado por dia da semana');"
   ]
  },
  {
   "cell_type": "markdown",
   "id": "06ba7bb1",
   "metadata": {},
   "source": [
    "# 3. Feature Engineering "
   ]
  },
  {
   "cell_type": "code",
   "execution_count": 45,
   "id": "94fdb3fc",
   "metadata": {
    "ExecuteTime": {
     "end_time": "2022-03-18T14:20:35.617207Z",
     "start_time": "2022-03-18T14:20:35.614043Z"
    }
   },
   "outputs": [],
   "source": [
    "df3 = df2.copy()"
   ]
  },
  {
   "cell_type": "code",
   "execution_count": 46,
   "id": "ec2bfd42",
   "metadata": {
    "ExecuteTime": {
     "end_time": "2022-03-18T14:20:35.622880Z",
     "start_time": "2022-03-18T14:20:35.619027Z"
    }
   },
   "outputs": [],
   "source": [
    "to_drop = ['index', 'vencedor', 'ID']\n",
    "df3 = df3.drop(to_drop, axis = 1)"
   ]
  },
  {
   "cell_type": "code",
   "execution_count": 47,
   "id": "4fa0b10b",
   "metadata": {
    "ExecuteTime": {
     "end_time": "2022-03-18T14:20:35.643510Z",
     "start_time": "2022-03-18T14:20:35.625368Z"
    }
   },
   "outputs": [
    {
     "data": {
      "text/html": [
       "<div>\n",
       "<style scoped>\n",
       "    .dataframe tbody tr th:only-of-type {\n",
       "        vertical-align: middle;\n",
       "    }\n",
       "\n",
       "    .dataframe tbody tr th {\n",
       "        vertical-align: top;\n",
       "    }\n",
       "\n",
       "    .dataframe thead th {\n",
       "        text-align: right;\n",
       "    }\n",
       "</style>\n",
       "<table border=\"1\" class=\"dataframe\">\n",
       "  <thead>\n",
       "    <tr style=\"text-align: right;\">\n",
       "      <th></th>\n",
       "      <th>rodada</th>\n",
       "      <th>data</th>\n",
       "      <th>hora</th>\n",
       "      <th>dia</th>\n",
       "      <th>mandante</th>\n",
       "      <th>visitante</th>\n",
       "      <th>formacao_mandante</th>\n",
       "      <th>formacao_visitante</th>\n",
       "      <th>arena</th>\n",
       "      <th>mandante_estado</th>\n",
       "      <th>...</th>\n",
       "      <th>visitante_faltas</th>\n",
       "      <th>mandante_cartao_amarelo</th>\n",
       "      <th>visitante_cartao_amarelo</th>\n",
       "      <th>mandante_cartao_vermelho</th>\n",
       "      <th>visitante_cartao_vermelho</th>\n",
       "      <th>mandante_impedimentos</th>\n",
       "      <th>visitante_impedimentos</th>\n",
       "      <th>mandante_escanteios</th>\n",
       "      <th>visitante_escanteios</th>\n",
       "      <th>resultado</th>\n",
       "    </tr>\n",
       "  </thead>\n",
       "  <tbody>\n",
       "    <tr>\n",
       "      <th>0</th>\n",
       "      <td>1</td>\n",
       "      <td>2015-05-09</td>\n",
       "      <td>18:32</td>\n",
       "      <td>Sabado</td>\n",
       "      <td>Chapecoense</td>\n",
       "      <td>Coritiba</td>\n",
       "      <td>4-2-3-1</td>\n",
       "      <td>3-5-2</td>\n",
       "      <td>arena conda</td>\n",
       "      <td>SC</td>\n",
       "      <td>...</td>\n",
       "      <td>16.576159</td>\n",
       "      <td>2.141593</td>\n",
       "      <td>2.589404</td>\n",
       "      <td>0.088496</td>\n",
       "      <td>0.145695</td>\n",
       "      <td>1.336283</td>\n",
       "      <td>1.867550</td>\n",
       "      <td>4.911504</td>\n",
       "      <td>4.549669</td>\n",
       "      <td>1.0</td>\n",
       "    </tr>\n",
       "    <tr>\n",
       "      <th>1</th>\n",
       "      <td>1</td>\n",
       "      <td>2015-05-09</td>\n",
       "      <td>18:33</td>\n",
       "      <td>Sabado</td>\n",
       "      <td>Palmeiras</td>\n",
       "      <td>Atletico-MG</td>\n",
       "      <td>4-2-3-1</td>\n",
       "      <td>4-2-3-1</td>\n",
       "      <td>allianz parque</td>\n",
       "      <td>SP</td>\n",
       "      <td>...</td>\n",
       "      <td>14.592453</td>\n",
       "      <td>2.338346</td>\n",
       "      <td>2.037736</td>\n",
       "      <td>0.116541</td>\n",
       "      <td>0.090566</td>\n",
       "      <td>1.860902</td>\n",
       "      <td>1.883019</td>\n",
       "      <td>5.526316</td>\n",
       "      <td>5.947170</td>\n",
       "      <td>0.0</td>\n",
       "    </tr>\n",
       "    <tr>\n",
       "      <th>2</th>\n",
       "      <td>1</td>\n",
       "      <td>2015-05-09</td>\n",
       "      <td>21:00</td>\n",
       "      <td>Sabado</td>\n",
       "      <td>Fluminense</td>\n",
       "      <td>Joinville</td>\n",
       "      <td>4-3-1-2</td>\n",
       "      <td>4-4-1-1</td>\n",
       "      <td>maracana</td>\n",
       "      <td>RJ</td>\n",
       "      <td>...</td>\n",
       "      <td>16.578947</td>\n",
       "      <td>2.293233</td>\n",
       "      <td>2.473684</td>\n",
       "      <td>0.131579</td>\n",
       "      <td>0.210526</td>\n",
       "      <td>1.586466</td>\n",
       "      <td>1.736842</td>\n",
       "      <td>4.766917</td>\n",
       "      <td>5.289474</td>\n",
       "      <td>1.0</td>\n",
       "    </tr>\n",
       "    <tr>\n",
       "      <th>3</th>\n",
       "      <td>1</td>\n",
       "      <td>2015-05-10</td>\n",
       "      <td>11:00</td>\n",
       "      <td>Domingo</td>\n",
       "      <td>Gremio</td>\n",
       "      <td>Ponte Preta</td>\n",
       "      <td>4-2-3-1</td>\n",
       "      <td>4-1-2-1-2</td>\n",
       "      <td>arena do gremio</td>\n",
       "      <td>RS</td>\n",
       "      <td>...</td>\n",
       "      <td>16.798246</td>\n",
       "      <td>2.187970</td>\n",
       "      <td>2.491228</td>\n",
       "      <td>0.101504</td>\n",
       "      <td>0.149123</td>\n",
       "      <td>1.503759</td>\n",
       "      <td>1.754386</td>\n",
       "      <td>5.402256</td>\n",
       "      <td>5.166667</td>\n",
       "      <td>0.0</td>\n",
       "    </tr>\n",
       "    <tr>\n",
       "      <th>4</th>\n",
       "      <td>1</td>\n",
       "      <td>2015-05-10</td>\n",
       "      <td>16:00</td>\n",
       "      <td>Domingo</td>\n",
       "      <td>Athletico-PR</td>\n",
       "      <td>Internacional</td>\n",
       "      <td>4-2-3-1</td>\n",
       "      <td>4-2-3-1</td>\n",
       "      <td>estadio joaquim americo guimaraes</td>\n",
       "      <td>PR</td>\n",
       "      <td>...</td>\n",
       "      <td>16.131579</td>\n",
       "      <td>1.988722</td>\n",
       "      <td>2.557018</td>\n",
       "      <td>0.086466</td>\n",
       "      <td>0.175439</td>\n",
       "      <td>1.522556</td>\n",
       "      <td>1.614035</td>\n",
       "      <td>4.609023</td>\n",
       "      <td>5.618421</td>\n",
       "      <td>1.0</td>\n",
       "    </tr>\n",
       "  </tbody>\n",
       "</table>\n",
       "<p>5 rows × 32 columns</p>\n",
       "</div>"
      ],
      "text/plain": [
       "   rodada       data   hora      dia      mandante      visitante  \\\n",
       "0       1 2015-05-09  18:32   Sabado   Chapecoense       Coritiba   \n",
       "1       1 2015-05-09  18:33   Sabado     Palmeiras    Atletico-MG   \n",
       "2       1 2015-05-09  21:00   Sabado    Fluminense      Joinville   \n",
       "3       1 2015-05-10  11:00  Domingo        Gremio    Ponte Preta   \n",
       "4       1 2015-05-10  16:00  Domingo  Athletico-PR  Internacional   \n",
       "\n",
       "  formacao_mandante formacao_visitante                              arena  \\\n",
       "0           4-2-3-1              3-5-2                        arena conda   \n",
       "1           4-2-3-1            4-2-3-1                     allianz parque   \n",
       "2           4-3-1-2            4-4-1-1                           maracana   \n",
       "3           4-2-3-1          4-1-2-1-2                    arena do gremio   \n",
       "4           4-2-3-1            4-2-3-1  estadio joaquim americo guimaraes   \n",
       "\n",
       "  mandante_estado  ... visitante_faltas  mandante_cartao_amarelo  \\\n",
       "0              SC  ...        16.576159                 2.141593   \n",
       "1              SP  ...        14.592453                 2.338346   \n",
       "2              RJ  ...        16.578947                 2.293233   \n",
       "3              RS  ...        16.798246                 2.187970   \n",
       "4              PR  ...        16.131579                 1.988722   \n",
       "\n",
       "   visitante_cartao_amarelo  mandante_cartao_vermelho  \\\n",
       "0                  2.589404                  0.088496   \n",
       "1                  2.037736                  0.116541   \n",
       "2                  2.473684                  0.131579   \n",
       "3                  2.491228                  0.101504   \n",
       "4                  2.557018                  0.086466   \n",
       "\n",
       "   visitante_cartao_vermelho  mandante_impedimentos  visitante_impedimentos  \\\n",
       "0                   0.145695               1.336283                1.867550   \n",
       "1                   0.090566               1.860902                1.883019   \n",
       "2                   0.210526               1.586466                1.736842   \n",
       "3                   0.149123               1.503759                1.754386   \n",
       "4                   0.175439               1.522556                1.614035   \n",
       "\n",
       "   mandante_escanteios  visitante_escanteios  resultado  \n",
       "0             4.911504              4.549669        1.0  \n",
       "1             5.526316              5.947170        0.0  \n",
       "2             4.766917              5.289474        1.0  \n",
       "3             5.402256              5.166667        0.0  \n",
       "4             4.609023              5.618421        1.0  \n",
       "\n",
       "[5 rows x 32 columns]"
      ]
     },
     "execution_count": 47,
     "metadata": {},
     "output_type": "execute_result"
    }
   ],
   "source": [
    "df3.head()"
   ]
  },
  {
   "cell_type": "code",
   "execution_count": 48,
   "id": "64cab1df",
   "metadata": {
    "ExecuteTime": {
     "end_time": "2022-03-18T14:20:35.650363Z",
     "start_time": "2022-03-18T14:20:35.645508Z"
    }
   },
   "outputs": [
    {
     "data": {
      "text/plain": [
       "rodada                                int64\n",
       "data                         datetime64[ns]\n",
       "hora                                 object\n",
       "dia                                  object\n",
       "mandante                             object\n",
       "visitante                            object\n",
       "formacao_mandante                    object\n",
       "formacao_visitante                   object\n",
       "arena                                object\n",
       "mandante_estado                      object\n",
       "visitante_estado                     object\n",
       "mandante_chutes                     float64\n",
       "visitante_chutes                    float64\n",
       "mandante_chutes_no_alvo             float64\n",
       "visitante_chutes_no_alvo            float64\n",
       "mandante_posse_de_bola              float64\n",
       "visitante_posse_de_bola             float64\n",
       "mandante_passes                     float64\n",
       "visitante_passes                    float64\n",
       "mandante_precisao_passes            float64\n",
       "visitante_precisao_passes           float64\n",
       "mandante_faltas                     float64\n",
       "visitante_faltas                    float64\n",
       "mandante_cartao_amarelo             float64\n",
       "visitante_cartao_amarelo            float64\n",
       "mandante_cartao_vermelho            float64\n",
       "visitante_cartao_vermelho           float64\n",
       "mandante_impedimentos               float64\n",
       "visitante_impedimentos              float64\n",
       "mandante_escanteios                 float64\n",
       "visitante_escanteios                float64\n",
       "resultado                           float64\n",
       "dtype: object"
      ]
     },
     "execution_count": 48,
     "metadata": {},
     "output_type": "execute_result"
    }
   ],
   "source": [
    "df3.dtypes"
   ]
  },
  {
   "cell_type": "code",
   "execution_count": 49,
   "id": "09e4c9a9",
   "metadata": {
    "ExecuteTime": {
     "end_time": "2022-03-18T14:20:35.673552Z",
     "start_time": "2022-03-18T14:20:35.652285Z"
    }
   },
   "outputs": [],
   "source": [
    "df3.loc[:,'hora_decimal'] = pd.to_datetime(df3.hora).dt.hour + pd.to_datetime(df3.hora).dt.minute / 60"
   ]
  },
  {
   "cell_type": "code",
   "execution_count": 50,
   "id": "900a4911",
   "metadata": {
    "ExecuteTime": {
     "end_time": "2022-03-18T14:20:35.685872Z",
     "start_time": "2022-03-18T14:20:35.678559Z"
    }
   },
   "outputs": [],
   "source": [
    "df3['hora_sin_'] = df3['hora_decimal'].apply(lambda x: np.sin(x * (2 * np.pi/24)))"
   ]
  },
  {
   "cell_type": "code",
   "execution_count": 51,
   "id": "43ee73b5",
   "metadata": {
    "ExecuteTime": {
     "end_time": "2022-03-18T14:20:35.692212Z",
     "start_time": "2022-03-18T14:20:35.687282Z"
    }
   },
   "outputs": [],
   "source": [
    "df3 = df3.drop(['hora', 'hora_decimal'], axis = 1)"
   ]
  },
  {
   "cell_type": "code",
   "execution_count": 52,
   "id": "0eff477b",
   "metadata": {
    "ExecuteTime": {
     "end_time": "2022-03-18T14:20:35.697606Z",
     "start_time": "2022-03-18T14:20:35.693937Z"
    }
   },
   "outputs": [],
   "source": [
    "df3.insert(2, 'hora_sin', df3.hora_sin_)"
   ]
  },
  {
   "cell_type": "code",
   "execution_count": 53,
   "id": "4db7ff65",
   "metadata": {
    "ExecuteTime": {
     "end_time": "2022-03-18T14:20:35.712891Z",
     "start_time": "2022-03-18T14:20:35.699846Z"
    }
   },
   "outputs": [],
   "source": [
    "df3 = df3.drop('hora_sin_', axis = 1)"
   ]
  },
  {
   "cell_type": "code",
   "execution_count": 54,
   "id": "2081235f",
   "metadata": {
    "ExecuteTime": {
     "end_time": "2022-03-18T14:20:35.736260Z",
     "start_time": "2022-03-18T14:20:35.716340Z"
    }
   },
   "outputs": [
    {
     "data": {
      "text/html": [
       "<div>\n",
       "<style scoped>\n",
       "    .dataframe tbody tr th:only-of-type {\n",
       "        vertical-align: middle;\n",
       "    }\n",
       "\n",
       "    .dataframe tbody tr th {\n",
       "        vertical-align: top;\n",
       "    }\n",
       "\n",
       "    .dataframe thead th {\n",
       "        text-align: right;\n",
       "    }\n",
       "</style>\n",
       "<table border=\"1\" class=\"dataframe\">\n",
       "  <thead>\n",
       "    <tr style=\"text-align: right;\">\n",
       "      <th></th>\n",
       "      <th>rodada</th>\n",
       "      <th>data</th>\n",
       "      <th>hora_sin</th>\n",
       "      <th>dia</th>\n",
       "      <th>mandante</th>\n",
       "      <th>visitante</th>\n",
       "      <th>formacao_mandante</th>\n",
       "      <th>formacao_visitante</th>\n",
       "      <th>arena</th>\n",
       "      <th>mandante_estado</th>\n",
       "      <th>...</th>\n",
       "      <th>visitante_faltas</th>\n",
       "      <th>mandante_cartao_amarelo</th>\n",
       "      <th>visitante_cartao_amarelo</th>\n",
       "      <th>mandante_cartao_vermelho</th>\n",
       "      <th>visitante_cartao_vermelho</th>\n",
       "      <th>mandante_impedimentos</th>\n",
       "      <th>visitante_impedimentos</th>\n",
       "      <th>mandante_escanteios</th>\n",
       "      <th>visitante_escanteios</th>\n",
       "      <th>resultado</th>\n",
       "    </tr>\n",
       "  </thead>\n",
       "  <tbody>\n",
       "    <tr>\n",
       "      <th>0</th>\n",
       "      <td>1</td>\n",
       "      <td>2015-05-09</td>\n",
       "      <td>-0.990268</td>\n",
       "      <td>Sabado</td>\n",
       "      <td>Chapecoense</td>\n",
       "      <td>Coritiba</td>\n",
       "      <td>4-2-3-1</td>\n",
       "      <td>3-5-2</td>\n",
       "      <td>arena conda</td>\n",
       "      <td>SC</td>\n",
       "      <td>...</td>\n",
       "      <td>16.576159</td>\n",
       "      <td>2.141593</td>\n",
       "      <td>2.589404</td>\n",
       "      <td>0.088496</td>\n",
       "      <td>0.145695</td>\n",
       "      <td>1.336283</td>\n",
       "      <td>1.867550</td>\n",
       "      <td>4.911504</td>\n",
       "      <td>4.549669</td>\n",
       "      <td>1.0</td>\n",
       "    </tr>\n",
       "    <tr>\n",
       "      <th>1</th>\n",
       "      <td>1</td>\n",
       "      <td>2015-05-09</td>\n",
       "      <td>-0.989651</td>\n",
       "      <td>Sabado</td>\n",
       "      <td>Palmeiras</td>\n",
       "      <td>Atletico-MG</td>\n",
       "      <td>4-2-3-1</td>\n",
       "      <td>4-2-3-1</td>\n",
       "      <td>allianz parque</td>\n",
       "      <td>SP</td>\n",
       "      <td>...</td>\n",
       "      <td>14.592453</td>\n",
       "      <td>2.338346</td>\n",
       "      <td>2.037736</td>\n",
       "      <td>0.116541</td>\n",
       "      <td>0.090566</td>\n",
       "      <td>1.860902</td>\n",
       "      <td>1.883019</td>\n",
       "      <td>5.526316</td>\n",
       "      <td>5.947170</td>\n",
       "      <td>0.0</td>\n",
       "    </tr>\n",
       "    <tr>\n",
       "      <th>2</th>\n",
       "      <td>1</td>\n",
       "      <td>2015-05-09</td>\n",
       "      <td>-0.707107</td>\n",
       "      <td>Sabado</td>\n",
       "      <td>Fluminense</td>\n",
       "      <td>Joinville</td>\n",
       "      <td>4-3-1-2</td>\n",
       "      <td>4-4-1-1</td>\n",
       "      <td>maracana</td>\n",
       "      <td>RJ</td>\n",
       "      <td>...</td>\n",
       "      <td>16.578947</td>\n",
       "      <td>2.293233</td>\n",
       "      <td>2.473684</td>\n",
       "      <td>0.131579</td>\n",
       "      <td>0.210526</td>\n",
       "      <td>1.586466</td>\n",
       "      <td>1.736842</td>\n",
       "      <td>4.766917</td>\n",
       "      <td>5.289474</td>\n",
       "      <td>1.0</td>\n",
       "    </tr>\n",
       "    <tr>\n",
       "      <th>3</th>\n",
       "      <td>1</td>\n",
       "      <td>2015-05-10</td>\n",
       "      <td>0.258819</td>\n",
       "      <td>Domingo</td>\n",
       "      <td>Gremio</td>\n",
       "      <td>Ponte Preta</td>\n",
       "      <td>4-2-3-1</td>\n",
       "      <td>4-1-2-1-2</td>\n",
       "      <td>arena do gremio</td>\n",
       "      <td>RS</td>\n",
       "      <td>...</td>\n",
       "      <td>16.798246</td>\n",
       "      <td>2.187970</td>\n",
       "      <td>2.491228</td>\n",
       "      <td>0.101504</td>\n",
       "      <td>0.149123</td>\n",
       "      <td>1.503759</td>\n",
       "      <td>1.754386</td>\n",
       "      <td>5.402256</td>\n",
       "      <td>5.166667</td>\n",
       "      <td>0.0</td>\n",
       "    </tr>\n",
       "    <tr>\n",
       "      <th>4</th>\n",
       "      <td>1</td>\n",
       "      <td>2015-05-10</td>\n",
       "      <td>-0.866025</td>\n",
       "      <td>Domingo</td>\n",
       "      <td>Athletico-PR</td>\n",
       "      <td>Internacional</td>\n",
       "      <td>4-2-3-1</td>\n",
       "      <td>4-2-3-1</td>\n",
       "      <td>estadio joaquim americo guimaraes</td>\n",
       "      <td>PR</td>\n",
       "      <td>...</td>\n",
       "      <td>16.131579</td>\n",
       "      <td>1.988722</td>\n",
       "      <td>2.557018</td>\n",
       "      <td>0.086466</td>\n",
       "      <td>0.175439</td>\n",
       "      <td>1.522556</td>\n",
       "      <td>1.614035</td>\n",
       "      <td>4.609023</td>\n",
       "      <td>5.618421</td>\n",
       "      <td>1.0</td>\n",
       "    </tr>\n",
       "  </tbody>\n",
       "</table>\n",
       "<p>5 rows × 32 columns</p>\n",
       "</div>"
      ],
      "text/plain": [
       "   rodada       data  hora_sin      dia      mandante      visitante  \\\n",
       "0       1 2015-05-09 -0.990268   Sabado   Chapecoense       Coritiba   \n",
       "1       1 2015-05-09 -0.989651   Sabado     Palmeiras    Atletico-MG   \n",
       "2       1 2015-05-09 -0.707107   Sabado    Fluminense      Joinville   \n",
       "3       1 2015-05-10  0.258819  Domingo        Gremio    Ponte Preta   \n",
       "4       1 2015-05-10 -0.866025  Domingo  Athletico-PR  Internacional   \n",
       "\n",
       "  formacao_mandante formacao_visitante                              arena  \\\n",
       "0           4-2-3-1              3-5-2                        arena conda   \n",
       "1           4-2-3-1            4-2-3-1                     allianz parque   \n",
       "2           4-3-1-2            4-4-1-1                           maracana   \n",
       "3           4-2-3-1          4-1-2-1-2                    arena do gremio   \n",
       "4           4-2-3-1            4-2-3-1  estadio joaquim americo guimaraes   \n",
       "\n",
       "  mandante_estado  ... visitante_faltas  mandante_cartao_amarelo  \\\n",
       "0              SC  ...        16.576159                 2.141593   \n",
       "1              SP  ...        14.592453                 2.338346   \n",
       "2              RJ  ...        16.578947                 2.293233   \n",
       "3              RS  ...        16.798246                 2.187970   \n",
       "4              PR  ...        16.131579                 1.988722   \n",
       "\n",
       "   visitante_cartao_amarelo  mandante_cartao_vermelho  \\\n",
       "0                  2.589404                  0.088496   \n",
       "1                  2.037736                  0.116541   \n",
       "2                  2.473684                  0.131579   \n",
       "3                  2.491228                  0.101504   \n",
       "4                  2.557018                  0.086466   \n",
       "\n",
       "   visitante_cartao_vermelho  mandante_impedimentos  visitante_impedimentos  \\\n",
       "0                   0.145695               1.336283                1.867550   \n",
       "1                   0.090566               1.860902                1.883019   \n",
       "2                   0.210526               1.586466                1.736842   \n",
       "3                   0.149123               1.503759                1.754386   \n",
       "4                   0.175439               1.522556                1.614035   \n",
       "\n",
       "   mandante_escanteios  visitante_escanteios  resultado  \n",
       "0             4.911504              4.549669        1.0  \n",
       "1             5.526316              5.947170        0.0  \n",
       "2             4.766917              5.289474        1.0  \n",
       "3             5.402256              5.166667        0.0  \n",
       "4             4.609023              5.618421        1.0  \n",
       "\n",
       "[5 rows x 32 columns]"
      ]
     },
     "execution_count": 54,
     "metadata": {},
     "output_type": "execute_result"
    }
   ],
   "source": [
    "df3.head()"
   ]
  },
  {
   "cell_type": "code",
   "execution_count": 55,
   "id": "0343fc89",
   "metadata": {
    "ExecuteTime": {
     "end_time": "2022-03-18T14:20:35.744048Z",
     "start_time": "2022-03-18T14:20:35.737802Z"
    }
   },
   "outputs": [
    {
     "data": {
      "text/plain": [
       "rodada                                int64\n",
       "data                         datetime64[ns]\n",
       "hora_sin                            float64\n",
       "dia                                  object\n",
       "mandante                             object\n",
       "visitante                            object\n",
       "formacao_mandante                    object\n",
       "formacao_visitante                   object\n",
       "arena                                object\n",
       "mandante_estado                      object\n",
       "visitante_estado                     object\n",
       "mandante_chutes                     float64\n",
       "visitante_chutes                    float64\n",
       "mandante_chutes_no_alvo             float64\n",
       "visitante_chutes_no_alvo            float64\n",
       "mandante_posse_de_bola              float64\n",
       "visitante_posse_de_bola             float64\n",
       "mandante_passes                     float64\n",
       "visitante_passes                    float64\n",
       "mandante_precisao_passes            float64\n",
       "visitante_precisao_passes           float64\n",
       "mandante_faltas                     float64\n",
       "visitante_faltas                    float64\n",
       "mandante_cartao_amarelo             float64\n",
       "visitante_cartao_amarelo            float64\n",
       "mandante_cartao_vermelho            float64\n",
       "visitante_cartao_vermelho           float64\n",
       "mandante_impedimentos               float64\n",
       "visitante_impedimentos              float64\n",
       "mandante_escanteios                 float64\n",
       "visitante_escanteios                float64\n",
       "resultado                           float64\n",
       "dtype: object"
      ]
     },
     "execution_count": 55,
     "metadata": {},
     "output_type": "execute_result"
    }
   ],
   "source": [
    "df3.dtypes"
   ]
  },
  {
   "cell_type": "markdown",
   "id": "9ec5b791",
   "metadata": {},
   "source": [
    "## 3.1 Features creation "
   ]
  },
  {
   "cell_type": "code",
   "execution_count": 56,
   "id": "18edb926",
   "metadata": {
    "ExecuteTime": {
     "end_time": "2022-03-18T14:20:35.782303Z",
     "start_time": "2022-03-18T14:20:35.745820Z"
    }
   },
   "outputs": [
    {
     "name": "stderr",
     "output_type": "stream",
     "text": [
      "/tmp/ipykernel_35371/3886982136.py:4: FutureWarning: Series.dt.weekofyear and Series.dt.week have been deprecated. Please use Series.dt.isocalendar().week instead.\n",
      "  df3['semana_do_ano'] = df3.data.dt.weekofyear\n"
     ]
    },
    {
     "data": {
      "text/html": [
       "<div>\n",
       "<style scoped>\n",
       "    .dataframe tbody tr th:only-of-type {\n",
       "        vertical-align: middle;\n",
       "    }\n",
       "\n",
       "    .dataframe tbody tr th {\n",
       "        vertical-align: top;\n",
       "    }\n",
       "\n",
       "    .dataframe thead th {\n",
       "        text-align: right;\n",
       "    }\n",
       "</style>\n",
       "<table border=\"1\" class=\"dataframe\">\n",
       "  <thead>\n",
       "    <tr style=\"text-align: right;\">\n",
       "      <th></th>\n",
       "      <th>rodada</th>\n",
       "      <th>data</th>\n",
       "      <th>hora_sin</th>\n",
       "      <th>dia</th>\n",
       "      <th>mandante</th>\n",
       "      <th>visitante</th>\n",
       "      <th>formacao_mandante</th>\n",
       "      <th>formacao_visitante</th>\n",
       "      <th>arena</th>\n",
       "      <th>mandante_estado</th>\n",
       "      <th>...</th>\n",
       "      <th>visitante_cartao_vermelho</th>\n",
       "      <th>mandante_impedimentos</th>\n",
       "      <th>visitante_impedimentos</th>\n",
       "      <th>mandante_escanteios</th>\n",
       "      <th>visitante_escanteios</th>\n",
       "      <th>resultado</th>\n",
       "      <th>ano</th>\n",
       "      <th>dia_do_mes</th>\n",
       "      <th>mes</th>\n",
       "      <th>semana_do_ano</th>\n",
       "    </tr>\n",
       "  </thead>\n",
       "  <tbody>\n",
       "    <tr>\n",
       "      <th>0</th>\n",
       "      <td>1</td>\n",
       "      <td>2015-05-09</td>\n",
       "      <td>-0.990268</td>\n",
       "      <td>Sabado</td>\n",
       "      <td>Chapecoense</td>\n",
       "      <td>Coritiba</td>\n",
       "      <td>4-2-3-1</td>\n",
       "      <td>3-5-2</td>\n",
       "      <td>arena conda</td>\n",
       "      <td>SC</td>\n",
       "      <td>...</td>\n",
       "      <td>0.145695</td>\n",
       "      <td>1.336283</td>\n",
       "      <td>1.867550</td>\n",
       "      <td>4.911504</td>\n",
       "      <td>4.549669</td>\n",
       "      <td>1.0</td>\n",
       "      <td>2015</td>\n",
       "      <td>9</td>\n",
       "      <td>5</td>\n",
       "      <td>19</td>\n",
       "    </tr>\n",
       "    <tr>\n",
       "      <th>1</th>\n",
       "      <td>1</td>\n",
       "      <td>2015-05-09</td>\n",
       "      <td>-0.989651</td>\n",
       "      <td>Sabado</td>\n",
       "      <td>Palmeiras</td>\n",
       "      <td>Atletico-MG</td>\n",
       "      <td>4-2-3-1</td>\n",
       "      <td>4-2-3-1</td>\n",
       "      <td>allianz parque</td>\n",
       "      <td>SP</td>\n",
       "      <td>...</td>\n",
       "      <td>0.090566</td>\n",
       "      <td>1.860902</td>\n",
       "      <td>1.883019</td>\n",
       "      <td>5.526316</td>\n",
       "      <td>5.947170</td>\n",
       "      <td>0.0</td>\n",
       "      <td>2015</td>\n",
       "      <td>9</td>\n",
       "      <td>5</td>\n",
       "      <td>19</td>\n",
       "    </tr>\n",
       "    <tr>\n",
       "      <th>2</th>\n",
       "      <td>1</td>\n",
       "      <td>2015-05-09</td>\n",
       "      <td>-0.707107</td>\n",
       "      <td>Sabado</td>\n",
       "      <td>Fluminense</td>\n",
       "      <td>Joinville</td>\n",
       "      <td>4-3-1-2</td>\n",
       "      <td>4-4-1-1</td>\n",
       "      <td>maracana</td>\n",
       "      <td>RJ</td>\n",
       "      <td>...</td>\n",
       "      <td>0.210526</td>\n",
       "      <td>1.586466</td>\n",
       "      <td>1.736842</td>\n",
       "      <td>4.766917</td>\n",
       "      <td>5.289474</td>\n",
       "      <td>1.0</td>\n",
       "      <td>2015</td>\n",
       "      <td>9</td>\n",
       "      <td>5</td>\n",
       "      <td>19</td>\n",
       "    </tr>\n",
       "    <tr>\n",
       "      <th>3</th>\n",
       "      <td>1</td>\n",
       "      <td>2015-05-10</td>\n",
       "      <td>0.258819</td>\n",
       "      <td>Domingo</td>\n",
       "      <td>Gremio</td>\n",
       "      <td>Ponte Preta</td>\n",
       "      <td>4-2-3-1</td>\n",
       "      <td>4-1-2-1-2</td>\n",
       "      <td>arena do gremio</td>\n",
       "      <td>RS</td>\n",
       "      <td>...</td>\n",
       "      <td>0.149123</td>\n",
       "      <td>1.503759</td>\n",
       "      <td>1.754386</td>\n",
       "      <td>5.402256</td>\n",
       "      <td>5.166667</td>\n",
       "      <td>0.0</td>\n",
       "      <td>2015</td>\n",
       "      <td>10</td>\n",
       "      <td>5</td>\n",
       "      <td>19</td>\n",
       "    </tr>\n",
       "    <tr>\n",
       "      <th>4</th>\n",
       "      <td>1</td>\n",
       "      <td>2015-05-10</td>\n",
       "      <td>-0.866025</td>\n",
       "      <td>Domingo</td>\n",
       "      <td>Athletico-PR</td>\n",
       "      <td>Internacional</td>\n",
       "      <td>4-2-3-1</td>\n",
       "      <td>4-2-3-1</td>\n",
       "      <td>estadio joaquim americo guimaraes</td>\n",
       "      <td>PR</td>\n",
       "      <td>...</td>\n",
       "      <td>0.175439</td>\n",
       "      <td>1.522556</td>\n",
       "      <td>1.614035</td>\n",
       "      <td>4.609023</td>\n",
       "      <td>5.618421</td>\n",
       "      <td>1.0</td>\n",
       "      <td>2015</td>\n",
       "      <td>10</td>\n",
       "      <td>5</td>\n",
       "      <td>19</td>\n",
       "    </tr>\n",
       "  </tbody>\n",
       "</table>\n",
       "<p>5 rows × 36 columns</p>\n",
       "</div>"
      ],
      "text/plain": [
       "   rodada       data  hora_sin      dia      mandante      visitante  \\\n",
       "0       1 2015-05-09 -0.990268   Sabado   Chapecoense       Coritiba   \n",
       "1       1 2015-05-09 -0.989651   Sabado     Palmeiras    Atletico-MG   \n",
       "2       1 2015-05-09 -0.707107   Sabado    Fluminense      Joinville   \n",
       "3       1 2015-05-10  0.258819  Domingo        Gremio    Ponte Preta   \n",
       "4       1 2015-05-10 -0.866025  Domingo  Athletico-PR  Internacional   \n",
       "\n",
       "  formacao_mandante formacao_visitante                              arena  \\\n",
       "0           4-2-3-1              3-5-2                        arena conda   \n",
       "1           4-2-3-1            4-2-3-1                     allianz parque   \n",
       "2           4-3-1-2            4-4-1-1                           maracana   \n",
       "3           4-2-3-1          4-1-2-1-2                    arena do gremio   \n",
       "4           4-2-3-1            4-2-3-1  estadio joaquim americo guimaraes   \n",
       "\n",
       "  mandante_estado  ... visitante_cartao_vermelho  mandante_impedimentos  \\\n",
       "0              SC  ...                  0.145695               1.336283   \n",
       "1              SP  ...                  0.090566               1.860902   \n",
       "2              RJ  ...                  0.210526               1.586466   \n",
       "3              RS  ...                  0.149123               1.503759   \n",
       "4              PR  ...                  0.175439               1.522556   \n",
       "\n",
       "   visitante_impedimentos  mandante_escanteios  visitante_escanteios  \\\n",
       "0                1.867550             4.911504              4.549669   \n",
       "1                1.883019             5.526316              5.947170   \n",
       "2                1.736842             4.766917              5.289474   \n",
       "3                1.754386             5.402256              5.166667   \n",
       "4                1.614035             4.609023              5.618421   \n",
       "\n",
       "   resultado   ano  dia_do_mes  mes  semana_do_ano  \n",
       "0        1.0  2015           9    5             19  \n",
       "1        0.0  2015           9    5             19  \n",
       "2        1.0  2015           9    5             19  \n",
       "3        0.0  2015          10    5             19  \n",
       "4        1.0  2015          10    5             19  \n",
       "\n",
       "[5 rows x 36 columns]"
      ]
     },
     "execution_count": 56,
     "metadata": {},
     "output_type": "execute_result"
    }
   ],
   "source": [
    "df3['ano'] = df3.data.dt.year\n",
    "df3['dia_do_mes'] = df3.data.dt.day\n",
    "df3['mes'] = df3.data.dt.month\n",
    "df3['semana_do_ano'] = df3.data.dt.weekofyear\n",
    "\n",
    "df3.head()"
   ]
  },
  {
   "cell_type": "markdown",
   "id": "f740f90b",
   "metadata": {},
   "source": [
    "## 3.1 Data transformation "
   ]
  },
  {
   "cell_type": "code",
   "execution_count": 57,
   "id": "e3a23b08",
   "metadata": {
    "ExecuteTime": {
     "end_time": "2022-03-18T14:20:35.820004Z",
     "start_time": "2022-03-18T14:20:35.783891Z"
    }
   },
   "outputs": [],
   "source": [
    "# month\n",
    "df3['mes_sin'] = df3['mes'].apply(lambda x: np.sin(x * (2 * np.pi/12)))\n",
    "df3['mes_cos'] = df3['mes'].apply(lambda x: np.cos(x * (2 * np.pi/12)))\n",
    "# day\n",
    "df3['dia_do_mes_sin'] = df3['dia_do_mes'].apply(lambda x: np.sin(x * (2 * np.pi/30)))\n",
    "df3['dia_do_mes_cos'] = df3['dia_do_mes'].apply(lambda x: np.cos(x * (2 * np.pi/30)))\n",
    "# week of year\n",
    "df3['semana_do_ano_sin'] = df3['semana_do_ano'].apply(lambda x: np.sin(x * (2 * np.pi/52)))\n",
    "df3['semana_do_ano_cos'] = df3['semana_do_ano'].apply(lambda x: np.cos(x * (2 * np.pi/52)))"
   ]
  },
  {
   "cell_type": "code",
   "execution_count": 58,
   "id": "641d83bc",
   "metadata": {
    "ExecuteTime": {
     "end_time": "2022-03-18T14:20:35.843486Z",
     "start_time": "2022-03-18T14:20:35.822964Z"
    }
   },
   "outputs": [
    {
     "data": {
      "text/html": [
       "<div>\n",
       "<style scoped>\n",
       "    .dataframe tbody tr th:only-of-type {\n",
       "        vertical-align: middle;\n",
       "    }\n",
       "\n",
       "    .dataframe tbody tr th {\n",
       "        vertical-align: top;\n",
       "    }\n",
       "\n",
       "    .dataframe thead th {\n",
       "        text-align: right;\n",
       "    }\n",
       "</style>\n",
       "<table border=\"1\" class=\"dataframe\">\n",
       "  <thead>\n",
       "    <tr style=\"text-align: right;\">\n",
       "      <th></th>\n",
       "      <th>rodada</th>\n",
       "      <th>data</th>\n",
       "      <th>hora_sin</th>\n",
       "      <th>dia</th>\n",
       "      <th>mandante</th>\n",
       "      <th>visitante</th>\n",
       "      <th>formacao_mandante</th>\n",
       "      <th>formacao_visitante</th>\n",
       "      <th>arena</th>\n",
       "      <th>mandante_estado</th>\n",
       "      <th>...</th>\n",
       "      <th>ano</th>\n",
       "      <th>dia_do_mes</th>\n",
       "      <th>mes</th>\n",
       "      <th>semana_do_ano</th>\n",
       "      <th>mes_sin</th>\n",
       "      <th>mes_cos</th>\n",
       "      <th>dia_do_mes_sin</th>\n",
       "      <th>dia_do_mes_cos</th>\n",
       "      <th>semana_do_ano_sin</th>\n",
       "      <th>semana_do_ano_cos</th>\n",
       "    </tr>\n",
       "  </thead>\n",
       "  <tbody>\n",
       "    <tr>\n",
       "      <th>0</th>\n",
       "      <td>1</td>\n",
       "      <td>2015-05-09</td>\n",
       "      <td>-0.990268</td>\n",
       "      <td>Sabado</td>\n",
       "      <td>Chapecoense</td>\n",
       "      <td>Coritiba</td>\n",
       "      <td>4-2-3-1</td>\n",
       "      <td>3-5-2</td>\n",
       "      <td>arena conda</td>\n",
       "      <td>SC</td>\n",
       "      <td>...</td>\n",
       "      <td>2015</td>\n",
       "      <td>9</td>\n",
       "      <td>5</td>\n",
       "      <td>19</td>\n",
       "      <td>0.5</td>\n",
       "      <td>-0.866025</td>\n",
       "      <td>0.951057</td>\n",
       "      <td>-0.309017</td>\n",
       "      <td>0.748511</td>\n",
       "      <td>-0.663123</td>\n",
       "    </tr>\n",
       "    <tr>\n",
       "      <th>1</th>\n",
       "      <td>1</td>\n",
       "      <td>2015-05-09</td>\n",
       "      <td>-0.989651</td>\n",
       "      <td>Sabado</td>\n",
       "      <td>Palmeiras</td>\n",
       "      <td>Atletico-MG</td>\n",
       "      <td>4-2-3-1</td>\n",
       "      <td>4-2-3-1</td>\n",
       "      <td>allianz parque</td>\n",
       "      <td>SP</td>\n",
       "      <td>...</td>\n",
       "      <td>2015</td>\n",
       "      <td>9</td>\n",
       "      <td>5</td>\n",
       "      <td>19</td>\n",
       "      <td>0.5</td>\n",
       "      <td>-0.866025</td>\n",
       "      <td>0.951057</td>\n",
       "      <td>-0.309017</td>\n",
       "      <td>0.748511</td>\n",
       "      <td>-0.663123</td>\n",
       "    </tr>\n",
       "    <tr>\n",
       "      <th>2</th>\n",
       "      <td>1</td>\n",
       "      <td>2015-05-09</td>\n",
       "      <td>-0.707107</td>\n",
       "      <td>Sabado</td>\n",
       "      <td>Fluminense</td>\n",
       "      <td>Joinville</td>\n",
       "      <td>4-3-1-2</td>\n",
       "      <td>4-4-1-1</td>\n",
       "      <td>maracana</td>\n",
       "      <td>RJ</td>\n",
       "      <td>...</td>\n",
       "      <td>2015</td>\n",
       "      <td>9</td>\n",
       "      <td>5</td>\n",
       "      <td>19</td>\n",
       "      <td>0.5</td>\n",
       "      <td>-0.866025</td>\n",
       "      <td>0.951057</td>\n",
       "      <td>-0.309017</td>\n",
       "      <td>0.748511</td>\n",
       "      <td>-0.663123</td>\n",
       "    </tr>\n",
       "    <tr>\n",
       "      <th>3</th>\n",
       "      <td>1</td>\n",
       "      <td>2015-05-10</td>\n",
       "      <td>0.258819</td>\n",
       "      <td>Domingo</td>\n",
       "      <td>Gremio</td>\n",
       "      <td>Ponte Preta</td>\n",
       "      <td>4-2-3-1</td>\n",
       "      <td>4-1-2-1-2</td>\n",
       "      <td>arena do gremio</td>\n",
       "      <td>RS</td>\n",
       "      <td>...</td>\n",
       "      <td>2015</td>\n",
       "      <td>10</td>\n",
       "      <td>5</td>\n",
       "      <td>19</td>\n",
       "      <td>0.5</td>\n",
       "      <td>-0.866025</td>\n",
       "      <td>0.866025</td>\n",
       "      <td>-0.500000</td>\n",
       "      <td>0.748511</td>\n",
       "      <td>-0.663123</td>\n",
       "    </tr>\n",
       "    <tr>\n",
       "      <th>4</th>\n",
       "      <td>1</td>\n",
       "      <td>2015-05-10</td>\n",
       "      <td>-0.866025</td>\n",
       "      <td>Domingo</td>\n",
       "      <td>Athletico-PR</td>\n",
       "      <td>Internacional</td>\n",
       "      <td>4-2-3-1</td>\n",
       "      <td>4-2-3-1</td>\n",
       "      <td>estadio joaquim americo guimaraes</td>\n",
       "      <td>PR</td>\n",
       "      <td>...</td>\n",
       "      <td>2015</td>\n",
       "      <td>10</td>\n",
       "      <td>5</td>\n",
       "      <td>19</td>\n",
       "      <td>0.5</td>\n",
       "      <td>-0.866025</td>\n",
       "      <td>0.866025</td>\n",
       "      <td>-0.500000</td>\n",
       "      <td>0.748511</td>\n",
       "      <td>-0.663123</td>\n",
       "    </tr>\n",
       "  </tbody>\n",
       "</table>\n",
       "<p>5 rows × 42 columns</p>\n",
       "</div>"
      ],
      "text/plain": [
       "   rodada       data  hora_sin      dia      mandante      visitante  \\\n",
       "0       1 2015-05-09 -0.990268   Sabado   Chapecoense       Coritiba   \n",
       "1       1 2015-05-09 -0.989651   Sabado     Palmeiras    Atletico-MG   \n",
       "2       1 2015-05-09 -0.707107   Sabado    Fluminense      Joinville   \n",
       "3       1 2015-05-10  0.258819  Domingo        Gremio    Ponte Preta   \n",
       "4       1 2015-05-10 -0.866025  Domingo  Athletico-PR  Internacional   \n",
       "\n",
       "  formacao_mandante formacao_visitante                              arena  \\\n",
       "0           4-2-3-1              3-5-2                        arena conda   \n",
       "1           4-2-3-1            4-2-3-1                     allianz parque   \n",
       "2           4-3-1-2            4-4-1-1                           maracana   \n",
       "3           4-2-3-1          4-1-2-1-2                    arena do gremio   \n",
       "4           4-2-3-1            4-2-3-1  estadio joaquim americo guimaraes   \n",
       "\n",
       "  mandante_estado  ...   ano  dia_do_mes  mes  semana_do_ano  mes_sin  \\\n",
       "0              SC  ...  2015           9    5             19      0.5   \n",
       "1              SP  ...  2015           9    5             19      0.5   \n",
       "2              RJ  ...  2015           9    5             19      0.5   \n",
       "3              RS  ...  2015          10    5             19      0.5   \n",
       "4              PR  ...  2015          10    5             19      0.5   \n",
       "\n",
       "    mes_cos  dia_do_mes_sin  dia_do_mes_cos  semana_do_ano_sin  \\\n",
       "0 -0.866025        0.951057       -0.309017           0.748511   \n",
       "1 -0.866025        0.951057       -0.309017           0.748511   \n",
       "2 -0.866025        0.951057       -0.309017           0.748511   \n",
       "3 -0.866025        0.866025       -0.500000           0.748511   \n",
       "4 -0.866025        0.866025       -0.500000           0.748511   \n",
       "\n",
       "   semana_do_ano_cos  \n",
       "0          -0.663123  \n",
       "1          -0.663123  \n",
       "2          -0.663123  \n",
       "3          -0.663123  \n",
       "4          -0.663123  \n",
       "\n",
       "[5 rows x 42 columns]"
      ]
     },
     "execution_count": 58,
     "metadata": {},
     "output_type": "execute_result"
    }
   ],
   "source": [
    "df3.head()"
   ]
  },
  {
   "cell_type": "code",
   "execution_count": 59,
   "id": "263654d5",
   "metadata": {
    "ExecuteTime": {
     "end_time": "2022-03-18T14:20:35.876573Z",
     "start_time": "2022-03-18T14:20:35.845688Z"
    }
   },
   "outputs": [],
   "source": [
    "# rodadas\n",
    "df3['rodadas_sin'] = df3['rodada'].apply(lambda x: np.sin(x * (2 * np.pi/38)))\n",
    "df3['rodadas_cos'] = df3['rodada'].apply(lambda x: np.cos(x * (2 * np.pi/38)))"
   ]
  },
  {
   "cell_type": "code",
   "execution_count": 60,
   "id": "7ece3577",
   "metadata": {
    "ExecuteTime": {
     "end_time": "2022-03-18T14:20:35.892021Z",
     "start_time": "2022-03-18T14:20:35.885287Z"
    }
   },
   "outputs": [
    {
     "data": {
      "text/plain": [
       "['rodada',\n",
       " 'data',\n",
       " 'hora_sin',\n",
       " 'dia',\n",
       " 'mandante',\n",
       " 'visitante',\n",
       " 'formacao_mandante',\n",
       " 'formacao_visitante',\n",
       " 'arena',\n",
       " 'mandante_estado',\n",
       " 'visitante_estado',\n",
       " 'mandante_chutes',\n",
       " 'visitante_chutes',\n",
       " 'mandante_chutes_no_alvo',\n",
       " 'visitante_chutes_no_alvo',\n",
       " 'mandante_posse_de_bola',\n",
       " 'visitante_posse_de_bola',\n",
       " 'mandante_passes',\n",
       " 'visitante_passes',\n",
       " 'mandante_precisao_passes',\n",
       " 'visitante_precisao_passes',\n",
       " 'mandante_faltas',\n",
       " 'visitante_faltas',\n",
       " 'mandante_cartao_amarelo',\n",
       " 'visitante_cartao_amarelo',\n",
       " 'mandante_cartao_vermelho',\n",
       " 'visitante_cartao_vermelho',\n",
       " 'mandante_impedimentos',\n",
       " 'visitante_impedimentos',\n",
       " 'mandante_escanteios',\n",
       " 'visitante_escanteios',\n",
       " 'resultado',\n",
       " 'ano',\n",
       " 'dia_do_mes',\n",
       " 'mes',\n",
       " 'semana_do_ano',\n",
       " 'mes_sin',\n",
       " 'mes_cos',\n",
       " 'dia_do_mes_sin',\n",
       " 'dia_do_mes_cos',\n",
       " 'semana_do_ano_sin',\n",
       " 'semana_do_ano_cos',\n",
       " 'rodadas_sin',\n",
       " 'rodadas_cos']"
      ]
     },
     "execution_count": 60,
     "metadata": {},
     "output_type": "execute_result"
    }
   ],
   "source": [
    "df3.columns.tolist()"
   ]
  },
  {
   "cell_type": "code",
   "execution_count": 61,
   "id": "65e82b84",
   "metadata": {
    "ExecuteTime": {
     "end_time": "2022-03-18T14:20:35.926732Z",
     "start_time": "2022-03-18T14:20:35.894861Z"
    }
   },
   "outputs": [],
   "source": [
    "to_drop = ['dia', 'mes', 'ano', 'data', 'rodada', 'dia_do_mes', 'semana_do_ano']\n",
    "df3 = df3.drop(to_drop, axis=1)"
   ]
  },
  {
   "cell_type": "code",
   "execution_count": 62,
   "id": "5589328e",
   "metadata": {
    "ExecuteTime": {
     "end_time": "2022-03-18T14:20:35.983137Z",
     "start_time": "2022-03-18T14:20:35.928544Z"
    }
   },
   "outputs": [
    {
     "data": {
      "text/html": [
       "<div>\n",
       "<style scoped>\n",
       "    .dataframe tbody tr th:only-of-type {\n",
       "        vertical-align: middle;\n",
       "    }\n",
       "\n",
       "    .dataframe tbody tr th {\n",
       "        vertical-align: top;\n",
       "    }\n",
       "\n",
       "    .dataframe thead th {\n",
       "        text-align: right;\n",
       "    }\n",
       "</style>\n",
       "<table border=\"1\" class=\"dataframe\">\n",
       "  <thead>\n",
       "    <tr style=\"text-align: right;\">\n",
       "      <th></th>\n",
       "      <th>hora_sin</th>\n",
       "      <th>mandante</th>\n",
       "      <th>visitante</th>\n",
       "      <th>formacao_mandante</th>\n",
       "      <th>formacao_visitante</th>\n",
       "      <th>arena</th>\n",
       "      <th>mandante_estado</th>\n",
       "      <th>visitante_estado</th>\n",
       "      <th>mandante_chutes</th>\n",
       "      <th>visitante_chutes</th>\n",
       "      <th>...</th>\n",
       "      <th>visitante_escanteios</th>\n",
       "      <th>resultado</th>\n",
       "      <th>mes_sin</th>\n",
       "      <th>mes_cos</th>\n",
       "      <th>dia_do_mes_sin</th>\n",
       "      <th>dia_do_mes_cos</th>\n",
       "      <th>semana_do_ano_sin</th>\n",
       "      <th>semana_do_ano_cos</th>\n",
       "      <th>rodadas_sin</th>\n",
       "      <th>rodadas_cos</th>\n",
       "    </tr>\n",
       "  </thead>\n",
       "  <tbody>\n",
       "    <tr>\n",
       "      <th>0</th>\n",
       "      <td>-0.990268</td>\n",
       "      <td>Chapecoense</td>\n",
       "      <td>Coritiba</td>\n",
       "      <td>4-2-3-1</td>\n",
       "      <td>3-5-2</td>\n",
       "      <td>arena conda</td>\n",
       "      <td>SC</td>\n",
       "      <td>PR</td>\n",
       "      <td>12.092920</td>\n",
       "      <td>11.437086</td>\n",
       "      <td>...</td>\n",
       "      <td>4.549669</td>\n",
       "      <td>1.0</td>\n",
       "      <td>0.5</td>\n",
       "      <td>-0.866025</td>\n",
       "      <td>0.951057</td>\n",
       "      <td>-0.309017</td>\n",
       "      <td>0.748511</td>\n",
       "      <td>-0.663123</td>\n",
       "      <td>0.164595</td>\n",
       "      <td>0.986361</td>\n",
       "    </tr>\n",
       "    <tr>\n",
       "      <th>1</th>\n",
       "      <td>-0.989651</td>\n",
       "      <td>Palmeiras</td>\n",
       "      <td>Atletico-MG</td>\n",
       "      <td>4-2-3-1</td>\n",
       "      <td>4-2-3-1</td>\n",
       "      <td>allianz parque</td>\n",
       "      <td>SP</td>\n",
       "      <td>MG</td>\n",
       "      <td>13.928571</td>\n",
       "      <td>14.162264</td>\n",
       "      <td>...</td>\n",
       "      <td>5.947170</td>\n",
       "      <td>0.0</td>\n",
       "      <td>0.5</td>\n",
       "      <td>-0.866025</td>\n",
       "      <td>0.951057</td>\n",
       "      <td>-0.309017</td>\n",
       "      <td>0.748511</td>\n",
       "      <td>-0.663123</td>\n",
       "      <td>0.164595</td>\n",
       "      <td>0.986361</td>\n",
       "    </tr>\n",
       "    <tr>\n",
       "      <th>2</th>\n",
       "      <td>-0.707107</td>\n",
       "      <td>Fluminense</td>\n",
       "      <td>Joinville</td>\n",
       "      <td>4-3-1-2</td>\n",
       "      <td>4-4-1-1</td>\n",
       "      <td>maracana</td>\n",
       "      <td>RJ</td>\n",
       "      <td>SC</td>\n",
       "      <td>12.342105</td>\n",
       "      <td>10.868421</td>\n",
       "      <td>...</td>\n",
       "      <td>5.289474</td>\n",
       "      <td>1.0</td>\n",
       "      <td>0.5</td>\n",
       "      <td>-0.866025</td>\n",
       "      <td>0.951057</td>\n",
       "      <td>-0.309017</td>\n",
       "      <td>0.748511</td>\n",
       "      <td>-0.663123</td>\n",
       "      <td>0.164595</td>\n",
       "      <td>0.986361</td>\n",
       "    </tr>\n",
       "    <tr>\n",
       "      <th>3</th>\n",
       "      <td>0.258819</td>\n",
       "      <td>Gremio</td>\n",
       "      <td>Ponte Preta</td>\n",
       "      <td>4-2-3-1</td>\n",
       "      <td>4-1-2-1-2</td>\n",
       "      <td>arena do gremio</td>\n",
       "      <td>RS</td>\n",
       "      <td>SP</td>\n",
       "      <td>13.187970</td>\n",
       "      <td>12.280702</td>\n",
       "      <td>...</td>\n",
       "      <td>5.166667</td>\n",
       "      <td>0.0</td>\n",
       "      <td>0.5</td>\n",
       "      <td>-0.866025</td>\n",
       "      <td>0.866025</td>\n",
       "      <td>-0.500000</td>\n",
       "      <td>0.748511</td>\n",
       "      <td>-0.663123</td>\n",
       "      <td>0.164595</td>\n",
       "      <td>0.986361</td>\n",
       "    </tr>\n",
       "    <tr>\n",
       "      <th>4</th>\n",
       "      <td>-0.866025</td>\n",
       "      <td>Athletico-PR</td>\n",
       "      <td>Internacional</td>\n",
       "      <td>4-2-3-1</td>\n",
       "      <td>4-2-3-1</td>\n",
       "      <td>estadio joaquim americo guimaraes</td>\n",
       "      <td>PR</td>\n",
       "      <td>RS</td>\n",
       "      <td>11.639098</td>\n",
       "      <td>12.447368</td>\n",
       "      <td>...</td>\n",
       "      <td>5.618421</td>\n",
       "      <td>1.0</td>\n",
       "      <td>0.5</td>\n",
       "      <td>-0.866025</td>\n",
       "      <td>0.866025</td>\n",
       "      <td>-0.500000</td>\n",
       "      <td>0.748511</td>\n",
       "      <td>-0.663123</td>\n",
       "      <td>0.164595</td>\n",
       "      <td>0.986361</td>\n",
       "    </tr>\n",
       "  </tbody>\n",
       "</table>\n",
       "<p>5 rows × 37 columns</p>\n",
       "</div>"
      ],
      "text/plain": [
       "   hora_sin      mandante      visitante formacao_mandante formacao_visitante  \\\n",
       "0 -0.990268   Chapecoense       Coritiba           4-2-3-1              3-5-2   \n",
       "1 -0.989651     Palmeiras    Atletico-MG           4-2-3-1            4-2-3-1   \n",
       "2 -0.707107    Fluminense      Joinville           4-3-1-2            4-4-1-1   \n",
       "3  0.258819        Gremio    Ponte Preta           4-2-3-1          4-1-2-1-2   \n",
       "4 -0.866025  Athletico-PR  Internacional           4-2-3-1            4-2-3-1   \n",
       "\n",
       "                               arena mandante_estado visitante_estado  \\\n",
       "0                        arena conda              SC               PR   \n",
       "1                     allianz parque              SP               MG   \n",
       "2                           maracana              RJ               SC   \n",
       "3                    arena do gremio              RS               SP   \n",
       "4  estadio joaquim americo guimaraes              PR               RS   \n",
       "\n",
       "   mandante_chutes  visitante_chutes  ...  visitante_escanteios  resultado  \\\n",
       "0        12.092920         11.437086  ...              4.549669        1.0   \n",
       "1        13.928571         14.162264  ...              5.947170        0.0   \n",
       "2        12.342105         10.868421  ...              5.289474        1.0   \n",
       "3        13.187970         12.280702  ...              5.166667        0.0   \n",
       "4        11.639098         12.447368  ...              5.618421        1.0   \n",
       "\n",
       "   mes_sin   mes_cos  dia_do_mes_sin  dia_do_mes_cos  semana_do_ano_sin  \\\n",
       "0      0.5 -0.866025        0.951057       -0.309017           0.748511   \n",
       "1      0.5 -0.866025        0.951057       -0.309017           0.748511   \n",
       "2      0.5 -0.866025        0.951057       -0.309017           0.748511   \n",
       "3      0.5 -0.866025        0.866025       -0.500000           0.748511   \n",
       "4      0.5 -0.866025        0.866025       -0.500000           0.748511   \n",
       "\n",
       "   semana_do_ano_cos  rodadas_sin  rodadas_cos  \n",
       "0          -0.663123     0.164595     0.986361  \n",
       "1          -0.663123     0.164595     0.986361  \n",
       "2          -0.663123     0.164595     0.986361  \n",
       "3          -0.663123     0.164595     0.986361  \n",
       "4          -0.663123     0.164595     0.986361  \n",
       "\n",
       "[5 rows x 37 columns]"
      ]
     },
     "execution_count": 62,
     "metadata": {},
     "output_type": "execute_result"
    }
   ],
   "source": [
    "df3.head()"
   ]
  },
  {
   "cell_type": "code",
   "execution_count": 63,
   "id": "62b9f6aa",
   "metadata": {
    "ExecuteTime": {
     "end_time": "2022-03-18T14:20:35.991924Z",
     "start_time": "2022-03-18T14:20:35.985236Z"
    }
   },
   "outputs": [],
   "source": [
    "df3.insert(len(df3.columns.tolist()), 'resultado_final', df3.resultado)"
   ]
  },
  {
   "cell_type": "code",
   "execution_count": 64,
   "id": "4fd0d678",
   "metadata": {
    "ExecuteTime": {
     "end_time": "2022-03-18T14:20:36.005785Z",
     "start_time": "2022-03-18T14:20:35.995692Z"
    }
   },
   "outputs": [],
   "source": [
    "df3 = df3.drop('resultado', axis = 1)"
   ]
  },
  {
   "cell_type": "code",
   "execution_count": 65,
   "id": "e1ba7ec8",
   "metadata": {
    "ExecuteTime": {
     "end_time": "2022-03-18T14:20:36.013947Z",
     "start_time": "2022-03-18T14:20:36.007908Z"
    }
   },
   "outputs": [],
   "source": [
    "df3['resultado_final'] = df3.resultado_final.astype(int)"
   ]
  },
  {
   "cell_type": "code",
   "execution_count": 66,
   "id": "fb737ae7",
   "metadata": {
    "ExecuteTime": {
     "end_time": "2022-03-18T14:20:36.028378Z",
     "start_time": "2022-03-18T14:20:36.015948Z"
    }
   },
   "outputs": [
    {
     "data": {
      "text/plain": [
       "hora_sin                     float64\n",
       "mandante                      object\n",
       "visitante                     object\n",
       "formacao_mandante             object\n",
       "formacao_visitante            object\n",
       "arena                         object\n",
       "mandante_estado               object\n",
       "visitante_estado              object\n",
       "mandante_chutes              float64\n",
       "visitante_chutes             float64\n",
       "mandante_chutes_no_alvo      float64\n",
       "visitante_chutes_no_alvo     float64\n",
       "mandante_posse_de_bola       float64\n",
       "visitante_posse_de_bola      float64\n",
       "mandante_passes              float64\n",
       "visitante_passes             float64\n",
       "mandante_precisao_passes     float64\n",
       "visitante_precisao_passes    float64\n",
       "mandante_faltas              float64\n",
       "visitante_faltas             float64\n",
       "mandante_cartao_amarelo      float64\n",
       "visitante_cartao_amarelo     float64\n",
       "mandante_cartao_vermelho     float64\n",
       "visitante_cartao_vermelho    float64\n",
       "mandante_impedimentos        float64\n",
       "visitante_impedimentos       float64\n",
       "mandante_escanteios          float64\n",
       "visitante_escanteios         float64\n",
       "mes_sin                      float64\n",
       "mes_cos                      float64\n",
       "dia_do_mes_sin               float64\n",
       "dia_do_mes_cos               float64\n",
       "semana_do_ano_sin            float64\n",
       "semana_do_ano_cos            float64\n",
       "rodadas_sin                  float64\n",
       "rodadas_cos                  float64\n",
       "resultado_final                int64\n",
       "dtype: object"
      ]
     },
     "execution_count": 66,
     "metadata": {},
     "output_type": "execute_result"
    }
   ],
   "source": [
    "df3.dtypes"
   ]
  },
  {
   "cell_type": "code",
   "execution_count": 132,
   "id": "f75e3682",
   "metadata": {
    "ExecuteTime": {
     "end_time": "2022-03-18T14:35:15.819041Z",
     "start_time": "2022-03-18T14:35:15.809508Z"
    }
   },
   "outputs": [],
   "source": [
    "categorical = ['mandante', 'visitante']\n",
    "target = ['resultado_final']\n",
    "\n",
    "df3_cat = df3[categorical]\n",
    "df3_target = df3[target]"
   ]
  },
  {
   "cell_type": "code",
   "execution_count": 133,
   "id": "30bae413",
   "metadata": {
    "ExecuteTime": {
     "end_time": "2022-03-18T14:35:16.781308Z",
     "start_time": "2022-03-18T14:35:16.769911Z"
    }
   },
   "outputs": [],
   "source": [
    "df3_cat_dummies = pd.get_dummies(df3_cat)"
   ]
  },
  {
   "cell_type": "code",
   "execution_count": 134,
   "id": "499db33c",
   "metadata": {
    "ExecuteTime": {
     "end_time": "2022-03-18T14:35:17.581372Z",
     "start_time": "2022-03-18T14:35:17.559725Z"
    }
   },
   "outputs": [
    {
     "data": {
      "text/html": [
       "<div>\n",
       "<style scoped>\n",
       "    .dataframe tbody tr th:only-of-type {\n",
       "        vertical-align: middle;\n",
       "    }\n",
       "\n",
       "    .dataframe tbody tr th {\n",
       "        vertical-align: top;\n",
       "    }\n",
       "\n",
       "    .dataframe thead th {\n",
       "        text-align: right;\n",
       "    }\n",
       "</style>\n",
       "<table border=\"1\" class=\"dataframe\">\n",
       "  <thead>\n",
       "    <tr style=\"text-align: right;\">\n",
       "      <th></th>\n",
       "      <th>mandante_America-MG</th>\n",
       "      <th>mandante_Athletico-PR</th>\n",
       "      <th>mandante_Atletico-GO</th>\n",
       "      <th>mandante_Atletico-MG</th>\n",
       "      <th>mandante_Avai</th>\n",
       "      <th>mandante_Bahia</th>\n",
       "      <th>mandante_Botafogo-RJ</th>\n",
       "      <th>mandante_Bragantino</th>\n",
       "      <th>mandante_CSA</th>\n",
       "      <th>mandante_Ceara</th>\n",
       "      <th>...</th>\n",
       "      <th>visitante_Juventude</th>\n",
       "      <th>visitante_Palmeiras</th>\n",
       "      <th>visitante_Parana</th>\n",
       "      <th>visitante_Ponte Preta</th>\n",
       "      <th>visitante_Santa Cruz</th>\n",
       "      <th>visitante_Santos</th>\n",
       "      <th>visitante_Sao Paulo</th>\n",
       "      <th>visitante_Sport</th>\n",
       "      <th>visitante_Vasco</th>\n",
       "      <th>visitante_Vitoria</th>\n",
       "    </tr>\n",
       "  </thead>\n",
       "  <tbody>\n",
       "    <tr>\n",
       "      <th>0</th>\n",
       "      <td>0</td>\n",
       "      <td>0</td>\n",
       "      <td>0</td>\n",
       "      <td>0</td>\n",
       "      <td>0</td>\n",
       "      <td>0</td>\n",
       "      <td>0</td>\n",
       "      <td>0</td>\n",
       "      <td>0</td>\n",
       "      <td>0</td>\n",
       "      <td>...</td>\n",
       "      <td>0</td>\n",
       "      <td>0</td>\n",
       "      <td>0</td>\n",
       "      <td>0</td>\n",
       "      <td>0</td>\n",
       "      <td>0</td>\n",
       "      <td>0</td>\n",
       "      <td>0</td>\n",
       "      <td>0</td>\n",
       "      <td>0</td>\n",
       "    </tr>\n",
       "    <tr>\n",
       "      <th>1</th>\n",
       "      <td>0</td>\n",
       "      <td>0</td>\n",
       "      <td>0</td>\n",
       "      <td>0</td>\n",
       "      <td>0</td>\n",
       "      <td>0</td>\n",
       "      <td>0</td>\n",
       "      <td>0</td>\n",
       "      <td>0</td>\n",
       "      <td>0</td>\n",
       "      <td>...</td>\n",
       "      <td>0</td>\n",
       "      <td>0</td>\n",
       "      <td>0</td>\n",
       "      <td>0</td>\n",
       "      <td>0</td>\n",
       "      <td>0</td>\n",
       "      <td>0</td>\n",
       "      <td>0</td>\n",
       "      <td>0</td>\n",
       "      <td>0</td>\n",
       "    </tr>\n",
       "    <tr>\n",
       "      <th>2</th>\n",
       "      <td>0</td>\n",
       "      <td>0</td>\n",
       "      <td>0</td>\n",
       "      <td>0</td>\n",
       "      <td>0</td>\n",
       "      <td>0</td>\n",
       "      <td>0</td>\n",
       "      <td>0</td>\n",
       "      <td>0</td>\n",
       "      <td>0</td>\n",
       "      <td>...</td>\n",
       "      <td>0</td>\n",
       "      <td>0</td>\n",
       "      <td>0</td>\n",
       "      <td>0</td>\n",
       "      <td>0</td>\n",
       "      <td>0</td>\n",
       "      <td>0</td>\n",
       "      <td>0</td>\n",
       "      <td>0</td>\n",
       "      <td>0</td>\n",
       "    </tr>\n",
       "    <tr>\n",
       "      <th>3</th>\n",
       "      <td>0</td>\n",
       "      <td>0</td>\n",
       "      <td>0</td>\n",
       "      <td>0</td>\n",
       "      <td>0</td>\n",
       "      <td>0</td>\n",
       "      <td>0</td>\n",
       "      <td>0</td>\n",
       "      <td>0</td>\n",
       "      <td>0</td>\n",
       "      <td>...</td>\n",
       "      <td>0</td>\n",
       "      <td>0</td>\n",
       "      <td>0</td>\n",
       "      <td>1</td>\n",
       "      <td>0</td>\n",
       "      <td>0</td>\n",
       "      <td>0</td>\n",
       "      <td>0</td>\n",
       "      <td>0</td>\n",
       "      <td>0</td>\n",
       "    </tr>\n",
       "    <tr>\n",
       "      <th>4</th>\n",
       "      <td>0</td>\n",
       "      <td>1</td>\n",
       "      <td>0</td>\n",
       "      <td>0</td>\n",
       "      <td>0</td>\n",
       "      <td>0</td>\n",
       "      <td>0</td>\n",
       "      <td>0</td>\n",
       "      <td>0</td>\n",
       "      <td>0</td>\n",
       "      <td>...</td>\n",
       "      <td>0</td>\n",
       "      <td>0</td>\n",
       "      <td>0</td>\n",
       "      <td>0</td>\n",
       "      <td>0</td>\n",
       "      <td>0</td>\n",
       "      <td>0</td>\n",
       "      <td>0</td>\n",
       "      <td>0</td>\n",
       "      <td>0</td>\n",
       "    </tr>\n",
       "    <tr>\n",
       "      <th>...</th>\n",
       "      <td>...</td>\n",
       "      <td>...</td>\n",
       "      <td>...</td>\n",
       "      <td>...</td>\n",
       "      <td>...</td>\n",
       "      <td>...</td>\n",
       "      <td>...</td>\n",
       "      <td>...</td>\n",
       "      <td>...</td>\n",
       "      <td>...</td>\n",
       "      <td>...</td>\n",
       "      <td>...</td>\n",
       "      <td>...</td>\n",
       "      <td>...</td>\n",
       "      <td>...</td>\n",
       "      <td>...</td>\n",
       "      <td>...</td>\n",
       "      <td>...</td>\n",
       "      <td>...</td>\n",
       "      <td>...</td>\n",
       "      <td>...</td>\n",
       "    </tr>\n",
       "    <tr>\n",
       "      <th>2654</th>\n",
       "      <td>0</td>\n",
       "      <td>0</td>\n",
       "      <td>0</td>\n",
       "      <td>0</td>\n",
       "      <td>0</td>\n",
       "      <td>0</td>\n",
       "      <td>0</td>\n",
       "      <td>1</td>\n",
       "      <td>0</td>\n",
       "      <td>0</td>\n",
       "      <td>...</td>\n",
       "      <td>0</td>\n",
       "      <td>0</td>\n",
       "      <td>0</td>\n",
       "      <td>0</td>\n",
       "      <td>0</td>\n",
       "      <td>0</td>\n",
       "      <td>0</td>\n",
       "      <td>0</td>\n",
       "      <td>0</td>\n",
       "      <td>0</td>\n",
       "    </tr>\n",
       "    <tr>\n",
       "      <th>2655</th>\n",
       "      <td>0</td>\n",
       "      <td>0</td>\n",
       "      <td>0</td>\n",
       "      <td>0</td>\n",
       "      <td>0</td>\n",
       "      <td>0</td>\n",
       "      <td>0</td>\n",
       "      <td>0</td>\n",
       "      <td>0</td>\n",
       "      <td>0</td>\n",
       "      <td>...</td>\n",
       "      <td>0</td>\n",
       "      <td>0</td>\n",
       "      <td>0</td>\n",
       "      <td>0</td>\n",
       "      <td>0</td>\n",
       "      <td>0</td>\n",
       "      <td>0</td>\n",
       "      <td>0</td>\n",
       "      <td>0</td>\n",
       "      <td>0</td>\n",
       "    </tr>\n",
       "    <tr>\n",
       "      <th>2656</th>\n",
       "      <td>0</td>\n",
       "      <td>0</td>\n",
       "      <td>0</td>\n",
       "      <td>0</td>\n",
       "      <td>0</td>\n",
       "      <td>0</td>\n",
       "      <td>0</td>\n",
       "      <td>0</td>\n",
       "      <td>0</td>\n",
       "      <td>0</td>\n",
       "      <td>...</td>\n",
       "      <td>0</td>\n",
       "      <td>0</td>\n",
       "      <td>0</td>\n",
       "      <td>0</td>\n",
       "      <td>0</td>\n",
       "      <td>0</td>\n",
       "      <td>0</td>\n",
       "      <td>0</td>\n",
       "      <td>0</td>\n",
       "      <td>0</td>\n",
       "    </tr>\n",
       "    <tr>\n",
       "      <th>2657</th>\n",
       "      <td>0</td>\n",
       "      <td>0</td>\n",
       "      <td>0</td>\n",
       "      <td>0</td>\n",
       "      <td>0</td>\n",
       "      <td>0</td>\n",
       "      <td>0</td>\n",
       "      <td>0</td>\n",
       "      <td>0</td>\n",
       "      <td>0</td>\n",
       "      <td>...</td>\n",
       "      <td>0</td>\n",
       "      <td>0</td>\n",
       "      <td>0</td>\n",
       "      <td>0</td>\n",
       "      <td>0</td>\n",
       "      <td>0</td>\n",
       "      <td>0</td>\n",
       "      <td>0</td>\n",
       "      <td>0</td>\n",
       "      <td>0</td>\n",
       "    </tr>\n",
       "    <tr>\n",
       "      <th>2658</th>\n",
       "      <td>0</td>\n",
       "      <td>0</td>\n",
       "      <td>0</td>\n",
       "      <td>0</td>\n",
       "      <td>0</td>\n",
       "      <td>0</td>\n",
       "      <td>0</td>\n",
       "      <td>0</td>\n",
       "      <td>0</td>\n",
       "      <td>0</td>\n",
       "      <td>...</td>\n",
       "      <td>0</td>\n",
       "      <td>0</td>\n",
       "      <td>0</td>\n",
       "      <td>0</td>\n",
       "      <td>0</td>\n",
       "      <td>0</td>\n",
       "      <td>0</td>\n",
       "      <td>0</td>\n",
       "      <td>0</td>\n",
       "      <td>0</td>\n",
       "    </tr>\n",
       "  </tbody>\n",
       "</table>\n",
       "<p>2659 rows × 66 columns</p>\n",
       "</div>"
      ],
      "text/plain": [
       "      mandante_America-MG  mandante_Athletico-PR  mandante_Atletico-GO  \\\n",
       "0                       0                      0                     0   \n",
       "1                       0                      0                     0   \n",
       "2                       0                      0                     0   \n",
       "3                       0                      0                     0   \n",
       "4                       0                      1                     0   \n",
       "...                   ...                    ...                   ...   \n",
       "2654                    0                      0                     0   \n",
       "2655                    0                      0                     0   \n",
       "2656                    0                      0                     0   \n",
       "2657                    0                      0                     0   \n",
       "2658                    0                      0                     0   \n",
       "\n",
       "      mandante_Atletico-MG  mandante_Avai  mandante_Bahia  \\\n",
       "0                        0              0               0   \n",
       "1                        0              0               0   \n",
       "2                        0              0               0   \n",
       "3                        0              0               0   \n",
       "4                        0              0               0   \n",
       "...                    ...            ...             ...   \n",
       "2654                     0              0               0   \n",
       "2655                     0              0               0   \n",
       "2656                     0              0               0   \n",
       "2657                     0              0               0   \n",
       "2658                     0              0               0   \n",
       "\n",
       "      mandante_Botafogo-RJ  mandante_Bragantino  mandante_CSA  mandante_Ceara  \\\n",
       "0                        0                    0             0               0   \n",
       "1                        0                    0             0               0   \n",
       "2                        0                    0             0               0   \n",
       "3                        0                    0             0               0   \n",
       "4                        0                    0             0               0   \n",
       "...                    ...                  ...           ...             ...   \n",
       "2654                     0                    1             0               0   \n",
       "2655                     0                    0             0               0   \n",
       "2656                     0                    0             0               0   \n",
       "2657                     0                    0             0               0   \n",
       "2658                     0                    0             0               0   \n",
       "\n",
       "      ...  visitante_Juventude  visitante_Palmeiras  visitante_Parana  \\\n",
       "0     ...                    0                    0                 0   \n",
       "1     ...                    0                    0                 0   \n",
       "2     ...                    0                    0                 0   \n",
       "3     ...                    0                    0                 0   \n",
       "4     ...                    0                    0                 0   \n",
       "...   ...                  ...                  ...               ...   \n",
       "2654  ...                    0                    0                 0   \n",
       "2655  ...                    0                    0                 0   \n",
       "2656  ...                    0                    0                 0   \n",
       "2657  ...                    0                    0                 0   \n",
       "2658  ...                    0                    0                 0   \n",
       "\n",
       "      visitante_Ponte Preta  visitante_Santa Cruz  visitante_Santos  \\\n",
       "0                         0                     0                 0   \n",
       "1                         0                     0                 0   \n",
       "2                         0                     0                 0   \n",
       "3                         1                     0                 0   \n",
       "4                         0                     0                 0   \n",
       "...                     ...                   ...               ...   \n",
       "2654                      0                     0                 0   \n",
       "2655                      0                     0                 0   \n",
       "2656                      0                     0                 0   \n",
       "2657                      0                     0                 0   \n",
       "2658                      0                     0                 0   \n",
       "\n",
       "      visitante_Sao Paulo  visitante_Sport  visitante_Vasco  visitante_Vitoria  \n",
       "0                       0                0                0                  0  \n",
       "1                       0                0                0                  0  \n",
       "2                       0                0                0                  0  \n",
       "3                       0                0                0                  0  \n",
       "4                       0                0                0                  0  \n",
       "...                   ...              ...              ...                ...  \n",
       "2654                    0                0                0                  0  \n",
       "2655                    0                0                0                  0  \n",
       "2656                    0                0                0                  0  \n",
       "2657                    0                0                0                  0  \n",
       "2658                    0                0                0                  0  \n",
       "\n",
       "[2659 rows x 66 columns]"
      ]
     },
     "execution_count": 134,
     "metadata": {},
     "output_type": "execute_result"
    }
   ],
   "source": [
    "df3_cat_dummies"
   ]
  },
  {
   "cell_type": "code",
   "execution_count": 135,
   "id": "87dcfab5",
   "metadata": {
    "ExecuteTime": {
     "end_time": "2022-03-18T14:35:18.543816Z",
     "start_time": "2022-03-18T14:35:18.541231Z"
    }
   },
   "outputs": [],
   "source": [
    "categorical.append(target[0])"
   ]
  },
  {
   "cell_type": "code",
   "execution_count": 137,
   "id": "aba07f64",
   "metadata": {
    "ExecuteTime": {
     "end_time": "2022-03-18T14:35:32.603046Z",
     "start_time": "2022-03-18T14:35:32.595945Z"
    }
   },
   "outputs": [],
   "source": [
    "to_drop = ['mandante',\n",
    "           'visitante',\n",
    "           'formacao_mandante',\n",
    "           'formacao_visitante',\n",
    "           'arena',\n",
    "           'mandante_estado',\n",
    "           'visitante_estado',\n",
    "           'resultado_final']"
   ]
  },
  {
   "cell_type": "code",
   "execution_count": 138,
   "id": "76908b26",
   "metadata": {
    "ExecuteTime": {
     "end_time": "2022-03-18T14:35:33.071427Z",
     "start_time": "2022-03-18T14:35:33.060936Z"
    }
   },
   "outputs": [],
   "source": [
    "df3_numeric = df3.drop(to_drop, axis=1)"
   ]
  },
  {
   "cell_type": "code",
   "execution_count": 139,
   "id": "1f3c520b",
   "metadata": {
    "ExecuteTime": {
     "end_time": "2022-03-18T14:35:33.450427Z",
     "start_time": "2022-03-18T14:35:33.446942Z"
    }
   },
   "outputs": [],
   "source": [
    "columns = df3_numeric.columns.tolist()"
   ]
  },
  {
   "cell_type": "code",
   "execution_count": 140,
   "id": "44fa07a7",
   "metadata": {
    "ExecuteTime": {
     "end_time": "2022-03-18T14:35:33.900727Z",
     "start_time": "2022-03-18T14:35:33.890688Z"
    }
   },
   "outputs": [],
   "source": [
    "ss = StandardScaler()\n",
    "df3_numeric_scaled = pd.DataFrame(ss.fit_transform(df3_numeric), columns=columns)"
   ]
  },
  {
   "cell_type": "code",
   "execution_count": 141,
   "id": "93ef12a8",
   "metadata": {
    "ExecuteTime": {
     "end_time": "2022-03-18T14:35:34.724805Z",
     "start_time": "2022-03-18T14:35:34.695238Z"
    }
   },
   "outputs": [
    {
     "data": {
      "text/html": [
       "<div>\n",
       "<style scoped>\n",
       "    .dataframe tbody tr th:only-of-type {\n",
       "        vertical-align: middle;\n",
       "    }\n",
       "\n",
       "    .dataframe tbody tr th {\n",
       "        vertical-align: top;\n",
       "    }\n",
       "\n",
       "    .dataframe thead th {\n",
       "        text-align: right;\n",
       "    }\n",
       "</style>\n",
       "<table border=\"1\" class=\"dataframe\">\n",
       "  <thead>\n",
       "    <tr style=\"text-align: right;\">\n",
       "      <th></th>\n",
       "      <th>hora_sin</th>\n",
       "      <th>mandante_chutes</th>\n",
       "      <th>visitante_chutes</th>\n",
       "      <th>mandante_chutes_no_alvo</th>\n",
       "      <th>visitante_chutes_no_alvo</th>\n",
       "      <th>mandante_posse_de_bola</th>\n",
       "      <th>visitante_posse_de_bola</th>\n",
       "      <th>mandante_passes</th>\n",
       "      <th>visitante_passes</th>\n",
       "      <th>mandante_precisao_passes</th>\n",
       "      <th>...</th>\n",
       "      <th>mandante_escanteios</th>\n",
       "      <th>visitante_escanteios</th>\n",
       "      <th>mes_sin</th>\n",
       "      <th>mes_cos</th>\n",
       "      <th>dia_do_mes_sin</th>\n",
       "      <th>dia_do_mes_cos</th>\n",
       "      <th>semana_do_ano_sin</th>\n",
       "      <th>semana_do_ano_cos</th>\n",
       "      <th>rodadas_sin</th>\n",
       "      <th>rodadas_cos</th>\n",
       "    </tr>\n",
       "  </thead>\n",
       "  <tbody>\n",
       "    <tr>\n",
       "      <th>0</th>\n",
       "      <td>-0.667244</td>\n",
       "      <td>-0.503856</td>\n",
       "      <td>-1.163103</td>\n",
       "      <td>-0.693566</td>\n",
       "      <td>-1.324889</td>\n",
       "      <td>-1.201166</td>\n",
       "      <td>-0.672772</td>\n",
       "      <td>-1.375292</td>\n",
       "      <td>-0.843699</td>\n",
       "      <td>-1.878253</td>\n",
       "      <td>...</td>\n",
       "      <td>-0.448971</td>\n",
       "      <td>-1.145905</td>\n",
       "      <td>1.758753</td>\n",
       "      <td>-1.07702</td>\n",
       "      <td>1.320394</td>\n",
       "      <td>-0.395739</td>\n",
       "      <td>1.986769</td>\n",
       "      <td>-0.697683</td>\n",
       "      <td>0.232728</td>\n",
       "      <td>1.39572</td>\n",
       "    </tr>\n",
       "    <tr>\n",
       "      <th>1</th>\n",
       "      <td>-0.665172</td>\n",
       "      <td>1.342169</td>\n",
       "      <td>1.578629</td>\n",
       "      <td>0.577490</td>\n",
       "      <td>0.552568</td>\n",
       "      <td>0.450870</td>\n",
       "      <td>1.343022</td>\n",
       "      <td>0.000432</td>\n",
       "      <td>1.294262</td>\n",
       "      <td>-0.048304</td>\n",
       "      <td>...</td>\n",
       "      <td>0.735696</td>\n",
       "      <td>1.548019</td>\n",
       "      <td>1.758753</td>\n",
       "      <td>-1.07702</td>\n",
       "      <td>1.320394</td>\n",
       "      <td>-0.395739</td>\n",
       "      <td>1.986769</td>\n",
       "      <td>-0.697683</td>\n",
       "      <td>0.232728</td>\n",
       "      <td>1.39572</td>\n",
       "    </tr>\n",
       "    <tr>\n",
       "      <th>2</th>\n",
       "      <td>0.283858</td>\n",
       "      <td>-0.253263</td>\n",
       "      <td>-1.735223</td>\n",
       "      <td>0.256223</td>\n",
       "      <td>-3.557089</td>\n",
       "      <td>0.247318</td>\n",
       "      <td>-1.198691</td>\n",
       "      <td>0.276276</td>\n",
       "      <td>-1.563531</td>\n",
       "      <td>0.578335</td>\n",
       "      <td>...</td>\n",
       "      <td>-0.727572</td>\n",
       "      <td>0.280196</td>\n",
       "      <td>1.758753</td>\n",
       "      <td>-1.07702</td>\n",
       "      <td>1.320394</td>\n",
       "      <td>-0.395739</td>\n",
       "      <td>1.986769</td>\n",
       "      <td>-0.697683</td>\n",
       "      <td>0.232728</td>\n",
       "      <td>1.39572</td>\n",
       "    </tr>\n",
       "    <tr>\n",
       "      <th>3</th>\n",
       "      <td>3.528278</td>\n",
       "      <td>0.597382</td>\n",
       "      <td>-0.314363</td>\n",
       "      <td>0.398499</td>\n",
       "      <td>-1.982933</td>\n",
       "      <td>1.045505</td>\n",
       "      <td>-0.921516</td>\n",
       "      <td>1.723539</td>\n",
       "      <td>-0.844236</td>\n",
       "      <td>1.390821</td>\n",
       "      <td>...</td>\n",
       "      <td>0.496647</td>\n",
       "      <td>0.043464</td>\n",
       "      <td>1.758753</td>\n",
       "      <td>-1.07702</td>\n",
       "      <td>1.198025</td>\n",
       "      <td>-0.661765</td>\n",
       "      <td>1.986769</td>\n",
       "      <td>-0.697683</td>\n",
       "      <td>0.232728</td>\n",
       "      <td>1.39572</td>\n",
       "    </tr>\n",
       "    <tr>\n",
       "      <th>4</th>\n",
       "      <td>-0.249929</td>\n",
       "      <td>-0.960244</td>\n",
       "      <td>-0.146684</td>\n",
       "      <td>0.008389</td>\n",
       "      <td>-0.066103</td>\n",
       "      <td>0.461719</td>\n",
       "      <td>0.306127</td>\n",
       "      <td>-0.077024</td>\n",
       "      <td>0.226917</td>\n",
       "      <td>0.942457</td>\n",
       "      <td>...</td>\n",
       "      <td>-1.031816</td>\n",
       "      <td>0.914299</td>\n",
       "      <td>1.758753</td>\n",
       "      <td>-1.07702</td>\n",
       "      <td>1.198025</td>\n",
       "      <td>-0.661765</td>\n",
       "      <td>1.986769</td>\n",
       "      <td>-0.697683</td>\n",
       "      <td>0.232728</td>\n",
       "      <td>1.39572</td>\n",
       "    </tr>\n",
       "  </tbody>\n",
       "</table>\n",
       "<p>5 rows × 29 columns</p>\n",
       "</div>"
      ],
      "text/plain": [
       "   hora_sin  mandante_chutes  visitante_chutes  mandante_chutes_no_alvo  \\\n",
       "0 -0.667244        -0.503856         -1.163103                -0.693566   \n",
       "1 -0.665172         1.342169          1.578629                 0.577490   \n",
       "2  0.283858        -0.253263         -1.735223                 0.256223   \n",
       "3  3.528278         0.597382         -0.314363                 0.398499   \n",
       "4 -0.249929        -0.960244         -0.146684                 0.008389   \n",
       "\n",
       "   visitante_chutes_no_alvo  mandante_posse_de_bola  visitante_posse_de_bola  \\\n",
       "0                 -1.324889               -1.201166                -0.672772   \n",
       "1                  0.552568                0.450870                 1.343022   \n",
       "2                 -3.557089                0.247318                -1.198691   \n",
       "3                 -1.982933                1.045505                -0.921516   \n",
       "4                 -0.066103                0.461719                 0.306127   \n",
       "\n",
       "   mandante_passes  visitante_passes  mandante_precisao_passes  ...  \\\n",
       "0        -1.375292         -0.843699                 -1.878253  ...   \n",
       "1         0.000432          1.294262                 -0.048304  ...   \n",
       "2         0.276276         -1.563531                  0.578335  ...   \n",
       "3         1.723539         -0.844236                  1.390821  ...   \n",
       "4        -0.077024          0.226917                  0.942457  ...   \n",
       "\n",
       "   mandante_escanteios  visitante_escanteios   mes_sin  mes_cos  \\\n",
       "0            -0.448971             -1.145905  1.758753 -1.07702   \n",
       "1             0.735696              1.548019  1.758753 -1.07702   \n",
       "2            -0.727572              0.280196  1.758753 -1.07702   \n",
       "3             0.496647              0.043464  1.758753 -1.07702   \n",
       "4            -1.031816              0.914299  1.758753 -1.07702   \n",
       "\n",
       "   dia_do_mes_sin  dia_do_mes_cos  semana_do_ano_sin  semana_do_ano_cos  \\\n",
       "0        1.320394       -0.395739           1.986769          -0.697683   \n",
       "1        1.320394       -0.395739           1.986769          -0.697683   \n",
       "2        1.320394       -0.395739           1.986769          -0.697683   \n",
       "3        1.198025       -0.661765           1.986769          -0.697683   \n",
       "4        1.198025       -0.661765           1.986769          -0.697683   \n",
       "\n",
       "   rodadas_sin  rodadas_cos  \n",
       "0     0.232728      1.39572  \n",
       "1     0.232728      1.39572  \n",
       "2     0.232728      1.39572  \n",
       "3     0.232728      1.39572  \n",
       "4     0.232728      1.39572  \n",
       "\n",
       "[5 rows x 29 columns]"
      ]
     },
     "execution_count": 141,
     "metadata": {},
     "output_type": "execute_result"
    }
   ],
   "source": [
    "df3_numeric_scaled.head()"
   ]
  },
  {
   "cell_type": "code",
   "execution_count": 142,
   "id": "26c1ad73",
   "metadata": {
    "ExecuteTime": {
     "end_time": "2022-03-18T14:35:39.953103Z",
     "start_time": "2022-03-18T14:35:39.945202Z"
    }
   },
   "outputs": [],
   "source": [
    "df3_final = pd.concat([df3_cat_dummies, df3_numeric_scaled, df3_target], axis =1)"
   ]
  },
  {
   "cell_type": "code",
   "execution_count": 143,
   "id": "29d33c1e",
   "metadata": {
    "ExecuteTime": {
     "end_time": "2022-03-18T14:35:40.099994Z",
     "start_time": "2022-03-18T14:35:40.078899Z"
    }
   },
   "outputs": [
    {
     "data": {
      "text/html": [
       "<div>\n",
       "<style scoped>\n",
       "    .dataframe tbody tr th:only-of-type {\n",
       "        vertical-align: middle;\n",
       "    }\n",
       "\n",
       "    .dataframe tbody tr th {\n",
       "        vertical-align: top;\n",
       "    }\n",
       "\n",
       "    .dataframe thead th {\n",
       "        text-align: right;\n",
       "    }\n",
       "</style>\n",
       "<table border=\"1\" class=\"dataframe\">\n",
       "  <thead>\n",
       "    <tr style=\"text-align: right;\">\n",
       "      <th></th>\n",
       "      <th>mandante_America-MG</th>\n",
       "      <th>mandante_Athletico-PR</th>\n",
       "      <th>mandante_Atletico-GO</th>\n",
       "      <th>mandante_Atletico-MG</th>\n",
       "      <th>mandante_Avai</th>\n",
       "      <th>mandante_Bahia</th>\n",
       "      <th>mandante_Botafogo-RJ</th>\n",
       "      <th>mandante_Bragantino</th>\n",
       "      <th>mandante_CSA</th>\n",
       "      <th>mandante_Ceara</th>\n",
       "      <th>...</th>\n",
       "      <th>visitante_escanteios</th>\n",
       "      <th>mes_sin</th>\n",
       "      <th>mes_cos</th>\n",
       "      <th>dia_do_mes_sin</th>\n",
       "      <th>dia_do_mes_cos</th>\n",
       "      <th>semana_do_ano_sin</th>\n",
       "      <th>semana_do_ano_cos</th>\n",
       "      <th>rodadas_sin</th>\n",
       "      <th>rodadas_cos</th>\n",
       "      <th>resultado_final</th>\n",
       "    </tr>\n",
       "  </thead>\n",
       "  <tbody>\n",
       "    <tr>\n",
       "      <th>0</th>\n",
       "      <td>0</td>\n",
       "      <td>0</td>\n",
       "      <td>0</td>\n",
       "      <td>0</td>\n",
       "      <td>0</td>\n",
       "      <td>0</td>\n",
       "      <td>0</td>\n",
       "      <td>0</td>\n",
       "      <td>0</td>\n",
       "      <td>0</td>\n",
       "      <td>...</td>\n",
       "      <td>-1.145905</td>\n",
       "      <td>1.758753</td>\n",
       "      <td>-1.077020</td>\n",
       "      <td>1.320394</td>\n",
       "      <td>-0.395739</td>\n",
       "      <td>1.986769</td>\n",
       "      <td>-0.697683</td>\n",
       "      <td>2.327281e-01</td>\n",
       "      <td>1.395720</td>\n",
       "      <td>1</td>\n",
       "    </tr>\n",
       "    <tr>\n",
       "      <th>1</th>\n",
       "      <td>0</td>\n",
       "      <td>0</td>\n",
       "      <td>0</td>\n",
       "      <td>0</td>\n",
       "      <td>0</td>\n",
       "      <td>0</td>\n",
       "      <td>0</td>\n",
       "      <td>0</td>\n",
       "      <td>0</td>\n",
       "      <td>0</td>\n",
       "      <td>...</td>\n",
       "      <td>1.548019</td>\n",
       "      <td>1.758753</td>\n",
       "      <td>-1.077020</td>\n",
       "      <td>1.320394</td>\n",
       "      <td>-0.395739</td>\n",
       "      <td>1.986769</td>\n",
       "      <td>-0.697683</td>\n",
       "      <td>2.327281e-01</td>\n",
       "      <td>1.395720</td>\n",
       "      <td>0</td>\n",
       "    </tr>\n",
       "    <tr>\n",
       "      <th>2</th>\n",
       "      <td>0</td>\n",
       "      <td>0</td>\n",
       "      <td>0</td>\n",
       "      <td>0</td>\n",
       "      <td>0</td>\n",
       "      <td>0</td>\n",
       "      <td>0</td>\n",
       "      <td>0</td>\n",
       "      <td>0</td>\n",
       "      <td>0</td>\n",
       "      <td>...</td>\n",
       "      <td>0.280196</td>\n",
       "      <td>1.758753</td>\n",
       "      <td>-1.077020</td>\n",
       "      <td>1.320394</td>\n",
       "      <td>-0.395739</td>\n",
       "      <td>1.986769</td>\n",
       "      <td>-0.697683</td>\n",
       "      <td>2.327281e-01</td>\n",
       "      <td>1.395720</td>\n",
       "      <td>1</td>\n",
       "    </tr>\n",
       "    <tr>\n",
       "      <th>3</th>\n",
       "      <td>0</td>\n",
       "      <td>0</td>\n",
       "      <td>0</td>\n",
       "      <td>0</td>\n",
       "      <td>0</td>\n",
       "      <td>0</td>\n",
       "      <td>0</td>\n",
       "      <td>0</td>\n",
       "      <td>0</td>\n",
       "      <td>0</td>\n",
       "      <td>...</td>\n",
       "      <td>0.043464</td>\n",
       "      <td>1.758753</td>\n",
       "      <td>-1.077020</td>\n",
       "      <td>1.198025</td>\n",
       "      <td>-0.661765</td>\n",
       "      <td>1.986769</td>\n",
       "      <td>-0.697683</td>\n",
       "      <td>2.327281e-01</td>\n",
       "      <td>1.395720</td>\n",
       "      <td>0</td>\n",
       "    </tr>\n",
       "    <tr>\n",
       "      <th>4</th>\n",
       "      <td>0</td>\n",
       "      <td>1</td>\n",
       "      <td>0</td>\n",
       "      <td>0</td>\n",
       "      <td>0</td>\n",
       "      <td>0</td>\n",
       "      <td>0</td>\n",
       "      <td>0</td>\n",
       "      <td>0</td>\n",
       "      <td>0</td>\n",
       "      <td>...</td>\n",
       "      <td>0.914299</td>\n",
       "      <td>1.758753</td>\n",
       "      <td>-1.077020</td>\n",
       "      <td>1.198025</td>\n",
       "      <td>-0.661765</td>\n",
       "      <td>1.986769</td>\n",
       "      <td>-0.697683</td>\n",
       "      <td>2.327281e-01</td>\n",
       "      <td>1.395720</td>\n",
       "      <td>1</td>\n",
       "    </tr>\n",
       "    <tr>\n",
       "      <th>...</th>\n",
       "      <td>...</td>\n",
       "      <td>...</td>\n",
       "      <td>...</td>\n",
       "      <td>...</td>\n",
       "      <td>...</td>\n",
       "      <td>...</td>\n",
       "      <td>...</td>\n",
       "      <td>...</td>\n",
       "      <td>...</td>\n",
       "      <td>...</td>\n",
       "      <td>...</td>\n",
       "      <td>...</td>\n",
       "      <td>...</td>\n",
       "      <td>...</td>\n",
       "      <td>...</td>\n",
       "      <td>...</td>\n",
       "      <td>...</td>\n",
       "      <td>...</td>\n",
       "      <td>...</td>\n",
       "      <td>...</td>\n",
       "      <td>...</td>\n",
       "    </tr>\n",
       "    <tr>\n",
       "      <th>2654</th>\n",
       "      <td>0</td>\n",
       "      <td>0</td>\n",
       "      <td>0</td>\n",
       "      <td>0</td>\n",
       "      <td>0</td>\n",
       "      <td>0</td>\n",
       "      <td>0</td>\n",
       "      <td>1</td>\n",
       "      <td>0</td>\n",
       "      <td>0</td>\n",
       "      <td>...</td>\n",
       "      <td>0.914299</td>\n",
       "      <td>0.817046</td>\n",
       "      <td>1.505231</td>\n",
       "      <td>0.797610</td>\n",
       "      <td>-1.092203</td>\n",
       "      <td>0.076954</td>\n",
       "      <td>1.624427</td>\n",
       "      <td>-2.858633e-16</td>\n",
       "      <td>1.415012</td>\n",
       "      <td>1</td>\n",
       "    </tr>\n",
       "    <tr>\n",
       "      <th>2655</th>\n",
       "      <td>0</td>\n",
       "      <td>0</td>\n",
       "      <td>0</td>\n",
       "      <td>0</td>\n",
       "      <td>0</td>\n",
       "      <td>0</td>\n",
       "      <td>0</td>\n",
       "      <td>0</td>\n",
       "      <td>0</td>\n",
       "      <td>0</td>\n",
       "      <td>...</td>\n",
       "      <td>-1.031491</td>\n",
       "      <td>0.817046</td>\n",
       "      <td>1.505231</td>\n",
       "      <td>0.797610</td>\n",
       "      <td>-1.092203</td>\n",
       "      <td>0.076954</td>\n",
       "      <td>1.624427</td>\n",
       "      <td>-2.858633e-16</td>\n",
       "      <td>1.415012</td>\n",
       "      <td>0</td>\n",
       "    </tr>\n",
       "    <tr>\n",
       "      <th>2656</th>\n",
       "      <td>0</td>\n",
       "      <td>0</td>\n",
       "      <td>0</td>\n",
       "      <td>0</td>\n",
       "      <td>0</td>\n",
       "      <td>0</td>\n",
       "      <td>0</td>\n",
       "      <td>0</td>\n",
       "      <td>0</td>\n",
       "      <td>0</td>\n",
       "      <td>...</td>\n",
       "      <td>0.193233</td>\n",
       "      <td>0.817046</td>\n",
       "      <td>1.505231</td>\n",
       "      <td>0.797610</td>\n",
       "      <td>-1.092203</td>\n",
       "      <td>0.076954</td>\n",
       "      <td>1.624427</td>\n",
       "      <td>-2.858633e-16</td>\n",
       "      <td>1.415012</td>\n",
       "      <td>1</td>\n",
       "    </tr>\n",
       "    <tr>\n",
       "      <th>2657</th>\n",
       "      <td>0</td>\n",
       "      <td>0</td>\n",
       "      <td>0</td>\n",
       "      <td>0</td>\n",
       "      <td>0</td>\n",
       "      <td>0</td>\n",
       "      <td>0</td>\n",
       "      <td>0</td>\n",
       "      <td>0</td>\n",
       "      <td>0</td>\n",
       "      <td>...</td>\n",
       "      <td>1.548019</td>\n",
       "      <td>0.817046</td>\n",
       "      <td>1.505231</td>\n",
       "      <td>0.797610</td>\n",
       "      <td>-1.092203</td>\n",
       "      <td>0.076954</td>\n",
       "      <td>1.624427</td>\n",
       "      <td>-2.858633e-16</td>\n",
       "      <td>1.415012</td>\n",
       "      <td>1</td>\n",
       "    </tr>\n",
       "    <tr>\n",
       "      <th>2658</th>\n",
       "      <td>0</td>\n",
       "      <td>0</td>\n",
       "      <td>0</td>\n",
       "      <td>0</td>\n",
       "      <td>0</td>\n",
       "      <td>0</td>\n",
       "      <td>0</td>\n",
       "      <td>0</td>\n",
       "      <td>0</td>\n",
       "      <td>0</td>\n",
       "      <td>...</td>\n",
       "      <td>-2.864954</td>\n",
       "      <td>0.817046</td>\n",
       "      <td>1.505231</td>\n",
       "      <td>0.797610</td>\n",
       "      <td>-1.092203</td>\n",
       "      <td>0.076954</td>\n",
       "      <td>1.624427</td>\n",
       "      <td>-2.858633e-16</td>\n",
       "      <td>1.415012</td>\n",
       "      <td>0</td>\n",
       "    </tr>\n",
       "  </tbody>\n",
       "</table>\n",
       "<p>2659 rows × 96 columns</p>\n",
       "</div>"
      ],
      "text/plain": [
       "      mandante_America-MG  mandante_Athletico-PR  mandante_Atletico-GO  \\\n",
       "0                       0                      0                     0   \n",
       "1                       0                      0                     0   \n",
       "2                       0                      0                     0   \n",
       "3                       0                      0                     0   \n",
       "4                       0                      1                     0   \n",
       "...                   ...                    ...                   ...   \n",
       "2654                    0                      0                     0   \n",
       "2655                    0                      0                     0   \n",
       "2656                    0                      0                     0   \n",
       "2657                    0                      0                     0   \n",
       "2658                    0                      0                     0   \n",
       "\n",
       "      mandante_Atletico-MG  mandante_Avai  mandante_Bahia  \\\n",
       "0                        0              0               0   \n",
       "1                        0              0               0   \n",
       "2                        0              0               0   \n",
       "3                        0              0               0   \n",
       "4                        0              0               0   \n",
       "...                    ...            ...             ...   \n",
       "2654                     0              0               0   \n",
       "2655                     0              0               0   \n",
       "2656                     0              0               0   \n",
       "2657                     0              0               0   \n",
       "2658                     0              0               0   \n",
       "\n",
       "      mandante_Botafogo-RJ  mandante_Bragantino  mandante_CSA  mandante_Ceara  \\\n",
       "0                        0                    0             0               0   \n",
       "1                        0                    0             0               0   \n",
       "2                        0                    0             0               0   \n",
       "3                        0                    0             0               0   \n",
       "4                        0                    0             0               0   \n",
       "...                    ...                  ...           ...             ...   \n",
       "2654                     0                    1             0               0   \n",
       "2655                     0                    0             0               0   \n",
       "2656                     0                    0             0               0   \n",
       "2657                     0                    0             0               0   \n",
       "2658                     0                    0             0               0   \n",
       "\n",
       "      ...  visitante_escanteios   mes_sin   mes_cos  dia_do_mes_sin  \\\n",
       "0     ...             -1.145905  1.758753 -1.077020        1.320394   \n",
       "1     ...              1.548019  1.758753 -1.077020        1.320394   \n",
       "2     ...              0.280196  1.758753 -1.077020        1.320394   \n",
       "3     ...              0.043464  1.758753 -1.077020        1.198025   \n",
       "4     ...              0.914299  1.758753 -1.077020        1.198025   \n",
       "...   ...                   ...       ...       ...             ...   \n",
       "2654  ...              0.914299  0.817046  1.505231        0.797610   \n",
       "2655  ...             -1.031491  0.817046  1.505231        0.797610   \n",
       "2656  ...              0.193233  0.817046  1.505231        0.797610   \n",
       "2657  ...              1.548019  0.817046  1.505231        0.797610   \n",
       "2658  ...             -2.864954  0.817046  1.505231        0.797610   \n",
       "\n",
       "      dia_do_mes_cos  semana_do_ano_sin  semana_do_ano_cos   rodadas_sin  \\\n",
       "0          -0.395739           1.986769          -0.697683  2.327281e-01   \n",
       "1          -0.395739           1.986769          -0.697683  2.327281e-01   \n",
       "2          -0.395739           1.986769          -0.697683  2.327281e-01   \n",
       "3          -0.661765           1.986769          -0.697683  2.327281e-01   \n",
       "4          -0.661765           1.986769          -0.697683  2.327281e-01   \n",
       "...              ...                ...                ...           ...   \n",
       "2654       -1.092203           0.076954           1.624427 -2.858633e-16   \n",
       "2655       -1.092203           0.076954           1.624427 -2.858633e-16   \n",
       "2656       -1.092203           0.076954           1.624427 -2.858633e-16   \n",
       "2657       -1.092203           0.076954           1.624427 -2.858633e-16   \n",
       "2658       -1.092203           0.076954           1.624427 -2.858633e-16   \n",
       "\n",
       "      rodadas_cos  resultado_final  \n",
       "0        1.395720                1  \n",
       "1        1.395720                0  \n",
       "2        1.395720                1  \n",
       "3        1.395720                0  \n",
       "4        1.395720                1  \n",
       "...           ...              ...  \n",
       "2654     1.415012                1  \n",
       "2655     1.415012                0  \n",
       "2656     1.415012                1  \n",
       "2657     1.415012                1  \n",
       "2658     1.415012                0  \n",
       "\n",
       "[2659 rows x 96 columns]"
      ]
     },
     "execution_count": 143,
     "metadata": {},
     "output_type": "execute_result"
    }
   ],
   "source": [
    "df3_final"
   ]
  },
  {
   "cell_type": "markdown",
   "id": "356beb22",
   "metadata": {},
   "source": [
    "# 4.0 Feature selection and scaling "
   ]
  },
  {
   "cell_type": "code",
   "execution_count": 144,
   "id": "853aba73",
   "metadata": {
    "ExecuteTime": {
     "end_time": "2022-03-18T14:35:46.626687Z",
     "start_time": "2022-03-18T14:35:46.620246Z"
    }
   },
   "outputs": [],
   "source": [
    "df4 = df3_final.copy()"
   ]
  },
  {
   "cell_type": "code",
   "execution_count": 145,
   "id": "535854d4",
   "metadata": {
    "ExecuteTime": {
     "end_time": "2022-03-18T14:35:46.766179Z",
     "start_time": "2022-03-18T14:35:46.757261Z"
    }
   },
   "outputs": [],
   "source": [
    "df4 = df4.dropna()"
   ]
  },
  {
   "cell_type": "code",
   "execution_count": 146,
   "id": "004fd3d1",
   "metadata": {
    "ExecuteTime": {
     "end_time": "2022-03-18T14:35:46.918280Z",
     "start_time": "2022-03-18T14:35:46.896028Z"
    }
   },
   "outputs": [
    {
     "data": {
      "text/html": [
       "<div>\n",
       "<style scoped>\n",
       "    .dataframe tbody tr th:only-of-type {\n",
       "        vertical-align: middle;\n",
       "    }\n",
       "\n",
       "    .dataframe tbody tr th {\n",
       "        vertical-align: top;\n",
       "    }\n",
       "\n",
       "    .dataframe thead th {\n",
       "        text-align: right;\n",
       "    }\n",
       "</style>\n",
       "<table border=\"1\" class=\"dataframe\">\n",
       "  <thead>\n",
       "    <tr style=\"text-align: right;\">\n",
       "      <th></th>\n",
       "      <th>mandante_America-MG</th>\n",
       "      <th>mandante_Athletico-PR</th>\n",
       "      <th>mandante_Atletico-GO</th>\n",
       "      <th>mandante_Atletico-MG</th>\n",
       "      <th>mandante_Avai</th>\n",
       "      <th>mandante_Bahia</th>\n",
       "      <th>mandante_Botafogo-RJ</th>\n",
       "      <th>mandante_Bragantino</th>\n",
       "      <th>mandante_CSA</th>\n",
       "      <th>mandante_Ceara</th>\n",
       "      <th>...</th>\n",
       "      <th>visitante_escanteios</th>\n",
       "      <th>mes_sin</th>\n",
       "      <th>mes_cos</th>\n",
       "      <th>dia_do_mes_sin</th>\n",
       "      <th>dia_do_mes_cos</th>\n",
       "      <th>semana_do_ano_sin</th>\n",
       "      <th>semana_do_ano_cos</th>\n",
       "      <th>rodadas_sin</th>\n",
       "      <th>rodadas_cos</th>\n",
       "      <th>resultado_final</th>\n",
       "    </tr>\n",
       "  </thead>\n",
       "  <tbody>\n",
       "    <tr>\n",
       "      <th>0</th>\n",
       "      <td>0</td>\n",
       "      <td>0</td>\n",
       "      <td>0</td>\n",
       "      <td>0</td>\n",
       "      <td>0</td>\n",
       "      <td>0</td>\n",
       "      <td>0</td>\n",
       "      <td>0</td>\n",
       "      <td>0</td>\n",
       "      <td>0</td>\n",
       "      <td>...</td>\n",
       "      <td>-1.145905</td>\n",
       "      <td>1.758753</td>\n",
       "      <td>-1.07702</td>\n",
       "      <td>1.320394</td>\n",
       "      <td>-0.395739</td>\n",
       "      <td>1.986769</td>\n",
       "      <td>-0.697683</td>\n",
       "      <td>0.232728</td>\n",
       "      <td>1.39572</td>\n",
       "      <td>1</td>\n",
       "    </tr>\n",
       "    <tr>\n",
       "      <th>1</th>\n",
       "      <td>0</td>\n",
       "      <td>0</td>\n",
       "      <td>0</td>\n",
       "      <td>0</td>\n",
       "      <td>0</td>\n",
       "      <td>0</td>\n",
       "      <td>0</td>\n",
       "      <td>0</td>\n",
       "      <td>0</td>\n",
       "      <td>0</td>\n",
       "      <td>...</td>\n",
       "      <td>1.548019</td>\n",
       "      <td>1.758753</td>\n",
       "      <td>-1.07702</td>\n",
       "      <td>1.320394</td>\n",
       "      <td>-0.395739</td>\n",
       "      <td>1.986769</td>\n",
       "      <td>-0.697683</td>\n",
       "      <td>0.232728</td>\n",
       "      <td>1.39572</td>\n",
       "      <td>0</td>\n",
       "    </tr>\n",
       "    <tr>\n",
       "      <th>4</th>\n",
       "      <td>0</td>\n",
       "      <td>1</td>\n",
       "      <td>0</td>\n",
       "      <td>0</td>\n",
       "      <td>0</td>\n",
       "      <td>0</td>\n",
       "      <td>0</td>\n",
       "      <td>0</td>\n",
       "      <td>0</td>\n",
       "      <td>0</td>\n",
       "      <td>...</td>\n",
       "      <td>0.914299</td>\n",
       "      <td>1.758753</td>\n",
       "      <td>-1.07702</td>\n",
       "      <td>1.198025</td>\n",
       "      <td>-0.661765</td>\n",
       "      <td>1.986769</td>\n",
       "      <td>-0.697683</td>\n",
       "      <td>0.232728</td>\n",
       "      <td>1.39572</td>\n",
       "      <td>1</td>\n",
       "    </tr>\n",
       "    <tr>\n",
       "      <th>5</th>\n",
       "      <td>0</td>\n",
       "      <td>0</td>\n",
       "      <td>0</td>\n",
       "      <td>0</td>\n",
       "      <td>0</td>\n",
       "      <td>0</td>\n",
       "      <td>0</td>\n",
       "      <td>0</td>\n",
       "      <td>0</td>\n",
       "      <td>0</td>\n",
       "      <td>...</td>\n",
       "      <td>1.968721</td>\n",
       "      <td>1.758753</td>\n",
       "      <td>-1.07702</td>\n",
       "      <td>1.198025</td>\n",
       "      <td>-0.661765</td>\n",
       "      <td>1.986769</td>\n",
       "      <td>-0.697683</td>\n",
       "      <td>0.232728</td>\n",
       "      <td>1.39572</td>\n",
       "      <td>1</td>\n",
       "    </tr>\n",
       "    <tr>\n",
       "      <th>6</th>\n",
       "      <td>0</td>\n",
       "      <td>0</td>\n",
       "      <td>0</td>\n",
       "      <td>0</td>\n",
       "      <td>0</td>\n",
       "      <td>0</td>\n",
       "      <td>0</td>\n",
       "      <td>0</td>\n",
       "      <td>0</td>\n",
       "      <td>0</td>\n",
       "      <td>...</td>\n",
       "      <td>0.193233</td>\n",
       "      <td>1.758753</td>\n",
       "      <td>-1.07702</td>\n",
       "      <td>1.198025</td>\n",
       "      <td>-0.661765</td>\n",
       "      <td>1.986769</td>\n",
       "      <td>-0.697683</td>\n",
       "      <td>0.232728</td>\n",
       "      <td>1.39572</td>\n",
       "      <td>2</td>\n",
       "    </tr>\n",
       "  </tbody>\n",
       "</table>\n",
       "<p>5 rows × 96 columns</p>\n",
       "</div>"
      ],
      "text/plain": [
       "   mandante_America-MG  mandante_Athletico-PR  mandante_Atletico-GO  \\\n",
       "0                    0                      0                     0   \n",
       "1                    0                      0                     0   \n",
       "4                    0                      1                     0   \n",
       "5                    0                      0                     0   \n",
       "6                    0                      0                     0   \n",
       "\n",
       "   mandante_Atletico-MG  mandante_Avai  mandante_Bahia  mandante_Botafogo-RJ  \\\n",
       "0                     0              0               0                     0   \n",
       "1                     0              0               0                     0   \n",
       "4                     0              0               0                     0   \n",
       "5                     0              0               0                     0   \n",
       "6                     0              0               0                     0   \n",
       "\n",
       "   mandante_Bragantino  mandante_CSA  mandante_Ceara  ...  \\\n",
       "0                    0             0               0  ...   \n",
       "1                    0             0               0  ...   \n",
       "4                    0             0               0  ...   \n",
       "5                    0             0               0  ...   \n",
       "6                    0             0               0  ...   \n",
       "\n",
       "   visitante_escanteios   mes_sin  mes_cos  dia_do_mes_sin  dia_do_mes_cos  \\\n",
       "0             -1.145905  1.758753 -1.07702        1.320394       -0.395739   \n",
       "1              1.548019  1.758753 -1.07702        1.320394       -0.395739   \n",
       "4              0.914299  1.758753 -1.07702        1.198025       -0.661765   \n",
       "5              1.968721  1.758753 -1.07702        1.198025       -0.661765   \n",
       "6              0.193233  1.758753 -1.07702        1.198025       -0.661765   \n",
       "\n",
       "   semana_do_ano_sin  semana_do_ano_cos  rodadas_sin  rodadas_cos  \\\n",
       "0           1.986769          -0.697683     0.232728      1.39572   \n",
       "1           1.986769          -0.697683     0.232728      1.39572   \n",
       "4           1.986769          -0.697683     0.232728      1.39572   \n",
       "5           1.986769          -0.697683     0.232728      1.39572   \n",
       "6           1.986769          -0.697683     0.232728      1.39572   \n",
       "\n",
       "   resultado_final  \n",
       "0                1  \n",
       "1                0  \n",
       "4                1  \n",
       "5                1  \n",
       "6                2  \n",
       "\n",
       "[5 rows x 96 columns]"
      ]
     },
     "execution_count": 146,
     "metadata": {},
     "output_type": "execute_result"
    }
   ],
   "source": [
    "df4.head()"
   ]
  },
  {
   "cell_type": "code",
   "execution_count": 184,
   "id": "62a7f358",
   "metadata": {
    "ExecuteTime": {
     "end_time": "2022-03-18T14:37:04.808697Z",
     "start_time": "2022-03-18T14:37:04.803343Z"
    }
   },
   "outputs": [],
   "source": [
    "X = df4.drop(['resultado_final'], axis=1)\n",
    "y = df4.resultado_final"
   ]
  },
  {
   "cell_type": "code",
   "execution_count": 185,
   "id": "9b016aa6",
   "metadata": {
    "ExecuteTime": {
     "end_time": "2022-03-18T14:37:04.816075Z",
     "start_time": "2022-03-18T14:37:04.811151Z"
    }
   },
   "outputs": [],
   "source": [
    "X_train, X_test, y_train, y_test = train_test_split(X, y,shuffle=True)"
   ]
  },
  {
   "cell_type": "code",
   "execution_count": 186,
   "id": "c964ca3f",
   "metadata": {
    "ExecuteTime": {
     "end_time": "2022-03-18T14:37:04.822969Z",
     "start_time": "2022-03-18T14:37:04.819636Z"
    }
   },
   "outputs": [],
   "source": [
    "undersampling = RandomUnderSampler(random_state=32)"
   ]
  },
  {
   "cell_type": "code",
   "execution_count": 187,
   "id": "a9567861",
   "metadata": {
    "ExecuteTime": {
     "end_time": "2022-03-18T14:37:04.846215Z",
     "start_time": "2022-03-18T14:37:04.824923Z"
    }
   },
   "outputs": [],
   "source": [
    "X_train, y_train = undersampling.fit_resample(X_train, y_train)"
   ]
  },
  {
   "cell_type": "code",
   "execution_count": 188,
   "id": "de0c02d4",
   "metadata": {
    "ExecuteTime": {
     "end_time": "2022-03-18T14:37:04.942354Z",
     "start_time": "2022-03-18T14:37:04.847910Z"
    }
   },
   "outputs": [
    {
     "data": {
      "text/plain": [
       "<AxesSubplot:xlabel='resultado_final', ylabel='count'>"
      ]
     },
     "execution_count": 188,
     "metadata": {},
     "output_type": "execute_result"
    },
    {
     "data": {
      "image/png": "[encoded data removed]",
      "text/plain": [
       "<Figure size 432x288 with 1 Axes>"
      ]
     },
     "metadata": {
      "needs_background": "light"
     },
     "output_type": "display_data"
    }
   ],
   "source": [
    "sns.countplot(y_train)"
   ]
  },
  {
   "cell_type": "markdown",
   "id": "e0204b6a",
   "metadata": {},
   "source": [
    "# 5.0 Machine Learning Models "
   ]
  },
  {
   "cell_type": "markdown",
   "id": "e9bde165",
   "metadata": {},
   "source": [
    "## 5.1 Logistic Regression "
   ]
  },
  {
   "cell_type": "code",
   "execution_count": 189,
   "id": "3c3e4606",
   "metadata": {
    "ExecuteTime": {
     "end_time": "2022-03-18T14:37:05.185098Z",
     "start_time": "2022-03-18T14:37:04.944126Z"
    }
   },
   "outputs": [],
   "source": [
    "clf_lg = LogisticRegression().fit(X_train, y_train)\n",
    "y_hat_lg = clf_lg.predict(X_test)"
   ]
  },
  {
   "cell_type": "code",
   "execution_count": 190,
   "id": "ab386e06",
   "metadata": {
    "ExecuteTime": {
     "end_time": "2022-03-18T14:37:05.196674Z",
     "start_time": "2022-03-18T14:37:05.189098Z"
    }
   },
   "outputs": [
    {
     "data": {
      "text/plain": [
       "0.4152823920265781"
      ]
     },
     "execution_count": 190,
     "metadata": {},
     "output_type": "execute_result"
    }
   ],
   "source": [
    "accuracy_score(y_test, y_hat_lg)"
   ]
  },
  {
   "cell_type": "code",
   "execution_count": 191,
   "id": "e113aa05",
   "metadata": {
    "ExecuteTime": {
     "end_time": "2022-03-18T14:37:05.356341Z",
     "start_time": "2022-03-18T14:37:05.198396Z"
    }
   },
   "outputs": [
    {
     "data": {
      "image/png": "[encoded data removed]",
      "text/plain": [
       "<Figure size 432x288 with 2 Axes>"
      ]
     },
     "metadata": {
      "needs_background": "light"
     },
     "output_type": "display_data"
    }
   ],
   "source": [
    "sns.heatmap(confusion_matrix(y_test, y_hat_lg, normalize='true'), annot=True);"
   ]
  },
  {
   "cell_type": "code",
   "execution_count": 192,
   "id": "0b2a62b4",
   "metadata": {
    "ExecuteTime": {
     "end_time": "2022-03-18T14:37:05.365682Z",
     "start_time": "2022-03-18T14:37:05.358161Z"
    }
   },
   "outputs": [
    {
     "name": "stdout",
     "output_type": "stream",
     "text": [
      "              precision    recall  f1-score   support\n",
      "\n",
      "           0       0.33      0.34      0.33       169\n",
      "           1       0.59      0.48      0.53       288\n",
      "           2       0.28      0.37      0.32       145\n",
      "\n",
      "    accuracy                           0.42       602\n",
      "   macro avg       0.40      0.40      0.39       602\n",
      "weighted avg       0.44      0.42      0.42       602\n",
      "\n"
     ]
    }
   ],
   "source": [
    "print(classification_report(y_test, y_hat_lg))"
   ]
  },
  {
   "cell_type": "markdown",
   "id": "97562ef9",
   "metadata": {},
   "source": [
    "## 5.2 XGBoost "
   ]
  },
  {
   "cell_type": "code",
   "execution_count": 193,
   "id": "ccf54b7d",
   "metadata": {
    "ExecuteTime": {
     "end_time": "2022-03-18T14:37:12.759301Z",
     "start_time": "2022-03-18T14:37:05.368782Z"
    }
   },
   "outputs": [
    {
     "name": "stdout",
     "output_type": "stream",
     "text": [
      "[11:37:11] WARNING: ../src/learner.cc:1115: Starting in XGBoost 1.3.0, the default evaluation metric used with the objective 'multi:softprob' was changed from 'merror' to 'mlogloss'. Explicitly set eval_metric if you'd like to restore the old behavior.\n"
     ]
    }
   ],
   "source": [
    "clf_xgb = xgb.XGBRFClassifier(n_estimators = 1000).fit(X_train, y_train)\n",
    "yhat_xgb = clf_xgb.predict(X_test)"
   ]
  },
  {
   "cell_type": "code",
   "execution_count": 194,
   "id": "4f31c151",
   "metadata": {
    "ExecuteTime": {
     "end_time": "2022-03-18T14:37:12.764796Z",
     "start_time": "2022-03-18T14:37:12.760775Z"
    }
   },
   "outputs": [
    {
     "data": {
      "text/plain": [
       "0.4219269102990033"
      ]
     },
     "execution_count": 194,
     "metadata": {},
     "output_type": "execute_result"
    }
   ],
   "source": [
    "accuracy_score(y_test, yhat_xgb)"
   ]
  },
  {
   "cell_type": "code",
   "execution_count": 195,
   "id": "d0b9b6e2",
   "metadata": {
    "ExecuteTime": {
     "end_time": "2022-03-18T14:37:12.944811Z",
     "start_time": "2022-03-18T14:37:12.766469Z"
    }
   },
   "outputs": [
    {
     "data": {
      "text/plain": [
       "<AxesSubplot:>"
      ]
     },
     "execution_count": 195,
     "metadata": {},
     "output_type": "execute_result"
    },
    {
     "data": {
      "image/png": "[encoded data removed]",
      "text/plain": [
       "<Figure size 432x288 with 2 Axes>"
      ]
     },
     "metadata": {
      "needs_background": "light"
     },
     "output_type": "display_data"
    }
   ],
   "source": [
    "sns.heatmap(confusion_matrix(y_test, yhat_xgb, normalize='true'), annot=True, )"
   ]
  },
  {
   "cell_type": "code",
   "execution_count": 196,
   "id": "5014ed35",
   "metadata": {
    "ExecuteTime": {
     "end_time": "2022-03-18T14:37:12.955685Z",
     "start_time": "2022-03-18T14:37:12.946749Z"
    }
   },
   "outputs": [
    {
     "name": "stdout",
     "output_type": "stream",
     "text": [
      "              precision    recall  f1-score   support\n",
      "\n",
      "           0       0.37      0.32      0.34       169\n",
      "           1       0.56      0.47      0.51       288\n",
      "           2       0.30      0.45      0.36       145\n",
      "\n",
      "    accuracy                           0.42       602\n",
      "   macro avg       0.41      0.41      0.40       602\n",
      "weighted avg       0.44      0.42      0.43       602\n",
      "\n"
     ]
    }
   ],
   "source": [
    "print(classification_report(y_test, yhat_xgb))"
   ]
  },
  {
   "cell_type": "markdown",
   "id": "94bca91f",
   "metadata": {},
   "source": [
    "## 5.3 Random Forests"
   ]
  },
  {
   "cell_type": "code",
   "execution_count": 197,
   "id": "d719d49e",
   "metadata": {
    "ExecuteTime": {
     "end_time": "2022-03-18T14:37:17.512448Z",
     "start_time": "2022-03-18T14:37:12.957872Z"
    }
   },
   "outputs": [],
   "source": [
    "clf_rf = RandomForestClassifier(n_estimators = 2000, n_jobs = -1, random_state = 42).fit(X_train, y_train)\n",
    "yhat_rf = clf_rf.predict(X_test)"
   ]
  },
  {
   "cell_type": "code",
   "execution_count": 198,
   "id": "6ab30c6e",
   "metadata": {
    "ExecuteTime": {
     "end_time": "2022-03-18T14:37:17.522865Z",
     "start_time": "2022-03-18T14:37:17.515343Z"
    }
   },
   "outputs": [
    {
     "data": {
      "text/plain": [
       "0.42358803986710963"
      ]
     },
     "execution_count": 198,
     "metadata": {},
     "output_type": "execute_result"
    }
   ],
   "source": [
    "accuracy_score(y_test, yhat_rf)"
   ]
  },
  {
   "cell_type": "code",
   "execution_count": 199,
   "id": "e3d33899",
   "metadata": {
    "ExecuteTime": {
     "end_time": "2022-03-18T14:37:17.694569Z",
     "start_time": "2022-03-18T14:37:17.524941Z"
    }
   },
   "outputs": [
    {
     "data": {
      "image/png": "[encoded data removed]",
      "text/plain": [
       "<Figure size 432x288 with 2 Axes>"
      ]
     },
     "metadata": {
      "needs_background": "light"
     },
     "output_type": "display_data"
    }
   ],
   "source": [
    "sns.heatmap(confusion_matrix(y_test, yhat_rf, normalize='true'), annot=True, );"
   ]
  },
  {
   "cell_type": "code",
   "execution_count": 200,
   "id": "71b84c06",
   "metadata": {
    "ExecuteTime": {
     "end_time": "2022-03-18T14:37:17.706323Z",
     "start_time": "2022-03-18T14:37:17.696138Z"
    }
   },
   "outputs": [
    {
     "name": "stdout",
     "output_type": "stream",
     "text": [
      "              precision    recall  f1-score   support\n",
      "\n",
      "           0       0.35      0.38      0.37       169\n",
      "           1       0.57      0.45      0.50       288\n",
      "           2       0.32      0.42      0.36       145\n",
      "\n",
      "    accuracy                           0.42       602\n",
      "   macro avg       0.41      0.42      0.41       602\n",
      "weighted avg       0.45      0.42      0.43       602\n",
      "\n"
     ]
    }
   ],
   "source": [
    "print(classification_report(y_test, yhat_rf))"
   ]
  },
  {
   "cell_type": "markdown",
   "id": "6b893f61",
   "metadata": {},
   "source": [
    "## 5.4 SVM "
   ]
  },
  {
   "cell_type": "code",
   "execution_count": 201,
   "id": "3994a33f",
   "metadata": {
    "ExecuteTime": {
     "end_time": "2022-03-18T14:37:17.958004Z",
     "start_time": "2022-03-18T14:37:17.707923Z"
    }
   },
   "outputs": [],
   "source": [
    "clf_svc = svm.SVC().fit(X_train, y_train)\n",
    "y_hat_svc = clf_svc.predict(X_test)"
   ]
  },
  {
   "cell_type": "code",
   "execution_count": 202,
   "id": "fd78c083",
   "metadata": {
    "ExecuteTime": {
     "end_time": "2022-03-18T14:37:17.966835Z",
     "start_time": "2022-03-18T14:37:17.959479Z"
    }
   },
   "outputs": [
    {
     "data": {
      "text/plain": [
       "0.4219269102990033"
      ]
     },
     "execution_count": 202,
     "metadata": {},
     "output_type": "execute_result"
    }
   ],
   "source": [
    "accuracy_score(y_test, y_hat_svc)"
   ]
  },
  {
   "cell_type": "code",
   "execution_count": 203,
   "id": "eb9d9cd1",
   "metadata": {
    "ExecuteTime": {
     "end_time": "2022-03-18T14:37:18.130087Z",
     "start_time": "2022-03-18T14:37:17.968555Z"
    }
   },
   "outputs": [
    {
     "data": {
      "image/png": "[encoded data removed]",
      "text/plain": [
       "<Figure size 432x288 with 2 Axes>"
      ]
     },
     "metadata": {
      "needs_background": "light"
     },
     "output_type": "display_data"
    }
   ],
   "source": [
    "sns.heatmap(confusion_matrix(y_test, y_hat_svc, normalize='true'), annot=True);"
   ]
  },
  {
   "cell_type": "code",
   "execution_count": 204,
   "id": "ae3c75cd",
   "metadata": {
    "ExecuteTime": {
     "end_time": "2022-03-18T14:37:18.140382Z",
     "start_time": "2022-03-18T14:37:18.131799Z"
    }
   },
   "outputs": [
    {
     "name": "stdout",
     "output_type": "stream",
     "text": [
      "              precision    recall  f1-score   support\n",
      "\n",
      "           0       0.33      0.33      0.33       169\n",
      "           1       0.57      0.45      0.50       288\n",
      "           2       0.34      0.47      0.39       145\n",
      "\n",
      "    accuracy                           0.42       602\n",
      "   macro avg       0.41      0.42      0.41       602\n",
      "weighted avg       0.44      0.42      0.43       602\n",
      "\n"
     ]
    }
   ],
   "source": [
    "print(classification_report(y_test, y_hat_svc))"
   ]
  },
  {
   "cell_type": "markdown",
   "id": "357a2b0c",
   "metadata": {},
   "source": [
    "## 5.5 Naive Bayes "
   ]
  },
  {
   "cell_type": "code",
   "execution_count": 205,
   "id": "03fbbd88",
   "metadata": {
    "ExecuteTime": {
     "end_time": "2022-03-18T14:37:18.157152Z",
     "start_time": "2022-03-18T14:37:18.142407Z"
    }
   },
   "outputs": [],
   "source": [
    "clf_gb = GaussianNB().fit(X_train, y_train)\n",
    "y_hat_gnb = clf_gb.predict(X_test)"
   ]
  },
  {
   "cell_type": "code",
   "execution_count": 206,
   "id": "06aadac5",
   "metadata": {
    "ExecuteTime": {
     "end_time": "2022-03-18T14:37:18.162976Z",
     "start_time": "2022-03-18T14:37:18.158904Z"
    }
   },
   "outputs": [
    {
     "data": {
      "text/plain": [
       "0.3754152823920266"
      ]
     },
     "execution_count": 206,
     "metadata": {},
     "output_type": "execute_result"
    }
   ],
   "source": [
    "accuracy_score(y_test, y_hat_gnb)"
   ]
  },
  {
   "cell_type": "code",
   "execution_count": 207,
   "id": "3f5c7c8e",
   "metadata": {
    "ExecuteTime": {
     "end_time": "2022-03-18T14:37:18.323906Z",
     "start_time": "2022-03-18T14:37:18.164488Z"
    }
   },
   "outputs": [
    {
     "data": {
      "image/png": "[encoded data removed]",
      "text/plain": [
       "<Figure size 432x288 with 2 Axes>"
      ]
     },
     "metadata": {
      "needs_background": "light"
     },
     "output_type": "display_data"
    }
   ],
   "source": [
    "sns.heatmap(confusion_matrix(y_test, y_hat_gnb, normalize='true'), annot=True, );"
   ]
  },
  {
   "cell_type": "code",
   "execution_count": 208,
   "id": "1ea12c9f",
   "metadata": {
    "ExecuteTime": {
     "end_time": "2022-03-18T14:37:18.337137Z",
     "start_time": "2022-03-18T14:37:18.325654Z"
    }
   },
   "outputs": [
    {
     "name": "stdout",
     "output_type": "stream",
     "text": [
      "              precision    recall  f1-score   support\n",
      "\n",
      "           0       0.30      0.63      0.41       169\n",
      "           1       0.62      0.28      0.38       288\n",
      "           2       0.32      0.27      0.29       145\n",
      "\n",
      "    accuracy                           0.38       602\n",
      "   macro avg       0.42      0.39      0.36       602\n",
      "weighted avg       0.46      0.38      0.37       602\n",
      "\n"
     ]
    }
   ],
   "source": [
    "print(classification_report(y_test, y_hat_gnb))"
   ]
  },
  {
   "cell_type": "markdown",
   "id": "55a278aa",
   "metadata": {},
   "source": [
    "## 5.6 SGD Classifier "
   ]
  },
  {
   "cell_type": "code",
   "execution_count": 209,
   "id": "9a5b2aff",
   "metadata": {
    "ExecuteTime": {
     "end_time": "2022-03-18T14:37:18.456653Z",
     "start_time": "2022-03-18T14:37:18.339697Z"
    }
   },
   "outputs": [],
   "source": [
    "clf_sgd = SGDClassifier().fit(X_train, y_train)\n",
    "y_hat_sgd = clf_sgd.predict(X_test)"
   ]
  },
  {
   "cell_type": "code",
   "execution_count": 210,
   "id": "e4742206",
   "metadata": {
    "ExecuteTime": {
     "end_time": "2022-03-18T14:37:18.465062Z",
     "start_time": "2022-03-18T14:37:18.459516Z"
    },
    "scrolled": true
   },
   "outputs": [
    {
     "data": {
      "text/plain": [
       "0.36046511627906974"
      ]
     },
     "execution_count": 210,
     "metadata": {},
     "output_type": "execute_result"
    }
   ],
   "source": [
    "accuracy_score(y_test, y_hat_sgd)"
   ]
  },
  {
   "cell_type": "code",
   "execution_count": 211,
   "id": "4140c9b9",
   "metadata": {
    "ExecuteTime": {
     "end_time": "2022-03-18T14:37:18.693025Z",
     "start_time": "2022-03-18T14:37:18.471013Z"
    }
   },
   "outputs": [
    {
     "data": {
      "text/plain": [
       "<AxesSubplot:>"
      ]
     },
     "execution_count": 211,
     "metadata": {},
     "output_type": "execute_result"
    },
    {
     "data": {
      "image/png": "[encoded data removed]",
      "text/plain": [
       "<Figure size 432x288 with 2 Axes>"
      ]
     },
     "metadata": {
      "needs_background": "light"
     },
     "output_type": "display_data"
    }
   ],
   "source": [
    "sns.heatmap(confusion_matrix(y_test, y_hat_sgd, normalize='true'), annot=True, )"
   ]
  },
  {
   "cell_type": "code",
   "execution_count": 212,
   "id": "c6b86019",
   "metadata": {
    "ExecuteTime": {
     "end_time": "2022-03-18T14:37:18.703653Z",
     "start_time": "2022-03-18T14:37:18.694511Z"
    }
   },
   "outputs": [
    {
     "name": "stdout",
     "output_type": "stream",
     "text": [
      "              precision    recall  f1-score   support\n",
      "\n",
      "           0       0.28      0.30      0.29       169\n",
      "           1       0.60      0.34      0.43       288\n",
      "           2       0.27      0.48      0.34       145\n",
      "\n",
      "    accuracy                           0.36       602\n",
      "   macro avg       0.38      0.37      0.35       602\n",
      "weighted avg       0.43      0.36      0.37       602\n",
      "\n"
     ]
    }
   ],
   "source": [
    "print(classification_report(y_test, y_hat_sgd))"
   ]
  },
  {
   "cell_type": "markdown",
   "id": "ea707aaf",
   "metadata": {},
   "source": [
    "## 5.7 Decision Tree"
   ]
  },
  {
   "cell_type": "code",
   "execution_count": 213,
   "id": "833849cf",
   "metadata": {
    "ExecuteTime": {
     "end_time": "2022-03-18T14:37:18.734308Z",
     "start_time": "2022-03-18T14:37:18.706167Z"
    }
   },
   "outputs": [],
   "source": [
    "clf_dt = tree.DecisionTreeClassifier().fit(X_train, y_train)\n",
    "y_hat_dt = clf_dt.predict(X_test)"
   ]
  },
  {
   "cell_type": "code",
   "execution_count": 214,
   "id": "69700ec8",
   "metadata": {
    "ExecuteTime": {
     "end_time": "2022-03-18T14:37:18.740954Z",
     "start_time": "2022-03-18T14:37:18.735922Z"
    },
    "scrolled": true
   },
   "outputs": [
    {
     "data": {
      "text/plain": [
       "0.4152823920265781"
      ]
     },
     "execution_count": 214,
     "metadata": {},
     "output_type": "execute_result"
    }
   ],
   "source": [
    "accuracy_score(y_test, y_hat_dt)"
   ]
  },
  {
   "cell_type": "code",
   "execution_count": 215,
   "id": "92ce198d",
   "metadata": {
    "ExecuteTime": {
     "end_time": "2022-03-18T14:37:18.895932Z",
     "start_time": "2022-03-18T14:37:18.742618Z"
    }
   },
   "outputs": [
    {
     "data": {
      "image/png": "[encoded data removed]",
      "text/plain": [
       "<Figure size 432x288 with 2 Axes>"
      ]
     },
     "metadata": {
      "needs_background": "light"
     },
     "output_type": "display_data"
    }
   ],
   "source": [
    "sns.heatmap(confusion_matrix(y_test, y_hat_dt, normalize='true'), annot=True, );"
   ]
  },
  {
   "cell_type": "code",
   "execution_count": 216,
   "id": "023e1c66",
   "metadata": {
    "ExecuteTime": {
     "end_time": "2022-03-18T14:37:18.908388Z",
     "start_time": "2022-03-18T14:37:18.897487Z"
    }
   },
   "outputs": [
    {
     "name": "stdout",
     "output_type": "stream",
     "text": [
      "              precision    recall  f1-score   support\n",
      "\n",
      "           0       0.40      0.51      0.45       169\n",
      "           1       0.56      0.36      0.44       288\n",
      "           2       0.30      0.41      0.35       145\n",
      "\n",
      "    accuracy                           0.42       602\n",
      "   macro avg       0.42      0.43      0.41       602\n",
      "weighted avg       0.45      0.42      0.42       602\n",
      "\n"
     ]
    }
   ],
   "source": [
    "print(classification_report(y_test, y_hat_dt))"
   ]
  },
  {
   "cell_type": "markdown",
   "id": "525fc54f",
   "metadata": {},
   "source": [
    "## 5.8 MLP"
   ]
  },
  {
   "cell_type": "code",
   "execution_count": 217,
   "id": "aa014027",
   "metadata": {
    "ExecuteTime": {
     "end_time": "2022-03-18T14:37:23.546673Z",
     "start_time": "2022-03-18T14:37:18.910637Z"
    }
   },
   "outputs": [],
   "source": [
    "clf_mlp = MLPClassifier(max_iter=500).fit(X_train, y_train)\n",
    "y_hat_mlp = clf_mlp.predict(X_test)"
   ]
  },
  {
   "cell_type": "code",
   "execution_count": 218,
   "id": "6d159af4",
   "metadata": {
    "ExecuteTime": {
     "end_time": "2022-03-18T14:37:23.558993Z",
     "start_time": "2022-03-18T14:37:23.552937Z"
    },
    "scrolled": true
   },
   "outputs": [
    {
     "data": {
      "text/plain": [
       "0.39700996677740863"
      ]
     },
     "execution_count": 218,
     "metadata": {},
     "output_type": "execute_result"
    }
   ],
   "source": [
    "accuracy_score(y_test, y_hat_mlp)"
   ]
  },
  {
   "cell_type": "code",
   "execution_count": 219,
   "id": "1465c2a7",
   "metadata": {
    "ExecuteTime": {
     "end_time": "2022-03-18T14:37:23.766773Z",
     "start_time": "2022-03-18T14:37:23.560844Z"
    }
   },
   "outputs": [
    {
     "data": {
      "image/png": "[encoded data removed]",
      "text/plain": [
       "<Figure size 432x288 with 2 Axes>"
      ]
     },
     "metadata": {
      "needs_background": "light"
     },
     "output_type": "display_data"
    }
   ],
   "source": [
    "sns.heatmap(confusion_matrix(y_test, y_hat_mlp, normalize='true'), annot=True, );"
   ]
  },
  {
   "cell_type": "code",
   "execution_count": 220,
   "id": "9e2d05de",
   "metadata": {
    "ExecuteTime": {
     "end_time": "2022-03-18T14:37:23.777088Z",
     "start_time": "2022-03-18T14:37:23.768885Z"
    }
   },
   "outputs": [
    {
     "name": "stdout",
     "output_type": "stream",
     "text": [
      "              precision    recall  f1-score   support\n",
      "\n",
      "           0       0.37      0.41      0.39       169\n",
      "           1       0.54      0.41      0.46       288\n",
      "           2       0.27      0.37      0.31       145\n",
      "\n",
      "    accuracy                           0.40       602\n",
      "   macro avg       0.39      0.39      0.39       602\n",
      "weighted avg       0.42      0.40      0.40       602\n",
      "\n"
     ]
    }
   ],
   "source": [
    "print(classification_report(y_test, y_hat_mlp))"
   ]
  },
  {
   "cell_type": "markdown",
   "id": "5c1dbbb5",
   "metadata": {},
   "source": [
    "# 6.0 Ensemble "
   ]
  },
  {
   "cell_type": "code",
   "execution_count": 221,
   "id": "f67b8925",
   "metadata": {
    "ExecuteTime": {
     "end_time": "2022-03-18T14:37:23.781474Z",
     "start_time": "2022-03-18T14:37:23.778999Z"
    }
   },
   "outputs": [],
   "source": [
    "import warnings\n",
    "warnings.filterwarnings(\"ignore\")"
   ]
  },
  {
   "cell_type": "code",
   "execution_count": 222,
   "id": "68ad6e89",
   "metadata": {
    "ExecuteTime": {
     "end_time": "2022-03-18T14:37:23.791595Z",
     "start_time": "2022-03-18T14:37:23.785468Z"
    }
   },
   "outputs": [],
   "source": [
    "eclf = VotingClassifier(estimators=[('logistic', clf_lg), ('xgb', clf_xgb), ('random_forest', clf_rf), ('naive_bayes', clf_gb), ('decision_tree', clf_dt), ('mlp', clf_mlp)], voting='hard')"
   ]
  },
  {
   "cell_type": "code",
   "execution_count": 223,
   "id": "26518993",
   "metadata": {
    "ExecuteTime": {
     "end_time": "2022-03-18T14:38:29.974009Z",
     "start_time": "2022-03-18T14:37:23.793339Z"
    }
   },
   "outputs": [
    {
     "name": "stdout",
     "output_type": "stream",
     "text": [
      "Accuracy: 0.47 (+/- 0.03) [logistic]\n",
      "[11:37:32] WARNING: ../src/learner.cc:1115: Starting in XGBoost 1.3.0, the default evaluation metric used with the objective 'multi:softprob' was changed from 'merror' to 'mlogloss'. Explicitly set eval_metric if you'd like to restore the old behavior.\n",
      "[11:37:41] WARNING: ../src/learner.cc:1115: Starting in XGBoost 1.3.0, the default evaluation metric used with the objective 'multi:softprob' was changed from 'merror' to 'mlogloss'. Explicitly set eval_metric if you'd like to restore the old behavior.\n",
      "[11:37:50] WARNING: ../src/learner.cc:1115: Starting in XGBoost 1.3.0, the default evaluation metric used with the objective 'multi:softprob' was changed from 'merror' to 'mlogloss'. Explicitly set eval_metric if you'd like to restore the old behavior.\n",
      "[11:37:58] WARNING: ../src/learner.cc:1115: Starting in XGBoost 1.3.0, the default evaluation metric used with the objective 'multi:softprob' was changed from 'merror' to 'mlogloss'. Explicitly set eval_metric if you'd like to restore the old behavior.\n",
      "[11:38:07] WARNING: ../src/learner.cc:1115: Starting in XGBoost 1.3.0, the default evaluation metric used with the objective 'multi:softprob' was changed from 'merror' to 'mlogloss'. Explicitly set eval_metric if you'd like to restore the old behavior.\n",
      "Accuracy: 0.47 (+/- 0.02) [xgb]\n",
      "Accuracy: 0.46 (+/- 0.01) [random_forest]\n",
      "Accuracy: 0.42 (+/- 0.04) [naive_bayes]\n",
      "Accuracy: 0.40 (+/- 0.02) [decision_tree]\n"
     ]
    }
   ],
   "source": [
    "for clf, label in zip([clf_lg, clf_xgb, clf_rf, clf_gb, clf_dt], ['logistic', 'xgb', 'random_forest', 'naive_bayes', 'decision_tree', 'mlp' ]):\n",
    "    scores = cross_val_score(clf, X, y, scoring='accuracy', cv=5)\n",
    "    print(\"Accuracy: %0.2f (+/- %0.2f) [%s]\" % (scores.mean(), scores.std(), label))"
   ]
  },
  {
   "cell_type": "code",
   "execution_count": 224,
   "id": "f7b6ae5a",
   "metadata": {
    "ExecuteTime": {
     "end_time": "2022-03-18T14:38:34.296340Z",
     "start_time": "2022-03-18T14:38:29.976266Z"
    }
   },
   "outputs": [],
   "source": [
    "eclf = VotingClassifier(estimators=[('decision_tree', clf_dt), ('sgd', clf_sgd), ('mlp', clf_mlp)], voting='hard', weights=[0.3, 0.3, 0.4]).fit(X_train, y_train)"
   ]
  },
  {
   "cell_type": "code",
   "execution_count": 225,
   "id": "547ed177",
   "metadata": {
    "ExecuteTime": {
     "end_time": "2022-03-18T14:38:34.332921Z",
     "start_time": "2022-03-18T14:38:34.304289Z"
    }
   },
   "outputs": [],
   "source": [
    "y_hat_eclf = eclf.predict(X_test)"
   ]
  },
  {
   "cell_type": "code",
   "execution_count": 226,
   "id": "28650a33",
   "metadata": {
    "ExecuteTime": {
     "end_time": "2022-03-18T14:38:34.343723Z",
     "start_time": "2022-03-18T14:38:34.337669Z"
    },
    "scrolled": true
   },
   "outputs": [
    {
     "data": {
      "text/plain": [
       "0.4318936877076412"
      ]
     },
     "execution_count": 226,
     "metadata": {},
     "output_type": "execute_result"
    }
   ],
   "source": [
    "accuracy_score(y_test, y_hat_eclf)"
   ]
  },
  {
   "cell_type": "code",
   "execution_count": 227,
   "id": "05b25b6e",
   "metadata": {
    "ExecuteTime": {
     "end_time": "2022-03-18T14:38:34.535992Z",
     "start_time": "2022-03-18T14:38:34.349035Z"
    }
   },
   "outputs": [
    {
     "data": {
      "image/png": "[encoded data removed]",
      "text/plain": [
       "<Figure size 432x288 with 2 Axes>"
      ]
     },
     "metadata": {
      "needs_background": "light"
     },
     "output_type": "display_data"
    }
   ],
   "source": [
    "sns.heatmap(confusion_matrix(y_test, y_hat_eclf, normalize='true'), annot=True, );"
   ]
  },
  {
   "cell_type": "code",
   "execution_count": 228,
   "id": "4349e38c",
   "metadata": {
    "ExecuteTime": {
     "end_time": "2022-03-18T14:38:34.546846Z",
     "start_time": "2022-03-18T14:38:34.537937Z"
    }
   },
   "outputs": [
    {
     "name": "stdout",
     "output_type": "stream",
     "text": [
      "              precision    recall  f1-score   support\n",
      "\n",
      "           0       0.37      0.47      0.41       169\n",
      "           1       0.60      0.45      0.52       288\n",
      "           2       0.30      0.34      0.32       145\n",
      "\n",
      "    accuracy                           0.43       602\n",
      "   macro avg       0.42      0.42      0.42       602\n",
      "weighted avg       0.46      0.43      0.44       602\n",
      "\n"
     ]
    }
   ],
   "source": [
    "print(classification_report(y_test, y_hat_eclf))"
   ]
  }
 ],
 "metadata": {
  "kernelspec": {
   "display_name": "Python 3 (ipykernel)",
   "language": "python",
   "name": "python3"
  },
  "language_info": {
   "codemirror_mode": {
    "name": "ipython",
    "version": 3
   },
   "file_extension": ".py",
   "mimetype": "text/x-python",
   "name": "python",
   "nbconvert_exporter": "python",
   "pygments_lexer": "ipython3",
   "version": "3.9.7"
  }
 },
 "nbformat": 4,
 "nbformat_minor": 5
}
