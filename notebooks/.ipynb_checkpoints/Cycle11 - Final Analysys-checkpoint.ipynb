{
 "cells": [
  {
   "cell_type": "markdown",
   "id": "3bdebc5a",
   "metadata": {},
   "source": [
    "# 0. Imports "
   ]
  },
  {
   "cell_type": "code",
   "execution_count": 2,
   "id": "1b2013bd",
   "metadata": {
    "ExecuteTime": {
     "end_time": "2022-03-22T17:27:39.263741Z",
     "start_time": "2022-03-22T17:27:39.258096Z"
    }
   },
   "outputs": [],
   "source": [
    "import pandas as pd\n",
    "import numpy as np\n",
    "import matplotlib.pyplot as plt\n",
    "import seaborn as sns\n",
    "import xgboost as xgb\n",
    "\n",
    "from os import listdir\n",
    "from sklearn.model_selection import train_test_split, cross_val_score\n",
    "from sklearn.metrics import confusion_matrix, accuracy_score, classification_report\n",
    "from sklearn.ensemble import RandomForestRegressor, RandomForestClassifier\n",
    "from sklearn.metrics import mean_absolute_error, mean_squared_error, mean_absolute_percentage_error\n",
    "from sklearn.linear_model import LogisticRegression\n",
    "from sklearn.preprocessing import LabelEncoder, StandardScaler\n",
    "from sklearn import svm, tree\n",
    "from sklearn.naive_bayes import GaussianNB\n",
    "from sklearn.linear_model import SGDClassifier\n",
    "from sklearn.ensemble import VotingClassifier\n",
    "from sklearn.neural_network import MLPClassifier\n",
    "\n",
    "from boruta import BorutaPy\n",
    "from imblearn.under_sampling import RandomUnderSampler\n",
    "from imblearn.over_sampling import RandomOverSampler\n",
    "import statsmodels.api as sm"
   ]
  },
  {
   "cell_type": "markdown",
   "id": "d0053fb9",
   "metadata": {},
   "source": [
    "# 1.0 Data Loading "
   ]
  },
  {
   "cell_type": "code",
   "execution_count": 188,
   "id": "83cd7a65",
   "metadata": {
    "ExecuteTime": {
     "end_time": "2022-03-22T18:16:43.330651Z",
     "start_time": "2022-03-22T18:16:43.327377Z"
    }
   },
   "outputs": [],
   "source": [
    "data_path = '../datasets/'\n",
    "files = listdir(data_path)\n",
    "\n",
    "full = files[1]\n",
    "stats = files[2]"
   ]
  },
  {
   "cell_type": "code",
   "execution_count": 8,
   "id": "5e91fe4a",
   "metadata": {
    "ExecuteTime": {
     "end_time": "2022-03-22T17:31:04.011196Z",
     "start_time": "2022-03-22T17:31:04.007330Z"
    }
   },
   "outputs": [
    {
     "data": {
      "text/plain": [
       "True"
      ]
     },
     "execution_count": 8,
     "metadata": {},
     "output_type": "execute_result"
    }
   ],
   "source": [
    "df_full['ID'].dtypes == 'int64'"
   ]
  },
  {
   "cell_type": "markdown",
   "id": "f2d8f1d1",
   "metadata": {},
   "source": [
    "## 1.1 Full Matches "
   ]
  },
  {
   "cell_type": "code",
   "execution_count": 189,
   "id": "0e786f69",
   "metadata": {
    "ExecuteTime": {
     "end_time": "2022-03-22T18:16:43.662052Z",
     "start_time": "2022-03-22T18:16:43.618936Z"
    }
   },
   "outputs": [],
   "source": [
    "df_full = pd.read_csv(data_path + full)"
   ]
  },
  {
   "cell_type": "code",
   "execution_count": 190,
   "id": "41855210",
   "metadata": {
    "ExecuteTime": {
     "end_time": "2022-03-22T18:16:43.793924Z",
     "start_time": "2022-03-22T18:16:43.756634Z"
    }
   },
   "outputs": [
    {
     "data": {
      "text/html": [
       "<div>\n",
       "<style scoped>\n",
       "    .dataframe tbody tr th:only-of-type {\n",
       "        vertical-align: middle;\n",
       "    }\n",
       "\n",
       "    .dataframe tbody tr th {\n",
       "        vertical-align: top;\n",
       "    }\n",
       "\n",
       "    .dataframe thead th {\n",
       "        text-align: right;\n",
       "    }\n",
       "</style>\n",
       "<table border=\"1\" class=\"dataframe\">\n",
       "  <thead>\n",
       "    <tr style=\"text-align: right;\">\n",
       "      <th></th>\n",
       "      <th>ID</th>\n",
       "      <th>rodada</th>\n",
       "      <th>temporada</th>\n",
       "      <th>data</th>\n",
       "      <th>hora</th>\n",
       "      <th>dia</th>\n",
       "      <th>mandante</th>\n",
       "      <th>visitante</th>\n",
       "      <th>formacao_mandante</th>\n",
       "      <th>formacao_visitante</th>\n",
       "      <th>tecnico_mandante</th>\n",
       "      <th>tecnico_visitante</th>\n",
       "      <th>vencedor</th>\n",
       "      <th>arena</th>\n",
       "      <th>mandante_placar</th>\n",
       "      <th>visitante_placar</th>\n",
       "      <th>mandante_estado</th>\n",
       "      <th>visitante_estado</th>\n",
       "      <th>estado_vencedor</th>\n",
       "    </tr>\n",
       "  </thead>\n",
       "  <tbody>\n",
       "    <tr>\n",
       "      <th>0</th>\n",
       "      <td>1</td>\n",
       "      <td>1</td>\n",
       "      <td>2003</td>\n",
       "      <td>2003-03-29</td>\n",
       "      <td>16:00</td>\n",
       "      <td>Sabado</td>\n",
       "      <td>Guarani</td>\n",
       "      <td>Vasco</td>\n",
       "      <td>NaN</td>\n",
       "      <td>NaN</td>\n",
       "      <td>NaN</td>\n",
       "      <td>NaN</td>\n",
       "      <td>Guarani</td>\n",
       "      <td>brinco de ouro</td>\n",
       "      <td>4</td>\n",
       "      <td>2</td>\n",
       "      <td>SP</td>\n",
       "      <td>RJ</td>\n",
       "      <td>SP</td>\n",
       "    </tr>\n",
       "    <tr>\n",
       "      <th>1</th>\n",
       "      <td>2</td>\n",
       "      <td>1</td>\n",
       "      <td>2003</td>\n",
       "      <td>2003-03-29</td>\n",
       "      <td>16:00</td>\n",
       "      <td>Sabado</td>\n",
       "      <td>Athletico-PR</td>\n",
       "      <td>Gremio</td>\n",
       "      <td>NaN</td>\n",
       "      <td>NaN</td>\n",
       "      <td>NaN</td>\n",
       "      <td>NaN</td>\n",
       "      <td>Athletico-PR</td>\n",
       "      <td>arena da baixada</td>\n",
       "      <td>2</td>\n",
       "      <td>0</td>\n",
       "      <td>PR</td>\n",
       "      <td>RS</td>\n",
       "      <td>PR</td>\n",
       "    </tr>\n",
       "    <tr>\n",
       "      <th>2</th>\n",
       "      <td>3</td>\n",
       "      <td>1</td>\n",
       "      <td>2003</td>\n",
       "      <td>2003-03-30</td>\n",
       "      <td>16:00</td>\n",
       "      <td>Domingo</td>\n",
       "      <td>Flamengo</td>\n",
       "      <td>Coritiba</td>\n",
       "      <td>NaN</td>\n",
       "      <td>NaN</td>\n",
       "      <td>NaN</td>\n",
       "      <td>NaN</td>\n",
       "      <td>-</td>\n",
       "      <td>maracana</td>\n",
       "      <td>1</td>\n",
       "      <td>1</td>\n",
       "      <td>RJ</td>\n",
       "      <td>PR</td>\n",
       "      <td>-</td>\n",
       "    </tr>\n",
       "    <tr>\n",
       "      <th>3</th>\n",
       "      <td>4</td>\n",
       "      <td>1</td>\n",
       "      <td>2003</td>\n",
       "      <td>2003-03-30</td>\n",
       "      <td>16:00</td>\n",
       "      <td>Domingo</td>\n",
       "      <td>Goias</td>\n",
       "      <td>Paysandu</td>\n",
       "      <td>NaN</td>\n",
       "      <td>NaN</td>\n",
       "      <td>NaN</td>\n",
       "      <td>NaN</td>\n",
       "      <td>-</td>\n",
       "      <td>serra dourada</td>\n",
       "      <td>2</td>\n",
       "      <td>2</td>\n",
       "      <td>GO</td>\n",
       "      <td>PA</td>\n",
       "      <td>-</td>\n",
       "    </tr>\n",
       "    <tr>\n",
       "      <th>4</th>\n",
       "      <td>5</td>\n",
       "      <td>1</td>\n",
       "      <td>2003</td>\n",
       "      <td>2003-03-30</td>\n",
       "      <td>16:00</td>\n",
       "      <td>Domingo</td>\n",
       "      <td>Internacional</td>\n",
       "      <td>Ponte Preta</td>\n",
       "      <td>NaN</td>\n",
       "      <td>NaN</td>\n",
       "      <td>NaN</td>\n",
       "      <td>NaN</td>\n",
       "      <td>-</td>\n",
       "      <td>beira rio</td>\n",
       "      <td>1</td>\n",
       "      <td>1</td>\n",
       "      <td>RS</td>\n",
       "      <td>SP</td>\n",
       "      <td>-</td>\n",
       "    </tr>\n",
       "  </tbody>\n",
       "</table>\n",
       "</div>"
      ],
      "text/plain": [
       "   ID  rodada  temporada       data   hora      dia       mandante  \\\n",
       "0   1       1       2003 2003-03-29  16:00   Sabado        Guarani   \n",
       "1   2       1       2003 2003-03-29  16:00   Sabado   Athletico-PR   \n",
       "2   3       1       2003 2003-03-30  16:00  Domingo       Flamengo   \n",
       "3   4       1       2003 2003-03-30  16:00  Domingo          Goias   \n",
       "4   5       1       2003 2003-03-30  16:00  Domingo  Internacional   \n",
       "\n",
       "     visitante formacao_mandante formacao_visitante tecnico_mandante  \\\n",
       "0        Vasco               NaN                NaN              NaN   \n",
       "1       Gremio               NaN                NaN              NaN   \n",
       "2     Coritiba               NaN                NaN              NaN   \n",
       "3     Paysandu               NaN                NaN              NaN   \n",
       "4  Ponte Preta               NaN                NaN              NaN   \n",
       "\n",
       "  tecnico_visitante      vencedor             arena  mandante_placar  \\\n",
       "0               NaN       Guarani    brinco de ouro                4   \n",
       "1               NaN  Athletico-PR  arena da baixada                2   \n",
       "2               NaN             -          maracana                1   \n",
       "3               NaN             -     serra dourada                2   \n",
       "4               NaN             -         beira rio                1   \n",
       "\n",
       "   visitante_placar mandante_estado visitante_estado estado_vencedor  \n",
       "0                 2              SP               RJ              SP  \n",
       "1                 0              PR               RS              PR  \n",
       "2                 1              RJ               PR               -  \n",
       "3                 2              GO               PA               -  \n",
       "4                 1              RS               SP               -  "
      ]
     },
     "execution_count": 190,
     "metadata": {},
     "output_type": "execute_result"
    }
   ],
   "source": [
    "# indicando qual a temporada do campeonato\n",
    "df_full.loc[:, 'data'] = pd.to_datetime(df_full.data, yearfirst=True)\n",
    "df_full.insert(2, 'temporada', df_full.data.dt.year)\n",
    "df_full.head()"
   ]
  },
  {
   "cell_type": "code",
   "execution_count": 191,
   "id": "626a8cd1",
   "metadata": {
    "ExecuteTime": {
     "end_time": "2022-03-22T18:16:43.916978Z",
     "start_time": "2022-03-22T18:16:43.905798Z"
    }
   },
   "outputs": [
    {
     "data": {
      "text/plain": [
       "(7645, 19)"
      ]
     },
     "execution_count": 191,
     "metadata": {},
     "output_type": "execute_result"
    }
   ],
   "source": [
    "df_full.shape"
   ]
  },
  {
   "cell_type": "markdown",
   "id": "d4d204fc",
   "metadata": {},
   "source": [
    "## 1.2  Full Statistics"
   ]
  },
  {
   "cell_type": "code",
   "execution_count": 192,
   "id": "2b0f65b6",
   "metadata": {
    "ExecuteTime": {
     "end_time": "2022-03-22T18:16:44.256854Z",
     "start_time": "2022-03-22T18:16:44.218635Z"
    }
   },
   "outputs": [
    {
     "data": {
      "text/html": [
       "<div>\n",
       "<style scoped>\n",
       "    .dataframe tbody tr th:only-of-type {\n",
       "        vertical-align: middle;\n",
       "    }\n",
       "\n",
       "    .dataframe tbody tr th {\n",
       "        vertical-align: top;\n",
       "    }\n",
       "\n",
       "    .dataframe thead th {\n",
       "        text-align: right;\n",
       "    }\n",
       "</style>\n",
       "<table border=\"1\" class=\"dataframe\">\n",
       "  <thead>\n",
       "    <tr style=\"text-align: right;\">\n",
       "      <th></th>\n",
       "      <th>partida_id</th>\n",
       "      <th>rodada</th>\n",
       "      <th>clube</th>\n",
       "      <th>chutes</th>\n",
       "      <th>chutes_no_alvo</th>\n",
       "      <th>posse_de_bola</th>\n",
       "      <th>passes</th>\n",
       "      <th>precisao_passes</th>\n",
       "      <th>faltas</th>\n",
       "      <th>cartao_amarelo</th>\n",
       "      <th>cartao_vermelho</th>\n",
       "      <th>impedimentos</th>\n",
       "      <th>escanteios</th>\n",
       "    </tr>\n",
       "  </thead>\n",
       "  <tbody>\n",
       "    <tr>\n",
       "      <th>0</th>\n",
       "      <td>1</td>\n",
       "      <td>1</td>\n",
       "      <td>Guarani</td>\n",
       "      <td>0</td>\n",
       "      <td>0</td>\n",
       "      <td>NaN</td>\n",
       "      <td>0</td>\n",
       "      <td>NaN</td>\n",
       "      <td>0</td>\n",
       "      <td>0</td>\n",
       "      <td>0</td>\n",
       "      <td>0</td>\n",
       "      <td>0</td>\n",
       "    </tr>\n",
       "    <tr>\n",
       "      <th>1</th>\n",
       "      <td>1</td>\n",
       "      <td>1</td>\n",
       "      <td>Vasco</td>\n",
       "      <td>0</td>\n",
       "      <td>0</td>\n",
       "      <td>NaN</td>\n",
       "      <td>0</td>\n",
       "      <td>NaN</td>\n",
       "      <td>0</td>\n",
       "      <td>0</td>\n",
       "      <td>0</td>\n",
       "      <td>0</td>\n",
       "      <td>0</td>\n",
       "    </tr>\n",
       "    <tr>\n",
       "      <th>2</th>\n",
       "      <td>2</td>\n",
       "      <td>1</td>\n",
       "      <td>Athletico-PR</td>\n",
       "      <td>0</td>\n",
       "      <td>0</td>\n",
       "      <td>NaN</td>\n",
       "      <td>0</td>\n",
       "      <td>NaN</td>\n",
       "      <td>0</td>\n",
       "      <td>0</td>\n",
       "      <td>0</td>\n",
       "      <td>0</td>\n",
       "      <td>0</td>\n",
       "    </tr>\n",
       "    <tr>\n",
       "      <th>3</th>\n",
       "      <td>2</td>\n",
       "      <td>1</td>\n",
       "      <td>Gremio</td>\n",
       "      <td>0</td>\n",
       "      <td>0</td>\n",
       "      <td>NaN</td>\n",
       "      <td>0</td>\n",
       "      <td>NaN</td>\n",
       "      <td>0</td>\n",
       "      <td>0</td>\n",
       "      <td>0</td>\n",
       "      <td>0</td>\n",
       "      <td>0</td>\n",
       "    </tr>\n",
       "    <tr>\n",
       "      <th>4</th>\n",
       "      <td>3</td>\n",
       "      <td>1</td>\n",
       "      <td>Flamengo</td>\n",
       "      <td>0</td>\n",
       "      <td>0</td>\n",
       "      <td>NaN</td>\n",
       "      <td>0</td>\n",
       "      <td>NaN</td>\n",
       "      <td>0</td>\n",
       "      <td>0</td>\n",
       "      <td>0</td>\n",
       "      <td>0</td>\n",
       "      <td>0</td>\n",
       "    </tr>\n",
       "  </tbody>\n",
       "</table>\n",
       "</div>"
      ],
      "text/plain": [
       "   partida_id  rodada         clube  chutes  chutes_no_alvo posse_de_bola  \\\n",
       "0           1       1       Guarani       0               0           NaN   \n",
       "1           1       1         Vasco       0               0           NaN   \n",
       "2           2       1  Athletico-PR       0               0           NaN   \n",
       "3           2       1        Gremio       0               0           NaN   \n",
       "4           3       1      Flamengo       0               0           NaN   \n",
       "\n",
       "   passes precisao_passes  faltas  cartao_amarelo  cartao_vermelho  \\\n",
       "0       0             NaN       0               0                0   \n",
       "1       0             NaN       0               0                0   \n",
       "2       0             NaN       0               0                0   \n",
       "3       0             NaN       0               0                0   \n",
       "4       0             NaN       0               0                0   \n",
       "\n",
       "   impedimentos  escanteios  \n",
       "0             0           0  \n",
       "1             0           0  \n",
       "2             0           0  \n",
       "3             0           0  \n",
       "4             0           0  "
      ]
     },
     "execution_count": 192,
     "metadata": {},
     "output_type": "execute_result"
    }
   ],
   "source": [
    "df_stats = pd.read_csv(data_path + stats)\n",
    "df_stats.head()"
   ]
  },
  {
   "cell_type": "code",
   "execution_count": 193,
   "id": "07b6c089",
   "metadata": {
    "ExecuteTime": {
     "end_time": "2022-03-22T18:16:44.379221Z",
     "start_time": "2022-03-22T18:16:44.367950Z"
    }
   },
   "outputs": [
    {
     "data": {
      "text/plain": [
       "(15290, 13)"
      ]
     },
     "execution_count": 193,
     "metadata": {},
     "output_type": "execute_result"
    }
   ],
   "source": [
    "df_stats.shape"
   ]
  },
  {
   "cell_type": "code",
   "execution_count": 194,
   "id": "2ee04d63",
   "metadata": {
    "ExecuteTime": {
     "end_time": "2022-03-22T18:16:44.529137Z",
     "start_time": "2022-03-22T18:16:44.519400Z"
    }
   },
   "outputs": [],
   "source": [
    "df_stats = df_stats.rename(columns = {'partida_id': 'ID'})"
   ]
  },
  {
   "cell_type": "markdown",
   "id": "426cbc68",
   "metadata": {},
   "source": [
    "# 2.0 Data Cleaning "
   ]
  },
  {
   "cell_type": "code",
   "execution_count": 324,
   "id": "99068698",
   "metadata": {
    "ExecuteTime": {
     "end_time": "2022-03-22T18:54:28.100934Z",
     "start_time": "2022-03-22T18:54:28.088602Z"
    }
   },
   "outputs": [],
   "source": [
    "df_full2 = df_full.copy()\n",
    "df_stats2 = df_stats.copy()"
   ]
  },
  {
   "cell_type": "markdown",
   "id": "8757cce3",
   "metadata": {},
   "source": [
    "## 2.1 Full Matches"
   ]
  },
  {
   "cell_type": "code",
   "execution_count": 326,
   "id": "877e6b88",
   "metadata": {
    "ExecuteTime": {
     "end_time": "2022-03-22T18:54:44.376844Z",
     "start_time": "2022-03-22T18:54:44.372103Z"
    }
   },
   "outputs": [],
   "source": [
    "df_full2 = df_full2[df_full2.temporada > 2018].reset_index(drop=True)"
   ]
  },
  {
   "cell_type": "code",
   "execution_count": 327,
   "id": "38a87c0e",
   "metadata": {
    "ExecuteTime": {
     "end_time": "2022-03-22T18:54:45.096941Z",
     "start_time": "2022-03-22T18:54:45.064155Z"
    }
   },
   "outputs": [
    {
     "name": "stdout",
     "output_type": "stream",
     "text": [
      "% of NaN\n"
     ]
    },
    {
     "data": {
      "text/plain": [
       "ID                    0.0\n",
       "rodada                0.0\n",
       "temporada             0.0\n",
       "data                  0.0\n",
       "hora                  0.0\n",
       "dia                   0.0\n",
       "mandante              0.0\n",
       "visitante             0.0\n",
       "formacao_mandante     0.0\n",
       "formacao_visitante    0.0\n",
       "tecnico_mandante      0.0\n",
       "tecnico_visitante     0.0\n",
       "vencedor              0.0\n",
       "arena                 0.0\n",
       "mandante_placar       0.0\n",
       "visitante_placar      0.0\n",
       "mandante_estado       0.0\n",
       "visitante_estado      0.0\n",
       "estado_vencedor       0.0\n",
       "dtype: float64"
      ]
     },
     "execution_count": 327,
     "metadata": {},
     "output_type": "execute_result"
    }
   ],
   "source": [
    "print('% of NaN')\n",
    "df_full2.isna().sum()/df_full2.shape[0]"
   ]
  },
  {
   "cell_type": "code",
   "execution_count": 329,
   "id": "b720b8cc",
   "metadata": {
    "ExecuteTime": {
     "end_time": "2022-03-22T18:54:55.970639Z",
     "start_time": "2022-03-22T18:54:55.959690Z"
    }
   },
   "outputs": [],
   "source": [
    "# para garantir features com itens unicos\n",
    "def lower_case_features(df):\n",
    "    \"\"\"\n",
    "    Transforma todas as letras em minúsculas\n",
    "    \"\"\"\n",
    "    for column in df.columns.tolist():\n",
    "        if (df[column].dtypes == 'object'):\n",
    "            df[column] = [x.lower() for x in df[column].values]\n",
    "    return df\n",
    "            \n",
    "df_full2 = lower_case_features(df_full2)"
   ]
  },
  {
   "cell_type": "code",
   "execution_count": 330,
   "id": "e468e9b2",
   "metadata": {
    "ExecuteTime": {
     "end_time": "2022-03-22T18:54:56.824578Z",
     "start_time": "2022-03-22T18:54:56.797561Z"
    }
   },
   "outputs": [],
   "source": [
    "# criar as classes da variável alvo\n",
    "def encode_target(row):\n",
    "    \"\"\"\n",
    "    Tranforma os resultados com base no vencedor, seguindo:\n",
    "    0 - empate\n",
    "    1 - mandante\n",
    "    2 - visitante\n",
    "    \"\"\"\n",
    "    if row['mandante'] == row['vencedor']:\n",
    "        return 1\n",
    "    elif row['visitante'] == row['vencedor']:\n",
    "        return 2\n",
    "    else:\n",
    "        return 0\n",
    "\n",
    "df_full2['vencedor'] = df_full2.apply(encode_target, axis = 1)    "
   ]
  },
  {
   "cell_type": "code",
   "execution_count": 332,
   "id": "9da3f59f",
   "metadata": {
    "ExecuteTime": {
     "end_time": "2022-03-22T18:55:06.389661Z",
     "start_time": "2022-03-22T18:55:06.385250Z"
    }
   },
   "outputs": [],
   "source": [
    "df_full2 = df_full2.reset_index(drop=True)"
   ]
  },
  {
   "cell_type": "markdown",
   "id": "44d75f87",
   "metadata": {},
   "source": [
    "## 2.2 Full Statistics"
   ]
  },
  {
   "cell_type": "code",
   "execution_count": 334,
   "id": "892dc9ad",
   "metadata": {
    "ExecuteTime": {
     "end_time": "2022-03-22T18:55:13.575966Z",
     "start_time": "2022-03-22T18:55:13.561105Z"
    }
   },
   "outputs": [
    {
     "data": {
      "text/html": [
       "<div>\n",
       "<style scoped>\n",
       "    .dataframe tbody tr th:only-of-type {\n",
       "        vertical-align: middle;\n",
       "    }\n",
       "\n",
       "    .dataframe tbody tr th {\n",
       "        vertical-align: top;\n",
       "    }\n",
       "\n",
       "    .dataframe thead th {\n",
       "        text-align: right;\n",
       "    }\n",
       "</style>\n",
       "<table border=\"1\" class=\"dataframe\">\n",
       "  <thead>\n",
       "    <tr style=\"text-align: right;\">\n",
       "      <th></th>\n",
       "      <th>ID</th>\n",
       "      <th>rodada</th>\n",
       "      <th>temporada</th>\n",
       "      <th>data</th>\n",
       "      <th>hora</th>\n",
       "      <th>dia</th>\n",
       "      <th>mandante</th>\n",
       "      <th>visitante</th>\n",
       "      <th>formacao_mandante</th>\n",
       "      <th>formacao_visitante</th>\n",
       "      <th>tecnico_mandante</th>\n",
       "      <th>tecnico_visitante</th>\n",
       "      <th>vencedor</th>\n",
       "      <th>arena</th>\n",
       "      <th>mandante_placar</th>\n",
       "      <th>visitante_placar</th>\n",
       "      <th>mandante_estado</th>\n",
       "      <th>visitante_estado</th>\n",
       "      <th>estado_vencedor</th>\n",
       "    </tr>\n",
       "  </thead>\n",
       "  <tbody>\n",
       "    <tr>\n",
       "      <th>0</th>\n",
       "      <td>6506</td>\n",
       "      <td>1</td>\n",
       "      <td>2019</td>\n",
       "      <td>2019-04-27</td>\n",
       "      <td>16:02</td>\n",
       "      <td>sabado</td>\n",
       "      <td>sao paulo</td>\n",
       "      <td>botafogo-rj</td>\n",
       "      <td>4-2-3-1</td>\n",
       "      <td>4-1-4-1</td>\n",
       "      <td>e. de souza barroca</td>\n",
       "      <td>e. de souza barroca</td>\n",
       "      <td>1</td>\n",
       "      <td>morumbi</td>\n",
       "      <td>2</td>\n",
       "      <td>0</td>\n",
       "      <td>sp</td>\n",
       "      <td>rj</td>\n",
       "      <td>sp</td>\n",
       "    </tr>\n",
       "    <tr>\n",
       "      <th>1</th>\n",
       "      <td>6507</td>\n",
       "      <td>1</td>\n",
       "      <td>2019</td>\n",
       "      <td>2019-04-27</td>\n",
       "      <td>19:00</td>\n",
       "      <td>sabado</td>\n",
       "      <td>atletico-mg</td>\n",
       "      <td>avai</td>\n",
       "      <td>4-2-3-1</td>\n",
       "      <td>4-1-4-1</td>\n",
       "      <td>e. machado souto</td>\n",
       "      <td>e. machado souto</td>\n",
       "      <td>1</td>\n",
       "      <td>estadio raimundo sampaio</td>\n",
       "      <td>2</td>\n",
       "      <td>1</td>\n",
       "      <td>mg</td>\n",
       "      <td>sc</td>\n",
       "      <td>mg</td>\n",
       "    </tr>\n",
       "    <tr>\n",
       "      <th>2</th>\n",
       "      <td>6508</td>\n",
       "      <td>1</td>\n",
       "      <td>2019</td>\n",
       "      <td>2019-04-27</td>\n",
       "      <td>19:01</td>\n",
       "      <td>sabado</td>\n",
       "      <td>chapecoense</td>\n",
       "      <td>internacional</td>\n",
       "      <td>4-2-3-1</td>\n",
       "      <td>4-3-3</td>\n",
       "      <td>o. hellmann</td>\n",
       "      <td>o. hellmann</td>\n",
       "      <td>1</td>\n",
       "      <td>arena conda</td>\n",
       "      <td>2</td>\n",
       "      <td>0</td>\n",
       "      <td>sc</td>\n",
       "      <td>rs</td>\n",
       "      <td>sc</td>\n",
       "    </tr>\n",
       "    <tr>\n",
       "      <th>3</th>\n",
       "      <td>6509</td>\n",
       "      <td>1</td>\n",
       "      <td>2019</td>\n",
       "      <td>2019-04-27</td>\n",
       "      <td>21:00</td>\n",
       "      <td>sabado</td>\n",
       "      <td>flamengo</td>\n",
       "      <td>cruzeiro</td>\n",
       "      <td>4-2-3-1</td>\n",
       "      <td>4-2-3-1</td>\n",
       "      <td>l. venker de menezes</td>\n",
       "      <td>l. venker de menezes</td>\n",
       "      <td>1</td>\n",
       "      <td>maracana</td>\n",
       "      <td>3</td>\n",
       "      <td>1</td>\n",
       "      <td>rj</td>\n",
       "      <td>mg</td>\n",
       "      <td>rj</td>\n",
       "    </tr>\n",
       "    <tr>\n",
       "      <th>4</th>\n",
       "      <td>6510</td>\n",
       "      <td>1</td>\n",
       "      <td>2019</td>\n",
       "      <td>2019-04-28</td>\n",
       "      <td>11:03</td>\n",
       "      <td>domingo</td>\n",
       "      <td>gremio</td>\n",
       "      <td>santos</td>\n",
       "      <td>4-2-3-1</td>\n",
       "      <td>3-4-1-2</td>\n",
       "      <td>j. sampaoli moya</td>\n",
       "      <td>j. sampaoli moya</td>\n",
       "      <td>2</td>\n",
       "      <td>arena do gremio</td>\n",
       "      <td>1</td>\n",
       "      <td>2</td>\n",
       "      <td>rs</td>\n",
       "      <td>sp</td>\n",
       "      <td>sp</td>\n",
       "    </tr>\n",
       "  </tbody>\n",
       "</table>\n",
       "</div>"
      ],
      "text/plain": [
       "     ID  rodada  temporada       data   hora      dia     mandante  \\\n",
       "0  6506       1       2019 2019-04-27  16:02   sabado    sao paulo   \n",
       "1  6507       1       2019 2019-04-27  19:00   sabado  atletico-mg   \n",
       "2  6508       1       2019 2019-04-27  19:01   sabado  chapecoense   \n",
       "3  6509       1       2019 2019-04-27  21:00   sabado     flamengo   \n",
       "4  6510       1       2019 2019-04-28  11:03  domingo       gremio   \n",
       "\n",
       "       visitante formacao_mandante formacao_visitante      tecnico_mandante  \\\n",
       "0    botafogo-rj           4-2-3-1            4-1-4-1   e. de souza barroca   \n",
       "1           avai           4-2-3-1            4-1-4-1      e. machado souto   \n",
       "2  internacional           4-2-3-1              4-3-3           o. hellmann   \n",
       "3       cruzeiro           4-2-3-1            4-2-3-1  l. venker de menezes   \n",
       "4         santos           4-2-3-1            3-4-1-2      j. sampaoli moya   \n",
       "\n",
       "      tecnico_visitante  vencedor                     arena  mandante_placar  \\\n",
       "0   e. de souza barroca         1                   morumbi                2   \n",
       "1      e. machado souto         1  estadio raimundo sampaio                2   \n",
       "2           o. hellmann         1               arena conda                2   \n",
       "3  l. venker de menezes         1                  maracana                3   \n",
       "4      j. sampaoli moya         2           arena do gremio                1   \n",
       "\n",
       "   visitante_placar mandante_estado visitante_estado estado_vencedor  \n",
       "0                 0              sp               rj              sp  \n",
       "1                 1              mg               sc              mg  \n",
       "2                 0              sc               rs              sc  \n",
       "3                 1              rj               mg              rj  \n",
       "4                 2              rs               sp              sp  "
      ]
     },
     "execution_count": 334,
     "metadata": {},
     "output_type": "execute_result"
    }
   ],
   "source": [
    "df_full2.head()"
   ]
  },
  {
   "cell_type": "code",
   "execution_count": 335,
   "id": "be6a33b0",
   "metadata": {
    "ExecuteTime": {
     "end_time": "2022-03-22T18:55:14.939608Z",
     "start_time": "2022-03-22T18:55:14.935928Z"
    }
   },
   "outputs": [
    {
     "name": "stdout",
     "output_type": "stream",
     "text": [
      "O primeiro ID das partidas desde 2019 é: 6506\n"
     ]
    }
   ],
   "source": [
    "print('O primeiro ID das partidas desde 2019 é:', df_full2.loc[0,'ID'])"
   ]
  },
  {
   "cell_type": "code",
   "execution_count": 336,
   "id": "295a963d",
   "metadata": {
    "ExecuteTime": {
     "end_time": "2022-03-22T18:55:15.917418Z",
     "start_time": "2022-03-22T18:55:15.910931Z"
    }
   },
   "outputs": [],
   "source": [
    "# Entao servira como filtro\n",
    "df_stats2 = df_stats2[df_stats2.ID > df_full2.loc[0,'ID']]"
   ]
  },
  {
   "cell_type": "code",
   "execution_count": 337,
   "id": "e5c49279",
   "metadata": {
    "ExecuteTime": {
     "end_time": "2022-03-22T18:55:16.845722Z",
     "start_time": "2022-03-22T18:55:16.836121Z"
    }
   },
   "outputs": [
    {
     "name": "stdout",
     "output_type": "stream",
     "text": [
      "% of NaN\n"
     ]
    },
    {
     "data": {
      "text/plain": [
       "ID                 0.0\n",
       "rodada             0.0\n",
       "clube              0.0\n",
       "chutes             0.0\n",
       "chutes_no_alvo     0.0\n",
       "posse_de_bola      0.0\n",
       "passes             0.0\n",
       "precisao_passes    0.0\n",
       "faltas             0.0\n",
       "cartao_amarelo     0.0\n",
       "cartao_vermelho    0.0\n",
       "impedimentos       0.0\n",
       "escanteios         0.0\n",
       "dtype: float64"
      ]
     },
     "execution_count": 337,
     "metadata": {},
     "output_type": "execute_result"
    }
   ],
   "source": [
    "print('% of NaN')\n",
    "df_stats2.isna().sum()/df_stats2.shape[0]"
   ]
  },
  {
   "cell_type": "code",
   "execution_count": 338,
   "id": "335c76eb",
   "metadata": {
    "ExecuteTime": {
     "end_time": "2022-03-22T18:55:19.728828Z",
     "start_time": "2022-03-22T18:55:19.723751Z"
    }
   },
   "outputs": [],
   "source": [
    "df_stats2 = df_stats2.reset_index(drop=True)"
   ]
  },
  {
   "cell_type": "code",
   "execution_count": 339,
   "id": "b2671542",
   "metadata": {
    "ExecuteTime": {
     "end_time": "2022-03-22T18:55:20.151183Z",
     "start_time": "2022-03-22T18:55:20.127865Z"
    }
   },
   "outputs": [],
   "source": [
    "# alguns valores de posse_de_bola e precisao_passes sao object, possuem Nan e simbolo '%'\n",
    "df_stats2['posse_de_bola'] = df_stats2['posse_de_bola'].apply(lambda x: np.nan if x == 'None' else x)\n",
    "df_stats2['precisao_passes'] = df_stats2['precisao_passes'].apply(lambda x: np.nan if x == 'None' else x)\n",
    "\n",
    "# retirando \n",
    "df_stats2 = df_stats2.dropna()\n",
    "\n",
    "df_stats2['posse_de_bola'] = df_stats2['posse_de_bola'].apply(lambda x: int(x[0:2])/100)\n",
    "df_stats2['precisao_passes'] = df_stats2['precisao_passes'].apply(lambda x: int(x[0:2])/100)\n",
    "\n",
    "df_stats2 = lower_case_features(df_stats2)\n",
    "df_stats2 = df_stats2.reset_index(drop=True)"
   ]
  },
  {
   "cell_type": "markdown",
   "id": "70c70097",
   "metadata": {},
   "source": [
    "# 3.0 Exploratory Data Analysis"
   ]
  },
  {
   "cell_type": "code",
   "execution_count": 341,
   "id": "76981a1d",
   "metadata": {
    "ExecuteTime": {
     "end_time": "2022-03-22T18:55:25.740468Z",
     "start_time": "2022-03-22T18:55:25.737139Z"
    }
   },
   "outputs": [],
   "source": [
    "df_full3 = df_full2.copy()\n",
    "df_stats3 = df_stats2.copy()"
   ]
  },
  {
   "cell_type": "markdown",
   "id": "0d5f00ea",
   "metadata": {},
   "source": [
    "## 3.1 Winner by Place "
   ]
  },
  {
   "cell_type": "code",
   "execution_count": 342,
   "id": "d93fbfdc",
   "metadata": {
    "ExecuteTime": {
     "end_time": "2022-03-22T18:55:26.823665Z",
     "start_time": "2022-03-22T18:55:26.736536Z"
    }
   },
   "outputs": [
    {
     "data": {
      "image/png": "[encoded data removed]",
      "text/plain": [
       "<Figure size 432x288 with 1 Axes>"
      ]
     },
     "metadata": {
      "needs_background": "light"
     },
     "output_type": "display_data"
    }
   ],
   "source": [
    "df_full2.vencedor.value_counts(normalize=True).plot(kind='bar');\n",
    "plt.xticks(ticks=[0, 1, 2], labels=['Mandante', 'Empate', 'Visitante']);"
   ]
  },
  {
   "cell_type": "code",
   "execution_count": 343,
   "id": "25be8193",
   "metadata": {
    "ExecuteTime": {
     "end_time": "2022-03-22T18:55:28.941030Z",
     "start_time": "2022-03-22T18:55:28.936734Z"
    }
   },
   "outputs": [
    {
     "name": "stdout",
     "output_type": "stream",
     "text": [
      "A maioria dos jogos são vencidos pelos mandantes, a uma proporção de 46.40%\n"
     ]
    }
   ],
   "source": [
    "print('A maioria dos jogos são vencidos pelos mandantes, a uma proporção de {:2.2%}'.format(max(df_full3.vencedor.value_counts(normalize=True))))"
   ]
  },
  {
   "cell_type": "markdown",
   "id": "bd058ae2",
   "metadata": {},
   "source": [
    "## 3.2 Winner by Day of the Week"
   ]
  },
  {
   "cell_type": "code",
   "execution_count": 348,
   "id": "3c7c64e0",
   "metadata": {
    "ExecuteTime": {
     "end_time": "2022-03-22T18:56:54.671525Z",
     "start_time": "2022-03-22T18:56:54.516025Z"
    }
   },
   "outputs": [
    {
     "data": {
      "image/png": "[encoded data removed]",
      "text/plain": [
       "<Figure size 432x288 with 1 Axes>"
      ]
     },
     "metadata": {
      "needs_background": "light"
     },
     "output_type": "display_data"
    }
   ],
   "source": [
    "sns.countplot(y=df_full2.dia, hue=df_full2.vencedor, order=['domingo', 'segunda-feira', 'terça-feira', 'quarta-feira', 'quinta-feira', 'sexta-feira', 'sabado']);\n",
    "plt.legend(['Empate', 'Mandante', 'Visitante']);"
   ]
  },
  {
   "cell_type": "markdown",
   "id": "ccdea104",
   "metadata": {},
   "source": [
    "## 3.3 Winner by State "
   ]
  },
  {
   "cell_type": "code",
   "execution_count": 283,
   "id": "dcad00eb",
   "metadata": {
    "ExecuteTime": {
     "end_time": "2022-03-22T18:50:51.296036Z",
     "start_time": "2022-03-22T18:50:51.170953Z"
    }
   },
   "outputs": [
    {
     "data": {
      "image/png": "[encoded data removed]",
      "text/plain": [
       "<Figure size 432x288 with 1 Axes>"
      ]
     },
     "metadata": {
      "needs_background": "light"
     },
     "output_type": "display_data"
    }
   ],
   "source": [
    "sns.countplot(y=df_full2[df_full2['estado_vencedor'] != '-'].estado_vencedor);"
   ]
  },
  {
   "cell_type": "markdown",
   "id": "86a8806c",
   "metadata": {},
   "source": [
    "## 3.4 Goals Distribution "
   ]
  },
  {
   "cell_type": "code",
   "execution_count": 367,
   "id": "32bc552f",
   "metadata": {
    "ExecuteTime": {
     "end_time": "2022-03-22T19:04:39.551534Z",
     "start_time": "2022-03-22T19:04:39.393711Z"
    }
   },
   "outputs": [
    {
     "data": {
      "text/plain": [
       "<matplotlib.legend.Legend at 0x7f77a34426d0>"
      ]
     },
     "execution_count": 367,
     "metadata": {},
     "output_type": "execute_result"
    },
    {
     "data": {
      "image/png": "[encoded data removed]",
      "text/plain": [
       "<Figure size 432x288 with 1 Axes>"
      ]
     },
     "metadata": {
      "needs_background": "light"
     },
     "output_type": "display_data"
    }
   ],
   "source": [
    "sns.histplot(data=df_full2[['mandante_placar', 'visitante_placar']], discrete=True, binwidth=0.5, fill=False );\n",
    "plt.legend(['Mandante', 'Visitante']);"
   ]
  },
  {
   "cell_type": "markdown",
   "id": "24c36aec",
   "metadata": {},
   "source": [
    "#  4.0 Feature Engineering"
   ]
  },
  {
   "cell_type": "markdown",
   "id": "ac986e01",
   "metadata": {},
   "source": [
    "# 5.0 Machine Learning Models "
   ]
  },
  {
   "cell_type": "markdown",
   "id": "23dcfea8",
   "metadata": {},
   "source": [
    "# 6.0 Fine Tuning "
   ]
  },
  {
   "cell_type": "code",
   "execution_count": null,
   "id": "af33d276",
   "metadata": {},
   "outputs": [],
   "source": []
  }
 ],
 "metadata": {
  "kernelspec": {
   "display_name": "Python 3 (ipykernel)",
   "language": "python",
   "name": "python3"
  },
  "language_info": {
   "codemirror_mode": {
    "name": "ipython",
    "version": 3
   },
   "file_extension": ".py",
   "mimetype": "text/x-python",
   "name": "python",
   "nbconvert_exporter": "python",
   "pygments_lexer": "ipython3",
   "version": "3.9.7"
  }
 },
 "nbformat": 4,
 "nbformat_minor": 5
}
