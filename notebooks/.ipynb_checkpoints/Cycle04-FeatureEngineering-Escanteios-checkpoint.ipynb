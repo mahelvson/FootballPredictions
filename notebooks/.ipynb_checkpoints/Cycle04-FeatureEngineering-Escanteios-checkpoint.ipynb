{
 "cells": [
  {
   "cell_type": "markdown",
   "id": "648a4712",
   "metadata": {},
   "source": [
    "# 0. Imports "
   ]
  },
  {
   "cell_type": "code",
   "execution_count": 1,
   "id": "0b87f4ad",
   "metadata": {
    "ExecuteTime": {
     "end_time": "2022-03-11T13:17:10.385527Z",
     "start_time": "2022-03-11T13:17:06.889581Z"
    }
   },
   "outputs": [
    {
     "name": "stderr",
     "output_type": "stream",
     "text": [
      "/home/mahelvson/anaconda3/envs/foot/lib/python3.9/site-packages/xgboost/compat.py:36: FutureWarning: pandas.Int64Index is deprecated and will be removed from pandas in a future version. Use pandas.Index with the appropriate dtype instead.\n",
      "  from pandas import MultiIndex, Int64Index\n"
     ]
    }
   ],
   "source": [
    "import pandas as pd\n",
    "import numpy as np\n",
    "import matplotlib.pyplot as plt\n",
    "import seaborn as sns\n",
    "import xgboost as xgb\n",
    "\n",
    "from os import listdir\n",
    "from sklearn.model_selection import train_test_split\n",
    "from sklearn.metrics import confusion_matrix, accuracy_score, classification_report\n",
    "from sklearn.ensemble import RandomForestRegressor\n",
    "from sklearn.metrics import mean_absolute_error, mean_squared_error"
   ]
  },
  {
   "cell_type": "markdown",
   "id": "25b9bf7e",
   "metadata": {},
   "source": [
    "# 1. Loading Data "
   ]
  },
  {
   "cell_type": "code",
   "execution_count": 2,
   "id": "b9bc9da9",
   "metadata": {
    "ExecuteTime": {
     "end_time": "2022-03-11T13:17:10.393057Z",
     "start_time": "2022-03-11T13:17:10.387662Z"
    }
   },
   "outputs": [],
   "source": [
    "data_path = '../datasets/'\n",
    "files = listdir(data_path)"
   ]
  },
  {
   "cell_type": "code",
   "execution_count": 3,
   "id": "e40fc1d5",
   "metadata": {
    "ExecuteTime": {
     "end_time": "2022-03-11T13:17:10.403486Z",
     "start_time": "2022-03-11T13:17:10.395161Z"
    }
   },
   "outputs": [
    {
     "data": {
      "text/plain": [
       "['campeonato-brasileiro-cartoes.csv',\n",
       " 'campeonato-brasileiro-full.csv',\n",
       " 'campeonato-brasileiro-estatisticas-full.csv',\n",
       " 'campeonato-brasileiro-gols.csv',\n",
       " 'Legenda.txt']"
      ]
     },
     "execution_count": 3,
     "metadata": {},
     "output_type": "execute_result"
    }
   ],
   "source": [
    "files"
   ]
  },
  {
   "cell_type": "code",
   "execution_count": 4,
   "id": "71d0ac19",
   "metadata": {
    "ExecuteTime": {
     "end_time": "2022-03-11T13:17:10.410950Z",
     "start_time": "2022-03-11T13:17:10.407617Z"
    }
   },
   "outputs": [],
   "source": [
    "cards = files[0]\n",
    "full = files[1]\n",
    "stats = files[2]\n",
    "goals = files[3]"
   ]
  },
  {
   "cell_type": "markdown",
   "id": "402e3783",
   "metadata": {},
   "source": [
    "## 1.1 Cards"
   ]
  },
  {
   "cell_type": "code",
   "execution_count": 5,
   "id": "bad57e66",
   "metadata": {
    "ExecuteTime": {
     "end_time": "2022-03-11T13:17:10.458190Z",
     "start_time": "2022-03-11T13:17:10.413192Z"
    }
   },
   "outputs": [
    {
     "data": {
      "text/html": [
       "<div>\n",
       "<style scoped>\n",
       "    .dataframe tbody tr th:only-of-type {\n",
       "        vertical-align: middle;\n",
       "    }\n",
       "\n",
       "    .dataframe tbody tr th {\n",
       "        vertical-align: top;\n",
       "    }\n",
       "\n",
       "    .dataframe thead th {\n",
       "        text-align: right;\n",
       "    }\n",
       "</style>\n",
       "<table border=\"1\" class=\"dataframe\">\n",
       "  <thead>\n",
       "    <tr style=\"text-align: right;\">\n",
       "      <th></th>\n",
       "      <th>partida_id</th>\n",
       "      <th>rodada</th>\n",
       "      <th>clube</th>\n",
       "      <th>cartao</th>\n",
       "      <th>atleta</th>\n",
       "      <th>num_camisa</th>\n",
       "      <th>posicao</th>\n",
       "      <th>minuto</th>\n",
       "    </tr>\n",
       "  </thead>\n",
       "  <tbody>\n",
       "    <tr>\n",
       "      <th>0</th>\n",
       "      <td>4607</td>\n",
       "      <td>1</td>\n",
       "      <td>Figueirense</td>\n",
       "      <td>Amarelo</td>\n",
       "      <td>Thiago Heleno</td>\n",
       "      <td>4.0</td>\n",
       "      <td>Zagueiro</td>\n",
       "      <td>44</td>\n",
       "    </tr>\n",
       "    <tr>\n",
       "      <th>1</th>\n",
       "      <td>4607</td>\n",
       "      <td>1</td>\n",
       "      <td>Figueirense</td>\n",
       "      <td>Amarelo</td>\n",
       "      <td>Paulo Roberto da Silva</td>\n",
       "      <td>28.0</td>\n",
       "      <td>NaN</td>\n",
       "      <td>66</td>\n",
       "    </tr>\n",
       "    <tr>\n",
       "      <th>2</th>\n",
       "      <td>4608</td>\n",
       "      <td>1</td>\n",
       "      <td>Internacional</td>\n",
       "      <td>Amarelo</td>\n",
       "      <td>Juan Silveira dos Santos</td>\n",
       "      <td>4.0</td>\n",
       "      <td>Zagueiro</td>\n",
       "      <td>20</td>\n",
       "    </tr>\n",
       "    <tr>\n",
       "      <th>3</th>\n",
       "      <td>4608</td>\n",
       "      <td>1</td>\n",
       "      <td>Vitoria</td>\n",
       "      <td>Amarelo</td>\n",
       "      <td>Vinícius Santos Silva</td>\n",
       "      <td>NaN</td>\n",
       "      <td>NaN</td>\n",
       "      <td>82</td>\n",
       "    </tr>\n",
       "    <tr>\n",
       "      <th>4</th>\n",
       "      <td>4608</td>\n",
       "      <td>1</td>\n",
       "      <td>Internacional</td>\n",
       "      <td>Amarelo</td>\n",
       "      <td>Andrés D'Alessandro</td>\n",
       "      <td>10.0</td>\n",
       "      <td>Meio-campo</td>\n",
       "      <td>72</td>\n",
       "    </tr>\n",
       "  </tbody>\n",
       "</table>\n",
       "</div>"
      ],
      "text/plain": [
       "   partida_id  rodada          clube   cartao                    atleta  \\\n",
       "0        4607       1    Figueirense  Amarelo             Thiago Heleno   \n",
       "1        4607       1    Figueirense  Amarelo    Paulo Roberto da Silva   \n",
       "2        4608       1  Internacional  Amarelo  Juan Silveira dos Santos   \n",
       "3        4608       1        Vitoria  Amarelo     Vinícius Santos Silva   \n",
       "4        4608       1  Internacional  Amarelo       Andrés D'Alessandro   \n",
       "\n",
       "   num_camisa     posicao minuto  \n",
       "0         4.0    Zagueiro     44  \n",
       "1        28.0         NaN     66  \n",
       "2         4.0    Zagueiro     20  \n",
       "3         NaN         NaN     82  \n",
       "4        10.0  Meio-campo     72  "
      ]
     },
     "execution_count": 5,
     "metadata": {},
     "output_type": "execute_result"
    }
   ],
   "source": [
    "df_cards = pd.read_csv(data_path + cards)\n",
    "df_cards.head()"
   ]
  },
  {
   "cell_type": "code",
   "execution_count": 6,
   "id": "5451bc20",
   "metadata": {
    "ExecuteTime": {
     "end_time": "2022-03-11T13:17:11.020927Z",
     "start_time": "2022-03-11T13:17:10.960119Z"
    }
   },
   "outputs": [
    {
     "data": {
      "text/plain": [
       "partida_id    0.000000\n",
       "rodada        0.000000\n",
       "clube         0.000000\n",
       "cartao        0.000000\n",
       "atleta        0.000406\n",
       "num_camisa    0.026138\n",
       "posicao       0.081121\n",
       "minuto        0.000000\n",
       "dtype: float64"
      ]
     },
     "execution_count": 6,
     "metadata": {},
     "output_type": "execute_result"
    }
   ],
   "source": [
    "df_cards.isna().sum() / df_cards.shape[0]"
   ]
  },
  {
   "cell_type": "code",
   "execution_count": 7,
   "id": "06865881",
   "metadata": {
    "ExecuteTime": {
     "end_time": "2022-03-11T13:17:11.645113Z",
     "start_time": "2022-03-11T13:17:11.633951Z"
    }
   },
   "outputs": [
    {
     "data": {
      "text/plain": [
       "(14768, 8)"
      ]
     },
     "execution_count": 7,
     "metadata": {},
     "output_type": "execute_result"
    }
   ],
   "source": [
    "df_cards.shape"
   ]
  },
  {
   "cell_type": "code",
   "execution_count": 8,
   "id": "1573bdf7",
   "metadata": {
    "ExecuteTime": {
     "end_time": "2022-03-11T13:17:12.192526Z",
     "start_time": "2022-03-11T13:17:12.184095Z"
    }
   },
   "outputs": [
    {
     "data": {
      "text/plain": [
       "partida_id      int64\n",
       "rodada          int64\n",
       "clube          object\n",
       "cartao         object\n",
       "atleta         object\n",
       "num_camisa    float64\n",
       "posicao        object\n",
       "minuto         object\n",
       "dtype: object"
      ]
     },
     "execution_count": 8,
     "metadata": {},
     "output_type": "execute_result"
    }
   ],
   "source": [
    "df_cards.dtypes"
   ]
  },
  {
   "cell_type": "markdown",
   "id": "6b202bf5",
   "metadata": {},
   "source": [
    "Quantidade de NaN é no máximo 8% em relação ao total da registros."
   ]
  },
  {
   "cell_type": "markdown",
   "id": "773ebda2",
   "metadata": {},
   "source": [
    "## 1.2 Full"
   ]
  },
  {
   "cell_type": "code",
   "execution_count": 9,
   "id": "b0198203",
   "metadata": {
    "ExecuteTime": {
     "end_time": "2022-03-11T13:17:13.827661Z",
     "start_time": "2022-03-11T13:17:13.772313Z"
    }
   },
   "outputs": [
    {
     "data": {
      "text/html": [
       "<div>\n",
       "<style scoped>\n",
       "    .dataframe tbody tr th:only-of-type {\n",
       "        vertical-align: middle;\n",
       "    }\n",
       "\n",
       "    .dataframe tbody tr th {\n",
       "        vertical-align: top;\n",
       "    }\n",
       "\n",
       "    .dataframe thead th {\n",
       "        text-align: right;\n",
       "    }\n",
       "</style>\n",
       "<table border=\"1\" class=\"dataframe\">\n",
       "  <thead>\n",
       "    <tr style=\"text-align: right;\">\n",
       "      <th></th>\n",
       "      <th>ID</th>\n",
       "      <th>rodada</th>\n",
       "      <th>data</th>\n",
       "      <th>hora</th>\n",
       "      <th>dia</th>\n",
       "      <th>mandante</th>\n",
       "      <th>visitante</th>\n",
       "      <th>formacao_mandante</th>\n",
       "      <th>formacao_visitante</th>\n",
       "      <th>tecnico_mandante</th>\n",
       "      <th>tecnico_visitante</th>\n",
       "      <th>vencedor</th>\n",
       "      <th>arena</th>\n",
       "      <th>mandante_placar</th>\n",
       "      <th>visitante_placar</th>\n",
       "      <th>mandante_estado</th>\n",
       "      <th>visitante_estado</th>\n",
       "      <th>estado_vencedor</th>\n",
       "    </tr>\n",
       "  </thead>\n",
       "  <tbody>\n",
       "    <tr>\n",
       "      <th>0</th>\n",
       "      <td>1</td>\n",
       "      <td>1</td>\n",
       "      <td>2003-03-29</td>\n",
       "      <td>16:00</td>\n",
       "      <td>Sabado</td>\n",
       "      <td>Guarani</td>\n",
       "      <td>Vasco</td>\n",
       "      <td>NaN</td>\n",
       "      <td>NaN</td>\n",
       "      <td>NaN</td>\n",
       "      <td>NaN</td>\n",
       "      <td>Guarani</td>\n",
       "      <td>brinco de ouro</td>\n",
       "      <td>4</td>\n",
       "      <td>2</td>\n",
       "      <td>SP</td>\n",
       "      <td>RJ</td>\n",
       "      <td>SP</td>\n",
       "    </tr>\n",
       "    <tr>\n",
       "      <th>1</th>\n",
       "      <td>2</td>\n",
       "      <td>1</td>\n",
       "      <td>2003-03-29</td>\n",
       "      <td>16:00</td>\n",
       "      <td>Sabado</td>\n",
       "      <td>Athletico-PR</td>\n",
       "      <td>Gremio</td>\n",
       "      <td>NaN</td>\n",
       "      <td>NaN</td>\n",
       "      <td>NaN</td>\n",
       "      <td>NaN</td>\n",
       "      <td>Athletico-PR</td>\n",
       "      <td>arena da baixada</td>\n",
       "      <td>2</td>\n",
       "      <td>0</td>\n",
       "      <td>PR</td>\n",
       "      <td>RS</td>\n",
       "      <td>PR</td>\n",
       "    </tr>\n",
       "    <tr>\n",
       "      <th>2</th>\n",
       "      <td>3</td>\n",
       "      <td>1</td>\n",
       "      <td>2003-03-30</td>\n",
       "      <td>16:00</td>\n",
       "      <td>Domingo</td>\n",
       "      <td>Flamengo</td>\n",
       "      <td>Coritiba</td>\n",
       "      <td>NaN</td>\n",
       "      <td>NaN</td>\n",
       "      <td>NaN</td>\n",
       "      <td>NaN</td>\n",
       "      <td>-</td>\n",
       "      <td>maracana</td>\n",
       "      <td>1</td>\n",
       "      <td>1</td>\n",
       "      <td>RJ</td>\n",
       "      <td>PR</td>\n",
       "      <td>-</td>\n",
       "    </tr>\n",
       "    <tr>\n",
       "      <th>3</th>\n",
       "      <td>4</td>\n",
       "      <td>1</td>\n",
       "      <td>2003-03-30</td>\n",
       "      <td>16:00</td>\n",
       "      <td>Domingo</td>\n",
       "      <td>Goias</td>\n",
       "      <td>Paysandu</td>\n",
       "      <td>NaN</td>\n",
       "      <td>NaN</td>\n",
       "      <td>NaN</td>\n",
       "      <td>NaN</td>\n",
       "      <td>-</td>\n",
       "      <td>serra dourada</td>\n",
       "      <td>2</td>\n",
       "      <td>2</td>\n",
       "      <td>GO</td>\n",
       "      <td>PA</td>\n",
       "      <td>-</td>\n",
       "    </tr>\n",
       "    <tr>\n",
       "      <th>4</th>\n",
       "      <td>5</td>\n",
       "      <td>1</td>\n",
       "      <td>2003-03-30</td>\n",
       "      <td>16:00</td>\n",
       "      <td>Domingo</td>\n",
       "      <td>Internacional</td>\n",
       "      <td>Ponte Preta</td>\n",
       "      <td>NaN</td>\n",
       "      <td>NaN</td>\n",
       "      <td>NaN</td>\n",
       "      <td>NaN</td>\n",
       "      <td>-</td>\n",
       "      <td>beira rio</td>\n",
       "      <td>1</td>\n",
       "      <td>1</td>\n",
       "      <td>RS</td>\n",
       "      <td>SP</td>\n",
       "      <td>-</td>\n",
       "    </tr>\n",
       "    <tr>\n",
       "      <th>...</th>\n",
       "      <td>...</td>\n",
       "      <td>...</td>\n",
       "      <td>...</td>\n",
       "      <td>...</td>\n",
       "      <td>...</td>\n",
       "      <td>...</td>\n",
       "      <td>...</td>\n",
       "      <td>...</td>\n",
       "      <td>...</td>\n",
       "      <td>...</td>\n",
       "      <td>...</td>\n",
       "      <td>...</td>\n",
       "      <td>...</td>\n",
       "      <td>...</td>\n",
       "      <td>...</td>\n",
       "      <td>...</td>\n",
       "      <td>...</td>\n",
       "      <td>...</td>\n",
       "    </tr>\n",
       "    <tr>\n",
       "      <th>7640</th>\n",
       "      <td>7641</td>\n",
       "      <td>38</td>\n",
       "      <td>2021-12-12</td>\n",
       "      <td>21:33</td>\n",
       "      <td>Domingo</td>\n",
       "      <td>Bragantino</td>\n",
       "      <td>Internacional</td>\n",
       "      <td>4-2-3-1</td>\n",
       "      <td>3-4-2-1</td>\n",
       "      <td>D. Aguirre Camblor</td>\n",
       "      <td>D. Aguirre Camblor</td>\n",
       "      <td>Bragantino</td>\n",
       "      <td>nabizao</td>\n",
       "      <td>1</td>\n",
       "      <td>0</td>\n",
       "      <td>SP</td>\n",
       "      <td>RS</td>\n",
       "      <td>SP</td>\n",
       "    </tr>\n",
       "    <tr>\n",
       "      <th>7641</th>\n",
       "      <td>7642</td>\n",
       "      <td>38</td>\n",
       "      <td>2021-12-12</td>\n",
       "      <td>21:30</td>\n",
       "      <td>Domingo</td>\n",
       "      <td>Sport</td>\n",
       "      <td>Athletico-PR</td>\n",
       "      <td>4-2-3-1</td>\n",
       "      <td>3-4-2-1</td>\n",
       "      <td>J. Freitas</td>\n",
       "      <td>J. Freitas</td>\n",
       "      <td>-</td>\n",
       "      <td>arena de pernambuco</td>\n",
       "      <td>1</td>\n",
       "      <td>1</td>\n",
       "      <td>PE</td>\n",
       "      <td>PR</td>\n",
       "      <td>-</td>\n",
       "    </tr>\n",
       "    <tr>\n",
       "      <th>7642</th>\n",
       "      <td>7643</td>\n",
       "      <td>38</td>\n",
       "      <td>2021-12-12</td>\n",
       "      <td>21:33</td>\n",
       "      <td>Domingo</td>\n",
       "      <td>Juventude</td>\n",
       "      <td>Corinthians</td>\n",
       "      <td>3-4-3</td>\n",
       "      <td>4-3-3</td>\n",
       "      <td>S. Campos Junior</td>\n",
       "      <td>S. Campos Junior</td>\n",
       "      <td>Juventude</td>\n",
       "      <td>alfredo jaconi</td>\n",
       "      <td>1</td>\n",
       "      <td>0</td>\n",
       "      <td>RS</td>\n",
       "      <td>SP</td>\n",
       "      <td>RS</td>\n",
       "    </tr>\n",
       "    <tr>\n",
       "      <th>7643</th>\n",
       "      <td>7644</td>\n",
       "      <td>38</td>\n",
       "      <td>2021-12-12</td>\n",
       "      <td>21:33</td>\n",
       "      <td>Domingo</td>\n",
       "      <td>Gremio</td>\n",
       "      <td>Atletico-MG</td>\n",
       "      <td>4-2-3-1</td>\n",
       "      <td>4-2-3-1</td>\n",
       "      <td>A. Stival</td>\n",
       "      <td>A. Stival</td>\n",
       "      <td>Gremio</td>\n",
       "      <td>arena do gremio</td>\n",
       "      <td>4</td>\n",
       "      <td>3</td>\n",
       "      <td>RS</td>\n",
       "      <td>MG</td>\n",
       "      <td>RS</td>\n",
       "    </tr>\n",
       "    <tr>\n",
       "      <th>7644</th>\n",
       "      <td>7645</td>\n",
       "      <td>38</td>\n",
       "      <td>2021-12-12</td>\n",
       "      <td>21:33</td>\n",
       "      <td>Domingo</td>\n",
       "      <td>Santos</td>\n",
       "      <td>Cuiaba</td>\n",
       "      <td>3-4-2-1</td>\n",
       "      <td>4-4-2</td>\n",
       "      <td>J. de Amorim Campos</td>\n",
       "      <td>J. de Amorim Campos</td>\n",
       "      <td>-</td>\n",
       "      <td>estadio urbano caldeira</td>\n",
       "      <td>1</td>\n",
       "      <td>1</td>\n",
       "      <td>SP</td>\n",
       "      <td>MT</td>\n",
       "      <td>-</td>\n",
       "    </tr>\n",
       "  </tbody>\n",
       "</table>\n",
       "<p>7645 rows × 18 columns</p>\n",
       "</div>"
      ],
      "text/plain": [
       "        ID  rodada        data   hora      dia       mandante      visitante  \\\n",
       "0        1       1  2003-03-29  16:00   Sabado        Guarani          Vasco   \n",
       "1        2       1  2003-03-29  16:00   Sabado   Athletico-PR         Gremio   \n",
       "2        3       1  2003-03-30  16:00  Domingo       Flamengo       Coritiba   \n",
       "3        4       1  2003-03-30  16:00  Domingo          Goias       Paysandu   \n",
       "4        5       1  2003-03-30  16:00  Domingo  Internacional    Ponte Preta   \n",
       "...    ...     ...         ...    ...      ...            ...            ...   \n",
       "7640  7641      38  2021-12-12  21:33  Domingo     Bragantino  Internacional   \n",
       "7641  7642      38  2021-12-12  21:30  Domingo          Sport   Athletico-PR   \n",
       "7642  7643      38  2021-12-12  21:33  Domingo      Juventude    Corinthians   \n",
       "7643  7644      38  2021-12-12  21:33  Domingo         Gremio    Atletico-MG   \n",
       "7644  7645      38  2021-12-12  21:33  Domingo         Santos         Cuiaba   \n",
       "\n",
       "     formacao_mandante formacao_visitante     tecnico_mandante  \\\n",
       "0                  NaN                NaN                  NaN   \n",
       "1                  NaN                NaN                  NaN   \n",
       "2                  NaN                NaN                  NaN   \n",
       "3                  NaN                NaN                  NaN   \n",
       "4                  NaN                NaN                  NaN   \n",
       "...                ...                ...                  ...   \n",
       "7640           4-2-3-1            3-4-2-1   D. Aguirre Camblor   \n",
       "7641           4-2-3-1            3-4-2-1           J. Freitas   \n",
       "7642             3-4-3              4-3-3     S. Campos Junior   \n",
       "7643           4-2-3-1            4-2-3-1            A. Stival   \n",
       "7644           3-4-2-1              4-4-2  J. de Amorim Campos   \n",
       "\n",
       "        tecnico_visitante      vencedor                    arena  \\\n",
       "0                     NaN       Guarani           brinco de ouro   \n",
       "1                     NaN  Athletico-PR         arena da baixada   \n",
       "2                     NaN             -                 maracana   \n",
       "3                     NaN             -            serra dourada   \n",
       "4                     NaN             -                beira rio   \n",
       "...                   ...           ...                      ...   \n",
       "7640   D. Aguirre Camblor    Bragantino                  nabizao   \n",
       "7641           J. Freitas             -      arena de pernambuco   \n",
       "7642     S. Campos Junior     Juventude           alfredo jaconi   \n",
       "7643            A. Stival        Gremio          arena do gremio   \n",
       "7644  J. de Amorim Campos             -  estadio urbano caldeira   \n",
       "\n",
       "      mandante_placar  visitante_placar mandante_estado visitante_estado  \\\n",
       "0                   4                 2              SP               RJ   \n",
       "1                   2                 0              PR               RS   \n",
       "2                   1                 1              RJ               PR   \n",
       "3                   2                 2              GO               PA   \n",
       "4                   1                 1              RS               SP   \n",
       "...               ...               ...             ...              ...   \n",
       "7640                1                 0              SP               RS   \n",
       "7641                1                 1              PE               PR   \n",
       "7642                1                 0              RS               SP   \n",
       "7643                4                 3              RS               MG   \n",
       "7644                1                 1              SP               MT   \n",
       "\n",
       "     estado_vencedor  \n",
       "0                 SP  \n",
       "1                 PR  \n",
       "2                  -  \n",
       "3                  -  \n",
       "4                  -  \n",
       "...              ...  \n",
       "7640              SP  \n",
       "7641               -  \n",
       "7642              RS  \n",
       "7643              RS  \n",
       "7644               -  \n",
       "\n",
       "[7645 rows x 18 columns]"
      ]
     },
     "execution_count": 9,
     "metadata": {},
     "output_type": "execute_result"
    }
   ],
   "source": [
    "df_full = pd.read_csv(data_path + full)\n",
    "df_full"
   ]
  },
  {
   "cell_type": "code",
   "execution_count": 10,
   "id": "2cca1f49",
   "metadata": {
    "ExecuteTime": {
     "end_time": "2022-03-11T13:17:14.236245Z",
     "start_time": "2022-03-11T13:17:14.222610Z"
    }
   },
   "outputs": [
    {
     "data": {
      "text/plain": [
       "(7645, 18)"
      ]
     },
     "execution_count": 10,
     "metadata": {},
     "output_type": "execute_result"
    }
   ],
   "source": [
    "df_full.shape"
   ]
  },
  {
   "cell_type": "code",
   "execution_count": 11,
   "id": "317aff8e",
   "metadata": {
    "ExecuteTime": {
     "end_time": "2022-03-11T13:17:14.837456Z",
     "start_time": "2022-03-11T13:17:14.771406Z"
    }
   },
   "outputs": [
    {
     "name": "stdout",
     "output_type": "stream",
     "text": [
      "% of NaN\n"
     ]
    },
    {
     "data": {
      "text/plain": [
       "ID                    0.000000\n",
       "rodada                0.000000\n",
       "data                  0.000000\n",
       "hora                  0.000000\n",
       "dia                   0.000000\n",
       "mandante              0.000000\n",
       "visitante             0.000000\n",
       "formacao_mandante     0.650621\n",
       "formacao_visitante    0.650621\n",
       "tecnico_mandante      0.603009\n",
       "tecnico_visitante     0.603009\n",
       "vencedor              0.000000\n",
       "arena                 0.000000\n",
       "mandante_placar       0.000000\n",
       "visitante_placar      0.000000\n",
       "mandante_estado       0.000000\n",
       "visitante_estado      0.000000\n",
       "estado_vencedor       0.000000\n",
       "dtype: float64"
      ]
     },
     "execution_count": 11,
     "metadata": {},
     "output_type": "execute_result"
    }
   ],
   "source": [
    "print('% of NaN')\n",
    "df_full.isna().sum()/df_full.shape[0]"
   ]
  },
  {
   "cell_type": "code",
   "execution_count": 12,
   "id": "80934ad7",
   "metadata": {
    "ExecuteTime": {
     "end_time": "2022-03-11T13:17:15.286711Z",
     "start_time": "2022-03-11T13:17:15.272226Z"
    }
   },
   "outputs": [
    {
     "data": {
      "text/plain": [
       "ID                     int64\n",
       "rodada                 int64\n",
       "data                  object\n",
       "hora                  object\n",
       "dia                   object\n",
       "mandante              object\n",
       "visitante             object\n",
       "formacao_mandante     object\n",
       "formacao_visitante    object\n",
       "tecnico_mandante      object\n",
       "tecnico_visitante     object\n",
       "vencedor              object\n",
       "arena                 object\n",
       "mandante_placar        int64\n",
       "visitante_placar       int64\n",
       "mandante_estado       object\n",
       "visitante_estado      object\n",
       "estado_vencedor       object\n",
       "dtype: object"
      ]
     },
     "execution_count": 12,
     "metadata": {},
     "output_type": "execute_result"
    }
   ],
   "source": [
    "df_full.dtypes"
   ]
  },
  {
   "cell_type": "code",
   "execution_count": 13,
   "id": "89763785",
   "metadata": {
    "ExecuteTime": {
     "end_time": "2022-03-11T13:17:15.881926Z",
     "start_time": "2022-03-11T13:17:15.849050Z"
    }
   },
   "outputs": [],
   "source": [
    "df_full['data'] = pd.to_datetime(df_full.data, yearfirst=True)"
   ]
  },
  {
   "cell_type": "code",
   "execution_count": 14,
   "id": "737531d2",
   "metadata": {
    "ExecuteTime": {
     "end_time": "2022-03-11T13:17:16.474776Z",
     "start_time": "2022-03-11T13:17:16.424325Z"
    }
   },
   "outputs": [
    {
     "data": {
      "text/html": [
       "<div>\n",
       "<style scoped>\n",
       "    .dataframe tbody tr th:only-of-type {\n",
       "        vertical-align: middle;\n",
       "    }\n",
       "\n",
       "    .dataframe tbody tr th {\n",
       "        vertical-align: top;\n",
       "    }\n",
       "\n",
       "    .dataframe thead th {\n",
       "        text-align: right;\n",
       "    }\n",
       "</style>\n",
       "<table border=\"1\" class=\"dataframe\">\n",
       "  <thead>\n",
       "    <tr style=\"text-align: right;\">\n",
       "      <th></th>\n",
       "      <th>ID</th>\n",
       "      <th>rodada</th>\n",
       "      <th>data</th>\n",
       "      <th>hora</th>\n",
       "      <th>dia</th>\n",
       "      <th>mandante</th>\n",
       "      <th>visitante</th>\n",
       "      <th>formacao_mandante</th>\n",
       "      <th>formacao_visitante</th>\n",
       "      <th>tecnico_mandante</th>\n",
       "      <th>tecnico_visitante</th>\n",
       "      <th>vencedor</th>\n",
       "      <th>arena</th>\n",
       "      <th>mandante_placar</th>\n",
       "      <th>visitante_placar</th>\n",
       "      <th>mandante_estado</th>\n",
       "      <th>visitante_estado</th>\n",
       "      <th>estado_vencedor</th>\n",
       "    </tr>\n",
       "  </thead>\n",
       "  <tbody>\n",
       "    <tr>\n",
       "      <th>0</th>\n",
       "      <td>1</td>\n",
       "      <td>1</td>\n",
       "      <td>2003-03-29</td>\n",
       "      <td>16:00</td>\n",
       "      <td>Sabado</td>\n",
       "      <td>Guarani</td>\n",
       "      <td>Vasco</td>\n",
       "      <td>NaN</td>\n",
       "      <td>NaN</td>\n",
       "      <td>NaN</td>\n",
       "      <td>NaN</td>\n",
       "      <td>Guarani</td>\n",
       "      <td>brinco de ouro</td>\n",
       "      <td>4</td>\n",
       "      <td>2</td>\n",
       "      <td>SP</td>\n",
       "      <td>RJ</td>\n",
       "      <td>SP</td>\n",
       "    </tr>\n",
       "    <tr>\n",
       "      <th>1</th>\n",
       "      <td>2</td>\n",
       "      <td>1</td>\n",
       "      <td>2003-03-29</td>\n",
       "      <td>16:00</td>\n",
       "      <td>Sabado</td>\n",
       "      <td>Athletico-PR</td>\n",
       "      <td>Gremio</td>\n",
       "      <td>NaN</td>\n",
       "      <td>NaN</td>\n",
       "      <td>NaN</td>\n",
       "      <td>NaN</td>\n",
       "      <td>Athletico-PR</td>\n",
       "      <td>arena da baixada</td>\n",
       "      <td>2</td>\n",
       "      <td>0</td>\n",
       "      <td>PR</td>\n",
       "      <td>RS</td>\n",
       "      <td>PR</td>\n",
       "    </tr>\n",
       "    <tr>\n",
       "      <th>2</th>\n",
       "      <td>3</td>\n",
       "      <td>1</td>\n",
       "      <td>2003-03-30</td>\n",
       "      <td>16:00</td>\n",
       "      <td>Domingo</td>\n",
       "      <td>Flamengo</td>\n",
       "      <td>Coritiba</td>\n",
       "      <td>NaN</td>\n",
       "      <td>NaN</td>\n",
       "      <td>NaN</td>\n",
       "      <td>NaN</td>\n",
       "      <td>-</td>\n",
       "      <td>maracana</td>\n",
       "      <td>1</td>\n",
       "      <td>1</td>\n",
       "      <td>RJ</td>\n",
       "      <td>PR</td>\n",
       "      <td>-</td>\n",
       "    </tr>\n",
       "    <tr>\n",
       "      <th>3</th>\n",
       "      <td>4</td>\n",
       "      <td>1</td>\n",
       "      <td>2003-03-30</td>\n",
       "      <td>16:00</td>\n",
       "      <td>Domingo</td>\n",
       "      <td>Goias</td>\n",
       "      <td>Paysandu</td>\n",
       "      <td>NaN</td>\n",
       "      <td>NaN</td>\n",
       "      <td>NaN</td>\n",
       "      <td>NaN</td>\n",
       "      <td>-</td>\n",
       "      <td>serra dourada</td>\n",
       "      <td>2</td>\n",
       "      <td>2</td>\n",
       "      <td>GO</td>\n",
       "      <td>PA</td>\n",
       "      <td>-</td>\n",
       "    </tr>\n",
       "    <tr>\n",
       "      <th>4</th>\n",
       "      <td>5</td>\n",
       "      <td>1</td>\n",
       "      <td>2003-03-30</td>\n",
       "      <td>16:00</td>\n",
       "      <td>Domingo</td>\n",
       "      <td>Internacional</td>\n",
       "      <td>Ponte Preta</td>\n",
       "      <td>NaN</td>\n",
       "      <td>NaN</td>\n",
       "      <td>NaN</td>\n",
       "      <td>NaN</td>\n",
       "      <td>-</td>\n",
       "      <td>beira rio</td>\n",
       "      <td>1</td>\n",
       "      <td>1</td>\n",
       "      <td>RS</td>\n",
       "      <td>SP</td>\n",
       "      <td>-</td>\n",
       "    </tr>\n",
       "  </tbody>\n",
       "</table>\n",
       "</div>"
      ],
      "text/plain": [
       "   ID  rodada       data   hora      dia       mandante    visitante  \\\n",
       "0   1       1 2003-03-29  16:00   Sabado        Guarani        Vasco   \n",
       "1   2       1 2003-03-29  16:00   Sabado   Athletico-PR       Gremio   \n",
       "2   3       1 2003-03-30  16:00  Domingo       Flamengo     Coritiba   \n",
       "3   4       1 2003-03-30  16:00  Domingo          Goias     Paysandu   \n",
       "4   5       1 2003-03-30  16:00  Domingo  Internacional  Ponte Preta   \n",
       "\n",
       "  formacao_mandante formacao_visitante tecnico_mandante tecnico_visitante  \\\n",
       "0               NaN                NaN              NaN               NaN   \n",
       "1               NaN                NaN              NaN               NaN   \n",
       "2               NaN                NaN              NaN               NaN   \n",
       "3               NaN                NaN              NaN               NaN   \n",
       "4               NaN                NaN              NaN               NaN   \n",
       "\n",
       "       vencedor             arena  mandante_placar  visitante_placar  \\\n",
       "0       Guarani    brinco de ouro                4                 2   \n",
       "1  Athletico-PR  arena da baixada                2                 0   \n",
       "2             -          maracana                1                 1   \n",
       "3             -     serra dourada                2                 2   \n",
       "4             -         beira rio                1                 1   \n",
       "\n",
       "  mandante_estado visitante_estado estado_vencedor  \n",
       "0              SP               RJ              SP  \n",
       "1              PR               RS              PR  \n",
       "2              RJ               PR               -  \n",
       "3              GO               PA               -  \n",
       "4              RS               SP               -  "
      ]
     },
     "execution_count": 14,
     "metadata": {},
     "output_type": "execute_result"
    }
   ],
   "source": [
    "df_full.head()"
   ]
  },
  {
   "cell_type": "code",
   "execution_count": 15,
   "id": "4aec6685",
   "metadata": {
    "ExecuteTime": {
     "end_time": "2022-03-11T13:17:17.048875Z",
     "start_time": "2022-03-11T13:17:17.034395Z"
    }
   },
   "outputs": [
    {
     "data": {
      "text/plain": [
       "ID                             int64\n",
       "rodada                         int64\n",
       "data                  datetime64[ns]\n",
       "hora                          object\n",
       "dia                           object\n",
       "mandante                      object\n",
       "visitante                     object\n",
       "formacao_mandante             object\n",
       "formacao_visitante            object\n",
       "tecnico_mandante              object\n",
       "tecnico_visitante             object\n",
       "vencedor                      object\n",
       "arena                         object\n",
       "mandante_placar                int64\n",
       "visitante_placar               int64\n",
       "mandante_estado               object\n",
       "visitante_estado              object\n",
       "estado_vencedor               object\n",
       "dtype: object"
      ]
     },
     "execution_count": 15,
     "metadata": {},
     "output_type": "execute_result"
    }
   ],
   "source": [
    "df_full.dtypes"
   ]
  },
  {
   "cell_type": "markdown",
   "id": "ae364e6d",
   "metadata": {},
   "source": [
    "## 1.3 Stats "
   ]
  },
  {
   "cell_type": "code",
   "execution_count": 16,
   "id": "e1306a2d",
   "metadata": {
    "ExecuteTime": {
     "end_time": "2022-03-11T13:17:18.077114Z",
     "start_time": "2022-03-11T13:17:18.034074Z"
    }
   },
   "outputs": [
    {
     "data": {
      "text/html": [
       "<div>\n",
       "<style scoped>\n",
       "    .dataframe tbody tr th:only-of-type {\n",
       "        vertical-align: middle;\n",
       "    }\n",
       "\n",
       "    .dataframe tbody tr th {\n",
       "        vertical-align: top;\n",
       "    }\n",
       "\n",
       "    .dataframe thead th {\n",
       "        text-align: right;\n",
       "    }\n",
       "</style>\n",
       "<table border=\"1\" class=\"dataframe\">\n",
       "  <thead>\n",
       "    <tr style=\"text-align: right;\">\n",
       "      <th></th>\n",
       "      <th>partida_id</th>\n",
       "      <th>rodada</th>\n",
       "      <th>clube</th>\n",
       "      <th>chutes</th>\n",
       "      <th>chutes_no_alvo</th>\n",
       "      <th>posse_de_bola</th>\n",
       "      <th>passes</th>\n",
       "      <th>precisao_passes</th>\n",
       "      <th>faltas</th>\n",
       "      <th>cartao_amarelo</th>\n",
       "      <th>cartao_vermelho</th>\n",
       "      <th>impedimentos</th>\n",
       "      <th>escanteios</th>\n",
       "    </tr>\n",
       "  </thead>\n",
       "  <tbody>\n",
       "    <tr>\n",
       "      <th>0</th>\n",
       "      <td>1</td>\n",
       "      <td>1</td>\n",
       "      <td>Guarani</td>\n",
       "      <td>0</td>\n",
       "      <td>0</td>\n",
       "      <td>NaN</td>\n",
       "      <td>0</td>\n",
       "      <td>NaN</td>\n",
       "      <td>0</td>\n",
       "      <td>0</td>\n",
       "      <td>0</td>\n",
       "      <td>0</td>\n",
       "      <td>0</td>\n",
       "    </tr>\n",
       "    <tr>\n",
       "      <th>1</th>\n",
       "      <td>1</td>\n",
       "      <td>1</td>\n",
       "      <td>Vasco</td>\n",
       "      <td>0</td>\n",
       "      <td>0</td>\n",
       "      <td>NaN</td>\n",
       "      <td>0</td>\n",
       "      <td>NaN</td>\n",
       "      <td>0</td>\n",
       "      <td>0</td>\n",
       "      <td>0</td>\n",
       "      <td>0</td>\n",
       "      <td>0</td>\n",
       "    </tr>\n",
       "    <tr>\n",
       "      <th>2</th>\n",
       "      <td>2</td>\n",
       "      <td>1</td>\n",
       "      <td>Athletico-PR</td>\n",
       "      <td>0</td>\n",
       "      <td>0</td>\n",
       "      <td>NaN</td>\n",
       "      <td>0</td>\n",
       "      <td>NaN</td>\n",
       "      <td>0</td>\n",
       "      <td>0</td>\n",
       "      <td>0</td>\n",
       "      <td>0</td>\n",
       "      <td>0</td>\n",
       "    </tr>\n",
       "    <tr>\n",
       "      <th>3</th>\n",
       "      <td>2</td>\n",
       "      <td>1</td>\n",
       "      <td>Gremio</td>\n",
       "      <td>0</td>\n",
       "      <td>0</td>\n",
       "      <td>NaN</td>\n",
       "      <td>0</td>\n",
       "      <td>NaN</td>\n",
       "      <td>0</td>\n",
       "      <td>0</td>\n",
       "      <td>0</td>\n",
       "      <td>0</td>\n",
       "      <td>0</td>\n",
       "    </tr>\n",
       "    <tr>\n",
       "      <th>4</th>\n",
       "      <td>3</td>\n",
       "      <td>1</td>\n",
       "      <td>Flamengo</td>\n",
       "      <td>0</td>\n",
       "      <td>0</td>\n",
       "      <td>NaN</td>\n",
       "      <td>0</td>\n",
       "      <td>NaN</td>\n",
       "      <td>0</td>\n",
       "      <td>0</td>\n",
       "      <td>0</td>\n",
       "      <td>0</td>\n",
       "      <td>0</td>\n",
       "    </tr>\n",
       "  </tbody>\n",
       "</table>\n",
       "</div>"
      ],
      "text/plain": [
       "   partida_id  rodada         clube  chutes  chutes_no_alvo posse_de_bola  \\\n",
       "0           1       1       Guarani       0               0           NaN   \n",
       "1           1       1         Vasco       0               0           NaN   \n",
       "2           2       1  Athletico-PR       0               0           NaN   \n",
       "3           2       1        Gremio       0               0           NaN   \n",
       "4           3       1      Flamengo       0               0           NaN   \n",
       "\n",
       "   passes precisao_passes  faltas  cartao_amarelo  cartao_vermelho  \\\n",
       "0       0             NaN       0               0                0   \n",
       "1       0             NaN       0               0                0   \n",
       "2       0             NaN       0               0                0   \n",
       "3       0             NaN       0               0                0   \n",
       "4       0             NaN       0               0                0   \n",
       "\n",
       "   impedimentos  escanteios  \n",
       "0             0           0  \n",
       "1             0           0  \n",
       "2             0           0  \n",
       "3             0           0  \n",
       "4             0           0  "
      ]
     },
     "execution_count": 16,
     "metadata": {},
     "output_type": "execute_result"
    }
   ],
   "source": [
    "df_stats = pd.read_csv(data_path + stats)\n",
    "df_stats.head()"
   ]
  },
  {
   "cell_type": "code",
   "execution_count": 17,
   "id": "eabf6995",
   "metadata": {
    "ExecuteTime": {
     "end_time": "2022-03-11T13:17:18.734136Z",
     "start_time": "2022-03-11T13:17:18.721213Z"
    }
   },
   "outputs": [
    {
     "data": {
      "text/plain": [
       "(15290, 13)"
      ]
     },
     "execution_count": 17,
     "metadata": {},
     "output_type": "execute_result"
    }
   ],
   "source": [
    "df_stats.shape"
   ]
  },
  {
   "cell_type": "code",
   "execution_count": 18,
   "id": "958b80b5",
   "metadata": {
    "ExecuteTime": {
     "end_time": "2022-03-11T13:17:19.262752Z",
     "start_time": "2022-03-11T13:17:19.211832Z"
    }
   },
   "outputs": [
    {
     "name": "stdout",
     "output_type": "stream",
     "text": [
      "% of NaN\n"
     ]
    },
    {
     "data": {
      "text/plain": [
       "partida_id         0.000000\n",
       "rodada             0.000000\n",
       "clube              0.000000\n",
       "chutes             0.000000\n",
       "chutes_no_alvo     0.000000\n",
       "posse_de_bola      0.602485\n",
       "passes             0.000000\n",
       "precisao_passes    0.602485\n",
       "faltas             0.000000\n",
       "cartao_amarelo     0.000000\n",
       "cartao_vermelho    0.000000\n",
       "impedimentos       0.000000\n",
       "escanteios         0.000000\n",
       "dtype: float64"
      ]
     },
     "execution_count": 18,
     "metadata": {},
     "output_type": "execute_result"
    }
   ],
   "source": [
    "print('% of NaN')\n",
    "df_stats.isna().sum()/df_stats.shape[0]"
   ]
  },
  {
   "cell_type": "code",
   "execution_count": 19,
   "id": "88de0063",
   "metadata": {
    "ExecuteTime": {
     "end_time": "2022-03-11T13:17:19.871422Z",
     "start_time": "2022-03-11T13:17:19.857631Z"
    }
   },
   "outputs": [
    {
     "data": {
      "text/plain": [
       "partida_id          int64\n",
       "rodada              int64\n",
       "clube              object\n",
       "chutes              int64\n",
       "chutes_no_alvo      int64\n",
       "posse_de_bola      object\n",
       "passes              int64\n",
       "precisao_passes    object\n",
       "faltas              int64\n",
       "cartao_amarelo      int64\n",
       "cartao_vermelho     int64\n",
       "impedimentos        int64\n",
       "escanteios          int64\n",
       "dtype: object"
      ]
     },
     "execution_count": 19,
     "metadata": {},
     "output_type": "execute_result"
    }
   ],
   "source": [
    "df_stats.dtypes"
   ]
  },
  {
   "cell_type": "markdown",
   "id": "3ea26c4b",
   "metadata": {},
   "source": [
    "## 1.4 Goals "
   ]
  },
  {
   "cell_type": "code",
   "execution_count": 20,
   "id": "4cf8c1cb",
   "metadata": {
    "ExecuteTime": {
     "end_time": "2022-03-11T13:17:21.092422Z",
     "start_time": "2022-03-11T13:17:21.058810Z"
    }
   },
   "outputs": [
    {
     "data": {
      "text/html": [
       "<div>\n",
       "<style scoped>\n",
       "    .dataframe tbody tr th:only-of-type {\n",
       "        vertical-align: middle;\n",
       "    }\n",
       "\n",
       "    .dataframe tbody tr th {\n",
       "        vertical-align: top;\n",
       "    }\n",
       "\n",
       "    .dataframe thead th {\n",
       "        text-align: right;\n",
       "    }\n",
       "</style>\n",
       "<table border=\"1\" class=\"dataframe\">\n",
       "  <thead>\n",
       "    <tr style=\"text-align: right;\">\n",
       "      <th></th>\n",
       "      <th>partida_id</th>\n",
       "      <th>rodada</th>\n",
       "      <th>clube</th>\n",
       "      <th>atleta</th>\n",
       "      <th>minuto</th>\n",
       "    </tr>\n",
       "  </thead>\n",
       "  <tbody>\n",
       "    <tr>\n",
       "      <th>0</th>\n",
       "      <td>4607</td>\n",
       "      <td>1</td>\n",
       "      <td>Fluminense</td>\n",
       "      <td>Rafael Sóbis</td>\n",
       "      <td>31</td>\n",
       "    </tr>\n",
       "    <tr>\n",
       "      <th>1</th>\n",
       "      <td>4607</td>\n",
       "      <td>1</td>\n",
       "      <td>Fluminense</td>\n",
       "      <td>Fred</td>\n",
       "      <td>45</td>\n",
       "    </tr>\n",
       "    <tr>\n",
       "      <th>2</th>\n",
       "      <td>4607</td>\n",
       "      <td>1</td>\n",
       "      <td>Fluminense</td>\n",
       "      <td>Nirley da Silva Fonseca</td>\n",
       "      <td>59</td>\n",
       "    </tr>\n",
       "    <tr>\n",
       "      <th>3</th>\n",
       "      <td>4608</td>\n",
       "      <td>1</td>\n",
       "      <td>Internacional</td>\n",
       "      <td>Charles Aránguiz</td>\n",
       "      <td>6</td>\n",
       "    </tr>\n",
       "    <tr>\n",
       "      <th>4</th>\n",
       "      <td>4610</td>\n",
       "      <td>1</td>\n",
       "      <td>Athletico-PR</td>\n",
       "      <td>Dráusio Luis Salla Gil</td>\n",
       "      <td>16</td>\n",
       "    </tr>\n",
       "  </tbody>\n",
       "</table>\n",
       "</div>"
      ],
      "text/plain": [
       "   partida_id  rodada          clube                   atleta minuto\n",
       "0        4607       1     Fluminense             Rafael Sóbis     31\n",
       "1        4607       1     Fluminense                     Fred     45\n",
       "2        4607       1     Fluminense  Nirley da Silva Fonseca     59\n",
       "3        4608       1  Internacional         Charles Aránguiz      6\n",
       "4        4610       1   Athletico-PR   Dráusio Luis Salla Gil     16"
      ]
     },
     "execution_count": 20,
     "metadata": {},
     "output_type": "execute_result"
    }
   ],
   "source": [
    "df_goals = pd.read_csv(data_path + goals)\n",
    "df_goals.head()"
   ]
  },
  {
   "cell_type": "code",
   "execution_count": 21,
   "id": "0c0d707f",
   "metadata": {
    "ExecuteTime": {
     "end_time": "2022-03-11T13:17:21.595823Z",
     "start_time": "2022-03-11T13:17:21.584272Z"
    }
   },
   "outputs": [
    {
     "data": {
      "text/plain": [
       "(7081, 5)"
      ]
     },
     "execution_count": 21,
     "metadata": {},
     "output_type": "execute_result"
    }
   ],
   "source": [
    "df_goals.shape"
   ]
  },
  {
   "cell_type": "code",
   "execution_count": 22,
   "id": "2ddaeda9",
   "metadata": {
    "ExecuteTime": {
     "end_time": "2022-03-11T13:17:22.256333Z",
     "start_time": "2022-03-11T13:17:22.223450Z"
    }
   },
   "outputs": [
    {
     "name": "stdout",
     "output_type": "stream",
     "text": [
      "% of NaN\n"
     ]
    },
    {
     "data": {
      "text/plain": [
       "partida_id    0.0\n",
       "rodada        0.0\n",
       "clube         0.0\n",
       "atleta        0.0\n",
       "minuto        0.0\n",
       "dtype: float64"
      ]
     },
     "execution_count": 22,
     "metadata": {},
     "output_type": "execute_result"
    }
   ],
   "source": [
    "print('% of NaN')\n",
    "df_goals.isna().sum()/df_goals.shape[0]"
   ]
  },
  {
   "cell_type": "code",
   "execution_count": 23,
   "id": "6fec6ca4",
   "metadata": {
    "ExecuteTime": {
     "end_time": "2022-03-11T13:17:22.653473Z",
     "start_time": "2022-03-11T13:17:22.639502Z"
    }
   },
   "outputs": [
    {
     "data": {
      "text/plain": [
       "partida_id     int64\n",
       "rodada         int64\n",
       "clube         object\n",
       "atleta        object\n",
       "minuto        object\n",
       "dtype: object"
      ]
     },
     "execution_count": 23,
     "metadata": {},
     "output_type": "execute_result"
    }
   ],
   "source": [
    "df_goals.dtypes"
   ]
  },
  {
   "cell_type": "markdown",
   "id": "9e0298f5",
   "metadata": {},
   "source": [
    "## 1.5 Legend"
   ]
  },
  {
   "cell_type": "markdown",
   "id": "8830e31e",
   "metadata": {},
   "source": [
    "**Legenda - campeonato-brasileiro-full.csv**\n",
    "- ID : ID da partida\n",
    "- Rodada : Rodada que aconteceu a partida\n",
    "- Data : Data que ocorreu a partida\n",
    "- Horário :  Horário que ocorreu a partida\n",
    "- Dia : Dia da semana que ocorreu a partida\n",
    "- Mandante : Clube mandante                      \n",
    "- Visitante : Clube Visitante\n",
    "- formacao_mandante: Formação do mandante\n",
    "- formacao_visitante: Formação do visitante\n",
    "- tecnico_mandante: Técnico do mandante\n",
    "- tecnico_visitante: Técnico do visitante\n",
    "- Vencedor : Clube vencedor da partida. Quando tiver \"-\", é um empate\n",
    "- Arena : Arena que ocorreu a partida                      \n",
    "- Mandante Placar : Gols que o clube mandante fez na partida                      \n",
    "- Visitante Placar : Gols que o clube visitante fez na partida                      \n",
    "- Estado Mandante : Estado do clube mandatorio                      \n",
    "- Estado Visitante : Estado do clube visitante                      \n",
    "- Estado Vencedor : Estado do clube vencedor. Quando tiver \"-\", é um empate\n",
    "\n",
    "\n",
    "**Legenda - campeonato-brasileiro-estatisticas-full.csv**\n",
    "- partida_ID - ID da partida\n",
    "- Rodada - Rodada da partida\n",
    "- Clube - Nome do clube\n",
    "- Chutes - Finalizações\n",
    "- Chutes a gol - Finalizações na direção do gol\n",
    "- Posse de bola - Percentual da posse de bola\n",
    "- Passes - Quantidade de passes que o clube deu na partida\n",
    "- precisao_passes - Percentual da precisão de passe\n",
    "- Faltas - Quantidade de faltas cometidas na partida\n",
    "- cartao_amarelo - Quantidade de cartões amarelos para o clube na partida\n",
    "- cartao_vermelho - Quantidade de cartões vermelhos para o clube na partida\n",
    "- Impedimentos - Quantidade de impedimentos para o clube na partida\n",
    "- Escanteios - Quantidade de escanteios para o clube na partida\n",
    "\n",
    "\n",
    "**Legenda - campeonato-brasileiro-gols.csv**\n",
    "- partida_ID - ID da partida\n",
    "- Rodada - Rodada da partida\n",
    "- Clube - Nome do clube\n",
    "- Atleta - Nome do atleta que fez o gol\n",
    "- Minuto - Minuto na partida em que o gol foi marcado\n",
    "\n",
    "\n",
    "**Legenda - campeonato-brasileiro-cartoes.csv**\n",
    "- partida_ID - ID da partida\n",
    "- Rodada - Rodada da partida\n",
    "- Clube - Nome do clube\n",
    "- Cartao - Cor do cartão aplicado\n",
    "- Atleta - Nome do atleta punido pelo cartão\n",
    "- num_camisa - Número da camisa do atleta\n",
    "- Posicao - Posição na partida em que o atleta se encontra\n",
    "- Minuto - Minuto na partida em que o cartão foi aplicado"
   ]
  },
  {
   "cell_type": "markdown",
   "id": "57170f8e",
   "metadata": {},
   "source": [
    "## 1.6 Filling NA and and filtering data"
   ]
  },
  {
   "cell_type": "code",
   "execution_count": 24,
   "id": "58f4c094",
   "metadata": {
    "ExecuteTime": {
     "end_time": "2022-03-11T13:17:28.611218Z",
     "start_time": "2022-03-11T13:17:28.581913Z"
    }
   },
   "outputs": [],
   "source": [
    "# creating a new df with the sum of df_stats\n",
    "df_stats_match = df_stats.groupby('partida_id').sum()\n",
    "df_stats_match.index.names = ['ID']\n",
    "df_full_id = df_full.set_index(['ID']).drop('rodada', axis = 1)"
   ]
  },
  {
   "cell_type": "code",
   "execution_count": 27,
   "id": "9c5563f8",
   "metadata": {
    "ExecuteTime": {
     "end_time": "2022-03-11T13:17:35.575765Z",
     "start_time": "2022-03-11T13:17:35.558211Z"
    }
   },
   "outputs": [],
   "source": [
    "# join df_full and df_stats_match (sum of stats)\n",
    "df_full_stats_match = df_full_id.join(df_stats_match, on='ID')"
   ]
  },
  {
   "cell_type": "code",
   "execution_count": 28,
   "id": "debe4a97",
   "metadata": {
    "ExecuteTime": {
     "end_time": "2022-03-11T13:17:36.460109Z",
     "start_time": "2022-03-11T13:17:36.072132Z"
    }
   },
   "outputs": [
    {
     "data": {
      "image/png": "[encoded data removed]",
      "text/plain": [
       "<Figure size 1008x288 with 1 Axes>"
      ]
     },
     "metadata": {
      "needs_background": "light"
     },
     "output_type": "display_data"
    }
   ],
   "source": [
    "# checking the time series of 'cartao_amarelo' sum\n",
    "df_full_stats_match[df_full_stats_match.data > '2014-10-01'].plot(x='data', y='cartao_amarelo', figsize = (14,4));\n",
    "plt.ylabel('N. cartoes amarelos');"
   ]
  },
  {
   "cell_type": "code",
   "execution_count": 29,
   "id": "3ccdd2fc",
   "metadata": {
    "ExecuteTime": {
     "end_time": "2022-03-11T13:17:57.759016Z",
     "start_time": "2022-03-11T13:17:57.751852Z"
    }
   },
   "outputs": [],
   "source": [
    "# Seems that are missing values from the begining of the series, so I decided to select data only from 2014-10-01\n",
    "df_full_stats_match_filtered = df_full_stats_match[df_full_stats_match.data > '2014-10-01']"
   ]
  },
  {
   "cell_type": "code",
   "execution_count": 30,
   "id": "b30d6cfe",
   "metadata": {
    "ExecuteTime": {
     "end_time": "2022-03-11T13:17:58.646151Z",
     "start_time": "2022-03-11T13:17:58.586772Z"
    }
   },
   "outputs": [
    {
     "data": {
      "text/html": [
       "<div>\n",
       "<style scoped>\n",
       "    .dataframe tbody tr th:only-of-type {\n",
       "        vertical-align: middle;\n",
       "    }\n",
       "\n",
       "    .dataframe tbody tr th {\n",
       "        vertical-align: top;\n",
       "    }\n",
       "\n",
       "    .dataframe thead th {\n",
       "        text-align: right;\n",
       "    }\n",
       "</style>\n",
       "<table border=\"1\" class=\"dataframe\">\n",
       "  <thead>\n",
       "    <tr style=\"text-align: right;\">\n",
       "      <th></th>\n",
       "      <th>data</th>\n",
       "      <th>hora</th>\n",
       "      <th>dia</th>\n",
       "      <th>mandante</th>\n",
       "      <th>visitante</th>\n",
       "      <th>formacao_mandante</th>\n",
       "      <th>formacao_visitante</th>\n",
       "      <th>tecnico_mandante</th>\n",
       "      <th>tecnico_visitante</th>\n",
       "      <th>vencedor</th>\n",
       "      <th>...</th>\n",
       "      <th>estado_vencedor</th>\n",
       "      <th>rodada</th>\n",
       "      <th>chutes</th>\n",
       "      <th>chutes_no_alvo</th>\n",
       "      <th>passes</th>\n",
       "      <th>faltas</th>\n",
       "      <th>cartao_amarelo</th>\n",
       "      <th>cartao_vermelho</th>\n",
       "      <th>impedimentos</th>\n",
       "      <th>escanteios</th>\n",
       "    </tr>\n",
       "    <tr>\n",
       "      <th>ID</th>\n",
       "      <th></th>\n",
       "      <th></th>\n",
       "      <th></th>\n",
       "      <th></th>\n",
       "      <th></th>\n",
       "      <th></th>\n",
       "      <th></th>\n",
       "      <th></th>\n",
       "      <th></th>\n",
       "      <th></th>\n",
       "      <th></th>\n",
       "      <th></th>\n",
       "      <th></th>\n",
       "      <th></th>\n",
       "      <th></th>\n",
       "      <th></th>\n",
       "      <th></th>\n",
       "      <th></th>\n",
       "      <th></th>\n",
       "      <th></th>\n",
       "      <th></th>\n",
       "    </tr>\n",
       "  </thead>\n",
       "  <tbody>\n",
       "    <tr>\n",
       "      <th>4696</th>\n",
       "      <td>2014-10-11</td>\n",
       "      <td>18:33</td>\n",
       "      <td>Sabado</td>\n",
       "      <td>Botafogo-RJ</td>\n",
       "      <td>Corinthians</td>\n",
       "      <td>NaN</td>\n",
       "      <td>NaN</td>\n",
       "      <td>L. Venker de Menezes</td>\n",
       "      <td>L. Venker de Menezes</td>\n",
       "      <td>Botafogo-RJ</td>\n",
       "      <td>...</td>\n",
       "      <td>RJ</td>\n",
       "      <td>18</td>\n",
       "      <td>0</td>\n",
       "      <td>0</td>\n",
       "      <td>0</td>\n",
       "      <td>0</td>\n",
       "      <td>0</td>\n",
       "      <td>0</td>\n",
       "      <td>0</td>\n",
       "      <td>0</td>\n",
       "    </tr>\n",
       "    <tr>\n",
       "      <th>4867</th>\n",
       "      <td>2014-10-02</td>\n",
       "      <td>19:30</td>\n",
       "      <td>Quinta-feira</td>\n",
       "      <td>Palmeiras</td>\n",
       "      <td>Chapecoense</td>\n",
       "      <td>NaN</td>\n",
       "      <td>NaN</td>\n",
       "      <td>J. da Silva</td>\n",
       "      <td>J. da Silva</td>\n",
       "      <td>Palmeiras</td>\n",
       "      <td>...</td>\n",
       "      <td>SP</td>\n",
       "      <td>52</td>\n",
       "      <td>0</td>\n",
       "      <td>0</td>\n",
       "      <td>0</td>\n",
       "      <td>0</td>\n",
       "      <td>0</td>\n",
       "      <td>0</td>\n",
       "      <td>0</td>\n",
       "      <td>0</td>\n",
       "    </tr>\n",
       "    <tr>\n",
       "      <th>4868</th>\n",
       "      <td>2014-10-04</td>\n",
       "      <td>16:20</td>\n",
       "      <td>Sabado</td>\n",
       "      <td>Flamengo</td>\n",
       "      <td>Santos</td>\n",
       "      <td>NaN</td>\n",
       "      <td>NaN</td>\n",
       "      <td>E. Alves Moreira</td>\n",
       "      <td>E. Alves Moreira</td>\n",
       "      <td>Santos</td>\n",
       "      <td>...</td>\n",
       "      <td>SP</td>\n",
       "      <td>52</td>\n",
       "      <td>0</td>\n",
       "      <td>0</td>\n",
       "      <td>0</td>\n",
       "      <td>0</td>\n",
       "      <td>0</td>\n",
       "      <td>0</td>\n",
       "      <td>0</td>\n",
       "      <td>0</td>\n",
       "    </tr>\n",
       "    <tr>\n",
       "      <th>4869</th>\n",
       "      <td>2014-10-04</td>\n",
       "      <td>16:21</td>\n",
       "      <td>Sabado</td>\n",
       "      <td>Fluminense</td>\n",
       "      <td>Bahia</td>\n",
       "      <td>NaN</td>\n",
       "      <td>NaN</td>\n",
       "      <td>G. Kleina</td>\n",
       "      <td>G. Kleina</td>\n",
       "      <td>-</td>\n",
       "      <td>...</td>\n",
       "      <td>-</td>\n",
       "      <td>52</td>\n",
       "      <td>0</td>\n",
       "      <td>0</td>\n",
       "      <td>0</td>\n",
       "      <td>0</td>\n",
       "      <td>0</td>\n",
       "      <td>0</td>\n",
       "      <td>0</td>\n",
       "      <td>0</td>\n",
       "    </tr>\n",
       "    <tr>\n",
       "      <th>4870</th>\n",
       "      <td>2014-10-04</td>\n",
       "      <td>16:24</td>\n",
       "      <td>Sabado</td>\n",
       "      <td>Coritiba</td>\n",
       "      <td>Athletico-PR</td>\n",
       "      <td>4-2-2-2</td>\n",
       "      <td>4-3-3</td>\n",
       "      <td>C. dos Santos Oliveira</td>\n",
       "      <td>C. dos Santos Oliveira</td>\n",
       "      <td>Coritiba</td>\n",
       "      <td>...</td>\n",
       "      <td>PR</td>\n",
       "      <td>52</td>\n",
       "      <td>19</td>\n",
       "      <td>0</td>\n",
       "      <td>633</td>\n",
       "      <td>37</td>\n",
       "      <td>4</td>\n",
       "      <td>0</td>\n",
       "      <td>2</td>\n",
       "      <td>12</td>\n",
       "    </tr>\n",
       "  </tbody>\n",
       "</table>\n",
       "<p>5 rows × 25 columns</p>\n",
       "</div>"
      ],
      "text/plain": [
       "           data   hora           dia     mandante     visitante  \\\n",
       "ID                                                                \n",
       "4696 2014-10-11  18:33        Sabado  Botafogo-RJ   Corinthians   \n",
       "4867 2014-10-02  19:30  Quinta-feira    Palmeiras   Chapecoense   \n",
       "4868 2014-10-04  16:20        Sabado     Flamengo        Santos   \n",
       "4869 2014-10-04  16:21        Sabado   Fluminense         Bahia   \n",
       "4870 2014-10-04  16:24        Sabado     Coritiba  Athletico-PR   \n",
       "\n",
       "     formacao_mandante formacao_visitante        tecnico_mandante  \\\n",
       "ID                                                                  \n",
       "4696               NaN                NaN    L. Venker de Menezes   \n",
       "4867               NaN                NaN             J. da Silva   \n",
       "4868               NaN                NaN        E. Alves Moreira   \n",
       "4869               NaN                NaN               G. Kleina   \n",
       "4870           4-2-2-2              4-3-3  C. dos Santos Oliveira   \n",
       "\n",
       "           tecnico_visitante     vencedor  ... estado_vencedor  rodada  \\\n",
       "ID                                         ...                           \n",
       "4696    L. Venker de Menezes  Botafogo-RJ  ...              RJ      18   \n",
       "4867             J. da Silva    Palmeiras  ...              SP      52   \n",
       "4868        E. Alves Moreira       Santos  ...              SP      52   \n",
       "4869               G. Kleina            -  ...               -      52   \n",
       "4870  C. dos Santos Oliveira     Coritiba  ...              PR      52   \n",
       "\n",
       "      chutes chutes_no_alvo passes faltas  cartao_amarelo  cartao_vermelho  \\\n",
       "ID                                                                           \n",
       "4696       0              0      0      0               0                0   \n",
       "4867       0              0      0      0               0                0   \n",
       "4868       0              0      0      0               0                0   \n",
       "4869       0              0      0      0               0                0   \n",
       "4870      19              0    633     37               4                0   \n",
       "\n",
       "      impedimentos  escanteios  \n",
       "ID                              \n",
       "4696             0           0  \n",
       "4867             0           0  \n",
       "4868             0           0  \n",
       "4869             0           0  \n",
       "4870             2          12  \n",
       "\n",
       "[5 rows x 25 columns]"
      ]
     },
     "execution_count": 30,
     "metadata": {},
     "output_type": "execute_result"
    }
   ],
   "source": [
    "df_full_stats_match_filtered.head()"
   ]
  },
  {
   "cell_type": "code",
   "execution_count": 31,
   "id": "f0b9c777",
   "metadata": {
    "ExecuteTime": {
     "end_time": "2022-03-11T13:18:01.542388Z",
     "start_time": "2022-03-11T13:18:01.511137Z"
    }
   },
   "outputs": [],
   "source": [
    "df_full_stats_match_filtered  = df_full_stats_match_filtered.dropna()"
   ]
  },
  {
   "cell_type": "code",
   "execution_count": 32,
   "id": "cb8149c0",
   "metadata": {
    "ExecuteTime": {
     "end_time": "2022-03-11T13:18:01.951841Z",
     "start_time": "2022-03-11T13:18:01.912125Z"
    }
   },
   "outputs": [
    {
     "data": {
      "text/plain": [
       "data                  0.0\n",
       "hora                  0.0\n",
       "dia                   0.0\n",
       "mandante              0.0\n",
       "visitante             0.0\n",
       "formacao_mandante     0.0\n",
       "formacao_visitante    0.0\n",
       "tecnico_mandante      0.0\n",
       "tecnico_visitante     0.0\n",
       "vencedor              0.0\n",
       "arena                 0.0\n",
       "mandante_placar       0.0\n",
       "visitante_placar      0.0\n",
       "mandante_estado       0.0\n",
       "visitante_estado      0.0\n",
       "estado_vencedor       0.0\n",
       "rodada                0.0\n",
       "chutes                0.0\n",
       "chutes_no_alvo        0.0\n",
       "passes                0.0\n",
       "faltas                0.0\n",
       "cartao_amarelo        0.0\n",
       "cartao_vermelho       0.0\n",
       "impedimentos          0.0\n",
       "escanteios            0.0\n",
       "dtype: float64"
      ]
     },
     "execution_count": 32,
     "metadata": {},
     "output_type": "execute_result"
    }
   ],
   "source": [
    "df_full_stats_match_filtered.isna().sum() / df_full_stats_match_filtered.shape[0]"
   ]
  },
  {
   "cell_type": "code",
   "execution_count": 33,
   "id": "5fbf6090",
   "metadata": {
    "ExecuteTime": {
     "end_time": "2022-03-11T13:18:05.320263Z",
     "start_time": "2022-03-11T13:18:05.296194Z"
    }
   },
   "outputs": [
    {
     "data": {
      "text/html": [
       "<div>\n",
       "<style scoped>\n",
       "    .dataframe tbody tr th:only-of-type {\n",
       "        vertical-align: middle;\n",
       "    }\n",
       "\n",
       "    .dataframe tbody tr th {\n",
       "        vertical-align: top;\n",
       "    }\n",
       "\n",
       "    .dataframe thead th {\n",
       "        text-align: right;\n",
       "    }\n",
       "</style>\n",
       "<table border=\"1\" class=\"dataframe\">\n",
       "  <thead>\n",
       "    <tr style=\"text-align: right;\">\n",
       "      <th></th>\n",
       "      <th>data</th>\n",
       "      <th>hora</th>\n",
       "      <th>dia</th>\n",
       "      <th>mandante</th>\n",
       "      <th>visitante</th>\n",
       "      <th>formacao_mandante</th>\n",
       "      <th>formacao_visitante</th>\n",
       "      <th>tecnico_mandante</th>\n",
       "      <th>tecnico_visitante</th>\n",
       "      <th>vencedor</th>\n",
       "      <th>...</th>\n",
       "      <th>estado_vencedor</th>\n",
       "      <th>rodada</th>\n",
       "      <th>chutes</th>\n",
       "      <th>chutes_no_alvo</th>\n",
       "      <th>passes</th>\n",
       "      <th>faltas</th>\n",
       "      <th>cartao_amarelo</th>\n",
       "      <th>cartao_vermelho</th>\n",
       "      <th>impedimentos</th>\n",
       "      <th>escanteios</th>\n",
       "    </tr>\n",
       "    <tr>\n",
       "      <th>ID</th>\n",
       "      <th></th>\n",
       "      <th></th>\n",
       "      <th></th>\n",
       "      <th></th>\n",
       "      <th></th>\n",
       "      <th></th>\n",
       "      <th></th>\n",
       "      <th></th>\n",
       "      <th></th>\n",
       "      <th></th>\n",
       "      <th></th>\n",
       "      <th></th>\n",
       "      <th></th>\n",
       "      <th></th>\n",
       "      <th></th>\n",
       "      <th></th>\n",
       "      <th></th>\n",
       "      <th></th>\n",
       "      <th></th>\n",
       "      <th></th>\n",
       "      <th></th>\n",
       "    </tr>\n",
       "  </thead>\n",
       "  <tbody>\n",
       "    <tr>\n",
       "      <th>4870</th>\n",
       "      <td>2014-10-04</td>\n",
       "      <td>16:24</td>\n",
       "      <td>Sabado</td>\n",
       "      <td>Coritiba</td>\n",
       "      <td>Athletico-PR</td>\n",
       "      <td>4-2-2-2</td>\n",
       "      <td>4-3-3</td>\n",
       "      <td>C. dos Santos Oliveira</td>\n",
       "      <td>C. dos Santos Oliveira</td>\n",
       "      <td>Coritiba</td>\n",
       "      <td>...</td>\n",
       "      <td>PR</td>\n",
       "      <td>52</td>\n",
       "      <td>19</td>\n",
       "      <td>0</td>\n",
       "      <td>633</td>\n",
       "      <td>37</td>\n",
       "      <td>4</td>\n",
       "      <td>0</td>\n",
       "      <td>2</td>\n",
       "      <td>12</td>\n",
       "    </tr>\n",
       "    <tr>\n",
       "      <th>4698</th>\n",
       "      <td>2014-10-11</td>\n",
       "      <td>18:30</td>\n",
       "      <td>Sabado</td>\n",
       "      <td>Goias</td>\n",
       "      <td>Coritiba</td>\n",
       "      <td>4-4-2</td>\n",
       "      <td>4-2-2-2</td>\n",
       "      <td>M. dos Santos Gonçalves</td>\n",
       "      <td>M. dos Santos Gonçalves</td>\n",
       "      <td>Goias</td>\n",
       "      <td>...</td>\n",
       "      <td>GO</td>\n",
       "      <td>56</td>\n",
       "      <td>29</td>\n",
       "      <td>0</td>\n",
       "      <td>972</td>\n",
       "      <td>29</td>\n",
       "      <td>4</td>\n",
       "      <td>0</td>\n",
       "      <td>1</td>\n",
       "      <td>6</td>\n",
       "    </tr>\n",
       "    <tr>\n",
       "      <th>4891</th>\n",
       "      <td>2014-10-19</td>\n",
       "      <td>16:00</td>\n",
       "      <td>Domingo</td>\n",
       "      <td>Athletico-PR</td>\n",
       "      <td>Flamengo</td>\n",
       "      <td>4-3-3</td>\n",
       "      <td>4-2-3-1</td>\n",
       "      <td>V. Luxemburgo da Silva</td>\n",
       "      <td>V. Luxemburgo da Silva</td>\n",
       "      <td>Athletico-PR</td>\n",
       "      <td>...</td>\n",
       "      <td>PR</td>\n",
       "      <td>58</td>\n",
       "      <td>17</td>\n",
       "      <td>0</td>\n",
       "      <td>896</td>\n",
       "      <td>18</td>\n",
       "      <td>2</td>\n",
       "      <td>0</td>\n",
       "      <td>10</td>\n",
       "      <td>8</td>\n",
       "    </tr>\n",
       "    <tr>\n",
       "      <th>4892</th>\n",
       "      <td>2014-10-19</td>\n",
       "      <td>16:00</td>\n",
       "      <td>Domingo</td>\n",
       "      <td>Figueirense</td>\n",
       "      <td>Coritiba</td>\n",
       "      <td>4-1-2-1-2</td>\n",
       "      <td>4-3-2-1</td>\n",
       "      <td>M. dos Santos Gonçalves</td>\n",
       "      <td>M. dos Santos Gonçalves</td>\n",
       "      <td>Figueirense</td>\n",
       "      <td>...</td>\n",
       "      <td>SC</td>\n",
       "      <td>58</td>\n",
       "      <td>23</td>\n",
       "      <td>0</td>\n",
       "      <td>793</td>\n",
       "      <td>34</td>\n",
       "      <td>7</td>\n",
       "      <td>0</td>\n",
       "      <td>7</td>\n",
       "      <td>11</td>\n",
       "    </tr>\n",
       "    <tr>\n",
       "      <th>4898</th>\n",
       "      <td>2014-10-22</td>\n",
       "      <td>19:30</td>\n",
       "      <td>Quarta-feira</td>\n",
       "      <td>Corinthians</td>\n",
       "      <td>Vitoria</td>\n",
       "      <td>4-2-3-1</td>\n",
       "      <td>4-1-2-1-2</td>\n",
       "      <td>N. da Silveira Júnior</td>\n",
       "      <td>N. da Silveira Júnior</td>\n",
       "      <td>Corinthians</td>\n",
       "      <td>...</td>\n",
       "      <td>SP</td>\n",
       "      <td>60</td>\n",
       "      <td>20</td>\n",
       "      <td>0</td>\n",
       "      <td>869</td>\n",
       "      <td>30</td>\n",
       "      <td>2</td>\n",
       "      <td>0</td>\n",
       "      <td>3</td>\n",
       "      <td>13</td>\n",
       "    </tr>\n",
       "  </tbody>\n",
       "</table>\n",
       "<p>5 rows × 25 columns</p>\n",
       "</div>"
      ],
      "text/plain": [
       "           data   hora           dia      mandante     visitante  \\\n",
       "ID                                                                 \n",
       "4870 2014-10-04  16:24        Sabado      Coritiba  Athletico-PR   \n",
       "4698 2014-10-11  18:30        Sabado         Goias      Coritiba   \n",
       "4891 2014-10-19  16:00       Domingo  Athletico-PR      Flamengo   \n",
       "4892 2014-10-19  16:00       Domingo   Figueirense      Coritiba   \n",
       "4898 2014-10-22  19:30  Quarta-feira   Corinthians       Vitoria   \n",
       "\n",
       "     formacao_mandante formacao_visitante         tecnico_mandante  \\\n",
       "ID                                                                   \n",
       "4870           4-2-2-2              4-3-3   C. dos Santos Oliveira   \n",
       "4698             4-4-2            4-2-2-2  M. dos Santos Gonçalves   \n",
       "4891             4-3-3            4-2-3-1   V. Luxemburgo da Silva   \n",
       "4892         4-1-2-1-2            4-3-2-1  M. dos Santos Gonçalves   \n",
       "4898           4-2-3-1          4-1-2-1-2    N. da Silveira Júnior   \n",
       "\n",
       "            tecnico_visitante      vencedor  ... estado_vencedor  rodada  \\\n",
       "ID                                           ...                           \n",
       "4870   C. dos Santos Oliveira      Coritiba  ...              PR      52   \n",
       "4698  M. dos Santos Gonçalves         Goias  ...              GO      56   \n",
       "4891   V. Luxemburgo da Silva  Athletico-PR  ...              PR      58   \n",
       "4892  M. dos Santos Gonçalves   Figueirense  ...              SC      58   \n",
       "4898    N. da Silveira Júnior   Corinthians  ...              SP      60   \n",
       "\n",
       "      chutes chutes_no_alvo passes faltas  cartao_amarelo  cartao_vermelho  \\\n",
       "ID                                                                           \n",
       "4870      19              0    633     37               4                0   \n",
       "4698      29              0    972     29               4                0   \n",
       "4891      17              0    896     18               2                0   \n",
       "4892      23              0    793     34               7                0   \n",
       "4898      20              0    869     30               2                0   \n",
       "\n",
       "      impedimentos  escanteios  \n",
       "ID                              \n",
       "4870             2          12  \n",
       "4698             1           6  \n",
       "4891            10           8  \n",
       "4892             7          11  \n",
       "4898             3          13  \n",
       "\n",
       "[5 rows x 25 columns]"
      ]
     },
     "execution_count": 33,
     "metadata": {},
     "output_type": "execute_result"
    }
   ],
   "source": [
    "df_full_stats_match_filtered.head()"
   ]
  },
  {
   "cell_type": "code",
   "execution_count": 34,
   "id": "71035cf2",
   "metadata": {
    "ExecuteTime": {
     "end_time": "2022-03-11T13:18:05.949072Z",
     "start_time": "2022-03-11T13:18:05.638293Z"
    }
   },
   "outputs": [
    {
     "data": {
      "image/png": "[encoded data removed]",
      "text/plain": [
       "<Figure size 864x288 with 1 Axes>"
      ]
     },
     "metadata": {
      "needs_background": "light"
     },
     "output_type": "display_data"
    }
   ],
   "source": [
    "plt.figure(figsize=(12,4));\n",
    "plt.plot(df_full_stats_match_filtered.data, df_full_stats_match_filtered.cartao_amarelo, '.')\n",
    "plt.ylabel('N. de cartões amarelos');"
   ]
  },
  {
   "cell_type": "markdown",
   "id": "619090e9",
   "metadata": {},
   "source": [
    "# 2. Exploratory Data Analysy"
   ]
  },
  {
   "cell_type": "code",
   "execution_count": 35,
   "id": "81ff0aeb",
   "metadata": {
    "ExecuteTime": {
     "end_time": "2022-03-11T13:18:11.063206Z",
     "start_time": "2022-03-11T13:18:10.911957Z"
    }
   },
   "outputs": [
    {
     "data": {
      "image/png": "[encoded data removed]",
      "text/plain": [
       "<Figure size 432x288 with 1 Axes>"
      ]
     },
     "metadata": {
      "needs_background": "light"
     },
     "output_type": "display_data"
    }
   ],
   "source": [
    "plt.hist(df_full_stats_match_filtered.cartao_amarelo, bins=14);\n",
    "plt.title('Yellow Cards');\n",
    "plt.ylabel('Counting');\n",
    "plt.xlabel('N. of Yellow Cards');"
   ]
  },
  {
   "cell_type": "code",
   "execution_count": 36,
   "id": "1248d577",
   "metadata": {
    "ExecuteTime": {
     "end_time": "2022-03-11T13:18:14.364508Z",
     "start_time": "2022-03-11T13:18:14.346654Z"
    }
   },
   "outputs": [
    {
     "data": {
      "text/plain": [
       "count    2663.000000\n",
       "mean        4.489673\n",
       "std         2.223049\n",
       "min         0.000000\n",
       "25%         3.000000\n",
       "50%         4.000000\n",
       "75%         6.000000\n",
       "max        13.000000\n",
       "Name: cartao_amarelo, dtype: float64"
      ]
     },
     "execution_count": 36,
     "metadata": {},
     "output_type": "execute_result"
    }
   ],
   "source": [
    "df_full_stats_match_filtered.cartao_amarelo.describe()    "
   ]
  },
  {
   "cell_type": "code",
   "execution_count": 37,
   "id": "b0f899ba",
   "metadata": {
    "ExecuteTime": {
     "end_time": "2022-03-11T13:18:15.389818Z",
     "start_time": "2022-03-11T13:18:15.286682Z"
    }
   },
   "outputs": [
    {
     "data": {
      "image/png": "[encoded data removed]",
      "text/plain": [
       "<Figure size 432x288 with 1 Axes>"
      ]
     },
     "metadata": {
      "needs_background": "light"
     },
     "output_type": "display_data"
    }
   ],
   "source": [
    "plt.title('Boxplot')\n",
    "plt.boxplot(df_full_stats_match_filtered.cartao_amarelo);\n",
    "plt.ylabel('N. of Yellow Cards');"
   ]
  },
  {
   "cell_type": "markdown",
   "id": "06ba7bb1",
   "metadata": {},
   "source": [
    "# 3. Feature Engineering "
   ]
  },
  {
   "cell_type": "code",
   "execution_count": 38,
   "id": "ec2bfd42",
   "metadata": {
    "ExecuteTime": {
     "end_time": "2022-03-11T13:18:18.387260Z",
     "start_time": "2022-03-11T13:18:18.376183Z"
    }
   },
   "outputs": [],
   "source": [
    "columns_previous = ['hora',                  \n",
    "                    'dia',                   \n",
    "                    'mandante',              \n",
    "                    'visitante',             \n",
    "                    'formacao_mandante',     \n",
    "                    'formacao_visitante',                         \n",
    "                    'mandante_estado',       \n",
    "                    'visitante_estado',      \n",
    "                    'rodada',                \n",
    "                    'cartao_amarelo']        "
   ]
  },
  {
   "cell_type": "code",
   "execution_count": 39,
   "id": "80b358c8",
   "metadata": {
    "ExecuteTime": {
     "end_time": "2022-03-11T13:18:26.335773Z",
     "start_time": "2022-03-11T13:18:26.325914Z"
    }
   },
   "outputs": [],
   "source": [
    "df3 = df_full_stats_match_filtered[columns_previous]"
   ]
  },
  {
   "cell_type": "code",
   "execution_count": 40,
   "id": "09e4c9a9",
   "metadata": {
    "ExecuteTime": {
     "end_time": "2022-03-11T13:18:26.822608Z",
     "start_time": "2022-03-11T13:18:26.741395Z"
    }
   },
   "outputs": [
    {
     "name": "stderr",
     "output_type": "stream",
     "text": [
      "/tmp/ipykernel_22568/1442731621.py:1: SettingWithCopyWarning: \n",
      "A value is trying to be set on a copy of a slice from a DataFrame.\n",
      "Try using .loc[row_indexer,col_indexer] = value instead\n",
      "\n",
      "See the caveats in the documentation: https://pandas.pydata.org/pandas-docs/stable/user_guide/indexing.html#returning-a-view-versus-a-copy\n",
      "  df3.loc[:,'hora_decimal'] = pd.to_datetime(df3.hora).dt.hour + pd.to_datetime(df3.hora).dt.minute / 60\n"
     ]
    }
   ],
   "source": [
    "df3.loc[:,'hora_decimal'] = pd.to_datetime(df3.hora).dt.hour + pd.to_datetime(df3.hora).dt.minute / 60"
   ]
  },
  {
   "cell_type": "code",
   "execution_count": 41,
   "id": "900a4911",
   "metadata": {
    "ExecuteTime": {
     "end_time": "2022-03-11T13:18:27.070475Z",
     "start_time": "2022-03-11T13:18:27.016085Z"
    }
   },
   "outputs": [
    {
     "name": "stderr",
     "output_type": "stream",
     "text": [
      "/tmp/ipykernel_22568/1815872509.py:1: SettingWithCopyWarning: \n",
      "A value is trying to be set on a copy of a slice from a DataFrame.\n",
      "Try using .loc[row_indexer,col_indexer] = value instead\n",
      "\n",
      "See the caveats in the documentation: https://pandas.pydata.org/pandas-docs/stable/user_guide/indexing.html#returning-a-view-versus-a-copy\n",
      "  df3['hora_sin_'] = df3['hora_decimal'].apply(lambda x: np.sin(x * (2 * np.pi/24)))\n"
     ]
    }
   ],
   "source": [
    "df3['hora_sin_'] = df3['hora_decimal'].apply(lambda x: np.sin(x * (2 * np.pi/24)))"
   ]
  },
  {
   "cell_type": "code",
   "execution_count": 42,
   "id": "43ee73b5",
   "metadata": {
    "ExecuteTime": {
     "end_time": "2022-03-11T13:18:27.289800Z",
     "start_time": "2022-03-11T13:18:27.274796Z"
    }
   },
   "outputs": [],
   "source": [
    "df3 = df3.drop(['hora', 'hora_decimal'], axis = 1)"
   ]
  },
  {
   "cell_type": "code",
   "execution_count": 43,
   "id": "0eff477b",
   "metadata": {
    "ExecuteTime": {
     "end_time": "2022-03-11T13:18:27.539750Z",
     "start_time": "2022-03-11T13:18:27.527001Z"
    }
   },
   "outputs": [],
   "source": [
    "df3.insert(2, 'hora_sin', df3.hora_sin_)"
   ]
  },
  {
   "cell_type": "code",
   "execution_count": 44,
   "id": "4db7ff65",
   "metadata": {
    "ExecuteTime": {
     "end_time": "2022-03-11T13:18:27.991834Z",
     "start_time": "2022-03-11T13:18:27.974103Z"
    }
   },
   "outputs": [],
   "source": [
    "df3 = df3.drop('hora_sin_', axis = 1)"
   ]
  },
  {
   "cell_type": "code",
   "execution_count": 45,
   "id": "2081235f",
   "metadata": {
    "ExecuteTime": {
     "end_time": "2022-03-11T13:18:28.603391Z",
     "start_time": "2022-03-11T13:18:28.549800Z"
    }
   },
   "outputs": [
    {
     "data": {
      "text/html": [
       "<div>\n",
       "<style scoped>\n",
       "    .dataframe tbody tr th:only-of-type {\n",
       "        vertical-align: middle;\n",
       "    }\n",
       "\n",
       "    .dataframe tbody tr th {\n",
       "        vertical-align: top;\n",
       "    }\n",
       "\n",
       "    .dataframe thead th {\n",
       "        text-align: right;\n",
       "    }\n",
       "</style>\n",
       "<table border=\"1\" class=\"dataframe\">\n",
       "  <thead>\n",
       "    <tr style=\"text-align: right;\">\n",
       "      <th></th>\n",
       "      <th>dia</th>\n",
       "      <th>mandante</th>\n",
       "      <th>hora_sin</th>\n",
       "      <th>visitante</th>\n",
       "      <th>formacao_mandante</th>\n",
       "      <th>formacao_visitante</th>\n",
       "      <th>mandante_estado</th>\n",
       "      <th>visitante_estado</th>\n",
       "      <th>rodada</th>\n",
       "      <th>cartao_amarelo</th>\n",
       "    </tr>\n",
       "    <tr>\n",
       "      <th>ID</th>\n",
       "      <th></th>\n",
       "      <th></th>\n",
       "      <th></th>\n",
       "      <th></th>\n",
       "      <th></th>\n",
       "      <th></th>\n",
       "      <th></th>\n",
       "      <th></th>\n",
       "      <th></th>\n",
       "      <th></th>\n",
       "    </tr>\n",
       "  </thead>\n",
       "  <tbody>\n",
       "    <tr>\n",
       "      <th>4870</th>\n",
       "      <td>Sabado</td>\n",
       "      <td>Coritiba</td>\n",
       "      <td>-0.913545</td>\n",
       "      <td>Athletico-PR</td>\n",
       "      <td>4-2-2-2</td>\n",
       "      <td>4-3-3</td>\n",
       "      <td>PR</td>\n",
       "      <td>PR</td>\n",
       "      <td>52</td>\n",
       "      <td>4</td>\n",
       "    </tr>\n",
       "    <tr>\n",
       "      <th>4698</th>\n",
       "      <td>Sabado</td>\n",
       "      <td>Goias</td>\n",
       "      <td>-0.991445</td>\n",
       "      <td>Coritiba</td>\n",
       "      <td>4-4-2</td>\n",
       "      <td>4-2-2-2</td>\n",
       "      <td>GO</td>\n",
       "      <td>PR</td>\n",
       "      <td>56</td>\n",
       "      <td>4</td>\n",
       "    </tr>\n",
       "    <tr>\n",
       "      <th>4891</th>\n",
       "      <td>Domingo</td>\n",
       "      <td>Athletico-PR</td>\n",
       "      <td>-0.866025</td>\n",
       "      <td>Flamengo</td>\n",
       "      <td>4-3-3</td>\n",
       "      <td>4-2-3-1</td>\n",
       "      <td>PR</td>\n",
       "      <td>RJ</td>\n",
       "      <td>58</td>\n",
       "      <td>2</td>\n",
       "    </tr>\n",
       "    <tr>\n",
       "      <th>4892</th>\n",
       "      <td>Domingo</td>\n",
       "      <td>Figueirense</td>\n",
       "      <td>-0.866025</td>\n",
       "      <td>Coritiba</td>\n",
       "      <td>4-1-2-1-2</td>\n",
       "      <td>4-3-2-1</td>\n",
       "      <td>SC</td>\n",
       "      <td>PR</td>\n",
       "      <td>58</td>\n",
       "      <td>7</td>\n",
       "    </tr>\n",
       "    <tr>\n",
       "      <th>4898</th>\n",
       "      <td>Quarta-feira</td>\n",
       "      <td>Corinthians</td>\n",
       "      <td>-0.923880</td>\n",
       "      <td>Vitoria</td>\n",
       "      <td>4-2-3-1</td>\n",
       "      <td>4-1-2-1-2</td>\n",
       "      <td>SP</td>\n",
       "      <td>BA</td>\n",
       "      <td>60</td>\n",
       "      <td>2</td>\n",
       "    </tr>\n",
       "  </tbody>\n",
       "</table>\n",
       "</div>"
      ],
      "text/plain": [
       "               dia      mandante  hora_sin     visitante formacao_mandante  \\\n",
       "ID                                                                           \n",
       "4870        Sabado      Coritiba -0.913545  Athletico-PR           4-2-2-2   \n",
       "4698        Sabado         Goias -0.991445      Coritiba             4-4-2   \n",
       "4891       Domingo  Athletico-PR -0.866025      Flamengo             4-3-3   \n",
       "4892       Domingo   Figueirense -0.866025      Coritiba         4-1-2-1-2   \n",
       "4898  Quarta-feira   Corinthians -0.923880       Vitoria           4-2-3-1   \n",
       "\n",
       "     formacao_visitante mandante_estado visitante_estado  rodada  \\\n",
       "ID                                                                 \n",
       "4870              4-3-3              PR               PR      52   \n",
       "4698            4-2-2-2              GO               PR      56   \n",
       "4891            4-2-3-1              PR               RJ      58   \n",
       "4892            4-3-2-1              SC               PR      58   \n",
       "4898          4-1-2-1-2              SP               BA      60   \n",
       "\n",
       "      cartao_amarelo  \n",
       "ID                    \n",
       "4870               4  \n",
       "4698               4  \n",
       "4891               2  \n",
       "4892               7  \n",
       "4898               2  "
      ]
     },
     "execution_count": 45,
     "metadata": {},
     "output_type": "execute_result"
    }
   ],
   "source": [
    "df3.head()"
   ]
  },
  {
   "cell_type": "code",
   "execution_count": 129,
   "id": "0343fc89",
   "metadata": {
    "ExecuteTime": {
     "end_time": "2022-03-10T20:34:06.628569Z",
     "start_time": "2022-03-10T20:34:06.620018Z"
    }
   },
   "outputs": [
    {
     "data": {
      "text/plain": [
       "dia                    object\n",
       "mandante               object\n",
       "hora_sin              float64\n",
       "visitante              object\n",
       "formacao_mandante      object\n",
       "formacao_visitante     object\n",
       "mandante_estado        object\n",
       "visitante_estado       object\n",
       "rodada                  int64\n",
       "cartao_amarelo          int64\n",
       "dtype: object"
      ]
     },
     "execution_count": 129,
     "metadata": {},
     "output_type": "execute_result"
    }
   ],
   "source": [
    "df3.dtypes"
   ]
  },
  {
   "cell_type": "code",
   "execution_count": 130,
   "id": "19ab67ac",
   "metadata": {
    "ExecuteTime": {
     "end_time": "2022-03-10T20:34:07.870695Z",
     "start_time": "2022-03-10T20:34:07.841962Z"
    }
   },
   "outputs": [],
   "source": [
    "df3 = pd.get_dummies(df3)"
   ]
  },
  {
   "cell_type": "markdown",
   "id": "356beb22",
   "metadata": {},
   "source": [
    "# 4.0 Feature selection and scaling "
   ]
  },
  {
   "cell_type": "code",
   "execution_count": 131,
   "id": "62a7f358",
   "metadata": {
    "ExecuteTime": {
     "end_time": "2022-03-10T20:34:09.212426Z",
     "start_time": "2022-03-10T20:34:09.204635Z"
    }
   },
   "outputs": [],
   "source": [
    "X = df3.drop('cartao_amarelo', axis=1)\n",
    "y = df3.cartao_amarelo"
   ]
  },
  {
   "cell_type": "code",
   "execution_count": 132,
   "id": "9b016aa6",
   "metadata": {
    "ExecuteTime": {
     "end_time": "2022-03-10T20:34:09.754748Z",
     "start_time": "2022-03-10T20:34:09.741564Z"
    }
   },
   "outputs": [],
   "source": [
    "X_train, X_test, y_train, y_test = train_test_split(X, y)"
   ]
  },
  {
   "cell_type": "markdown",
   "id": "e0204b6a",
   "metadata": {},
   "source": [
    "# 5.0 Models "
   ]
  },
  {
   "cell_type": "markdown",
   "id": "97562ef9",
   "metadata": {},
   "source": [
    "## 5.1 XGBoost "
   ]
  },
  {
   "cell_type": "code",
   "execution_count": 142,
   "id": "ccf54b7d",
   "metadata": {
    "ExecuteTime": {
     "end_time": "2022-03-10T20:35:58.481732Z",
     "start_time": "2022-03-10T20:35:50.942509Z"
    }
   },
   "outputs": [
    {
     "name": "stderr",
     "output_type": "stream",
     "text": [
      "/home/mahelvson/anaconda3/envs/foot/lib/python3.9/site-packages/xgboost/data.py:250: FutureWarning: pandas.Int64Index is deprecated and will be removed from pandas in a future version. Use pandas.Index with the appropriate dtype instead.\n",
      "  elif isinstance(data.columns, (pd.Int64Index, pd.RangeIndex)):\n"
     ]
    }
   ],
   "source": [
    "# model\n",
    "model_xgb = xgb.XGBRegressor(objective = 'reg:squarederror', \n",
    "                      n_estimators = 500, \n",
    "                      eta = 0.01, \n",
    "                      max_depth = 15, \n",
    "                      subsample = 0.7, \n",
    "                      colsample_bytree=0.5).fit(X_train, y_train)\n",
    "\n",
    "# prediction\n",
    "yhat_xgb = model_xgb.predict(X_test)"
   ]
  },
  {
   "cell_type": "code",
   "execution_count": 143,
   "id": "e9be8a66",
   "metadata": {
    "ExecuteTime": {
     "end_time": "2022-03-10T20:35:58.712842Z",
     "start_time": "2022-03-10T20:35:58.483582Z"
    }
   },
   "outputs": [
    {
     "data": {
      "text/plain": [
       "<matplotlib.legend.Legend at 0x7f5920438d00>"
      ]
     },
     "execution_count": 143,
     "metadata": {},
     "output_type": "execute_result"
    },
    {
     "data": {
      "image/png": "[encoded data removed]",
      "text/plain": [
       "<Figure size 864x432 with 1 Axes>"
      ]
     },
     "metadata": {
      "needs_background": "light"
     },
     "output_type": "display_data"
    }
   ],
   "source": [
    "plt.figure(figsize=(12,6))\n",
    "plt.plot(yhat_xgb.astype(int))\n",
    "plt.plot(y_test.values)\n",
    "plt.plot(np.ones(y_test.shape[0]) * 4)\n",
    "plt.legend(['Pred', 'Real', 'Baseline'])"
   ]
  },
  {
   "cell_type": "code",
   "execution_count": 144,
   "id": "72c226e7",
   "metadata": {
    "ExecuteTime": {
     "end_time": "2022-03-10T20:35:58.718098Z",
     "start_time": "2022-03-10T20:35:58.714425Z"
    }
   },
   "outputs": [],
   "source": [
    "results = {\n",
    "    'pred': yhat_xgb.astype(int),\n",
    "    'real': y_test.values,\n",
    "    'baseline': np.ones(y_test.shape[0]) * 4\n",
    "}\n",
    "results = pd.DataFrame(results)"
   ]
  },
  {
   "cell_type": "code",
   "execution_count": 145,
   "id": "4f31c151",
   "metadata": {
    "ExecuteTime": {
     "end_time": "2022-03-10T20:35:58.732372Z",
     "start_time": "2022-03-10T20:35:58.720356Z"
    }
   },
   "outputs": [
    {
     "data": {
      "text/plain": [
       "0.16516516516516516"
      ]
     },
     "execution_count": 145,
     "metadata": {},
     "output_type": "execute_result"
    }
   ],
   "source": [
    "accuracy_score(results.real, results.pred)"
   ]
  },
  {
   "cell_type": "code",
   "execution_count": 146,
   "id": "f33daf67",
   "metadata": {
    "ExecuteTime": {
     "end_time": "2022-03-10T20:35:58.740476Z",
     "start_time": "2022-03-10T20:35:58.734747Z"
    }
   },
   "outputs": [
    {
     "data": {
      "text/plain": [
       "0.1996996996996997"
      ]
     },
     "execution_count": 146,
     "metadata": {},
     "output_type": "execute_result"
    }
   ],
   "source": [
    "accuracy_score(results.real, results.baseline)"
   ]
  },
  {
   "cell_type": "code",
   "execution_count": 147,
   "id": "0473f411",
   "metadata": {
    "ExecuteTime": {
     "end_time": "2022-03-10T20:35:58.753612Z",
     "start_time": "2022-03-10T20:35:58.748496Z"
    }
   },
   "outputs": [
    {
     "data": {
      "text/plain": [
       "1.8003003003003002"
      ]
     },
     "execution_count": 147,
     "metadata": {},
     "output_type": "execute_result"
    }
   ],
   "source": [
    "mean_absolute_error(results.real, results.pred)"
   ]
  },
  {
   "cell_type": "code",
   "execution_count": 148,
   "id": "cf059108",
   "metadata": {
    "ExecuteTime": {
     "end_time": "2022-03-10T20:35:58.760872Z",
     "start_time": "2022-03-10T20:35:58.755309Z"
    }
   },
   "outputs": [
    {
     "data": {
      "text/plain": [
       "5.262762762762763"
      ]
     },
     "execution_count": 148,
     "metadata": {},
     "output_type": "execute_result"
    }
   ],
   "source": [
    "mean_squared_error(results.real, results.pred)"
   ]
  },
  {
   "cell_type": "markdown",
   "id": "94bca91f",
   "metadata": {},
   "source": [
    "## 5.2 Random Forests"
   ]
  },
  {
   "cell_type": "code",
   "execution_count": 149,
   "id": "d719d49e",
   "metadata": {
    "ExecuteTime": {
     "end_time": "2022-03-10T20:36:48.533770Z",
     "start_time": "2022-03-10T20:36:41.832817Z"
    }
   },
   "outputs": [],
   "source": [
    "# model\n",
    "rf = RandomForestRegressor(n_estimators = 800, n_jobs = -1, random_state = 42).fit(X_train, y_train)\n",
    "\n",
    "# prediction\n",
    "yhat_rf = rf.predict(X_test)"
   ]
  },
  {
   "cell_type": "code",
   "execution_count": 150,
   "id": "e68bf937",
   "metadata": {
    "ExecuteTime": {
     "end_time": "2022-03-10T20:36:48.544174Z",
     "start_time": "2022-03-10T20:36:48.535395Z"
    }
   },
   "outputs": [],
   "source": [
    "results = {\n",
    "    'pred': yhat_rf.astype(int),\n",
    "    'real': y_test.values,\n",
    "    'baseline': np.ones(y_test.shape[0]) * 4\n",
    "}\n",
    "results = pd.DataFrame(results)"
   ]
  },
  {
   "cell_type": "code",
   "execution_count": 151,
   "id": "4766b3ee",
   "metadata": {
    "ExecuteTime": {
     "end_time": "2022-03-10T20:36:48.552356Z",
     "start_time": "2022-03-10T20:36:48.546501Z"
    }
   },
   "outputs": [
    {
     "data": {
      "text/plain": [
       "0.16816816816816818"
      ]
     },
     "execution_count": 151,
     "metadata": {},
     "output_type": "execute_result"
    }
   ],
   "source": [
    "accuracy_score(results.real, results.pred)"
   ]
  },
  {
   "cell_type": "code",
   "execution_count": 152,
   "id": "91cb160c",
   "metadata": {
    "ExecuteTime": {
     "end_time": "2022-03-10T20:36:48.752609Z",
     "start_time": "2022-03-10T20:36:48.555512Z"
    }
   },
   "outputs": [
    {
     "data": {
      "text/plain": [
       "<matplotlib.legend.Legend at 0x7f5920198550>"
      ]
     },
     "execution_count": 152,
     "metadata": {},
     "output_type": "execute_result"
    },
    {
     "data": {
      "image/png": "[encoded data removed]",
      "text/plain": [
       "<Figure size 864x432 with 1 Axes>"
      ]
     },
     "metadata": {
      "needs_background": "light"
     },
     "output_type": "display_data"
    }
   ],
   "source": [
    "plt.figure(figsize=(12,6))\n",
    "plt.plot(yhat_rf.astype(int))\n",
    "plt.plot(y_test.values)\n",
    "plt.plot(np.ones(y_test.shape[0]) * 4)\n",
    "plt.legend(['Pred', 'Real', 'Baseline'])"
   ]
  },
  {
   "cell_type": "code",
   "execution_count": 153,
   "id": "2f5d46c8",
   "metadata": {
    "ExecuteTime": {
     "end_time": "2022-03-10T20:37:05.869312Z",
     "start_time": "2022-03-10T20:37:05.840818Z"
    }
   },
   "outputs": [
    {
     "data": {
      "text/plain": [
       "1.7972972972972974"
      ]
     },
     "execution_count": 153,
     "metadata": {},
     "output_type": "execute_result"
    }
   ],
   "source": [
    "mean_absolute_error(results.real, results.pred)"
   ]
  },
  {
   "cell_type": "code",
   "execution_count": 154,
   "id": "01c99287",
   "metadata": {
    "ExecuteTime": {
     "end_time": "2022-03-10T20:37:07.036011Z",
     "start_time": "2022-03-10T20:37:07.016840Z"
    }
   },
   "outputs": [
    {
     "data": {
      "text/plain": [
       "5.2657657657657655"
      ]
     },
     "execution_count": 154,
     "metadata": {},
     "output_type": "execute_result"
    }
   ],
   "source": [
    "mean_squared_error(results.real, results.pred)"
   ]
  },
  {
   "cell_type": "code",
   "execution_count": null,
   "id": "ab12a056",
   "metadata": {},
   "outputs": [],
   "source": []
  }
 ],
 "metadata": {
  "kernelspec": {
   "display_name": "Python 3 (ipykernel)",
   "language": "python",
   "name": "python3"
  },
  "language_info": {
   "codemirror_mode": {
    "name": "ipython",
    "version": 3
   },
   "file_extension": ".py",
   "mimetype": "text/x-python",
   "name": "python",
   "nbconvert_exporter": "python",
   "pygments_lexer": "ipython3",
   "version": "3.9.7"
  }
 },
 "nbformat": 4,
 "nbformat_minor": 5
}
