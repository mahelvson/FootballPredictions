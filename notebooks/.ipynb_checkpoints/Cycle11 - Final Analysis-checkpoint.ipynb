{
 "cells": [
  {
   "cell_type": "markdown",
   "id": "3bdebc5a",
   "metadata": {},
   "source": [
    "# 0. Imports "
   ]
  },
  {
   "cell_type": "code",
   "execution_count": 247,
   "id": "1b2013bd",
   "metadata": {
    "ExecuteTime": {
     "end_time": "2022-03-24T18:59:37.218551Z",
     "start_time": "2022-03-24T18:59:37.207218Z"
    }
   },
   "outputs": [],
   "source": [
    "import math\n",
    "\n",
    "import pandas as pd\n",
    "import numpy as np\n",
    "import matplotlib.pyplot as plt\n",
    "import seaborn as sns\n",
    "import xgboost as xgb\n",
    "import statsmodels.api as sm\n",
    "\n",
    "from os import listdir\n",
    "from sklearn.model_selection import train_test_split, cross_val_score\n",
    "from sklearn.metrics import confusion_matrix, accuracy_score, classification_report\n",
    "from sklearn.ensemble import RandomForestRegressor, RandomForestClassifier\n",
    "from sklearn.metrics import mean_absolute_error, mean_squared_error, mean_absolute_percentage_error\n",
    "from sklearn.linear_model import LogisticRegression\n",
    "from sklearn.preprocessing import LabelEncoder, StandardScaler\n",
    "from sklearn import svm, tree\n",
    "from sklearn.naive_bayes import GaussianNB\n",
    "from sklearn.linear_model import SGDClassifier\n",
    "from sklearn.ensemble import VotingClassifier\n",
    "from sklearn.neural_network import MLPClassifier\n",
    "\n",
    "from boruta import BorutaPy\n",
    "from imblearn.under_sampling import RandomUnderSampler\n",
    "from imblearn.over_sampling import RandomOverSampler\n"
   ]
  },
  {
   "cell_type": "markdown",
   "id": "d0053fb9",
   "metadata": {},
   "source": [
    "# 1.0 Data Loading "
   ]
  },
  {
   "cell_type": "code",
   "execution_count": 2,
   "id": "83cd7a65",
   "metadata": {
    "ExecuteTime": {
     "end_time": "2022-03-24T13:00:46.987524Z",
     "start_time": "2022-03-24T13:00:46.982485Z"
    }
   },
   "outputs": [],
   "source": [
    "data_path = '../datasets/'\n",
    "files = listdir(data_path)\n",
    "\n",
    "full = files[1]\n",
    "stats = files[2]"
   ]
  },
  {
   "cell_type": "markdown",
   "id": "f2d8f1d1",
   "metadata": {},
   "source": [
    "## 1.1 Full Matches "
   ]
  },
  {
   "cell_type": "code",
   "execution_count": 3,
   "id": "0e786f69",
   "metadata": {
    "ExecuteTime": {
     "end_time": "2022-03-24T13:00:47.038346Z",
     "start_time": "2022-03-24T13:00:46.989081Z"
    }
   },
   "outputs": [],
   "source": [
    "df_full = pd.read_csv(data_path + full)"
   ]
  },
  {
   "cell_type": "code",
   "execution_count": 4,
   "id": "41855210",
   "metadata": {
    "ExecuteTime": {
     "end_time": "2022-03-24T13:00:47.068342Z",
     "start_time": "2022-03-24T13:00:47.040781Z"
    }
   },
   "outputs": [
    {
     "data": {
      "text/html": [
       "<div>\n",
       "<style scoped>\n",
       "    .dataframe tbody tr th:only-of-type {\n",
       "        vertical-align: middle;\n",
       "    }\n",
       "\n",
       "    .dataframe tbody tr th {\n",
       "        vertical-align: top;\n",
       "    }\n",
       "\n",
       "    .dataframe thead th {\n",
       "        text-align: right;\n",
       "    }\n",
       "</style>\n",
       "<table border=\"1\" class=\"dataframe\">\n",
       "  <thead>\n",
       "    <tr style=\"text-align: right;\">\n",
       "      <th></th>\n",
       "      <th>ID</th>\n",
       "      <th>rodada</th>\n",
       "      <th>temporada</th>\n",
       "      <th>data</th>\n",
       "      <th>hora</th>\n",
       "      <th>dia</th>\n",
       "      <th>mandante</th>\n",
       "      <th>visitante</th>\n",
       "      <th>formacao_mandante</th>\n",
       "      <th>formacao_visitante</th>\n",
       "      <th>tecnico_mandante</th>\n",
       "      <th>tecnico_visitante</th>\n",
       "      <th>vencedor</th>\n",
       "      <th>arena</th>\n",
       "      <th>mandante_placar</th>\n",
       "      <th>visitante_placar</th>\n",
       "      <th>mandante_estado</th>\n",
       "      <th>visitante_estado</th>\n",
       "      <th>estado_vencedor</th>\n",
       "    </tr>\n",
       "  </thead>\n",
       "  <tbody>\n",
       "    <tr>\n",
       "      <th>0</th>\n",
       "      <td>1</td>\n",
       "      <td>1</td>\n",
       "      <td>2003</td>\n",
       "      <td>2003-03-29</td>\n",
       "      <td>16:00</td>\n",
       "      <td>Sabado</td>\n",
       "      <td>Guarani</td>\n",
       "      <td>Vasco</td>\n",
       "      <td>NaN</td>\n",
       "      <td>NaN</td>\n",
       "      <td>NaN</td>\n",
       "      <td>NaN</td>\n",
       "      <td>Guarani</td>\n",
       "      <td>brinco de ouro</td>\n",
       "      <td>4</td>\n",
       "      <td>2</td>\n",
       "      <td>SP</td>\n",
       "      <td>RJ</td>\n",
       "      <td>SP</td>\n",
       "    </tr>\n",
       "    <tr>\n",
       "      <th>1</th>\n",
       "      <td>2</td>\n",
       "      <td>1</td>\n",
       "      <td>2003</td>\n",
       "      <td>2003-03-29</td>\n",
       "      <td>16:00</td>\n",
       "      <td>Sabado</td>\n",
       "      <td>Athletico-PR</td>\n",
       "      <td>Gremio</td>\n",
       "      <td>NaN</td>\n",
       "      <td>NaN</td>\n",
       "      <td>NaN</td>\n",
       "      <td>NaN</td>\n",
       "      <td>Athletico-PR</td>\n",
       "      <td>arena da baixada</td>\n",
       "      <td>2</td>\n",
       "      <td>0</td>\n",
       "      <td>PR</td>\n",
       "      <td>RS</td>\n",
       "      <td>PR</td>\n",
       "    </tr>\n",
       "    <tr>\n",
       "      <th>2</th>\n",
       "      <td>3</td>\n",
       "      <td>1</td>\n",
       "      <td>2003</td>\n",
       "      <td>2003-03-30</td>\n",
       "      <td>16:00</td>\n",
       "      <td>Domingo</td>\n",
       "      <td>Flamengo</td>\n",
       "      <td>Coritiba</td>\n",
       "      <td>NaN</td>\n",
       "      <td>NaN</td>\n",
       "      <td>NaN</td>\n",
       "      <td>NaN</td>\n",
       "      <td>-</td>\n",
       "      <td>maracana</td>\n",
       "      <td>1</td>\n",
       "      <td>1</td>\n",
       "      <td>RJ</td>\n",
       "      <td>PR</td>\n",
       "      <td>-</td>\n",
       "    </tr>\n",
       "    <tr>\n",
       "      <th>3</th>\n",
       "      <td>4</td>\n",
       "      <td>1</td>\n",
       "      <td>2003</td>\n",
       "      <td>2003-03-30</td>\n",
       "      <td>16:00</td>\n",
       "      <td>Domingo</td>\n",
       "      <td>Goias</td>\n",
       "      <td>Paysandu</td>\n",
       "      <td>NaN</td>\n",
       "      <td>NaN</td>\n",
       "      <td>NaN</td>\n",
       "      <td>NaN</td>\n",
       "      <td>-</td>\n",
       "      <td>serra dourada</td>\n",
       "      <td>2</td>\n",
       "      <td>2</td>\n",
       "      <td>GO</td>\n",
       "      <td>PA</td>\n",
       "      <td>-</td>\n",
       "    </tr>\n",
       "    <tr>\n",
       "      <th>4</th>\n",
       "      <td>5</td>\n",
       "      <td>1</td>\n",
       "      <td>2003</td>\n",
       "      <td>2003-03-30</td>\n",
       "      <td>16:00</td>\n",
       "      <td>Domingo</td>\n",
       "      <td>Internacional</td>\n",
       "      <td>Ponte Preta</td>\n",
       "      <td>NaN</td>\n",
       "      <td>NaN</td>\n",
       "      <td>NaN</td>\n",
       "      <td>NaN</td>\n",
       "      <td>-</td>\n",
       "      <td>beira rio</td>\n",
       "      <td>1</td>\n",
       "      <td>1</td>\n",
       "      <td>RS</td>\n",
       "      <td>SP</td>\n",
       "      <td>-</td>\n",
       "    </tr>\n",
       "  </tbody>\n",
       "</table>\n",
       "</div>"
      ],
      "text/plain": [
       "   ID  rodada  temporada       data   hora      dia       mandante  \\\n",
       "0   1       1       2003 2003-03-29  16:00   Sabado        Guarani   \n",
       "1   2       1       2003 2003-03-29  16:00   Sabado   Athletico-PR   \n",
       "2   3       1       2003 2003-03-30  16:00  Domingo       Flamengo   \n",
       "3   4       1       2003 2003-03-30  16:00  Domingo          Goias   \n",
       "4   5       1       2003 2003-03-30  16:00  Domingo  Internacional   \n",
       "\n",
       "     visitante formacao_mandante formacao_visitante tecnico_mandante  \\\n",
       "0        Vasco               NaN                NaN              NaN   \n",
       "1       Gremio               NaN                NaN              NaN   \n",
       "2     Coritiba               NaN                NaN              NaN   \n",
       "3     Paysandu               NaN                NaN              NaN   \n",
       "4  Ponte Preta               NaN                NaN              NaN   \n",
       "\n",
       "  tecnico_visitante      vencedor             arena  mandante_placar  \\\n",
       "0               NaN       Guarani    brinco de ouro                4   \n",
       "1               NaN  Athletico-PR  arena da baixada                2   \n",
       "2               NaN             -          maracana                1   \n",
       "3               NaN             -     serra dourada                2   \n",
       "4               NaN             -         beira rio                1   \n",
       "\n",
       "   visitante_placar mandante_estado visitante_estado estado_vencedor  \n",
       "0                 2              SP               RJ              SP  \n",
       "1                 0              PR               RS              PR  \n",
       "2                 1              RJ               PR               -  \n",
       "3                 2              GO               PA               -  \n",
       "4                 1              RS               SP               -  "
      ]
     },
     "execution_count": 4,
     "metadata": {},
     "output_type": "execute_result"
    }
   ],
   "source": [
    "# indicando qual a temporada do campeonato\n",
    "\n",
    "df_full.loc[:, 'data'] = pd.to_datetime(df_full.data, yearfirst=True)\n",
    "df_full.insert(2, 'temporada', df_full.data.dt.year)\n",
    "df_full.head()"
   ]
  },
  {
   "cell_type": "code",
   "execution_count": 5,
   "id": "626a8cd1",
   "metadata": {
    "ExecuteTime": {
     "end_time": "2022-03-24T13:00:47.073012Z",
     "start_time": "2022-03-24T13:00:47.070117Z"
    }
   },
   "outputs": [
    {
     "name": "stdout",
     "output_type": "stream",
     "text": [
      "O número de linhas (exemplos) é 7645 e de colunas (atributos) é 19.\n"
     ]
    }
   ],
   "source": [
    "print(f'O número de linhas (exemplos) é {df_full.shape[0]} e de colunas (atributos) é {df_full.shape[1]}.')"
   ]
  },
  {
   "cell_type": "code",
   "execution_count": 6,
   "id": "3764a856",
   "metadata": {
    "ExecuteTime": {
     "end_time": "2022-03-24T13:00:47.082884Z",
     "start_time": "2022-03-24T13:00:47.074639Z"
    }
   },
   "outputs": [
    {
     "data": {
      "text/plain": [
       "temporada\n",
       "2003    46\n",
       "2004    46\n",
       "2005    42\n",
       "2006    38\n",
       "2007    38\n",
       "2008    38\n",
       "2009    38\n",
       "2010    38\n",
       "2011    38\n",
       "2012    38\n",
       "2013    38\n",
       "2014    38\n",
       "2015    38\n",
       "2016    38\n",
       "2017    38\n",
       "2018    38\n",
       "2019    38\n",
       "2020    27\n",
       "2021    38\n",
       "Name: rodada, dtype: int64"
      ]
     },
     "execution_count": 6,
     "metadata": {},
     "output_type": "execute_result"
    }
   ],
   "source": [
    "df_full.groupby('temporada')['rodada'].max()"
   ]
  },
  {
   "cell_type": "markdown",
   "id": "e089ff83",
   "metadata": {},
   "source": [
    "<b> Constatações <b>\n",
    "- Algumas temporadas tem mais ou menos jogos;\n",
    "- Em 2005 foram apenas 42 rodadas, pois era outro formato de campeonato; \n",
    "- A temporada 2020 está incompleta, pois deveriam ser 38 rodadas."
   ]
  },
  {
   "cell_type": "markdown",
   "id": "d4d204fc",
   "metadata": {},
   "source": [
    "## 1.2  Full Statistics"
   ]
  },
  {
   "cell_type": "code",
   "execution_count": 7,
   "id": "2b0f65b6",
   "metadata": {
    "ExecuteTime": {
     "end_time": "2022-03-24T13:00:47.115652Z",
     "start_time": "2022-03-24T13:00:47.084764Z"
    }
   },
   "outputs": [
    {
     "data": {
      "text/html": [
       "<div>\n",
       "<style scoped>\n",
       "    .dataframe tbody tr th:only-of-type {\n",
       "        vertical-align: middle;\n",
       "    }\n",
       "\n",
       "    .dataframe tbody tr th {\n",
       "        vertical-align: top;\n",
       "    }\n",
       "\n",
       "    .dataframe thead th {\n",
       "        text-align: right;\n",
       "    }\n",
       "</style>\n",
       "<table border=\"1\" class=\"dataframe\">\n",
       "  <thead>\n",
       "    <tr style=\"text-align: right;\">\n",
       "      <th></th>\n",
       "      <th>partida_id</th>\n",
       "      <th>rodada</th>\n",
       "      <th>clube</th>\n",
       "      <th>chutes</th>\n",
       "      <th>chutes_no_alvo</th>\n",
       "      <th>posse_de_bola</th>\n",
       "      <th>passes</th>\n",
       "      <th>precisao_passes</th>\n",
       "      <th>faltas</th>\n",
       "      <th>cartao_amarelo</th>\n",
       "      <th>cartao_vermelho</th>\n",
       "      <th>impedimentos</th>\n",
       "      <th>escanteios</th>\n",
       "    </tr>\n",
       "  </thead>\n",
       "  <tbody>\n",
       "    <tr>\n",
       "      <th>0</th>\n",
       "      <td>1</td>\n",
       "      <td>1</td>\n",
       "      <td>Guarani</td>\n",
       "      <td>0</td>\n",
       "      <td>0</td>\n",
       "      <td>NaN</td>\n",
       "      <td>0</td>\n",
       "      <td>NaN</td>\n",
       "      <td>0</td>\n",
       "      <td>0</td>\n",
       "      <td>0</td>\n",
       "      <td>0</td>\n",
       "      <td>0</td>\n",
       "    </tr>\n",
       "    <tr>\n",
       "      <th>1</th>\n",
       "      <td>1</td>\n",
       "      <td>1</td>\n",
       "      <td>Vasco</td>\n",
       "      <td>0</td>\n",
       "      <td>0</td>\n",
       "      <td>NaN</td>\n",
       "      <td>0</td>\n",
       "      <td>NaN</td>\n",
       "      <td>0</td>\n",
       "      <td>0</td>\n",
       "      <td>0</td>\n",
       "      <td>0</td>\n",
       "      <td>0</td>\n",
       "    </tr>\n",
       "    <tr>\n",
       "      <th>2</th>\n",
       "      <td>2</td>\n",
       "      <td>1</td>\n",
       "      <td>Athletico-PR</td>\n",
       "      <td>0</td>\n",
       "      <td>0</td>\n",
       "      <td>NaN</td>\n",
       "      <td>0</td>\n",
       "      <td>NaN</td>\n",
       "      <td>0</td>\n",
       "      <td>0</td>\n",
       "      <td>0</td>\n",
       "      <td>0</td>\n",
       "      <td>0</td>\n",
       "    </tr>\n",
       "    <tr>\n",
       "      <th>3</th>\n",
       "      <td>2</td>\n",
       "      <td>1</td>\n",
       "      <td>Gremio</td>\n",
       "      <td>0</td>\n",
       "      <td>0</td>\n",
       "      <td>NaN</td>\n",
       "      <td>0</td>\n",
       "      <td>NaN</td>\n",
       "      <td>0</td>\n",
       "      <td>0</td>\n",
       "      <td>0</td>\n",
       "      <td>0</td>\n",
       "      <td>0</td>\n",
       "    </tr>\n",
       "    <tr>\n",
       "      <th>4</th>\n",
       "      <td>3</td>\n",
       "      <td>1</td>\n",
       "      <td>Flamengo</td>\n",
       "      <td>0</td>\n",
       "      <td>0</td>\n",
       "      <td>NaN</td>\n",
       "      <td>0</td>\n",
       "      <td>NaN</td>\n",
       "      <td>0</td>\n",
       "      <td>0</td>\n",
       "      <td>0</td>\n",
       "      <td>0</td>\n",
       "      <td>0</td>\n",
       "    </tr>\n",
       "  </tbody>\n",
       "</table>\n",
       "</div>"
      ],
      "text/plain": [
       "   partida_id  rodada         clube  chutes  chutes_no_alvo posse_de_bola  \\\n",
       "0           1       1       Guarani       0               0           NaN   \n",
       "1           1       1         Vasco       0               0           NaN   \n",
       "2           2       1  Athletico-PR       0               0           NaN   \n",
       "3           2       1        Gremio       0               0           NaN   \n",
       "4           3       1      Flamengo       0               0           NaN   \n",
       "\n",
       "   passes precisao_passes  faltas  cartao_amarelo  cartao_vermelho  \\\n",
       "0       0             NaN       0               0                0   \n",
       "1       0             NaN       0               0                0   \n",
       "2       0             NaN       0               0                0   \n",
       "3       0             NaN       0               0                0   \n",
       "4       0             NaN       0               0                0   \n",
       "\n",
       "   impedimentos  escanteios  \n",
       "0             0           0  \n",
       "1             0           0  \n",
       "2             0           0  \n",
       "3             0           0  \n",
       "4             0           0  "
      ]
     },
     "execution_count": 7,
     "metadata": {},
     "output_type": "execute_result"
    }
   ],
   "source": [
    "df_stats = pd.read_csv(data_path + stats)\n",
    "df_stats.head()"
   ]
  },
  {
   "cell_type": "code",
   "execution_count": 8,
   "id": "07b6c089",
   "metadata": {
    "ExecuteTime": {
     "end_time": "2022-03-24T13:00:47.120558Z",
     "start_time": "2022-03-24T13:00:47.117133Z"
    }
   },
   "outputs": [
    {
     "name": "stdout",
     "output_type": "stream",
     "text": [
      "O número de linhas (exemplos) é 15290 e de colunas (atributos) é 13.\n"
     ]
    }
   ],
   "source": [
    "print(f'O número de linhas (exemplos) é {df_stats.shape[0]} e de colunas (atributos) é {df_stats.shape[1]}.')"
   ]
  },
  {
   "cell_type": "code",
   "execution_count": 9,
   "id": "2ee04d63",
   "metadata": {
    "ExecuteTime": {
     "end_time": "2022-03-24T13:00:47.126420Z",
     "start_time": "2022-03-24T13:00:47.122342Z"
    }
   },
   "outputs": [],
   "source": [
    "# renomeando a coluna para ficar compatível com df_full\n",
    "df_stats = df_stats.rename(columns = {'partida_id': 'ID'})"
   ]
  },
  {
   "cell_type": "markdown",
   "id": "426cbc68",
   "metadata": {},
   "source": [
    "# 2.0 Data Cleaning "
   ]
  },
  {
   "cell_type": "code",
   "execution_count": 10,
   "id": "99068698",
   "metadata": {
    "ExecuteTime": {
     "end_time": "2022-03-24T13:00:47.133696Z",
     "start_time": "2022-03-24T13:00:47.129169Z"
    }
   },
   "outputs": [],
   "source": [
    "# uma copia para facilitar recuperar os dados\n",
    "df_full2 = df_full.copy()\n",
    "df_stats2 = df_stats.copy()"
   ]
  },
  {
   "cell_type": "markdown",
   "id": "8757cce3",
   "metadata": {},
   "source": [
    "## 2.1 Full Matches"
   ]
  },
  {
   "cell_type": "markdown",
   "id": "810adffe",
   "metadata": {},
   "source": [
    "Como jogadores e técnicos mudam com frequência, só serão utilizados os dados dos campeonatos 2019, 2020 e 2021 nas análises."
   ]
  },
  {
   "cell_type": "code",
   "execution_count": 11,
   "id": "877e6b88",
   "metadata": {
    "ExecuteTime": {
     "end_time": "2022-03-24T13:00:47.139437Z",
     "start_time": "2022-03-24T13:00:47.135427Z"
    }
   },
   "outputs": [],
   "source": [
    "df_full2 = df_full2[df_full2.temporada > 2018].reset_index(drop=True)"
   ]
  },
  {
   "cell_type": "code",
   "execution_count": 12,
   "id": "38a87c0e",
   "metadata": {
    "ExecuteTime": {
     "end_time": "2022-03-24T13:00:47.151706Z",
     "start_time": "2022-03-24T13:00:47.141034Z"
    }
   },
   "outputs": [
    {
     "name": "stdout",
     "output_type": "stream",
     "text": [
      "% of NaN\n"
     ]
    },
    {
     "data": {
      "text/plain": [
       "ID                    0.0\n",
       "rodada                0.0\n",
       "temporada             0.0\n",
       "data                  0.0\n",
       "hora                  0.0\n",
       "dia                   0.0\n",
       "mandante              0.0\n",
       "visitante             0.0\n",
       "formacao_mandante     0.0\n",
       "formacao_visitante    0.0\n",
       "tecnico_mandante      0.0\n",
       "tecnico_visitante     0.0\n",
       "vencedor              0.0\n",
       "arena                 0.0\n",
       "mandante_placar       0.0\n",
       "visitante_placar      0.0\n",
       "mandante_estado       0.0\n",
       "visitante_estado      0.0\n",
       "estado_vencedor       0.0\n",
       "dtype: float64"
      ]
     },
     "execution_count": 12,
     "metadata": {},
     "output_type": "execute_result"
    }
   ],
   "source": [
    "print('% of NaN')\n",
    "df_full2.isna().sum()/df_full2.shape[0]"
   ]
  },
  {
   "cell_type": "code",
   "execution_count": 13,
   "id": "b720b8cc",
   "metadata": {
    "ExecuteTime": {
     "end_time": "2022-03-24T13:00:47.164022Z",
     "start_time": "2022-03-24T13:00:47.153737Z"
    }
   },
   "outputs": [],
   "source": [
    "# para garantir features com itens unicos\n",
    "\n",
    "def lower_case_features(df):\n",
    "    \"\"\"\n",
    "    Transforma todas as letras em minúsculas\n",
    "    \"\"\"\n",
    "    for column in df.columns.tolist():\n",
    "        if (df[column].dtypes == 'object'):\n",
    "            df[column] = [x.lower() for x in df[column].values]\n",
    "    return df\n",
    "            \n",
    "df_full2 = lower_case_features(df_full2)"
   ]
  },
  {
   "cell_type": "code",
   "execution_count": 14,
   "id": "e468e9b2",
   "metadata": {
    "ExecuteTime": {
     "end_time": "2022-03-24T13:00:47.196143Z",
     "start_time": "2022-03-24T13:00:47.165540Z"
    }
   },
   "outputs": [],
   "source": [
    "# criar as classes da variavel alvo\n",
    "\n",
    "def encode_target(row):\n",
    "    \"\"\"\n",
    "    Tranforma os resultados com base no vencedor, seguindo:\n",
    "    0 - empate\n",
    "    1 - mandante\n",
    "    2 - visitante\n",
    "    \"\"\"\n",
    "    if row['mandante'] == row['vencedor']:\n",
    "        return 1\n",
    "    elif row['visitante'] == row['vencedor']:\n",
    "        return 2\n",
    "    else:\n",
    "        return 0\n",
    "\n",
    "df_full2['vencedor'] = df_full2.apply(encode_target, axis = 1)    "
   ]
  },
  {
   "cell_type": "code",
   "execution_count": 15,
   "id": "9da3f59f",
   "metadata": {
    "ExecuteTime": {
     "end_time": "2022-03-24T13:00:47.203261Z",
     "start_time": "2022-03-24T13:00:47.198386Z"
    }
   },
   "outputs": [],
   "source": [
    "df_full2 = df_full2.reset_index(drop=True)"
   ]
  },
  {
   "cell_type": "code",
   "execution_count": 16,
   "id": "f446c95c",
   "metadata": {
    "ExecuteTime": {
     "end_time": "2022-03-24T13:00:47.223707Z",
     "start_time": "2022-03-24T13:00:47.207711Z"
    }
   },
   "outputs": [
    {
     "data": {
      "text/html": [
       "<div>\n",
       "<style scoped>\n",
       "    .dataframe tbody tr th:only-of-type {\n",
       "        vertical-align: middle;\n",
       "    }\n",
       "\n",
       "    .dataframe tbody tr th {\n",
       "        vertical-align: top;\n",
       "    }\n",
       "\n",
       "    .dataframe thead th {\n",
       "        text-align: right;\n",
       "    }\n",
       "</style>\n",
       "<table border=\"1\" class=\"dataframe\">\n",
       "  <thead>\n",
       "    <tr style=\"text-align: right;\">\n",
       "      <th></th>\n",
       "      <th>ID</th>\n",
       "      <th>rodada</th>\n",
       "      <th>temporada</th>\n",
       "      <th>data</th>\n",
       "      <th>hora</th>\n",
       "      <th>dia</th>\n",
       "      <th>mandante</th>\n",
       "      <th>visitante</th>\n",
       "      <th>formacao_mandante</th>\n",
       "      <th>formacao_visitante</th>\n",
       "      <th>tecnico_mandante</th>\n",
       "      <th>tecnico_visitante</th>\n",
       "      <th>vencedor</th>\n",
       "      <th>arena</th>\n",
       "      <th>mandante_placar</th>\n",
       "      <th>visitante_placar</th>\n",
       "      <th>mandante_estado</th>\n",
       "      <th>visitante_estado</th>\n",
       "      <th>estado_vencedor</th>\n",
       "    </tr>\n",
       "  </thead>\n",
       "  <tbody>\n",
       "    <tr>\n",
       "      <th>0</th>\n",
       "      <td>6506</td>\n",
       "      <td>1</td>\n",
       "      <td>2019</td>\n",
       "      <td>2019-04-27</td>\n",
       "      <td>16:02</td>\n",
       "      <td>sabado</td>\n",
       "      <td>sao paulo</td>\n",
       "      <td>botafogo-rj</td>\n",
       "      <td>4-2-3-1</td>\n",
       "      <td>4-1-4-1</td>\n",
       "      <td>e. de souza barroca</td>\n",
       "      <td>e. de souza barroca</td>\n",
       "      <td>1</td>\n",
       "      <td>morumbi</td>\n",
       "      <td>2</td>\n",
       "      <td>0</td>\n",
       "      <td>sp</td>\n",
       "      <td>rj</td>\n",
       "      <td>sp</td>\n",
       "    </tr>\n",
       "    <tr>\n",
       "      <th>1</th>\n",
       "      <td>6507</td>\n",
       "      <td>1</td>\n",
       "      <td>2019</td>\n",
       "      <td>2019-04-27</td>\n",
       "      <td>19:00</td>\n",
       "      <td>sabado</td>\n",
       "      <td>atletico-mg</td>\n",
       "      <td>avai</td>\n",
       "      <td>4-2-3-1</td>\n",
       "      <td>4-1-4-1</td>\n",
       "      <td>e. machado souto</td>\n",
       "      <td>e. machado souto</td>\n",
       "      <td>1</td>\n",
       "      <td>estadio raimundo sampaio</td>\n",
       "      <td>2</td>\n",
       "      <td>1</td>\n",
       "      <td>mg</td>\n",
       "      <td>sc</td>\n",
       "      <td>mg</td>\n",
       "    </tr>\n",
       "    <tr>\n",
       "      <th>2</th>\n",
       "      <td>6508</td>\n",
       "      <td>1</td>\n",
       "      <td>2019</td>\n",
       "      <td>2019-04-27</td>\n",
       "      <td>19:01</td>\n",
       "      <td>sabado</td>\n",
       "      <td>chapecoense</td>\n",
       "      <td>internacional</td>\n",
       "      <td>4-2-3-1</td>\n",
       "      <td>4-3-3</td>\n",
       "      <td>o. hellmann</td>\n",
       "      <td>o. hellmann</td>\n",
       "      <td>1</td>\n",
       "      <td>arena conda</td>\n",
       "      <td>2</td>\n",
       "      <td>0</td>\n",
       "      <td>sc</td>\n",
       "      <td>rs</td>\n",
       "      <td>sc</td>\n",
       "    </tr>\n",
       "    <tr>\n",
       "      <th>3</th>\n",
       "      <td>6509</td>\n",
       "      <td>1</td>\n",
       "      <td>2019</td>\n",
       "      <td>2019-04-27</td>\n",
       "      <td>21:00</td>\n",
       "      <td>sabado</td>\n",
       "      <td>flamengo</td>\n",
       "      <td>cruzeiro</td>\n",
       "      <td>4-2-3-1</td>\n",
       "      <td>4-2-3-1</td>\n",
       "      <td>l. venker de menezes</td>\n",
       "      <td>l. venker de menezes</td>\n",
       "      <td>1</td>\n",
       "      <td>maracana</td>\n",
       "      <td>3</td>\n",
       "      <td>1</td>\n",
       "      <td>rj</td>\n",
       "      <td>mg</td>\n",
       "      <td>rj</td>\n",
       "    </tr>\n",
       "    <tr>\n",
       "      <th>4</th>\n",
       "      <td>6510</td>\n",
       "      <td>1</td>\n",
       "      <td>2019</td>\n",
       "      <td>2019-04-28</td>\n",
       "      <td>11:03</td>\n",
       "      <td>domingo</td>\n",
       "      <td>gremio</td>\n",
       "      <td>santos</td>\n",
       "      <td>4-2-3-1</td>\n",
       "      <td>3-4-1-2</td>\n",
       "      <td>j. sampaoli moya</td>\n",
       "      <td>j. sampaoli moya</td>\n",
       "      <td>2</td>\n",
       "      <td>arena do gremio</td>\n",
       "      <td>1</td>\n",
       "      <td>2</td>\n",
       "      <td>rs</td>\n",
       "      <td>sp</td>\n",
       "      <td>sp</td>\n",
       "    </tr>\n",
       "  </tbody>\n",
       "</table>\n",
       "</div>"
      ],
      "text/plain": [
       "     ID  rodada  temporada       data   hora      dia     mandante  \\\n",
       "0  6506       1       2019 2019-04-27  16:02   sabado    sao paulo   \n",
       "1  6507       1       2019 2019-04-27  19:00   sabado  atletico-mg   \n",
       "2  6508       1       2019 2019-04-27  19:01   sabado  chapecoense   \n",
       "3  6509       1       2019 2019-04-27  21:00   sabado     flamengo   \n",
       "4  6510       1       2019 2019-04-28  11:03  domingo       gremio   \n",
       "\n",
       "       visitante formacao_mandante formacao_visitante      tecnico_mandante  \\\n",
       "0    botafogo-rj           4-2-3-1            4-1-4-1   e. de souza barroca   \n",
       "1           avai           4-2-3-1            4-1-4-1      e. machado souto   \n",
       "2  internacional           4-2-3-1              4-3-3           o. hellmann   \n",
       "3       cruzeiro           4-2-3-1            4-2-3-1  l. venker de menezes   \n",
       "4         santos           4-2-3-1            3-4-1-2      j. sampaoli moya   \n",
       "\n",
       "      tecnico_visitante  vencedor                     arena  mandante_placar  \\\n",
       "0   e. de souza barroca         1                   morumbi                2   \n",
       "1      e. machado souto         1  estadio raimundo sampaio                2   \n",
       "2           o. hellmann         1               arena conda                2   \n",
       "3  l. venker de menezes         1                  maracana                3   \n",
       "4      j. sampaoli moya         2           arena do gremio                1   \n",
       "\n",
       "   visitante_placar mandante_estado visitante_estado estado_vencedor  \n",
       "0                 0              sp               rj              sp  \n",
       "1                 1              mg               sc              mg  \n",
       "2                 0              sc               rs              sc  \n",
       "3                 1              rj               mg              rj  \n",
       "4                 2              rs               sp              sp  "
      ]
     },
     "execution_count": 16,
     "metadata": {},
     "output_type": "execute_result"
    }
   ],
   "source": [
    "df_full2.head()"
   ]
  },
  {
   "cell_type": "markdown",
   "id": "44d75f87",
   "metadata": {},
   "source": [
    "## 2.2 Full Statistics"
   ]
  },
  {
   "cell_type": "markdown",
   "id": "bc2e44d1",
   "metadata": {},
   "source": [
    "Os dados das estatísticas da partida não possuem a coluna de data, mas o ID servirá como filtro para fatiar o mesmo período."
   ]
  },
  {
   "cell_type": "code",
   "execution_count": 17,
   "id": "892dc9ad",
   "metadata": {
    "ExecuteTime": {
     "end_time": "2022-03-24T13:00:47.241225Z",
     "start_time": "2022-03-24T13:00:47.225667Z"
    }
   },
   "outputs": [
    {
     "data": {
      "text/html": [
       "<div>\n",
       "<style scoped>\n",
       "    .dataframe tbody tr th:only-of-type {\n",
       "        vertical-align: middle;\n",
       "    }\n",
       "\n",
       "    .dataframe tbody tr th {\n",
       "        vertical-align: top;\n",
       "    }\n",
       "\n",
       "    .dataframe thead th {\n",
       "        text-align: right;\n",
       "    }\n",
       "</style>\n",
       "<table border=\"1\" class=\"dataframe\">\n",
       "  <thead>\n",
       "    <tr style=\"text-align: right;\">\n",
       "      <th></th>\n",
       "      <th>ID</th>\n",
       "      <th>rodada</th>\n",
       "      <th>temporada</th>\n",
       "      <th>data</th>\n",
       "      <th>hora</th>\n",
       "      <th>dia</th>\n",
       "      <th>mandante</th>\n",
       "      <th>visitante</th>\n",
       "      <th>formacao_mandante</th>\n",
       "      <th>formacao_visitante</th>\n",
       "      <th>tecnico_mandante</th>\n",
       "      <th>tecnico_visitante</th>\n",
       "      <th>vencedor</th>\n",
       "      <th>arena</th>\n",
       "      <th>mandante_placar</th>\n",
       "      <th>visitante_placar</th>\n",
       "      <th>mandante_estado</th>\n",
       "      <th>visitante_estado</th>\n",
       "      <th>estado_vencedor</th>\n",
       "    </tr>\n",
       "  </thead>\n",
       "  <tbody>\n",
       "    <tr>\n",
       "      <th>0</th>\n",
       "      <td>6506</td>\n",
       "      <td>1</td>\n",
       "      <td>2019</td>\n",
       "      <td>2019-04-27</td>\n",
       "      <td>16:02</td>\n",
       "      <td>sabado</td>\n",
       "      <td>sao paulo</td>\n",
       "      <td>botafogo-rj</td>\n",
       "      <td>4-2-3-1</td>\n",
       "      <td>4-1-4-1</td>\n",
       "      <td>e. de souza barroca</td>\n",
       "      <td>e. de souza barroca</td>\n",
       "      <td>1</td>\n",
       "      <td>morumbi</td>\n",
       "      <td>2</td>\n",
       "      <td>0</td>\n",
       "      <td>sp</td>\n",
       "      <td>rj</td>\n",
       "      <td>sp</td>\n",
       "    </tr>\n",
       "    <tr>\n",
       "      <th>1</th>\n",
       "      <td>6507</td>\n",
       "      <td>1</td>\n",
       "      <td>2019</td>\n",
       "      <td>2019-04-27</td>\n",
       "      <td>19:00</td>\n",
       "      <td>sabado</td>\n",
       "      <td>atletico-mg</td>\n",
       "      <td>avai</td>\n",
       "      <td>4-2-3-1</td>\n",
       "      <td>4-1-4-1</td>\n",
       "      <td>e. machado souto</td>\n",
       "      <td>e. machado souto</td>\n",
       "      <td>1</td>\n",
       "      <td>estadio raimundo sampaio</td>\n",
       "      <td>2</td>\n",
       "      <td>1</td>\n",
       "      <td>mg</td>\n",
       "      <td>sc</td>\n",
       "      <td>mg</td>\n",
       "    </tr>\n",
       "    <tr>\n",
       "      <th>2</th>\n",
       "      <td>6508</td>\n",
       "      <td>1</td>\n",
       "      <td>2019</td>\n",
       "      <td>2019-04-27</td>\n",
       "      <td>19:01</td>\n",
       "      <td>sabado</td>\n",
       "      <td>chapecoense</td>\n",
       "      <td>internacional</td>\n",
       "      <td>4-2-3-1</td>\n",
       "      <td>4-3-3</td>\n",
       "      <td>o. hellmann</td>\n",
       "      <td>o. hellmann</td>\n",
       "      <td>1</td>\n",
       "      <td>arena conda</td>\n",
       "      <td>2</td>\n",
       "      <td>0</td>\n",
       "      <td>sc</td>\n",
       "      <td>rs</td>\n",
       "      <td>sc</td>\n",
       "    </tr>\n",
       "    <tr>\n",
       "      <th>3</th>\n",
       "      <td>6509</td>\n",
       "      <td>1</td>\n",
       "      <td>2019</td>\n",
       "      <td>2019-04-27</td>\n",
       "      <td>21:00</td>\n",
       "      <td>sabado</td>\n",
       "      <td>flamengo</td>\n",
       "      <td>cruzeiro</td>\n",
       "      <td>4-2-3-1</td>\n",
       "      <td>4-2-3-1</td>\n",
       "      <td>l. venker de menezes</td>\n",
       "      <td>l. venker de menezes</td>\n",
       "      <td>1</td>\n",
       "      <td>maracana</td>\n",
       "      <td>3</td>\n",
       "      <td>1</td>\n",
       "      <td>rj</td>\n",
       "      <td>mg</td>\n",
       "      <td>rj</td>\n",
       "    </tr>\n",
       "    <tr>\n",
       "      <th>4</th>\n",
       "      <td>6510</td>\n",
       "      <td>1</td>\n",
       "      <td>2019</td>\n",
       "      <td>2019-04-28</td>\n",
       "      <td>11:03</td>\n",
       "      <td>domingo</td>\n",
       "      <td>gremio</td>\n",
       "      <td>santos</td>\n",
       "      <td>4-2-3-1</td>\n",
       "      <td>3-4-1-2</td>\n",
       "      <td>j. sampaoli moya</td>\n",
       "      <td>j. sampaoli moya</td>\n",
       "      <td>2</td>\n",
       "      <td>arena do gremio</td>\n",
       "      <td>1</td>\n",
       "      <td>2</td>\n",
       "      <td>rs</td>\n",
       "      <td>sp</td>\n",
       "      <td>sp</td>\n",
       "    </tr>\n",
       "  </tbody>\n",
       "</table>\n",
       "</div>"
      ],
      "text/plain": [
       "     ID  rodada  temporada       data   hora      dia     mandante  \\\n",
       "0  6506       1       2019 2019-04-27  16:02   sabado    sao paulo   \n",
       "1  6507       1       2019 2019-04-27  19:00   sabado  atletico-mg   \n",
       "2  6508       1       2019 2019-04-27  19:01   sabado  chapecoense   \n",
       "3  6509       1       2019 2019-04-27  21:00   sabado     flamengo   \n",
       "4  6510       1       2019 2019-04-28  11:03  domingo       gremio   \n",
       "\n",
       "       visitante formacao_mandante formacao_visitante      tecnico_mandante  \\\n",
       "0    botafogo-rj           4-2-3-1            4-1-4-1   e. de souza barroca   \n",
       "1           avai           4-2-3-1            4-1-4-1      e. machado souto   \n",
       "2  internacional           4-2-3-1              4-3-3           o. hellmann   \n",
       "3       cruzeiro           4-2-3-1            4-2-3-1  l. venker de menezes   \n",
       "4         santos           4-2-3-1            3-4-1-2      j. sampaoli moya   \n",
       "\n",
       "      tecnico_visitante  vencedor                     arena  mandante_placar  \\\n",
       "0   e. de souza barroca         1                   morumbi                2   \n",
       "1      e. machado souto         1  estadio raimundo sampaio                2   \n",
       "2           o. hellmann         1               arena conda                2   \n",
       "3  l. venker de menezes         1                  maracana                3   \n",
       "4      j. sampaoli moya         2           arena do gremio                1   \n",
       "\n",
       "   visitante_placar mandante_estado visitante_estado estado_vencedor  \n",
       "0                 0              sp               rj              sp  \n",
       "1                 1              mg               sc              mg  \n",
       "2                 0              sc               rs              sc  \n",
       "3                 1              rj               mg              rj  \n",
       "4                 2              rs               sp              sp  "
      ]
     },
     "execution_count": 17,
     "metadata": {},
     "output_type": "execute_result"
    }
   ],
   "source": [
    "df_full2.head()"
   ]
  },
  {
   "cell_type": "code",
   "execution_count": 18,
   "id": "be6a33b0",
   "metadata": {
    "ExecuteTime": {
     "end_time": "2022-03-24T13:00:47.246572Z",
     "start_time": "2022-03-24T13:00:47.242788Z"
    }
   },
   "outputs": [
    {
     "name": "stdout",
     "output_type": "stream",
     "text": [
      "O primeiro ID das partidas desde 2019 é: 6506\n"
     ]
    }
   ],
   "source": [
    "print('O primeiro ID das partidas desde 2019 é:', df_full2.loc[0,'ID'])"
   ]
  },
  {
   "cell_type": "code",
   "execution_count": 19,
   "id": "295a963d",
   "metadata": {
    "ExecuteTime": {
     "end_time": "2022-03-24T13:00:47.255358Z",
     "start_time": "2022-03-24T13:00:47.248848Z"
    }
   },
   "outputs": [],
   "source": [
    "# Entao servira como filtro\n",
    "df_stats2 = df_stats2[df_stats2.ID >= df_full2.loc[0,'ID']]"
   ]
  },
  {
   "cell_type": "code",
   "execution_count": 20,
   "id": "e5c49279",
   "metadata": {
    "ExecuteTime": {
     "end_time": "2022-03-24T13:00:47.264911Z",
     "start_time": "2022-03-24T13:00:47.256998Z"
    }
   },
   "outputs": [
    {
     "name": "stdout",
     "output_type": "stream",
     "text": [
      "% of NaN\n"
     ]
    },
    {
     "data": {
      "text/plain": [
       "ID                 0.0\n",
       "rodada             0.0\n",
       "clube              0.0\n",
       "chutes             0.0\n",
       "chutes_no_alvo     0.0\n",
       "posse_de_bola      0.0\n",
       "passes             0.0\n",
       "precisao_passes    0.0\n",
       "faltas             0.0\n",
       "cartao_amarelo     0.0\n",
       "cartao_vermelho    0.0\n",
       "impedimentos       0.0\n",
       "escanteios         0.0\n",
       "dtype: float64"
      ]
     },
     "execution_count": 20,
     "metadata": {},
     "output_type": "execute_result"
    }
   ],
   "source": [
    "print('% of NaN')\n",
    "df_stats2.isna().sum()/df_stats2.shape[0]"
   ]
  },
  {
   "cell_type": "code",
   "execution_count": 21,
   "id": "335c76eb",
   "metadata": {
    "ExecuteTime": {
     "end_time": "2022-03-24T13:00:47.269981Z",
     "start_time": "2022-03-24T13:00:47.266608Z"
    }
   },
   "outputs": [],
   "source": [
    "df_stats2 = df_stats2.reset_index(drop=True)"
   ]
  },
  {
   "cell_type": "code",
   "execution_count": 22,
   "id": "b2671542",
   "metadata": {
    "ExecuteTime": {
     "end_time": "2022-03-24T13:00:47.287137Z",
     "start_time": "2022-03-24T13:00:47.272646Z"
    }
   },
   "outputs": [],
   "source": [
    "# alguns valores de posse_de_bola e precisao_passes sao object, possuem Nan e simbolo '%'\n",
    "df_stats2['posse_de_bola'] = df_stats2['posse_de_bola'].apply(lambda x: np.nan if x == 'None' else x)\n",
    "df_stats2['precisao_passes'] = df_stats2['precisao_passes'].apply(lambda x: np.nan if x == 'None' else x)\n",
    "\n",
    "# retirando \n",
    "df_stats2 = df_stats2.dropna()\n",
    "\n",
    "df_stats2['posse_de_bola'] = df_stats2['posse_de_bola'].apply(lambda x: int(x[0:2])/100)\n",
    "df_stats2['precisao_passes'] = df_stats2['precisao_passes'].apply(lambda x: int(x[0:2])/100)\n",
    "\n",
    "df_stats2 = lower_case_features(df_stats2)\n",
    "df_stats2 = df_stats2.reset_index(drop=True)"
   ]
  },
  {
   "cell_type": "code",
   "execution_count": 23,
   "id": "3b87147a",
   "metadata": {
    "ExecuteTime": {
     "end_time": "2022-03-24T13:00:47.300473Z",
     "start_time": "2022-03-24T13:00:47.289223Z"
    }
   },
   "outputs": [
    {
     "data": {
      "text/html": [
       "<div>\n",
       "<style scoped>\n",
       "    .dataframe tbody tr th:only-of-type {\n",
       "        vertical-align: middle;\n",
       "    }\n",
       "\n",
       "    .dataframe tbody tr th {\n",
       "        vertical-align: top;\n",
       "    }\n",
       "\n",
       "    .dataframe thead th {\n",
       "        text-align: right;\n",
       "    }\n",
       "</style>\n",
       "<table border=\"1\" class=\"dataframe\">\n",
       "  <thead>\n",
       "    <tr style=\"text-align: right;\">\n",
       "      <th></th>\n",
       "      <th>ID</th>\n",
       "      <th>rodada</th>\n",
       "      <th>clube</th>\n",
       "      <th>chutes</th>\n",
       "      <th>chutes_no_alvo</th>\n",
       "      <th>posse_de_bola</th>\n",
       "      <th>passes</th>\n",
       "      <th>precisao_passes</th>\n",
       "      <th>faltas</th>\n",
       "      <th>cartao_amarelo</th>\n",
       "      <th>cartao_vermelho</th>\n",
       "      <th>impedimentos</th>\n",
       "      <th>escanteios</th>\n",
       "    </tr>\n",
       "  </thead>\n",
       "  <tbody>\n",
       "    <tr>\n",
       "      <th>0</th>\n",
       "      <td>6506</td>\n",
       "      <td>1</td>\n",
       "      <td>sao paulo</td>\n",
       "      <td>7</td>\n",
       "      <td>4</td>\n",
       "      <td>0.28</td>\n",
       "      <td>269</td>\n",
       "      <td>0.75</td>\n",
       "      <td>23</td>\n",
       "      <td>0</td>\n",
       "      <td>0</td>\n",
       "      <td>2</td>\n",
       "      <td>3</td>\n",
       "    </tr>\n",
       "    <tr>\n",
       "      <th>1</th>\n",
       "      <td>6506</td>\n",
       "      <td>1</td>\n",
       "      <td>botafogo-rj</td>\n",
       "      <td>11</td>\n",
       "      <td>2</td>\n",
       "      <td>0.72</td>\n",
       "      <td>702</td>\n",
       "      <td>0.89</td>\n",
       "      <td>7</td>\n",
       "      <td>4</td>\n",
       "      <td>0</td>\n",
       "      <td>1</td>\n",
       "      <td>2</td>\n",
       "    </tr>\n",
       "    <tr>\n",
       "      <th>2</th>\n",
       "      <td>6507</td>\n",
       "      <td>1</td>\n",
       "      <td>atletico-mg</td>\n",
       "      <td>11</td>\n",
       "      <td>3</td>\n",
       "      <td>0.60</td>\n",
       "      <td>549</td>\n",
       "      <td>0.86</td>\n",
       "      <td>12</td>\n",
       "      <td>0</td>\n",
       "      <td>0</td>\n",
       "      <td>0</td>\n",
       "      <td>4</td>\n",
       "    </tr>\n",
       "    <tr>\n",
       "      <th>3</th>\n",
       "      <td>6507</td>\n",
       "      <td>1</td>\n",
       "      <td>avai</td>\n",
       "      <td>6</td>\n",
       "      <td>1</td>\n",
       "      <td>0.40</td>\n",
       "      <td>362</td>\n",
       "      <td>0.79</td>\n",
       "      <td>18</td>\n",
       "      <td>1</td>\n",
       "      <td>0</td>\n",
       "      <td>1</td>\n",
       "      <td>4</td>\n",
       "    </tr>\n",
       "    <tr>\n",
       "      <th>4</th>\n",
       "      <td>6508</td>\n",
       "      <td>1</td>\n",
       "      <td>chapecoense</td>\n",
       "      <td>12</td>\n",
       "      <td>7</td>\n",
       "      <td>0.43</td>\n",
       "      <td>392</td>\n",
       "      <td>0.77</td>\n",
       "      <td>15</td>\n",
       "      <td>1</td>\n",
       "      <td>0</td>\n",
       "      <td>0</td>\n",
       "      <td>3</td>\n",
       "    </tr>\n",
       "  </tbody>\n",
       "</table>\n",
       "</div>"
      ],
      "text/plain": [
       "     ID  rodada        clube  chutes  chutes_no_alvo  posse_de_bola  passes  \\\n",
       "0  6506       1    sao paulo       7               4           0.28     269   \n",
       "1  6506       1  botafogo-rj      11               2           0.72     702   \n",
       "2  6507       1  atletico-mg      11               3           0.60     549   \n",
       "3  6507       1         avai       6               1           0.40     362   \n",
       "4  6508       1  chapecoense      12               7           0.43     392   \n",
       "\n",
       "   precisao_passes  faltas  cartao_amarelo  cartao_vermelho  impedimentos  \\\n",
       "0             0.75      23               0                0             2   \n",
       "1             0.89       7               4                0             1   \n",
       "2             0.86      12               0                0             0   \n",
       "3             0.79      18               1                0             1   \n",
       "4             0.77      15               1                0             0   \n",
       "\n",
       "   escanteios  \n",
       "0           3  \n",
       "1           2  \n",
       "2           4  \n",
       "3           4  \n",
       "4           3  "
      ]
     },
     "execution_count": 23,
     "metadata": {},
     "output_type": "execute_result"
    }
   ],
   "source": [
    "df_stats2.head()"
   ]
  },
  {
   "cell_type": "markdown",
   "id": "70c70097",
   "metadata": {},
   "source": [
    "# 3.0 Exploratory Data Analysis"
   ]
  },
  {
   "cell_type": "markdown",
   "id": "0994416d",
   "metadata": {},
   "source": [
    "A ideia aqui é tentar adquirir algum conhecimento das variáveis que possa ajudar a identificar as melhores features e modelos que possam ser utilizados posteriormente. Também são geradas algumas hipóteses com base nestas análises."
   ]
  },
  {
   "cell_type": "code",
   "execution_count": 24,
   "id": "76981a1d",
   "metadata": {
    "ExecuteTime": {
     "end_time": "2022-03-24T13:00:47.306133Z",
     "start_time": "2022-03-24T13:00:47.302269Z"
    }
   },
   "outputs": [],
   "source": [
    "df_full3 = df_full2.copy()\n",
    "df_stats3 = df_stats2.copy()"
   ]
  },
  {
   "cell_type": "markdown",
   "id": "0d5f00ea",
   "metadata": {},
   "source": [
    "## 3.1 Winner by Home x Away"
   ]
  },
  {
   "cell_type": "code",
   "execution_count": 25,
   "id": "d93fbfdc",
   "metadata": {
    "ExecuteTime": {
     "end_time": "2022-03-24T13:00:47.482305Z",
     "start_time": "2022-03-24T13:00:47.308115Z"
    }
   },
   "outputs": [
    {
     "data": {
      "image/png": "[encoded data removed]",
      "text/plain": [
       "<Figure size 432x288 with 1 Axes>"
      ]
     },
     "metadata": {
      "needs_background": "light"
     },
     "output_type": "display_data"
    }
   ],
   "source": [
    "df_full3.vencedor.value_counts(normalize=True).plot(kind='bar');\n",
    "plt.xticks(ticks=[0, 1, 2], labels=['Mandante', 'Empate', 'Visitante']);"
   ]
  },
  {
   "cell_type": "markdown",
   "id": "e50c10e9",
   "metadata": {
    "ExecuteTime": {
     "end_time": "2022-03-23T14:27:20.499119Z",
     "start_time": "2022-03-23T14:27:20.493454Z"
    }
   },
   "source": [
    "<b> Constatações </b>\n",
    "- A maioria dos jogos é vencida pelo mandante; \n",
    "- Os visitantes vencem na menor frequência"
   ]
  },
  {
   "cell_type": "markdown",
   "id": "bd058ae2",
   "metadata": {},
   "source": [
    "## 3.2 Winner by Day of the Week"
   ]
  },
  {
   "cell_type": "code",
   "execution_count": 26,
   "id": "3c7c64e0",
   "metadata": {
    "ExecuteTime": {
     "end_time": "2022-03-24T13:00:47.657629Z",
     "start_time": "2022-03-24T13:00:47.486419Z"
    }
   },
   "outputs": [
    {
     "data": {
      "image/png": "[encoded data removed]",
      "text/plain": [
       "<Figure size 432x288 with 1 Axes>"
      ]
     },
     "metadata": {
      "needs_background": "light"
     },
     "output_type": "display_data"
    }
   ],
   "source": [
    "sns.countplot(y=df_full3.dia, hue=df_full3.vencedor, order=['domingo', 'segunda-feira', 'terça-feira', 'quarta-feira', 'quinta-feira', 'sexta-feira', 'sabado']);\n",
    "plt.legend(['Empate', 'Mandante', 'Visitante']);"
   ]
  },
  {
   "cell_type": "markdown",
   "id": "c8e474d1",
   "metadata": {},
   "source": [
    "<b> Constatações </b>\n",
    "- Visualmente não há diferença no efeito mandante x visitante em diferentes dias da semana;\n",
    "- A única exceção é a segunda-feira, mas não foi feita análise da significância desta diferença;"
   ]
  },
  {
   "cell_type": "markdown",
   "id": "ccdea104",
   "metadata": {},
   "source": [
    "## 3.3 Winner by State "
   ]
  },
  {
   "cell_type": "code",
   "execution_count": 27,
   "id": "237882b5",
   "metadata": {
    "ExecuteTime": {
     "end_time": "2022-03-24T13:00:47.675441Z",
     "start_time": "2022-03-24T13:00:47.659157Z"
    }
   },
   "outputs": [],
   "source": [
    "df_aux = df_full3[['temporada', 'mandante', 'mandante_estado']]\n",
    "df_aux2 = pd.DataFrame(pd.DataFrame(df_aux.groupby(['temporada', 'mandante_estado']).value_counts()).drop(0, axis = 1).groupby(['temporada', 'mandante_estado']).value_counts(), columns=['counts'])\n",
    "df_aux2 = df_aux2.reset_index()"
   ]
  },
  {
   "cell_type": "code",
   "execution_count": 28,
   "id": "ce9dd12a",
   "metadata": {
    "ExecuteTime": {
     "end_time": "2022-03-24T13:00:47.981554Z",
     "start_time": "2022-03-24T13:00:47.679408Z"
    }
   },
   "outputs": [
    {
     "data": {
      "image/png": "[encoded data removed]",
      "text/plain": [
       "<Figure size 1152x360 with 1 Axes>"
      ]
     },
     "metadata": {
      "needs_background": "light"
     },
     "output_type": "display_data"
    }
   ],
   "source": [
    "plt.figure(figsize=(16,5));\n",
    "sns.barplot(x=df_aux2.temporada, y=df_aux2.counts, hue=df_aux2.mandante_estado, palette='bright');\n",
    "plt.legend();\n",
    "plt.title('N. de times por estado por temporada');"
   ]
  },
  {
   "cell_type": "markdown",
   "id": "3d95e8d6",
   "metadata": {},
   "source": [
    "<b> Para avaliar os times que mais venceram por temporada, é mais coerente apresentar a relação entre n. de vitorias / n. de times, já que a distribuição da quantidade destes não é homogênea <b>"
   ]
  },
  {
   "cell_type": "code",
   "execution_count": 29,
   "id": "0bc1ad5d",
   "metadata": {
    "ExecuteTime": {
     "end_time": "2022-03-24T13:00:48.006207Z",
     "start_time": "2022-03-24T13:00:47.983532Z"
    }
   },
   "outputs": [
    {
     "data": {
      "text/html": [
       "<div>\n",
       "<style scoped>\n",
       "    .dataframe tbody tr th:only-of-type {\n",
       "        vertical-align: middle;\n",
       "    }\n",
       "\n",
       "    .dataframe tbody tr th {\n",
       "        vertical-align: top;\n",
       "    }\n",
       "\n",
       "    .dataframe thead th {\n",
       "        text-align: right;\n",
       "    }\n",
       "</style>\n",
       "<table border=\"1\" class=\"dataframe\">\n",
       "  <thead>\n",
       "    <tr style=\"text-align: right;\">\n",
       "      <th></th>\n",
       "      <th></th>\n",
       "      <th>contagem_de_times</th>\n",
       "      <th>contagem_vitoria</th>\n",
       "      <th>vitorias_por_times</th>\n",
       "    </tr>\n",
       "    <tr>\n",
       "      <th>temporada</th>\n",
       "      <th></th>\n",
       "      <th></th>\n",
       "      <th></th>\n",
       "      <th></th>\n",
       "    </tr>\n",
       "  </thead>\n",
       "  <tbody>\n",
       "    <tr>\n",
       "      <th rowspan=\"5\" valign=\"top\">2019</th>\n",
       "      <th>al</th>\n",
       "      <td>1</td>\n",
       "      <td>8</td>\n",
       "      <td>8.0</td>\n",
       "    </tr>\n",
       "    <tr>\n",
       "      <th>ba</th>\n",
       "      <td>1</td>\n",
       "      <td>12</td>\n",
       "      <td>12.0</td>\n",
       "    </tr>\n",
       "    <tr>\n",
       "      <th>ce</th>\n",
       "      <td>2</td>\n",
       "      <td>25</td>\n",
       "      <td>12.5</td>\n",
       "    </tr>\n",
       "    <tr>\n",
       "      <th>go</th>\n",
       "      <td>1</td>\n",
       "      <td>15</td>\n",
       "      <td>15.0</td>\n",
       "    </tr>\n",
       "    <tr>\n",
       "      <th>mg</th>\n",
       "      <td>2</td>\n",
       "      <td>20</td>\n",
       "      <td>10.0</td>\n",
       "    </tr>\n",
       "  </tbody>\n",
       "</table>\n",
       "</div>"
      ],
      "text/plain": [
       "              contagem_de_times  contagem_vitoria  vitorias_por_times\n",
       "temporada                                                            \n",
       "2019      al                  1                 8                 8.0\n",
       "          ba                  1                12                12.0\n",
       "          ce                  2                25                12.5\n",
       "          go                  1                15                15.0\n",
       "          mg                  2                20                10.0"
      ]
     },
     "execution_count": 29,
     "metadata": {},
     "output_type": "execute_result"
    }
   ],
   "source": [
    "df_aux2 = df_aux2.set_index(['temporada', 'mandante_estado'])\n",
    "df_aux2 = df_aux2.rename(columns={'counts': 'contagem_de_times'})\n",
    "\n",
    "df_aux3 = pd.DataFrame(pd.DataFrame(df_full3[df_full2['estado_vencedor'] != '-'][['temporada', 'estado_vencedor']] \\\n",
    "                                    .value_counts(), columns=['contagem_vitoria']).groupby(['temporada', 'estado_vencedor']) \\\n",
    "                                    .value_counts()).drop(0, axis = 1) \\\n",
    "                                    .reset_index(['contagem_vitoria'])\n",
    "\n",
    "df_aux4 = pd.concat([df_aux2, df_aux3], axis = 1)\n",
    "df_aux4.loc[:, 'vitorias_por_times'] = df_aux3.contagem_vitoria / df_aux4.contagem_de_times\n",
    "df_aux4.head()"
   ]
  },
  {
   "cell_type": "markdown",
   "id": "6adfbf8e",
   "metadata": {},
   "source": [
    "<b> Constatações </b>\n",
    "- São Paulo e Rio de Janeiro são os clubes com maior quantidades de times na série A;\n",
    "- Rio Grande do Sul em 2021 aparece com 3 clubes;\n",
    "- No geral, a maioria dos estados tem entre 1 e 2 times na série A;"
   ]
  },
  {
   "cell_type": "markdown",
   "id": "b5f6fa72",
   "metadata": {},
   "source": [
    "### 3.3.1 Winner by state x time"
   ]
  },
  {
   "cell_type": "code",
   "execution_count": 30,
   "id": "06974669",
   "metadata": {
    "ExecuteTime": {
     "end_time": "2022-03-24T13:00:48.017419Z",
     "start_time": "2022-03-24T13:00:48.007588Z"
    }
   },
   "outputs": [
    {
     "data": {
      "text/html": [
       "<div>\n",
       "<style scoped>\n",
       "    .dataframe tbody tr th:only-of-type {\n",
       "        vertical-align: middle;\n",
       "    }\n",
       "\n",
       "    .dataframe tbody tr th {\n",
       "        vertical-align: top;\n",
       "    }\n",
       "\n",
       "    .dataframe thead th {\n",
       "        text-align: right;\n",
       "    }\n",
       "</style>\n",
       "<table border=\"1\" class=\"dataframe\">\n",
       "  <thead>\n",
       "    <tr style=\"text-align: right;\">\n",
       "      <th></th>\n",
       "      <th>temporada</th>\n",
       "      <th>time</th>\n",
       "      <th>contagem_de_times</th>\n",
       "      <th>contagem_vitoria</th>\n",
       "      <th>vitorias_por_times</th>\n",
       "    </tr>\n",
       "  </thead>\n",
       "  <tbody>\n",
       "    <tr>\n",
       "      <th>0</th>\n",
       "      <td>2019</td>\n",
       "      <td>al</td>\n",
       "      <td>1</td>\n",
       "      <td>8</td>\n",
       "      <td>8.0</td>\n",
       "    </tr>\n",
       "    <tr>\n",
       "      <th>1</th>\n",
       "      <td>2019</td>\n",
       "      <td>ba</td>\n",
       "      <td>1</td>\n",
       "      <td>12</td>\n",
       "      <td>12.0</td>\n",
       "    </tr>\n",
       "    <tr>\n",
       "      <th>2</th>\n",
       "      <td>2019</td>\n",
       "      <td>ce</td>\n",
       "      <td>2</td>\n",
       "      <td>25</td>\n",
       "      <td>12.5</td>\n",
       "    </tr>\n",
       "    <tr>\n",
       "      <th>3</th>\n",
       "      <td>2019</td>\n",
       "      <td>go</td>\n",
       "      <td>1</td>\n",
       "      <td>15</td>\n",
       "      <td>15.0</td>\n",
       "    </tr>\n",
       "    <tr>\n",
       "      <th>4</th>\n",
       "      <td>2019</td>\n",
       "      <td>mg</td>\n",
       "      <td>2</td>\n",
       "      <td>20</td>\n",
       "      <td>10.0</td>\n",
       "    </tr>\n",
       "  </tbody>\n",
       "</table>\n",
       "</div>"
      ],
      "text/plain": [
       "   temporada time  contagem_de_times  contagem_vitoria  vitorias_por_times\n",
       "0       2019   al                  1                 8                 8.0\n",
       "1       2019   ba                  1                12                12.0\n",
       "2       2019   ce                  2                25                12.5\n",
       "3       2019   go                  1                15                15.0\n",
       "4       2019   mg                  2                20                10.0"
      ]
     },
     "execution_count": 30,
     "metadata": {},
     "output_type": "execute_result"
    }
   ],
   "source": [
    "df_aux4 = df_aux4.reset_index()\n",
    "df_aux4 = df_aux4.rename(columns={'level_1': 'time'})\n",
    "df_aux4.head()"
   ]
  },
  {
   "cell_type": "code",
   "execution_count": 31,
   "id": "dcad00eb",
   "metadata": {
    "ExecuteTime": {
     "end_time": "2022-03-24T13:00:48.438923Z",
     "start_time": "2022-03-24T13:00:48.018826Z"
    }
   },
   "outputs": [
    {
     "data": {
      "image/png": "[encoded data removed]",
      "text/plain": [
       "<Figure size 1152x360 with 1 Axes>"
      ]
     },
     "metadata": {
      "needs_background": "light"
     },
     "output_type": "display_data"
    }
   ],
   "source": [
    "plt.figure(figsize=(16, 5));\n",
    "sns.barplot(x=df_aux4['temporada'], y=df_aux4['vitorias_por_times'], hue=df_aux4['time'], palette='bright');\n",
    "plt.title('N. de Vitorias/N. de Times por temporada');"
   ]
  },
  {
   "cell_type": "markdown",
   "id": "8c72fb2e",
   "metadata": {},
   "source": [
    "<b> Constatações </b>\n",
    "- MG aparece como o estado mais vitorioso nos últimos 2 anos da série;\n",
    "- SP mesmo com a racionalização dos valores, ainda é um dos estados mais vitoriosos;\n"
   ]
  },
  {
   "cell_type": "markdown",
   "id": "1f9ed40e",
   "metadata": {},
   "source": [
    "### 3.3.2 Most Winning States "
   ]
  },
  {
   "cell_type": "code",
   "execution_count": 32,
   "id": "641ea76c",
   "metadata": {
    "ExecuteTime": {
     "end_time": "2022-03-24T13:00:48.450505Z",
     "start_time": "2022-03-24T13:00:48.441688Z"
    }
   },
   "outputs": [],
   "source": [
    "df_aux5 = df_aux4.groupby('time').sum().drop('vitorias_por_times', axis = 1)\n",
    "df_aux5.loc[:, 'vitorias_por_times'] = df_aux5.contagem_vitoria / df_aux5.contagem_de_times\n",
    "df_aux5 = df_aux5.reset_index().drop(['temporada'], axis = 1)"
   ]
  },
  {
   "cell_type": "code",
   "execution_count": 33,
   "id": "8c401c38",
   "metadata": {
    "ExecuteTime": {
     "end_time": "2022-03-24T13:00:48.613080Z",
     "start_time": "2022-03-24T13:00:48.453184Z"
    }
   },
   "outputs": [
    {
     "data": {
      "image/png": "[encoded data removed]",
      "text/plain": [
       "<Figure size 1152x360 with 1 Axes>"
      ]
     },
     "metadata": {
      "needs_background": "light"
     },
     "output_type": "display_data"
    }
   ],
   "source": [
    "plt.figure(figsize=(16,5));\n",
    "sns.barplot(x = df_aux5.sort_values('vitorias_por_times').time, y = df_aux5.sort_values('vitorias_por_times').vitorias_por_times, );"
   ]
  },
  {
   "cell_type": "markdown",
   "id": "ba6ed833",
   "metadata": {},
   "source": [
    "<b> Constatações </b>\n",
    "- No agregado geral, MG mantém a liderança, seguido por SP;\n",
    "- Já RJ, ocupa a 4a posição, mesmo tendo quase sempre mais times no campeonato."
   ]
  },
  {
   "cell_type": "markdown",
   "id": "86a8806c",
   "metadata": {},
   "source": [
    "## 3.4 Goals Distribution "
   ]
  },
  {
   "cell_type": "markdown",
   "id": "926fb578",
   "metadata": {},
   "source": [
    "### 3.4.1 Overview "
   ]
  },
  {
   "cell_type": "code",
   "execution_count": 34,
   "id": "32bc552f",
   "metadata": {
    "ExecuteTime": {
     "end_time": "2022-03-24T13:00:49.190554Z",
     "start_time": "2022-03-24T13:00:48.615105Z"
    }
   },
   "outputs": [
    {
     "data": {
      "image/png": "[encoded data removed]",
      "text/plain": [
       "<Figure size 864x288 with 2 Axes>"
      ]
     },
     "metadata": {
      "needs_background": "light"
     },
     "output_type": "display_data"
    }
   ],
   "source": [
    "plt.figure(figsize=(12,4));\n",
    "plt.subplot(1,2,1);\n",
    "sns.histplot(data=df_full3[['mandante_placar', 'visitante_placar']], discrete=True, binwidth=0.5, fill=False );\n",
    "plt.legend(['Mandante', 'Visitante']);\n",
    "plt.title('Histograma');\n",
    "plt.subplot(1,2,2);\n",
    "sns.kdeplot(data=df_full3[['mandante_placar', 'visitante_placar']]);\n",
    "plt.legend(['Mandante', 'Visitante']);\n",
    "plt.title('Densidade de probabilidade');"
   ]
  },
  {
   "cell_type": "markdown",
   "id": "307d9f60",
   "metadata": {},
   "source": [
    "<b> Constatações </b>\n",
    "- 1 Gol por partida é bastante frequente, sendo até mais comum que partidas sem gols;\n",
    "- Os visitantes fazem mais vezes 2 gols ou mais gols que os mandantes;"
   ]
  },
  {
   "cell_type": "markdown",
   "id": "ffc272db",
   "metadata": {},
   "source": [
    "### 3.4.2  Goals by round over the time"
   ]
  },
  {
   "cell_type": "code",
   "execution_count": 35,
   "id": "9c78ff23",
   "metadata": {
    "ExecuteTime": {
     "end_time": "2022-03-24T13:00:49.202129Z",
     "start_time": "2022-03-24T13:00:49.192423Z"
    }
   },
   "outputs": [],
   "source": [
    "df_full3.loc[:, 'total_de_gols'] = df_full3['mandante_placar'] + df_full3['visitante_placar']\n",
    "df_aux = pd.DataFrame(df_full3.groupby(['temporada', 'rodada']).sum()['total_de_gols']).reset_index()"
   ]
  },
  {
   "cell_type": "code",
   "execution_count": 36,
   "id": "b89076a0",
   "metadata": {
    "ExecuteTime": {
     "end_time": "2022-03-24T13:00:49.411864Z",
     "start_time": "2022-03-24T13:00:49.203730Z"
    }
   },
   "outputs": [
    {
     "data": {
      "image/png": "[encoded data removed]",
      "text/plain": [
       "<Figure size 1152x360 with 1 Axes>"
      ]
     },
     "metadata": {
      "needs_background": "light"
     },
     "output_type": "display_data"
    }
   ],
   "source": [
    "plt.figure(figsize=(16,5));\n",
    "sns.lineplot(y=df_aux.total_de_gols, x=df_aux.rodada, hue=df_aux.temporada, palette='bright');\n",
    "plt.hlines(df_aux.total_de_gols.mean(), xmin = 1, xmax=38, color='black', label='media', linestyle='dashed');\n",
    "plt.legend();"
   ]
  },
  {
   "cell_type": "markdown",
   "id": "3f7cfbe9",
   "metadata": {},
   "source": [
    "<b> Constatações </b>\n",
    "- Com exceção das últimas rodadas do campeonato de 2021, a rodada do campeonato não aparenta influenciar o número de gols;"
   ]
  },
  {
   "cell_type": "markdown",
   "id": "503e41ce",
   "metadata": {},
   "source": [
    "## 3.5 Kicks "
   ]
  },
  {
   "cell_type": "markdown",
   "id": "263421ee",
   "metadata": {},
   "source": [
    "### 3.5.1 Overview "
   ]
  },
  {
   "cell_type": "markdown",
   "id": "869e4ad5",
   "metadata": {},
   "source": [
    "<b>Top 10 maiores chutadores<b>"
   ]
  },
  {
   "cell_type": "code",
   "execution_count": 37,
   "id": "0dbe86b9",
   "metadata": {
    "ExecuteTime": {
     "end_time": "2022-03-24T13:00:49.427746Z",
     "start_time": "2022-03-24T13:00:49.414546Z"
    }
   },
   "outputs": [
    {
     "name": "stdout",
     "output_type": "stream",
     "text": [
      "Top 10 em chutes por partida\n"
     ]
    },
    {
     "data": {
      "text/plain": [
       "clube\n",
       "atletico-mg    15.572727\n",
       "flamengo       15.380531\n",
       "america-mg     15.210526\n",
       "palmeiras      14.473214\n",
       "bragantino     14.381579\n",
       "gremio         14.071429\n",
       "sao paulo      13.455357\n",
       "cruzeiro       13.400000\n",
       "santos         13.070175\n",
       "bahia          13.000000\n",
       "Name: chutes, dtype: float64"
      ]
     },
     "execution_count": 37,
     "metadata": {},
     "output_type": "execute_result"
    }
   ],
   "source": [
    "print('Top 10 em chutes por partida')\n",
    "df_stats3.groupby('clube').mean().sort_values('chutes', ascending=False).head(10)['chutes']"
   ]
  },
  {
   "cell_type": "markdown",
   "id": "cf5a5100",
   "metadata": {},
   "source": [
    "<b>Top 10 chutadores mais precisos<b>"
   ]
  },
  {
   "cell_type": "code",
   "execution_count": 38,
   "id": "b33e53d2",
   "metadata": {
    "ExecuteTime": {
     "end_time": "2022-03-24T13:00:49.442003Z",
     "start_time": "2022-03-24T13:00:49.430537Z"
    }
   },
   "outputs": [
    {
     "name": "stdout",
     "output_type": "stream",
     "text": [
      "Top 10 em chutes no alvo por partida\n"
     ]
    },
    {
     "data": {
      "text/plain": [
       "clube\n",
       "flamengo         5.840708\n",
       "atletico-mg      5.227273\n",
       "palmeiras        4.883929\n",
       "gremio           4.696429\n",
       "bragantino       4.618421\n",
       "sao paulo        4.571429\n",
       "santos           4.552632\n",
       "internacional    4.508772\n",
       "america-mg       4.394737\n",
       "bahia            4.342105\n",
       "Name: chutes_no_alvo, dtype: float64"
      ]
     },
     "execution_count": 38,
     "metadata": {},
     "output_type": "execute_result"
    }
   ],
   "source": [
    "print('Top 10 em chutes no alvo por partida')\n",
    "df_stats3.groupby('clube').mean().sort_values('chutes_no_alvo', ascending=False).head(10)['chutes_no_alvo']"
   ]
  },
  {
   "cell_type": "markdown",
   "id": "77f6e042",
   "metadata": {},
   "source": [
    "<b> Constatações </b>\n",
    "- Flamengo e Atlético-MG são os times que mais chutaram ao gol;\n",
    "- Flamengo e Atlético-MG são os times que tem maior precisão no chute."
   ]
  },
  {
   "cell_type": "markdown",
   "id": "025b3c79",
   "metadata": {},
   "source": [
    "### 3.5.2 Kicks by all teams over the time"
   ]
  },
  {
   "cell_type": "code",
   "execution_count": 39,
   "id": "2dff7fe1",
   "metadata": {
    "ExecuteTime": {
     "end_time": "2022-03-24T13:00:49.455062Z",
     "start_time": "2022-03-24T13:00:49.447761Z"
    }
   },
   "outputs": [],
   "source": [
    "# como df_stats3 nao tem a data, sera inlcuida\n",
    "df_stats3 = pd.merge(df_stats3, df_full3[['ID','data']], on='ID')"
   ]
  },
  {
   "cell_type": "code",
   "execution_count": 40,
   "id": "4ff34852",
   "metadata": {
    "ExecuteTime": {
     "end_time": "2022-03-24T13:00:49.464134Z",
     "start_time": "2022-03-24T13:00:49.457110Z"
    }
   },
   "outputs": [],
   "source": [
    "# criando uma feature para temporada e mudando a posicao dela e da data\n",
    "df_stats3.insert(2, 'temporada', df_stats3.data.dt.year)\n",
    "df_aux = df_stats3[['data']]\n",
    "df_stats3 = df_stats3.drop('data', axis = 1)\n",
    "df_stats3.insert(3, 'data', df_aux)"
   ]
  },
  {
   "cell_type": "code",
   "execution_count": 41,
   "id": "919dfbe8",
   "metadata": {
    "ExecuteTime": {
     "end_time": "2022-03-24T13:00:49.480385Z",
     "start_time": "2022-03-24T13:00:49.465926Z"
    }
   },
   "outputs": [],
   "source": [
    "df_aux = pd.DataFrame(df_stats3.groupby(['temporada', 'rodada']).mean()['chutes']).reset_index()"
   ]
  },
  {
   "cell_type": "code",
   "execution_count": 42,
   "id": "b4071112",
   "metadata": {
    "ExecuteTime": {
     "end_time": "2022-03-24T13:00:49.677373Z",
     "start_time": "2022-03-24T13:00:49.481990Z"
    }
   },
   "outputs": [
    {
     "data": {
      "image/png": "[encoded data removed]",
      "text/plain": [
       "<Figure size 1152x360 with 1 Axes>"
      ]
     },
     "metadata": {
      "needs_background": "light"
     },
     "output_type": "display_data"
    }
   ],
   "source": [
    "plt.figure(figsize=(16,5));\n",
    "sns.lineplot(y=df_aux.chutes, x=df_aux.rodada, hue=df_aux.temporada, palette='bright');\n",
    "plt.hlines(df_aux.chutes.mean(), xmin = 1, xmax=38, color='black', label='media', linestyle='dashed');\n",
    "plt.legend();"
   ]
  },
  {
   "cell_type": "code",
   "execution_count": 43,
   "id": "df234507",
   "metadata": {
    "ExecuteTime": {
     "end_time": "2022-03-24T13:00:49.700857Z",
     "start_time": "2022-03-24T13:00:49.679524Z"
    }
   },
   "outputs": [
    {
     "name": "stdout",
     "output_type": "stream",
     "text": [
      "Estatísticas dos chutes por temporada\n"
     ]
    },
    {
     "data": {
      "text/html": [
       "<div>\n",
       "<style scoped>\n",
       "    .dataframe tbody tr th:only-of-type {\n",
       "        vertical-align: middle;\n",
       "    }\n",
       "\n",
       "    .dataframe tbody tr th {\n",
       "        vertical-align: top;\n",
       "    }\n",
       "\n",
       "    .dataframe thead th {\n",
       "        text-align: right;\n",
       "    }\n",
       "</style>\n",
       "<table border=\"1\" class=\"dataframe\">\n",
       "  <thead>\n",
       "    <tr style=\"text-align: right;\">\n",
       "      <th></th>\n",
       "      <th>count</th>\n",
       "      <th>mean</th>\n",
       "      <th>std</th>\n",
       "      <th>min</th>\n",
       "      <th>25%</th>\n",
       "      <th>50%</th>\n",
       "      <th>75%</th>\n",
       "      <th>max</th>\n",
       "    </tr>\n",
       "    <tr>\n",
       "      <th>temporada</th>\n",
       "      <th></th>\n",
       "      <th></th>\n",
       "      <th></th>\n",
       "      <th></th>\n",
       "      <th></th>\n",
       "      <th></th>\n",
       "      <th></th>\n",
       "      <th></th>\n",
       "    </tr>\n",
       "  </thead>\n",
       "  <tbody>\n",
       "    <tr>\n",
       "      <th>2019</th>\n",
       "      <td>38.0</td>\n",
       "      <td>13.589547</td>\n",
       "      <td>0.918254</td>\n",
       "      <td>11.550000</td>\n",
       "      <td>12.958333</td>\n",
       "      <td>13.633333</td>\n",
       "      <td>14.277778</td>\n",
       "      <td>15.388889</td>\n",
       "    </tr>\n",
       "    <tr>\n",
       "      <th>2020</th>\n",
       "      <td>27.0</td>\n",
       "      <td>12.574486</td>\n",
       "      <td>0.660720</td>\n",
       "      <td>11.333333</td>\n",
       "      <td>12.105556</td>\n",
       "      <td>12.550000</td>\n",
       "      <td>13.025000</td>\n",
       "      <td>13.750000</td>\n",
       "    </tr>\n",
       "    <tr>\n",
       "      <th>2021</th>\n",
       "      <td>38.0</td>\n",
       "      <td>12.600478</td>\n",
       "      <td>0.799922</td>\n",
       "      <td>11.100000</td>\n",
       "      <td>12.050000</td>\n",
       "      <td>12.612500</td>\n",
       "      <td>12.987500</td>\n",
       "      <td>14.225000</td>\n",
       "    </tr>\n",
       "  </tbody>\n",
       "</table>\n",
       "</div>"
      ],
      "text/plain": [
       "           count       mean       std        min        25%        50%  \\\n",
       "temporada                                                                \n",
       "2019        38.0  13.589547  0.918254  11.550000  12.958333  13.633333   \n",
       "2020        27.0  12.574486  0.660720  11.333333  12.105556  12.550000   \n",
       "2021        38.0  12.600478  0.799922  11.100000  12.050000  12.612500   \n",
       "\n",
       "                 75%        max  \n",
       "temporada                        \n",
       "2019       14.277778  15.388889  \n",
       "2020       13.025000  13.750000  \n",
       "2021       12.987500  14.225000  "
      ]
     },
     "execution_count": 43,
     "metadata": {},
     "output_type": "execute_result"
    }
   ],
   "source": [
    "print('Estatísticas dos chutes por temporada')\n",
    "df_aux.groupby('temporada')['chutes'].describe()"
   ]
  },
  {
   "cell_type": "markdown",
   "id": "2c4bdb0e",
   "metadata": {},
   "source": [
    "<b> Constatações <b>\n",
    "- Visualmente, o ano de 2019 teve mais chutes ao gol em geral;\n",
    "- 2019 vem maior variabilidade no número de chutes por dada;\n",
    "- As estatísticas estão bem próximas ao longo destes anos, mas não foi analisada significância estatística."
   ]
  },
  {
   "cell_type": "markdown",
   "id": "a147ecc5",
   "metadata": {},
   "source": [
    "## 3.6 Ball possession "
   ]
  },
  {
   "cell_type": "markdown",
   "id": "d5a70304",
   "metadata": {},
   "source": [
    "### 3.6.1 Overview "
   ]
  },
  {
   "cell_type": "markdown",
   "id": "99d276a6",
   "metadata": {},
   "source": [
    "<b> Top 10 clubes em posse de bola <b>"
   ]
  },
  {
   "cell_type": "code",
   "execution_count": 44,
   "id": "910341af",
   "metadata": {
    "ExecuteTime": {
     "end_time": "2022-03-24T13:00:49.712129Z",
     "start_time": "2022-03-24T13:00:49.703449Z"
    }
   },
   "outputs": [
    {
     "name": "stdout",
     "output_type": "stream",
     "text": [
      "Top 10 em média da posse de bola por partida\n"
     ]
    },
    {
     "data": {
      "text/plain": [
       "clube\n",
       "flamengo         0.599115\n",
       "sao paulo        0.559107\n",
       "atletico-mg      0.559000\n",
       "gremio           0.540804\n",
       "santos           0.538421\n",
       "cruzeiro         0.526571\n",
       "athletico-pr     0.524255\n",
       "corinthians      0.522035\n",
       "fluminense       0.520000\n",
       "internacional    0.512982\n",
       "Name: posse_de_bola, dtype: float64"
      ]
     },
     "execution_count": 44,
     "metadata": {},
     "output_type": "execute_result"
    }
   ],
   "source": [
    "print('Top 10 em média da posse de bola por partida')\n",
    "df_stats3.groupby('clube').mean().sort_values('posse_de_bola', ascending=False).head(10)['posse_de_bola']"
   ]
  },
  {
   "cell_type": "markdown",
   "id": "3609ed68",
   "metadata": {},
   "source": [
    "### 3.6.2 Ball possession over the time"
   ]
  },
  {
   "cell_type": "code",
   "execution_count": 45,
   "id": "f6f7edc9",
   "metadata": {
    "ExecuteTime": {
     "end_time": "2022-03-24T13:00:49.723596Z",
     "start_time": "2022-03-24T13:00:49.713777Z"
    }
   },
   "outputs": [],
   "source": [
    "df_aux = df_stats3.groupby(['temporada', 'clube']).mean()[['posse_de_bola']].reset_index();"
   ]
  },
  {
   "cell_type": "code",
   "execution_count": 46,
   "id": "a9d737ab",
   "metadata": {
    "ExecuteTime": {
     "end_time": "2022-03-24T13:00:49.907052Z",
     "start_time": "2022-03-24T13:00:49.725002Z"
    }
   },
   "outputs": [
    {
     "data": {
      "image/png": "[encoded data removed]",
      "text/plain": [
       "<Figure size 1152x360 with 1 Axes>"
      ]
     },
     "metadata": {
      "needs_background": "light"
     },
     "output_type": "display_data"
    }
   ],
   "source": [
    "df_aux2 = pd.concat([df_aux[df_aux['clube'] == 'flamengo'], df_aux[df_aux['clube'] == 'atletico-mg'], df_aux[df_aux['clube'] == 'sao paulo']], axis=0)\n",
    "plt.figure(figsize=(16,5));\n",
    "sns.lineplot(x=df_aux2.temporada, y=df_aux2.posse_de_bola, hue=df_aux2.clube);\n",
    "plt.xticks([2019, 2020, 2021])\n",
    "plt.title('Posse de bola ao longo do tempo para os Top 3 do resultado agregado');"
   ]
  },
  {
   "cell_type": "markdown",
   "id": "bf104a56",
   "metadata": {},
   "source": [
    "<b> Constatações </b>\n",
    "- Flamengo é o time que tem maior posse de bola;\n",
    "- Atlético-MG e São Paulo estão praticamente empatados na segunda colocação;\n",
    "- Flamengo manteve praticamente a mesma posse de bola ao longo do tempo;\n",
    "- A posse de bola do Atlético-MG teve um aumento visualmente significativo."
   ]
  },
  {
   "cell_type": "markdown",
   "id": "16c19c50",
   "metadata": {},
   "source": [
    "## 3.7 Faults "
   ]
  },
  {
   "cell_type": "code",
   "execution_count": 47,
   "id": "50963e41",
   "metadata": {
    "ExecuteTime": {
     "end_time": "2022-03-24T13:00:49.919325Z",
     "start_time": "2022-03-24T13:00:49.908801Z"
    }
   },
   "outputs": [
    {
     "name": "stdout",
     "output_type": "stream",
     "text": [
      "Top 10 na média do n. de faltas por jogo\n"
     ]
    },
    {
     "data": {
      "text/plain": [
       "clube\n",
       "sao paulo        16.428571\n",
       "internacional    16.307018\n",
       "athletico-pr     16.138298\n",
       "goias            15.756757\n",
       "palmeiras        15.714286\n",
       "coritiba         15.684211\n",
       "flamengo         15.672566\n",
       "vasco            15.662162\n",
       "bragantino       15.631579\n",
       "csa              15.314286\n",
       "Name: faltas, dtype: float64"
      ]
     },
     "execution_count": 47,
     "metadata": {},
     "output_type": "execute_result"
    }
   ],
   "source": [
    "print('Top 10 na média do n. de faltas por jogo')\n",
    "df_stats3.groupby('clube').mean().sort_values('faltas', ascending=False).head(10)['faltas']"
   ]
  },
  {
   "cell_type": "markdown",
   "id": "1da6cc3b",
   "metadata": {},
   "source": [
    "## 3.7 Yellow and Red Cards "
   ]
  },
  {
   "cell_type": "code",
   "execution_count": 48,
   "id": "e6968aea",
   "metadata": {
    "ExecuteTime": {
     "end_time": "2022-03-24T13:00:49.934417Z",
     "start_time": "2022-03-24T13:00:49.921153Z"
    }
   },
   "outputs": [
    {
     "name": "stdout",
     "output_type": "stream",
     "text": [
      "Top 10 na média do n. de cartões amarelos por jogo\n"
     ]
    },
    {
     "data": {
      "text/plain": [
       "clube\n",
       "goias            2.540541\n",
       "internacional    2.526316\n",
       "vasco            2.391892\n",
       "santos           2.368421\n",
       "csa              2.342857\n",
       "sao paulo        2.330357\n",
       "sport            2.328947\n",
       "juventude        2.315789\n",
       "flamengo         2.230088\n",
       "ceara            2.228070\n",
       "Name: cartao_amarelo, dtype: float64"
      ]
     },
     "execution_count": 48,
     "metadata": {},
     "output_type": "execute_result"
    }
   ],
   "source": [
    "print('Top 10 na média do n. de cartões amarelos por jogo')\n",
    "df_stats3.groupby('clube').mean().sort_values('cartao_amarelo', ascending=False).head(10)['cartao_amarelo']"
   ]
  },
  {
   "cell_type": "code",
   "execution_count": 49,
   "id": "5b65d10a",
   "metadata": {
    "ExecuteTime": {
     "end_time": "2022-03-24T13:00:49.947021Z",
     "start_time": "2022-03-24T13:00:49.937247Z"
    }
   },
   "outputs": [
    {
     "name": "stdout",
     "output_type": "stream",
     "text": [
      "Top 10 na média do n. de cartões vermelhos por jogo\n"
     ]
    },
    {
     "data": {
      "text/plain": [
       "clube\n",
       "avai             0.277778\n",
       "coritiba         0.210526\n",
       "internacional    0.201754\n",
       "fortaleza        0.159292\n",
       "cuiaba           0.157895\n",
       "palmeiras        0.151786\n",
       "bahia            0.149123\n",
       "goias            0.148649\n",
       "gremio           0.142857\n",
       "cruzeiro         0.142857\n",
       "Name: cartao_vermelho, dtype: float64"
      ]
     },
     "execution_count": 49,
     "metadata": {},
     "output_type": "execute_result"
    }
   ],
   "source": [
    "print('Top 10 na média do n. de cartões vermelhos por jogo')\n",
    "df_stats3.groupby('clube').mean().sort_values('cartao_vermelho', ascending=False).head(10)['cartao_vermelho']"
   ]
  },
  {
   "cell_type": "markdown",
   "id": "32f6d87a",
   "metadata": {},
   "source": [
    "# 4.0 Hypothesis "
   ]
  },
  {
   "cell_type": "markdown",
   "id": "ad0b730e",
   "metadata": {},
   "source": [
    "Algumas hipóteses podem ajudar a determinar as melhores features e insights para construção dos modelos, tais como:\n",
    "<ol>\n",
    "    <li>O time que mais chuta a gol é o que faz mais gols;</li>\n",
    "    <li>O time que mais chuta a gol é o mais vencedor;</li>\n",
    "    <li>O time que mais tem posse de bola é o mais vencedor.</li>\n",
    "</ol>"
   ]
  },
  {
   "cell_type": "code",
   "execution_count": 358,
   "id": "25aafa95",
   "metadata": {
    "ExecuteTime": {
     "end_time": "2022-03-24T20:33:11.556452Z",
     "start_time": "2022-03-24T20:33:11.553158Z"
    }
   },
   "outputs": [],
   "source": [
    "df_full4 = df_full3.copy()\n",
    "df_stats4 = df_stats3.copy()"
   ]
  },
  {
   "cell_type": "code",
   "execution_count": 495,
   "id": "93b4c74b",
   "metadata": {
    "ExecuteTime": {
     "end_time": "2022-03-24T21:04:22.390598Z",
     "start_time": "2022-03-24T21:04:22.385002Z"
    }
   },
   "outputs": [
    {
     "data": {
      "text/plain": [
       "1116"
      ]
     },
     "execution_count": 495,
     "metadata": {},
     "output_type": "execute_result"
    }
   ],
   "source": [
    "len(df_stats4.ID.unique())"
   ]
  },
  {
   "cell_type": "code",
   "execution_count": 496,
   "id": "4319dd89",
   "metadata": {
    "ExecuteTime": {
     "end_time": "2022-03-24T21:04:31.404427Z",
     "start_time": "2022-03-24T21:04:31.400220Z"
    }
   },
   "outputs": [
    {
     "data": {
      "text/plain": [
       "1140"
      ]
     },
     "execution_count": 496,
     "metadata": {},
     "output_type": "execute_result"
    }
   ],
   "source": [
    "len(df_full4.ID.unique())"
   ]
  },
  {
   "cell_type": "code",
   "execution_count": 506,
   "id": "35df2d01",
   "metadata": {
    "ExecuteTime": {
     "end_time": "2022-03-24T21:09:43.163552Z",
     "start_time": "2022-03-24T21:09:43.155282Z"
    }
   },
   "outputs": [],
   "source": [
    "# cria um dataframe com as estatisticas de cada partida\n",
    "def add_attributes(df_stats, df_full):\n",
    "    \"\"\"\n",
    "    This function merge some attributes from two differente df, considering home x away teams\n",
    "    \"\"\"\n",
    "   \n",
    "    columns = df_stats.columns.to_list()[5:-1]\n",
    "           \n",
    "    for row in range(len(df_full)):\n",
    "        for column in columns:\n",
    "            if (df_stats[['ID']] == df_full.loc[row, 'ID']) & (df_stats[['clube']] == df_full.loc[row, 'mandante']):\n",
    "                df_full.loc[row, 'mandante_' + column] = df_stats[(df_stats['ID'] == df_full.loc[row, 'ID']) & (df_stats['clube'] == df_full.loc[row, 'mandante'])][column].values[0]\n",
    "            #else:\n",
    "            #    df_full.loc[row, 'mandante_' + column] = np.nan\n",
    "                \n",
    "            if (df_stats[['ID']] == df_full.loc[row, 'ID']) & (df_stats[['clube']] == df_full.loc[row, 'visitante']):       \n",
    "                df_full.loc[row, 'visitante_' + column] = df_stats[(df_stats['ID'] == df_full.loc[row, 'ID']) & (df_stats['clube'] == df_full.loc[row, 'visitante'])][column].values[0]\n",
    "            #else:\n",
    "            #    df_full.loc[row, 'visitante_' + column] = np.nan\n",
    "                \n",
    "    #df_full_stats_recent = df_full_stats_recent.drop(['mandante_clube', 'visitante_clube'], axis = 1)\n",
    "\n",
    "    return df_full"
   ]
  },
  {
   "cell_type": "code",
   "execution_count": null,
   "id": "deb2411c",
   "metadata": {},
   "outputs": [],
   "source": [
    "df4."
   ]
  },
  {
   "cell_type": "code",
   "execution_count": 507,
   "id": "ba525fca",
   "metadata": {
    "ExecuteTime": {
     "end_time": "2022-03-24T21:09:43.683423Z",
     "start_time": "2022-03-24T21:09:43.657411Z"
    }
   },
   "outputs": [
    {
     "ename": "ValueError",
     "evalue": "The truth value of a DataFrame is ambiguous. Use a.empty, a.bool(), a.item(), a.any() or a.all().",
     "output_type": "error",
     "traceback": [
      "\u001b[0;31m---------------------------------------------------------------------------\u001b[0m",
      "\u001b[0;31mValueError\u001b[0m                                Traceback (most recent call last)",
      "\u001b[0;32m/tmp/ipykernel_7803/2330458135.py\u001b[0m in \u001b[0;36m<module>\u001b[0;34m\u001b[0m\n\u001b[0;32m----> 1\u001b[0;31m \u001b[0mdf4\u001b[0m \u001b[0;34m=\u001b[0m \u001b[0madd_attributes\u001b[0m\u001b[0;34m(\u001b[0m\u001b[0mdf_stats4\u001b[0m\u001b[0;34m,\u001b[0m \u001b[0mdf_full4\u001b[0m\u001b[0;34m)\u001b[0m\u001b[0;34m\u001b[0m\u001b[0;34m\u001b[0m\u001b[0m\n\u001b[0m",
      "\u001b[0;32m/tmp/ipykernel_7803/1102154252.py\u001b[0m in \u001b[0;36madd_attributes\u001b[0;34m(df_stats, df_full)\u001b[0m\n\u001b[1;32m      9\u001b[0m     \u001b[0;32mfor\u001b[0m \u001b[0mrow\u001b[0m \u001b[0;32min\u001b[0m \u001b[0mrange\u001b[0m\u001b[0;34m(\u001b[0m\u001b[0mlen\u001b[0m\u001b[0;34m(\u001b[0m\u001b[0mdf_full\u001b[0m\u001b[0;34m)\u001b[0m\u001b[0;34m)\u001b[0m\u001b[0;34m:\u001b[0m\u001b[0;34m\u001b[0m\u001b[0;34m\u001b[0m\u001b[0m\n\u001b[1;32m     10\u001b[0m         \u001b[0;32mfor\u001b[0m \u001b[0mcolumn\u001b[0m \u001b[0;32min\u001b[0m \u001b[0mcolumns\u001b[0m\u001b[0;34m:\u001b[0m\u001b[0;34m\u001b[0m\u001b[0;34m\u001b[0m\u001b[0m\n\u001b[0;32m---> 11\u001b[0;31m             \u001b[0;32mif\u001b[0m \u001b[0;34m(\u001b[0m\u001b[0mdf_stats\u001b[0m\u001b[0;34m[\u001b[0m\u001b[0;34m[\u001b[0m\u001b[0;34m'ID'\u001b[0m\u001b[0;34m]\u001b[0m\u001b[0;34m]\u001b[0m \u001b[0;34m==\u001b[0m \u001b[0mdf_full\u001b[0m\u001b[0;34m.\u001b[0m\u001b[0mloc\u001b[0m\u001b[0;34m[\u001b[0m\u001b[0mrow\u001b[0m\u001b[0;34m,\u001b[0m \u001b[0;34m'ID'\u001b[0m\u001b[0;34m]\u001b[0m\u001b[0;34m)\u001b[0m \u001b[0;34m&\u001b[0m \u001b[0;34m(\u001b[0m\u001b[0mdf_stats\u001b[0m\u001b[0;34m[\u001b[0m\u001b[0;34m[\u001b[0m\u001b[0;34m'clube'\u001b[0m\u001b[0;34m]\u001b[0m\u001b[0;34m]\u001b[0m \u001b[0;34m==\u001b[0m \u001b[0mdf_full\u001b[0m\u001b[0;34m.\u001b[0m\u001b[0mloc\u001b[0m\u001b[0;34m[\u001b[0m\u001b[0mrow\u001b[0m\u001b[0;34m,\u001b[0m \u001b[0;34m'mandante'\u001b[0m\u001b[0;34m]\u001b[0m\u001b[0;34m)\u001b[0m\u001b[0;34m:\u001b[0m\u001b[0;34m\u001b[0m\u001b[0;34m\u001b[0m\u001b[0m\n\u001b[0m\u001b[1;32m     12\u001b[0m                 \u001b[0mdf_full\u001b[0m\u001b[0;34m.\u001b[0m\u001b[0mloc\u001b[0m\u001b[0;34m[\u001b[0m\u001b[0mrow\u001b[0m\u001b[0;34m,\u001b[0m \u001b[0;34m'mandante_'\u001b[0m \u001b[0;34m+\u001b[0m \u001b[0mcolumn\u001b[0m\u001b[0;34m]\u001b[0m \u001b[0;34m=\u001b[0m \u001b[0mdf_stats\u001b[0m\u001b[0;34m[\u001b[0m\u001b[0;34m(\u001b[0m\u001b[0mdf_stats\u001b[0m\u001b[0;34m[\u001b[0m\u001b[0;34m'ID'\u001b[0m\u001b[0;34m]\u001b[0m \u001b[0;34m==\u001b[0m \u001b[0mdf_full\u001b[0m\u001b[0;34m.\u001b[0m\u001b[0mloc\u001b[0m\u001b[0;34m[\u001b[0m\u001b[0mrow\u001b[0m\u001b[0;34m,\u001b[0m \u001b[0;34m'ID'\u001b[0m\u001b[0;34m]\u001b[0m\u001b[0;34m)\u001b[0m \u001b[0;34m&\u001b[0m \u001b[0;34m(\u001b[0m\u001b[0mdf_stats\u001b[0m\u001b[0;34m[\u001b[0m\u001b[0;34m'clube'\u001b[0m\u001b[0;34m]\u001b[0m \u001b[0;34m==\u001b[0m \u001b[0mdf_full\u001b[0m\u001b[0;34m.\u001b[0m\u001b[0mloc\u001b[0m\u001b[0;34m[\u001b[0m\u001b[0mrow\u001b[0m\u001b[0;34m,\u001b[0m \u001b[0;34m'mandante'\u001b[0m\u001b[0;34m]\u001b[0m\u001b[0;34m)\u001b[0m\u001b[0;34m]\u001b[0m\u001b[0;34m[\u001b[0m\u001b[0mcolumn\u001b[0m\u001b[0;34m]\u001b[0m\u001b[0;34m.\u001b[0m\u001b[0mvalues\u001b[0m\u001b[0;34m[\u001b[0m\u001b[0;36m0\u001b[0m\u001b[0;34m]\u001b[0m\u001b[0;34m\u001b[0m\u001b[0;34m\u001b[0m\u001b[0m\n\u001b[1;32m     13\u001b[0m             \u001b[0;31m#else:\u001b[0m\u001b[0;34m\u001b[0m\u001b[0;34m\u001b[0m\u001b[0m\n",
      "\u001b[0;32m~/anaconda3/envs/foot/lib/python3.9/site-packages/pandas/core/generic.py\u001b[0m in \u001b[0;36m__nonzero__\u001b[0;34m(self)\u001b[0m\n\u001b[1;32m   1533\u001b[0m     \u001b[0;34m@\u001b[0m\u001b[0mfinal\u001b[0m\u001b[0;34m\u001b[0m\u001b[0;34m\u001b[0m\u001b[0m\n\u001b[1;32m   1534\u001b[0m     \u001b[0;32mdef\u001b[0m \u001b[0m__nonzero__\u001b[0m\u001b[0;34m(\u001b[0m\u001b[0mself\u001b[0m\u001b[0;34m)\u001b[0m\u001b[0;34m:\u001b[0m\u001b[0;34m\u001b[0m\u001b[0;34m\u001b[0m\u001b[0m\n\u001b[0;32m-> 1535\u001b[0;31m         raise ValueError(\n\u001b[0m\u001b[1;32m   1536\u001b[0m             \u001b[0;34mf\"The truth value of a {type(self).__name__} is ambiguous. \"\u001b[0m\u001b[0;34m\u001b[0m\u001b[0;34m\u001b[0m\u001b[0m\n\u001b[1;32m   1537\u001b[0m             \u001b[0;34m\"Use a.empty, a.bool(), a.item(), a.any() or a.all().\"\u001b[0m\u001b[0;34m\u001b[0m\u001b[0;34m\u001b[0m\u001b[0m\n",
      "\u001b[0;31mValueError\u001b[0m: The truth value of a DataFrame is ambiguous. Use a.empty, a.bool(), a.item(), a.any() or a.all()."
     ]
    }
   ],
   "source": [
    "df4 = add_attributes(df_stats4, df_full4)b"
   ]
  },
  {
   "cell_type": "markdown",
   "id": "ec03f03f",
   "metadata": {},
   "source": [
    "## 4.1 O time que mais chuta a gol é o que mais faz gols "
   ]
  },
  {
   "cell_type": "code",
   "execution_count": 366,
   "id": "c8a3c778",
   "metadata": {
    "ExecuteTime": {
     "end_time": "2022-03-24T20:36:13.105058Z",
     "start_time": "2022-03-24T20:36:12.949761Z"
    }
   },
   "outputs": [
    {
     "data": {
      "image/png": "[encoded data removed]",
      "text/plain": [
       "<Figure size 432x288 with 1 Axes>"
      ]
     },
     "metadata": {
      "needs_background": "light"
     },
     "output_type": "display_data"
    }
   ],
   "source": [
    "df_aux41 = pd.concat([df4[['mandante', 'mandante_chutes', 'mandante_placar']] \\\n",
    "                      .rename(columns={'mandante': 'clube', 'mandante_chutes': 'chutes', 'mandante_placar': 'gols'}),\\\n",
    "                      df4[['visitante', 'visitante_chutes', 'visitante_placar']] \\\n",
    "                      .rename(columns={'visitante': 'clube', 'visitante_chutes': 'chutes', 'visitante_placar': 'gols'})], axis=0)\n",
    "\n",
    "sns.scatterplot(x=df_aux41.chutes, y=df_aux41.gols);\n",
    "plt.title('Dispersão N. de Chutes x N. de Gols por partida');"
   ]
  },
  {
   "cell_type": "code",
   "execution_count": 367,
   "id": "a2ca5b0f",
   "metadata": {
    "ExecuteTime": {
     "end_time": "2022-03-24T20:36:13.115686Z",
     "start_time": "2022-03-24T20:36:13.107095Z"
    }
   },
   "outputs": [
    {
     "data": {
      "text/html": [
       "<div>\n",
       "<style scoped>\n",
       "    .dataframe tbody tr th:only-of-type {\n",
       "        vertical-align: middle;\n",
       "    }\n",
       "\n",
       "    .dataframe tbody tr th {\n",
       "        vertical-align: top;\n",
       "    }\n",
       "\n",
       "    .dataframe thead th {\n",
       "        text-align: right;\n",
       "    }\n",
       "</style>\n",
       "<table border=\"1\" class=\"dataframe\">\n",
       "  <thead>\n",
       "    <tr style=\"text-align: right;\">\n",
       "      <th></th>\n",
       "      <th>chutes</th>\n",
       "      <th>gols</th>\n",
       "    </tr>\n",
       "  </thead>\n",
       "  <tbody>\n",
       "    <tr>\n",
       "      <th>chutes</th>\n",
       "      <td>1.00000</td>\n",
       "      <td>0.20163</td>\n",
       "    </tr>\n",
       "    <tr>\n",
       "      <th>gols</th>\n",
       "      <td>0.20163</td>\n",
       "      <td>1.00000</td>\n",
       "    </tr>\n",
       "  </tbody>\n",
       "</table>\n",
       "</div>"
      ],
      "text/plain": [
       "         chutes     gols\n",
       "chutes  1.00000  0.20163\n",
       "gols    0.20163  1.00000"
      ]
     },
     "execution_count": 367,
     "metadata": {},
     "output_type": "execute_result"
    }
   ],
   "source": [
    "df_aux41.corr()"
   ]
  },
  {
   "cell_type": "code",
   "execution_count": 368,
   "id": "f6ff76a9",
   "metadata": {
    "ExecuteTime": {
     "end_time": "2022-03-24T20:36:13.204769Z",
     "start_time": "2022-03-24T20:36:13.196717Z"
    }
   },
   "outputs": [],
   "source": [
    "top_kicks_mean = df_aux41.groupby('clube').mean().sort_values('chutes', ascending=False)\n",
    "top_kicks_sum = df_aux41.groupby('clube').sum().sort_values('gols', ascending=False)"
   ]
  },
  {
   "cell_type": "code",
   "execution_count": 369,
   "id": "b2eae220",
   "metadata": {
    "ExecuteTime": {
     "end_time": "2022-03-24T20:36:13.374507Z",
     "start_time": "2022-03-24T20:36:13.363442Z"
    }
   },
   "outputs": [
    {
     "name": "stdout",
     "output_type": "stream",
     "text": [
      "Correlação entre as Médias\n"
     ]
    },
    {
     "data": {
      "text/html": [
       "<div>\n",
       "<style scoped>\n",
       "    .dataframe tbody tr th:only-of-type {\n",
       "        vertical-align: middle;\n",
       "    }\n",
       "\n",
       "    .dataframe tbody tr th {\n",
       "        vertical-align: top;\n",
       "    }\n",
       "\n",
       "    .dataframe thead th {\n",
       "        text-align: right;\n",
       "    }\n",
       "</style>\n",
       "<table border=\"1\" class=\"dataframe\">\n",
       "  <thead>\n",
       "    <tr style=\"text-align: right;\">\n",
       "      <th></th>\n",
       "      <th>chutes</th>\n",
       "      <th>gols</th>\n",
       "    </tr>\n",
       "  </thead>\n",
       "  <tbody>\n",
       "    <tr>\n",
       "      <th>chutes</th>\n",
       "      <td>1.000000</td>\n",
       "      <td>0.726253</td>\n",
       "    </tr>\n",
       "    <tr>\n",
       "      <th>gols</th>\n",
       "      <td>0.726253</td>\n",
       "      <td>1.000000</td>\n",
       "    </tr>\n",
       "  </tbody>\n",
       "</table>\n",
       "</div>"
      ],
      "text/plain": [
       "          chutes      gols\n",
       "chutes  1.000000  0.726253\n",
       "gols    0.726253  1.000000"
      ]
     },
     "execution_count": 369,
     "metadata": {},
     "output_type": "execute_result"
    }
   ],
   "source": [
    "print('Correlação entre as Médias')\n",
    "top_kicks_mean.corr()"
   ]
  },
  {
   "cell_type": "code",
   "execution_count": 370,
   "id": "b23704cc",
   "metadata": {
    "ExecuteTime": {
     "end_time": "2022-03-24T20:36:13.532029Z",
     "start_time": "2022-03-24T20:36:13.523200Z"
    }
   },
   "outputs": [
    {
     "name": "stdout",
     "output_type": "stream",
     "text": [
      "Correlação entre as somas\n"
     ]
    },
    {
     "data": {
      "text/html": [
       "<div>\n",
       "<style scoped>\n",
       "    .dataframe tbody tr th:only-of-type {\n",
       "        vertical-align: middle;\n",
       "    }\n",
       "\n",
       "    .dataframe tbody tr th {\n",
       "        vertical-align: top;\n",
       "    }\n",
       "\n",
       "    .dataframe thead th {\n",
       "        text-align: right;\n",
       "    }\n",
       "</style>\n",
       "<table border=\"1\" class=\"dataframe\">\n",
       "  <thead>\n",
       "    <tr style=\"text-align: right;\">\n",
       "      <th></th>\n",
       "      <th>chutes</th>\n",
       "      <th>gols</th>\n",
       "    </tr>\n",
       "  </thead>\n",
       "  <tbody>\n",
       "    <tr>\n",
       "      <th>chutes</th>\n",
       "      <td>1.000000</td>\n",
       "      <td>0.968087</td>\n",
       "    </tr>\n",
       "    <tr>\n",
       "      <th>gols</th>\n",
       "      <td>0.968087</td>\n",
       "      <td>1.000000</td>\n",
       "    </tr>\n",
       "  </tbody>\n",
       "</table>\n",
       "</div>"
      ],
      "text/plain": [
       "          chutes      gols\n",
       "chutes  1.000000  0.968087\n",
       "gols    0.968087  1.000000"
      ]
     },
     "execution_count": 370,
     "metadata": {},
     "output_type": "execute_result"
    }
   ],
   "source": [
    "print('Correlação entre as somas')\n",
    "top_kicks_sum.corr()"
   ]
  },
  {
   "cell_type": "code",
   "execution_count": 371,
   "id": "6201eee6",
   "metadata": {
    "ExecuteTime": {
     "end_time": "2022-03-24T20:36:13.928001Z",
     "start_time": "2022-03-24T20:36:13.686440Z"
    }
   },
   "outputs": [
    {
     "data": {
      "image/png": "[encoded data removed]",
      "text/plain": [
       "<Figure size 864x288 with 2 Axes>"
      ]
     },
     "metadata": {
      "needs_background": "light"
     },
     "output_type": "display_data"
    }
   ],
   "source": [
    "plt.figure(figsize=(12,4));\n",
    "\n",
    "plt.subplot(1,2,1);\n",
    "plt.scatter(x=top_kicks_mean.chutes, y=top_kicks_mean.gols);\n",
    "plt.ylabel('Chutes');\n",
    "plt.xlabel('Gols');\n",
    "plt.title('Dispersão Média de Chutes x Média de Gols');\n",
    "\n",
    "\n",
    "plt.subplot(1,2,2);\n",
    "plt.scatter(x=top_kicks_sum.chutes, y=top_kicks_sum.gols);\n",
    "plt.ylabel('Chutes');\n",
    "plt.xlabel('Gols');\n",
    "plt.title('Dispersão Soma de Chutes x Soma de Gols');"
   ]
  },
  {
   "cell_type": "markdown",
   "id": "9c705ac8",
   "metadata": {},
   "source": [
    "<b> Constatações </b>\n",
    "- Numericamente, dadas as características do futebol em ser um jogo de baixa pontuação, não há correlação forte entre o número de chutes e o número de gols, quando os números são avaliados por partida.\n",
    "- Entretanto, ao comparar os valores agregados pela média ou pela soma, nota-se que há forte correlação entre as duas variáveis."
   ]
  },
  {
   "cell_type": "markdown",
   "id": "12f6f780",
   "metadata": {
    "ExecuteTime": {
     "end_time": "2022-03-23T20:04:11.040515Z",
     "start_time": "2022-03-23T20:04:11.035041Z"
    }
   },
   "source": [
    "<b> Conclusão: </b> parcialmente confirmada\n",
    "- As evidências apontam que os times que mais chutam são os que possuem maior quantidade de gols marcados;\n",
    "- Apesar de ser fraca a correlação por partida, este fator é decisivo em longo prazo (média e acumulado)."
   ]
  },
  {
   "cell_type": "markdown",
   "id": "5700aa4a",
   "metadata": {},
   "source": [
    "## 4.2 O time que é mais chuta é o mais vencedor"
   ]
  },
  {
   "cell_type": "code",
   "execution_count": 372,
   "id": "36042407",
   "metadata": {
    "ExecuteTime": {
     "end_time": "2022-03-24T20:36:14.446436Z",
     "start_time": "2022-03-24T20:36:14.299947Z"
    }
   },
   "outputs": [],
   "source": [
    "def win(row):  \n",
    "    \"\"\"\n",
    "    Cria uma variavel auxiliar para contar as vitorias\n",
    "    \"\"\"\n",
    "    if (row.index == 'mandante').any():\n",
    "        if row['vencedor'] == 1:\n",
    "            return 1\n",
    "        else:\n",
    "            return 0\n",
    "        \n",
    "    elif (row.index == 'visitante').any():\n",
    "        if row['vencedor'] == 2:\n",
    "            return 1\n",
    "        else:\n",
    "            return 0\n",
    "    \n",
    "    \n",
    "df_aux42_mandante = df4[['temporada', 'mandante', 'vencedor']]\n",
    "df_aux42_mandante.loc[:,'venceu'] = df_aux42_mandante.apply(win, axis = 1)\n",
    "\n",
    "df_aux42_visitante = df4[['temporada', 'visitante', 'vencedor']]\n",
    "df_aux42_visitante.loc[:,'venceu'] = df_aux42_visitante.apply(win, axis = 1)\n",
    "\n",
    "df_aux42_visitante = df_aux42_visitante.rename(columns={'visitante': 'clube'})\n",
    "df_aux42_mandante = df_aux42_mandante.rename(columns={'mandante': 'clube'})\n",
    "\n",
    "df_aux42 = pd.concat([df_aux42_mandante, df_aux42_visitante], axis=0).drop('vencedor', axis = 1)\n",
    "df_aux42 = df_aux42.reset_index(drop=True)"
   ]
  },
  {
   "cell_type": "code",
   "execution_count": 373,
   "id": "86b194f8",
   "metadata": {
    "ExecuteTime": {
     "end_time": "2022-03-24T20:36:14.485298Z",
     "start_time": "2022-03-24T20:36:14.473200Z"
    }
   },
   "outputs": [],
   "source": [
    "df_aux421 = pd.DataFrame(df_aux42.groupby(['temporada', 'clube']).value_counts()).reset_index()\n",
    "df_aux421 = df_aux421[df_aux421['venceu'] == 1].rename(columns={0: 'n_vitorias'}).drop('venceu', axis = 1)"
   ]
  },
  {
   "cell_type": "code",
   "execution_count": 374,
   "id": "52e66374",
   "metadata": {
    "ExecuteTime": {
     "end_time": "2022-03-24T20:36:14.633885Z",
     "start_time": "2022-03-24T20:36:14.627178Z"
    }
   },
   "outputs": [],
   "source": [
    "df_aux421 = df_aux421.groupby(['clube']).sum().drop('temporada', axis = 1)"
   ]
  },
  {
   "cell_type": "code",
   "execution_count": 375,
   "id": "82ef5bb0",
   "metadata": {
    "ExecuteTime": {
     "end_time": "2022-03-24T20:36:14.820303Z",
     "start_time": "2022-03-24T20:36:14.806126Z"
    }
   },
   "outputs": [
    {
     "data": {
      "text/html": [
       "<div>\n",
       "<style scoped>\n",
       "    .dataframe tbody tr th:only-of-type {\n",
       "        vertical-align: middle;\n",
       "    }\n",
       "\n",
       "    .dataframe tbody tr th {\n",
       "        vertical-align: top;\n",
       "    }\n",
       "\n",
       "    .dataframe thead th {\n",
       "        text-align: right;\n",
       "    }\n",
       "</style>\n",
       "<table border=\"1\" class=\"dataframe\">\n",
       "  <thead>\n",
       "    <tr style=\"text-align: right;\">\n",
       "      <th></th>\n",
       "      <th>n_vitorias</th>\n",
       "      <th>chutes_mean</th>\n",
       "      <th>chutes_sum</th>\n",
       "    </tr>\n",
       "    <tr>\n",
       "      <th>clube</th>\n",
       "      <th></th>\n",
       "      <th></th>\n",
       "      <th></th>\n",
       "    </tr>\n",
       "  </thead>\n",
       "  <tbody>\n",
       "    <tr>\n",
       "      <th>america-mg</th>\n",
       "      <td>13</td>\n",
       "      <td>15.210526</td>\n",
       "      <td>578.0</td>\n",
       "    </tr>\n",
       "    <tr>\n",
       "      <th>athletico-pr</th>\n",
       "      <td>46</td>\n",
       "      <td>12.755319</td>\n",
       "      <td>1199.0</td>\n",
       "    </tr>\n",
       "    <tr>\n",
       "      <th>atletico-go</th>\n",
       "      <td>25</td>\n",
       "      <td>11.421053</td>\n",
       "      <td>868.0</td>\n",
       "    </tr>\n",
       "    <tr>\n",
       "      <th>atletico-mg</th>\n",
       "      <td>59</td>\n",
       "      <td>15.572727</td>\n",
       "      <td>1713.0</td>\n",
       "    </tr>\n",
       "    <tr>\n",
       "      <th>avai</th>\n",
       "      <td>3</td>\n",
       "      <td>12.305556</td>\n",
       "      <td>443.0</td>\n",
       "    </tr>\n",
       "  </tbody>\n",
       "</table>\n",
       "</div>"
      ],
      "text/plain": [
       "              n_vitorias  chutes_mean  chutes_sum\n",
       "clube                                            \n",
       "america-mg            13    15.210526       578.0\n",
       "athletico-pr          46    12.755319      1199.0\n",
       "atletico-go           25    11.421053       868.0\n",
       "atletico-mg           59    15.572727      1713.0\n",
       "avai                   3    12.305556       443.0"
      ]
     },
     "execution_count": 375,
     "metadata": {},
     "output_type": "execute_result"
    }
   ],
   "source": [
    "df_aux_422 = pd.concat([df_aux421, top_kicks_mean.rename(columns={'chutes': 'chutes_mean'})[['chutes_mean']], top_kicks_sum.rename(columns={'chutes': 'chutes_sum'})[['chutes_sum']]], axis = 1)\n",
    "df_aux_422.head()"
   ]
  },
  {
   "cell_type": "code",
   "execution_count": 376,
   "id": "28ccd257",
   "metadata": {
    "ExecuteTime": {
     "end_time": "2022-03-24T20:36:14.945948Z",
     "start_time": "2022-03-24T20:36:14.937837Z"
    }
   },
   "outputs": [
    {
     "data": {
      "text/html": [
       "<div>\n",
       "<style scoped>\n",
       "    .dataframe tbody tr th:only-of-type {\n",
       "        vertical-align: middle;\n",
       "    }\n",
       "\n",
       "    .dataframe tbody tr th {\n",
       "        vertical-align: top;\n",
       "    }\n",
       "\n",
       "    .dataframe thead th {\n",
       "        text-align: right;\n",
       "    }\n",
       "</style>\n",
       "<table border=\"1\" class=\"dataframe\">\n",
       "  <thead>\n",
       "    <tr style=\"text-align: right;\">\n",
       "      <th></th>\n",
       "      <th>n_vitorias</th>\n",
       "      <th>chutes_mean</th>\n",
       "      <th>chutes_sum</th>\n",
       "    </tr>\n",
       "  </thead>\n",
       "  <tbody>\n",
       "    <tr>\n",
       "      <th>n_vitorias</th>\n",
       "      <td>1.000000</td>\n",
       "      <td>0.604687</td>\n",
       "      <td>0.94251</td>\n",
       "    </tr>\n",
       "    <tr>\n",
       "      <th>chutes_mean</th>\n",
       "      <td>0.604687</td>\n",
       "      <td>1.000000</td>\n",
       "      <td>0.60275</td>\n",
       "    </tr>\n",
       "    <tr>\n",
       "      <th>chutes_sum</th>\n",
       "      <td>0.942510</td>\n",
       "      <td>0.602750</td>\n",
       "      <td>1.00000</td>\n",
       "    </tr>\n",
       "  </tbody>\n",
       "</table>\n",
       "</div>"
      ],
      "text/plain": [
       "             n_vitorias  chutes_mean  chutes_sum\n",
       "n_vitorias     1.000000     0.604687     0.94251\n",
       "chutes_mean    0.604687     1.000000     0.60275\n",
       "chutes_sum     0.942510     0.602750     1.00000"
      ]
     },
     "execution_count": 376,
     "metadata": {},
     "output_type": "execute_result"
    }
   ],
   "source": [
    "df_aux_422.corr()"
   ]
  },
  {
   "cell_type": "markdown",
   "id": "758d3c4d",
   "metadata": {},
   "source": [
    "<b> Conclusão: </b> confirmada.\n",
    "- A variável de chute médio por partida tem uma correlação moderada-forte com o número de vitórias;\n",
    "- A variável da soma de chutes por time tem uma correlação forte com o número de vitórias"
   ]
  },
  {
   "cell_type": "markdown",
   "id": "ad732005",
   "metadata": {},
   "source": [
    "## 4.3 O time que tem maior posse de bola é o mais vencedor"
   ]
  },
  {
   "cell_type": "markdown",
   "id": "b23d6281",
   "metadata": {},
   "source": [
    "Como o número de vitórias está relacionado com o número de partidas, uma coluna indicando quantas foram jogadas ao longo das temporadas será criada. E, para retirar o efeito da escala, será obtida a razão do número de vitórias pelo número de jogos."
   ]
  },
  {
   "cell_type": "code",
   "execution_count": 377,
   "id": "8a09432a",
   "metadata": {
    "ExecuteTime": {
     "end_time": "2022-03-24T20:36:15.564494Z",
     "start_time": "2022-03-24T20:36:15.536900Z"
    }
   },
   "outputs": [
    {
     "data": {
      "text/html": [
       "<div>\n",
       "<style scoped>\n",
       "    .dataframe tbody tr th:only-of-type {\n",
       "        vertical-align: middle;\n",
       "    }\n",
       "\n",
       "    .dataframe tbody tr th {\n",
       "        vertical-align: top;\n",
       "    }\n",
       "\n",
       "    .dataframe thead th {\n",
       "        text-align: right;\n",
       "    }\n",
       "</style>\n",
       "<table border=\"1\" class=\"dataframe\">\n",
       "  <thead>\n",
       "    <tr style=\"text-align: right;\">\n",
       "      <th></th>\n",
       "      <th>n_vitorias</th>\n",
       "      <th>posse_de_bola</th>\n",
       "      <th>n_de_jogos</th>\n",
       "      <th>vitorias_por_jogos</th>\n",
       "    </tr>\n",
       "    <tr>\n",
       "      <th>clube</th>\n",
       "      <th></th>\n",
       "      <th></th>\n",
       "      <th></th>\n",
       "      <th></th>\n",
       "    </tr>\n",
       "  </thead>\n",
       "  <tbody>\n",
       "    <tr>\n",
       "      <th>flamengo</th>\n",
       "      <td>70</td>\n",
       "      <td>0.599115</td>\n",
       "      <td>113</td>\n",
       "      <td>0.619469</td>\n",
       "    </tr>\n",
       "    <tr>\n",
       "      <th>atletico-mg</th>\n",
       "      <td>59</td>\n",
       "      <td>0.559000</td>\n",
       "      <td>110</td>\n",
       "      <td>0.536364</td>\n",
       "    </tr>\n",
       "    <tr>\n",
       "      <th>palmeiras</th>\n",
       "      <td>56</td>\n",
       "      <td>0.506071</td>\n",
       "      <td>112</td>\n",
       "      <td>0.500000</td>\n",
       "    </tr>\n",
       "    <tr>\n",
       "      <th>athletico-pr</th>\n",
       "      <td>46</td>\n",
       "      <td>0.524255</td>\n",
       "      <td>94</td>\n",
       "      <td>0.489362</td>\n",
       "    </tr>\n",
       "    <tr>\n",
       "      <th>santos</th>\n",
       "      <td>48</td>\n",
       "      <td>0.538421</td>\n",
       "      <td>114</td>\n",
       "      <td>0.421053</td>\n",
       "    </tr>\n",
       "    <tr>\n",
       "      <th>internacional</th>\n",
       "      <td>48</td>\n",
       "      <td>0.512982</td>\n",
       "      <td>114</td>\n",
       "      <td>0.421053</td>\n",
       "    </tr>\n",
       "    <tr>\n",
       "      <th>sao paulo</th>\n",
       "      <td>46</td>\n",
       "      <td>0.559107</td>\n",
       "      <td>112</td>\n",
       "      <td>0.410714</td>\n",
       "    </tr>\n",
       "    <tr>\n",
       "      <th>gremio</th>\n",
       "      <td>45</td>\n",
       "      <td>0.540804</td>\n",
       "      <td>112</td>\n",
       "      <td>0.401786</td>\n",
       "    </tr>\n",
       "    <tr>\n",
       "      <th>fluminense</th>\n",
       "      <td>45</td>\n",
       "      <td>0.520000</td>\n",
       "      <td>113</td>\n",
       "      <td>0.398230</td>\n",
       "    </tr>\n",
       "    <tr>\n",
       "      <th>fortaleza</th>\n",
       "      <td>42</td>\n",
       "      <td>0.483097</td>\n",
       "      <td>113</td>\n",
       "      <td>0.371681</td>\n",
       "    </tr>\n",
       "  </tbody>\n",
       "</table>\n",
       "</div>"
      ],
      "text/plain": [
       "               n_vitorias  posse_de_bola  n_de_jogos  vitorias_por_jogos\n",
       "clube                                                                   \n",
       "flamengo               70       0.599115         113            0.619469\n",
       "atletico-mg            59       0.559000         110            0.536364\n",
       "palmeiras              56       0.506071         112            0.500000\n",
       "athletico-pr           46       0.524255          94            0.489362\n",
       "santos                 48       0.538421         114            0.421053\n",
       "internacional          48       0.512982         114            0.421053\n",
       "sao paulo              46       0.559107         112            0.410714\n",
       "gremio                 45       0.540804         112            0.401786\n",
       "fluminense             45       0.520000         113            0.398230\n",
       "fortaleza              42       0.483097         113            0.371681"
      ]
     },
     "execution_count": 377,
     "metadata": {},
     "output_type": "execute_result"
    }
   ],
   "source": [
    "df_aux43 = pd.concat([df_aux421, df_stats2.groupby('clube').mean()[['posse_de_bola']], df_stats2.groupby(['clube']).count()[['rodada']]], axis = 1)\n",
    "df_aux43 = df_aux43.rename(columns={'rodada': 'n_de_jogos'})\n",
    "df_aux43.loc[:, 'vitorias_por_jogos'] = df_aux43.n_vitorias / df_aux43.n_de_jogos\n",
    "df_aux43.sort_values('vitorias_por_jogos', ascending=False).head(10)"
   ]
  },
  {
   "cell_type": "code",
   "execution_count": 378,
   "id": "83803d8a",
   "metadata": {
    "ExecuteTime": {
     "end_time": "2022-03-24T20:36:15.720804Z",
     "start_time": "2022-03-24T20:36:15.706464Z"
    }
   },
   "outputs": [
    {
     "data": {
      "text/html": [
       "<div>\n",
       "<style scoped>\n",
       "    .dataframe tbody tr th:only-of-type {\n",
       "        vertical-align: middle;\n",
       "    }\n",
       "\n",
       "    .dataframe tbody tr th {\n",
       "        vertical-align: top;\n",
       "    }\n",
       "\n",
       "    .dataframe thead th {\n",
       "        text-align: right;\n",
       "    }\n",
       "</style>\n",
       "<table border=\"1\" class=\"dataframe\">\n",
       "  <thead>\n",
       "    <tr style=\"text-align: right;\">\n",
       "      <th></th>\n",
       "      <th>posse_de_bola</th>\n",
       "      <th>vitorias_por_jogos</th>\n",
       "    </tr>\n",
       "  </thead>\n",
       "  <tbody>\n",
       "    <tr>\n",
       "      <th>posse_de_bola</th>\n",
       "      <td>1.00000</td>\n",
       "      <td>0.72138</td>\n",
       "    </tr>\n",
       "    <tr>\n",
       "      <th>vitorias_por_jogos</th>\n",
       "      <td>0.72138</td>\n",
       "      <td>1.00000</td>\n",
       "    </tr>\n",
       "  </tbody>\n",
       "</table>\n",
       "</div>"
      ],
      "text/plain": [
       "                    posse_de_bola  vitorias_por_jogos\n",
       "posse_de_bola             1.00000             0.72138\n",
       "vitorias_por_jogos        0.72138             1.00000"
      ]
     },
     "execution_count": 378,
     "metadata": {},
     "output_type": "execute_result"
    }
   ],
   "source": [
    "df_aux43.drop(['n_de_jogos', 'n_vitorias'], axis = 1).corr()"
   ]
  },
  {
   "cell_type": "code",
   "execution_count": 379,
   "id": "2065c80b",
   "metadata": {
    "ExecuteTime": {
     "end_time": "2022-03-24T20:36:15.955951Z",
     "start_time": "2022-03-24T20:36:15.834461Z"
    }
   },
   "outputs": [
    {
     "data": {
      "image/png": "[encoded data removed]",
      "text/plain": [
       "<Figure size 432x288 with 1 Axes>"
      ]
     },
     "metadata": {
      "needs_background": "light"
     },
     "output_type": "display_data"
    }
   ],
   "source": [
    "plt.scatter(df_aux43.posse_de_bola, df_aux43.vitorias_por_jogos);\n",
    "plt.hlines(0.5, xmin=0, xmax=1, color='gray', linestyles='dashed')\n",
    "plt.vlines(0.5, ymin=0, ymax=1, color='gray', linestyles='dashed')\n",
    "plt.xlabel('Posse de Bola')\n",
    "plt.ylabel('Vitorias / Jogos');\n",
    "plt.xlim([0, 1]);\n",
    "plt.ylim([0, 1]);"
   ]
  },
  {
   "cell_type": "markdown",
   "id": "f8357793",
   "metadata": {},
   "source": [
    "<b> Constatações: </b>\n",
    "- Existe uma moderada-forte correlação entre posse de bola e o número de vitórias médio.\n",
    "- Nota-se também que a proporção de posse de bola entre os times é de [40%, 60%];"
   ]
  },
  {
   "cell_type": "markdown",
   "id": "a14ab4a5",
   "metadata": {},
   "source": [
    "<b> Conclusões: </b> confirmada.\n",
    "- A posse de bola é determinante no resultado dos jogos."
   ]
  },
  {
   "cell_type": "markdown",
   "id": "24c36aec",
   "metadata": {},
   "source": [
    "#  5.0 Feature Engineering"
   ]
  },
  {
   "cell_type": "code",
   "execution_count": 478,
   "id": "45a9d0b0",
   "metadata": {
    "ExecuteTime": {
     "end_time": "2022-03-24T20:53:53.507543Z",
     "start_time": "2022-03-24T20:53:53.490846Z"
    }
   },
   "outputs": [
    {
     "data": {
      "text/plain": [
       "mandante_chutes              24\n",
       "visitante_chutes             24\n",
       "mandante_chutes_no_alvo      24\n",
       "visitante_chutes_no_alvo     24\n",
       "mandante_posse_de_bola       24\n",
       "visitante_posse_de_bola      24\n",
       "mandante_passes              24\n",
       "visitante_passes             24\n",
       "mandante_precisao_passes     24\n",
       "visitante_precisao_passes    24\n",
       "mandante_faltas              24\n",
       "visitante_faltas             24\n",
       "mandante_cartao_amarelo      24\n",
       "visitante_cartao_amarelo     24\n",
       "mandante_cartao_vermelho     24\n",
       "visitante_cartao_vermelho    24\n",
       "mandante_impedimentos        24\n",
       "visitante_impedimentos       24\n",
       "dtype: int64"
      ]
     },
     "execution_count": 478,
     "metadata": {},
     "output_type": "execute_result"
    }
   ],
   "source": [
    "df4.isna().sum()[df4.isna().sum() > 0]"
   ]
  },
  {
   "cell_type": "code",
   "execution_count": 436,
   "id": "2354fd5e",
   "metadata": {
    "ExecuteTime": {
     "end_time": "2022-03-24T20:44:59.890414Z",
     "start_time": "2022-03-24T20:44:59.883387Z"
    }
   },
   "outputs": [],
   "source": [
    "df5 = df4.copy()"
   ]
  },
  {
   "cell_type": "markdown",
   "id": "ebfaba99",
   "metadata": {},
   "source": [
    "Baseado no artigo referenciado abaixo, as seguintes features serão criadas:\n",
    "- Número de vitórias na temporada;\n",
    "- Número de derrotas do time na temporada;\n",
    "- Número de empates do time na temporada;\n",
    "- Número de vitórias do time em casa (%);\n",
    "- Número de vitórias do time fora de casa (%);\n",
    "- Número de empates do time em casa (%);\n",
    "- Número de empates do time fora de casa (%);\n",
    "- Número de derrotas do time em casa (%);\n",
    "- Número de derrotas do time fora de casa (%);\n",
    "- Sequência de vitórias em casa do time mandante;\n",
    "- Sequência de vitórias em casa do time visitante;\n",
    "- Sequência sem vitórias fora de casa do time mandante;\n",
    "- Sequência sem vitórias fora de casa do time visitante;\n",
    "- O time jogou na última temporada;\n",
    "- Dias desde o último jogo;\n",
    "- Gols marcados essa temporada jogando em casa;\n",
    "- Gols marcados essa temporada jogando fora de casa;\n",
    "- Gols sofridos essa temporada jogando em casa;\n",
    "- Gols sofridos essa temporada jogando fora de casa;\n",
    "- Número de vitórias do mandante contra o adversário;\n",
    "- Número de vitórias do visitante contra o adversário."
   ]
  },
  {
   "cell_type": "markdown",
   "id": "c5e2add6",
   "metadata": {},
   "source": [
    "## 5.1 Wins, loss and draw games "
   ]
  },
  {
   "cell_type": "code",
   "execution_count": 437,
   "id": "0b555f6f",
   "metadata": {
    "ExecuteTime": {
     "end_time": "2022-03-24T20:45:05.742325Z",
     "start_time": "2022-03-24T20:45:00.279460Z"
    }
   },
   "outputs": [],
   "source": [
    "pd.options.mode.chained_assignment = None\n",
    "\n",
    "temporadas = df5['temporada'].value_counts().index.sort_values().values\n",
    "\n",
    "df5['mandante_vitorias'] = df5['mandante']\n",
    "df5['visitante_vitorias'] = df5['mandante']\n",
    "\n",
    "df5['mandante_derrotas'] = df5['mandante']\n",
    "df5['visitante_derrotas'] = df5['mandante']\n",
    "\n",
    "df5['mandante_empates'] = df5['mandante']\n",
    "df5['visitante_empates'] = df5['mandante']\n",
    "\n",
    "for temporada in temporadas:\n",
    "    dft = df5[df5['temporada'] == temporada]\n",
    "    \n",
    "    for index, row in dft.iterrows():\n",
    "        df_home = dft[(dft['rodada'] < row['rodada']) & (dft['mandante'] == row['mandante'])]\n",
    "        c1_wins = 0\n",
    "        c1_loss = 0\n",
    "        c1_draw = 0\n",
    "        for index2, row2 in df_home.iterrows():\n",
    "            if row2['vencedor'] == 0:\n",
    "                c1_draw+=1\n",
    "            elif row2['vencedor'] == 1:\n",
    "                c1_wins+=1\n",
    "            elif row2['vencedor'] == 2:\n",
    "                c1_loss+=1\n",
    "\n",
    "        df_away = dft[(dft['rodada'] < row['rodada']) & (dft['visitante'] == row['mandante'])]\n",
    "        for index2, row2 in df_away.iterrows():\n",
    "            if row2['vencedor'] == 1:\n",
    "                c1_loss+=1                \n",
    "            elif row2['vencedor'] == 0:\n",
    "                c1_draw+=1\n",
    "            elif row2['vencedor'] == 2:\n",
    "                c1_wins+=1\n",
    "\n",
    "\n",
    "        df_home = dft[(dft['rodada'] < row['rodada']) & (dft['mandante'] == row['visitante'])]\n",
    "        c2_wins = 0\n",
    "        c2_loss = 0\n",
    "        c2_draw = 0\n",
    "        for index2, row2 in df_home.iterrows():\n",
    "            if row2['vencedor'] == 0:\n",
    "                c2_draw+=1\n",
    "            elif row2['vencedor'] == 1:\n",
    "                c2_wins+=1                \n",
    "            elif row2['vencedor'] == 2:\n",
    "                c2_loss+=1\n",
    "\n",
    "        df_away = dft[(dft['rodada'] < row['rodada']) & (dft['visitante'] == row['visitante'])]\n",
    "        for index2, row2 in df_away.iterrows():\n",
    "            if row2['vencedor'] == 1:\n",
    "                c2_loss+=1                \n",
    "            elif row2['vencedor'] == 0:\n",
    "                c2_draw+=1\n",
    "            elif row2['vencedor'] == 2:\n",
    "                c2_wins+=1\n",
    "                \n",
    "\n",
    "\n",
    "        df5.at[index, 'mandante_vitorias'] = c1_wins\n",
    "        df5.at[index, 'visitante_vitorias'] = c2_wins\n",
    "        \n",
    "        df5.at[index, 'mandante_derrotas'] = c1_loss\n",
    "        df5.at[index, 'visitante_derrotas'] = c2_loss\n",
    "        \n",
    "        df5.at[index, 'mandante_empates'] = c1_draw\n",
    "        df5.at[index, 'visitante_empates'] = c2_draw"
   ]
  },
  {
   "cell_type": "code",
   "execution_count": 438,
   "id": "712c26e4",
   "metadata": {
    "ExecuteTime": {
     "end_time": "2022-03-24T20:45:05.765670Z",
     "start_time": "2022-03-24T20:45:05.744327Z"
    }
   },
   "outputs": [
    {
     "data": {
      "text/html": [
       "<div>\n",
       "<style scoped>\n",
       "    .dataframe tbody tr th:only-of-type {\n",
       "        vertical-align: middle;\n",
       "    }\n",
       "\n",
       "    .dataframe tbody tr th {\n",
       "        vertical-align: top;\n",
       "    }\n",
       "\n",
       "    .dataframe thead th {\n",
       "        text-align: right;\n",
       "    }\n",
       "</style>\n",
       "<table border=\"1\" class=\"dataframe\">\n",
       "  <thead>\n",
       "    <tr style=\"text-align: right;\">\n",
       "      <th></th>\n",
       "      <th>ID</th>\n",
       "      <th>rodada</th>\n",
       "      <th>temporada</th>\n",
       "      <th>data</th>\n",
       "      <th>hora</th>\n",
       "      <th>dia</th>\n",
       "      <th>mandante</th>\n",
       "      <th>visitante</th>\n",
       "      <th>formacao_mandante</th>\n",
       "      <th>formacao_visitante</th>\n",
       "      <th>...</th>\n",
       "      <th>mandante_cartao_vermelho</th>\n",
       "      <th>visitante_cartao_vermelho</th>\n",
       "      <th>mandante_impedimentos</th>\n",
       "      <th>visitante_impedimentos</th>\n",
       "      <th>mandante_vitorias</th>\n",
       "      <th>visitante_vitorias</th>\n",
       "      <th>mandante_derrotas</th>\n",
       "      <th>visitante_derrotas</th>\n",
       "      <th>mandante_empates</th>\n",
       "      <th>visitante_empates</th>\n",
       "    </tr>\n",
       "  </thead>\n",
       "  <tbody>\n",
       "    <tr>\n",
       "      <th>0</th>\n",
       "      <td>6506</td>\n",
       "      <td>1</td>\n",
       "      <td>2019</td>\n",
       "      <td>2019-04-27</td>\n",
       "      <td>16:02</td>\n",
       "      <td>sabado</td>\n",
       "      <td>sao paulo</td>\n",
       "      <td>botafogo-rj</td>\n",
       "      <td>4-2-3-1</td>\n",
       "      <td>4-1-4-1</td>\n",
       "      <td>...</td>\n",
       "      <td>0.0</td>\n",
       "      <td>0.0</td>\n",
       "      <td>2.0</td>\n",
       "      <td>1.0</td>\n",
       "      <td>0</td>\n",
       "      <td>0</td>\n",
       "      <td>0</td>\n",
       "      <td>0</td>\n",
       "      <td>0</td>\n",
       "      <td>0</td>\n",
       "    </tr>\n",
       "    <tr>\n",
       "      <th>1</th>\n",
       "      <td>6507</td>\n",
       "      <td>1</td>\n",
       "      <td>2019</td>\n",
       "      <td>2019-04-27</td>\n",
       "      <td>19:00</td>\n",
       "      <td>sabado</td>\n",
       "      <td>atletico-mg</td>\n",
       "      <td>avai</td>\n",
       "      <td>4-2-3-1</td>\n",
       "      <td>4-1-4-1</td>\n",
       "      <td>...</td>\n",
       "      <td>0.0</td>\n",
       "      <td>0.0</td>\n",
       "      <td>0.0</td>\n",
       "      <td>1.0</td>\n",
       "      <td>0</td>\n",
       "      <td>0</td>\n",
       "      <td>0</td>\n",
       "      <td>0</td>\n",
       "      <td>0</td>\n",
       "      <td>0</td>\n",
       "    </tr>\n",
       "    <tr>\n",
       "      <th>2</th>\n",
       "      <td>6508</td>\n",
       "      <td>1</td>\n",
       "      <td>2019</td>\n",
       "      <td>2019-04-27</td>\n",
       "      <td>19:01</td>\n",
       "      <td>sabado</td>\n",
       "      <td>chapecoense</td>\n",
       "      <td>internacional</td>\n",
       "      <td>4-2-3-1</td>\n",
       "      <td>4-3-3</td>\n",
       "      <td>...</td>\n",
       "      <td>0.0</td>\n",
       "      <td>0.0</td>\n",
       "      <td>0.0</td>\n",
       "      <td>2.0</td>\n",
       "      <td>0</td>\n",
       "      <td>0</td>\n",
       "      <td>0</td>\n",
       "      <td>0</td>\n",
       "      <td>0</td>\n",
       "      <td>0</td>\n",
       "    </tr>\n",
       "    <tr>\n",
       "      <th>3</th>\n",
       "      <td>6509</td>\n",
       "      <td>1</td>\n",
       "      <td>2019</td>\n",
       "      <td>2019-04-27</td>\n",
       "      <td>21:00</td>\n",
       "      <td>sabado</td>\n",
       "      <td>flamengo</td>\n",
       "      <td>cruzeiro</td>\n",
       "      <td>4-2-3-1</td>\n",
       "      <td>4-2-3-1</td>\n",
       "      <td>...</td>\n",
       "      <td>0.0</td>\n",
       "      <td>1.0</td>\n",
       "      <td>0.0</td>\n",
       "      <td>1.0</td>\n",
       "      <td>0</td>\n",
       "      <td>0</td>\n",
       "      <td>0</td>\n",
       "      <td>0</td>\n",
       "      <td>0</td>\n",
       "      <td>0</td>\n",
       "    </tr>\n",
       "    <tr>\n",
       "      <th>4</th>\n",
       "      <td>6510</td>\n",
       "      <td>1</td>\n",
       "      <td>2019</td>\n",
       "      <td>2019-04-28</td>\n",
       "      <td>11:03</td>\n",
       "      <td>domingo</td>\n",
       "      <td>gremio</td>\n",
       "      <td>santos</td>\n",
       "      <td>4-2-3-1</td>\n",
       "      <td>3-4-1-2</td>\n",
       "      <td>...</td>\n",
       "      <td>0.0</td>\n",
       "      <td>1.0</td>\n",
       "      <td>2.0</td>\n",
       "      <td>1.0</td>\n",
       "      <td>0</td>\n",
       "      <td>0</td>\n",
       "      <td>0</td>\n",
       "      <td>0</td>\n",
       "      <td>0</td>\n",
       "      <td>0</td>\n",
       "    </tr>\n",
       "  </tbody>\n",
       "</table>\n",
       "<p>5 rows × 44 columns</p>\n",
       "</div>"
      ],
      "text/plain": [
       "     ID  rodada  temporada       data   hora      dia     mandante  \\\n",
       "0  6506       1       2019 2019-04-27  16:02   sabado    sao paulo   \n",
       "1  6507       1       2019 2019-04-27  19:00   sabado  atletico-mg   \n",
       "2  6508       1       2019 2019-04-27  19:01   sabado  chapecoense   \n",
       "3  6509       1       2019 2019-04-27  21:00   sabado     flamengo   \n",
       "4  6510       1       2019 2019-04-28  11:03  domingo       gremio   \n",
       "\n",
       "       visitante formacao_mandante formacao_visitante  ...  \\\n",
       "0    botafogo-rj           4-2-3-1            4-1-4-1  ...   \n",
       "1           avai           4-2-3-1            4-1-4-1  ...   \n",
       "2  internacional           4-2-3-1              4-3-3  ...   \n",
       "3       cruzeiro           4-2-3-1            4-2-3-1  ...   \n",
       "4         santos           4-2-3-1            3-4-1-2  ...   \n",
       "\n",
       "  mandante_cartao_vermelho visitante_cartao_vermelho  mandante_impedimentos  \\\n",
       "0                      0.0                       0.0                    2.0   \n",
       "1                      0.0                       0.0                    0.0   \n",
       "2                      0.0                       0.0                    0.0   \n",
       "3                      0.0                       1.0                    0.0   \n",
       "4                      0.0                       1.0                    2.0   \n",
       "\n",
       "  visitante_impedimentos  mandante_vitorias  visitante_vitorias  \\\n",
       "0                    1.0                  0                   0   \n",
       "1                    1.0                  0                   0   \n",
       "2                    2.0                  0                   0   \n",
       "3                    1.0                  0                   0   \n",
       "4                    1.0                  0                   0   \n",
       "\n",
       "  mandante_derrotas visitante_derrotas mandante_empates  visitante_empates  \n",
       "0                 0                  0                0                  0  \n",
       "1                 0                  0                0                  0  \n",
       "2                 0                  0                0                  0  \n",
       "3                 0                  0                0                  0  \n",
       "4                 0                  0                0                  0  \n",
       "\n",
       "[5 rows x 44 columns]"
      ]
     },
     "execution_count": 438,
     "metadata": {},
     "output_type": "execute_result"
    }
   ],
   "source": [
    "df5.head()"
   ]
  },
  {
   "cell_type": "markdown",
   "id": "c39d7711",
   "metadata": {},
   "source": [
    "## 5.2 Wins, loss and draw games as home or away team"
   ]
  },
  {
   "cell_type": "code",
   "execution_count": 439,
   "id": "4090095a",
   "metadata": {
    "ExecuteTime": {
     "end_time": "2022-03-24T20:45:05.842024Z",
     "start_time": "2022-03-24T20:45:05.767211Z"
    }
   },
   "outputs": [],
   "source": [
    "def find_wins_home(ser):\n",
    "    wins = [0]\n",
    "    \n",
    "    [wins.append(wins[-1]+1) if win==0 else wins.append(wins[-1]) for win in ser.values]\n",
    "    \n",
    "    return wins[0:-1]\n",
    "\n",
    "def find_wins_away(ser):\n",
    "    wins = [0]\n",
    "    \n",
    "    [wins.append(wins[-1]+1) if win==1 else wins.append(wins[-1]) for win in ser.values]\n",
    "    \n",
    "    return wins[0:-1]\n",
    "\n",
    "def find_draws(ser):\n",
    "    wins = [0]\n",
    "    \n",
    "    [wins.append(wins[-1]+1) if win==2 else wins.append(wins[-1]) for win in ser.values]\n",
    "    \n",
    "    return wins[0:-1]\n",
    "\n",
    "df5['vitorias_como_mandante'] = df5.groupby(['temporada', 'mandante'])['vencedor'].transform(lambda x: find_wins_home(x))\n",
    "df5['derrotas_como_mandante'] = df5.groupby(['temporada', 'mandante'])['vencedor'].transform(lambda x: find_wins_away(x))\n",
    "df5['vitorias_como_visitante'] = df5.groupby(['temporada', 'visitante'])['vencedor'].transform(lambda x: find_wins_away(x))\n",
    "df5['derrotas_como_visitante'] = df5.groupby(['temporada', 'visitante'])['vencedor'].transform(lambda x: find_wins_home(x))\n",
    "df5['empates_como_mandante'] = df5.groupby(['temporada', 'mandante'])['vencedor'].transform(lambda x: find_draws(x)) \n",
    "df5['empates_como_visitante'] = df5.groupby(['temporada', 'visitante'])['vencedor'].transform(lambda x: find_draws(x))"
   ]
  },
  {
   "cell_type": "markdown",
   "id": "72d1325c",
   "metadata": {},
   "source": [
    "## 5.3 Wins streaks "
   ]
  },
  {
   "cell_type": "code",
   "execution_count": 440,
   "id": "9339210c",
   "metadata": {
    "ExecuteTime": {
     "end_time": "2022-03-24T20:45:05.849352Z",
     "start_time": "2022-03-24T20:45:05.844137Z"
    }
   },
   "outputs": [],
   "source": [
    "df5['vitorias_do_mandante'] = [1 if x == 0 else 0 for x in df5['vencedor'].values]\n",
    "df5['vitorias_do_visitante'] = [1 if x == 1 else 0 for x in df5['vencedor'].values]"
   ]
  },
  {
   "cell_type": "code",
   "execution_count": 441,
   "id": "1bea721b",
   "metadata": {
    "ExecuteTime": {
     "end_time": "2022-03-24T20:45:05.899548Z",
     "start_time": "2022-03-24T20:45:05.851440Z"
    }
   },
   "outputs": [],
   "source": [
    "def find_streak(ser):\n",
    "    streak = [0]\n",
    "    \n",
    "    [streak.append(streak[-1]+1) if win==1 else streak.append(0) for win in ser.values]\n",
    "    \n",
    "    return streak[0:-1]\n",
    "\n",
    "df5['mandante_sequencia_vitorias'] =  df5.groupby(['temporada', 'mandante'])['vitorias_do_mandante'].transform(lambda x: find_streak(x))\n",
    "df5['mandante_sequencia_derrotas'] =  df5.groupby(['temporada', 'mandante'])['vitorias_do_visitante'].transform(lambda x: find_streak(x))\n",
    "df5['visitante_sequencia_vitorias'] = df5.groupby(['temporada', 'visitante'])['vitorias_do_visitante'].transform(lambda x: find_streak(x))\n",
    "df5['visitante_sequencia_derrotas'] = df5.groupby(['temporada', 'visitante'])['vitorias_do_mandante'].transform(lambda x: find_streak(x))\n"
   ]
  },
  {
   "cell_type": "code",
   "execution_count": 442,
   "id": "c67ebadc",
   "metadata": {
    "ExecuteTime": {
     "end_time": "2022-03-24T20:45:05.905660Z",
     "start_time": "2022-03-24T20:45:05.901065Z"
    }
   },
   "outputs": [],
   "source": [
    "df5 = df5.drop(['vitorias_do_mandante', 'vitorias_do_visitante'], axis = 1)"
   ]
  },
  {
   "cell_type": "markdown",
   "id": "5be0389e",
   "metadata": {},
   "source": [
    "## 5.4 Goals "
   ]
  },
  {
   "cell_type": "code",
   "execution_count": 443,
   "id": "e7e5d06b",
   "metadata": {
    "ExecuteTime": {
     "end_time": "2022-03-24T20:45:05.956441Z",
     "start_time": "2022-03-24T20:45:05.907340Z"
    }
   },
   "outputs": [],
   "source": [
    "def find_goals(ser):\n",
    "    goals = [0]\n",
    "    \n",
    "    [goals.append(goals[-1]+goal) for goal in ser.values]\n",
    "    \n",
    "    return goals[0:-1]\n",
    "\n",
    "df5['gols_marcados_mandante'] =  df5.groupby(['temporada', 'mandante'])['mandante_placar'].transform(lambda x: find_goals(x))\n",
    "df5['gols_sofridos_mandante'] =  df5.groupby(['temporada', 'mandante'])['visitante_placar'].transform(lambda x: find_goals(x))\n",
    "\n",
    "df5['gols_marcados_visitante'] = df5.groupby(['temporada', 'visitante'])['visitante_placar'].transform(lambda x: find_goals(x))\n",
    "df5['gols_sofridos_visitante'] = df5.groupby(['temporada', 'visitante'])['mandante_placar'].transform(lambda x: find_goals(x))"
   ]
  },
  {
   "cell_type": "markdown",
   "id": "ff616ea3",
   "metadata": {},
   "source": [
    "## 5.5 Days since last game "
   ]
  },
  {
   "cell_type": "code",
   "execution_count": 444,
   "id": "c1de4faf",
   "metadata": {
    "ExecuteTime": {
     "end_time": "2022-03-24T20:45:09.168379Z",
     "start_time": "2022-03-24T20:45:05.958091Z"
    }
   },
   "outputs": [],
   "source": [
    "temporadas = df5['temporada'].value_counts().index.sort_values().values\n",
    "\n",
    "\n",
    "df5['dias_entre_jogos_mandante'] = 0\n",
    "df5['dias_entre_jogos_visitante'] = 0\n",
    "\n",
    "\n",
    "for temporada in temporadas:\n",
    "    dft = df5[df5['temporada'] == temporada]\n",
    "    \n",
    "    for index, row in dft.iterrows():\n",
    "        dfc = dft[(dft['data'] <= row['data']) & ((dft['mandante'] == row['mandante']) | (dft['visitante'] == row['mandante']))]\n",
    "        days_bet = ((dfc['data'] - dfc['data'].shift()).dt.days).values[-1]\n",
    "        if math.isnan(days_bet):\n",
    "            df5.at[index, 'dias_entre_jogos_mandante'] = 5\n",
    "        else:\n",
    "            df5.at[index, 'dias_entre_jogos_mandante'] = days_bet\n",
    "            \n",
    "        dfc = dft[(dft['data'] <= row['data']) & ((dft['mandante'] == row['visitante']) | (dft['visitante'] == row['visitante']))]\n",
    "        days_bet_away = ((dfc['data'] - dfc['data'].shift()).dt.days).values[-1]\n",
    "        if math.isnan(days_bet_away):\n",
    "            df5.at[index, 'dias_entre_jogos_visitante'] = 5\n",
    "        else:\n",
    "            df5.at[index, 'dias_entre_jogos_visitante'] = days_bet_away"
   ]
  },
  {
   "cell_type": "markdown",
   "id": "e582d1e2",
   "metadata": {},
   "source": [
    "## 5.6 Was promoted? "
   ]
  },
  {
   "cell_type": "code",
   "execution_count": 445,
   "id": "655a4fa4",
   "metadata": {
    "ExecuteTime": {
     "end_time": "2022-03-24T20:45:09.589906Z",
     "start_time": "2022-03-24T20:45:09.170258Z"
    }
   },
   "outputs": [],
   "source": [
    "temporadas = df5['temporada'].value_counts().index.sort_values().values\n",
    "\n",
    "df5['mandante_subiu'] = 0\n",
    "df5['visitante_subiu'] = 0\n",
    "\n",
    "for temporada in temporadas[1:]:\n",
    "    dft = df5[df5['temporada'] == temporada]\n",
    "    \n",
    "    dfw = df5[df5['temporada'] == temporada-1]\n",
    "    \n",
    "    for index, row in dft.iterrows():\n",
    "        last_year_clubs = dfw['mandante'].value_counts().index.sort_values().values\n",
    "        \n",
    "        home_club = row['mandante']\n",
    "        if home_club in last_year_clubs:\n",
    "            df5.at[index, 'mandante_subiu'] = 0\n",
    "        else:\n",
    "            df5.at[index, 'mandante_subiu'] = 1\n",
    "        \n",
    "        away_club = row['visitante']\n",
    "        if away_club in last_year_clubs:\n",
    "            df5.at[index, 'visitante_subiu'] = 0\n",
    "        else:\n",
    "            df5.at[index, 'visitante_subiu'] = 1"
   ]
  },
  {
   "cell_type": "markdown",
   "id": "0c92759d",
   "metadata": {},
   "source": [
    "## 5.7 Confrontations "
   ]
  },
  {
   "cell_type": "code",
   "execution_count": 446,
   "id": "f4f0def4",
   "metadata": {
    "ExecuteTime": {
     "end_time": "2022-03-24T20:45:10.690185Z",
     "start_time": "2022-03-24T20:45:09.593276Z"
    }
   },
   "outputs": [],
   "source": [
    "df5['mandante_vitorias_contra_visitante'] = 0\n",
    "df5['visitante_vitorias_contra_mandante'] = 0\n",
    "df5['empates_historico'] = 0\n",
    "\n",
    "clubs = df5['mandante'].value_counts().index.sort_values().values\n",
    "\n",
    "for club1 in clubs:\n",
    "    for club2 in clubs:\n",
    "        dfc = df5[((df5['mandante'] == club1) & (df5['visitante'] == club2)) | ((df5['visitante'] == club1) & (df5['mandante'] == club2))]\n",
    "        win_home = 0\n",
    "        win_away = 0\n",
    "        draws = 0\n",
    "        for index, row in dfc.iterrows():\n",
    "            df5.at[index, 'mandante_vitorias_contra_visitante'] = win_home\n",
    "            df5.at[index, 'visitante_vitorias_contra_mandante'] = win_away\n",
    "            df5.at[index, 'empates_historico'] = draws\n",
    "            \n",
    "            if row['vencedor'] == 0:\n",
    "                win_home +=1\n",
    "            elif row['vencedor'] == 1:\n",
    "                win_away +=1\n",
    "            else:\n",
    "                draws+=1"
   ]
  },
  {
   "cell_type": "markdown",
   "id": "f16a212d",
   "metadata": {},
   "source": [
    "## 5.8 Checking all features "
   ]
  },
  {
   "cell_type": "code",
   "execution_count": 447,
   "id": "23c925d8",
   "metadata": {
    "ExecuteTime": {
     "end_time": "2022-03-24T20:45:10.708081Z",
     "start_time": "2022-03-24T20:45:10.691863Z"
    }
   },
   "outputs": [
    {
     "data": {
      "text/html": [
       "<div>\n",
       "<style scoped>\n",
       "    .dataframe tbody tr th:only-of-type {\n",
       "        vertical-align: middle;\n",
       "    }\n",
       "\n",
       "    .dataframe tbody tr th {\n",
       "        vertical-align: top;\n",
       "    }\n",
       "\n",
       "    .dataframe thead th {\n",
       "        text-align: right;\n",
       "    }\n",
       "</style>\n",
       "<table border=\"1\" class=\"dataframe\">\n",
       "  <thead>\n",
       "    <tr style=\"text-align: right;\">\n",
       "      <th></th>\n",
       "      <th>ID</th>\n",
       "      <th>rodada</th>\n",
       "      <th>temporada</th>\n",
       "      <th>data</th>\n",
       "      <th>hora</th>\n",
       "      <th>dia</th>\n",
       "      <th>mandante</th>\n",
       "      <th>visitante</th>\n",
       "      <th>formacao_mandante</th>\n",
       "      <th>formacao_visitante</th>\n",
       "      <th>...</th>\n",
       "      <th>gols_sofridos_mandante</th>\n",
       "      <th>gols_marcados_visitante</th>\n",
       "      <th>gols_sofridos_visitante</th>\n",
       "      <th>dias_entre_jogos_mandante</th>\n",
       "      <th>dias_entre_jogos_visitante</th>\n",
       "      <th>mandante_subiu</th>\n",
       "      <th>visitante_subiu</th>\n",
       "      <th>mandante_vitorias_contra_visitante</th>\n",
       "      <th>visitante_vitorias_contra_mandante</th>\n",
       "      <th>empates_historico</th>\n",
       "    </tr>\n",
       "  </thead>\n",
       "  <tbody>\n",
       "    <tr>\n",
       "      <th>0</th>\n",
       "      <td>6506</td>\n",
       "      <td>1</td>\n",
       "      <td>2019</td>\n",
       "      <td>2019-04-27</td>\n",
       "      <td>16:02</td>\n",
       "      <td>sabado</td>\n",
       "      <td>sao paulo</td>\n",
       "      <td>botafogo-rj</td>\n",
       "      <td>4-2-3-1</td>\n",
       "      <td>4-1-4-1</td>\n",
       "      <td>...</td>\n",
       "      <td>0</td>\n",
       "      <td>0</td>\n",
       "      <td>0</td>\n",
       "      <td>5</td>\n",
       "      <td>5</td>\n",
       "      <td>0</td>\n",
       "      <td>0</td>\n",
       "      <td>0</td>\n",
       "      <td>0</td>\n",
       "      <td>0</td>\n",
       "    </tr>\n",
       "    <tr>\n",
       "      <th>1</th>\n",
       "      <td>6507</td>\n",
       "      <td>1</td>\n",
       "      <td>2019</td>\n",
       "      <td>2019-04-27</td>\n",
       "      <td>19:00</td>\n",
       "      <td>sabado</td>\n",
       "      <td>atletico-mg</td>\n",
       "      <td>avai</td>\n",
       "      <td>4-2-3-1</td>\n",
       "      <td>4-1-4-1</td>\n",
       "      <td>...</td>\n",
       "      <td>0</td>\n",
       "      <td>0</td>\n",
       "      <td>0</td>\n",
       "      <td>5</td>\n",
       "      <td>5</td>\n",
       "      <td>0</td>\n",
       "      <td>0</td>\n",
       "      <td>0</td>\n",
       "      <td>0</td>\n",
       "      <td>0</td>\n",
       "    </tr>\n",
       "    <tr>\n",
       "      <th>2</th>\n",
       "      <td>6508</td>\n",
       "      <td>1</td>\n",
       "      <td>2019</td>\n",
       "      <td>2019-04-27</td>\n",
       "      <td>19:01</td>\n",
       "      <td>sabado</td>\n",
       "      <td>chapecoense</td>\n",
       "      <td>internacional</td>\n",
       "      <td>4-2-3-1</td>\n",
       "      <td>4-3-3</td>\n",
       "      <td>...</td>\n",
       "      <td>0</td>\n",
       "      <td>0</td>\n",
       "      <td>0</td>\n",
       "      <td>5</td>\n",
       "      <td>5</td>\n",
       "      <td>0</td>\n",
       "      <td>0</td>\n",
       "      <td>0</td>\n",
       "      <td>0</td>\n",
       "      <td>0</td>\n",
       "    </tr>\n",
       "    <tr>\n",
       "      <th>3</th>\n",
       "      <td>6509</td>\n",
       "      <td>1</td>\n",
       "      <td>2019</td>\n",
       "      <td>2019-04-27</td>\n",
       "      <td>21:00</td>\n",
       "      <td>sabado</td>\n",
       "      <td>flamengo</td>\n",
       "      <td>cruzeiro</td>\n",
       "      <td>4-2-3-1</td>\n",
       "      <td>4-2-3-1</td>\n",
       "      <td>...</td>\n",
       "      <td>0</td>\n",
       "      <td>0</td>\n",
       "      <td>0</td>\n",
       "      <td>5</td>\n",
       "      <td>5</td>\n",
       "      <td>0</td>\n",
       "      <td>0</td>\n",
       "      <td>0</td>\n",
       "      <td>0</td>\n",
       "      <td>0</td>\n",
       "    </tr>\n",
       "    <tr>\n",
       "      <th>4</th>\n",
       "      <td>6510</td>\n",
       "      <td>1</td>\n",
       "      <td>2019</td>\n",
       "      <td>2019-04-28</td>\n",
       "      <td>11:03</td>\n",
       "      <td>domingo</td>\n",
       "      <td>gremio</td>\n",
       "      <td>santos</td>\n",
       "      <td>4-2-3-1</td>\n",
       "      <td>3-4-1-2</td>\n",
       "      <td>...</td>\n",
       "      <td>0</td>\n",
       "      <td>0</td>\n",
       "      <td>0</td>\n",
       "      <td>5</td>\n",
       "      <td>5</td>\n",
       "      <td>0</td>\n",
       "      <td>0</td>\n",
       "      <td>0</td>\n",
       "      <td>0</td>\n",
       "      <td>0</td>\n",
       "    </tr>\n",
       "  </tbody>\n",
       "</table>\n",
       "<p>5 rows × 65 columns</p>\n",
       "</div>"
      ],
      "text/plain": [
       "     ID  rodada  temporada       data   hora      dia     mandante  \\\n",
       "0  6506       1       2019 2019-04-27  16:02   sabado    sao paulo   \n",
       "1  6507       1       2019 2019-04-27  19:00   sabado  atletico-mg   \n",
       "2  6508       1       2019 2019-04-27  19:01   sabado  chapecoense   \n",
       "3  6509       1       2019 2019-04-27  21:00   sabado     flamengo   \n",
       "4  6510       1       2019 2019-04-28  11:03  domingo       gremio   \n",
       "\n",
       "       visitante formacao_mandante formacao_visitante  ...  \\\n",
       "0    botafogo-rj           4-2-3-1            4-1-4-1  ...   \n",
       "1           avai           4-2-3-1            4-1-4-1  ...   \n",
       "2  internacional           4-2-3-1              4-3-3  ...   \n",
       "3       cruzeiro           4-2-3-1            4-2-3-1  ...   \n",
       "4         santos           4-2-3-1            3-4-1-2  ...   \n",
       "\n",
       "  gols_sofridos_mandante gols_marcados_visitante  gols_sofridos_visitante  \\\n",
       "0                      0                       0                        0   \n",
       "1                      0                       0                        0   \n",
       "2                      0                       0                        0   \n",
       "3                      0                       0                        0   \n",
       "4                      0                       0                        0   \n",
       "\n",
       "  dias_entre_jogos_mandante  dias_entre_jogos_visitante  mandante_subiu  \\\n",
       "0                         5                           5               0   \n",
       "1                         5                           5               0   \n",
       "2                         5                           5               0   \n",
       "3                         5                           5               0   \n",
       "4                         5                           5               0   \n",
       "\n",
       "  visitante_subiu mandante_vitorias_contra_visitante  \\\n",
       "0               0                                  0   \n",
       "1               0                                  0   \n",
       "2               0                                  0   \n",
       "3               0                                  0   \n",
       "4               0                                  0   \n",
       "\n",
       "  visitante_vitorias_contra_mandante  empates_historico  \n",
       "0                                  0                  0  \n",
       "1                                  0                  0  \n",
       "2                                  0                  0  \n",
       "3                                  0                  0  \n",
       "4                                  0                  0  \n",
       "\n",
       "[5 rows x 65 columns]"
      ]
     },
     "execution_count": 447,
     "metadata": {},
     "output_type": "execute_result"
    }
   ],
   "source": [
    "df5.head()"
   ]
  },
  {
   "cell_type": "code",
   "execution_count": 448,
   "id": "fdd61f4b",
   "metadata": {
    "ExecuteTime": {
     "end_time": "2022-03-24T20:45:10.717317Z",
     "start_time": "2022-03-24T20:45:10.709558Z"
    }
   },
   "outputs": [
    {
     "data": {
      "text/plain": [
       "['ID',\n",
       " 'rodada',\n",
       " 'temporada',\n",
       " 'data',\n",
       " 'hora',\n",
       " 'dia',\n",
       " 'mandante',\n",
       " 'visitante',\n",
       " 'formacao_mandante',\n",
       " 'formacao_visitante',\n",
       " 'tecnico_mandante',\n",
       " 'tecnico_visitante',\n",
       " 'vencedor',\n",
       " 'arena',\n",
       " 'mandante_placar',\n",
       " 'visitante_placar',\n",
       " 'mandante_estado',\n",
       " 'visitante_estado',\n",
       " 'estado_vencedor',\n",
       " 'total_de_gols',\n",
       " 'mandante_chutes',\n",
       " 'visitante_chutes',\n",
       " 'mandante_chutes_no_alvo',\n",
       " 'visitante_chutes_no_alvo',\n",
       " 'mandante_posse_de_bola',\n",
       " 'visitante_posse_de_bola',\n",
       " 'mandante_passes',\n",
       " 'visitante_passes',\n",
       " 'mandante_precisao_passes',\n",
       " 'visitante_precisao_passes',\n",
       " 'mandante_faltas',\n",
       " 'visitante_faltas',\n",
       " 'mandante_cartao_amarelo',\n",
       " 'visitante_cartao_amarelo',\n",
       " 'mandante_cartao_vermelho',\n",
       " 'visitante_cartao_vermelho',\n",
       " 'mandante_impedimentos',\n",
       " 'visitante_impedimentos',\n",
       " 'mandante_vitorias',\n",
       " 'visitante_vitorias',\n",
       " 'mandante_derrotas',\n",
       " 'visitante_derrotas',\n",
       " 'mandante_empates',\n",
       " 'visitante_empates',\n",
       " 'vitorias_como_mandante',\n",
       " 'derrotas_como_mandante',\n",
       " 'vitorias_como_visitante',\n",
       " 'derrotas_como_visitante',\n",
       " 'empates_como_mandante',\n",
       " 'empates_como_visitante',\n",
       " 'mandante_sequencia_vitorias',\n",
       " 'mandante_sequencia_derrotas',\n",
       " 'visitante_sequencia_vitorias',\n",
       " 'visitante_sequencia_derrotas',\n",
       " 'gols_marcados_mandante',\n",
       " 'gols_sofridos_mandante',\n",
       " 'gols_marcados_visitante',\n",
       " 'gols_sofridos_visitante',\n",
       " 'dias_entre_jogos_mandante',\n",
       " 'dias_entre_jogos_visitante',\n",
       " 'mandante_subiu',\n",
       " 'visitante_subiu',\n",
       " 'mandante_vitorias_contra_visitante',\n",
       " 'visitante_vitorias_contra_mandante',\n",
       " 'empates_historico']"
      ]
     },
     "execution_count": 448,
     "metadata": {},
     "output_type": "execute_result"
    }
   ],
   "source": [
    "df5.columns.tolist()"
   ]
  },
  {
   "cell_type": "markdown",
   "id": "e71935ed",
   "metadata": {},
   "source": [
    "As features <b>mandante_placar</b> e <b>visitante_placar</b> não devem estar preenchidas, pois estão disponíveis apenas após os jogos. Outras features relacionadas aos eventos da partida em si serão mantidas, pois mesmo que não estejam disponíveis no instante da previsão, poderão ser criados modelos específicos para elas."
   ]
  },
  {
   "cell_type": "code",
   "execution_count": 449,
   "id": "5c417162",
   "metadata": {
    "ExecuteTime": {
     "end_time": "2022-03-24T20:45:10.723852Z",
     "start_time": "2022-03-24T20:45:10.719361Z"
    }
   },
   "outputs": [],
   "source": [
    "df5 = df5.drop(['mandante_placar', 'visitante_placar', 'estado_vencedor'], axis = 1)"
   ]
  },
  {
   "cell_type": "markdown",
   "id": "b400a667",
   "metadata": {},
   "source": [
    "# 6.0 Data Transformation "
   ]
  },
  {
   "cell_type": "code",
   "execution_count": 450,
   "id": "a0089f88",
   "metadata": {
    "ExecuteTime": {
     "end_time": "2022-03-24T20:45:10.731304Z",
     "start_time": "2022-03-24T20:45:10.725323Z"
    }
   },
   "outputs": [],
   "source": [
    "df6 = df5.copy()\n",
    "df6 = df6.drop('ID', axis = 1)"
   ]
  },
  {
   "cell_type": "code",
   "execution_count": 477,
   "id": "1595895c",
   "metadata": {
    "ExecuteTime": {
     "end_time": "2022-03-24T20:53:31.839644Z",
     "start_time": "2022-03-24T20:53:31.828198Z"
    }
   },
   "outputs": [
    {
     "data": {
      "text/plain": [
       "mandante_chutes              24\n",
       "visitante_chutes             24\n",
       "mandante_chutes_no_alvo      24\n",
       "visitante_chutes_no_alvo     24\n",
       "mandante_posse_de_bola       24\n",
       "visitante_posse_de_bola      24\n",
       "mandante_passes              24\n",
       "visitante_passes             24\n",
       "mandante_precisao_passes     24\n",
       "visitante_precisao_passes    24\n",
       "mandante_faltas              24\n",
       "visitante_faltas             24\n",
       "mandante_cartao_amarelo      24\n",
       "visitante_cartao_amarelo     24\n",
       "mandante_cartao_vermelho     24\n",
       "visitante_cartao_vermelho    24\n",
       "mandante_impedimentos        24\n",
       "visitante_impedimentos       24\n",
       "dtype: int64"
      ]
     },
     "execution_count": 477,
     "metadata": {},
     "output_type": "execute_result"
    }
   ],
   "source": [
    "df6.isna().sum()[df6.isna().sum() > 0]"
   ]
  },
  {
   "cell_type": "markdown",
   "id": "7eaea1af",
   "metadata": {},
   "source": [
    "## 6.1 Types "
   ]
  },
  {
   "cell_type": "code",
   "execution_count": 451,
   "id": "3a0c965f",
   "metadata": {
    "ExecuteTime": {
     "end_time": "2022-03-24T20:45:10.739766Z",
     "start_time": "2022-03-24T20:45:10.732753Z"
    }
   },
   "outputs": [
    {
     "data": {
      "text/plain": [
       "['hora',\n",
       " 'dia',\n",
       " 'mandante',\n",
       " 'visitante',\n",
       " 'formacao_mandante',\n",
       " 'formacao_visitante',\n",
       " 'tecnico_mandante',\n",
       " 'tecnico_visitante',\n",
       " 'arena',\n",
       " 'mandante_estado',\n",
       " 'visitante_estado',\n",
       " 'mandante_vitorias',\n",
       " 'visitante_vitorias',\n",
       " 'mandante_derrotas',\n",
       " 'visitante_derrotas',\n",
       " 'mandante_empates',\n",
       " 'visitante_empates']"
      ]
     },
     "execution_count": 451,
     "metadata": {},
     "output_type": "execute_result"
    }
   ],
   "source": [
    "df6.dtypes[df6.dtypes == 'object'].keys().tolist()"
   ]
  },
  {
   "cell_type": "code",
   "execution_count": 452,
   "id": "cf162686",
   "metadata": {
    "ExecuteTime": {
     "end_time": "2022-03-24T20:45:10.750389Z",
     "start_time": "2022-03-24T20:45:10.741183Z"
    }
   },
   "outputs": [],
   "source": [
    "# mandante_vitorias, visitante_vitorias, mandante_derrotas, visitante_derrotas, mandante_empates, visitante_empates podem ser int64\n",
    "df6['mandante_vitorias'] = df6.mandante_vitorias.astype('int64')\n",
    "df6['visitante_vitorias'] = df6.mandante_vitorias.astype('int64')\n",
    "df6['mandante_derrotas'] = df6.mandante_derrotas.astype('int64')\n",
    "df6['visitante_derrotas'] = df6.visitante_derrotas.astype('int64')\n",
    "df6['mandante_empates'] = df6.mandante_empates.astype('int64')\n",
    "df6['visitante_empates'] = df6.visitante_empates.astype('int64')"
   ]
  },
  {
   "cell_type": "markdown",
   "id": "b960bfaa",
   "metadata": {},
   "source": [
    "## 6.2 Nature "
   ]
  },
  {
   "cell_type": "code",
   "execution_count": 453,
   "id": "ec6b486a",
   "metadata": {
    "ExecuteTime": {
     "end_time": "2022-03-24T20:45:10.795355Z",
     "start_time": "2022-03-24T20:45:10.751926Z"
    }
   },
   "outputs": [
    {
     "data": {
      "text/html": [
       "<div>\n",
       "<style scoped>\n",
       "    .dataframe tbody tr th:only-of-type {\n",
       "        vertical-align: middle;\n",
       "    }\n",
       "\n",
       "    .dataframe tbody tr th {\n",
       "        vertical-align: top;\n",
       "    }\n",
       "\n",
       "    .dataframe thead th {\n",
       "        text-align: right;\n",
       "    }\n",
       "</style>\n",
       "<table border=\"1\" class=\"dataframe\">\n",
       "  <thead>\n",
       "    <tr style=\"text-align: right;\">\n",
       "      <th></th>\n",
       "      <th>rodada</th>\n",
       "      <th>temporada</th>\n",
       "      <th>data</th>\n",
       "      <th>dia</th>\n",
       "      <th>mandante</th>\n",
       "      <th>hora_sin</th>\n",
       "      <th>hora_cos</th>\n",
       "      <th>visitante</th>\n",
       "      <th>formacao_mandante</th>\n",
       "      <th>formacao_visitante</th>\n",
       "      <th>...</th>\n",
       "      <th>gols_sofridos_mandante</th>\n",
       "      <th>gols_marcados_visitante</th>\n",
       "      <th>gols_sofridos_visitante</th>\n",
       "      <th>dias_entre_jogos_mandante</th>\n",
       "      <th>dias_entre_jogos_visitante</th>\n",
       "      <th>mandante_subiu</th>\n",
       "      <th>visitante_subiu</th>\n",
       "      <th>mandante_vitorias_contra_visitante</th>\n",
       "      <th>visitante_vitorias_contra_mandante</th>\n",
       "      <th>empates_historico</th>\n",
       "    </tr>\n",
       "  </thead>\n",
       "  <tbody>\n",
       "    <tr>\n",
       "      <th>0</th>\n",
       "      <td>1</td>\n",
       "      <td>2019</td>\n",
       "      <td>2019-04-27</td>\n",
       "      <td>sabado</td>\n",
       "      <td>sao paulo</td>\n",
       "      <td>-0.870356</td>\n",
       "      <td>-0.492424</td>\n",
       "      <td>botafogo-rj</td>\n",
       "      <td>4-2-3-1</td>\n",
       "      <td>4-1-4-1</td>\n",
       "      <td>...</td>\n",
       "      <td>0</td>\n",
       "      <td>0</td>\n",
       "      <td>0</td>\n",
       "      <td>5</td>\n",
       "      <td>5</td>\n",
       "      <td>0</td>\n",
       "      <td>0</td>\n",
       "      <td>0</td>\n",
       "      <td>0</td>\n",
       "      <td>0</td>\n",
       "    </tr>\n",
       "    <tr>\n",
       "      <th>1</th>\n",
       "      <td>1</td>\n",
       "      <td>2019</td>\n",
       "      <td>2019-04-27</td>\n",
       "      <td>sabado</td>\n",
       "      <td>atletico-mg</td>\n",
       "      <td>-0.965926</td>\n",
       "      <td>0.258819</td>\n",
       "      <td>avai</td>\n",
       "      <td>4-2-3-1</td>\n",
       "      <td>4-1-4-1</td>\n",
       "      <td>...</td>\n",
       "      <td>0</td>\n",
       "      <td>0</td>\n",
       "      <td>0</td>\n",
       "      <td>5</td>\n",
       "      <td>5</td>\n",
       "      <td>0</td>\n",
       "      <td>0</td>\n",
       "      <td>0</td>\n",
       "      <td>0</td>\n",
       "      <td>0</td>\n",
       "    </tr>\n",
       "    <tr>\n",
       "      <th>2</th>\n",
       "      <td>1</td>\n",
       "      <td>2019</td>\n",
       "      <td>2019-04-27</td>\n",
       "      <td>sabado</td>\n",
       "      <td>chapecoense</td>\n",
       "      <td>-0.964787</td>\n",
       "      <td>0.263031</td>\n",
       "      <td>internacional</td>\n",
       "      <td>4-2-3-1</td>\n",
       "      <td>4-3-3</td>\n",
       "      <td>...</td>\n",
       "      <td>0</td>\n",
       "      <td>0</td>\n",
       "      <td>0</td>\n",
       "      <td>5</td>\n",
       "      <td>5</td>\n",
       "      <td>0</td>\n",
       "      <td>0</td>\n",
       "      <td>0</td>\n",
       "      <td>0</td>\n",
       "      <td>0</td>\n",
       "    </tr>\n",
       "    <tr>\n",
       "      <th>3</th>\n",
       "      <td>1</td>\n",
       "      <td>2019</td>\n",
       "      <td>2019-04-27</td>\n",
       "      <td>sabado</td>\n",
       "      <td>flamengo</td>\n",
       "      <td>-0.707107</td>\n",
       "      <td>0.707107</td>\n",
       "      <td>cruzeiro</td>\n",
       "      <td>4-2-3-1</td>\n",
       "      <td>4-2-3-1</td>\n",
       "      <td>...</td>\n",
       "      <td>0</td>\n",
       "      <td>0</td>\n",
       "      <td>0</td>\n",
       "      <td>5</td>\n",
       "      <td>5</td>\n",
       "      <td>0</td>\n",
       "      <td>0</td>\n",
       "      <td>0</td>\n",
       "      <td>0</td>\n",
       "      <td>0</td>\n",
       "    </tr>\n",
       "    <tr>\n",
       "      <th>4</th>\n",
       "      <td>1</td>\n",
       "      <td>2019</td>\n",
       "      <td>2019-04-28</td>\n",
       "      <td>domingo</td>\n",
       "      <td>gremio</td>\n",
       "      <td>0.246153</td>\n",
       "      <td>-0.969231</td>\n",
       "      <td>santos</td>\n",
       "      <td>4-2-3-1</td>\n",
       "      <td>3-4-1-2</td>\n",
       "      <td>...</td>\n",
       "      <td>0</td>\n",
       "      <td>0</td>\n",
       "      <td>0</td>\n",
       "      <td>5</td>\n",
       "      <td>5</td>\n",
       "      <td>0</td>\n",
       "      <td>0</td>\n",
       "      <td>0</td>\n",
       "      <td>0</td>\n",
       "      <td>0</td>\n",
       "    </tr>\n",
       "  </tbody>\n",
       "</table>\n",
       "<p>5 rows × 62 columns</p>\n",
       "</div>"
      ],
      "text/plain": [
       "   rodada  temporada       data      dia     mandante  hora_sin  hora_cos  \\\n",
       "0       1       2019 2019-04-27   sabado    sao paulo -0.870356 -0.492424   \n",
       "1       1       2019 2019-04-27   sabado  atletico-mg -0.965926  0.258819   \n",
       "2       1       2019 2019-04-27   sabado  chapecoense -0.964787  0.263031   \n",
       "3       1       2019 2019-04-27   sabado     flamengo -0.707107  0.707107   \n",
       "4       1       2019 2019-04-28  domingo       gremio  0.246153 -0.969231   \n",
       "\n",
       "       visitante formacao_mandante formacao_visitante  ...  \\\n",
       "0    botafogo-rj           4-2-3-1            4-1-4-1  ...   \n",
       "1           avai           4-2-3-1            4-1-4-1  ...   \n",
       "2  internacional           4-2-3-1              4-3-3  ...   \n",
       "3       cruzeiro           4-2-3-1            4-2-3-1  ...   \n",
       "4         santos           4-2-3-1            3-4-1-2  ...   \n",
       "\n",
       "  gols_sofridos_mandante gols_marcados_visitante  gols_sofridos_visitante  \\\n",
       "0                      0                       0                        0   \n",
       "1                      0                       0                        0   \n",
       "2                      0                       0                        0   \n",
       "3                      0                       0                        0   \n",
       "4                      0                       0                        0   \n",
       "\n",
       "  dias_entre_jogos_mandante dias_entre_jogos_visitante mandante_subiu  \\\n",
       "0                         5                          5              0   \n",
       "1                         5                          5              0   \n",
       "2                         5                          5              0   \n",
       "3                         5                          5              0   \n",
       "4                         5                          5              0   \n",
       "\n",
       "   visitante_subiu  mandante_vitorias_contra_visitante  \\\n",
       "0                0                                   0   \n",
       "1                0                                   0   \n",
       "2                0                                   0   \n",
       "3                0                                   0   \n",
       "4                0                                   0   \n",
       "\n",
       "   visitante_vitorias_contra_mandante  empates_historico  \n",
       "0                                   0                  0  \n",
       "1                                   0                  0  \n",
       "2                                   0                  0  \n",
       "3                                   0                  0  \n",
       "4                                   0                  0  \n",
       "\n",
       "[5 rows x 62 columns]"
      ]
     },
     "execution_count": 453,
     "metadata": {},
     "output_type": "execute_result"
    }
   ],
   "source": [
    "# lidando coma hora\n",
    "df6.loc[:,'hora_decimal'] = pd.to_datetime(df6.hora).dt.hour + pd.to_datetime(df6.hora).dt.minute / 60\n",
    "df6['hora_sin_'] = df6['hora_decimal'].apply(lambda x: np.sin(x * (2 * np.pi/24)))\n",
    "df6['hora_cos_'] = df6['hora_decimal'].apply(lambda x: np.cos(x * (2 * np.pi/24)))\n",
    "df6 = df6.drop(['hora', 'hora_decimal'], axis = 1)\n",
    "df6.insert(5, 'hora_sin', df6.hora_sin_)\n",
    "df6.insert(6, 'hora_cos', df6.hora_cos_)\n",
    "df6 = df6.drop(['hora_sin_', 'hora_cos_'], axis = 1)\n",
    "df6.head()"
   ]
  },
  {
   "cell_type": "code",
   "execution_count": 454,
   "id": "39d2cac7",
   "metadata": {
    "ExecuteTime": {
     "end_time": "2022-03-24T20:45:10.803347Z",
     "start_time": "2022-03-24T20:45:10.796869Z"
    }
   },
   "outputs": [
    {
     "data": {
      "text/plain": [
       "['data']"
      ]
     },
     "execution_count": 454,
     "metadata": {},
     "output_type": "execute_result"
    }
   ],
   "source": [
    "df6.dtypes[df6.dtypes == '<M8[ns]'].keys().tolist()"
   ]
  },
  {
   "cell_type": "code",
   "execution_count": 455,
   "id": "a4922dbe",
   "metadata": {
    "ExecuteTime": {
     "end_time": "2022-03-24T20:45:10.841547Z",
     "start_time": "2022-03-24T20:45:10.805305Z"
    }
   },
   "outputs": [
    {
     "name": "stderr",
     "output_type": "stream",
     "text": [
      "/tmp/ipykernel_7803/2216932869.py:11: FutureWarning: Series.dt.weekofyear and Series.dt.week have been deprecated. Please use Series.dt.isocalendar().week instead.\n",
      "  df6['semana_do_ano'] = df6['data'].dt.weekofyear\n"
     ]
    }
   ],
   "source": [
    "# hora e dia serão transformados utilizando relações trigonométricas\n",
    "# month\n",
    "df6['mes'] = df6['data'].dt.month\n",
    "df6['mes_sin'] = df6['mes'].apply(lambda x: np.sin(x * (2 * np.pi/12)))\n",
    "df6['mes_cos'] = df6['mes'].apply(lambda x: np.cos(x * (2 * np.pi/12)))\n",
    "# day\n",
    "df6['dia_do_mes'] = df6['data'].dt.day\n",
    "df6['dia_do_mes_sin'] = df6['dia_do_mes'].apply(lambda x: np.sin(x * (2 * np.pi/30)))\n",
    "df6['dia_do_mes_cos'] = df6['dia_do_mes'].apply(lambda x: np.cos(x * (2 * np.pi/30)))\n",
    "# week of year\n",
    "df6['semana_do_ano'] = df6['data'].dt.weekofyear\n",
    "df6['semana_do_ano_sin'] = df6['semana_do_ano'].apply(lambda x: np.sin(x * (2 * np.pi/52)))\n",
    "df6['semana_do_ano_cos'] = df6['semana_do_ano'].apply(lambda x: np.cos(x * (2 * np.pi/52)))"
   ]
  },
  {
   "cell_type": "code",
   "execution_count": 456,
   "id": "eeca1186",
   "metadata": {
    "ExecuteTime": {
     "end_time": "2022-03-24T20:45:10.847933Z",
     "start_time": "2022-03-24T20:45:10.843437Z"
    }
   },
   "outputs": [],
   "source": [
    "df6 = df6.drop(['mes', 'dia_do_mes', 'semana_do_ano'], axis = 1)"
   ]
  },
  {
   "cell_type": "code",
   "execution_count": 457,
   "id": "d35dd272",
   "metadata": {
    "ExecuteTime": {
     "end_time": "2022-03-24T20:45:10.866283Z",
     "start_time": "2022-03-24T20:45:10.849673Z"
    }
   },
   "outputs": [],
   "source": [
    "categorical = df6.dtypes[df6.dtypes == 'object'].keys().tolist()\n",
    "df_categorical = df6[categorical]\n",
    "numerics = df6.dtypes[(df6.dtypes == 'int64') | (df6.dtypes == 'float64')].keys().tolist()\n",
    "numerics.remove('vencedor'); numerics.remove('temporada')\n",
    "df_numerics = df6[numerics]\n",
    "df_target = df6[['vencedor']]\n",
    "df_temporada = df6[['temporada']]"
   ]
  },
  {
   "cell_type": "code",
   "execution_count": 458,
   "id": "99fa64cd",
   "metadata": {
    "ExecuteTime": {
     "end_time": "2022-03-24T20:45:10.873450Z",
     "start_time": "2022-03-24T20:45:10.868205Z"
    }
   },
   "outputs": [
    {
     "data": {
      "text/plain": [
       "['rodada',\n",
       " 'hora_sin',\n",
       " 'hora_cos',\n",
       " 'total_de_gols',\n",
       " 'mandante_chutes',\n",
       " 'visitante_chutes',\n",
       " 'mandante_chutes_no_alvo',\n",
       " 'visitante_chutes_no_alvo',\n",
       " 'mandante_posse_de_bola',\n",
       " 'visitante_posse_de_bola',\n",
       " 'mandante_passes',\n",
       " 'visitante_passes',\n",
       " 'mandante_precisao_passes',\n",
       " 'visitante_precisao_passes',\n",
       " 'mandante_faltas',\n",
       " 'visitante_faltas',\n",
       " 'mandante_cartao_amarelo',\n",
       " 'visitante_cartao_amarelo',\n",
       " 'mandante_cartao_vermelho',\n",
       " 'visitante_cartao_vermelho',\n",
       " 'mandante_impedimentos',\n",
       " 'visitante_impedimentos',\n",
       " 'mandante_vitorias',\n",
       " 'visitante_vitorias',\n",
       " 'mandante_derrotas',\n",
       " 'visitante_derrotas',\n",
       " 'mandante_empates',\n",
       " 'visitante_empates',\n",
       " 'vitorias_como_mandante',\n",
       " 'derrotas_como_mandante',\n",
       " 'vitorias_como_visitante',\n",
       " 'derrotas_como_visitante',\n",
       " 'empates_como_mandante',\n",
       " 'empates_como_visitante',\n",
       " 'mandante_sequencia_vitorias',\n",
       " 'mandante_sequencia_derrotas',\n",
       " 'visitante_sequencia_vitorias',\n",
       " 'visitante_sequencia_derrotas',\n",
       " 'gols_marcados_mandante',\n",
       " 'gols_sofridos_mandante',\n",
       " 'gols_marcados_visitante',\n",
       " 'gols_sofridos_visitante',\n",
       " 'dias_entre_jogos_mandante',\n",
       " 'dias_entre_jogos_visitante',\n",
       " 'mandante_subiu',\n",
       " 'visitante_subiu',\n",
       " 'mandante_vitorias_contra_visitante',\n",
       " 'visitante_vitorias_contra_mandante',\n",
       " 'empates_historico',\n",
       " 'mes_sin',\n",
       " 'mes_cos',\n",
       " 'dia_do_mes_sin',\n",
       " 'dia_do_mes_cos',\n",
       " 'semana_do_ano_sin',\n",
       " 'semana_do_ano_cos']"
      ]
     },
     "execution_count": 458,
     "metadata": {},
     "output_type": "execute_result"
    }
   ],
   "source": [
    "numerics"
   ]
  },
  {
   "cell_type": "markdown",
   "id": "5636cc72",
   "metadata": {},
   "source": [
    "## 6.3 Encoding "
   ]
  },
  {
   "cell_type": "code",
   "execution_count": 459,
   "id": "3a7157bd",
   "metadata": {
    "ExecuteTime": {
     "end_time": "2022-03-24T20:45:15.754599Z",
     "start_time": "2022-03-24T20:45:15.743465Z"
    }
   },
   "outputs": [],
   "source": [
    "df_categorical = pd.get_dummies(df_categorical)"
   ]
  },
  {
   "cell_type": "markdown",
   "id": "00892447",
   "metadata": {},
   "source": [
    "## 6.4 Scaling "
   ]
  },
  {
   "cell_type": "code",
   "execution_count": 460,
   "id": "7a0c2945",
   "metadata": {
    "ExecuteTime": {
     "end_time": "2022-03-24T20:45:16.354210Z",
     "start_time": "2022-03-24T20:45:16.344827Z"
    }
   },
   "outputs": [],
   "source": [
    "ss = StandardScaler()"
   ]
  },
  {
   "cell_type": "code",
   "execution_count": 461,
   "id": "939171aa",
   "metadata": {
    "ExecuteTime": {
     "end_time": "2022-03-24T20:45:16.563351Z",
     "start_time": "2022-03-24T20:45:16.536413Z"
    }
   },
   "outputs": [
    {
     "data": {
      "text/html": [
       "<div>\n",
       "<style scoped>\n",
       "    .dataframe tbody tr th:only-of-type {\n",
       "        vertical-align: middle;\n",
       "    }\n",
       "\n",
       "    .dataframe tbody tr th {\n",
       "        vertical-align: top;\n",
       "    }\n",
       "\n",
       "    .dataframe thead th {\n",
       "        text-align: right;\n",
       "    }\n",
       "</style>\n",
       "<table border=\"1\" class=\"dataframe\">\n",
       "  <thead>\n",
       "    <tr style=\"text-align: right;\">\n",
       "      <th></th>\n",
       "      <th>rodada</th>\n",
       "      <th>hora_sin</th>\n",
       "      <th>hora_cos</th>\n",
       "      <th>total_de_gols</th>\n",
       "      <th>mandante_chutes</th>\n",
       "      <th>visitante_chutes</th>\n",
       "      <th>mandante_chutes_no_alvo</th>\n",
       "      <th>visitante_chutes_no_alvo</th>\n",
       "      <th>mandante_posse_de_bola</th>\n",
       "      <th>visitante_posse_de_bola</th>\n",
       "      <th>...</th>\n",
       "      <th>visitante_subiu</th>\n",
       "      <th>mandante_vitorias_contra_visitante</th>\n",
       "      <th>visitante_vitorias_contra_mandante</th>\n",
       "      <th>empates_historico</th>\n",
       "      <th>mes_sin</th>\n",
       "      <th>mes_cos</th>\n",
       "      <th>dia_do_mes_sin</th>\n",
       "      <th>dia_do_mes_cos</th>\n",
       "      <th>semana_do_ano_sin</th>\n",
       "      <th>semana_do_ano_cos</th>\n",
       "    </tr>\n",
       "  </thead>\n",
       "  <tbody>\n",
       "    <tr>\n",
       "      <th>0</th>\n",
       "      <td>-1.687055</td>\n",
       "      <td>-0.230426</td>\n",
       "      <td>-1.254024</td>\n",
       "      <td>-0.218221</td>\n",
       "      <td>-1.455842</td>\n",
       "      <td>-0.084266</td>\n",
       "      <td>-0.330471</td>\n",
       "      <td>-0.815287</td>\n",
       "      <td>-2.170772</td>\n",
       "      <td>2.170772</td>\n",
       "      <td>...</td>\n",
       "      <td>-0.361873</td>\n",
       "      <td>-0.61518</td>\n",
       "      <td>-0.801311</td>\n",
       "      <td>-0.632515</td>\n",
       "      <td>2.281156</td>\n",
       "      <td>-0.877191</td>\n",
       "      <td>-0.971876</td>\n",
       "      <td>1.180720</td>\n",
       "      <td>2.292526</td>\n",
       "      <td>-0.702373</td>\n",
       "    </tr>\n",
       "    <tr>\n",
       "      <th>1</th>\n",
       "      <td>-1.687055</td>\n",
       "      <td>-0.580173</td>\n",
       "      <td>0.236653</td>\n",
       "      <td>0.433014</td>\n",
       "      <td>-0.682902</td>\n",
       "      <td>-1.201145</td>\n",
       "      <td>-0.735308</td>\n",
       "      <td>-1.298485</td>\n",
       "      <td>0.775400</td>\n",
       "      <td>-0.775400</td>\n",
       "      <td>...</td>\n",
       "      <td>-0.361873</td>\n",
       "      <td>-0.61518</td>\n",
       "      <td>-0.801311</td>\n",
       "      <td>-0.632515</td>\n",
       "      <td>2.281156</td>\n",
       "      <td>-0.877191</td>\n",
       "      <td>-0.971876</td>\n",
       "      <td>1.180720</td>\n",
       "      <td>2.292526</td>\n",
       "      <td>-0.702373</td>\n",
       "    </tr>\n",
       "    <tr>\n",
       "      <th>2</th>\n",
       "      <td>-1.687055</td>\n",
       "      <td>-0.576006</td>\n",
       "      <td>0.245011</td>\n",
       "      <td>-0.218221</td>\n",
       "      <td>-0.489667</td>\n",
       "      <td>1.926116</td>\n",
       "      <td>0.884038</td>\n",
       "      <td>1.600699</td>\n",
       "      <td>-0.789754</td>\n",
       "      <td>0.789754</td>\n",
       "      <td>...</td>\n",
       "      <td>-0.361873</td>\n",
       "      <td>-0.61518</td>\n",
       "      <td>-0.801311</td>\n",
       "      <td>-0.632515</td>\n",
       "      <td>2.281156</td>\n",
       "      <td>-0.877191</td>\n",
       "      <td>-0.971876</td>\n",
       "      <td>1.180720</td>\n",
       "      <td>2.292526</td>\n",
       "      <td>-0.702373</td>\n",
       "    </tr>\n",
       "    <tr>\n",
       "      <th>3</th>\n",
       "      <td>-1.687055</td>\n",
       "      <td>0.366998</td>\n",
       "      <td>1.126182</td>\n",
       "      <td>1.084250</td>\n",
       "      <td>0.476508</td>\n",
       "      <td>-2.094649</td>\n",
       "      <td>0.074365</td>\n",
       "      <td>-1.298485</td>\n",
       "      <td>0.591264</td>\n",
       "      <td>-0.591264</td>\n",
       "      <td>...</td>\n",
       "      <td>-0.361873</td>\n",
       "      <td>-0.61518</td>\n",
       "      <td>-0.801311</td>\n",
       "      <td>-0.632515</td>\n",
       "      <td>2.281156</td>\n",
       "      <td>-0.877191</td>\n",
       "      <td>-0.971876</td>\n",
       "      <td>1.180720</td>\n",
       "      <td>2.292526</td>\n",
       "      <td>-0.702373</td>\n",
       "    </tr>\n",
       "    <tr>\n",
       "      <th>4</th>\n",
       "      <td>-1.687055</td>\n",
       "      <td>3.855537</td>\n",
       "      <td>-2.200145</td>\n",
       "      <td>0.433014</td>\n",
       "      <td>2.215623</td>\n",
       "      <td>-0.754394</td>\n",
       "      <td>2.503383</td>\n",
       "      <td>0.634305</td>\n",
       "      <td>1.235739</td>\n",
       "      <td>-1.235739</td>\n",
       "      <td>...</td>\n",
       "      <td>-0.361873</td>\n",
       "      <td>-0.61518</td>\n",
       "      <td>-0.801311</td>\n",
       "      <td>-0.632515</td>\n",
       "      <td>2.281156</td>\n",
       "      <td>-0.877191</td>\n",
       "      <td>-0.711375</td>\n",
       "      <td>1.327346</td>\n",
       "      <td>2.292526</td>\n",
       "      <td>-0.702373</td>\n",
       "    </tr>\n",
       "  </tbody>\n",
       "</table>\n",
       "<p>5 rows × 55 columns</p>\n",
       "</div>"
      ],
      "text/plain": [
       "     rodada  hora_sin  hora_cos  total_de_gols  mandante_chutes  \\\n",
       "0 -1.687055 -0.230426 -1.254024      -0.218221        -1.455842   \n",
       "1 -1.687055 -0.580173  0.236653       0.433014        -0.682902   \n",
       "2 -1.687055 -0.576006  0.245011      -0.218221        -0.489667   \n",
       "3 -1.687055  0.366998  1.126182       1.084250         0.476508   \n",
       "4 -1.687055  3.855537 -2.200145       0.433014         2.215623   \n",
       "\n",
       "   visitante_chutes  mandante_chutes_no_alvo  visitante_chutes_no_alvo  \\\n",
       "0         -0.084266                -0.330471                 -0.815287   \n",
       "1         -1.201145                -0.735308                 -1.298485   \n",
       "2          1.926116                 0.884038                  1.600699   \n",
       "3         -2.094649                 0.074365                 -1.298485   \n",
       "4         -0.754394                 2.503383                  0.634305   \n",
       "\n",
       "   mandante_posse_de_bola  visitante_posse_de_bola  ...  visitante_subiu  \\\n",
       "0               -2.170772                 2.170772  ...        -0.361873   \n",
       "1                0.775400                -0.775400  ...        -0.361873   \n",
       "2               -0.789754                 0.789754  ...        -0.361873   \n",
       "3                0.591264                -0.591264  ...        -0.361873   \n",
       "4                1.235739                -1.235739  ...        -0.361873   \n",
       "\n",
       "   mandante_vitorias_contra_visitante  visitante_vitorias_contra_mandante  \\\n",
       "0                            -0.61518                           -0.801311   \n",
       "1                            -0.61518                           -0.801311   \n",
       "2                            -0.61518                           -0.801311   \n",
       "3                            -0.61518                           -0.801311   \n",
       "4                            -0.61518                           -0.801311   \n",
       "\n",
       "   empates_historico   mes_sin   mes_cos  dia_do_mes_sin  dia_do_mes_cos  \\\n",
       "0          -0.632515  2.281156 -0.877191       -0.971876        1.180720   \n",
       "1          -0.632515  2.281156 -0.877191       -0.971876        1.180720   \n",
       "2          -0.632515  2.281156 -0.877191       -0.971876        1.180720   \n",
       "3          -0.632515  2.281156 -0.877191       -0.971876        1.180720   \n",
       "4          -0.632515  2.281156 -0.877191       -0.711375        1.327346   \n",
       "\n",
       "   semana_do_ano_sin  semana_do_ano_cos  \n",
       "0           2.292526          -0.702373  \n",
       "1           2.292526          -0.702373  \n",
       "2           2.292526          -0.702373  \n",
       "3           2.292526          -0.702373  \n",
       "4           2.292526          -0.702373  \n",
       "\n",
       "[5 rows x 55 columns]"
      ]
     },
     "execution_count": 461,
     "metadata": {},
     "output_type": "execute_result"
    }
   ],
   "source": [
    "df_numerics = pd.DataFrame(ss.fit_transform(df_numerics.values), columns = df_numerics.columns.tolist())\n",
    "df_numerics.head()"
   ]
  },
  {
   "cell_type": "code",
   "execution_count": 462,
   "id": "d805f4fa",
   "metadata": {
    "ExecuteTime": {
     "end_time": "2022-03-24T20:45:17.316813Z",
     "start_time": "2022-03-24T20:45:17.306770Z"
    }
   },
   "outputs": [],
   "source": [
    "df_final = pd.concat([df_temporada, df_categorical, df_numerics, df_target], axis = 1)"
   ]
  },
  {
   "cell_type": "code",
   "execution_count": 463,
   "id": "9887c1b7",
   "metadata": {
    "ExecuteTime": {
     "end_time": "2022-03-24T20:45:18.039016Z",
     "start_time": "2022-03-24T20:45:18.021970Z"
    }
   },
   "outputs": [
    {
     "data": {
      "text/plain": [
       "['temporada',\n",
       " 'dia_domingo',\n",
       " 'dia_quarta-feira',\n",
       " 'dia_quinta-feira',\n",
       " 'dia_sabado',\n",
       " 'dia_segunda-feira',\n",
       " 'dia_sexta-feira',\n",
       " 'dia_terça-feira',\n",
       " 'mandante_america-mg',\n",
       " 'mandante_athletico-pr',\n",
       " 'mandante_atletico-go',\n",
       " 'mandante_atletico-mg',\n",
       " 'mandante_avai',\n",
       " 'mandante_bahia',\n",
       " 'mandante_botafogo-rj',\n",
       " 'mandante_bragantino',\n",
       " 'mandante_ceara',\n",
       " 'mandante_chapecoense',\n",
       " 'mandante_corinthians',\n",
       " 'mandante_coritiba',\n",
       " 'mandante_cruzeiro',\n",
       " 'mandante_csa',\n",
       " 'mandante_cuiaba',\n",
       " 'mandante_flamengo',\n",
       " 'mandante_fluminense',\n",
       " 'mandante_fortaleza',\n",
       " 'mandante_goias',\n",
       " 'mandante_gremio',\n",
       " 'mandante_internacional',\n",
       " 'mandante_juventude',\n",
       " 'mandante_palmeiras',\n",
       " 'mandante_santos',\n",
       " 'mandante_sao paulo',\n",
       " 'mandante_sport',\n",
       " 'mandante_vasco',\n",
       " 'visitante_america-mg',\n",
       " 'visitante_athletico-pr',\n",
       " 'visitante_atletico-go',\n",
       " 'visitante_atletico-mg',\n",
       " 'visitante_avai',\n",
       " 'visitante_bahia',\n",
       " 'visitante_botafogo-rj',\n",
       " 'visitante_bragantino',\n",
       " 'visitante_ceara',\n",
       " 'visitante_chapecoense',\n",
       " 'visitante_corinthians',\n",
       " 'visitante_coritiba',\n",
       " 'visitante_cruzeiro',\n",
       " 'visitante_csa',\n",
       " 'visitante_cuiaba',\n",
       " 'visitante_flamengo',\n",
       " 'visitante_fluminense',\n",
       " 'visitante_fortaleza',\n",
       " 'visitante_goias',\n",
       " 'visitante_gremio',\n",
       " 'visitante_internacional',\n",
       " 'visitante_juventude',\n",
       " 'visitante_palmeiras',\n",
       " 'visitante_santos',\n",
       " 'visitante_sao paulo',\n",
       " 'visitante_sport',\n",
       " 'visitante_vasco',\n",
       " 'formacao_mandante_3-1-4-2',\n",
       " 'formacao_mandante_3-2-4-1',\n",
       " 'formacao_mandante_3-4-1-2',\n",
       " 'formacao_mandante_3-4-2-1',\n",
       " 'formacao_mandante_3-4-3',\n",
       " 'formacao_mandante_3-5-2',\n",
       " 'formacao_mandante_4-1-2-1-2',\n",
       " 'formacao_mandante_4-1-3-2',\n",
       " 'formacao_mandante_4-1-4-1',\n",
       " 'formacao_mandante_4-2-2-2',\n",
       " 'formacao_mandante_4-2-3-1',\n",
       " 'formacao_mandante_4-2-4-0',\n",
       " 'formacao_mandante_4-3-1-2',\n",
       " 'formacao_mandante_4-3-2-1',\n",
       " 'formacao_mandante_4-3-3',\n",
       " 'formacao_mandante_4-4-1-1',\n",
       " 'formacao_mandante_4-4-2',\n",
       " 'formacao_mandante_4-5-1',\n",
       " 'formacao_mandante_5-3-2',\n",
       " 'formacao_mandante_5-4-1',\n",
       " 'formacao_visitante_3-1-4-2',\n",
       " 'formacao_visitante_3-4-1-2',\n",
       " 'formacao_visitante_3-4-2-1',\n",
       " 'formacao_visitante_3-4-3',\n",
       " 'formacao_visitante_3-5-1-1',\n",
       " 'formacao_visitante_3-5-2',\n",
       " 'formacao_visitante_4-1-2-1-2',\n",
       " 'formacao_visitante_4-1-3-2',\n",
       " 'formacao_visitante_4-1-4-1',\n",
       " 'formacao_visitante_4-2-2-2',\n",
       " 'formacao_visitante_4-2-3-1',\n",
       " 'formacao_visitante_4-2-4-0',\n",
       " 'formacao_visitante_4-3-1-2',\n",
       " 'formacao_visitante_4-3-2-1',\n",
       " 'formacao_visitante_4-3-3',\n",
       " 'formacao_visitante_4-4-1-1',\n",
       " 'formacao_visitante_4-4-2',\n",
       " 'formacao_visitante_4-5-1',\n",
       " 'formacao_visitante_5-3-2',\n",
       " 'formacao_visitante_5-4-1',\n",
       " 'tecnico_mandante_a. batista',\n",
       " 'tecnico_mandante_a. cardoso de oliveira',\n",
       " 'tecnico_mandante_a. césar',\n",
       " 'tecnico_mandante_a. da silva braga',\n",
       " 'tecnico_mandante_a. dos santos ferraz',\n",
       " 'tecnico_mandante_a. ferreira',\n",
       " 'tecnico_mandante_a. fucks',\n",
       " 'tecnico_mandante_a. grasselli',\n",
       " 'tecnico_mandante_a. lopes dos santos',\n",
       " 'tecnico_mandante_a. moreira ferreira',\n",
       " 'tecnico_mandante_a. stival',\n",
       " 'tecnico_mandante_a. valentim do carmo neto',\n",
       " 'tecnico_mandante_b. lazaroni',\n",
       " 'tecnico_mandante_b. lopes',\n",
       " 'tecnico_mandante_c. de almeida',\n",
       " 'tecnico_mandante_c. de lucena',\n",
       " 'tecnico_mandante_c. dos santos oliveira',\n",
       " 'tecnico_mandante_c. maldonado',\n",
       " 'tecnico_mandante_c. prates',\n",
       " 'tecnico_mandante_coelho',\n",
       " 'tecnico_mandante_d. aguirre camblor',\n",
       " 'tecnico_mandante_d. camargo',\n",
       " 'tecnico_mandante_d. dabove',\n",
       " 'tecnico_mandante_d. pollo barioni',\n",
       " 'tecnico_mandante_d. silvestre júnior',\n",
       " 'tecnico_mandante_d. torrent font',\n",
       " 'tecnico_mandante_e. alves moreira',\n",
       " 'tecnico_mandante_e. coudet',\n",
       " 'tecnico_mandante_e. de barros',\n",
       " 'tecnico_mandante_e. de souza barroca',\n",
       " 'tecnico_mandante_e. do nascimento souza',\n",
       " 'tecnico_mandante_e. díaz',\n",
       " 'tecnico_mandante_e. hartkopp',\n",
       " 'tecnico_mandante_e. l. fornari',\n",
       " 'tecnico_mandante_e. machado souto',\n",
       " 'tecnico_mandante_e. pacheco',\n",
       " 'tecnico_mandante_e. rodrigues de ávila',\n",
       " 'tecnico_mandante_e. spinassé camillato',\n",
       " 'tecnico_mandante_e. zuma',\n",
       " 'tecnico_mandante_f. carille',\n",
       " 'tecnico_mandante_f. de oliveira conceição',\n",
       " 'tecnico_mandante_f. diniz silva',\n",
       " 'tecnico_mandante_f. mercier de lucena',\n",
       " 'tecnico_mandante_f. paiva endres',\n",
       " 'tecnico_mandante_f. tenius',\n",
       " 'tecnico_mandante_g. florentín',\n",
       " 'tecnico_mandante_g. morínigo',\n",
       " 'tecnico_mandante_g. ramos da silva',\n",
       " 'tecnico_mandante_g. santos vasconcelo',\n",
       " 'tecnico_mandante_h. crespo',\n",
       " 'tecnico_mandante_j. bertagnoli',\n",
       " 'tecnico_mandante_j. branda',\n",
       " 'tecnico_mandante_j. de amorim campos',\n",
       " 'tecnico_mandante_j. freitas',\n",
       " 'tecnico_mandante_j. guerrero',\n",
       " 'tecnico_mandante_j. m. barreto martins',\n",
       " 'tecnico_mandante_j. mannarino',\n",
       " 'tecnico_mandante_j. p. sanches',\n",
       " 'tecnico_mandante_j. pinheiro de jesus',\n",
       " 'tecnico_mandante_j. ribeiro ventura',\n",
       " 'tecnico_mandante_j. sampaoli moya',\n",
       " 'tecnico_mandante_j. vojvoda',\n",
       " 'tecnico_mandante_l. calixto zago',\n",
       " 'tecnico_mandante_l. cavalcanti',\n",
       " 'tecnico_mandante_l. cirne lima de lorenzi',\n",
       " 'tecnico_mandante_l. de oliveira preto',\n",
       " 'tecnico_mandante_l. de souza',\n",
       " 'tecnico_mandante_l. flávio',\n",
       " 'tecnico_mandante_l. iubel',\n",
       " 'tecnico_mandante_l. porto siqueira',\n",
       " 'tecnico_mandante_l. scolari',\n",
       " 'tecnico_mandante_l. silvestre',\n",
       " 'tecnico_mandante_l. venker de menezes',\n",
       " 'tecnico_mandante_m. de oliveira',\n",
       " 'tecnico_mandante_m. dos santos gonçalves',\n",
       " 'tecnico_mandante_m. fernandes',\n",
       " 'tecnico_mandante_m. freitas rocha da silva',\n",
       " 'tecnico_mandante_m. gomes valadares',\n",
       " 'tecnico_mandante_m. montenegro',\n",
       " 'tecnico_mandante_m. nogueira barbieri',\n",
       " 'tecnico_mandante_m. oliveira chamusca',\n",
       " 'tecnico_mandante_m. ramírez',\n",
       " 'tecnico_mandante_m. ribeiro cabo',\n",
       " 'tecnico_mandante_m. salles',\n",
       " 'tecnico_mandante_m. santos batista júnior',\n",
       " 'tecnico_mandante_m. souza',\n",
       " 'tecnico_mandante_m. vizolli',\n",
       " 'tecnico_mandante_n. da silveira júnior',\n",
       " 'tecnico_mandante_o. de oliveira filho',\n",
       " 'tecnico_mandante_o. hellmann',\n",
       " 'tecnico_mandante_o. loss',\n",
       " 'tecnico_mandante_p. autuori de mello',\n",
       " 'tecnico_mandante_p. v. rodrigues gomes',\n",
       " 'tecnico_mandante_r. alves resende',\n",
       " 'tecnico_mandante_r. andrade silva sá pinto',\n",
       " 'tecnico_mandante_r. ceni',\n",
       " 'tecnico_mandante_r. colbachini',\n",
       " 'tecnico_mandante_r. l. martins gomes',\n",
       " 'tecnico_mandante_r. machado marques',\n",
       " 'tecnico_mandante_r. marques santana',\n",
       " 'tecnico_mandante_r. menezes hubner',\n",
       " 'tecnico_mandante_r. mota',\n",
       " 'tecnico_mandante_renato gaúcho',\n",
       " 'tecnico_mandante_s. campos junior',\n",
       " 'tecnico_mandante_t. gomes pacheco',\n",
       " 'tecnico_mandante_t. kosloski',\n",
       " 'tecnico_mandante_t. mendes larghi',\n",
       " 'tecnico_mandante_t. retzalff nunes',\n",
       " 'tecnico_mandante_u. louzer filho',\n",
       " 'tecnico_mandante_v. carmo mancini',\n",
       " 'tecnico_mandante_v. luxemburgo da silva',\n",
       " 'tecnico_visitante_a. batista',\n",
       " 'tecnico_visitante_a. cardoso de oliveira',\n",
       " 'tecnico_visitante_a. césar',\n",
       " 'tecnico_visitante_a. da silva braga',\n",
       " 'tecnico_visitante_a. dos santos ferraz',\n",
       " 'tecnico_visitante_a. ferreira',\n",
       " 'tecnico_visitante_a. fucks',\n",
       " 'tecnico_visitante_a. grasselli',\n",
       " 'tecnico_visitante_a. lopes dos santos',\n",
       " 'tecnico_visitante_a. moreira ferreira',\n",
       " 'tecnico_visitante_a. stival',\n",
       " 'tecnico_visitante_a. valentim do carmo neto',\n",
       " 'tecnico_visitante_b. lazaroni',\n",
       " 'tecnico_visitante_b. lopes',\n",
       " 'tecnico_visitante_c. de almeida',\n",
       " 'tecnico_visitante_c. de lucena',\n",
       " 'tecnico_visitante_c. dos santos oliveira',\n",
       " 'tecnico_visitante_c. maldonado',\n",
       " 'tecnico_visitante_c. prates',\n",
       " 'tecnico_visitante_coelho',\n",
       " 'tecnico_visitante_d. aguirre camblor',\n",
       " 'tecnico_visitante_d. camargo',\n",
       " 'tecnico_visitante_d. dabove',\n",
       " 'tecnico_visitante_d. pollo barioni',\n",
       " 'tecnico_visitante_d. silvestre júnior',\n",
       " 'tecnico_visitante_d. torrent font',\n",
       " 'tecnico_visitante_e. alves moreira',\n",
       " 'tecnico_visitante_e. coudet',\n",
       " 'tecnico_visitante_e. de barros',\n",
       " 'tecnico_visitante_e. de souza barroca',\n",
       " 'tecnico_visitante_e. do nascimento souza',\n",
       " 'tecnico_visitante_e. díaz',\n",
       " 'tecnico_visitante_e. hartkopp',\n",
       " 'tecnico_visitante_e. l. fornari',\n",
       " 'tecnico_visitante_e. machado souto',\n",
       " 'tecnico_visitante_e. pacheco',\n",
       " 'tecnico_visitante_e. rodrigues de ávila',\n",
       " 'tecnico_visitante_e. spinassé camillato',\n",
       " 'tecnico_visitante_e. zuma',\n",
       " 'tecnico_visitante_f. carille',\n",
       " 'tecnico_visitante_f. de oliveira conceição',\n",
       " 'tecnico_visitante_f. diniz silva',\n",
       " 'tecnico_visitante_f. mercier de lucena',\n",
       " 'tecnico_visitante_f. paiva endres',\n",
       " 'tecnico_visitante_f. tenius',\n",
       " 'tecnico_visitante_g. florentín',\n",
       " 'tecnico_visitante_g. morínigo',\n",
       " 'tecnico_visitante_g. ramos da silva',\n",
       " 'tecnico_visitante_g. santos vasconcelo',\n",
       " 'tecnico_visitante_h. crespo',\n",
       " 'tecnico_visitante_j. bertagnoli',\n",
       " 'tecnico_visitante_j. branda',\n",
       " 'tecnico_visitante_j. de amorim campos',\n",
       " 'tecnico_visitante_j. freitas',\n",
       " 'tecnico_visitante_j. guerrero',\n",
       " 'tecnico_visitante_j. m. barreto martins',\n",
       " 'tecnico_visitante_j. mannarino',\n",
       " 'tecnico_visitante_j. p. sanches',\n",
       " 'tecnico_visitante_j. pinheiro de jesus',\n",
       " 'tecnico_visitante_j. ribeiro ventura',\n",
       " 'tecnico_visitante_j. sampaoli moya',\n",
       " 'tecnico_visitante_j. vojvoda',\n",
       " 'tecnico_visitante_l. calixto zago',\n",
       " 'tecnico_visitante_l. cavalcanti',\n",
       " 'tecnico_visitante_l. cirne lima de lorenzi',\n",
       " 'tecnico_visitante_l. de oliveira preto',\n",
       " 'tecnico_visitante_l. de souza',\n",
       " 'tecnico_visitante_l. flávio',\n",
       " 'tecnico_visitante_l. iubel',\n",
       " 'tecnico_visitante_l. porto siqueira',\n",
       " 'tecnico_visitante_l. scolari',\n",
       " 'tecnico_visitante_l. silvestre',\n",
       " 'tecnico_visitante_l. venker de menezes',\n",
       " 'tecnico_visitante_m. de oliveira',\n",
       " 'tecnico_visitante_m. dos santos gonçalves',\n",
       " 'tecnico_visitante_m. fernandes',\n",
       " 'tecnico_visitante_m. freitas rocha da silva',\n",
       " 'tecnico_visitante_m. gomes valadares',\n",
       " 'tecnico_visitante_m. montenegro',\n",
       " 'tecnico_visitante_m. nogueira barbieri',\n",
       " 'tecnico_visitante_m. oliveira chamusca',\n",
       " 'tecnico_visitante_m. ramírez',\n",
       " 'tecnico_visitante_m. ribeiro cabo',\n",
       " 'tecnico_visitante_m. salles',\n",
       " 'tecnico_visitante_m. santos batista júnior',\n",
       " 'tecnico_visitante_m. souza',\n",
       " 'tecnico_visitante_m. vizolli',\n",
       " 'tecnico_visitante_n. da silveira júnior',\n",
       " 'tecnico_visitante_o. de oliveira filho',\n",
       " 'tecnico_visitante_o. hellmann',\n",
       " 'tecnico_visitante_o. loss',\n",
       " 'tecnico_visitante_p. autuori de mello',\n",
       " 'tecnico_visitante_p. v. rodrigues gomes',\n",
       " 'tecnico_visitante_r. alves resende',\n",
       " 'tecnico_visitante_r. andrade silva sá pinto',\n",
       " 'tecnico_visitante_r. ceni',\n",
       " 'tecnico_visitante_r. colbachini',\n",
       " 'tecnico_visitante_r. l. martins gomes',\n",
       " 'tecnico_visitante_r. machado marques',\n",
       " 'tecnico_visitante_r. marques santana',\n",
       " 'tecnico_visitante_r. menezes hubner',\n",
       " 'tecnico_visitante_r. mota',\n",
       " 'tecnico_visitante_renato gaúcho',\n",
       " 'tecnico_visitante_s. campos junior',\n",
       " 'tecnico_visitante_t. gomes pacheco',\n",
       " 'tecnico_visitante_t. kosloski',\n",
       " 'tecnico_visitante_t. mendes larghi',\n",
       " 'tecnico_visitante_t. retzalff nunes',\n",
       " 'tecnico_visitante_u. louzer filho',\n",
       " 'tecnico_visitante_v. carmo mancini',\n",
       " 'tecnico_visitante_v. luxemburgo da silva',\n",
       " 'arena_adelmar da costa carvalho',\n",
       " 'arena_alfredo jaconi',\n",
       " 'arena_allianz parque',\n",
       " 'arena_arena barueri',\n",
       " 'arena_arena castelao',\n",
       " 'arena_arena conda',\n",
       " 'arena_arena da amazonia',\n",
       " 'arena_arena de pernambuco',\n",
       " 'arena_arena do gremio',\n",
       " 'arena_arena pantanal',\n",
       " 'arena_couto pereira',\n",
       " 'arena_estadio antonio accioly',\n",
       " 'arena_estadio brinco de ouro',\n",
       " 'arena_estadio da serrinha',\n",
       " 'arena_estadio de pituacu',\n",
       " 'arena_estadio do governo do estado de goias serra dourada',\n",
       " 'arena_estadio francisco stedile centenario',\n",
       " 'arena_estadio joaquim americo guimaraes',\n",
       " 'arena_estadio jose pinheiro borda',\n",
       " 'arena_estadio municipal general raulino de oliveira',\n",
       " 'arena_estadio municipal paulo machado de carvalho',\n",
       " 'arena_estadio nacional de brasilia',\n",
       " 'arena_estadio nilton santos',\n",
       " 'arena_estadio olimpico pedro ludovico teixeira',\n",
       " 'arena_estadio raimundo sampaio',\n",
       " 'arena_estadio rei pele',\n",
       " 'arena_estadio urbano caldeira',\n",
       " 'arena_estadio vasco da gama',\n",
       " 'arena_itaipava arena fonte nova',\n",
       " 'arena_kleber andrade',\n",
       " 'arena_maracana',\n",
       " 'arena_mineirao',\n",
       " 'arena_morumbi',\n",
       " 'arena_nabizao',\n",
       " 'arena_neo quimica arena',\n",
       " 'arena_ressacada',\n",
       " 'mandante_estado_al',\n",
       " 'mandante_estado_ba',\n",
       " 'mandante_estado_ce',\n",
       " 'mandante_estado_go',\n",
       " 'mandante_estado_mg',\n",
       " 'mandante_estado_mt',\n",
       " 'mandante_estado_pe',\n",
       " 'mandante_estado_pr',\n",
       " 'mandante_estado_rj',\n",
       " 'mandante_estado_rs',\n",
       " 'mandante_estado_sc',\n",
       " 'mandante_estado_sp',\n",
       " 'visitante_estado_al',\n",
       " 'visitante_estado_ba',\n",
       " 'visitante_estado_ce',\n",
       " 'visitante_estado_go',\n",
       " 'visitante_estado_mg',\n",
       " 'visitante_estado_mt',\n",
       " 'visitante_estado_pe',\n",
       " 'visitante_estado_pr',\n",
       " 'visitante_estado_rj',\n",
       " 'visitante_estado_rs',\n",
       " 'visitante_estado_sc',\n",
       " 'visitante_estado_sp',\n",
       " 'rodada',\n",
       " 'hora_sin',\n",
       " 'hora_cos',\n",
       " 'total_de_gols',\n",
       " 'mandante_chutes',\n",
       " 'visitante_chutes',\n",
       " 'mandante_chutes_no_alvo',\n",
       " 'visitante_chutes_no_alvo',\n",
       " 'mandante_posse_de_bola',\n",
       " 'visitante_posse_de_bola',\n",
       " 'mandante_passes',\n",
       " 'visitante_passes',\n",
       " 'mandante_precisao_passes',\n",
       " 'visitante_precisao_passes',\n",
       " 'mandante_faltas',\n",
       " 'visitante_faltas',\n",
       " 'mandante_cartao_amarelo',\n",
       " 'visitante_cartao_amarelo',\n",
       " 'mandante_cartao_vermelho',\n",
       " 'visitante_cartao_vermelho',\n",
       " 'mandante_impedimentos',\n",
       " 'visitante_impedimentos',\n",
       " 'mandante_vitorias',\n",
       " 'visitante_vitorias',\n",
       " 'mandante_derrotas',\n",
       " 'visitante_derrotas',\n",
       " 'mandante_empates',\n",
       " 'visitante_empates',\n",
       " 'vitorias_como_mandante',\n",
       " 'derrotas_como_mandante',\n",
       " 'vitorias_como_visitante',\n",
       " 'derrotas_como_visitante',\n",
       " 'empates_como_mandante',\n",
       " 'empates_como_visitante',\n",
       " 'mandante_sequencia_vitorias',\n",
       " 'mandante_sequencia_derrotas',\n",
       " 'visitante_sequencia_vitorias',\n",
       " 'visitante_sequencia_derrotas',\n",
       " 'gols_marcados_mandante',\n",
       " 'gols_sofridos_mandante',\n",
       " 'gols_marcados_visitante',\n",
       " 'gols_sofridos_visitante',\n",
       " 'dias_entre_jogos_mandante',\n",
       " 'dias_entre_jogos_visitante',\n",
       " 'mandante_subiu',\n",
       " 'visitante_subiu',\n",
       " 'mandante_vitorias_contra_visitante',\n",
       " 'visitante_vitorias_contra_mandante',\n",
       " 'empates_historico',\n",
       " 'mes_sin',\n",
       " 'mes_cos',\n",
       " 'dia_do_mes_sin',\n",
       " 'dia_do_mes_cos',\n",
       " 'semana_do_ano_sin',\n",
       " 'semana_do_ano_cos',\n",
       " 'vencedor']"
      ]
     },
     "execution_count": 463,
     "metadata": {},
     "output_type": "execute_result"
    }
   ],
   "source": [
    "df_final.columns.tolist()"
   ]
  },
  {
   "cell_type": "markdown",
   "id": "ac986e01",
   "metadata": {},
   "source": [
    "# 7.0 Machine Learning Models "
   ]
  },
  {
   "cell_type": "code",
   "execution_count": 464,
   "id": "2dcb691d",
   "metadata": {
    "ExecuteTime": {
     "end_time": "2022-03-24T20:46:41.515727Z",
     "start_time": "2022-03-24T20:46:41.509939Z"
    }
   },
   "outputs": [],
   "source": [
    "df7 = df_final.copy()"
   ]
  },
  {
   "cell_type": "code",
   "execution_count": 508,
   "id": "4fa4e2e7",
   "metadata": {
    "ExecuteTime": {
     "end_time": "2022-03-24T21:10:40.577248Z",
     "start_time": "2022-03-24T21:10:40.571746Z"
    }
   },
   "outputs": [],
   "source": [
    "df7 = df7.dropna()"
   ]
  },
  {
   "cell_type": "code",
   "execution_count": 513,
   "id": "1b9c1a52",
   "metadata": {
    "ExecuteTime": {
     "end_time": "2022-03-24T21:11:11.599137Z",
     "start_time": "2022-03-24T21:11:11.586317Z"
    }
   },
   "outputs": [],
   "source": [
    "X_train = df7[df7['temporada'] < 2021].drop(['vencedor', 'temporada'], axis = 1).values\n",
    "y_train = df7[df7['temporada'] < 2021]['vencedor'].values\n",
    "\n",
    "X_test = df7[df7['temporada'] > 2020].drop(['vencedor', 'temporada'], axis = 1).values\n",
    "y_test = df7[df7['temporada'] > 2020]['vencedor'].values"
   ]
  },
  {
   "cell_type": "markdown",
   "id": "2ad08ea2",
   "metadata": {},
   "source": [
    "## 7.1 Logistic Regression"
   ]
  },
  {
   "cell_type": "code",
   "execution_count": 514,
   "id": "d226c4f1",
   "metadata": {
    "ExecuteTime": {
     "end_time": "2022-03-24T21:11:13.733521Z",
     "start_time": "2022-03-24T21:11:13.570915Z"
    }
   },
   "outputs": [
    {
     "name": "stderr",
     "output_type": "stream",
     "text": [
      "/home/mahelvson/anaconda3/envs/foot/lib/python3.9/site-packages/sklearn/linear_model/_logistic.py:814: ConvergenceWarning: lbfgs failed to converge (status=1):\n",
      "STOP: TOTAL NO. of ITERATIONS REACHED LIMIT.\n",
      "\n",
      "Increase the number of iterations (max_iter) or scale the data as shown in:\n",
      "    https://scikit-learn.org/stable/modules/preprocessing.html\n",
      "Please also refer to the documentation for alternative solver options:\n",
      "    https://scikit-learn.org/stable/modules/linear_model.html#logistic-regression\n",
      "  n_iter_i = _check_optimize_result(\n"
     ]
    }
   ],
   "source": [
    "clf_lg = LogisticRegression().fit(X_train, y_train)\n",
    "y_hat_lg = clf_lg.predict(X_test)"
   ]
  },
  {
   "cell_type": "code",
   "execution_count": 515,
   "id": "65782f27",
   "metadata": {
    "ExecuteTime": {
     "end_time": "2022-03-24T21:11:24.689835Z",
     "start_time": "2022-03-24T21:11:24.685444Z"
    }
   },
   "outputs": [
    {
     "data": {
      "text/plain": [
       "0.5365853658536586"
      ]
     },
     "execution_count": 515,
     "metadata": {},
     "output_type": "execute_result"
    }
   ],
   "source": [
    "accuracy_score(y_test, y_hat_lg)"
   ]
  },
  {
   "cell_type": "markdown",
   "id": "ae9a52bf",
   "metadata": {},
   "source": [
    "## 7.2 XGBoost "
   ]
  },
  {
   "cell_type": "code",
   "execution_count": 516,
   "id": "075261b9",
   "metadata": {
    "ExecuteTime": {
     "end_time": "2022-03-24T21:12:17.208653Z",
     "start_time": "2022-03-24T21:12:08.337995Z"
    }
   },
   "outputs": [
    {
     "name": "stderr",
     "output_type": "stream",
     "text": [
      "/home/mahelvson/anaconda3/envs/foot/lib/python3.9/site-packages/xgboost/sklearn.py:1224: UserWarning: The use of label encoder in XGBClassifier is deprecated and will be removed in a future release. To remove this warning, do the following: 1) Pass option use_label_encoder=False when constructing XGBClassifier object; and 2) Encode your labels (y) as integers starting with 0, i.e. 0, 1, 2, ..., [num_class - 1].\n",
      "  warnings.warn(label_encoder_deprecation_msg, UserWarning)\n"
     ]
    },
    {
     "name": "stdout",
     "output_type": "stream",
     "text": [
      "[18:12:16] WARNING: ../src/learner.cc:1115: Starting in XGBoost 1.3.0, the default evaluation metric used with the objective 'multi:softprob' was changed from 'merror' to 'mlogloss'. Explicitly set eval_metric if you'd like to restore the old behavior.\n"
     ]
    }
   ],
   "source": [
    "clf_xgb = xgb.XGBRFClassifier(n_estimators = 1000).fit(X_train, y_train)\n",
    "yhat_xgb = clf_xgb.predict(X_test)"
   ]
  },
  {
   "cell_type": "code",
   "execution_count": 517,
   "id": "81f1174a",
   "metadata": {
    "ExecuteTime": {
     "end_time": "2022-03-24T21:12:17.589218Z",
     "start_time": "2022-03-24T21:12:17.582812Z"
    }
   },
   "outputs": [
    {
     "data": {
      "text/plain": [
       "0.6747967479674797"
      ]
     },
     "execution_count": 517,
     "metadata": {},
     "output_type": "execute_result"
    }
   ],
   "source": [
    "accuracy_score(y_test, yhat_xgb)"
   ]
  },
  {
   "cell_type": "code",
   "execution_count": 518,
   "id": "62ab192f",
   "metadata": {
    "ExecuteTime": {
     "end_time": "2022-03-24T21:12:29.105344Z",
     "start_time": "2022-03-24T21:12:28.939141Z"
    }
   },
   "outputs": [
    {
     "data": {
      "text/plain": [
       "<AxesSubplot:>"
      ]
     },
     "execution_count": 518,
     "metadata": {},
     "output_type": "execute_result"
    },
    {
     "data": {
      "image/png": "[encoded data removed]",
      "text/plain": [
       "<Figure size 432x288 with 2 Axes>"
      ]
     },
     "metadata": {
      "needs_background": "light"
     },
     "output_type": "display_data"
    }
   ],
   "source": [
    "sns.heatmap(confusion_matrix(y_test, yhat_xgb, normalize='true'), annot=True, )"
   ]
  },
  {
   "cell_type": "markdown",
   "id": "92ef5452",
   "metadata": {},
   "source": [
    "## 7.3 Random Forest "
   ]
  },
  {
   "cell_type": "code",
   "execution_count": 519,
   "id": "11dbdf11",
   "metadata": {
    "ExecuteTime": {
     "end_time": "2022-03-24T21:13:00.129495Z",
     "start_time": "2022-03-24T21:12:56.002028Z"
    }
   },
   "outputs": [],
   "source": [
    "clf_rf = RandomForestClassifier(n_estimators = 2000, n_jobs = -1, random_state = 42).fit(X_train, y_train)\n",
    "yhat_rf = clf_rf.predict(X_test)"
   ]
  },
  {
   "cell_type": "code",
   "execution_count": 520,
   "id": "24893500",
   "metadata": {
    "ExecuteTime": {
     "end_time": "2022-03-24T21:13:07.507639Z",
     "start_time": "2022-03-24T21:13:07.502930Z"
    }
   },
   "outputs": [
    {
     "data": {
      "text/plain": [
       "0.6341463414634146"
      ]
     },
     "execution_count": 520,
     "metadata": {},
     "output_type": "execute_result"
    }
   ],
   "source": [
    "accuracy_score(y_test, yhat_rf)"
   ]
  },
  {
   "cell_type": "code",
   "execution_count": 521,
   "id": "8b1d5d30",
   "metadata": {
    "ExecuteTime": {
     "end_time": "2022-03-24T21:13:14.224439Z",
     "start_time": "2022-03-24T21:13:14.054807Z"
    }
   },
   "outputs": [
    {
     "data": {
      "image/png": "[encoded data removed]",
      "text/plain": [
       "<Figure size 432x288 with 2 Axes>"
      ]
     },
     "metadata": {
      "needs_background": "light"
     },
     "output_type": "display_data"
    }
   ],
   "source": [
    "sns.heatmap(confusion_matrix(y_test, yhat_rf, normalize='true'), annot=True, );"
   ]
  },
  {
   "cell_type": "markdown",
   "id": "932e9839",
   "metadata": {},
   "source": [
    "## 7.4 SVM "
   ]
  },
  {
   "cell_type": "code",
   "execution_count": 522,
   "id": "02d7f19e",
   "metadata": {
    "ExecuteTime": {
     "end_time": "2022-03-24T21:13:34.268872Z",
     "start_time": "2022-03-24T21:13:34.104577Z"
    }
   },
   "outputs": [],
   "source": [
    "clf_svc = svm.SVC().fit(X_train, y_train)\n",
    "y_hat_svc = clf_svc.predict(X_test)"
   ]
  },
  {
   "cell_type": "code",
   "execution_count": 523,
   "id": "12c91529",
   "metadata": {
    "ExecuteTime": {
     "end_time": "2022-03-24T21:13:38.582823Z",
     "start_time": "2022-03-24T21:13:38.578668Z"
    }
   },
   "outputs": [
    {
     "data": {
      "text/plain": [
       "0.5609756097560976"
      ]
     },
     "execution_count": 523,
     "metadata": {},
     "output_type": "execute_result"
    }
   ],
   "source": [
    "accuracy_score(y_test, y_hat_svc)"
   ]
  },
  {
   "cell_type": "code",
   "execution_count": 524,
   "id": "e11ba30f",
   "metadata": {
    "ExecuteTime": {
     "end_time": "2022-03-24T21:13:45.209191Z",
     "start_time": "2022-03-24T21:13:45.054147Z"
    }
   },
   "outputs": [
    {
     "data": {
      "image/png": "[encoded data removed]",
      "text/plain": [
       "<Figure size 432x288 with 2 Axes>"
      ]
     },
     "metadata": {
      "needs_background": "light"
     },
     "output_type": "display_data"
    }
   ],
   "source": [
    "sns.heatmap(confusion_matrix(y_test, y_hat_svc, normalize='true'), annot=True);"
   ]
  },
  {
   "cell_type": "markdown",
   "id": "6d58543c",
   "metadata": {},
   "source": [
    "## 7.5 SGD "
   ]
  },
  {
   "cell_type": "code",
   "execution_count": 525,
   "id": "1127c5ef",
   "metadata": {
    "ExecuteTime": {
     "end_time": "2022-03-24T21:14:06.606283Z",
     "start_time": "2022-03-24T21:14:06.518187Z"
    }
   },
   "outputs": [],
   "source": [
    "clf_sgd = SGDClassifier().fit(X_train, y_train)\n",
    "y_hat_sgd = clf_sgd.predict(X_test)"
   ]
  },
  {
   "cell_type": "code",
   "execution_count": 526,
   "id": "d4de7964",
   "metadata": {
    "ExecuteTime": {
     "end_time": "2022-03-24T21:14:11.785136Z",
     "start_time": "2022-03-24T21:14:11.780822Z"
    }
   },
   "outputs": [
    {
     "data": {
      "text/plain": [
       "0.5182926829268293"
      ]
     },
     "execution_count": 526,
     "metadata": {},
     "output_type": "execute_result"
    }
   ],
   "source": [
    "accuracy_score(y_test, y_hat_sgd)"
   ]
  },
  {
   "cell_type": "code",
   "execution_count": 527,
   "id": "99ad3ec5",
   "metadata": {
    "ExecuteTime": {
     "end_time": "2022-03-24T21:14:19.398229Z",
     "start_time": "2022-03-24T21:14:19.243716Z"
    }
   },
   "outputs": [
    {
     "data": {
      "text/plain": [
       "<AxesSubplot:>"
      ]
     },
     "execution_count": 527,
     "metadata": {},
     "output_type": "execute_result"
    },
    {
     "data": {
      "image/png": "[encoded data removed]",
      "text/plain": [
       "<Figure size 432x288 with 2 Axes>"
      ]
     },
     "metadata": {
      "needs_background": "light"
     },
     "output_type": "display_data"
    }
   ],
   "source": [
    "sns.heatmap(confusion_matrix(y_test, y_hat_sgd, normalize='true'), annot=True, )"
   ]
  },
  {
   "cell_type": "markdown",
   "id": "1f437b54",
   "metadata": {},
   "source": [
    "## 7.6 MLP "
   ]
  },
  {
   "cell_type": "code",
   "execution_count": 528,
   "id": "d341240a",
   "metadata": {
    "ExecuteTime": {
     "end_time": "2022-03-24T21:14:37.773370Z",
     "start_time": "2022-03-24T21:14:35.819228Z"
    }
   },
   "outputs": [],
   "source": [
    "clf_mlp = MLPClassifier(max_iter=500).fit(X_train, y_train)\n",
    "y_hat_mlp = clf_mlp.predict(X_test)"
   ]
  },
  {
   "cell_type": "code",
   "execution_count": 529,
   "id": "42bf9861",
   "metadata": {
    "ExecuteTime": {
     "end_time": "2022-03-24T21:14:42.199577Z",
     "start_time": "2022-03-24T21:14:42.193928Z"
    }
   },
   "outputs": [
    {
     "data": {
      "text/plain": [
       "0.5630081300813008"
      ]
     },
     "execution_count": 529,
     "metadata": {},
     "output_type": "execute_result"
    }
   ],
   "source": [
    "accuracy_score(y_test, y_hat_mlp)"
   ]
  },
  {
   "cell_type": "code",
   "execution_count": 530,
   "id": "97bc4ab2",
   "metadata": {
    "ExecuteTime": {
     "end_time": "2022-03-24T21:14:47.907223Z",
     "start_time": "2022-03-24T21:14:47.757068Z"
    }
   },
   "outputs": [
    {
     "data": {
      "image/png": "[encoded data removed]",
      "text/plain": [
       "<Figure size 432x288 with 2 Axes>"
      ]
     },
     "metadata": {
      "needs_background": "light"
     },
     "output_type": "display_data"
    }
   ],
   "source": [
    "sns.heatmap(confusion_matrix(y_test, y_hat_mlp, normalize='true'), annot=True, );"
   ]
  },
  {
   "cell_type": "markdown",
   "id": "23dcfea8",
   "metadata": {},
   "source": [
    "# 7.0 Fine Tuning "
   ]
  },
  {
   "cell_type": "code",
   "execution_count": null,
   "id": "af33d276",
   "metadata": {},
   "outputs": [],
   "source": []
  }
 ],
 "metadata": {
  "kernelspec": {
   "display_name": "Python 3 (ipykernel)",
   "language": "python",
   "name": "python3"
  },
  "language_info": {
   "codemirror_mode": {
    "name": "ipython",
    "version": 3
   },
   "file_extension": ".py",
   "mimetype": "text/x-python",
   "name": "python",
   "nbconvert_exporter": "python",
   "pygments_lexer": "ipython3",
   "version": "3.9.7"
  }
 },
 "nbformat": 4,
 "nbformat_minor": 5
}
