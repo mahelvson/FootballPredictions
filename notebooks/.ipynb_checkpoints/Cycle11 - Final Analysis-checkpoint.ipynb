{
 "cells": [
  {
   "cell_type": "markdown",
   "id": "3bdebc5a",
   "metadata": {},
   "source": [
    "# 0. Imports "
   ]
  },
  {
   "cell_type": "code",
   "execution_count": 1,
   "id": "1b2013bd",
   "metadata": {
    "ExecuteTime": {
     "end_time": "2022-03-23T13:13:53.375500Z",
     "start_time": "2022-03-23T13:13:49.383788Z"
    }
   },
   "outputs": [
    {
     "name": "stderr",
     "output_type": "stream",
     "text": [
      "/home/mahelvson/anaconda3/envs/foot/lib/python3.9/site-packages/xgboost/compat.py:36: FutureWarning: pandas.Int64Index is deprecated and will be removed from pandas in a future version. Use pandas.Index with the appropriate dtype instead.\n",
      "  from pandas import MultiIndex, Int64Index\n",
      "/home/mahelvson/anaconda3/envs/foot/lib/python3.9/site-packages/statsmodels/compat/pandas.py:61: FutureWarning: pandas.Int64Index is deprecated and will be removed from pandas in a future version. Use pandas.Index with the appropriate dtype instead.\n",
      "  from pandas import Int64Index as NumericIndex\n"
     ]
    }
   ],
   "source": [
    "import pandas as pd\n",
    "import numpy as np\n",
    "import matplotlib.pyplot as plt\n",
    "import seaborn as sns\n",
    "import xgboost as xgb\n",
    "\n",
    "from os import listdir\n",
    "from sklearn.model_selection import train_test_split, cross_val_score\n",
    "from sklearn.metrics import confusion_matrix, accuracy_score, classification_report\n",
    "from sklearn.ensemble import RandomForestRegressor, RandomForestClassifier\n",
    "from sklearn.metrics import mean_absolute_error, mean_squared_error, mean_absolute_percentage_error\n",
    "from sklearn.linear_model import LogisticRegression\n",
    "from sklearn.preprocessing import LabelEncoder, StandardScaler\n",
    "from sklearn import svm, tree\n",
    "from sklearn.naive_bayes import GaussianNB\n",
    "from sklearn.linear_model import SGDClassifier\n",
    "from sklearn.ensemble import VotingClassifier\n",
    "from sklearn.neural_network import MLPClassifier\n",
    "\n",
    "from boruta import BorutaPy\n",
    "from imblearn.under_sampling import RandomUnderSampler\n",
    "from imblearn.over_sampling import RandomOverSampler\n",
    "import statsmodels.api as sm"
   ]
  },
  {
   "cell_type": "markdown",
   "id": "d0053fb9",
   "metadata": {},
   "source": [
    "# 1.0 Data Loading "
   ]
  },
  {
   "cell_type": "code",
   "execution_count": 4,
   "id": "83cd7a65",
   "metadata": {
    "ExecuteTime": {
     "end_time": "2022-03-23T13:14:48.625495Z",
     "start_time": "2022-03-23T13:14:48.622654Z"
    }
   },
   "outputs": [],
   "source": [
    "data_path = '../datasets/'\n",
    "files = listdir(data_path)\n",
    "\n",
    "full = files[1]\n",
    "stats = files[2]"
   ]
  },
  {
   "cell_type": "markdown",
   "id": "f2d8f1d1",
   "metadata": {},
   "source": [
    "## 1.1 Full Matches "
   ]
  },
  {
   "cell_type": "code",
   "execution_count": 5,
   "id": "0e786f69",
   "metadata": {
    "ExecuteTime": {
     "end_time": "2022-03-23T13:14:53.690666Z",
     "start_time": "2022-03-23T13:14:53.641270Z"
    }
   },
   "outputs": [],
   "source": [
    "df_full = pd.read_csv(data_path + full)"
   ]
  },
  {
   "cell_type": "code",
   "execution_count": 6,
   "id": "41855210",
   "metadata": {
    "ExecuteTime": {
     "end_time": "2022-03-23T13:14:54.206973Z",
     "start_time": "2022-03-23T13:14:54.166553Z"
    }
   },
   "outputs": [
    {
     "data": {
      "text/html": [
       "<div>\n",
       "<style scoped>\n",
       "    .dataframe tbody tr th:only-of-type {\n",
       "        vertical-align: middle;\n",
       "    }\n",
       "\n",
       "    .dataframe tbody tr th {\n",
       "        vertical-align: top;\n",
       "    }\n",
       "\n",
       "    .dataframe thead th {\n",
       "        text-align: right;\n",
       "    }\n",
       "</style>\n",
       "<table border=\"1\" class=\"dataframe\">\n",
       "  <thead>\n",
       "    <tr style=\"text-align: right;\">\n",
       "      <th></th>\n",
       "      <th>ID</th>\n",
       "      <th>rodada</th>\n",
       "      <th>temporada</th>\n",
       "      <th>data</th>\n",
       "      <th>hora</th>\n",
       "      <th>dia</th>\n",
       "      <th>mandante</th>\n",
       "      <th>visitante</th>\n",
       "      <th>formacao_mandante</th>\n",
       "      <th>formacao_visitante</th>\n",
       "      <th>tecnico_mandante</th>\n",
       "      <th>tecnico_visitante</th>\n",
       "      <th>vencedor</th>\n",
       "      <th>arena</th>\n",
       "      <th>mandante_placar</th>\n",
       "      <th>visitante_placar</th>\n",
       "      <th>mandante_estado</th>\n",
       "      <th>visitante_estado</th>\n",
       "      <th>estado_vencedor</th>\n",
       "    </tr>\n",
       "  </thead>\n",
       "  <tbody>\n",
       "    <tr>\n",
       "      <th>0</th>\n",
       "      <td>1</td>\n",
       "      <td>1</td>\n",
       "      <td>2003</td>\n",
       "      <td>2003-03-29</td>\n",
       "      <td>16:00</td>\n",
       "      <td>Sabado</td>\n",
       "      <td>Guarani</td>\n",
       "      <td>Vasco</td>\n",
       "      <td>NaN</td>\n",
       "      <td>NaN</td>\n",
       "      <td>NaN</td>\n",
       "      <td>NaN</td>\n",
       "      <td>Guarani</td>\n",
       "      <td>brinco de ouro</td>\n",
       "      <td>4</td>\n",
       "      <td>2</td>\n",
       "      <td>SP</td>\n",
       "      <td>RJ</td>\n",
       "      <td>SP</td>\n",
       "    </tr>\n",
       "    <tr>\n",
       "      <th>1</th>\n",
       "      <td>2</td>\n",
       "      <td>1</td>\n",
       "      <td>2003</td>\n",
       "      <td>2003-03-29</td>\n",
       "      <td>16:00</td>\n",
       "      <td>Sabado</td>\n",
       "      <td>Athletico-PR</td>\n",
       "      <td>Gremio</td>\n",
       "      <td>NaN</td>\n",
       "      <td>NaN</td>\n",
       "      <td>NaN</td>\n",
       "      <td>NaN</td>\n",
       "      <td>Athletico-PR</td>\n",
       "      <td>arena da baixada</td>\n",
       "      <td>2</td>\n",
       "      <td>0</td>\n",
       "      <td>PR</td>\n",
       "      <td>RS</td>\n",
       "      <td>PR</td>\n",
       "    </tr>\n",
       "    <tr>\n",
       "      <th>2</th>\n",
       "      <td>3</td>\n",
       "      <td>1</td>\n",
       "      <td>2003</td>\n",
       "      <td>2003-03-30</td>\n",
       "      <td>16:00</td>\n",
       "      <td>Domingo</td>\n",
       "      <td>Flamengo</td>\n",
       "      <td>Coritiba</td>\n",
       "      <td>NaN</td>\n",
       "      <td>NaN</td>\n",
       "      <td>NaN</td>\n",
       "      <td>NaN</td>\n",
       "      <td>-</td>\n",
       "      <td>maracana</td>\n",
       "      <td>1</td>\n",
       "      <td>1</td>\n",
       "      <td>RJ</td>\n",
       "      <td>PR</td>\n",
       "      <td>-</td>\n",
       "    </tr>\n",
       "    <tr>\n",
       "      <th>3</th>\n",
       "      <td>4</td>\n",
       "      <td>1</td>\n",
       "      <td>2003</td>\n",
       "      <td>2003-03-30</td>\n",
       "      <td>16:00</td>\n",
       "      <td>Domingo</td>\n",
       "      <td>Goias</td>\n",
       "      <td>Paysandu</td>\n",
       "      <td>NaN</td>\n",
       "      <td>NaN</td>\n",
       "      <td>NaN</td>\n",
       "      <td>NaN</td>\n",
       "      <td>-</td>\n",
       "      <td>serra dourada</td>\n",
       "      <td>2</td>\n",
       "      <td>2</td>\n",
       "      <td>GO</td>\n",
       "      <td>PA</td>\n",
       "      <td>-</td>\n",
       "    </tr>\n",
       "    <tr>\n",
       "      <th>4</th>\n",
       "      <td>5</td>\n",
       "      <td>1</td>\n",
       "      <td>2003</td>\n",
       "      <td>2003-03-30</td>\n",
       "      <td>16:00</td>\n",
       "      <td>Domingo</td>\n",
       "      <td>Internacional</td>\n",
       "      <td>Ponte Preta</td>\n",
       "      <td>NaN</td>\n",
       "      <td>NaN</td>\n",
       "      <td>NaN</td>\n",
       "      <td>NaN</td>\n",
       "      <td>-</td>\n",
       "      <td>beira rio</td>\n",
       "      <td>1</td>\n",
       "      <td>1</td>\n",
       "      <td>RS</td>\n",
       "      <td>SP</td>\n",
       "      <td>-</td>\n",
       "    </tr>\n",
       "  </tbody>\n",
       "</table>\n",
       "</div>"
      ],
      "text/plain": [
       "   ID  rodada  temporada       data   hora      dia       mandante  \\\n",
       "0   1       1       2003 2003-03-29  16:00   Sabado        Guarani   \n",
       "1   2       1       2003 2003-03-29  16:00   Sabado   Athletico-PR   \n",
       "2   3       1       2003 2003-03-30  16:00  Domingo       Flamengo   \n",
       "3   4       1       2003 2003-03-30  16:00  Domingo          Goias   \n",
       "4   5       1       2003 2003-03-30  16:00  Domingo  Internacional   \n",
       "\n",
       "     visitante formacao_mandante formacao_visitante tecnico_mandante  \\\n",
       "0        Vasco               NaN                NaN              NaN   \n",
       "1       Gremio               NaN                NaN              NaN   \n",
       "2     Coritiba               NaN                NaN              NaN   \n",
       "3     Paysandu               NaN                NaN              NaN   \n",
       "4  Ponte Preta               NaN                NaN              NaN   \n",
       "\n",
       "  tecnico_visitante      vencedor             arena  mandante_placar  \\\n",
       "0               NaN       Guarani    brinco de ouro                4   \n",
       "1               NaN  Athletico-PR  arena da baixada                2   \n",
       "2               NaN             -          maracana                1   \n",
       "3               NaN             -     serra dourada                2   \n",
       "4               NaN             -         beira rio                1   \n",
       "\n",
       "   visitante_placar mandante_estado visitante_estado estado_vencedor  \n",
       "0                 2              SP               RJ              SP  \n",
       "1                 0              PR               RS              PR  \n",
       "2                 1              RJ               PR               -  \n",
       "3                 2              GO               PA               -  \n",
       "4                 1              RS               SP               -  "
      ]
     },
     "execution_count": 6,
     "metadata": {},
     "output_type": "execute_result"
    }
   ],
   "source": [
    "# indicando qual a temporada do campeonato\n",
    "\n",
    "df_full.loc[:, 'data'] = pd.to_datetime(df_full.data, yearfirst=True)\n",
    "df_full.insert(2, 'temporada', df_full.data.dt.year)\n",
    "df_full.head()"
   ]
  },
  {
   "cell_type": "code",
   "execution_count": 11,
   "id": "626a8cd1",
   "metadata": {
    "ExecuteTime": {
     "end_time": "2022-03-23T13:16:12.037486Z",
     "start_time": "2022-03-23T13:16:12.031629Z"
    }
   },
   "outputs": [
    {
     "name": "stdout",
     "output_type": "stream",
     "text": [
      "O número de linhas (exemplos) é 7645 e de colunas (atributos) é 19.\n"
     ]
    }
   ],
   "source": [
    "print(f'O número de linhas (exemplos) é {df_full.shape[0]} e de colunas (atributos) é {df_full.shape[1]}.')"
   ]
  },
  {
   "cell_type": "code",
   "execution_count": 238,
   "id": "3764a856",
   "metadata": {
    "ExecuteTime": {
     "end_time": "2022-03-23T14:35:52.958141Z",
     "start_time": "2022-03-23T14:35:52.942541Z"
    }
   },
   "outputs": [
    {
     "data": {
      "text/plain": [
       "temporada\n",
       "2003    46\n",
       "2004    46\n",
       "2005    42\n",
       "2006    38\n",
       "2007    38\n",
       "2008    38\n",
       "2009    38\n",
       "2010    38\n",
       "2011    38\n",
       "2012    38\n",
       "2013    38\n",
       "2014    38\n",
       "2015    38\n",
       "2016    38\n",
       "2017    38\n",
       "2018    38\n",
       "2019    38\n",
       "2020    27\n",
       "2021    38\n",
       "Name: rodada, dtype: int64"
      ]
     },
     "execution_count": 238,
     "metadata": {},
     "output_type": "execute_result"
    }
   ],
   "source": [
    "df_full.groupby('temporada')['rodada'].max()"
   ]
  },
  {
   "cell_type": "markdown",
   "id": "e089ff83",
   "metadata": {},
   "source": [
    "<b> Constatações <b>\n",
    "- Algumas temporadas tem mais ou menos jogos;\n",
    "- Em 2005 foram apenas 42 rodadas, pois era outro formato; \n",
    "- A temporada 2020 está incompleta, pois deveriam ser 38."
   ]
  },
  {
   "cell_type": "markdown",
   "id": "d4d204fc",
   "metadata": {},
   "source": [
    "## 1.2  Full Statistics"
   ]
  },
  {
   "cell_type": "code",
   "execution_count": 12,
   "id": "2b0f65b6",
   "metadata": {
    "ExecuteTime": {
     "end_time": "2022-03-23T13:16:36.503995Z",
     "start_time": "2022-03-23T13:16:36.472519Z"
    }
   },
   "outputs": [
    {
     "data": {
      "text/html": [
       "<div>\n",
       "<style scoped>\n",
       "    .dataframe tbody tr th:only-of-type {\n",
       "        vertical-align: middle;\n",
       "    }\n",
       "\n",
       "    .dataframe tbody tr th {\n",
       "        vertical-align: top;\n",
       "    }\n",
       "\n",
       "    .dataframe thead th {\n",
       "        text-align: right;\n",
       "    }\n",
       "</style>\n",
       "<table border=\"1\" class=\"dataframe\">\n",
       "  <thead>\n",
       "    <tr style=\"text-align: right;\">\n",
       "      <th></th>\n",
       "      <th>partida_id</th>\n",
       "      <th>rodada</th>\n",
       "      <th>clube</th>\n",
       "      <th>chutes</th>\n",
       "      <th>chutes_no_alvo</th>\n",
       "      <th>posse_de_bola</th>\n",
       "      <th>passes</th>\n",
       "      <th>precisao_passes</th>\n",
       "      <th>faltas</th>\n",
       "      <th>cartao_amarelo</th>\n",
       "      <th>cartao_vermelho</th>\n",
       "      <th>impedimentos</th>\n",
       "      <th>escanteios</th>\n",
       "    </tr>\n",
       "  </thead>\n",
       "  <tbody>\n",
       "    <tr>\n",
       "      <th>0</th>\n",
       "      <td>1</td>\n",
       "      <td>1</td>\n",
       "      <td>Guarani</td>\n",
       "      <td>0</td>\n",
       "      <td>0</td>\n",
       "      <td>NaN</td>\n",
       "      <td>0</td>\n",
       "      <td>NaN</td>\n",
       "      <td>0</td>\n",
       "      <td>0</td>\n",
       "      <td>0</td>\n",
       "      <td>0</td>\n",
       "      <td>0</td>\n",
       "    </tr>\n",
       "    <tr>\n",
       "      <th>1</th>\n",
       "      <td>1</td>\n",
       "      <td>1</td>\n",
       "      <td>Vasco</td>\n",
       "      <td>0</td>\n",
       "      <td>0</td>\n",
       "      <td>NaN</td>\n",
       "      <td>0</td>\n",
       "      <td>NaN</td>\n",
       "      <td>0</td>\n",
       "      <td>0</td>\n",
       "      <td>0</td>\n",
       "      <td>0</td>\n",
       "      <td>0</td>\n",
       "    </tr>\n",
       "    <tr>\n",
       "      <th>2</th>\n",
       "      <td>2</td>\n",
       "      <td>1</td>\n",
       "      <td>Athletico-PR</td>\n",
       "      <td>0</td>\n",
       "      <td>0</td>\n",
       "      <td>NaN</td>\n",
       "      <td>0</td>\n",
       "      <td>NaN</td>\n",
       "      <td>0</td>\n",
       "      <td>0</td>\n",
       "      <td>0</td>\n",
       "      <td>0</td>\n",
       "      <td>0</td>\n",
       "    </tr>\n",
       "    <tr>\n",
       "      <th>3</th>\n",
       "      <td>2</td>\n",
       "      <td>1</td>\n",
       "      <td>Gremio</td>\n",
       "      <td>0</td>\n",
       "      <td>0</td>\n",
       "      <td>NaN</td>\n",
       "      <td>0</td>\n",
       "      <td>NaN</td>\n",
       "      <td>0</td>\n",
       "      <td>0</td>\n",
       "      <td>0</td>\n",
       "      <td>0</td>\n",
       "      <td>0</td>\n",
       "    </tr>\n",
       "    <tr>\n",
       "      <th>4</th>\n",
       "      <td>3</td>\n",
       "      <td>1</td>\n",
       "      <td>Flamengo</td>\n",
       "      <td>0</td>\n",
       "      <td>0</td>\n",
       "      <td>NaN</td>\n",
       "      <td>0</td>\n",
       "      <td>NaN</td>\n",
       "      <td>0</td>\n",
       "      <td>0</td>\n",
       "      <td>0</td>\n",
       "      <td>0</td>\n",
       "      <td>0</td>\n",
       "    </tr>\n",
       "  </tbody>\n",
       "</table>\n",
       "</div>"
      ],
      "text/plain": [
       "   partida_id  rodada         clube  chutes  chutes_no_alvo posse_de_bola  \\\n",
       "0           1       1       Guarani       0               0           NaN   \n",
       "1           1       1         Vasco       0               0           NaN   \n",
       "2           2       1  Athletico-PR       0               0           NaN   \n",
       "3           2       1        Gremio       0               0           NaN   \n",
       "4           3       1      Flamengo       0               0           NaN   \n",
       "\n",
       "   passes precisao_passes  faltas  cartao_amarelo  cartao_vermelho  \\\n",
       "0       0             NaN       0               0                0   \n",
       "1       0             NaN       0               0                0   \n",
       "2       0             NaN       0               0                0   \n",
       "3       0             NaN       0               0                0   \n",
       "4       0             NaN       0               0                0   \n",
       "\n",
       "   impedimentos  escanteios  \n",
       "0             0           0  \n",
       "1             0           0  \n",
       "2             0           0  \n",
       "3             0           0  \n",
       "4             0           0  "
      ]
     },
     "execution_count": 12,
     "metadata": {},
     "output_type": "execute_result"
    }
   ],
   "source": [
    "df_stats = pd.read_csv(data_path + stats)\n",
    "df_stats.head()"
   ]
  },
  {
   "cell_type": "code",
   "execution_count": 13,
   "id": "07b6c089",
   "metadata": {
    "ExecuteTime": {
     "end_time": "2022-03-23T13:16:37.364188Z",
     "start_time": "2022-03-23T13:16:37.361026Z"
    }
   },
   "outputs": [
    {
     "name": "stdout",
     "output_type": "stream",
     "text": [
      "O número de linhas (exemplos) é 15290 e de colunas (atributos) é 13.\n"
     ]
    }
   ],
   "source": [
    "print(f'O número de linhas (exemplos) é {df_stats.shape[0]} e de colunas (atributos) é {df_stats.shape[1]}.')"
   ]
  },
  {
   "cell_type": "code",
   "execution_count": 14,
   "id": "2ee04d63",
   "metadata": {
    "ExecuteTime": {
     "end_time": "2022-03-23T13:16:57.840870Z",
     "start_time": "2022-03-23T13:16:57.837426Z"
    }
   },
   "outputs": [],
   "source": [
    "# renomeando a coluna para ficar compatível com df_full\n",
    "df_stats = df_stats.rename(columns = {'partida_id': 'ID'})"
   ]
  },
  {
   "cell_type": "markdown",
   "id": "426cbc68",
   "metadata": {},
   "source": [
    "# 2.0 Data Cleaning "
   ]
  },
  {
   "cell_type": "code",
   "execution_count": 168,
   "id": "99068698",
   "metadata": {
    "ExecuteTime": {
     "end_time": "2022-03-23T14:22:42.094446Z",
     "start_time": "2022-03-23T14:22:42.085359Z"
    }
   },
   "outputs": [],
   "source": [
    "# uma copia para facilitar recuperar os dados\n",
    "df_full2 = df_full.copy()\n",
    "df_stats2 = df_stats.copy()"
   ]
  },
  {
   "cell_type": "markdown",
   "id": "8757cce3",
   "metadata": {},
   "source": [
    "## 2.1 Full Matches"
   ]
  },
  {
   "cell_type": "markdown",
   "id": "810adffe",
   "metadata": {},
   "source": [
    "Como jogadores e técnicos mudam com frequência, só serão utilizados os dados dos campeonatos 2019, 2020 e 2021 nas análises."
   ]
  },
  {
   "cell_type": "code",
   "execution_count": 169,
   "id": "877e6b88",
   "metadata": {
    "ExecuteTime": {
     "end_time": "2022-03-23T14:22:42.621120Z",
     "start_time": "2022-03-23T14:22:42.609011Z"
    }
   },
   "outputs": [],
   "source": [
    "df_full2 = df_full2[df_full2.temporada > 2018].reset_index(drop=True)"
   ]
  },
  {
   "cell_type": "code",
   "execution_count": 170,
   "id": "38a87c0e",
   "metadata": {
    "ExecuteTime": {
     "end_time": "2022-03-23T14:22:42.796889Z",
     "start_time": "2022-03-23T14:22:42.783003Z"
    }
   },
   "outputs": [
    {
     "name": "stdout",
     "output_type": "stream",
     "text": [
      "% of NaN\n"
     ]
    },
    {
     "data": {
      "text/plain": [
       "ID                    0.0\n",
       "rodada                0.0\n",
       "temporada             0.0\n",
       "data                  0.0\n",
       "hora                  0.0\n",
       "dia                   0.0\n",
       "mandante              0.0\n",
       "visitante             0.0\n",
       "formacao_mandante     0.0\n",
       "formacao_visitante    0.0\n",
       "tecnico_mandante      0.0\n",
       "tecnico_visitante     0.0\n",
       "vencedor              0.0\n",
       "arena                 0.0\n",
       "mandante_placar       0.0\n",
       "visitante_placar      0.0\n",
       "mandante_estado       0.0\n",
       "visitante_estado      0.0\n",
       "estado_vencedor       0.0\n",
       "dtype: float64"
      ]
     },
     "execution_count": 170,
     "metadata": {},
     "output_type": "execute_result"
    }
   ],
   "source": [
    "print('% of NaN')\n",
    "df_full2.isna().sum()/df_full2.shape[0]"
   ]
  },
  {
   "cell_type": "code",
   "execution_count": 171,
   "id": "b720b8cc",
   "metadata": {
    "ExecuteTime": {
     "end_time": "2022-03-23T14:22:43.009812Z",
     "start_time": "2022-03-23T14:22:42.984988Z"
    }
   },
   "outputs": [],
   "source": [
    "# para garantir features com itens unicos\n",
    "\n",
    "def lower_case_features(df):\n",
    "    \"\"\"\n",
    "    Transforma todas as letras em minúsculas\n",
    "    \"\"\"\n",
    "    for column in df.columns.tolist():\n",
    "        if (df[column].dtypes == 'object'):\n",
    "            df[column] = [x.lower() for x in df[column].values]\n",
    "    return df\n",
    "            \n",
    "df_full2 = lower_case_features(df_full2)"
   ]
  },
  {
   "cell_type": "code",
   "execution_count": 172,
   "id": "e468e9b2",
   "metadata": {
    "ExecuteTime": {
     "end_time": "2022-03-23T14:22:43.221453Z",
     "start_time": "2022-03-23T14:22:43.186769Z"
    }
   },
   "outputs": [],
   "source": [
    "# criar as classes da variavel alvo\n",
    "\n",
    "def encode_target(row):\n",
    "    \"\"\"\n",
    "    Tranforma os resultados com base no vencedor, seguindo:\n",
    "    0 - empate\n",
    "    1 - mandante\n",
    "    2 - visitante\n",
    "    \"\"\"\n",
    "    if row['mandante'] == row['vencedor']:\n",
    "        return 1\n",
    "    elif row['visitante'] == row['vencedor']:\n",
    "        return 2\n",
    "    else:\n",
    "        return 0\n",
    "\n",
    "df_full2['vencedor'] = df_full2.apply(encode_target, axis = 1)    "
   ]
  },
  {
   "cell_type": "code",
   "execution_count": 173,
   "id": "9da3f59f",
   "metadata": {
    "ExecuteTime": {
     "end_time": "2022-03-23T14:22:43.393633Z",
     "start_time": "2022-03-23T14:22:43.384168Z"
    }
   },
   "outputs": [],
   "source": [
    "df_full2 = df_full2.reset_index(drop=True)"
   ]
  },
  {
   "cell_type": "code",
   "execution_count": 174,
   "id": "f446c95c",
   "metadata": {
    "ExecuteTime": {
     "end_time": "2022-03-23T14:22:43.601420Z",
     "start_time": "2022-03-23T14:22:43.572746Z"
    }
   },
   "outputs": [
    {
     "data": {
      "text/html": [
       "<div>\n",
       "<style scoped>\n",
       "    .dataframe tbody tr th:only-of-type {\n",
       "        vertical-align: middle;\n",
       "    }\n",
       "\n",
       "    .dataframe tbody tr th {\n",
       "        vertical-align: top;\n",
       "    }\n",
       "\n",
       "    .dataframe thead th {\n",
       "        text-align: right;\n",
       "    }\n",
       "</style>\n",
       "<table border=\"1\" class=\"dataframe\">\n",
       "  <thead>\n",
       "    <tr style=\"text-align: right;\">\n",
       "      <th></th>\n",
       "      <th>ID</th>\n",
       "      <th>rodada</th>\n",
       "      <th>temporada</th>\n",
       "      <th>data</th>\n",
       "      <th>hora</th>\n",
       "      <th>dia</th>\n",
       "      <th>mandante</th>\n",
       "      <th>visitante</th>\n",
       "      <th>formacao_mandante</th>\n",
       "      <th>formacao_visitante</th>\n",
       "      <th>tecnico_mandante</th>\n",
       "      <th>tecnico_visitante</th>\n",
       "      <th>vencedor</th>\n",
       "      <th>arena</th>\n",
       "      <th>mandante_placar</th>\n",
       "      <th>visitante_placar</th>\n",
       "      <th>mandante_estado</th>\n",
       "      <th>visitante_estado</th>\n",
       "      <th>estado_vencedor</th>\n",
       "    </tr>\n",
       "  </thead>\n",
       "  <tbody>\n",
       "    <tr>\n",
       "      <th>0</th>\n",
       "      <td>6506</td>\n",
       "      <td>1</td>\n",
       "      <td>2019</td>\n",
       "      <td>2019-04-27</td>\n",
       "      <td>16:02</td>\n",
       "      <td>sabado</td>\n",
       "      <td>sao paulo</td>\n",
       "      <td>botafogo-rj</td>\n",
       "      <td>4-2-3-1</td>\n",
       "      <td>4-1-4-1</td>\n",
       "      <td>e. de souza barroca</td>\n",
       "      <td>e. de souza barroca</td>\n",
       "      <td>1</td>\n",
       "      <td>morumbi</td>\n",
       "      <td>2</td>\n",
       "      <td>0</td>\n",
       "      <td>sp</td>\n",
       "      <td>rj</td>\n",
       "      <td>sp</td>\n",
       "    </tr>\n",
       "    <tr>\n",
       "      <th>1</th>\n",
       "      <td>6507</td>\n",
       "      <td>1</td>\n",
       "      <td>2019</td>\n",
       "      <td>2019-04-27</td>\n",
       "      <td>19:00</td>\n",
       "      <td>sabado</td>\n",
       "      <td>atletico-mg</td>\n",
       "      <td>avai</td>\n",
       "      <td>4-2-3-1</td>\n",
       "      <td>4-1-4-1</td>\n",
       "      <td>e. machado souto</td>\n",
       "      <td>e. machado souto</td>\n",
       "      <td>1</td>\n",
       "      <td>estadio raimundo sampaio</td>\n",
       "      <td>2</td>\n",
       "      <td>1</td>\n",
       "      <td>mg</td>\n",
       "      <td>sc</td>\n",
       "      <td>mg</td>\n",
       "    </tr>\n",
       "    <tr>\n",
       "      <th>2</th>\n",
       "      <td>6508</td>\n",
       "      <td>1</td>\n",
       "      <td>2019</td>\n",
       "      <td>2019-04-27</td>\n",
       "      <td>19:01</td>\n",
       "      <td>sabado</td>\n",
       "      <td>chapecoense</td>\n",
       "      <td>internacional</td>\n",
       "      <td>4-2-3-1</td>\n",
       "      <td>4-3-3</td>\n",
       "      <td>o. hellmann</td>\n",
       "      <td>o. hellmann</td>\n",
       "      <td>1</td>\n",
       "      <td>arena conda</td>\n",
       "      <td>2</td>\n",
       "      <td>0</td>\n",
       "      <td>sc</td>\n",
       "      <td>rs</td>\n",
       "      <td>sc</td>\n",
       "    </tr>\n",
       "    <tr>\n",
       "      <th>3</th>\n",
       "      <td>6509</td>\n",
       "      <td>1</td>\n",
       "      <td>2019</td>\n",
       "      <td>2019-04-27</td>\n",
       "      <td>21:00</td>\n",
       "      <td>sabado</td>\n",
       "      <td>flamengo</td>\n",
       "      <td>cruzeiro</td>\n",
       "      <td>4-2-3-1</td>\n",
       "      <td>4-2-3-1</td>\n",
       "      <td>l. venker de menezes</td>\n",
       "      <td>l. venker de menezes</td>\n",
       "      <td>1</td>\n",
       "      <td>maracana</td>\n",
       "      <td>3</td>\n",
       "      <td>1</td>\n",
       "      <td>rj</td>\n",
       "      <td>mg</td>\n",
       "      <td>rj</td>\n",
       "    </tr>\n",
       "    <tr>\n",
       "      <th>4</th>\n",
       "      <td>6510</td>\n",
       "      <td>1</td>\n",
       "      <td>2019</td>\n",
       "      <td>2019-04-28</td>\n",
       "      <td>11:03</td>\n",
       "      <td>domingo</td>\n",
       "      <td>gremio</td>\n",
       "      <td>santos</td>\n",
       "      <td>4-2-3-1</td>\n",
       "      <td>3-4-1-2</td>\n",
       "      <td>j. sampaoli moya</td>\n",
       "      <td>j. sampaoli moya</td>\n",
       "      <td>2</td>\n",
       "      <td>arena do gremio</td>\n",
       "      <td>1</td>\n",
       "      <td>2</td>\n",
       "      <td>rs</td>\n",
       "      <td>sp</td>\n",
       "      <td>sp</td>\n",
       "    </tr>\n",
       "  </tbody>\n",
       "</table>\n",
       "</div>"
      ],
      "text/plain": [
       "     ID  rodada  temporada       data   hora      dia     mandante  \\\n",
       "0  6506       1       2019 2019-04-27  16:02   sabado    sao paulo   \n",
       "1  6507       1       2019 2019-04-27  19:00   sabado  atletico-mg   \n",
       "2  6508       1       2019 2019-04-27  19:01   sabado  chapecoense   \n",
       "3  6509       1       2019 2019-04-27  21:00   sabado     flamengo   \n",
       "4  6510       1       2019 2019-04-28  11:03  domingo       gremio   \n",
       "\n",
       "       visitante formacao_mandante formacao_visitante      tecnico_mandante  \\\n",
       "0    botafogo-rj           4-2-3-1            4-1-4-1   e. de souza barroca   \n",
       "1           avai           4-2-3-1            4-1-4-1      e. machado souto   \n",
       "2  internacional           4-2-3-1              4-3-3           o. hellmann   \n",
       "3       cruzeiro           4-2-3-1            4-2-3-1  l. venker de menezes   \n",
       "4         santos           4-2-3-1            3-4-1-2      j. sampaoli moya   \n",
       "\n",
       "      tecnico_visitante  vencedor                     arena  mandante_placar  \\\n",
       "0   e. de souza barroca         1                   morumbi                2   \n",
       "1      e. machado souto         1  estadio raimundo sampaio                2   \n",
       "2           o. hellmann         1               arena conda                2   \n",
       "3  l. venker de menezes         1                  maracana                3   \n",
       "4      j. sampaoli moya         2           arena do gremio                1   \n",
       "\n",
       "   visitante_placar mandante_estado visitante_estado estado_vencedor  \n",
       "0                 0              sp               rj              sp  \n",
       "1                 1              mg               sc              mg  \n",
       "2                 0              sc               rs              sc  \n",
       "3                 1              rj               mg              rj  \n",
       "4                 2              rs               sp              sp  "
      ]
     },
     "execution_count": 174,
     "metadata": {},
     "output_type": "execute_result"
    }
   ],
   "source": [
    "df_full2.head()"
   ]
  },
  {
   "cell_type": "markdown",
   "id": "44d75f87",
   "metadata": {},
   "source": [
    "## 2.2 Full Statistics"
   ]
  },
  {
   "cell_type": "markdown",
   "id": "bc2e44d1",
   "metadata": {},
   "source": [
    "Os dados das estatísticas da partida não possuem a coluna de data, mas o ID servirá como filtro para fatiar o mesmo período."
   ]
  },
  {
   "cell_type": "code",
   "execution_count": 175,
   "id": "892dc9ad",
   "metadata": {
    "ExecuteTime": {
     "end_time": "2022-03-23T14:22:44.217914Z",
     "start_time": "2022-03-23T14:22:44.184933Z"
    }
   },
   "outputs": [
    {
     "data": {
      "text/html": [
       "<div>\n",
       "<style scoped>\n",
       "    .dataframe tbody tr th:only-of-type {\n",
       "        vertical-align: middle;\n",
       "    }\n",
       "\n",
       "    .dataframe tbody tr th {\n",
       "        vertical-align: top;\n",
       "    }\n",
       "\n",
       "    .dataframe thead th {\n",
       "        text-align: right;\n",
       "    }\n",
       "</style>\n",
       "<table border=\"1\" class=\"dataframe\">\n",
       "  <thead>\n",
       "    <tr style=\"text-align: right;\">\n",
       "      <th></th>\n",
       "      <th>ID</th>\n",
       "      <th>rodada</th>\n",
       "      <th>temporada</th>\n",
       "      <th>data</th>\n",
       "      <th>hora</th>\n",
       "      <th>dia</th>\n",
       "      <th>mandante</th>\n",
       "      <th>visitante</th>\n",
       "      <th>formacao_mandante</th>\n",
       "      <th>formacao_visitante</th>\n",
       "      <th>tecnico_mandante</th>\n",
       "      <th>tecnico_visitante</th>\n",
       "      <th>vencedor</th>\n",
       "      <th>arena</th>\n",
       "      <th>mandante_placar</th>\n",
       "      <th>visitante_placar</th>\n",
       "      <th>mandante_estado</th>\n",
       "      <th>visitante_estado</th>\n",
       "      <th>estado_vencedor</th>\n",
       "    </tr>\n",
       "  </thead>\n",
       "  <tbody>\n",
       "    <tr>\n",
       "      <th>0</th>\n",
       "      <td>6506</td>\n",
       "      <td>1</td>\n",
       "      <td>2019</td>\n",
       "      <td>2019-04-27</td>\n",
       "      <td>16:02</td>\n",
       "      <td>sabado</td>\n",
       "      <td>sao paulo</td>\n",
       "      <td>botafogo-rj</td>\n",
       "      <td>4-2-3-1</td>\n",
       "      <td>4-1-4-1</td>\n",
       "      <td>e. de souza barroca</td>\n",
       "      <td>e. de souza barroca</td>\n",
       "      <td>1</td>\n",
       "      <td>morumbi</td>\n",
       "      <td>2</td>\n",
       "      <td>0</td>\n",
       "      <td>sp</td>\n",
       "      <td>rj</td>\n",
       "      <td>sp</td>\n",
       "    </tr>\n",
       "    <tr>\n",
       "      <th>1</th>\n",
       "      <td>6507</td>\n",
       "      <td>1</td>\n",
       "      <td>2019</td>\n",
       "      <td>2019-04-27</td>\n",
       "      <td>19:00</td>\n",
       "      <td>sabado</td>\n",
       "      <td>atletico-mg</td>\n",
       "      <td>avai</td>\n",
       "      <td>4-2-3-1</td>\n",
       "      <td>4-1-4-1</td>\n",
       "      <td>e. machado souto</td>\n",
       "      <td>e. machado souto</td>\n",
       "      <td>1</td>\n",
       "      <td>estadio raimundo sampaio</td>\n",
       "      <td>2</td>\n",
       "      <td>1</td>\n",
       "      <td>mg</td>\n",
       "      <td>sc</td>\n",
       "      <td>mg</td>\n",
       "    </tr>\n",
       "    <tr>\n",
       "      <th>2</th>\n",
       "      <td>6508</td>\n",
       "      <td>1</td>\n",
       "      <td>2019</td>\n",
       "      <td>2019-04-27</td>\n",
       "      <td>19:01</td>\n",
       "      <td>sabado</td>\n",
       "      <td>chapecoense</td>\n",
       "      <td>internacional</td>\n",
       "      <td>4-2-3-1</td>\n",
       "      <td>4-3-3</td>\n",
       "      <td>o. hellmann</td>\n",
       "      <td>o. hellmann</td>\n",
       "      <td>1</td>\n",
       "      <td>arena conda</td>\n",
       "      <td>2</td>\n",
       "      <td>0</td>\n",
       "      <td>sc</td>\n",
       "      <td>rs</td>\n",
       "      <td>sc</td>\n",
       "    </tr>\n",
       "    <tr>\n",
       "      <th>3</th>\n",
       "      <td>6509</td>\n",
       "      <td>1</td>\n",
       "      <td>2019</td>\n",
       "      <td>2019-04-27</td>\n",
       "      <td>21:00</td>\n",
       "      <td>sabado</td>\n",
       "      <td>flamengo</td>\n",
       "      <td>cruzeiro</td>\n",
       "      <td>4-2-3-1</td>\n",
       "      <td>4-2-3-1</td>\n",
       "      <td>l. venker de menezes</td>\n",
       "      <td>l. venker de menezes</td>\n",
       "      <td>1</td>\n",
       "      <td>maracana</td>\n",
       "      <td>3</td>\n",
       "      <td>1</td>\n",
       "      <td>rj</td>\n",
       "      <td>mg</td>\n",
       "      <td>rj</td>\n",
       "    </tr>\n",
       "    <tr>\n",
       "      <th>4</th>\n",
       "      <td>6510</td>\n",
       "      <td>1</td>\n",
       "      <td>2019</td>\n",
       "      <td>2019-04-28</td>\n",
       "      <td>11:03</td>\n",
       "      <td>domingo</td>\n",
       "      <td>gremio</td>\n",
       "      <td>santos</td>\n",
       "      <td>4-2-3-1</td>\n",
       "      <td>3-4-1-2</td>\n",
       "      <td>j. sampaoli moya</td>\n",
       "      <td>j. sampaoli moya</td>\n",
       "      <td>2</td>\n",
       "      <td>arena do gremio</td>\n",
       "      <td>1</td>\n",
       "      <td>2</td>\n",
       "      <td>rs</td>\n",
       "      <td>sp</td>\n",
       "      <td>sp</td>\n",
       "    </tr>\n",
       "  </tbody>\n",
       "</table>\n",
       "</div>"
      ],
      "text/plain": [
       "     ID  rodada  temporada       data   hora      dia     mandante  \\\n",
       "0  6506       1       2019 2019-04-27  16:02   sabado    sao paulo   \n",
       "1  6507       1       2019 2019-04-27  19:00   sabado  atletico-mg   \n",
       "2  6508       1       2019 2019-04-27  19:01   sabado  chapecoense   \n",
       "3  6509       1       2019 2019-04-27  21:00   sabado     flamengo   \n",
       "4  6510       1       2019 2019-04-28  11:03  domingo       gremio   \n",
       "\n",
       "       visitante formacao_mandante formacao_visitante      tecnico_mandante  \\\n",
       "0    botafogo-rj           4-2-3-1            4-1-4-1   e. de souza barroca   \n",
       "1           avai           4-2-3-1            4-1-4-1      e. machado souto   \n",
       "2  internacional           4-2-3-1              4-3-3           o. hellmann   \n",
       "3       cruzeiro           4-2-3-1            4-2-3-1  l. venker de menezes   \n",
       "4         santos           4-2-3-1            3-4-1-2      j. sampaoli moya   \n",
       "\n",
       "      tecnico_visitante  vencedor                     arena  mandante_placar  \\\n",
       "0   e. de souza barroca         1                   morumbi                2   \n",
       "1      e. machado souto         1  estadio raimundo sampaio                2   \n",
       "2           o. hellmann         1               arena conda                2   \n",
       "3  l. venker de menezes         1                  maracana                3   \n",
       "4      j. sampaoli moya         2           arena do gremio                1   \n",
       "\n",
       "   visitante_placar mandante_estado visitante_estado estado_vencedor  \n",
       "0                 0              sp               rj              sp  \n",
       "1                 1              mg               sc              mg  \n",
       "2                 0              sc               rs              sc  \n",
       "3                 1              rj               mg              rj  \n",
       "4                 2              rs               sp              sp  "
      ]
     },
     "execution_count": 175,
     "metadata": {},
     "output_type": "execute_result"
    }
   ],
   "source": [
    "df_full2.head()"
   ]
  },
  {
   "cell_type": "code",
   "execution_count": 176,
   "id": "be6a33b0",
   "metadata": {
    "ExecuteTime": {
     "end_time": "2022-03-23T14:22:44.406987Z",
     "start_time": "2022-03-23T14:22:44.397783Z"
    }
   },
   "outputs": [
    {
     "name": "stdout",
     "output_type": "stream",
     "text": [
      "O primeiro ID das partidas desde 2019 é: 6506\n"
     ]
    }
   ],
   "source": [
    "print('O primeiro ID das partidas desde 2019 é:', df_full2.loc[0,'ID'])"
   ]
  },
  {
   "cell_type": "code",
   "execution_count": 177,
   "id": "295a963d",
   "metadata": {
    "ExecuteTime": {
     "end_time": "2022-03-23T14:22:44.620040Z",
     "start_time": "2022-03-23T14:22:44.609640Z"
    }
   },
   "outputs": [],
   "source": [
    "# Entao servira como filtro\n",
    "df_stats2 = df_stats2[df_stats2.ID >= df_full2.loc[0,'ID']]"
   ]
  },
  {
   "cell_type": "code",
   "execution_count": 178,
   "id": "e5c49279",
   "metadata": {
    "ExecuteTime": {
     "end_time": "2022-03-23T14:22:45.064368Z",
     "start_time": "2022-03-23T14:22:45.047387Z"
    }
   },
   "outputs": [
    {
     "name": "stdout",
     "output_type": "stream",
     "text": [
      "% of NaN\n"
     ]
    },
    {
     "data": {
      "text/plain": [
       "ID                 0.0\n",
       "rodada             0.0\n",
       "clube              0.0\n",
       "chutes             0.0\n",
       "chutes_no_alvo     0.0\n",
       "posse_de_bola      0.0\n",
       "passes             0.0\n",
       "precisao_passes    0.0\n",
       "faltas             0.0\n",
       "cartao_amarelo     0.0\n",
       "cartao_vermelho    0.0\n",
       "impedimentos       0.0\n",
       "escanteios         0.0\n",
       "dtype: float64"
      ]
     },
     "execution_count": 178,
     "metadata": {},
     "output_type": "execute_result"
    }
   ],
   "source": [
    "print('% of NaN')\n",
    "df_stats2.isna().sum()/df_stats2.shape[0]"
   ]
  },
  {
   "cell_type": "code",
   "execution_count": 179,
   "id": "335c76eb",
   "metadata": {
    "ExecuteTime": {
     "end_time": "2022-03-23T14:22:45.481958Z",
     "start_time": "2022-03-23T14:22:45.473938Z"
    }
   },
   "outputs": [],
   "source": [
    "df_stats2 = df_stats2.reset_index(drop=True)"
   ]
  },
  {
   "cell_type": "code",
   "execution_count": 180,
   "id": "b2671542",
   "metadata": {
    "ExecuteTime": {
     "end_time": "2022-03-23T14:22:46.044518Z",
     "start_time": "2022-03-23T14:22:46.023582Z"
    }
   },
   "outputs": [],
   "source": [
    "# alguns valores de posse_de_bola e precisao_passes sao object, possuem Nan e simbolo '%'\n",
    "df_stats2['posse_de_bola'] = df_stats2['posse_de_bola'].apply(lambda x: np.nan if x == 'None' else x)\n",
    "df_stats2['precisao_passes'] = df_stats2['precisao_passes'].apply(lambda x: np.nan if x == 'None' else x)\n",
    "\n",
    "# retirando \n",
    "df_stats2 = df_stats2.dropna()\n",
    "\n",
    "df_stats2['posse_de_bola'] = df_stats2['posse_de_bola'].apply(lambda x: int(x[0:2])/100)\n",
    "df_stats2['precisao_passes'] = df_stats2['precisao_passes'].apply(lambda x: int(x[0:2])/100)\n",
    "\n",
    "df_stats2 = lower_case_features(df_stats2)\n",
    "df_stats2 = df_stats2.reset_index(drop=True)"
   ]
  },
  {
   "cell_type": "code",
   "execution_count": 181,
   "id": "3b87147a",
   "metadata": {
    "ExecuteTime": {
     "end_time": "2022-03-23T14:22:46.704109Z",
     "start_time": "2022-03-23T14:22:46.691922Z"
    }
   },
   "outputs": [
    {
     "data": {
      "text/html": [
       "<div>\n",
       "<style scoped>\n",
       "    .dataframe tbody tr th:only-of-type {\n",
       "        vertical-align: middle;\n",
       "    }\n",
       "\n",
       "    .dataframe tbody tr th {\n",
       "        vertical-align: top;\n",
       "    }\n",
       "\n",
       "    .dataframe thead th {\n",
       "        text-align: right;\n",
       "    }\n",
       "</style>\n",
       "<table border=\"1\" class=\"dataframe\">\n",
       "  <thead>\n",
       "    <tr style=\"text-align: right;\">\n",
       "      <th></th>\n",
       "      <th>ID</th>\n",
       "      <th>rodada</th>\n",
       "      <th>clube</th>\n",
       "      <th>chutes</th>\n",
       "      <th>chutes_no_alvo</th>\n",
       "      <th>posse_de_bola</th>\n",
       "      <th>passes</th>\n",
       "      <th>precisao_passes</th>\n",
       "      <th>faltas</th>\n",
       "      <th>cartao_amarelo</th>\n",
       "      <th>cartao_vermelho</th>\n",
       "      <th>impedimentos</th>\n",
       "      <th>escanteios</th>\n",
       "    </tr>\n",
       "  </thead>\n",
       "  <tbody>\n",
       "    <tr>\n",
       "      <th>0</th>\n",
       "      <td>6506</td>\n",
       "      <td>1</td>\n",
       "      <td>sao paulo</td>\n",
       "      <td>7</td>\n",
       "      <td>4</td>\n",
       "      <td>0.28</td>\n",
       "      <td>269</td>\n",
       "      <td>0.75</td>\n",
       "      <td>23</td>\n",
       "      <td>0</td>\n",
       "      <td>0</td>\n",
       "      <td>2</td>\n",
       "      <td>3</td>\n",
       "    </tr>\n",
       "    <tr>\n",
       "      <th>1</th>\n",
       "      <td>6506</td>\n",
       "      <td>1</td>\n",
       "      <td>botafogo-rj</td>\n",
       "      <td>11</td>\n",
       "      <td>2</td>\n",
       "      <td>0.72</td>\n",
       "      <td>702</td>\n",
       "      <td>0.89</td>\n",
       "      <td>7</td>\n",
       "      <td>4</td>\n",
       "      <td>0</td>\n",
       "      <td>1</td>\n",
       "      <td>2</td>\n",
       "    </tr>\n",
       "    <tr>\n",
       "      <th>2</th>\n",
       "      <td>6507</td>\n",
       "      <td>1</td>\n",
       "      <td>atletico-mg</td>\n",
       "      <td>11</td>\n",
       "      <td>3</td>\n",
       "      <td>0.60</td>\n",
       "      <td>549</td>\n",
       "      <td>0.86</td>\n",
       "      <td>12</td>\n",
       "      <td>0</td>\n",
       "      <td>0</td>\n",
       "      <td>0</td>\n",
       "      <td>4</td>\n",
       "    </tr>\n",
       "    <tr>\n",
       "      <th>3</th>\n",
       "      <td>6507</td>\n",
       "      <td>1</td>\n",
       "      <td>avai</td>\n",
       "      <td>6</td>\n",
       "      <td>1</td>\n",
       "      <td>0.40</td>\n",
       "      <td>362</td>\n",
       "      <td>0.79</td>\n",
       "      <td>18</td>\n",
       "      <td>1</td>\n",
       "      <td>0</td>\n",
       "      <td>1</td>\n",
       "      <td>4</td>\n",
       "    </tr>\n",
       "    <tr>\n",
       "      <th>4</th>\n",
       "      <td>6508</td>\n",
       "      <td>1</td>\n",
       "      <td>chapecoense</td>\n",
       "      <td>12</td>\n",
       "      <td>7</td>\n",
       "      <td>0.43</td>\n",
       "      <td>392</td>\n",
       "      <td>0.77</td>\n",
       "      <td>15</td>\n",
       "      <td>1</td>\n",
       "      <td>0</td>\n",
       "      <td>0</td>\n",
       "      <td>3</td>\n",
       "    </tr>\n",
       "  </tbody>\n",
       "</table>\n",
       "</div>"
      ],
      "text/plain": [
       "     ID  rodada        clube  chutes  chutes_no_alvo  posse_de_bola  passes  \\\n",
       "0  6506       1    sao paulo       7               4           0.28     269   \n",
       "1  6506       1  botafogo-rj      11               2           0.72     702   \n",
       "2  6507       1  atletico-mg      11               3           0.60     549   \n",
       "3  6507       1         avai       6               1           0.40     362   \n",
       "4  6508       1  chapecoense      12               7           0.43     392   \n",
       "\n",
       "   precisao_passes  faltas  cartao_amarelo  cartao_vermelho  impedimentos  \\\n",
       "0             0.75      23               0                0             2   \n",
       "1             0.89       7               4                0             1   \n",
       "2             0.86      12               0                0             0   \n",
       "3             0.79      18               1                0             1   \n",
       "4             0.77      15               1                0             0   \n",
       "\n",
       "   escanteios  \n",
       "0           3  \n",
       "1           2  \n",
       "2           4  \n",
       "3           4  \n",
       "4           3  "
      ]
     },
     "execution_count": 181,
     "metadata": {},
     "output_type": "execute_result"
    }
   ],
   "source": [
    "df_stats2.head()"
   ]
  },
  {
   "cell_type": "markdown",
   "id": "70c70097",
   "metadata": {},
   "source": [
    "# 3.0 Exploratory Data Analysis"
   ]
  },
  {
   "cell_type": "markdown",
   "id": "0994416d",
   "metadata": {},
   "source": [
    "A ideia aqui é tentar adquirir algum conhecimento das variáveis que possa ajudar a identificar as melhores features e modelos que possam ser utilizados posteriormente. Também são geradas algumas hipóteses com base nestas análises."
   ]
  },
  {
   "cell_type": "code",
   "execution_count": 474,
   "id": "76981a1d",
   "metadata": {
    "ExecuteTime": {
     "end_time": "2022-03-23T18:20:03.497076Z",
     "start_time": "2022-03-23T18:20:03.493477Z"
    }
   },
   "outputs": [],
   "source": [
    "df_full3 = df_full2.copy()\n",
    "df_stats3 = df_stats2.copy()"
   ]
  },
  {
   "cell_type": "markdown",
   "id": "0d5f00ea",
   "metadata": {},
   "source": [
    "## 3.1 Winner by Home x Away"
   ]
  },
  {
   "cell_type": "code",
   "execution_count": 475,
   "id": "d93fbfdc",
   "metadata": {
    "ExecuteTime": {
     "end_time": "2022-03-23T18:20:03.899559Z",
     "start_time": "2022-03-23T18:20:03.799695Z"
    }
   },
   "outputs": [
    {
     "data": {
      "image/png": "[encoded data removed]",
      "text/plain": [
       "<Figure size 432x288 with 1 Axes>"
      ]
     },
     "metadata": {
      "needs_background": "light"
     },
     "output_type": "display_data"
    }
   ],
   "source": [
    "df_full3.vencedor.value_counts(normalize=True).plot(kind='bar');\n",
    "plt.xticks(ticks=[0, 1, 2], labels=['Mandante', 'Empate', 'Visitante']);"
   ]
  },
  {
   "cell_type": "markdown",
   "id": "e50c10e9",
   "metadata": {
    "ExecuteTime": {
     "end_time": "2022-03-23T14:27:20.499119Z",
     "start_time": "2022-03-23T14:27:20.493454Z"
    }
   },
   "source": [
    "<b> Constatações <b>\n",
    "- A maioria dos jogos é vencida pelo mandante; \n",
    "- Os visitantes vencem na menor frequência"
   ]
  },
  {
   "cell_type": "markdown",
   "id": "bd058ae2",
   "metadata": {},
   "source": [
    "## 3.2 Winner by Day of the Week"
   ]
  },
  {
   "cell_type": "code",
   "execution_count": 476,
   "id": "3c7c64e0",
   "metadata": {
    "ExecuteTime": {
     "end_time": "2022-03-23T18:20:04.411097Z",
     "start_time": "2022-03-23T18:20:04.235815Z"
    }
   },
   "outputs": [
    {
     "data": {
      "image/png": "[encoded data removed]",
      "text/plain": [
       "<Figure size 432x288 with 1 Axes>"
      ]
     },
     "metadata": {
      "needs_background": "light"
     },
     "output_type": "display_data"
    }
   ],
   "source": [
    "sns.countplot(y=df_full3.dia, hue=df_full3.vencedor, order=['domingo', 'segunda-feira', 'terça-feira', 'quarta-feira', 'quinta-feira', 'sexta-feira', 'sabado']);\n",
    "plt.legend(['Empate', 'Mandante', 'Visitante']);"
   ]
  },
  {
   "cell_type": "markdown",
   "id": "c8e474d1",
   "metadata": {},
   "source": [
    "<b> Constatações <b>\n",
    "- Visualmente não há diferença no efeito mandante x visitante em diferentes dias da semana;\n",
    "- A única exceção é a segunda-feira, mas não foi feita análise da significância desta diferença;"
   ]
  },
  {
   "cell_type": "markdown",
   "id": "ccdea104",
   "metadata": {},
   "source": [
    "## 3.3 Winner by State "
   ]
  },
  {
   "cell_type": "code",
   "execution_count": 477,
   "id": "237882b5",
   "metadata": {
    "ExecuteTime": {
     "end_time": "2022-03-23T18:20:04.737441Z",
     "start_time": "2022-03-23T18:20:04.711841Z"
    }
   },
   "outputs": [],
   "source": [
    "df_aux = df_full3[['temporada', 'mandante', 'mandante_estado']]\n",
    "df_aux2 = pd.DataFrame(pd.DataFrame(df_aux.groupby(['temporada', 'mandante_estado']).value_counts()).drop(0, axis = 1).groupby(['temporada', 'mandante_estado']).value_counts(), columns=['counts'])\n",
    "df_aux2 = df_aux2.reset_index()"
   ]
  },
  {
   "cell_type": "code",
   "execution_count": 478,
   "id": "ce9dd12a",
   "metadata": {
    "ExecuteTime": {
     "end_time": "2022-03-23T18:20:05.189803Z",
     "start_time": "2022-03-23T18:20:04.874285Z"
    }
   },
   "outputs": [
    {
     "data": {
      "image/png": "[encoded data removed]",
      "text/plain": [
       "<Figure size 1152x360 with 1 Axes>"
      ]
     },
     "metadata": {
      "needs_background": "light"
     },
     "output_type": "display_data"
    }
   ],
   "source": [
    "plt.figure(figsize=(16,5));\n",
    "sns.barplot(x=df_aux2.temporada, y=df_aux2.counts, hue=df_aux2.mandante_estado, palette='bright');\n",
    "plt.legend();\n",
    "plt.title('N. de times por estado por temporada');"
   ]
  },
  {
   "cell_type": "markdown",
   "id": "3d95e8d6",
   "metadata": {},
   "source": [
    "<b> Para avaliar os times que mais venceram por temporada, é mais coerente apresentar a relação entre n. de vitorias / n. de times, já que a distribuição da quantidade destes não é homogênea <b>"
   ]
  },
  {
   "cell_type": "code",
   "execution_count": 479,
   "id": "0bc1ad5d",
   "metadata": {
    "ExecuteTime": {
     "end_time": "2022-03-23T18:20:05.230790Z",
     "start_time": "2022-03-23T18:20:05.204581Z"
    }
   },
   "outputs": [
    {
     "data": {
      "text/html": [
       "<div>\n",
       "<style scoped>\n",
       "    .dataframe tbody tr th:only-of-type {\n",
       "        vertical-align: middle;\n",
       "    }\n",
       "\n",
       "    .dataframe tbody tr th {\n",
       "        vertical-align: top;\n",
       "    }\n",
       "\n",
       "    .dataframe thead th {\n",
       "        text-align: right;\n",
       "    }\n",
       "</style>\n",
       "<table border=\"1\" class=\"dataframe\">\n",
       "  <thead>\n",
       "    <tr style=\"text-align: right;\">\n",
       "      <th></th>\n",
       "      <th></th>\n",
       "      <th>contagem_de_times</th>\n",
       "      <th>contagem_vitoria</th>\n",
       "      <th>vitorias_por_times</th>\n",
       "    </tr>\n",
       "    <tr>\n",
       "      <th>temporada</th>\n",
       "      <th></th>\n",
       "      <th></th>\n",
       "      <th></th>\n",
       "      <th></th>\n",
       "    </tr>\n",
       "  </thead>\n",
       "  <tbody>\n",
       "    <tr>\n",
       "      <th rowspan=\"5\" valign=\"top\">2019</th>\n",
       "      <th>al</th>\n",
       "      <td>1</td>\n",
       "      <td>8</td>\n",
       "      <td>8.0</td>\n",
       "    </tr>\n",
       "    <tr>\n",
       "      <th>ba</th>\n",
       "      <td>1</td>\n",
       "      <td>12</td>\n",
       "      <td>12.0</td>\n",
       "    </tr>\n",
       "    <tr>\n",
       "      <th>ce</th>\n",
       "      <td>2</td>\n",
       "      <td>25</td>\n",
       "      <td>12.5</td>\n",
       "    </tr>\n",
       "    <tr>\n",
       "      <th>go</th>\n",
       "      <td>1</td>\n",
       "      <td>15</td>\n",
       "      <td>15.0</td>\n",
       "    </tr>\n",
       "    <tr>\n",
       "      <th>mg</th>\n",
       "      <td>2</td>\n",
       "      <td>20</td>\n",
       "      <td>10.0</td>\n",
       "    </tr>\n",
       "  </tbody>\n",
       "</table>\n",
       "</div>"
      ],
      "text/plain": [
       "              contagem_de_times  contagem_vitoria  vitorias_por_times\n",
       "temporada                                                            \n",
       "2019      al                  1                 8                 8.0\n",
       "          ba                  1                12                12.0\n",
       "          ce                  2                25                12.5\n",
       "          go                  1                15                15.0\n",
       "          mg                  2                20                10.0"
      ]
     },
     "execution_count": 479,
     "metadata": {},
     "output_type": "execute_result"
    }
   ],
   "source": [
    "df_aux2 = df_aux2.set_index(['temporada', 'mandante_estado'])\n",
    "df_aux2 = df_aux2.rename(columns={'counts': 'contagem_de_times'})\n",
    "\n",
    "df_aux3 = pd.DataFrame(pd.DataFrame(df_full3[df_full2['estado_vencedor'] != '-'][['temporada', 'estado_vencedor']] \\\n",
    "                                    .value_counts(), columns=['contagem_vitoria']).groupby(['temporada', 'estado_vencedor']) \\\n",
    "                                    .value_counts()).drop(0, axis = 1) \\\n",
    "                                    .reset_index(['contagem_vitoria'])\n",
    "\n",
    "df_aux4 = pd.concat([df_aux2, df_aux3], axis = 1)\n",
    "df_aux4.loc[:, 'vitorias_por_times'] = df_aux3.contagem_vitoria / df_aux4.contagem_de_times\n",
    "df_aux4.head()"
   ]
  },
  {
   "cell_type": "markdown",
   "id": "6adfbf8e",
   "metadata": {},
   "source": [
    "<b> Constatações <b>\n",
    "- São Paulo e Rio de Janeiro são os clubes com maior quantidades de times na série A;\n",
    "- Rio Grande do Sul em 2021 aparece com 3 clubes;\n",
    "- No geral, a maioria dos estados tem entre 1 e 2 times na série A;"
   ]
  },
  {
   "cell_type": "markdown",
   "id": "b5f6fa72",
   "metadata": {},
   "source": [
    "### 3.3.1 Winner by state x time"
   ]
  },
  {
   "cell_type": "code",
   "execution_count": 480,
   "id": "06974669",
   "metadata": {
    "ExecuteTime": {
     "end_time": "2022-03-23T18:20:06.578093Z",
     "start_time": "2022-03-23T18:20:06.566820Z"
    }
   },
   "outputs": [
    {
     "data": {
      "text/html": [
       "<div>\n",
       "<style scoped>\n",
       "    .dataframe tbody tr th:only-of-type {\n",
       "        vertical-align: middle;\n",
       "    }\n",
       "\n",
       "    .dataframe tbody tr th {\n",
       "        vertical-align: top;\n",
       "    }\n",
       "\n",
       "    .dataframe thead th {\n",
       "        text-align: right;\n",
       "    }\n",
       "</style>\n",
       "<table border=\"1\" class=\"dataframe\">\n",
       "  <thead>\n",
       "    <tr style=\"text-align: right;\">\n",
       "      <th></th>\n",
       "      <th>temporada</th>\n",
       "      <th>time</th>\n",
       "      <th>contagem_de_times</th>\n",
       "      <th>contagem_vitoria</th>\n",
       "      <th>vitorias_por_times</th>\n",
       "    </tr>\n",
       "  </thead>\n",
       "  <tbody>\n",
       "    <tr>\n",
       "      <th>0</th>\n",
       "      <td>2019</td>\n",
       "      <td>al</td>\n",
       "      <td>1</td>\n",
       "      <td>8</td>\n",
       "      <td>8.0</td>\n",
       "    </tr>\n",
       "    <tr>\n",
       "      <th>1</th>\n",
       "      <td>2019</td>\n",
       "      <td>ba</td>\n",
       "      <td>1</td>\n",
       "      <td>12</td>\n",
       "      <td>12.0</td>\n",
       "    </tr>\n",
       "    <tr>\n",
       "      <th>2</th>\n",
       "      <td>2019</td>\n",
       "      <td>ce</td>\n",
       "      <td>2</td>\n",
       "      <td>25</td>\n",
       "      <td>12.5</td>\n",
       "    </tr>\n",
       "    <tr>\n",
       "      <th>3</th>\n",
       "      <td>2019</td>\n",
       "      <td>go</td>\n",
       "      <td>1</td>\n",
       "      <td>15</td>\n",
       "      <td>15.0</td>\n",
       "    </tr>\n",
       "    <tr>\n",
       "      <th>4</th>\n",
       "      <td>2019</td>\n",
       "      <td>mg</td>\n",
       "      <td>2</td>\n",
       "      <td>20</td>\n",
       "      <td>10.0</td>\n",
       "    </tr>\n",
       "  </tbody>\n",
       "</table>\n",
       "</div>"
      ],
      "text/plain": [
       "   temporada time  contagem_de_times  contagem_vitoria  vitorias_por_times\n",
       "0       2019   al                  1                 8                 8.0\n",
       "1       2019   ba                  1                12                12.0\n",
       "2       2019   ce                  2                25                12.5\n",
       "3       2019   go                  1                15                15.0\n",
       "4       2019   mg                  2                20                10.0"
      ]
     },
     "execution_count": 480,
     "metadata": {},
     "output_type": "execute_result"
    }
   ],
   "source": [
    "df_aux4 = df_aux4.reset_index()\n",
    "df_aux4 = df_aux4.rename(columns={'level_1': 'time'})\n",
    "df_aux4.head()"
   ]
  },
  {
   "cell_type": "code",
   "execution_count": 481,
   "id": "dcad00eb",
   "metadata": {
    "ExecuteTime": {
     "end_time": "2022-03-23T18:20:07.745134Z",
     "start_time": "2022-03-23T18:20:07.416952Z"
    }
   },
   "outputs": [
    {
     "data": {
      "image/png": "[encoded data removed]",
      "text/plain": [
       "<Figure size 1152x360 with 1 Axes>"
      ]
     },
     "metadata": {
      "needs_background": "light"
     },
     "output_type": "display_data"
    }
   ],
   "source": [
    "plt.figure(figsize=(16, 5));\n",
    "sns.barplot(x=df_aux4['temporada'], y=df_aux4['vitorias_por_times'], hue=df_aux4['time'], palette='bright');\n",
    "plt.title('N. de Vitorias/N. de Times por temporada');"
   ]
  },
  {
   "cell_type": "markdown",
   "id": "8c72fb2e",
   "metadata": {},
   "source": [
    "<b> Constatações <b>\n",
    "- MG aparece como o estado mais vitorioso nos últimos 2 anos da série;\n",
    "- São Paulo mesmo com a racionalização dos valores, ainda é um dos estados mais vitoriosos;\n"
   ]
  },
  {
   "cell_type": "markdown",
   "id": "1f9ed40e",
   "metadata": {},
   "source": [
    "### 3.3.2 Most Winning States "
   ]
  },
  {
   "cell_type": "code",
   "execution_count": 486,
   "id": "641ea76c",
   "metadata": {
    "ExecuteTime": {
     "end_time": "2022-03-23T18:20:39.276561Z",
     "start_time": "2022-03-23T18:20:39.266152Z"
    }
   },
   "outputs": [],
   "source": [
    "df_aux5 = df_aux4.groupby('time').sum().drop('vitorias_por_times', axis = 1)\n",
    "df_aux5.loc[:, 'vitorias_por_times'] = df_aux5.contagem_vitoria / df_aux5.contagem_de_times\n",
    "df_aux5 = df_aux5.reset_index().drop(['temporada'], axis = 1)"
   ]
  },
  {
   "cell_type": "code",
   "execution_count": 487,
   "id": "8c401c38",
   "metadata": {
    "ExecuteTime": {
     "end_time": "2022-03-23T18:20:43.709864Z",
     "start_time": "2022-03-23T18:20:43.552753Z"
    }
   },
   "outputs": [
    {
     "data": {
      "image/png": "[encoded data removed]",
      "text/plain": [
       "<Figure size 1152x360 with 1 Axes>"
      ]
     },
     "metadata": {
      "needs_background": "light"
     },
     "output_type": "display_data"
    }
   ],
   "source": [
    "plt.figure(figsize=(16,5));\n",
    "sns.barplot(x = df_aux5.sort_values('vitorias_por_times').time, y = df_aux5.sort_values('vitorias_por_times').vitorias_por_times, );"
   ]
  },
  {
   "cell_type": "markdown",
   "id": "ba6ed833",
   "metadata": {},
   "source": [
    "<b> Constatações <b>\n",
    "- No agregado geral, MG mantém a liderança, seguido por SP;\n",
    "- Já RJ, ocupa a 4a posição, mesmo tendo quase sempre mais times no campeonato."
   ]
  },
  {
   "cell_type": "markdown",
   "id": "86a8806c",
   "metadata": {},
   "source": [
    "## 3.4 Goals Distribution "
   ]
  },
  {
   "cell_type": "markdown",
   "id": "926fb578",
   "metadata": {},
   "source": [
    "### 3.4.1 Overview "
   ]
  },
  {
   "cell_type": "code",
   "execution_count": 488,
   "id": "32bc552f",
   "metadata": {
    "ExecuteTime": {
     "end_time": "2022-03-23T18:20:46.375459Z",
     "start_time": "2022-03-23T18:20:46.052594Z"
    }
   },
   "outputs": [
    {
     "data": {
      "image/png": "[encoded data removed]",
      "text/plain": [
       "<Figure size 864x288 with 2 Axes>"
      ]
     },
     "metadata": {
      "needs_background": "light"
     },
     "output_type": "display_data"
    }
   ],
   "source": [
    "plt.figure(figsize=(12,4));\n",
    "plt.subplot(1,2,1);\n",
    "sns.histplot(data=df_full3[['mandante_placar', 'visitante_placar']], discrete=True, binwidth=0.5, fill=False );\n",
    "plt.legend(['Mandante', 'Visitante']);\n",
    "plt.title('Histograma');\n",
    "plt.subplot(1,2,2);\n",
    "sns.kdeplot(data=df_full3[['mandante_placar', 'visitante_placar']]);\n",
    "plt.legend(['Mandante', 'Visitante']);\n",
    "plt.title('Densidade de probabilidade');"
   ]
  },
  {
   "cell_type": "markdown",
   "id": "307d9f60",
   "metadata": {},
   "source": [
    "<b> Constatações <b>\n",
    "- 1 Gol por partida é bastante frequente, sendo até mais comum que partidas sem gols;\n",
    "- Os visitantes fazem mais vezes 2 gols ou mais gols que os mandantes;"
   ]
  },
  {
   "cell_type": "markdown",
   "id": "ffc272db",
   "metadata": {},
   "source": [
    "### 3.4.2  Goals by round over the time"
   ]
  },
  {
   "cell_type": "code",
   "execution_count": 489,
   "id": "9c78ff23",
   "metadata": {
    "ExecuteTime": {
     "end_time": "2022-03-23T18:20:47.548981Z",
     "start_time": "2022-03-23T18:20:47.539835Z"
    }
   },
   "outputs": [],
   "source": [
    "df_full3.loc[:, 'total_de_gols'] = df_full3['mandante_placar'] + df_full3['visitante_placar']\n",
    "df_aux = pd.DataFrame(df_full3.groupby(['temporada', 'rodada']).sum()['total_de_gols']).reset_index()"
   ]
  },
  {
   "cell_type": "code",
   "execution_count": 490,
   "id": "b89076a0",
   "metadata": {
    "ExecuteTime": {
     "end_time": "2022-03-23T18:20:48.514993Z",
     "start_time": "2022-03-23T18:20:48.339851Z"
    }
   },
   "outputs": [
    {
     "data": {
      "image/png": "[encoded data removed]",
      "text/plain": [
       "<Figure size 1152x360 with 1 Axes>"
      ]
     },
     "metadata": {
      "needs_background": "light"
     },
     "output_type": "display_data"
    }
   ],
   "source": [
    "plt.figure(figsize=(16,5));\n",
    "sns.lineplot(y=df_aux.total_de_gols, x=df_aux.rodada, hue=df_aux.temporada, palette='bright');\n",
    "plt.hlines(df_aux.total_de_gols.mean(), xmin = 1, xmax=38, color='black', label='media', linestyle='dashed');\n",
    "plt.legend();"
   ]
  },
  {
   "cell_type": "markdown",
   "id": "3f7cfbe9",
   "metadata": {},
   "source": [
    "<b> Constatações <b>\n",
    "- Com exceção das últimas rodadas do campeonato de 2021, a rodada do campeonato não aparenta influenciar o número de gols;"
   ]
  },
  {
   "cell_type": "markdown",
   "id": "503e41ce",
   "metadata": {},
   "source": [
    "## 3.5 Kicks "
   ]
  },
  {
   "cell_type": "markdown",
   "id": "263421ee",
   "metadata": {},
   "source": [
    "### 3.5.1 Overview "
   ]
  },
  {
   "cell_type": "markdown",
   "id": "869e4ad5",
   "metadata": {},
   "source": [
    "<b>Top 10 maiores chutadores<b>"
   ]
  },
  {
   "cell_type": "code",
   "execution_count": 535,
   "id": "0dbe86b9",
   "metadata": {
    "ExecuteTime": {
     "end_time": "2022-03-23T19:11:39.863490Z",
     "start_time": "2022-03-23T19:11:39.851007Z"
    }
   },
   "outputs": [
    {
     "name": "stdout",
     "output_type": "stream",
     "text": [
      "Top 10 em chutes por partida\n"
     ]
    },
    {
     "data": {
      "text/plain": [
       "clube\n",
       "atletico-mg    15.572727\n",
       "flamengo       15.380531\n",
       "america-mg     15.210526\n",
       "palmeiras      14.473214\n",
       "bragantino     14.381579\n",
       "gremio         14.071429\n",
       "sao paulo      13.455357\n",
       "cruzeiro       13.400000\n",
       "santos         13.070175\n",
       "bahia          13.000000\n",
       "Name: chutes, dtype: float64"
      ]
     },
     "execution_count": 535,
     "metadata": {},
     "output_type": "execute_result"
    }
   ],
   "source": [
    "print('Top 10 em chutes por partida')\n",
    "df_stats3.groupby('clube').mean().sort_values('chutes', ascending=False).head(10)['chutes']"
   ]
  },
  {
   "cell_type": "markdown",
   "id": "cf5a5100",
   "metadata": {},
   "source": [
    "<b>Top 10 chutadores mais precisos<b>"
   ]
  },
  {
   "cell_type": "code",
   "execution_count": 534,
   "id": "b33e53d2",
   "metadata": {
    "ExecuteTime": {
     "end_time": "2022-03-23T19:11:35.375277Z",
     "start_time": "2022-03-23T19:11:35.363312Z"
    }
   },
   "outputs": [
    {
     "name": "stdout",
     "output_type": "stream",
     "text": [
      "Top 10 em chutes no alvo por partida\n"
     ]
    },
    {
     "data": {
      "text/plain": [
       "clube\n",
       "flamengo         5.840708\n",
       "atletico-mg      5.227273\n",
       "palmeiras        4.883929\n",
       "gremio           4.696429\n",
       "bragantino       4.618421\n",
       "sao paulo        4.571429\n",
       "santos           4.552632\n",
       "internacional    4.508772\n",
       "america-mg       4.394737\n",
       "bahia            4.342105\n",
       "Name: chutes_no_alvo, dtype: float64"
      ]
     },
     "execution_count": 534,
     "metadata": {},
     "output_type": "execute_result"
    }
   ],
   "source": [
    "print('Top 10 em chutes no alvo por partida')\n",
    "df_stats3.groupby('clube').mean().sort_values('chutes_no_alvo', ascending=False).head(10)['chutes_no_alvo']"
   ]
  },
  {
   "cell_type": "markdown",
   "id": "77f6e042",
   "metadata": {},
   "source": [
    "<b> Constatações <b>\n",
    "- Flamengo e Atlético-MG são os times que mais chutaram ao gol;\n",
    "- Flamengo e Atlético-MG são os times que tem maior precisão no chute."
   ]
  },
  {
   "cell_type": "markdown",
   "id": "025b3c79",
   "metadata": {},
   "source": [
    "### 3.5.2 Kicks by all teams over the time"
   ]
  },
  {
   "cell_type": "code",
   "execution_count": 493,
   "id": "2dff7fe1",
   "metadata": {
    "ExecuteTime": {
     "end_time": "2022-03-23T18:21:15.604984Z",
     "start_time": "2022-03-23T18:21:15.596329Z"
    }
   },
   "outputs": [],
   "source": [
    "# como df_stats3 nao tem a data, sera inlcuida\n",
    "df_stats3 = pd.merge(df_stats3, df_full3[['ID','data']], on='ID')"
   ]
  },
  {
   "cell_type": "code",
   "execution_count": 494,
   "id": "4ff34852",
   "metadata": {
    "ExecuteTime": {
     "end_time": "2022-03-23T18:21:16.056859Z",
     "start_time": "2022-03-23T18:21:16.045880Z"
    }
   },
   "outputs": [],
   "source": [
    "# criando uma feature para temporada e mudando a posicao dela e da data\n",
    "df_stats3.insert(2, 'temporada', df_stats3.data.dt.year)\n",
    "df_aux = df_stats3[['data']]\n",
    "df_stats3 = df_stats3.drop('data', axis = 1)\n",
    "df_stats3.insert(3, 'data', df_aux)"
   ]
  },
  {
   "cell_type": "code",
   "execution_count": 495,
   "id": "919dfbe8",
   "metadata": {
    "ExecuteTime": {
     "end_time": "2022-03-23T18:21:16.802932Z",
     "start_time": "2022-03-23T18:21:16.783078Z"
    }
   },
   "outputs": [],
   "source": [
    "df_aux = pd.DataFrame(df_stats3.groupby(['temporada', 'rodada']).mean()['chutes']).reset_index()"
   ]
  },
  {
   "cell_type": "code",
   "execution_count": 496,
   "id": "b4071112",
   "metadata": {
    "ExecuteTime": {
     "end_time": "2022-03-23T18:21:17.473722Z",
     "start_time": "2022-03-23T18:21:17.283120Z"
    }
   },
   "outputs": [
    {
     "data": {
      "image/png": "[encoded data removed]",
      "text/plain": [
       "<Figure size 1152x360 with 1 Axes>"
      ]
     },
     "metadata": {
      "needs_background": "light"
     },
     "output_type": "display_data"
    }
   ],
   "source": [
    "plt.figure(figsize=(16,5));\n",
    "sns.lineplot(y=df_aux.chutes, x=df_aux.rodada, hue=df_aux.temporada, palette='bright');\n",
    "plt.hlines(df_aux.chutes.mean(), xmin = 1, xmax=38, color='black', label='media', linestyle='dashed');\n",
    "plt.legend();"
   ]
  },
  {
   "cell_type": "code",
   "execution_count": 497,
   "id": "df234507",
   "metadata": {
    "ExecuteTime": {
     "end_time": "2022-03-23T18:21:20.418248Z",
     "start_time": "2022-03-23T18:21:20.399801Z"
    }
   },
   "outputs": [
    {
     "name": "stdout",
     "output_type": "stream",
     "text": [
      "Estatísticas dos chutes por temporada\n"
     ]
    },
    {
     "data": {
      "text/html": [
       "<div>\n",
       "<style scoped>\n",
       "    .dataframe tbody tr th:only-of-type {\n",
       "        vertical-align: middle;\n",
       "    }\n",
       "\n",
       "    .dataframe tbody tr th {\n",
       "        vertical-align: top;\n",
       "    }\n",
       "\n",
       "    .dataframe thead th {\n",
       "        text-align: right;\n",
       "    }\n",
       "</style>\n",
       "<table border=\"1\" class=\"dataframe\">\n",
       "  <thead>\n",
       "    <tr style=\"text-align: right;\">\n",
       "      <th></th>\n",
       "      <th>count</th>\n",
       "      <th>mean</th>\n",
       "      <th>std</th>\n",
       "      <th>min</th>\n",
       "      <th>25%</th>\n",
       "      <th>50%</th>\n",
       "      <th>75%</th>\n",
       "      <th>max</th>\n",
       "    </tr>\n",
       "    <tr>\n",
       "      <th>temporada</th>\n",
       "      <th></th>\n",
       "      <th></th>\n",
       "      <th></th>\n",
       "      <th></th>\n",
       "      <th></th>\n",
       "      <th></th>\n",
       "      <th></th>\n",
       "      <th></th>\n",
       "    </tr>\n",
       "  </thead>\n",
       "  <tbody>\n",
       "    <tr>\n",
       "      <th>2019</th>\n",
       "      <td>38.0</td>\n",
       "      <td>13.589547</td>\n",
       "      <td>0.918254</td>\n",
       "      <td>11.550000</td>\n",
       "      <td>12.958333</td>\n",
       "      <td>13.633333</td>\n",
       "      <td>14.277778</td>\n",
       "      <td>15.388889</td>\n",
       "    </tr>\n",
       "    <tr>\n",
       "      <th>2020</th>\n",
       "      <td>27.0</td>\n",
       "      <td>12.574486</td>\n",
       "      <td>0.660720</td>\n",
       "      <td>11.333333</td>\n",
       "      <td>12.105556</td>\n",
       "      <td>12.550000</td>\n",
       "      <td>13.025000</td>\n",
       "      <td>13.750000</td>\n",
       "    </tr>\n",
       "    <tr>\n",
       "      <th>2021</th>\n",
       "      <td>38.0</td>\n",
       "      <td>12.600478</td>\n",
       "      <td>0.799922</td>\n",
       "      <td>11.100000</td>\n",
       "      <td>12.050000</td>\n",
       "      <td>12.612500</td>\n",
       "      <td>12.987500</td>\n",
       "      <td>14.225000</td>\n",
       "    </tr>\n",
       "  </tbody>\n",
       "</table>\n",
       "</div>"
      ],
      "text/plain": [
       "           count       mean       std        min        25%        50%  \\\n",
       "temporada                                                                \n",
       "2019        38.0  13.589547  0.918254  11.550000  12.958333  13.633333   \n",
       "2020        27.0  12.574486  0.660720  11.333333  12.105556  12.550000   \n",
       "2021        38.0  12.600478  0.799922  11.100000  12.050000  12.612500   \n",
       "\n",
       "                 75%        max  \n",
       "temporada                        \n",
       "2019       14.277778  15.388889  \n",
       "2020       13.025000  13.750000  \n",
       "2021       12.987500  14.225000  "
      ]
     },
     "execution_count": 497,
     "metadata": {},
     "output_type": "execute_result"
    }
   ],
   "source": [
    "print('Estatísticas dos chutes por temporada')\n",
    "df_aux.groupby('temporada')['chutes'].describe()"
   ]
  },
  {
   "cell_type": "markdown",
   "id": "2c4bdb0e",
   "metadata": {},
   "source": [
    "<b> Constatações <b>\n",
    "- Visualmente, o ano de 2019 teve mais chutes ao gol em geral;\n",
    "- 2019 vem maior variabilidade no número de chutes por dada;\n",
    "- As estatísticas estão bem próximas ao longo destes anos, mas não foi analisada significância estatística."
   ]
  },
  {
   "cell_type": "markdown",
   "id": "a147ecc5",
   "metadata": {},
   "source": [
    "## 3.6 Ball possession "
   ]
  },
  {
   "cell_type": "markdown",
   "id": "d5a70304",
   "metadata": {},
   "source": [
    "### 3.6.1 Overview "
   ]
  },
  {
   "cell_type": "markdown",
   "id": "99d276a6",
   "metadata": {},
   "source": [
    "<b> Top 10 clubes em posse de bola <b>"
   ]
  },
  {
   "cell_type": "code",
   "execution_count": 532,
   "id": "910341af",
   "metadata": {
    "ExecuteTime": {
     "end_time": "2022-03-23T19:11:04.252299Z",
     "start_time": "2022-03-23T19:11:04.241114Z"
    }
   },
   "outputs": [
    {
     "name": "stdout",
     "output_type": "stream",
     "text": [
      "Top 10 em média da posse de bola por partida\n"
     ]
    },
    {
     "data": {
      "text/plain": [
       "clube\n",
       "flamengo         0.599115\n",
       "sao paulo        0.559107\n",
       "atletico-mg      0.559000\n",
       "gremio           0.540804\n",
       "santos           0.538421\n",
       "cruzeiro         0.526571\n",
       "athletico-pr     0.524255\n",
       "corinthians      0.522035\n",
       "fluminense       0.520000\n",
       "internacional    0.512982\n",
       "Name: posse_de_bola, dtype: float64"
      ]
     },
     "execution_count": 532,
     "metadata": {},
     "output_type": "execute_result"
    }
   ],
   "source": [
    "print('Top 10 em média da posse de bola por partida')\n",
    "df_stats3.groupby('clube').mean().sort_values('posse_de_bola', ascending=False).head(10)['posse_de_bola']"
   ]
  },
  {
   "cell_type": "markdown",
   "id": "3609ed68",
   "metadata": {},
   "source": [
    "### 3.6.2 Ball possession over the time"
   ]
  },
  {
   "cell_type": "code",
   "execution_count": 516,
   "id": "f6f7edc9",
   "metadata": {
    "ExecuteTime": {
     "end_time": "2022-03-23T18:34:06.143131Z",
     "start_time": "2022-03-23T18:34:06.133595Z"
    }
   },
   "outputs": [],
   "source": [
    "df_aux = df_stats3.groupby(['temporada', 'clube']).mean()[['posse_de_bola']].reset_index();"
   ]
  },
  {
   "cell_type": "code",
   "execution_count": 530,
   "id": "a9d737ab",
   "metadata": {
    "ExecuteTime": {
     "end_time": "2022-03-23T19:09:38.870137Z",
     "start_time": "2022-03-23T19:09:38.702138Z"
    }
   },
   "outputs": [
    {
     "data": {
      "image/png": "[encoded data removed]",
      "text/plain": [
       "<Figure size 1152x360 with 1 Axes>"
      ]
     },
     "metadata": {
      "needs_background": "light"
     },
     "output_type": "display_data"
    }
   ],
   "source": [
    "df_aux2 = pd.concat([df_aux[df_aux['clube'] == 'flamengo'], df_aux[df_aux['clube'] == 'atletico-mg'], df_aux[df_aux['clube'] == 'sao paulo']], axis=0)\n",
    "plt.figure(figsize=(16,5));\n",
    "sns.lineplot(x=df_aux2.temporada, y=df_aux2.posse_de_bola, hue=df_aux2.clube);\n",
    "plt.xticks([2019, 2020, 2021])\n",
    "plt.title('Posse de bola ao longo do tempo para os Top 3 do resultado agregado');"
   ]
  },
  {
   "cell_type": "markdown",
   "id": "bf104a56",
   "metadata": {},
   "source": [
    "<b> Constatações <b>\n",
    "- Flamengo é o time que tem maior posse de bola;\n",
    "- Atlético-MG e São Paulo estão praticamente empatados na segunda colocação;\n",
    "- Flamengo manteve praticamente a mesma posse de bola ao longo do tempo;\n",
    "- A posse de bola do Atlético-MG teve um aumento visualmente significativo."
   ]
  },
  {
   "cell_type": "markdown",
   "id": "16c19c50",
   "metadata": {},
   "source": [
    "## 3.7 Faults "
   ]
  },
  {
   "cell_type": "code",
   "execution_count": 533,
   "id": "50963e41",
   "metadata": {
    "ExecuteTime": {
     "end_time": "2022-03-23T19:11:13.548961Z",
     "start_time": "2022-03-23T19:11:13.537480Z"
    }
   },
   "outputs": [
    {
     "name": "stdout",
     "output_type": "stream",
     "text": [
      "Top 10 em média do n. de faltas\n"
     ]
    },
    {
     "data": {
      "text/plain": [
       "clube\n",
       "sao paulo        16.428571\n",
       "internacional    16.307018\n",
       "athletico-pr     16.138298\n",
       "goias            15.756757\n",
       "palmeiras        15.714286\n",
       "coritiba         15.684211\n",
       "flamengo         15.672566\n",
       "vasco            15.662162\n",
       "bragantino       15.631579\n",
       "csa              15.314286\n",
       "Name: faltas, dtype: float64"
      ]
     },
     "execution_count": 533,
     "metadata": {},
     "output_type": "execute_result"
    }
   ],
   "source": [
    "print('Top 10 na média do n. de faltas por jogo')\n",
    "df_stats3.groupby('clube').mean().sort_values('faltas', ascending=False).head(10)['faltas']"
   ]
  },
  {
   "cell_type": "markdown",
   "id": "1da6cc3b",
   "metadata": {},
   "source": [
    "## 3.7 Yellow and Red Cards "
   ]
  },
  {
   "cell_type": "code",
   "execution_count": 538,
   "id": "e6968aea",
   "metadata": {
    "ExecuteTime": {
     "end_time": "2022-03-23T19:13:05.203764Z",
     "start_time": "2022-03-23T19:13:05.194490Z"
    }
   },
   "outputs": [
    {
     "name": "stdout",
     "output_type": "stream",
     "text": [
      "Top 10 na média do n. de cartões amarelos por jogo\n"
     ]
    },
    {
     "data": {
      "text/plain": [
       "clube\n",
       "goias            2.540541\n",
       "internacional    2.526316\n",
       "vasco            2.391892\n",
       "santos           2.368421\n",
       "csa              2.342857\n",
       "sao paulo        2.330357\n",
       "sport            2.328947\n",
       "juventude        2.315789\n",
       "flamengo         2.230088\n",
       "ceara            2.228070\n",
       "Name: cartao_amarelo, dtype: float64"
      ]
     },
     "execution_count": 538,
     "metadata": {},
     "output_type": "execute_result"
    }
   ],
   "source": [
    "print('Top 10 na média do n. de cartões amarelos por jogo')\n",
    "df_stats3.groupby('clube').mean().sort_values('cartao_amarelo', ascending=False).head(10)['cartao_amarelo']"
   ]
  },
  {
   "cell_type": "code",
   "execution_count": 540,
   "id": "5b65d10a",
   "metadata": {
    "ExecuteTime": {
     "end_time": "2022-03-23T19:14:00.903677Z",
     "start_time": "2022-03-23T19:14:00.894883Z"
    }
   },
   "outputs": [
    {
     "name": "stdout",
     "output_type": "stream",
     "text": [
      "Top 10 na média do n. de cartões vermelhos por jogo\n"
     ]
    },
    {
     "data": {
      "text/plain": [
       "clube\n",
       "avai             0.277778\n",
       "coritiba         0.210526\n",
       "internacional    0.201754\n",
       "fortaleza        0.159292\n",
       "cuiaba           0.157895\n",
       "palmeiras        0.151786\n",
       "bahia            0.149123\n",
       "goias            0.148649\n",
       "gremio           0.142857\n",
       "cruzeiro         0.142857\n",
       "Name: cartao_vermelho, dtype: float64"
      ]
     },
     "execution_count": 540,
     "metadata": {},
     "output_type": "execute_result"
    }
   ],
   "source": [
    "print('Top 10 na média do n. de cartões vermelhos por jogo')\n",
    "df_stats3.groupby('clube').mean().sort_values('cartao_vermelho', ascending=False).head(10)['cartao_vermelho']"
   ]
  },
  {
   "cell_type": "markdown",
   "id": "32f6d87a",
   "metadata": {},
   "source": [
    "# 4.0 Hypothesis "
   ]
  },
  {
   "cell_type": "markdown",
   "id": "ad0b730e",
   "metadata": {},
   "source": [
    "Algumas hipóteses podem ajudar a determinar as melhores features e insights para construção dos modelos, tais como:\n",
    "<ol>\n",
    "    <li>O time que mais chuta a gol é o que faz mais gols;</li>\n",
    "    <li>O time que é mais preciso no chute é o mais vencedor;</li>\n",
    "    <li>O time que mais chuta a gol é o mais vencedor;</li>\n",
    "    <li>O time que mais tem posse de bola é o mais vencedor.</li>\n",
    "</ol>"
   ]
  },
  {
   "cell_type": "code",
   "execution_count": 565,
   "id": "25aafa95",
   "metadata": {
    "ExecuteTime": {
     "end_time": "2022-03-23T19:37:56.227116Z",
     "start_time": "2022-03-23T19:37:56.223691Z"
    }
   },
   "outputs": [],
   "source": [
    "df_full4 = df_full3.copy()\n",
    "df_stats4 = df_stats3.copy()"
   ]
  },
  {
   "cell_type": "code",
   "execution_count": 569,
   "id": "35df2d01",
   "metadata": {
    "ExecuteTime": {
     "end_time": "2022-03-23T19:41:55.606804Z",
     "start_time": "2022-03-23T19:41:55.599649Z"
    }
   },
   "outputs": [],
   "source": [
    "# cria um dataframe com as estatisticas de cada partida\n",
    "def add_attributes(df_stats_recent, df_full_recent):\n",
    "    \"\"\"\n",
    "    This function merge some attributes from two differente df, considering home x away teams\n",
    "    \"\"\"\n",
    "    df_full_stats_recent = df_full_recent.copy()\n",
    "    columns = df_stats_recent.columns.to_list()[4:-1]\n",
    "           \n",
    "    for row in range(len(df_full_stats_recent)):\n",
    "        for column in columns:\n",
    "            if (df_stats_recent['ID'] == df_full_stats_recent.loc[row, 'ID']).any() & (df_stats_recent['clube'] == df_full_stats_recent.loc[row, 'mandante']).any():\n",
    "                df_full_stats_recent.loc[row, 'mandante_' + column] = df_stats_recent[(df_stats_recent['ID'] == df_full_stats_recent.loc[row, 'ID']) & (df_stats_recent['clube'] == df_full_stats_recent.loc[row, 'mandante'])][column].values[0]\n",
    "            else:\n",
    "                df_full_stats_recent.loc[row, 'mandante_' + column] = np.nan\n",
    "                \n",
    "            if (df_stats_recent['ID'] == df_full_stats_recent.loc[row, 'ID']).any() & (df_stats_recent['clube'] == df_full_stats_recent.loc[row, 'visitante']).any():       \n",
    "                df_full_stats_recent.loc[row, 'visitante_' + column] = df_stats_recent[(df_stats_recent['ID'] == df_full_stats_recent.loc[row, 'ID']) & (df_stats_recent['clube'] == df_full_stats_recent.loc[row, 'visitante'])][column].values[0]\n",
    "            else:\n",
    "                df_full_stats_recent.loc[row, 'visitante_' + column] = np.nan    \n",
    "\n",
    "    return df_full_stats_recent"
   ]
  },
  {
   "cell_type": "code",
   "execution_count": 570,
   "id": "ba525fca",
   "metadata": {
    "ExecuteTime": {
     "end_time": "2022-03-23T19:42:48.362004Z",
     "start_time": "2022-03-23T19:42:20.250734Z"
    }
   },
   "outputs": [],
   "source": [
    "df4 = add_attributes(df_stats4, df_full4)"
   ]
  },
  {
   "cell_type": "code",
   "execution_count": 571,
   "id": "d662d175",
   "metadata": {
    "ExecuteTime": {
     "end_time": "2022-03-23T19:43:23.005212Z",
     "start_time": "2022-03-23T19:43:22.981767Z"
    }
   },
   "outputs": [
    {
     "data": {
      "text/html": [
       "<div>\n",
       "<style scoped>\n",
       "    .dataframe tbody tr th:only-of-type {\n",
       "        vertical-align: middle;\n",
       "    }\n",
       "\n",
       "    .dataframe tbody tr th {\n",
       "        vertical-align: top;\n",
       "    }\n",
       "\n",
       "    .dataframe thead th {\n",
       "        text-align: right;\n",
       "    }\n",
       "</style>\n",
       "<table border=\"1\" class=\"dataframe\">\n",
       "  <thead>\n",
       "    <tr style=\"text-align: right;\">\n",
       "      <th></th>\n",
       "      <th>ID</th>\n",
       "      <th>rodada</th>\n",
       "      <th>temporada</th>\n",
       "      <th>data</th>\n",
       "      <th>hora</th>\n",
       "      <th>dia</th>\n",
       "      <th>mandante</th>\n",
       "      <th>visitante</th>\n",
       "      <th>formacao_mandante</th>\n",
       "      <th>formacao_visitante</th>\n",
       "      <th>...</th>\n",
       "      <th>mandante_precisao_passes</th>\n",
       "      <th>visitante_precisao_passes</th>\n",
       "      <th>mandante_faltas</th>\n",
       "      <th>visitante_faltas</th>\n",
       "      <th>mandante_cartao_amarelo</th>\n",
       "      <th>visitante_cartao_amarelo</th>\n",
       "      <th>mandante_cartao_vermelho</th>\n",
       "      <th>visitante_cartao_vermelho</th>\n",
       "      <th>mandante_impedimentos</th>\n",
       "      <th>visitante_impedimentos</th>\n",
       "    </tr>\n",
       "  </thead>\n",
       "  <tbody>\n",
       "    <tr>\n",
       "      <th>0</th>\n",
       "      <td>6506</td>\n",
       "      <td>1</td>\n",
       "      <td>2019</td>\n",
       "      <td>2019-04-27</td>\n",
       "      <td>16:02</td>\n",
       "      <td>sabado</td>\n",
       "      <td>sao paulo</td>\n",
       "      <td>botafogo-rj</td>\n",
       "      <td>4-2-3-1</td>\n",
       "      <td>4-1-4-1</td>\n",
       "      <td>...</td>\n",
       "      <td>0.75</td>\n",
       "      <td>0.89</td>\n",
       "      <td>23.0</td>\n",
       "      <td>7.0</td>\n",
       "      <td>0.0</td>\n",
       "      <td>4.0</td>\n",
       "      <td>0.0</td>\n",
       "      <td>0.0</td>\n",
       "      <td>2.0</td>\n",
       "      <td>1.0</td>\n",
       "    </tr>\n",
       "    <tr>\n",
       "      <th>1</th>\n",
       "      <td>6507</td>\n",
       "      <td>1</td>\n",
       "      <td>2019</td>\n",
       "      <td>2019-04-27</td>\n",
       "      <td>19:00</td>\n",
       "      <td>sabado</td>\n",
       "      <td>atletico-mg</td>\n",
       "      <td>avai</td>\n",
       "      <td>4-2-3-1</td>\n",
       "      <td>4-1-4-1</td>\n",
       "      <td>...</td>\n",
       "      <td>0.86</td>\n",
       "      <td>0.79</td>\n",
       "      <td>12.0</td>\n",
       "      <td>18.0</td>\n",
       "      <td>0.0</td>\n",
       "      <td>1.0</td>\n",
       "      <td>0.0</td>\n",
       "      <td>0.0</td>\n",
       "      <td>0.0</td>\n",
       "      <td>1.0</td>\n",
       "    </tr>\n",
       "    <tr>\n",
       "      <th>2</th>\n",
       "      <td>6508</td>\n",
       "      <td>1</td>\n",
       "      <td>2019</td>\n",
       "      <td>2019-04-27</td>\n",
       "      <td>19:01</td>\n",
       "      <td>sabado</td>\n",
       "      <td>chapecoense</td>\n",
       "      <td>internacional</td>\n",
       "      <td>4-2-3-1</td>\n",
       "      <td>4-3-3</td>\n",
       "      <td>...</td>\n",
       "      <td>0.77</td>\n",
       "      <td>0.81</td>\n",
       "      <td>15.0</td>\n",
       "      <td>11.0</td>\n",
       "      <td>1.0</td>\n",
       "      <td>1.0</td>\n",
       "      <td>0.0</td>\n",
       "      <td>0.0</td>\n",
       "      <td>0.0</td>\n",
       "      <td>2.0</td>\n",
       "    </tr>\n",
       "    <tr>\n",
       "      <th>3</th>\n",
       "      <td>6509</td>\n",
       "      <td>1</td>\n",
       "      <td>2019</td>\n",
       "      <td>2019-04-27</td>\n",
       "      <td>21:00</td>\n",
       "      <td>sabado</td>\n",
       "      <td>flamengo</td>\n",
       "      <td>cruzeiro</td>\n",
       "      <td>4-2-3-1</td>\n",
       "      <td>4-2-3-1</td>\n",
       "      <td>...</td>\n",
       "      <td>0.85</td>\n",
       "      <td>0.79</td>\n",
       "      <td>13.0</td>\n",
       "      <td>17.0</td>\n",
       "      <td>4.0</td>\n",
       "      <td>4.0</td>\n",
       "      <td>0.0</td>\n",
       "      <td>1.0</td>\n",
       "      <td>0.0</td>\n",
       "      <td>1.0</td>\n",
       "    </tr>\n",
       "    <tr>\n",
       "      <th>4</th>\n",
       "      <td>6510</td>\n",
       "      <td>1</td>\n",
       "      <td>2019</td>\n",
       "      <td>2019-04-28</td>\n",
       "      <td>11:03</td>\n",
       "      <td>domingo</td>\n",
       "      <td>gremio</td>\n",
       "      <td>santos</td>\n",
       "      <td>4-2-3-1</td>\n",
       "      <td>3-4-1-2</td>\n",
       "      <td>...</td>\n",
       "      <td>0.82</td>\n",
       "      <td>0.71</td>\n",
       "      <td>12.0</td>\n",
       "      <td>18.0</td>\n",
       "      <td>3.0</td>\n",
       "      <td>4.0</td>\n",
       "      <td>0.0</td>\n",
       "      <td>1.0</td>\n",
       "      <td>2.0</td>\n",
       "      <td>1.0</td>\n",
       "    </tr>\n",
       "  </tbody>\n",
       "</table>\n",
       "<p>5 rows × 40 columns</p>\n",
       "</div>"
      ],
      "text/plain": [
       "     ID  rodada  temporada       data   hora      dia     mandante  \\\n",
       "0  6506       1       2019 2019-04-27  16:02   sabado    sao paulo   \n",
       "1  6507       1       2019 2019-04-27  19:00   sabado  atletico-mg   \n",
       "2  6508       1       2019 2019-04-27  19:01   sabado  chapecoense   \n",
       "3  6509       1       2019 2019-04-27  21:00   sabado     flamengo   \n",
       "4  6510       1       2019 2019-04-28  11:03  domingo       gremio   \n",
       "\n",
       "       visitante formacao_mandante formacao_visitante  ...  \\\n",
       "0    botafogo-rj           4-2-3-1            4-1-4-1  ...   \n",
       "1           avai           4-2-3-1            4-1-4-1  ...   \n",
       "2  internacional           4-2-3-1              4-3-3  ...   \n",
       "3       cruzeiro           4-2-3-1            4-2-3-1  ...   \n",
       "4         santos           4-2-3-1            3-4-1-2  ...   \n",
       "\n",
       "  mandante_precisao_passes visitante_precisao_passes  mandante_faltas  \\\n",
       "0                     0.75                      0.89             23.0   \n",
       "1                     0.86                      0.79             12.0   \n",
       "2                     0.77                      0.81             15.0   \n",
       "3                     0.85                      0.79             13.0   \n",
       "4                     0.82                      0.71             12.0   \n",
       "\n",
       "  visitante_faltas  mandante_cartao_amarelo  visitante_cartao_amarelo  \\\n",
       "0              7.0                      0.0                       4.0   \n",
       "1             18.0                      0.0                       1.0   \n",
       "2             11.0                      1.0                       1.0   \n",
       "3             17.0                      4.0                       4.0   \n",
       "4             18.0                      3.0                       4.0   \n",
       "\n",
       "  mandante_cartao_vermelho visitante_cartao_vermelho mandante_impedimentos  \\\n",
       "0                      0.0                       0.0                   2.0   \n",
       "1                      0.0                       0.0                   0.0   \n",
       "2                      0.0                       0.0                   0.0   \n",
       "3                      0.0                       1.0                   0.0   \n",
       "4                      0.0                       1.0                   2.0   \n",
       "\n",
       "   visitante_impedimentos  \n",
       "0                     1.0  \n",
       "1                     1.0  \n",
       "2                     2.0  \n",
       "3                     1.0  \n",
       "4                     1.0  \n",
       "\n",
       "[5 rows x 40 columns]"
      ]
     },
     "execution_count": 571,
     "metadata": {},
     "output_type": "execute_result"
    }
   ],
   "source": [
    "df4.head()"
   ]
  },
  {
   "cell_type": "code",
   "execution_count": 572,
   "id": "21254fe2",
   "metadata": {
    "ExecuteTime": {
     "end_time": "2022-03-23T19:43:41.022216Z",
     "start_time": "2022-03-23T19:43:41.018366Z"
    }
   },
   "outputs": [
    {
     "data": {
      "text/plain": [
       "(1140, 40)"
      ]
     },
     "execution_count": 572,
     "metadata": {},
     "output_type": "execute_result"
    }
   ],
   "source": [
    "df4.shape"
   ]
  },
  {
   "cell_type": "code",
   "execution_count": 575,
   "id": "87153fec",
   "metadata": {
    "ExecuteTime": {
     "end_time": "2022-03-23T19:44:40.883278Z",
     "start_time": "2022-03-23T19:44:40.878425Z"
    }
   },
   "outputs": [
    {
     "data": {
      "text/plain": [
       "Index(['ID', 'rodada', 'temporada', 'data', 'hora', 'dia', 'mandante',\n",
       "       'visitante', 'formacao_mandante', 'formacao_visitante',\n",
       "       'tecnico_mandante', 'tecnico_visitante', 'vencedor', 'arena',\n",
       "       'mandante_placar', 'visitante_placar', 'mandante_estado',\n",
       "       'visitante_estado', 'estado_vencedor', 'total_de_gols',\n",
       "       'mandante_clube', 'visitante_clube', 'mandante_chutes',\n",
       "       'visitante_chutes', 'mandante_chutes_no_alvo',\n",
       "       'visitante_chutes_no_alvo', 'mandante_posse_de_bola',\n",
       "       'visitante_posse_de_bola', 'mandante_passes', 'visitante_passes',\n",
       "       'mandante_precisao_passes', 'visitante_precisao_passes',\n",
       "       'mandante_faltas', 'visitante_faltas', 'mandante_cartao_amarelo',\n",
       "       'visitante_cartao_amarelo', 'mandante_cartao_vermelho',\n",
       "       'visitante_cartao_vermelho', 'mandante_impedimentos',\n",
       "       'visitante_impedimentos'],\n",
       "      dtype='object')"
      ]
     },
     "execution_count": 575,
     "metadata": {},
     "output_type": "execute_result"
    }
   ],
   "source": [
    "df4.columns"
   ]
  },
  {
   "cell_type": "markdown",
   "id": "ec03f03f",
   "metadata": {},
   "source": [
    "## 4.1 O time que mais chuta a gol é o que mais faz gols "
   ]
  },
  {
   "cell_type": "code",
   "execution_count": 587,
   "id": "c8a3c778",
   "metadata": {
    "ExecuteTime": {
     "end_time": "2022-03-23T19:50:55.783746Z",
     "start_time": "2022-03-23T19:50:55.653277Z"
    }
   },
   "outputs": [
    {
     "data": {
      "image/png": "[encoded data removed]",
      "text/plain": [
       "<Figure size 432x288 with 1 Axes>"
      ]
     },
     "metadata": {
      "needs_background": "light"
     },
     "output_type": "display_data"
    }
   ],
   "source": [
    "df_aux41 = pd.concat([df4[['mandante', 'mandante_chutes', 'mandante_placar']] \\\n",
    "                      .rename(columns={'mandante': 'clube', 'mandante_chutes': 'chutes', 'mandante_placar': 'gols'}),\\\n",
    "                      df4[['visitante', 'visitante_chutes', 'visitante_placar']] \\\n",
    "                      .rename(columns={'visitante': 'clube', 'visitante_chutes': 'chutes', 'visitante_placar': 'gols'})], axis=0)\n",
    "\n",
    "sns.scatterplot(x=df_aux41.chutes, y=df_aux41.gols);"
   ]
  },
  {
   "cell_type": "code",
   "execution_count": 589,
   "id": "a2ca5b0f",
   "metadata": {
    "ExecuteTime": {
     "end_time": "2022-03-23T19:51:23.326049Z",
     "start_time": "2022-03-23T19:51:23.309968Z"
    }
   },
   "outputs": [
    {
     "data": {
      "text/html": [
       "<div>\n",
       "<style scoped>\n",
       "    .dataframe tbody tr th:only-of-type {\n",
       "        vertical-align: middle;\n",
       "    }\n",
       "\n",
       "    .dataframe tbody tr th {\n",
       "        vertical-align: top;\n",
       "    }\n",
       "\n",
       "    .dataframe thead th {\n",
       "        text-align: right;\n",
       "    }\n",
       "</style>\n",
       "<table border=\"1\" class=\"dataframe\">\n",
       "  <thead>\n",
       "    <tr style=\"text-align: right;\">\n",
       "      <th></th>\n",
       "      <th>chutes</th>\n",
       "      <th>gols</th>\n",
       "    </tr>\n",
       "  </thead>\n",
       "  <tbody>\n",
       "    <tr>\n",
       "      <th>chutes</th>\n",
       "      <td>1.00000</td>\n",
       "      <td>0.20163</td>\n",
       "    </tr>\n",
       "    <tr>\n",
       "      <th>gols</th>\n",
       "      <td>0.20163</td>\n",
       "      <td>1.00000</td>\n",
       "    </tr>\n",
       "  </tbody>\n",
       "</table>\n",
       "</div>"
      ],
      "text/plain": [
       "         chutes     gols\n",
       "chutes  1.00000  0.20163\n",
       "gols    0.20163  1.00000"
      ]
     },
     "execution_count": 589,
     "metadata": {},
     "output_type": "execute_result"
    }
   ],
   "source": [
    "df_aux41.corr()"
   ]
  },
  {
   "cell_type": "code",
   "execution_count": 594,
   "id": "f6ff76a9",
   "metadata": {
    "ExecuteTime": {
     "end_time": "2022-03-23T19:54:39.577879Z",
     "start_time": "2022-03-23T19:54:39.567822Z"
    }
   },
   "outputs": [],
   "source": [
    "top10_kicks = df_aux41.groupby('clube').sum().sort_values('chutes', ascending=False).head(10)\n",
    "top10_gols = df_aux41.groupby('clube').sum().sort_values('gols', ascending=False).head(10)"
   ]
  },
  {
   "cell_type": "code",
   "execution_count": 608,
   "id": "d5728b79",
   "metadata": {
    "ExecuteTime": {
     "end_time": "2022-03-23T19:58:59.681564Z",
     "start_time": "2022-03-23T19:58:59.671431Z"
    }
   },
   "outputs": [
    {
     "data": {
      "text/html": [
       "<div>\n",
       "<style scoped>\n",
       "    .dataframe tbody tr th:only-of-type {\n",
       "        vertical-align: middle;\n",
       "    }\n",
       "\n",
       "    .dataframe tbody tr th {\n",
       "        vertical-align: top;\n",
       "    }\n",
       "\n",
       "    .dataframe thead th {\n",
       "        text-align: right;\n",
       "    }\n",
       "</style>\n",
       "<table border=\"1\" class=\"dataframe\">\n",
       "  <thead>\n",
       "    <tr style=\"text-align: right;\">\n",
       "      <th></th>\n",
       "      <th>top10_chutes</th>\n",
       "      <th>top10_gols</th>\n",
       "    </tr>\n",
       "  </thead>\n",
       "  <tbody>\n",
       "    <tr>\n",
       "      <th>0</th>\n",
       "      <td>flamengo</td>\n",
       "      <td>flamengo</td>\n",
       "    </tr>\n",
       "    <tr>\n",
       "      <th>1</th>\n",
       "      <td>atletico-mg</td>\n",
       "      <td>atletico-mg</td>\n",
       "    </tr>\n",
       "    <tr>\n",
       "      <th>2</th>\n",
       "      <td>palmeiras</td>\n",
       "      <td>palmeiras</td>\n",
       "    </tr>\n",
       "    <tr>\n",
       "      <th>3</th>\n",
       "      <td>gremio</td>\n",
       "      <td>gremio</td>\n",
       "    </tr>\n",
       "    <tr>\n",
       "      <th>4</th>\n",
       "      <td>sao paulo</td>\n",
       "      <td>internacional</td>\n",
       "    </tr>\n",
       "    <tr>\n",
       "      <th>5</th>\n",
       "      <td>santos</td>\n",
       "      <td>santos</td>\n",
       "    </tr>\n",
       "    <tr>\n",
       "      <th>6</th>\n",
       "      <td>bahia</td>\n",
       "      <td>bahia</td>\n",
       "    </tr>\n",
       "    <tr>\n",
       "      <th>7</th>\n",
       "      <td>ceara</td>\n",
       "      <td>fluminense</td>\n",
       "    </tr>\n",
       "    <tr>\n",
       "      <th>8</th>\n",
       "      <td>internacional</td>\n",
       "      <td>athletico-pr</td>\n",
       "    </tr>\n",
       "    <tr>\n",
       "      <th>9</th>\n",
       "      <td>fluminense</td>\n",
       "      <td>ceara</td>\n",
       "    </tr>\n",
       "  </tbody>\n",
       "</table>\n",
       "</div>"
      ],
      "text/plain": [
       "    top10_chutes     top10_gols\n",
       "0       flamengo       flamengo\n",
       "1    atletico-mg    atletico-mg\n",
       "2      palmeiras      palmeiras\n",
       "3         gremio         gremio\n",
       "4      sao paulo  internacional\n",
       "5         santos         santos\n",
       "6          bahia          bahia\n",
       "7          ceara     fluminense\n",
       "8  internacional   athletico-pr\n",
       "9     fluminense          ceara"
      ]
     },
     "execution_count": 608,
     "metadata": {},
     "output_type": "execute_result"
    }
   ],
   "source": [
    "pd.DataFrame([top10_kicks.index.tolist(), top10_gols.index.tolist()], index=['top10_chutes', 'top10_gols']).T"
   ]
  },
  {
   "cell_type": "markdown",
   "id": "9c705ac8",
   "metadata": {},
   "source": [
    "<b> Constatações <b>\n",
    "- Numericamente, dadas as características do futebol em ser um jogo de baixa pontuação, não há correlação forte entre o número de chutes e o número de gols.\n",
    "- Entretanto, ao comparar os 10 maiores chutadores x 10 maiores goleadores, nota-se que 9 times pertencem aos dois grupos, e apenas São Paulo e Athlético-PR não aparecem nas duas listas."
   ]
  },
  {
   "cell_type": "markdown",
   "id": "12f6f780",
   "metadata": {
    "ExecuteTime": {
     "end_time": "2022-03-23T20:04:11.040515Z",
     "start_time": "2022-03-23T20:04:11.035041Z"
    }
   },
   "source": [
    "<b> Conclusão <b>\n",
    "- Não há evidências para refutar a hipótese de que os teimes que mais chutam são os que possuem maior quantidade de gols marcados."
   ]
  },
  {
   "cell_type": "markdown",
   "id": "5700aa4a",
   "metadata": {
    "heading_collapsed": true
   },
   "source": [
    "## 4.2 O time que é mais preciso no chute é o mais vencedor"
   ]
  },
  {
   "cell_type": "markdown",
   "id": "76ff58b5",
   "metadata": {},
   "source": [
    "## 4.3 O time que mais chuta a gol é o mais vencedor"
   ]
  },
  {
   "cell_type": "markdown",
   "id": "ad732005",
   "metadata": {},
   "source": [
    "## 4.4 O time que mais tem posse de bola é o mais vencedor"
   ]
  },
  {
   "cell_type": "markdown",
   "id": "24c36aec",
   "metadata": {},
   "source": [
    "#  5.0 Feature Engineering"
   ]
  },
  {
   "cell_type": "markdown",
   "id": "ac986e01",
   "metadata": {},
   "source": [
    "# 6.0 Machine Learning Models "
   ]
  },
  {
   "cell_type": "markdown",
   "id": "23dcfea8",
   "metadata": {},
   "source": [
    "# 7.0 Fine Tuning "
   ]
  },
  {
   "cell_type": "code",
   "execution_count": null,
   "id": "af33d276",
   "metadata": {},
   "outputs": [],
   "source": []
  }
 ],
 "metadata": {
  "kernelspec": {
   "display_name": "Python 3 (ipykernel)",
   "language": "python",
   "name": "python3"
  },
  "language_info": {
   "codemirror_mode": {
    "name": "ipython",
    "version": 3
   },
   "file_extension": ".py",
   "mimetype": "text/x-python",
   "name": "python",
   "nbconvert_exporter": "python",
   "pygments_lexer": "ipython3",
   "version": "3.9.7"
  }
 },
 "nbformat": 4,
 "nbformat_minor": 5
}
